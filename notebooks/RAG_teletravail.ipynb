{
 "cells": [
  {
   "cell_type": "code",
   "execution_count": null,
   "id": "64b55acc-0e5c-4d30-8b60-50070eb0307f",
   "metadata": {},
   "outputs": [],
   "source": [
    "# Notebook from https://medium.com/@thakermadhav/build-your-own-rag-with-mistral-7b-and-langchain-97d0c92fa146\n",
    "!pip install -q torch datasets\n",
    "!pip install -q accelerate==0.21.0 \\\n",
    "                peft==0.4.0 \\\n",
    "                bitsandbytes==0.40.2 \\\n",
    "                transformers==4.31.0 \\\n",
    "                trl==0.4.7\n",
    "!pip install -q scipy langchain transformers playwright html2text sentence_transformers faiss-gpu\n",
    "!pip install -q --upgrade git+https://github.com/huggingface/transformers"
   ]
  },
  {
   "cell_type": "code",
   "execution_count": null,
   "id": "f860479f-f9d0-4162-9701-aeb4da44f3eb",
   "metadata": {},
   "outputs": [],
   "source": [
    "!playwright install > /dev/null\n",
    "!playwright install-deps > /dev/null"
   ]
  },
  {
   "cell_type": "code",
   "execution_count": null,
   "id": "3e8eba08-2a0d-43a0-ae6c-79035327b035",
   "metadata": {},
   "outputs": [],
   "source": [
    "!pip install -U tokenizers"
   ]
  },
  {
   "cell_type": "code",
   "execution_count": null,
   "id": "923862f9-6c52-4509-b85f-b464c7ba0cf6",
   "metadata": {},
   "outputs": [],
   "source": [
    "import os\n",
    "import torch\n",
    "from transformers import (\n",
    "  AutoTokenizer, \n",
    "  AutoModelForCausalLM, \n",
    "  BitsAndBytesConfig,\n",
    "  pipeline\n",
    ")\n",
    "\n",
    "from transformers import BitsAndBytesConfig\n",
    "\n",
    "\n",
    "\n",
    "\n",
    "from langchain.prompts import PromptTemplate\n",
    "from langchain.schema.runnable import RunnablePassthrough\n",
    "from langchain.llms import HuggingFacePipeline\n",
    "from langchain.chains import LLMChain\n",
    "\n",
    "\n",
    "#################################################################\n",
    "# Tokenizer\n",
    "#################################################################\n",
    "\n",
    "model_name=\"mistralai/Mistral-7B-Instruct-v0.1\"\n",
    "model_name=\"mistralai/Mixtral-8x7B-Instruct-v0.1\"\n",
    "tokenizer = AutoTokenizer.from_pretrained(model_name, trust_remote_code=True)\n",
    "tokenizer.pad_token = tokenizer.eos_token\n",
    "tokenizer.padding_side = \"right\"\n",
    "\n",
    "#################################################################\n",
    "# bitsandbytes parameters\n",
    "#################################################################\n",
    "\n",
    "# Activate 4-bit precision base model loading\n",
    "use_4bit = True\n",
    "\n",
    "# Compute dtype for 4-bit base models\n",
    "bnb_4bit_compute_dtype = \"float16\"\n",
    "\n",
    "# Quantization type (fp4 or nf4)\n",
    "bnb_4bit_quant_type = \"nf4\"\n",
    "\n",
    "# Activate nested quantization for 4-bit base models (double quantization)\n",
    "use_nested_quant = True\n",
    "\n",
    "#################################################################\n",
    "# Set up quantization config\n",
    "#################################################################\n",
    "compute_dtype = getattr(torch, bnb_4bit_compute_dtype)\n",
    "\n",
    "bnb_config = BitsAndBytesConfig(\n",
    "    load_in_4bit=use_4bit,\n",
    "    bnb_4bit_quant_type=bnb_4bit_quant_type,\n",
    "    bnb_4bit_compute_dtype=compute_dtype,\n",
    "    bnb_4bit_use_double_quant=use_nested_quant,\n",
    ")\n",
    "\n",
    "# Check GPU compatibility with bfloat16\n",
    "if compute_dtype == torch.float16 and use_4bit:\n",
    "    major, _ = torch.cuda.get_device_capability()\n",
    "    if major >= 8:\n",
    "        print(\"=\" * 80)\n",
    "        print(\"Your GPU supports bfloat16: accelerate training with bf16=True\")\n",
    "        print(\"=\" * 80)\n",
    "\n",
    "#################################################################\n",
    "# Load pre-trained config\n",
    "#################################################################\n",
    "model = AutoModelForCausalLM.from_pretrained(\n",
    "    model_name,\n",
    "    quantization_config=bnb_config,\n",
    "    cache_dir=\".\",\n",
    ")\n",
    "#load_in_4bits=True)\n"
   ]
  },
  {
   "cell_type": "code",
   "execution_count": 24,
   "id": "a9778127-0508-4d93-b718-ae8108e884ca",
   "metadata": {},
   "outputs": [],
   "source": [
    "model.config.pad_token_id = tokenizer.pad_token_id\n",
    "\n",
    "text_generation_pipeline = pipeline(\n",
    "    model=model,\n",
    "    tokenizer=tokenizer,\n",
    "    task=\"text-generation\",\n",
    "    temperature=0.2,\n",
    "    repetition_penalty=1.1,\n",
    "    return_full_text=True,\n",
    "    max_new_tokens=1000,\n",
    ")\n",
    "\n",
    "mistral_llm = HuggingFacePipeline(pipeline=text_generation_pipeline)"
   ]
  },
  {
   "cell_type": "code",
   "execution_count": 25,
   "id": "f3fb3129-2b6a-4819-9b68-ad0552cb23b1",
   "metadata": {},
   "outputs": [],
   "source": [
    "import arrow\n",
    "import pandas as pd\n",
    "PARQUET_FILE=\"Accords/echantillon_public_Mathilde.parquet\""
   ]
  },
  {
   "cell_type": "code",
   "execution_count": 26,
   "id": "6f3e9f65-5314-4091-b2eb-cb3592a8b27a",
   "metadata": {},
   "outputs": [],
   "source": [
    "df_init=pd.read_parquet(PARQUET_FILE)"
   ]
  },
  {
   "cell_type": "code",
   "execution_count": 27,
   "id": "065f4c3e-99d2-46ff-b97c-39ba7ffa5433",
   "metadata": {},
   "outputs": [],
   "source": [
    "prompt_template = \"\"\"\n",
    "\n",
    "### [ROLE] Role: Vous êtes un expert juridique des accords d'entreprise sans compétence de programmation informatique, seulement la lecture et la compréhension des textes. Tu ne connais aucun langage de programmation, ni les expressions régulières.\n",
    "\n",
    "\n",
    "### [INST] Instructions: \n",
    "\n",
    "1. Votre travail consiste à peupler et mettre à jour une base des données nécessaires pour réaliser des études économétriques poussées sur le télétravail.\n",
    "        Pour cela, vous devez prendre le texte d'un accord d'entreprise dans le contexte suivant, dans lesquelles figurent les informations à jour que l'on vous fourni, et d'extraire précisément l'information spécifique dont vous avez besoin.\n",
    "        Vous ne devez extraire que le nombre, et uniquement le nombre. Le nombre peut être écrit en lettres ou en chiffres. (exemple : deux ou 2 )\n",
    "        Si vous ne trouvez pas la réponse dans le texte vous devez le dire et ne pas chercher à en fournir un autre nombre.\n",
    "        Avant de répondre, vérifier que la réponse se trouve bien dans le texte indiqué.\n",
    "        \n",
    "2. Vous devez respecter les règles suivantes : Déconnecter les liens entre les périodicités (semaine, mois, trimestre, année)! Faire comme si les semaines, les mois, les trimestres et les années sont des concepts indépendants : dans un mois, il y a donc 0 semaine ; dans un trimestre, 0 mois et 0 semaine; dans une année, 0 trimestre, 0 mois et 0 semaine !\n",
    "        Ne fais aucune supposition ni d'hypothèses !\n",
    "        Pas de proratisation !\n",
    "        Il n'y a pas de lien entre l'effectif d'un service et le nombre de jour de télétravail, donc ne pas déduire un nombre de jour de télétravail !\n",
    "        Télétravail à 100% = full-remote = 5 jours de télétravail par semaine !\n",
    "        Trois jours de présence sur site et sans autre mention du nombre de jours de télétravail autorisé =  0 jour de télétravail par semaine, a priori !\n",
    "        Il y a cinq jours ouvrés dans une semaine, donc un nombre de jour de télétravail par semaine ne peut pas être strictement supérieur à cinq.\n",
    "        Si tu donnes un nombre réel, ne donne pas la fraction mais un arrondi !\n",
    "        Si le nombre de jour de télétravail annuel est inférieur à 52, ce nombre de jour de télétravail concerne du télétravail occasionnel. S'il est supérieur ou égal à 52, ce nombre concerne du télétravail régulier.\n",
    "        Si le nombre de jour de télétravail trimestriel est inférieur à 13, ce nombre de jour de télétravail concerne du télétravail occasionnel. S'il est supérieur ou égal à 13, ce nombre concerne du télétravail régulier.\n",
    "        Si le nombre de jour de télétravail mensuelle est inférieur à 4, ce nombre de jour de télétravail concerne du télétravail occasionnel. S'il est supérieur ou égal à 4, ce nombre concerne du télétravail régulier.\n",
    "\n",
    "3. Vous devez structurez votre réponse comme suit :\n",
    "        * Mon extraction de trois phrases maximum pertinentes qui répondent à la question :\n",
    "        * Ma réponse :\n",
    "        * Mon raisonnenement :\n",
    "        \n",
    "### Contexte: \n",
    "{context}\n",
    "\n",
    "### QUESTION:\n",
    "{question} [/INST]\n",
    "\"\"\""
   ]
  },
  {
   "cell_type": "code",
   "execution_count": 28,
   "id": "cd4e7965-223c-49ed-bea1-5c0dd89a6b46",
   "metadata": {},
   "outputs": [],
   "source": [
    "# Create prompt from prompt template \n",
    "prompt = PromptTemplate(\n",
    "    input_variables=[\"context\", \"question\"],\n",
    "    template=prompt_template,\n",
    ")\n",
    "\n",
    "# Create llm chain \n",
    "llm_chain = LLMChain(llm=mistral_llm, prompt=prompt)"
   ]
  },
  {
   "cell_type": "code",
   "execution_count": 29,
   "id": "50bc8e16-8943-4e71-8a43-7342eeae75d5",
   "metadata": {},
   "outputs": [],
   "source": [
    "from langchain.text_splitter import CharacterTextSplitter\n",
    "from langchain.document_transformers import Html2TextTransformer\n",
    "from langchain.document_loaders import AsyncChromiumLoader\n",
    "from langchain.embeddings.huggingface import HuggingFaceEmbeddings\n",
    "from langchain.vectorstores import FAISS\n",
    "from langchain_community.document_loaders import TextLoader\n",
    "import warnings\n",
    "warnings.filterwarnings('ignore')\n",
    "import re\n",
    "def guess_reponse_booleenne(reponse):\n",
    "    reponse_booleenne=None\n",
    "    if reponse[\"text\"].startswith(\"\\nOui\") or reponse[\"text\"].startswith(\"Oui\") :\n",
    "        reponse_booleenne=1\n",
    "    elif reponse[\"text\"].startswith(\"\\nNon\") or reponse[\"text\"].startswith(\"Non\") :\n",
    "        reponse_booleenne=0\n",
    "    return reponse_booleenne\n",
    "\n",
    "def guess_reponse_durée(reponse):\n",
    "    reponse_booleenne=None\n",
    "    if \"indéterminée\" in reponse[\"text\"].lower() :\n",
    "        reponse_booleenne=0\n",
    "    elif \"déterminée\" in reponse[\"text\"].lower():\n",
    "        reponse_booleenne=1\n",
    "    return reponse_booleenne\n",
    "\n",
    "def guess_reponse_nombre(reponse,pattern=\"nombre\"):\n",
    "    reponse_nombre=None\n",
    "    REGEX=rf\".*{pattern}=(\\d+)\"\n",
    "    numbers=re.findall(REGEX,reponse[\"text\"])\n",
    "    if numbers:\n",
    "        reponse_nombre=numbers[0]\n",
    "    return reponse_nombre"
   ]
  },
  {
   "cell_type": "code",
   "execution_count": 30,
   "id": "738e6397-10db-4fad-9abc-b1780fcbdd89",
   "metadata": {},
   "outputs": [],
   "source": [
    "Q_DUREE=\"S'il est fait mention d'une durée de l'accord, est-ce que l'accord est à durée déterminée ou à durée indéterminée ? déterminée=1 ou indéterminée=0 ou NA?\"\n",
    "Q_REVERS=\"S'il est fait mention d'une clause et d'un article de réversibilité, est-ce que l'accord a une clause ou un article de réversibilité ? Oui=1 ou non=0 ou NA?\"\n",
    "Q_ADAPT=\"S'il est fait mention d'une période d'adaptation, est-ce que l'accord comprend une période d'adaptation ? Oui=1 ou non=0 ou NA?\"\n",
    "Q_TTREG=\"Est-ce qu'au moins un paragraphe mentionne du télétravail régulier ?\"\n",
    "Q_TTOCA=\"Est-ce qu'au moins un paragraphe mentionne du télétravail occasionnel ?\"\n",
    "Q_TTEXC=\"Est-ce qu'au moins un paragraphe mentionne du télétravail exceptionnel ?\"\n",
    "Q_DISPOSPERQTHENCEINTE=\"Est-ce qu'au moins un paragraphe mentionne des dispositifs spéciaux pour les travailleurs en situation de handicap, les femmes enceintes, les séniors ou les personnes présentant des fragilités ou des problèmes de santé ?\"\n",
    "Q_MONTANT_CAVIARDE=\"Est-ce qu'au moins un paragraphe mentionne un nombre sans le donner exactement, mais sous forme illisible ?\"\n",
    "Q_TELETRAVAIL_FLEX_SANS_LIMITE=\"Est-ce qu'au moins un paragraphe suggère une liberté totale dans le choix des jours de télétravail, hormis quelques contraintes de présence ?\"\n",
    "Q_TT_REG_NOMBRE_FORMULE=Q_TTREG+\"Si oui, combien de formules (exemples de formule : si temps plein et temps partiel = 2, si choix entre 1 à 3 jours de télétravail régulier = 3) sont proposées pour du télétravail régulier ? Retourne à la fin 'nombre=max(tes réponses)'\"\n",
    "PERIODICITE={\"MOIS\":\"mois\",\"TRIM\":\"trimestre\",\"ANNEE\":\"année\", \"SEM\":\"semaine\"}\n",
    "PERIODICITE2={\"JOUR\":\"jour\",\"MOIS\":\"mois\",\"TRIM\":\"trimestre\",\"ANNEE\":\"année\", \"SEM\":\"semaine\"}\n",
    "Q_COMPE=\"Est-ce qu'au moins un paragraphe mentionne une indemnité spécialement pour l'achat d'équipements ?\"\n",
    "Q_COMPE_NOMBRE=Q_COMPE+\"Si oui, sélectionne seulement les paragraphes mentionnant une indemnité spécialement pour l'achat d'équipements et s'il existe donne le montant lié de l'indemnité d'équipement. Si oui, retourne à la fin 'nombre=max(ta réponse)'\"\n",
    "Q_EQUIPEMENT=\"Est-ce qu'au moins un paragraphe mentionne un équipement de télétravail fourni ?\"\n",
    "Q_COMPS=\"Est-ce qu'au moins un paragraphe mentionne explicitement une indemnité de sujétion (dans le cas où l'employeur impose le télétravail, ce dernier indemnise l'employé) ?\"\n",
    "Q_COMPS_NOMBRE=Q_COMPS+\"Si oui, sélectionne seulement les paragraphes mentionnant une indemnité de sujétion dans le cas où l'employeur impose le télétravail et s'il existe donne le montant lié de l'indemnité de sujétion dans le cas où l'employeur impose le télétravail. Si oui, retourne à la fin 'nombre=max(ta réponse)'\""
   ]
  },
  {
   "cell_type": "code",
   "execution_count": 31,
   "id": "bf6654b6-813d-40f6-bae7-f3f68ff1c076",
   "metadata": {},
   "outputs": [],
   "source": [
    "def process_model(rag_chain,num_dossier):\n",
    "    dict_reponse=dict()\n",
    "    dict_reponse[\"num_dossier\"]=num_dossier\n",
    "    text=\"\"\n",
    "    reponse= rag_chain.invoke(Q_DISPOSPERQTHENCEINTE)\n",
    "    text+=\"Q_DISPOSPERQTHENCEINTE:\"+reponse[\"text\"] + \"\\n\"\n",
    "    dict_reponse[\"DISPOSPERQTHENCEINTE\"]=guess_reponse_booleenne(reponse)\n",
    "    reponse= rag_chain.invoke(Q_MONTANT_CAVIARDE)\n",
    "    text+=\"Q_MONTANT_CAVIARDE:\"+reponse[\"text\"] + \"\\n\"\n",
    "    dict_reponse[\"MONTANT_CAVIARDE\"]=guess_reponse_booleenne(reponse)\n",
    "    reponse= rag_chain.invoke(Q_TELETRAVAIL_FLEX_SANS_LIMITE)\n",
    "    text+=\"Q_TELETRAVAIL_FLEX_SANS_LIMITE:\"+reponse[\"text\"] + \"\\n\"\n",
    "    dict_reponse[\"TELETRAVAIL_FLEX_SANS_LIMITE\"]=guess_reponse_booleenne(reponse)\n",
    "    reponse= rag_chain.invoke(Q_TT_REG_NOMBRE_FORMULE)\n",
    "    text+=\"Q_TT_REG_NOMBRE_FORMULE:\"+reponse[\"text\"] + \"\\n\"\n",
    "    dict_reponse[\"TT_REG_NOMBRE_FORMULE\"]=guess_reponse_nombre(reponse)\n",
    "    reponse= rag_chain.invoke(Q_DUREE)\n",
    "    text+=\"Q_DUREE:\"+reponse[\"text\"] + \"\\n\"\n",
    "    dict_reponse[\"DUREE\"]=guess_reponse_durée(reponse)\n",
    "    reponse= rag_chain.invoke(Q_REVERS)\n",
    "    text+=\"Q_REVERS:\"+reponse[\"text\"] + \"\\n\"\n",
    "    dict_reponse[\"REVERS\"]=guess_reponse_booleenne(reponse)\n",
    "    reponse= rag_chain.invoke(Q_ADAPT)\n",
    "    text+=\"Q_ADAPT:\"+reponse[\"text\"] + \"\\n\"\n",
    "    dict_reponse[\"ADAPT\"]=guess_reponse_booleenne(reponse)\n",
    "    reponse= rag_chain.invoke(Q_TTREG)\n",
    "    text+=\"Q_TTREG:\"+reponse[\"text\"] + \"\\n\"\n",
    "    dict_reponse[\"TTREG\"]=guess_reponse_booleenne(reponse)\n",
    "    reponse= rag_chain.invoke(Q_TTOCA)\n",
    "    text+=\"Q_TTOCA:\"+reponse[\"text\"] + \"\\n\"\n",
    "    dict_reponse[\"TTOCA\"]=guess_reponse_booleenne(reponse)\n",
    "    reponse= rag_chain.invoke(Q_TTEXC)\n",
    "    text+=\"Q_TTEXC:\"+reponse[\"text\"] + \"\\n\"\n",
    "    dict_reponse[\"TTEXC\"]=guess_reponse_booleenne(reponse)\n",
    "    for (k,v) in PERIODICITE.items():\n",
    "        Q_TT=f\"Hors jours supplémentaires ou exceptionnels, est-ce qu'au moins un paragraphe mentionne un nombre de jour de télétravail maximum autorisé explicitement exprimé par {v} ?\"\n",
    "        reponse= rag_chain.invoke(Q_TT)\n",
    "        text+=f\"Q_TT{k}:\"+reponse[\"text\"] + \"\\n\"\n",
    "        dict_reponse[f\"TT{k}\"]=guess_reponse_booleenne(reponse)\n",
    "        #Q_TT_NOMBRE=f\"Extrait le nombre de jour de télétravail maximum autorisé explicitement exprimé par {v} seulement à partir du texte suivant : {text_reponse}\"\n",
    "        Q_TT_NOMBRE=Q_TT+f\"Si oui, quel est le nombre de jour de télétravail supplémentaires explicitement exprimé et nécessairement et seulement exprimé par {v} pour des dispositions spéciales. Si oui, retourne à la fin 'nombre=max(tes réponses)'\"\n",
    "        reponse= rag_chain.invoke(Q_TT_NOMBRE)\n",
    "        text+=f\"Q_TT{k}_NOMBRE:\"+reponse[\"text\"] + \"\\n\"\n",
    "        dict_reponse[f\"TT{k}_NOMBRE\"]=guess_reponse_nombre(reponse)\n",
    "    for (k,v) in PERIODICITE.items():\n",
    "        Q_TTOCA_PERIOD=f\"Dans le cadre du télétravail occasionnel, est-ce qu'au moins un paragraphe mentionne un nombre de jour de télétravail maximum autorisé explicitement exprimé par {v} ?\"\n",
    "        reponse= rag_chain.invoke(Q_TTOCA_PERIOD)\n",
    "        text+=f\"TTOCA{k}:\"+reponse[\"text\"] + \"\\n\"\n",
    "        dict_reponse[f\"TTOCA{k}\"]=guess_reponse_booleenne(reponse)\n",
    "        Q_TTOCA_NOMBRE=Q_TTOCA_PERIOD+f\"Si oui, quel est le nombre de jour de télétravail occasionnel explicitement exprimé et nécessairement et seulement exprimé par {v}. Si oui, retourne à la fin 'nombre=max(tes réponses)'\"\n",
    "        reponse= rag_chain.invoke(Q_TTOCA_NOMBRE)\n",
    "        text+=f\"Q_TTOCA_{k}_NOMBRE:\"+reponse[\"text\"] + \"\\n\"\n",
    "        dict_reponse[f\"TTOCA_{k}_NOMBRE\"]=guess_reponse_nombre(reponse)\n",
    "    for (k,v) in PERIODICITE.items():\n",
    "        Q_PRESJOUR=f\"Est-ce qu'au moins un paragraphe mentionne un nombre de jour de présence obligatoire sur site minimum explicitement exprimé par {v} ?\"\n",
    "        reponse= rag_chain.invoke(Q_PRESJOUR)\n",
    "        text+=f\"Q_PRESJOUR{k}:\"+reponse[\"text\"] + \"\\n\"\n",
    "        dict_reponse[f\"TTPRESJOUR{k}\"]=guess_reponse_booleenne(reponse)\n",
    "        Q_PRESJOUR_NOMBRE=Q_PRESJOUR+f\"Si oui, sélectionne seulement les paragraphes mentionnant un nombre de jour de présence obligatoire sur site minimum explicitement exprimé par {v} et s'il existe donne le nombre de jour de présence obligatoire sur site minimum explicitement exprimé par {v}. Si oui, retourne à la fin 'nombre=max(tes réponses)'\"\n",
    "        reponse= rag_chain.invoke(Q_PRESJOUR_NOMBRE)\n",
    "        text+=f\"Q_PRESJOUR{k}_NOMBRE:\"+reponse[\"text\"] + \"\\n\"\n",
    "        dict_reponse[f\"PRESJOUR{k}_NOMBRE\"]=guess_reponse_nombre(reponse)\n",
    "    for (k,v) in PERIODICITE2.items():\n",
    "        Q_COMP=f\"Hors indemnité d'équipement, est-ce qu'au moins un paragraphe mentionne une indemnité forfaitaire explicitement exprimée par {v} ?\"\n",
    "        reponse= rag_chain.invoke(Q_COMP)\n",
    "        text+=f\"Q_COMP{k}:\"+reponse[\"text\"] + \"\\n\"\n",
    "        dict_reponse[f\"COMP{k}\"]=guess_reponse_booleenne(reponse)\n",
    "        Q_COMP_NOMBRE=Q_COMP+f\"Si oui, sélectionne en interne seulement les paragraphes mentionnant une indemnité forfaitaire explicitement exprimé par {v}, puis s'il existe donne le montant explicitement exprimé par {v}. Si oui, retourne à la fin 'nombre=max(ta réponse)'\"\n",
    "        reponse= rag_chain.invoke(Q_COMP_NOMBRE)\n",
    "        text+=f\"Q_COMP{k}_NOMBRE:\"+reponse[\"text\"] + \"\\n\"\n",
    "        dict_reponse[f\"COMP{k}_NOMBRE\"]=guess_reponse_nombre(reponse)\n",
    "        if \"MOIS\" in k:\n",
    "            Q_COMP_NOMBRE_BASE=Q_COMP+f\"Si oui, sélectionne en interne seulement les paragraphes mentionnant une indemnité forfaitaire explicitement exprimé par {v}, puis s'il existe plusieurs montants explicitement exprimé par {v}, par nombre de jour. Si oui, retourne à la fin 'nombre=base_mensuelle_pour_un_jour_de_teletravail(ta réponse)'\"\n",
    "            reponse= rag_chain.invoke(Q_COMP_NOMBRE_BASE)\n",
    "            text+=f\"Q_COMP{k}_BASE_NOMBRE:\"+reponse[\"text\"] + \"\\n\"\n",
    "            dict_reponse[f\"COMP{k}_BASE_NOMBRE\"]=guess_reponse_nombre(reponse)\n",
    "    reponse= rag_chain.invoke(Q_COMPE)\n",
    "    text+=\"Q_COMPE:\"+reponse[\"text\"] + \"\\n\"\n",
    "    dict_reponse[\"COMPE\"]=guess_reponse_booleenne(reponse)\n",
    "    reponse= rag_chain.invoke(Q_COMPE_NOMBRE)\n",
    "    text+=\"Q_COMPE_NOMBRE:\"+reponse[\"text\"] + \"\\n\"\n",
    "    dict_reponse[\"COMPE_NOMBRE\"]=guess_reponse_nombre(reponse)\n",
    "    reponse= rag_chain.invoke(Q_EQUIPEMENT)\n",
    "    text+=\"Q_EQUIPEMENT:\"+reponse[\"text\"] + \"\\n\"\n",
    "    dict_reponse[\"EQUIPEMENT\"]=guess_reponse_booleenne(reponse)\n",
    "    reponse= rag_chain.invoke(Q_COMPS)\n",
    "    text+=\"Q_COMPS:\"+reponse[\"text\"] + \"\\n\"\n",
    "    dict_reponse[\"COMPS\"]=guess_reponse_booleenne(reponse)\n",
    "    reponse= rag_chain.invoke(Q_COMPS_NOMBRE)\n",
    "    text+=\"Q_COMPS_NOMBRE:\"+reponse[\"text\"] + \"\\n\"\n",
    "    dict_reponse[\"COMPS_NOMBRE\"]=guess_reponse_nombre(reponse)\n",
    "    return dict_reponse,text"
   ]
  },
  {
   "cell_type": "code",
   "execution_count": 32,
   "id": "e8a37df9-03f2-4dba-9a11-490329b526e3",
   "metadata": {},
   "outputs": [],
   "source": [
    "PERIODICITE={ \"SEM\":\"semaine\"}\n",
    "EXEMPLES= \"Le télétravail pour le salarié à temps complet ou titulaire d’un forfait annuel 218 jours ne pourra être exercé que pour un maximum de 13 jours (soit 26 demi-journées) par trimestre civil dans la limite de 1 jour (soit 2 demi-journées) par semaine de 5 jours travaillés, non reportables, soit une enveloppe de 52 jours (soit 104 demi-journées) par année civile. => 1 jour de télétravail par semaine.\"\n",
    "EXEMPLES+= \" Un maximum de 2 jours par semaine, et de 2 demi-journées pouvant être cumulées sur une même journée au cours de la même semaine. => 3 jours de télétravail par semaine car 3 = (2+2*0.5).\"\n",
    "EXEMPLES+= \" Une limite haute de 10 jours de télétravail, par mois civil, est instituée. => Information à ignorer.\"\n",
    "EXEMPLES+= \" Les salariés devront être présents au minimum 2 jours par semaine sur leur lieu de travail habituel. => 2 jour sur site par semaine.\"\n",
    "EXEMPLES+= \" Le télétravail pour le salarié à temps complet ou titulaire d’un forfait annuel 218 jours ne pourra être exercé que pour un maximum de 13 jours (soit 26 demi-journées) par trimestre civil dans la limite de 1 jour (soit 2 demi-journées) par semaine de 5 jours travaillés, non reportables, soit une enveloppe de 52 jours (soit 104 demi-journées) par année civile. => 1 jour de télétravail par semaine.\"\n",
    "EXEMPLES+= \" Le nombre de jour de télétravail est à discuter avec le manager. => Information à ignorer.\"\n",
    "EXEMPLES+= \" Les 4 journées de télétravail mensuelles autorisées et 1 jour de télétravail fixe par semaine calendaire => 1 jour de télétravail par semaine.\"\n",
    "\n",
    "def process_model(rag_chain,num_dossier):\n",
    "    dict_reponse=dict()\n",
    "    dict_reponse[\"num_dossier\"]=num_dossier\n",
    "    text=\"\"\n",
    "    for (k,v) in PERIODICITE.items():\n",
    "        Q_TT_NOMBRE=f\"Est-ce qu'un paragraphe comporte le mot-clé {v} ou une notion de fréquence par {v} et concerne le nombre de jour de télétravail autorisé (ne compte pas les paragraphes qui relatent d'indemnisation par jour de télétravail, ni le télétravail ponctuel ou occasionnel)?\"\n",
    "        Q_TT_NOMBRE+=f\" Si oui, jusqu'à combien de jour possible de télétravail un employé peut-il télétravailler régulièrement, jour exprimé seulement par {v} et explicitement dans un des paragraphes (attention, ne pas confondre avec les jours de présence obligatoire sur site)? \"\n",
    "        Q_TT_NOMBRE+=f\" Si tu as plusieurs réponses, affecte le maximum des jours de télétravail par {v} de ces éventuelles réponses dans une variable 'nombrejourdeteletravailmaxpar{v}'. Si tu ne trouves pas de valeur, retourne nombrejourdeteletravailmaxpar{v} à 0\"\n",
    "        Q_TT_NOMBRE+=f\" Pour cette tâche, ignore les informations concernant les répartitions d'effectif sur site, les négociations avec les managers. \"\n",
    "        Q_TT_NOMBRE+=f\" S'il y a des jours de présence obligatoire sur site, retourne également une variable supplémentaire 'nombrejoursursitepar{v}' avec la valeur indiquée\"\n",
    "        Q_TT_NOMBRE+=f\" Ta réponse devra impérativement comporter la chaîne de caractère 'nombrejourdeteletravailmaxpar{v}=' suivi du nombre demandé.\"\n",
    "        Q_TT_NOMBRE+=f\" Voici quelques exemples pour vous aider : {EXEMPLES}\"\n",
    "        reponse= rag_chain.invoke(Q_TT_NOMBRE)\n",
    "        text+=f\"Q_TT{k}_NOMBRE:\"+reponse[\"text\"] + \"\\n\"\n",
    "        dict_reponse[f\"TT{k}_NOMBRE\"]=guess_reponse_nombre(reponse,pattern=f\"nombrejourdeteletravailmaxpar{v}\")\n",
    "    return dict_reponse,text"
   ]
  },
  {
   "cell_type": "code",
   "execution_count": 33,
   "id": "b4de9f12-d3b6-4aa5-8603-df16fe199823",
   "metadata": {},
   "outputs": [],
   "source": [
    "VAR_TRANSLATION={'DISPOSPERQTHENCEINTE': \"dispositif_special_rqth_maternite_senior\",\n",
    " 'MONTANT_CAVIARDE': \"montant_caviarde\",\n",
    " 'TELETRAVAIL_FLEX_SANS_LIMITE': \"teletravail_regulier_flexible_sans_limite\",\n",
    " 'TT_REG_NOMBRE_FORMULE': \"nombre_formules_teletravail_regulier\",\n",
    " 'DUREE': \"duree_application\",\n",
    " 'REVERS': \"presence_clause_reversibilite\",\n",
    " 'ADAPT': \"periode_adaptation\",\n",
    " 'TTREG': \"teletravail_regulier\",\n",
    " 'TTOCA': \"teletravail_occasionnel\",\n",
    " 'TTEXC': \"teletravail_exceptionnel\",\n",
    " 'TTMOIS': \"mention_teletravail_par_mois\",\n",
    " 'TTMOIS_NOMBRE': \"nombre_jours_teletravail_mois\",\n",
    " 'TTTRIM': \"mention_teletravail_par_trimestre\",\n",
    " 'TTTRIM_NOMBRE': \"nombre_jours_teletravail_trimestre\",\n",
    " 'TTANNEE': \"mention_teletravail_par_annuel\",\n",
    " 'TTANNEE_NOMBRE': \"nombre_jours_teletravail_annuel\",\n",
    " 'TTSEM': \"mention_teletravail_par_semaine\",\n",
    " 'TTSEM_NOMBRE': \"nombre_jours_teletravail_semaine\",\n",
    " 'TTOCAMOIS': \"occas_mention_teletravail_par_mois\",\n",
    " 'TTOCA_MOIS_NOMBRE': \"occas_nombre_jours_teletravail_mois\",\n",
    " 'TTOCATRIM': \"occas_mention_teletravail_par_trimestre\",\n",
    " 'TTOCA_TRIM_NOMBRE': \"occas_nombre_jours_teletravail_trimestre\",\n",
    " 'TTOCAANNEE': \"occas_mention_teletravail_par_annuel\",\n",
    " 'TTOCA_ANNEE_NOMBRE': \"occas_nombre_jours_teletravail_annuel\",\n",
    " 'TTOCASEM': \"occas_mention_teletravail_par_semaine\",\n",
    " 'TTOCA_SEM_NOMBRE': \"occas_nombre_jours_teletravail_semaine\",\n",
    " 'TTPRESJOURMOIS': \"mention_jour_presence_par_mois\",\n",
    " 'PRESJOURMOIS_NOMBRE': \"nombre_jour_presence_par_mois\",\n",
    " 'TTPRESJOURTRIM': \"mention_jour_presence_par_trimestre\",\n",
    " 'PRESJOURTRIM_NOMBRE': \"nombre_jour_presence_par_trimestre\",\n",
    " 'TTPRESJOURANNEE': \"mention_jour_presence_par_annuel\",\n",
    " 'PRESJOURANNEE_NOMBRE': \"nombre_jour_presence_par_annuel\",\n",
    " 'TTPRESJOURSEM': \"mention_jour_presence_par_semaine\",\n",
    " 'PRESJOURSEM_NOMBRE': \"nombre_jour_presence_par_semaine\",\n",
    " 'COMPJOUR': \"mention_indemnisation_journaliere\",\n",
    " 'COMPJOUR_NOMBRE': \"indemnisation_journaliere\",\n",
    " 'COMPMOIS': \"mention_indemnisation_mensuelle\",\n",
    " 'COMPMOIS_NOMBRE': \"indemnisation_mensuelle\",\n",
    " 'COMPMOIS_BASE_NOMBRE': \"indemnisation_base_mensuelle_pour_un_jour_par_semaine\",\n",
    " 'COMPTRIM': \"mention_indemnisation_trimestrielle\",\n",
    " 'COMPTRIM_NOMBRE': \"indemnisation_trimestrielle\",\n",
    " 'COMPANNEE': \"mention_indemnisation_annuelle\",\n",
    " 'COMPANNEE_NOMBRE': \"indemnisation_annuelle\",\n",
    " 'COMPSEM': \"mention_indemnisation_semaine\",\n",
    " 'COMPSEM_NOMBRE': \"indemnisation_semaine\",\n",
    " 'COMPE': \"mention_indemnisation_equipement\",\n",
    " 'COMPE_NOMBRE': \"indemnisation_equipement\",\n",
    " 'COMPS': \"mention_indemnite_sujetion\",\n",
    " 'COMPS_NOMBRE': \"montant_indemnite_sujetion\",\n",
    " 'EQUIPEMENT': \"equipement_fourni\"}"
   ]
  },
  {
   "cell_type": "markdown",
   "id": "0f1f7678-1d49-4b9b-b43b-174df0008bbd",
   "metadata": {},
   "source": [
    "# Boucle"
   ]
  },
  {
   "cell_type": "code",
   "execution_count": 34,
   "id": "ff42e89b-c55e-43fa-9954-c4330e0945b6",
   "metadata": {},
   "outputs": [
    {
     "name": "stdout",
     "output_type": "stream",
     "text": [
      "0 T09221025781\n"
     ]
    },
    {
     "name": "stderr",
     "output_type": "stream",
     "text": [
      "Setting `pad_token_id` to `eos_token_id`:2 for open-end generation.\n"
     ]
    },
    {
     "name": "stdout",
     "output_type": "stream",
     "text": [
      "Q_TTSEM_NOMBRE:Mon extraction de trois phrases maximum pertinentes qui répondent à la question :\n",
      "\n",
      "* \"Le télétravail doit être ponctuel\"\n",
      "* \"Il ne pourra être exercé que pour un maximum de 10 jours par an.\"\n",
      "* \"La répartition du temps de travail s’opère par journée ou demi-journée.\"\n",
      "\n",
      "Ma réponse :\n",
      "nombrejourdeteletravailmaxparsemaine=1\n",
      "\n",
      "Mon raisonnement :\n",
      "Le document indique que le télétravail doit être ponctuel et ne peut être exercé que pour un maximum de 10 jours par an, avec une répartition par journée ou demi-journée. Par conséquent, le nombre maximal de jours de télétravail autorisé par semaine est de 1 jour.\n",
      "\n",
      "1 T03821007340\n"
     ]
    },
    {
     "name": "stderr",
     "output_type": "stream",
     "text": [
      "Setting `pad_token_id` to `eos_token_id`:2 for open-end generation.\n"
     ]
    },
    {
     "name": "stdout",
     "output_type": "stream",
     "text": [
      "Q_TTSEM_NOMBRE:\n",
      "Extraction de phrases pertinentes :\n",
      "\n",
      "* \"Durant le premier confinement général, et en application des dispositions légales applicables en cas d’épidémie ou de pandémie, le recours au télétravail a été généralisé pour tous les salariés en activité dont le poste et/ou leur mission permettait ledit télétravail.\"\n",
      "* \"Les parties ont conclu, le 20 octobre 2016 un accord d’entreprise à durée indéterminée portant sur le télétravail à domicile au sein de la société ARAYMOND France SAS.\"\n",
      "* \"Néanmoins, le recours à ce mode d’organisation du travail s’étant largement généralisé, les parties ont décidé de se réunir, afin de conclure un avenant portant sur le remboursement des frais liés au télétravail.\"\n",
      "\n",
      "Ma réponse :\n",
      "nombrejourdeteletravailmaxparsemaine=0\n",
      "\n",
      "Mon raisonnement :\n",
      "Après avoir examiné attentivement les documents fournis, je n'ai trouvé aucune indication spécifique sur le nombre maximal de jours de télétravail autorisés par semaine. Par conséquent, je dois répondre que le nombrejourdeteletravailmaxparsemaine est égal à zéro.\n",
      "\n",
      "2 T09221024750\n"
     ]
    },
    {
     "name": "stderr",
     "output_type": "stream",
     "text": [
      "Setting `pad_token_id` to `eos_token_id`:2 for open-end generation.\n"
     ]
    },
    {
     "name": "stdout",
     "output_type": "stream",
     "text": [
      "Q_TTSEM_NOMBRE:\n",
      "* Extraction de phrases pertinentes :\n",
      "    * \"Le télétravail est organisé selon un cadre hebdomadaire d’alternance de jours de présence sur site et de jours de travail hors site de travail habituel du collaborateur.\"\n",
      "    * \"Pour conserver un lien social et faciliter le fonctionnement des équipes : réunions d’équipes, entretiens individuels, ateliers projets, travaux qui ne peuvent être effectués en télétravail (impressions papier), une présence sur site obligatoire de 2 jours par semaine, a minima,\"\n",
      "    * \"Le nombre de jours de télétravail par semaine est de 2  soit à hauteur de 40% par semaine pour les salariés à temps plein.\"\n",
      "* Ma réponse : nombrejourdeteletravailmaxparsemaine=2\n",
      "* Mon raisonnement : Le document mentionne explicitement que le nombre de jours de télétravail par semaine est de 2, ce qui correspond à 40% du temps de travail hebdomadaire pour un salarié à temps plein.\n",
      "\n",
      "3 T09221026357\n"
     ]
    },
    {
     "name": "stderr",
     "output_type": "stream",
     "text": [
      "Setting `pad_token_id` to `eos_token_id`:2 for open-end generation.\n"
     ]
    },
    {
     "name": "stdout",
     "output_type": "stream",
     "text": [
      "Q_TTSEM_NOMBRE:\n",
      "Extraction de phrases pertinentes :\n",
      "\n",
      "* \"Le salarié devra être présent sur site au moins 3 jours par semaine civile.\"\n",
      "* \"Les jours de télétravail sont pris par journée complète, à date fixe, consécutifs ou non et modifiables en accord ou à la demande du responsable hiérarchique pour des raisons d’organisation de service.\"\n",
      "* \"Le télétravail s’organise selon deux modalités distinctes : Personnel au décompte annuel en heures : Le télétravail s’effectue sur la base de 2 journées maximum par semaine civile.\"\n",
      "* \"Personnel au forfait annuel en jours : Le télétravail s’effectue sur la base de 2 journées complètes de travail au maximum par semaine civile moyennant le respect d’un repos de 11H consécutives entre 2 journées de travail.\"\n",
      "\n",
      "Ma réponse :\n",
      "nombrejourdeteletravailmaxparsemaine=2\n",
      "\n",
      "Mon raisonnement :\n",
      "Le texte indique que le salarié doit être présent sur site au moins 3 jours par semaine civile. De plus, il est mentionné que le télétravail s'effectue sur la base de 2 journées maximum par semaine civile, que ce soit pour le personnel au décompte annuel en heures ou pour le personnel au forfait annuel en jours. Par conséquent, le nombre maximal de jours de télétravail par semaine est de 2.\n",
      "\n",
      "4 T07521030130\n"
     ]
    },
    {
     "name": "stderr",
     "output_type": "stream",
     "text": [
      "Setting `pad_token_id` to `eos_token_id`:2 for open-end generation.\n"
     ]
    },
    {
     "name": "stdout",
     "output_type": "stream",
     "text": [
      "Q_TTSEM_NOMBRE:Mon extraction de trois phrases maximum pertinentes qui répondent à la question :\n",
      "\n",
      "* \"Le nombre de jour en télétravail est librement déterminé entre le responsable hiérarchique et le salarié, sans que ce nombre ne puisse être définitif et irréversible.\"\n",
      "* \"Un rythme de trois jours en télétravail et deux jours en présentiel peut être envisagé.\"\n",
      "* \"Avec l'accord du responsable hiérarchique, un salarié pourra être amené ponctuellement à télétravailler une semaine complète si son activité et l'organisation le permettent,\"\n",
      "\n",
      "Ma réponse :\n",
      "nombrejourdeteletravailmaxparsemaine=3\n",
      "\n",
      "Mon raisonnement :\n",
      "Le nombre de jours de télétravail par semaine est librement déterminé entre le responsable hiérarchique et le salarié, mais un rythme de trois jours en télétravail et deux jours en présentiel peut être envisagé. Donc, le nombre maximum de jours de télétravail par semaine est de 3.\n",
      "\n",
      "5 T03521007300\n"
     ]
    },
    {
     "name": "stderr",
     "output_type": "stream",
     "text": [
      "Setting `pad_token_id` to `eos_token_id`:2 for open-end generation.\n"
     ]
    },
    {
     "name": "stdout",
     "output_type": "stream",
     "text": [
      "Q_TTSEM_NOMBRE:Mon extraction de trois phrases maximum pertinentes qui répondent à la question :\n",
      "\n",
      "* \"Les modalités d’assurances du lieu d’exercice en télétravail\"\n",
      "* \"Le nombre de journées de télétravail autorisées par semaine\"\n",
      "* \"la charge de travail à domicile doit correspondre au volume de travail effectué lorsque le salarié travaille dans les locaux de l’association\"\n",
      "\n",
      "Ma réponse :\n",
      "nombrejourdeteletravailmaxparsemaine=1\n",
      "\n",
      "Mon raisonnement :\n",
      "Dans le document, il est indiqué que le formulaire d'autorisation individuelle de télétravail doit indiquer \"Les modalités d'assurances du lieu d'exercice en télétravail\" et \"Le nombre de journées de télétravail autorisées par semaine\". Cependant, aucun nombre n'est spécifié dans le texte. En revanche, il est indiqué que \"la charge de travail à domicile doit correspondre au volume de travail effectué lorsque le salarié travaille dans les locaux de l'association\". Or, dans une semaine de travail standard, il y a 5 jours ouvrés. Par conséquent, on peut déduire que le nombre maximum de jours de télétravail autorisés par semaine est de 5. Cependant, le texte précise que \"le télétravail ne peut devenir la modalité principale de travail et qu'il ne doit pas risquer de porter préjudice à la qualité des relations sociales entre les salariés et au bon fonctionnement de l'association et des activités qu'elle porte\". Par conséquent, il est probable que le nombre de jours de télétravail autorisés par semaine soit inférieur à 5. En l'absence de précision dans le texte, je propose donc de fixer le nombre maximum de jours de télétravail autorisés par semaine à 1.\n",
      "\n",
      "6 T04521003482\n"
     ]
    },
    {
     "name": "stderr",
     "output_type": "stream",
     "text": [
      "Setting `pad_token_id` to `eos_token_id`:2 for open-end generation.\n"
     ]
    },
    {
     "name": "stdout",
     "output_type": "stream",
     "text": [
      "Q_TTSEM_NOMBRE:1. Extraction de phrases pertinentes :\n",
      "   - \"Le décompte du temps de travail pour les agents en situation de télétravail, quelle qu’en soit la cause, se réalise au moyen d’un système de badgeage virtuel à partir du poste informatique de l’agent.\"\n",
      "   - \"Les agents travaillant sur site peuvent aussi, à leur initiative, utiliser ce mode de badgeage s’ils le souhaitent.\"\n",
      "   \n",
      "2. Réponse :\n",
      "   *nombrejourdeteletravailmaxparsemaine* = 5\n",
      "   \n",
      "3. Raisonnement :\n",
      "   Dans le premier paragraphe pertinent, il est mentionné que le décompte du temps de travail pour les agents en télétravail se réalise au moyen d’un système de badgeage virtuel à partir du poste informatique de l’agent, sans aucune limitation hebdomadaire explicite. En prenant en considération les règles mentionnées dans les instructions, nous pouvons supposer que le maximum de jours de télétravail par semaine est égal au nombre total de jours ouvrés dans une semaine, qui est de 5 jours.\n",
      "\n",
      "7 T09221026467\n"
     ]
    },
    {
     "name": "stderr",
     "output_type": "stream",
     "text": [
      "Setting `pad_token_id` to `eos_token_id`:2 for open-end generation.\n"
     ]
    },
    {
     "name": "stdout",
     "output_type": "stream",
     "text": [
      "Q_TTSEM_NOMBRE:\n",
      "Extraction de phrases pertinentes :\n",
      "\n",
      "* \"Le télétravail occasionnel a vocation à répondre à des situations individuelles inhabituelles et temporaires ou à des situations rendant impossible le déplacement sur le lieu de travail. Cette situation de télétravail occasionnel est ouverte à tous les collaborateurs disposant d'outils de travail à distance.\"\n",
      "* \"Il peut être recouru au télétravail dans des conditions dérogeant à celles définies dans le présent accord. Cela concerne les collaborateurs dont les situations sont mentionnées dans l’accord égalité femmes-hommes du 11 juillet 2016, et à titre exceptionnel les collaborateurs en situation d'immobilisation et ne pouvant se déplacer physiquement à l'Institut de façon temporaire, les collaborateurs en situation de maintien dans l'emploi, les collaborateurs en situation d'handicap, les collaboratrices enceintes ainsi que les proches aidants.\"\n",
      "* \"Le collaborateur qui remplit les critères d'éligibilité et qui souhaite bénéficier du télétravail doit en faire la demande par écrit auprès de son manager et du département des ressources humaines. La mise en place du télétravail est soumise à l'accord du manager et du département des ressources humaines.\"\n",
      "\n",
      "Ma réponse :\n",
      "nombrejourdeteletravailmaxparsemaine=0\n",
      "\n",
      "Mon raisonnement :\n",
      "Dans le texte fourni, il n'y a pas de paragraphe qui comporte le mot-clé semaine ou une notion de fréquence par semaine et qui concerne le nombre de jour de télétravail autorisé de manière régulière pour un employé. Les seules occurrences de télétravail régulier concernent des situations particulières telles que le télétravail occasionnel ou des situations dérogatoires liées à des accords spécifiques (égalité femmes-hommes, handicap, maternité, etc.). Ainsi, je ne peux pas fournir de réponse quant au nombre maximal de jours de télétravail par semaine explicitement indiqué dans le texte.\n",
      "\n",
      "8 T09221024441\n"
     ]
    },
    {
     "name": "stderr",
     "output_type": "stream",
     "text": [
      "Setting `pad_token_id` to `eos_token_id`:2 for open-end generation.\n"
     ]
    },
    {
     "name": "stdout",
     "output_type": "stream",
     "text": [
      "Q_TTSEM_NOMBRE:Extraction de trois phrases pertinentes :\n",
      "\n",
      "* \"Le temps au cours duquel le salarié pourra être en situation de télétravail à domicile ne devra pas dépasser deux jours par semaine.\" (Article 4.2)\n",
      "* \"Il est demandé par la Direction, que le manager et le salarié se concertent afin que la ou les journées de télétravail varient d’une semaine à l’autre\" (Article 4.2)\n",
      "* \"Le télétravail ne devrait pas générer de dépassements en termes de temps de travail effectif et de ce fait, les heures supplémentaires ne sont pas autorisées\" (Article 4.3)\n",
      "\n",
      "Ma réponse :\n",
      "nombrejourdeteletravailmaxparsemaine=2\n",
      "\n",
      "Mon raisonnement :\n",
      "Le document stipule clairement que le temps de télétravail à domicile ne doit pas dépasser deux jours par semaine (Article 4.2). Il n'y a aucune mention de jours de présence obligatoire sur site dans les extraits fournis.\n",
      "\n",
      "9 T04421009882\n"
     ]
    },
    {
     "name": "stderr",
     "output_type": "stream",
     "text": [
      "Setting `pad_token_id` to `eos_token_id`:2 for open-end generation.\n"
     ]
    },
    {
     "name": "stdout",
     "output_type": "stream",
     "text": [
      "Q_TTSEM_NOMBRE:Extraction de phrases pertinentes :\n",
      "- \"rester chez soi le plus possible. Le télétravail a été généralisé pour tous les postes pour lesquels il est possible et pour lesquels l'activité se poursuit\"\n",
      "- \"pour les postes non aménageables en télétravail et/ou qui impliquent de se rendre sur le lieu de travail, il faut : s'assurer avant de se rendre sur le lieu de travail que l'on ne présente pas de manière manifeste de symptômes et tout particulièrement de fièvre\"\n",
      "\n",
      "Ma réponse :\n",
      "nombrejourdeteletravailmaxparsemaine=0\n",
      "\n",
      "Mon raisonnement :\n",
      "Dans les extraits fournis, il n'y a pas de mention explicite du nombre de jours de télétravail autorisés par semaine. Seuls des éléments généraux sur la mise en place du télétravail sont abordés.\n",
      "\n",
      "10 T07621005356\n"
     ]
    },
    {
     "name": "stderr",
     "output_type": "stream",
     "text": [
      "Setting `pad_token_id` to `eos_token_id`:2 for open-end generation.\n"
     ]
    },
    {
     "name": "stdout",
     "output_type": "stream",
     "text": [
      "Q_TTSEM_NOMBRE:Extraction de phrases pertinentes :\n",
      "- \"Il sera par principe hebdomadaire.\"\n",
      "- \"Il ne vise donc pas le télétravail occasionnel\"\n",
      "- \"Seules les situations de travail à distance réalisées depuis le domicile entrent dans l'application du présent accord.\"\n",
      "\n",
      "Ma réponse :\n",
      "nombrejourdeteletravailmaxparsemaine=1\n",
      "\n",
      "Mon raisonnement :\n",
      "Le document indique que le télétravail est hebdomadaire et ne concerne pas le télétravail occasionnel. Seules les situations de télétravail réalisées depuis le domicile sont prises en compte dans l'accord. Par conséquent, le nombre maximal de jours de télétravail autorisé par semaine est de 1 jour.\n",
      "\n",
      "11 T09221023292\n"
     ]
    },
    {
     "name": "stderr",
     "output_type": "stream",
     "text": [
      "Setting `pad_token_id` to `eos_token_id`:2 for open-end generation.\n"
     ]
    },
    {
     "name": "stdout",
     "output_type": "stream",
     "text": [
      "Q_TTSEM_NOMBRE:Mon extraction de trois phrases maximum pertinentes qui répondent à la question :\n",
      "\n",
      "* \"Le télétravail peut s’organiser de façon volontaire, avec le double consentement employeur-salarié.\"\n",
      "* \"A défaut d’accord individuel différent formalisé par avenant au contrat de travail, les horaires de travail habituels seront ceux pratiqués en télétravail.\"\n",
      "* \"Le salarié devra rester joignable par téléphone et webcam pendant ses horaires de télétravail.\"\n",
      "\n",
      "Ma réponse :\n",
      "nombrejourdeteletravailmaxparsemaine=0\n",
      "\n",
      "Mon raisonnement :\n",
      "Après avoir examiné attentivement les documents fournis, je n'ai pas trouvé de paragraphe contenant le mot-clé \"semaine\" ou une notion de fréquence par semaine et concernant le nombre de jours de télétravail autorisés. Par conséquent, je ne peux pas fournir de réponse quant au nombre maximal de jours de télétravail possibles par semaine.\n",
      "\n",
      "12 T09221024752\n"
     ]
    },
    {
     "name": "stderr",
     "output_type": "stream",
     "text": [
      "Setting `pad_token_id` to `eos_token_id`:2 for open-end generation.\n"
     ]
    },
    {
     "name": "stdout",
     "output_type": "stream",
     "text": [
      "Q_TTSEM_NOMBRE:Extraction de phrases pertinentes :\n",
      "\n",
      "* \"La direction propose la mise en place d’une journée de télétravail sans conditions de temps de trajet, nombre de kilomètres ou encore conditions particulières liées au temps de travail pour l’ensemble des salariés hormis les stagiaires, apprentis et salariés en période d’essai.\"\n",
      "\n",
      "Réponse :\n",
      "nombrejourdeteletravailmaxparsemaine=1\n",
      "\n",
      "Raisonnement :\n",
      "Dans le texte, il est stipulé que la direction propose \"la mise en place d’une journée de télétravail\" sans conditions particulières. Par conséquent, un employé peut télétravailler un jour par semaine.\n",
      "\n",
      "13 T07521028203\n"
     ]
    },
    {
     "name": "stderr",
     "output_type": "stream",
     "text": [
      "Setting `pad_token_id` to `eos_token_id`:2 for open-end generation.\n"
     ]
    },
    {
     "name": "stdout",
     "output_type": "stream",
     "text": [
      "Q_TTSEM_NOMBRE:Extraction de trois phrases maximum pertinentes qui répondent à la question :\n",
      "\n",
      "* \"Un à deux jours fixes par semaine de télétravail.\"\n",
      "* \"Et 3 jours de télétravail supplémentaires annuels dits « modulables » pour gérer notamment des situations exceptionnelles.\"\n",
      "* \"Par ailleurs, pour accéder au télétravail, le collaborateur doit réunir les cinq conditions cumulatives suivantes : [...] son profil et son expertise permettent d’exercer l’activité à distance (article 3.2)\"\n",
      "\n",
      "Ma réponse :\n",
      "nombrejourdeteletravailmaxparsemaine=1\n",
      "\n",
      "Mon raisonnement :\n",
      "Le document mentionne qu'un salarié peut bénéficier d'un à deux jours fixes de télétravail par semaine. Cependant, il n'y a pas d'autres mentions explicites d'une fréquence hebdomadaire de télétravail dans le document. Par conséquent, je ne peux inclure les jours de télétravail supplémentaires annuels modulables dans mon calcul car ils ne sont pas explicitement liés à une fréquence hebdomadaire. De plus, l'extraction de trois phrases maximum pertinentes montre que le profil et l'expertise du salarié doivent permettre d'exercer l'activité à distance, ce qui suggère que le nombre de jours de télétravail par semaine peut varier en fonction du salarié. Cependant, le document ne fournit pas suffisamment d'informations pour déterminer si un salarié peut télétravailler plus d'un jour par semaine. Par conséquent, je ne peux pas affecter la variable 'nombrejourdeteletravailmaxparsemaine' à une valeur supérieure à 1.\n",
      "\n",
      "14 T03321006775\n"
     ]
    },
    {
     "name": "stderr",
     "output_type": "stream",
     "text": [
      "Setting `pad_token_id` to `eos_token_id`:2 for open-end generation.\n"
     ]
    },
    {
     "name": "stdout",
     "output_type": "stream",
     "text": [
      "Q_TTSEM_NOMBRE:Mon extraction de trois phrases maximum pertinentes qui répondent à la question :\n",
      "\n",
      "* \"Le télétravail s’effectue : Soit au domicile du/de la salarié(e)\"\n",
      "* \"La durée du travail du salarié est identique qu’il soit sur site ou en télétravail.\"\n",
      "* \"Pendant les jours de télétravail, le télétravailleur est tenu de respecter, selon le salarié concerné, l’horaire collectif ou les plages fixes pendant lesquelles il doit être joignable.\"\n",
      "\n",
      "Ma réponse :\n",
      "nombrejourdeteletravailmaxparsemaine=5\n",
      "\n",
      "Mon raisonnement :\n",
      "Le document indique que la durée du travail du salarié est identique qu'il soit sur site ou en télétravail, ce qui implique que le nombre de jours de télétravail par semaine est libre, dans la limite de cinq jours ouvrés par semaine.\n",
      "\n",
      "15 T06421003671\n"
     ]
    },
    {
     "name": "stderr",
     "output_type": "stream",
     "text": [
      "Setting `pad_token_id` to `eos_token_id`:2 for open-end generation.\n",
      "Created a chunk of size 9118, which is longer than the specified 5000\n",
      "Created a chunk of size 6263, which is longer than the specified 5000\n"
     ]
    },
    {
     "name": "stdout",
     "output_type": "stream",
     "text": [
      "Q_TTSEM_NOMBRE:\n",
      "* Extraction de phrases pertinentes :\n",
      "    1. \"Le travail occasionnel à distance peut s’exercer à hauteur de 12 jours par année civile pour un salarié présent toute l’année.\"\n",
      "    2. \"Un formulaire de demande sera disponible sur INSITE. En cas de refus du manager, celui-ci devra en préciser les motifs dans le formulaire.\"\n",
      "    3. \"Par la suite, les jours de travail occasionnel à distance sont positionnés dans l’outil de gestion des temps, à la convenance du salarié, dans la limite de deux jours par mois,\"\n",
      "* Ma réponse : nombrejourdeteletravailmaxparsemaine=2\n",
      "* Mon raisonnement : Dans le premier paragraphe pertinent, il est mentionné que le télétravail occasionnel peut s'exercer à hauteur de 12 jours par année civile. Comme nous avons pour instruction de déconnecter les liens entre les périodicités, je ne tiens pas compte du fait que cela correspond à 2 jours par mois. Je me base uniquement sur le nombre de jours de télétravail par année civile mentionné, qui est de 12. Or, comme il s'agit de télétravail occasionnel, je dois vérifier si ce télétravail peut être considéré comme régulier. Selon les instructions, si le nombre de jour de télétravail annuel est inférieur à 52, ce nombre de jour de télétravail concerne du télétravail occasionnel. Donc, dans ce cas, 12 jours par an ne peuvent pas être considérés comme du télétravail régulier. Cependant, dans le troisième paragraphe pertinent, il est mentionné que les jours de télétravail occasionnel à distance sont positionnés dans l’outil de gestion des temps, à la convenance du salarié, dans la limite de deux jours par mois. Comme je dois déconnecter les liens entre les périodicités, je ne tiens pas compte du fait que cela correspond à 2 jours par mois. Mais la simple existence de cette phrase indique que deux jours de télétravail par mois sont possibles, ce qui correspond à 24 jours par an. Comme 24 est supérieur à 52, cela signifie que deux jours de télétravail par semaine sont possibles. Je retourne donc nombrejourdeteletravailmaxparsemaine=2.\n",
      "\n",
      "16 T04121001510\n"
     ]
    },
    {
     "name": "stderr",
     "output_type": "stream",
     "text": [
      "Setting `pad_token_id` to `eos_token_id`:2 for open-end generation.\n"
     ]
    },
    {
     "name": "stdout",
     "output_type": "stream",
     "text": [
      "Q_TTSEM_NOMBRE:Mon extraction de trois phrases maximum pertinentes qui répondent à la question :\n",
      "\n",
      "* \"Ces collaborateurs bénéficieront d’une enveloppe de 84 jours maximum de crédit de télétravail sur la période de référence (soit du 1er mai année N au 30 avril année N+1), crédit qui sera déterminé pour la première année en fonction de la date d’agrément du présent accord. Ce crédit sera proratisé selon le temps contractuel.\"\n",
      "* \"Le crédit sera libre d’utilisation dans la limite de 3j par semaine\"\n",
      "* \"Le télétravail peut être possible en demi-journée, dans le cas où l’agent pose une demi-journée de congés, ou de RTT.\"\n",
      "\n",
      "Ma réponse :\n",
      "nombrejourdeteletravailmaxparsemaine=3\n",
      "\n",
      "Mon raisonnement :\n",
      "Le document indique que les collaborateurs bénéficient d'une enveloppe de 84 jours maximum de crédit de télétravail sur une période de référence, et que le crédit sera libre d'utilisation dans la limite de 3j par semaine. Cela signifie qu'un employé peut télétravailler jusqu'à 3 jours par semaine.\n",
      "\n",
      "17 T09221023395\n"
     ]
    },
    {
     "name": "stderr",
     "output_type": "stream",
     "text": [
      "Setting `pad_token_id` to `eos_token_id`:2 for open-end generation.\n"
     ]
    },
    {
     "name": "stdout",
     "output_type": "stream",
     "text": [
      "Q_TTSEM_NOMBRE:Extraction de phrases pertinentes :\n",
      "\n",
      "* \"Le principe de base de fonctionnement du télétravail régulier est de travailler jusqu’à deux journées par semaine à domicile, par journée entière\"\n",
      "\n",
      "Ma réponse :\n",
      "nombrejourdeteletravailmaxparsemaine=2\n",
      "\n",
      "Mon raisonnement :\n",
      "Le paragraphe spécifie clairement que le télétravail régulier se fait jusqu'à deux journées par semaine.\n",
      "\n",
      "18 T08821002452\n"
     ]
    },
    {
     "name": "stderr",
     "output_type": "stream",
     "text": [
      "Setting `pad_token_id` to `eos_token_id`:2 for open-end generation.\n",
      "Created a chunk of size 11294, which is longer than the specified 5000\n",
      "Created a chunk of size 10618, which is longer than the specified 5000\n"
     ]
    },
    {
     "name": "stdout",
     "output_type": "stream",
     "text": [
      "Q_TTSEM_NOMBRE:Extraction de phrases pertinentes :\n",
      "\n",
      "* \"dans la limite de 1 jour (soit 2 demi-journées) par semaine de 5 jours travaillés\"\n",
      "\n",
      "Ma réponse :\n",
      "nombrejourdeteletravailmaxparsemaine=1\n",
      "\n",
      "Mon raisonnement :\n",
      "Le texte indique que le télétravail est possible \"dans la limite de 1 jour (soit 2 demi-journées) par semaine de 5 jours travaillés\". Cela signifie qu'un employé peut télétravailler jusqu'à 1 jour par semaine.\n",
      "\n",
      "19 T03521008349\n"
     ]
    },
    {
     "name": "stderr",
     "output_type": "stream",
     "text": [
      "Setting `pad_token_id` to `eos_token_id`:2 for open-end generation.\n"
     ]
    },
    {
     "name": "stdout",
     "output_type": "stream",
     "text": [
      "Q_TTSEM_NOMBRE:Mon extraction de trois phrases maximum pertinentes qui répondent à la question :\n",
      "\n",
      "* \"De manière à maintenir le lien social, la cohésion et le bon fonctionnement des services mais aussi afin de prévenir l'isolement du télétravailleur, le nombre de jours en télétravail est limité.\"\n",
      "* \"Qu’il soit régulier ou occasionnel, par principe, le télétravail est limité à deux daynées par semaine.\"\n",
      "* \"Il est également possible d’étendre à plus de days de télétravail par semaine pour des raisons ponctuelles et exceptionnelles avec l’accord du directeur concerné.\"\n",
      "\n",
      "Ma réponse :\n",
      "nombrejourdeteletravailmaxparsemaine=2\n",
      "\n",
      "Mon raisonnement :\n",
      "Le document indique que le télétravail est limité à deux jours par semaine, mais il est possible d'étendre ce nombre pour des raisons ponctuelles et exceptionnelles. Cependant, il n'y a pas d'indication d'un nombre maximum de jours de télétravail par semaine dans le document. Je réponds donc 2 jours de télétravail par semaine, qui est la limite par défaut indiquée dans le document.\n",
      "\n",
      "20 T06721007237\n"
     ]
    },
    {
     "name": "stderr",
     "output_type": "stream",
     "text": [
      "Setting `pad_token_id` to `eos_token_id`:2 for open-end generation.\n"
     ]
    },
    {
     "name": "stdout",
     "output_type": "stream",
     "text": [
      "Q_TTSEM_NOMBRE:Extraction de phrases pertinentes :\n",
      "- \"le temps de travail est organisé entre présence physique sur site de minimum 24h et le temps restant en télétravail au domicile du salarié.\"\n",
      "- \"Les 24 heures minimum sur site peuvent être effectuées en demi-journées ou en journées complètes selon un planning prédéfini en accord avec le chef de service et le directeur du pôle.\"\n",
      "\n",
      "Ma réponse :\n",
      "nombrejourdeteletravailmaxparsemaine=1\n",
      "\n",
      "Mon raisonnement :\n",
      "Le document indique que le temps de travail est organisé entre une présence physique sur site de minimum 24h et le temps restant en télétravail au domicile du salarié. Comme il n'y a pas d'autres mentions spécifiques sur la fréquence hebdomadaire de télétravail, je peux déduire qu'un employé peut télétravailler jusqu'à 1 jour par semaine, car il reste 24h de travail sur site.\n",
      "\n",
      "21 T08521004770\n"
     ]
    },
    {
     "name": "stderr",
     "output_type": "stream",
     "text": [
      "Setting `pad_token_id` to `eos_token_id`:2 for open-end generation.\n"
     ]
    },
    {
     "name": "stdout",
     "output_type": "stream",
     "text": [
      "Q_TTSEM_NOMBRE:Extraction de phrases pertinentes :\n",
      "- \"Les parties conviennent que le nombre de journée maximale de télétravail par semaine est fixé à une (1).\"\n",
      "- \"Les journées de télétravail sont prises par journée complète.\"\n",
      "\n",
      "Ma réponse :\n",
      "nombrejourdeteletravailmaxparsemaine=1\n",
      "\n",
      "Mon raisonnement :\n",
      "Le texte indique clairement que le nombre maximal de journées de télétravail par semaine est fixé à une (1). De plus, il est précisé que les journées de télétravail sont prises par journée complète, ce qui confirme que le nombre maximal de jours de télétravail par semaine est de 1.\n",
      "\n",
      "22 T05221001044\n"
     ]
    },
    {
     "name": "stderr",
     "output_type": "stream",
     "text": [
      "Setting `pad_token_id` to `eos_token_id`:2 for open-end generation.\n"
     ]
    },
    {
     "name": "stdout",
     "output_type": "stream",
     "text": [
      "Q_TTSEM_NOMBRE:Mon extraction de trois phrases maximum pertinentes qui répondent à la question :\n",
      "\n",
      "* \"Le télétravailleur devra respecter un délai de prévenance de 3 jours avant tout télétravail.\"\n",
      "* \"Le télétravail doit s’articuler avec le principe du respect de la vie privée du salarié.\"\n",
      "* \"Le télétravail doit être compatible avec la fonction occupée et le fonctionnement du service, être basé sur le double accord employeur/salariés, et nécessiter un lien de confiance indispensable.\"\n",
      "\n",
      "Ma réponse :\n",
      "nombrejourdeteletravailmaxparsemaine=1\n",
      "\n",
      "Mon raisonnement :\n",
      "Le document mentionne qu'un délai de prévenance de 3 jours avant tout télétravail est requis, ce qui implique que le télétravail ne peut être quotidien. De plus, il n'y a aucune mention explicite d'une fréquence hebdomadaire de télétravail supérieure à 1 jour.\n",
      "\n",
      "23 T03321007015\n"
     ]
    },
    {
     "name": "stderr",
     "output_type": "stream",
     "text": [
      "Setting `pad_token_id` to `eos_token_id`:2 for open-end generation.\n"
     ]
    },
    {
     "name": "stdout",
     "output_type": "stream",
     "text": [
      "Q_TTSEM_NOMBRE:Extraction de phrases pertinentes :\n",
      "\n",
      "* \"Les parties conviennent cependant que si la pandémie devait prendre fin avant le terme de cet avenant, les parties engageraient de nouvelles négociations afin de faire évoluer si besoin la durée et/ou les modalités de mise en œuvre de la phase expérimentale.\"\n",
      "* \"Le présent avenant est conclu pour une durée déterminée. Il entrera en vigueur à compter du 1er mars 2021 et prendra fin, sous réserve de la renégociation envisagée à l’article 1 du présent avenant, le 28 février 2022.\"\n",
      "\n",
      "Réponse :\n",
      "\n",
      "* nombrejourdeteletravailmaxparsemaine = 0\n",
      "\n",
      "Raisonnement :\n",
      "\n",
      "* Dans le texte fourni, il n'y a aucune information spécifique sur le nombre de jours de télétravail autorisés par semaine. Les seules mentions de fréquence hebdomadaire se trouvent dans des contextes généraux et non spécifiques au télétravail. Par conséquent, je ne peux pas fournir de réponse autre que zéro.\n",
      "\n",
      "24 T05721004466\n"
     ]
    },
    {
     "name": "stderr",
     "output_type": "stream",
     "text": [
      "Setting `pad_token_id` to `eos_token_id`:2 for open-end generation.\n"
     ]
    },
    {
     "name": "stdout",
     "output_type": "stream",
     "text": [
      "Q_TTSEM_NOMBRE:* Extraction de phrases pertinentes :\n",
      "    1. \"Il a été également décidé de mettre en place le télétravail auprès des collaborateurs équipés de moyens informatiques appropriés, de façon exceptionnelle notamment lors de crise sanitaire, occasionnelle et sur une durée limitée, sous réserve d’un double volontariat et de l’accord de l’employeur.\"\n",
      "    2. \"Compte tenu des missions poursuivies par l’Association, le télétravail ne peut être utilisé comme un mode d’organisation du travail classique.\"\n",
      "    3. \"Les modalités de mise en œuvre ont été expressément prévues par les dispositions de la Charte « Télétravail » UNEOS et ses annexes, constituées d’une fiche de liaison ainsi que des fiches de procédure Connexion Access Gateway, après information et avis du CSE du 25 novembre 2020.\"\n",
      "* Ma réponse : nombrejourdeteletravailmaxparsemaine=0\n",
      "* Mon raisonnement : Après avoir lu attentivement les extraits fournis, je n'ai trouvé aucune indication précise sur le nombre de jours de télétravail autorisés par semaine. Les seules mentions de télétravail sont relatives à sa mise en place exceptionnelle et non permanente, sans spécification d'un quelconque quota hebdomadaire.\n",
      "\n",
      "25 T09221026193\n"
     ]
    },
    {
     "name": "stderr",
     "output_type": "stream",
     "text": [
      "Setting `pad_token_id` to `eos_token_id`:2 for open-end generation.\n"
     ]
    },
    {
     "name": "stdout",
     "output_type": "stream",
     "text": [
      "Q_TTSEM_NOMBRE:\n",
      "Extraction de phrases pertinentes :\n",
      "- \"Une limite haute de 10 jours de télétravail, par mois civil, est instituée.\"\n",
      "- \"Les temps de travail collectifs réguliers dans les locaux de l’Entreprise sont des éléments indispensables au maintien d’une communauté de travail, de repères relatifs aux activités et de relations humaines sans distance.\"\n",
      "- \"Le télétravail s’effectue, par principe, par journée entière.\"\n",
      "- \"Afin de permettre aux collaborateurs, soumis à un décompte de leur temps de travail en heure, de s’organiser, chaque manager détermine le plus en amont possible : l’organisation des jours de télétravail et de présence sur site par semaine,\"\n",
      "\n",
      "Ma réponse :\n",
      "nombrejourdeteletravailmaxparsemaine=1\n",
      "\n",
      "Mon raisonnement :\n",
      "Le document mentionne une limite haute de 10 jours de télétravail par mois civil. Cependant, il est également indiqué que les temps de travail collectifs réguliers dans les locaux de l'entreprise sont indispensables et que le télétravail s'effectue par journée entière. De plus, chaque manager détermine l'organisation des jours de télétravail et de présence sur site par semaine. Par conséquent, le maximum de jours de télétravail par semaine est de 1 jour.\n",
      "\n",
      "26 T03521007469\n"
     ]
    },
    {
     "name": "stderr",
     "output_type": "stream",
     "text": [
      "Setting `pad_token_id` to `eos_token_id`:2 for open-end generation.\n"
     ]
    },
    {
     "name": "stdout",
     "output_type": "stream",
     "text": [
      "Q_TTSEM_NOMBRE:Mon extraction de trois phrases maximum pertinentes qui répondent à la question :\n",
      "\n",
      "* Les dispositions de l’accord relatif au télétravail alterné à domicile du 13 décembre 2017 restent en vigueur jusqu’au 31 mars 2021.\n",
      "* Cet avenant est conclu pour une durée déterminée prenant effet le 1er janvier 2021 et ayant pour terme le 31 mars 2021.\n",
      "* Non renseigné dans le texte.\n",
      "\n",
      "Ma réponse :\n",
      "nombrejourdeteletravailmaxparsemaine=0\n",
      "\n",
      "Mon raisonnement :\n",
      "Le document fourni ne contient pas de renseignements sur le nombre de jours de télétravail autorisés par semaine. En effet, les seules informations disponibles concernent la durée de validité de l'accord et les modalités de dépôt de l'avenant. Par conséquent, je ne peux pas extraire de réponse pertinente à la question posée.\n",
      "\n",
      "27 T09221026409\n"
     ]
    },
    {
     "name": "stderr",
     "output_type": "stream",
     "text": [
      "Setting `pad_token_id` to `eos_token_id`:2 for open-end generation.\n"
     ]
    },
    {
     "name": "stdout",
     "output_type": "stream",
     "text": [
      "Q_TTSEM_NOMBRE:Extraction de phrases pertinentes :\n",
      "- \"Tout salarié éligible peut bénéficier, selon ses souhaits, de 2 ou 3 jours de télétravail par semaine\"\n",
      "- \"Pour les salariés qui ne veulent pas prendre la formule de télétravail standard, une enveloppe de 15 jours maximum par année civile (sans cumul d’une année sur l’autre)\"\n",
      "\n",
      "Ma réponse :\n",
      "nombrejourdeteletravailmaxparsemaine=3\n",
      "\n",
      "Mon raisonnement :\n",
      "Le premier extrait indique que les salariés éligibles peuvent bénéficier de 2 ou 3 jours de télétravail par semaine. Cependant, il ne précise pas s'il s'agit d'une limite maximale hebdomadaire. Le deuxième extrait mentionne une enveloppe de 15 jours par an, mais cela ne correspond pas à une limite hebdomadaire explicite. Compte tenu de l'absence d'informations plus précises, je propose une estimation prudente de 3 jours de télétravail par semaine.\n",
      "\n",
      "28 T07521029021\n"
     ]
    },
    {
     "name": "stderr",
     "output_type": "stream",
     "text": [
      "Setting `pad_token_id` to `eos_token_id`:2 for open-end generation.\n"
     ]
    },
    {
     "name": "stdout",
     "output_type": "stream",
     "text": [
      "Q_TTSEM_NOMBRE:Extraction de trois phrases pertinentes :\n",
      "\n",
      "* \"Le télétravailleur reste tenu, même pendant les jours de télétravail et en cas de demande de la direction, de se rendre dans les locaux de l'Association, pour participer aux réunions organisées ou pour toute autre raison destinée à assurer le bon fonctionnement du service.\"\n",
      "* \"Pendant les jours de télétravail, le télétravailleur pourra librement organiser son temps de travail sous réserve de respecter les plages horaires de travail suivantes : 9h-12h30, 14h-17h30 pendant lesquelles il doit être possible de le joindre.\"\n",
      "* \"Le télétravail sera effectué au domicile habituel du salarié. Il pourra de même s’exercer, après information de l’employeur, dans un tiers-lieu différent des locaux de l’association, de façon régulière, occasionnelle, ou en cas de circonstances exceptionnelles ou de force majeure. Ce lieu devra être adapté au télétravail dans des conditions satisfaisantes.\"\n",
      "\n",
      "Ma réponse :\n",
      "nombrejourdeteletravailmaxparsemaine=1\n",
      "\n",
      "Mon raisonnement :\n",
      "Le contexte fourni ne précise pas le nombre maximal de jours de télétravail par semaine, mais il mentionne que le télétravailleur doit être joignable pendant des plages horaires spécifiques pendant les jours de télétravail. Cela implique qu'il ne peut pas travailler tous les jours de la semaine à distance. De plus, il est mentionné que le télétravail peut être exercé de manière régulière, ce qui suggère qu'il y a une limite au nombre de jours de télétravail par semaine. Compte tenu de ces éléments, je déduis qu'un employé peut télétravailler régulièrement jusqu'à 1 jour par semaine.\n",
      "\n",
      "En ce qui concerne le nombre de jours de présence obligatoire sur site, le contexte ne fournit pas suffisamment d'informations pour déterminer ce nombre.\n",
      "\n",
      "29 T04221004283\n"
     ]
    },
    {
     "name": "stderr",
     "output_type": "stream",
     "text": [
      "Setting `pad_token_id` to `eos_token_id`:2 for open-end generation.\n"
     ]
    },
    {
     "name": "stdout",
     "output_type": "stream",
     "text": [
      "Q_TTSEM_NOMBRE: * Extraction de phrases pertinentes :\n",
      "   1. \"Le télétravail récurrent s’organise par journée complète dans la limite de deux (2) jours par semaine\"\n",
      "   2. \"un jour par semaine, fixé avec l’accord du supérieur hiérarchique, pour les alternants (apprentissage et contrat de professionnalisation) et stagiaires de six (6) mois et plus\"\n",
      "   3. \"un jour et demi par semaine, fixé avec l’accord du supérieur hiérarchique, pour les salariés à temps partiel à 90% avec une demi-journée non travaillée par semaine.\"\n",
      "* Ma réponse : nombrejourdeteletravailmaxparsemaine=2\n",
      "* Mon raisonnement : Dans le premier paragraphe, il est mentionné que le télétravail récurrent s'organise dans la limite de deux jours par semaine. Cette information est confirmée dans les deuxième et troisième paragraphes où il est spécifié que les alternants, les stagiaires et les salariés à temps partiel peuvent bénéficier d'un jour par semaine ou un jour et demi par semaine de télétravail. Par conséquent, le nombre maximal de jours de télétravail par semaine est de 2.\n",
      "\n",
      "30 T07821008667\n"
     ]
    },
    {
     "name": "stderr",
     "output_type": "stream",
     "text": [
      "Setting `pad_token_id` to `eos_token_id`:2 for open-end generation.\n"
     ]
    },
    {
     "name": "stdout",
     "output_type": "stream",
     "text": [
      "Q_TTSEM_NOMBRE:\n",
      "Extraction de phrases pertinentes :\n",
      "- \"Le télétravail fonctionne sur un schéma d’alternance de périodes travaillées en présentiel et de période où l’activité est réalisée au domicile du salarié.\"\n",
      "- \"Les parties conviennent de limiter la situation de télétravail à 2 (deux) jours par semaine pour les salariés à temps plein\"\n",
      "\n",
      "Ma réponse :\n",
      "nombrejourdeteletravailmaxparsemaine=2\n",
      "\n",
      "Mon raisonnement :\n",
      "J'ai trouvé dans le texte la phrase \"Les parties conviennent de limiter la situation de télétravail à 2 (deux) jours par semaine pour les salariés à temps plein\". Cette phrase indique clairement que le nombre maximal de jours de télétravail par semaine est de 2.\n",
      "\n",
      "31 T02421001369\n"
     ]
    },
    {
     "name": "stderr",
     "output_type": "stream",
     "text": [
      "Setting `pad_token_id` to `eos_token_id`:2 for open-end generation.\n"
     ]
    },
    {
     "name": "stdout",
     "output_type": "stream",
     "text": [
      "Q_TTSEM_NOMBRE:\n",
      "Mon extraction de trois phrases maximum pertinentes qui répondent à la question :\n",
      "\n",
      "* Article 1 – Prorogation de l’accord : « Les parties signataires décident de proroger jusqu’au 31 mars 2022 les dispositions de l’accord relatif à la mise en place du télétravail conclu en date du 20 novembre 2018 et de son avenant n°1 signé le 22 octobre 2020. »\n",
      "\n",
      "Ma réponse :\n",
      "\n",
      "* nombrejourdeteletravailmaxparsemaine=0\n",
      "\n",
      "Mon raisonnement :\n",
      "\n",
      "* Dans le document fourni, il n'y a pas de paragraphe contenant le mot-clé \"semaine\" ou une notion de fréquence par semaine qui concerne le nombre de jours de télétravail autorisé. Par conséquent, je ne peux pas attribuer de valeur au nombre de jours de télétravail maximum par semaine.\n",
      "\n",
      "32 T08621001524\n"
     ]
    },
    {
     "name": "stderr",
     "output_type": "stream",
     "text": [
      "Setting `pad_token_id` to `eos_token_id`:2 for open-end generation.\n"
     ]
    },
    {
     "name": "stdout",
     "output_type": "stream",
     "text": [
      "Q_TTSEM_NOMBRE:Extraction de phrases pertinentes :\n",
      "- \"Les parties conviennent que le nombre de journée maximale de télétravail est fixé à une (1) par semaine\"\n",
      "\n",
      "Ma réponse :\n",
      "nombrejourdeteletravailmaxparsemaine=1\n",
      "\n",
      "Mon raisonnement :\n",
      "Le texte indique clairement qu'un employé peut télétravailler jusqu'à 1 jour par semaine.\n",
      "\n",
      "33 T04421009471\n"
     ]
    },
    {
     "name": "stderr",
     "output_type": "stream",
     "text": [
      "Setting `pad_token_id` to `eos_token_id`:2 for open-end generation.\n"
     ]
    },
    {
     "name": "stdout",
     "output_type": "stream",
     "text": [
      "Q_TTSEM_NOMBRE:Extraction de trois phrases pertinentes :\n",
      "\n",
      "* \"Le télétravail régulier aura une fréquence comprise entre 1 et 2 journées par semaine.\"\n",
      "* \"Pour les salariés à temps partiel, la fréquence du télétravail régulier sera limitée à 1 journée par semaine.\"\n",
      "* \"Un salarié souhaitant télétravailler plus de 2 jours par semaine ou à temps complet doit se rapprocher du service RH pour étudier les motivations et définir son éligibilité.\"\n",
      "\n",
      "Ma réponse :\n",
      "nombrejourdeteletravailmaxparsemaine=2\n",
      "\n",
      "Mon raisonnement :\n",
      "Le paragraphe indique clairement que le télétravail régulier aura une fréquence comprise entre 1 et 2 journées par semaine. Cette information est confirmée par la phrase indiquant que pour les salariés à temps partiel, la fréquence du télétravail régulier sera limitée à 1 journée par semaine. Enfin, la dernière phrase indique qu'un salarié souhaitant télétravailler plus de 2 jours par semaine doit se rapprocher du service RH, ce qui confirme que 2 jours est le maximum de télétravail par semaine.\n",
      "\n",
      "34 T06721006777\n"
     ]
    },
    {
     "name": "stderr",
     "output_type": "stream",
     "text": [
      "Setting `pad_token_id` to `eos_token_id`:2 for open-end generation.\n"
     ]
    },
    {
     "name": "stdout",
     "output_type": "stream",
     "text": [
      "Q_TTSEM_NOMBRE:Extraction de phrases pertinentes :\n",
      "\n",
      "* \"Le nombre de jours télétravaillables est fixé par journée entière à 2 jours par semaine au maximum\"\n",
      "* \"Les parties signataires conviennent par ailleurs que tout salarié s’inscrivant dans le dispositif de télétravail régulier devra exercer son activité à minima 3 jours par semaine sur son lieu de travail de référence\"\n",
      "\n",
      "Ma réponse :\n",
      "nombrejourdeteletravailmaxparsemaine=2\n",
      "\n",
      "Mon raisonnement :\n",
      "Le document stipule explicitement que le nombre de jours télétravaillables est fixé à 2 jours par semaine au maximum. De plus, il est mentionné que les salariés doivent travailler au moins 3 jours sur leur lieu de travail de référence, ce qui laisse entendre que le télétravail ne peut excéder 2 jours par semaine.\n",
      "\n",
      "35 T05721004568\n"
     ]
    },
    {
     "name": "stderr",
     "output_type": "stream",
     "text": [
      "Setting `pad_token_id` to `eos_token_id`:2 for open-end generation.\n"
     ]
    },
    {
     "name": "stdout",
     "output_type": "stream",
     "text": [
      "Q_TTSEM_NOMBRE:Mon extraction de trois phrases maximum pertinentes qui répondent à la question :\n",
      "\n",
      "* « Les salariés seront en télétravail au minimum, soit deux ½ journées par semaine, soit une journée complète par semaine »\n",
      "* « Dans un souci d’intégration, l’organisation du télétravail pour les nouveaux embauchés sera examinée au cas par cas par la Direction. »\n",
      "* « Les horaires en télétravail devront être renseignés sur l’agenda partagé des salariés. »\n",
      "\n",
      "Ma réponse :\n",
      "nombrejourdeteletravailmaxparsemaine=1\n",
      "\n",
      "Mon raisonnement :\n",
      "Le document indique que les salariés sont en télétravail au minimum soit deux demi-journées par semaine, soit une journée complète par semaine. Par conséquent, le nombre maximal de jours de télétravail par semaine est de 1 jour.\n",
      "\n",
      "36 T08721002004\n"
     ]
    },
    {
     "name": "stderr",
     "output_type": "stream",
     "text": [
      "Setting `pad_token_id` to `eos_token_id`:2 for open-end generation.\n"
     ]
    },
    {
     "name": "stdout",
     "output_type": "stream",
     "text": [
      "Q_TTSEM_NOMBRE:\n",
      "Extraction de phrases pertinentes :\n",
      "\n",
      "* \"Le télétravail est organisé au sein de la caisse sous deux formes... Soit d'une enveloppe jours de télétravail, définie à hauteur de 25 jours pendant une période de 3 mois (période de réversibilité) et d'une période de 3 mois supplémentaire (période de transition)... avec possibilité à l'issue de 6 mois de bénéficier de 50 jours maximum sur une année civile.\"\n",
      "* \"Afin de maintenir un lien suffisant entre le salarié et l'organisme, et notamment, de ne pas altérer le lien avec l'équipe de travail, le télétravailleur doit être présent dans son service au moins deux jours par semaine, quelle que soit la durée de son temps de travail.\"\n",
      "\n",
      "Ma réponse :\n",
      "nombrejourdeteletravailmaxparsemaine=1\n",
      "nombrejoursursiteparsemaine=2\n",
      "\n",
      "Mon raisonnement :\n",
      "Le premier extrait indique que le nombre maximal de jours de télétravail par an est de 50, ce qui correspond à environ 1 jour par semaine (50/52). Le deuxième extrait indique que le télétravailleur doit être présent dans son service au moins deux jours par semaine. Donc, le nombre maximum de jours de télétravail par semaine est de 1, et le nombre minimum de jours sur site est de 2.\n",
      "\n",
      "37 T07821007410\n"
     ]
    },
    {
     "name": "stderr",
     "output_type": "stream",
     "text": [
      "Setting `pad_token_id` to `eos_token_id`:2 for open-end generation.\n"
     ]
    },
    {
     "name": "stdout",
     "output_type": "stream",
     "text": [
      "Q_TTSEM_NOMBRE:Extraction de phrases pertinentes :\n",
      "\n",
      "* \"Le télétravail pourra être exercé à hauteur de 2 jours par semaine pour un salarié à temps complet\"\n",
      "\n",
      "Ma réponse :\n",
      "nombrejourdeteletravailmaxparsemaine=2\n",
      "\n",
      "Mon raisonnement :\n",
      "Le texte indique explicitement que le télétravail peut être exercé \"à hauteur de 2 jours par semaine\".\n",
      "\n",
      "38 T09121006385\n"
     ]
    },
    {
     "name": "stderr",
     "output_type": "stream",
     "text": [
      "Setting `pad_token_id` to `eos_token_id`:2 for open-end generation.\n"
     ]
    },
    {
     "name": "stdout",
     "output_type": "stream",
     "text": [
      "Q_TTSEM_NOMBRE:Extraction de phrases pertinentes :\n",
      "- \"Le télétravail ne devra pas dépasser 0,20 ETP par mois soit au plus une journée par semaine.\" (Article 3-1)\n",
      "\n",
      "Ma réponse :\n",
      "nombrejourdeteletravailmaxparsemaine=1\n",
      "\n",
      "Mon raisonnement :\n",
      "Le document stipule clairement que le télétravail ne doit pas dépasser une journée par semaine, ce qui correspond à mon interprétation de la question.\n",
      "\n",
      "39 T06721007676\n"
     ]
    },
    {
     "name": "stderr",
     "output_type": "stream",
     "text": [
      "Setting `pad_token_id` to `eos_token_id`:2 for open-end generation.\n"
     ]
    },
    {
     "name": "stdout",
     "output_type": "stream",
     "text": [
      "Q_TTSEM_NOMBRE:Extraction de trois phrases pertinentes :\n",
      "\n",
      "* \"La répartition des jours travaillés en entreprises et à domicile : l’alternance et le nombre de jours de télétravail hebdomadaire seront définis à la rédaction de l’avenant\"\n",
      "* \"Afin d’éviter toute forme d’isolement et de faire perdurer le lien social, le salarié doit être obligatoirement présent dans les locaux de l’entreprise le lundi et aura un rythme de télétravail sur une base hebdomadaire tel que défini dans son avenant au contrat de travail.\"\n",
      "* \"Le changement de rythme de télétravail nécessitera la signature d’un nouvel avenant, conformément aux dispositions de l’article 3.1 de présent accord.\"\n",
      "\n",
      "Ma réponse :\n",
      "nombrejourdeteletravailmaxparsemaine=1\n",
      "\n",
      "Mon raisonnement :\n",
      "Le premier extrait indique que le nombre de jours de télétravail hebdomadaire sera défini dans l'avenant au contrat de travail. Le deuxième extrait indique que le salarié a un rythme de télétravail sur une base hebdomadaire. Le troisième extrait indique que le changement de rythme de télétravail nécessitera la signature d'un nouvel avenant. Par conséquent, le nombre maximal de jours de télétravail par semaine est déterminé par l'avenant au contrat de travail et peut être modifié par un nouveau avenant. Cependant, dans le contexte fourni, aucun nombre spécifique n'est donné. En l'absence de preuve contraire, je suppose que le nombre de jours de télétravail par semaine est limité à un jour par semaine, car c'est le seul nombre spécifique mentionné dans le contexte fourni.\n",
      "\n",
      "40 T06721006938\n"
     ]
    },
    {
     "name": "stderr",
     "output_type": "stream",
     "text": [
      "Setting `pad_token_id` to `eos_token_id`:2 for open-end generation.\n"
     ]
    },
    {
     "name": "stdout",
     "output_type": "stream",
     "text": [
      "Q_TTSEM_NOMBRE:Mon extraction de trois phrases maximum pertinentes qui répondent à la question :\n",
      "\n",
      "* \"L’Accord-Cadre de Groupe prévoit deux formules de rythme de télétravail possible. Les parties signataires conviennent de mettre en place la formule 2 (rythme de 1 jour de télétravail par semaine et par salarié).\"\n",
      "* \"Toutefois, cet Accord-Cadre prévoit la possibilité de fixer un nombre de jours de télétravail supérieur à 1 jour par semaine et par salarié. A cet effet, les parties signataires conviennent d’un rythme de 2 jours maximum de télétravail par semaine et par salarié.\"\n",
      "* \"Pour permettre aux salariés de maintenir un lien collectif et de prévenir le risque d’isolement, les parties au présent accord d’entreprise conviennent qu’en tout état de cause, pour les semaines où le salarié use de sa faculté de télétravailler, il devra être présent au minimum 2 jours par semaine sur son ou ses lieu(x) de travail habituel(s).\"\n",
      "\n",
      "Ma réponse :\n",
      "nombrejourdeteletravailmaxparsemaine=2\n",
      "\n",
      "Mon raisonnement :\n",
      "Le document indique que les parties signataires conviennent de mettre en place la formule 2 de l'Accord-Cadre de Groupe, qui prévoit un rythme de 1 jour de télétravail par semaine et par salarié. Cependant, le document mentionne également que les parties signataires conviennent d'un rythme de 2 jours maximum de télétravail par semaine et par salarié. Par conséquent, le nombre maximal de jours de télétravail par semaine est de 2.\n",
      "\n",
      "41 T09221026978\n"
     ]
    },
    {
     "name": "stderr",
     "output_type": "stream",
     "text": [
      "Setting `pad_token_id` to `eos_token_id`:2 for open-end generation.\n",
      "Created a chunk of size 11621, which is longer than the specified 5000\n"
     ]
    },
    {
     "name": "stdout",
     "output_type": "stream",
     "text": [
      "Q_TTSEM_NOMBRE:Mon extraction de trois phrases maximum pertinentes qui répondent à la question :\n",
      "\n",
      "* \"Le télétravail imposé conduit le Salarié à travailler à partir de son domicile.\"\n",
      "* \"Le Salarié devra veiller à ce que les temps d’activité exercés en télétravail soient adaptés pour tenir compte des contraintes d’activité qui se posent à lui, notamment les besoins de travail dans les locaux de l’entreprise nécessaires,\"\n",
      "* \"Le Salarié dispose par ailleurs d’un espace de travail dans les locaux de l’entreprise, auquel il peut avoir accès en fonction des règles instaurées par l’entreprise\"\n",
      "\n",
      "Ma réponse :\n",
      "nombrejourdeteletravailmaxparsemaine=0\n",
      "\n",
      "Mon raisonnement :\n",
      "Dans le texte fourni, il n'y a pas de mention explicite du nombre de jours de télétravail autorisés par semaine. Il est simplement mentionné que le télétravail est effectué à partir du domicile du salarié, et que ce dernier doit adapter ses horaires de télétravail en fonction des contraintes de l'entreprise. De plus, il est précisé que le salarié dispose également d'un espace de travail dans les locaux de l'entreprise. Par conséquent, je ne peux pas fournir de réponse quant au nombre maximal de jours de télétravail par semaine.\n",
      "\n",
      "42 T01321011332\n"
     ]
    },
    {
     "name": "stderr",
     "output_type": "stream",
     "text": [
      "Setting `pad_token_id` to `eos_token_id`:2 for open-end generation.\n"
     ]
    },
    {
     "name": "stdout",
     "output_type": "stream",
     "text": [
      "Q_TTSEM_NOMBRE:Extraction de trois phrases pertinentes :\n",
      "\n",
      "* \"Le télétravail est possible, si cela est compatible avec la durée du travail des salariés concernés, à concurrence de 0 à 2 jours ouvrés maximum par semaine, non consécutifs, sous condition de présence de 3 jours sur site (non reportable, non cumulable).\"\n",
      "* \"Les salariés à temps partiel ne travaillant pas 5 jours par semaine ne peuvent télétravailler qu’un jour par semaine.\"\n",
      "* \"Le télétravail n’est pas une mesure envisagée de manière permanente mais seulement de manière ponctuelle, à la demande des salariés éligibles.\"\n",
      "\n",
      "Ma réponse :\n",
      "nombrejourdeteletravailmaxparsemaine=2\n",
      "\n",
      "Mon raisonnement :\n",
      "Le premier extrait indique que le télétravail est possible jusqu'à 2 jours ouvrés maximum par semaine, non consécutifs. Comme il n'y a pas d'autres informations contradictoires dans le texte, je peux conclure que le maximum de jours de télétravail par semaine est de 2.\n",
      "\n",
      "43 T09221022859\n"
     ]
    },
    {
     "name": "stderr",
     "output_type": "stream",
     "text": [
      "Setting `pad_token_id` to `eos_token_id`:2 for open-end generation.\n"
     ]
    },
    {
     "name": "stdout",
     "output_type": "stream",
     "text": [
      "Q_TTSEM_NOMBRE:\n",
      "Extraction de trois phrases maximum pertinentes qui répondent à la question :\n",
      "\n",
      "* \"Les Salaries a temps plein ne travailleront qu'au maximum 2 jours par semaine en teletravail et 1 seule joumee pour les Salaries a temps partiel.\"\n",
      "* \"Toutefois, concernant les personnes et/ou les situations visées à l'article 3.2 de l'Accord, il est possible de déroger aux rythmes de travail précédent, afin de faire face à la nécessité d'une fréquence accrue du nombre de jours télétravaillés.\"\n",
      "* \"La procédure prévue à l'article 3.1 de l'Accord ne s'applique pas aux configurations et situations suivantes : Salariés se trouvant en situation de handicap physique pour lesquels un aménagement du poste recommandé par le médecin du travail consisterait à recourir au télétravail afin de favoriser le maintien dans l'emploi.\"\n",
      "\n",
      "Ma réponse :\n",
      "nombrejourdeteletravailmaxparsemaine=2\n",
      "\n",
      "Mon raisonnement :\n",
      "Le document indique que les salariés à temps plein ne travailleront pas plus de 2 jours par semaine en télétravail. Cependant, il existe des exceptions pour les personnes visées à l'article 3.2 de l'Accord, mais aucune indication numérique n'est donnée pour ces exceptions. Par conséquent, je ne peux prendre en compte que l'information générale selon laquelle les salariés à temps plein ne travailleront pas plus de 2 jours par semaine en télétravail.\n",
      "\n",
      "44 T03021003019\n"
     ]
    },
    {
     "name": "stderr",
     "output_type": "stream",
     "text": [
      "Setting `pad_token_id` to `eos_token_id`:2 for open-end generation.\n"
     ]
    },
    {
     "name": "stdout",
     "output_type": "stream",
     "text": [
      "Q_TTSEM_NOMBRE:Extraction de phrases pertinentes :\n",
      "\n",
      "* \"Le nombre de jours en télétravail pourra au maximum être de 4 par semaine.\" (Article 3)\n",
      "\n",
      "Ma réponse :\n",
      "nombrejourdeteletravailmaxparsemaine=4\n",
      "\n",
      "Mon raisonnement :\n",
      "Le texte indique clairement que le nombre maximal de jours de télétravail par semaine est de 4.\n",
      "\n",
      "45 T09121006120\n"
     ]
    },
    {
     "name": "stderr",
     "output_type": "stream",
     "text": [
      "Setting `pad_token_id` to `eos_token_id`:2 for open-end generation.\n"
     ]
    },
    {
     "name": "stdout",
     "output_type": "stream",
     "text": [
      "Q_TTSEM_NOMBRE:Extraction de phrases pertinentes :\n",
      "- \"Les jours de télétravail doivent par principe être pris par journée entière et ne peuvent conduire le salarié à s’absenter en télétravail plus de deux journées pour une semaine de cinq jours.\"\n",
      "- \"A l’échelle d’un service, il est possible de définir des journées comme non accessibles au télétravail afin de préserver le lien social, les rituels d’équipes et le travail collectif.\"\n",
      "\n",
      "Ma réponse :\n",
      "nombrejourdeteletravailmaxparsemaine=2\n",
      "\n",
      "Mon raisonnement :\n",
      "Le premier paragraphe indique que le salarié ne peut s'absenter en télétravail plus de deux journées pour une semaine de cinq jours. Cela implique que le nombre maximal de jours de télétravail par semaine est de 2. Le second paragraphe ne mentionne pas de fréquence hebdomadaire spécifique, mais confirme que deux jours de télétravail par semaine est une possibilité.\n",
      "\n",
      "46 T07221003271\n"
     ]
    },
    {
     "name": "stderr",
     "output_type": "stream",
     "text": [
      "Setting `pad_token_id` to `eos_token_id`:2 for open-end generation.\n"
     ]
    },
    {
     "name": "stdout",
     "output_type": "stream",
     "text": [
      "Q_TTSEM_NOMBRE:\n",
      "Mon extraction de trois phrases maximum pertinentes qui répondent à la question :\n",
      "\n",
      "* \"Le télétravail pour le salarié à temps complet ou titulaire d’un forfait annuel 218 jours ne pourra être exercé que pour un maximum de 13 jours (soit 26 demi-journées) par trimestre civil dans la limite de 1 jour (soit 2 demi-journées) par semaine de 5 jours travaillés, non reportables, soit une enveloppe de 52 jours (soit 104 demi-journées) par année civile.\"\n",
      "\n",
      "Ma réponse :\n",
      "nombrejourdeteletravailmaxparsemaine=1\n",
      "\n",
      "Mon raisonnement :\n",
      "Dans le texte, il est stipulé que le télétravail pour un salarié à temps complet ou titulaire d'un forfait annuel de 218 jours ne peut être exercé que pour un maximum de 13 jours par trimestre civil, dans la limite de 1 jour par semaine de 5 jours travaillés. Par conséquent, le nombre maximal de jours de télétravail par semaine est de 1.\n",
      "\n",
      "47 T00621004760\n"
     ]
    },
    {
     "name": "stderr",
     "output_type": "stream",
     "text": [
      "Setting `pad_token_id` to `eos_token_id`:2 for open-end generation.\n",
      "Created a chunk of size 10412, which is longer than the specified 5000\n"
     ]
    },
    {
     "name": "stdout",
     "output_type": "stream",
     "text": [
      "Q_TTSEM_NOMBRE:Mon extraction de trois phrases maximum pertinentes qui répondent à la question :\n",
      "\n",
      "* Article 2.3.2. Modification du jour de télétravail : \"Dans ce cas la journée de télétravail pourra être déplacée au sein de la même semaine (en changeant la journée de télétravail de mardi pour la journée de jeudi ou inversement)\"\n",
      "* Article 2.4 Avenant au contrat de travail : \"Le jour de la semaine télétravaillé\"\n",
      "\n",
      "Ma réponse :\n",
      "nombrejourdeteletravailmaxparsemaine=1\n",
      "\n",
      "Mon raisonnement :\n",
      "Le document indique que le jour de télétravail peut être déplacé au sein de la même semaine, ce qui signifie qu'un employé peut télétravailler un jour par semaine au maximum. Cette information est confirmée dans l'article 2.4 Avenant au contrat de travail, qui précise que le jour de la semaine télétravaillé doit être précisé dans l'avenant au contrat de travail.\n",
      "\n",
      "48 T07521029992\n"
     ]
    },
    {
     "name": "stderr",
     "output_type": "stream",
     "text": [
      "Setting `pad_token_id` to `eos_token_id`:2 for open-end generation.\n"
     ]
    },
    {
     "name": "stdout",
     "output_type": "stream",
     "text": [
      "Q_TTSEM_NOMBRE:Mon extraction de trois phrases maximum pertinentes qui répondent à la question :\n",
      "\n",
      "* \"Le 3ème jour fixe de travail en présentiel, s’il n’est pas télétravaillé, par semaine du collaborateur en concertation avec le responsable hiérarchique,\"\n",
      "* \"Les modalités d'acceptation par le salarié des conditions de mise en œuvre du télétravail\"\n",
      "* \"la détermination des plages horaires durant lesquelles l'employeur peut habituellement contacter le salarié en télétravail.\"\n",
      "\n",
      "Ma réponse :\n",
      "nombrejourdeteletravailmaxparsemaine=1\n",
      "\n",
      "Mon raisonnement :\n",
      "Le texte indique qu'il y a un jour fixe de travail en présentiel par semaine, ce qui implique que le nombre maximal de jours de télétravail par semaine est de 4. Cependant, la variable 'nombrejourdeteletravailmaxparsemaine' ne doit prendre en compte que les jours de télétravail autorisés et non les jours de présence obligatoire sur site. Par conséquent, le nombre maximal de jours de télétravail par semaine est de 1.\n",
      "\n",
      "49 T05721004723\n"
     ]
    },
    {
     "name": "stderr",
     "output_type": "stream",
     "text": [
      "Setting `pad_token_id` to `eos_token_id`:2 for open-end generation.\n"
     ]
    },
    {
     "name": "stdout",
     "output_type": "stream",
     "text": [
      "Q_TTSEM_NOMBRE: * Extraction pertinente du contexte :\n",
      "   1. \"Au 1er juin 2021, tous les collaborateurs pourront bénéficier de 2 jours / semaine de travail à distance.\"\n",
      "   2. \"Afin de maintenir la cohésion d’équipe, chaque collaborateur devra donc s’organiser pour être présent au bureau ou en mission au minimum 3 jours / semaine.\"\n",
      "   3. \"Ce dispositif, basé sur le volontariat, est une possibilité offerte aux collaborateurs de travailler hors de leur lieu de travail habituel, à raison de 2 jours maximum par semaine.\"\n",
      " * Ma réponse : nombrejourdeteletravailmaxparsemaine=2\n",
      " * Mon raisonnement : Dans le document fourni, il est indiqué que \"Au 1er juin 2021, tous les collaborateurs pourront bénéficier de 2 jours / semaine de travail à distance\" et que \"ce dispositif, basé sur le volontariat, est une possibilité offerte aux collaborateurs de travailler hors de leur lieu de travail habituel, à raison de 2 jours maximum par semaine\". Il n'y a pas d'autres mentions de fréquence hebdomadaire de télétravail dans le document fourni.\n",
      "\n",
      "50 T09221026359\n"
     ]
    },
    {
     "name": "stderr",
     "output_type": "stream",
     "text": [
      "Setting `pad_token_id` to `eos_token_id`:2 for open-end generation.\n"
     ]
    },
    {
     "name": "stdout",
     "output_type": "stream",
     "text": [
      "Q_TTSEM_NOMBRE:\n",
      "Extraction de trois phrases pertinentes :\n",
      "\n",
      "* \"Le télétravail régulier suppose à minima une journée en télétravail par semaine, sans pouvoir excéder trois jours de télétravail par semaine.\"\n",
      "* \"Il est tout de même fortement recommandé de ne pas dépasser 2 jours de télétravail par semaine.\"\n",
      "* \"A titre exceptionnel et sous réserve de l’existence d’une situation individuelle particulière (à titre d’exemple : un déménagement pour convenance personnelle dans une autre région que celle où se situe le site de rattachement du collaborateur), le nombre de jours maximal en télétravail pourra être revu à la hausse.\"\n",
      "\n",
      "Ma réponse :\n",
      "nombrejourdeteletravailmaxparsemaine=2\n",
      "\n",
      "Mon raisonnement :\n",
      "J'ai identifié dans le texte une indication claire et explicite du nombre maximum de jours de télétravail par semaine, qui est de 2. Cette information est donnée dans la première phrase pertinente extraite. Elle est confirmée dans la deuxième phrase pertinente, qui recommande de ne pas dépasser 2 jours de télétravail par semaine. La troisième phrase pertinente ne contient pas d'information utile pour notre question.\n",
      "\n",
      "51 T03121008941\n"
     ]
    },
    {
     "name": "stderr",
     "output_type": "stream",
     "text": [
      "Setting `pad_token_id` to `eos_token_id`:2 for open-end generation.\n"
     ]
    },
    {
     "name": "stdout",
     "output_type": "stream",
     "text": [
      "Q_TTSEM_NOMBRE:Mon extraction de trois phrases maximum pertinentes qui répondent à la question :\n",
      "\n",
      "* \"Le nombre de jour de télétravail ne pourra excéder 2 jours par semaine\"\n",
      "* \"Les jours de formation, de réunion avec tous les membres d’une équipe ne peuvent pas être télétravaillés.\"\n",
      "* \"Les horaires applicables sont ceux en vigueurs dans l’entreprise.\"\n",
      "\n",
      "Ma réponse :\n",
      "nombrejourdeteletravailmaxparsemaine=2\n",
      "\n",
      "Mon raisonnement :\n",
      "Le document stipule que \"Le nombre de jour de télétravail ne pourra excéder 2 jours par semaine\". Il n'y a pas d'autres mentions de fréquence hebdomadaire dans le texte qui concernent le télétravail.\n",
      "\n",
      "52 T06821004734\n"
     ]
    },
    {
     "name": "stderr",
     "output_type": "stream",
     "text": [
      "Setting `pad_token_id` to `eos_token_id`:2 for open-end generation.\n"
     ]
    },
    {
     "name": "stdout",
     "output_type": "stream",
     "text": [
      "Q_TTSEM_NOMBRE:Extraction de phrases pertinentes :\n",
      "- \"Le nombre maximal de jours de télétravail est fixé annuellement et de façon forfaitaire.\"\n",
      "- \"Les journées de télétravail pourront être subdivisées en demi-journées.\"\n",
      "- \"Une demi-journée de télétravail est égale à 3 heures 50 de travail effectif.\"\n",
      "\n",
      "Ma réponse :\n",
      "nombrejourdeteletravailmaxparsemaine=1\n",
      "\n",
      "Mon raisonnement :\n",
      "Le document indique que le nombre de jours de télétravail est fixé annuellement et de façon forfaitaire, sans donner de chiffre précis. Cependant, il est mentionné que les journées de télétravail peuvent être subdivisées en demi-journées, chaque demi-journée équivalant à 3 heures 50 de travail effectif. Par ailleurs, il est indiqué qu'une demi-journée de télétravail ne peut pas être adossée à une demi-journée de congés payés ou de crédit d'heures. Compte tenu de ces éléments, je déduis qu'un salarié ne peut pas télétravailler plus de la moitié d'une journée de travail, soit environ 3 heures et 50 minutes. Comme il y a cinq jours ouvrés dans une semaine, le nombre maximum de jours de télétravail régulier par semaine est donc de 1 jour.\n",
      "\n",
      "53 T08421002482\n"
     ]
    },
    {
     "name": "stderr",
     "output_type": "stream",
     "text": [
      "Setting `pad_token_id` to `eos_token_id`:2 for open-end generation.\n"
     ]
    },
    {
     "name": "stdout",
     "output_type": "stream",
     "text": [
      "Q_TTSEM_NOMBRE:\n",
      "Extraction de phrases pertinentes :\n",
      "- \"Une certaine autonomie de gestion des horaires de travail est reconnue aux télétravailleurs soumis à un décompte horaire. Néanmoins, ils sont impérativement tenus de respecter les mêmes horaires que ceux qu’ils effectuent habituellement lorsqu’ils travaillent au sein de l’entreprise.\"\n",
      "- \"Les salariés qui ont conclu une convention de forfait en jours, sont autonomes dans l’organisation de leur travail. Cependant, ils sont tenus d'informer leur responsable des plages horaires pendant lesquelles ils seraient joignables.\"\n",
      "\n",
      "Ma réponse :\n",
      "nombrejourdeteletravailmaxparsemaine=1\n",
      "\n",
      "Mon raisonnement :\n",
      "Bien que le texte mentionne que les télétravailleurs doivent respecter les mêmes horaires qu'au bureau et qu'ils doivent être joignables, il est indiqué que les salariés ayant une convention de forfait en jours sont autonomes dans l'organisation de leur travail, à condition qu'ils informent leur responsable de leurs plages horaires de disponibilité. Cette autonomie implique qu'ils peuvent théoriquement travailler tous les jours de la semaine, mais nous savons qu'ils doivent respecter des durées minimales de repos quotidien et hebdomadaire. Par conséquent, je suppose qu'ils peuvent télétravailler un jour par semaine au maximum, en prenant en compte le fait qu'ils doivent être joignables pendant leurs plages horaires.\n",
      "\n",
      "54 T09221023213\n"
     ]
    },
    {
     "name": "stderr",
     "output_type": "stream",
     "text": [
      "Setting `pad_token_id` to `eos_token_id`:2 for open-end generation.\n"
     ]
    },
    {
     "name": "stdout",
     "output_type": "stream",
     "text": [
      "Q_TTSEM_NOMBRE:Extraction de phrases pertinentes :\n",
      "\n",
      "* \"Tant que les pouvoirs publics préconiseront un recours massif au télétravail, Mutex accordera une allocation forfaitaire calculée au prorata du temps télétravaillé. Ce dernier aura comme référence le mois.\"\n",
      "* \"En conséquence, le plafond d’allocations que percevra un collaborateur sera de 50 € par mois pour 5 jours de télétravail par semaine.\"\n",
      "\n",
      "Ma réponse :\n",
      "nombrejourdeteletravailmaxparsemaine=5\n",
      "\n",
      "Mon raisonnement :\n",
      "Dans le premier extrait, il est fait référence à un calcul au prorata du temps télétravaillé avec comme référence le mois. Plus loin, il est précisé que cette référence au mois correspond à 5 jours de télétravail par semaine. Par conséquent, le maximum de jours de télétravail par semaine est de 5.\n",
      "\n",
      "55 T09221025050\n"
     ]
    },
    {
     "name": "stderr",
     "output_type": "stream",
     "text": [
      "Setting `pad_token_id` to `eos_token_id`:2 for open-end generation.\n"
     ]
    },
    {
     "name": "stdout",
     "output_type": "stream",
     "text": [
      "Q_TTSEM_NOMBRE:\n",
      "Extraction de phrases pertinentes :\n",
      "\n",
      "* \"Le présent dispositif prévoit une répartition présence sur site / télétravail comme suit : Exercice sur site : environ 60% du temps de travail effectif, Télétravail : environ 40% du temps de travail effectif.\"\n",
      "* \"Le quota annuel de jours de télétravail est un maximum qui ne génère pas un droit mais relève d’une simple faculté. Les parties précisent expressément que les jours de télétravail non pris ne génèrent pas de reliquat et qu’aucun report en année N+1 ne sera autorisé.\"\n",
      "* \"Les dérogations pourront avoir pour conséquence d’augmenter le pourcentage de télétravail jusqu’à environ 45% d’exercice à distance, soit une augmentation du quota annuel à 100 jours de télétravail maximum (85 jours + 15 jours de télétravail dérogatoire).\"\n",
      "\n",
      "Ma réponse :\n",
      "\n",
      "nombrejourdeteletravailmaxparsemaine=4\n",
      "\n",
      "Mon raisonnement :\n",
      "\n",
      "Dans le premier paragraphe pertinent, on peut voir que la répartition standard entre le travail sur site et le télétravail est de 60% vs 40%. Cependant, cela ne correspond pas directement à des jours par semaine, donc je continue à chercher d'autres preuves.\n",
      "\n",
      "Dans le deuxième paragraphe pertinent, on confirme que le quota annuel de jours de télétravail est un maximum et qu'il ne génère pas de droit à des jours supplémentaires. Cela suggère que le maximum est de 4 jours par semaine, car sinon, il serait mentionné explicitement.\n",
      "\n",
      "Dans le troisième paragraphe pertinent, on voit que les dérogations peuvent augmenter le quota annuel à 100 jours, ce qui représente environ 45% d'exercice à distance. Cela confirme que le maximum est de 4 jours par semaine.\n",
      "\n",
      "56 T03121008136\n"
     ]
    },
    {
     "name": "stderr",
     "output_type": "stream",
     "text": [
      "Setting `pad_token_id` to `eos_token_id`:2 for open-end generation.\n"
     ]
    },
    {
     "name": "stdout",
     "output_type": "stream",
     "text": [
      "Q_TTSEM_NOMBRE:Mon extraction de trois phrases maximum pertinentes qui répondent à la question :\n",
      "\n",
      "* \"Les jours de télétravail seront fixés selon les modalités suivantes : un jour maximum par semaine.\" (Article 9)\n",
      "* \"Les Parties s’accordent sur l’importance du maintien du lien social, de la cohésion et du bon fonctionnement des équipes et recommandent pour cela que le salarié télétravailleur dispose d’au moins 4 jours de présence par semaine dans l’entreprise, sauf semaine avec jour férié.\" (Article 9)\n",
      "* \"Ce jour ne pourra être positionné ni le lundi, ni le vendredi.\" (Article 9)\n",
      "\n",
      "Ma réponse :\n",
      "nombrejourdeteletravailmaxparsemaine=1\n",
      "\n",
      "Mon raisonnement :\n",
      "Le document stipule qu'un salarié peut effectuer un maximum de 1 jour de télétravail par semaine. Cette information est confirmée dans l'article 9, qui précise que \"Les jours de télétravail seront fixés selon les modalités suivantes : un jour maximum par semaine\". De plus, il est mentionné que le salarié doit être présent au moins 4 jours par semaine dans l'entreprise, ce qui implique que le nombre maximal de jours de télétravail par semaine est de 1.\n",
      "\n",
      "57 T09221024009\n"
     ]
    },
    {
     "name": "stderr",
     "output_type": "stream",
     "text": [
      "Setting `pad_token_id` to `eos_token_id`:2 for open-end generation.\n"
     ]
    },
    {
     "name": "stdout",
     "output_type": "stream",
     "text": [
      "Q_TTSEM_NOMBRE:Mon extraction de trois phrases maximum pertinentes qui répondent à la question :\n",
      "\n",
      "* \"Il a donc été largement mis en place au sein d’IFP Training pour les postes pour lesquels ce type d’organisation du travail est possible.\"\n",
      "* \"Pour autant, les parties partagent le fait que les conditions ergonomiques ne sont pas autant satisfaisantes que sur le lieu de travail habituel au sein des locaux de l’entreprise.\"\n",
      "* \"Les parties s’accordent sur le fait que l’organisation du télétravail, en dehors même du contexte très particulier provoqué par la pandémie Covid-19, mérite d’être examinée.\"\n",
      "\n",
      "Ma réponse :\n",
      "nombrejourdeteletravailmaxparsemaine=1\n",
      "\n",
      "Mon raisonnement :\n",
      "Dans le premier extrait, il est mentionné que le télétravail a été mis en place pour les postes où cela est possible, sans précision du nombre de jours de télétravail. Dans le deuxième extrait, il est mentionné que les conditions ergonomiques ne sont pas satisfaisantes en télétravail, ce qui peut suggérer une limitation du nombre de jours de télétravail. Dans le troisième extrait, il est mentionné que l'organisation du télétravail doit être examinée, ce qui peut inclure la question du nombre de jours de télétravail. Cependant, aucun chiffre précis n'est donné dans le texte pour justifier une réponse supérieure à 1 jour de télétravail par semaine.\n",
      "\n",
      "58 T09221025668\n"
     ]
    },
    {
     "name": "stderr",
     "output_type": "stream",
     "text": [
      "Setting `pad_token_id` to `eos_token_id`:2 for open-end generation.\n"
     ]
    },
    {
     "name": "stdout",
     "output_type": "stream",
     "text": [
      "Q_TTSEM_NOMBRE:\n",
      "Mon extraction de trois phrases maximum pertinentes qui répondent à la question :\n",
      "\n",
      "* \"Une journée complète par semaine pour les salariés éligibles au télétravail, à temps partiel\"\n",
      "* \"Une à deux journées complètes maximum par semaine pour les autres salariés éligibles au télétravail.\"\n",
      "* \"Le nombre de jours de télétravail est déterminé en accord avec le manager qui peut limiter le nombre de jours de télétravail dont peuvent bénéficier les salariés de son équipe de façon notamment à ne pas affecter l’organisation et l’activité du service.\"\n",
      "\n",
      "Ma réponse :\n",
      "nombrejourdeteletravailmaxparsemaine=2\n",
      "\n",
      "Mon raisonnement :\n",
      "Le document indique que les salariés éligibles au télétravail, à temps partiel, peuvent effectuer une journée complète par semaine (Article 10, alinéa 1) et que les autres salariés éligibles au télétravail peuvent effectuer une à deux journées complètes maximum par semaine (Article 10, alinéa 2). Le manager peut limiter le nombre de jours de télétravail dont peuvent bénéficier les salariés de son équipe en fonction de l'organisation et de l'activité du service (Article 10, alinéa 3). Par conséquent, le nombre maximal de jours de télétravail par semaine est de 2.\n",
      "\n",
      "59 T06021003016\n"
     ]
    },
    {
     "name": "stderr",
     "output_type": "stream",
     "text": [
      "Setting `pad_token_id` to `eos_token_id`:2 for open-end generation.\n"
     ]
    },
    {
     "name": "stdout",
     "output_type": "stream",
     "text": [
      "Q_TTSEM_NOMBRE:\n",
      "Extraction de trois phrases maximum pertinentes qui répondent à la question :\n",
      "\n",
      "* \"Le télétravail régulier peut être organisé à raison de 2 jours maximum par semaine entière de 5 jours ouvrés.\"\n",
      "* \"Une présence dans l’entreprise de 3 jours minimum par semaine est requise.\"\n",
      "* \"Le planning des jours télétravaillés doit être établi conjointement entre le salarié et le manager. Ce planning établi par trimestre devra être transmis à la Direction des Ressources Humaines au plus tard le 20 du mois précédent chaque trimestre.\"\n",
      "\n",
      "Ma réponse :\n",
      "nombrejourdeteletravailmaxparsemaine=2\n",
      "\n",
      "Mon raisonnement :\n",
      "Le document indique clairement que le télétravail régulier peut être organisé à raison de 2 jours maximum par semaine entière de 5 jours ouvrés. Donc, le nombre maximal de jours de télétravail par semaine est de 2.\n",
      "\n",
      "60 T06821004760\n"
     ]
    },
    {
     "name": "stderr",
     "output_type": "stream",
     "text": [
      "Setting `pad_token_id` to `eos_token_id`:2 for open-end generation.\n"
     ]
    },
    {
     "name": "stdout",
     "output_type": "stream",
     "text": [
      "Q_TTSEM_NOMBRE:\n",
      "Extraction de phrases pertinentes :\n",
      "\n",
      "* \"Chaque jour, le salarié se connectera à cette application et utilisera la fonction « Pointer », selon les règles définies par la société en matière de pointage. Cette opération permettra de comptabiliser son temps de travail ou de déclarer ses jours télétravaillés.\"\n",
      "* \"Il est rappelé que, compte-tenu du degré de responsabilité confié au salarié en forfait annuel en jours et de la nécessaire autonomie dont il bénéficie dans l’exécution de son travail, il effectuera ses missions sans aucune référence horaire, en respectant un repos quotidien de 11 heures consécutives et d’un repos hebdomadaire de 24 heures consécutives.\"\n",
      "\n",
      "Ma réponse :\n",
      "nombrejourdeteletravailmaxparsemaine=1\n",
      "\n",
      "Mon raisonnement :\n",
      "Dans le premier extrait, il est mentionné que le salarié doit se connecter chaque jour pour déclarer ses jours télétravaillés. Cependant, cela ne précise pas le nombre de jours de télétravail possibles par semaine. Dans le second extrait, il est mentionné que le salarié travaille sans référence horaire, ce qui implique qu'il n'y a pas de limitation explicite du nombre de jours de télétravail par semaine. Cependant, il est mentionné une obligation de repos hebdomadaire de 24 heures consécutives, ce qui suggère qu'il ne peut pas y avoir de télétravail tous les jours de la semaine. Par conséquent, je propose une limite haute de 1 jour de télétravail par semaine.\n",
      "\n",
      "61 T07821008551\n"
     ]
    },
    {
     "name": "stderr",
     "output_type": "stream",
     "text": [
      "Setting `pad_token_id` to `eos_token_id`:2 for open-end generation.\n"
     ]
    },
    {
     "name": "stdout",
     "output_type": "stream",
     "text": [
      "Q_TTSEM_NOMBRE:Extraction de phrases pertinentes :\n",
      "- \"De manière générale, le télétravail s’exerce à raison de deux journées fixes par semaine maximum.\" (Article 6.1)\n",
      "- \"Pour les collaborateurs au statut Cadre au forfait, le jour en télétravail peut être éventuellement non fixé à l’avance.\" (Article 6.1)\n",
      "\n",
      "Ma réponse :\n",
      "nombrejourdeteletravailmaxparsemaine=2\n",
      "\n",
      "Mon raisonnement :\n",
      "Le premier extrait de phrase indique que le télétravail s'exerce à raison de deux journées fixes par semaine maximum. Cependant, l'article 6.1 précise que pour les collaborateurs au statut Cadre au forfait, le jour en télétravail peut être éventuellement non fixé à l'avance. Néanmoins, cela ne signifie pas qu'un cadre au forfait peut télétravailler plus de deux jours par semaine, mais simplement que ces jours peuvent ne pas être fixes. Par conséquent, le nombre maximal de jours de télétravail par semaine est de 2.\n",
      "\n",
      "62 T09521004176\n"
     ]
    },
    {
     "name": "stderr",
     "output_type": "stream",
     "text": [
      "Setting `pad_token_id` to `eos_token_id`:2 for open-end generation.\n"
     ]
    },
    {
     "name": "stdout",
     "output_type": "stream",
     "text": [
      "Q_TTSEM_NOMBRE:Extraction de phrases pertinentes :\n",
      "\n",
      "* \"Le télétravail hebdomadaire régulier (le ou les mêmes jours de chaque semaine civile)\"\n",
      "* \"Le télétravail régulier peut-être de 1 ou de 2 jours par semaine.\"\n",
      "* \"Il peut être porté à un maximum de 3 jours par semaine pour des salariés en forte autonomie de travail\"\n",
      "\n",
      "Ma réponse :\n",
      "nombrejourdeteletravailmaxparsemaine=3\n",
      "\n",
      "Mon raisonnement :\n",
      "Le document mentionne que le télétravail hebdomadaire régulier peut être de 1, 2 ou 3 jours par semaine. Par conséquent, le nombre maximal de jours de télétravail autorisé par semaine est de 3.\n",
      "\n",
      "63 T59V21001231\n"
     ]
    },
    {
     "name": "stderr",
     "output_type": "stream",
     "text": [
      "Setting `pad_token_id` to `eos_token_id`:2 for open-end generation.\n"
     ]
    },
    {
     "name": "stdout",
     "output_type": "stream",
     "text": [
      "Q_TTSEM_NOMBRE:\n",
      "Extraction de phrases pertinentes :\n",
      "\n",
      "* \"Le télétravailleur s'engage à participer à toutes les réunions organisées par sa direction avec les outils de communication à distance téléphoniques, ainsi qu’à consulter régulièrement sa messagerie.\"\n",
      "* \"La direction s’assurera que la charge de travail au domicile soit équivalente à la charge de travail en entreprise.\"\n",
      "* \"Ils mentionneront les résultats, les réussites et le cas échéant le ou les motifs de nature à faire obstacle à la poursuite de ce mode de travail\"\n",
      "\n",
      "Ma réponse :\n",
      "nombrejourdeteletravailmaxparsemaine=0\n",
      "\n",
      "Mon raisonnement :\n",
      "Après avoir lu attentivement les extraits fournis, je n'ai trouvé aucune indication explicite concernant le nombre maximal de jours de télétravail autorisés par semaine. Les phrases pertinentes mentionnent des réunions, la charge de travail et les résultats, mais aucune information quantitative sur la fréquence hebdomadaire de télétravail. Par conséquent, je ne peux fournir une réponse que sous la forme d'une variable à zéro.\n",
      "\n",
      "64 T08821002242\n"
     ]
    },
    {
     "name": "stderr",
     "output_type": "stream",
     "text": [
      "Setting `pad_token_id` to `eos_token_id`:2 for open-end generation.\n"
     ]
    },
    {
     "name": "stdout",
     "output_type": "stream",
     "text": [
      "Q_TTSEM_NOMBRE:\n",
      "Mon extraction de trois phrases maximum pertinentes qui répondent à la question :\n",
      "\n",
      "* \"Le nombre de jours maximum en télétravail est fixé à 2 jours par semaine pour un collaborateur à temps plein.\"\n",
      "* \"Le temps de présence physique du collaborateur dans les locaux de l’entreprise devra donc être au minimum de 3 jours par semaine pour un temps plein.\"\n",
      "\n",
      "Ma réponse :\n",
      "nombrejourdeteletravailmaxparsemaine=2\n",
      "\n",
      "Mon raisonnement :\n",
      "Le document indique clairement que le nombre de jours maximum en télétravail est fixé à 2 jours par semaine pour un collaborateur à temps plein. Il est également indiqué que le temps de présence physique du collaborateur dans les locaux de l’entreprise devra donc être au minimum de 3 jours par semaine pour un temps plein, ce qui implique que le nombre maximal de jours de télétravail par semaine est de 2.\n",
      "\n",
      "65 T04421010974\n"
     ]
    },
    {
     "name": "stderr",
     "output_type": "stream",
     "text": [
      "Setting `pad_token_id` to `eos_token_id`:2 for open-end generation.\n"
     ]
    },
    {
     "name": "stdout",
     "output_type": "stream",
     "text": [
      "Q_TTSEM_NOMBRE:Mon extraction de trois phrases maximum pertinentes qui répondent à la question :\n",
      "\n",
      "* \"Le télétravail doit être exercé par jour entier. Cependant, il est possible de déroger à ce principe pour les salariés ayant un temps de travail amenant à la réalisation de demi-journées de travail.\"\n",
      "* \"Afin de garantir la pérennité du collectif de travail, le manager est invité pour la bonne organisation de son service à décider d’un jour de présence sur site commun à l’ensemble de ses collaborateurs\"\n",
      "* \"Le télétravail pour le salarié à temps complet ou titulaire d’un forfait annuel 218 jours ne pourra être exercé que pour un maximum de 13 jours (soit 26 demi-journées) par trimestre civil dans la limite de 1 jour (soit 2 demi-journées) par semaine de 5 jours travaillés\"\n",
      "\n",
      "Ma réponse :\n",
      "nombrejourdeteletravailmaxparsemaine=1\n",
      "\n",
      "Mon raisonnement :\n",
      "Le paragraphe \"Le télétravail doit être exercé par jour entier. Cependant, il est possible de déroger à ce principe pour les salariés ayant un temps de travail amenant à la réalisation de demi-journées de travail.\" indique qu'il est possible de télétravailler à la demi-journée. Mais le paragraphe \"Afin de garantir la pérennité du collectif de travail, le manager est invité pour la bonne organisation de son service à décider d’un jour de présence sur site commun à l’ensemble de ses collaborateurs\" indique qu'il y a un jour de présence sur site obligatoire par semaine. Donc, le nombre maximal de jour de télétravail par semaine est de 4.\n",
      "Cependant, le paragraphe \"Le télétravail pour le salarié à temps complet ou titulaire d’un forfait annuel 218 jours ne pourra être exercé que pour un maximum de 13 jours (soit 26 demi-journées) par trimestre civil dans la limite de 1 jour (soit 2 demi-journées) par semaine de 5 jours travaillés, non reportables, soit une enveloppe de 52 jours (soit 104 demi-journées) par année civile.\" indique qu'il y a une limite de 1 jour par semaine. Je retiens donc cette limite.\n",
      "\n",
      "66 T09221023345\n"
     ]
    },
    {
     "name": "stderr",
     "output_type": "stream",
     "text": [
      "Setting `pad_token_id` to `eos_token_id`:2 for open-end generation.\n"
     ]
    },
    {
     "name": "stdout",
     "output_type": "stream",
     "text": [
      "Q_TTSEM_NOMBRE:\n",
      "* Extraction de phrases pertinentes :\n",
      "    1. \"Le télétravail sera mis en œuvre par journée entière de travail, dans la limite de deux jours par semaine.\"\n",
      "    2. \"Aucun jour de la semaine n’est exclu par principe du télétravail.\"\n",
      "    3. \"En aucun cas le salarié ne peut se placer en situation de télétravail pendant les périodes de suspension du contrat de travail pour quelque cause que ce soit (maladie, congés, etc.).\"\n",
      "* Ma réponse : nombrejourdeteletravailmaxparsemaine=2\n",
      "* Mon raisonnement : Dans le contexte donné, le texte indique clairement que le télétravail est mis en œuvre par journée entière de travail et que le maximum de jours de télétravail par semaine est de deux. Cette information est confirmée dans les phrases pertinentes extraites ci-dessus. Par conséquent, le nombre maximal de jours de télétravail par semaine est de 2.\n",
      "\n",
      "67 T09221027087\n"
     ]
    },
    {
     "name": "stderr",
     "output_type": "stream",
     "text": [
      "Setting `pad_token_id` to `eos_token_id`:2 for open-end generation.\n"
     ]
    },
    {
     "name": "stdout",
     "output_type": "stream",
     "text": [
      "Q_TTSEM_NOMBRE:\n",
      "Extraction de phrases pertinentes :\n",
      "\n",
      "* \"Selon les recommandations sanitaires, il peut être imposé aux salariés un télétravail à 100%.\"\n",
      "* \"les jours télétravaillés dans la semaine sont convenus entre le Salarié et son manager, le cas échéant après avis de la Direction des Ressources Humaines, afin de respecter une jauge dans les locaux de l’entreprise qui soit adaptée à la situation sanitaire.\"\n",
      "\n",
      "Ma réponse :\n",
      "nombrejourdeteletravailmaxparsemaine=5\n",
      "\n",
      "Mon raisonnement :\n",
      "Dans le premier paragraphe pertinent, il est mentionné que le télétravail peut être imposé à 100%, ce qui signifie que les salariés peuvent travailler depuis leur domicile tous les jours de la semaine. Comme il n'y a pas d'autres restrictions mentionnées dans le contexte fourni, nous pouvons conclure que le nombre maximal de jours de télétravail par semaine est de 5.\n",
      "\n",
      "68 T07821008583\n"
     ]
    },
    {
     "name": "stderr",
     "output_type": "stream",
     "text": [
      "Setting `pad_token_id` to `eos_token_id`:2 for open-end generation.\n"
     ]
    },
    {
     "name": "stdout",
     "output_type": "stream",
     "text": [
      "Q_TTSEM_NOMBRE:Mon extraction de trois phrases maximum pertinentes qui répondent à la question :\n",
      "\n",
      "* \"Le télétravail régulier peut être à temps plein ou à temps partiel et suppose la conclusion d’un avenant au contrat de travail, pour une durée déterminée qui ne peut être supérieure à 1 an.\"\n",
      "* \"Les jours de télétravail régulier et occasionnel ne se cumulent pas au cours d’un même mois.\"\n",
      "* \"Le télétravail mis en place pour des raisons thérapeutiques tel que préconisé par le médecin du travail sera assimilé au télétravail régulier et fera l’objet d’un avenant au contrat de travail.\"\n",
      "\n",
      "Ma réponse :\n",
      "nombrejourdeteletravailmaxparsemaine=1\n",
      "\n",
      "Mon raisonnement :\n",
      "Le document indique que le télétravail régulier peut être à temps plein ou à temps partiel et suppose la conclusion d’un avenant au contrat de travail, pour une durée déterminée qui ne peut être supérieure à 1 an. Cependant, il n’y a pas d’indication explicite du nombre maximal de jours de télétravail par semaine. Cependant, il est mentionné que les jours de télétravail régulier et occasionnel ne se cumulent pas au cours d’un même mois. Donc, on peut en déduire que le nombre maximal de jours de télétravail par semaine est de 1. De plus, il est mentionné que le télétravail mis en place pour des raisons thérapeutiques sera assimilé au télétravail régulier et fera l’objet d’un avenant au contrat de travail, mais cela ne change rien au fait que le nombre maximal de jours de télétravail par semaine est de 1.\n",
      "\n",
      "69 T04421009405\n"
     ]
    },
    {
     "name": "stderr",
     "output_type": "stream",
     "text": [
      "Setting `pad_token_id` to `eos_token_id`:2 for open-end generation.\n"
     ]
    },
    {
     "name": "stdout",
     "output_type": "stream",
     "text": [
      "Q_TTSEM_NOMBRE:Mon extraction de trois phrases maximum pertinentes qui répondent à la question :\n",
      "\n",
      "* \"Le rythme de télétravail accordé devra permettre minimum 3 jours de présentiel sur site par semaine pour les salariés à temps plein et à temps partiel.\"\n",
      "* \"Le nombre de jours de télétravail est plafonné à 6 jours par mois.\"\n",
      "* \"Il appartient au manager de définir, avec le salarié, le nombre de jours accordés ainsi que l’emplacement de ce jour (jour fixe ou souplesse dans sa fixation)\"\n",
      "\n",
      "Ma réponse :\n",
      "nombrejourdeteletravailmaxparsemaine=1\n",
      "\n",
      "Mon raisonnement :\n",
      "Le document indique que le rythme de télétravail doit permettre un minimum de 3 jours de présentiel sur site par semaine, ce qui implique que le maximum de jours de télétravail par semaine est de 2. Cependant, le document indique également que le nombre de jours de télétravail est plafonné à 6 jours par mois, ce qui correspond à une moyenne de 1,5 jour par semaine sur un mois de 4 semaines. Compte tenu de ces éléments, je déduis que le maximum de jours de télétravail par semaine est de 1 jour.\n",
      "\n",
      "70 T00321001449\n"
     ]
    },
    {
     "name": "stderr",
     "output_type": "stream",
     "text": [
      "Setting `pad_token_id` to `eos_token_id`:2 for open-end generation.\n"
     ]
    },
    {
     "name": "stdout",
     "output_type": "stream",
     "text": [
      "Q_TTSEM_NOMBRE:Mon extraction de trois phrases maximum pertinentes qui répondent à la question :\n",
      "\n",
      "* Article 3 – Règles de maintien du télétravail : « L’employeur accorde un jour de télétravail par semaine sur la base du volontariat. »\n",
      "\n",
      "Ma réponse :\n",
      "nombrejourdeteletravailmaxparsemaine=1\n",
      "\n",
      "Mon raisonnement :\n",
      "Dans l'article 3, il est stipulé que l'employeur accorde un jour de télétravail par semaine sur la base du volontariat. Par conséquent, un employé peut télétravailler régulièrement un jour par semaine.\n",
      "\n",
      "71 T59V21001419\n"
     ]
    },
    {
     "name": "stderr",
     "output_type": "stream",
     "text": [
      "Setting `pad_token_id` to `eos_token_id`:2 for open-end generation.\n"
     ]
    },
    {
     "name": "stdout",
     "output_type": "stream",
     "text": [
      "Q_TTSEM_NOMBRE:Mon extraction de trois phrases maximum pertinentes qui répondent à la question :\n",
      "\n",
      "* \"Les journées de télétravail seront à prendre par journées entières exclusivement.\"\n",
      "* \"Le salarié et le manager veilleront à assurer un contact lors des journées de télétravail.\"\n",
      "* \"Une communication préalable relative aux informations nécessaires à l'exécution de ses missions lors des journées de télétravail sera fournie par le manager au salarié.\"\n",
      "\n",
      "Ma réponse :\n",
      "nombrejourdeteletravailmaxparsemaine=1\n",
      "\n",
      "Mon raisonnement :\n",
      "Le document indique que les journées de télétravail doivent être prises par journées entières exclusivement et que le salarié et le manager doivent assurer un contact lors des journées de télétravail. De plus, une communication préalable relative aux informations nécessaires à l'exécution de ses missions lors des journées de télétravail sera fournie par le manager au salarié. Cependant, aucune indication n'est donnée sur le nombre maximal de jours de télétravail par semaine. En l'absence d'autres informations, je suppose que le nombre maximal de jours de télétravail par semaine est de 1 jour.\n",
      "\n",
      "72 T07521028253\n"
     ]
    },
    {
     "name": "stderr",
     "output_type": "stream",
     "text": [
      "Setting `pad_token_id` to `eos_token_id`:2 for open-end generation.\n"
     ]
    },
    {
     "name": "stdout",
     "output_type": "stream",
     "text": [
      "Q_TTSEM_NOMBRE:Extraction de phrases pertinentes :\n",
      "- \"Afin de maintenir le lien social, la cohésion et le bon fonctionnement des équipes, la direction demande que le salarié télétravailleur dispose d'au moins 3 jours de présence par semaine dans l'entreprise.\"\n",
      "- \"Dans le respect de ce principe, les salariés peuvent demander à organiser leur rythme de télétravail en déterminant – au maximum – deux journées télétravaillées chaque semaine en moyenne.\"\n",
      "\n",
      "Ma réponse :\n",
      "nombrejourdeteletravailmaxparsemaine=2\n",
      "\n",
      "Mon raisonnement :\n",
      "J'ai trouvé deux phrases pertinentes qui indiquent que les salariés doivent être présents au moins 3 jours par semaine dans l'entreprise, ce qui signifie qu'ils peuvent télétravailler jusqu'à 2 jours par semaine.\n",
      "\n",
      "73 T05121003407\n"
     ]
    },
    {
     "name": "stderr",
     "output_type": "stream",
     "text": [
      "Setting `pad_token_id` to `eos_token_id`:2 for open-end generation.\n"
     ]
    },
    {
     "name": "stdout",
     "output_type": "stream",
     "text": [
      "Q_TTSEM_NOMBRE:Extraction de phrases pertinentes :\n",
      "\n",
      "* \"Les jours télé-travaillés ne peuvent être supérieurs à 4 jours par semaine\"\n",
      "\n",
      "Ma réponse :\n",
      "nombrejourdeteletravailmaxparsemaine=4\n",
      "\n",
      "Mon raisonnement :\n",
      "La phrase extraite précise que le nombre maximal de jours de télétravail par semaine est de 4 jours.\n",
      "\n",
      "74 T01321010151\n"
     ]
    },
    {
     "name": "stderr",
     "output_type": "stream",
     "text": [
      "Setting `pad_token_id` to `eos_token_id`:2 for open-end generation.\n"
     ]
    },
    {
     "name": "stdout",
     "output_type": "stream",
     "text": [
      "Q_TTSEM_NOMBRE:\n",
      "Mon extraction de trois phrases maximum pertinentes qui répondent à la question :\n",
      "\n",
      "* \"Chaque salarié éligible au télétravail pourra en bénéficier dans la limite d’un jour par semaine.\"\n",
      "* \"Le jour de télétravail sera déterminé par la direction après recueil des desiderata du salarié.\"\n",
      "* \"En tout état de cause, le choix du jour de télétravail sera effectué dans le respect de la limite de télétravailleurs simultanément absents définie au présent accord.\"\n",
      "\n",
      "Ma réponse :\n",
      "nombrejourdeteletravailmaxparsemaine=1\n",
      "\n",
      "Mon raisonnement :\n",
      "Le document indique clairement que chaque salarié éligible au télétravail pourra en bénéficier dans la limite d’un jour par semaine. Cette information est confirmée par la phrase indiquant que le jour de télétravail sera déterminé par la direction après recueil des desiderata du salarié, dans le respect de la limite de télétravailleurs simultanément absents définie au présent accord.\n",
      "\n",
      "75 T09221026340\n"
     ]
    },
    {
     "name": "stderr",
     "output_type": "stream",
     "text": [
      "Setting `pad_token_id` to `eos_token_id`:2 for open-end generation.\n"
     ]
    },
    {
     "name": "stdout",
     "output_type": "stream",
     "text": [
      "Q_TTSEM_NOMBRE:\n",
      "Mon extraction de trois phrases maximum pertinentes qui répondent à la question :\n",
      "\n",
      "* \"Le télétravail pour le salarié à temps complet ou titulaire d’un forfait annuel 218 jours ne pourra être exercé que pour un maximum de 13 jours (soit 26 demi-journées) par trimestre civil dans la limite de 1 jour (soit 2 demi-journées) par semaine de 5 jours travaillés, non reportables, soit une enveloppe de 52 jours (soit 104 demi-journées) par année civile.\"\n",
      "* \"Un maximum de 2 jours par semaine, et de 2 demi-journées pouvant être cumulées sur une même journée au cours de la même semaine.\"\n",
      "* \"Les salariés devront être présents au minimum 2 jours par semaine sur leur lieu de travail habituel.\"\n",
      "\n",
      "Ma réponse :\n",
      "nombrejourdeteletravailmaxparsemaine=1\n",
      "\n",
      "Mon raisonnement :\n",
      "Le premier paragraphe indique que le télétravail est limité à 1 jour par semaine de 5 jours travaillés, non reportable. Le deuxième paragraphe indique que le télétravail peut aller jusqu'à 2 jours par semaine, avec une possibilité de cumuler 2 demi-journées sur une même journée, ce qui revient à 3 jours de télétravail par semaine. Le troisième paragraphe indique que les salariés doivent être présents au minimum 2 jours par semaine sur leur lieu de travail habituel, ce qui implique que le télétravail ne peut excéder 3 jours par semaine. Par conséquent, le nombre maximal de jours de télétravail par semaine est de 1 jour.\n",
      "\n",
      "76 T97421003113\n"
     ]
    },
    {
     "name": "stderr",
     "output_type": "stream",
     "text": [
      "Setting `pad_token_id` to `eos_token_id`:2 for open-end generation.\n"
     ]
    },
    {
     "name": "stdout",
     "output_type": "stream",
     "text": [
      "Q_TTSEM_NOMBRE:Extraction de trois phrases maximum pertinentes qui répondent à la question :\n",
      "\n",
      "* \"Le télétravail s’exercera à raison d’un jour non fractionnable par semaine\"\n",
      "* \"Il définira ces deux jours fixes hebdomadaires de la façon la plus durable possible.\"\n",
      "* \"Il revient au manager de partager un planning d’équipe permettant de visualiser les jours de travail en présentiel et à distance de chacun des collaborateurs.\"\n",
      "\n",
      "Ma réponse :\n",
      "nombrejourdeteletravailmaxparsemaine=1\n",
      "\n",
      "Mon raisonnement :\n",
      "Le document indique que \"Le télétravail s’exercera à raison d’un jour non fractionnable par semaine\". Cette indication est confirmée par la phrase \"Il définira ces deux jours fixes hebdomadaires de la façon la plus durable possible.\" qui indique que les deux jours de présence sur site sont fixes et donc que le télétravail ne peut excéder un jour par semaine.\n",
      "\n",
      "77 T02921004425\n"
     ]
    },
    {
     "name": "stderr",
     "output_type": "stream",
     "text": [
      "Setting `pad_token_id` to `eos_token_id`:2 for open-end generation.\n"
     ]
    },
    {
     "name": "stdout",
     "output_type": "stream",
     "text": [
      "Q_TTSEM_NOMBRE:Mon extraction de trois phrases maximum pertinentes qui répondent à la question :\n",
      "\n",
      "* \"Une procédure spécifique est défini dans l’accord de télétravail, pour rappel Les personnes éligibles au télétravail et souhaitant bénéficier de ce dispositif doit faire une demande à son manager.\"\n",
      "* \"Un avenant au contrat de travail est ensuite établit pour formaliser le fonctionnement du télétravail et le nombre de jours par mois de télétravail\"\n",
      "* \"Le nombre de journée de travail est de 4 par mois mais non consécutives\"\n",
      "\n",
      "Ma réponse :\n",
      "nombrejourdeteletravailmaxparsemaine=1\n",
      "\n",
      "Mon raisonnement :\n",
      "Le document indique que le nombre de journée de travail est de 4 par mois mais non consécutives. Comme il n'y a pas de mention de la notion de semaine, je ne peux pas déterminer si cela correspond à un jour par semaine ou non. Cependant, comme la question demande le nombre maximal de jours de télétravail par semaine, je dois supposer que la réponse est 1 jour par semaine.\n",
      "\n",
      "78 T01121001341\n"
     ]
    },
    {
     "name": "stderr",
     "output_type": "stream",
     "text": [
      "Setting `pad_token_id` to `eos_token_id`:2 for open-end generation.\n"
     ]
    },
    {
     "name": "stdout",
     "output_type": "stream",
     "text": [
      "Q_TTSEM_NOMBRE:Extraction de phrases pertinentes :\n",
      "\n",
      "* \"Le présent accord vise à proroger les dispositions de l'accord d'entreprise du 3 septembre 2020 jusqu'à l’entrée en vigueur d'un nouvel accord d'entreprise encadrant le télétravail et au plus tard jusqu'au 31 mars 2022, sous réserve, pour l'année 2022, des disponibilités budgétaires.\"\n",
      "* \"L'article 3 de l'accord du 3 septembre 2020 prévoit que le télétravail est mis en place sur la base du volontariat des salariés et dans la limite de 2 jours par semaine.\"\n",
      "\n",
      "Ma réponse :\n",
      "nombrejourdeteletravailmaxparsemaine=2\n",
      "\n",
      "Mon raisonnement :\n",
      "Dans le premier extrait, il est mentionné que le présent accord proroge les dispositions de l'accord d'entreprise du 3 septembre 2020. Dans le deuxième extrait, il est spécifié que l'article 3 de cet accord prévoit que le télétravail est mis en place sur la base du volontariat des salariés et dans la limite de 2 jours par semaine. Par conséquent, le nombre maximal de jours de télétravail par semaine est de 2.\n",
      "\n",
      "79 T09221027244\n"
     ]
    },
    {
     "name": "stderr",
     "output_type": "stream",
     "text": [
      "Setting `pad_token_id` to `eos_token_id`:2 for open-end generation.\n"
     ]
    },
    {
     "name": "stdout",
     "output_type": "stream",
     "text": [
      "Q_TTSEM_NOMBRE:Mon extraction de trois phrases maximum pertinentes qui répondent à la question :\n",
      "\n",
      "* \"Le nombre de jours de télétravail est fixé à 1 par semaine pour tous.\" (Article 2.1.1)\n",
      "* \"Le salarié doit remplir les conditions cumulatives suivantes : [...] Etre autonome dans son poste. L’autonomie du salarié peut être appréciée par sa capacité à travailler seul, à être à l’aise avec les outils informatiques pour solliciter tous les contacts en cas de besoin et ne nécessitant pas de proximité managériale continue.\" (Article 2.1.2)\n",
      "* \"Le télétravail pourra notamment être interrompu [...] En cas de modification substantielle intervenue dans l’organisation du service ou des circonstances particulières liées à l’activité du secteur/service ou équipe de l’entreprise nécessitant le retour immédiat du salarié dans les locaux de l’entreprise\" (Article 3.4.2)\n",
      "\n",
      "Ma réponse :\n",
      "nombrejourdeteletravailmaxparsemaine=1\n",
      "\n",
      "Mon raisonnement :\n",
      "Le nombre de jours de télétravail est fixé à 1 par semaine pour tous les salariés éligibles. Cette information est explicitement mentionnée dans l'article 2.1.1. De plus, il n'y a aucune mention de jours de télétravail supérieurs à 1 par semaine dans les autres articles pertinents.\n",
      "\n",
      "80 T07521030172\n"
     ]
    },
    {
     "name": "stderr",
     "output_type": "stream",
     "text": [
      "Setting `pad_token_id` to `eos_token_id`:2 for open-end generation.\n"
     ]
    },
    {
     "name": "stdout",
     "output_type": "stream",
     "text": [
      "Q_TTSEM_NOMBRE:Extraction de phrases pertinentes :\n",
      "\n",
      "* \"L’accord sur le télétravail au domicile au sein de BNP Paribas Securities Services du 12 octobre 2016, modifié par avenants du 3 juillet 2018, du 30 septembre 2019 et du 27 octobre 2020 est prorogé pour une période de trois mois, soit jusqu’au 30 juin 2021.\"\n",
      "* \"Les autres dispositions de l’accord prorogé demeurent inchangées.\"\n",
      "\n",
      "Réponse :\n",
      "nombrejourdeteletravailmaxparsemaine=1\n",
      "\n",
      "Raisonnement :\n",
      "Dans le document fourni, il est indiqué que l'accord sur le télétravail est prorogé pour une période de trois mois, sans modification des autres dispositions de l'accord. Or, dans les autres dispositions inchangées de l'accord, il est stipulé que le télétravail ne peut être exercé que pour un maximum de 1 jour par semaine de 5 jours travaillés, non reportable. Donc, un employé peut télétravailler régulièrement jusqu'à 1 jour par semaine.\n",
      "\n",
      "81 T09221025188\n"
     ]
    },
    {
     "name": "stderr",
     "output_type": "stream",
     "text": [
      "Setting `pad_token_id` to `eos_token_id`:2 for open-end generation.\n"
     ]
    },
    {
     "name": "stdout",
     "output_type": "stream",
     "text": [
      "Q_TTSEM_NOMBRE:Extraction de trois phrases maximum pertinentes qui répondent à la question :\n",
      "\n",
      "* \"Les salariés éligibles ont la possibilité de bénéficier du télétravail sous réserve de respecter un temps de présence minimum sur site de 170 jours par an et par salariés.\"\n",
      "* \"La planification des journées de télétravail sera effectuée par le salarié et le manager d’un commun accord de la manière suivante : La demande de télétravail doit se faire via le logiciel ….avec un délai de prévenance de 5 jours ouvrés\"\n",
      "* \"Le salarié ne pourra pas prendre plus de 3 jours consécutifs de télétravail et les journées de télétravail devront être prises par journée entière\"\n",
      "\n",
      "Ma réponse :\n",
      "nombrejourdeteletravailmaxparsemaine=3\n",
      "\n",
      "Mon raisonnement :\n",
      "Le document indique que les salariés éligibles ont la possibilité de bénéficier du télétravail sous réserve de respecter un temps de présence minimum sur site de 170 jours par an et par salariés. En prenant en compte les jours de présence obligatoire sur site, cela implique que le nombre maximum de jours de télétravail par semaine est de 2 (car 170 jours sur site / 52 semaines = 3.27 jours sur site par semaine, donc 2 jours de télétravail par semaine). Cependant, le document précise également que le salarié ne peut pas prendre plus de 3 jours consécutifs de télétravail et que les journées de télétravail doivent être prises par journée entière. Par conséquent, le nombre maximum de jours de télétravail par semaine est de 3.\n",
      "\n",
      "82 T09221025957\n"
     ]
    },
    {
     "name": "stderr",
     "output_type": "stream",
     "text": [
      "Setting `pad_token_id` to `eos_token_id`:2 for open-end generation.\n"
     ]
    },
    {
     "name": "stdout",
     "output_type": "stream",
     "text": [
      "Q_TTSEM_NOMBRE:Extraction de phrases pertinentes :\n",
      "\n",
      "* \"Le présent accord est renouvelé pour une durée de (3) trois mois, soit jusqu’au 31 mai 2021.\"\n",
      "* \"Il cessera de produire définitivement et irrévocablement ses effets à la date du 31 mai 2021.\"\n",
      "\n",
      "Ma réponse :\n",
      "nombrejourdeteletravailmaxparsemaine=0\n",
      "\n",
      "Mon raisonnement :\n",
      "Après avoir examiné attentivement le document fourni, je n'ai trouvé aucune mention explicite du nombre de jours de télétravail autorisés par semaine. Par conséquent, je ne peux pas fournir de réponse autre que zéro. De plus, il n'y a aucune indication de jours de présence obligatoires sur site dans le texte.\n",
      "\n",
      "83 T03321006914\n"
     ]
    },
    {
     "name": "stderr",
     "output_type": "stream",
     "text": [
      "Setting `pad_token_id` to `eos_token_id`:2 for open-end generation.\n"
     ]
    },
    {
     "name": "stdout",
     "output_type": "stream",
     "text": [
      "Q_TTSEM_NOMBRE:\n",
      "Extraction de trois phrases pertinentes :\n",
      "\n",
      "* \"Afin de maintenir le lien social avec l’entreprise et au sein de l’équipe, mais également de faciliter l’organisation des temps de travail collectif, l’activité exercée en télétravail ne pourra en principe excéder une journée complète et fixe par semaine pour un salarié présent à temps plein.\"\n",
      "* \"Lorsque l’activité le nécessite et à titre exceptionnel, le Salarié pourra être amené à renoncer à sa journée de télétravail de sa propre initiative ou de celle de la Direction. Si tel était le cas, un délai de prévenance de SEPT (7) jours devra être respecté pour informer l’autre partie.\"\n",
      "* \"Dans des situations particulières tenant au salarié ou au poste de travail, l’activité exercée en télétravail pourra être aménagée sur plus d’un jour par semaine,\"\n",
      "\n",
      "Ma réponse :\n",
      "nombrejourdeteletravailmaxparsemaine=1\n",
      "\n",
      "Mon raisonnement :\n",
      "Le document indique qu'un salarié peut télétravailler une journée complète et fixe par semaine pour un salarié présent à temps plein. Cependant, il est mentionné que dans des situations particulières, l'activité exercée en télétravail pourra être aménagée sur plus d'un jour par semaine. Mais il n'y a pas de chiffre précis associé à cette phrase, donc je ne peux pas en tenir compte pour répondre à la question. De plus, il est mentionné que le salarié peut renoncer à sa journée de télétravail de sa propre initiative ou de celle de la direction avec un délai de prévenance de sept jours. Cela ne nous aide pas non plus à répondre à la question. Par conséquent, je ne peux conclure qu'un salarié peut télétravailler un jour par semaine.\n",
      "\n",
      "84 T05721004854\n"
     ]
    },
    {
     "name": "stderr",
     "output_type": "stream",
     "text": [
      "Setting `pad_token_id` to `eos_token_id`:2 for open-end generation.\n"
     ]
    },
    {
     "name": "stdout",
     "output_type": "stream",
     "text": [
      "Q_TTSEM_NOMBRE:\n",
      "Mon extraction de trois phrases maximum pertinentes qui répondent à la question :\n",
      "\n",
      "* \"Le télétravail flexible est limité de sorte que le salarié soit présent dans la société au moins 4 jours par semaine (du lundi au vendredi).\"\n",
      "* \"Le salarié dispose d’un volume de 18 jours de télétravail par an (du 1er janvier au 31 décembre) qu’il pourra mobiliser en journée entière ou demi-journée.\"\n",
      "* \"Lorsque le télétravail est mis en place sur une base régulière, le salarié doit être présent sur site un jour par semaine au minimum.\"\n",
      "\n",
      "Ma réponse :\n",
      "nombrejourdeteletravailmaxparsemaine=1\n",
      "\n",
      "Mon raisonnement :\n",
      "Le document indique que le salarié doit être présent sur site au moins 4 jours par semaine, ce qui signifie qu'il ne peut télétravailler plus de 1 jour par semaine. Cette information est confirmée par une autre phrase qui indique que le salarié doit être présent sur site un jour par semaine au minimum. Enfin, le document indique que le salarié dispose de 18 jours de télétravail par an, ce qui correspond à 1 jour par semaine sur une année complète.\n",
      "\n",
      "85 T09121006419\n"
     ]
    },
    {
     "name": "stderr",
     "output_type": "stream",
     "text": [
      "Setting `pad_token_id` to `eos_token_id`:2 for open-end generation.\n"
     ]
    },
    {
     "name": "stdout",
     "output_type": "stream",
     "text": [
      "Q_TTSEM_NOMBRE:Extraction de phrases pertinentes :\n",
      "- \"Les parties fixent le nombre de jour de télétravail à deux jours maximum par semaine.\"\n",
      "- \"Chaque responsable de service transmettra à la Directrice des Ressources Humaines un planning mensuel. Ce planning pourra être modifié dans des délais raisonnables.\"\n",
      "\n",
      "Ma réponse :\n",
      "nombrejourdeteletravailmaxparsemaine=2\n",
      "\n",
      "Mon raisonnement :\n",
      "Le document stipule clairement que le nombre de jours de télétravail autorisé est de deux jours maximum par semaine.\n",
      "\n",
      "86 T05121003353\n"
     ]
    },
    {
     "name": "stderr",
     "output_type": "stream",
     "text": [
      "Setting `pad_token_id` to `eos_token_id`:2 for open-end generation.\n"
     ]
    },
    {
     "name": "stdout",
     "output_type": "stream",
     "text": [
      "Q_TTSEM_NOMBRE:Mon extraction de trois phrases maximum pertinentes qui répondent à la question :\n",
      "\n",
      "* \"Le nombre de salarié en télétravail un jour donné ne dépasse pas 50% de l’effectif du service concerné.\"\n",
      "* \"Le refus par le salarié ne peut être pas un motif de rupture du contrat de travail ou de sanction\"\n",
      "* \"Dans ces situations exceptionnelles, le passage en télétravail s’effectuera par simple instruction de la Direction, sans qu’il soit nécessaire de recourir à la signature d’un avenant spécifique.\"\n",
      "\n",
      "Ma réponse :\n",
      "nombrejourdeteletravailmaxparsemaine=0\n",
      "\n",
      "Mon raisonnement :\n",
      "Après avoir lu attentivement les extraits fournis, je n'ai trouvé aucune indication précise et explicite sur le nombre maximal de jours de télétravail autorisés par semaine dans un cadre régulier. Par conséquent, je dois fixer la variable 'nombrejourdeteletravailmaxparsemaine' à 0.\n",
      "\n",
      "87 T02921004527\n"
     ]
    },
    {
     "name": "stderr",
     "output_type": "stream",
     "text": [
      "Setting `pad_token_id` to `eos_token_id`:2 for open-end generation.\n"
     ]
    },
    {
     "name": "stdout",
     "output_type": "stream",
     "text": [
      "Q_TTSEM_NOMBRE:\n",
      "Mon extraction de trois phrases maximum pertinentes qui répondent à la question :\n",
      "\n",
      "* \"Le salarié peut télétravailler au maximum 2 jours par semaine.\" (Article V – Organisation du télétravail)\n",
      "\n",
      "Ma réponse :\n",
      "nombrejourdeteletravailmaxparsemaine=2\n",
      "\n",
      "Mon raisonnement :\n",
      "Le document stipule clairement que le salarié peut télétravailler jusqu'à 2 jours par semaine, ce qui correspond à la variable demandée.\n",
      "\n",
      "88 T04221004677\n"
     ]
    },
    {
     "name": "stderr",
     "output_type": "stream",
     "text": [
      "Setting `pad_token_id` to `eos_token_id`:2 for open-end generation.\n"
     ]
    },
    {
     "name": "stdout",
     "output_type": "stream",
     "text": [
      "Q_TTSEM_NOMBRE:\n",
      "Mon extraction de trois phrases maximum pertinentes qui répondent à la question :\n",
      "\n",
      "* \"Le salarié doit être au minimum 2 jours par semaine en présentiel au bureau (soit 1 à 3 jours de télétravail par semaine)\"\n",
      "* \"Dans le cas du modèle hebdomadaire, dans le cas où le jour de télétravail habituel est férié, le salarié n’a pas droit à un autre jour de télétravail sur la même semaine.\"\n",
      "* \"Le télétravail s’effectue au domicile déclaré du salarié ou dans un lieu dont l’adresse a été communiquée au préalable à la Direction des Ressources Humaines, dans un environnement propre au travail et à la concentration.\"\n",
      "\n",
      "Ma réponse :\n",
      "nombrejourdeteletravailmaxparsemaine=3\n",
      "\n",
      "Mon raisonnement :\n",
      "Le premier extrait indique que le salarié doit être présent au minimum 2 jours par semaine sur son lieu de travail, ce qui implique qu'il peut télétravailler jusqu'à 3 jours par semaine. Ce point est confirmé par le troisième extrait qui indique que le télétravail s'effectue dans un environnement adapté au travail, ce qui inclut la possibilité de travailler depuis son domicile. Enfin, le deuxième extrait indique que si le jour de télétravail habituel est férié, le salarié n'a pas droit à un autre jour de télétravail sur la même semaine, ce qui confirme que le nombre maximal de jours de télétravail par semaine est de 3.\n",
      "\n",
      "89 T01421004104\n"
     ]
    },
    {
     "name": "stderr",
     "output_type": "stream",
     "text": [
      "Setting `pad_token_id` to `eos_token_id`:2 for open-end generation.\n"
     ]
    },
    {
     "name": "stdout",
     "output_type": "stream",
     "text": [
      "Q_TTSEM_NOMBRE:Mon extraction de trois phrases maximum pertinentes qui répondent à la question :\n",
      "\n",
      "* \"Le télétravail est un mode d’organisation de l’entreprise qui participe activement à la démarche de prévention du risque d’infection au SARS-CoV-2 et permet de limiter les interactions sociales aux abords des lieux de travail et sur les trajets domicile travail\"\n",
      "* \"il doit être la règle pour l’ensemble des activités qui le permettent\"\n",
      "* \"l’accord relatif à la mise en place du télétravail en période d’épidémie Covid-19 soient prolongées d’une période de quatre mois.\"\n",
      "\n",
      "Ma réponse :\n",
      "nombrejourdeteletravailmaxparsemaine=0\n",
      "\n",
      "Mon raisonnement :\n",
      "Après avoir lu attentivement les extraits fournis, je n'ai trouvé aucune indication spécifique sur le nombre de jours de télétravail autorisés par semaine. Les phrases mentionnées concernent plutôt les avantages généraux du télétravail et la prolongation de l'accord existant. Par conséquent, je ne peux pas fournir de réponse quant au nombre maximal de jours de télétravail possibles par semaine.\n",
      "\n",
      "90 T07421004072\n"
     ]
    },
    {
     "name": "stderr",
     "output_type": "stream",
     "text": [
      "Setting `pad_token_id` to `eos_token_id`:2 for open-end generation.\n",
      "Created a chunk of size 5508, which is longer than the specified 5000\n",
      "Created a chunk of size 5679, which is longer than the specified 5000\n",
      "Created a chunk of size 7755, which is longer than the specified 5000\n"
     ]
    },
    {
     "name": "stdout",
     "output_type": "stream",
     "text": [
      "Q_TTSEM_NOMBRE:Extraction de phrases pertinentes :\n",
      "- \"La mise en place du télétravail pour un salarié ne peut avoir pour conséquence que ce dernier se rende sur site moins de trois fois par semaine.\"\n",
      "- \"Le télétravail pourra s’effectuer sur une demi-journée au minimum et au maximum 1 journée par semaine\"\n",
      "\n",
      "Ma réponse :\n",
      "nombrejourdeteletravailmaxparsemaine=1\n",
      "\n",
      "Mon raisonnement :\n",
      "J'ai trouvé deux passages qui indiquent que le télétravail peut être exercé jusqu'à une journée par semaine. Je n'ai pas trouvé d'autres mentions de la fréquence de télétravail hebdomadaire, donc je conclus que le maximum de télétravail régulier par semaine est de 1 jour.\n",
      "\n",
      "91 T01421004303\n"
     ]
    },
    {
     "name": "stderr",
     "output_type": "stream",
     "text": [
      "Setting `pad_token_id` to `eos_token_id`:2 for open-end generation.\n"
     ]
    },
    {
     "name": "stdout",
     "output_type": "stream",
     "text": [
      "Q_TTSEM_NOMBRE:\n",
      "* Extraction de phrases pertinentes :\n",
      "\t1. \"Le télétravail pourra être exercé trois jours par semaine maximum.\"\n",
      "\t2. \"Le nombre et la répartition des jours travaillés dans les locaux de l’association et au domicile du salarié est déterminée entre le manager et son salarié.\"\n",
      "* Ma réponse :\n",
      "\tnombrejourdeteletravailmaxparsemaine=3\n",
      "\tnombrejoursursiteparsemaine=0\n",
      "* Mon raisonnement :\n",
      "\tJe me base sur la phrase \"Le télétravail pourra être exercé trois jours par semaine maximum.\" pour déterminer que le nombre maximal de jours de télétravail par semaine est de 3. Dans le contexte fourni, il n'y a pas d'autres informations concernant des jours de présence obligatoire sur site, donc je réponds également nombrejoursursiteparsemaine=0.\n",
      "\n",
      "92 T07321002999\n"
     ]
    },
    {
     "name": "stderr",
     "output_type": "stream",
     "text": [
      "Setting `pad_token_id` to `eos_token_id`:2 for open-end generation.\n"
     ]
    },
    {
     "name": "stdout",
     "output_type": "stream",
     "text": [
      "Q_TTSEM_NOMBRE:Extraction de phrases pertinentes :\n",
      "- \"Compte tenu de l’importance du maintien du lien avec la communauté de travail, les salariés devront être présents a minima 3 jours par semaine dans les locaux\"\n",
      "- \"et le télétravail ne pourra se faire que dans la limite d’1 jour par semaine, avec possibilité de télétravail par demi-journée.\"\n",
      "\n",
      "Ma réponse :\n",
      "nombrejourdeteletravailmaxparsemaine=1\n",
      "\n",
      "Mon raisonnement :\n",
      "Le texte indique que les salariés doivent être présents au moins 3 jours par semaine sur leur lieu de travail et que le télétravail ne peut se faire que dans la limite de 1 jour par semaine. Par conséquent, le nombre maximal de jours de télétravail par semaine est de 1.\n",
      "\n",
      "93 T09321006658\n"
     ]
    },
    {
     "name": "stderr",
     "output_type": "stream",
     "text": [
      "Setting `pad_token_id` to `eos_token_id`:2 for open-end generation.\n"
     ]
    },
    {
     "name": "stdout",
     "output_type": "stream",
     "text": [
      "Q_TTSEM_NOMBRE:Mon extraction de trois phrases maximum pertinentes qui répondent à la question :\n",
      "\n",
      "* \"Pour maintenir le lien social avec la communauté de travail, le présent accord prévoit jusqu’à deux jours de télétravail par semaine pour une semaine de travail « standard » (avec cinq jours ouvrés)\"\n",
      "\n",
      "Ma réponse :\n",
      "nombrejourdeteletravailmaxparsemaine=2\n",
      "\n",
      "Mon raisonnement :\n",
      "Le document indique qu'il est possible de télétravailler jusqu'à deux jours par semaine.\n",
      "\n",
      "94 T01321011558\n"
     ]
    },
    {
     "name": "stderr",
     "output_type": "stream",
     "text": [
      "Setting `pad_token_id` to `eos_token_id`:2 for open-end generation.\n"
     ]
    },
    {
     "name": "stdout",
     "output_type": "stream",
     "text": [
      "Q_TTSEM_NOMBRE:\n",
      "Extraction de phrases pertinentes :\n",
      "- \"Les jours de télétravail seront fixés selon les modalités suivantes : 1 jour par semaine.\" (Article 10)\n",
      "\n",
      "Ma réponse :\n",
      "nombrejourdeteletravailmaxparsemaine=1\n",
      "\n",
      "Mon raisonnement :\n",
      "Le document contient une phrase claire et explicite indiquant que le nombre de jours de télétravail autorisé par semaine est de 1.\n",
      "\n",
      "95 T03121008748\n"
     ]
    },
    {
     "name": "stderr",
     "output_type": "stream",
     "text": [
      "Setting `pad_token_id` to `eos_token_id`:2 for open-end generation.\n"
     ]
    },
    {
     "name": "stdout",
     "output_type": "stream",
     "text": [
      "Q_TTSEM_NOMBRE:Mon extraction de trois phrases maximum pertinentes qui répondent à la question :\n",
      "\n",
      "* \"Le Salarié pourra effectuer jusqu’à 45 jours de télétravail par année civile. La répartition de ces jours sur l’année civile s’effectuera par journée entière sur la base d’une journée par semaine.\"\n",
      "* \"Par exception, les salariés d’un service spécifique, notamment les personnels rattachés aux bureaux d’études des entreprises AXIANS Fibre Sud-ouest et AXIANS Pylône services France, pourront bénéficier d’une autorisation de télétravail par semaine entière dans la limite de 9 semaines par an (9 semaines x 5 jours/semaine =45 jours).\"\n",
      "* \"Une demande écrite devra être faite par le Salarié, une semaine avant la période de télétravail souhaitée. Cette période sera fixée d’un commun accord entre le Salarié, son responsable hiérarchique et son chef d’entreprise.\"\n",
      "\n",
      "Ma réponse :\n",
      "nombrejourdeteletravailmaxparsemaine=5\n",
      "\n",
      "Mon raisonnement :\n",
      "Le premier paragraphe indique que le salarié peut effectuer jusqu'à 45 jours de télétravail par année civile, avec une répartition d'une journée par semaine. Donc, le nombre maximal de jours de télétravail par semaine est de 5. Le deuxième paragraphe confirme cette information en indiquant que les salariés d'un service spécifique peuvent bénéficier d'une autorisation de télétravail par semaine entière dans la limite de 9 semaines par an, ce qui équivaut à 5 jours par semaine. Le troisième paragraphe confirme que la demande de télétravail doit être faite par écrit une semaine à l'avance, ce qui implique que le salarié ne peut pas dépasser le nombre de jours de télétravail par semaine autorisé.\n",
      "\n",
      "96 T59V21001382\n"
     ]
    },
    {
     "name": "stderr",
     "output_type": "stream",
     "text": [
      "Setting `pad_token_id` to `eos_token_id`:2 for open-end generation.\n"
     ]
    },
    {
     "name": "stdout",
     "output_type": "stream",
     "text": [
      "Q_TTSEM_NOMBRE:Extraction de phrases pertinentes :\n",
      "- \"Définition des postes et des règles du télétravail ainsi que la mise en place d’une prime de consommable\"\n",
      "- \"La prime de télétravail est fixée à 10 euros par mois pour les fonctions permettant le télétravail et calculée au prorata du temps de présence si nécessaire.\"\n",
      "\n",
      "Ma réponse :\n",
      "nombrejourdeteletravailmaxparsemaine=1\n",
      "\n",
      "Mon raisonnement :\n",
      "Le texte indique que la prime de télétravail est fixée à 10 euros par mois et est calculée au prorata du temps de présence si nécessaire. Cela implique qu'un employé ne peut pas télétravailler plus d'un jour par semaine, car une semaine de télétravail complète correspondrait à une prime de 10 euros, et une semaine supplémentaire de télétravail entraînerait une augmentation de la prime. Par conséquent, le nombre maximal de jours de télétravail par semaine est de 1.\n",
      "\n",
      "97 T05721004198\n"
     ]
    },
    {
     "name": "stderr",
     "output_type": "stream",
     "text": [
      "Setting `pad_token_id` to `eos_token_id`:2 for open-end generation.\n"
     ]
    },
    {
     "name": "stdout",
     "output_type": "stream",
     "text": [
      "Q_TTSEM_NOMBRE:\n",
      "Mon extraction de trois phrases maximum pertinentes qui répondent à la question :\n",
      "\n",
      "* \"Le télétravail est limité à 2 jours maximum par semaine\" (Article 3-2)\n",
      "* \"Chaque jour, un membre du service devra être présent afin de préserver les liens entre les différents services.\" (Article 3-2)\n",
      "\n",
      "Ma réponse :\n",
      "nombrejourdeteletravailmaxparsemaine=2\n",
      "\n",
      "Mon raisonnement :\n",
      "Le texte indique clairement que le télétravail est limité à 2 jours maximum par semaine. Cependant, il est également précisé que chaque jour, un membre du service doit être présent sur site. Par conséquent, le nombre maximal de jours de télétravail par semaine est de 2.\n",
      "\n",
      "98 T02921005002\n"
     ]
    },
    {
     "name": "stderr",
     "output_type": "stream",
     "text": [
      "Setting `pad_token_id` to `eos_token_id`:2 for open-end generation.\n"
     ]
    },
    {
     "name": "stdout",
     "output_type": "stream",
     "text": [
      "Q_TTSEM_NOMBRE:Extraction de phrases pertinentes :\n",
      "- \"Le télétravail tel que défini ci-dessus s’organise chez SWM par journée ou par demi-journée, sous réserve de respecter une obligation de 2 jours de présence par semaine minimum sur le site de rattachement habituel.\"\n",
      "- \"Le collaborateur qui souhaite planifier une journée de télétravail envoie sa demande via l’outil de gestion des temps (Horoquartz) à son manager en veillant à respecter un délai de prévenance d’une semaine si possible.\"\n",
      "\n",
      "Ma réponse :\n",
      "nombrejourdeteletravailmaxparsemaine=1\n",
      "\n",
      "Mon raisonnement :\n",
      "Le premier extrait de phrase indique qu'il y a une obligation de 2 jours de présence par semaine minimum sur le site de rattachement habituel, ce qui implique que le nombre maximal de jours de télétravail par semaine est de 1 jour.\n",
      "\n",
      "99 T01321010134\n"
     ]
    },
    {
     "name": "stderr",
     "output_type": "stream",
     "text": [
      "Setting `pad_token_id` to `eos_token_id`:2 for open-end generation.\n"
     ]
    },
    {
     "name": "stdout",
     "output_type": "stream",
     "text": [
      "Q_TTSEM_NOMBRE:Extraction de phrases pertinentes :\n",
      "- \"Le télétravail régulier consiste, sur la base du volontariat, à offrir la possibilité au collaborateur de travailler en dehors des locaux de l’entreprise jusqu’à 3 jours maximum par semaine pour un salarié à temps complet\"\n",
      "- \"Une présence minimum de 2 jours par semaine du salarié dans les locaux de l’entreprise est requise\"\n",
      "\n",
      "Ma réponse :\n",
      "nombrejourdeteletravailmaxparsemaine=3\n",
      "\n",
      "Mon raisonnement :\n",
      "Le document mentionne que le télétravail régulier peut être effectué jusqu'à 3 jours maximum par semaine pour un salarié à temps complet, et qu'une présence minimum de 2 jours par semaine dans les locaux de l'entreprise est requise. Par conséquent, le nombre maximal de jours de télétravail par semaine est de 3.\n",
      "\n",
      "100 T04421010863\n"
     ]
    },
    {
     "name": "stderr",
     "output_type": "stream",
     "text": [
      "Setting `pad_token_id` to `eos_token_id`:2 for open-end generation.\n"
     ]
    },
    {
     "name": "stdout",
     "output_type": "stream",
     "text": [
      "Q_TTSEM_NOMBRE:\n",
      "Extraction de phrases pertinentes :\n",
      "\n",
      "* \"Le travail à distance peut être mis en œuvre lorsque l’aménagement du poste de travail est rendu nécessaire pour permettre la continuité de l’activité de l’entreprise et pour garantir la protection des salariés\"\n",
      "* \"La société versera une allocation forfaitaire des frais liés au travail à distance imposé, d’un montant de 30 euros pour un mois complet de travail à distance. Ce montant sera proratisé en fonction du temps de présence.\"\n",
      "\n",
      "Ma réponse :\n",
      "nombrejourdeteletravailmaxparsemaine=0\n",
      "\n",
      "Mon raisonnement :\n",
      "Après avoir lu attentivement le document fourni, je n'ai pas trouvé de paragraphe contenant le mot-clé \"semaine\" ou une notion de fréquence par semaine concernant le nombre de jours de télétravail autorisé. Par conséquent, je ne peux pas fournir de valeur pour nombrejourdeteletravailmaxparsemaine.\n",
      "\n",
      "101 T02221003288\n"
     ]
    },
    {
     "name": "stderr",
     "output_type": "stream",
     "text": [
      "Setting `pad_token_id` to `eos_token_id`:2 for open-end generation.\n",
      "Created a chunk of size 6497, which is longer than the specified 5000\n"
     ]
    },
    {
     "name": "stdout",
     "output_type": "stream",
     "text": [
      "Q_TTSEM_NOMBRE:Mon extraction de trois phrases maximum pertinentes qui répondent à la question :\n",
      "\n",
      "* \"Le télétravailleur gère l’organisation de son temps de travail dans le cadre de la législation, de la convention collective applicable et des règles applicables au sein de la société.\"\n",
      "* \"Le suivi du temps de travail est assuré de la même manière qu’au sein des locaux de la société. En cas d’impossibilité technique, ce suivi est réalisé par auto-déclaration du télétravailleur.\"\n",
      "* \"Le salarié en télétravail bénéficie d’un entretien annuel avec son responsable hiérarchique portant notamment sur les conditions d’activité et sa charge de travail.\"\n",
      "\n",
      "Ma réponse :\n",
      "nombrejourdeteletravailmaxparsemaine=0\n",
      "\n",
      "Mon raisonnement :\n",
      "Après avoir lu attentivement les extraits fournis, je n'ai pas trouvé de mention explicite du nombre de jours de télétravail autorisés par semaine. Il est mentionné que le télétravailleur gère son temps de travail dans le cadre de la législation et de la convention collective applicable, mais aucune indication précise sur le nombre de jours de télétravail par semaine n'est donnée. De plus, il n'y a aucune mention de jours de présence obligatoire sur site.\n",
      "\n",
      "102 T04421010659\n"
     ]
    },
    {
     "name": "stderr",
     "output_type": "stream",
     "text": [
      "Setting `pad_token_id` to `eos_token_id`:2 for open-end generation.\n"
     ]
    },
    {
     "name": "stdout",
     "output_type": "stream",
     "text": [
      "Q_TTSEM_NOMBRE: * Extraction pertinente du contexte :\n",
      "   1. \"Le planning du salarié bénéficiant du télétravail pourra prévoir soit une journée, soit au maximum deux journées, par semaine en situation de télétravail lorsque le salarié est à temps complet\"\n",
      "   2. \"et une seule journée par semaine en situation de télétravail lorsque que le salarié est à temps partiel avec une durée du travail supérieure ou égale à 80 %.\"\n",
      "   3. \"La planification du ou des deux jours de télétravail se fera sur proposition du salarié et validation de son supérieur hiérarchique. Ce dernier pourra limiter les jours de télétravail à certains jours de la semaine en fonction de l’organisation du service, de la composition de l’équipe, et de l’équité entre les salariés demandant à bénéficier du télétravail.\"\n",
      "* Ma réponse : nombrejourdeteletravailmaxparsemaine=2\n",
      "* Mon raisonnement : Dans le premier paragraphe pertinent, il est indiqué que les salariés à temps complet peuvent télétravailler au maximum deux jours par semaine. Dans le deuxième paragraphe pertinent, il est indiqué que les salariés à temps partiel avec une durée de travail supérieure ou égale à 80% peuvent télétravailler une seule journée par semaine. Comme il n'est pas précisé de limite supérieure pour les salariés à temps partiel, je propose une limite maximale de deux jours de télétravail par semaine pour tous les salariés, quel que soit leur statut.\n",
      "\n",
      "103 T59V21001164\n"
     ]
    },
    {
     "name": "stderr",
     "output_type": "stream",
     "text": [
      "Setting `pad_token_id` to `eos_token_id`:2 for open-end generation.\n"
     ]
    },
    {
     "name": "stdout",
     "output_type": "stream",
     "text": [
      "Q_TTSEM_NOMBRE:\n",
      "Extraction de phrases pertinentes :\n",
      "\n",
      "* \"L’employeur confirme que le télétravail comme mode de travail régulier, n’est pas envisagé par Ecoburotic.\"\n",
      "* \"D’ici la fin de l’année 2021, des outils de communications performants seront installés sur tous les postes le nécessitant (Office 365, Microsoft Teams, Sharepoint…) et les équipes seront formées.\"\n",
      "\n",
      "Ma réponse :\n",
      "nombrejourdeteletravailmaxparsemaine=0\n",
      "\n",
      "Mon raisonnement :\n",
      "Le document mentionne que le télétravail comme mode de travail régulier n'est pas envisagé par l'employeur. Par conséquent, il n'y a pas de limite explicite de jours de télétravail par semaine.\n",
      "\n",
      "104 T01321011808\n"
     ]
    },
    {
     "name": "stderr",
     "output_type": "stream",
     "text": [
      "Setting `pad_token_id` to `eos_token_id`:2 for open-end generation.\n"
     ]
    },
    {
     "name": "stdout",
     "output_type": "stream",
     "text": [
      "Q_TTSEM_NOMBRE:\n",
      "Mon extraction de trois phrases maximum pertinentes qui répondent à la question :\n",
      "\n",
      "* \"Le nombre de jours télétravaillés est limité à deux jours complets par semaine.\" (Article 11)\n",
      "* \"Les jours de télétravail ne sont ni récupérables, ni cumulables.\" (Article 11)\n",
      "* \"Ces jours fixes pourront être modifiés exceptionnellement [...] unilatéralement par le manager moyennant un délai de prévenance de deux jours ouvrés afin notamment de tenir compte des impératifs de service ou du taux d’absence physique des autres membres de l’équipe\" (Article 11)\n",
      "\n",
      "Ma réponse :\n",
      "nombrejourdeteletravailmaxparsemaine=2\n",
      "\n",
      "Mon raisonnement :\n",
      "Le document stipule que le nombre de jours télétravaillés est limité à deux jours complets par semaine, et que ces jours ne sont ni récupérables, ni cumulables. De plus, il est mentionné que les jours fixes pourront être modifiés exceptionnellement par le manager moyennant un délai de prévenance de deux jours ouvrés, ce qui implique que le nombre maximal de jours de télétravail par semaine reste à 2.\n",
      "\n",
      "105 T04521003587\n"
     ]
    },
    {
     "name": "stderr",
     "output_type": "stream",
     "text": [
      "Setting `pad_token_id` to `eos_token_id`:2 for open-end generation.\n"
     ]
    },
    {
     "name": "stdout",
     "output_type": "stream",
     "text": [
      "Q_TTSEM_NOMBRE:\n",
      "Extraction de phrases pertinentes :\n",
      "\n",
      "* \"Le salarié s'engage en particulier à respecter le repos minimal quotidien de 11 heures consécutives et ses deux jours de repos hebdomadaires. Il organise donc impérativement son activité sur cinq jours maximum par semaine.\"\n",
      "* \"L’avenant de mise en place du télétravail précise les plages horaires pendant lesquelles le salarié doit être joignable.\"\n",
      "\n",
      "Ma réponse :\n",
      "nombrejourdeteletravailmaxparsemaine=1\n",
      "\n",
      "Mon raisonnement :\n",
      "Le document indique que le salarié doit respecter un repos minimal quotidien de 11 heures consécutives et deux jours de repos hebdomadaires, ce qui signifie qu'il ne peut travailler que cinq jours maximum par semaine. Or, le télétravail est inclus dans ces cinq jours de travail hebdomadaire. Par ailleurs, le document ne précise pas de plage horaire spécifique pour le télétravail, ce qui signifie que le salarié peut théoriquement télétravailler tous les jours de la semaine, dans la limite de cinq jours. Cependant, le document précise que le salarié doit être joignable pendant certaines plages horaires, ce qui implique que le télétravail ne peut être exercé à toute heure de la journée. Compte tenu de ces éléments, je considère que le salarié peut télétravailler un maximum d'un jour par semaine, sans que cela ne soit explicitement mentionné dans le document.\n",
      "\n",
      "106 T02121003194\n"
     ]
    },
    {
     "name": "stderr",
     "output_type": "stream",
     "text": [
      "Setting `pad_token_id` to `eos_token_id`:2 for open-end generation.\n"
     ]
    },
    {
     "name": "stdout",
     "output_type": "stream",
     "text": [
      "Q_TTSEM_NOMBRE:Mon extraction de trois phrases maximum pertinentes qui répondent à la question :\n",
      "\n",
      "* \"Le nombre de jours télétravaillés ne pourra pas être supérieur à 10 par mois de travail effectif pour les salariés à temps plein et à temps partiel.\"\n",
      "* \"Le télétravail s’organise par jour entier en référence à l’horaire de travail contractuel du salarié.\"\n",
      "* \"La fixation du(des) jour(s) télétravaillé, sera (seront) définie(s) par le manager sur une période de 1 à 12 mois.\"\n",
      "\n",
      "Ma réponse :\n",
      "nombrejourdeteletravailmaxparsemaine=1\n",
      "\n",
      "Mon raisonnement :\n",
      "Le nombre maximal de jours de télétravail par semaine est de 1 jour, car le nombre de jours télétravaillés ne peut pas être supérieur à 10 par mois de travail effectif, et le télétravail s'organise par jour entier en référence à l'horaire de travail contractuel du salarié. La fixation du jour télétravaillé est définie par le manager sur une période de 1 à 12 mois.\n",
      "\n",
      "107 T09321006383\n"
     ]
    },
    {
     "name": "stderr",
     "output_type": "stream",
     "text": [
      "Setting `pad_token_id` to `eos_token_id`:2 for open-end generation.\n"
     ]
    },
    {
     "name": "stdout",
     "output_type": "stream",
     "text": [
      "Q_TTSEM_NOMBRE:Extraction de trois phrases pertinentes :\n",
      "\n",
      "* \"Le travail à distance n'a pas pour conséquence de modifier les horaires habituels de travail définis dans GTA ni la durée du travail telle que précisée dans le contrat de travail.\"\n",
      "* \"Le salarié doit être joignable par l'employeur pendant ses horaires de travail habituels au sein du service.\"\n",
      "* \"Le salarié exercera son activité dans le respect des règles relatives à la durée du travail.\"\n",
      "\n",
      "Ma réponse :\n",
      "nombrejourdeteletravailmaxparsemaine=0\n",
      "\n",
      "Mon raisonnement :\n",
      "Après avoir examiné attentivement les trois phrases pertinentes, je n'ai pas trouvé de mention explicite du nombre de jours de télétravail autorisés par semaine. Par conséquent, je ne peux pas fournir de réponse quant au nombre maximal de jours de télétravail possibles par semaine.\n",
      "\n",
      "108 T07521030183\n"
     ]
    },
    {
     "name": "stderr",
     "output_type": "stream",
     "text": [
      "Setting `pad_token_id` to `eos_token_id`:2 for open-end generation.\n"
     ]
    },
    {
     "name": "stdout",
     "output_type": "stream",
     "text": [
      "Q_TTSEM_NOMBRE: * Extraction de phrases pertinentes :\n",
      "   1. \"Afin d’offrir la plus grande souplesse à l’organisation du travail, le nombre de jours en télétravail ne sera pas limité par principe, mais fera l’objet d’une appréciation au cas par cas, en bonne intelligence par le manager et le collaborateur, en fonction de l’organisation de l’équipe.\"\n",
      "   2. \"Pour maintenir le lien social avec la communauté de travail, favoriser le travail collaboratif et permettre à cette nouvelle organisation de travail de se déployer avec souplesse, il est souvent nécessaire que chaque collaborateur passe suffisamment de temps sur son lieu habituel de travail, au contact de ses interlocuteurs professionnels.\"\n",
      "   3. \"La durée minimale de présence sera appréciée par chaque manager en fonction des nécessités de service. En tout état de cause, tout mode de travail à distance est susceptible d’être révisé en fonction des circonstances et doit être considéré comme révisable à tout moment.\"\n",
      "* Ma réponse : nombrejourdeteletravailmaxparsemaine=0\n",
      "* Mon raisonnement : Dans les phrases pertinentes, il n'y a pas de mention explicite du nombre de jours de télétravail possibles par semaine. De plus, il est précisé que le nombre de jours de télétravail n'est pas limité par principe et est apprécié au cas par cas en fonction de l'organisation de l'équipe. Par conséquent, je ne peux pas fournir de réponse quant au nombre maximal de jours de télétravail possibles par semaine.\n",
      "\n",
      "109 T05321002415\n"
     ]
    },
    {
     "name": "stderr",
     "output_type": "stream",
     "text": [
      "Setting `pad_token_id` to `eos_token_id`:2 for open-end generation.\n"
     ]
    },
    {
     "name": "stdout",
     "output_type": "stream",
     "text": [
      "Q_TTSEM_NOMBRE:Mon extraction de trois phrases maximum pertinentes qui répondent à la question :\n",
      "\n",
      "* \"Le nombre de jours télétravaillés s’organise de la façon suivante Un nombre de jours télétravaillés pouvant être porté jusqu’à 3 jours par semaine sur accord du manager.\"\n",
      "* \"Les jours télétravaillés seront définis d’un commun accord entre le salarié et le manager et un planning prévisionnel sera établi mensuellement. Ils doivent figurer dans le calendrier du salarié télétravailleur.\"\n",
      "* \"Soit 2 jours de présence sur site obligatoire minimum par semaine afin de préserver le lien social\"\n",
      "\n",
      "Ma réponse :\n",
      "nombrejourdeteletravailmaxparsemaine=3\n",
      "nombrejoursursiteparsemaine=2\n",
      "\n",
      "Mon raisonnement :\n",
      "Le document mentionne qu'un salarié peut télétravailler jusqu'à 3 jours par semaine sur accord du manager. Cette information est confirmée par la phrase \"Les jours télétravaillés seront définis d'un commun accord entre le salarié et le manager\". De plus, le document stipule qu'il doit y avoir 2 jours de présence sur site obligatoire par semaine.\n",
      "\n",
      "110 T03821006956\n"
     ]
    },
    {
     "name": "stderr",
     "output_type": "stream",
     "text": [
      "Setting `pad_token_id` to `eos_token_id`:2 for open-end generation.\n"
     ]
    },
    {
     "name": "stdout",
     "output_type": "stream",
     "text": [
      "Q_TTSEM_NOMBRE: * Extraction de phrases pertinentes :\n",
      "   1. \"Le télétravail pour le salarié à temps complet ou titulaire d’un forfait annuel 218 jours ne pourra être exercé que pour un maximum de 13 jours (soit 26 demi-journées) par trimestre civil dans la limite de 1 jour (soit 2 demi-journées) par semaine de 5 jours travaillés, non reportables, soit une enveloppe de 52 jours (soit 104 demi-journées) par année civile.\"\n",
      "   2. \"Pour un salarié travaillant à 90%, ne pourra être exercé que pour un maximum de 12 jours (soit 24 demi-journées) par trimestre civil dans la limite de 1 jour par semaine (soit 2 demi-journées), non reportables, soit une enveloppe de 48 jours (soit 96 demi-journées), par année civile.\"\n",
      "   3. \"Pour un salarié travaillant à 80%, ne pourra être exercé que pour un maximum de 10,5 jours (soit 21 demi-journées), par trimestre civil dans la limite de 1 jour par semaine (soit 2 demi-journées), non reportables, soit une enveloppe de 42 jours (soit 84 demi-journées), par année civile.\"\n",
      "* Ma réponse : nombrejourdeteletravailmaxparsemaine=1\n",
      "* Mon raisonnement : Dans le premier paragraphe pertinent, il est indiqué que le télétravail pour un salarié à temps complet ou titulaire d'un forfait annuel 218 jours ne peut être exercé que pour un maximum de 1 jour (soit 2 demi-journées) par semaine de 5 jours travaillés, non reportables. Par conséquent, le nombre maximal de jours de télétravail par semaine est de 1.\n",
      "\n",
      "111 T05621003461\n"
     ]
    },
    {
     "name": "stderr",
     "output_type": "stream",
     "text": [
      "Setting `pad_token_id` to `eos_token_id`:2 for open-end generation.\n"
     ]
    },
    {
     "name": "stdout",
     "output_type": "stream",
     "text": [
      "Q_TTSEM_NOMBRE:Mon extraction de trois phrases maximum pertinentes qui répondent à la question :\n",
      "\n",
      "* \"Le télétravail s’exerce dans les mêmes conditions et horaires que le travail au sein des locaux de l’EPCC. Par conséquent, le télétravailleur soumis à l’horaire collectif, doit être joignable sur les plages horaires suivantes, selon les besoins du service : 9h à 12h30, 14h à 17h30.\"\n",
      "* \"Afin de préserver le lien social, la cohésion et le bon fonctionnement des équipes, le télétravail volontaire est limité à 20 jours par an.\"\n",
      "* \"Le télétravail sera organisé à la journée où à minima à la demi-journée.\"\n",
      "\n",
      "Ma réponse :\n",
      "nombrejourdeteletravailmaxparsemaine=1\n",
      "\n",
      "Mon raisonnement :\n",
      "Le document indique que le télétravail volontaire est limité à 20 jours par an. Or, comme il est précisé que le télétravail est organisé à la journée ou à la demi-journée, cela signifie qu'un employé peut télétravailler jusqu'à 20 jours complets ou 40 demi-journées dans l'année. Comme je dois donner la réponse en nombre de jours par semaine, je divise le nombre total de jours de télétravail par le nombre de semaines dans une année, ce qui donne 1 jour de télétravail par semaine.\n",
      "\n",
      "112 T07521029829\n"
     ]
    },
    {
     "name": "stderr",
     "output_type": "stream",
     "text": [
      "Setting `pad_token_id` to `eos_token_id`:2 for open-end generation.\n"
     ]
    },
    {
     "name": "stdout",
     "output_type": "stream",
     "text": [
      "Q_TTSEM_NOMBRE:Mon extraction de trois phrases maximum pertinentes qui répondent à la question :\n",
      "\n",
      "* « Le télétravail peut être exécuté dans la limite de deux jours fixes par semaine maximum »\n",
      "* « Dans les entités du Groupe où l’organisation hebdomadaire du travail est sur cinq jours à raison d’un minimum de 7h et plus travaillées par jour. »\n",
      "* « Dans les entités du groupe dans lesquelles l’organisation hebdomadaire du travail comporte moins de 5 jours travaillés, à raison d’un minimum de 7 heures par jour, le nombre de jours télétravaillés est limité à 1 par semaine. »\n",
      "\n",
      "Ma réponse :\n",
      "nombrejourdeteletravailmaxparsemaine=2\n",
      "\n",
      "Mon raisonnement :\n",
      "Le document indique que le télétravail peut être exécuté dans la limite de deux jours fixes par semaine maximum. Cette information est confirmée dans les cas où l'organisation hebdomadaire du travail est sur cinq jours ou moins de cinq jours. Dans le premier cas, le nombre de jours télétravaillés est limité à 2 par semaine, tandis que dans le second cas, il est limité à 1 jour par semaine. Comme le document indique que le télétravail peut être exécuté dans la limite de deux jours fixes par semaine maximum, nous pouvons conclure que le nombre maximal de jours de télétravail par semaine est de 2.\n",
      "\n",
      "113 T06921015778\n"
     ]
    },
    {
     "name": "stderr",
     "output_type": "stream",
     "text": [
      "Setting `pad_token_id` to `eos_token_id`:2 for open-end generation.\n"
     ]
    },
    {
     "name": "stdout",
     "output_type": "stream",
     "text": [
      "Q_TTSEM_NOMBRE:Extraction de trois phrases maximum pertinentes qui répondent à la question :\n",
      "\n",
      "* \"Le télétravail peut être mis en œuvre, par journée entière de travail, dans la limite de 3 jours par semaine et de façon régulière.\"\n",
      "* \"Les salariés à temps partiel doivent être présents au bureau au minimum 2 jours par semaine.\"\n",
      "* \"Un jour commun au bureau chaque semaine par service ou équipe est fixé par le manager.\"\n",
      "\n",
      "Ma réponse :\n",
      "nombrejourdeteletravailmaxparsemaine=3\n",
      "\n",
      "Mon raisonnement :\n",
      "Le premier extrait indique que le télétravail peut être mis en œuvre dans la limite de 3 jours par semaine. Ce maximum est confirmé dans le troisième extrait qui précise qu'un jour commun au bureau est fixé par le manager chaque semaine. En revanche, le deuxième extrait indique que les salariés à temps partiel doivent être présents au bureau au minimum 2 jours par semaine, ce qui signifie qu'ils ne peuvent pas télétravailler ces deux jours. Par conséquent, le nombre maximal de jours de télétravail par semaine est de 3.\n",
      "\n",
      "114 T09221025319\n"
     ]
    },
    {
     "name": "stderr",
     "output_type": "stream",
     "text": [
      "Setting `pad_token_id` to `eos_token_id`:2 for open-end generation.\n"
     ]
    },
    {
     "name": "stdout",
     "output_type": "stream",
     "text": [
      "Q_TTSEM_NOMBRE:Mon extraction de trois phrases maximum pertinentes qui répondent à la question :\n",
      "\n",
      "* \"Le télétravail sera de la responsabilité du manager et ne pourrait couvrir une semaine entière à savoir 5 jours.\" (Article 6)\n",
      "* \"Il devra être présent sur son lieu habituel de travail en fonction des obligations liées à sa fonction ou celles du service et au moins 1 jours par semaine.\" (Article 6)\n",
      "\n",
      "Ma réponse :\n",
      "nombrejourdeteletravailmaxparsemaine=1\n",
      "\n",
      "Mon raisonnement :\n",
      "Le document mentionne que le télétravail ne peut pas couvrir une semaine entière, ce qui signifie qu'il y a une limite maximale de 1 jour de télétravail par semaine. Cette information est confirmée dans la même section lorsqu'il est stipulé que le salarié doit être présent sur son lieu de travail au moins 1 jour par semaine.\n",
      "\n",
      "115 T09321006380\n"
     ]
    },
    {
     "name": "stderr",
     "output_type": "stream",
     "text": [
      "Setting `pad_token_id` to `eos_token_id`:2 for open-end generation.\n"
     ]
    },
    {
     "name": "stdout",
     "output_type": "stream",
     "text": [
      "Q_TTSEM_NOMBRE:Extraction de phrases pertinentes :\n",
      "- \"Ce plafond de deux jours par semaine constitue un maximum qui ne pourra être dépassé par les accords d’entreprise ou chartes de télétravail des entreprises du Groupe.\"\n",
      "- \"Le télétravail régulier ne pourra être exercé qu’en journée pleine et non en demi-journée, excepté pour la demi-journée des salariés travaillant sur 4,5 jours (90%).\"\n",
      "\n",
      "Ma réponse :\n",
      "nombrejourdeteletravailmaxparsemaine=2\n",
      "\n",
      "Mon raisonnement :\n",
      "Le document mentionne un plafond de deux jours par semaine pour le télétravail régulier, qui ne peut être dépassé par les accords d'entreprise ou les chartes de télétravail des entreprises du Groupe. Cette limite s'applique à tous les salariés, quel que soit leur contrat de travail ou leur temps de travail. Par ailleurs, il est précisé que le télétravail régulier ne peut être exercé qu'en journée pleine, sauf pour les salariés travaillant sur 4,5 jours (90%). Ainsi, le nombre maximal de jours de télétravail par semaine est de 2.\n",
      "\n",
      "116 T09221025943\n"
     ]
    },
    {
     "name": "stderr",
     "output_type": "stream",
     "text": [
      "Setting `pad_token_id` to `eos_token_id`:2 for open-end generation.\n",
      "Created a chunk of size 7288, which is longer than the specified 5000\n",
      "Created a chunk of size 7924, which is longer than the specified 5000\n",
      "Created a chunk of size 6525, which is longer than the specified 5000\n"
     ]
    },
    {
     "name": "stdout",
     "output_type": "stream",
     "text": [
      "Q_TTSEM_NOMBRE:\n",
      "* Extraction de phrases pertinentes :\n",
      "    1. \"De 1 à 3 jours fixes par semaine pour tous les collaborateurs de l’entreprise\"\n",
      "    2. \"De 1 à 3 jours flottants par semaine\"\n",
      "    3. \"Ou un forfait mensuel de 6 jours\"\n",
      "    4. \"Ou un forfait annuel de 30 jours.\"\n",
      "    5. \"De même, il est expressément entendu que pour les collaborateurs dont les fonctions sont dites « autonomes », comme celles des consultants ou des commerciaux, le fait de rentrer chez soi pour travailler après un rendez-vous chez un client par exemple, ne peut être considéré comme du télétravail\"\n",
      "* Ma réponse : nombrejourdeteletravailmaxparsemaine=5\n",
      "* Mon raisonnement : Dans le document, il est mentionné que les employés peuvent télétravailler \"De 1 à 3 jours fixes par semaine\", \"De 1 à 3 jours flottants par semaine\", \"Ou un forfait mensuel de 6 jours\", ou \"Ou un forfait annuel de 30 jours\". Cependant, il est également mentionné que les jours de télétravail pour les employés ayant des fonctions \"autonomes\" ne sont pas comptabilisés dans le nombre de jours de télétravail. Par conséquent, le nombre maximal de jours de télétravail par semaine est de 5 jours.\n",
      "\n",
      "117 T09221023411\n"
     ]
    },
    {
     "name": "stderr",
     "output_type": "stream",
     "text": [
      "Setting `pad_token_id` to `eos_token_id`:2 for open-end generation.\n"
     ]
    },
    {
     "name": "stdout",
     "output_type": "stream",
     "text": [
      "Q_TTSEM_NOMBRE:Extraction de trois phrases maximum pertinentes qui répondent à la question :\n",
      "\n",
      "* \"Le télétravail ne pourra être exercé que dans la limite de 75% du temps de travail effectif mensuel (en jours)\"\n",
      "* \"Un minima de 4 jours mensuels de présence sur site devra être mis en œuvre.\"\n",
      "* \"Le nombre de jours télétravaillés ne pourront pas donner lieu à un report sur le mois suivant.\"\n",
      "\n",
      "Ma réponse :\n",
      "nombrejourdeteletravailmaxparsemaine=3\n",
      "\n",
      "Mon raisonnement :\n",
      "J'ai trouvé dans le texte que le télétravail ne peut être exercé que dans la limite de 75% du temps de travail effectif mensuel, ce qui représente 3 jours par semaine (75% de 5 jours). Les mentions de 4 jours de présence sur site par mois et l'impossibilité de reporter les jours de télétravail non utilisés ne permettent pas de dépasser ce nombre.\n",
      "\n",
      "118 T09121006130\n"
     ]
    },
    {
     "name": "stderr",
     "output_type": "stream",
     "text": [
      "Setting `pad_token_id` to `eos_token_id`:2 for open-end generation.\n"
     ]
    },
    {
     "name": "stdout",
     "output_type": "stream",
     "text": [
      "Q_TTSEM_NOMBRE:Extraction de phrases pertinentes :\n",
      "\n",
      "* \"Il sera désormais possible d’effectuer du télétravail à raison de DEUX jours par semaine\"\n",
      "* \"le télétravail est organisé de telle sorte que le salarié à temps plein soit présent dans l’entreprise au moins 3 jours par semaine.\"\n",
      "\n",
      "Ma réponse :\n",
      "nombrejourdeteletravailmaxparsemaine=2\n",
      "nombrejoursursiteparsemaine=3\n",
      "\n",
      "Mon raisonnement :\n",
      "Le premier extrait de phrase indique clairement qu'un salarié peut effectuer du télétravail à raison de deux jours par semaine. Le deuxième extrait de phrase indique qu'un salarié à temps plein doit être présent dans l'entreprise au moins trois jours par semaine, ce qui signifie qu'il ne peut pas télétravailler plus de deux jours par semaine. Par conséquent, le nombre maximal de jours de télétravail par semaine est de 2. De plus, le troisième jour étant obligatoirement passé sur site, le nombre de jours sur site par semaine est de 3.\n",
      "\n",
      "119 T09221023603\n"
     ]
    },
    {
     "name": "stderr",
     "output_type": "stream",
     "text": [
      "Setting `pad_token_id` to `eos_token_id`:2 for open-end generation.\n"
     ]
    },
    {
     "name": "stdout",
     "output_type": "stream",
     "text": [
      "Q_TTSEM_NOMBRE:Mon extraction de trois phrases maximum pertinentes qui répondent à la question :\n",
      "\n",
      "* \"Le télétravail régulier s’effectue à raison de deux  jours par semaine maximum\"\n",
      "* \"Le salarié en télétravail devra également être présent physiquement dans les locaux de l’entreprise 3 jours minimum par semaine.\"\n",
      "* \"si l’activité du/de la salarié(e) est exercée en télétravail à domicile, il/elle peut être contacté(e), par téléphone et messagerie électronique, du lundi au jeudi : de 9h à 13h et de 14h à 17h30 & le vendredi de 9h à 13h et de 14h à 17h,\"\n",
      "\n",
      "Ma réponse :\n",
      "nombrejourdeteletravailmaxparsemaine=2\n",
      "\n",
      "Mon raisonnement :\n",
      "Le document indique que le télétravail régulier s’effectue à raison de deux jours par semaine maximum. Donc, le nombre maximum de jours de télétravail par semaine est de 2.\n",
      "\n",
      "120 T01321011053\n"
     ]
    },
    {
     "name": "stderr",
     "output_type": "stream",
     "text": [
      "Setting `pad_token_id` to `eos_token_id`:2 for open-end generation.\n",
      "Created a chunk of size 8959, which is longer than the specified 5000\n"
     ]
    },
    {
     "name": "stdout",
     "output_type": "stream",
     "text": [
      "Q_TTSEM_NOMBRE:1. Extraction de phrases pertinentes :\n",
      "    - \"Le temps de présence dans les locaux devra être au minimum de 4 jours ouvrés par semaine afin de prévenir tout risque d'isolement. Le nombre de jours de télétravail est donc limité à un jour par semaine.\"\n",
      "    - \"Le temps de présence dans les locaux devra être au minimum de 3 jours ouvrés par semaine afin de prévenir tout risque d'isolement. Le nombre de jours télétravaillés est donc limité à deux jours par semaine.\"\n",
      "2. Réponse :\n",
      "   nombrejourdeteletravailmaxparsemaine = 2\n",
      "3. Raisonnement :\n",
      "   Dans le premier paragraphe, il est mentionné que le personnel non-cadre doit être présent au minimum 4 jours ouvrés par semaine, ce qui implique que le nombre maximal de jours de télétravail par semaine est de 1 jour. Pour le personnel cadre, il doit être présent au minimum 3 jours ouvrés par semaine, ce qui implique que le nombre maximal de jours de télétravail par semaine est de 2 jours. Par conséquent, nombrejourdeteletravailmaxparsemaine vaut 2.\n",
      "\n",
      "121 T09221026634\n"
     ]
    },
    {
     "name": "stderr",
     "output_type": "stream",
     "text": [
      "Setting `pad_token_id` to `eos_token_id`:2 for open-end generation.\n"
     ]
    },
    {
     "name": "stdout",
     "output_type": "stream",
     "text": [
      "Q_TTSEM_NOMBRE:Mon extraction de trois phrases maximum pertinentes qui répondent à la question :\n",
      "\n",
      "* \"L’organisation alternative de l’activité domicile / entreprise se fait sur la base de deux (2) jours ouvrés par semaine\"\n",
      "* \"Le lundi est nécessairement travaillé sur site.\"\n",
      "* \"Le manager veille à une juste répartition des journées en télétravail entre collaborateurs\"\n",
      "\n",
      "Ma réponse :\n",
      "nombrejourdeteletravailmaxparsemaine=2\n",
      "\n",
      "Mon raisonnement :\n",
      "Dans le document, il est stipulé que \"L’organisation alternative de l’activité domicile / entreprise se fait sur la base de deux (2) jours ouvrés par semaine\". Cette phrase indique clairement qu'un employé peut télétravailler jusqu'à 2 jours par semaine. De plus, il est mentionné que \"Le lundi est nécessairement travaillé sur site\", ce qui implique que les jours de télétravail ne peuvent pas inclure le lundi. Par conséquent, le nombre maximal de jours de télétravail par semaine est de 2.\n",
      "\n",
      "122 T09321007118\n"
     ]
    },
    {
     "name": "stderr",
     "output_type": "stream",
     "text": [
      "Setting `pad_token_id` to `eos_token_id`:2 for open-end generation.\n"
     ]
    },
    {
     "name": "stdout",
     "output_type": "stream",
     "text": [
      "Q_TTSEM_NOMBRE:Extraction de phrases pertinentes :\n",
      "- \"Pour prendre en charge une partie des frais engendrés par le télétravail (électricité, chauffage, etc..), une prime mensuelle sera versée sur 11 mois, aux salariés-es concerné-es dont le montant est fonction du nombre de jours de télétravail par semaine.\"\n",
      "- \"Ainsi, les salarié-es qui auront recours au télétravail 1 à 2 fois par semaine bénéficieront d'une prime de 10 (dix) €uros bruts mensuels.\"\n",
      "- \"Ainsi, les salarié-es qui auront recours au télétravail 3 fois et plus par semaine bénéficieront d'une prime de 15 (quinze) €uros bruts mensuels.\"\n",
      "\n",
      "Ma réponse :\n",
      "nombrejourdeteletravailmaxparsemaine=3\n",
      "\n",
      "Mon raisonnement :\n",
      "Le document mentionne que les salariés qui ont recours au télétravail 1 à 2 fois par semaine bénéficient d'une prime de 10 €uros et ceux qui ont recours au télétravail 3 fois et plus par semaine bénéficient d'une prime de 15 €uros. Cela implique qu'il y a une différenciation entre 2 jours et 3 jours de télétravail hebdomadaire, ce qui signifie que le maximum de jours de télétravail autorisé par semaine est de 3 jours.\n",
      "\n",
      "123 T06421003693\n"
     ]
    },
    {
     "name": "stderr",
     "output_type": "stream",
     "text": [
      "Setting `pad_token_id` to `eos_token_id`:2 for open-end generation.\n"
     ]
    },
    {
     "name": "stdout",
     "output_type": "stream",
     "text": [
      "Q_TTSEM_NOMBRE:Mon extraction de trois phrases maximum pertinentes qui répondent à la question :\n",
      "\n",
      "* \"Le nombre de jours télétravaillés prévus par le formulaire de demande de télétravail est d’un ou deux jours entier(s) maximum par semaine.\"\n",
      "* \"Cette/ces journée(s) de télétravail doit/doivent être positionnée(s) du lundi au vendredi.\"\n",
      "* \"Si l’organisation du travail l’exige, la ou les journées de télétravail peut/peuvent, de manière exceptionnelle, être travaillillées dans l’entreprise.\"\n",
      "\n",
      "Ma réponse :\n",
      "nombrejourdeteletravailmaxparsemaine=2\n",
      "\n",
      "Mon raisonnement :\n",
      "Le document stipule que le nombre de jours télétravaillés prévus par le formulaire de demande de télétravail est d’un ou deux jours entier(s) maximum par semaine. De plus, ces journées doivent être positionnées du lundi au vendredi. Cependant, il est aussi mentionné que si l’organisation du travail l’exige, la ou les journées de télétravail peuvent être travaillées dans l’entreprise, ce qui implique que le nombre de jours de télétravail par semaine peut être supérieur à 2 dans certaines situations exceptionnelles. Néanmoins, dans le contexte de la question, où il est demandé de ne prendre en compte que les paragraphes qui concernent le nombre de jour de télétravail autorisé de manière régulière, nous pouvons répondre que le nombre maximal de jours de télétravail par semaine est de 2.\n",
      "\n",
      "124 T59L21011687\n"
     ]
    },
    {
     "name": "stderr",
     "output_type": "stream",
     "text": [
      "Setting `pad_token_id` to `eos_token_id`:2 for open-end generation.\n"
     ]
    },
    {
     "name": "stdout",
     "output_type": "stream",
     "text": [
      "Q_TTSEM_NOMBRE:> Extraction de trois phrases maximum pertinentes qui répondent à la question :\n",
      "\n",
      "* \"Le rythme de télétravail sera au minimum de 1 jour toutes les 2 semaines et ne pourra excéder 1 jour par semaine pour les collaborateurs concernés.\" (Article 5.1)\n",
      "* \"Un prorata du nombre de jours de télétravail sera calculé, si l’avenant est conclu pour une durée inférieure à un an.\" (Article 5.2)\n",
      "* \"Le rythme du télétravail sera basé sur un forfait de 12 par an.\" (Article 5.2)\n",
      "\n",
      "> Ma réponse :\n",
      "\n",
      "nombrejourdeteletravailmaxparsemaine=1\n",
      "\n",
      "> Mon raisonnement :\n",
      "\n",
      "Le document fourni contient des informations sur les modalités de télétravail pour deux catégories de personnel. Pour la catégorie 1, le rythme de télétravail ne peut excéder 1 jour par semaine, tandis que pour la catégorie 2, le rythme est basé sur un forfait de 12 jours par an, ce qui correspond à environ 0,23 jour par semaine. Comme nous devons déconnecter les liens entre les périodicités et ne considérer qu'un concept indépendant de semaine, je retiens la valeur maximale de télétravail par semaine, qui est de 1 jour pour la catégorie 1.\n",
      "\n",
      "125 T07721005504\n"
     ]
    },
    {
     "name": "stderr",
     "output_type": "stream",
     "text": [
      "Setting `pad_token_id` to `eos_token_id`:2 for open-end generation.\n"
     ]
    },
    {
     "name": "stdout",
     "output_type": "stream",
     "text": [
      "Q_TTSEM_NOMBRE:\n",
      "Extraction de trois phrases maximum pertinentes qui répondent à la question :\n",
      "\n",
      "* \"Un accord relatif à la mise en place du télétravail a été signé au sein de la société le 17 janvier 2020. Cet accord a ouvert la possibilité aux salariés éligibles d’effectuer un jour par semaine de télétravail...\"\n",
      "* \"Les parties entendent modifier l’accord initial en supprimant le pré requis d’avoir un téléphone professionnel, nécessaire pour être éligible au télétravail.\"\n",
      "* \"Par conséquent, les parties s’engagent à signer un avenant à l’accord sur le télétravail courant juin pour une mise en place à partir du 1er juillet 2021.\"\n",
      "\n",
      "Ma réponse :\n",
      "nombrejourdeteletravailmaxparsemaine=1\n",
      "\n",
      "Mon raisonnement :\n",
      "Dans les phrases pertinentes, il est mentionné que l'accord initial permettait aux salariés éligibles d'effectuer un jour par semaine de télétravail. Bien que les parties aient l'intention de modifier l'accord, rien n'indique que le nombre de jours de télétravail par semaine ait changé. Par conséquent, je peux conclure qu'un employé peut télétravailler régulièrement jusqu'à 1 jour par semaine.\n",
      "\n",
      "126 T09221024480\n"
     ]
    },
    {
     "name": "stderr",
     "output_type": "stream",
     "text": [
      "Setting `pad_token_id` to `eos_token_id`:2 for open-end generation.\n"
     ]
    },
    {
     "name": "stdout",
     "output_type": "stream",
     "text": [
      "Q_TTSEM_NOMBRE:Extraction de phrases pertinentes :\n",
      "\n",
      "* \"Le nombre de jour de télétravail autorisés passe de 4 jours par mois à 2 jours par semaine\"\n",
      "\n",
      "Ma réponse :\n",
      "nombrejourdeteletravailmaxparsemaine = 2\n",
      "\n",
      "Mon raisonnement :\n",
      "Le document stipule clairement que le nombre de jours de télétravail autorisés passe de 4 jours par mois à 2 jours par semaine. Par conséquent, le maximum de jours de télétravail possible par semaine est de 2.\n",
      "\n",
      "127 T02621002990\n"
     ]
    },
    {
     "name": "stderr",
     "output_type": "stream",
     "text": [
      "Setting `pad_token_id` to `eos_token_id`:2 for open-end generation.\n"
     ]
    },
    {
     "name": "stdout",
     "output_type": "stream",
     "text": [
      "Q_TTSEM_NOMBRE:Mon extraction de trois phrases maximum pertinentes qui répondent à la question :\n",
      "\n",
      "* \"Pour conserver une cohésion d’équipe au sein de l’établissement, les parties conviennent d’un maximum de 2 jours par semaine.\" (Article 4)\n",
      "\n",
      "Ma réponse :\n",
      "nombrejourdeteletravailmaxparsemaine=2\n",
      "\n",
      "Mon raisonnement :\n",
      "Le paragraphe contient explicitement le mot-clé \"semaine\" et indique que le nombre maximal de jours de télétravail autorisé est de 2 jours par semaine.\n",
      "\n",
      "128 T05121003268\n"
     ]
    },
    {
     "name": "stderr",
     "output_type": "stream",
     "text": [
      "Setting `pad_token_id` to `eos_token_id`:2 for open-end generation.\n"
     ]
    },
    {
     "name": "stdout",
     "output_type": "stream",
     "text": [
      "Q_TTSEM_NOMBRE:1. Extraction de phrases pertinentes :\n",
      "    * \"Le salarié télétravailleur à temps plein devra disposer d'au moins 12 jours de présence par an dans les locaux de l’entreprise à Reims\"\n",
      "    * \"le télétravailleur relèvera ses horaires de travail pour chaque jour travaillé à son domicile et transmettra ce relevé à la direction.\"\n",
      "    * \"La période d’adaptation; la réversibilité du télétravail\"\n",
      "2. Ma réponse :\n",
      "    * nombrejourdeteletravailmaxparsemaine=1\n",
      "    * nombrejoursursiteparsemaine=0\n",
      "3. Mon raisonnement :\n",
      "    * Selon le premier paragraphe pertinent, les salariés en télétravail doivent être présents au moins 12 jours par an dans les locaux de l'entreprise. Cela signifie qu'ils ne peuvent pas travailler plus de 50 semaines par an à distance. Comme ils ne peuvent pas travailler plus de 5 jours par semaine (car il y a 5 jours ouvrés dans une semaine), le nombre maximal de jours de télétravail par semaine est de 5/50*12 = 1,2, ce qui donne 1 jour de télétravail par semaine.\n",
      "    * Les deuxième et troisième paragraphes pertinents ne contiennent pas d'informations sur le nombre de jours de télétravail par semaine.\n",
      "    * Je n'ai pas trouvé d'information sur le nombre de jours de présence obligatoire sur site par semaine, donc je le retourne à 0.\n",
      "\n",
      "129 T00821001063\n"
     ]
    },
    {
     "name": "stderr",
     "output_type": "stream",
     "text": [
      "Setting `pad_token_id` to `eos_token_id`:2 for open-end generation.\n"
     ]
    },
    {
     "name": "stdout",
     "output_type": "stream",
     "text": [
      "Q_TTSEM_NOMBRE:\n",
      "Extraction de phrases pertinentes :\n",
      "- \"Le télétravail est limité à 1 jour par semaine.\" (Article 5.1.1 Configuration A)\n",
      "- \"Le télétravail est limité à un maximum de 24 jours par année civile sans report possible d’une année sur l’autre.\" (Article 5.1.1 Configuration B)\n",
      "\n",
      "Ma réponse :\n",
      "nombrejourdeteletravailmaxparsemaine=1\n",
      "\n",
      "Mon raisonnement :\n",
      "Le document contient deux configurations différentes pour le télétravail habituel. La configuration A stipule clairement que le télétravail est limité à 1 jour par semaine. La configuration B ne mentionne pas spécifiquement la semaine, mais elle limite le télétravail à 24 jours par an, ce qui revient à environ 0.47 jour par semaine (24/52). Comme je dois fournir le maximum des jours de télétravail par semaine, je retourne 1 jour par semaine.\n",
      "\n",
      "130 T04421010989\n"
     ]
    },
    {
     "name": "stderr",
     "output_type": "stream",
     "text": [
      "Setting `pad_token_id` to `eos_token_id`:2 for open-end generation.\n"
     ]
    },
    {
     "name": "stdout",
     "output_type": "stream",
     "text": [
      "Q_TTSEM_NOMBRE:Mon extraction de trois phrases maximum pertinentes qui répondent à la question :\n",
      "\n",
      "* \"Un minimum de 3 jours par semaine calendaire au bureau sera observé. Ainsi, entre un et deux jours par semaine de télétravail pourront être mis en place pour un salarié à temps plein.\"\n",
      "* \"Une souplesse pourra être accordée pendant la période allant jusqu’à fin août, de l’ordre de jusqu’à 3 jours de télétravail par semaine\"\n",
      "* \"Les jours de la semaine concernés par le télétravail seront fixes, et choisis conjointement entre collaborateur et responsable hiérarchique.\"\n",
      "\n",
      "Ma réponse :\n",
      "nombrejourdeteletravailmaxparsemaine=2\n",
      "\n",
      "Mon raisonnement :\n",
      "J'ai identifié deux paragraphes qui comportent le mot-clé \"semaine\" et qui concernent le nombre de jour de télétravail autorisé. Le premier paragraphe indique qu'un salarié à temps plein peut bénéficier d'un à deux jours de télétravail par semaine. Le deuxième paragraphe indique qu'une souplesse peut être accordée pendant une certaine période, permettant jusqu'à trois jours de télétravail par semaine. Cependant, comme il est indiqué que les jours de télétravail sont fixes, je suppose que le maximum de jours de télétravail par semaine est de 2. Je ne trouve pas d'information concernant le nombre de jours de présence obligatoire sur site dans ces paragraphes, donc je ne peux pas répondre à la variable 'nombrejoursursiteparsemaine'.\n",
      "\n",
      "131 T04221004639\n"
     ]
    },
    {
     "name": "stderr",
     "output_type": "stream",
     "text": [
      "Setting `pad_token_id` to `eos_token_id`:2 for open-end generation.\n"
     ]
    },
    {
     "name": "stdout",
     "output_type": "stream",
     "text": [
      "Q_TTSEM_NOMBRE:Extraction de phrases pertinentes :\n",
      "\n",
      "* \"Le télétravail s’inscrit dans une relation managériale basée sur la confiance mutuelle. La charge de travail d’un télétravailleur doit être élaborée en amont par le manageur et être équivalente à celle effectuée dans les locaux de l’entreprise.\"\n",
      "* \"Les horaires de télétravail sont fixés conformément aux horaires appliqués en entreprise, temps de pause compris.\"\n",
      "\n",
      "Ma réponse :\n",
      "nombrejourdeteletravailmaxparsemaine=1\n",
      "\n",
      "Mon raisonnement :\n",
      "Bien que le texte ne contienne pas directement le mot-clé « semaine » ou une notion de fréquence par semaine concernant le nombre de jours de télétravail autorisés, il mentionne que la charge de travail d'un télétravailleur doit être équivalente à celle effectuée dans les locaux de l'entreprise. Comme il n'y a pas de distinction spécifique entre les jours de télétravail et les jours travaillés sur site, je suppose que le nombre maximal de jours de télétravail par semaine est de 1 jour, car cela correspondrait à une situation où un employé alterne entre une semaine de télétravail et une semaine sur site. Cette hypothèse est renforcée par la phrase mentionnant que les horaires de télétravail sont fixés conformément aux horaires appliqués en entreprise, ce qui suggère une limitation du nombre de jours de télétravail par semaine.\n",
      "\n",
      "132 T09221026760\n"
     ]
    },
    {
     "name": "stderr",
     "output_type": "stream",
     "text": [
      "Setting `pad_token_id` to `eos_token_id`:2 for open-end generation.\n"
     ]
    },
    {
     "name": "stdout",
     "output_type": "stream",
     "text": [
      "Q_TTSEM_NOMBRE:Mon extraction de trois phrases maximum pertinentes qui répondent à la question :\n",
      "\n",
      "* \"L’accord-cadre de Groupe prévoit deux formules de rythme de télétravail possible.\"\n",
      "* \"Les parties au présent accord retiennent la formule de télétravail suivante pour le personnel dont les postes sont éligibles conformément à l’article 2-1-2 : rythme de télétravail de 2 jours au maximum par semaine et par salarié.\"\n",
      "* \"Pour le personnel dont les postes ne sont pas éligibles conformément à l’article 2-1-2: au regard des tâches exercées et de la spécificité des métiers visés, si l’analyse mentionnée à l’Article 2-1-2 du présent accord concluait à l’éligibilité de ces postes à la pratique du télétravail, celui-ci s’exercerait sur un rythme forfaitaire de 22 jours maximum par an.\"\n",
      "\n",
      "Ma réponse :\n",
      "nombrejourdeteletravailmaxparsemaine=2\n",
      "\n",
      "Mon raisonnement :\n",
      "Le document indique que l'accord-cadre de Groupe prévoit deux formules de rythme de télétravail possible et que les parties au présent accord retiennent la formule de télétravail suivante pour le personnel dont les postes sont éligibles conformément à l'article 2-1-2 : rythme de télétravail de 2 jours au maximum par semaine et par salarié. Par conséquent, le nombre maximal de jours de télétravail par semaine est de 2.\n",
      "\n",
      "133 T03321007161\n"
     ]
    },
    {
     "name": "stderr",
     "output_type": "stream",
     "text": [
      "Setting `pad_token_id` to `eos_token_id`:2 for open-end generation.\n"
     ]
    },
    {
     "name": "stdout",
     "output_type": "stream",
     "text": [
      "Q_TTSEM_NOMBRE:Mon extraction de trois phrases maximum pertinentes qui répondent à la question :\n",
      "\n",
      "* \"Le télétravail régulier à domicile ne pourra être exercé que pour un minimum d’un (1) jour par semaine et un maximum de quatre (4) jours par semaine.\"\n",
      "* \"Le salarié doit pouvoir exercer son métier à distance, sans être systématiquement et obligatoirement présent avec ses collègues en un même lieu.\"\n",
      "* \"Le supérieur hiérarchique doit pouvoir apprécier l’autonomie du salarié et être en capacité de donner les moyens au salarié d’exercer son métier en totale autonomie.\"\n",
      "\n",
      "Ma réponse :\n",
      "nombrejourdeteletravailmaxparsemaine=4\n",
      "\n",
      "Mon raisonnement :\n",
      "Le texte indique que le télétravail régulier à domicile ne peut être exercé que pour un maximum de quatre (4) jours par semaine. De plus, il est précisé que le salarié doit pouvoir exercer son métier à distance, sans être systématiquement et obligatoirement présent avec ses collègues en un même lieu, ce qui implique que le télétravail est possible tous les jours de la semaine si l'autonomie du salarié le permet. Cependant, le supérieur hiérarchique doit pouvoir apprécier l’autonomie du salarié et être en capacité de donner les moyens au salarié d’exercer son métier en totale autonomie, ce qui peut limiter le nombre de jours de télétravail possible. Dans le contexte de cette question, nous ne disposons pas d'éléments permettant de restreindre le nombre de jours de télétravail possible par semaine, nous devons donc retenir la limite maximale explicite de 4 jours par semaine.\n",
      "\n",
      "134 T07521031493\n"
     ]
    },
    {
     "name": "stderr",
     "output_type": "stream",
     "text": [
      "Setting `pad_token_id` to `eos_token_id`:2 for open-end generation.\n"
     ]
    },
    {
     "name": "stdout",
     "output_type": "stream",
     "text": [
      "Q_TTSEM_NOMBRE:Extraction de trois phrases pertinentes :\n",
      "\n",
      "* \"Option 1 - Vous serez en situation de télétravail à raison de deux jours par semaine maximum.\"\n",
      "* \"Vos jours de télétravail dans la semaine ont été, d’un commun accord, définis comme étant le [●] et le [●].\"\n",
      "* \"Il est précisé que pour des considérations d’ordre organisationnel, les lundi et vendredi ne pourront être pris en télétravail la même semaine.\"\n",
      "\n",
      "Ma réponse :\n",
      "nombrejourdeteletravailmaxparsemaine=2\n",
      "\n",
      "Mon raisonnement :\n",
      "Le document mentionne explicitement que le nombre maximal de jours de télétravail par semaine est de deux jours. Cette information est donnée dans l'option 1 et confirmée par la phrase \"Il est précisé que pour des considérations d’ordre organisationnel, les lundi et vendredi ne pourront être pris en télétravail la même semaine.\".\n",
      "\n",
      "135 T07521028915\n"
     ]
    },
    {
     "name": "stderr",
     "output_type": "stream",
     "text": [
      "Setting `pad_token_id` to `eos_token_id`:2 for open-end generation.\n"
     ]
    },
    {
     "name": "stdout",
     "output_type": "stream",
     "text": [
      "Q_TTSEM_NOMBRE:Mon extraction de trois phrases maximum pertinentes qui répondent à la question :\n",
      "\n",
      "* « Afin de maintenir le lien social du salarié et de le prévenir de l’isolement, le recours au télétravail flexible est limité, de sorte qu’il devra être présent dans les locaux de l’entreprise au moins trois jours par semaine. »\n",
      "* « Le télétravail pour le salarié à temps complet ou titulaire d’un forfait annuel en jours ou titulaire d’un forfait jours réduit ne pourra être exercé que pour un maximum de 24 jours par semestre civil, soit une enveloppe de 48 jours par année civile, reportable d’un semestre à l’autre. »\n",
      "* « Pour un salarié à temps partiel, le nombre de jours de télétravail possible par semestre sera proratisé selon le pourcentage de temps de travail et avec une limite dans tous les cas d’un jour par semaine non reportable. Le nombre de jours est arrondi au 0,5 jour supérieur le plus proche. »\n",
      "\n",
      "Ma réponse :\n",
      "nombrejourdeteletravailmaxparsemaine=3\n",
      "\n",
      "Mon raisonnement :\n",
      "J'ai trouvé dans le premier paragraphe extrait que le salarié doit être présent dans les locaux de l'entreprise au moins trois jours par semaine. Par déduction, le nombre maximal de jours de télétravail par semaine est donc de 3-1=2 jours. Cependant, dans le deuxième paragraphe extrait, il est dit que le télétravail pour un salarié à temps complet ne peut être exercé que pour un maximum de 24 jours par semestre civil, soit une enveloppe de 48 jours par année civile, reportable d’un semestre à l’autre. Comme il y a 48 semaines dans une année civile, cela signifie que le nombre maximal de jours de télétravail par semaine est de 48/48=1 jour. Or, cela contredit la première information trouvée. Je choisis donc de répondre 3-1=2 jours de télétravail par semaine, car c'est la limite basse trouvée dans les deux premiers paragraphes extraits.\n",
      "\n",
      "136 T09221025128\n"
     ]
    },
    {
     "name": "stderr",
     "output_type": "stream",
     "text": [
      "Setting `pad_token_id` to `eos_token_id`:2 for open-end generation.\n"
     ]
    },
    {
     "name": "stdout",
     "output_type": "stream",
     "text": [
      "Q_TTSEM_NOMBRE:\n",
      "Mon extraction de trois phrases maximum pertinentes qui répondent à la question :\n",
      "\n",
      "* \"Afin de préserver le lien social avec l’entreprise, les salariés éligibles peuvent, avec accord du manager, bénéficier du télétravail dans la limite de xx jours par semaine.\"\n",
      "* \"Les salariés du CCC (centre contact client) peuvent bénéficier du télétravail dans la limite de 50% de leur temps de travail.\"\n",
      "* \"Par exception bénéficient de xx jour de télétravail par semaine : Les salariés en CDI ayant validé leur période d’essai, mais ayant moins de 6 mois d’ancienneté.\"\n",
      "\n",
      "Ma réponse :\n",
      "nombrejourdeteletravailmaxparsemaine=1\n",
      "\n",
      "Mon raisonnement :\n",
      "Le premier extrait indique que les salariés éligibles peuvent bénéficier du télétravail dans la limite de xx jours par semaine, mais ne précise pas le nombre maximal de jours. Le deuxième extrait indique que les salariés du CCC peuvent bénéficier du télétravail dans la limite de 50% de leur temps de travail, ce qui correspond à 2,5 jours par semaine, mais il ne s'agit pas d'un maximum puisque c'est une exception. Le troisième extrait indique que les salariés en CDI ayant validé leur période d’essai, mais ayant moins de 6 mois d’ancienneté bénéficient de xx jour de télétravail par semaine, mais ne précise pas le nombre maximal de jours. Aucun des extraits ne précise de maximum de jours de télétravail par semaine, donc je réponds 1 jour de télétravail par semaine.\n",
      "\n",
      "137 T03821007078\n"
     ]
    },
    {
     "name": "stderr",
     "output_type": "stream",
     "text": [
      "Setting `pad_token_id` to `eos_token_id`:2 for open-end generation.\n"
     ]
    },
    {
     "name": "stdout",
     "output_type": "stream",
     "text": [
      "Q_TTSEM_NOMBRE:Extraction de phrases pertinentes :\n",
      "- \"Afin d’encadrer cette pratique et en dehors de la situation exceptionnelle actuelle, certains critères d’éligibilités ont été définis pour permettre d’apprécier ce nouveau mode d’organisation du travail. Ainsi, pour effectuer du télétravail occasionnel il faudra remplir les conditions suivantes : Avoir une performance normale (Répondre aux attentes du poste), Disposer du matériel pour effectuer du télétravail (PC portable et ligne téléphonique fournis par RAYDIALL et connexion internet au domicile), Disposer à son domicile d’un espace pour télétravailler.\"\n",
      "- \"Les demandes se feront par l’intermédiaire d’ADP. Le télétravail reste à la discrétion du management qui se laisse la possibilité de refuser une demande, et vice-versa.\"\n",
      "\n",
      "Ma réponse :\n",
      "nombrejourdeteletravailmaxparsemaine=0\n",
      "\n",
      "Mon raisonnement :\n",
      "Après avoir lu attentivement les extraits pertinents du document, je n'ai trouvé aucune information spécifiant le nombre maximal de jours de télétravail autorisés par semaine pour un employé. Par conséquent, je dois retourner la variable 'nombrejourdeteletravailmaxparsemaine' à 0.\n",
      "\n",
      "138 T09221024001\n"
     ]
    },
    {
     "name": "stderr",
     "output_type": "stream",
     "text": [
      "Setting `pad_token_id` to `eos_token_id`:2 for open-end generation.\n"
     ]
    },
    {
     "name": "stdout",
     "output_type": "stream",
     "text": [
      "Q_TTSEM_NOMBRE:Mon extraction de trois phrases maximum pertinentes qui répondent à la question :\n",
      "\n",
      "* \"Les collaborateurs (hormis les commerciaux) devront être présents sur site au minimum 2 jours/plages de travail par semaine, sauf cas dérogatoires validés en amont par le manager.\"\n",
      "* \"Les commerciaux devront être présents sur site au minimum 1 jour par semaine, sauf cas dérogatoires validés en amont par le manager.\"\n",
      "* \"Pour les temps de travail < 50%, présence minimale dans le mois de 4 plages de jour de semaine (hors WE et nuit)\"\n",
      "\n",
      "Ma réponse :\n",
      "nombrejourdeteletravailmaxparsemaine=1\n",
      "\n",
      "Mon raisonnement :\n",
      "Le premier extrait indique que les collaborateurs hormis les commerciaux doivent être présents sur site au minimum 2 jours par semaine, ce qui implique que le maximum de jours de télétravail par semaine est de 3. Le deuxième extrait indique que les commerciaux doivent être présents sur site au minimum 1 jour par semaine, ce qui implique que le maximum de jours de télétravail par semaine est de 4. Cependant, le troisième extrait indique que pour les temps de travail inférieurs à 50%, la présence minimale dans le mois est de 4 plages de jour de semaine, ce qui implique que le maximum de jours de télétravail par semaine est de 3. En prenant en compte l'extrait le plus restrictif, la réponse est donc 1 jour de télétravail par semaine.\n",
      "\n",
      "139 T04121001532\n"
     ]
    },
    {
     "name": "stderr",
     "output_type": "stream",
     "text": [
      "Setting `pad_token_id` to `eos_token_id`:2 for open-end generation.\n"
     ]
    },
    {
     "name": "stdout",
     "output_type": "stream",
     "text": [
      "Q_TTSEM_NOMBRE:\n",
      "Extraction de phrases pertinentes :\n",
      "\n",
      "* \"L’objectif étant d’abaisser le taux de présence et de maintenir la qualité des prestations, quel que soit le secteur d’activités.\"\n",
      "* \"Pour les personnes qui sont en télétravail à 100 % et qui seraient en risque par rapport à leur situation d’isolement, un retour en présentiel est envisageable un jour par semaine lorsqu’ils en expriment le besoin et en accord avec la Direction de CA Titres.\"\n",
      "\n",
      "Ma réponse :\n",
      "nombrejourdeteletravailmaxparsemaine=1\n",
      "\n",
      "Mon raisonnement :\n",
      "Le paragraphe mentionne que les personnes qui sont en télétravail à 100% peuvent revenir en présentiel un jour par semaine si elles sont à risque. Cela implique que le maximum de jours de télétravail par semaine est de 4 jours. Cependant, la question demande explicitement de ne pas tenir compte des jours de présence obligatoire sur site, donc nous ne pouvons pas inclure les jours de présence obligatoire dans notre calcul. Par conséquent, le nombre maximal de jours de télétravail par semaine est de 1.\n",
      "\n",
      "140 T03121008885\n"
     ]
    },
    {
     "name": "stderr",
     "output_type": "stream",
     "text": [
      "Setting `pad_token_id` to `eos_token_id`:2 for open-end generation.\n",
      "Created a chunk of size 11350, which is longer than the specified 5000\n",
      "Created a chunk of size 6156, which is longer than the specified 5000\n",
      "Created a chunk of size 14794, which is longer than the specified 5000\n"
     ]
    },
    {
     "name": "stdout",
     "output_type": "stream",
     "text": [
      "Q_TTSEM_NOMBRE:\n",
      "Extraction de trois phrases maximum pertinentes qui répondent à la question :\n",
      "\n",
      "* \"Le télétravail régulier ou occasionnel est effectué au domicile du salarié, lieu de sa résidence habituelle et correspond à l’adresse déclarée par le salarié telle qu’elle figure sur son bulletin de paie.\"\n",
      "* \"Toutefois, par exception, le salarié peut opter, pour l’exercice du télétravail, pour un lieu privé autre que sa résidence habituelle, situé en France métropolitaine\"\n",
      "* \"Le télétravail régit par le présent accord se différencie des autres formes de télétravail justifié par : -des circonstances exceptionnelles\"\n",
      "\n",
      "Ma réponse :\n",
      "nombrejourdeteletravailmaxparsemaine=0\n",
      "\n",
      "Mon raisonnement :\n",
      "Après avoir lu attentivement les documents fournis, je n'ai trouvé aucune information explicite sur le nombre maximal de jours de télétravail autorisés par semaine dans le contexte donné. Par conséquent, je ne peux pas fournir de réponse autre que zéro.\n",
      "\n",
      "141 T09221026110\n"
     ]
    },
    {
     "name": "stderr",
     "output_type": "stream",
     "text": [
      "Setting `pad_token_id` to `eos_token_id`:2 for open-end generation.\n"
     ]
    },
    {
     "name": "stdout",
     "output_type": "stream",
     "text": [
      "Q_TTSEM_NOMBRE:Extraction de phrases pertinentes :\n",
      "\n",
      "* \"Un maximum de 2 jours par semaine, et de 2 demi-journées pouvant être cumulées sur une même journée au cours de la même semaine.\"\n",
      "\n",
      "Ma réponse :\n",
      "nombrejourdeteletravailmaxparsemaine=3\n",
      "\n",
      "Mon raisonnement :\n",
      "J'ai trouvé la phrase qui indique le nombre maximal de jours de télétravail par semaine, qui est de 3 jours.\n",
      "\n",
      "142 T59L21012627\n"
     ]
    },
    {
     "name": "stderr",
     "output_type": "stream",
     "text": [
      "Setting `pad_token_id` to `eos_token_id`:2 for open-end generation.\n"
     ]
    },
    {
     "name": "stdout",
     "output_type": "stream",
     "text": [
      "Q_TTSEM_NOMBRE:Mon extraction de trois phrases maximum pertinentes qui répondent à la question :\n",
      "\n",
      "* «L’accord est conclu jusqu’au 28 février 2021 à raison du risque épidémique. Il entre en vigueur au 17 octobre 2020 de manière rétroactive. Compte tenu de la poursuite des contraintes sanitaires liées au risque épidémique à la date du 31 janvier 2021, la durée de l’accord est prolongée jusqu’au 31 mai 2021» (Article 1)\n",
      "* «Les autres dispositions de l’accord d’entreprise susmentionné, s’appliqueront en l’état sans modification.» (Article 2)\n",
      "* «L’avenant fera l’objet des formalités de dépôt et de publicité auprès de la DIRRECTE et du Conseil de Prud’hommes conformément aux dispositions légales et réglementaires. » (Article 3)\n",
      "\n",
      "Ma réponse :\n",
      "nombrejourdeteletravailmaxparsemaine=1\n",
      "\n",
      "Mon raisonnement :\n",
      "Dans l'article 1, il est indiqué que la durée de l'accord est prolongée jusqu'au 31 mai 2021. Dans l'article 2, il est indiqué que les autres dispositions de l'accord d'entreprise s'appliqueront en l'état sans modification. Or, dans l'accord initial du 12 novembre 2020, il est indiqué que « Le télétravail pour le salarié à temps complet ou titulaire d’un forfait annuel 218 jours ne pourra être exercé que pour un maximum de 13 jours (soit 26 demi-journées) par trimestre civil dans la limite de 1 jour (soit 2 demi-journées) par semaine de 5 jours travaillés, non reportables, soit une enveloppe de 52 jours (soit 104 demi-journées) par année civile. ». Par conséquent, le nombre maximal de jours de télétravail par semaine est de 1.\n",
      "\n",
      "143 T02121003243\n"
     ]
    },
    {
     "name": "stderr",
     "output_type": "stream",
     "text": [
      "Setting `pad_token_id` to `eos_token_id`:2 for open-end generation.\n"
     ]
    },
    {
     "name": "stdout",
     "output_type": "stream",
     "text": [
      "Q_TTSEM_NOMBRE: * Extraction pertinente du contexte :\n",
      "   1. \"Le télétravail régulier prend la forme d’un forfait mensuel de jours télétravaillés selon les deux modalités suivantes : 6 jours de télétravail par mois maximum, accessible à tous les salariés éligibles ; 8 jours de télétravail par mois maximum, étant précisé que ce forfait n’est accessible qu’aux salariés à temps complet, soit au salarié ETAM dont le temps de travail est de 35 heures hebdomadaires ou au salarié cadre dont le forfait jours est de 206 jours\"\n",
      "   2. \"Pour chaque mois civil, le positionnement des jours télétravaillés est anticipé en accord avec le responsable hiérarchique et fait l’objet d’une planification prévisionnelle mensuelle.\"\n",
      "   3. \"Il est expressément convenu que le télétravailleur est tenu de se rendre dans les locaux de l'entreprise pour y réaliser ses missions en présentiel, participer aux réunions ou à toutes activités et tous évènements liés au fonctionnement de l’entreprise, sur simple demande du responsable hiérarchique ou dès lors que ces réunions, activités ou évènements sont explicitement qualifiés de présentiels.\"\n",
      "\n",
      "* Ma réponse : nombrejourdeteletravailmaxparsemaine=1\n",
      "* Mon raisonnement : Dans le premier extrait pertinent, il est indiqué que le forfait mensuel de jours télétravaillés est de 6 jours maximum pour tous les salariés éligibles et de 8 jours maximum pour les salariés à temps complet. Comme il n'y a pas d'indication de la durée de ces jours (par exemple, s'ils sont des jours entiers ou des demi-journées), je suppose qu'ils sont des jours entiers. Ensuite, dans le deuxième extrait pertinent, il est indiqué que le positionnement des jours télétravaillés est anticipé en accord avec le responsable hiérarchique et fait l'objet d'une planification prévisionnelle mensuelle. Cela suggère que les jours de télétravail ne peuvent pas être accumulés sur plusieurs semaines, mais doivent être utilisés chaque semaine. Par conséquent, le nombre maximal de jours de télétravail par semaine est de 1 jour.\n",
      "\n",
      "144 T06221005678\n"
     ]
    },
    {
     "name": "stderr",
     "output_type": "stream",
     "text": [
      "Setting `pad_token_id` to `eos_token_id`:2 for open-end generation.\n"
     ]
    },
    {
     "name": "stdout",
     "output_type": "stream",
     "text": [
      "Q_TTSEM_NOMBRE:Mon extraction de trois phrases maximum pertinentes qui répondent à la question :\n",
      "\n",
      "* Article 6 - Le rythme du télétravail : \"Le rythme régulier du télétravail ne peut pas dépasser 2 jours maximum flottants par semaine.\"\n",
      "\n",
      "Ma réponse :\n",
      "nombrejourdeteletravailmaxparsemaine=2\n",
      "\n",
      "Mon raisonnement :\n",
      "Le paragraphe spécifie que le rythme régulier du télétravail ne peut pas dépasser 2 jours maximum flottants par semaine.\n",
      "\n",
      "145 T09121006533\n"
     ]
    },
    {
     "name": "stderr",
     "output_type": "stream",
     "text": [
      "Setting `pad_token_id` to `eos_token_id`:2 for open-end generation.\n"
     ]
    },
    {
     "name": "stdout",
     "output_type": "stream",
     "text": [
      "Q_TTSEM_NOMBRE:Extraction de phrases pertinentes :\n",
      "\n",
      "* \"Il est convenu que l’Entreprise ne mettra pas à disposition de mobilier de bureau.\"\n",
      "* \"Les salariés s'engagent à télétravailler dans un espace adapté au télétravail, lui permettant d’être concentré et investi dans ses missions. Cet espace devra être conforme aux normes en vigueur et notamment aux normes électriques.\"\n",
      "* \"Le télétravailleur devra disposer d’une connexion internet haut débit nécessaire à la bonne utilisation des outils informatiques de l’entreprise.\"\n",
      "\n",
      "Ma réponse :\n",
      "nombrejourdeteletravailmaxparsemaine=0\n",
      "\n",
      "Mon raisonnement :\n",
      "Après avoir examiné les extraits pertinents de l'accord d'entreprise, je n'ai trouvé aucune mention explicite du nombre maximal de jours de télétravail autorisés par semaine. Par conséquent, je ne peux pas fournir de réponse autre que zéro.\n",
      "\n",
      "146 T03721002530\n"
     ]
    },
    {
     "name": "stderr",
     "output_type": "stream",
     "text": [
      "Setting `pad_token_id` to `eos_token_id`:2 for open-end generation.\n"
     ]
    },
    {
     "name": "stdout",
     "output_type": "stream",
     "text": [
      "Q_TTSEM_NOMBRE:\n",
      "Extraction de phrases pertinentes :\n",
      "\n",
      "* \"Le télétravail peut se pratiquer dans le lieu de vie habituel ou dans un second lieu privé. Le collaborateur en situation de télétravail doit prévoir un espace de travail spécifique dans lequel sera installé le matériel professionnel mis à sa disposition par l'entreprise. Cet (ces) espace(s) doit (doivent)être conforme(s) aux règles de sécurité électriques, permettre un aménagement ergonomique du poste de télétravail (voir annexe 1), une concentration sur l’activité, sans perturbations extérieures et un respect de la confidentialité des données professionnelles.\"\n",
      "* \"Le collaborateur en situation de télétravail doit veiller à ce que toutes les informations, fichiers et données demeurent confidentiels et s'engage à respecter l'ensemble des dispositions légales et les règles propres à l'entreprise relatives à la protection de ces données et à leur confidentialité. L'ensemble des systèmes informatiques mis à la disposition du télétravailleur doit être utilisé pour un usage exclusivement professionnel et le télétravailleur doit prendre toutes les mesures de sécurité et de protection nécessaires pour éviter l'accès d'un tiers à ces systèmes.\"\n",
      "\n",
      "Ma réponse :\n",
      "nombrejourdeteletravailmaxparsemaine=0\n",
      "\n",
      "Mon raisonnement :\n",
      "Après avoir examiné les phrases pertinentes, je n'ai trouvé aucune information explicite sur le nombre maximal de jours de télétravail autorisés par semaine. Par conséquent, je dois définir la variable 'nombrejourdeteletravailmaxparsemaine' à 0.\n",
      "\n",
      "147 T09321006745\n"
     ]
    },
    {
     "name": "stderr",
     "output_type": "stream",
     "text": [
      "Setting `pad_token_id` to `eos_token_id`:2 for open-end generation.\n"
     ]
    },
    {
     "name": "stdout",
     "output_type": "stream",
     "text": [
      "Q_TTSEM_NOMBRE:\n",
      "Extraction de phrases pertinentes :\n",
      "- \"Il a été convenu, par le présent accord, d’augmenter le nombre de jours de travail à deux jours par semaine\"\n",
      "\n",
      "Ma réponse :\n",
      "nombrejourdeteletravailmaxparsemaine=2\n",
      "\n",
      "Mon raisonnement :\n",
      "Le document mentionne explicitement que le nombre de jours de télétravail autorisé est de deux par semaine.\n",
      "\n",
      "148 T09221026132\n"
     ]
    },
    {
     "name": "stderr",
     "output_type": "stream",
     "text": [
      "Setting `pad_token_id` to `eos_token_id`:2 for open-end generation.\n"
     ]
    },
    {
     "name": "stdout",
     "output_type": "stream",
     "text": [
      "Q_TTSEM_NOMBRE:Extraction de phrases pertinentes :\n",
      "- \"Le collaborateur en forfait jours devra effectuer 196 jours travaillés par an\"\n",
      "- \"Le collaborateur relevant de la catégorie « cadre en forfait jour » devra effectuer 174 jours travaillés par an.\"\n",
      "\n",
      "Ma réponse :\n",
      "nombrejourdeteletravailmaxparsemaine=3\n",
      "\n",
      "Mon raisonnement :\n",
      "Dans le premier extrait, il est mentionné que le collaborateur en forfait jours doit effectuer 196 jours travaillés par an. Comme il y a 52 semaines dans une année, et que le télétravail est autorisé chaque semaine, on peut déduire que le nombre maximum de jours de télétravail par semaine est de (218-196)/52 = 3 jours. De même, dans le deuxième extrait, il est mentionné que le collaborateur relevant de la catégorie « cadre en forfait jour » doit effectuer 174 jours travaillés par an, ce qui implique que le nombre maximum de jours de télétravail par semaine est de (218-174)/52 = 3 jours.\n",
      "\n"
     ]
    }
   ],
   "source": [
    "import glob\n",
    "PARQUET_FILE_COMPARE=\"Accords/Donnees_Mathilde_Pesenti_TT_Pour_DEE_v2_def.parquet\"\n",
    "for (index,(num_dossier,accord)) in df_init.iterrows():\n",
    "    print(index,num_dossier)\n",
    "    with open(f\"{num_dossier}.txt\",\"w\", encoding=\"utf-8\") as file:\n",
    "        file.write(accord)\n",
    "\n",
    "    loader = TextLoader(f\"{num_dossier}.txt\", encoding='utf8')\n",
    "    docs=loader.load()\n",
    "    \n",
    "    # Chunk text\n",
    "    text_splitter = CharacterTextSplitter(chunk_size=5000, \n",
    "                                          chunk_overlap=100)\n",
    "    chunked_documents = text_splitter.split_documents(docs)\n",
    "    \n",
    "    # Load chunked documents into the FAISS index\n",
    "    db = FAISS.from_documents(chunked_documents, \n",
    "                              HuggingFaceEmbeddings(model_name='sentence-transformers/all-mpnet-base-v2'))\n",
    "    \n",
    "    retriever = db.as_retriever()\n",
    "    \n",
    "    rag_chain = ( \n",
    "     {\"context\": retriever, \"question\": RunnablePassthrough()}\n",
    "        | llm_chain\n",
    "    )\n",
    "    dict_reponse,text=process_model(rag_chain,num_dossier)\n",
    "    with open(f\"{num_dossier}_response.txt\",\"w\", encoding=\"utf-8\") as file:\n",
    "        file.write(text)\n",
    "        print(text)\n",
    "    df2=pd.DataFrame.from_dict(dict_reponse,orient=\"index\")\n",
    "    df2=df2.transpose().rename(columns=VAR_TRANSLATION)\n",
    "    df2.to_csv(f\"{num_dossier}.csv\")\n",
    "    df2.to_parquet(f\"{num_dossier}.parquet\")"
   ]
  },
  {
   "cell_type": "code",
   "execution_count": 35,
   "id": "6bb81953-adb7-4343-b2c1-91cd57bdb7b2",
   "metadata": {},
   "outputs": [
    {
     "name": "stdout",
     "output_type": "stream",
     "text": [
      "global accuracy 0.5894039735099338\n",
      "accuracy on non null value 0.7395833333333333 ; nombre correct : 71 sur 96\n",
      "accuracy on null value 0.32727272727272727 ; nombre correct : 18 sur 55\n"
     ]
    }
   ],
   "source": [
    "data_files=glob.glob('*.parquet')\n",
    "df = pd.concat((pd.read_parquet(f, engine = 'pyarrow') for f in data_files))\n",
    "df=df.set_index(\"num_dossier\")\n",
    "df=df[df.nombre_jours_teletravail_semaine.values!=[None]]\n",
    "df2=pd.read_parquet(f\"{PARQUET_FILE_COMPARE}\")\n",
    "df2=df2[[\"N..Dossier\",\"nombre_jours_teletravail_semaine\"]].set_index(\"N..Dossier\")\n",
    "df_merge=df2.merge(df,how=\"left\",left_index=True, right_index=True)\n",
    "df_merge.nombre_jours_teletravail_semaine_y=df_merge.nombre_jours_teletravail_semaine_y.astype(\"float64\")\n",
    "df_merge=df_merge.fillna(0.0)\n",
    "df_merge[\"diff\"]=(df_merge.nombre_jours_teletravail_semaine_x!=df_merge.nombre_jours_teletravail_semaine_y)\n",
    "print(\"global accuracy\",1-(df_merge[\"diff\"].sum()/df_merge.shape[0]))\n",
    "\n",
    "df_rempli=df_merge[df_merge.nombre_jours_teletravail_semaine_x!=0.0]\n",
    "nb_correct,total =df_rempli.shape[0]-df_rempli[\"diff\"].sum(),df_rempli.shape[0]\n",
    "print(\"accuracy on non null value\",1-(df_rempli[\"diff\"].sum()/df_rempli.shape[0]),f\"; nombre correct : {nb_correct} sur {total}\")\n",
    "\n",
    "df_rempli=df_merge[df_merge.nombre_jours_teletravail_semaine_x==0.0]\n",
    "nb_correct,total =df_rempli.shape[0]-df_rempli[\"diff\"].sum(),df_rempli.shape[0]\n",
    "print(\"accuracy on null value\",1-(df_rempli[\"diff\"].sum()/df_rempli.shape[0]),f\"; nombre correct : {nb_correct} sur {total}\")"
   ]
  },
  {
   "cell_type": "code",
   "execution_count": 36,
   "id": "031b511b-a051-40d3-a7b3-5f833a44a9cd",
   "metadata": {
    "scrolled": true
   },
   "outputs": [
    {
     "data": {
      "text/html": [
       "<div>\n",
       "<style scoped>\n",
       "    .dataframe tbody tr th:only-of-type {\n",
       "        vertical-align: middle;\n",
       "    }\n",
       "\n",
       "    .dataframe tbody tr th {\n",
       "        vertical-align: top;\n",
       "    }\n",
       "\n",
       "    .dataframe thead th {\n",
       "        text-align: right;\n",
       "    }\n",
       "</style>\n",
       "<table border=\"1\" class=\"dataframe\">\n",
       "  <thead>\n",
       "    <tr style=\"text-align: right;\">\n",
       "      <th></th>\n",
       "      <th>nombre_jours_teletravail_semaine_x</th>\n",
       "      <th>nombre_jours_teletravail_semaine_y</th>\n",
       "      <th>diff</th>\n",
       "    </tr>\n",
       "    <tr>\n",
       "      <th>N..Dossier</th>\n",
       "      <th></th>\n",
       "      <th></th>\n",
       "      <th></th>\n",
       "    </tr>\n",
       "  </thead>\n",
       "  <tbody>\n",
       "    <tr>\n",
       "      <th>T01321011053</th>\n",
       "      <td>2.0</td>\n",
       "      <td>0.0</td>\n",
       "      <td>True</td>\n",
       "    </tr>\n",
       "    <tr>\n",
       "      <th>T02221003288</th>\n",
       "      <td>2.0</td>\n",
       "      <td>0.0</td>\n",
       "      <td>True</td>\n",
       "    </tr>\n",
       "    <tr>\n",
       "      <th>T03121008885</th>\n",
       "      <td>2.0</td>\n",
       "      <td>0.0</td>\n",
       "      <td>True</td>\n",
       "    </tr>\n",
       "    <tr>\n",
       "      <th>T03321006775</th>\n",
       "      <td>1.0</td>\n",
       "      <td>5.0</td>\n",
       "      <td>True</td>\n",
       "    </tr>\n",
       "    <tr>\n",
       "      <th>T04121001532</th>\n",
       "      <td>5.0</td>\n",
       "      <td>1.0</td>\n",
       "      <td>True</td>\n",
       "    </tr>\n",
       "    <tr>\n",
       "      <th>T04521003587</th>\n",
       "      <td>3.0</td>\n",
       "      <td>1.0</td>\n",
       "      <td>True</td>\n",
       "    </tr>\n",
       "    <tr>\n",
       "      <th>T05121003353</th>\n",
       "      <td>0.5</td>\n",
       "      <td>0.0</td>\n",
       "      <td>True</td>\n",
       "    </tr>\n",
       "    <tr>\n",
       "      <th>T05221001044</th>\n",
       "      <td>2.0</td>\n",
       "      <td>1.0</td>\n",
       "      <td>True</td>\n",
       "    </tr>\n",
       "    <tr>\n",
       "      <th>T06721007237</th>\n",
       "      <td>1.5</td>\n",
       "      <td>1.0</td>\n",
       "      <td>True</td>\n",
       "    </tr>\n",
       "    <tr>\n",
       "      <th>T06721007676</th>\n",
       "      <td>2.0</td>\n",
       "      <td>1.0</td>\n",
       "      <td>True</td>\n",
       "    </tr>\n",
       "    <tr>\n",
       "      <th>T06821004760</th>\n",
       "      <td>2.0</td>\n",
       "      <td>1.0</td>\n",
       "      <td>True</td>\n",
       "    </tr>\n",
       "    <tr>\n",
       "      <th>T07521028203</th>\n",
       "      <td>2.0</td>\n",
       "      <td>1.0</td>\n",
       "      <td>True</td>\n",
       "    </tr>\n",
       "    <tr>\n",
       "      <th>T07521029992</th>\n",
       "      <td>2.0</td>\n",
       "      <td>1.0</td>\n",
       "      <td>True</td>\n",
       "    </tr>\n",
       "    <tr>\n",
       "      <th>T08721002004</th>\n",
       "      <td>2.0</td>\n",
       "      <td>1.0</td>\n",
       "      <td>True</td>\n",
       "    </tr>\n",
       "    <tr>\n",
       "      <th>T09121006533</th>\n",
       "      <td>2.0</td>\n",
       "      <td>0.0</td>\n",
       "      <td>True</td>\n",
       "    </tr>\n",
       "    <tr>\n",
       "      <th>T09221024001</th>\n",
       "      <td>4.0</td>\n",
       "      <td>1.0</td>\n",
       "      <td>True</td>\n",
       "    </tr>\n",
       "    <tr>\n",
       "      <th>T09221024480</th>\n",
       "      <td>2.0</td>\n",
       "      <td>0.0</td>\n",
       "      <td>True</td>\n",
       "    </tr>\n",
       "    <tr>\n",
       "      <th>T09221025128</th>\n",
       "      <td>2.0</td>\n",
       "      <td>1.0</td>\n",
       "      <td>True</td>\n",
       "    </tr>\n",
       "    <tr>\n",
       "      <th>T09221025943</th>\n",
       "      <td>3.0</td>\n",
       "      <td>5.0</td>\n",
       "      <td>True</td>\n",
       "    </tr>\n",
       "    <tr>\n",
       "      <th>T09221026193</th>\n",
       "      <td>3.0</td>\n",
       "      <td>1.0</td>\n",
       "      <td>True</td>\n",
       "    </tr>\n",
       "    <tr>\n",
       "      <th>T09221026340</th>\n",
       "      <td>3.0</td>\n",
       "      <td>1.0</td>\n",
       "      <td>True</td>\n",
       "    </tr>\n",
       "    <tr>\n",
       "      <th>T09221026359</th>\n",
       "      <td>3.0</td>\n",
       "      <td>2.0</td>\n",
       "      <td>True</td>\n",
       "    </tr>\n",
       "    <tr>\n",
       "      <th>T09221026467</th>\n",
       "      <td>2.0</td>\n",
       "      <td>0.0</td>\n",
       "      <td>True</td>\n",
       "    </tr>\n",
       "    <tr>\n",
       "      <th>T09321006383</th>\n",
       "      <td>5.0</td>\n",
       "      <td>0.0</td>\n",
       "      <td>True</td>\n",
       "    </tr>\n",
       "    <tr>\n",
       "      <th>T59V21001231</th>\n",
       "      <td>1.0</td>\n",
       "      <td>0.0</td>\n",
       "      <td>True</td>\n",
       "    </tr>\n",
       "  </tbody>\n",
       "</table>\n",
       "</div>"
      ],
      "text/plain": [
       "              nombre_jours_teletravail_semaine_x  \\\n",
       "N..Dossier                                         \n",
       "T01321011053                                 2.0   \n",
       "T02221003288                                 2.0   \n",
       "T03121008885                                 2.0   \n",
       "T03321006775                                 1.0   \n",
       "T04121001532                                 5.0   \n",
       "T04521003587                                 3.0   \n",
       "T05121003353                                 0.5   \n",
       "T05221001044                                 2.0   \n",
       "T06721007237                                 1.5   \n",
       "T06721007676                                 2.0   \n",
       "T06821004760                                 2.0   \n",
       "T07521028203                                 2.0   \n",
       "T07521029992                                 2.0   \n",
       "T08721002004                                 2.0   \n",
       "T09121006533                                 2.0   \n",
       "T09221024001                                 4.0   \n",
       "T09221024480                                 2.0   \n",
       "T09221025128                                 2.0   \n",
       "T09221025943                                 3.0   \n",
       "T09221026193                                 3.0   \n",
       "T09221026340                                 3.0   \n",
       "T09221026359                                 3.0   \n",
       "T09221026467                                 2.0   \n",
       "T09321006383                                 5.0   \n",
       "T59V21001231                                 1.0   \n",
       "\n",
       "              nombre_jours_teletravail_semaine_y  diff  \n",
       "N..Dossier                                              \n",
       "T01321011053                                 0.0  True  \n",
       "T02221003288                                 0.0  True  \n",
       "T03121008885                                 0.0  True  \n",
       "T03321006775                                 5.0  True  \n",
       "T04121001532                                 1.0  True  \n",
       "T04521003587                                 1.0  True  \n",
       "T05121003353                                 0.0  True  \n",
       "T05221001044                                 1.0  True  \n",
       "T06721007237                                 1.0  True  \n",
       "T06721007676                                 1.0  True  \n",
       "T06821004760                                 1.0  True  \n",
       "T07521028203                                 1.0  True  \n",
       "T07521029992                                 1.0  True  \n",
       "T08721002004                                 1.0  True  \n",
       "T09121006533                                 0.0  True  \n",
       "T09221024001                                 1.0  True  \n",
       "T09221024480                                 0.0  True  \n",
       "T09221025128                                 1.0  True  \n",
       "T09221025943                                 5.0  True  \n",
       "T09221026193                                 1.0  True  \n",
       "T09221026340                                 1.0  True  \n",
       "T09221026359                                 2.0  True  \n",
       "T09221026467                                 0.0  True  \n",
       "T09321006383                                 0.0  True  \n",
       "T59V21001231                                 0.0  True  "
      ]
     },
     "execution_count": 36,
     "metadata": {},
     "output_type": "execute_result"
    }
   ],
   "source": [
    "df_rempli=df_merge[df_merge.nombre_jours_teletravail_semaine_x!=0.0]\n",
    "df_rempli[df_rempli[\"diff\"]]"
   ]
  },
  {
   "cell_type": "code",
   "execution_count": null,
   "id": "2cb9b7d3-0bcd-4493-939c-43fc87011d7c",
   "metadata": {},
   "outputs": [],
   "source": []
  },
  {
   "cell_type": "code",
   "execution_count": null,
   "id": "528ef75a-519d-48a1-94ba-20a713227ec2",
   "metadata": {},
   "outputs": [],
   "source": []
  },
  {
   "cell_type": "code",
   "execution_count": null,
   "id": "e9c0cd99-a9a2-4def-947e-8e7e7a7372b7",
   "metadata": {},
   "outputs": [],
   "source": []
  }
 ],
 "metadata": {
  "kernelspec": {
   "display_name": "Python 3 (ipykernel)",
   "language": "python",
   "name": "python3"
  },
  "language_info": {
   "codemirror_mode": {
    "name": "ipython",
    "version": 3
   },
   "file_extension": ".py",
   "mimetype": "text/x-python",
   "name": "python",
   "nbconvert_exporter": "python",
   "pygments_lexer": "ipython3",
   "version": "3.10.13"
  }
 },
 "nbformat": 4,
 "nbformat_minor": 5
}
