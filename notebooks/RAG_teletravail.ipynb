{
 "cells": [
  {
   "cell_type": "code",
   "execution_count": null,
   "id": "64b55acc-0e5c-4d30-8b60-50070eb0307f",
   "metadata": {},
   "outputs": [],
   "source": [
    "# Notebook from https://medium.com/@thakermadhav/build-your-own-rag-with-mistral-7b-and-langchain-97d0c92fa146\n",
    "!pip install -q torch datasets\n",
    "!pip install -q accelerate==0.21.0 \\\n",
    "                peft==0.4.0 \\\n",
    "                bitsandbytes==0.40.2 \\\n",
    "                transformers==4.31.0 \\\n",
    "                trl==0.4.7\n",
    "!pip install -q scipy langchain transformers playwright html2text sentence_transformers faiss-gpu\n",
    "!pip install -q --upgrade git+https://github.com/huggingface/transformers"
   ]
  },
  {
   "cell_type": "code",
   "execution_count": null,
   "id": "f860479f-f9d0-4162-9701-aeb4da44f3eb",
   "metadata": {},
   "outputs": [],
   "source": [
    "!playwright install > /dev/null\n",
    "!playwright install-deps > /dev/null"
   ]
  },
  {
   "cell_type": "code",
   "execution_count": null,
   "id": "3e8eba08-2a0d-43a0-ae6c-79035327b035",
   "metadata": {},
   "outputs": [],
   "source": [
    "!pip install -U tokenizers"
   ]
  },
  {
   "cell_type": "code",
   "execution_count": null,
   "id": "923862f9-6c52-4509-b85f-b464c7ba0cf6",
   "metadata": {},
   "outputs": [],
   "source": [
    "import os\n",
    "import torch\n",
    "from transformers import (\n",
    "  AutoTokenizer, \n",
    "  AutoModelForCausalLM, \n",
    "  BitsAndBytesConfig,\n",
    "  pipeline\n",
    ")\n",
    "\n",
    "from transformers import BitsAndBytesConfig\n",
    "\n",
    "\n",
    "\n",
    "\n",
    "from langchain.prompts import PromptTemplate\n",
    "from langchain.schema.runnable import RunnablePassthrough\n",
    "from langchain.llms import HuggingFacePipeline\n",
    "from langchain.chains import LLMChain\n",
    "\n",
    "\n",
    "#################################################################\n",
    "# Tokenizer\n",
    "#################################################################\n",
    "\n",
    "model_name=\"mistralai/Mistral-7B-Instruct-v0.1\"\n",
    "model_name=\"mistralai/Mixtral-8x7B-Instruct-v0.1\"\n",
    "tokenizer = AutoTokenizer.from_pretrained(model_name, trust_remote_code=True)\n",
    "tokenizer.pad_token = tokenizer.eos_token\n",
    "tokenizer.padding_side = \"right\"\n",
    "\n",
    "#################################################################\n",
    "# bitsandbytes parameters\n",
    "#################################################################\n",
    "\n",
    "# Activate 4-bit precision base model loading\n",
    "use_4bit = True\n",
    "\n",
    "# Compute dtype for 4-bit base models\n",
    "bnb_4bit_compute_dtype = \"float16\"\n",
    "\n",
    "# Quantization type (fp4 or nf4)\n",
    "bnb_4bit_quant_type = \"nf4\"\n",
    "\n",
    "# Activate nested quantization for 4-bit base models (double quantization)\n",
    "use_nested_quant = True\n",
    "\n",
    "#################################################################\n",
    "# Set up quantization config\n",
    "#################################################################\n",
    "compute_dtype = getattr(torch, bnb_4bit_compute_dtype)\n",
    "\n",
    "bnb_config = BitsAndBytesConfig(\n",
    "    load_in_4bit=use_4bit,\n",
    "    bnb_4bit_quant_type=bnb_4bit_quant_type,\n",
    "    bnb_4bit_compute_dtype=compute_dtype,\n",
    "    bnb_4bit_use_double_quant=use_nested_quant,\n",
    ")\n",
    "\n",
    "# Check GPU compatibility with bfloat16\n",
    "if compute_dtype == torch.float16 and use_4bit:\n",
    "    major, _ = torch.cuda.get_device_capability()\n",
    "    if major >= 8:\n",
    "        print(\"=\" * 80)\n",
    "        print(\"Your GPU supports bfloat16: accelerate training with bf16=True\")\n",
    "        print(\"=\" * 80)\n",
    "\n",
    "#################################################################\n",
    "# Load pre-trained config\n",
    "#################################################################\n",
    "model = AutoModelForCausalLM.from_pretrained(\n",
    "    model_name,\n",
    "    quantization_config=bnb_config,\n",
    "    cache_dir=\".\",\n",
    ")\n",
    "#load_in_4bits=True)\n"
   ]
  },
  {
   "cell_type": "code",
   "execution_count": 47,
   "id": "a9778127-0508-4d93-b718-ae8108e884ca",
   "metadata": {},
   "outputs": [],
   "source": [
    "model.config.pad_token_id = tokenizer.pad_token_id\n",
    "\n",
    "text_generation_pipeline = pipeline(\n",
    "    model=model,\n",
    "    tokenizer=tokenizer,\n",
    "    task=\"text-generation\",\n",
    "    temperature=0.2,\n",
    "    repetition_penalty=1.1,\n",
    "    return_full_text=True,\n",
    "    max_new_tokens=1000,\n",
    ")\n",
    "\n",
    "mistral_llm = HuggingFacePipeline(pipeline=text_generation_pipeline)"
   ]
  },
  {
   "cell_type": "code",
   "execution_count": 48,
   "id": "f3fb3129-2b6a-4819-9b68-ad0552cb23b1",
   "metadata": {},
   "outputs": [],
   "source": [
    "import arrow\n",
    "import pandas as pd\n",
    "PARQUET_FILE=\"Accords/echantillon_public_Mathilde.parquet\""
   ]
  },
  {
   "cell_type": "code",
   "execution_count": 49,
   "id": "6f3e9f65-5314-4091-b2eb-cb3592a8b27a",
   "metadata": {},
   "outputs": [],
   "source": [
    "df_init=pd.read_parquet(PARQUET_FILE)"
   ]
  },
  {
   "cell_type": "code",
   "execution_count": 50,
   "id": "065f4c3e-99d2-46ff-b97c-39ba7ffa5433",
   "metadata": {},
   "outputs": [],
   "source": [
    "prompt_template = \"\"\"\n",
    "\n",
    "### [ROLE] Role: Vous êtes un expert juridique des accords d'entreprise sans compétence de programmation informatique, seulement la lecture et la compréhension des textes. Tu ne connais aucun langage de programmation, ni les expressions régulières.\n",
    "\n",
    "\n",
    "### [INST] Instructions: \n",
    "\n",
    "1. Votre travail consiste à peupler et mettre à jour une base des données nécessaires pour réaliser des études économétriques poussées sur le télétravail.\n",
    "        Pour cela, vous devez prendre le texte d'un accord d'entreprise dans le contexte suivant, dans lesquelles figurent les informations à jour que l'on vous fourni, et d'extraire précisément l'information spécifique dont vous avez besoin.\n",
    "        Vous ne devez extraire que le nombre, et uniquement le nombre. Le nombre peut être écrit en lettres ou en chiffres. (exemple : deux ou 2 )\n",
    "        Si vous ne trouvez pas la réponse dans le texte vous devez le dire et ne pas chercher à en fournir un autre nombre.\n",
    "        Avant de répondre, vérifier que la réponse se trouve bien dans le texte indiqué.\n",
    "        \n",
    "2. Vous devez respecter les règles suivantes : Déconnecter les liens entre les périodicités (semaine, mois, trimestre, année)! Faire comme si les semaines, les mois, les trimestres et les années sont des concepts indépendants : dans un mois, il y a donc 0 semaine ; dans un trimestre, 0 mois et 0 semaine; dans une année, 0 trimestre, 0 mois et 0 semaine !\n",
    "        Ne fais aucune supposition ni d'hypothèses !\n",
    "        Pas de proratisation !\n",
    "        Il n'y a pas de lien entre l'effectif d'un service et le nombre de jour de télétravail, donc ne pas déduire un nombre de jour de télétravail !\n",
    "        Télétravail à 100% = full-remote = 5 jours de télétravail par semaine !\n",
    "        Trois jours de présence sur site et sans autre mention du nombre de jours de télétravail autorisé =  0 jour de télétravail par semaine, a priori !\n",
    "        Il y a cinq jours ouvrés dans une semaine, donc un nombre de jour de télétravail par semaine ne peut pas être strictement supérieur à cinq.\n",
    "        Si tu donnes un nombre réel, ne donne pas la fraction mais un arrondi !\n",
    "        Si le nombre de jour de télétravail annuel est inférieur à 52, ce nombre de jour de télétravail concerne du télétravail occasionnel. S'il est supérieur ou égal à 52, ce nombre concerne du télétravail régulier.\n",
    "        Si le nombre de jour de télétravail trimestriel est inférieur à 13, ce nombre de jour de télétravail concerne du télétravail occasionnel. S'il est supérieur ou égal à 13, ce nombre concerne du télétravail régulier.\n",
    "        Si le nombre de jour de télétravail mensuelle est inférieur à 4, ce nombre de jour de télétravail concerne du télétravail occasionnel. S'il est supérieur ou égal à 4, ce nombre concerne du télétravail régulier.\n",
    "\n",
    "3. Vous devez structurez votre réponse comme suit :\n",
    "        * Mon extraction de deux paragraphes maximum pertinents qui répondent à la question :\n",
    "        * Ma réponse :\n",
    "        * Mon raisonnenement :\n",
    "        \n",
    "### Contexte: \n",
    "{context}\n",
    "\n",
    "### QUESTION:\n",
    "{question} [/INST]\n",
    "\"\"\""
   ]
  },
  {
   "cell_type": "code",
   "execution_count": 51,
   "id": "cd4e7965-223c-49ed-bea1-5c0dd89a6b46",
   "metadata": {},
   "outputs": [],
   "source": [
    "# Create prompt from prompt template \n",
    "prompt = PromptTemplate(\n",
    "    input_variables=[\"context\", \"question\"],\n",
    "    template=prompt_template,\n",
    ")\n",
    "\n",
    "# Create llm chain \n",
    "llm_chain = LLMChain(llm=mistral_llm, prompt=prompt)"
   ]
  },
  {
   "cell_type": "code",
   "execution_count": 52,
   "id": "50bc8e16-8943-4e71-8a43-7342eeae75d5",
   "metadata": {},
   "outputs": [],
   "source": [
    "from langchain.text_splitter import CharacterTextSplitter\n",
    "from langchain.document_transformers import Html2TextTransformer\n",
    "from langchain.document_loaders import AsyncChromiumLoader\n",
    "from langchain.embeddings.huggingface import HuggingFaceEmbeddings\n",
    "from langchain.vectorstores import FAISS\n",
    "from langchain_community.document_loaders import TextLoader\n",
    "import warnings\n",
    "warnings.filterwarnings('ignore')\n",
    "import re\n",
    "def guess_reponse_booleenne(reponse):\n",
    "    reponse_booleenne=None\n",
    "    if reponse[\"text\"].startswith(\"\\nOui\") or reponse[\"text\"].startswith(\"Oui\") :\n",
    "        reponse_booleenne=1\n",
    "    elif reponse[\"text\"].startswith(\"\\nNon\") or reponse[\"text\"].startswith(\"Non\") :\n",
    "        reponse_booleenne=0\n",
    "    return reponse_booleenne\n",
    "\n",
    "def guess_reponse_durée(reponse):\n",
    "    reponse_booleenne=None\n",
    "    if \"indéterminée\" in reponse[\"text\"].lower() :\n",
    "        reponse_booleenne=0\n",
    "    elif \"déterminée\" in reponse[\"text\"].lower():\n",
    "        reponse_booleenne=1\n",
    "    return reponse_booleenne\n",
    "\n",
    "def guess_reponse_nombre(reponse,pattern=\"nombre\"):\n",
    "    reponse_nombre=None\n",
    "    REGEX=rf\".*{pattern} ?= ?(\\d+)\"\n",
    "    numbers=re.findall(REGEX,reponse[\"text\"])\n",
    "    if numbers:\n",
    "        reponse_nombre=numbers[0]\n",
    "    return reponse_nombre"
   ]
  },
  {
   "cell_type": "code",
   "execution_count": 53,
   "id": "738e6397-10db-4fad-9abc-b1780fcbdd89",
   "metadata": {},
   "outputs": [],
   "source": [
    "Q_DUREE=\"S'il est fait mention d'une durée de l'accord, est-ce que l'accord est à durée déterminée ou à durée indéterminée ? déterminée=1 ou indéterminée=0 ou NA?\"\n",
    "Q_REVERS=\"S'il est fait mention d'une clause et d'un article de réversibilité, est-ce que l'accord a une clause ou un article de réversibilité ? Oui=1 ou non=0 ou NA?\"\n",
    "Q_ADAPT=\"S'il est fait mention d'une période d'adaptation, est-ce que l'accord comprend une période d'adaptation ? Oui=1 ou non=0 ou NA?\"\n",
    "Q_TTREG=\"Est-ce qu'au moins un paragraphe mentionne du télétravail régulier ?\"\n",
    "Q_TTOCA=\"Est-ce qu'au moins un paragraphe mentionne du télétravail occasionnel ?\"\n",
    "Q_TTEXC=\"Est-ce qu'au moins un paragraphe mentionne du télétravail exceptionnel ?\"\n",
    "Q_DISPOSPERQTHENCEINTE=\"Est-ce qu'au moins un paragraphe mentionne des dispositifs spéciaux pour les travailleurs en situation de handicap, les femmes enceintes, les séniors ou les personnes présentant des fragilités ou des problèmes de santé ?\"\n",
    "Q_MONTANT_CAVIARDE=\"Est-ce qu'au moins un paragraphe mentionne un nombre sans le donner exactement, mais sous forme illisible ?\"\n",
    "Q_TELETRAVAIL_FLEX_SANS_LIMITE=\"Est-ce qu'au moins un paragraphe suggère une liberté totale dans le choix des jours de télétravail, hormis quelques contraintes de présence ?\"\n",
    "Q_TT_REG_NOMBRE_FORMULE=Q_TTREG+\"Si oui, combien de formules (exemples de formule : si temps plein et temps partiel = 2, si choix entre 1 à 3 jours de télétravail régulier = 3) sont proposées pour du télétravail régulier ? Retourne à la fin 'nombre=max(tes réponses)'\"\n",
    "PERIODICITE={\"MOIS\":\"mois\",\"TRIM\":\"trimestre\",\"ANNEE\":\"année\", \"SEM\":\"semaine\"}\n",
    "PERIODICITE2={\"JOUR\":\"jour\",\"MOIS\":\"mois\",\"TRIM\":\"trimestre\",\"ANNEE\":\"année\", \"SEM\":\"semaine\"}\n",
    "Q_COMPE=\"Est-ce qu'au moins un paragraphe mentionne une indemnité spécialement pour l'achat d'équipements ?\"\n",
    "Q_COMPE_NOMBRE=Q_COMPE+\"Si oui, sélectionne seulement les paragraphes mentionnant une indemnité spécialement pour l'achat d'équipements et s'il existe donne le montant lié de l'indemnité d'équipement. Si oui, retourne à la fin 'nombre=max(ta réponse)'\"\n",
    "Q_EQUIPEMENT=\"Est-ce qu'au moins un paragraphe mentionne un équipement de télétravail fourni ?\"\n",
    "Q_COMPS=\"Est-ce qu'au moins un paragraphe mentionne explicitement une indemnité de sujétion (dans le cas où l'employeur impose le télétravail, ce dernier indemnise l'employé) ?\"\n",
    "Q_COMPS_NOMBRE=Q_COMPS+\"Si oui, sélectionne seulement les paragraphes mentionnant une indemnité de sujétion dans le cas où l'employeur impose le télétravail et s'il existe donne le montant lié de l'indemnité de sujétion dans le cas où l'employeur impose le télétravail. Si oui, retourne à la fin 'nombre=max(ta réponse)'\""
   ]
  },
  {
   "cell_type": "code",
   "execution_count": 54,
   "id": "bf6654b6-813d-40f6-bae7-f3f68ff1c076",
   "metadata": {},
   "outputs": [],
   "source": [
    "def process_model(rag_chain,num_dossier):\n",
    "    dict_reponse=dict()\n",
    "    dict_reponse[\"num_dossier\"]=num_dossier\n",
    "    text=\"\"\n",
    "    reponse= rag_chain.invoke(Q_DISPOSPERQTHENCEINTE)\n",
    "    text+=\"Q_DISPOSPERQTHENCEINTE:\"+reponse[\"text\"] + \"\\n\"\n",
    "    dict_reponse[\"DISPOSPERQTHENCEINTE\"]=guess_reponse_booleenne(reponse)\n",
    "    reponse= rag_chain.invoke(Q_MONTANT_CAVIARDE)\n",
    "    text+=\"Q_MONTANT_CAVIARDE:\"+reponse[\"text\"] + \"\\n\"\n",
    "    dict_reponse[\"MONTANT_CAVIARDE\"]=guess_reponse_booleenne(reponse)\n",
    "    reponse= rag_chain.invoke(Q_TELETRAVAIL_FLEX_SANS_LIMITE)\n",
    "    text+=\"Q_TELETRAVAIL_FLEX_SANS_LIMITE:\"+reponse[\"text\"] + \"\\n\"\n",
    "    dict_reponse[\"TELETRAVAIL_FLEX_SANS_LIMITE\"]=guess_reponse_booleenne(reponse)\n",
    "    reponse= rag_chain.invoke(Q_TT_REG_NOMBRE_FORMULE)\n",
    "    text+=\"Q_TT_REG_NOMBRE_FORMULE:\"+reponse[\"text\"] + \"\\n\"\n",
    "    dict_reponse[\"TT_REG_NOMBRE_FORMULE\"]=guess_reponse_nombre(reponse)\n",
    "    reponse= rag_chain.invoke(Q_DUREE)\n",
    "    text+=\"Q_DUREE:\"+reponse[\"text\"] + \"\\n\"\n",
    "    dict_reponse[\"DUREE\"]=guess_reponse_durée(reponse)\n",
    "    reponse= rag_chain.invoke(Q_REVERS)\n",
    "    text+=\"Q_REVERS:\"+reponse[\"text\"] + \"\\n\"\n",
    "    dict_reponse[\"REVERS\"]=guess_reponse_booleenne(reponse)\n",
    "    reponse= rag_chain.invoke(Q_ADAPT)\n",
    "    text+=\"Q_ADAPT:\"+reponse[\"text\"] + \"\\n\"\n",
    "    dict_reponse[\"ADAPT\"]=guess_reponse_booleenne(reponse)\n",
    "    reponse= rag_chain.invoke(Q_TTREG)\n",
    "    text+=\"Q_TTREG:\"+reponse[\"text\"] + \"\\n\"\n",
    "    dict_reponse[\"TTREG\"]=guess_reponse_booleenne(reponse)\n",
    "    reponse= rag_chain.invoke(Q_TTOCA)\n",
    "    text+=\"Q_TTOCA:\"+reponse[\"text\"] + \"\\n\"\n",
    "    dict_reponse[\"TTOCA\"]=guess_reponse_booleenne(reponse)\n",
    "    reponse= rag_chain.invoke(Q_TTEXC)\n",
    "    text+=\"Q_TTEXC:\"+reponse[\"text\"] + \"\\n\"\n",
    "    dict_reponse[\"TTEXC\"]=guess_reponse_booleenne(reponse)\n",
    "    for (k,v) in PERIODICITE.items():\n",
    "        Q_TT=f\"Hors jours supplémentaires ou exceptionnels, est-ce qu'au moins un paragraphe mentionne un nombre de jour de télétravail maximum autorisé explicitement exprimé par {v} ?\"\n",
    "        reponse= rag_chain.invoke(Q_TT)\n",
    "        text+=f\"Q_TT{k}:\"+reponse[\"text\"] + \"\\n\"\n",
    "        dict_reponse[f\"TT{k}\"]=guess_reponse_booleenne(reponse)\n",
    "        #Q_TT_NOMBRE=f\"Extrait le nombre de jour de télétravail maximum autorisé explicitement exprimé par {v} seulement à partir du texte suivant : {text_reponse}\"\n",
    "        Q_TT_NOMBRE=Q_TT+f\"Si oui, quel est le nombre de jour de télétravail supplémentaires explicitement exprimé et nécessairement et seulement exprimé par {v} pour des dispositions spéciales. Si oui, retourne à la fin 'nombre=max(tes réponses)'\"\n",
    "        reponse= rag_chain.invoke(Q_TT_NOMBRE)\n",
    "        text+=f\"Q_TT{k}_NOMBRE:\"+reponse[\"text\"] + \"\\n\"\n",
    "        dict_reponse[f\"TT{k}_NOMBRE\"]=guess_reponse_nombre(reponse)\n",
    "    for (k,v) in PERIODICITE.items():\n",
    "        Q_TTOCA_PERIOD=f\"Dans le cadre du télétravail occasionnel, est-ce qu'au moins un paragraphe mentionne un nombre de jour de télétravail maximum autorisé explicitement exprimé par {v} ?\"\n",
    "        reponse= rag_chain.invoke(Q_TTOCA_PERIOD)\n",
    "        text+=f\"TTOCA{k}:\"+reponse[\"text\"] + \"\\n\"\n",
    "        dict_reponse[f\"TTOCA{k}\"]=guess_reponse_booleenne(reponse)\n",
    "        Q_TTOCA_NOMBRE=Q_TTOCA_PERIOD+f\"Si oui, quel est le nombre de jour de télétravail occasionnel explicitement exprimé et nécessairement et seulement exprimé par {v}. Si oui, retourne à la fin 'nombre=max(tes réponses)'\"\n",
    "        reponse= rag_chain.invoke(Q_TTOCA_NOMBRE)\n",
    "        text+=f\"Q_TTOCA_{k}_NOMBRE:\"+reponse[\"text\"] + \"\\n\"\n",
    "        dict_reponse[f\"TTOCA_{k}_NOMBRE\"]=guess_reponse_nombre(reponse)\n",
    "    for (k,v) in PERIODICITE.items():\n",
    "        Q_PRESJOUR=f\"Est-ce qu'au moins un paragraphe mentionne un nombre de jour de présence obligatoire sur site minimum explicitement exprimé par {v} ?\"\n",
    "        reponse= rag_chain.invoke(Q_PRESJOUR)\n",
    "        text+=f\"Q_PRESJOUR{k}:\"+reponse[\"text\"] + \"\\n\"\n",
    "        dict_reponse[f\"TTPRESJOUR{k}\"]=guess_reponse_booleenne(reponse)\n",
    "        Q_PRESJOUR_NOMBRE=Q_PRESJOUR+f\"Si oui, sélectionne seulement les paragraphes mentionnant un nombre de jour de présence obligatoire sur site minimum explicitement exprimé par {v} et s'il existe donne le nombre de jour de présence obligatoire sur site minimum explicitement exprimé par {v}. Si oui, retourne à la fin 'nombre=max(tes réponses)'\"\n",
    "        reponse= rag_chain.invoke(Q_PRESJOUR_NOMBRE)\n",
    "        text+=f\"Q_PRESJOUR{k}_NOMBRE:\"+reponse[\"text\"] + \"\\n\"\n",
    "        dict_reponse[f\"PRESJOUR{k}_NOMBRE\"]=guess_reponse_nombre(reponse)\n",
    "    for (k,v) in PERIODICITE2.items():\n",
    "        Q_COMP=f\"Hors indemnité d'équipement, est-ce qu'au moins un paragraphe mentionne une indemnité forfaitaire explicitement exprimée par {v} ?\"\n",
    "        reponse= rag_chain.invoke(Q_COMP)\n",
    "        text+=f\"Q_COMP{k}:\"+reponse[\"text\"] + \"\\n\"\n",
    "        dict_reponse[f\"COMP{k}\"]=guess_reponse_booleenne(reponse)\n",
    "        Q_COMP_NOMBRE=Q_COMP+f\"Si oui, sélectionne en interne seulement les paragraphes mentionnant une indemnité forfaitaire explicitement exprimé par {v}, puis s'il existe donne le montant explicitement exprimé par {v}. Si oui, retourne à la fin 'nombre=max(ta réponse)'\"\n",
    "        reponse= rag_chain.invoke(Q_COMP_NOMBRE)\n",
    "        text+=f\"Q_COMP{k}_NOMBRE:\"+reponse[\"text\"] + \"\\n\"\n",
    "        dict_reponse[f\"COMP{k}_NOMBRE\"]=guess_reponse_nombre(reponse)\n",
    "        if \"MOIS\" in k:\n",
    "            Q_COMP_NOMBRE_BASE=Q_COMP+f\"Si oui, sélectionne en interne seulement les paragraphes mentionnant une indemnité forfaitaire explicitement exprimé par {v}, puis s'il existe plusieurs montants explicitement exprimé par {v}, par nombre de jour. Si oui, retourne à la fin 'nombre=base_mensuelle_pour_un_jour_de_teletravail(ta réponse)'\"\n",
    "            reponse= rag_chain.invoke(Q_COMP_NOMBRE_BASE)\n",
    "            text+=f\"Q_COMP{k}_BASE_NOMBRE:\"+reponse[\"text\"] + \"\\n\"\n",
    "            dict_reponse[f\"COMP{k}_BASE_NOMBRE\"]=guess_reponse_nombre(reponse)\n",
    "    reponse= rag_chain.invoke(Q_COMPE)\n",
    "    text+=\"Q_COMPE:\"+reponse[\"text\"] + \"\\n\"\n",
    "    dict_reponse[\"COMPE\"]=guess_reponse_booleenne(reponse)\n",
    "    reponse= rag_chain.invoke(Q_COMPE_NOMBRE)\n",
    "    text+=\"Q_COMPE_NOMBRE:\"+reponse[\"text\"] + \"\\n\"\n",
    "    dict_reponse[\"COMPE_NOMBRE\"]=guess_reponse_nombre(reponse)\n",
    "    reponse= rag_chain.invoke(Q_EQUIPEMENT)\n",
    "    text+=\"Q_EQUIPEMENT:\"+reponse[\"text\"] + \"\\n\"\n",
    "    dict_reponse[\"EQUIPEMENT\"]=guess_reponse_booleenne(reponse)\n",
    "    reponse= rag_chain.invoke(Q_COMPS)\n",
    "    text+=\"Q_COMPS:\"+reponse[\"text\"] + \"\\n\"\n",
    "    dict_reponse[\"COMPS\"]=guess_reponse_booleenne(reponse)\n",
    "    reponse= rag_chain.invoke(Q_COMPS_NOMBRE)\n",
    "    text+=\"Q_COMPS_NOMBRE:\"+reponse[\"text\"] + \"\\n\"\n",
    "    dict_reponse[\"COMPS_NOMBRE\"]=guess_reponse_nombre(reponse)\n",
    "    return dict_reponse,text"
   ]
  },
  {
   "cell_type": "code",
   "execution_count": 55,
   "id": "e8a37df9-03f2-4dba-9a11-490329b526e3",
   "metadata": {},
   "outputs": [],
   "source": [
    "PERIODICITE={ \"SEM\":\"semaine\"}\n",
    "EXEMPLES= \"Le télétravail pour le salarié à temps complet ou titulaire d’un forfait annuel 218 jours ne pourra être exercé que pour un maximum de 13 jours (soit 26 demi-journées) par trimestre civil dans la limite de 1 jour (soit 2 demi-journées) par semaine de 5 jours travaillés, non reportables, soit une enveloppe de 52 jours (soit 104 demi-journées) par année civile. => 1 jour de télétravail par semaine.\"\n",
    "EXEMPLES+= \" Un maximum de 2 jours par semaine, et de 2 demi-journées pouvant être cumulées sur une même journée au cours de la même semaine. => 3 jours de télétravail par semaine car 3 = (2+2*0.5).\"\n",
    "EXEMPLES+= \" Une limite haute de 10 jours de télétravail, par mois civil, est instituée. => Information à ignorer.\"\n",
    "EXEMPLES+= \" Les salariés devront être présents au minimum 2 jours par semaine sur leur lieu de travail habituel. => 2 jour sur site par semaine.\"\n",
    "EXEMPLES+= \" Le télétravail pour le salarié à temps complet ou titulaire d’un forfait annuel 218 jours ne pourra être exercé que pour un maximum de 13 jours (soit 26 demi-journées) par trimestre civil dans la limite de 1 jour (soit 2 demi-journées) par semaine de 5 jours travaillés, non reportables, soit une enveloppe de 52 jours (soit 104 demi-journées) par année civile. => 1 jour de télétravail par semaine.\"\n",
    "EXEMPLES+= \" Le nombre de jour de télétravail est à discuter avec le manager. => Information à ignorer.\"\n",
    "EXEMPLES+= \" Les 4 journées de télétravail mensuelles autorisées et 1 jour de télétravail fixe par semaine calendaire => 1 jour de télétravail par semaine.\"\n",
    "\n",
    "def process_model(rag_chain,num_dossier):\n",
    "    dict_reponse=dict()\n",
    "    dict_reponse[\"num_dossier\"]=num_dossier\n",
    "    text=\"\"\n",
    "    for (k,v) in PERIODICITE.items():\n",
    "        Q_TT_NOMBRE=f\"Est-ce qu'un paragraphe comporte le mot-clé {v} ou une notion de fréquence par {v} et concerne le nombre de jour de télétravail autorisé (ne compte pas les paragraphes qui relatent d'indemnisation par jour de télétravail, ni le télétravail ponctuel ou occasionnel)?\"\n",
    "        Q_TT_NOMBRE+=f\" Si oui, jusqu'à combien de jour possible (ou limite) de télétravail un employé/travailleur/salarié/collaborateur peut-il télétravailler régulièrement, jour exprimé seulement par {v} et explicitement dans un des paragraphes (attention, ne pas confondre avec les jours de présence obligatoire sur site)? \"\n",
    "        Q_TT_NOMBRE+=f\" Si tu as plusieurs réponses parmi [ 0 , 0.5 , 1 , 1.5 , 2 , 2.5 , 3 , 3.5 , 4 , 4.5 , 5 ], affecte le maximum des jours de télétravail par {v} de ces éventuelles réponses dans une variable 'nombrejourdeteletravailmaxpar{v}'. Si tu ne trouves pas de valeur, retourne nombrejourdeteletravailmaxpar{v} à 0\"\n",
    "        Q_TT_NOMBRE+=f\" Si le télétravail à 100% ou le full-remote est autorisé ou positivement évoqué, alors affecte à la variable nombrejourdeteletravailmaxpar{v} la valeur 5.\"\n",
    "        Q_TT_NOMBRE+=f\" Pour cette tâche, ignore les informations concernant les répartitions d'effectif sur site, les négociations avec les managers. \"\n",
    "        Q_TT_NOMBRE+=f\" S'il y a des jours de présence obligatoire sur site, retourne également une variable supplémentaire 'nombrejoursursitepar{v}' avec la valeur indiquée\"\n",
    "        Q_TT_NOMBRE+=f\" Ta réponse devra impérativement comporter la chaîne de caractère 'nombrejourdeteletravailmaxpar{v}=' suivi du nombre demandé.\"\n",
    "        Q_TT_NOMBRE+=f\" Voici quelques exemples pour vous aider : {EXEMPLES}\"\n",
    "        reponse= rag_chain.invoke(Q_TT_NOMBRE)\n",
    "        text+=f\"Q_TT{k}_NOMBRE:\"+reponse[\"text\"] + \"\\n\"\n",
    "        dict_reponse[f\"TT{k}_NOMBRE\"]=guess_reponse_nombre(reponse,pattern=f\"nombrejourdeteletravailmaxpar{v}\")\n",
    "    return dict_reponse,text"
   ]
  },
  {
   "cell_type": "code",
   "execution_count": 56,
   "id": "b4de9f12-d3b6-4aa5-8603-df16fe199823",
   "metadata": {},
   "outputs": [],
   "source": [
    "VAR_TRANSLATION={'DISPOSPERQTHENCEINTE': \"dispositif_special_rqth_maternite_senior\",\n",
    " 'MONTANT_CAVIARDE': \"montant_caviarde\",\n",
    " 'TELETRAVAIL_FLEX_SANS_LIMITE': \"teletravail_regulier_flexible_sans_limite\",\n",
    " 'TT_REG_NOMBRE_FORMULE': \"nombre_formules_teletravail_regulier\",\n",
    " 'DUREE': \"duree_application\",\n",
    " 'REVERS': \"presence_clause_reversibilite\",\n",
    " 'ADAPT': \"periode_adaptation\",\n",
    " 'TTREG': \"teletravail_regulier\",\n",
    " 'TTOCA': \"teletravail_occasionnel\",\n",
    " 'TTEXC': \"teletravail_exceptionnel\",\n",
    " 'TTMOIS': \"mention_teletravail_par_mois\",\n",
    " 'TTMOIS_NOMBRE': \"nombre_jours_teletravail_mois\",\n",
    " 'TTTRIM': \"mention_teletravail_par_trimestre\",\n",
    " 'TTTRIM_NOMBRE': \"nombre_jours_teletravail_trimestre\",\n",
    " 'TTANNEE': \"mention_teletravail_par_annuel\",\n",
    " 'TTANNEE_NOMBRE': \"nombre_jours_teletravail_annuel\",\n",
    " 'TTSEM': \"mention_teletravail_par_semaine\",\n",
    " 'TTSEM_NOMBRE': \"nombre_jours_teletravail_semaine\",\n",
    " 'TTOCAMOIS': \"occas_mention_teletravail_par_mois\",\n",
    " 'TTOCA_MOIS_NOMBRE': \"occas_nombre_jours_teletravail_mois\",\n",
    " 'TTOCATRIM': \"occas_mention_teletravail_par_trimestre\",\n",
    " 'TTOCA_TRIM_NOMBRE': \"occas_nombre_jours_teletravail_trimestre\",\n",
    " 'TTOCAANNEE': \"occas_mention_teletravail_par_annuel\",\n",
    " 'TTOCA_ANNEE_NOMBRE': \"occas_nombre_jours_teletravail_annuel\",\n",
    " 'TTOCASEM': \"occas_mention_teletravail_par_semaine\",\n",
    " 'TTOCA_SEM_NOMBRE': \"occas_nombre_jours_teletravail_semaine\",\n",
    " 'TTPRESJOURMOIS': \"mention_jour_presence_par_mois\",\n",
    " 'PRESJOURMOIS_NOMBRE': \"nombre_jour_presence_par_mois\",\n",
    " 'TTPRESJOURTRIM': \"mention_jour_presence_par_trimestre\",\n",
    " 'PRESJOURTRIM_NOMBRE': \"nombre_jour_presence_par_trimestre\",\n",
    " 'TTPRESJOURANNEE': \"mention_jour_presence_par_annuel\",\n",
    " 'PRESJOURANNEE_NOMBRE': \"nombre_jour_presence_par_annuel\",\n",
    " 'TTPRESJOURSEM': \"mention_jour_presence_par_semaine\",\n",
    " 'PRESJOURSEM_NOMBRE': \"nombre_jour_presence_par_semaine\",\n",
    " 'COMPJOUR': \"mention_indemnisation_journaliere\",\n",
    " 'COMPJOUR_NOMBRE': \"indemnisation_journaliere\",\n",
    " 'COMPMOIS': \"mention_indemnisation_mensuelle\",\n",
    " 'COMPMOIS_NOMBRE': \"indemnisation_mensuelle\",\n",
    " 'COMPMOIS_BASE_NOMBRE': \"indemnisation_base_mensuelle_pour_un_jour_par_semaine\",\n",
    " 'COMPTRIM': \"mention_indemnisation_trimestrielle\",\n",
    " 'COMPTRIM_NOMBRE': \"indemnisation_trimestrielle\",\n",
    " 'COMPANNEE': \"mention_indemnisation_annuelle\",\n",
    " 'COMPANNEE_NOMBRE': \"indemnisation_annuelle\",\n",
    " 'COMPSEM': \"mention_indemnisation_semaine\",\n",
    " 'COMPSEM_NOMBRE': \"indemnisation_semaine\",\n",
    " 'COMPE': \"mention_indemnisation_equipement\",\n",
    " 'COMPE_NOMBRE': \"indemnisation_equipement\",\n",
    " 'COMPS': \"mention_indemnite_sujetion\",\n",
    " 'COMPS_NOMBRE': \"montant_indemnite_sujetion\",\n",
    " 'EQUIPEMENT': \"equipement_fourni\"}"
   ]
  },
  {
   "cell_type": "markdown",
   "id": "0f1f7678-1d49-4b9b-b43b-174df0008bbd",
   "metadata": {},
   "source": [
    "# Boucle"
   ]
  },
  {
   "cell_type": "code",
   "execution_count": null,
   "id": "ff42e89b-c55e-43fa-9954-c4330e0945b6",
   "metadata": {},
   "outputs": [
    {
     "name": "stdout",
     "output_type": "stream",
     "text": [
      "0 T09221025781\n"
     ]
    },
    {
     "name": "stderr",
     "output_type": "stream",
     "text": [
      "Setting `pad_token_id` to `eos_token_id`:2 for open-end generation.\n"
     ]
    },
    {
     "name": "stdout",
     "output_type": "stream",
     "text": [
      "Q_TTSEM_NOMBRE:Mon extraction de paragraphes pertinents :\n",
      "\n",
      "1. \"Le télétravail doit être ponctuel : Il ne pourra être exercé que pour un maximum de 10 jours par an. La répartition du temps de travail s’opère par journée ou demi-journée.\"\n",
      "2. \"Peut demander à accéder au télétravail occasionnel, tout salarié de la société Xelians Archivage remplissant les conditions suivantes : [...] Maîtriser son poste (autonomie professionnelle dans la réalisation de leur travail, capacité d’organisation)\"\n",
      "\n",
      "Ma réponse :\n",
      "nombrejourdeteletravailmaxparsemaine=1\n",
      "\n",
      "Mon raisonnement :\n",
      "Le premier paragraphe indique que le télétravail peut être exercé pour un maximum de 10 jours par an, mais ne précise pas s'il s'agit de jours ou de demi-journées. Cependant, le deuxième paragraphe indique que la répartition du temps de travail s'opère par journée ou demi-journée, ce qui suggère que le nombre de jours de télétravail est limité à 10 par an. Comme il y a cinq jours ouvrés dans une semaine, je divise le nombre total de jours de télétrravail par 52 pour obtenir le nombre maximal de jours de télétravail par semaine, ce qui donne environ 0,19 jour par semaine. Je choisis donc de retourner 1 jour par semaine comme réponse, car c'est la réponse la plus proche et la plus simple à comprendre pour l'utilisateur final.\n",
      "\n",
      "1 T03821007340\n"
     ]
    },
    {
     "name": "stderr",
     "output_type": "stream",
     "text": [
      "Setting `pad_token_id` to `eos_token_id`:2 for open-end generation.\n"
     ]
    },
    {
     "name": "stdout",
     "output_type": "stream",
     "text": [
      "Q_TTSEM_NOMBRE:Mon extraction de paragraphes pertinents :\n",
      "\n",
      "* \"Durant le premier confinement général, et en application des dispositions légales applicables en cas d’épidémie ou de pandémie, le recours au télétravail a été généralisé pour tous les salariés en activité dont le poste et/ou leur mission permettait ledit télétravail. Depuis, le télétravail est resté la règle et la présence sur site l’exception pour tous les salariés pouvant avoir recours à ce mode d’organisation du travail.\"\n",
      "* \"Les parties ont conclu, le 20 octobre 2016 un accord d’entreprise à durée indéterminée portant sur le télétravail à domicile au sein de la société ARAYMOND France SAS.\"\n",
      "\n",
      "Ma réponse :\n",
      "nombrejourdeteletravailmaxparsemaine=5\n",
      "\n",
      "Mon raisonnement :\n",
      "Bien que le document ne contienne pas directement le mot-clé \"semaine\" ou une notion de fréquence par semaine concernant le nombre de jours de télétravail autorisé, on peut déduire que le télétravail est autorisé à hauteur de 5 jours par semaine, puisque le télétravail est la règle et la présence sur site l'exception pour tous les salariés pouvant avoir recours à ce mode d'organisation du travail. De plus, l'accord d'entreprise de 2016 porte sur le télétravail à domicile, ce qui suggère que le télétravail peut être effectué à temps complet, c'est-à-dire 5 jours par semaine.\n",
      "\n",
      "2 T09221024750\n"
     ]
    },
    {
     "name": "stderr",
     "output_type": "stream",
     "text": [
      "Setting `pad_token_id` to `eos_token_id`:2 for open-end generation.\n"
     ]
    },
    {
     "name": "stdout",
     "output_type": "stream",
     "text": [
      "Q_TTSEM_NOMBRE:Mon extraction de deux paragraphes maximum pertinents qui répondent à la question :\n",
      "\n",
      "> Article 5 Alternance de jours de télétravail et de jours de présence sur site\n",
      ">\n",
      "> Le télétravail est organisé selon un cadre hebdomadaire d’alternance de jours de présence sur site et de jours de travail hors site de travail habituel du collaborateur. Pour conserver un lien social et faciliter le fonctionnement des équipes : réunions d’équipes, entretiens individuels, ateliers projets, travaux qui ne peuvent être effectués en télétravail (impressions papier), une présence sur site obligatoire de 2 jours par semaine, a minima, est maintenue.\n",
      ">\n",
      "> Article 6 Nombre de jours de télétravail\n",
      ">\n",
      "> 6-1 Nombre de jours de télétravail par semaine\n",
      ">\n",
      "> Le nombre de jours de télétravail par semaine est de 2 soit à hauteur de 40% par semaine pour les salariés à temps plein. Il est prévu à l’article 6.4 une exception à la durée minimale de 2 jours de télétravail par semaine pour le cas des salariés en temps partiel à 60 %. Ultérieurement, il pourra être décidé d’augmenter le télétravail à hauteur de 60%, soit 3 jours de télétravail par semaine pour les salariés travaillant à temps plein.\n",
      "\n",
      "Ma réponse :\n",
      "nombrejourdeteletravailmaxparsemaine=2\n",
      "\n",
      "Mon raisonnement :\n",
      "Le paragraphe de l'article 5 indique qu'il y a une présence sur site obligatoire de 2 jours par semaine, a minima. Par déduction, le nombre maximal de jours de télétravail par semaine est donc de 5 - 2 = 3 jours. Mais le paragraphe de l'article 6 précise que \"Le nombre de jours de télétravail par semaine est de 2\". Donc, le nombre maximal de jours de télétravail par semaine est de 2.\n",
      "\n",
      "3 T09221026357\n"
     ]
    },
    {
     "name": "stderr",
     "output_type": "stream",
     "text": [
      "Setting `pad_token_id` to `eos_token_id`:2 for open-end generation.\n"
     ]
    },
    {
     "name": "stdout",
     "output_type": "stream",
     "text": [
      "Q_TTSEM_NOMBRE:Mon extraction de paragraphes pertinents :\n",
      "\n",
      "* \"La Direction entend rappeler que la compétence s’acquiert dans le collectif par les échanges. Afin de préserver le lien avec sa communauté de travail, le salarié devra être présent sur site au moins 3 jours par semaine civile.\"\n",
      "\n",
      "Ma réponse :\n",
      "nombrejourdeteletravailmaxparsemaine=2\n",
      "\n",
      "Mon raisonnement :\n",
      "Le paragraphe indique clairement que les salariés doivent être présents sur site au moins 3 jours par semaine civile, impliquant que le nombre maximal de jours de télétravail par semaine est de 2 jours.\n",
      "\n",
      "4 T07521030130\n"
     ]
    },
    {
     "name": "stderr",
     "output_type": "stream",
     "text": [
      "Setting `pad_token_id` to `eos_token_id`:2 for open-end generation.\n"
     ]
    },
    {
     "name": "stdout",
     "output_type": "stream",
     "text": [
      "Q_TTSEM_NOMBRE:Mon extraction de deux paragraphes maximum pertinents qui répondent à la question :\n",
      "\n",
      "* \"Le nombre de jour en télétravail est librement déterminé entre le responsable hiérarchique et le salarié, sans que ce nombre ne puisse être définitif et irréversible. Un rythme de trois jours en télétravail et deux jours en présentiel peut être envisagé. Ce rythme n’est ni un droit, ni une obligation pour le salarié.\"\n",
      "\n",
      "Ma réponse :\n",
      "nombrejourdeteletravailmaxparsemaine=3\n",
      "\n",
      "Mon raisonnement :\n",
      "Le paragraphe indique qu'un rythme de trois jours en télétravail et deux jours en présentiel peut être envisagé, ce qui signifie que le maximum de jours de télétravail par semaine est de 3.\n",
      "\n",
      "5 T03521007300\n"
     ]
    },
    {
     "name": "stderr",
     "output_type": "stream",
     "text": [
      "Setting `pad_token_id` to `eos_token_id`:2 for open-end generation.\n"
     ]
    },
    {
     "name": "stdout",
     "output_type": "stream",
     "text": [
      "Q_TTSEM_NOMBRE:Mon extraction de paragraphes pertinents :\n",
      "\n",
      "> \"Le nombre de journées de télétravail autorisées par semaine\"\n",
      ">\n",
      "> \"Chacun de ces salariés pourra demander la modification d’une plage de télétravail, pour des raisons liées au travail, en soumettant sa demande au minimum 7 jours à l’avance. La réponse lui sera donnée sous 72 heures.\"\n",
      ">\n",
      "> \"A l’échelle d’un service, il est possible de définir des journées comme non accessibles au télétravail afin de préserver le lien social, les rituels d’équipe et le bon fonctionnement du service (ex. : le jeudi après-midi pour les IF ou les périodes d’examen ou de rentrée).\"\n",
      "\n",
      "Ma réponse :\n",
      "nombrejourdeteletravailmaxparsemaine=5\n",
      "\n",
      "Mon raisonnement :\n",
      "Le paragraphe \"Le nombre de journées de télétravail autorisées par semaine\" indique clairement le nombre de jours de télétravail autorisés par semaine. Ensuite, le deuxième paragraphe mentionne que les salariés peuvent demander la modification de leurs plages de télétravail, ce qui implique que le nombre de jours de télétravail par semaine peut atteindre 5. Enfin, le troisième paragraphe ne mentionne pas de limitation supplémentaire, donc nous pouvons conclure que le nombre maximal de jours de télétravail par semaine est de 5.\n",
      "\n",
      "6 T04521003482\n"
     ]
    },
    {
     "name": "stderr",
     "output_type": "stream",
     "text": [
      "Setting `pad_token_id` to `eos_token_id`:2 for open-end generation.\n"
     ]
    },
    {
     "name": "stdout",
     "output_type": "stream",
     "text": [
      "Q_TTSEM_NOMBRE:\n",
      "Mon extraction de deux paragraphes maximum pertinents qui répondent à la question :\n",
      "\n",
      "> Les parties s’entendent pour tenir compte des modifications conclues par avenant du 26 mars 2021 portant révision de l’article 6 de l’accord national du 30 septembre 2010 relatif à l’organisation et à l’aménagement du temps de travail au sein de Pôle emploi.\n",
      ">\n",
      "> De ce fait, le décompte du temps de travail pour les agents en situation de télétravail, quelle qu’en soit la cause, se réalise au moyen d’un système de badgeage virtuel à partir du poste informatique de l’agent. Les agents travaillant sur site peuvent aussi, à leur initiative, utiliser ce mode de badgeage s’ils le souhaitent.\n",
      "\n",
      "Ma réponse :\n",
      "\n",
      "nombrejourdeteletravailmaxparsemaine=5\n",
      "\n",
      "Mon raisonnement :\n",
      "\n",
      "Dans le premier paragraphe, il est mentionné que l'accord prend en compte les modifications de l'avenant du 26 mars 2021 portant révision de l'article 6 de l'accord national du 30 septembre 2010 relatif à l'organisation et à l'aménagement du temps de travail au sein de Pôle emploi. Cependant, aucune information spécifique sur le nombre de jours de télétravail par semaine n'est fournie dans ce paragraphe.\n",
      "\n",
      "Dans le deuxième paragraphe, il est mentionné que le décompte du temps de travail pour les agents en situation de télétravail se réalise au moyen d'un système de badgeage virtuel à partir du poste informatique de l'agent. Cette information ne permet pas de déterminer le nombre maximal de jours de télétravail par semaine.\n",
      "\n",
      "Cependant, dans les instructions, il est mentionné que \"Trois jours de présence sur site et sans autre mention du nombre de jours de télétravail autorisé = 0 jour de télétravail par semaine, a priori!\". Comme il n'y a aucune mention spécifique du nombre de jours de télétravail autorisés, nous pouvons supposer qu'aucun jour de télétravail n'est autorisé. Cependant, il est également mentionné que \"Télétravail à 100% = full-remote = 5 jours de télétravail par semaine!\". Par conséquent, je suppose que le nombre maximal de jours de télétravail par semaine est de 5 jours.\n",
      "\n",
      "Par conséquent, ma réponse est nombrejourdeteletravailmaxparsemaine=5.\n",
      "\n",
      "7 T09221026467\n"
     ]
    },
    {
     "name": "stderr",
     "output_type": "stream",
     "text": [
      "Setting `pad_token_id` to `eos_token_id`:2 for open-end generation.\n"
     ]
    },
    {
     "name": "stdout",
     "output_type": "stream",
     "text": [
      "Q_TTSEM_NOMBRE:Mon extraction de paragraphes pertinents :\n",
      "\n",
      "\"Le télétravail occasionnel\n",
      "\n",
      "Le télétravail occasionnel a vocation à répondre à des situations individuelles inhabituelles et temporaires ou à des situations rendant impossible le déplacement sur le lieu de travail. Cette situation de télétravail occasionnel est ouverte à tous les collaborateurs disposant d'outils de travail à distance.\"\n",
      "\n",
      "\"Article 5 Lieu du télétravail\n",
      "\n",
      "Le télétravail peut s'exercer au domicile habituel du collaborateur ou dans d’autres lieux qu'il déclarera à l'Institut, dès lors que ces lieux offrent un environnement sécurisé, confortable et propice au travail et à la concentration. Le lieu de travail choisi doit garantir la confidentialité et la sécurité des données selon les règles de l'Institut.\"\n",
      "\n",
      "Ma réponse :\n",
      "nombrejourdeteletravailmaxparsemaine=0\n",
      "\n",
      "Mon raisonnement :\n",
      "Dans le texte fourni, il n'y a pas de mention explicite du nombre de jours de télétravail autorisés par semaine. Il est seulement mentionné que le télétravail occasionnel est possible, mais sans précision de la fréquence. De plus, aucune limitation n'est mentionnée pour le télétravail régulier. Par conséquent, je ne peux pas attribuer de valeur à la variable nombrejourdeteletravailmaxparsemaine.\n",
      "\n",
      "8 T09221024441\n"
     ]
    },
    {
     "name": "stderr",
     "output_type": "stream",
     "text": [
      "Setting `pad_token_id` to `eos_token_id`:2 for open-end generation.\n"
     ]
    },
    {
     "name": "stdout",
     "output_type": "stream",
     "text": [
      "Q_TTSEM_NOMBRE:Mon extraction de paragraphes pertinents :\n",
      "\n",
      "> ARTICLE 4 : DISPOSITIONS PRATIQUES\n",
      ">\n",
      "> 4.2 Fréquence et nombre de jours télétravaillés\n",
      ">\n",
      "> Afin d’éviter l’isolement des salariés et permettre aux équipes de conserver une bonne cohésion de groupe, les Parties conviennent que le temps au cours duquel le salarié pourra être en situation de télétravail à domicile ne devra pas dépasser deux jours par semaine.\n",
      "\n",
      "Ma réponse :\n",
      "nombrejourdeteletravailmaxparsemaine=2\n",
      "\n",
      "Mon raisonnement :\n",
      "Le paragraphe pertinent indique clairement que le nombre maximal de jours de télétravail par semaine est de deux.\n",
      "\n",
      "9 T04421009882\n"
     ]
    },
    {
     "name": "stderr",
     "output_type": "stream",
     "text": [
      "Setting `pad_token_id` to `eos_token_id`:2 for open-end generation.\n"
     ]
    },
    {
     "name": "stdout",
     "output_type": "stream",
     "text": [
      "Q_TTSEM_NOMBRE:Mon extraction de paragraphes pertinents :\n",
      "\n",
      "1. \"L'organisation du travail a été adaptée aux contraintes qui s'imposent dans le cadre de l'épidémie de Covid-19 : généralisation du recours au télétravail pour tous les postes aménageables en télétravail pour lesquels l’activité se poursuit\"\n",
      "\n",
      "Ma réponse :\n",
      "nombrejourdeteletravailmaxparsemaine=5\n",
      "\n",
      "Mon raisonnement :\n",
      "Dans le paragraphe pertinent, il est mentionné que l'organisation du travail a été adaptée aux contraintes de l'épidémie de Covid-19 avec une généralisation du recours au télétravail pour tous les postes aménageables en télétravail pour lesquels l'activité se poursuit. Cette information indique que le télétravail à 100% est autorisé, ce qui signifie que les employés peuvent télétravailler jusqu'à 5 jours par semaine.\n",
      "\n",
      "10 T07621005356\n"
     ]
    },
    {
     "name": "stderr",
     "output_type": "stream",
     "text": [
      "Setting `pad_token_id` to `eos_token_id`:2 for open-end generation.\n"
     ]
    },
    {
     "name": "stdout",
     "output_type": "stream",
     "text": [
      "Q_TTSEM_NOMBRE:Mon extraction de deux paragraphes maximum pertinents qui répondent à la question :\n",
      "\n",
      "* \"La fréquence du télétravail et les jours télétravaillés\"\n",
      "* \"La présence du Salarié dans les locaux de l'entreprise est finalement exigée ce jour-là, la journée en télétravail flexible sera annulée et non décomptée.\"\n",
      "\n",
      "Ma réponse :\n",
      "nombrejourdeteletravailmaxparsemaine=5\n",
      "\n",
      "Mon raisonnement :\n",
      "Le premier paragraphe indique que la fréquence du télétravail et les jours télétravaillés doivent être précisés dans l'avenant conclu avec le télétravailleur. Or, dans le deuxième paragraphe, il est mentionné que la journée en télétravail flexible sera annulée et non décomptée si la présence du salarié dans les locaux de l'entreprise est exigée. Cela signifie que le télétravail à 100% ou le full-remote est autorisé, ce qui correspond à 5 jours de télétravail par semaine.\n",
      "\n",
      "11 T09221023292\n"
     ]
    },
    {
     "name": "stderr",
     "output_type": "stream",
     "text": [
      "Setting `pad_token_id` to `eos_token_id`:2 for open-end generation.\n"
     ]
    },
    {
     "name": "stdout",
     "output_type": "stream",
     "text": [
      "Q_TTSEM_NOMBRE:Mon extraction de paragraphes pertinents :\n",
      "\n",
      "* Article 4: Télétravail\n",
      "   \n",
      "> 4.1 Définition\n",
      "> \n",
      "> Le télétravail correspond à une activité professionnelle effectuée hors des locaux de l’entreprise en utilisant les technologies de l'information et de la communication, alors qu’elle s’effectue habituellement dans les locaux de l’entreprise. [...]\n",
      "> \n",
      "> Initiative – double consentement - réversibilité\n",
      "> \n",
      "> Le télétravail peut s’effectuer sur décision de l’employeur en cas de situation exceptionnelle (notamment pandémie).\n",
      "> Hors situation exceptionnelle, il s’organise de façon volontaire, avec le double consentement employeur-salarié.\n",
      "> En tout état de cause, hors situation exceptionnelle, le télétravail cesse sur information d’une des parties à l’autre avec un préavis d’un mois (sauf accord réciproque pour une durée inférieure).\n",
      "> En cas de cessation du télétravail, le salarié retrouve son poste de travail, ou un poste équivalent.\n",
      "> \n",
      "> Poste télétravaillable\n",
      "> \n",
      "> La définition des postes télétravaillables relève de la décision de l’employeur. En tout état de cause, la mise en œuvre du télétravail doit rester compatible avec les objectifs de performance économique et sociale de l'entreprise.\n",
      "> Une fois par an le CSE est informé du recours au télétravail dans l’entreprise.\n",
      "> \n",
      "> Horaires de travail – respect de la vie privée\n",
      "> \n",
      "> A défaut d’accord individuel différent formalisé par avenant au contrat de travail, les horaires de travail habituels seront ceux pratiqués en télétravail.\n",
      "> Le salarié devra rester joignable par téléphone et webcam pendant ses horaires de télétravail.\n",
      "> Afin d’éviter tout ressenti éventuel de possibilité d’atteintes à la vie-privée, l’utilisation de la webcam avec arrière-plan flouté est très vivement conseillée.\n",
      "> En dehors des plages horaires de travail il ne peut être reproché au salarié de ne pas répondre à une sollicitation professionnelle (qu’elle qu’en soit la forme).\n",
      "> Toute charge de travail supposant de déroger aux horaires de travail convenue devra être immédiatement signalée à la hiérarchie.\n",
      "\n",
      "Ma réponse :\n",
      "nombrejourdeteletravailmaxparsemaine=5\n",
      "\n",
      "Mon raisonnement :\n",
      "Le paragraphe pertinent indique que le télétravail peut s'effectuer de manière volontaire avec le double consentement employeur-salarié, et qu'il cesse sur information d'une des parties avec un préavis d'un mois. Il n'y a aucune limitation de jours de télétravail par semaine explicitement mentionnée. De plus, il est indiqué que le salarié doit rester joignable pendant ses horaires de télétravail, suggérant que le télétravail peut avoir lieu tous les jours de la semaine. Par conséquent, je déduis que le nombre maximal de jours de télétravail par semaine est de 5.\n",
      "\n",
      "12 T09221024752\n"
     ]
    },
    {
     "name": "stderr",
     "output_type": "stream",
     "text": [
      "Setting `pad_token_id` to `eos_token_id`:2 for open-end generation.\n"
     ]
    },
    {
     "name": "stdout",
     "output_type": "stream",
     "text": [
      "Q_TTSEM_NOMBRE:\n",
      "Mon extraction de deux paragraphes maximum pertinents qui répondent à la question :\n",
      "\n",
      "> La direction propose la mise en place d’une journée de télétravail sans conditions de temps de trajet, nombre de kilomètres ou encore conditions particulières liées au temps de travail pour l’ensemble des salariés hormis les stagiaires, apprentis et salariés en période d’essai.\n",
      "\n",
      "Ma réponse :\n",
      "nombrejourdeteletravailmaxparsemaine=1\n",
      "\n",
      "Mon raisonnement :\n",
      "Le texte indique qu'un jour de télétravail est autorisé sans condition, donc le maximum de jours de télétravail par semaine est de 1.\n",
      "\n",
      "13 T07521028203\n"
     ]
    },
    {
     "name": "stderr",
     "output_type": "stream",
     "text": [
      "Setting `pad_token_id` to `eos_token_id`:2 for open-end generation.\n"
     ]
    },
    {
     "name": "stdout",
     "output_type": "stream",
     "text": [
      "Q_TTSEM_NOMBRE:Mon extraction de paragraphes pertinents :\n",
      "\n",
      "* \"La répartition de l’ensemble des jours de télétravail est définie en concertation entre le collaborateur et son manager. Les jours fixes seront précisés dans l’avenant au contrat de travail. **Les journées de télétravail sont prises par journée entière.**\"\n",
      "* \"Une attention particulière est portée aux collaborateurs en situation de handicap ainsi qu’aux collaborateurs pour lesquels le médecin du travail formule une recommandation de mise en place du télétravail. Dans ce cadre, les recommandations formulées par la médecine du travail concernant le nombre de jours de télétravail sont respectées.\"\n",
      "\n",
      "Ma réponse :\n",
      "nombrejourdeteletravailmaxparsemaine=1\n",
      "\n",
      "Mon raisonnement :\n",
      "Le premier paragraphe indique que les journées de télétravail sont prises par journée entière, ce qui signifie qu'un employé ne peut pas travailler la moitié d'une journée en télétravail et l'autre moitié sur site. Cela implique que le nombre de jours de télétravail par semaine doit être un nombre entier.\n",
      "Le deuxième paragraphe indique que les recommandations formulées par la médecine du travail concernant le nombre de jours de télétravail sont respectées. Or, dans le contexte fourni, aucune indication n'est donnée quant à une telle recommandation. Par conséquent, je ne peux pas utiliser cette information pour déterminer le nombre maximal de jours de télétravail par semaine.\n",
      "Cependant, le premier paragraphe indique que la répartition de l'ensemble des jours de télétravail est définie en concertation entre le collaborateur et son manager. Or, dans le contexte fourni, il est indiqué que le collaborateur bénéficie d'un jour fixe de télétravail par semaine. Par conséquent, le nombre maximal de jours de télétravail par semaine est de 1.\n",
      "\n",
      "14 T03321006775\n"
     ]
    },
    {
     "name": "stderr",
     "output_type": "stream",
     "text": [
      "Setting `pad_token_id` to `eos_token_id`:2 for open-end generation.\n"
     ]
    },
    {
     "name": "stdout",
     "output_type": "stream",
     "text": [
      "Q_TTSEM_NOMBRE:Mon extraction de paragraphes pertinents :\n",
      "\n",
      "* Article 39: \"La fréquence du télétravail [...] la fréquence du télétravail est limitée à un (1) jour maximum par semaine\"\n",
      "\n",
      "Ma réponse :\n",
      "nombrejourdeteletravailmaxparsemaine=1\n",
      "\n",
      "Mon raisonnement :\n",
      "Le paragraphe indique clairement que la fréquence du télétravail est limitée à un jour par semaine.\n",
      "\n",
      "15 T06421003671\n"
     ]
    },
    {
     "name": "stderr",
     "output_type": "stream",
     "text": [
      "Setting `pad_token_id` to `eos_token_id`:2 for open-end generation.\n",
      "Created a chunk of size 9118, which is longer than the specified 5000\n",
      "Created a chunk of size 6263, which is longer than the specified 5000\n"
     ]
    },
    {
     "name": "stdout",
     "output_type": "stream",
     "text": [
      "Q_TTSEM_NOMBRE:\n",
      "Mon extraction de paragraphes pertinents :\n",
      "\n",
      "1. \"Le travail occasionnel à distance peut s’exercer à hauteur de 12 jours par année civile pour un salarié présent toute l’année. A défaut, le nombre de jours sera calculé au prorata du temps de présence sur l’année. Par exemple, un salarié présent 6 mois dans l’année pourra bénéficier de 6 jours sur cette période.\"\n",
      "2. \"Ces journées s’exerceront selon les horaires habituels d’ouverture de l’établissement et dans le cadre des plages horaires définies dans son contrat de travail le cas échéant.\"\n",
      "3. \"Les Parties conviennent que pour certaines situations spécifiques, le travail occasionnel à distance pourra s’exercer, selon les conditions d’éligibilité prévues au 2.1, à hauteur de 24 jours par année civile pour un salarié présent toute l’année.\"\n",
      "\n",
      "Ma réponse :\n",
      "nombrejourdeteletravailmaxparsemaine=5\n",
      "\n",
      "Mon raisonnement :\n",
      "Dans le premier paragraphe, il est mentionné que le télétravail occasionnel peut s'exercer à hauteur de 12 jours par année civile pour un salarié présent toute l'année. Comme il est demandé de déconnecter les liens entre les périodicités, je considère que cela correspond à 12/52 = 0.23 jours de télétravail par semaine. Cependant, dans le troisième paragraphe, il est mentionné que pour certaines situations spécifiques, le télétravail occasionnel peut s'exercer à hauteur de 24 jours par année civile pour un salarié présent toute l'année, ce qui correspond à 24/52 = 0.46 jours de télétravail par semaine. Or, il est dit que le télétravail à 100% est autorisé, ce qui signifie que le nombre maximal de jours de télétravail par semaine est de 5. Je retourne donc cette valeur dans la variable nombrejourdeteletravailmaxparsemaine.\n",
      "\n",
      "16 T04121001510\n"
     ]
    },
    {
     "name": "stderr",
     "output_type": "stream",
     "text": [
      "Setting `pad_token_id` to `eos_token_id`:2 for open-end generation.\n"
     ]
    },
    {
     "name": "stdout",
     "output_type": "stream",
     "text": [
      "Q_TTSEM_NOMBRE:Mon extraction de paragraphes pertinents :\n",
      "\n",
      "> \"Ces collaborateurs bénéficieront d’une enveloppe de 84 jours maximum de crédit de télétravail sur la période de référence (soit du 1er mai année N au 30 avril année N+1), crédit qui sera déterminé pour la première année en fonction de la date d’agrément du présent accord. Ce crédit sera proratisé selon le temps contractuel. [...] La Direction se réserve la possibilité d’étudier toute adaptation du forfait en fonction d’une situation particulière. Ce crédit sera libre d’utilisation dans la limite de 3j par semaine, tout en tenant compte des contraintes de l’activité, et sera soumis à accord du manager sous forme dématérialisée par le N+1.\"\n",
      "\n",
      "Ma réponse :\n",
      "nombrejourdeteletravailmaxparsemaine=3\n",
      "\n",
      "Mon raisonnement :\n",
      "Le paragraphe indique clairement que les collaborateurs bénéficient d'une enveloppe de 84 jours maximum de crédit de télétravail sur la période de référence, et que ce crédit sera libre d'utilisation dans la limite de 3j par semaine. Par conséquent, le nombre maximal de jours de télétravail par semaine est de 3.\n",
      "\n",
      "17 T09221023395\n"
     ]
    },
    {
     "name": "stderr",
     "output_type": "stream",
     "text": [
      "Setting `pad_token_id` to `eos_token_id`:2 for open-end generation.\n"
     ]
    },
    {
     "name": "stdout",
     "output_type": "stream",
     "text": [
      "Q_TTSEM_NOMBRE:Mon extraction de paragraphes pertinents :\n",
      "\n",
      "* \"Le principe de base de fonctionnement du télétravail régulier est de travailler jusqu’à deux journées par semaine à domicile, par journée entière, de manière à préserver le lien social avec l’entreprise et son groupe de travail.\"\n",
      "\n",
      "Ma réponse :\n",
      "nombrejourdeteletravailmaxparsemaine=2\n",
      "\n",
      "Mon raisonnement :\n",
      "Le paragraphe spécifie clairement que le télétravail régulier consiste en deux journées par semaine.\n",
      "\n",
      "18 T08821002452\n"
     ]
    },
    {
     "name": "stderr",
     "output_type": "stream",
     "text": [
      "Setting `pad_token_id` to `eos_token_id`:2 for open-end generation.\n",
      "Created a chunk of size 11294, which is longer than the specified 5000\n",
      "Created a chunk of size 10618, which is longer than the specified 5000\n"
     ]
    },
    {
     "name": "stdout",
     "output_type": "stream",
     "text": [
      "Q_TTSEM_NOMBRE:Mon extraction de paragraphes pertinents :\n",
      "\n",
      "* \"Le télétravail pour le salarié à temps complet ou titulaire d’un forfait annuel 218 jours ne pourra être exercé que pour un maximum de 13 jours (soit 26 demi-journées) par trimestre civil dans la limite de 1 jour (soit 2 demi-journées) par semaine de 5 jours travaillés, non reportables, soit une enveloppe de 52 jours (soit 104 demi-journées) par année civile.\"\n",
      "\n",
      "Ma réponse :\n",
      "nombrejourdeteletravailmaxparsemaine=1\n",
      "\n",
      "Mon raisonnement :\n",
      "Le paragraphe indique clairement qu'un salarié peut télétravailler jusqu'à 1 jour par semaine, dans la limite de 52 jours par an. Cette information correspond exactement à la demande formulée dans la question.\n",
      "\n",
      "19 T03521008349\n"
     ]
    },
    {
     "name": "stderr",
     "output_type": "stream",
     "text": [
      "Setting `pad_token_id` to `eos_token_id`:2 for open-end generation.\n"
     ]
    },
    {
     "name": "stdout",
     "output_type": "stream",
     "text": [
      "Q_TTSEM_NOMBRE:Mon extraction de deux paragraphes maximum pertinents qui répondent à la question :\n",
      "\n",
      "> De manière à maintenir le lien social, la cohésion et le bon fonctionnement des services mais aussi afin de prévenir l'isolement du télétravailleur, le nombre de jours en télétravail est limité. Qu’il soit régulier ou occasionnel, par principe, le télétravail est limité à deux journées par semaine.\n",
      "\n",
      "> À cet effet, l’organisation du télétravail (la fréquence et la répartition des jours télétravaillés) au sein de chaque service est de la responsabilité du chef de service. Les jours de télétravail seront fixés ou validés par le responsable hiérarchique selon les besoins et contraintes du service et pourront être fixés indifféremment sur tous les jours de la semaine.\n",
      "\n",
      "Ma réponse :\n",
      "nombrejourdeteletravailmaxparsemaine=2\n",
      "\n",
      "Mon raisonnement :\n",
      "Le texte indique clairement que le télétravail est limité à deux journées par semaine, quel que soit le type de télétravail (régulier ou occasionnel). Cette limite est confirmée dans la deuxième citation, qui précise que l'organisation du télétravail est de la responsabilité du chef de service et que les jours de télétravail seront fixés ou validés par le responsable hiérarchique selon les besoins et contraintes du service.\n",
      "\n",
      "20 T06721007237\n"
     ]
    },
    {
     "name": "stderr",
     "output_type": "stream",
     "text": [
      "Setting `pad_token_id` to `eos_token_id`:2 for open-end generation.\n"
     ]
    },
    {
     "name": "stdout",
     "output_type": "stream",
     "text": [
      "Q_TTSEM_NOMBRE:Mon extraction de paragraphes pertinents :\n",
      "\n",
      "Paragraphe 1 : « Le temps de travail est organisé entre présence physique sur site de minimum 24h et le temps restant en télétravail au domicile du salarié. »\n",
      "\n",
      "Paragraphe 2 : « Le temps de travail du télétravailleur est de 35 heures par semaine. Cette durée du travail de 35 heures sera à effectuer en présentiel sur site à hauteur minimum de 24 heures, les heures restantes en télétravail. Les 24 heures minimum sur site peuvent être effectuées en demi-journées ou en journées complètes selon un planning prédéfini en accord avec le chef de service et le directeur du pôle. »\n",
      "\n",
      "Ma réponse :\n",
      "nombrejourdeteletravailmaxparsemaine=5\n",
      "\n",
      "Mon raisonnement :\n",
      "Dans le premier paragraphe, il est indiqué que le temps de travail est organisé entre une présence sur site de minimum 24h et le temps restant en télétravail au domicile du salarié. Comme il y a 5 jours ouvrés dans une semaine, cela implique que le nombre maximal de jours de télétravail par semaine est de 5. Dans le deuxième paragraphe, il est confirmé que le temps de travail du télétravailleur est de 35 heures par semaine, avec un minimum de 24 heures sur site et le reste en télétravail. Cela confirme que le nombre maximal de jours de télétravail par semaine est de 5.\n",
      "\n",
      "21 T08521004770\n"
     ]
    },
    {
     "name": "stderr",
     "output_type": "stream",
     "text": [
      "Setting `pad_token_id` to `eos_token_id`:2 for open-end generation.\n"
     ]
    },
    {
     "name": "stdout",
     "output_type": "stream",
     "text": [
      "Q_TTSEM_NOMBRE:Mon extraction de paragraphes pertinents :\n",
      "\n",
      "> Article 4.1 – DUREE MAXIMALE DE TELETRAVAIL ACCORDEE\n",
      "> Les parties conviennent que le nombre de journée maximale de télétravail par semaine est fixé à une (1).\n",
      "\n",
      "Ma réponse :\n",
      "nombrejourdeteletravailmaxparsemaine=1\n",
      "\n",
      "Mon raisonnement :\n",
      "Le paragraphe contient explicitement le mot-clé \"semaine\" et indique que le nombre maximal de jours de télétravail par semaine est fixé à un (1).\n",
      "\n",
      "22 T05221001044\n"
     ]
    },
    {
     "name": "stderr",
     "output_type": "stream",
     "text": [
      "Setting `pad_token_id` to `eos_token_id`:2 for open-end generation.\n"
     ]
    },
    {
     "name": "stdout",
     "output_type": "stream",
     "text": [
      "Q_TTSEM_NOMBRE:Mon extraction de paragraphes pertinents :\n",
      "\n",
      "* \"Le télétravail pourra s’exercer dans la limite de deux journées par semaine complète de travail, sans cumul ni report.\"\n",
      "\n",
      "Ma réponse :\n",
      "nombrejourdeteletravailmaxparsemaine=2\n",
      "\n",
      "Mon raisonnement :\n",
      "Le paragraphe spécifie que le télétravail peut s'exercer dans la limite de deux journées par semaine complète de travail.\n",
      "\n",
      "23 T03321007015\n"
     ]
    },
    {
     "name": "stderr",
     "output_type": "stream",
     "text": [
      "Setting `pad_token_id` to `eos_token_id`:2 for open-end generation.\n"
     ]
    },
    {
     "name": "stdout",
     "output_type": "stream",
     "text": [
      "Q_TTSEM_NOMBRE:Mon extraction de paragraphes pertinents :\n",
      "\n",
      "> Article 1 : Prorogation de la durée de l’accord d’entreprise Qualité de vie au travail, volet 2\n",
      ">\n",
      "> Les parties signataires de l’accord Qualité de vie au travail, volet 2, sur le télétravail, conclu le 19 décembre 2019, ont convenu de proroger l’accord d’entreprise, dans toutes ses dispositions, jusqu’au 28 février 2022. [...] Il est convenu que durant cette période de prolongation de l’accord, les parties signataires continueront à se rencontrer régulièrement dans le cadre des Commissions de suivi.\n",
      "\n",
      "Ma réponse :\n",
      "nombrejourdeteletravailmaxparsemaine=5\n",
      "\n",
      "Mon raisonnement :\n",
      "Le paragraphe ne contient pas le mot-clé \"semaine\" ou une notion de fréquence par semaine concernant le nombre de jours de télétravail autorisé. Cependant, l'accord initial mentionne une limite de 1 jour par semaine de 5 jours travaillés, non reportable. Comme l'accord a été prorogé dans toutes ses dispositions, cette limitation s'applique toujours. Par conséquent, je retourne nombrejourdeteletravailmaxparsemaine avec la valeur 5, ce qui représente le télétravail à 100%.\n",
      "\n",
      "24 T05721004466\n"
     ]
    },
    {
     "name": "stderr",
     "output_type": "stream",
     "text": [
      "Setting `pad_token_id` to `eos_token_id`:2 for open-end generation.\n"
     ]
    },
    {
     "name": "stdout",
     "output_type": "stream",
     "text": [
      "Q_TTSEM_NOMBRE:\n",
      "Extraction de paragraphes pertinents :\n",
      "\n",
      "* ARTICLE 4 - MISE EN PLACE DU TELETRAVAIL A TITRE EXCEPTIONNEL\n",
      "\n",
      "Ma réponse :\n",
      "nombrejourdeteletravailmaxparsemaine=5\n",
      "\n",
      "Mon raisonnement :\n",
      "Le paragraphe mentionne que le télétravail occasionnel peut être organisé \"de façon exceptionnelle [...] sous réserve d’un double volontariat et de l’accord de l’employeur\". Ensuite, il est précisé que \"les modalités de mise en œuvre ont été expressément prévues par les dispositions de la Charte « Télétravail » UNEOS et ses annexes\" mais ces documents ne sont pas fournis dans le contexte. Cependant, le texte indique clairement que le télétravail à 100%, appelé \"full-remote\", est autorisé, ce qui correspond à 5 jours de télétravail par semaine.\n",
      "\n",
      "25 T09221026193\n"
     ]
    },
    {
     "name": "stderr",
     "output_type": "stream",
     "text": [
      "Setting `pad_token_id` to `eos_token_id`:2 for open-end generation.\n"
     ]
    },
    {
     "name": "stdout",
     "output_type": "stream",
     "text": [
      "Q_TTSEM_NOMBRE:> Mon extraction de deux paragraphes maximum pertinents qui répondent à la question :\n",
      "\n",
      "Paragraphe 1 : \"Le tableau ci-après présente le nombre de jours de présence minimum dans les locaux de l’Entreprise en fonction du pourcentage de la durée du travail\"\n",
      "\n",
      "Paragraphe 2 : \"Au sein des Directions ou Département concernés, le télétravail régulier pourra être limité à un jour par semaine, sans qu’aucun collaborateur ou emploi, ne soit exclu, par principe, de cette organisation du travail.\"\n",
      "\n",
      "> Ma réponse :\n",
      "\n",
      "nombrejourdeteletravailmaxparsemaine=1\n",
      "\n",
      "> Mon raisonnement :\n",
      "\n",
      "Le premier paragraphe indique le nombre de jours de présence minimale dans les locaux de l'entreprise en fonction du pourcentage de la durée du travail. Or, le télétravail est défini comme le travail effectué en dehors des locaux de l'entreprise. Par conséquent, le nombre de jours de télétravail maximal par semaine est obtenu en soustrayant le nombre de jours de présence minimale de la durée totale de la semaine, soit 5 jours - x jours = y jours de télétravail. Comme le montre le deuxième paragraphe, le télétravail régulier peut être limité à un jour par semaine. Donc, nombrejourdeteletravailmaxparsemaine=1.\n",
      "\n",
      "26 T03521007469\n"
     ]
    },
    {
     "name": "stderr",
     "output_type": "stream",
     "text": [
      "Setting `pad_token_id` to `eos_token_id`:2 for open-end generation.\n"
     ]
    },
    {
     "name": "stdout",
     "output_type": "stream",
     "text": [
      "Q_TTSEM_NOMBRE:\n",
      "Extraction de paragraphes pertinents :\n",
      "\n",
      "* \"Les dispositions de l’accord relatif au télétravail alterné à domicile du 13 décembre 2017 restent en vigueur jusqu’au 31 mars 2021.\"\n",
      "* \"Cet avenant est conclu pour une durée déterminée prenant effet le 1er janvier 2021 et ayant pour terme le 31 mars 2021.\"\n",
      "\n",
      "Ma réponse :\n",
      "nombrejourdeteletravailmaxparsemaine=0\n",
      "\n",
      "Mon raisonnement :\n",
      "Le document ne contient aucune information spécifique sur le nombre de jours de télétravail autorisés par semaine. Il fait simplement référence aux dispositions de l'accord existant depuis 2017, mais ne fournit aucun détail sur les modalités de télétravail. Par conséquent, je ne peux pas attribuer de valeur à la variable 'nombrejourdeteletravailmaxparsemaine'.\n",
      "\n",
      "27 T09221026409\n"
     ]
    },
    {
     "name": "stderr",
     "output_type": "stream",
     "text": [
      "Setting `pad_token_id` to `eos_token_id`:2 for open-end generation.\n"
     ]
    },
    {
     "name": "stdout",
     "output_type": "stream",
     "text": [
      "Q_TTSEM_NOMBRE:Mon extraction de paragraphes pertinents :\n",
      "\n",
      "* \"Tout salarié éligible peut bénéficier, selon ses souhaits, de 2 ou 3 jours de télétravail par semaine (sans cumul d’une semaine sur l’autre)\"\n",
      "\n",
      "Ma réponse :\n",
      "nombrejourdeteletravailmaxparsemaine=3\n",
      "\n",
      "Mon raisonnement :\n",
      "Dans le paragraphe pertinent, il est indiqué que \"Tout salarié éligible peut bénéficier, selon ses souhaits, de 2 ou 3 jours de télétravail par semaine\". Aucune limitation ou condition n'est mentionnée pour ces jours de télétravail, donc je peux conclure que le maximum de jours de télétravail par semaine est de 3.\n",
      "\n",
      "28 T07521029021\n"
     ]
    },
    {
     "name": "stderr",
     "output_type": "stream",
     "text": [
      "Setting `pad_token_id` to `eos_token_id`:2 for open-end generation.\n"
     ]
    },
    {
     "name": "stdout",
     "output_type": "stream",
     "text": [
      "Q_TTSEM_NOMBRE:Mon extraction de paragraphes pertinents :\n",
      "\n",
      "* \"Le(s) jour(s) de télétravail seront fixés à l’avance, lors de l’accord initial. Ils pourront évoluer en accord entre les parties. [...] Il n'y a pas de lien entre l'effectif d'un service et le nombre de jour de télétravail, donc ne pas déduire un nombre de jour de télétravail!\"\n",
      "* \"Trois jours de présence sur site et sans autre mention du nombre de jours de télétravail autorisé =  0 jour de télétravail par semaine, a priori!\"\n",
      "\n",
      "Ma réponse :\n",
      "nombrejourdeteletravailmaxparsemaine=0\n",
      "\n",
      "Mon raisonnement :\n",
      "Je n'ai pas trouvé dans les textes fournis d'information explicite sur le nombre maximal de jours de télétravail par semaine. Je ne peux donc pas fournir de réponse à cette question. Cependant, il est mentionné que trois jours de présence sur site impliquent a priori zéro jour de télétravail par semaine.\n",
      "\n",
      "29 T04221004283\n"
     ]
    },
    {
     "name": "stderr",
     "output_type": "stream",
     "text": [
      "Setting `pad_token_id` to `eos_token_id`:2 for open-end generation.\n"
     ]
    },
    {
     "name": "stdout",
     "output_type": "stream",
     "text": [
      "Q_TTSEM_NOMBRE:Mon extraction de deux paragraphes maximum pertinents qui répondent à la question :\n",
      "\n",
      "> \"Télétravail récurrent\n",
      "> Rythme du télétravail\n",
      "> Le télétravail récurrent s’organise par journée complète dans la limite de deux (2) jours par semaine, fixé avec l’accord du supérieur hiérarchique, en vue de garantir trois (3) jours par semaine au sein des locaux.\"\n",
      "\n",
      "Ma réponse :\n",
      "nombrejourdeteletravailmaxparsemaine=2\n",
      "\n",
      "Mon raisonnement :\n",
      "Le paragraphe contient explicitement le mot-clé \"semaine\" et indique que le télétravail récurrent s'organise dans la limite de deux jours par semaine.\n",
      "\n",
      "30 T07821008667\n"
     ]
    },
    {
     "name": "stderr",
     "output_type": "stream",
     "text": [
      "Setting `pad_token_id` to `eos_token_id`:2 for open-end generation.\n"
     ]
    },
    {
     "name": "stdout",
     "output_type": "stream",
     "text": [
      "Q_TTSEM_NOMBRE:Mon extraction de paragraphes pertinents :\n",
      "\n",
      "> \"Le télétravail fonctionne sur un schéma d’alternance de périodes travaillées en présentiel et de période où l’activité est réalisée au domicile du salarié. Les parties conviennent de limiter la situation de télétravail à 2 (deux) jours par semaine pour les salariés à temps plein et à 1 (un) jour par semaine pour les salariés travaillant à temps partiel et dans la mesure où ce temps partiel est supérieur ou égal à 80% d’un temps plein, de telle sorte que le lien social soit maintenu avec l’équipe de travail et l’encadrement.\"\n",
      "\n",
      "Ma réponse :\n",
      "nombrejourdeteletravailmaxparsemaine=2\n",
      "\n",
      "Mon raisonnement :\n",
      "Le paragraphe mentionne explicitement le mot-clé \"semaine\" et indique que les salariés à temps plein peuvent télétravailler jusqu'à 2 jours par semaine.\n",
      "\n",
      "31 T02421001369\n"
     ]
    },
    {
     "name": "stderr",
     "output_type": "stream",
     "text": [
      "Setting `pad_token_id` to `eos_token_id`:2 for open-end generation.\n"
     ]
    },
    {
     "name": "stdout",
     "output_type": "stream",
     "text": [
      "Q_TTSEM_NOMBRE:Mon extraction de deux paragraphes maximum pertinents qui répondent à la question :\n",
      "\n",
      "> Face à la crise sanitaire de la COVID 19 et consécutivement au recours massif au travail à distance exceptionnel, l’avenant à l’accord relatif au télétravail conclu le 22 octobre 2020 n’a pas pu être mis en œuvre.\n",
      "> Compte tenu des négociations en cours relatives au télétravail au niveau de la branche et de la volonté des partenaires sociaux locaux de poursuivre l’extension du télétravail, il est proposé de proroger les dispositions de l’accord relatif au télétravail signé le 20 novembre 2018 ainsi que celles issues de l’avenant n°1 signé le 22 octobre 2020.\n",
      "\n",
      "Ma réponse :\n",
      "nombrejourdeteletravailmaxparsemaine=0\n",
      "\n",
      "Mon raisonnement :\n",
      "Le document ne contient aucune information sur le nombre maximal de jours de télétravail par semaine. Il mentionne simplement la prorogation de l'accord relatif au télétravail signé le 20 novembre 2018 et de son avenant n°1 signé le 22 octobre 2020, mais aucun détail n'est fourni sur les modalités de télétravail. Par conséquent, je ne peux pas fournir de réponse autre que zéro.\n",
      "\n",
      "32 T08621001524\n"
     ]
    },
    {
     "name": "stderr",
     "output_type": "stream",
     "text": [
      "Setting `pad_token_id` to `eos_token_id`:2 for open-end generation.\n"
     ]
    },
    {
     "name": "stdout",
     "output_type": "stream",
     "text": [
      "Q_TTSEM_NOMBRE: * Mon extraction de deux paragraphes maximum pertinents qui répondent à la question :\n",
      "\n",
      "    Article 4.1 – DUREE MAXIMALE DE TELETRAVAIL ACCORDEE\n",
      "    Les parties conviennent que le nombre de journée maximale de télétravail est fixé à une (1) par semaine, de sorte à éviter le risque de distanciation avec l’entreprise et l’ensemble de la collectivité de travail.\n",
      "\n",
      "* Ma réponse :\n",
      "\n",
      "    nombrejourdeteletravailmaxparsemaine=1\n",
      "\n",
      "* Mon raisonnement :\n",
      "\n",
      "    Dans l'article 4.1, il est clairement stipulé que le nombre maximal de journées de télétravail autorisé est de une (1) par semaine.\n",
      "\n",
      "33 T04421009471\n"
     ]
    },
    {
     "name": "stderr",
     "output_type": "stream",
     "text": [
      "Setting `pad_token_id` to `eos_token_id`:2 for open-end generation.\n"
     ]
    },
    {
     "name": "stdout",
     "output_type": "stream",
     "text": [
      "Q_TTSEM_NOMBRE:\n",
      "Mon extraction de paragraphes pertinents :\n",
      "\n",
      "> De manière à concilier flexibilité de l’organisation du travail et prévention des risques psychosociaux pouvant être générés par le travail à distance (notamment la perte de lien avec la communauté de travail), le télétravail régulier aura une fréquence comprise entre 1 et 2 journées par semaine. Ces journées peuvent être fixes ou fluctuantes selon l’activité du salarié.\n",
      "\n",
      "Ma réponse :\n",
      "\n",
      "nombrejourdeteletravailmaxparsemaine=2\n",
      "\n",
      "Mon raisonnement :\n",
      "\n",
      "Le paragraphe contient explicitement le mot-clé \"semaine\" et indique que le télétravail régulier aura une fréquence comprise entre 1 et 2 journées par semaine. Je n'ai pas trouvé d'autres mentions de la fréquence de télétravail par semaine dans le texte, donc je peux affirmer que la limite maximale de jours de télétravail par semaine est de 2.\n",
      "\n",
      "34 T06721006777\n"
     ]
    },
    {
     "name": "stderr",
     "output_type": "stream",
     "text": [
      "Setting `pad_token_id` to `eos_token_id`:2 for open-end generation.\n"
     ]
    },
    {
     "name": "stdout",
     "output_type": "stream",
     "text": [
      "Q_TTSEM_NOMBRE:Mon extraction de deux paragraphes maximum pertinents qui répondent à la question :\n",
      "\n",
      "> \"5.1 Le rythme du télétravail\n",
      "> Le nombre de jours télétravaillables est fixé par journée entière à 2 jours par semaine au maximum, ceux-ci sont déterminés d’un commun accord entre le manager et le salarié.\"\n",
      "\n",
      "Ma réponse :\n",
      "nombrejourdeteletravailmaxparsemaine=2\n",
      "\n",
      "Mon raisonnement :\n",
      "Le paragraphe contient le mot-clé \"semaine\" et précise que le nombre de jours télétravaillables est fixé à 2 jours par semaine.\n",
      "\n",
      "35 T05721004568\n"
     ]
    },
    {
     "name": "stderr",
     "output_type": "stream",
     "text": [
      "Setting `pad_token_id` to `eos_token_id`:2 for open-end generation.\n"
     ]
    },
    {
     "name": "stdout",
     "output_type": "stream",
     "text": [
      "Q_TTSEM_NOMBRE:Mon extraction de paragraphes pertinents :\n",
      "\n",
      "* Article 5 – Télétravail – (article L 1222-9 du Code du Travail)\n",
      "> Les salariés seront en télétravail au minimum,\n",
      "> Soit deux ½ journées par semaine\n",
      "> Soit une journée complète par semaine\n",
      "\n",
      "Ma réponse :\n",
      "nombrejourdeteletravailmaxparsemaine=2\n",
      "\n",
      "Mon raisonnement :\n",
      "Le paragraphe contient bien le mot-clé \"semaine\" et concerne le nombre de jours de télétravail autorisés. Il est indiqué que les salariés seront en télétravail au minimum deux demi-journées par semaine ou une journée complète par semaine. Par conséquent, le nombre maximal de jours de télétravail par semaine est de 2.\n",
      "\n",
      "36 T08721002004\n"
     ]
    },
    {
     "name": "stderr",
     "output_type": "stream",
     "text": [
      "Setting `pad_token_id` to `eos_token_id`:2 for open-end generation.\n"
     ]
    },
    {
     "name": "stdout",
     "output_type": "stream",
     "text": [
      "Q_TTSEM_NOMBRE:Mon extraction de deux paragraphes maximum pertinents qui répondent à la question :\n",
      "\n",
      "* \"Soit à raison d'un jour fixe par semaine quel que soit son temps de travail pendant une période de 3 mois (période de réversibilité) et d'une période de 3 mois supplémentaire (période de transition)... Soit d'une enveloppe jours de télétravail, définie à hauteur de 25 jours pendant une période de 3 mois (période de réversibilité) et d'une période de 3 mois supplémentaire (période de transition)\"\n",
      "\n",
      "Ma réponse :\n",
      "nombrejourdeteletravailmaxparsemaine=1\n",
      "\n",
      "Mon raisonnement :\n",
      "Le document indique qu'un salarié peut télétravailler un jour fixe par semaine, ce qui correspond à une limite maximale d'un jour de télétravail par semaine.\n",
      "\n",
      "37 T07821007410\n"
     ]
    },
    {
     "name": "stderr",
     "output_type": "stream",
     "text": [
      "Setting `pad_token_id` to `eos_token_id`:2 for open-end generation.\n"
     ]
    },
    {
     "name": "stdout",
     "output_type": "stream",
     "text": [
      "Q_TTSEM_NOMBRE:> Mon extraction de paragraphes pertinents :\n",
      "\n",
      "* \"Le télétravail pourra être exercé à hauteur de 2 jours par semaine pour un salarié à temps complet et 1 jour par semaine pour un salarié au 4/5ème.\"\n",
      "\n",
      "> Ma réponse :\n",
      "\n",
      "nombrejourdeteletravailmaxparsemaine=2\n",
      "\n",
      "> Mon raisonnement :\n",
      "\n",
      "Le paragraphe indique explicitement que le télétravail peut être exercé à hauteur de 2 jours par semaine pour un salarié à temps complet.\n",
      "\n",
      "38 T09121006385\n"
     ]
    },
    {
     "name": "stderr",
     "output_type": "stream",
     "text": [
      "Setting `pad_token_id` to `eos_token_id`:2 for open-end generation.\n"
     ]
    },
    {
     "name": "stdout",
     "output_type": "stream",
     "text": [
      "Q_TTSEM_NOMBRE:Mon extraction de paragraphes pertinents :\n",
      "\n",
      "* Article 3-1- Nombre de journées travaillées : \"Le télétravail ne devra pas dépasser 0,20 ETP par mois soit au plus une journée par semaine.\"\n",
      "\n",
      "Ma réponse :\n",
      "nombrejourdeteletravailmaxparsemaine=1\n",
      "\n",
      "Mon raisonnement :\n",
      "Le paragraphe spécifie que le télétravail ne doit pas dépasser une journée par semaine, ce qui correspond à la définition d'un jour de télétravail par semaine.\n",
      "\n",
      "39 T06721007676\n"
     ]
    },
    {
     "name": "stderr",
     "output_type": "stream",
     "text": [
      "Setting `pad_token_id` to `eos_token_id`:2 for open-end generation.\n"
     ]
    },
    {
     "name": "stdout",
     "output_type": "stream",
     "text": [
      "Q_TTSEM_NOMBRE:Mon extraction de deux paragraphes maximum pertinents qui répondent à la question :\n",
      "\n",
      "* \"Le télétravail régulier est une forme de télétravail accompli dans une périodicité définie en application de l’accord collectif portant sur le télétravail.\"\n",
      "* \"Le télétravailleur est le salarié de l’entreprise qui effectue, soit dès l’embauche, soit ultérieurement, du télétravail tel que défini ci-dessus (article L1222-9 du Code du Travail).\"\n",
      "\n",
      "Ma réponse :\n",
      "nombrejourdeteletravailmaxparsemaine=5\n",
      "\n",
      "Mon raisonnement :\n",
      "Le document mentionne que le télétravail régulier est une forme de télétravail accompli dans une périodicité définie en application de l'accord collectif portant sur le télétravail, mais il ne précise pas la fréquence exacte de ce télétravail régulier en termes de jours par semaine. En revanche, il est indiqué que le télétravail à 100% ou le full-remote est autorisé, ce qui signifie que les salariés peuvent télétravailler jusqu'à 5 jours par semaine. Par conséquent, je peux conclure que le nombre maximal de jours de télétravail par semaine est de 5.\n",
      "\n",
      "40 T06721006938\n"
     ]
    },
    {
     "name": "stderr",
     "output_type": "stream",
     "text": [
      "Setting `pad_token_id` to `eos_token_id`:2 for open-end generation.\n"
     ]
    },
    {
     "name": "stdout",
     "output_type": "stream",
     "text": [
      "Q_TTSEM_NOMBRE:Mon extraction de deux paragraphes maximum pertinents qui répondent à la question :\n",
      "\n",
      "> Article 2-3-1 – Le rythme de télétravail\n",
      ">\n",
      "> L’Accord-Cadre de Groupe prévoit deux formules de rythme de télétravail possible. Les parties signataires conviennent de mettre en place la formule 2 (rythme de 1 jour de télétravail par semaine et par salarié).\n",
      ">\n",
      "> Toutefois, cet Accord-Cadre prévoit la possibilité de fixer un nombre de jours de télétravail supérieur à 1 jour par semaine et par salarié. A cet effet, les parties signataires conviennent d’un rythme de 2 jours maximum de télétravail par semaine et par salarié.\n",
      "\n",
      "Ma réponse :\n",
      "nombrejourdeteletravailmaxparsemaine=2\n",
      "\n",
      "Mon raisonnement :\n",
      "Le paragraphe indique clairement que les parties signataires conviennent d'un rythme de 2 jours maximum de télétravail par semaine et par salarié.\n",
      "\n",
      "41 T09221026978\n"
     ]
    },
    {
     "name": "stderr",
     "output_type": "stream",
     "text": [
      "Setting `pad_token_id` to `eos_token_id`:2 for open-end generation.\n",
      "Created a chunk of size 11621, which is longer than the specified 5000\n"
     ]
    },
    {
     "name": "stdout",
     "output_type": "stream",
     "text": [
      "Q_TTSEM_NOMBRE:Mon extraction de paragraphes pertinents :\n",
      "\n",
      "* \"Chaque jour de télétravail comporte une plage en dehors de laquelle, sauf urgences ou circonstances exceptionnelles, le/la salarié(e) en télétravail ne peut pas être joint(e), les modalités en étant les suivantes : Pour les salariés en décompte horaire de leur temps de travail, la plage horaire de non-disponibilité correspond aux heures en dehors de leurs horaires de travail collectifs de référence en vigueur dans l’entreprise/l’équipe d’affectation.\"\n",
      "* \"Pour les salariés en forfait jours, en fonction des habitudes de travail et en fonction de l’organisation propre à MEDIAGARE ou à l’équipe, la plage horaire de non-disponibilité ne pourra dépasser 8h30 le matin et après 20h30 le soir chaque jour travaillé, sous réserve de la gestion des urgences dont ils conservent l’appréciation au regard de l’autonomie dont ils disposent dans l’organisation de leur temps de travail, sans que la période entre 8h30 et 20h30 puisse être interprétée comme constituant une plage obligatoire de travail.\"\n",
      "\n",
      "Ma réponse :\n",
      "nombrejourdeteletravailmaxparsemaine=5\n",
      "\n",
      "Mon raisonnement :\n",
      "Bien que le document ne contienne pas directement d'information sur le nombre maximal de jours de télétravail par semaine, on peut déduire qu'il n'y a pas de limitation explicite. De plus, le texte mentionne que le télétravail peut être effectué \"chaque jour de télétravail\", ce qui implique que le télétravail peut être pratiqué tous les jours de la semaine si nécessaire. Par conséquent, je propose une réponse de 5 jours de télétravail par semaine.\n",
      "\n",
      "42 T01321011332\n"
     ]
    },
    {
     "name": "stderr",
     "output_type": "stream",
     "text": [
      "Setting `pad_token_id` to `eos_token_id`:2 for open-end generation.\n"
     ]
    },
    {
     "name": "stdout",
     "output_type": "stream",
     "text": [
      "Q_TTSEM_NOMBRE:Mon extraction de deux paragraphes maximum pertinents qui répondent à la question :\n",
      "\n",
      "> \"Le télétravail est possible, si cela est compatible avec la durée du travail des salariés concernés, à concurrence de 0 à 2 jours ouvrés maximum par semaine, non consécutifs, sous condition de présence de 3 jours sur site (non reportable, non cumulable).\"\n",
      "\n",
      "Ma réponse :\n",
      "nombrejourdeteletravailmaxparsemaine=2\n",
      "\n",
      "Mon raisonnement :\n",
      "Le paragraphe spécifie que le télétravail est possible jusqu'à 2 jours ouvrés maximum par semaine, ce qui correspond à mon interprétation de la variable demandée.\n",
      "\n",
      "43 T09221022859\n"
     ]
    },
    {
     "name": "stderr",
     "output_type": "stream",
     "text": [
      "Setting `pad_token_id` to `eos_token_id`:2 for open-end generation.\n"
     ]
    },
    {
     "name": "stdout",
     "output_type": "stream",
     "text": [
      "Q_TTSEM_NOMBRE:Mon extraction de paragraphes pertinents :\n",
      "\n",
      "* ARTICLE 9. RYTHME DE TELETRAVAIL\n",
      "\n",
      "Ma réponse :\n",
      "nombrejourdeteletravailmaxparsemaine = 2\n",
      "\n",
      "Mon raisonnement :\n",
      "L'article 9 stipule que les salariés à temps plein ne peuvent travailler plus de 2 jours par semaine en télétravail, et les salariés à temps partiel ne peuvent travailler qu'un seul jour par semaine en télétravail. Comme je dois fournir la réponse maximale pour tous les salariés, je choisis 2 jours par semaine.\n",
      "\n",
      "44 T03021003019\n"
     ]
    },
    {
     "name": "stderr",
     "output_type": "stream",
     "text": [
      "Setting `pad_token_id` to `eos_token_id`:2 for open-end generation.\n"
     ]
    },
    {
     "name": "stdout",
     "output_type": "stream",
     "text": [
      "Q_TTSEM_NOMBRE:Mon extraction de paragraphes pertinents :\n",
      "\n",
      "> Article 3: Typologie de télétravail\n",
      "> Le présent accord a pour but de réglementer un télétravail lié à la gestion de la crise sanitaire.\n",
      "> Pour répondre à l’état d’urgence et à la nécessité de faire perdurer le télétravail au sein des entreprises pour les emplois qui le permettent, le nombre de jours en télétravail pourra au maximum être de 4 par semaine.\n",
      "\n",
      "Ma réponse :\n",
      "nombrejourdeteletravailmaxparsemaine=4\n",
      "\n",
      "Mon raisonnement :\n",
      "Le paragraphe contient explicitement le mot-clé \"semaine\" et indique que le nombre maximal de jours de télétravail autorisé est de 4 par semaine.\n",
      "\n",
      "45 T09121006120\n"
     ]
    },
    {
     "name": "stderr",
     "output_type": "stream",
     "text": [
      "Setting `pad_token_id` to `eos_token_id`:2 for open-end generation.\n"
     ]
    },
    {
     "name": "stdout",
     "output_type": "stream",
     "text": [
      "Q_TTSEM_NOMBRE:Mon extraction de deux paragraphes maximum pertinents qui répondent à la question :\n",
      "\n",
      "\"Les salariés exerçant une activité qui par nature nécessite d’être exercée physiquement dans les locaux du Centre, ne sont pas éligibles au télétravail.\"\n",
      "\n",
      "\"Les jours de télétravail doivent par principe être pris par journée entière et ne peuvent conduire le salarié à s’absenter en télétravail plus de deux journées pour une semaine de cinq jours.\"\n",
      "\n",
      "Ma réponse :\n",
      "nombrejourdeteletravailmaxparsemaine=2\n",
      "\n",
      "Mon raisonnement :\n",
      "Le premier paragraphe indique que tous les salariés ne sont pas éligibles au télétravail, ce qui signifie qu'il existe une limitation au nombre de jours de télétravail par semaine. Le deuxième paragraphe précise que les salariés ne peuvent s'absenter plus de deux journées pour une semaine de cinq jours, ce qui implique que le nombre maximal de jours de télétravail par semaine est de 2.\n",
      "\n",
      "46 T07221003271\n"
     ]
    },
    {
     "name": "stderr",
     "output_type": "stream",
     "text": [
      "Setting `pad_token_id` to `eos_token_id`:2 for open-end generation.\n"
     ]
    },
    {
     "name": "stdout",
     "output_type": "stream",
     "text": [
      "Q_TTSEM_NOMBRE:\n",
      "Mon extraction de paragraphes pertinents :\n",
      "\n",
      "> \"L’accord collectif sera transmis à la Direction de la Sécurité sociale dans le cadre de la procédure d’agrément des accords locaux, conformément à l’article D224-7 en son paragraphe 3 du Code de la Sécurité sociale, dès sa signature.\n",
      "> [...]\n",
      "> Le présent accord entrera en vigueur le jour de sa signature.\n",
      "> [...]\n",
      "> Un exemplaire signé du présent accord sera remis à chaque signataire.\n",
      "> L’accord sera diffusé via intranet et mis à la disposition de l’ensemble du personnel lorsqu’il aura été agréé.\"\n",
      "\n",
      "Ma réponse :\n",
      "nombrejourdeteletravailmaxparsemaine=0\n",
      "\n",
      "Mon raisonnement :\n",
      "Il n'y a aucune mention explicite du nombre de jours de télétravail autorisés par semaine dans le texte fourni. Par conséquent, je ne peux pas attribuer de valeur à la variable 'nombrejourdeteletravailmaxparsemaine'. De plus, il n'y a aucune indication de jours de présence obligatoire sur site, donc je ne peux pas non plus renseigner la variable 'nombrejoursursiteparsemaine'.\n",
      "\n",
      "47 T00621004760\n"
     ]
    },
    {
     "name": "stderr",
     "output_type": "stream",
     "text": [
      "Setting `pad_token_id` to `eos_token_id`:2 for open-end generation.\n",
      "Created a chunk of size 10412, which is longer than the specified 5000\n"
     ]
    },
    {
     "name": "stdout",
     "output_type": "stream",
     "text": [
      "Q_TTSEM_NOMBRE:Mon extraction de paragraphes pertinents :\n",
      "\n",
      "* Article 2.3.2. Modification du jour de télétravail\n",
      "* Article 3. Déroulement du télétravail\n",
      "\n",
      "Ma réponse :\n",
      "nombrejourdeteletravailmaxparsemaine=5\n",
      "\n",
      "Mon raisonnement :\n",
      "Dans l'article 2.3.2. Modification du jour de télétravail, il est mentionné que \"Télétravail à 100% = full-remote = 5 jours de télétravail par semaine!\". Cette phrase indique clairement que le nombre maximal de jours de télétravail par semaine est de 5. Cette information est confirmée dans l'article 3. Déroulement du télétravail, qui mentionne également que \"Télétravail à 100% = full-remote = 5 jours de télétravail par semaine!\".\n",
      "\n",
      "48 T07521029992\n"
     ]
    },
    {
     "name": "stderr",
     "output_type": "stream",
     "text": [
      "Setting `pad_token_id` to `eos_token_id`:2 for open-end generation.\n"
     ]
    },
    {
     "name": "stdout",
     "output_type": "stream",
     "text": [
      "Q_TTSEM_NOMBRE:Mon extraction de paragraphes pertinents :\n",
      "\n",
      "* \"Les jours en présentiel pour l’ensemble des collaborateurs se situent les lundi et mardi afin que la Direction puisse avoir des échanges réguliers avec les collaborateurs et que les collaborateurs entre eux puissent également organiser des échanges réguliers et prévenir tout phénomène d’isolement, <u>**Le 3ème jour de présentiel pourra être évolutif en fonction des semaines et des services et sera fixé en accord avec la Direction**</u>, étant précisé que s’agissant de collaborateur à temps partiel ou en forfait jours réduit dans le service, leur situation sera prise en compte pour déterminer ce 3ème jour. Il pourra par ailleurs être télétravaillé, en fonction des services et en accord avec la Direction.\"\n",
      "\n",
      "Ma réponse :\n",
      "nombrejourdeteletravailmaxparsemaine=3\n",
      "\n",
      "Mon raisonnement :\n",
      "Le paragraphe mentionne la possibilité d'avoir un troisième jour de télétravail en fonction des semaines et des services, ce qui signifie qu'un employé peut télétravailler jusqu'à trois jours par semaine.\n",
      "\n",
      "49 T05721004723\n"
     ]
    },
    {
     "name": "stderr",
     "output_type": "stream",
     "text": [
      "Setting `pad_token_id` to `eos_token_id`:2 for open-end generation.\n"
     ]
    },
    {
     "name": "stdout",
     "output_type": "stream",
     "text": [
      "Q_TTSEM_NOMBRE:Mon extraction de deux paragraphes maximum pertinents qui répondent à la question :\n",
      "\n",
      "> Au 1er juin 2021, tous les collaborateurs pourront bénéficier de 2 jours / semaine de travail à distance. Cette mesure s’appliquera quel que soit le type de contrat, quel que soit le statut et pour tous les postes ne nécessitant pas une présence physique sur site.\n",
      "\n",
      "Ma réponse :\n",
      "nombrejourdeteletravailmaxparsemaine=2\n",
      "\n",
      "Mon raisonnement :\n",
      "Le paragraphe mentionne explicitement le nombre de jours de télétravail autorisés par semaine, qui est de 2 jours.\n",
      "\n",
      "50 T09221026359\n"
     ]
    },
    {
     "name": "stderr",
     "output_type": "stream",
     "text": [
      "Setting `pad_token_id` to `eos_token_id`:2 for open-end generation.\n"
     ]
    },
    {
     "name": "stdout",
     "output_type": "stream",
     "text": [
      "Q_TTSEM_NOMBRE:\n",
      "Mon extraction de deux paragraphes maximum pertinents qui répondent à la question :\n",
      "\n",
      "* \"Le télétravail régulier suppose à minima une journée en télétravail par semaine, sans pouvoir excéder trois jours de télétravail par semaine.\"\n",
      "* \"Il est tout de même fortement recommandé de ne pas dépasser 2 jours de télétravail par semaine.\"\n",
      "\n",
      "Ma réponse :\n",
      "nombrejourdeteletravailmaxparsemaine=2\n",
      "\n",
      "Mon raisonnement :\n",
      "Le premier paragraphe indique que le télétravail régulier doit être d'au moins une journée par semaine et ne doit pas excéder trois jours par semaine. Le deuxième paragraphe recommande de ne pas dépasser deux jours de télétravail par semaine. Par conséquent, le nombre maximum de jours de télétravail par semaine est de 2.\n",
      "\n",
      "51 T03121008941\n"
     ]
    },
    {
     "name": "stderr",
     "output_type": "stream",
     "text": [
      "Setting `pad_token_id` to `eos_token_id`:2 for open-end generation.\n"
     ]
    },
    {
     "name": "stdout",
     "output_type": "stream",
     "text": [
      "Q_TTSEM_NOMBRE:Mon extraction de deux paragraphes maximum pertinents qui répondent à la question :\n",
      "\n",
      "* \"Le nombre de jour de télétravail ne pourra excéder 2 jours par semaine, et 1 jour pour les salariés à temps partiel selon article 2.\"\n",
      "* \"Les jours de formation, de réunion avec tous les membres d’une équipe ne peuvent pas être télétravaillés.\"\n",
      "\n",
      "Ma réponse :\n",
      "nombrejourdeteletravailmaxparsemaine=2\n",
      "\n",
      "Mon raisonnement :\n",
      "Le premier paragraphe indique clairement que le nombre de jours de télétravail ne peut excéder 2 jours par semaine pour les salariés à temps complet, et 1 jour pour les salariés à temps partiel. Cependant, le deuxième paragraphe indique que les jours de formation et de réunion avec tous les membres d'une équipe ne peuvent pas être télétravaillés. Cela signifie qu'il y a des exceptions à la règle des 2 jours de télétravail par semaine, mais comme il n'y a pas d'autres informations sur les limites de ces exceptions, je dois me baser sur le maximum général indiqué dans le premier paragraphe.\n",
      "\n",
      "52 T06821004734\n"
     ]
    },
    {
     "name": "stderr",
     "output_type": "stream",
     "text": [
      "Setting `pad_token_id` to `eos_token_id`:2 for open-end generation.\n"
     ]
    },
    {
     "name": "stdout",
     "output_type": "stream",
     "text": [
      "Q_TTSEM_NOMBRE:Mon extraction de paragraphes pertinents :\n",
      "\n",
      "* \"Le nombre maximal de jours de télétravail est fixé annuellement et de façon forfaitaire. Il est également pondéré en fonction du temps de travail de chaque salarié comme suit : Nombre de jours calculé sur la base d’une moyenne de 3 jours de télétravail par mois et par équivalent temps plein, sur 10 mois à l’année (déduction faite des 5 semaines de congés payés, des jours de crédit d’heures, de réunion d’équipe et de formation).\"\n",
      "\n",
      "Ma réponse :\n",
      "nombrejourdeteletravailmaxparsemaine=3\n",
      "\n",
      "Mon raisonnement :\n",
      "Le paragraphe indique clairement que le nombre maximal de jours de télétravail est fixé à une moyenne de 3 jours par mois, ce qui correspond à 3/4=0.75 jour par semaine. Cependant, le document indique également que le télétravail à 100% est possible, ce qui implique que le nombre maximal de jours de télétravail par semaine est de 5. Je choisis donc la réponse la plus restrictive, c'est-à-dire 3 jours par semaine.\n",
      "\n",
      "53 T08421002482\n"
     ]
    },
    {
     "name": "stderr",
     "output_type": "stream",
     "text": [
      "Setting `pad_token_id` to `eos_token_id`:2 for open-end generation.\n"
     ]
    },
    {
     "name": "stdout",
     "output_type": "stream",
     "text": [
      "Q_TTSEM_NOMBRE:Mon extraction de paragraphes pertinents :\n",
      "\n",
      "Paragraphe 1 : \"Le principe du télétravail s’appuie sur la confiance respective entre le manager et le collaborateur, et nécessite le respect de certaines conditions figurant dans le présent document.\"\n",
      "\n",
      "Paragraphe 2 : \"Le nombre de jours de télétravail ne pourra pas être supérieur à 2 jours par semaine pour un temps plein.\"\n",
      "\n",
      "Ma réponse :\n",
      "nombrejourdeteletravailmaxparsemaine=2\n",
      "\n",
      "Mon raisonnement :\n",
      "Le paragraphe 2 contient explicitement le mot-clé \"semaine\" et précise le nombre maximal de jours de télétravail autorisés par semaine, qui est de 2 jours.\n",
      "\n",
      "54 T09221023213\n"
     ]
    },
    {
     "name": "stderr",
     "output_type": "stream",
     "text": [
      "Setting `pad_token_id` to `eos_token_id`:2 for open-end generation.\n"
     ]
    },
    {
     "name": "stdout",
     "output_type": "stream",
     "text": [
      "Q_TTSEM_NOMBRE:Mon extraction de deux paragraphes maximum pertinents qui répondent à la question :\n",
      "\n",
      "> Article 2 : Objet \n",
      ">...\n",
      "> Tant que les pouvoirs publics préconiseront un recours massif au télétravail, Mutex accordera une allocation forfaitaire calculée au prorata du temps télétravaillé. Ce dernier aura comme référence le mois.\n",
      "> Cette allocation sera calculée selon le plafond URSSAF d’exonération de cotisations et de contributions sociales et en tenant compte de l’organisation qui sera réellement mise en œuvre (télétravail intégral ou par roulement).\n",
      "> Il est explicitement précisé que cette clause ne se cumulera pas intégralement avec les dispositions de l’article 6 de l’accord du 16 juillet 2020. L’allocation perçue par les collaborateurs au titre de l’article précité viendra en déduction.\n",
      "> En conséquence, le plafond d’allocations que percevra un collaborateur sera de 50 € par mois pour 5 jours de télétravail par semaine.\n",
      "\n",
      "Ma réponse :\n",
      "nombrejourdeteletravailmaxparsemaine=5\n",
      "\n",
      "Mon raisonnement :\n",
      "Le paragraphe indique clairement que l'allocation forfaitaire est calculée au prorata du temps télétravaillé, avec une référence mensuelle. De plus, il est précisé que le plafond d'allocations pour un collaborateur est de 50€ par mois pour 5 jours de télétravail par semaine. Par conséquent, le nombre maximal de jours de télétravail par semaine est de 5.\n",
      "\n",
      "55 T09221025050\n"
     ]
    },
    {
     "name": "stderr",
     "output_type": "stream",
     "text": [
      "Setting `pad_token_id` to `eos_token_id`:2 for open-end generation.\n"
     ]
    },
    {
     "name": "stdout",
     "output_type": "stream",
     "text": [
      "Q_TTSEM_NOMBRE:Mon extraction de paragraphes pertinents :\n",
      "\n",
      "* Article 3.1. Le principe : un dispositif flexible basé sur un quota annuel de jours en télétravail\n",
      "\n",
      "Ma réponse :\n",
      "nombrejourdeteletravailmaxparsemaine=5\n",
      "\n",
      "Mon raisonnement :\n",
      "Le document mentionne que le télétravail est basé sur un quota annuel de jours, sans spécifier de limite hebdomadaire. Cependant, il est mentionné que le télétravail à 100% est autorisé, ce qui signifie que le maximum de jours de télétravail par semaine est de 5.\n",
      "\n",
      "56 T03121008136\n"
     ]
    },
    {
     "name": "stderr",
     "output_type": "stream",
     "text": [
      "Setting `pad_token_id` to `eos_token_id`:2 for open-end generation.\n"
     ]
    },
    {
     "name": "stdout",
     "output_type": "stream",
     "text": [
      "Q_TTSEM_NOMBRE:Mon extraction de paragraphes pertinents :\n",
      "\n",
      "* Article 9 – Fréquence et nombre de jours télétravaillés : « Les jours de télétravail seront fixés selon les modalités suivantes : un jour maximum par semaine. »\n",
      "\n",
      "Ma réponse :\n",
      "nombrejourdeteletravailmaxparsemaine=1\n",
      "\n",
      "Mon raisonnement :\n",
      "Le paragraphe indique clairement qu'un salarié peut télétravailler un jour maximum par semaine.\n",
      "\n",
      "57 T09221024009\n"
     ]
    },
    {
     "name": "stderr",
     "output_type": "stream",
     "text": [
      "Setting `pad_token_id` to `eos_token_id`:2 for open-end generation.\n"
     ]
    },
    {
     "name": "stdout",
     "output_type": "stream",
     "text": [
      "Q_TTSEM_NOMBRE:\n",
      "Mon extraction de paragraphes pertinents :\n",
      "\n",
      "* \"Pour autant, les parties partagent le fait que les conditions ergonomiques ne sont pas autant satisfaisantes que sur le lieu de travail habituel au sein des locaux de l’entreprise. C’est pourquoi, les parties conviennent d’une participation d’IFP Training, sous la forme d’un remboursement de frais à hauteur de 80 euros TTC maximum pour l’achat d’un siège ergonomique ou d’une table-bureau, participation limitée à une fois par salarié.\"\n",
      "* \"Les parties s’accordent sur le fait que l’organisation du télétravail, en dehors même du contexte très particulier provoqué par la pandémie Covid-19, mérite d’être examinée.\"\n",
      "\n",
      "Ma réponse :\n",
      "\n",
      "nombrejourdeteletravailmaxparsemaine=5\n",
      "\n",
      "Mon raisonnement :\n",
      "\n",
      "Dans le premier paragraphe, il n'y a pas de mention de la fréquence hebdomadaire de télétravail. Dans le deuxième paragraphe, il est mentionné que l'organisation du télétravail doit être examinée, mais aucune limitation de jours de télétravail n'est spécifiée. Par conséquent, je suppose que le télétravail à 100% est autorisé, ce qui correspond à 5 jours de télétravail par semaine.\n",
      "\n",
      "58 T09221025668\n"
     ]
    },
    {
     "name": "stderr",
     "output_type": "stream",
     "text": [
      "Setting `pad_token_id` to `eos_token_id`:2 for open-end generation.\n"
     ]
    }
   ],
   "source": [
    "import glob\n",
    "PARQUET_FILE_COMPARE=\"Accords/Donnees_Mathilde_Pesenti_TT_Pour_DEE_v2_def.parquet\"\n",
    "for (index,(num_dossier,accord)) in df_init.iterrows():\n",
    "    print(index,num_dossier)\n",
    "    with open(f\"{num_dossier}.txt\",\"w\", encoding=\"utf-8\") as file:\n",
    "        file.write(accord)\n",
    "\n",
    "    loader = TextLoader(f\"{num_dossier}.txt\", encoding='utf8')\n",
    "    docs=loader.load()\n",
    "    \n",
    "    # Chunk text\n",
    "    text_splitter = CharacterTextSplitter(chunk_size=5000, \n",
    "                                          chunk_overlap=100)\n",
    "    chunked_documents = text_splitter.split_documents(docs)\n",
    "    \n",
    "    # Load chunked documents into the FAISS index\n",
    "    db = FAISS.from_documents(chunked_documents, \n",
    "                              HuggingFaceEmbeddings(model_name='sentence-transformers/all-mpnet-base-v2'))\n",
    "    \n",
    "    retriever = db.as_retriever()\n",
    "    \n",
    "    rag_chain = ( \n",
    "     {\"context\": retriever, \"question\": RunnablePassthrough()}\n",
    "        | llm_chain\n",
    "    )\n",
    "    dict_reponse,text=process_model(rag_chain,num_dossier)\n",
    "    with open(f\"{num_dossier}_response.txt\",\"w\", encoding=\"utf-8\") as file:\n",
    "        file.write(text)\n",
    "        print(text)\n",
    "    df2=pd.DataFrame.from_dict(dict_reponse,orient=\"index\")\n",
    "    df2=df2.transpose().rename(columns=VAR_TRANSLATION)\n",
    "    df2.to_csv(f\"{num_dossier}.csv\")\n",
    "    df2.to_parquet(f\"{num_dossier}.parquet\")"
   ]
  },
  {
   "cell_type": "code",
   "execution_count": null,
   "id": "6bb81953-adb7-4343-b2c1-91cd57bdb7b2",
   "metadata": {},
   "outputs": [],
   "source": [
    "data_files=glob.glob('*.parquet')\n",
    "df = pd.concat((pd.read_parquet(f, engine = 'pyarrow') for f in data_files))\n",
    "df=df.set_index(\"num_dossier\")\n",
    "df=df[df.nombre_jours_teletravail_semaine.values!=[None]]\n",
    "df2=pd.read_parquet(f\"{PARQUET_FILE_COMPARE}\")\n",
    "df2=df2[[\"N..Dossier\",\"nombre_jours_teletravail_semaine\"]].set_index(\"N..Dossier\")\n",
    "df_merge=df2.merge(df,how=\"left\",left_index=True, right_index=True)\n",
    "df_merge.nombre_jours_teletravail_semaine_y=df_merge.nombre_jours_teletravail_semaine_y.astype(\"float64\")\n",
    "df_merge=df_merge.fillna(0.0)\n",
    "df_merge[\"diff\"]=(df_merge.nombre_jours_teletravail_semaine_x!=df_merge.nombre_jours_teletravail_semaine_y)\n",
    "print(\"global accuracy\",1-(df_merge[\"diff\"].sum()/df_merge.shape[0]))\n",
    "\n",
    "df_rempli=df_merge[df_merge.nombre_jours_teletravail_semaine_x!=0.0]\n",
    "nb_correct,total =df_rempli.shape[0]-df_rempli[\"diff\"].sum(),df_rempli.shape[0]\n",
    "print(\"accuracy on non null value\",1-(df_rempli[\"diff\"].sum()/df_rempli.shape[0]),f\"; nombre correct : {nb_correct} sur {total}\")\n",
    "\n",
    "df_rempli=df_merge[df_merge.nombre_jours_teletravail_semaine_x==0.0]\n",
    "nb_correct,total =df_rempli.shape[0]-df_rempli[\"diff\"].sum(),df_rempli.shape[0]\n",
    "print(\"accuracy on null value\",1-(df_rempli[\"diff\"].sum()/df_rempli.shape[0]),f\"; nombre correct : {nb_correct} sur {total}\")"
   ]
  },
  {
   "cell_type": "code",
   "execution_count": null,
   "id": "031b511b-a051-40d3-a7b3-5f833a44a9cd",
   "metadata": {
    "scrolled": true
   },
   "outputs": [],
   "source": [
    "df_rempli=df_merge[df_merge.nombre_jours_teletravail_semaine_x!=0.0]\n",
    "df_rempli[df_rempli[\"diff\"]]"
   ]
  },
  {
   "cell_type": "code",
   "execution_count": null,
   "id": "2cb9b7d3-0bcd-4493-939c-43fc87011d7c",
   "metadata": {},
   "outputs": [],
   "source": []
  },
  {
   "cell_type": "code",
   "execution_count": null,
   "id": "528ef75a-519d-48a1-94ba-20a713227ec2",
   "metadata": {},
   "outputs": [],
   "source": []
  },
  {
   "cell_type": "code",
   "execution_count": null,
   "id": "e9c0cd99-a9a2-4def-947e-8e7e7a7372b7",
   "metadata": {},
   "outputs": [],
   "source": []
  },
  {
   "cell_type": "code",
   "execution_count": null,
   "id": "54073c69-8951-4e7d-a76c-0d9a3d450d6d",
   "metadata": {},
   "outputs": [],
   "source": []
  },
  {
   "cell_type": "code",
   "execution_count": null,
   "id": "df72a403-17d1-4d53-9f16-671467f4fee0",
   "metadata": {},
   "outputs": [],
   "source": []
  },
  {
   "cell_type": "code",
   "execution_count": null,
   "id": "8ac001c2-2ad9-4e34-a475-5f814cbfdde5",
   "metadata": {},
   "outputs": [],
   "source": []
  }
 ],
 "metadata": {
  "kernelspec": {
   "display_name": "Python 3 (ipykernel)",
   "language": "python",
   "name": "python3"
  },
  "language_info": {
   "codemirror_mode": {
    "name": "ipython",
    "version": 3
   },
   "file_extension": ".py",
   "mimetype": "text/x-python",
   "name": "python",
   "nbconvert_exporter": "python",
   "pygments_lexer": "ipython3",
   "version": "3.10.13"
  }
 },
 "nbformat": 4,
 "nbformat_minor": 5
}
