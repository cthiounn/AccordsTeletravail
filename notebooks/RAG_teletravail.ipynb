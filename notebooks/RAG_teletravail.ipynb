{
 "cells": [
  {
   "cell_type": "code",
   "execution_count": null,
   "id": "64b55acc-0e5c-4d30-8b60-50070eb0307f",
   "metadata": {},
   "outputs": [],
   "source": [
    "# Notebook from https://medium.com/@thakermadhav/build-your-own-rag-with-mistral-7b-and-langchain-97d0c92fa146\n",
    "!pip install -q torch datasets\n",
    "!pip install -q accelerate==0.21.0 \\\n",
    "                peft==0.4.0 \\\n",
    "                bitsandbytes==0.40.2 \\\n",
    "                transformers==4.31.0 \\\n",
    "                trl==0.4.7\n",
    "!pip install -q scipy langchain transformers playwright html2text sentence_transformers faiss-gpu\n",
    "!pip install -q --upgrade git+https://github.com/huggingface/transformers"
   ]
  },
  {
   "cell_type": "code",
   "execution_count": null,
   "id": "f860479f-f9d0-4162-9701-aeb4da44f3eb",
   "metadata": {},
   "outputs": [],
   "source": [
    "!playwright install > /dev/null\n",
    "!playwright install-deps > /dev/null"
   ]
  },
  {
   "cell_type": "code",
   "execution_count": null,
   "id": "3e8eba08-2a0d-43a0-ae6c-79035327b035",
   "metadata": {},
   "outputs": [],
   "source": [
    "!pip install -U tokenizers"
   ]
  },
  {
   "cell_type": "code",
   "execution_count": null,
   "id": "923862f9-6c52-4509-b85f-b464c7ba0cf6",
   "metadata": {},
   "outputs": [],
   "source": [
    "import os\n",
    "import torch\n",
    "from transformers import (\n",
    "  AutoTokenizer, \n",
    "  AutoModelForCausalLM, \n",
    "  BitsAndBytesConfig,\n",
    "  pipeline\n",
    ")\n",
    "\n",
    "from transformers import BitsAndBytesConfig\n",
    "\n",
    "\n",
    "\n",
    "\n",
    "from langchain.prompts import PromptTemplate\n",
    "from langchain.schema.runnable import RunnablePassthrough\n",
    "from langchain.llms import HuggingFacePipeline\n",
    "from langchain.chains import LLMChain\n",
    "\n",
    "\n",
    "#################################################################\n",
    "# Tokenizer\n",
    "#################################################################\n",
    "\n",
    "model_name=\"mistralai/Mistral-7B-Instruct-v0.1\"\n",
    "model_name=\"mistralai/Mixtral-8x7B-Instruct-v0.1\"\n",
    "tokenizer = AutoTokenizer.from_pretrained(model_name, trust_remote_code=True)\n",
    "tokenizer.pad_token = tokenizer.eos_token\n",
    "tokenizer.padding_side = \"right\"\n",
    "\n",
    "#################################################################\n",
    "# bitsandbytes parameters\n",
    "#################################################################\n",
    "\n",
    "# Activate 4-bit precision base model loading\n",
    "use_4bit = True\n",
    "\n",
    "# Compute dtype for 4-bit base models\n",
    "bnb_4bit_compute_dtype = \"float16\"\n",
    "\n",
    "# Quantization type (fp4 or nf4)\n",
    "bnb_4bit_quant_type = \"nf4\"\n",
    "\n",
    "# Activate nested quantization for 4-bit base models (double quantization)\n",
    "use_nested_quant = True\n",
    "\n",
    "#################################################################\n",
    "# Set up quantization config\n",
    "#################################################################\n",
    "compute_dtype = getattr(torch, bnb_4bit_compute_dtype)\n",
    "\n",
    "bnb_config = BitsAndBytesConfig(\n",
    "    load_in_4bit=use_4bit,\n",
    "    bnb_4bit_quant_type=bnb_4bit_quant_type,\n",
    "    bnb_4bit_compute_dtype=compute_dtype,\n",
    "    bnb_4bit_use_double_quant=use_nested_quant,\n",
    ")\n",
    "\n",
    "# Check GPU compatibility with bfloat16\n",
    "if compute_dtype == torch.float16 and use_4bit:\n",
    "    major, _ = torch.cuda.get_device_capability()\n",
    "    if major >= 8:\n",
    "        print(\"=\" * 80)\n",
    "        print(\"Your GPU supports bfloat16: accelerate training with bf16=True\")\n",
    "        print(\"=\" * 80)\n",
    "\n",
    "#################################################################\n",
    "# Load pre-trained config\n",
    "#################################################################\n",
    "model = AutoModelForCausalLM.from_pretrained(\n",
    "    model_name,\n",
    "    quantization_config=bnb_config,\n",
    "    cache_dir=\".\",\n",
    ")\n",
    "#load_in_4bits=True)\n"
   ]
  },
  {
   "cell_type": "code",
   "execution_count": 123,
   "id": "a9778127-0508-4d93-b718-ae8108e884ca",
   "metadata": {},
   "outputs": [],
   "source": [
    "model.config.pad_token_id = tokenizer.pad_token_id\n",
    "\n",
    "text_generation_pipeline = pipeline(\n",
    "    model=model,\n",
    "    tokenizer=tokenizer,\n",
    "    task=\"text-generation\",\n",
    "    temperature=0.2,\n",
    "    repetition_penalty=1.1,\n",
    "    return_full_text=True,\n",
    "    max_new_tokens=1000,\n",
    ")\n",
    "\n",
    "mistral_llm = HuggingFacePipeline(pipeline=text_generation_pipeline)"
   ]
  },
  {
   "cell_type": "code",
   "execution_count": 124,
   "id": "f3fb3129-2b6a-4819-9b68-ad0552cb23b1",
   "metadata": {},
   "outputs": [],
   "source": [
    "import arrow\n",
    "import pandas as pd\n",
    "PARQUET_FILE=\"Accords/echantillon_public_Mathilde.parquet\""
   ]
  },
  {
   "cell_type": "code",
   "execution_count": 125,
   "id": "6f3e9f65-5314-4091-b2eb-cb3592a8b27a",
   "metadata": {},
   "outputs": [],
   "source": [
    "df_init=pd.read_parquet(PARQUET_FILE)"
   ]
  },
  {
   "cell_type": "code",
   "execution_count": 126,
   "id": "065f4c3e-99d2-46ff-b97c-39ba7ffa5433",
   "metadata": {},
   "outputs": [],
   "source": [
    "prompt_template = \"\"\"\n",
    "\n",
    "### [ROLE] Role: Vous êtes un expert juridique des accords d'entreprise sans compétence de programmation informatique, seulement la lecture et la compréhension des textes. Tu ne connais aucun langage de programmation, ni les expressions régulières.\n",
    "\n",
    "\n",
    "### [INST] Instructions: \n",
    "\n",
    "1. Votre travail consiste à peupler et mettre à jour une base des données nécessaires pour réaliser des études économétriques poussées sur le télétravail.\n",
    "        Pour cela, vous devez prendre le texte d'un accord d'entreprise dans le document suivant, dans lesquelles figurent les informations à jour que l'on vous fourni, et d'extraire précisément l'information spécifique dont vous avez besoin.\n",
    "        Vous ne devez extraire que le nombre, et uniquement le nombre. Le nombre peut être écrit en lettres ou en chiffres. (exemple : deux ou 2 )\n",
    "        Si vous ne trouvez pas la réponse dans le texte vous devez le dire et ne pas chercher à en fournir un autre nombre.\n",
    "        Avant de répondre, vérifier que la réponse se trouve bien dans le texte indiqué.\n",
    "        \n",
    "2. Vous devez respecter les règles suivantes : \n",
    "        2.A - Déconnecter les liens entre les périodicités (semaine, mois, trimestre, année)! Faire comme si les semaines, les mois, les trimestres et les années sont des concepts indépendants : dans un mois, il y a donc 0 semaine ; dans un trimestre, 0 mois et 0 semaine; dans une année, 0 trimestre, 0 mois et 0 semaine !\n",
    "        2.B - Ne faites aucune supposition ni d'hypothèses : déconnectez le module de raisonnement !\n",
    "        2.C - Ne faites aucun calcul de proratisation : par exemple, s'il y a 10 jours de télétravail autorisés par an, alors on ne peut pas déduire le nombre de jour de télétravail autorisés par semaine.\n",
    "        2.D - Il n'y a pas de lien entre l'effectif d'un service et le nombre de jour de télétravail, donc ne pas déduire un nombre de jour de télétravail !\n",
    "        2.E - Si le document mentionne positivement le Télétravail à 100%, ou le full-remote, ET qu'il n'y a pas de jour de présence minimum sur site, alors 5 jours de télétravail est possible par semaine !\n",
    "        2.F - Si le document mentionne par exemple trois jours de présence sur site et sans autre mention du nombre de jours de télétravail autorisé, alors tu ne peux pas donner de nombre de jour de télétravail par semaine a priori !\n",
    "        2.G - Il y a cinq jours ouvrés dans une semaine, donc un nombre de jour de télétravail par semaine ne peut pas être strictement supérieur à cinq.\n",
    "        2.H - Si tu donnes un nombre réel, ne donne pas la fraction mais un arrondi à l'entier inférieur !\n",
    "        2.I - Si le nombre de jour de télétravail annuel est inférieur à 52, ce nombre de jour de télétravail concerne du télétravail occasionnel. S'il est supérieur ou égal à 52, ce nombre concerne du télétravail régulier.\n",
    "        2.J - Si le nombre de jour de télétravail trimestriel est inférieur à 13, ce nombre de jour de télétravail concerne du télétravail occasionnel. S'il est supérieur ou égal à 13, ce nombre concerne du télétravail régulier.\n",
    "        2.K - Si le nombre de jour de télétravail mensuelle est inférieur à 4, ce nombre de jour de télétravail concerne du télétravail occasionnel. S'il est supérieur ou égal à 4, ce nombre concerne du télétravail régulier.\n",
    "\n",
    "3. Vous devez structurez votre réponse comme suit :\n",
    "        * Mon extraction de deux paragraphes max pertinents provenant du document à analyser qui répondent à la question (limité chacun à deux phrases max):\n",
    "        * Ma réponse :\n",
    "        * Mon raisonnenement :\n",
    "        \n",
    "### Document à analyser: \n",
    "{context}\n",
    "\n",
    "### QUESTION:\n",
    "{question} [/INST]\n",
    "\"\"\""
   ]
  },
  {
   "cell_type": "code",
   "execution_count": 127,
   "id": "cd4e7965-223c-49ed-bea1-5c0dd89a6b46",
   "metadata": {},
   "outputs": [],
   "source": [
    "# Create prompt from prompt template \n",
    "prompt = PromptTemplate(\n",
    "    input_variables=[\"context\", \"question\"],\n",
    "    template=prompt_template,\n",
    ")\n",
    "\n",
    "# Create llm chain \n",
    "llm_chain = LLMChain(llm=mistral_llm, prompt=prompt)"
   ]
  },
  {
   "cell_type": "code",
   "execution_count": 128,
   "id": "50bc8e16-8943-4e71-8a43-7342eeae75d5",
   "metadata": {},
   "outputs": [],
   "source": [
    "from langchain.text_splitter import CharacterTextSplitter\n",
    "from langchain.document_transformers import Html2TextTransformer\n",
    "from langchain.document_loaders import AsyncChromiumLoader\n",
    "from langchain.embeddings.huggingface import HuggingFaceEmbeddings\n",
    "from langchain.vectorstores import FAISS\n",
    "from langchain_community.document_loaders import TextLoader\n",
    "import warnings\n",
    "warnings.filterwarnings('ignore')\n",
    "import re\n",
    "def guess_reponse_booleenne(reponse):\n",
    "    reponse_booleenne=None\n",
    "    if reponse[\"text\"].startswith(\"\\nOui\") or reponse[\"text\"].startswith(\"Oui\") :\n",
    "        reponse_booleenne=1\n",
    "    elif reponse[\"text\"].startswith(\"\\nNon\") or reponse[\"text\"].startswith(\"Non\") :\n",
    "        reponse_booleenne=0\n",
    "    return reponse_booleenne\n",
    "\n",
    "def guess_reponse_durée(reponse):\n",
    "    reponse_booleenne=None\n",
    "    if \"indéterminée\" in reponse[\"text\"].lower() :\n",
    "        reponse_booleenne=0\n",
    "    elif \"déterminée\" in reponse[\"text\"].lower():\n",
    "        reponse_booleenne=1\n",
    "    return reponse_booleenne\n",
    "\n",
    "def guess_reponse_nombre(reponse,pattern=\"nombre\"):\n",
    "    reponse_nombre=None\n",
    "    REGEX=rf\".*{pattern} ?= ?(\\d+)\"\n",
    "    numbers=re.findall(REGEX,reponse[\"text\"])\n",
    "    if numbers:\n",
    "        reponse_nombre=numbers[0]\n",
    "    return reponse_nombre"
   ]
  },
  {
   "cell_type": "code",
   "execution_count": 129,
   "id": "738e6397-10db-4fad-9abc-b1780fcbdd89",
   "metadata": {},
   "outputs": [],
   "source": [
    "Q_DUREE=\"S'il est fait mention d'une durée de l'accord, est-ce que l'accord est à durée déterminée ou à durée indéterminée ? déterminée=1 ou indéterminée=0 ou NA?\"\n",
    "Q_REVERS=\"S'il est fait mention d'une clause et d'un article de réversibilité, est-ce que l'accord a une clause ou un article de réversibilité ? Oui=1 ou non=0 ou NA?\"\n",
    "Q_ADAPT=\"S'il est fait mention d'une période d'adaptation, est-ce que l'accord comprend une période d'adaptation ? Oui=1 ou non=0 ou NA?\"\n",
    "Q_TTREG=\"Est-ce qu'au moins un paragraphe mentionne du télétravail régulier ?\"\n",
    "Q_TTOCA=\"Est-ce qu'au moins un paragraphe mentionne du télétravail occasionnel ?\"\n",
    "Q_TTEXC=\"Est-ce qu'au moins un paragraphe mentionne du télétravail exceptionnel ?\"\n",
    "Q_DISPOSPERQTHENCEINTE=\"Est-ce qu'au moins un paragraphe mentionne des dispositifs spéciaux pour les travailleurs en situation de handicap, les femmes enceintes, les séniors ou les personnes présentant des fragilités ou des problèmes de santé ?\"\n",
    "Q_MONTANT_CAVIARDE=\"Est-ce qu'au moins un paragraphe mentionne un nombre sans le donner exactement, mais sous forme illisible ?\"\n",
    "Q_TELETRAVAIL_FLEX_SANS_LIMITE=\"Est-ce qu'au moins un paragraphe suggère une liberté totale dans le choix des jours de télétravail, hormis quelques contraintes de présence ?\"\n",
    "Q_TT_REG_NOMBRE_FORMULE=Q_TTREG+\"Si oui, combien de formules (exemples de formule : si temps plein et temps partiel = 2, si choix entre 1 à 3 jours de télétravail régulier = 3) sont proposées pour du télétravail régulier ? Retourne à la fin 'nombre=max(tes réponses)'\"\n",
    "PERIODICITE={\"MOIS\":\"mois\",\"TRIM\":\"trimestre\",\"ANNEE\":\"année\", \"SEM\":\"semaine\"}\n",
    "PERIODICITE2={\"JOUR\":\"jour\",\"MOIS\":\"mois\",\"TRIM\":\"trimestre\",\"ANNEE\":\"année\", \"SEM\":\"semaine\"}\n",
    "Q_COMPE=\"Est-ce qu'au moins un paragraphe mentionne une indemnité spécialement pour l'achat d'équipements ?\"\n",
    "Q_COMPE_NOMBRE=Q_COMPE+\"Si oui, sélectionne seulement les paragraphes mentionnant une indemnité spécialement pour l'achat d'équipements et s'il existe donne le montant lié de l'indemnité d'équipement. Si oui, retourne à la fin 'nombre=max(ta réponse)'\"\n",
    "Q_EQUIPEMENT=\"Est-ce qu'au moins un paragraphe mentionne un équipement de télétravail fourni ?\"\n",
    "Q_COMPS=\"Est-ce qu'au moins un paragraphe mentionne explicitement une indemnité de sujétion (dans le cas où l'employeur impose le télétravail, ce dernier indemnise l'employé) ?\"\n",
    "Q_COMPS_NOMBRE=Q_COMPS+\"Si oui, sélectionne seulement les paragraphes mentionnant une indemnité de sujétion dans le cas où l'employeur impose le télétravail et s'il existe donne le montant lié de l'indemnité de sujétion dans le cas où l'employeur impose le télétravail. Si oui, retourne à la fin 'nombre=max(ta réponse)'\""
   ]
  },
  {
   "cell_type": "code",
   "execution_count": 130,
   "id": "bf6654b6-813d-40f6-bae7-f3f68ff1c076",
   "metadata": {},
   "outputs": [],
   "source": [
    "def process_model(rag_chain,num_dossier):\n",
    "    dict_reponse=dict()\n",
    "    dict_reponse[\"num_dossier\"]=num_dossier\n",
    "    text=\"\"\n",
    "    reponse= rag_chain.invoke(Q_DISPOSPERQTHENCEINTE)\n",
    "    text+=\"Q_DISPOSPERQTHENCEINTE:\"+reponse[\"text\"] + \"\\n\"\n",
    "    dict_reponse[\"DISPOSPERQTHENCEINTE\"]=guess_reponse_booleenne(reponse)\n",
    "    reponse= rag_chain.invoke(Q_MONTANT_CAVIARDE)\n",
    "    text+=\"Q_MONTANT_CAVIARDE:\"+reponse[\"text\"] + \"\\n\"\n",
    "    dict_reponse[\"MONTANT_CAVIARDE\"]=guess_reponse_booleenne(reponse)\n",
    "    reponse= rag_chain.invoke(Q_TELETRAVAIL_FLEX_SANS_LIMITE)\n",
    "    text+=\"Q_TELETRAVAIL_FLEX_SANS_LIMITE:\"+reponse[\"text\"] + \"\\n\"\n",
    "    dict_reponse[\"TELETRAVAIL_FLEX_SANS_LIMITE\"]=guess_reponse_booleenne(reponse)\n",
    "    reponse= rag_chain.invoke(Q_TT_REG_NOMBRE_FORMULE)\n",
    "    text+=\"Q_TT_REG_NOMBRE_FORMULE:\"+reponse[\"text\"] + \"\\n\"\n",
    "    dict_reponse[\"TT_REG_NOMBRE_FORMULE\"]=guess_reponse_nombre(reponse)\n",
    "    reponse= rag_chain.invoke(Q_DUREE)\n",
    "    text+=\"Q_DUREE:\"+reponse[\"text\"] + \"\\n\"\n",
    "    dict_reponse[\"DUREE\"]=guess_reponse_durée(reponse)\n",
    "    reponse= rag_chain.invoke(Q_REVERS)\n",
    "    text+=\"Q_REVERS:\"+reponse[\"text\"] + \"\\n\"\n",
    "    dict_reponse[\"REVERS\"]=guess_reponse_booleenne(reponse)\n",
    "    reponse= rag_chain.invoke(Q_ADAPT)\n",
    "    text+=\"Q_ADAPT:\"+reponse[\"text\"] + \"\\n\"\n",
    "    dict_reponse[\"ADAPT\"]=guess_reponse_booleenne(reponse)\n",
    "    reponse= rag_chain.invoke(Q_TTREG)\n",
    "    text+=\"Q_TTREG:\"+reponse[\"text\"] + \"\\n\"\n",
    "    dict_reponse[\"TTREG\"]=guess_reponse_booleenne(reponse)\n",
    "    reponse= rag_chain.invoke(Q_TTOCA)\n",
    "    text+=\"Q_TTOCA:\"+reponse[\"text\"] + \"\\n\"\n",
    "    dict_reponse[\"TTOCA\"]=guess_reponse_booleenne(reponse)\n",
    "    reponse= rag_chain.invoke(Q_TTEXC)\n",
    "    text+=\"Q_TTEXC:\"+reponse[\"text\"] + \"\\n\"\n",
    "    dict_reponse[\"TTEXC\"]=guess_reponse_booleenne(reponse)\n",
    "    for (k,v) in PERIODICITE.items():\n",
    "        Q_TT=f\"Hors jours supplémentaires ou exceptionnels, est-ce qu'au moins un paragraphe mentionne un nombre de jour de télétravail maximum autorisé explicitement exprimé par {v} ?\"\n",
    "        reponse= rag_chain.invoke(Q_TT)\n",
    "        text+=f\"Q_TT{k}:\"+reponse[\"text\"] + \"\\n\"\n",
    "        dict_reponse[f\"TT{k}\"]=guess_reponse_booleenne(reponse)\n",
    "        #Q_TT_NOMBRE=f\"Extrait le nombre de jour de télétravail maximum autorisé explicitement exprimé par {v} seulement à partir du texte suivant : {text_reponse}\"\n",
    "        Q_TT_NOMBRE=Q_TT+f\"Si oui, quel est le nombre de jour de télétravail supplémentaires explicitement exprimé et nécessairement et seulement exprimé par {v} pour des dispositions spéciales. Si oui, retourne à la fin 'nombre=max(tes réponses)'\"\n",
    "        reponse= rag_chain.invoke(Q_TT_NOMBRE)\n",
    "        text+=f\"Q_TT{k}_NOMBRE:\"+reponse[\"text\"] + \"\\n\"\n",
    "        dict_reponse[f\"TT{k}_NOMBRE\"]=guess_reponse_nombre(reponse)\n",
    "    for (k,v) in PERIODICITE.items():\n",
    "        Q_TTOCA_PERIOD=f\"Dans le cadre du télétravail occasionnel, est-ce qu'au moins un paragraphe mentionne un nombre de jour de télétravail maximum autorisé explicitement exprimé par {v} ?\"\n",
    "        reponse= rag_chain.invoke(Q_TTOCA_PERIOD)\n",
    "        text+=f\"TTOCA{k}:\"+reponse[\"text\"] + \"\\n\"\n",
    "        dict_reponse[f\"TTOCA{k}\"]=guess_reponse_booleenne(reponse)\n",
    "        Q_TTOCA_NOMBRE=Q_TTOCA_PERIOD+f\"Si oui, quel est le nombre de jour de télétravail occasionnel explicitement exprimé et nécessairement et seulement exprimé par {v}. Si oui, retourne à la fin 'nombre=max(tes réponses)'\"\n",
    "        reponse= rag_chain.invoke(Q_TTOCA_NOMBRE)\n",
    "        text+=f\"Q_TTOCA_{k}_NOMBRE:\"+reponse[\"text\"] + \"\\n\"\n",
    "        dict_reponse[f\"TTOCA_{k}_NOMBRE\"]=guess_reponse_nombre(reponse)\n",
    "    for (k,v) in PERIODICITE.items():\n",
    "        Q_PRESJOUR=f\"Est-ce qu'au moins un paragraphe mentionne un nombre de jour de présence obligatoire sur site minimum explicitement exprimé par {v} ?\"\n",
    "        reponse= rag_chain.invoke(Q_PRESJOUR)\n",
    "        text+=f\"Q_PRESJOUR{k}:\"+reponse[\"text\"] + \"\\n\"\n",
    "        dict_reponse[f\"TTPRESJOUR{k}\"]=guess_reponse_booleenne(reponse)\n",
    "        Q_PRESJOUR_NOMBRE=Q_PRESJOUR+f\"Si oui, sélectionne seulement les paragraphes mentionnant un nombre de jour de présence obligatoire sur site minimum explicitement exprimé par {v} et s'il existe donne le nombre de jour de présence obligatoire sur site minimum explicitement exprimé par {v}. Si oui, retourne à la fin 'nombre=max(tes réponses)'\"\n",
    "        reponse= rag_chain.invoke(Q_PRESJOUR_NOMBRE)\n",
    "        text+=f\"Q_PRESJOUR{k}_NOMBRE:\"+reponse[\"text\"] + \"\\n\"\n",
    "        dict_reponse[f\"PRESJOUR{k}_NOMBRE\"]=guess_reponse_nombre(reponse)\n",
    "    for (k,v) in PERIODICITE2.items():\n",
    "        Q_COMP=f\"Hors indemnité d'équipement, est-ce qu'au moins un paragraphe mentionne une indemnité forfaitaire explicitement exprimée par {v} ?\"\n",
    "        reponse= rag_chain.invoke(Q_COMP)\n",
    "        text+=f\"Q_COMP{k}:\"+reponse[\"text\"] + \"\\n\"\n",
    "        dict_reponse[f\"COMP{k}\"]=guess_reponse_booleenne(reponse)\n",
    "        Q_COMP_NOMBRE=Q_COMP+f\"Si oui, sélectionne en interne seulement les paragraphes mentionnant une indemnité forfaitaire explicitement exprimé par {v}, puis s'il existe donne le montant explicitement exprimé par {v}. Si oui, retourne à la fin 'nombre=max(ta réponse)'\"\n",
    "        reponse= rag_chain.invoke(Q_COMP_NOMBRE)\n",
    "        text+=f\"Q_COMP{k}_NOMBRE:\"+reponse[\"text\"] + \"\\n\"\n",
    "        dict_reponse[f\"COMP{k}_NOMBRE\"]=guess_reponse_nombre(reponse)\n",
    "        if \"MOIS\" in k:\n",
    "            Q_COMP_NOMBRE_BASE=Q_COMP+f\"Si oui, sélectionne en interne seulement les paragraphes mentionnant une indemnité forfaitaire explicitement exprimé par {v}, puis s'il existe plusieurs montants explicitement exprimé par {v}, par nombre de jour. Si oui, retourne à la fin 'nombre=base_mensuelle_pour_un_jour_de_teletravail(ta réponse)'\"\n",
    "            reponse= rag_chain.invoke(Q_COMP_NOMBRE_BASE)\n",
    "            text+=f\"Q_COMP{k}_BASE_NOMBRE:\"+reponse[\"text\"] + \"\\n\"\n",
    "            dict_reponse[f\"COMP{k}_BASE_NOMBRE\"]=guess_reponse_nombre(reponse)\n",
    "    reponse= rag_chain.invoke(Q_COMPE)\n",
    "    text+=\"Q_COMPE:\"+reponse[\"text\"] + \"\\n\"\n",
    "    dict_reponse[\"COMPE\"]=guess_reponse_booleenne(reponse)\n",
    "    reponse= rag_chain.invoke(Q_COMPE_NOMBRE)\n",
    "    text+=\"Q_COMPE_NOMBRE:\"+reponse[\"text\"] + \"\\n\"\n",
    "    dict_reponse[\"COMPE_NOMBRE\"]=guess_reponse_nombre(reponse)\n",
    "    reponse= rag_chain.invoke(Q_EQUIPEMENT)\n",
    "    text+=\"Q_EQUIPEMENT:\"+reponse[\"text\"] + \"\\n\"\n",
    "    dict_reponse[\"EQUIPEMENT\"]=guess_reponse_booleenne(reponse)\n",
    "    reponse= rag_chain.invoke(Q_COMPS)\n",
    "    text+=\"Q_COMPS:\"+reponse[\"text\"] + \"\\n\"\n",
    "    dict_reponse[\"COMPS\"]=guess_reponse_booleenne(reponse)\n",
    "    reponse= rag_chain.invoke(Q_COMPS_NOMBRE)\n",
    "    text+=\"Q_COMPS_NOMBRE:\"+reponse[\"text\"] + \"\\n\"\n",
    "    dict_reponse[\"COMPS_NOMBRE\"]=guess_reponse_nombre(reponse)\n",
    "    return dict_reponse,text"
   ]
  },
  {
   "cell_type": "code",
   "execution_count": 131,
   "id": "e8a37df9-03f2-4dba-9a11-490329b526e3",
   "metadata": {},
   "outputs": [],
   "source": [
    "PERIODICITE={ \"SEM\":\"semaine\"}\n",
    "EXEMPLES= \"Le télétravail pour le salarié à temps complet ou titulaire d’un forfait annuel 218 jours ne pourra être exercé que pour un maximum de 13 jours (soit 26 demi-journées) par trimestre civil dans la limite de 1 jour (soit 2 demi-journées) par semaine de 5 jours travaillés, non reportables, soit une enveloppe de 52 jours (soit 104 demi-journées) par année civile. => 1 jour de télétravail par semaine.\"\n",
    "EXEMPLES+= \" Un maximum de 2 jours par semaine, et de 2 demi-journées pouvant être cumulées sur une même journée au cours de la même semaine. => 3 jours de télétravail par semaine car 3 = (2+2*0.5).\"\n",
    "EXEMPLES+= \" Une limite haute de 10 jours de télétravail, par mois civil, est instituée. => Information à ignorer.\"\n",
    "EXEMPLES+= \" Les salariés devront être présents au minimum 2 jours par semaine sur leur lieu de travail habituel. => 2 jour sur site par semaine.\"\n",
    "EXEMPLES+= \" Le télétravail pour le salarié à temps complet ou titulaire d’un forfait annuel 218 jours ne pourra être exercé que pour un maximum de 13 jours (soit 26 demi-journées) par trimestre civil dans la limite de 1 jour (soit 2 demi-journées) par semaine de 5 jours travaillés, non reportables, soit une enveloppe de 52 jours (soit 104 demi-journées) par année civile. => 1 jour de télétravail par semaine.\"\n",
    "EXEMPLES+= \" Le nombre de jour de télétravail est à discuter avec le manager. => Information à ignorer.\"\n",
    "EXEMPLES+= \" Les 4 journées de télétravail mensuelles autorisées et 1 jour de télétravail fixe par semaine calendaire => 1 jour de télétravail par semaine.\"\n",
    "\n",
    "def process_model(rag_chain,num_dossier):\n",
    "    dict_reponse=dict()\n",
    "    dict_reponse[\"num_dossier\"]=num_dossier\n",
    "    text=\"\"\n",
    "    for (k,v) in PERIODICITE.items():\n",
    "        Q_TT_NOMBRE=f\"En dehors des instructions et hors télétravail occasionnel ou ponctuel, est-ce qu'un paragraphe du document comporte le mot-clé {v} ou une notion de fréquence par {v} et concerne le nombre de jour de télétravail autorisé (ne compte pas les paragraphes qui relatent d'indemnisation par jour de télétravail, ni le télétravail ponctuel ou occasionnel)?\"\n",
    "        Q_TT_NOMBRE+=f\" Si oui, depuis les informations du document, jusqu'à combien de jour possible (ou limite) de télétravail un employé/travailleur/salarié/collaborateur peut-il télétravailler régulièrement, jour exprimé seulement par {v} et explicitement dans un des paragraphes (attention, ne pas confondre avec les jours de présence obligatoire sur site)? \"\n",
    "        Q_TT_NOMBRE+=f\" Si tu as plusieurs réponses parmi [ 0 , 0.5 , 1 , 1.5 , 2 , 2.5 , 3 , 3.5 , 4 , 4.5 , 5 ], affecte le maximum des jours de télétravail par {v} de ces éventuelles réponses dans une variable 'nombrejourdeteletravailmaxpar{v}'. Si tu ne trouves pas de valeur ou si les informations ne permettent pas de déterminer cette valeur, retourne nombrejourdeteletravailmaxpar{v} à 0\"\n",
    "        Q_TT_NOMBRE+=f\" Si le télétravail à 100% ou le full-remote est autorisé ou positivement évoqué ET qu'il n'y a pas de jour de présence minimum sur site, alors affecte à la variable nombrejourdeteletravailmaxpar{v} la valeur 5.\"\n",
    "        Q_TT_NOMBRE+=f\" INSTRUCTIONS SUPPLEMENTAIRES : \"\n",
    "        Q_TT_NOMBRE+=f\" Pour cette tâche, ignore les informations concernant les répartitions d'effectif sur site, les négociations avec les managers, les définitions du télétravail.\"\n",
    "        Q_TT_NOMBRE+=f\" En l'absence de précisions explicites du nombre de jour de télétravail par {v}, affecte impérativement à la variable nombrejourdeteletravailmaxpar{v} la valeur 0.\"\n",
    "        Q_TT_NOMBRE+=f\" 0 est la valeur la plus basse du nombre de jour de télétravail maximum par {v}. \"\n",
    "        Q_TT_NOMBRE+=f\" S'il y a des jours de présence obligatoire sur site, retourne également une variable supplémentaire 'nombrejoursursitepar{v}' avec la valeur indiquée\"\n",
    "        Q_TT_NOMBRE+=f\" Ta réponse devra impérativement comporter la chaîne de caractère 'nombrejourdeteletravailmaxpar{v}=' suivi du nombre demandé.\"\n",
    "        Q_TT_NOMBRE+=f\" Voici quelques exemples pour vous aider : {EXEMPLES}\"\n",
    "        reponse= rag_chain.invoke(Q_TT_NOMBRE)\n",
    "        text+=f\"Q_TT{k}_NOMBRE:\"+reponse[\"text\"] + \"\\n\"\n",
    "        dict_reponse[f\"TT{k}_NOMBRE\"]=guess_reponse_nombre(reponse,pattern=f\"nombrejourdeteletravailmaxpar{v}\")\n",
    "    return dict_reponse,text"
   ]
  },
  {
   "cell_type": "code",
   "execution_count": 132,
   "id": "b4de9f12-d3b6-4aa5-8603-df16fe199823",
   "metadata": {},
   "outputs": [],
   "source": [
    "VAR_TRANSLATION={'DISPOSPERQTHENCEINTE': \"dispositif_special_rqth_maternite_senior\",\n",
    " 'MONTANT_CAVIARDE': \"montant_caviarde\",\n",
    " 'TELETRAVAIL_FLEX_SANS_LIMITE': \"teletravail_regulier_flexible_sans_limite\",\n",
    " 'TT_REG_NOMBRE_FORMULE': \"nombre_formules_teletravail_regulier\",\n",
    " 'DUREE': \"duree_application\",\n",
    " 'REVERS': \"presence_clause_reversibilite\",\n",
    " 'ADAPT': \"periode_adaptation\",\n",
    " 'TTREG': \"teletravail_regulier\",\n",
    " 'TTOCA': \"teletravail_occasionnel\",\n",
    " 'TTEXC': \"teletravail_exceptionnel\",\n",
    " 'TTMOIS': \"mention_teletravail_par_mois\",\n",
    " 'TTMOIS_NOMBRE': \"nombre_jours_teletravail_mois\",\n",
    " 'TTTRIM': \"mention_teletravail_par_trimestre\",\n",
    " 'TTTRIM_NOMBRE': \"nombre_jours_teletravail_trimestre\",\n",
    " 'TTANNEE': \"mention_teletravail_par_annuel\",\n",
    " 'TTANNEE_NOMBRE': \"nombre_jours_teletravail_annuel\",\n",
    " 'TTSEM': \"mention_teletravail_par_semaine\",\n",
    " 'TTSEM_NOMBRE': \"nombre_jours_teletravail_semaine\",\n",
    " 'TTOCAMOIS': \"occas_mention_teletravail_par_mois\",\n",
    " 'TTOCA_MOIS_NOMBRE': \"occas_nombre_jours_teletravail_mois\",\n",
    " 'TTOCATRIM': \"occas_mention_teletravail_par_trimestre\",\n",
    " 'TTOCA_TRIM_NOMBRE': \"occas_nombre_jours_teletravail_trimestre\",\n",
    " 'TTOCAANNEE': \"occas_mention_teletravail_par_annuel\",\n",
    " 'TTOCA_ANNEE_NOMBRE': \"occas_nombre_jours_teletravail_annuel\",\n",
    " 'TTOCASEM': \"occas_mention_teletravail_par_semaine\",\n",
    " 'TTOCA_SEM_NOMBRE': \"occas_nombre_jours_teletravail_semaine\",\n",
    " 'TTPRESJOURMOIS': \"mention_jour_presence_par_mois\",\n",
    " 'PRESJOURMOIS_NOMBRE': \"nombre_jour_presence_par_mois\",\n",
    " 'TTPRESJOURTRIM': \"mention_jour_presence_par_trimestre\",\n",
    " 'PRESJOURTRIM_NOMBRE': \"nombre_jour_presence_par_trimestre\",\n",
    " 'TTPRESJOURANNEE': \"mention_jour_presence_par_annuel\",\n",
    " 'PRESJOURANNEE_NOMBRE': \"nombre_jour_presence_par_annuel\",\n",
    " 'TTPRESJOURSEM': \"mention_jour_presence_par_semaine\",\n",
    " 'PRESJOURSEM_NOMBRE': \"nombre_jour_presence_par_semaine\",\n",
    " 'COMPJOUR': \"mention_indemnisation_journaliere\",\n",
    " 'COMPJOUR_NOMBRE': \"indemnisation_journaliere\",\n",
    " 'COMPMOIS': \"mention_indemnisation_mensuelle\",\n",
    " 'COMPMOIS_NOMBRE': \"indemnisation_mensuelle\",\n",
    " 'COMPMOIS_BASE_NOMBRE': \"indemnisation_base_mensuelle_pour_un_jour_par_semaine\",\n",
    " 'COMPTRIM': \"mention_indemnisation_trimestrielle\",\n",
    " 'COMPTRIM_NOMBRE': \"indemnisation_trimestrielle\",\n",
    " 'COMPANNEE': \"mention_indemnisation_annuelle\",\n",
    " 'COMPANNEE_NOMBRE': \"indemnisation_annuelle\",\n",
    " 'COMPSEM': \"mention_indemnisation_semaine\",\n",
    " 'COMPSEM_NOMBRE': \"indemnisation_semaine\",\n",
    " 'COMPE': \"mention_indemnisation_equipement\",\n",
    " 'COMPE_NOMBRE': \"indemnisation_equipement\",\n",
    " 'COMPS': \"mention_indemnite_sujetion\",\n",
    " 'COMPS_NOMBRE': \"montant_indemnite_sujetion\",\n",
    " 'EQUIPEMENT': \"equipement_fourni\"}"
   ]
  },
  {
   "cell_type": "markdown",
   "id": "0f1f7678-1d49-4b9b-b43b-174df0008bbd",
   "metadata": {},
   "source": [
    "# Boucle"
   ]
  },
  {
   "cell_type": "code",
   "execution_count": 133,
   "id": "ff42e89b-c55e-43fa-9954-c4330e0945b6",
   "metadata": {},
   "outputs": [
    {
     "name": "stdout",
     "output_type": "stream",
     "text": [
      "0 T09221025781\n"
     ]
    },
    {
     "name": "stderr",
     "output_type": "stream",
     "text": [
      "Setting `pad_token_id` to `eos_token_id`:2 for open-end generation.\n"
     ]
    },
    {
     "name": "stdout",
     "output_type": "stream",
     "text": [
      "Q_TTSEM_NOMBRE:Extraction de paragraphes pertinents:\n",
      "\n",
      "* \"Le télétravail doit être ponctuel : Il ne pourra être exercé que pour un maximum de 10 jours par an. La répartition du temps de travail s’opère par journée ou demi-journée.\"\n",
      "\n",
      "Ma réponse :\n",
      "nombrejourdeteletravailmaxparsemaine=0\n",
      "\n",
      "Mon raisonnement :\n",
      "Le document ne contient aucune information explicite sur le nombre de jours de télétravail par semaine, sauf une limite annuelle de 10 jours. Par conséquent, je ne peux pas affecter une valeur supérieure à 0 à la variable nombrejourdeteletravailmaxparsemaine.\n",
      "\n",
      "1 T03821007340\n"
     ]
    },
    {
     "name": "stderr",
     "output_type": "stream",
     "text": [
      "Setting `pad_token_id` to `eos_token_id`:2 for open-end generation.\n"
     ]
    },
    {
     "name": "stdout",
     "output_type": "stream",
     "text": [
      "Q_TTSEM_NOMBRE:\n",
      "Extraction de deux paragraphes pertinents du document :\n",
      "\n",
      "* \"En raison de la crise sanitaire de 2020 et de ses conséquences en matière économique et d’activité, la société ARaymond France a été contrainte de recourir au dispositif d’activité partielle.\"\n",
      "* \"Durant le premier confinement général, et en application des dispositions légales applicables en cas d’épidémie ou de pandémie, le recours au télétravail a été généralisé pour tous les salariés en activité dont le poste et/ou leur mission permettait ledit télétravail. Depuis, le télétravail est resté la règle et la présence sur site l’exception pour tous les salariés pouvant avoir recours à ce mode d’organisation du travail.\"\n",
      "\n",
      "Ma réponse :\n",
      "\n",
      "nombrejourdeteletravailmaxparsemaine=0\n",
      "\n",
      "Mon raisonnement :\n",
      "\n",
      "Le document ne contient aucune information explicite sur le nombre de jours de télétravail par semaine. Par conséquent, je dois affecter impérativement à la variable nombrejourdeteletravailmaxparsemaine la valeur 0.\n",
      "\n",
      "2 T09221024750\n"
     ]
    },
    {
     "name": "stderr",
     "output_type": "stream",
     "text": [
      "Setting `pad_token_id` to `eos_token_id`:2 for open-end generation.\n"
     ]
    },
    {
     "name": "stdout",
     "output_type": "stream",
     "text": [
      "Q_TTSEM_NOMBRE:\n",
      "Extraction de deux paragraphes pertinents provenant du document à analyser :\n",
      "\n",
      "* \"Le nombre de jours de télétravail par semaine est de 2 soit à hauteur de 40% par semaine pour les salariés à temps plein.\"\n",
      "* \"Pour conserver un lien social et faciliter le fonctionnement des équipes : réunions d’équipes, entretiens individuels, ateliers projets, travaux qui ne peuvent être effectués en télétravail (impressions papier), une présence sur site obligatoire de 2 jours par semaine, a minima,\"\n",
      "\n",
      "Ma réponse :\n",
      "nombrejourdeteletravailmaxparsemaine=2\n",
      "\n",
      "Mon raisonnement :\n",
      "Le document mentionne explicitement le nombre de jours de télétravail par semaine, qui est de 2.\n",
      "\n",
      "3 T09221026357\n"
     ]
    },
    {
     "name": "stderr",
     "output_type": "stream",
     "text": [
      "Setting `pad_token_id` to `eos_token_id`:2 for open-end generation.\n"
     ]
    },
    {
     "name": "stdout",
     "output_type": "stream",
     "text": [
      "Q_TTSEM_NOMBRE:\n",
      "Extraction de deux paragraphes pertinents provenant du document à analyser :\n",
      "\n",
      "* \"La Direction entend rappeler que la compétence s’acquiert dans le collectif par les échanges. Afin de préserver le lien avec sa communauté de travail, le salarié devra être présent sur site au moins 3 jours par semaine civile.\"\n",
      "* \"Les télétravailleurs bénéficient d’un droit à la déconnexion. Dans ce cadre, il est rappelé qu'il n'y a pas d'obligation pour les télétravailleurs de répondre au téléphone ou aux courriels en dehors de leurs heures habituelles de travail et durant leurs périodes de repos, congés et maladie. En aucun cas, il ne pourra leur en être tenu rigueur.\"\n",
      "\n",
      "Ma réponse :\n",
      "nombrejourdeteletravailmaxparsemaine=3\n",
      "\n",
      "Mon raisonnement :\n",
      "Le premier paragraphe indique que les salariés doivent être présents sur site au moins 3 jours par semaine civile, ce qui implique que le nombre maximal de jours de télétravail par semaine est de 2. Par conséquent, nombrejourdeteletravailmaxparsemaine vaut 3.\n",
      "\n",
      "4 T07521030130\n"
     ]
    },
    {
     "name": "stderr",
     "output_type": "stream",
     "text": [
      "Setting `pad_token_id` to `eos_token_id`:2 for open-end generation.\n"
     ]
    },
    {
     "name": "stdout",
     "output_type": "stream",
     "text": [
      "Q_TTSEM_NOMBRE:Mon extraction de deux paragraphes max pertinents provenant du document à analyser qui répondent à la question :\n",
      "\n",
      "* \"Un rythme de trois jours en télétravail et deux jours en présentiel peut être envisagé.\"\n",
      "* \"Ainsi, avec l’accord du responsable hiérarchique, un salarié pourra être amené ponctuellement à télétravailler une semaine complète si son activité et l’organisation le permettent, et inversement, il pourra être amené à travailler en présentiel une semaine complète pour les besoins du service, de l’activité ou de l’organisation.\"\n",
      "\n",
      "Ma réponse :\n",
      "nombrejourdeteletravailmaxparsemaine=3\n",
      "\n",
      "Mon raisonnement :\n",
      "Le premier paragraphe indique qu'un rythme de trois jours en télétravail et deux jours en présentiel peut être envisagé, ce qui signifie que le nombre maximum de jours de télétravail par semaine est de 3.\n",
      "\n",
      "5 T03521007300\n"
     ]
    },
    {
     "name": "stderr",
     "output_type": "stream",
     "text": [
      "Setting `pad_token_id` to `eos_token_id`:2 for open-end generation.\n"
     ]
    },
    {
     "name": "stdout",
     "output_type": "stream",
     "text": [
      "Q_TTSEM_NOMBRE:Extraction de deux paragraphes pertinents provenant du document à analyser :\n",
      "\n",
      "* \"L’autorisation individuelle de télétravail prévoira les plages de télétravail dans un horaire de semaine type. Chacun de ces salariés pourra demander la modification d’une plage de télétravail, pour des raisons liées au travail, en soumettant sa demande au minimum 7 jours à l’avance.\"\n",
      "* \"A l’échelle d’un service, il est possible de définir des journées comme non accessibles au télétravail afin de préserver le lien social, les rituels d’équipe et le bon fonctionnement du service (ex. : le jeudi après-midi pour les IF ou les périodes d’examen ou de rentrée).\"\n",
      "\n",
      "Ma réponse :\n",
      "nombrejourdeteletravailmaxparsemaine=0;\n",
      "\n",
      "Mon raisonnement :\n",
      "Le document ne précise pas explicitement le nombre de jours de télétravail par semaine. Il mentionne seulement que les plages de télétravail doivent être définies dans un horaire de semaine type et que les salariés peuvent demander la modification d'une plage de télétravail. Cependant, il n'y a aucune indication sur le nombre maximal de jours de télétravail par semaine. Par ailleurs, le document précise que des journées peuvent être définies comme non accessibles au télétravail pour préserver le lien social et le bon fonctionnement du service. Cette information suggère que le nombre de jours de télétravail par semaine est probablement inférieur à cinq. En l'absence de précisions explicites, je dois affecter impérativement à la variable nombrejourdeteletravailmaxparsemaine la valeur 0.\n",
      "\n",
      "6 T04521003482\n"
     ]
    },
    {
     "name": "stderr",
     "output_type": "stream",
     "text": [
      "Setting `pad_token_id` to `eos_token_id`:2 for open-end generation.\n"
     ]
    },
    {
     "name": "stdout",
     "output_type": "stream",
     "text": [
      "Q_TTSEM_NOMBRE:\n",
      "Extraction pertinente du document :\n",
      "\n",
      "* \"Les agents travaillant sur site peuvent aussi, à leur initiative, utiliser ce mode de badgeage s’ils le souhaitent.\"\n",
      "* \"Cet avenant a une durée indéterminée entre en vigueur dès la mise en œuvre de la solution technique de badgeage au poste de travail informatique et au plus tard le 1er septembre 2021.\"\n",
      "\n",
      "Ma réponse :\n",
      "\n",
      "nombrejourdeteletravailmaxparsemaine=0\n",
      "\n",
      "Mon raisonnement :\n",
      "\n",
      "Le document ne contient aucune information explicite sur le nombre de jours de télétravail autorisés par semaine. Par conséquent, je dois affecter la valeur 0 à la variable nombrejourdeteletravailmaxparsemaine. De plus, il n'y a aucune mention de jours de présence obligatoire sur site, donc je ne dois pas renvoyer de variable supplémentaire 'nombrejoursursiteparsemaine'.\n",
      "\n",
      "7 T09221026467\n"
     ]
    },
    {
     "name": "stderr",
     "output_type": "stream",
     "text": [
      "Setting `pad_token_id` to `eos_token_id`:2 for open-end generation.\n"
     ]
    },
    {
     "name": "stdout",
     "output_type": "stream",
     "text": [
      "Q_TTSEM_NOMBRE:Mon extraction de paragraphes pertinents provenant du document à analyser :\n",
      "\n",
      "* \"Le télétravail occasionnel a vocation à répondre à des situations individuelles inhabituelles et temporaires ou à des situations rendant impossible le déplacement sur le lieu de travail. Cette situation de télétravail occasionnel est ouverte à tous les collaborateurs disposant d'outils de travail à distance.\"\n",
      "* \"Il peut être recouru au télétravail dans des conditions dérogeant à celles définies dans le présent accord. Cela concerne les collaborateurs dont les situations sont mentionnées dans l'accord égalité femmes-hommes du 11 juillet 2016, et à titre exceptionnel les collaborateurs en situation d'immobilisation et ne pouvant se déplacer physiquement à l'Institut de façon temporaire, les collaborateurs en situation de maintien dans l'emploi, les collaborateurs en situation d'handicap, les collaboratrices enceintes ainsi que les proches aidants.\"\n",
      "\n",
      "Ma réponse :\n",
      "nombrejourdeteletravailmaxparsemaine=0;\n",
      "\n",
      "Mon raisonnement :\n",
      "Les informations fournies dans le document ne permettent pas de déterminer explicitement le nombre maximal de jours de télétravail par semaine, à l'exception du télétravail occasionnel qui n'est pas concerné par la question. Ainsi, je dois affecter à la variable nombrejourdeteletravailmaxparsemaine la valeur 0.\n",
      "\n",
      "8 T09221024441\n"
     ]
    },
    {
     "name": "stderr",
     "output_type": "stream",
     "text": [
      "Setting `pad_token_id` to `eos_token_id`:2 for open-end generation.\n"
     ]
    },
    {
     "name": "stdout",
     "output_type": "stream",
     "text": [
      "Q_TTSEM_NOMBRE:Extraction de paragraphes pertinents :\n",
      "\n",
      "* \"Afin d’éviter l’isolement des salariés et permettre aux équipes de conserver une bonne cohésion de groupe, les Parties conviennent que le temps au cours duquel le salarié pourra être en situation de télétravail à domicile ne devra pas dépasser deux jours par semaine.\"\n",
      "\n",
      "Ma réponse :\n",
      "nombrejourdeteletravailmaxparsemaine=2\n",
      "\n",
      "Mon raisonnement :\n",
      "Le paragraphe mentionne explicitement que le temps de télétravail à domicile ne doit pas dépasser deux jours par semaine.\n",
      "\n",
      "9 T04421009882\n"
     ]
    },
    {
     "name": "stderr",
     "output_type": "stream",
     "text": [
      "Setting `pad_token_id` to `eos_token_id`:2 for open-end generation.\n"
     ]
    },
    {
     "name": "stdout",
     "output_type": "stream",
     "text": [
      "Q_TTSEM_NOMBRE:Extraction de deux paragraphes pertinents provenant du document à analyser :\n",
      "\n",
      "* \"rester chez soi le plus possible. Le télétravail a été généralisé pour tous les postes pour lesquels il est possible et pour lesquels l’activité se poursuit\"\n",
      "* \"L'organisation du travail a été adaptée aux contraintes qui s'imposent dans le cadre de l’épidémie de Covid-19 : généralisation du recours au télétravail pour tous les postes aménageables en télétravail pour lesquels l’activité se poursuit\"\n",
      "\n",
      "Ma réponse :\n",
      "nombrejourdeteletravailmaxparsemaine=0\n",
      "\n",
      "Mon raisonnement :\n",
      "Le document ne précise pas explicitement le nombre de jours de télétravail par semaine. Il mentionne seulement que le télétravail a été généralisé pour tous les postes pour lesquels il est possible et pour lesquels l'activité se poursuit. Il n'y a aucune mention de la fréquence hebdomadaire ou du nombre de jours de télétravail. Par conséquent, je ne peux pas attribuer de valeur à la variable nombrejourdeteletravailmaxparsemaine, je dois donc la définir comme égale à 0.\n",
      "\n",
      "10 T07621005356\n"
     ]
    },
    {
     "name": "stderr",
     "output_type": "stream",
     "text": [
      "Setting `pad_token_id` to `eos_token_id`:2 for open-end generation.\n"
     ]
    },
    {
     "name": "stdout",
     "output_type": "stream",
     "text": [
      "Q_TTSEM_NOMBRE:Extraction de deux paragraphes pertinents provenant du document à analyser :\n",
      "\n",
      "* \"Par principe, pour l'application du présent accord, le télétravail s'entend d'une prestation de travail réalisée depuis le domicile du Salarié.\"\n",
      "* \"Il ne vise donc pas le télétravail occasionnel, pouvant être mis en œuvre en cas de survenance d'un aléa indépendant de la volonté du Salarié et ayant un caractère inhabituel, imprévisible ou d'urgence\"\n",
      "\n",
      "Ma réponse :\n",
      "nombrejourdeteletravailmaxparsemaine=0\n",
      "\n",
      "Mon raisonnement :\n",
      "Le document ne précise pas explicitement le nombre de jours de télétravail par semaine, il mentionne simplement que le télétravail s'entend d'une prestation de travail réalisée depuis le domicile du Salarié, sans préciser de fréquence. De plus, le télétravail occasionnel n'est pas inclus dans le champ d'application de l'accord, il n'est donc pas possible de déterminer le nombre maximal de jours de télétravail par semaine à partir des informations fournies.\n",
      "\n",
      "11 T09221023292\n"
     ]
    },
    {
     "name": "stderr",
     "output_type": "stream",
     "text": [
      "Setting `pad_token_id` to `eos_token_id`:2 for open-end generation.\n"
     ]
    },
    {
     "name": "stdout",
     "output_type": "stream",
     "text": [
      "Q_TTSEM_NOMBRE:Mon extraction de deux paragraphes max pertinents provenant du document à analyser qui répondent à la question :\n",
      "\n",
      "* \"Article 4: Télétravail\"\n",
      "* \"En tout état de cause, hors situation exceptionnelle, le télétravail cesse sur information d’une des parties à l’autre avec un préavis d’un mois (sauf accord réciproque pour une durée inférieure).\"\n",
      "\n",
      "Ma réponse :\n",
      "nombrejourdeteletravailmaxparsemaine=0\n",
      "\n",
      "Mon raisonnement :\n",
      "Le document ne contient aucune information explicite sur le nombre de jours de télétravail par semaine. Il est simplement mentionné que le télétravail peut être organisé de manière volontaire avec le double consentement employeur-salarié, et qu'il cesse en cas d'information d'une des parties avec un préavis d'un mois.\n",
      "\n",
      "12 T09221024752\n"
     ]
    },
    {
     "name": "stderr",
     "output_type": "stream",
     "text": [
      "Setting `pad_token_id` to `eos_token_id`:2 for open-end generation.\n"
     ]
    },
    {
     "name": "stdout",
     "output_type": "stream",
     "text": [
      "Q_TTSEM_NOMBRE:\n",
      "Extraction pertinente du document :\n",
      "- \"La direction propose la mise en place d’une journée de télétravail sans conditions de temps de trajet, nombre de kilomètres ou encore conditions particulières liées au temps de travail pour l’ensemble des salariés hormis les stagiaires, apprentis et salariés en période d’essai.\"\n",
      "\n",
      "Ma réponse :\n",
      "nombrejourdeteletravailmaxparsemaine=1\n",
      "\n",
      "Mon raisonnement :\n",
      "Le document mentionne explicitement qu'un jour de télétravail est autorisé par semaine pour tous les salariés, sauf exceptions. Cette information est claire et ne nécessite pas de calcul ou d'hypothèse supplémentaire.\n",
      "\n",
      "13 T07521028203\n"
     ]
    },
    {
     "name": "stderr",
     "output_type": "stream",
     "text": [
      "Setting `pad_token_id` to `eos_token_id`:2 for open-end generation.\n"
     ]
    },
    {
     "name": "stdout",
     "output_type": "stream",
     "text": [
      "Q_TTSEM_NOMBRE:Extraction de deux paragraphes pertinents provenant du document à analyser :\n",
      "\n",
      "* \"1 jour fixe de télétravail par semaine.\"\n",
      "* \"Le télétravailleur a la possibilité d’exercer son activité à son domicile en informant son manager dans les meilleurs délais et en transmettant un justificatif.\"\n",
      "\n",
      "Ma réponse :\n",
      "nombrejourdeteletravailmaxparsemaine=1\n",
      "\n",
      "Mon raisonnement :\n",
      "Le document mentionne explicitement qu'il y a \"1 jour fixe de télétravail par semaine\". Il n'y a pas d'autres mentions de fréquence hebdomadaire ou de limitation du nombre de jours de télétravail par semaine.\n",
      "\n",
      "14 T03321006775\n"
     ]
    },
    {
     "name": "stderr",
     "output_type": "stream",
     "text": [
      "Setting `pad_token_id` to `eos_token_id`:2 for open-end generation.\n"
     ]
    },
    {
     "name": "stdout",
     "output_type": "stream",
     "text": [
      "Q_TTSEM_NOMBRE:Extraction de deux paragraphes pertinents provenant du document à analyser :\n",
      "\n",
      "* \"La fréquence du télétravail est limitée à un (1) jour maximum par semaine\" (Document(page\\_content=\"CHAPITRE 6 : TELETRAVAIL\\n\\nCe nouveau dispositif vise à accompagner de manière pérenne le développement du télétravail en soulignant l’importance de la responsabilisation des acteurs pour établir un rapport de confiance mutuelle entre le manager et le salarié, condition indispensable de son fonctionnement. \\n\\nEn effet, le télétravail, qu’il soit régulier ou occasionnel, est une demande croissante de salariés souhaitant pouvoir bénéficier de nouveaux modes de travail, à laquelle la Direction souhaite répondre. \\n\\nCet accord veille à ce que la mise en place du télétravail n’ait pas pour conséquence de mettre à l’écart le télétravailleur de la communauté de travail et permette de préserver la continuité des activités professionnelles. Une vigilance doit, en particulier, être portée à la préservation de la cohésion sociale interne, aux conditions de maintien du lien social entre les collaborateurs, au regard de la distanciation des rapports sociaux, voire de perte du lien social inhérente à l’utilisation des outils de communication à distance.\\n\\nArticle 35\\xa0: Définition du télétravail\\n\\nLes parties signataires rappellent les termes de l’article L.1222-9 du Code du travail qui énonce que le télétravail désigne toute forme d’organisation du travail dans laquelle un travail qui aurait également pu être exécuté dans les locaux de l’entreprise est effectué par un salarié hors de ces locaux de façon volontaire en utilisant les technologies de l’information et de la communication.\\n\\nLes situations de travail « nomade » avec l’utilisation des technologies de l’information et de la communication, notamment comme les déplacements professionnels, ne relèvent pas de la définition du télétravail.\\n\\nArticle 36\\xa0: Conditions de passage en télétravail\\xa0: critères d’éligibilité \\n\\nArticle 36.1. Les salariés concernés\\n\\nLe télétravail est ouvert aux activités et fonctions dans l'entreprise pouvant être exercées à distance, notamment\\xa0et de manière non limitative les activités de développeur informatique, d’ingénieurs de recherche, et de commerciaux. \\n\\nLes activités nécessitant une présence physique permanente dans les locaux de l’entreprise ou chez les clients de la Société sont ainsi exclues du télétravail. \\n\\nDe la même façon, le responsable concerné apprécie la possibilité ou non pour un salarié de télétravailler, en fonction des données traitées, et notamment de leur nature. A titre d’exemple, le télétravail pourra être refusé s’il s’agit de travailler sur des données considérées comme sensibles/confidentielles.\\n\\nLes salariés intéressés doivent faire preuve d’autonomie professionnelle dans l’exécution de leur travail et avoir la capacité à travailler à distance et de manière individuelle. Ils doivent avoir une bonne connaissance de leur poste de travail et savoir gérer leur temps de travail. Ces critères sont appréciés par l’employeur.\", metadata={'source': 'T03321006775.txt'})\n",
      "\n",
      "Ma réponse :\n",
      "nombrejourdeteletravailmaxparsemaine=1\n",
      "\n",
      "Mon raisonnement :\n",
      "Le document stipule explicitement que \"La fréquence du télétravail est limitée à un (1) jour maximum par semaine\". Par conséquent, le nombre maximal de jours de télétravail par semaine est de 1.\n",
      "\n",
      "15 T06421003671\n"
     ]
    },
    {
     "name": "stderr",
     "output_type": "stream",
     "text": [
      "Setting `pad_token_id` to `eos_token_id`:2 for open-end generation.\n",
      "Created a chunk of size 9118, which is longer than the specified 5000\n",
      "Created a chunk of size 6263, which is longer than the specified 5000\n"
     ]
    },
    {
     "name": "stdout",
     "output_type": "stream",
     "text": [
      "Q_TTSEM_NOMBRE:Two relevant paragraphs from the document are:\n",
      "\n",
      "* \"Le travail occasionnel à distance peut s’exercer à hauteur de 12 jours par année civile pour un salarié présent toute l’année.\"\n",
      "* \"Cela concerne [...] les salariés proches aidant (selon la définition prévue à l’article 3 du présent accord),\"\n",
      "\n",
      "My response is:\n",
      "* nombrejourdeteletravailmaxparsemaine=2\n",
      "* nombrejoursursiteparsemaine=5\n",
      "\n",
      "My reasoning is that the first paragraph states that the maximum number of days for occasional telework per year is 12, which means that the maximum number of days per week is 12/52=0.23, so I rounded down to 0. The second paragraph does not provide any additional information about the number of days of telework per week. However, since there is no mention of mandatory presence on site, I assume that the employee can work remotely up to 5 days a week if necessary. Therefore, nombrejourdeteletravailmaxparsemaine=5 and nombrejoursursiteparsemaine=0.\n",
      "\n",
      "16 T04121001510\n"
     ]
    },
    {
     "name": "stderr",
     "output_type": "stream",
     "text": [
      "Setting `pad_token_id` to `eos_token_id`:2 for open-end generation.\n"
     ]
    },
    {
     "name": "stdout",
     "output_type": "stream",
     "text": [
      "Q_TTSEM_NOMBRE:Extraction de deux paragraphes pertinents provenant du document à analyser :\n",
      "\n",
      "* \"Ces collaborateurs bénéficieront d’une enveloppe de 84 jours maximum de crédit de télétravail sur la période de référence (soit du 1er mai année N au 30 avril année N+1), crédit qui sera déterminé pour la première année en fonction de la date d’agrément du présent accord. Ce crédit sera proratisé selon le temps contractuel.\"\n",
      "* \"La Direction en lien avec l’encadrement est la seule habilitée à valider une demande de télétravail au regard de certains critères : Autonomie du salarié, Contraintes d’organisation du service, Matériel à disposition. La Caf du Loir et Cher sera particulièrement attentive en lien avec le Comité Social Economique dans le respect des critères ci-dessus, aux demandes émanant de personnes notamment en situation de handicap, conformément à l’article L 5213-6 et L 4624-3 du code du travail. Cet examen peut, notamment, le conduire à déroger aux deux jours minimum de travail devant être effectués dans l'organisme.\"\n",
      "\n",
      "Ma réponse :\n",
      "nombrejourdeteletravailmaxparsemaine=3\n",
      "\n",
      "Mon raisonnement :\n",
      "Le premier paragraphe indique que les collaborateurs bénéficient d'une enveloppe de 84 jours maximum de crédit de télétravail sur une période de référence, qui sera proratisée selon le temps contractuel. Cependant, il ne précise pas explicitement le nombre de jours de télétravail par semaine.\n",
      "Le deuxième paragraphe mentionne que la Caf du Loir et Cher sera attentive aux demandes de télétravail des personnes en situation de handicap et pourra déroger aux deux jours minimum de travail devant être effectués dans l'organisme. Cependant, cela ne précise pas non plus explicitement le nombre de jours de télétravail par semaine.\n",
      "Compte tenu de l'absence de précisions explicites du nombre de jour de télétravail par semaine, je suis dans l'obligation d'affecter impérativement à la variable nombrejourdeteletravailmaxparsemaine la valeur 0.\n",
      "Cependant, comme le document mentionne que les collaborateurs bénéficient d'une enveloppe de 84 jours maximum de crédit de télétravail, je peux déduire que le nombre maximum de jours de télétravail par semaine est de 3 (84 jours / 28 semaines = 3 jours par semaine). Je peux donc affecter la variable nombrejourdeteletravailmaxparsemaine avec la valeur 3.\n",
      "\n",
      "17 T09221023395\n"
     ]
    },
    {
     "name": "stderr",
     "output_type": "stream",
     "text": [
      "Setting `pad_token_id` to `eos_token_id`:2 for open-end generation.\n"
     ]
    },
    {
     "name": "stdout",
     "output_type": "stream",
     "text": [
      "Q_TTSEM_NOMBRE:Mon extraction de deux paragraphes max pertinents provenant du document à analyser qui répondent à la question :\n",
      "\n",
      "* \"Le principe de base de fonctionnement du télétravail régulier est de travailler jusqu’à deux journées par semaine à domicile, par journée entière, de manière à préserver le lien social avec l’entreprise et son groupe de travail.\"\n",
      "\n",
      "Ma réponse :\n",
      "nombrejourdeteletravailmaxparsemaine=2\n",
      "\n",
      "Mon raisonnement :\n",
      "Le document mentionne explicitement que le télétravail régulier se fait jusqu'à deux journées par semaine.\n",
      "\n",
      "18 T08821002452\n"
     ]
    },
    {
     "name": "stderr",
     "output_type": "stream",
     "text": [
      "Setting `pad_token_id` to `eos_token_id`:2 for open-end generation.\n",
      "Created a chunk of size 11294, which is longer than the specified 5000\n",
      "Created a chunk of size 10618, which is longer than the specified 5000\n"
     ]
    },
    {
     "name": "stdout",
     "output_type": "stream",
     "text": [
      "Q_TTSEM_NOMBRE:Extraction de deux paragraphes pertinents provenant du document à analyser :\n",
      "\n",
      "* \"Le télétravail pour le salarié à temps complet ou titulaire d’un forfait annuel 218 jours ne pourra être exercé que pour un maximum de 13 jours (soit 26 demi-journées) par trimestre civil dans la limite de 1 jour (soit 2 demi-journées) par semaine de 5 jours travaillés, non reportables, soit une enveloppe de 52 jours (soit 104 demi-journées) par année civile.\"\n",
      "* \"Les salariés devront être présents au minimum 2 jours par semaine sur leur lieu de travail habituel.\"\n",
      "\n",
      "Ma réponse :\n",
      "nombrejourdeteletravailmaxparsemaine = 1\n",
      "\n",
      "Mon raisonnement :\n",
      "Le premier paragraphe indique que le télétravail est limité à 1 jour par semaine de 5 jours travaillés, ce qui correspond à 1 jour de télétravail par semaine. Cependant, le deuxième paragraphe indique que les salariés doivent être présents au minimum 2 jours par semaine sur leur lieu de travail habituel, ce qui signifie que le nombre maximal de jours de télétravail par semaine est de 3 jours. Cependant, comme je suis un expert juridique sans compétence de programmation informatique, je ne peux pas faire de calcul de proratisation. Par conséquent, je ne peux pas déduire un nombre de jour de télétravail par semaine supérieur à 1 jour.\n",
      "\n",
      "19 T03521008349\n"
     ]
    },
    {
     "name": "stderr",
     "output_type": "stream",
     "text": [
      "Setting `pad_token_id` to `eos_token_id`:2 for open-end generation.\n"
     ]
    },
    {
     "name": "stdout",
     "output_type": "stream",
     "text": [
      "Q_TTSEM_NOMBRE:Two paragraphs from the document that answer the question are:\n",
      "\n",
      "* \"La mise en place du télétravail ne doit pas générer de perturbations dans la réalisation des activités du service. Elle doit permettre d’assurer la poursuite de l’activité professionnelle dans les meilleures conditions possibles en utilisant les moyens de communication (téléphone, outils collaboratifs…) afin de maintenir la qualité du travail tant du côté du salarié que de l’entreprise.\"\n",
      "* \"Qu’il soit régulier ou occasionnel, par principe, le télétravail est limité à deux daynées par semaine. Il est également possible d’étendre à plus de days de teletravail par semaine pour des raisons ponctuelles and exceptional with the agreement of the director concerned.\"\n",
      "\n",
      "My response is:\n",
      "\n",
      "* nombrejourdeteletravailmaxparsemaine=2\n",
      "* nombrejoursursiteparsemaine=0\n",
      "\n",
      "My reasoning is that the document states that regular or occasional telework is limited to two days per week, but it is also possible to extend this to more than two days per week for punctual and exceptional reasons with the agreement of the relevant director. However, since there is no indication in the document that the extension has been granted, I must assume that the maximum number of days of telework per week is two. The number of days of presence on site per week is not specified in the document, so I assume it is zero.\n",
      "\n",
      "20 T06721007237\n"
     ]
    },
    {
     "name": "stderr",
     "output_type": "stream",
     "text": [
      "Setting `pad_token_id` to `eos_token_id`:2 for open-end generation.\n"
     ]
    },
    {
     "name": "stdout",
     "output_type": "stream",
     "text": [
      "Q_TTSEM_NOMBRE:Extraction de deux paragraphes pertinents provenant du document à analyser :\n",
      "\n",
      "* \"Le champ d’application du présent accord est réservé aux salariés des établissements suivants... Services accueillant des ménages en hébergement collectif... HUDA I (cheffe de service, intervenant juridique et secrétaire), Maison Relais Etape et Thomas Mann\"\n",
      "* \"Le temps de travail d’un télétravailleur est évalué au regard du temps de présence au sein de l’Association et de celui réalisé en situation de télétravail. Le temps de travail du télétravailleur est de 35 heures par semaine. Cette durée du travail de 35 heures sera à effectuer en présentiel sur site à hauteur minimum de 24 heures, les heures restantes en télétravail.\"\n",
      "\n",
      "Ma réponse :\n",
      "nombrejourdeteletravailmaxparsemaine=2\n",
      "\n",
      "Mon raisonnement :\n",
      "Le document mentionne que le temps de travail du télétravailleur est de 35 heures par semaine, et que cette durée doit être effectuée en présentiel sur site à hauteur minimum de 24 heures. Par conséquent, le nombre maximal de jours de télétravail par semaine est de 24/7 = 3.43, ce qui correspond à environ 2 jours de télétravail par semaine.\n",
      "\n",
      "21 T08521004770\n"
     ]
    },
    {
     "name": "stderr",
     "output_type": "stream",
     "text": [
      "Setting `pad_token_id` to `eos_token_id`:2 for open-end generation.\n"
     ]
    },
    {
     "name": "stdout",
     "output_type": "stream",
     "text": [
      "Q_TTSEM_NOMBRE:Extraction de deux paragraphes pertinents provenant du document à analyser :\n",
      "\n",
      "* \"Les parties conviennent que le nombre de journée maximale de télétravail par semaine est fixé à une (1)\"\n",
      "* \"Le télétravail peut être organisé également, à raison de 3 ou 4 jours par mois, non fixes.\"\n",
      "\n",
      "Ma réponse :\n",
      "nombrejourdeteletravailmaxparsemaine=1\n",
      "\n",
      "Mon raisonnement :\n",
      "Le document mentionne explicitement que le nombre maximal de journées de télétravail par semaine est fixé à une (1). Cette information est confirmée par l'expression \"Le télétravail peut être organisé également, à raison de 3 ou 4 jours par mois, non fixes\", qui indique que le télétravail ne peut pas dépasser 4 jours par mois, soit moins d'un jour par semaine. Par conséquent, le nombre maximal de jours de télétravail par semaine est de 1.\n",
      "\n",
      "22 T05221001044\n"
     ]
    },
    {
     "name": "stderr",
     "output_type": "stream",
     "text": [
      "Setting `pad_token_id` to `eos_token_id`:2 for open-end generation.\n"
     ]
    },
    {
     "name": "stdout",
     "output_type": "stream",
     "text": [
      "Q_TTSEM_NOMBRE:Extraction de paragraphes pertinents:\n",
      "\n",
      "* \"Le télétravail pourra s’exercer dans la limite de deux journées par semaine complète de travail, sans cumul ni report.\"\n",
      "\n",
      "Ma réponse :\n",
      "\n",
      "* nombrejourdeteletravailmaxparsemaine = 2\n",
      "\n",
      "Mon raisonnement :\n",
      "\n",
      "* Le document spécifie clairement que le télétravail peut être exercé jusqu'à deux jours par semaine complète de travail.\n",
      "\n",
      "23 T03321007015\n"
     ]
    },
    {
     "name": "stderr",
     "output_type": "stream",
     "text": [
      "Setting `pad_token_id` to `eos_token_id`:2 for open-end generation.\n"
     ]
    },
    {
     "name": "stdout",
     "output_type": "stream",
     "text": [
      "Q_TTSEM_NOMBRE:\n",
      "Extraction pertinente du document :\n",
      "\n",
      "* \"Les parties conviennent cependant que si la pandémie devait prendre fin avant le terme de cet avenant, les parties engageraient de nouvelles négociations afin de faire évoluer si besoin la durée et/ou les modalités de mise en œuvre de la phase expérimentale.\"\n",
      "* \"Le télétravail pour le salarié à temps complet ou titulaire d’un forfait annuel 218 jours ne pourra être exercé que pour un maximum de 13 jours (soit 26 demi-journées) par trimestre civil dans la limite de 1 jour (soit 2 demi-journées) par semaine de 5 jours travaillés, non reportables, soit une enveloppe de 52 jours (soit 104 demi-journées) par année civile.\"\n",
      "\n",
      "Ma réponse :\n",
      "nombrejourdeteletravailmaxparsemaine=1\n",
      "\n",
      "Mon raisonnement :\n",
      "Le document mentionne que le télétravail pour un salarié à temps complet ou titulaire d'un forfait annuel de 218 jours ne peut être exercé que pour un maximum de 13 jours par trimestre civil, dans la limite de 1 jour par semaine de 5 jours travaillés. Cela correspond à 1 jour de télétravail par semaine.\n",
      "\n",
      "24 T05721004466\n"
     ]
    },
    {
     "name": "stderr",
     "output_type": "stream",
     "text": [
      "Setting `pad_token_id` to `eos_token_id`:2 for open-end generation.\n"
     ]
    },
    {
     "name": "stdout",
     "output_type": "stream",
     "text": [
      "Q_TTSEM_NOMBRE:Extraction de deux paragraphes pertinents provenant du document à analyser :\n",
      "\n",
      "* \"ARTICLE 4 - MISE EN PLACE DU TELETRAVAIL A TITRE EXCEPTIONNEL [...] Il est précisé que le télétravail occasionnel ne constitue pas en soi un élément essentiel du contrat.\"\n",
      "* \"ARTICLE 5 - MISE A DISPOSITION D’EMPLACEMENT DE PARKING [...]\"\n",
      "\n",
      "Ma réponse :\n",
      "nombrejourdeteletravailmaxparsemaine=0\n",
      "\n",
      "Mon raisonnement :\n",
      "Le document ne contient aucune information explicite sur le nombre de jours de télétravail par semaine, sauf la mention de télétravail occasionnel qui ne constitue pas un élément essentiel du contrat. De plus, il n'y a aucune indication de jours de présence minimale sur site. Par conséquent, je ne peux pas attribuer une valeur supérieure à 0 à la variable nombrejourdeteletravailmaxparsemaine.\n",
      "\n",
      "25 T09221026193\n"
     ]
    },
    {
     "name": "stderr",
     "output_type": "stream",
     "text": [
      "Setting `pad_token_id` to `eos_token_id`:2 for open-end generation.\n"
     ]
    },
    {
     "name": "stdout",
     "output_type": "stream",
     "text": [
      "Q_TTSEM_NOMBRE:Extraction de deux paragraphes pertinents provenant du document à analyser :\n",
      "\n",
      "* \"L’évolution de l’organisation du travail au sein de l’Entreprise doit amener chaque Direction ou Département à mettre en place le nombre de jours hebdomadaires de télétravail définis ci-dessous au plus grand nombre de collaborateurs.\"\n",
      "* \"Le tableau ci-après présente le nombre de jours de présence minimum dans les locaux de l’Entreprise en fonction du pourcentage de la durée du travail :\"\n",
      "\n",
      "Ma réponse :\n",
      "nombrejourdeteletravailmaxparsemaine=1\n",
      "\n",
      "Mon raisonnement :\n",
      "Le premier paragraphe indique que chaque direction ou département doit mettre en place un nombre de jours hebdomadaires de télétravail. Cependant, il n'y a pas de mention explicite du nombre maximum de jours de télétravail par semaine. Le deuxième paragraphe présente un tableau avec le nombre de jours de présence minimale dans les locaux de l'entreprise en fonction du pourcentage de la durée du travail, mais il ne précise pas non plus le nombre maximum de jours de télétravail par semaine. Par conséquent, en l'absence de précisions explicites, je dois affecter impérativement à la variable nombrejourdeteletravailmaxparsemaine la valeur 0. Cependant, comme il est mentionné que chaque direction ou département doit mettre en place un nombre de jours hebdomadaires de télétravail, je suppose qu'il est possible de télétravailler au moins 1 jour par semaine. Donc, je vais affecter la valeur 1 à la variable nombrejourdeteletravailmaxparsemaine.\n",
      "\n",
      "26 T03521007469\n"
     ]
    },
    {
     "name": "stderr",
     "output_type": "stream",
     "text": [
      "Setting `pad_token_id` to `eos_token_id`:2 for open-end generation.\n"
     ]
    },
    {
     "name": "stdout",
     "output_type": "stream",
     "text": [
      "Q_TTSEM_NOMBRE:Two relevant paragraphs from the document are:\n",
      "\n",
      "* \"Un accord d’entreprise du 13 décembre 2017, arrivé à échéance le 31 décembre 2020, prévoit les conditions d’exercice en télétravail alterné à domicile.\"\n",
      "* \"Les dispositions de l’accord relatif au télétravail alterné à domicile du 13 décembre 2017 restent en vigueur jusqu’au 31 mars 2021.\"\n",
      "\n",
      "My response is:\n",
      "\n",
      "* nombrejourdeteletravailmaxparsemaine=0\n",
      "* nombrejoursursiteparsemaine=0\n",
      "\n",
      "My reasoning is that there is no information about the number of days of telework per week in the provided document. The document only mentions an agreement made on December 13, 2017, which was valid until December 31, 2020 and has been extended until March 31, 2021. However, this agreement does not contain any information about the number of days of telework per week. Therefore, I cannot provide a specific number for the maximum number of days of telework per week.\n",
      "\n",
      "The document also does not mention any mandatory presence on site or any other limitations on telework. Therefore, I have set the value of 'nombrejoursursiteparsemaine' to 0.\n",
      "\n",
      "27 T09221026409\n"
     ]
    },
    {
     "name": "stderr",
     "output_type": "stream",
     "text": [
      "Setting `pad_token_id` to `eos_token_id`:2 for open-end generation.\n"
     ]
    },
    {
     "name": "stdout",
     "output_type": "stream",
     "text": [
      "Q_TTSEM_NOMBRE:Extraction de deux paragraphes pertinents provenant du document à analyser :\n",
      "\n",
      "* \"Article 1. 2. 1. Formule de télétravail standard [...] 2 ou 3 jours de télétravail par semaine\"\n",
      "* \"Les activités qui par nature imposent la présence physique du salarié sur son lieu de travail sont donc exclues\"\n",
      "\n",
      "Ma réponse :\n",
      "nombrejourdeteletravailmaxparsemaine=3\n",
      "\n",
      "Mon raisonnement :\n",
      "Le document mentionne explicitement que la formule de télétravail standard permet aux salariés de bénéficier de 2 ou 3 jours de télétravail par semaine. Il n'y a pas d'autres mentions de fréquence hebdomadaire dans le document.\n",
      "\n",
      "28 T07521029021\n"
     ]
    },
    {
     "name": "stderr",
     "output_type": "stream",
     "text": [
      "Setting `pad_token_id` to `eos_token_id`:2 for open-end generation.\n"
     ]
    },
    {
     "name": "stdout",
     "output_type": "stream",
     "text": [
      "Q_TTSEM_NOMBRE:Extraction de paragraphes pertinents :\n",
      "\n",
      "* \"Le(s) jour(s) de télétravail seront fixés à l’avance, lors de l’accord initial. Ils pourront évoluer en accord entre les parties.\"\n",
      "* \"Elle reste cependant soumise au principe de double volontariat. L’organisation du travail peut être adaptée, et des aménagements de poste apportés, avec, le cas échéant, le concours des services de santé au travail.\"\n",
      "\n",
      "Ma réponse :\n",
      "nombrejourdeteletravailmaxparsemaine=0\n",
      "\n",
      "Mon raisonnement :\n",
      "Le document ne précise pas explicitement le nombre de jours de télétravail par semaine. Il mentionne simplement que le télétravail est possible sur accord entre les parties et que l'organisation du travail peut être adaptée. Par conséquent, je ne peux pas attribuer de valeur à la variable nombrejourdeteletravailmaxparsemaine.\n",
      "\n",
      "29 T04221004283\n"
     ]
    },
    {
     "name": "stderr",
     "output_type": "stream",
     "text": [
      "Setting `pad_token_id` to `eos_token_id`:2 for open-end generation.\n"
     ]
    },
    {
     "name": "stdout",
     "output_type": "stream",
     "text": [
      "Q_TTSEM_NOMBRE:Extraction de deux paragraphes pertinents provenant du document à analyser :\n",
      "\n",
      "* \"Le télétravail récurrent s’organise par journée complète dans la limite de deux (2) jours par semaine\"\n",
      "* \"un jour par semaine, fixé avec l’accord du supérieur hiérarchique, pour les alternants (apprentissage et contrat de professionnalisation) et stagiaires de six (6) mois et plus, à condition d’être présents à minima quatre (4) jours en entreprise sur la semaine\"\n",
      "\n",
      "Ma réponse :\n",
      "nombrejourdeteletravailmaxparsemaine=2\n",
      "\n",
      "Mon raisonnement :\n",
      "Le premier paragraphe indique que le télétravail récurrent s'organise dans la limite de deux jours par semaine. Cette information est confirmée dans le deuxième paragraphe qui précise que les alternants et les stagiaires peuvent télétravailler un jour par semaine, toujours dans la limite de deux jours par semaine.\n",
      "\n",
      "30 T07821008667\n"
     ]
    },
    {
     "name": "stderr",
     "output_type": "stream",
     "text": [
      "Setting `pad_token_id` to `eos_token_id`:2 for open-end generation.\n"
     ]
    },
    {
     "name": "stdout",
     "output_type": "stream",
     "text": [
      "Q_TTSEM_NOMBRE:Extraction de deux paragraphes pertinents provenant du document à analyser :\n",
      "\n",
      "* \"Le télétravail fonctionne sur un schéma d’alternance de périodes travaillées en présentiel et de période où l’activité est réalisée au domicile du salarié. Les parties conviennent de limiter la situation de télétravail à 2 (deux) jours par semaine pour les salariés à temps plein et à 1 (un) jour par semaine pour les salariés travaillant à temps partiel et dans la mesure où ce temps partiel est supérieur ou égal à 80% d’un temps plein, de telle sorte que le lien social soit maintenu avec l’équipe de travail et l’encadrement.\"\n",
      "* \"Si le document mentionne positivement le Télétravail à 100%, ou le full-remote, ET qu’il n’y a pas de jour de présence minimum sur site, alors 5 jours de télétravail est possible par semaine!\"\n",
      "\n",
      "Ma réponse :\n",
      "nombrejourdeteletravailmaxparsemaine=2\n",
      "\n",
      "Mon raisonnement :\n",
      "Le premier paragraphe indique clairement que le nombre maximal de jours de télétravail par semaine est limité à 2 jours pour les salariés à temps plein. Par conséquent, je peux affirmer que nombrejourdeteletravailmaxparsemaine=2. Le deuxième paragraphe ne fournit pas d'informations supplémentaires sur le nombre de jours de télétravail par semaine, mais il précise que si le télétravail à 100% ou le full-remote est autorisé sans jour de présence minimale sur site, alors 5 jours de télétravail sont possibles par semaine. Cependant, comme le premier paragraphe indique un nombre différent, je dois suivre les instructions et ignorer ce deuxième paragraphe pour cette tâche spécifique.\n",
      "\n",
      "31 T02421001369\n"
     ]
    },
    {
     "name": "stderr",
     "output_type": "stream",
     "text": [
      "Setting `pad_token_id` to `eos_token_id`:2 for open-end generation.\n"
     ]
    },
    {
     "name": "stdout",
     "output_type": "stream",
     "text": [
      "Q_TTSEM_NOMBRE:\n",
      "Extraction de deux paragraphes pertinents provenant du document à analyser :\n",
      "\n",
      "* \"Face à la crise sanitaire de la COVID 19 et consécutivement au recours massif au travail à distance exceptionnel, l’avenant à l’accord relatif au télétravail conclu le 22 octobre 2020 n’a pas pu être mis en œuvre.\"\n",
      "* \"Compte tenu des négociations en cours relatives au télétravail au niveau de la branche et de la volonté des partenaires sociaux locaux de poursuivre l’extension du télétravail, il est proposé de proroger les dispositions de l’accord relatif au télétravail signé le 20 novembre 2018 ainsi que celles issues de l’avenant n°1 signé le 22 octobre 2020.\"\n",
      "\n",
      "Ma réponse :\n",
      "nombrejourdeteletravailmaxparsemaine=0\n",
      "\n",
      "Mon raisonnement :\n",
      "Après avoir analysé les deux paragraphes pertinents du document, je n'ai pas trouvé de mention explicite du nombre de jours de télétravail par semaine. Par conséquent, en appliquant les instructions données, je dois affecter à la variable nombrejourdeteletravailmaxparsemaine la valeur 0, qui est la valeur la plus basse du nombre de jours de télétravail maximum par semaine.\n",
      "\n",
      "32 T08621001524\n"
     ]
    },
    {
     "name": "stderr",
     "output_type": "stream",
     "text": [
      "Setting `pad_token_id` to `eos_token_id`:2 for open-end generation.\n"
     ]
    },
    {
     "name": "stdout",
     "output_type": "stream",
     "text": [
      "Q_TTSEM_NOMBRE:Extraction de deux paragraphes pertinents provenant du document à analyser :\n",
      "\n",
      "* \"Les parties conviennent que le nombre de journée maximale de télétravail est fixé à une (1) par semaine\"\n",
      "* \"Si la journée de télétravail n’est pas effectuée pour quelque motif que ce soit (refus du manager, congés payés…), aucun report de cette journée ne pourra être sollicitée par le salarié.\"\n",
      "\n",
      "Ma réponse :\n",
      "nombrejourdeteletravailmaxparsemaine=1\n",
      "\n",
      "Mon raisonnement :\n",
      "Le document mentionne explicitement que le nombre de journée maximale de télétravail est fixé à une (1) par semaine, sans aucune condition ou restriction supplémentaire. Par conséquent, un employé/travailleur/salarié/collaborateur peut télétravailler régulièrement jusqu'à 1 jour par semaine.\n",
      "\n",
      "33 T04421009471\n"
     ]
    },
    {
     "name": "stderr",
     "output_type": "stream",
     "text": [
      "Setting `pad_token_id` to `eos_token_id`:2 for open-end generation.\n"
     ]
    },
    {
     "name": "stdout",
     "output_type": "stream",
     "text": [
      "Q_TTSEM_NOMBRE:Extraction de deux paragraphes pertinents provenant du document à analyser :\n",
      "\n",
      "* \"Le télétravail régulier aura une fréquence comprise entre 1 et 2 journées par semaine.\"\n",
      "* \"Un salarié souhaitant télétravailler plus de 2 jours par semaine ou à temps complet doit se rapprocher du service RH pour étudier les motivations et définir son éligibilité\"\n",
      "\n",
      "Ma réponse :\n",
      "nombrejourdeteletravailmaxparsemaine=2\n",
      "\n",
      "Mon raisonnement :\n",
      "Le document mentionne explicitement que le télétravail régulier aura une fréquence comprise entre 1 et 2 journées par semaine. Il n'y a pas d'autres mentions de fréquence de télétravail par semaine dans le document.\n",
      "\n",
      "34 T06721006777\n"
     ]
    },
    {
     "name": "stderr",
     "output_type": "stream",
     "text": [
      "Setting `pad_token_id` to `eos_token_id`:2 for open-end generation.\n"
     ]
    },
    {
     "name": "stdout",
     "output_type": "stream",
     "text": [
      "Q_TTSEM_NOMBRE:Extraction de deux paragraphes pertinents provenant du document à analyser :\n",
      "\n",
      "* \"Le nombre de jours télétravaillables est fixé par journée entière à 2 jours par semaine au maximum, ceux-ci sont déterminés d'un commun accord entre le manager et le salarié.\"\n",
      "* \"Les parties signataires conviennent par ailleurs que tout salarié s’inscrivant dans le dispositif de télétravail régulier devra exercer son activité à minima 3 jours par semaine sur son lieu de travail de référence afin de préserver le collectif de travail.\"\n",
      "\n",
      "Ma réponse :\n",
      "nombrejourdeteletravailmaxparsemaine=2\n",
      "\n",
      "Mon raisonnement :\n",
      "Le document mentionne explicitement que le nombre de jours télétravaillables est fixé à 2 jours par semaine au maximum. Cette information est confirmée dans un deuxième paragraphe qui précise que les salariés doivent travailler au moins 3 jours sur leur lieu de travail de référence.\n",
      "\n",
      "35 T05721004568\n"
     ]
    },
    {
     "name": "stderr",
     "output_type": "stream",
     "text": [
      "Setting `pad_token_id` to `eos_token_id`:2 for open-end generation.\n"
     ]
    },
    {
     "name": "stdout",
     "output_type": "stream",
     "text": [
      "Q_TTSEM_NOMBRE:Extraits pertinents :\n",
      "> Les salariés seront en télétravail au minimum, soit deux ½ journées par semaine soit une journée complète par semaine\n",
      "\n",
      "Ma réponse :\n",
      "> nombrejourdeteletravailmaxparsemaine=1\n",
      "\n",
      "Mon raisonnement :\n",
      "> Dans le document, il est stipulé que les salariés seront en télétravail au minimum soit deux demi-journées par semaine, soit une journée complète par semaine. Par conséquent, le nombre maximal de jours de télétravail par semaine est de 1 jour.\n",
      "\n",
      "36 T08721002004\n"
     ]
    },
    {
     "name": "stderr",
     "output_type": "stream",
     "text": [
      "Setting `pad_token_id` to `eos_token_id`:2 for open-end generation.\n"
     ]
    },
    {
     "name": "stdout",
     "output_type": "stream",
     "text": [
      "Q_TTSEM_NOMBRE:Extraction de paragraphes pertinents :\n",
      "\n",
      "* \"Le choix des jours de télétravail résulte d’un accord entre les deux parties qui doit permettre d’assurer le maintien du bon fonctionnement du service d’affectation du salarié.\"\n",
      "* \"Dans le cadre de l’organisation du télétravail sous forme d’enveloppe jours, l’utilisation de ces jours font l’objet d’un accord préalable entre le télétravailleur et son responsable hiérarchique.\"\n",
      "\n",
      "Ma réponse :\n",
      "nombrejourdeteletravailmaxparsemaine=0\n",
      "\n",
      "Mon raisonnement :\n",
      "Les paragraphes ne précisent pas explicitement le nombre de jours de télétravail par semaine. Par conséquent, je ne peux pas affecter de valeur à la variable nombrejourdeteletravailmaxparsemaine.\n",
      "\n",
      "37 T07821007410\n"
     ]
    },
    {
     "name": "stderr",
     "output_type": "stream",
     "text": [
      "Setting `pad_token_id` to `eos_token_id`:2 for open-end generation.\n"
     ]
    },
    {
     "name": "stdout",
     "output_type": "stream",
     "text": [
      "Q_TTSEM_NOMBRE:Extraction de deux paragraphes pertinents provenant du document à analyser :\n",
      "\n",
      "* \"Le télétravail pourra être exercé à hauteur de 2 jours par semaine pour un salarié à temps complet et 1 jour par semaine pour un salarié au 4/5ème.\"\n",
      "* \"Si le télétravail est effectué deux jours par semaine, il ne pourra pas être réalisé le vendredi et le lundi.\"\n",
      "\n",
      "Ma réponse :\n",
      "nombrejourdeteletravailmaxparsemaine=2\n",
      "\n",
      "Mon raisonnement :\n",
      "Le document mentionne explicitement que le télétravail pourra être exercé à hauteur de 2 jours par semaine pour un salarié à temps complet. Par conséquent, le maximum de jours de télétravail par semaine est de 2.\n",
      "\n",
      "38 T09121006385\n"
     ]
    },
    {
     "name": "stderr",
     "output_type": "stream",
     "text": [
      "Setting `pad_token_id` to `eos_token_id`:2 for open-end generation.\n"
     ]
    },
    {
     "name": "stdout",
     "output_type": "stream",
     "text": [
      "Q_TTSEM_NOMBRE:Extraction de deux paragraphes pertinents provenant du document à analyser :\n",
      "\n",
      "* Paragraphe 1 : \"Le télétravail ne devra pas dépasser 0,20 ETP par mois soit au plus une journée par semaine.\"\n",
      "* Paragraphe 2 : \"Lorsqu'un salarié souhaite opter pour le télétravail, il adresse une demande écrite à la direction des ressources humaines d’établissement après avoir sollicité au préalable l’avis de son N+1. La direction des ressources humaines de l’établissement, vérifiera au préalable la compatibilité de cette forme d’organisation du travail avec l’emploi exercé par le salarié notamment la compatibilité du télétravail avec le bon fonctionnement du service, sa faisabilité technique, sa compatibilité avec les impératifs de sécurité des données et les modalités de réalisation du travail fourni.\"\n",
      "\n",
      "Ma réponse :\n",
      "nombrejourdeteletravailmaxparsemaine=1\n",
      "\n",
      "Mon raisonnement :\n",
      "Le premier paragraphe indique clairement que le télétravail ne peut pas dépasser une journée par semaine, donc le nombre maximal de jours de télétravail par semaine est de 1.\n",
      "\n",
      "39 T06721007676\n"
     ]
    },
    {
     "name": "stderr",
     "output_type": "stream",
     "text": [
      "Setting `pad_token_id` to `eos_token_id`:2 for open-end generation.\n"
     ]
    },
    {
     "name": "stdout",
     "output_type": "stream",
     "text": [
      "Q_TTSEM_NOMBRE:Extraction de deux paragraphes pertinents provenant du document à analyser :\n",
      "\n",
      "* \"Le télétravailleur s’engage à disposer d’un aménagement ergonomique de son poste de travail lui permettant d’exercer son activité professionnelle, dans les meilleures conditions de sécurité pour lui-même, mais aussi pour les informations et documents professionnels qu’il serait amené à devoir utiliser.\"\n",
      "* \"Rythme du télétravail Afin d’éviter toute forme d’isolement et de faire perdurer le lien social, le salarié doit être obligatoirement présent dans les locaux de l’entreprise le lundi, aura un rythme de télétravail sur une base hebdomadaire tel que défini dans son avenant au contrat de travail.\"\n",
      "\n",
      "Ma réponse :\n",
      "nombrejourdeteletravailmaxparsemaine=1\n",
      "\n",
      "Mon raisonnement :\n",
      "Après avoir lu attentivement les deux paragraphes pertinents du document, je n'ai trouvé aucune indication explicite du nombre de jours de télétravail par semaine, sauf la mention que le salarié doit être présent dans les locaux de l'entreprise le lundi, ce qui implique qu'il ne peut pas télétravailler ce jour-là. Par conséquent, en l'absence de précisions explicites, je suis tenu d'affecter à la variable nombrejourdeteletravailmaxparsemaine la valeur 0. Cependant, comme le document mentionne positivement le télétravail à 100% ou le full-remote et qu'il n'y a pas de jour de présence minimum sur site, je peux affecter à la variable nombrejourdeteletravailmaxparsemaine la valeur 5. Je ne trouve pas d'information sur le nombre de jours sur site par semaine, donc je ne peux pas répondre à cette question.\n",
      "\n",
      "40 T06721006938\n"
     ]
    },
    {
     "name": "stderr",
     "output_type": "stream",
     "text": [
      "Setting `pad_token_id` to `eos_token_id`:2 for open-end generation.\n"
     ]
    },
    {
     "name": "stdout",
     "output_type": "stream",
     "text": [
      "Q_TTSEM_NOMBRE:\n",
      "Extraction de deux paragraphes pertinents provenant du document à analyser :\n",
      "\n",
      "* \"Les parties signataires conviennent d’un rythme de 2 jours maximum de télétravail par semaine et par salarié\"\n",
      "* \"Pour les semaines où le salarié use de sa faculté de télétravailler, il devra être présent au minimum 2 jours par semaine sur son ou ses lieu(x) de travail habituel(s)\"\n",
      "\n",
      "Ma réponse :\n",
      "nombrejourdeteletravailmaxparsemaine=2\n",
      "\n",
      "Mon raisonnement :\n",
      "Le premier paragraphe indique que le rythme de télétravail est de 2 jours maximum par semaine et par salarié. Cependant, le deuxième paragraphe précise que le salarié doit être présent au minimum 2 jours par semaine sur son lieu de travail habituel. Par conséquent, le nombre maximal de jours de télétravail par semaine est de 2 jours.\n",
      "\n",
      "41 T09221026978\n"
     ]
    },
    {
     "name": "stderr",
     "output_type": "stream",
     "text": [
      "Setting `pad_token_id` to `eos_token_id`:2 for open-end generation.\n",
      "Created a chunk of size 11621, which is longer than the specified 5000\n"
     ]
    },
    {
     "name": "stdout",
     "output_type": "stream",
     "text": [
      "Q_TTSEM_NOMBRE:Extraction de deux paragraphes pertinents provenant du document à analyser qui répondent à la question :\n",
      "\n",
      "* \"Le télétravail imposé conduit le Salarié à travailler à partir de son domicile. Le domicile est entendu au sens de sa résidence principale.\"\n",
      "* \"Le télétravail se distingue complètement de la situation de « Home Office » qui a donné lieu à un accord d’entreprise portant sur le télétravail à domicile pour certains collaborateurs du service commercial.\"\n",
      "\n",
      "Ma réponse :\n",
      "nombrejourdeteletravailmaxparsemaine=0\n",
      "\n",
      "Mon raisonnement :\n",
      "Le document ne mentionne pas explicitement le nombre de jours de télétravail par semaine, il mentionne juste que le télétravail est imposé et se fait à partir du domicile du salarié. De plus, il distingue le télétravail de la situation de \"Home Office\" qui a donné lieu à un accord d'entreprise pour certains collaborateurs du service commercial. Donc, je ne peux pas déterminer le nombre maximal de jours de télétravail par semaine sur la base des informations fournies dans le document.\n",
      "\n",
      "42 T01321011332\n"
     ]
    },
    {
     "name": "stderr",
     "output_type": "stream",
     "text": [
      "Setting `pad_token_id` to `eos_token_id`:2 for open-end generation.\n"
     ]
    },
    {
     "name": "stdout",
     "output_type": "stream",
     "text": [
      "Q_TTSEM_NOMBRE:Extraction de deux paragraphes pertinents provenant du document à analyser :\n",
      "\n",
      "* \"Le télétravail est possible, si cela est compatible avec la durée du travail des salariés concernés, à concurrence de 0 à 2 jours ouvrés maximum par semaine, non consécutifs, sous condition de présence de 3 jours sur site (non reportable, non cumulable).\"\n",
      "* \"Les parties conviennent que le télétravail est fondé sur la capacité du salarié à exercer ses fonctions de façon autonome. Il nécessite certaines aptitudes individuelles et des qualités professionnelles telles que la gestion du temps de travail et une bonne maîtrise des applications informatiques indispensables à son activité et une parfaite connaissance de son poste de travail.\"\n",
      "\n",
      "Ma réponse :\n",
      "nombrejourdeteletravailmaxparsemaine=2\n",
      "\n",
      "Mon raisonnement :\n",
      "Le premier paragraphe indique clairement que le télétravail est possible à concurrence de 0 à 2 jours ouvrés maximum par semaine, non consécutifs, sous condition de présence de 3 jours sur site. Par conséquent, le nombre maximum de jours de télétravail par semaine est de 2.\n",
      "\n",
      "43 T09221022859\n"
     ]
    },
    {
     "name": "stderr",
     "output_type": "stream",
     "text": [
      "Setting `pad_token_id` to `eos_token_id`:2 for open-end generation.\n"
     ]
    },
    {
     "name": "stdout",
     "output_type": "stream",
     "text": [
      "Q_TTSEM_NOMBRE:\n",
      "Mon extraction de deux paragraphes max pertinents provenant du document à analyser qui répondent à la question :\n",
      "\n",
      "* \"Les Salaries ne remplissant pas les conditions ci-dessus ne pourront occuper leur poste en teletravail.\"\n",
      "* \"Afin notamment de preserver une certaine cohesion au sein des effectifs de la Societe, les Salaries a temps plein ne travailleront qu'au maximum 2 jours par semaine en teletravail et 1 seule joumee pour les Salaries a temps partiel.\"\n",
      "\n",
      "Ma réponse :\n",
      "nombrejourdeteletravailmaxparsemaine=2\n",
      "\n",
      "Mon raisonnement :\n",
      "Le deuxième paragraphe indique clairement qu'un salarié à temps plein ne peut pas travailler plus de 2 jours par semaine en télétravail.\n",
      "\n",
      "44 T03021003019\n"
     ]
    },
    {
     "name": "stderr",
     "output_type": "stream",
     "text": [
      "Setting `pad_token_id` to `eos_token_id`:2 for open-end generation.\n"
     ]
    },
    {
     "name": "stdout",
     "output_type": "stream",
     "text": [
      "Q_TTSEM_NOMBRE:Extraction de paragraphes pertinents:\n",
      "\n",
      "* Article 3: \"Le nombre de jours en télétravail pourra au maximum être de 4 par semaine.\"\n",
      "\n",
      "Ma réponse :\n",
      "nombrejourdeteletravailmaxparsemaine=4\n",
      "\n",
      "Mon raisonnement :\n",
      "Le document mentionne explicitement que le nombre de jours de télétravail autorisé est de 4 par semaine. Cette information est claire et ne nécessite pas de calcul ou d'hypothèse supplémentaire.\n",
      "\n",
      "45 T09121006120\n"
     ]
    },
    {
     "name": "stderr",
     "output_type": "stream",
     "text": [
      "Setting `pad_token_id` to `eos_token_id`:2 for open-end generation.\n"
     ]
    },
    {
     "name": "stdout",
     "output_type": "stream",
     "text": [
      "Q_TTSEM_NOMBRE:Mon extraction de deux paragraphes max pertinents provenant du document à analyser qui répondent à la question :\n",
      "\n",
      "* \"Les jours de télétravail doivent par principe être pris par journée entière et ne peuvent conduire le salarié à s’absenter en télétravail plus de deux journées pour une semaine de cinq jours.\"\n",
      "* \"A l’échelle d’un service, il est possible de définir des journées comme non accessibles au télétravail afin de préserver le lien social, les rituels d’équipes et le travail collectif.\"\n",
      "\n",
      "Ma réponse :\n",
      "nombrejourdeteletravailmaxparsemaine=2\n",
      "\n",
      "Mon raisonnement :\n",
      "Le premier paragraphe indique que le salarié ne peut s'absenter en télétravail plus de deux journées pour une semaine de cinq jours. Par conséquent, le nombre maximal de jour de télétravail par semaine est de 2.\n",
      "\n",
      "46 T07221003271\n"
     ]
    },
    {
     "name": "stderr",
     "output_type": "stream",
     "text": [
      "Setting `pad_token_id` to `eos_token_id`:2 for open-end generation.\n"
     ]
    },
    {
     "name": "stdout",
     "output_type": "stream",
     "text": [
      "Q_TTSEM_NOMBRE:Two relevant paragraphs from the document are:\n",
      "\n",
      "* \"L'article 10.3 relatif à l'attribution de titres restaurant est supprimé\"\n",
      "* \"Le présent accord entrera en vigueur le jour de sa signature\"\n",
      "\n",
      "My response is:\n",
      "\n",
      "* nombrejourdeteletravailmaxparsemaine=0\n",
      "* nombrejoursursiteparsemaine=0\n",
      "\n",
      "My reasoning is that there is no mention of telework frequency or number of days per week in the provided document. The document only mentions the suppression of article 10.3 and the effective date of the agreement. Therefore, based on the information provided, it is not possible to determine the maximum number of days of telework per week. Additionally, there is no mention of any mandatory presence on site, so I also set the value of nombrejoursursiteparsemaine to 0.\n",
      "\n",
      "47 T00621004760\n"
     ]
    },
    {
     "name": "stderr",
     "output_type": "stream",
     "text": [
      "Setting `pad_token_id` to `eos_token_id`:2 for open-end generation.\n",
      "Created a chunk of size 10412, which is longer than the specified 5000\n"
     ]
    },
    {
     "name": "stdout",
     "output_type": "stream",
     "text": [
      "Q_TTSEM_NOMBRE:Mon extraction de deux paragraphes max pertinents provenant du document à analyser qui répondent à la question :\n",
      "\n",
      "* \"Le télétravail occasionnel ne se cumule pas avec le télétravail régulier.\" (Document(page\\_content='Article 1. Champ d’application\\n\\nPar exception au télétravail régulier à jour fixe prévu au Chapitre 1 du présent accord et pour les salariés\\xa0:\\nDont l’activité ne permet pas de définir en amont de manière constante un jour fixe de télétravail, ne pouvant ou ne voulant pas exercer le télétravail à titre régulier, \\nDont l’activité professionnelle est en partie «\\xa0exportable\\xa0» au domicile,\\nEt disposant préalablement d’un pc portable,\\nil est prévu une formule de télétravail à domicile selon un volume de jours annuels.\\nLe télétravail occasionnel ne se cumule pas avec le télétravail régulier.\\nLes salariés éligibles peuvent bénéficier de 5 jours de télétravail dans l’année dans les conditions et selon les modalités suivantes\\xa0:\\nLe salarié adresse sa demande de télétravail par mail à son manager, copie RRH, en précisant la date du jour de télétravail souhaité. \\nLe choix du jour est fixé sur proposition du salarié avec l’accord préalable du manager, le mardi ou jeudi, à l’instar du télétravail régulier prévu au Chapitre 1 du présent accord. Le manager a la faculté de refuser le jour proposé par le salarié compte tenu de l’organisation du service.\\nLa demande de télétravail occasionnel est adressée par mail en respectant un délai de prévenance d’une semaine, sauf situations urgentes ou imprévues. \\nLa réponse favorable ou défavorable est apportée par le manager par mail, copie RRH.\\nLe télétravail occasionnel ne donne pas lieu à un avenant au contrat de travail.\\nEn cas de réponse défavorable, le manager motive son refus. Par exemple\\xa0: conditions d’éligibilité non remplies, impossibilité technique des outils, en raison du fonctionnement du service ou de la configuration de l’équipe, non-respect du délai de prévenance.\\nEn cas de désaccord entre le salarié et le manager, le RRH pourra être saisi pour un réexamen de la demande.\\nLors de sa première demande de télétravail occasionnel, le salarié transmet à son manager un justificatif de débit internet et atteste sur l’honneur de la conformité électrique de son domicile et de la déclaration et couverture assurance conformément au Chapitre 1 du présent accord. Un modèle de mail de première demande de télétravail occasionnel sera mis en ligne sur le serveur commun (cf. annexe 2 du présent accord).\\nCes jours de télétravail sont mobilisables par année civile\\xa0; ils ne peuvent être cumulés, accolés entre eux ou à des congés ou pris en une seule fois. Ils ne sont pas fractionnables. \\nLes jours de télétravail non mobilisés ne donnent pas lieu à report l’année suivante.\\n\\nArticle 2. Régime\\n\\t\\nLes dispositions des articles 4, 6, et 7 du Chapitre 1 sont applicables.\\n\\nChapitre 3- Le télétravail exceptionnel\\n\\nLe télétravail exceptionnel a vocation à répondre à des situations exceptionnelles et/ou à des situations d’urgence (pandémie, évènements climatiques majeurs, pic de pollution…) ponctuelles affectant le fonctionnement normal des activités. \\n\\nCes situations s’entendent hors évènements liés directement à COOPERVISION ou en lien avec\n",
      "\n",
      "48 T07521029992\n"
     ]
    },
    {
     "name": "stderr",
     "output_type": "stream",
     "text": [
      "Setting `pad_token_id` to `eos_token_id`:2 for open-end generation.\n"
     ]
    },
    {
     "name": "stdout",
     "output_type": "stream",
     "text": [
      "Q_TTSEM_NOMBRE:Mon extraction de deux paragraphes max pertinents provenant du document à analyser qui répondent à la question :\n",
      "\n",
      "* \"Le télétravail est ouvert aux collaborateurs disposant [...] d’une durée du travail d’a minima 50% d’un temps plein, étant dit que le nombre de jours de télétravail autorisé par semaine et par collaborateur est dans ce cas proportionnel au temps de travail par semaine du salarié concerné (2 jours de télétravail par semaine étant autorisé pour un collaborateur à temps plein ou forfait jours non réduit)\"\n",
      "* \"L’objectif est que tout collaborateur du CNM soit en présentiel dans les locaux du CNM a minima 3 jours par semaine\"\n",
      "\n",
      "Ma réponse :\n",
      "nombrejourdeteletravailmaxparsemaine=2\n",
      "\n",
      "Mon raisonnement :\n",
      "Le premier paragraphe indique que le nombre de jours de télétravail autorisé par semaine et par collaborateur est proportionnel au temps de travail par semaine du salarié concerné et que 2 jours de télétravail par semaine sont autorisés pour un collaborateur à temps plein ou forfait jours non réduit. Comme il n'y a pas d'autres informations dans le document qui modifient cette affirmation, je peux conclure que le nombre maximal de jours de télétravail par semaine est de 2.\n",
      "\n",
      "49 T05721004723\n"
     ]
    },
    {
     "name": "stderr",
     "output_type": "stream",
     "text": [
      "Setting `pad_token_id` to `eos_token_id`:2 for open-end generation.\n"
     ]
    },
    {
     "name": "stdout",
     "output_type": "stream",
     "text": [
      "Q_TTSEM_NOMBRE:Extraction de deux paragraphes pertinents provenant du document à analyser :\n",
      "\n",
      "* \"Au 1er juin 2021, tous les collaborateurs pourront bénéficier de 2 jours / semaine de travail à distance.\"\n",
      "* \"Afin de maintenir la cohésion d’équipe, chaque collaborateur devra donc s’organiser pour être présent au bureau ou en mission au minimum 3 jours / semaine.\"\n",
      "\n",
      "Ma réponse :\n",
      "nombrejourdeteletravailmaxparsemaine=2\n",
      "\n",
      "Mon raisonnement :\n",
      "Le document indique explicitement que \"Au 1er juin 2021, tous les collaborateurs pourront bénéficier de 2 jours / semaine de travail à distance\". Cette information est claire et ne nécessite pas de calcul ou d'interprétation supplémentaire.\n",
      "\n",
      "50 T09221026359\n"
     ]
    },
    {
     "name": "stderr",
     "output_type": "stream",
     "text": [
      "Setting `pad_token_id` to `eos_token_id`:2 for open-end generation.\n"
     ]
    },
    {
     "name": "stdout",
     "output_type": "stream",
     "text": [
      "Q_TTSEM_NOMBRE:Extraction de deux paragraphes pertinents provenant du document à analyser qui répondent à la question :\n",
      "\n",
      "* \"Le télétravail régulier suppose à minima une journée en télétravail par semaine, sans pouvoir excéder trois jours de télétravail par semaine.\" (document 1)\n",
      "* \"Une réponse sera apportée dans un délai de trente jours après réception du formulaire par le Pôle Ressources Humaines.\" (document 3)\n",
      "\n",
      "Ma réponse :\n",
      "nombrejourdeteletravailmaxparsemaine=3\n",
      "\n",
      "Mon raisonnement :\n",
      "Le premier paragraphe indique clairement qu'un employé peut télétravailler jusqu'à trois jours par semaine. Par conséquent, je peux affecter la valeur 3 à la variable nombrejourdeteletravailmaxparsemaine.\n",
      "\n",
      "51 T03121008941\n"
     ]
    },
    {
     "name": "stderr",
     "output_type": "stream",
     "text": [
      "Setting `pad_token_id` to `eos_token_id`:2 for open-end generation.\n"
     ]
    },
    {
     "name": "stdout",
     "output_type": "stream",
     "text": [
      "Q_TTSEM_NOMBRE:\n",
      "Mon extraction de deux paragraphes max pertinents provenant du document à analyser qui répondent à la question :\n",
      "\n",
      "* Article 8: Fréquence et nombre de jours télétravaillés\n",
      "\t+ Le nombre de jour de télétravail ne pourra excéder 2 jours par semaine, et 1 jour pour les salariés à temps partiel selon article 2.\n",
      "\n",
      "Ma réponse :\n",
      "nombrejourdeteletravailmaxparsemaine=2\n",
      "\n",
      "Mon raisonnement :\n",
      "Le document mentionne explicitement le nombre de jours de télétravail possibles par semaine, qui est de 2 jours pour les salariés à temps complet.\n",
      "\n",
      "52 T06821004734\n"
     ]
    },
    {
     "name": "stderr",
     "output_type": "stream",
     "text": [
      "Setting `pad_token_id` to `eos_token_id`:2 for open-end generation.\n"
     ]
    },
    {
     "name": "stdout",
     "output_type": "stream",
     "text": [
      "Q_TTSEM_NOMBRE:Mon extraction de deux paragraphes max pertinents provenant du document à analyser qui répondent à la question :\n",
      "\n",
      "* \"Le nombre maximal de jours de télétravail est fixé annuellement et de façon forfaitaire. Il est également pondéré en fonction du temps de travail de chaque salarié comme suit : Nombre de jours calculé sur la base d’une moyenne de 3 jours de télétravail par mois et par équivalent temps plein, sur 10 mois à l’année (déduction faite des 5 semaines de congés payés, des jours de crédit d’heures, de réunion d’équipe et de formation).\"\n",
      "* \"Le recours au télétravail pourra se faire de façon exceptionnelle, et sous réserve de l’accord préalable du responsable hiérarchique, en cas de dysfonctionnement ponctuel : intempéries, grève des transports notamment.\"\n",
      "\n",
      "Ma réponse :\n",
      "nombrejourdeteletravailmaxparsemaine=3\n",
      "\n",
      "Mon raisonnement :\n",
      "Le document mentionne que le nombre de jours de télétravail est fixé annuellement et de façon forfaitaire, et qu'il est calculé sur la base d'une moyenne de 3 jours par mois et par équivalent temps plein, sur 10 mois à l'année. Cela correspond à une limite haute de 30 jours de télétravail par an, soit environ 0.5 jour par semaine. Cependant, le document ne précise pas si cette limite est journalière, hebdomadaire ou mensuelle, et ne mentionne pas de jour de télétravail par semaine. Par conséquent, je ne peux pas affecter une valeur supérieure à 0 à la variable nombrejourdeteletravailmaxparsemaine.\n",
      "\n",
      "53 T08421002482\n"
     ]
    },
    {
     "name": "stderr",
     "output_type": "stream",
     "text": [
      "Setting `pad_token_id` to `eos_token_id`:2 for open-end generation.\n"
     ]
    },
    {
     "name": "stdout",
     "output_type": "stream",
     "text": [
      "Q_TTSEM_NOMBRE:Extraction de paragraphes pertinents :\n",
      "\n",
      "* \"Le nombre de jours de télétravail ne pourra pas être supérieur à 2 jours par semaine pour un temps plein.\"\n",
      "\n",
      "Ma réponse :\n",
      "nombrejourdeteletravailmaxparsemaine=2\n",
      "\n",
      "Mon raisonnement :\n",
      "Le document mentionne explicitement que le nombre de jours de télétravail ne peut pas être supérieur à 2 jours par semaine pour un temps plein.\n",
      "\n",
      "54 T09221023213\n"
     ]
    },
    {
     "name": "stderr",
     "output_type": "stream",
     "text": [
      "Setting `pad_token_id` to `eos_token_id`:2 for open-end generation.\n"
     ]
    },
    {
     "name": "stdout",
     "output_type": "stream",
     "text": [
      "Q_TTSEM_NOMBRE:Extraction de deux paragraphes pertinents provenant du document à analyser :\n",
      "\n",
      "* \"Tant que les pouvoirs publics préconiseront un recours massif au télétravail, Mutex accordera une allocation forfaitaire calculée au prorata du temps télétravaillé. Ce dernier aura comme référence le mois.\"\n",
      "* \"En conséquence, le plafond d’allocations que percevra un collaborateur sera de 50 € par mois pour 5 jours de télétravail par semaine.\"\n",
      "\n",
      "Ma réponse :\n",
      "nombrejourdeteletravailmaxparsemaine=5\n",
      "\n",
      "Mon raisonnement :\n",
      "Le document mentionne explicitement que le plafond d’allocations pour les collaborateurs est de 50 € par mois pour 5 jours de télétravail par semaine. Par conséquent, le nombre maximal de jours de télétravail par semaine est de 5.\n",
      "\n",
      "55 T09221025050\n"
     ]
    },
    {
     "name": "stderr",
     "output_type": "stream",
     "text": [
      "Setting `pad_token_id` to `eos_token_id`:2 for open-end generation.\n"
     ]
    },
    {
     "name": "stdout",
     "output_type": "stream",
     "text": [
      "Q_TTSEM_NOMBRE:\n",
      "Extraction de paragraphes pertinents :\n",
      "\n",
      "* \"Dans le cadre de la bonne organisation du service les jours en télétravail sont, dans la mesure du possible, déterminés après concertation préalable et accord du manager et sont formalisés dans le cadre d’un planning spécifique.\"\n",
      "* \"Pour privilégier le lien collectif et préserver le bon fonctionnement de l’équipe, devront être respectés les principes suivants : [...] une planification périodique indicative – si possible mensuelle - de ces jours pourra être effectuée en amont\"\n",
      "\n",
      "Ma réponse :\n",
      "nombrejourdeteletravailmaxparsemaine=1\n",
      "\n",
      "Mon raisonnement :\n",
      "Le document mentionne que les jours en télétravail sont déterminés après concertation préalable et accord du manager, et qu'une planification périodique indicative de ces jours pourra être effectuée en amont. Cependant, il ne précise pas explicitement le nombre de jours de télétravail par semaine. Par prudence, je réponds donc 1 jour de télétravail par semaine.\n",
      "\n",
      "56 T03121008136\n"
     ]
    },
    {
     "name": "stderr",
     "output_type": "stream",
     "text": [
      "Setting `pad_token_id` to `eos_token_id`:2 for open-end generation.\n"
     ]
    },
    {
     "name": "stdout",
     "output_type": "stream",
     "text": [
      "Q_TTSEM_NOMBRE:Extraction de deux paragraphes pertinents provenant du document à analyser :\n",
      "\n",
      "* \"Les jours de télétravail seront fixés selon les modalités suivantes : un jour maximum par semaine.\" (Article 9)\n",
      "* \"En tout état de cause, les résultats attendus en situation de télétravail sont équivalents à ceux qui auraient été obtenus dans les locaux de l’entreprise.\" (Article 4)\n",
      "\n",
      "Ma réponse :\n",
      "nombrejourdeteletravailmaxparsemaine=1\n",
      "\n",
      "Mon raisonnement :\n",
      "Le document spécifie clairement qu'un maximum d'un jour de télétravail par semaine est autorisé. Par conséquent, nombrejourdeteletravailmaxparsemaine est égal à 1.\n",
      "\n",
      "57 T09221024009\n"
     ]
    },
    {
     "name": "stderr",
     "output_type": "stream",
     "text": [
      "Setting `pad_token_id` to `eos_token_id`:2 for open-end generation.\n"
     ]
    },
    {
     "name": "stdout",
     "output_type": "stream",
     "text": [
      "Q_TTSEM_NOMBRE:Mon extraction de paragraphes pertinents provenant du document à analyser qui répondent à la question :\n",
      "\n",
      "* \"L’organisation du télétravail, en dehors même du contexte très particulier provoqué par la pandémie Covid-19, mérite d’être examinée.\"\n",
      "\n",
      "Ma réponse :\n",
      "nombrejourdeteletravailmaxparsemaine=0\n",
      "\n",
      "Mon raisonnement :\n",
      "Le document ne contient aucune information explicite sur le nombre de jours de télétravail par semaine. Il mentionne seulement que l'organisation du télétravail doit être examinée, mais sans précision sur le nombre de jours de télétravail possibles. Par conséquent, je dois affecter la valeur 0 à la variable nombrejourdeteletravailmaxparsemaine.\n",
      "\n",
      "58 T09221025668\n"
     ]
    },
    {
     "name": "stderr",
     "output_type": "stream",
     "text": [
      "Setting `pad_token_id` to `eos_token_id`:2 for open-end generation.\n"
     ]
    },
    {
     "name": "stdout",
     "output_type": "stream",
     "text": [
      "Q_TTSEM_NOMBRE:Extraction de deux paragraphes pertinents provenant du document à analyser :\n",
      "\n",
      "* \"Chaque manager veillera ainsi à ce que le nombre de télétravailleurs au sein de son équipe soit compatible avec le flex par équipe, l’organisation et le bon fonctionnement du service.\"\n",
      "* \"Le télétravail ne peut être mis en œuvre qu’à la demande expresse du salarié, après examen puis accord formel du manager. Chaque année, le manager organise un entretien avec le salarié portant notamment sur les conditions d’activité du salarié et sa charge de travail.\"\n",
      "\n",
      "Ma réponse :\n",
      "nombrejourdeteletravailmaxparsemaine=0\n",
      "\n",
      "Mon raisonnement :\n",
      "Le document ne contient aucune information explicite sur le nombre de jours de télétravail par semaine. Par conséquent, je suis dans l'obligation d'affecter la valeur 0 à la variable nombrejourdeteletravailmaxparsemaine.\n",
      "\n",
      "59 T06021003016\n"
     ]
    },
    {
     "name": "stderr",
     "output_type": "stream",
     "text": [
      "Setting `pad_token_id` to `eos_token_id`:2 for open-end generation.\n"
     ]
    },
    {
     "name": "stdout",
     "output_type": "stream",
     "text": [
      "Q_TTSEM_NOMBRE:Extraction de deux paragraphes pertinents provenant du document à analyser :\n",
      "\n",
      "* \"Afin de préserver le lien avec l’entreprise et d’éviter les périodes d’isolement, le télétravail régulier peut être organisé à raison de 2 jours maximum par semaine entière de 5 jours ouvrés.\" (Article 12)\n",
      "* \"Le télétravail régulier consiste en une alternance de périodes de travail en entreprise et de période de travail au domicile, planifié au trimestre.\" (Titre IV)\n",
      "\n",
      "Ma réponse :\n",
      "nombrejourdeteletravailmaxparsemaine=2\n",
      "\n",
      "Mon raisonnement :\n",
      "Le document spécifie clairement que le télétravail régulier peut être organisé à raison de 2 jours maximum par semaine entière de 5 jours ouvrés. Par conséquent, le nombre maximal de jours de télétravail par semaine est de 2.\n",
      "\n",
      "60 T06821004760\n"
     ]
    },
    {
     "name": "stderr",
     "output_type": "stream",
     "text": [
      "Setting `pad_token_id` to `eos_token_id`:2 for open-end generation.\n"
     ]
    },
    {
     "name": "stdout",
     "output_type": "stream",
     "text": [
      "Q_TTSEM_NOMBRE:Extraction de deux paragraphes pertinents provenant du document à analyser :\n",
      "\n",
      "* \"Le télétravail est fondé sur la base du volontariat, à l’initiative du salarié ou de l’employeur, sauf dans le cas des circonstances exceptionnelles visées à l’article 5.1.\"\n",
      "* \"Les activités destinées à être exercées en télétravail seront proposées uniquement aux personnes faisant acte de candidature en interne. Le télétravail est subordonné à l’accord du manager, à la fois sur le principe et sur les modalités d’organisation du télétravail.\"\n",
      "\n",
      "Ma réponse :\n",
      "nombrejourdeteletravailmaxparsemaine=0;\n",
      "\n",
      "Mon raisonnement :\n",
      "Les informations fournies dans le document ne permettent pas de déterminer explicitement le nombre maximal de jours de télétravail par semaine. Par conséquent, je dois affecter la valeur 0 à la variable nombrejourdeteletravailmaxparsemaine.\n",
      "\n",
      "61 T07821008551\n"
     ]
    },
    {
     "name": "stderr",
     "output_type": "stream",
     "text": [
      "Setting `pad_token_id` to `eos_token_id`:2 for open-end generation.\n"
     ]
    },
    {
     "name": "stdout",
     "output_type": "stream",
     "text": [
      "Q_TTSEM_NOMBRE:Extraction de paragraphes pertinents :\n",
      "\n",
      "* \"De manière générale, le télétravail s’exerce à raison de deux journées fixes par semaine maximum.\" (Source: T07821008551.txt, page_content starting at line 115)\n",
      "\n",
      "Ma réponse :\n",
      "nombrejourdeteletravailmaxparsemaine=2\n",
      "\n",
      "Mon raisonnement :\n",
      "Le document spécifie que le télétravail s'exerce à raison de deux journées fixes par semaine maximum. Cette information est explicite et ne nécessite pas de calcul de proratisation ou de supposition.\n",
      "\n",
      "62 T09521004176\n"
     ]
    },
    {
     "name": "stderr",
     "output_type": "stream",
     "text": [
      "Setting `pad_token_id` to `eos_token_id`:2 for open-end generation.\n"
     ]
    },
    {
     "name": "stdout",
     "output_type": "stream",
     "text": [
      "Q_TTSEM_NOMBRE:Extraction de deux paragraphes pertinents provenant du document à analyser :\n",
      "\n",
      "* \"7.1) Le télétravail hebdomadaire régulier (le ou les mêmes jours de chaque semaine civile) [...] Le télétravail régulier peut-être de 1 ou de 2 jours par semaine. Il peut être porté à un maximum de 3 jours par semaine pour des salariés en forte autonomie de travail\"\n",
      "* \"Nota : Voir tableau récapitulatif en ANNEXE 2. En raison des besoins ou attentes de l’Entreprise, le nombre de jour télétravaillable est limité à 1 jour par semaine civile pour les populations suivantes : Formateurs Conseil/tradi ; ASAV et CAF VPI ; Fifties PORTABLE ; limité à un maximum de 2 jours par semaine civile pour les : CAF SICLI (RIA et désenfumage) ; Salariés à temps partiel 80% ou 90% (et sous réserve d’être présent a minima 2 jours par semaine dans les locaux professionnels)\"\n",
      "\n",
      "Ma réponse :\n",
      "nombrejourdeteletravailmaxparsemaine=3\n",
      "\n",
      "Mon raisonnement :\n",
      "Le premier paragraphe indique que le télétravail régulier peut être de 1, 2 ou 3 jours par semaine. Le deuxième paragraphe indique que le nombre de jour télétravaillable est limité à 1 jour par semaine pour certaines populations et à 2 jours par semaine pour d'autres. Comme je dois fournir la limite supérieure des jours de télétravail par semaine, je réponds 3 jours de télétravail par semaine.\n",
      "\n",
      "63 T59V21001231\n"
     ]
    },
    {
     "name": "stderr",
     "output_type": "stream",
     "text": [
      "Setting `pad_token_id` to `eos_token_id`:2 for open-end generation.\n"
     ]
    },
    {
     "name": "stdout",
     "output_type": "stream",
     "text": [
      "Q_TTSEM_NOMBRE:Extraction de deux paragraphes pertinents provenant du document à analyser :\n",
      "\n",
      "* \"Le télétravail ne saurait être un outil permettant de gérer d’éventuelles difficultés d’organisation du travail ou de conditions de travail.\"\n",
      "* \"Le télétravail n’est ni un droit ni une obligation et sa mise en œuvre répond à certaines conditions. [...] Il nécessite certaines aptitudes individuelles et des qualités professionnelles telles que la gestion du temps de travail et une bonne maîtrise des applications informatiques indispensables à son activité.\"\n",
      "\n",
      "Ma réponse :\n",
      "nombrejourdeteletravailmaxparsemaine=0\n",
      "\n",
      "Mon raisonnement :\n",
      "Après avoir analysé les deux paragraphes pertinents du document, je n'ai pas trouvé de mention explicite du nombre de jours de télétravail par semaine. Par conséquent, en l'absence de précisions explicites, je dois affecter impérativement à la variable nombrejourdeteletravailmaxparsemaine la valeur 0.\n",
      "\n",
      "64 T08821002242\n"
     ]
    },
    {
     "name": "stderr",
     "output_type": "stream",
     "text": [
      "Setting `pad_token_id` to `eos_token_id`:2 for open-end generation.\n"
     ]
    },
    {
     "name": "stdout",
     "output_type": "stream",
     "text": [
      "Q_TTSEM_NOMBRE:Extraction de deux paragraphes pertinents provenant du document à analyser :\n",
      "\n",
      "* \"Le nombre de jours maximum en télétravail est fixé à 2 jours par semaine pour un collaborateur à temps plein.\"\n",
      "* \"Les jours de télétravail sont pris par journée complète, sauf demande justifiée par des motifs exceptionnels, laissés à l’appréciation du manager, situation qui devra donner lieu à un accord express et préalable dudit manager concerné par une telle demande.\"\n",
      "\n",
      "Ma réponse :\n",
      "nombrejourdeteletravailmaxparsemaine=2\n",
      "\n",
      "Mon raisonnement :\n",
      "Le document mentionne explicitement que le nombre de jours maximum en télétravail est fixé à 2 jours par semaine pour un collaborateur à temps plein.\n",
      "\n",
      "65 T04421010974\n"
     ]
    },
    {
     "name": "stderr",
     "output_type": "stream",
     "text": [
      "Setting `pad_token_id` to `eos_token_id`:2 for open-end generation.\n"
     ]
    },
    {
     "name": "stdout",
     "output_type": "stream",
     "text": [
      "Q_TTSEM_NOMBRE:Mon extraction de deux paragraphes max pertinents provenant du document à analyser qui répondent à la question :\n",
      "\n",
      "* \"Le salarié doit prendre soin des matériels et du siège de bureau mis à la disposition par l’employeur et dont l’utilisation est strictement réservée à l’exercice de l’activité professionnelle.\"\n",
      "* \"Le télétravailleur disposera des deux options suivantes selon son libre choix.\"\n",
      "\n",
      "Ma réponse :\n",
      "nombrejourdeteletravailmaxparsemaine=0\n",
      "\n",
      "Mon raisonnement :\n",
      "Le document ne fournit aucune information explicite sur le nombre de jours de télétravail maximum par semaine. Il n'y a pas non plus d'indications sur les jours de présence obligatoire sur site.\n",
      "\n",
      "66 T09221023345\n"
     ]
    },
    {
     "name": "stderr",
     "output_type": "stream",
     "text": [
      "Setting `pad_token_id` to `eos_token_id`:2 for open-end generation.\n"
     ]
    },
    {
     "name": "stdout",
     "output_type": "stream",
     "text": [
      "Q_TTSEM_NOMBRE:Mon extraction de deux paragraphes max pertinents provenant du document à analyser qui répondent à la question :\n",
      "\n",
      "* \"Le télétravail sera mis en œuvre par journée entière de travail, dans la limite de deux jours par semaine.\"\n",
      "* \"Afin que le salarié bénéficie de son droit à la vie privée, F.INICIATIVAS recommande au salarié d’utiliser la fonctionnalité « arrière-plan » sur Teams.\"\n",
      "\n",
      "Ma réponse :\n",
      "nombrejourdeteletravailmaxparsemaine=2\n",
      "\n",
      "Mon raisonnement :\n",
      "Le document mentionne explicitement que le télétravail est mis en œuvre par journée entière de travail et que la limite est de deux jours par semaine. Cependant, il ne précise pas s'il s'agit de jours entiers ou de demi-journées, donc je ne peux pas répondre avec une précision supérieure à deux jours par semaine.\n",
      "\n",
      "67 T09221027087\n"
     ]
    },
    {
     "name": "stderr",
     "output_type": "stream",
     "text": [
      "Setting `pad_token_id` to `eos_token_id`:2 for open-end generation.\n"
     ]
    },
    {
     "name": "stdout",
     "output_type": "stream",
     "text": [
      "Q_TTSEM_NOMBRE:Extraction de deux paragraphes pertinents provenant du document à analyser :\n",
      "\n",
      "* \"Selon les recommandations sanitaires, il peut être imposé aux salariés un télétravail à 100%.\"\n",
      "* \"En cas de télétravail en dessous de 100%, les jours télétravaillés dans la semaine sont convenus entre le Salarié et son manager, le cas échéant après avis de la Direction des Ressources Humaines, afin de respecter une jauge dans les locaux de l’entreprise qui soit adaptée à la situation sanitaire.\"\n",
      "\n",
      "Ma réponse :\n",
      "nombrejourdeteletravailmaxparsemaine=5\n",
      "\n",
      "Mon raisonnement :\n",
      "Le document mentionne positivement le télétravail à 100%, ou le full-remote, et il n'y a pas de jour de présence minimum sur site. Par conséquent, en vertu de l'instruction 2.E, 5 jours de télétravail sont possibles par semaine.\n",
      "\n",
      "68 T07821008583\n"
     ]
    },
    {
     "name": "stderr",
     "output_type": "stream",
     "text": [
      "Setting `pad_token_id` to `eos_token_id`:2 for open-end generation.\n"
     ]
    },
    {
     "name": "stdout",
     "output_type": "stream",
     "text": [
      "Q_TTSEM_NOMBRE:Mon extraction de deux paragraphes max pertinents provenant du document à analyser qui répondent à la question :\n",
      "\n",
      "* \"Le télétravail régulier débute par une période d’adaptation d’une durée égale au quart de la durée convenue de télétravail, étant rappelé que celle-ci ne peut excéder 1 an.\"\n",
      "* \"Pour le salarié, cette période permet de vérifier si l'activité en télétravail lui convient.\"\n",
      "\n",
      "Ma réponse :\n",
      "nombrejourdeteletravailmaxparsemaine=0\n",
      "\n",
      "Mon raisonnement :\n",
      "Le document ne contient aucune indication explicite du nombre de jours de télétravail par semaine, donc je dois affecter impérativement à la variable nombrejourdeteletravailmaxparsemaine la valeur 0.\n",
      "\n",
      "69 T04421009405\n"
     ]
    },
    {
     "name": "stderr",
     "output_type": "stream",
     "text": [
      "Setting `pad_token_id` to `eos_token_id`:2 for open-end generation.\n"
     ]
    },
    {
     "name": "stdout",
     "output_type": "stream",
     "text": [
      "Q_TTSEM_NOMBRE:Extraction de paragraphes pertinents :\n",
      "\n",
      "* \"Le rythme de télétravail accordé devra permettre minimum 3 jours de présentiel sur site par semaine pour les salariés à temps plein et à temps partiel.\"\n",
      "* \"Le nombre de jours de télétravail est plafonné à 6 jours par mois.\"\n",
      "\n",
      "Ma réponse :\n",
      "nombrejourdeteletravailmaxparsemaine=3\n",
      "\n",
      "Mon raisonnement :\n",
      "Le paragraphe indique que les salariés doivent être présents au minimum 3 jours sur site par semaine, impliquant que le nombre maximum de jours de télétravail par semaine est de 3.\n",
      "\n",
      "70 T00321001449\n"
     ]
    },
    {
     "name": "stderr",
     "output_type": "stream",
     "text": [
      "Setting `pad_token_id` to `eos_token_id`:2 for open-end generation.\n"
     ]
    },
    {
     "name": "stdout",
     "output_type": "stream",
     "text": [
      "Q_TTSEM_NOMBRE:\n",
      "Extrait pertinent du document :\n",
      "> Article 3 – Règles de maintien du télétravail\n",
      "> L’employeur accorde un jour de télétravail par semaine sur la base du volontariat. Les autres jours devront être travaillés sur site.\n",
      "\n",
      "Ma réponse :\n",
      "nombrejourdeteletravailmaxparsemaine=1\n",
      "\n",
      "Mon raisonnement :\n",
      "Le document mentionne explicitement qu'un jour de télétravail par semaine est accordé sur la base du volontariat. Par conséquent, un employé/travailleur/salarié/collaborateur peut télétravailler régulièrement 1 jour par semaine.\n",
      "\n",
      "71 T59V21001419\n"
     ]
    },
    {
     "name": "stderr",
     "output_type": "stream",
     "text": [
      "Setting `pad_token_id` to `eos_token_id`:2 for open-end generation.\n"
     ]
    },
    {
     "name": "stdout",
     "output_type": "stream",
     "text": [
      "Q_TTSEM_NOMBRE:Mon extraction de deux paragraphes max pertinents provenant du document à analyser qui répondent à la question :\n",
      "\n",
      "* \"Les solutions spécifiques de télétravail qui peuvent être mises en place sur préconisation du médecin du travail, en particulier lorsqu’il s’agit de favoriser l’accès ou le maintien dans l’emploi des salariés en situation de handicap, seront étudiées au cas par cas par le management et le service des ressources humaines de la société, en dehors du champ d’application du présent accord.\"\n",
      "* \"Ayant pris la pleine mesure des impacts de ce dispositif sur l’esprit d’équipe et la qualité de la communication interpersonnelle, tout en ayant la volonté d’adapter l’organisation de l’entreprise aux méthodes d’organisation du travail modernes, l’employeur a décidé de limiter le télétravail à domicile à 4 jours par mois pour les personnes à temps plein.\"\n",
      "\n",
      "Ma réponse :\n",
      "nombrejourdeteletravailmaxparsemaine=1\n",
      "\n",
      "Mon raisonnement :\n",
      "Le premier paragraphe n'apporte pas d'information utile pour répondre à la question posée. Dans le deuxième paragraphe, il est indiqué que l'employeur a limité le télétravail à domicile à 4 jours par mois pour les personnes à temps plein. Or, comme il y a 4 semaines dans un mois, cela signifie que les salariés peuvent télétravailler 1 jour par semaine.\n",
      "\n",
      "72 T07521028253\n"
     ]
    },
    {
     "name": "stderr",
     "output_type": "stream",
     "text": [
      "Setting `pad_token_id` to `eos_token_id`:2 for open-end generation.\n"
     ]
    },
    {
     "name": "stdout",
     "output_type": "stream",
     "text": [
      "Q_TTSEM_NOMBRE:Extraction de deux paragraphes pertinents provenant du document à analyser :\n",
      "\n",
      "* \"La possibilité de télétravailler est ouverte à tous les salariés dont les postes et les activités sont compatibles avec cette modalité d'organisation du travail. Ainsi, sont éligibles tous ceux qui satisfont à l'ensemble des critères suivants : [...] Salarié disposant des conditions techniques nécessaires au télétravail ayant contracté une assurance multirisque habitation et bénéficiant d'installations électriques adaptées.\"\n",
      "* \"Un avenant au contrat de travail formalise la situation de chaque salarié télétravailleur. L’avenant précise les modalités spécifiques du télétravail : Les modalités d’organisation du télétravail et, le cas échéant, la répartition entre périodes de travail dans les locaux de l’entreprise et période de télétravail,\"\n",
      "\n",
      "Ma réponse :\n",
      "nombrejourdeteletravailmaxparsemaine=0\n",
      "\n",
      "Mon raisonnement :\n",
      "Le document ne précise pas explicitement le nombre de jours de télétravail par semaine. Il mentionne seulement que la possibilité de télétravailler est offerte à tous les salariés dont les postes et les activités sont compatibles avec cette modalité d'organisation du travail, et que les modalités d'organisation du télétravail doivent être précisées dans un avenant au contrat de travail. Par conséquent, je ne peux pas attribuer une valeur numérique à la variable nombrejourdeteletravailmaxparsemaine.\n",
      "\n",
      "73 T05121003407\n"
     ]
    },
    {
     "name": "stderr",
     "output_type": "stream",
     "text": [
      "Setting `pad_token_id` to `eos_token_id`:2 for open-end generation.\n"
     ]
    },
    {
     "name": "stdout",
     "output_type": "stream",
     "text": [
      "Q_TTSEM_NOMBRE:Extraction de deux paragraphes pertinents provenant du document à analyser :\n",
      "\n",
      "* \"Le télétravail imposé génère des risques d’isolement du collectif de travail et de RPS.\" (Article 2.1)\n",
      "* \"La mise en place du télétravail au sein de l’UES se fait sur la base du volontariat dans la limite des dispositions énumérées ci-dessous et de celles prévues à l’article 5. La planification des jours télé-travaillés s’opère par notification au planning sur l’intranet RH, sous respect d’un délai de 30 jours, soit au plus tard le 1er jour du mois précédent pour le mois suivant. Ces jours télé-travaillés ne peuvent être supérieurs à 4 jours par semaine, et à 10 jours par mois. Les jours télé-travaillés ne sont ni cumulables ni reportables d’un mois sur l’autre.\" (Article 3.3)\n",
      "\n",
      "Ma réponse :\n",
      "nombrejourdeteletravailmaxparsemaine=4\n",
      "\n",
      "Mon raisonnement :\n",
      "Le document mentionne explicitement que les jours télé-travaillés ne peuvent être supérieurs à 4 jours par semaine, conformément à l'instruction de ne pas dépasser cinq jours ouvrés dans une semaine.\n",
      "\n",
      "74 T01321010151\n"
     ]
    },
    {
     "name": "stderr",
     "output_type": "stream",
     "text": [
      "Setting `pad_token_id` to `eos_token_id`:2 for open-end generation.\n"
     ]
    },
    {
     "name": "stdout",
     "output_type": "stream",
     "text": [
      "Q_TTSEM_NOMBRE:Mon extraction de paragraphes pertinents provenant du document à analyser qui répondent à la question :\n",
      "\n",
      "* \"Chaque salarié éligible au télétravail pourra en bénéficier dans la limite d’un jour par semaine.\"\n",
      "\n",
      "Ma réponse :\n",
      "nombrejourdeteletravailmaxparsemaine=1\n",
      "\n",
      "Mon raisonnement :\n",
      "Le document mentionne explicitement que chaque salarié éligible au télétravail pourra en bénéficier dans la limite d’un jour par semaine.\n",
      "\n",
      "75 T09221026340\n"
     ]
    },
    {
     "name": "stderr",
     "output_type": "stream",
     "text": [
      "Setting `pad_token_id` to `eos_token_id`:2 for open-end generation.\n"
     ]
    },
    {
     "name": "stdout",
     "output_type": "stream",
     "text": [
      "Q_TTSEM_NOMBRE:\n",
      "Extrait pertinent du document :\n",
      "> Article 5.1 : Nombre de jours d’exercice du métier sur le lieu de référence\n",
      ">\n",
      "> Tout salarié s’inscrivant dans le dispositif de télétravail habituel devra exercer son métier a minima deux (2) jours par semaine sur son Lieu de référence. Les deux (2) jours de présence sur le Lieu de référence sont nécessaires pour préserver le collectif de travail.\n",
      ">\n",
      "> Le nombre de jours télétravaillables peut donc varier de zéro (0) à trois (3) jours par semaine au maximum, ceux-ci étant déterminés d’un commun accord entre le manager et le salarié\n",
      "\n",
      "Ma réponse :\n",
      "nombrejourdeteletravailmaxparsemaine=3\n",
      "\n",
      "Mon raisonnement :\n",
      "Le document stipule explicitement que le nombre de jours de télétravail par semaine peut varier de zéro (0) à trois (3) jours par semaine au maximum. Par conséquent, la variable nombrejourdeteletravailmaxparsemaine est affectée à la valeur maximale de 3.\n",
      "\n",
      "76 T97421003113\n"
     ]
    },
    {
     "name": "stderr",
     "output_type": "stream",
     "text": [
      "Setting `pad_token_id` to `eos_token_id`:2 for open-end generation.\n"
     ]
    },
    {
     "name": "stdout",
     "output_type": "stream",
     "text": [
      "Q_TTSEM_NOMBRE:Extraction de deux paragraphes pertinents provenant du document à analyser :\n",
      "\n",
      "* \"Le télétravail s’exercera à raison d’un jour non fractionnable par semaine\"\n",
      "* \"Il définira ces deux jours fixes hebdomadaires de la façon la plus durable possible.\"\n",
      "\n",
      "Ma réponse :\n",
      "nombrejourdeteletravailmaxparsemaine=1\n",
      "\n",
      "Mon raisonnement :\n",
      "Le document mentionne explicitement qu'un jour de télétravail est autorisé par semaine, donc nombrejourdeteletravailmaxparsemaine=1. Il n'y a pas de mention de jour de présence minimum sur site, donc je ne renseigne pas la variable nombrejoursursiteparsemaine.\n",
      "\n",
      "77 T02921004425\n"
     ]
    },
    {
     "name": "stderr",
     "output_type": "stream",
     "text": [
      "Setting `pad_token_id` to `eos_token_id`:2 for open-end generation.\n"
     ]
    },
    {
     "name": "stdout",
     "output_type": "stream",
     "text": [
      "Q_TTSEM_NOMBRE:\n",
      "Mon extraction de deux paragraphes max pertinents provenant du document à analyser qui répondent à la question :\n",
      "\n",
      "* \"Un accord de télétravail a été signé le 16 novembre 2016. Cette accord permet au salarié, dont le poste est compatible avec une organisation en télétravail, de pouvoir travailler à distance. Une procédure spécifique est défini dans l’accord de télétravail, pour rappel : Les personnes éligibles au télétravail et souhaitant bénéficier de ce dispositif doit faire une demande à son manager. Une fois la demande de télétravail validé par son manager, le collaborateur doit faire suivre sa demande au service Ressources Humaines accompagnée d’une attestation d’assurance multirisque habitation. Un avenant au contrat de travail est ensuite établi pour formaliser le fonctionnement du télétravail et le nombre de jours par mois de télétravail. Le nombre de journée de travail est de 4 par mois mais non consécutives.\"\n",
      "\n",
      "Ma réponse :\n",
      "nombrejourdeteletravailmaxparsemaine=1\n",
      "\n",
      "Mon raisonnement :\n",
      "Le document mentionne explicitement que le nombre de journées de télétravail est de 4 par mois, mais non consécutives. Comme il n'y a pas de mention de la durée du mois (par exemple, 4 semaines ou 4,33 semaines), je ne peux pas convertir ce nombre en jours de télétravail par semaine. Cependant, comme il ne peut y avoir plus de 4 jours de télétravail par mois, je fixe la limite supérieure à 1 jour par semaine.\n",
      "\n",
      "78 T01121001341\n"
     ]
    },
    {
     "name": "stderr",
     "output_type": "stream",
     "text": [
      "Setting `pad_token_id` to `eos_token_id`:2 for open-end generation.\n"
     ]
    },
    {
     "name": "stdout",
     "output_type": "stream",
     "text": [
      "Q_TTSEM_NOMBRE:\n",
      "Two relevant paragraphs from the document are:\n",
      "\n",
      "* \"Sur la base de l’expérimentation conduite en 2020 et des enseignements tirés du travail à distance exceptionnel en raison de la crise sanitaire, le déploiement significatif du dispositif du télétravail régulier au sein de la MSA a été souhaité par les partenaires sociaux.\"\n",
      "* \"Cet accord arrivant à échéance le 31 août 2021, et compte tenu du fait que les négociations de branche relatives au télétravail n’ont pas encore abouti, les partenaires sociaux ont souhaité proroger les modalités de mise en œuvre du télétravail au sein de la MSA Grand Sud issues de l’accord d’entreprise du 3 septembre 2020.\"\n",
      "\n",
      "My response is:\n",
      "\n",
      "* nombrejourdeteletravailmaxparsemaine=0\n",
      "* nombrejoursursiteparsemaine=0\n",
      "\n",
      "My reasoning is that there is no specific information in the provided document regarding the number of days per week that an employee can telework regularly. The document only mentions that the partners wanted to deploy significant telework and that they want to prorogue the current agreement. There is no mention of the number of days per week or any other periodicity. Therefore, I cannot provide a different answer than 0 for the number of days per week that an employee can telework. Additionally, there is no mention of any mandatory days on site, so I also set the number of mandatory days on site per week to 0.\n",
      "\n",
      "79 T09221027244\n"
     ]
    },
    {
     "name": "stderr",
     "output_type": "stream",
     "text": [
      "Setting `pad_token_id` to `eos_token_id`:2 for open-end generation.\n"
     ]
    },
    {
     "name": "stdout",
     "output_type": "stream",
     "text": [
      "Q_TTSEM_NOMBRE:Mon extraction de deux paragraphes max pertinents provenant du document à analyser qui répondent à la question :\n",
      "\n",
      "* \"Le nombre de jours de télétravail est fixé à 1 par semaine pour tous.\" (Article 2.1.1)\n",
      "\n",
      "Ma réponse :\n",
      "nombrejourdeteletravailmaxparsemaine=1\n",
      "\n",
      "Mon raisonnement :\n",
      "Le document stipule explicitement que le nombre de jours de télétravail est fixé à 1 par semaine pour tous les salariés éligibles. Par conséquent, je peux affirmer avec certitude que le maximum de jours de télétravail autorisé par semaine est de 1 jour.\n",
      "\n",
      "80 T07521030172\n"
     ]
    },
    {
     "name": "stderr",
     "output_type": "stream",
     "text": [
      "Setting `pad_token_id` to `eos_token_id`:2 for open-end generation.\n"
     ]
    },
    {
     "name": "stdout",
     "output_type": "stream",
     "text": [
      "Q_TTSEM_NOMBRE:\n",
      "Extraction pertinente du document :\n",
      "\n",
      "* \"L’accord sur le télétravail au domicile au sein de BNP Paribas Securities Services du 12 octobre 2016, modifié par avenants du 3 juillet 2018, du 30 septembre 2019 et du 27 octobre 2020 est prorogé pour une période de trois mois, soit jusqu’au 30 juin 2021.\"\n",
      "* \"Le présent avenant entre en vigueur à compter du 1er avril 2021.\"\n",
      "\n",
      "Ma réponse :\n",
      "\n",
      "nombrejourdeteletravailmaxparsemaine=0\n",
      "\n",
      "Mon raisonnement :\n",
      "\n",
      "Le document ne contient aucune information explicite sur le nombre de jours de télétravail autorisés par semaine. Il est simplement mentionné que l'accord sur le télétravail est prorogé pour une période de trois mois à partir du 1er avril 2021. Aucune autre information pertinente n'est fournie dans les deux premiers paragraphes du document.\n",
      "\n",
      "81 T09221025188\n"
     ]
    },
    {
     "name": "stderr",
     "output_type": "stream",
     "text": [
      "Setting `pad_token_id` to `eos_token_id`:2 for open-end generation.\n"
     ]
    },
    {
     "name": "stdout",
     "output_type": "stream",
     "text": [
      "Q_TTSEM_NOMBRE:Extraction de paragraphes pertinents :\n",
      "\n",
      "* \"Le télétravail ne doit pas avoir pour effet d’entraîner un dépassement des durées maximales de temps de travail ou le non-respect des durées minimales de temps de repos.\"\n",
      "* \"L’activité des télétravailleurs doit être équivalente à celle des autres travailleurs placés dans une situation identique. Le télétravail ne doit pas entraîner de surcharge de travail.\"\n",
      "\n",
      "Ma réponse :\n",
      "nombrejourdeteletravailmaxparsemaine=0\n",
      "\n",
      "Mon raisonnement :\n",
      "Le document ne fournit aucune information explicite sur le nombre de jours de télétravail par semaine. Par conséquent, je suis dans l'obligation d'affecter la valeur 0 à la variable nombrejourdeteletravailmaxparsemaine.\n",
      "\n",
      "82 T09221025957\n"
     ]
    },
    {
     "name": "stderr",
     "output_type": "stream",
     "text": [
      "Setting `pad_token_id` to `eos_token_id`:2 for open-end generation.\n"
     ]
    },
    {
     "name": "stdout",
     "output_type": "stream",
     "text": [
      "Q_TTSEM_NOMBRE:\n",
      "Extraction de deux paragraphes pertinents du document :\n",
      "\n",
      "* \"Il a été conclu le présent avenant à l’accord sur le télétravail signé le 21 mai 2019 (ci-après dénommé l’« Avenant »).\"\n",
      "* \"Cet avenant a pour objet de prolonger la durée d’applicabilité dudit accord au sein de BCA Expertise, initialement conclu pour une période déterminée de 1 an ½ jusqu’au 31 décembre 2020, puis renouvelé par avenant du 23 décembre 2020 jusqu’au 28 février 2021.\"\n",
      "\n",
      "Ma réponse :\n",
      "\n",
      "* nombrejourdeteletravailmaxparsemaine = 0\n",
      "* nombrejoursursiteparsemaine = 0\n",
      "\n",
      "Mon raisonnement :\n",
      "\n",
      "* Après avoir analysé le document, je n'ai pas trouvé de mention explicite du nombre de jours de télétravail par semaine.\n",
      "* De plus, rien dans le document ne mentionne de jours de présence minimale sur site.\n",
      "* Par conséquent, en appliquant les instructions, je dois affecter à la variable nombrejourdeteletravailmaxparsemaine la valeur 0.\n",
      "* Je fais de même pour la variable nombrejoursursiteparsemaine.\n",
      "\n",
      "83 T03321006914\n"
     ]
    },
    {
     "name": "stderr",
     "output_type": "stream",
     "text": [
      "Setting `pad_token_id` to `eos_token_id`:2 for open-end generation.\n"
     ]
    },
    {
     "name": "stdout",
     "output_type": "stream",
     "text": [
      "Q_TTSEM_NOMBRE:Extraits pertinents du document :\n",
      "\n",
      "\"La possibilité de télétravailler est ouverte aux Salariés : [...] La possibilité de télétravailler est ouverte aux Salariés disposant d’une autonomie suffisante dans la tenue du poste occupé et ne nécessitant pas de soutien managérial de proximité.\"\n",
      "\n",
      "\"Le télétravail doit s’effectuer dans un espace de travail adapté, disposant d’une connexion internet haut débit et d’un réseau de téléphonie accessible, équipé d’une installation électrique conforme à la réglementation en vigueur et assuré pour l’usage considéré.\"\n",
      "\n",
      "\"Le télétravail ne pourra être exercé qu’au domicile du Salarié.\"\n",
      "\n",
      "\"La durée, les horaires de travail et les temps de repos du Salarié en situation de télétravail s’inscrivent dans le cadre de l’organisation du temps de travail en vigueur dans l’entreprise et/ou individuellement applicable à son poste.\"\n",
      "\n",
      "Ma réponse :\n",
      "numberofdaysperweek = 0\n",
      "\n",
      "Mon raisonnement :\n",
      "Après avoir analysé le document, je n'ai pas trouvé de mention explicite du nombre de jours de télétravail par semaine. Par conséquent, je dois affecter la valeur 0 à la variable nombrejourdeteletravailmaxparsemaine.\n",
      "\n",
      "84 T05721004854\n"
     ]
    },
    {
     "name": "stderr",
     "output_type": "stream",
     "text": [
      "Setting `pad_token_id` to `eos_token_id`:2 for open-end generation.\n"
     ]
    },
    {
     "name": "stdout",
     "output_type": "stream",
     "text": [
      "Q_TTSEM_NOMBRE:\n",
      "Mon extraction de deux paragraphes max pertinents provenant du document à analyser qui répondent à la question :\n",
      "\n",
      "* \"Le télétravail constituant simplement une modalité particulière d’exécution de la prestation de travail, les durées et horaires de travail habituels tels qu’appliqués sur site demeurent inchangés.\"\n",
      "* \"Le salarié dispose d’un volume de 18 jours de télétravail par an (du 1er janvier au 31 décembre) qu’il pourra mobiliser en journée entière ou demi-journée.\"\n",
      "\n",
      "Ma réponse :\n",
      "\n",
      "nombrejourdeteletravailmaxparsemaine=3.6\n",
      "\n",
      "Mon raisonnement :\n",
      "\n",
      "Le premier paragraphe indique que les durées et horaires de travail habituels restent inchangés, ce qui signifie qu'il n'y a pas de limitation hebdomadaire de télétravail.\n",
      "Le deuxième paragraphe indique que le salarié dispose de 18 jours de télétravail par an, ce qui correspond à 3.6 jours par semaine (18/52) si le salarié travaille 5 jours par semaine.\n",
      "\n",
      "85 T09121006419\n"
     ]
    },
    {
     "name": "stderr",
     "output_type": "stream",
     "text": [
      "Setting `pad_token_id` to `eos_token_id`:2 for open-end generation.\n"
     ]
    },
    {
     "name": "stdout",
     "output_type": "stream",
     "text": [
      "Q_TTSEM_NOMBRE:Extraction de deux paragraphes pertinents provenant du document à analyser :\n",
      "\n",
      "* \"Les parties fixent le nombre de jour de télétravail à deux jours maximum par semaine.\"\n",
      "* \"les salariés possédant certaines aptitudes individuelles évaluées par le responsable hiérarchique\"\n",
      "\n",
      "Ma réponse :\n",
      "nombrejourdeteletravailmaxparsemaine=2\n",
      "\n",
      "Mon raisonnement :\n",
      "Le document mentionne explicitement que le nombre de jours de télétravail autorisé par semaine est de deux jours maximum. Cette information est claire et ne nécessite pas d'interprétation ou de calcul supplémentaire.\n",
      "\n",
      "86 T05121003353\n"
     ]
    },
    {
     "name": "stderr",
     "output_type": "stream",
     "text": [
      "Setting `pad_token_id` to `eos_token_id`:2 for open-end generation.\n"
     ]
    },
    {
     "name": "stdout",
     "output_type": "stream",
     "text": [
      "Q_TTSEM_NOMBRE:\n",
      "Extraction de deux paragraphes pertinents provenant du document à analyser :\n",
      "\n",
      "* \"Le nombre de salarié en télétravail un jour donné ne dépasse pas 50% de l’effectif du service concerné.\"\n",
      "* \"En cas de circonstances exceptionnelles, notamment de menace d'épidémie, ou en cas de force majeure, la mise en œuvre du télétravail peut être considérée comme un aménagement du poste de travail rendu nécessaire pour permettre la continuité de l'activité de …………et garantir la protection des salariés. La mise en place du télétravail constitue, dans ce cas, une mesure s’imposant au salarié.\"\n",
      "\n",
      "Ma réponse :\n",
      "nombrejourdeteletravailmaxparsemaine=0\n",
      "\n",
      "Mon raisonnement :\n",
      "Le document ne précise pas explicitement le nombre de jours de télétravail par semaine. Il mentionne seulement que le nombre de salariés en télétravail un jour donné ne dépasse pas 50% de l'effectif du service concerné, mais cela ne permet pas de déterminer le nombre de jours de télétravail par semaine. De plus, il est mentionné que dans des circonstances exceptionnelles, le télétravail peut être considéré comme un aménagement du poste de travail, mais cela ne précise pas non plus le nombre de jours de télétravail par semaine. Par conséquent, je dois affecter la valeur 0 à la variable nombrejourdeteletravailmaxparsemaine.\n",
      "\n",
      "87 T02921004527\n"
     ]
    },
    {
     "name": "stderr",
     "output_type": "stream",
     "text": [
      "Setting `pad_token_id` to `eos_token_id`:2 for open-end generation.\n"
     ]
    },
    {
     "name": "stdout",
     "output_type": "stream",
     "text": [
      "Q_TTSEM_NOMBRE:Mon extraction de deux paragraphes max pertinents provenant du document à analyser qui répondent à la question :\n",
      "\n",
      "* \"Afin de maintenir suffisamment le lien social et fonctionnel avec la communauté de travail, le salarié peut télétravailler au maximum 2 jours par semaine.\"\n",
      "\n",
      "Ma réponse :\n",
      "nombrejourdeteletravailmaxparsemaine=2\n",
      "\n",
      "Mon raisonnement :\n",
      "Le document spécifie clairement que le salarié peut télétravailler jusqu'à 2 jours par semaine. Par conséquent, je peux affecter la variable 'nombrejourdeteletravailmaxparsemaine' à la valeur 2.\n",
      "\n",
      "88 T04221004677\n"
     ]
    },
    {
     "name": "stderr",
     "output_type": "stream",
     "text": [
      "Setting `pad_token_id` to `eos_token_id`:2 for open-end generation.\n"
     ]
    },
    {
     "name": "stdout",
     "output_type": "stream",
     "text": [
      "Q_TTSEM_NOMBRE:\n",
      "Mon extraction de deux paragraphes max pertinents provenant du document à analyser qui répondent à la question :\n",
      "\n",
      "* Article 5.2 Télétravail sur la base du volontariat : \"Pour un salarié dont les missions sont éligibles au télétravail, la mise en place du télétravail revêt un caractère volontaire à l’initiative du salarié. Le passage à une situation de télétravail n’est à ce titre pas subordonné à l’accord du responsable hiérarchique.\"\n",
      "* Article 5.2 Télétravail sur la base du volontariat : \"Modèle hebdomadaire : Le salarié doit être au minimum 2 jours par semaine en présentiel au bureau (soit 1 à 3 jours de télétravail par semaine)\"\n",
      "\n",
      "Ma réponse :\n",
      "nombrejourdeteletravailmaxparsemaine=3\n",
      "\n",
      "Mon raisonnement :\n",
      "Le document indique que le télétravail est sur la base du volontariat et que le salarié doit être au minimum 2 jours par semaine en présentiel au bureau, ce qui implique que le salarié peut télétravailler jusqu'à 3 jours par semaine.\n",
      "\n",
      "89 T01421004104\n"
     ]
    },
    {
     "name": "stderr",
     "output_type": "stream",
     "text": [
      "Setting `pad_token_id` to `eos_token_id`:2 for open-end generation.\n"
     ]
    },
    {
     "name": "stdout",
     "output_type": "stream",
     "text": [
      "Q_TTSEM_NOMBRE:\n",
      "Extraction pertinente du document :\n",
      "\n",
      "* \"L’évolution de la situation sanitaire Covid-19 ne permet toujours pas d’envisager un retour de tous les salariés à 100% sur le site.\"\n",
      "* \"C’est dans ce contexte que la Direction de Knorr-Bremse SPVUF et les organisations syndicales s’accordent pour que l’intégralité des dispositions de l’accord relatif à la mise en place du télétravail en période d’épidémie Covid-19 soient prolongées d’une période de quatre mois.\"\n",
      "\n",
      "Ma réponse :\n",
      "nombrejourdeteletravailmaxparsemaine=0\n",
      "\n",
      "Mon raisonnement :\n",
      "Après avoir lu attentivement le document, je n'ai pas trouvé de mention explicite du nombre de jours de télétravail par semaine. Par conséquent, conformément aux instructions, je dois affecter à la variable nombrejourdeteletravailmaxparsemaine la valeur 0.\n",
      "\n",
      "90 T07421004072\n"
     ]
    },
    {
     "name": "stderr",
     "output_type": "stream",
     "text": [
      "Setting `pad_token_id` to `eos_token_id`:2 for open-end generation.\n",
      "Created a chunk of size 5508, which is longer than the specified 5000\n",
      "Created a chunk of size 5679, which is longer than the specified 5000\n",
      "Created a chunk of size 7755, which is longer than the specified 5000\n"
     ]
    },
    {
     "name": "stdout",
     "output_type": "stream",
     "text": [
      "Q_TTSEM_NOMBRE:Extraction de paragraphes pertinents :\n",
      "\n",
      "* \"Le télétravail pour un salarié ne peut avoir pour conséquence que ce dernier se rende sur site moins de trois fois par semaine.\"\n",
      "* \"Le télétravail pourra s’effectuer sur une demi-journée au minimum et au maximum 1 journée par semaine\"\n",
      "\n",
      "Ma réponse :\n",
      "nombrejourdeteletravailmaxparsemaine=1\n",
      "\n",
      "Mon raisonnement :\n",
      "Le premier paragraphe indique que le télétravail ne peut avoir pour conséquence que le salarié se rende sur site moins de trois fois par semaine, ce qui implique qu'il y a une limite de deux jours de télétravail par semaine. Le deuxième paragraphe confirme cette limite en précisant que le télétravail peut s'effectuer sur une demi-journée au maximum par semaine. Par conséquent, le nombre maximal de jours de télétravail par semaine est de 1.\n",
      "\n",
      "91 T01421004303\n"
     ]
    },
    {
     "name": "stderr",
     "output_type": "stream",
     "text": [
      "Setting `pad_token_id` to `eos_token_id`:2 for open-end generation.\n"
     ]
    },
    {
     "name": "stdout",
     "output_type": "stream",
     "text": [
      "Q_TTSEM_NOMBRE:\n",
      "Voici mon analyse du document :\n",
      "\n",
      "* Mon extraction de deux paragraphes max pertinents provenant du document à analyser qui répondent à la question :\n",
      "\n",
      "> \"Le télétravail sera effectué soit au domicile du collaborateur, soit dans un lieu tiers à définir par les parties.\"\n",
      ">\n",
      "> \"Le télétravail pourra être exercé trois jours par semaine maximum.\"\n",
      "\n",
      "* Ma réponse :\n",
      "\n",
      "nombrejourdeteletravailmaxparsemaine=3\n",
      "\n",
      "* Mon raisonnement :\n",
      "\n",
      "Le document indique que le télétravail peut être exercé jusqu'à trois jours par semaine. Cette information est explicite et ne nécessite pas de calcul ou de supposition. Par conséquent, je peux affirmer que le nombre maximal de jours de télétravail par semaine est de 3.\n",
      "\n",
      "92 T07321002999\n"
     ]
    },
    {
     "name": "stderr",
     "output_type": "stream",
     "text": [
      "Setting `pad_token_id` to `eos_token_id`:2 for open-end generation.\n"
     ]
    },
    {
     "name": "stdout",
     "output_type": "stream",
     "text": [
      "Q_TTSEM_NOMBRE:Mon extraction de deux paragraphes max pertinents provenant du document à analyser qui répondent à la question :\n",
      "\n",
      "* \"Compte tenu de l’importance du maintien du lien avec la communauté de travail, les salariés devront être présents a minima 3 jours par semaine dans les locaux au sein desquels les salariés exercent habituellement leur activité, ou en déplacement clientèle, et le télétravail ne pourra se faire que dans la limite d’1 jour par semaine, avec possibilité de télétravail par demi-journée.\"\n",
      "\n",
      "Ma réponse :\n",
      "nombrejourdeteletravailmaxparsemaine=1\n",
      "\n",
      "Mon raisonnement :\n",
      "Le document mentionne explicitement que le télétravail ne peut se faire que dans la limite d'1 jour par semaine, avec possibilité de télétravail par demi-journée. Par conséquent, le nombre maximal de jour de télétravail par semaine est de 1.\n",
      "\n",
      "93 T09321006658\n"
     ]
    },
    {
     "name": "stderr",
     "output_type": "stream",
     "text": [
      "Setting `pad_token_id` to `eos_token_id`:2 for open-end generation.\n"
     ]
    },
    {
     "name": "stdout",
     "output_type": "stream",
     "text": [
      "Q_TTSEM_NOMBRE:\n",
      "Extraction de deux paragraphes pertinents provenant du document à analyser :\n",
      "\n",
      "* \"Pour maintenir le lien social avec la communauté de travail, le présent accord prévoit jusqu’à deux jours de télétravail par semaine pour une semaine de travail ‘standard’ (avec cinq jours ouvrés)\"\n",
      "* \"Selon l’organisation de l’équipe et les besoins de l’activité, les jours de télétravail peuvent être fixes ou flexibles. Dans tous les cas il s’agit de journées entières en télétravail.\"\n",
      "\n",
      "Ma réponse :\n",
      "nombrejourdeteletravailmaxparsemaine=2\n",
      "\n",
      "Mon raisonnement :\n",
      "Le document mentionne explicitement que le télétravail est possible jusqu'à deux jours par semaine. Il n'y a pas d'autres mentions de fréquence de télétravail dans le document.\n",
      "\n",
      "94 T01321011558\n"
     ]
    },
    {
     "name": "stderr",
     "output_type": "stream",
     "text": [
      "Setting `pad_token_id` to `eos_token_id`:2 for open-end generation.\n"
     ]
    },
    {
     "name": "stdout",
     "output_type": "stream",
     "text": [
      "Q_TTSEM_NOMBRE:\n",
      "Extraction de deux paragraphes pertinents provenant du document à analyser :\n",
      "\n",
      "* \"Le passage en télétravail est une faculté pour le salarié et doit reposer sur la base du volontariat. [...] Le jour de télétravail est fixé en concertation entre le salarié et le manager, en fonction de l’organisation de la structure et de l’activité des salariés. La décision finale revenant au manager.\"\n",
      "* \"L'exercice des fonctions en télétravail débute par une période d'adaptation de 3 mois. Cette période doit permettre à l'employeur de vérifier si le salarié a les aptitudes personnelles et professionnelles pour travailler à distance ou si l'absence du salarié dans les locaux de l'entreprise ne perturbe pas le fonctionnement de son service. Pour le salarié, cette période permet de vérifier si l'activité en télétravail lui convient.\"\n",
      "\n",
      "Ma réponse :\n",
      "nombrejourdeteletravailmaxparsemaine=1\n",
      "\n",
      "Mon raisonnement :\n",
      "Le document mentionne que le jour de télétravail est fixé en concertation entre le salarié et le manager, en fonction de l’organisation de la structure et de l’activité des salariés, avec une décision finale revenant au manager. Cependant, il n'y a pas d'information explicite sur le nombre de jours de télétravail par semaine. Par conséquent, je suis dans l'obligation d'affecter la variable 'nombrejourdeteletravailmaxparsemaine' à la valeur la plus basse, qui est 0. Cependant, dans l'extrait pertinent, il est mentionné que le télétravail est fixé à \"un jour par semaine\" pendant la période d'adaptation de 3 mois. Donc, je dois affecter la variable 'nombrejourdeteletravailmaxparsemaine' à la valeur 1.\n",
      "\n",
      "95 T03121008748\n"
     ]
    },
    {
     "name": "stderr",
     "output_type": "stream",
     "text": [
      "Setting `pad_token_id` to `eos_token_id`:2 for open-end generation.\n"
     ]
    },
    {
     "name": "stdout",
     "output_type": "stream",
     "text": [
      "Q_TTSEM_NOMBRE:Mon extraction de deux paragraphes max pertinents provenant du document à analyser qui répondent à la question :\n",
      "\n",
      "* \"Le Salarié pourra effectuer jusqu’à 45 jours de télétravail par année civile. La répartition de ces jours sur l’année civile s’effectuera par journée entière sur la base d’une journée par semaine.\"\n",
      "* \"Par exception, les salariés d’un service spécifique... pourront bénéficier d’une autorisation de télétravail par semaine entière dans la limite de 9 semaines par an (9 semaines x 5 jours/semaine =45 jours)\"\n",
      "\n",
      "Ma réponse :\n",
      "nombrejourdeteletravailmaxparsemaine=1\n",
      "\n",
      "Mon raisonnement :\n",
      "Le premier paragraphe indique que le nombre maximal de jours de télétravail par an est de 45, et que la répartition se fait sur une base d'une journée par semaine. Donc, le nombre maximal de jours de télétravail par semaine est de 1. Le deuxième paragraphe confirme ce résultat en indiquant que les salariés d'un service spécifique peuvent bénéficier d'une autorisation de télétravail par semaine entière dans la limite de 9 semaines par an, ce qui correspond à 1 jour de télétravail par semaine.\n",
      "\n",
      "96 T59V21001382\n"
     ]
    },
    {
     "name": "stderr",
     "output_type": "stream",
     "text": [
      "Setting `pad_token_id` to `eos_token_id`:2 for open-end generation.\n"
     ]
    },
    {
     "name": "stdout",
     "output_type": "stream",
     "text": [
      "Q_TTSEM_NOMBRE:Two paragraphs relevant to the question are:\n",
      "\n",
      "* \"1/ Augmenter le montant de la prime de Noël à 500 euros\"\n",
      "* \"8/ Définition des postes et des règles du télétravail ainsi que la mise en place d’une prime de consommable\"\n",
      "\n",
      "However, neither of these paragraphs provide information about the number of days of telework per week. Therefore, I cannot determine the value of `nombrejourdeteletravailmaxparsemaine`. Since there is no mention of any days of telework per week, I will set `nombrejourdeteletravavelmaxparsemaine` to 0. There is also no mention of any mandatory days of presence on site, so I will not create a `nombrejoursursiteparsemaine` variable.\n",
      "\n",
      "My response is:\n",
      "\n",
      "* Mon extraction de deux paragraphes max pertinents provenant du document à analyser qui répondent à la question: \"1/ Augmenter le montant de la prime de Noël à 500 euros\", \"8/ Définition des postes et des règles du télétravail ainsi que la mise en place d’une prime de consommable\"\n",
      "* Ma réponse : `nombrejourdeteletravailmaxparsemaine=0`\n",
      "* Mon raisonnement : The provided document does not contain information on the number of days of telework per week.\n",
      "\n",
      "97 T05721004198\n"
     ]
    },
    {
     "name": "stderr",
     "output_type": "stream",
     "text": [
      "Setting `pad_token_id` to `eos_token_id`:2 for open-end generation.\n"
     ]
    },
    {
     "name": "stdout",
     "output_type": "stream",
     "text": [
      "Q_TTSEM_NOMBRE:Extraction de deux paragraphes pertinents provenant du document à analyser :\n",
      "\n",
      "* \"ARTICLE 3-2 - Fréquence et nombre de jours de télétravail : Le télétravail est limité à 2 jours maximum par semaine\"\n",
      "* \"ARTICLE 3-4-2 - Passage à la demande de l'employeur : Lorsque le télétravail, n’est pas initialement prévu dans le contrat de travail du salarié, la société peut proposer le télétravail à un salarié dans le cadre de projets spécifiques ou pour des raisons organisationnelles. Cette demande doit être adressée par écrit au salarié par lettre recommandée avec avis de réception ou remis en main propre contre décharge au moins un mois avant la date envisagée pour sa prise d'effet.\"\n",
      "\n",
      "Ma réponse :\n",
      "nombrejourdeteletravailmaxparsemaine=2\n",
      "\n",
      "Mon raisonnement :\n",
      "Le document mentionne explicitement que le télétravail est limité à 2 jours maximum par semaine, donc je peux affecter la variable 'nombrejourdeteletravailmaxparsemaine' à la valeur 2.\n",
      "\n",
      "98 T02921005002\n"
     ]
    },
    {
     "name": "stderr",
     "output_type": "stream",
     "text": [
      "Setting `pad_token_id` to `eos_token_id`:2 for open-end generation.\n"
     ]
    },
    {
     "name": "stdout",
     "output_type": "stream",
     "text": [
      "Q_TTSEM_NOMBRE:Mon extraction de deux paragraphes max pertinents provenant du document à analyser qui répondent à la question :\n",
      "\n",
      "* \"En cas de télétravail régulier, les coûts directement engendrés par le télétravail (notamment abonnement internet & frais fixes variables –chauffage, électricité…–) sont pris en charge par le versement d’une indemnité globale de 2€50 bruts par journée télétravaillée\"\n",
      "* \"En cas de télétravail régulier dont la quotité est en principe d’au moins 2 jours de télétravail par semaine,\"\n",
      "\n",
      "Ma réponse :\n",
      "nombrejourdeteletravailmaxparsemaine=2\n",
      "\n",
      "Mon raisonnement :\n",
      "Le document mentionne explicitement que le télétravail régulier est de principe 2 jours par semaine. Donc, nombrejourdeteletravailmaxparsemaine=2.\n",
      "\n",
      "99 T01321010134\n"
     ]
    },
    {
     "name": "stderr",
     "output_type": "stream",
     "text": [
      "Setting `pad_token_id` to `eos_token_id`:2 for open-end generation.\n"
     ]
    },
    {
     "name": "stdout",
     "output_type": "stream",
     "text": [
      "Q_TTSEM_NOMBRE:Mon extraction de deux paragraphes max pertinents provenant du document à analyser qui répondent à la question :\n",
      "\n",
      "* \"Le télétravail régulier consiste, sur la base du volontariat, à offrir la possibilité au collaborateur de travailler en dehors des locaux de l’entreprise jusqu’à 3 jours maximum par semaine pour un salarié à temps complet ou 50% de son temps de travail pour un salarié à temps partiel.\"\n",
      "\n",
      "Ma réponse :\n",
      "nombrejourdeteletravailmaxparsemaine=3\n",
      "\n",
      "Mon raisonnement :\n",
      "Le document mentionne explicitement que le télétravail régulier peut être effectué jusqu'à 3 jours maximum par semaine pour un salarié à temps complet.\n",
      "\n",
      "100 T04421010863\n"
     ]
    },
    {
     "name": "stderr",
     "output_type": "stream",
     "text": [
      "Setting `pad_token_id` to `eos_token_id`:2 for open-end generation.\n"
     ]
    },
    {
     "name": "stdout",
     "output_type": "stream",
     "text": [
      "Q_TTSEM_NOMBRE:\n",
      "Extraction pertinente du document :\n",
      "\n",
      "* \"Ainsi, le recours au travail à distance a augmenté de façon importante en raison de cette crise sanitaire et des mesures prises par le gouvernement pour y faire face, en particulier le confinement décidé dans le cadre de la période d’urgence sanitaire.\"\n",
      "* \"La mise en œuvre du travail à distance doit être impérative dès lors que le poste de travail le permet. Le travail à distance peut être mis en œuvre lorsque l’aménagement du poste de travail est rendu nécessaire pour permettre la continuité de l’activité de l’entreprise et pour garantir la protection des salariés\"\n",
      "\n",
      "Ma réponse :\n",
      "nombrejourdeteletravailmaxparsemaine=0\n",
      "\n",
      "Mon raisonnement :\n",
      "Le document ne mentionne pas explicitement le nombre de jours de télétravail par semaine. Il est juste mentionné que le télétravail doit être possible si le poste le permet, mais aucun nombre n'est associé à cette possibilité. Par conséquent, je ne peux pas attribuer de valeur à la variable nombrejourdeteletravailmaxparsemaine autre que 0.\n",
      "\n",
      "101 T02221003288\n"
     ]
    },
    {
     "name": "stderr",
     "output_type": "stream",
     "text": [
      "Setting `pad_token_id` to `eos_token_id`:2 for open-end generation.\n",
      "Created a chunk of size 6497, which is longer than the specified 5000\n"
     ]
    },
    {
     "name": "stdout",
     "output_type": "stream",
     "text": [
      "Q_TTSEM_NOMBRE:Extraction de deux paragraphes pertinents provenant du document à analyser :\n",
      "\n",
      "* \"Le télétravail occasionnel est limité à 12 journées sur une année calendaire. Ces journées de télétravail occassionel peuvent être prises par journée entière ou demi-journée.\"\n",
      "* \"Il est rappelé que les télétravailleurs ne sont pas tenus de répondre au téléphone ou aux e-mails en dehors de ces plages horaires de disponibilité.\"\n",
      "\n",
      "Ma réponse :\n",
      "nombrejourdeteletravailmaxparsemaine=0;\n",
      "\n",
      "Mon raisonnement :\n",
      "Le document ne mentionne pas explicitement le nombre de jours de télétravail par semaine, donc je dois affecter impérativement à la variable nombrejourdeteletravailmaxparsemaine la valeur 0.\n",
      "\n",
      "102 T04421010659\n"
     ]
    },
    {
     "name": "stderr",
     "output_type": "stream",
     "text": [
      "Setting `pad_token_id` to `eos_token_id`:2 for open-end generation.\n"
     ]
    },
    {
     "name": "stdout",
     "output_type": "stream",
     "text": [
      "Q_TTSEM_NOMBRE:Mon extraction de deux paragraphes max pertinents provenant du document à analyser qui répondent à la question :\n",
      "\n",
      "* \"Le planning du salarié bénéficiant du télétravail pourra prévoir soit une journée, soit au maximum deux journées, par semaine en situation de télétravail\"\n",
      "* \"Le télétravail pourra être organisé en demi-journée à la seule condition que la demi-journée de télétravail soit couplée avec une demi-journée de RTT ou de récupération pour les salariés non forfaitaires, et avec une demi-journée de repos supplémentaire lié au forfait pour les salariés soumis à un forfait.\"\n",
      "\n",
      "Ma réponse :\n",
      "nombrejourdeteletravailmaxparsemaine=2\n",
      "\n",
      "Mon raisonnement :\n",
      "Le premier paragraphe indique que le salarié peut télétravailler au maximum deux jours par semaine. Donc, nombrejourdeteletravailmaxparsemaine=2.\n",
      "\n",
      "103 T59V21001164\n"
     ]
    },
    {
     "name": "stderr",
     "output_type": "stream",
     "text": [
      "Setting `pad_token_id` to `eos_token_id`:2 for open-end generation.\n"
     ]
    },
    {
     "name": "stdout",
     "output_type": "stream",
     "text": [
      "Q_TTSEM_NOMBRE:Extraction de deux paragraphes pertinents provenant du document à analyser :\n",
      "\n",
      "* \"L’employeur confirme que le télétravail comme mode de travail régulier, n’est pas envisagé par Ecoburotic.\"\n",
      "* \"Pour cette raison, l’employeur souhaite améliorer sa capacité technique à permettre le télétravail, la crise de la Covid jouant un effet catalyseur.\"\n",
      "\n",
      "Ma réponse :\n",
      "nombrejourdeteletravailmaxparsemaine=0\n",
      "\n",
      "Mon raisonnement :\n",
      "Le document ne contient aucune information explicite sur le nombre de jours de télétravail autorisés par semaine. De plus, il est clairement indiqué que le télétravail comme mode de travail régulier n'est pas envisagé par l'employeur. Par conséquent, je ne peux pas attribuer une valeur numérique à la variable 'nombrejourdeteletravailmaxparsemaine'.\n",
      "\n",
      "104 T01321011808\n"
     ]
    },
    {
     "name": "stderr",
     "output_type": "stream",
     "text": [
      "Setting `pad_token_id` to `eos_token_id`:2 for open-end generation.\n"
     ]
    },
    {
     "name": "stdout",
     "output_type": "stream",
     "text": [
      "Q_TTSEM_NOMBRE:Mon extraction de deux paragraphes max pertinents provenant du document à analyser qui répondent à la question :\n",
      "\n",
      "* \"Le nombre de jours télétravaillés est limité à deux jours complets par semaine.\"\n",
      "\n",
      "Ma réponse :\n",
      "nombrejourdeteletravailmaxparsemaine=2\n",
      "\n",
      "Mon raisonnement :\n",
      "Le document stipule explicitement que le nombre de jours télétravaillés est limité à deux jours complets par semaine.\n",
      "\n",
      "105 T04521003587\n"
     ]
    },
    {
     "name": "stderr",
     "output_type": "stream",
     "text": [
      "Setting `pad_token_id` to `eos_token_id`:2 for open-end generation.\n"
     ]
    },
    {
     "name": "stdout",
     "output_type": "stream",
     "text": [
      "Q_TTSEM_NOMBRE:Mon extraction de deux paragraphes max pertinents provenant du document à analyser qui répondent à la question :\n",
      "\n",
      "* \"Le salarié s'engage en particulier à respecter le repos minimal quotidien de 11 heures consécutives et ses deux jours de repos hebdomadaires. Il organise donc impérativement son activité sur cinq jours maximum par semaine.\"\n",
      "* \"L’avenant de mise en place du télétravail précise les plages horaires pendant lesquelles le salarié doit être joignable. En cas de télétravail occasionnel ou exceptionnel, cette information est communiquée au salarié par tout moyen.\"\n",
      "\n",
      "Ma réponse :\n",
      "nombrejourdeteletravailmaxparsemaine=0\n",
      "\n",
      "Mon raisonnement :\n",
      "Le document ne contient aucune indication explicite sur le nombre de jours de télétravail par semaine. Par conséquent, je dois affecter la valeur 0 à la variable nombrejourdeteletravailmaxparsemaine.\n",
      "\n",
      "106 T02121003194\n"
     ]
    },
    {
     "name": "stderr",
     "output_type": "stream",
     "text": [
      "Setting `pad_token_id` to `eos_token_id`:2 for open-end generation.\n"
     ]
    },
    {
     "name": "stdout",
     "output_type": "stream",
     "text": [
      "Q_TTSEM_NOMBRE:Extraction de deux paragraphes pertinents provenant du document à analyser :\n",
      "\n",
      "* \"Le nombre de jours télétravaillés ne pourra pas être supérieur à 10 par mois de travail effectif pour les salariés à temps plein et à temps partiel.\"\n",
      "* \"Le télétravail s’organise par jour entier en référence à l’horaire de travail contractuel du salarié.\"\n",
      "\n",
      "Ma réponse :\n",
      "nombrejourdeteletravailmaxparsemaine=1\n",
      "\n",
      "Mon raisonnement :\n",
      "Le document mentionne que le nombre de jours télétravaillés ne peut pas dépasser 10 par mois de travail effectif. Or, il y a environ 4 semaines par mois. Donc, le nombre maximal de jours de télétravail par semaine est 10/4 = 2,5. Mais, le document précise que le télétravail s'organise par jour entier en référence à l'horaire de travail contractuel du salarié. Par conséquent, le nombre maximal de jours de télétravail par semaine est 1.\n",
      "\n",
      "107 T09321006383\n"
     ]
    },
    {
     "name": "stderr",
     "output_type": "stream",
     "text": [
      "Setting `pad_token_id` to `eos_token_id`:2 for open-end generation.\n"
     ]
    },
    {
     "name": "stdout",
     "output_type": "stream",
     "text": [
      "Q_TTSEM_NOMBRE:\n",
      "Extraction de paragraphes pertinents :\n",
      "\n",
      "* Paragraphe 1 : \"Le présent avenant organise le travail à distance fait suite à la fermeture du site de ______________.\"\n",
      "* Paragraphe 2 : \"Par la signature de la présente convention, le collaborateur confirme son souhait de recourir au « Télétravail à 100% ».\"\n",
      "\n",
      "Ma réponse :\n",
      "nombrejourdeteletravailmaxparsemaine=5\n",
      "\n",
      "Mon raisonnement :\n",
      "\n",
      "* Selon le paragraphe 2, le collaborateur confirme son souhait de recourir au « Télétravail à 100% ».\n",
      "* D'après les instructions, si le télétravail à 100% est autorisé et qu'il n'y a pas de jour de présence minimum sur site, alors le nombre maximal de jours de télétravail par semaine est 5.\n",
      "\n",
      "108 T07521030183\n"
     ]
    },
    {
     "name": "stderr",
     "output_type": "stream",
     "text": [
      "Setting `pad_token_id` to `eos_token_id`:2 for open-end generation.\n"
     ]
    },
    {
     "name": "stdout",
     "output_type": "stream",
     "text": [
      "Q_TTSEM_NOMBRE:Extraction de paragraphes pertinents:\n",
      "\n",
      "* \"La durée minimale de présence sera appréciée par chaque manager en fonction des nécessités de service. En tout état de cause, tout mode de travail à distance est susceptible d’être révisé en fonction des circonstances et doit être considéré comme révisable à tout moment.\"\n",
      "* \"Il est rappelé que, même en cas de journée(s) de télétravail prédéfinie(s), le collaborateur est notamment tenu : d’assister aux réunions ou événements nécessitant une présence physique ; d’assister aux formations prévues en présentiel ; d’effectuer tout déplacement professionnel rendu nécessaire par les besoins de sa mission.\"\n",
      "\n",
      "Ma réponse :\n",
      "nombrejourdeteletravailmaxparsemaine=0\n",
      "\n",
      "Mon raisonnement :\n",
      "Après avoir analysé les paragraphes pertinents, je n'ai pas trouvé de mention explicite du nombre de jours de télétravail par semaine. Par conséquent, je dois affecter la valeur 0 à la variable nombrejourdeteletravailmaxparsemaine.\n",
      "\n",
      "109 T05321002415\n"
     ]
    },
    {
     "name": "stderr",
     "output_type": "stream",
     "text": [
      "Setting `pad_token_id` to `eos_token_id`:2 for open-end generation.\n"
     ]
    },
    {
     "name": "stdout",
     "output_type": "stream",
     "text": [
      "Q_TTSEM_NOMBRE:Extraction de deux paragraphes pertinents provenant du document à analyser :\n",
      "\n",
      "* \"Le nombre de jours télétravaillés s’organise de la façon suivante : Un nombre de jours télétravaillés pouvant être porté jusqu’à 3 jours par semaine sur accord du manager.\"\n",
      "* \"Les règles en vigueur au sein de l’entreprise en matière de temps de travail, de repos obligatoire, de déconnexion (Cf. Chapitre 6 du présent accord) et plages communes de travail définies au niveau du service demeurent applicables aux télétravailleurs. Afin de préserver à la fois les temps de repos du salarié en télétravail et le travail en équipe, il est demandé au télétravailleur de rester joignable pendant ses heures habituelles de travail, lesquelles doivent couvrir à minima les plages communes de travail et s’inscrire dans la limite des heures d’ouverture et de fermeture définies au sein de chaque site, services, entités.\"\n",
      "\n",
      "Ma réponse :\n",
      "nombrejourdeteletravailmaxparsemaine=3\n",
      "\n",
      "Mon raisonnement :\n",
      "Le premier paragraphe indique clairement qu'un nombre de jours télétravaillés pouvant être porté jusqu'à 3 jours par semaine sur accord du manager. Par conséquent, la limite haute de jours de télétravail par semaine est de 3.\n",
      "\n",
      "110 T03821006956\n"
     ]
    },
    {
     "name": "stderr",
     "output_type": "stream",
     "text": [
      "Setting `pad_token_id` to `eos_token_id`:2 for open-end generation.\n"
     ]
    },
    {
     "name": "stdout",
     "output_type": "stream",
     "text": [
      "Q_TTSEM_NOMBRE:\n",
      "Mon extraction de deux paragraphes max pertinents provenant du document à analyser qui répondent à la question :\n",
      "\n",
      "* \"Le télétravail pour le salarié à temps complet ou titulaire d’un forfait annuel 218 jours ne pourra être exercé que pour un maximum de 13 jours (soit 26 demi-journées) par trimestre civil dans la limite de 1 jour (soit 2 demi-journées) par semaine de 5 jours travaillés, non reportables, soit une enveloppe de 52 jours (soit 104 demi-journées) par année civile.\"\n",
      "\n",
      "Ma réponse :\n",
      "\n",
      "* nombrejourdeteletravailmaxparsemaine = 1\n",
      "\n",
      "Mon raisonnement :\n",
      "\n",
      "* Le paragraphe contient une information explicite sur le nombre de jours de télétravail par semaine, qui est de 1 jour.\n",
      "\n",
      "111 T05621003461\n"
     ]
    },
    {
     "name": "stderr",
     "output_type": "stream",
     "text": [
      "Setting `pad_token_id` to `eos_token_id`:2 for open-end generation.\n"
     ]
    },
    {
     "name": "stdout",
     "output_type": "stream",
     "text": [
      "Q_TTSEM_NOMBRE:\n",
      "Extraction de deux paragraphes pertinents provenant du document à analyser :\n",
      "\n",
      "* \"Le télétravail volontaire est limité à 20 jours par an.\" (2.3- Durée minimum et plafond de jours télétravaillés)\n",
      "* \"Le télétravail s’exerce dans les mêmes conditions et horaires que le travail au sein des locaux de l’EPCC. Par conséquent, le télétravailleur soumis à l’horaire collectif, doit être joignable sur les plages horaires suivantes, selon les besoins du service : 9h à 12h30, 14h à 17h30.\" (2.4- Durée et aménagement du télétravail)\n",
      "\n",
      "Ma réponse :\n",
      "nombrejourdeteletravailmaxparsemaine=0\n",
      "\n",
      "Mon raisonnement :\n",
      "Le document ne fournit pas d'informations explicites sur le nombre de jours de télétravail par semaine, à l'exception de la limite globale de 20 jours par an. Par conséquent, je ne peux pas attribuer une valeur supérieure à 0 à la variable nombrejourdeteletravailmaxparsemaine.\n",
      "\n",
      "112 T07521029829\n"
     ]
    },
    {
     "name": "stderr",
     "output_type": "stream",
     "text": [
      "Setting `pad_token_id` to `eos_token_id`:2 for open-end generation.\n"
     ]
    },
    {
     "name": "stdout",
     "output_type": "stream",
     "text": [
      "Q_TTSEM_NOMBRE:Extraction de deux paragraphes pertinents provenant du document à analyser :\n",
      "\n",
      "* \"Le télétravail fixe et régulier qui s’organise dans un cadre hebdomadaire à raison de 1 à 2 jours maximum par semaine, fixé(s) en concertation avec le manager\"\n",
      "* \"Le télétravail fixe et régulier ne peut se faire que par journée entière. En tout état de cause, l’exercice du télétravail ne peut conduire à une présence sur site inférieure à trois jours par semaine de présence sur le lieu de travail quel que soit le temps de travail hebdomadaire réalisé.\"\n",
      "\n",
      "Ma réponse :\n",
      "nombrejourdeteletravailmaxparsemaine=2\n",
      "\n",
      "Mon raisonnement :\n",
      "Le premier paragraphe indique que le télétravail fixe et régulier s'organise dans un cadre hebdomadaire à raison de 1 à 2 jours maximum par semaine. Par conséquent, le nombre maximum de jours de télétravail par semaine est de 2.\n",
      "\n",
      "113 T06921015778\n"
     ]
    },
    {
     "name": "stderr",
     "output_type": "stream",
     "text": [
      "Setting `pad_token_id` to `eos_token_id`:2 for open-end generation.\n"
     ]
    },
    {
     "name": "stdout",
     "output_type": "stream",
     "text": [
      "Q_TTSEM_NOMBRE:\n",
      "Extraction de deux paragraphes pertinents provenant du document à analyser :\n",
      "\n",
      "* \"Le télétravail peut être mis en œuvre, par journée entière de travail, dans la limite de 3 jours par semaine et de façon régulière.\" (Article 3)\n",
      "* \"Un jour commun au bureau chaque semaine par service ou équipe est fixé par le manager.\" (Article 3)\n",
      "\n",
      "Ma réponse :\n",
      "nombrejourdeteletravailmaxparsemaine=3\n",
      "\n",
      "Mon raisonnement :\n",
      "Le document mentionne explicitement que le télétravail peut être mis en œuvre dans la limite de 3 jours par semaine et de façon régulière. Cette information est confirmée dans l'article 3 du document. Par conséquent, le nombre maximal de jours de télétravail par semaine est de 3.\n",
      "\n",
      "114 T09221025319\n"
     ]
    },
    {
     "name": "stderr",
     "output_type": "stream",
     "text": [
      "Setting `pad_token_id` to `eos_token_id`:2 for open-end generation.\n"
     ]
    },
    {
     "name": "stdout",
     "output_type": "stream",
     "text": [
      "Q_TTSEM_NOMBRE:Extraction de deux paragraphes pertinents provenant du document à analyser :\n",
      "\n",
      "* Article 6 : « Afin d’éviter l’isolement des salariés, de conserver les interactions avec les autres services et afin de conserver un fonctionnement collectif, le télétravail sera de la responsabilité du manager et ne pourrait couvrir une semaine entière à savoir 5 jours. Ainsi que le salarié travaillant à temps plein ou à temps partiel, il devra être présent sur son lieu habituel de travail en fonction des obligations liées à sa fonction ou celles du service et au moins 1 jours par semaine. »\n",
      "* Article 1 : « L’accord est applicable à tous les salariés de la société qui remplissent les critères d’éligibilité visés à l’article 3. »\n",
      "\n",
      "Ma réponse :\n",
      "nombrejourdeteletravailmaxparsemaine=1\n",
      "\n",
      "Mon raisonnement :\n",
      "Le document mentionne explicitement qu'un salarié doit être présent sur son lieu de travail au moins 1 jour par semaine, même s'il travaille en télétravail. Par conséquent, le nombre maximal de jours de télétravail par semaine est de 1 jour.\n",
      "\n",
      "115 T09321006380\n"
     ]
    },
    {
     "name": "stderr",
     "output_type": "stream",
     "text": [
      "Setting `pad_token_id` to `eos_token_id`:2 for open-end generation.\n"
     ]
    },
    {
     "name": "stdout",
     "output_type": "stream",
     "text": [
      "Q_TTSEM_NOMBRE:Extraction de deux paragraphes pertinents provenant du document à analyser :\n",
      "\n",
      "* \"Ce plafond de deux jours par semaine constitue un maximum qui ne pourra être dépassé par les accords d’entreprise ou chartes de télétravail des entreprises du Groupe.\"\n",
      "* \"Dans ce cadre, et sous réserve d’être précisé dans l’accord d’entreprise ou la charte de télétravail de l’entreprise du Groupe, les salariés de l’entreprise éligibles au télétravail pourront disposer d’un compteur de journées de télétravail « volantes » dans la limite de 10 jours par an, prorata temporis.\"\n",
      "\n",
      "Ma réponse :\n",
      "nombrejourdeteletravailmaxparsemaine=2\n",
      "\n",
      "Mon raisonnement :\n",
      "Le document mentionne explicitement que le plafond de deux jours par semaine ne peut être dépassé par les accords d’entreprise ou chartes de télétravail des entreprises du Groupe. De plus, il n’y a pas d’autres mentions de fréquence par semaine concernant le nombre de jours de télétravail autorisé. Par conséquent, la variable nombrejourdeteletravailmaxparsemaine est affectée à la valeur 2.\n",
      "\n",
      "116 T09221025943\n"
     ]
    },
    {
     "name": "stderr",
     "output_type": "stream",
     "text": [
      "Setting `pad_token_id` to `eos_token_id`:2 for open-end generation.\n",
      "Created a chunk of size 7288, which is longer than the specified 5000\n",
      "Created a chunk of size 7924, which is longer than the specified 5000\n",
      "Created a chunk of size 6525, which is longer than the specified 5000\n"
     ]
    },
    {
     "name": "stdout",
     "output_type": "stream",
     "text": [
      "Q_TTSEM_NOMBRE:Mon extraction de deux paragraphes max pertinents provenant du document à analyser qui répondent à la question :\n",
      "\n",
      "* \"De 1 à 3 jours fixes par semaine pour tous les collaborateurs de l’entreprise\"\n",
      "* \"De 1 à 3 jours flottants par semaine\"\n",
      "\n",
      "Ma réponse :\n",
      "nombrejourdeteletravailmaxparsemaine=3\n",
      "\n",
      "Mon raisonnement :\n",
      "Le document mentionne explicitement le nombre de jours de télétravail possibles par semaine, qui est de 1 à 3 jours fixes ou flottants par semaine. Par conséquent, je peux affecter la valeur maximale de 3 à la variable nombrejourdeteletravailmaxparsemaine.\n",
      "\n",
      "117 T09221023411\n"
     ]
    },
    {
     "name": "stderr",
     "output_type": "stream",
     "text": [
      "Setting `pad_token_id` to `eos_token_id`:2 for open-end generation.\n"
     ]
    },
    {
     "name": "stdout",
     "output_type": "stream",
     "text": [
      "Q_TTSEM_NOMBRE:Extraction de deux paragraphes pertinents provenant du document à analyser :\n",
      "\n",
      "* \"Le télétravail ne pourra être exercé que dans la limite de 75% du temps de travail effectif mensuel (en jours)\"\n",
      "* \"Un minima de 4 jours mensuels de présence sur site devra être mis en œuvre.\"\n",
      "\n",
      "Ma réponse :\n",
      "nombrejourdeteletravailmaxparsemaine=3\n",
      "\n",
      "Mon raisonnement :\n",
      "Le télétravail ne peut être exercé que dans la limite de 75% du temps de travail effectif mensuel, ce qui représente 3 jours par semaine (car 75% de 5 jours de travail par semaine). Cependant, il y a un minima de 4 jours mensuels de présence sur site, ce qui signifie que le nombre maximal de jours de télétravail par semaine est de 1 jour. Cependant, le document ne précise pas si ce jour de présence sur site doit être consécutif aux jours de télétravail ou s'il peut être réparti différemment sur le mois. Par conséquent, je ne peux pas exclure la possibilité que les 3 jours de télétravail soient concentrés sur une seule semaine, avec 4 jours de présence sur site les autres semaines.\n",
      "\n",
      "118 T09121006130\n"
     ]
    },
    {
     "name": "stderr",
     "output_type": "stream",
     "text": [
      "Setting `pad_token_id` to `eos_token_id`:2 for open-end generation.\n"
     ]
    },
    {
     "name": "stdout",
     "output_type": "stream",
     "text": [
      "Q_TTSEM_NOMBRE:\n",
      "Extraction pertinente du document :\n",
      "\n",
      "* \"Il sera désormais possible d’effectuer du télétravail à raison de DEUX jours par semaine\"\n",
      "* \"afin de préserver le lien social avec l’entreprise, la cohésion et le bon fonctionnement des équipes, le télétravail est organisé de telle sorte que le salarié à temps plein soit présent dans l’entreprise au moins 3 jours par semaine.\"\n",
      "\n",
      "Ma réponse :\n",
      "nombrejourdeteletravailmaxparsemaine=2\n",
      "\n",
      "Mon raisonnement :\n",
      "Le document mentionne explicitement que le télétravail est possible à raison de deux jours par semaine. Cette information est claire et ne nécessite pas de calcul ou d'interprétation supplémentaire. La deuxième phrase indique que les salariés doivent être présents dans l'entreprise au moins trois jours par semaine, ce qui implique que le télétravail ne peut excéder deux jours par semaine.\n",
      "\n",
      "119 T09221023603\n"
     ]
    },
    {
     "name": "stderr",
     "output_type": "stream",
     "text": [
      "Setting `pad_token_id` to `eos_token_id`:2 for open-end generation.\n"
     ]
    },
    {
     "name": "stdout",
     "output_type": "stream",
     "text": [
      "Q_TTSEM_NOMBRE:Extraction de deux paragraphes pertinents provenant du document à analyser :\n",
      "\n",
      "* \"Le télétravail régulier s’effectue à raison de deux  jours par semaine maximum\"\n",
      "* \"Le salarié en télétravail devra également être présent physiquement dans les locaux de l’entreprise 3 jours minimum par semaine.\"\n",
      "\n",
      "Ma réponse :\n",
      "nombrejourdeteletravailmaxparsemaine=2\n",
      "\n",
      "Mon raisonnement :\n",
      "Le document mentionne explicitement que le télétravail régulier s’effectue à raison de deux jours par semaine maximum. Il n'y a pas d'autres mentions explicites du nombre de jour de télétravail par semaine dans le document.\n",
      "\n",
      "120 T01321011053\n"
     ]
    },
    {
     "name": "stderr",
     "output_type": "stream",
     "text": [
      "Setting `pad_token_id` to `eos_token_id`:2 for open-end generation.\n",
      "Created a chunk of size 8959, which is longer than the specified 5000\n"
     ]
    },
    {
     "name": "stdout",
     "output_type": "stream",
     "text": [
      "Q_TTSEM_NOMBRE:\n",
      "Extraction pertinente du document :\n",
      "\n",
      "* \"Le temps de présence dans les locaux devra être au minimum de 4 jours ouvrés par semaine afin de prévenir tout risque d’isolement. Le nombre de jours de télétravail est donc limité à un jour par semaine.\"\n",
      "* \"Le temps de présence dans les locaux devra être au minimum de 3 jours ouvrés par semaine afin de prévenir tout risque d’isolement. Le nombre de jours télétravaillés est donc limité à deux jours par semaine.\"\n",
      "\n",
      "Ma réponse :\n",
      "nombrejourdeteletravailmaxparsemaine=1\n",
      "\n",
      "Mon raisonnement :\n",
      "Le document mentionne explicitement le nombre de jours de télétravail par semaine pour chaque catégorie de personnel. Pour le personnel non-cadre, le nombre de jours de télétravail par semaine est limité à un jour, tandis que pour le personnel cadre, le nombre de jours de télétravail par semaine est limité à deux jours. Par conséquent, je retourne la valeur maximale de 1 jour de télétravail par semaine pour le personnel non-cadre, conformément aux instructions données.\n",
      "\n",
      "121 T09221026634\n"
     ]
    },
    {
     "name": "stderr",
     "output_type": "stream",
     "text": [
      "Setting `pad_token_id` to `eos_token_id`:2 for open-end generation.\n"
     ]
    },
    {
     "name": "stdout",
     "output_type": "stream",
     "text": [
      "Q_TTSEM_NOMBRE:\n",
      "Extrait pertinent du document :\n",
      "\"L’organisation alternative de l’activité domicile / entreprise se fait sur la base de deux (2) jours ouvrés par semaine, du mardi au vendredi pour les salariés à plein temps et les salariés à temps partiel ou à forfait jours réduit travaillant au moins à 80%.\"\n",
      "\n",
      "Ma réponse :\n",
      "nombrejourdeteletravailmaxparsemaine=2\n",
      "\n",
      "Mon raisonnement :\n",
      "Le document mentionne explicitement que l'organisation alternative de l'activité entre le domicile et l'entreprise se fait sur la base de deux jours ouvrés par semaine. Par conséquent, le nombre maximal de jours de télétravail par semaine est de 2.\n",
      "\n",
      "122 T09321007118\n"
     ]
    },
    {
     "name": "stderr",
     "output_type": "stream",
     "text": [
      "Setting `pad_token_id` to `eos_token_id`:2 for open-end generation.\n"
     ]
    },
    {
     "name": "stdout",
     "output_type": "stream",
     "text": [
      "Q_TTSEM_NOMBRE:Mon extraction de deux paragraphes max pertinents provenant du document à analyser qui répondent à la question :\n",
      "\n",
      "* \"Pour prendre en charge une partie des frais engendrés par le télétravail (électricité, chauffage, etc..), une prime mensuelle sera versée sur 11 mois, aux salariés-es concerné-es dont le montant est fonction du nombre de jours de télétravail par semaine.\"\n",
      "* \"Les salarié-es qui auront recours au télétravail 3 fois et plus par semaine bénéficieront d’une prime de 15 (quinze) €uros bruts mensuels.\"\n",
      "\n",
      "Ma réponse :\n",
      "nombrejourdeteletravailmaxparsemaine=3\n",
      "\n",
      "Mon raisonnement :\n",
      "Le document mentionne que les salariés qui ont recours au télétravail 3 fois et plus par semaine bénéficient d'une prime de 15 euros bruts mensuels. Par conséquent, le nombre maximal de jours de télétravail par semaine est de 3.\n",
      "\n",
      "123 T06421003693\n"
     ]
    },
    {
     "name": "stderr",
     "output_type": "stream",
     "text": [
      "Setting `pad_token_id` to `eos_token_id`:2 for open-end generation.\n"
     ]
    },
    {
     "name": "stdout",
     "output_type": "stream",
     "text": [
      "Q_TTSEM_NOMBRE:Extraction de deux paragraphes pertinents provenant du document à analyser qui répondent à la question :\n",
      "\n",
      "* \"Le nombre de jours télétravaillés prévus par le formulaire de demande de télétravail est d’un ou deux jours entier(s) maximum par semaine.\" (Document(page_content='3.3 Formulaire de demande de télétravail\\n\\nLe formulaire comporte les conditions générales de télétravail et formalise son acceptation.\\nIl précise notamment\\xa0: \\nLe rattachement hiérarchique\\nLe(s) lieu(x) d’exercice du télétravail\\nLe(s) jour(s) télétravaillé(s)\\nLes plages prévues à l’article 6.3\\nLes modalités d’évaluation de la charge de travail\\nLes modalités de compte-rendu et de liaison avec l’entreprise\\nLes équipements fournis pour le télétravail et leurs règles d’utilisation\\nLes dispositions légales et propres à l’entreprise relatives à la protection des données et à leur confidentialité\\nLa période d’adaptation\\nLes conditions de réversibilité\\n\\nLa demande de télétravail prend effet au 1er jour du mois civil suivant l’acceptation (matérialisée par la signature du formulaire par le salarié et son chef de département ou de service) pour une durée d’un an, exclusion faite des cas prévus aux articles 4.1 (période d’adaptation) et 4.2 (réversibilité), renouvelable par tacite reconduction.\\n\\n\\nArticle 4. Période d’adaptation et de réversibilité\\n\\n4.1 Période d’adaptation \\n\\nPendant une durée de 3 mois d’exercice alterné de l’activité professionnelle entre les locaux de l’entreprise et de télétravail régulier, l’entreprise comme le salarié, peut, à tout moment, mettre fin au télétravail.\\n\\nLa fin du télétravail est notifiée par écrit en respectant un délai de prévenance de 14 jours calendaires.\\n\\nL’objectif de cette période est que le salarié et son responsable hiérarchique puissent vérifier le bon fonctionnement, notamment technique et organisationnel, du télétravail.\\n\\n4.2 Réversibilité \\n\\nAu-delà de la période d’adaptation prévue à l’article 4.1, la réversibilité définitive est également possible à l’initiative soit de la hiérarchie, soit du salarié. \\n\\nCette réversibilité d’un commun accord est formalisée par écrit.\\n\\nLes conditions générales de télétravail prévoient que le télétravail prend fin si\\xa0: \\nLe salarié en télétravail change de poste sauf demande de poursuite du télétravail formulée par le salarié avant ce changement et acceptée par la nouvelle hiérarchie\\nUne modification substantielle intervient dans l’organisation du service ou des circonstances particulières liées à l’activité du service (et s’inscrivant dans la durée) exigent le retour du salarié dans les locaux de l’entreprise\\nLes règles de protection des données et de confidentialité ne sont pas respectées\\nDes circonstances particulières imprévisibles affectent la situation personnelle du télétravailleur ne lui permettant plus le télétravail dans les conditions prévue par le présent accord (la demande de mettre un terme au télétravail émanant dans ce cas exclusivement du salarié) \\n\\n\\nArticle 5. Reconduction tacite\\n\\n\\nAu terme de la période d’un an initialement prévue dans le formulaire de demande de télétravail du salarié, l’exercice du télétravail se poursuit\n",
      "\n",
      "124 T59L21011687\n"
     ]
    },
    {
     "name": "stderr",
     "output_type": "stream",
     "text": [
      "Setting `pad_token_id` to `eos_token_id`:2 for open-end generation.\n"
     ]
    },
    {
     "name": "stdout",
     "output_type": "stream",
     "text": [
      "Q_TTSEM_NOMBRE:Mon extraction de paragraphes pertinents provenant du document à analyser :\n",
      "\n",
      "\"5.1. Catégorie 1: Pour les collaborateurs du siège et des fonctions supports\n",
      "Le rythme de télétravail sera au minimum de 1 jour toutes les 2 semaines et ne pourra excéder 1 jour par semaine pour les collaborateurs concernés.\"\n",
      "\n",
      "Ma réponse :\n",
      "nombrejourdeteletravailmaxparsemaine=1\n",
      "\n",
      "Mon raisonnement :\n",
      "Le document mentionne explicitement le nombre de jours de télétravail par semaine pour la catégorie 1 de personnel, qui est de 1 jour par semaine.\n",
      "\n",
      "125 T07721005504\n"
     ]
    },
    {
     "name": "stderr",
     "output_type": "stream",
     "text": [
      "Setting `pad_token_id` to `eos_token_id`:2 for open-end generation.\n"
     ]
    },
    {
     "name": "stdout",
     "output_type": "stream",
     "text": [
      "Q_TTSEM_NOMBRE:Two relevant paragraphs from the document are:\n",
      "\n",
      "* \"Un accord relatif à la mise en place du télétravail a été signé au sein de la société le 17 janvier 2020. Cet accord a ouvert la possibilité aux salariés éligibles d’effectuer un jour par semaine de télétravail formalisé par un avenant au contrat de travail.\"\n",
      "* \"Les parties entendent modifier l’accord initial en supprimant le pré requis d’avoir un téléphone professionnel, nécessaire pour être éligible au télétravail. Cette suppression permet d’élargir la liste des salariés éligibles au télétravail.\"\n",
      "\n",
      "My response is:\n",
      "nombrejourdeteletravailmaxparsemaine=1\n",
      "\n",
      "My reasoning is that the document states that an agreement was signed allowing eligible employees to telework one day per week. Therefore, the maximum number of days an employee can telework regularly per week is 1.\n",
      "\n",
      "126 T09221024480\n"
     ]
    },
    {
     "name": "stderr",
     "output_type": "stream",
     "text": [
      "Setting `pad_token_id` to `eos_token_id`:2 for open-end generation.\n"
     ]
    },
    {
     "name": "stdout",
     "output_type": "stream",
     "text": [
      "Q_TTSEM_NOMBRE:Extraction de deux paragraphes pertinents provenant du document à analyser :\n",
      "\n",
      "* \"Le nombre de jour de télétravail autorisés passe de 4 jours par mois à 2 jours par semaine, pour tous les collaborateurs DFA, selon les mêmes conditions que celles prévues dans l’accord télétravail signé le 17 septembre 2020 (hors période de type pandémie)\"\n",
      "* \"Il est rappelé que les jours de télétravail ne peuvent pas donner droit à l’obtention d’indemnités de transport, ni de tickets restaurants, ni à l’indemnisation d’autres frais type électricité/forfait internet pour les salariés concernés.\"\n",
      "\n",
      "Ma réponse :\n",
      "nombrejourdeteletravailmaxparsemaine=2\n",
      "\n",
      "Mon raisonnement :\n",
      "Le paragraphe pertinent indique clairement que le nombre de jours de télétravail autorisés passe de 4 jours par mois à 2 jours par semaine. Cette information est explicite et ne nécessite pas de calcul de proratisation ou de supposition. De plus, il n'y a pas de mention de jour de présence minimum sur site, donc la limite haute de 5 jours de télétravail par semaine n'est pas atteinte.\n",
      "\n",
      "127 T02621002990\n"
     ]
    },
    {
     "name": "stderr",
     "output_type": "stream",
     "text": [
      "Setting `pad_token_id` to `eos_token_id`:2 for open-end generation.\n"
     ]
    },
    {
     "name": "stdout",
     "output_type": "stream",
     "text": [
      "Q_TTSEM_NOMBRE:Extraction de deux paragraphes pertinents provenant du document à analyser :\n",
      "\n",
      "* \"Les parties conviennent d’un maximum de 2 jours par semaine.\" (Article 4)\n",
      "* \"Il n’y a pas de lien entre l’effectif d’un service et le nombre de jour de télétravail, donc ne pas déduire un nombre de jour de télétravail!\" (Instructions)\n",
      "\n",
      "Ma réponse :\n",
      "nombrejourdeteletravailmaxparsemaine=2\n",
      "\n",
      "Mon raisonnement :\n",
      "Le document mentionne explicitement que le nombre maximal de jours de télétravail par semaine est de 2 jours. Cette information est confirmée dans les instructions qui précisent qu'il ne faut pas déduire un nombre de jour de télétravail en se basant sur l'effectif d'un service.\n",
      "\n",
      "128 T05121003268\n"
     ]
    },
    {
     "name": "stderr",
     "output_type": "stream",
     "text": [
      "Setting `pad_token_id` to `eos_token_id`:2 for open-end generation.\n"
     ]
    },
    {
     "name": "stdout",
     "output_type": "stream",
     "text": [
      "Q_TTSEM_NOMBRE:Extraction de paragraphes pertinents :\n",
      "\n",
      "* \"Afin de maintenir le lien social, la cohésion et le bon fonctionnement des équipes, le salarié télétravailleur à temps plein devra disposer d'au moins 12 jours de présence par an dans les locaux de l’entreprise à Reims ou dans tout autre endroit où peut être organisée une réunion, une manifestation auxquelles participent d’autres salariés et le salarié télétravailleur à temps partiel de 7 jours de présence minimum.\"\n",
      "* \"Le télétravail ne doit pas être un élément qui modifie à la hausse, ou à la baisse, les missions et activités habituelles du salarié, ses objectifs, son nombre d’heures de travail ou encore sa charge.\"\n",
      "\n",
      "Ma réponse :\n",
      "nombrejourdeteletravailmaxparsemaine=0\n",
      "\n",
      "Mon raisonnement :\n",
      "Après avoir analysé les paragraphes pertinents, je n'ai pas trouvé de mention explicite du nombre de jours de télétravail par semaine. Par conséquent, en appliquant les instructions, je retourne la valeur 0 pour la variable nombrejourdeteletravailmaxparsemaine.\n",
      "\n",
      "129 T00821001063\n"
     ]
    },
    {
     "name": "stderr",
     "output_type": "stream",
     "text": [
      "Setting `pad_token_id` to `eos_token_id`:2 for open-end generation.\n"
     ]
    },
    {
     "name": "stdout",
     "output_type": "stream",
     "text": [
      "Q_TTSEM_NOMBRE:Extraction de deux paragraphes pertinents provenant du document à analyser :\n",
      "\n",
      "* \"La Société définit deux types de télétravail habituel Configuration A Le télétravail est limité à 1 jour par semaine.\"\n",
      "* \"Dans le respect de ce principe, et compte tenu des contraintes d’organisation du service, les salariés éligibles au télétravail pourront, en accord avec leur responsable, définir le jour télétravaillé.\"\n",
      "\n",
      "Ma réponse :\n",
      "nombrejourdeteletravailmaxparsemaine=1\n",
      "\n",
      "Mon raisonnement :\n",
      "Le document mentionne explicitement que le télétravail est limité à 1 jour par semaine dans la configuration A. Par conséquent, un employé/travailleur/salarié/collaborateur peut télétravailler régulièrement jusqu'à 1 jour par semaine.\n",
      "\n",
      "130 T04421010989\n"
     ]
    },
    {
     "name": "stderr",
     "output_type": "stream",
     "text": [
      "Setting `pad_token_id` to `eos_token_id`:2 for open-end generation.\n"
     ]
    },
    {
     "name": "stdout",
     "output_type": "stream",
     "text": [
      "Q_TTSEM_NOMBRE:Mon extraction de deux paragraphes max pertinents provenant du document à analyser qui répondent à la question :\n",
      "\n",
      "* \"Un minimum de 3 jours par semaine calendaire au bureau sera observé. Ainsi, entre un et deux jours par semaine de télétravail pourront être mis en place pour un salarié à temps plein.\"\n",
      "* \"Dans certaines situations, une certaine souplesse pourra être accordée pendant la période allant jusqu’à fin août, de l’ordre de jusqu’à 3 jours de télétravail par semaine (mini 2 Jours de présence par semaine au bureau)\"\n",
      "\n",
      "Ma réponse :\n",
      "nombrejourdeteletravailmaxparsemaine=2\n",
      "\n",
      "Mon raisonnement :\n",
      "Le premier paragraphe indique qu'un salarié à temps plein peut effectuer entre un et deux jours de télétravail par semaine. Par conséquent, le nombre maximum de jours de télétravail par semaine est de 2.\n",
      "\n",
      "131 T04221004639\n"
     ]
    },
    {
     "name": "stderr",
     "output_type": "stream",
     "text": [
      "Setting `pad_token_id` to `eos_token_id`:2 for open-end generation.\n"
     ]
    },
    {
     "name": "stdout",
     "output_type": "stream",
     "text": [
      "Q_TTSEM_NOMBRE:Extraction de deux paragraphes pertinents :\n",
      "\n",
      "* \"La mise en place et l’organisation du télétravail en circonstances exceptionnelles telles que la pandémie COVID 19 se feront en concertation entre l’employeur et le CSE en fonction des besoins du service et des souhaits des salariés. Le télétravail s’inscrit dans une relation managériale basée sur la confiance mutuelle. La charge de travail d’un télétravailleur doit être élaborée en amont par le manageur et être équivalente à celle effectuée dans les locaux de l’entreprise.\"\n",
      "* \"Les horaires de télétravail sont fixés conformément aux horaires appliqués en entreprise, temps de pause compris.\"\n",
      "\n",
      "Ma réponse :\n",
      "nombrejourdeteletravailmaxparsemaine=0\n",
      "\n",
      "Mon raisonnement :\n",
      "Il n'y a aucune information explicite sur le nombre de jours de télétravail par semaine dans le document fourni. Les horaires de télétravail sont fixés conformément aux horaires appliqués en entreprise, mais aucune indication de la fréquence de télétravail n'est donnée. Par conséquent, je ne peux pas attribuer de valeur à la variable nombrejourdeteletravailmaxparsemaine, je dois donc la définir comme égale à zéro.\n",
      "\n",
      "132 T09221026760\n"
     ]
    },
    {
     "name": "stderr",
     "output_type": "stream",
     "text": [
      "Setting `pad_token_id` to `eos_token_id`:2 for open-end generation.\n"
     ]
    },
    {
     "name": "stdout",
     "output_type": "stream",
     "text": [
      "Q_TTSEM_NOMBRE:\n",
      "Extraction pertinente du document :\n",
      "\n",
      "* \"L’accord-cadre de Groupe prévoit deux formules de rythme de télétravail possible. Les parties au présent accord retiennent la formule de télétravail suivante pour le personnel dont les postes sont éligibles conformément à l’article 2-1-2 : rythme de télétravail de 2 jours au maximum par semaine et par salarié.\"\n",
      "\n",
      "Ma réponse :\n",
      "nombrejourdeteletravailmaxparsemaine=2\n",
      "\n",
      "Mon raisonnement :\n",
      "Le document indique explicitement que le rythme de télétravail pour les salariés éligibles est de 2 jours maximum par semaine.\n",
      "\n",
      "133 T03321007161\n"
     ]
    },
    {
     "name": "stderr",
     "output_type": "stream",
     "text": [
      "Setting `pad_token_id` to `eos_token_id`:2 for open-end generation.\n"
     ]
    },
    {
     "name": "stdout",
     "output_type": "stream",
     "text": [
      "Q_TTSEM_NOMBRE:Extraction de paragraphes pertinents :\n",
      "\n",
      "* \"Le télétravail régulier à domicile ne pourra être exercé que pour un minimum d’un (1) jour par semaine et un maximum de quatre (4) jours par semaine.\"\n",
      "\n",
      "Ma réponse :\n",
      "nombrejourdeteletravailmaxparsemaine=4\n",
      "\n",
      "Mon raisonnement :\n",
      "Le document spécifie que le télétravail régulier à domicile peut être exercé pour un maximum de quatre (4) jours par semaine. Par conséquent, le nombre maximum de jours de télétravail par semaine est de 4.\n",
      "\n",
      "134 T07521031493\n"
     ]
    },
    {
     "name": "stderr",
     "output_type": "stream",
     "text": [
      "Setting `pad_token_id` to `eos_token_id`:2 for open-end generation.\n"
     ]
    },
    {
     "name": "stdout",
     "output_type": "stream",
     "text": [
      "Q_TTSEM_NOMBRE:Mon extraction de deux paragraphes max pertinents provenant du document à analyser qui répondent à la question :\n",
      "\n",
      "* \"Option 1 - Vous serez en situation de télétravail à raison de deux jours par semaine maximum.\"\n",
      "* \"Soit de 1 ou 2 jours fixes maximum de télétravail par semaine qui seront définis d’un commun accord entre le salarié et son responsable hiérarchique dans le cadre de l’avenant au contrat de travail du salarié qui sera signé.\"\n",
      "\n",
      "Ma réponse :\n",
      "nombrejourdeteletravailmaxparsemaine=2\n",
      "\n",
      "Mon raisonnement :\n",
      "Le premier paragraphe indique clairement que le nombre maximal de jours de télétravail par semaine est de 2. Le deuxième paragraphe ne précise pas de limite maximale, mais il ne mentionne pas non plus de limite supérieure à 2 jours par semaine, donc je dois affecter la valeur maximale de 2 à la variable 'nombrejourdeteletravailmaxparsemaine'.\n",
      "\n",
      "135 T07521028915\n"
     ]
    },
    {
     "name": "stderr",
     "output_type": "stream",
     "text": [
      "Setting `pad_token_id` to `eos_token_id`:2 for open-end generation.\n"
     ]
    },
    {
     "name": "stdout",
     "output_type": "stream",
     "text": [
      "Q_TTSEM_NOMBRE:Extraction de paragraphes pertinents:\n",
      "\n",
      "* \"Le télétravailleur s’engage également à prévoir au sein de son domicile un espace de travail permettant un aménagement de son poste en télétravail et conforme aux règles de sécurité ; disposer d’un matériel ergonomique adapté (fauteuil, bureau, etc...); disposer d’une connexion internet haut débit ; avoir informé sa compagnie d’assurance qu’il exerce une partie de son activité professionnelle en télétravail et qu’il dispose d’une assurance habitation couvrant sa présence pendant le télétravail.\"\n",
      "* \"Le salarié s’engage à assurer la conformité des éléments décrits ci-dessus par la remise à L’APUR d’une déclaration sur l’honneur.\"\n",
      "\n",
      "Ma réponse :\n",
      "nombrejourdeteletravailmaxparsemaine=0\n",
      "\n",
      "Mon raisonnement :\n",
      "Après avoir analysé les paragraphes pertinents du document, je n'ai pas trouvé de mention explicite du nombre de jours de télétravail par semaine. Par conséquent, je ne peux pas affecter de valeur à la variable nombrejourdeteletravailmaxparsemaine, je dois donc la renvoyer à 0.\n",
      "\n",
      "136 T09221025128\n"
     ]
    },
    {
     "name": "stderr",
     "output_type": "stream",
     "text": [
      "Setting `pad_token_id` to `eos_token_id`:2 for open-end generation.\n"
     ]
    },
    {
     "name": "stdout",
     "output_type": "stream",
     "text": [
      "Q_TTSEM_NOMBRE:Extrait pertinent du document :\n",
      "\"Afin de préserver le lien social avec l’entreprise, les salariés éligibles peuvent, avec accord du manager, bénéficier du télétravail dans la limite de xx jours par semaine.\"\n",
      "\n",
      "Ma réponse :\n",
      "nombrejourdeteletravailmaxparsemaine=xx\n",
      "\n",
      "Mon raisonnement :\n",
      "Le document mentionne explicitement le nombre de jours de télétravail par semaine, qui est limité à \"xx\" jours. Cependant, la valeur numérique de \"xx\" n'est pas précisée dans le texte. Par conséquent, je ne peux pas attribuer une valeur numérique spécifique à la variable 'nombrejourdeteletravailmaxparsemaine'.\n",
      "\n",
      "137 T03821007078\n"
     ]
    },
    {
     "name": "stderr",
     "output_type": "stream",
     "text": [
      "Setting `pad_token_id` to `eos_token_id`:2 for open-end generation.\n"
     ]
    },
    {
     "name": "stdout",
     "output_type": "stream",
     "text": [
      "Q_TTSEM_NOMBRE:Extraction de deux paragraphes pertinents provenant du document à analyser :\n",
      "\n",
      "* \"2.4 - Télétravail \\n\\nRAYDIALL a dû s’adapter à la situation sanitaire en 2020 et a mis en place le télétravail généralisé dans ce contexte particulier. \\nAfin d’encadrer cette pratique et en dehors de la situation exceptionnelle actuelle, certains critères d’éligibilités ont été définis pour permettre d’apprécier ce nouveau mode d’organisation du travail. Ainsi, pour effectuer du télétravail occasionnel il faudra remplir les conditions suivantes\\xa0:\"\n",
      "* \"2.6 – CET & Suppléance de fin de semaine\\n\\nSuppléances fin de semaine\\nIl est convenu de ne pas apporter de modification à l’accord en place.\\n\\n    2- CET\\nIl est convenu de ne pas apporter de modifications à l’accord en place.\"\n",
      "\n",
      "Ma réponse :\n",
      "nombrejourdeteletravailmaxparsemaine=0\n",
      "\n",
      "Mon raisonnement :\n",
      "Après avoir lu attentivement les deux paragraphes pertinents, je n'ai pas trouvé de mention explicite du nombre de jours de télétravail par semaine, ni de mention du mot-clé « semaine » ou de toute autre notion de fréquence hebdomadaire concernant le télétravail. Par conséquent, conformément aux instructions, je dois affecter à la variable nombrejourdeteletravailmaxparsemaine la valeur 0.\n",
      "\n",
      "138 T09221024001\n"
     ]
    },
    {
     "name": "stderr",
     "output_type": "stream",
     "text": [
      "Setting `pad_token_id` to `eos_token_id`:2 for open-end generation.\n"
     ]
    },
    {
     "name": "stdout",
     "output_type": "stream",
     "text": [
      "Q_TTSEM_NOMBRE:Extraction de deux paragraphes pertinents provenant du document à analyser :\n",
      "\n",
      "* \"Cette forme de télétravail peut être mise en place pour les collaborateurs qui remplissent les conditions cumulatives suivantes : [...] Disposer d’une capacité d’autonomie et de compétence suffisante dans l’exercice du métier, ce qui implique notamment que l’activité du collaborateur ne nécessite pas un soutien quotidien rapproché de son manager.\"\n",
      "* \"Les jours de télétravail seront validés préalablement par le manager pour assurer le bon fonctionnement du service. Chaque manager veillera à lisser sur la semaine les jours de télétravail de leurs collaborateurs.\"\n",
      "\n",
      "Ma réponse :\n",
      "nombrejourdeteletravailmaxparsemaine=0\n",
      "\n",
      "Mon raisonnement :\n",
      "Le document ne contient aucune information explicite sur le nombre de jours de télétravail par semaine. Par conséquent, je suis dans l'incapacité de fournir une réponse différente de zéro.\n",
      "\n",
      "139 T04121001532\n"
     ]
    },
    {
     "name": "stderr",
     "output_type": "stream",
     "text": [
      "Setting `pad_token_id` to `eos_token_id`:2 for open-end generation.\n"
     ]
    },
    {
     "name": "stdout",
     "output_type": "stream",
     "text": [
      "Q_TTSEM_NOMBRE:\n",
      "Extraction de paragraphes pertinents :\n",
      "\n",
      "* \"Notre volonté est de limiter la circulation et le croisement de personnes en organisant le télétravail dans un esprit collectif. Des travaux ont été menés par chaque manager, en concertation avec ses équipiers, afin de déterminer les activités télétravaillables à 100% et celles qui ne le sont que partiellement. L’objectif étant d’abaisser le taux de présence et de maintenir la qualité des prestations, quel que soit le secteur d’activités. Au regard des résultats de ces travaux, le taux moyen de présence sur site est maintenu à 21% des effectifs (CDI, CDD, Alternants, ESN, hors équipes CRD et Facilit, hors salariés dits « vulnérables » et ceux vivant avec des personnes vulnérables).\"\n",
      "* \"Pour les personnes qui sont en télétravail à 100 % et qui seraient en risque par rapport à leur situation d’isolement, un retour en présentiel est envisageable un jour par semaine lorsqu’ils en expriment le besoin et en accord avec la Direction de CA Titres.\"\n",
      "\n",
      "Ma réponse :\n",
      "nombrejourdeteletravailmaxparsemaine=1\n",
      "\n",
      "Mon raisonnement :\n",
      "Le premier paragraphe ne nous donne pas d'information utile pour répondre à la question. Cependant, le deuxième paragraphe mentionne explicitement que les personnes qui sont en télétravail à 100% peuvent travailler un jour par semaine en présentiel, ce qui implique qu'elles peuvent télétravailler 4 jours par semaine. Comme il n'y a pas d'autres restrictions mentionnées dans le document, nous pouvons conclure que le nombre maximal de jours de télétravail par semaine est de 4.\n",
      "\n",
      "140 T03121008885\n"
     ]
    },
    {
     "name": "stderr",
     "output_type": "stream",
     "text": [
      "Setting `pad_token_id` to `eos_token_id`:2 for open-end generation.\n",
      "Created a chunk of size 11350, which is longer than the specified 5000\n",
      "Created a chunk of size 6156, which is longer than the specified 5000\n",
      "Created a chunk of size 14794, which is longer than the specified 5000\n"
     ]
    },
    {
     "name": "stdout",
     "output_type": "stream",
     "text": [
      "Q_TTSEM_NOMBRE:Extraction de deux paragraphes pertinents provenant du document à analyser :\n",
      "\n",
      "* \"Le télétravail régulier ou occasionnel est effectué au domicile du salarié, lieu de sa résidence habituelle et correspond à l’adresse déclarée par le salarié telle qu’elle figure sur son bulletin de paie.\"\n",
      "* \"Le télétravail régit par le présent accord se différencie des autres formes de télétravail justifié par : -des circonstances exceptionnelles telles que...\"\n",
      "\n",
      "Ma réponse :\n",
      "nombrejourdeteletravailmaxparsemaine=0\n",
      "\n",
      "Mon raisonnement :\n",
      "Après avoir analysé les deux paragraphes pertinents du document, je n'ai pas trouvé de mention explicite du nombre de jours de télétravail par semaine. Par conséquent, je ne peux pas affecter de valeur à la variable nombrejourdeteletravailmaxparsemaine, je dois donc la laisser à sa valeur initiale de 0.\n",
      "\n",
      "141 T09221026110\n"
     ]
    },
    {
     "name": "stderr",
     "output_type": "stream",
     "text": [
      "Setting `pad_token_id` to `eos_token_id`:2 for open-end generation.\n"
     ]
    },
    {
     "name": "stdout",
     "output_type": "stream",
     "text": [
      "Q_TTSEM_NOMBRE:Mon extraction de deux paragraphes max pertinents provenant du document à analyser qui répondent à la question :\n",
      "\n",
      "* \"Un maximum de 2 jours par semaine, et de 2 demi-journées pouvant être cumulées sur une même journée au cours de la même semaine.\"\n",
      "* \"Après accord entre le Manager et le salarié, le nombre de jours de télétravail peut toutefois être étendu à la semaine entière (soit à 5 jours) sur une période de 4 semaines maximum\"\n",
      "\n",
      "Ma réponse :\n",
      "nombrejourdeteletravailmaxparsemaine=3\n",
      "\n",
      "Mon raisonnement :\n",
      "Le document mentionne explicitement un maximum de 2 jours par semaine de télétravail, mais il est aussi mentionné qu'après accord entre le Manager et le salarié, le nombre de jours de télétravail peut être étendu à la semaine entière, soit 5 jours, sur une période de 4 semaines maximum. Comme je ne suis pas capable de déterminer si cette situation est permanente ou non, je dois retourner la valeur maximale trouvée dans le document, qui est de 3 jours de télétravail par semaine.\n",
      "\n",
      "142 T59L21012627\n"
     ]
    },
    {
     "name": "stderr",
     "output_type": "stream",
     "text": [
      "Setting `pad_token_id` to `eos_token_id`:2 for open-end generation.\n"
     ]
    },
    {
     "name": "stdout",
     "output_type": "stream",
     "text": [
      "Q_TTSEM_NOMBRE:\n",
      "Extraction de deux paragraphes pertinents provenant du document à analyser :\n",
      "\n",
      "* \"Il a été conclu jusqu’au 28 février 2021 à raison du risque épidémique.\"\n",
      "* \"Compte tenu de la poursuite des contraintes sanitaires liées au risque épidémique à la date du 31 janvier 2021, la durée de l’accord est prolongée jusqu’au 31 mai 2021\"\n",
      "\n",
      "Ma réponse :\n",
      "\n",
      "nombrejourdeteletravailmaxparsemaine=0\n",
      "\n",
      "Mon raisonnement :\n",
      "\n",
      "Le document ne contient aucune information explicite sur le nombre de jours de télétravail autorisés par semaine. Il est simplement mentionné que l'accord initial était valable jusqu'au 28 février 2021, mais qu'il a été prolongé jusqu'au 31 mai 2021 en raison de la poursuite des contraintes sanitaires liées au risque épidémique. Aucune mention n'est faite d'un nombre maximal de jours de télétravail par semaine, donc je dois affecter la valeur 0 à la variable nombrejourdeteletravailmaxparsemaine.\n",
      "\n",
      "143 T02121003243\n"
     ]
    },
    {
     "name": "stderr",
     "output_type": "stream",
     "text": [
      "Setting `pad_token_id` to `eos_token_id`:2 for open-end generation.\n"
     ]
    },
    {
     "name": "stdout",
     "output_type": "stream",
     "text": [
      "Q_TTSEM_NOMBRE:Extraction de deux paragraphes pertinents provenant du document à analyser :\n",
      "\n",
      "* Paragraphe 1 : \"Le télétravail régulier prend la forme d’un forfait mensuel de jours télétravaillés selon les deux modalités suivantes : 6 jours de télétravail par mois maximum, accessible à tous les salariés éligibles : 8 jours de télétravail par mois maximum, étant précisé que ce forfait n’est accessible qu’aux salariés à temps complet, soit au salarié ETAM dont le temps de travail est de 35 heures hebdomadaires ou au salarié cadre dont le forfait jours est de 206 jours\"\n",
      "* Paragraphe 2 : \"Il n'y a pas de lien entre l'effectif d'un service et le nombre de jour de télétravail, donc ne pas déduire un nombre de jour de télétravail!\"\n",
      "\n",
      "Ma réponse :\n",
      "nombrejourdeteletravailmaxparsemaine=1\n",
      "\n",
      "Mon raisonnement :\n",
      "Le premier paragraphe indique que le télétravail régulier peut être exercé selon un forfait mensuel de jours télétravaillés. Ce forfait est limité à 6 jours par mois, accessible à tous les salariés éligibles. Comme il n'y a pas de mention de la notion de semaine dans le document, je suppose que le nombre de jours de télétravail par semaine est implicitement inclus dans le forfait mensuel. Donc, le maximum de jours de télétravail par semaine est de 6/4 = 1,5 jours. Mais comme il est dit que le nombre de jours de télétravail par semaine ne peut pas être strictement supérieur à cinq, je mets 1 jour comme réponse finale.\n",
      "\n",
      "144 T06221005678\n"
     ]
    },
    {
     "name": "stderr",
     "output_type": "stream",
     "text": [
      "Setting `pad_token_id` to `eos_token_id`:2 for open-end generation.\n"
     ]
    },
    {
     "name": "stdout",
     "output_type": "stream",
     "text": [
      "Q_TTSEM_NOMBRE:Extrait pertinent du document :\n",
      "\"Le rythme régulier du télétravail ne peut pas dépasser 2 jours maximum flottants par semaine.\"\n",
      "\n",
      "Ma réponse :\n",
      "nombrejourdeteletravailmaxparsemaine=2\n",
      "\n",
      "Mon raisonnement :\n",
      "Le document spécifie explicitement que le rythme régulier du télétravail ne peut pas dépasser 2 jours maximum flottants par semaine. Par conséquent, le nombre maximal de jours de télétravail par semaine est de 2.\n",
      "\n",
      "145 T09121006533\n"
     ]
    },
    {
     "name": "stderr",
     "output_type": "stream",
     "text": [
      "Setting `pad_token_id` to `eos_token_id`:2 for open-end generation.\n"
     ]
    },
    {
     "name": "stdout",
     "output_type": "stream",
     "text": [
      "Q_TTSEM_NOMBRE:Extraits pertinents du document :\n",
      "\n",
      "1. \"Il est convenu que l’Entreprise ne mettra pas à disposition de mobilier de bureau.\"\n",
      "2. \"Il s’engage à respecter les durées maximales de travail et durées minimales de repos quotidiennes et hebdomadaires applicables, ainsi que les dispositions applicables au titre du droit à la déconnexion.\"\n",
      "\n",
      "Ma réponse :\n",
      "nombrejourdeteletravailmaxparsemaine=2\n",
      "\n",
      "Mon raisonnement :\n",
      "Le document mentionne explicitement que le télétravailleur doit respecter les durées maximales de travail et les durées minimales de repos quotidiennes et hebdomadaires applicables. Cela implique qu'il y a une limitation du nombre de jours de télétravail par semaine. Bien que le document ne précise pas explicitement le nombre de jours de télétravail par semaine, il mentionne que le télétravailleur doit respecter les durées minimales de repos quotidiennes et hebdomadaires applicables. Par conséquent, nous pouvons déduire qu'il y a une limite au nombre de jours de télétravail par semaine. Comme il n'y a pas d'autres informations dans le document pour préciser ce nombre, je dois affecter la valeur la plus basse du nombre de jours de télétravail maximum par semaine, qui est 2.\n",
      "\n",
      "146 T03721002530\n"
     ]
    },
    {
     "name": "stderr",
     "output_type": "stream",
     "text": [
      "Setting `pad_token_id` to `eos_token_id`:2 for open-end generation.\n"
     ]
    },
    {
     "name": "stdout",
     "output_type": "stream",
     "text": [
      "Q_TTSEM_NOMBRE:Mon extraction de deux paragraphes max pertinents provenant du document à analyser qui répondent à la question :\n",
      "\n",
      "* \"Le collaborateur cadre, en télétravail, pourra organiser sa journée en respectant la réglementation sur le temps de travail et les règles définies dans l’accord OATT en vigueur. [...] Le télétravail est limité de telle sorte que le collaborateur cadre soit présent dans l’entreprise au moins trois jours par semaine.\"\n",
      "* \"Organisation du travail pour les collaborateurs commerciaux \\n\\nEn raison de la particularité du poste de commercial, l’activité s’exerce essentiellement hors des locaux de l’entreprise. Les collaborateurs commerciaux devront être présents sur site au minimum quatre jours par mois.\\xa0\"\n",
      "\n",
      "Ma réponse :\n",
      "nombrejourdeteletravailmaxparsemaine=1\n",
      "\n",
      "Mon raisonnement :\n",
      "Le premier paragraphe indique que les collaborateurs cadres doivent être présents dans l'entreprise au moins trois jours par semaine. Par déduction, ils peuvent télétravailler au maximum 1 jour par semaine. Les autres catégories de travailleurs ne sont pas mentionnées dans le document, donc je ne peux pas répondre pour eux.\n",
      "\n",
      "147 T09321006745\n"
     ]
    },
    {
     "name": "stderr",
     "output_type": "stream",
     "text": [
      "Setting `pad_token_id` to `eos_token_id`:2 for open-end generation.\n"
     ]
    },
    {
     "name": "stdout",
     "output_type": "stream",
     "text": [
      "Q_TTSEM_NOMBRE:Extrait pertinent du document :\n",
      "\"Il a été convenu, par le présent accord, d’augmenter le nombre de jours de travail à **deux jours par semaine** permettant aux salariés concernés de recourir au télétravail en application des dispositions et du régime prévu dans l’accord du 7 décembre 2016 relatif à la mise en place du télétravail applicable au sein de l’entreprise.\"\n",
      "\n",
      "Ma réponse :\n",
      "nombrejourdeteletravailmaxparsemaine=2\n",
      "\n",
      "Mon raisonnement :\n",
      "Le document mentionne explicitement que les salariés peuvent télétravailler \"deux jours par semaine\". Cette information est claire et ne nécessite pas de calcul ou d'hypothèse supplémentaire.\n",
      "\n",
      "148 T09221026132\n"
     ]
    },
    {
     "name": "stderr",
     "output_type": "stream",
     "text": [
      "Setting `pad_token_id` to `eos_token_id`:2 for open-end generation.\n"
     ]
    },
    {
     "name": "stdout",
     "output_type": "stream",
     "text": [
      "Q_TTSEM_NOMBRE:Extraction de deux paragraphes pertinents provenant du document à analyser :\n",
      "\n",
      "* \"Chapitre 1 - Les temps de déconnexion [...] Lorsqu’une tâche ne peut être réalisée à un autre moment que pendant ces périodes de déconnexion ou en cas de circonstances particulières nées de l’urgence et de l’importance des sujets traités, des exceptions à ce principe pourront être admises.\"\n",
      "* \"Chapitre 2 - Une responsabilité partagée... Cette responsabilité partagée repose sur l’instauration de nouvelles pratiques organisationnelles visant à mieux réguler l’équilibre de nos temps de vie dans un contexte de digitalisation croissante\"\n",
      "\n",
      "Ma réponse :\n",
      "nombrejourdeteletravailmaxparsemaine=0\n",
      "\n",
      "Mon raisonnement :\n",
      "Après avoir analysé les deux paragraphes pertinents du document, je n'ai pas trouvé de mention explicite du nombre de jours de télétravail par semaine. Par conséquent, conformément aux instructions, j'affecte à la variable nombrejourdeteletravailmaxparsemaine la valeur 0.\n",
      "\n"
     ]
    }
   ],
   "source": [
    "import glob\n",
    "PARQUET_FILE_COMPARE=\"Accords/Donnees_Mathilde_Pesenti_TT_Pour_DEE_v2_def.parquet\"\n",
    "for (index,(num_dossier,accord)) in df_init.iterrows():\n",
    "    print(index,num_dossier)\n",
    "    with open(f\"{num_dossier}.txt\",\"w\", encoding=\"utf-8\") as file:\n",
    "        file.write(accord)\n",
    "\n",
    "    loader = TextLoader(f\"{num_dossier}.txt\", encoding='utf8')\n",
    "    docs=loader.load()\n",
    "    \n",
    "    # Chunk text\n",
    "    text_splitter = CharacterTextSplitter(chunk_size=5000, \n",
    "                                          chunk_overlap=100)\n",
    "    chunked_documents = text_splitter.split_documents(docs)\n",
    "    \n",
    "    # Load chunked documents into the FAISS index\n",
    "    db = FAISS.from_documents(chunked_documents, \n",
    "                              HuggingFaceEmbeddings(model_name='sentence-transformers/all-mpnet-base-v2'))\n",
    "    \n",
    "    retriever = db.as_retriever()\n",
    "    \n",
    "    rag_chain = ( \n",
    "     {\"context\": retriever, \"question\": RunnablePassthrough()}\n",
    "        | llm_chain\n",
    "    )\n",
    "    dict_reponse,text=process_model(rag_chain,num_dossier)\n",
    "    with open(f\"{num_dossier}_response.txt\",\"w\", encoding=\"utf-8\") as file:\n",
    "        file.write(text)\n",
    "        print(text)\n",
    "    df2=pd.DataFrame.from_dict(dict_reponse,orient=\"index\")\n",
    "    df2=df2.transpose().rename(columns=VAR_TRANSLATION)\n",
    "    df2.to_csv(f\"{num_dossier}.csv\")\n",
    "    df2.to_parquet(f\"{num_dossier}.parquet\")"
   ]
  },
  {
   "cell_type": "code",
   "execution_count": 134,
   "id": "6bb81953-adb7-4343-b2c1-91cd57bdb7b2",
   "metadata": {},
   "outputs": [
    {
     "name": "stdout",
     "output_type": "stream",
     "text": [
      "global accuracy 0.7152317880794702\n",
      "accuracy on non null value 0.7708333333333334 ; nombre correct : 74 sur 96\n",
      "accuracy on null value 0.6181818181818182 ; nombre correct : 34 sur 55\n"
     ]
    }
   ],
   "source": [
    "data_files=glob.glob('*.parquet')\n",
    "df = pd.concat((pd.read_parquet(f, engine = 'pyarrow') for f in data_files))\n",
    "df=df.set_index(\"num_dossier\")\n",
    "df=df[df.nombre_jours_teletravail_semaine.values!=[None]]\n",
    "df2=pd.read_parquet(f\"{PARQUET_FILE_COMPARE}\")\n",
    "df2=df2[[\"N..Dossier\",\"nombre_jours_teletravail_semaine\"]].set_index(\"N..Dossier\")\n",
    "df_merge=df2.merge(df,how=\"left\",left_index=True, right_index=True)\n",
    "df_merge.nombre_jours_teletravail_semaine_y=df_merge.nombre_jours_teletravail_semaine_y.astype(\"float64\")\n",
    "df_merge=df_merge.fillna(0.0)\n",
    "df_merge[\"diff\"]=(df_merge.nombre_jours_teletravail_semaine_x!=df_merge.nombre_jours_teletravail_semaine_y)\n",
    "print(\"global accuracy\",1-(df_merge[\"diff\"].sum()/df_merge.shape[0]))\n",
    "\n",
    "df_rempli=df_merge[df_merge.nombre_jours_teletravail_semaine_x!=0.0]\n",
    "nb_correct,total =df_rempli.shape[0]-df_rempli[\"diff\"].sum(),df_rempli.shape[0]\n",
    "print(\"accuracy on non null value\",1-(df_rempli[\"diff\"].sum()/df_rempli.shape[0]),f\"; nombre correct : {nb_correct} sur {total}\")\n",
    "\n",
    "df_rempli=df_merge[df_merge.nombre_jours_teletravail_semaine_x==0.0]\n",
    "nb_correct,total =df_rempli.shape[0]-df_rempli[\"diff\"].sum(),df_rempli.shape[0]\n",
    "print(\"accuracy on null value\",1-(df_rempli[\"diff\"].sum()/df_rempli.shape[0]),f\"; nombre correct : {nb_correct} sur {total}\")"
   ]
  },
  {
   "cell_type": "code",
   "execution_count": 135,
   "id": "031b511b-a051-40d3-a7b3-5f833a44a9cd",
   "metadata": {
    "scrolled": true
   },
   "outputs": [
    {
     "data": {
      "text/html": [
       "<div>\n",
       "<style scoped>\n",
       "    .dataframe tbody tr th:only-of-type {\n",
       "        vertical-align: middle;\n",
       "    }\n",
       "\n",
       "    .dataframe tbody tr th {\n",
       "        vertical-align: top;\n",
       "    }\n",
       "\n",
       "    .dataframe thead th {\n",
       "        text-align: right;\n",
       "    }\n",
       "</style>\n",
       "<table border=\"1\" class=\"dataframe\">\n",
       "  <thead>\n",
       "    <tr style=\"text-align: right;\">\n",
       "      <th></th>\n",
       "      <th>nombre_jours_teletravail_semaine_x</th>\n",
       "      <th>nombre_jours_teletravail_semaine_y</th>\n",
       "      <th>diff</th>\n",
       "    </tr>\n",
       "    <tr>\n",
       "      <th>N..Dossier</th>\n",
       "      <th></th>\n",
       "      <th></th>\n",
       "      <th></th>\n",
       "    </tr>\n",
       "  </thead>\n",
       "  <tbody>\n",
       "    <tr>\n",
       "      <th>T00621004760</th>\n",
       "      <td>1.0</td>\n",
       "      <td>0.0</td>\n",
       "      <td>True</td>\n",
       "    </tr>\n",
       "    <tr>\n",
       "      <th>T01321011053</th>\n",
       "      <td>2.0</td>\n",
       "      <td>1.0</td>\n",
       "      <td>True</td>\n",
       "    </tr>\n",
       "    <tr>\n",
       "      <th>T02221003288</th>\n",
       "      <td>2.0</td>\n",
       "      <td>0.0</td>\n",
       "      <td>True</td>\n",
       "    </tr>\n",
       "    <tr>\n",
       "      <th>T03121008885</th>\n",
       "      <td>2.0</td>\n",
       "      <td>0.0</td>\n",
       "      <td>True</td>\n",
       "    </tr>\n",
       "    <tr>\n",
       "      <th>T03321006914</th>\n",
       "      <td>1.0</td>\n",
       "      <td>0.0</td>\n",
       "      <td>True</td>\n",
       "    </tr>\n",
       "    <tr>\n",
       "      <th>T04121001532</th>\n",
       "      <td>5.0</td>\n",
       "      <td>1.0</td>\n",
       "      <td>True</td>\n",
       "    </tr>\n",
       "    <tr>\n",
       "      <th>T04521003587</th>\n",
       "      <td>3.0</td>\n",
       "      <td>0.0</td>\n",
       "      <td>True</td>\n",
       "    </tr>\n",
       "    <tr>\n",
       "      <th>T05121003353</th>\n",
       "      <td>0.5</td>\n",
       "      <td>0.0</td>\n",
       "      <td>True</td>\n",
       "    </tr>\n",
       "    <tr>\n",
       "      <th>T06421003693</th>\n",
       "      <td>2.0</td>\n",
       "      <td>0.0</td>\n",
       "      <td>True</td>\n",
       "    </tr>\n",
       "    <tr>\n",
       "      <th>T06721007237</th>\n",
       "      <td>1.5</td>\n",
       "      <td>2.0</td>\n",
       "      <td>True</td>\n",
       "    </tr>\n",
       "    <tr>\n",
       "      <th>T06721007676</th>\n",
       "      <td>2.0</td>\n",
       "      <td>1.0</td>\n",
       "      <td>True</td>\n",
       "    </tr>\n",
       "    <tr>\n",
       "      <th>T06821004760</th>\n",
       "      <td>2.0</td>\n",
       "      <td>0.0</td>\n",
       "      <td>True</td>\n",
       "    </tr>\n",
       "    <tr>\n",
       "      <th>T07521028203</th>\n",
       "      <td>2.0</td>\n",
       "      <td>1.0</td>\n",
       "      <td>True</td>\n",
       "    </tr>\n",
       "    <tr>\n",
       "      <th>T07521028253</th>\n",
       "      <td>2.0</td>\n",
       "      <td>0.0</td>\n",
       "      <td>True</td>\n",
       "    </tr>\n",
       "    <tr>\n",
       "      <th>T08721002004</th>\n",
       "      <td>2.0</td>\n",
       "      <td>0.0</td>\n",
       "      <td>True</td>\n",
       "    </tr>\n",
       "    <tr>\n",
       "      <th>T09221024001</th>\n",
       "      <td>4.0</td>\n",
       "      <td>0.0</td>\n",
       "      <td>True</td>\n",
       "    </tr>\n",
       "    <tr>\n",
       "      <th>T09221025128</th>\n",
       "      <td>2.0</td>\n",
       "      <td>0.0</td>\n",
       "      <td>True</td>\n",
       "    </tr>\n",
       "    <tr>\n",
       "      <th>T09221025668</th>\n",
       "      <td>2.0</td>\n",
       "      <td>0.0</td>\n",
       "      <td>True</td>\n",
       "    </tr>\n",
       "    <tr>\n",
       "      <th>T09221026193</th>\n",
       "      <td>3.0</td>\n",
       "      <td>1.0</td>\n",
       "      <td>True</td>\n",
       "    </tr>\n",
       "    <tr>\n",
       "      <th>T09221026357</th>\n",
       "      <td>2.0</td>\n",
       "      <td>3.0</td>\n",
       "      <td>True</td>\n",
       "    </tr>\n",
       "    <tr>\n",
       "      <th>T09221026467</th>\n",
       "      <td>2.0</td>\n",
       "      <td>0.0</td>\n",
       "      <td>True</td>\n",
       "    </tr>\n",
       "    <tr>\n",
       "      <th>T59V21001231</th>\n",
       "      <td>1.0</td>\n",
       "      <td>0.0</td>\n",
       "      <td>True</td>\n",
       "    </tr>\n",
       "  </tbody>\n",
       "</table>\n",
       "</div>"
      ],
      "text/plain": [
       "              nombre_jours_teletravail_semaine_x  \\\n",
       "N..Dossier                                         \n",
       "T00621004760                                 1.0   \n",
       "T01321011053                                 2.0   \n",
       "T02221003288                                 2.0   \n",
       "T03121008885                                 2.0   \n",
       "T03321006914                                 1.0   \n",
       "T04121001532                                 5.0   \n",
       "T04521003587                                 3.0   \n",
       "T05121003353                                 0.5   \n",
       "T06421003693                                 2.0   \n",
       "T06721007237                                 1.5   \n",
       "T06721007676                                 2.0   \n",
       "T06821004760                                 2.0   \n",
       "T07521028203                                 2.0   \n",
       "T07521028253                                 2.0   \n",
       "T08721002004                                 2.0   \n",
       "T09221024001                                 4.0   \n",
       "T09221025128                                 2.0   \n",
       "T09221025668                                 2.0   \n",
       "T09221026193                                 3.0   \n",
       "T09221026357                                 2.0   \n",
       "T09221026467                                 2.0   \n",
       "T59V21001231                                 1.0   \n",
       "\n",
       "              nombre_jours_teletravail_semaine_y  diff  \n",
       "N..Dossier                                              \n",
       "T00621004760                                 0.0  True  \n",
       "T01321011053                                 1.0  True  \n",
       "T02221003288                                 0.0  True  \n",
       "T03121008885                                 0.0  True  \n",
       "T03321006914                                 0.0  True  \n",
       "T04121001532                                 1.0  True  \n",
       "T04521003587                                 0.0  True  \n",
       "T05121003353                                 0.0  True  \n",
       "T06421003693                                 0.0  True  \n",
       "T06721007237                                 2.0  True  \n",
       "T06721007676                                 1.0  True  \n",
       "T06821004760                                 0.0  True  \n",
       "T07521028203                                 1.0  True  \n",
       "T07521028253                                 0.0  True  \n",
       "T08721002004                                 0.0  True  \n",
       "T09221024001                                 0.0  True  \n",
       "T09221025128                                 0.0  True  \n",
       "T09221025668                                 0.0  True  \n",
       "T09221026193                                 1.0  True  \n",
       "T09221026357                                 3.0  True  \n",
       "T09221026467                                 0.0  True  \n",
       "T59V21001231                                 0.0  True  "
      ]
     },
     "execution_count": 135,
     "metadata": {},
     "output_type": "execute_result"
    }
   ],
   "source": [
    "df_rempli=df_merge[df_merge.nombre_jours_teletravail_semaine_x!=0.0]\n",
    "df_rempli[df_rempli[\"diff\"]]"
   ]
  }
 ],
 "metadata": {
  "kernelspec": {
   "display_name": "Python 3 (ipykernel)",
   "language": "python",
   "name": "python3"
  },
  "language_info": {
   "codemirror_mode": {
    "name": "ipython",
    "version": 3
   },
   "file_extension": ".py",
   "mimetype": "text/x-python",
   "name": "python",
   "nbconvert_exporter": "python",
   "pygments_lexer": "ipython3",
   "version": "3.10.13"
  }
 },
 "nbformat": 4,
 "nbformat_minor": 5
}
