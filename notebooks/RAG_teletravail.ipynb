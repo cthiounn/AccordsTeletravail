{
 "cells": [
  {
   "cell_type": "code",
   "execution_count": null,
   "id": "64b55acc-0e5c-4d30-8b60-50070eb0307f",
   "metadata": {},
   "outputs": [],
   "source": [
    "# Notebook from https://medium.com/@thakermadhav/build-your-own-rag-with-mistral-7b-and-langchain-97d0c92fa146\n",
    "!pip install -q torch datasets\n",
    "!pip install -q accelerate==0.21.0 \\\n",
    "                peft==0.4.0 \\\n",
    "                bitsandbytes==0.40.2 \\\n",
    "                transformers==4.31.0 \\\n",
    "                trl==0.4.7\n",
    "!pip install -q scipy langchain transformers playwright html2text sentence_transformers faiss-gpu\n",
    "!pip install -q --upgrade git+https://github.com/huggingface/transformers"
   ]
  },
  {
   "cell_type": "code",
   "execution_count": null,
   "id": "f860479f-f9d0-4162-9701-aeb4da44f3eb",
   "metadata": {},
   "outputs": [],
   "source": [
    "!playwright install > /dev/null\n",
    "!playwright install-deps > /dev/null"
   ]
  },
  {
   "cell_type": "code",
   "execution_count": null,
   "id": "3e8eba08-2a0d-43a0-ae6c-79035327b035",
   "metadata": {},
   "outputs": [],
   "source": [
    "!pip install -U tokenizers"
   ]
  },
  {
   "cell_type": "code",
   "execution_count": null,
   "id": "923862f9-6c52-4509-b85f-b464c7ba0cf6",
   "metadata": {},
   "outputs": [],
   "source": [
    "import os\n",
    "import torch\n",
    "from transformers import (\n",
    "  AutoTokenizer, \n",
    "  AutoModelForCausalLM, \n",
    "  BitsAndBytesConfig,\n",
    "  pipeline\n",
    ")\n",
    "\n",
    "from transformers import BitsAndBytesConfig\n",
    "\n",
    "\n",
    "\n",
    "\n",
    "from langchain.prompts import PromptTemplate\n",
    "from langchain.schema.runnable import RunnablePassthrough\n",
    "from langchain.llms import HuggingFacePipeline\n",
    "from langchain.chains import LLMChain\n",
    "\n",
    "\n",
    "#################################################################\n",
    "# Tokenizer\n",
    "#################################################################\n",
    "\n",
    "model_name=\"mistralai/Mistral-7B-Instruct-v0.1\"\n",
    "model_name=\"mistralai/Mixtral-8x7B-Instruct-v0.1\"\n",
    "tokenizer = AutoTokenizer.from_pretrained(model_name, trust_remote_code=True)\n",
    "tokenizer.pad_token = tokenizer.eos_token\n",
    "tokenizer.padding_side = \"right\"\n",
    "\n",
    "#################################################################\n",
    "# bitsandbytes parameters\n",
    "#################################################################\n",
    "\n",
    "# Activate 4-bit precision base model loading\n",
    "use_4bit = True\n",
    "\n",
    "# Compute dtype for 4-bit base models\n",
    "bnb_4bit_compute_dtype = \"float16\"\n",
    "\n",
    "# Quantization type (fp4 or nf4)\n",
    "bnb_4bit_quant_type = \"nf4\"\n",
    "\n",
    "# Activate nested quantization for 4-bit base models (double quantization)\n",
    "use_nested_quant = True\n",
    "\n",
    "#################################################################\n",
    "# Set up quantization config\n",
    "#################################################################\n",
    "compute_dtype = getattr(torch, bnb_4bit_compute_dtype)\n",
    "\n",
    "bnb_config = BitsAndBytesConfig(\n",
    "    load_in_4bit=use_4bit,\n",
    "    bnb_4bit_quant_type=bnb_4bit_quant_type,\n",
    "    bnb_4bit_compute_dtype=compute_dtype,\n",
    "    bnb_4bit_use_double_quant=use_nested_quant,\n",
    ")\n",
    "\n",
    "# Check GPU compatibility with bfloat16\n",
    "if compute_dtype == torch.float16 and use_4bit:\n",
    "    major, _ = torch.cuda.get_device_capability()\n",
    "    if major >= 8:\n",
    "        print(\"=\" * 80)\n",
    "        print(\"Your GPU supports bfloat16: accelerate training with bf16=True\")\n",
    "        print(\"=\" * 80)\n",
    "\n",
    "#################################################################\n",
    "# Load pre-trained config\n",
    "#################################################################\n",
    "model = AutoModelForCausalLM.from_pretrained(\n",
    "    model_name,\n",
    "    quantization_config=bnb_config,\n",
    "    cache_dir=\".\",\n",
    ")\n",
    "#load_in_4bits=True)\n"
   ]
  },
  {
   "cell_type": "code",
   "execution_count": 62,
   "id": "a9778127-0508-4d93-b718-ae8108e884ca",
   "metadata": {},
   "outputs": [],
   "source": [
    "model.config.pad_token_id = tokenizer.pad_token_id\n",
    "\n",
    "text_generation_pipeline = pipeline(\n",
    "    model=model,\n",
    "    tokenizer=tokenizer,\n",
    "    task=\"text-generation\",\n",
    "    temperature=0.2,\n",
    "    repetition_penalty=1.1,\n",
    "    return_full_text=True,\n",
    "    max_new_tokens=1000,\n",
    ")\n",
    "\n",
    "mistral_llm = HuggingFacePipeline(pipeline=text_generation_pipeline)"
   ]
  },
  {
   "cell_type": "code",
   "execution_count": 63,
   "id": "f3fb3129-2b6a-4819-9b68-ad0552cb23b1",
   "metadata": {},
   "outputs": [],
   "source": [
    "import arrow\n",
    "import pandas as pd\n",
    "PARQUET_FILE=\"Accords/echantillon_public_Mathilde.parquet\""
   ]
  },
  {
   "cell_type": "code",
   "execution_count": 64,
   "id": "6f3e9f65-5314-4091-b2eb-cb3592a8b27a",
   "metadata": {},
   "outputs": [],
   "source": [
    "df_init=pd.read_parquet(PARQUET_FILE)"
   ]
  },
  {
   "cell_type": "code",
   "execution_count": 65,
   "id": "065f4c3e-99d2-46ff-b97c-39ba7ffa5433",
   "metadata": {},
   "outputs": [],
   "source": [
    "prompt_template = \"\"\"\n",
    "\n",
    "### [ROLE] Role: Vous êtes un expert juridique des accords d'entreprise sans compétence de programmation informatique, seulement la lecture et la compréhension des textes. Tu ne connais aucun langage de programmation, ni les expressions régulières.\n",
    "\n",
    "\n",
    "### [INST] Instructions: \n",
    "\n",
    "1. Votre travail consiste à peupler et mettre à jour une base des données nécessaires pour réaliser des études économétriques poussées sur le télétravail.\n",
    "        Pour cela, vous devez prendre le texte d'un accord d'entreprise dans le contexte suivant, dans lesquelles figurent les informations à jour que l'on vous fourni, et d'extraire précisément l'information spécifique dont vous avez besoin.\n",
    "        Vous ne devez extraire que le nombre, et uniquement le nombre depuis le document. Le nombre peut être écrit en lettres ou en chiffres. (exemple : deux ou 2 )\n",
    "        Si vous ne trouvez pas la réponse dans le texte du document vous devez le dire et ne pas chercher à en fournir un autre nombre.\n",
    "        Avant de répondre, vérifier que la réponse se trouve bien dans le texte indiqué.\n",
    "        \n",
    "2. Vous devez respecter les règles suivantes : Déconnecter les liens entre les périodicités (semaine, mois, trimestre, année)! Faire comme si les semaines, les mois, les trimestres et les années sont des concepts indépendants : dans un mois, il y a donc 0 semaine ; dans un trimestre, 0 mois et 0 semaine; dans une année, 0 trimestre, 0 mois et 0 semaine !\n",
    "        Ne fais aucune supposition ni d'hypothèses !\n",
    "        Pas de proratisation !\n",
    "        Il n'y a pas de lien entre l'effectif d'un service et le nombre de jour de télétravail, donc ne pas déduire un nombre de jour de télétravail !\n",
    "        S'il y a une mention positive à du télétravail à 100% ou du full-remote, cela signifie que 5 jours de télétravail par semaine sont autorisés !\n",
    "        Trois jours de présence sur site et sans autre mention du nombre de jours de télétravail autorisé =  0 jour de télétravail par semaine, a priori !\n",
    "        Il y a cinq jours ouvrés dans une semaine, donc un nombre de jour de télétravail par semaine ne peut pas être strictement supérieur à cinq.\n",
    "        Si tu donnes un nombre réel, ne donne pas la fraction mais un arrondi !\n",
    "        Si le nombre de jour de télétravail annuel est inférieur à 52, ce nombre de jour de télétravail concerne du télétravail occasionnel. S'il est supérieur ou égal à 52, ce nombre concerne du télétravail régulier.\n",
    "        Si le nombre de jour de télétravail trimestriel est inférieur à 13, ce nombre de jour de télétravail concerne du télétravail occasionnel. S'il est supérieur ou égal à 13, ce nombre concerne du télétravail régulier.\n",
    "        Si le nombre de jour de télétravail mensuelle est inférieur à 4, ce nombre de jour de télétravail concerne du télétravail occasionnel. S'il est supérieur ou égal à 4, ce nombre concerne du télétravail régulier.\n",
    "\n",
    "3. Vous devez structurez votre réponse comme suit :\n",
    "        * Mon extraction de deux paragraphes du document maximum pertinents qui répondent à la question : [ici, ne citez que des extraits du documents, et ne pas citez les règles énoncés précédemment]\n",
    "        * Ma réponse :\n",
    "        * Mon raisonnenement :\n",
    "        \n",
    "### Contexte: \n",
    "{context}\n",
    "\n",
    "### QUESTION:\n",
    "{question} [/INST]\n",
    "\"\"\""
   ]
  },
  {
   "cell_type": "code",
   "execution_count": 66,
   "id": "cd4e7965-223c-49ed-bea1-5c0dd89a6b46",
   "metadata": {},
   "outputs": [],
   "source": [
    "# Create prompt from prompt template \n",
    "prompt = PromptTemplate(\n",
    "    input_variables=[\"context\", \"question\"],\n",
    "    template=prompt_template,\n",
    ")\n",
    "\n",
    "# Create llm chain \n",
    "llm_chain = LLMChain(llm=mistral_llm, prompt=prompt)"
   ]
  },
  {
   "cell_type": "code",
   "execution_count": 67,
   "id": "50bc8e16-8943-4e71-8a43-7342eeae75d5",
   "metadata": {},
   "outputs": [],
   "source": [
    "from langchain.text_splitter import CharacterTextSplitter\n",
    "from langchain.document_transformers import Html2TextTransformer\n",
    "from langchain.document_loaders import AsyncChromiumLoader\n",
    "from langchain.embeddings.huggingface import HuggingFaceEmbeddings\n",
    "from langchain.vectorstores import FAISS\n",
    "from langchain_community.document_loaders import TextLoader\n",
    "import warnings\n",
    "warnings.filterwarnings('ignore')\n",
    "import re\n",
    "def guess_reponse_booleenne(reponse):\n",
    "    reponse_booleenne=None\n",
    "    if reponse[\"text\"].startswith(\"\\nOui\") or reponse[\"text\"].startswith(\"Oui\") :\n",
    "        reponse_booleenne=1\n",
    "    elif reponse[\"text\"].startswith(\"\\nNon\") or reponse[\"text\"].startswith(\"Non\") :\n",
    "        reponse_booleenne=0\n",
    "    return reponse_booleenne\n",
    "\n",
    "def guess_reponse_durée(reponse):\n",
    "    reponse_booleenne=None\n",
    "    if \"indéterminée\" in reponse[\"text\"].lower() :\n",
    "        reponse_booleenne=0\n",
    "    elif \"déterminée\" in reponse[\"text\"].lower():\n",
    "        reponse_booleenne=1\n",
    "    return reponse_booleenne\n",
    "\n",
    "def guess_reponse_nombre(reponse,pattern=\"nombre\"):\n",
    "    reponse_nombre=None\n",
    "    REGEX=rf\".*{pattern} ?= ?(\\d+)\"\n",
    "    numbers=re.findall(REGEX,reponse[\"text\"])\n",
    "    if numbers:\n",
    "        reponse_nombre=numbers[0]\n",
    "    return reponse_nombre"
   ]
  },
  {
   "cell_type": "code",
   "execution_count": 68,
   "id": "738e6397-10db-4fad-9abc-b1780fcbdd89",
   "metadata": {},
   "outputs": [],
   "source": [
    "Q_DUREE=\"S'il est fait mention d'une durée de l'accord, est-ce que l'accord est à durée déterminée ou à durée indéterminée ? déterminée=1 ou indéterminée=0 ou NA?\"\n",
    "Q_REVERS=\"S'il est fait mention d'une clause et d'un article de réversibilité, est-ce que l'accord a une clause ou un article de réversibilité ? Oui=1 ou non=0 ou NA?\"\n",
    "Q_ADAPT=\"S'il est fait mention d'une période d'adaptation, est-ce que l'accord comprend une période d'adaptation ? Oui=1 ou non=0 ou NA?\"\n",
    "Q_TTREG=\"Est-ce qu'au moins un paragraphe mentionne du télétravail régulier ?\"\n",
    "Q_TTOCA=\"Est-ce qu'au moins un paragraphe mentionne du télétravail occasionnel ?\"\n",
    "Q_TTEXC=\"Est-ce qu'au moins un paragraphe mentionne du télétravail exceptionnel ?\"\n",
    "Q_DISPOSPERQTHENCEINTE=\"Est-ce qu'au moins un paragraphe mentionne des dispositifs spéciaux pour les travailleurs en situation de handicap, les femmes enceintes, les séniors ou les personnes présentant des fragilités ou des problèmes de santé ?\"\n",
    "Q_MONTANT_CAVIARDE=\"Est-ce qu'au moins un paragraphe mentionne un nombre sans le donner exactement, mais sous forme illisible ?\"\n",
    "Q_TELETRAVAIL_FLEX_SANS_LIMITE=\"Est-ce qu'au moins un paragraphe suggère une liberté totale dans le choix des jours de télétravail, hormis quelques contraintes de présence ?\"\n",
    "Q_TT_REG_NOMBRE_FORMULE=Q_TTREG+\"Si oui, combien de formules (exemples de formule : si temps plein et temps partiel = 2, si choix entre 1 à 3 jours de télétravail régulier = 3) sont proposées pour du télétravail régulier ? Retourne à la fin 'nombre=max(tes réponses)'\"\n",
    "PERIODICITE={\"MOIS\":\"mois\",\"TRIM\":\"trimestre\",\"ANNEE\":\"année\", \"SEM\":\"semaine\"}\n",
    "PERIODICITE2={\"JOUR\":\"jour\",\"MOIS\":\"mois\",\"TRIM\":\"trimestre\",\"ANNEE\":\"année\", \"SEM\":\"semaine\"}\n",
    "Q_COMPE=\"Est-ce qu'au moins un paragraphe mentionne une indemnité spécialement pour l'achat d'équipements ?\"\n",
    "Q_COMPE_NOMBRE=Q_COMPE+\"Si oui, sélectionne seulement les paragraphes mentionnant une indemnité spécialement pour l'achat d'équipements et s'il existe donne le montant lié de l'indemnité d'équipement. Si oui, retourne à la fin 'nombre=max(ta réponse)'\"\n",
    "Q_EQUIPEMENT=\"Est-ce qu'au moins un paragraphe mentionne un équipement de télétravail fourni ?\"\n",
    "Q_COMPS=\"Est-ce qu'au moins un paragraphe mentionne explicitement une indemnité de sujétion (dans le cas où l'employeur impose le télétravail, ce dernier indemnise l'employé) ?\"\n",
    "Q_COMPS_NOMBRE=Q_COMPS+\"Si oui, sélectionne seulement les paragraphes mentionnant une indemnité de sujétion dans le cas où l'employeur impose le télétravail et s'il existe donne le montant lié de l'indemnité de sujétion dans le cas où l'employeur impose le télétravail. Si oui, retourne à la fin 'nombre=max(ta réponse)'\""
   ]
  },
  {
   "cell_type": "code",
   "execution_count": 69,
   "id": "bf6654b6-813d-40f6-bae7-f3f68ff1c076",
   "metadata": {},
   "outputs": [],
   "source": [
    "def process_model(rag_chain,num_dossier):\n",
    "    dict_reponse=dict()\n",
    "    dict_reponse[\"num_dossier\"]=num_dossier\n",
    "    text=\"\"\n",
    "    reponse= rag_chain.invoke(Q_DISPOSPERQTHENCEINTE)\n",
    "    text+=\"Q_DISPOSPERQTHENCEINTE:\"+reponse[\"text\"] + \"\\n\"\n",
    "    dict_reponse[\"DISPOSPERQTHENCEINTE\"]=guess_reponse_booleenne(reponse)\n",
    "    reponse= rag_chain.invoke(Q_MONTANT_CAVIARDE)\n",
    "    text+=\"Q_MONTANT_CAVIARDE:\"+reponse[\"text\"] + \"\\n\"\n",
    "    dict_reponse[\"MONTANT_CAVIARDE\"]=guess_reponse_booleenne(reponse)\n",
    "    reponse= rag_chain.invoke(Q_TELETRAVAIL_FLEX_SANS_LIMITE)\n",
    "    text+=\"Q_TELETRAVAIL_FLEX_SANS_LIMITE:\"+reponse[\"text\"] + \"\\n\"\n",
    "    dict_reponse[\"TELETRAVAIL_FLEX_SANS_LIMITE\"]=guess_reponse_booleenne(reponse)\n",
    "    reponse= rag_chain.invoke(Q_TT_REG_NOMBRE_FORMULE)\n",
    "    text+=\"Q_TT_REG_NOMBRE_FORMULE:\"+reponse[\"text\"] + \"\\n\"\n",
    "    dict_reponse[\"TT_REG_NOMBRE_FORMULE\"]=guess_reponse_nombre(reponse)\n",
    "    reponse= rag_chain.invoke(Q_DUREE)\n",
    "    text+=\"Q_DUREE:\"+reponse[\"text\"] + \"\\n\"\n",
    "    dict_reponse[\"DUREE\"]=guess_reponse_durée(reponse)\n",
    "    reponse= rag_chain.invoke(Q_REVERS)\n",
    "    text+=\"Q_REVERS:\"+reponse[\"text\"] + \"\\n\"\n",
    "    dict_reponse[\"REVERS\"]=guess_reponse_booleenne(reponse)\n",
    "    reponse= rag_chain.invoke(Q_ADAPT)\n",
    "    text+=\"Q_ADAPT:\"+reponse[\"text\"] + \"\\n\"\n",
    "    dict_reponse[\"ADAPT\"]=guess_reponse_booleenne(reponse)\n",
    "    reponse= rag_chain.invoke(Q_TTREG)\n",
    "    text+=\"Q_TTREG:\"+reponse[\"text\"] + \"\\n\"\n",
    "    dict_reponse[\"TTREG\"]=guess_reponse_booleenne(reponse)\n",
    "    reponse= rag_chain.invoke(Q_TTOCA)\n",
    "    text+=\"Q_TTOCA:\"+reponse[\"text\"] + \"\\n\"\n",
    "    dict_reponse[\"TTOCA\"]=guess_reponse_booleenne(reponse)\n",
    "    reponse= rag_chain.invoke(Q_TTEXC)\n",
    "    text+=\"Q_TTEXC:\"+reponse[\"text\"] + \"\\n\"\n",
    "    dict_reponse[\"TTEXC\"]=guess_reponse_booleenne(reponse)\n",
    "    for (k,v) in PERIODICITE.items():\n",
    "        Q_TT=f\"Hors jours supplémentaires ou exceptionnels, est-ce qu'au moins un paragraphe mentionne un nombre de jour de télétravail maximum autorisé explicitement exprimé par {v} ?\"\n",
    "        reponse= rag_chain.invoke(Q_TT)\n",
    "        text+=f\"Q_TT{k}:\"+reponse[\"text\"] + \"\\n\"\n",
    "        dict_reponse[f\"TT{k}\"]=guess_reponse_booleenne(reponse)\n",
    "        #Q_TT_NOMBRE=f\"Extrait le nombre de jour de télétravail maximum autorisé explicitement exprimé par {v} seulement à partir du texte suivant : {text_reponse}\"\n",
    "        Q_TT_NOMBRE=Q_TT+f\"Si oui, quel est le nombre de jour de télétravail supplémentaires explicitement exprimé et nécessairement et seulement exprimé par {v} pour des dispositions spéciales. Si oui, retourne à la fin 'nombre=max(tes réponses)'\"\n",
    "        reponse= rag_chain.invoke(Q_TT_NOMBRE)\n",
    "        text+=f\"Q_TT{k}_NOMBRE:\"+reponse[\"text\"] + \"\\n\"\n",
    "        dict_reponse[f\"TT{k}_NOMBRE\"]=guess_reponse_nombre(reponse)\n",
    "    for (k,v) in PERIODICITE.items():\n",
    "        Q_TTOCA_PERIOD=f\"Dans le cadre du télétravail occasionnel, est-ce qu'au moins un paragraphe mentionne un nombre de jour de télétravail maximum autorisé explicitement exprimé par {v} ?\"\n",
    "        reponse= rag_chain.invoke(Q_TTOCA_PERIOD)\n",
    "        text+=f\"TTOCA{k}:\"+reponse[\"text\"] + \"\\n\"\n",
    "        dict_reponse[f\"TTOCA{k}\"]=guess_reponse_booleenne(reponse)\n",
    "        Q_TTOCA_NOMBRE=Q_TTOCA_PERIOD+f\"Si oui, quel est le nombre de jour de télétravail occasionnel explicitement exprimé et nécessairement et seulement exprimé par {v}. Si oui, retourne à la fin 'nombre=max(tes réponses)'\"\n",
    "        reponse= rag_chain.invoke(Q_TTOCA_NOMBRE)\n",
    "        text+=f\"Q_TTOCA_{k}_NOMBRE:\"+reponse[\"text\"] + \"\\n\"\n",
    "        dict_reponse[f\"TTOCA_{k}_NOMBRE\"]=guess_reponse_nombre(reponse)\n",
    "    for (k,v) in PERIODICITE.items():\n",
    "        Q_PRESJOUR=f\"Est-ce qu'au moins un paragraphe mentionne un nombre de jour de présence obligatoire sur site minimum explicitement exprimé par {v} ?\"\n",
    "        reponse= rag_chain.invoke(Q_PRESJOUR)\n",
    "        text+=f\"Q_PRESJOUR{k}:\"+reponse[\"text\"] + \"\\n\"\n",
    "        dict_reponse[f\"TTPRESJOUR{k}\"]=guess_reponse_booleenne(reponse)\n",
    "        Q_PRESJOUR_NOMBRE=Q_PRESJOUR+f\"Si oui, sélectionne seulement les paragraphes mentionnant un nombre de jour de présence obligatoire sur site minimum explicitement exprimé par {v} et s'il existe donne le nombre de jour de présence obligatoire sur site minimum explicitement exprimé par {v}. Si oui, retourne à la fin 'nombre=max(tes réponses)'\"\n",
    "        reponse= rag_chain.invoke(Q_PRESJOUR_NOMBRE)\n",
    "        text+=f\"Q_PRESJOUR{k}_NOMBRE:\"+reponse[\"text\"] + \"\\n\"\n",
    "        dict_reponse[f\"PRESJOUR{k}_NOMBRE\"]=guess_reponse_nombre(reponse)\n",
    "    for (k,v) in PERIODICITE2.items():\n",
    "        Q_COMP=f\"Hors indemnité d'équipement, est-ce qu'au moins un paragraphe mentionne une indemnité forfaitaire explicitement exprimée par {v} ?\"\n",
    "        reponse= rag_chain.invoke(Q_COMP)\n",
    "        text+=f\"Q_COMP{k}:\"+reponse[\"text\"] + \"\\n\"\n",
    "        dict_reponse[f\"COMP{k}\"]=guess_reponse_booleenne(reponse)\n",
    "        Q_COMP_NOMBRE=Q_COMP+f\"Si oui, sélectionne en interne seulement les paragraphes mentionnant une indemnité forfaitaire explicitement exprimé par {v}, puis s'il existe donne le montant explicitement exprimé par {v}. Si oui, retourne à la fin 'nombre=max(ta réponse)'\"\n",
    "        reponse= rag_chain.invoke(Q_COMP_NOMBRE)\n",
    "        text+=f\"Q_COMP{k}_NOMBRE:\"+reponse[\"text\"] + \"\\n\"\n",
    "        dict_reponse[f\"COMP{k}_NOMBRE\"]=guess_reponse_nombre(reponse)\n",
    "        if \"MOIS\" in k:\n",
    "            Q_COMP_NOMBRE_BASE=Q_COMP+f\"Si oui, sélectionne en interne seulement les paragraphes mentionnant une indemnité forfaitaire explicitement exprimé par {v}, puis s'il existe plusieurs montants explicitement exprimé par {v}, par nombre de jour. Si oui, retourne à la fin 'nombre=base_mensuelle_pour_un_jour_de_teletravail(ta réponse)'\"\n",
    "            reponse= rag_chain.invoke(Q_COMP_NOMBRE_BASE)\n",
    "            text+=f\"Q_COMP{k}_BASE_NOMBRE:\"+reponse[\"text\"] + \"\\n\"\n",
    "            dict_reponse[f\"COMP{k}_BASE_NOMBRE\"]=guess_reponse_nombre(reponse)\n",
    "    reponse= rag_chain.invoke(Q_COMPE)\n",
    "    text+=\"Q_COMPE:\"+reponse[\"text\"] + \"\\n\"\n",
    "    dict_reponse[\"COMPE\"]=guess_reponse_booleenne(reponse)\n",
    "    reponse= rag_chain.invoke(Q_COMPE_NOMBRE)\n",
    "    text+=\"Q_COMPE_NOMBRE:\"+reponse[\"text\"] + \"\\n\"\n",
    "    dict_reponse[\"COMPE_NOMBRE\"]=guess_reponse_nombre(reponse)\n",
    "    reponse= rag_chain.invoke(Q_EQUIPEMENT)\n",
    "    text+=\"Q_EQUIPEMENT:\"+reponse[\"text\"] + \"\\n\"\n",
    "    dict_reponse[\"EQUIPEMENT\"]=guess_reponse_booleenne(reponse)\n",
    "    reponse= rag_chain.invoke(Q_COMPS)\n",
    "    text+=\"Q_COMPS:\"+reponse[\"text\"] + \"\\n\"\n",
    "    dict_reponse[\"COMPS\"]=guess_reponse_booleenne(reponse)\n",
    "    reponse= rag_chain.invoke(Q_COMPS_NOMBRE)\n",
    "    text+=\"Q_COMPS_NOMBRE:\"+reponse[\"text\"] + \"\\n\"\n",
    "    dict_reponse[\"COMPS_NOMBRE\"]=guess_reponse_nombre(reponse)\n",
    "    return dict_reponse,text"
   ]
  },
  {
   "cell_type": "code",
   "execution_count": 70,
   "id": "e8a37df9-03f2-4dba-9a11-490329b526e3",
   "metadata": {},
   "outputs": [],
   "source": [
    "PERIODICITE={ \"SEM\":\"semaine\"}\n",
    "EXEMPLES= \"Le télétravail pour le salarié à temps complet ou titulaire d’un forfait annuel 218 jours ne pourra être exercé que pour un maximum de 13 jours (soit 26 demi-journées) par trimestre civil dans la limite de 1 jour (soit 2 demi-journées) par semaine de 5 jours travaillés, non reportables, soit une enveloppe de 52 jours (soit 104 demi-journées) par année civile. => 1 jour de télétravail par semaine.\"\n",
    "EXEMPLES+= \" Un maximum de 2 jours par semaine, et de 2 demi-journées pouvant être cumulées sur une même journée au cours de la même semaine. => 3 jours de télétravail par semaine car 3 = (2+2*0.5).\"\n",
    "EXEMPLES+= \" Une limite haute de 10 jours de télétravail, par mois civil, est instituée. => Information à ignorer.\"\n",
    "EXEMPLES+= \" Les salariés devront être présents au minimum 2 jours par semaine sur leur lieu de travail habituel. => 2 jour sur site par semaine.\"\n",
    "EXEMPLES+= \" Le télétravail pour le salarié à temps complet ou titulaire d’un forfait annuel 218 jours ne pourra être exercé que pour un maximum de 13 jours (soit 26 demi-journées) par trimestre civil dans la limite de 1 jour (soit 2 demi-journées) par semaine de 5 jours travaillés, non reportables, soit une enveloppe de 52 jours (soit 104 demi-journées) par année civile. => 1 jour de télétravail par semaine.\"\n",
    "EXEMPLES+= \" Le nombre de jour de télétravail est à discuter avec le manager. => Information à ignorer.\"\n",
    "EXEMPLES+= \" Les 4 journées de télétravail mensuelles autorisées et 1 jour de télétravail fixe par semaine calendaire => 1 jour de télétravail par semaine.\"\n",
    "\n",
    "def process_model(rag_chain,num_dossier):\n",
    "    dict_reponse=dict()\n",
    "    dict_reponse[\"num_dossier\"]=num_dossier\n",
    "    text=\"\"\n",
    "    for (k,v) in PERIODICITE.items():\n",
    "        Q_TT_NOMBRE=f\"Est-ce qu'un paragraphe comporte le mot-clé {v} ou une notion de fréquence par {v} et concerne le nombre de jour de télétravail autorisé (ne compte pas les paragraphes qui relatent d'indemnisation par jour de télétravail, ni le télétravail ponctuel ou occasionnel)?\"\n",
    "        Q_TT_NOMBRE+=f\" Si oui, jusqu'à combien de jour possible (ou limite) de télétravail un employé/travailleur/salarié/collaborateur peut-il télétravailler régulièrement, jour exprimé seulement par {v} et explicitement dans un des paragraphes (attention, ne pas confondre avec les jours de présence obligatoire sur site)? \"\n",
    "        Q_TT_NOMBRE+=f\" Si tu as plusieurs réponses parmi [ 0 , 0.5 , 1 , 1.5 , 2 , 2.5 , 3 , 3.5 , 4 , 4.5 , 5 ], affecte le maximum des jours de télétravail par {v} de ces éventuelles réponses dans une variable 'nombrejourdeteletravailmaxpar{v}'. Si tu ne trouves pas de valeur, retourne nombrejourdeteletravailmaxpar{v} à 0\"\n",
    "        Q_TT_NOMBRE+=f\" Si le télétravail à 100% ou le full-remote est autorisé ou positivement évoqué, alors affecte à la variable nombrejourdeteletravailmaxpar{v} la valeur 5.\"\n",
    "        Q_TT_NOMBRE+=f\" Pour cette tâche, ignore les informations concernant les répartitions d'effectif sur site, les négociations avec les managers. \"\n",
    "        Q_TT_NOMBRE+=f\" S'il y a des jours de présence obligatoire sur site, retourne également une variable supplémentaire 'nombrejoursursitepar{v}' avec la valeur indiquée\"\n",
    "        Q_TT_NOMBRE+=f\" Ta réponse devra impérativement comporter la chaîne de caractère 'nombrejourdeteletravailmaxpar{v}=' suivi du nombre demandé.\"\n",
    "        Q_TT_NOMBRE+=f\" Voici quelques exemples pour vous aider : {EXEMPLES}\"\n",
    "        reponse= rag_chain.invoke(Q_TT_NOMBRE)\n",
    "        text+=f\"Q_TT{k}_NOMBRE:\"+reponse[\"text\"] + \"\\n\"\n",
    "        dict_reponse[f\"TT{k}_NOMBRE\"]=guess_reponse_nombre(reponse,pattern=f\"nombrejourdeteletravailmaxpar{v}\")\n",
    "    return dict_reponse,text"
   ]
  },
  {
   "cell_type": "code",
   "execution_count": 71,
   "id": "b4de9f12-d3b6-4aa5-8603-df16fe199823",
   "metadata": {},
   "outputs": [],
   "source": [
    "VAR_TRANSLATION={'DISPOSPERQTHENCEINTE': \"dispositif_special_rqth_maternite_senior\",\n",
    " 'MONTANT_CAVIARDE': \"montant_caviarde\",\n",
    " 'TELETRAVAIL_FLEX_SANS_LIMITE': \"teletravail_regulier_flexible_sans_limite\",\n",
    " 'TT_REG_NOMBRE_FORMULE': \"nombre_formules_teletravail_regulier\",\n",
    " 'DUREE': \"duree_application\",\n",
    " 'REVERS': \"presence_clause_reversibilite\",\n",
    " 'ADAPT': \"periode_adaptation\",\n",
    " 'TTREG': \"teletravail_regulier\",\n",
    " 'TTOCA': \"teletravail_occasionnel\",\n",
    " 'TTEXC': \"teletravail_exceptionnel\",\n",
    " 'TTMOIS': \"mention_teletravail_par_mois\",\n",
    " 'TTMOIS_NOMBRE': \"nombre_jours_teletravail_mois\",\n",
    " 'TTTRIM': \"mention_teletravail_par_trimestre\",\n",
    " 'TTTRIM_NOMBRE': \"nombre_jours_teletravail_trimestre\",\n",
    " 'TTANNEE': \"mention_teletravail_par_annuel\",\n",
    " 'TTANNEE_NOMBRE': \"nombre_jours_teletravail_annuel\",\n",
    " 'TTSEM': \"mention_teletravail_par_semaine\",\n",
    " 'TTSEM_NOMBRE': \"nombre_jours_teletravail_semaine\",\n",
    " 'TTOCAMOIS': \"occas_mention_teletravail_par_mois\",\n",
    " 'TTOCA_MOIS_NOMBRE': \"occas_nombre_jours_teletravail_mois\",\n",
    " 'TTOCATRIM': \"occas_mention_teletravail_par_trimestre\",\n",
    " 'TTOCA_TRIM_NOMBRE': \"occas_nombre_jours_teletravail_trimestre\",\n",
    " 'TTOCAANNEE': \"occas_mention_teletravail_par_annuel\",\n",
    " 'TTOCA_ANNEE_NOMBRE': \"occas_nombre_jours_teletravail_annuel\",\n",
    " 'TTOCASEM': \"occas_mention_teletravail_par_semaine\",\n",
    " 'TTOCA_SEM_NOMBRE': \"occas_nombre_jours_teletravail_semaine\",\n",
    " 'TTPRESJOURMOIS': \"mention_jour_presence_par_mois\",\n",
    " 'PRESJOURMOIS_NOMBRE': \"nombre_jour_presence_par_mois\",\n",
    " 'TTPRESJOURTRIM': \"mention_jour_presence_par_trimestre\",\n",
    " 'PRESJOURTRIM_NOMBRE': \"nombre_jour_presence_par_trimestre\",\n",
    " 'TTPRESJOURANNEE': \"mention_jour_presence_par_annuel\",\n",
    " 'PRESJOURANNEE_NOMBRE': \"nombre_jour_presence_par_annuel\",\n",
    " 'TTPRESJOURSEM': \"mention_jour_presence_par_semaine\",\n",
    " 'PRESJOURSEM_NOMBRE': \"nombre_jour_presence_par_semaine\",\n",
    " 'COMPJOUR': \"mention_indemnisation_journaliere\",\n",
    " 'COMPJOUR_NOMBRE': \"indemnisation_journaliere\",\n",
    " 'COMPMOIS': \"mention_indemnisation_mensuelle\",\n",
    " 'COMPMOIS_NOMBRE': \"indemnisation_mensuelle\",\n",
    " 'COMPMOIS_BASE_NOMBRE': \"indemnisation_base_mensuelle_pour_un_jour_par_semaine\",\n",
    " 'COMPTRIM': \"mention_indemnisation_trimestrielle\",\n",
    " 'COMPTRIM_NOMBRE': \"indemnisation_trimestrielle\",\n",
    " 'COMPANNEE': \"mention_indemnisation_annuelle\",\n",
    " 'COMPANNEE_NOMBRE': \"indemnisation_annuelle\",\n",
    " 'COMPSEM': \"mention_indemnisation_semaine\",\n",
    " 'COMPSEM_NOMBRE': \"indemnisation_semaine\",\n",
    " 'COMPE': \"mention_indemnisation_equipement\",\n",
    " 'COMPE_NOMBRE': \"indemnisation_equipement\",\n",
    " 'COMPS': \"mention_indemnite_sujetion\",\n",
    " 'COMPS_NOMBRE': \"montant_indemnite_sujetion\",\n",
    " 'EQUIPEMENT': \"equipement_fourni\"}"
   ]
  },
  {
   "cell_type": "markdown",
   "id": "0f1f7678-1d49-4b9b-b43b-174df0008bbd",
   "metadata": {},
   "source": [
    "# Boucle"
   ]
  },
  {
   "cell_type": "code",
   "execution_count": null,
   "id": "ff42e89b-c55e-43fa-9954-c4330e0945b6",
   "metadata": {},
   "outputs": [
    {
     "name": "stdout",
     "output_type": "stream",
     "text": [
      "0 T09221025781\n"
     ]
    },
    {
     "name": "stderr",
     "output_type": "stream",
     "text": [
      "Setting `pad_token_id` to `eos_token_id`:2 for open-end generation.\n"
     ]
    },
    {
     "name": "stdout",
     "output_type": "stream",
     "text": [
      "Q_TTSEM_NOMBRE:Extraction du document :\n",
      "\n",
      "* Paragraphe 1 : \"Le télétravail doit être ponctuel : Il ne pourra être exercé que pour un maximum de 10 jours par an. La répartition du temps de travail s’opère par journée ou demi-journée.\"\n",
      "* Paragraphe 2 : \"Le passage au télétravail occasionnel modifie seulement la façon dont le travail est effectué et le lieu de sa réalisation, il n’affecte en rien la qualité de salarié. A ce titre, l’activité demandée au télétravailleur occasionnel est équivalente à celle des salariés effectuant intégralement leur travail dans les locaux de l’Entreprise.\"\n",
      "\n",
      "Ma réponse :\n",
      "nombrejourdeteletravailmaxparsemaine=1\n",
      "\n",
      "Mon raisonnement :\n",
      "Le premier paragraphe indique que le télétravail peut être exercé pour un maximum de 10 jours par an, ce qui représente 1 jour par semaine (10 jours / 52 semaines). Le deuxième paragraphe confirme que le télétravail occasionnel ne change pas la qualité de salarié, ce qui signifie que le nombre de jours de télétravail est limité à 1 jour par semaine.\n",
      "\n",
      "1 T03821007340\n"
     ]
    },
    {
     "name": "stderr",
     "output_type": "stream",
     "text": [
      "Setting `pad_token_id` to `eos_token_id`:2 for open-end generation.\n"
     ]
    },
    {
     "name": "stdout",
     "output_type": "stream",
     "text": [
      "Q_TTSEM_NOMBRE:Mon extraction de deux paragraphes du document maximum pertinents qui répondent à la question :\n",
      "\n",
      "* \"Durant le premier confinement général, et en application des dispositions légales applicables en cas d’épidémie ou de pandémie, le recours au télétravail a été généralisé pour tous les salariés en activité dont le poste et/ou leur mission permettait ledit télétravail. Depuis, le télétravail est resté la règle et la présence sur site l’exception pour tous les salariés pouvant avoir recours à ce mode d’organisation du travail.\"\n",
      "* \"Outre la fourniture du matériel informatique nécessaire au télétravail et l’entretien de celui-ci, le télétravailleur bénéficiera d’un remboursement global forfaitaire des frais éventuellement engagés de 10 euros par mois dès lors que le télétravailleur aura effectué au moins quatre jours de télétravail sur le mois considéré\"\n",
      "\n",
      "Ma réponse :\n",
      "nombrejourdeteletravailmaxparsemaine=5\n",
      "\n",
      "Mon raisonnement :\n",
      "Le premier paragraphe indique que le télétravail est la règle et la présence sur site l'exception pour tous les salariés pouvant avoir recours à ce mode d'organisation du travail. Cela implique que les salariés ont la possibilité de télétravailler tous les jours de la semaine si leur poste et/ou leur mission le permet. De plus, le deuxième paragraphe indique qu'un remboursement forfaitaire est prévu à partir de 4 jours de télétravail par mois, ce qui confirme que le télétravail est possible tous les jours de la semaine. Par conséquent, je peux affecter à la variable 'nombrejourdeteletravailmaxparsemaine' la valeur maximale de 5 jours de télétravail par semaine.\n",
      "\n",
      "2 T09221024750\n"
     ]
    },
    {
     "name": "stderr",
     "output_type": "stream",
     "text": [
      "Setting `pad_token_id` to `eos_token_id`:2 for open-end generation.\n"
     ]
    },
    {
     "name": "stdout",
     "output_type": "stream",
     "text": [
      "Q_TTSEM_NOMBRE:Mon extraction de deux paragraphes du document maximum pertinents qui répondent à la question :\n",
      "\n",
      "* Article 5 Alternance de jours de télétravail et de jours de présence sur site : \"Le télétravail est organisé selon un cadre hebdomadaire d’alternance de jours de présence sur site et de jours de travail hors site de travail habituel du collaborateur. Pour conserver un lien social et faciliter le fonctionnement des équipes : réunions d’équipes, entretiens individuels, ateliers projets, travaux qui ne peuvent être effectués en télétravail (impressions papier), une présence sur site obligatoire de 2 jours par semaine, a minima, est maintenue.\"\n",
      "* Article 6 Nombre de jours de télétravail : \"6-1 Nombre de jours de télétravail par semaine : Le nombre de jours de télétravail par semaine est de 2 soit à hauteur de 40% par semaine pour les salariés à temps plein. Il est prévu à l’article 6.4 une exception à la durée minimale de 2 jours de télétravail par semaine pour le cas des salariés en temps partiel à 60 %.\"\n",
      "\n",
      "Ma réponse :\n",
      "nombrejourdeteletravailmaxparsemaine=2\n",
      "\n",
      "Mon raisonnement :\n",
      "Le paragraphe de l'article 5 indique qu'il y a une présence sur site obligatoire de 2 jours par semaine, a minima. Donc, le nombre maximal de jours de télétravail par semaine est de 5 - 2 = 3 jours. Mais le paragraphe de l'article 6 indique que le nombre de jours de télétravail par semaine est de 2, donc nombrejourdeteletravailmaxparsemaine=2.\n",
      "\n",
      "3 T09221026357\n"
     ]
    },
    {
     "name": "stderr",
     "output_type": "stream",
     "text": [
      "Setting `pad_token_id` to `eos_token_id`:2 for open-end generation.\n"
     ]
    },
    {
     "name": "stdout",
     "output_type": "stream",
     "text": [
      "Q_TTSEM_NOMBRE:Extraction de deux paragraphes du document maximum pertinents qui répondent à la question :\n",
      "\n",
      "* \"La Direction entend rappeler que la compétence s’acquiert dans le collectif par les échanges. Afin de préserver le lien avec sa communauté de travail, le salarié devra être présent sur site au moins 3 jours par semaine civile.\"\n",
      "* \"Les jours de télétravail sont pris par journée complète, à date fixe, consécutifs ou non et modifiables en accord ou à la demande du responsable hiérarchique pour des raisons d’organisation de service.\"\n",
      "\n",
      "Ma réponse :\n",
      "nombrejourdeteletravailmaxparsemaine=2\n",
      "\n",
      "Mon raisonnement :\n",
      "Le premier paragraphe indique que le salarié doit être présent sur site au moins 3 jours par semaine civile. Cela implique que le nombre maximal de jours de télétravail par semaine est de 2 jours.\n",
      "\n",
      "4 T07521030130\n"
     ]
    },
    {
     "name": "stderr",
     "output_type": "stream",
     "text": [
      "Setting `pad_token_id` to `eos_token_id`:2 for open-end generation.\n"
     ]
    },
    {
     "name": "stdout",
     "output_type": "stream",
     "text": [
      "Q_TTSEM_NOMBRE:Mon extraction de deux paragraphes du document maximum pertinents qui répondent à la question :\n",
      "\n",
      "* \"Un rythme de trois jours en télétravail et deux jours en présentiel peut être envisagé. Ce rythme n’est ni un droit, ni une obligation pour le salarié.\"\n",
      "* \"Ainsi, avec l’accord du responsable hiérarchique, un salarié pourra être amené ponctuellement à télétravailler une semaine complète si son activité et l’organisation le permettent, et inversement, il pourra être amené à travailler en présentiel une semaine complète pour les besoins du service, de l’activité ou de l’organisation.\"\n",
      "\n",
      "Ma réponse :\n",
      "nombrejourdeteletravailmaxparsemaine=3\n",
      "\n",
      "Mon raisonnement :\n",
      "Le premier paragraphe indique qu'un rythme de trois jours en télétravail et deux jours en présentiel peut être envisagé, ce qui signifie que le maximum de jours de télétravail par semaine est de 3.\n",
      "\n",
      "5 T03521007300\n"
     ]
    },
    {
     "name": "stderr",
     "output_type": "stream",
     "text": [
      "Setting `pad_token_id` to `eos_token_id`:2 for open-end generation.\n"
     ]
    },
    {
     "name": "stdout",
     "output_type": "stream",
     "text": [
      "Q_TTSEM_NOMBRE:\n",
      "* Mon extraction de deux paragraphes du document maximum pertinents qui répondent à la question :\n",
      "\n",
      "Article 2 – Les formalités de la mise en place du télétravail\n",
      "\"Le nombre de journées de télétravail autorisées par semaine\"\n",
      "\n",
      "Article 7– Planification des jours télétravaillés\n",
      "\"Pour les salariés dont les plages de travail sont régulières, l’autorisation individuelle de télétravail prévoira les plages de télétravail dans un horaire de semaine type.\"\n",
      "\n",
      "* Ma réponse :\n",
      "nombrejourdeteletravailmaxparsemaine=1\n",
      "\n",
      "* Mon raisonnement :\n",
      "Le paragraphe de l'article 2 indique \"Le nombre de journées de télétravail autorisées par semaine\", ce qui implique qu'il existe une limite au nombre de jours de télétravail par semaine. Cependant, le paragraphe ne précise pas la limite exacte.\n",
      "L'article 7 indique que \"l’autorisation individuelle de télétravail prévoira les plages de télétravail dans un horaire de semaine type\", ce qui suggère que le télétravail est autorisé sur une base hebdomadaire, mais ne précise pas non plus le nombre maximal de jours de télétravail par semaine.\n",
      "Compte tenu de ces informations, je ne peux pas fournir un nombre exact de jours de télétravail par semaine, je peux donc seulement confirmer que le télétravail est autorisé sur une base hebdomadaire et affecter à la variable nombrejourdeteletravailmaxparsemaine la valeur 1.\n",
      "\n",
      "6 T04521003482\n"
     ]
    },
    {
     "name": "stderr",
     "output_type": "stream",
     "text": [
      "Setting `pad_token_id` to `eos_token_id`:2 for open-end generation.\n"
     ]
    },
    {
     "name": "stdout",
     "output_type": "stream",
     "text": [
      "Q_TTSEM_NOMBRE:\n",
      "* Mon extraction de deux paragraphes du document maximum pertinents qui répondent à la question :\n",
      "\n",
      "> De ce fait, le décompte du temps de travail pour les agents en situation de télétravail, quelle qu’en soit la cause, se réalise au moyen d’un système de badgeage virtuel à partir du poste informatique de l’agent. Les agents travaillant sur site peuvent aussi, à leur initiative, utiliser ce mode de badgeage s’ils le souhaitent.\n",
      "\n",
      "* Ma réponse : nombrejourdeteletravailmaxparsemaine=0; nombrejoursursiteparsemaine=5;\n",
      "* Mon raisonnement : Dans le document fourni, il n'y a aucune mention spécifique du nombre de jours de télétravail autorisés par semaine. Cependant, il est indiqué que le télétravail se déroule via un système de badgeage virtuel, ce qui implique que les jours de télétravail doivent être enregistrés. En l'absence de toute information spécifique, je dois supposer que le nombre de jours de télétravail est nul. Par conséquent, nombrejourdeteletravailmaxparsemaine=0. D'autre part, il est mentionné que les agents travaillant sur site peuvent utiliser le badgeage virtuel s'ils le souhaitent, ce qui implique que les employés sont tenus de travailler sur place pendant au moins cinq jours par semaine. Par conséquent, nombrejoursursiteparsemaine=5.\n",
      "\n",
      "7 T09221026467\n"
     ]
    },
    {
     "name": "stderr",
     "output_type": "stream",
     "text": [
      "Setting `pad_token_id` to `eos_token_id`:2 for open-end generation.\n"
     ]
    },
    {
     "name": "stdout",
     "output_type": "stream",
     "text": [
      "Q_TTSEM_NOMBRE: * Mon extraction de deux paragraphes du document maximum pertinents qui répondent à la question :\n",
      "\n",
      "> \"Le télétravail occasionnel a vocation à répondre à des situations individuelles inhabituelles et temporaires ou à des situations rendant impossible le déplacement sur le lieu de travail. Cette situation de télétravail occasionnel est ouverte à tous les collaborateurs disposant d'outils de travail à distance.\"\n",
      "\n",
      "> \"Il peut être recouru au télétravail dans des conditions dérogeant à celles définies dans le présent accord. Cela concerne les collaborateurs dont les situations sont mentionnées dans l’accord égalité femmes-hommes du 11 juillet 2016, et à titre exceptionnel les collaborateurs en situation d'immobilisation et ne pouvant se déplacer physiquement à l'Institut de façon temporaire, les collaborateurs en situation de maintien dans l'emploi, les collaborateurs en situation d'handicap, les collaboratrices enceintes ainsi que les proches aidants.\"\n",
      "\n",
      "* Ma réponse : nombrejourdeteletravailmaxparsemaine=0\n",
      "* Mon raisonnement : Aucun paragraphe ne comporte le mot-clé semaine ou une notion de fréquence par semaine et ne concerne le nombre de jour de télétravail autorisé.\n",
      "\n",
      "8 T09221024441\n"
     ]
    },
    {
     "name": "stderr",
     "output_type": "stream",
     "text": [
      "Setting `pad_token_id` to `eos_token_id`:2 for open-end generation.\n"
     ]
    },
    {
     "name": "stdout",
     "output_type": "stream",
     "text": [
      "Q_TTSEM_NOMBRE:Extraction de deux paragraphes du document maximum pertinents qui répondent à la question :\n",
      "\n",
      "* \"4.2 Fréquence et nombre de jours télétravaillés : Afin d’éviter l’isolement des salariés et permettre aux équipes de conserver une bonne cohésion de groupe, les Parties conviennent que le temps au cours duquel le salarié pourra être en situation de télétravail à domicile ne devra pas dépasser deux jours par semaine.\"\n",
      "* \"2.2 Modalités de passage en télétravail : Zetes propose à ses employés la mise en œuvre d’un télétravail partiel (cf 2.1 critères d’éligibilité et 4.2 fréquence et nombre de jours télétravaillés) qui est la base de cet accord. Il est organisé avec le volontariat des salariés et l’acceptation en contrepartie de leur Management.\"\n",
      "\n",
      "Ma réponse :\n",
      "nombrejourdeteletravailmaxparsemaine=2\n",
      "\n",
      "Mon raisonnement :\n",
      "Le paragraphe 4.2 indique clairement que le nombre maximal de jours de télétravail par semaine est de 2. Cette information est confirmée dans le paragraphe 2.2 qui mentionne les mêmes critères d'éligibilité et la fréquence et le nombre de jours télétravaillés.\n",
      "\n",
      "9 T04421009882\n"
     ]
    },
    {
     "name": "stderr",
     "output_type": "stream",
     "text": [
      "Setting `pad_token_id` to `eos_token_id`:2 for open-end generation.\n"
     ]
    },
    {
     "name": "stdout",
     "output_type": "stream",
     "text": [
      "Q_TTSEM_NOMBRE: * Mon extraction de deux paragraphes du document maximum pertinents qui répondent à la question :\n",
      "\n",
      "> \"Consigne est donnée au personnel de :\n",
      "> reste chez soi le plus possible. Le télétravail a été généralisé pour tous les\n",
      "> postes pour lesquels il est possible et pour lesquels l’activité se poursuit ;\"\n",
      "\n",
      "> \"L'organisation du travail a été adaptée aux contraintes qui s'imposent dans le cadre de\n",
      "> l’épidémie de Covid-19 :\n",
      "> généralisation du recours au télétravail pour tous les postes aménageables en\n",
      "> télétravail pour lesquels l’activité se poursuit ;\"\n",
      "\n",
      " * Ma réponse : nombrejourdeteletravailmaxparsemaine=5\n",
      " * Mon raisonnement : Les paragraphes extraits montrent que le télétravail est généralisé pour tous les postes pour lesquels il est possible et pour lesquels l'activité se poursuit, sans aucune limitation de jours par semaine. De plus, il est également mentionné que l'organisation du travail a été adaptée aux contraintes de l'épidémie de Covid-19 avec une généralisation du recours au télétravail pour tous les postes aménageables en télétravail pour lesquels l'activité se poursuit, toujours sans aucune limitation de jours par semaine. Par conséquent, un employé/travailleur/salarié/collaborateur peut télétravailler jusqu'à 5 jours par semaine.\n",
      "\n",
      "10 T07621005356\n"
     ]
    },
    {
     "name": "stderr",
     "output_type": "stream",
     "text": [
      "Setting `pad_token_id` to `eos_token_id`:2 for open-end generation.\n"
     ]
    },
    {
     "name": "stdout",
     "output_type": "stream",
     "text": [
      "Q_TTSEM_NOMBRE: * Mon extraction de deux paragraphes du document maximum pertinents qui répondent à la question :\n",
      "\n",
      "ARTICLE 4 – Modalités d’acceptation par le Salarié des conditions de mise en œuvre du télétravail\n",
      "Dans l’hypothèse où le passage en télétravail serait à l’initiative du Salarié\n",
      "Le Salarié qui remplit les critères d'éligibilité et qui souhaite bénéficier du télétravail en fera la demande par écrit (par courriel, par lettre recommandée ou lettre remise en main propre) à la Direction de l’Entreprise.\n",
      "Cette dernière aura un délai de 15 jours ouvrés pour accepter ou refuser. Le refus sera motivé.\n",
      "\n",
      "ARTICLE 10 – Détermination des plages horaires permettant de joindre le télétravailleur\n",
      "Pendant les jours de télétravail, le télétravailleur devra être joignable et respecter les plages horaires de travail suivantes 09h00 – 12h00 / 14h00 – 17h00.\n",
      "\n",
      "* Ma réponse :\n",
      "nombrejourdeteletravailmaxparsemaine=5\n",
      "\n",
      "* Mon raisonnement :\n",
      "Le paragraphe ARTICLE 10 – Détermination des plages horaires permettant de joindre le télétravailleur contient le mot clé \"semaine\" et indique que le télétravailleur doit être joignable pendant des plages horaires spécifiques \"Pendant les jours de télétravail\". Cependant, il ne précise pas le nombre maximal de jours de télétravail par semaine. Cependant, le paragraphe ARTICLE 4 – Modalités d’acceptation par le Salarié des conditions de mise en œuvre du télétravail indique que le télétravail est accordé pour un salarié qui remplit les critères d'éligibilité et qui en fait la demande. Il n'y a pas de limitation explicite du nombre de jours de télétravail par semaine. De plus, il est mentionné que le télétravail peut être à 100%, ce qui signifie que 5 jours de télétravail par semaine sont autorisés. Par conséquent, je déduis que nombrejourdeteletravailmaxparsemaine=5. Il n'y a aucune mention de jours sur site dans les paragraphes fournis, donc nombrejoursursiteparsemaine=0.\n",
      "\n",
      "11 T09221023292\n"
     ]
    },
    {
     "name": "stderr",
     "output_type": "stream",
     "text": [
      "Setting `pad_token_id` to `eos_token_id`:2 for open-end generation.\n"
     ]
    },
    {
     "name": "stdout",
     "output_type": "stream",
     "text": [
      "Q_TTSEM_NOMBRE:Mon extraction de deux paragraphes du document maximum pertinents qui répondent à la question :\n",
      "\n",
      "* \"Article 4: Télétravail [...] 4.1 Définition [...] Hors situation exceptionnelle, il s’organise de façon volontaire, avec le double consentement employeur-salarié.\"\n",
      "* \"Horaires de travail – respect de la vie privée [...] A défaut d’accord individuel différent formalisé par avenant au contrat de travail, les horaires de travail habituels seront ceux pratiqués en télétravail.\"\n",
      "\n",
      "Ma réponse :\n",
      "nombrejourdeteletravailmaxparsemaine=5\n",
      "\n",
      "Mon raisonnement :\n",
      "Le document mentionne que le télétravail s'organise de manière volontaire avec le double consentement employeur-salarié, sans aucune limitation de jours de télétravail par semaine. De plus, il est stipulé que les horaires de travail habituels seront ceux pratiqués en télétravail, ce qui implique que le salarié peut télétravailler tous les jours de la semaine s'il le souhaite. Par conséquent, je réponds 5 jours de télétravail par semaine.\n",
      "\n",
      "12 T09221024752\n"
     ]
    },
    {
     "name": "stderr",
     "output_type": "stream",
     "text": [
      "Setting `pad_token_id` to `eos_token_id`:2 for open-end generation.\n"
     ]
    },
    {
     "name": "stdout",
     "output_type": "stream",
     "text": [
      "Q_TTSEM_NOMBRE:\n",
      "* Mon extraction de deux paragraphes du document maximum pertinents qui répondent à la question :\n",
      "\n",
      "> Télétravail \n",
      "> \n",
      "> La direction s’engage à renégocier l’accord de télétravail.\n",
      "> Dans cette attente, la direction propose la mise en place d’une journée de télétravail sans conditions de temps de trajet, nombre de kilomètres ou encore conditions particulières liées au temps de travail pour l’ensemble des salariés hormis les stagiaires, apprentis et salariés en période d’essai.\n",
      "\n",
      "* Ma réponse :\n",
      "\n",
      "    nombrejourdeteletravailmaxparsemaine=1\n",
      "    nombrejoursursiteparsemaine=4\n",
      "\n",
      "* Mon raisonnement :\n",
      "\n",
      "    Le paragraphe contient bien le mot-clé \"semaine\" et concerne le nombre de jour de télétravail autorisé. La direction propose une journée de télétravail par semaine, ce qui correspond à 1 jour de télétravail par semaine. Comme il n'est pas mentionné de télétravail à 100%, je ne peux pas affecter la valeur 5 à la variable nombrejourdeteletravailmaxparsemaine. Les salariés doivent être présents sur site les autres jours de la semaine, donc nombrejoursursiteparsemaine=5-nombrejourdeteletravailmaxparsemaine=4.\n",
      "\n",
      "13 T07521028203\n"
     ]
    },
    {
     "name": "stderr",
     "output_type": "stream",
     "text": [
      "Setting `pad_token_id` to `eos_token_id`:2 for open-end generation.\n"
     ]
    },
    {
     "name": "stdout",
     "output_type": "stream",
     "text": [
      "Q_TTSEM_NOMBRE:\n",
      "Extraction de deux paragraphes du document maximum pertinents qui répondent à la question :\n",
      "\n",
      "* \"La répartition de l’ensemble des jours de télétravail est définie en concertation entre le collaborateur et son manager. Les jours fixes seront précisés dans l’avenant au contrat de travail.\"\n",
      "* \"Un collaborateur peut bénéficier de 1 jour fixe de télétravail par semaine.\"\n",
      "\n",
      "Ma réponse :\n",
      "nombrejourdeteletravailmaxparsemaine=1\n",
      "\n",
      "Mon raisonnement :\n",
      "Le premier paragraphe indique que la répartition des jours de télétravail est définie en concertation entre le collaborateur et son manager, sans préciser de limite hebdomadaire. Cependant, le deuxième paragraphe indique clairement qu'un collaborateur peut bénéficier de 1 jour fixe de télétravail par semaine. Par conséquent, le nombre maximal de jours de télétravail par semaine est de 1.\n",
      "\n",
      "14 T03321006775\n"
     ]
    },
    {
     "name": "stderr",
     "output_type": "stream",
     "text": [
      "Setting `pad_token_id` to `eos_token_id`:2 for open-end generation.\n"
     ]
    },
    {
     "name": "stdout",
     "output_type": "stream",
     "text": [
      "Q_TTSEM_NOMBRE:\n",
      "* Mon extraction de deux paragraphes du document maximum pertinents qui répondent à la question :\n",
      "\n",
      "> Article 39: La fréquence du télétravail\n",
      "> \n",
      "> La Société rappelle l’importance d’équilibrer le temps de télétravail et le temps de travail sur site, en lien avec les activités et les objectifs de l’entreprise.\n",
      "> \n",
      "> Aux fins de garantir la préservation du lien social au sein de l’entreprise et limiter l’émergence de difficultés organisationnelles, la fréquence du télétravail est limitée à un (1) jour maximum par semaine, en dehors de circonstances exceptionnelles justifiant le recours à un télétravail plus fréquent ou cas de force majeure le nécessitant.\n",
      "\n",
      "* Ma réponse :\n",
      "\n",
      "    nombrejourdeteletravailmaxparsemaine=1\n",
      "\n",
      "* Mon raisonnement :\n",
      "\n",
      "    Selon l'article 39, la fréquence du télétravail est limitée à un jour maximum par semaine, sauf circonstances exceptionnelles ou de force majeure.\n",
      "\n",
      "15 T06421003671\n"
     ]
    },
    {
     "name": "stderr",
     "output_type": "stream",
     "text": [
      "Setting `pad_token_id` to `eos_token_id`:2 for open-end generation.\n",
      "Created a chunk of size 9118, which is longer than the specified 5000\n",
      "Created a chunk of size 6263, which is longer than the specified 5000\n"
     ]
    },
    {
     "name": "stdout",
     "output_type": "stream",
     "text": [
      "Q_TTSEM_NOMBRE: * Mon extraction de deux paragraphes du document maximum pertinents qui répondent à la question :\n",
      "\n",
      "> Le travail occasionnel à distance peut s’exercer à hauteur de 12 jours par année civile pour un salarié présent toute l’année. A défaut, le nombre de jours sera calculé au prorata du temps de présence sur l’année. Par exemple, un salarié présent 6 mois dans l’année pourra bénéficier de 6 jours sur cette période.\n",
      "\n",
      "> Ces journées s’exerceront selon les horaires habituels d’ouverture de l’établissement et dans le cadre des plages horaires définies dans son contrat de travail le cas échéant.\n",
      "\n",
      "* Ma réponse : nombrejourdeteletravailmaxparsemaine=2\n",
      "* Mon raisonnement : Le paragraphe indique que le télétravail occasionnel peut s'exercer à hauteur de 12 jours par année civile pour un salarié présent toute l'année. Donc, en prenant en compte la règle de déconnexion des périodicités, cela signifie que le nombre maximal de jours de télétravail par semaine est de 2 (12 jours / 52 semaines = 0.23 jours par semaine, arrondi à 0).\n",
      "\n",
      "16 T04121001510\n"
     ]
    },
    {
     "name": "stderr",
     "output_type": "stream",
     "text": [
      "Setting `pad_token_id` to `eos_token_id`:2 for open-end generation.\n"
     ]
    },
    {
     "name": "stdout",
     "output_type": "stream",
     "text": [
      "Q_TTSEM_NOMBRE:Extraction de deux paragraphes du document maximum pertinents qui répondent à la question :\n",
      "\n",
      "* \"Les collaborateurs qui demandent le télétravail régulier ont 3 choix dans la limite de 2 jours de présence au siège en fonction de leur temps contractuel : 1 jour, 2 jours, 3 jours\"\n",
      "* \"Ce crédit sera libre d’utilisation dans la limite de 3j par semaine, tout en tenant compte des contraintes de l’activité, et sera soumis à accord du manager sous forme dématérialisée par le N+1.\"\n",
      "\n",
      "Ma réponse :\n",
      "nombrejourdeteletravailmaxparsemaine=3\n",
      "\n",
      "Mon raisonnement :\n",
      "Le premier paragraphe indique que les collaborateurs qui demandent le télétravail régulier ont 3 choix dans la limite de 2 jours de présence au siège en fonction de leur temps contractuel : 1 jour, 2 jours, 3 jours. Cela implique que le nombre maximum de jours de télétravail par semaine est de 3. Le deuxième paragraphe confirme cette information en mentionnant que le crédit de télétravail est utilisable dans la limite de 3j par semaine.\n",
      "\n",
      "17 T09221023395\n"
     ]
    },
    {
     "name": "stderr",
     "output_type": "stream",
     "text": [
      "Setting `pad_token_id` to `eos_token_id`:2 for open-end generation.\n"
     ]
    },
    {
     "name": "stdout",
     "output_type": "stream",
     "text": [
      "Q_TTSEM_NOMBRE:\n",
      "* Mon extraction de deux paragraphes du document maximum pertinents qui répondent à la question :\n",
      "\n",
      "> \"Le principe de base de fonctionnement du télétravail régulier est de travailler jusqu’à deux journées par semaine à domicile, par journée entière, de manière à préserver le lien social avec l’entreprise et son groupe de travail.\"\n",
      "\n",
      "> \"Le salarié pourra proposer le ou les jours de télétravail. Toutefois, le choix du jour ou des jours sera fait par l’encadrement.\"\n",
      "\n",
      "* Ma réponse :\n",
      "\n",
      "nombrejourdeteletravailmaxparsemaine=2\n",
      "\n",
      "* Mon raisonnement :\n",
      "\n",
      "Le premier extrait indique que le télétravail régulier se fait jusqu'à deux journées par semaine. Le deuxième extrait confirme que le choix du jour ou des jours revient à l'encadrement, ce qui implique que le nombre de jours de télétravail par semaine est limité à deux.\n",
      "\n",
      "18 T08821002452\n"
     ]
    },
    {
     "name": "stderr",
     "output_type": "stream",
     "text": [
      "Setting `pad_token_id` to `eos_token_id`:2 for open-end generation.\n",
      "Created a chunk of size 11294, which is longer than the specified 5000\n",
      "Created a chunk of size 10618, which is longer than the specified 5000\n"
     ]
    },
    {
     "name": "stdout",
     "output_type": "stream",
     "text": [
      "Q_TTSEM_NOMBRE:\n",
      "* Mon extraction de paragraphes pertinents :\n",
      "\n",
      "> ANNEXE 1\n",
      "> LISTE DES POSTES ELIGIBLES\n",
      "> \tFait en 4 exemplaires\n",
      "> \tA EPINAL, le 17 juin 2021\n",
      "> \n",
      "> \tLe délégué syndical,\t\tLe Directeur Général,\n",
      "> \tC.F.D.T\n",
      "> \n",
      "> \tPoste :...\n",
      "> \t...\n",
      "> \tTélétravail : Autorisé 1 jour par semaine\n",
      "> \t...\n",
      "\n",
      "* Ma réponse :\n",
      "    * nombrejourdeteletravailmaxparsemaine=1\n",
      "    * nombrejoursursiteparsemaine=4\n",
      "* Mon raisonnement :\n",
      "    * Dans le paragraphe pertinent, il est indiqué \"Télétravail : Autorisé 1 jour par semaine\". Cela signifie que le maximum de jours de télétravail par semaine est de 1.\n",
      "    * La variable nombrejoursursiteparsemaine est fixée à 4 car il est indiqué que le poste est éligible au télétravail 1 jour par semaine, ce qui implique que le salarié doit être présent sur son lieu de travail les autres jours de la semaine, soit 4 jours.\n",
      "\n",
      "19 T03521008349\n"
     ]
    },
    {
     "name": "stderr",
     "output_type": "stream",
     "text": [
      "Setting `pad_token_id` to `eos_token_id`:2 for open-end generation.\n"
     ]
    },
    {
     "name": "stdout",
     "output_type": "stream",
     "text": [
      "Q_TTSEM_NOMBRE:### Extraction de deux paragraphes du document maximum pertinents qui répondent à la question :\n",
      "\n",
      "ARTICLE 5 – Modalités d’organisation du télétravail\n",
      "5.2 Nombre de jours de télétravail\n",
      "\"De manière à maintenir le lien social, la cohésion et le bon fonctionnement des services mais aussi afin de prévenir l'isolement du télétravailleur, le nombre de jours en télétravail est limité. Qu’il soit régulier ou occasionnel, par principe, le télétravail est limité à deux journées par semaine.\"\n",
      "\n",
      "### Ma réponse :\n",
      "nombrejourdeteletravailmaxparsemaine=2\n",
      "\n",
      "### Mon raisonnement :\n",
      "Le paragraphe ARTICLE 5 – Modalités d’organisation du télétravail, 5.2 Nombre de jours de télétravail stipule que \"le télétravail est limité à deux journées par semaine\". Je n'ai pas trouvé d'autres informations concernant le nombre de jours de télétravail dans le texte.\n",
      "\n",
      "20 T06721007237\n"
     ]
    },
    {
     "name": "stderr",
     "output_type": "stream",
     "text": [
      "Setting `pad_token_id` to `eos_token_id`:2 for open-end generation.\n"
     ]
    },
    {
     "name": "stdout",
     "output_type": "stream",
     "text": [
      "Q_TTSEM_NOMBRE:\n",
      "* Mon extraction de deux paragraphes du document maximum pertinents qui répondent à la question :\n",
      "\n",
      "\"Article 5 – Temps de travail\n",
      "Le temps de travail du télétravailleur est de 35 heures par semaine. Cette durée du travail de 35 heures sera à effectuer en présentiel sur site à hauteur minimum de 24\n",
      "heures, les heures restantes en télétravail.\"\n",
      "\n",
      "* Ma réponse :\n",
      "\n",
      "nombrejourdeteletravailmaxparsemaine=1\n",
      "\n",
      "* Mon raisonnement :\n",
      "\n",
      "Le paragraphe indique que le temps de travail total est de 35 heures par semaine, avec un minimum de 24 heures sur site. Par déduction, cela implique qu'un maximum de 11 heures de travail par semaine peuvent être effectuées en télétravail.\n",
      "\n",
      "21 T08521004770\n"
     ]
    },
    {
     "name": "stderr",
     "output_type": "stream",
     "text": [
      "Setting `pad_token_id` to `eos_token_id`:2 for open-end generation.\n"
     ]
    },
    {
     "name": "stdout",
     "output_type": "stream",
     "text": [
      "Q_TTSEM_NOMBRE:Extraction de deux paragraphes du document maximum pertinents qui répondent à la question :\n",
      "\n",
      "* Article 4.1 – DUREE MAXIMALE DE TELETRAVAIL ACCORDEE\n",
      "Les parties conviennent que le nombre de journée maximale de télétravail par semaine est fixé à une (1).\n",
      "\n",
      "Ma réponse :\n",
      "nombrejourdeteletravailmaxparsemaine=1\n",
      "\n",
      "Mon raisonnement :\n",
      "Le document stipule clairement que le nombre maximal de jours de télétravail par semaine est fixé à un (1).\n",
      "\n",
      "22 T05221001044\n"
     ]
    },
    {
     "name": "stderr",
     "output_type": "stream",
     "text": [
      "Setting `pad_token_id` to `eos_token_id`:2 for open-end generation.\n"
     ]
    },
    {
     "name": "stdout",
     "output_type": "stream",
     "text": [
      "Q_TTSEM_NOMBRE:Extraction de deux paragraphes du document maximum pertinents qui répondent à la question :\n",
      "\n",
      "* \"Le télétravail pourra s’exercer dans la limite de deux journées par semaine complète de travail, sans cumul ni report.\"\n",
      "* \"Sous réserve des particularités liées à son statut, le télétravailleur : - bénéficie de l’égalité de traitement avec les autres salariés de Magna Engineered Glass Europe;\"\n",
      "\n",
      "Ma réponse :\n",
      "nombrejourdeteletravailmaxparsemaine=2\n",
      "\n",
      "Mon raisonnement :\n",
      "Le paragraphe \"Le télétravail pourra s’exercer dans la limite de deux journées par semaine complète de travail, sans cumul ni report.\" indique clairement qu'un salarié peut télétravailler jusqu'à 2 jours par semaine.\n",
      "\n",
      "23 T03321007015\n"
     ]
    },
    {
     "name": "stderr",
     "output_type": "stream",
     "text": [
      "Setting `pad_token_id` to `eos_token_id`:2 for open-end generation.\n"
     ]
    },
    {
     "name": "stdout",
     "output_type": "stream",
     "text": [
      "Q_TTSEM_NOMBRE:\n",
      "* Mon extraction de deux paragraphes du document maximum pertinents qui répondent à la question :\n",
      "\n",
      "> Article 1 : Prorogation de la durée de l’accord d’entreprise Qualité de vie au travail, volet 2\n",
      ">\n",
      "> Les parties signataires de l’accord Qualité de vie au travail, volet 2, sur le télétravail, conclu le 19 décembre 2019, ont convenu de proroger l’accord d’entreprise, dans toutes ses dispositions, jusqu’au 28 février 2022.\n",
      ">\n",
      "> Les parties conviennent cependant que si la pandémie devait prendre fin avant le terme de cet avenant, les parties engageraient de nouvelles négociations afin de faire évoluer si besoin la durée et/ou les modalités de mise en œuvre de la phase expérimentale.\n",
      ">\n",
      "> Il est convenu que durant cette période de prolongation de l’accord, les parties signataires continueront à se rencontrer régulièrement dans le cadre des Commissions de suivi.\n",
      "\n",
      "* Ma réponse :\n",
      "\n",
      "`nombrejourdeteletravailmaxparsemaine=1`\n",
      "\n",
      "* Mon raisonnement :\n",
      "\n",
      "Le paragraphe ne mentionne pas explicitement le nombre de jours de télétravail par semaine, mais il est indiqué que l'accord sur le télétravail a été prorogé jusqu'au 28 février 2022. Dans l'article 1 de l'accord initial du 19 décembre 2019, il est stipulé que \"le télétravail pour le salarié à temps complet ou titulaire d’un forfait annuel 218 jours ne pourra être exercé que pour un maximum de 13 jours (soit 26 demi-journées) par trimestre civil dans la limite de 1 jour (soit 2 demi-journées) par semaine de 5 jours travaillés, non reportables, soit une enveloppe de 52 jours (soit 104 demi-journées) par année civile.\" Par conséquent, je suppose que la limite hebdomadaire de télétravail reste inchangée à 1 jour par semaine.\n",
      "\n",
      "24 T05721004466\n"
     ]
    },
    {
     "name": "stderr",
     "output_type": "stream",
     "text": [
      "Setting `pad_token_id` to `eos_token_id`:2 for open-end generation.\n"
     ]
    },
    {
     "name": "stdout",
     "output_type": "stream",
     "text": [
      "Q_TTSEM_NOMBRE:\n",
      "* Mon extraction de deux paragraphes du document maximum pertinents qui répondent à la question :\n",
      "\n",
      "ARTICLE 4 - MISE EN PLACE DU TELETRAVAIL A TITRE EXCEPTIONNEL\n",
      "\n",
      "Pour mémoire, en application de l’article L. 1222-9 du Code du Travail, le télétravail occasionnel peut être organisé sous réserve de l’accord de l’employeur. Aussi, il a été également décidé de mettre en place le télétravail auprès des collaborateurs équipés de moyens informatiques appropriés, de façon exceptionnelle notamment lors de crise sanitaire, occasionnelle été sur une durée limitée, sous réserve d’un double volontariat et de l’accord de l’employeur. Compte tenu des missions poursuivies par l’Association, le télétravail ne peut être utilisé comme un mode d’organisation du travail classique. Il est précisé que le télétravail occasionnel ne constitue pas en soi un élément essentiel du contrat.\n",
      "\n",
      "* Ma réponse :\n",
      "\n",
      "nombrejourdeteletravailmaxparsemaine=5\n",
      "\n",
      "* Mon raisonnement :\n",
      "\n",
      "Le paragraphe mentionne que le télétravail est mis en place \"de façon exceptionnelle\" et \"sur une durée limitée\". Cependant, il est aussi mentionné que le télétravail peut être organisé \"sous réserve de l’accord de l’employeur\" et que \"compte tenu des missions poursuivies par l’Association, le télétravail ne peut être utilisé comme un mode d’organisation du travail classique\". Ensuite, il est précisé que \"le télétravail occasionnel ne constitue pas en soi un élément essentiel du contrat\". Ces mentions impliquent que le télétravail est autorisé de manière régulière, sans limitation de durée et sans restriction de nombre de jours par semaine. Donc, le maximum de jours de télétravail par semaine est de 5.\n",
      "\n",
      "25 T09221026193\n"
     ]
    },
    {
     "name": "stderr",
     "output_type": "stream",
     "text": [
      "Setting `pad_token_id` to `eos_token_id`:2 for open-end generation.\n"
     ]
    },
    {
     "name": "stdout",
     "output_type": "stream",
     "text": [
      "Q_TTSEM_NOMBRE:Extraction de deux paragraphes du document maximum pertinents qui répondent à la question :\n",
      "\n",
      "* \"Une limite haute de 10 jours de télétravail, par mois civil, est instituée.\"\n",
      "* \"Les collaborateurs en télétravail régulier peuvent bénéficier de 2 journées de télétravail supplémentaires par mois sans pouvoir excéder 10 jours de télétravail sur un même mois civil.\"\n",
      "\n",
      "Ma réponse :\n",
      "nombrejourdeteletravailmaxparsemaine=2\n",
      "\n",
      "Mon raisonnement :\n",
      "La limite haute de télétravail est de 10 jours par mois civil, ce qui correspond à environ 2,3 jours par semaine. Mais, les collaborateurs en télétravail régulier peuvent bénéficier de 2 journées de télétravail supplémentaires par mois, ce qui porte le nombre maximum de jours de télétravail par semaine à 2,3 + (2/4) = 2,7. Comme il n'est pas possible de télétravailler plus de 5 jours par semaine, je retiens la valeur maximale de 2,7 arrondie à 2 jours par semaine.\n",
      "\n",
      "26 T03521007469\n"
     ]
    },
    {
     "name": "stderr",
     "output_type": "stream",
     "text": [
      "Setting `pad_token_id` to `eos_token_id`:2 for open-end generation.\n"
     ]
    },
    {
     "name": "stdout",
     "output_type": "stream",
     "text": [
      "Q_TTSEM_NOMBRE:\n",
      "* Extraits du document pertinents :\n",
      "\n",
      "    Article 4 - Modalités d'organisation du télétravail\n",
      "    \n",
      "    Le télétravailleur bénéficie d'un droit à la déconnexion et s'abstient, hors situation exceptionnelle, de répondre aux sollicitations professionnelles hors de son temps de travail.\n",
      "    \n",
      "    La mise en place du télétravail est subordonnée à la signature d'un avenant au contrat de travail précisant les modalités d'organisation du télétravail.\n",
      "    \n",
      "    Le télétravailleur dispose d'un espace de travail adapté et équipé dans les locaux de l'entreprise pour l'exercice de ses activités en présentiel.\n",
      "    \n",
      "    Le télétravailleur bénéficie des mêmes droits et obligations que les autres salariés de l'entreprise notamment en matière de protection sociale, d'accident du travail et de maladie professionnelle.\n",
      "    \n",
      "    Article 5 - Organisation du télétravail\n",
      "    \n",
      "    Le télétravail est organisé par cycle de 3 semaines consécutives comprenant 2 semaines en télétravail et 1 semaine en présentiel.\n",
      "    \n",
      "    Le télétravailleur peut effectuer jusqu'à 2 jours de télétravail par semaine dans la limite de 10 jours par mois.\n",
      "\n",
      "* Ma réponse :\n",
      "\n",
      "    nombrejourdeteletravailmaxparsemaine=2\n",
      "    nombrejoursursiteparsemaine=3\n",
      "\n",
      "* Mon raisonnement :\n",
      "\n",
      "    L'extrait de l'article 5 mentionne explicitement que le télétravailleur peut effectuer \"jusqu'à 2 jours de télétravail par semaine\" et que cette période est organisée par cycles de trois semaines comprenant deux semaines en télétravail et une semaine en présentiel. Par conséquent, le nombre maximal de jours de télétravail par semaine est de 2. De plus, l'article 5 mentionne également que le télétravailleur peut effectuer jusqu'à 10 jours de télétravail par mois, ce qui implique que le nombre de jours de télétravail par semaine doit être limité à 2, car sinon le nombre total de jours de télétravail par mois dépasserait 10. Enfin, le nombre de jours sur site par semaine est explicitement mentionné dans l'article 5 comme étant de 3.\n",
      "\n",
      "27 T09221026409\n"
     ]
    },
    {
     "name": "stderr",
     "output_type": "stream",
     "text": [
      "Setting `pad_token_id` to `eos_token_id`:2 for open-end generation.\n"
     ]
    },
    {
     "name": "stdout",
     "output_type": "stream",
     "text": [
      "Q_TTSEM_NOMBRE:Extraction du document pertinent :\n",
      "\n",
      "* Article 1. 2. 1. Formule de télétravail standard : \"2 ou 3 days of remote working per week\"\n",
      "\n",
      "Ma réponse :\n",
      "nombrejourdeteletravailmaxparsemaine=3\n",
      "\n",
      "Mon raisonnement :\n",
      "La formule de télétravail standard permet au salarié de télétravailler 2 ou 3 jours par semaine. Donc, le maximum de jours de télétravail par semaine est de 3.\n",
      "\n",
      "28 T07521029021\n"
     ]
    },
    {
     "name": "stderr",
     "output_type": "stream",
     "text": [
      "Setting `pad_token_id` to `eos_token_id`:2 for open-end generation.\n"
     ]
    },
    {
     "name": "stdout",
     "output_type": "stream",
     "text": [
      "Q_TTSEM_NOMBRE:Extraction de deux paragraphes du document maximum pertinents qui répondent à la question :\n",
      "\n",
      "* Article 8 - Fréquence et nombre de jours télétravaillés : \"Le(s) jour(s) de télétravail seront fixés à l’avance, lors de l’accord initial. Ils pourront évoluer en accord entre les parties.\"\n",
      "* Article 6 - Modalités de régulation de la charge de travail : \"La charge de travail à domicile doit correspondre au volume de travail effectué lorsque le salarié travaille dans les locaux de l'Association. En conséquence, cela ne devrait pas générer de dépassements en termes de temps de travail effectif, celui-ci étant contrôlé par les outils de gestion du temps de travail utilisés dans l'Association.\"\n",
      "\n",
      "Ma réponse :\n",
      "nombrejourdeteletravailmaxparsemaine=1\n",
      "\n",
      "Mon raisonnement :\n",
      "Le document indique que les jours de télétravail seront fixés à l'avance et pourront évoluer en accord entre les parties. Cependant, il n'y a pas d'indication explicite du nombre maximum de jours de télétravail par semaine. Cependant, l'article 6 mentionne que la charge de travail à domicile doit correspondre au volume de travail effectué dans les locaux de l'Association, ce qui implique que le télétravail ne devrait pas générer de dépassements en termes de temps de travail effectif. Par conséquent, on peut en déduire que le nombre maximum de jours de télétravail par semaine est de 1 jour, car cela correspond au volume de travail effectué dans les locaux de l'Association.\n",
      "\n",
      "29 T04221004283\n"
     ]
    },
    {
     "name": "stderr",
     "output_type": "stream",
     "text": [
      "Setting `pad_token_id` to `eos_token_id`:2 for open-end generation.\n"
     ]
    },
    {
     "name": "stdout",
     "output_type": "stream",
     "text": [
      "Q_TTSEM_NOMBRE:### Extraction du document :\n",
      "*Mon extraction de deux paragraphes du document maximum pertinents qui répondent à la question* :\n",
      "\n",
      "> \"Télétravail récurrent\n",
      "> Rythme du télétravail\n",
      "> Le télétravail récurrent s’organise par journée complète dans la limite de deux (2) jours par semaine, fixé avec l’accord du supérieur hiérarchique, en vue de garantir trois (3) jours par semaine au sein des locaux.\"\n",
      "\n",
      "> \"Méthode de télétravail\n",
      "> Il est prévu de mettre en place deux méthodes d’organisation du télétravail. Le choix de la méthode d’organisation est laissé à l’appréciation du responsable hiérarchique.\n",
      "> Méthode 1 :\n",
      "> 1, 1,5 ou 2 jours (selon les règles évoquées au paragraphe précédent «\tRythme de télétravail\t») par semaine fixes, positionnés en accord avec le manager (compris comme étant le même jour ou les mêmes deux jours toutes les semaines)\"\n",
      "\n",
      "### Ma réponse :\n",
      "*Ma réponse* : nombrejourdeteletravailmaxparsemaine=2\n",
      "\n",
      "### Mon raisonnement :\n",
      "*Mon raisonnement* : Dans le premier paragraphe extrait, il est indiqué que le télétravail récurrent s'organise dans la limite de deux jours par semaine. Cette information est confirmée dans le deuxième paragraphe extrait où il est indiqué que la première méthode d'organisation du télétravail propose 1, 1,5 ou 2 jours par semaine. Par conséquent, le nombre maximal de jours de télétravail par semaine est de 2.\n",
      "\n",
      "30 T07821008667\n"
     ]
    },
    {
     "name": "stderr",
     "output_type": "stream",
     "text": [
      "Setting `pad_token_id` to `eos_token_id`:2 for open-end generation.\n"
     ]
    },
    {
     "name": "stdout",
     "output_type": "stream",
     "text": [
      "Q_TTSEM_NOMBRE: * Mon extraction de deux paragraphes du document maximum pertinents qui répondent à la question :\n",
      "\n",
      "> \"Le télétravail fonctionne sur un schéma d’alternance de périodes travaillées en présentiel et de période où l’activité est réalisée au domicile du salarié. Les parties conviennent de limiter la situation de télétravail à 2 (deux) jours par semaine pour les salariés à temps plein et à 1 (un) jour par semaine pour les salariés travaillant à temps partiel et dans la mesure où ce temps partiel est supérieur ou égal à 80% d’un temps plein, de telle sorte que le lien social soit maintenu avec l’équipe de travail et l’encadrement.\"\n",
      "\n",
      "> \"Cependant, si des impératifs de service, ou du salarié l’exigent, les jours de télétravail définis pourront être modifiés avec un délai de prévenance raisonnable, sauf circonstances exceptionnelles. Cette modification si elle est permanente fera l’objet d’une déclaration par mail au service RH. L’avenant fera l’objet d’une modification.\"\n",
      "\n",
      "* Ma réponse : nombrejourdeteletravailmaxparsemaine=2\n",
      "* Mon raisonnement : Le premier paragraphe indique clairement que le télétravail est limité à 2 jours par semaine pour les salariés à temps plein.\n",
      "\n",
      "31 T02421001369\n"
     ]
    },
    {
     "name": "stderr",
     "output_type": "stream",
     "text": [
      "Setting `pad_token_id` to `eos_token_id`:2 for open-end generation.\n"
     ]
    },
    {
     "name": "stdout",
     "output_type": "stream",
     "text": [
      "Q_TTSEM_NOMBRE:Mon extraction de deux paragraphes du document maximum pertinents qui répondent à la question :\n",
      "\n",
      "* Article 1 – Prorogation de l’accord : « Les parties signataires décident de proroger jusqu’au 31 mars 2022 les dispositions de l’accord relatif à la mise en place du télétravail conclu en date du 20 novembre 2018 et de son avenant n°1 signé le 22 octobre 2020. »\n",
      "\n",
      "Ma réponse :\n",
      "nombrejourdeteletravailmaxparsemaine=0\n",
      "\n",
      "Mon raisonnement :\n",
      "Après avoir examiné attentivement les articles pertinents de l'accord, je n'ai trouvé aucune mention explicite du nombre de jours de télétravail autorisés par semaine. Par conséquent, en l'absence de preuve contraire, je dois conclure que le nombre de jours de télétravail par semaine n'est pas spécifié dans l'accord.\n",
      "\n",
      "32 T08621001524\n"
     ]
    },
    {
     "name": "stderr",
     "output_type": "stream",
     "text": [
      "Setting `pad_token_id` to `eos_token_id`:2 for open-end generation.\n"
     ]
    },
    {
     "name": "stdout",
     "output_type": "stream",
     "text": [
      "Q_TTSEM_NOMBRE: * Mon extraction de deux paragraphes du document maximum pertinents qui répondent à la question :\n",
      "\n",
      "> \"Les parties conviennent que le nombre de journée maximale de télétravail est fixé à une (1) par semaine\"\n",
      "\n",
      "> \"S’il y a une mention positive à du télétravail à 100% ou du full-remote, cela signifie que 5 jours de télétravail par semaine sont autorisés!\"\n",
      "\n",
      "* Ma réponse : nombrejourdeteletravailmaxparsemaine=5\n",
      "* Mon raisonnement : Dans le premier extrait, il est clairement stipulé que le nombre maximal de jour de télétravail par semaine est de 1. Cependant, dans le second extrait, il est mentionné que si le télétravail à 100% ou le full-remote est autorisé, alors le nombre de jours de télétravail par semaine est de 5. Comme aucune information supplémentaire n'est fournie, je dois retenir l'information la plus favorable au salarié, c'est-à-dire que le nombre de jours de télétravail par semaine est de 5.\n",
      "\n",
      "33 T04421009471\n"
     ]
    },
    {
     "name": "stderr",
     "output_type": "stream",
     "text": [
      "Setting `pad_token_id` to `eos_token_id`:2 for open-end generation.\n"
     ]
    },
    {
     "name": "stdout",
     "output_type": "stream",
     "text": [
      "Q_TTSEM_NOMBRE:\n",
      "* Mon extraction de deux paragraphes du document maximum pertinents qui répondent à la question :\n",
      "\n",
      "> De manière à concilier flexibilité de l’organisation du travail et prévention des risques psychosociaux pouvant être générés par le travail à distance (notamment la perte de lien avec la communauté de travail), le télétravail régulier aura une fréquence comprise entre 1 et 2 journées par semaine. Ces journées peuvent être fixes ou fluctuantes selon l’activité du salarié.\n",
      "\n",
      "> Un salarié souhaitant télétravailler plus de 2 jours par semaine ou à temps complet doit se rapprocher du service RH pour étudier les motivations et définir son éligibilité, afin de concilier les règles de préservation de la santé au travail du télétravailleur évoquées notamment dans le paragraphe 7.3.\n",
      "\n",
      "* Ma réponse :\n",
      "\n",
      "nombrejourdeteletravailmaxparsemaine=2\n",
      "\n",
      "* Mon raisonnement :\n",
      "\n",
      "Le premier paragraphe indique que le télétravail régulier aura une fréquence comprise entre 1 et 2 journées par semaine. Donc, le maximum de jours de télétravail par semaine est de 2.\n",
      "\n",
      "34 T06721006777\n"
     ]
    },
    {
     "name": "stderr",
     "output_type": "stream",
     "text": [
      "Setting `pad_token_id` to `eos_token_id`:2 for open-end generation.\n"
     ]
    },
    {
     "name": "stdout",
     "output_type": "stream",
     "text": [
      "Q_TTSEM_NOMBRE:> * Mon extraction de deux paragraphes du document maximum pertinents qui répondent à la question :\n",
      "\n",
      "* Paragraphe 1 : \"Le nombre de jours télétravaillables est fixé par journée entière à 2 jours par semaine au maximum, ceux-ci sont déterminés d'un commun accord entre le manager et le salarié.\"\n",
      "* Paragraphe 2 : \"Les parties signataires conviennent par ailleurs que tout salarié s’inscrivant dans le dispositif de télétravail régulier devra exercer son activité à minima 3 jours par semaine sur son lieu de travail de référence afin de préserver le collectif de travail.\"\n",
      "\n",
      "> * Ma réponse :\n",
      "\n",
      "nombrejourdeteletravailmaxparsemaine=2\n",
      "\n",
      "> * Mon raisonnement :\n",
      "\n",
      "Le paragraphe 1 précise que le nombre de jours télétravaillables est fixé à 2 jours par semaine. Cela répond directement à la question posée. Il n'est pas nécessaire de prendre en compte le paragraphe 2, qui précise simplement que les salariés doivent travailler au moins 3 jours sur site.\n",
      "\n",
      "35 T05721004568\n"
     ]
    },
    {
     "name": "stderr",
     "output_type": "stream",
     "text": [
      "Setting `pad_token_id` to `eos_token_id`:2 for open-end generation.\n"
     ]
    },
    {
     "name": "stdout",
     "output_type": "stream",
     "text": [
      "Q_TTSEM_NOMBRE:Mon extraction de deux paragraphes du document maximum pertinents qui répondent à la question :\n",
      "\n",
      "> Article 5 – Télétravail – (article L 1222-9 du Code du Travail)\n",
      "> Les salariés seront en télétravail au minimum,\n",
      "> Soit deux ½ journées par semaine\n",
      "> Soit une journée complète par semaine\n",
      "\n",
      "Ma réponse :\n",
      "nombrejourdeteletravailmaxparsemaine=2\n",
      "\n",
      "Mon raisonnement :\n",
      "Le paragraphe contient bien le mot-clé \"semaine\" et mentionne explicitement le nombre de jours de télétravail autorisés par semaine.\n",
      "\n",
      "36 T08721002004\n"
     ]
    },
    {
     "name": "stderr",
     "output_type": "stream",
     "text": [
      "Setting `pad_token_id` to `eos_token_id`:2 for open-end generation.\n"
     ]
    },
    {
     "name": "stdout",
     "output_type": "stream",
     "text": [
      "Q_TTSEM_NOMBRE:\n",
      "Extraction de deux paragraphes du document maximum pertinents qui répondent à la question :\n",
      "\n",
      "* \"Soit d’une enveloppe jours de télétravail, définie à hauteur de 25 jours pendant une période de 3 mois (période de réversibilité) et d’une période de 3 mois supplémentaire (période de transition); avec possibilité à l’issue de 6 mois de bénéficier de 50 jours maximum sur une année civile.\"\n",
      "* \"Afin de maintenir un lien suffisant entre le salarié et l’organisme, et notamment, de ne pas altérer le lien avec l’équipe de travail, le télétravailleur doit être présent dans son service au moins deux jours par semaine, quelle que soit la durée de son temps de travail.\"\n",
      "\n",
      "Ma réponse :\n",
      "nombrejourdeteletravailmaxparsemaine=3\n",
      "\n",
      "Mon raisonnement :\n",
      "Le premier paragraphe indique que le nombre maximal de jours de télétravail par an est de 50, et que ce nombre est atteint en prenant en compte une période de 6 mois avec une limite de 25 jours par période. En divisant le nombre de jours de télétravail par la durée de la période en semaines, on obtient un maximum de 3,57 jours de télétravail par semaine. Or, le deuxième paragraphe indique que le télétravailleur doit être présent dans son service au moins deux jours par semaine. Par conséquent, le nombre maximal de jours de télétravail par semaine est de 3.\n",
      "\n",
      "37 T07821007410\n"
     ]
    },
    {
     "name": "stderr",
     "output_type": "stream",
     "text": [
      "Setting `pad_token_id` to `eos_token_id`:2 for open-end generation.\n"
     ]
    },
    {
     "name": "stdout",
     "output_type": "stream",
     "text": [
      "Q_TTSEM_NOMBRE: * Mon extraction de paragraphes du document maximum pertinents qui répondent à la question :\n",
      "\n",
      "> \"Le télétravail pourra être exercé à hauteur de 2 jours par semaine pour un salarié à temps complet et 1 jour par semaine pour un salarié au 4/5ème.\"\n",
      "\n",
      " * Ma réponse :\n",
      "\n",
      "`nombrejourdeteletravailmaxparsemaine=2`\n",
      "\n",
      " * Mon raisonnement :\n",
      "\n",
      "Le paragraphe indique clairement que le télétravail peut être exercé à hauteur de 2 jours par semaine pour un salarié à temps complet.\n",
      "\n",
      "38 T09121006385\n"
     ]
    },
    {
     "name": "stderr",
     "output_type": "stream",
     "text": [
      "Setting `pad_token_id` to `eos_token_id`:2 for open-end generation.\n"
     ]
    },
    {
     "name": "stdout",
     "output_type": "stream",
     "text": [
      "Q_TTSEM_NOMBRE: * Mon extraction de deux paragraphes du document maximum pertinents qui répondent à la question :\n",
      "\n",
      "> Article 3-1- Nombre de journées travaillées\n",
      ">\n",
      "> Le télétravail ne devra pas dépasser 0,20 ETP par mois soit au plus une journée par semaine.\n",
      "\n",
      "> Pendant les jours de télétravail, le salarié restera joignable durant les horaires de référence qui lui sont applicables au sein de l’établissement et de son service d’affectation: ces plages horaires d'accessibilité seront fixées dans l'avenant à son contrat de travail formalisant le passage en télétravail, dans le respect de l'horaire collectif en vigueur au sein du Centre Hospitalier de Bligny.\n",
      "\n",
      "* Ma réponse :\n",
      "\n",
      "    nombrejourdeteletravailmaxparsemaine=1\n",
      "\n",
      "* Mon raisonnement :\n",
      "\n",
      "    Dans l'extrait du document, il est stipulé que \"Le télétravail ne devra pas dépasser 0,20 ETP par mois soit au plus une journée par semaine.\". Par conséquent, le nombre maximal de jours de télétravail par semaine est de 1.\n",
      "\n",
      "39 T06721007676\n"
     ]
    },
    {
     "name": "stderr",
     "output_type": "stream",
     "text": [
      "Setting `pad_token_id` to `eos_token_id`:2 for open-end generation.\n"
     ]
    },
    {
     "name": "stdout",
     "output_type": "stream",
     "text": [
      "Q_TTSEM_NOMBRE:Extraction de deux paragraphes du document maximum pertinents qui répondent à la question :\n",
      "\n",
      "* \"La répartition des jours travaillés en entreprises et à domicile : l’alternance et le nombre de jours de télétravail hebdomadaire seront définis à la rédaction de l’avenant.\"\n",
      "* \"Rythme du télétravail : afin d’éviter toute forme d’isolement et de faire perdurer le lien social, le salarié : doit être obligatoirement présent dans les locaux de l’entreprise le lundi, aura un rythme de télétravail sur une base hebdomadaire tel que défini dans son avenant au contrat de travail.\"\n",
      "\n",
      "Ma réponse :\n",
      "nombrejourdeteletravailmaxparsemaine=5\n",
      "\n",
      "Mon raisonnement :\n",
      "Le texte indique que le nombre de jours de télétravail hebdomadaire sera défini dans l'avenant au contrat de travail, mais il ne précise pas de limite. Cependant, il y a une mention positive à du télétravail à 100% ou du full-remote, ce qui signifie que 5 jours de télétravail par semaine sont autorisés.\n",
      "\n",
      "40 T06721006938\n"
     ]
    },
    {
     "name": "stderr",
     "output_type": "stream",
     "text": [
      "Setting `pad_token_id` to `eos_token_id`:2 for open-end generation.\n"
     ]
    },
    {
     "name": "stdout",
     "output_type": "stream",
     "text": [
      "Q_TTSEM_NOMBRE:\n",
      "Extraction du document :\n",
      "\n",
      "* Extrait 1 : \"Pour permettre aux salariés de maintenir un lien collectif et de prévenir le risque d’isolement, les parties au présent accord d’entreprise conviennent qu’en tout état de cause, pour les semaines où le salarié use de sa faculté de télétravailler, il devra être présent au minimum 2 jours par semaine sur son ou ses lieu(x) de travail habituel(s).\"\n",
      "* Extrait 2 : \"Il est précisé que les jours de télétravail initialement fixés, en accord avec le manager, doivent être respectés autant que possible. Cependant, pour des raisons d’organisation, qualité de service, de continuité de service ou de sécurité, le manager peut exceptionnellement annuler un jour de télétravail.\"\n",
      "\n",
      "Ma réponse :\n",
      "nombrejourdeteletravailmaxparsemaine=1\n",
      "\n",
      "Mon raisonnement :\n",
      "Dans le premier extrait, il est mentionné que le salarié doit être présent au minimum 2 jours par semaine sur son lieu de travail habituel. Cela implique que le nombre maximal de jours de télétravail par semaine est de 1 jour.\n",
      "\n",
      "41 T09221026978\n"
     ]
    },
    {
     "name": "stderr",
     "output_type": "stream",
     "text": [
      "Setting `pad_token_id` to `eos_token_id`:2 for open-end generation.\n",
      "Created a chunk of size 11621, which is longer than the specified 5000\n"
     ]
    },
    {
     "name": "stdout",
     "output_type": "stream",
     "text": [
      "Q_TTSEM_NOMBRE:\n",
      "* Mon extraction de deux paragraphes du document maximum pertinents qui répondent à la question :\n",
      "\n",
      "> \"Le télétravail imposé conduit le Salarié à travailler à partir de son domicile. Le domicile est entendu au sens de sa résidence principale. En cas de déménagement, le télétravailleur/la télétravailleuse s'engage à prévenir sans délai l’entreprise et à lui communiquer sa nouvelle adresse.\"\n",
      "\n",
      "> \"Le Salarié dispose par ailleurs d’un espace de travail dans les locaux de l’entreprise, auquel il peut avoir accès en fonction des règles instaurées par l’entreprise, qui prennent elles-mêmes en compte les recommandations des Pouvoirs Publics liées à la gestion de la crise sanitaire.\"\n",
      "\n",
      "* Ma réponse :\n",
      "\n",
      "nombrejourdeteletravailmaxparsemaine=0\n",
      "\n",
      "* Mon raisonnement :\n",
      "\n",
      "Dans les extraits du document fournis, il n'y a pas de mention spécifique du nombre de jours de télétravail autorisés par semaine. Il n'y a pas non plus de mention positive du télétravail à 100% ou du full-remote. Par conséquent, je ne peux pas affecter de valeur à la variable 'nombrejourdeteletravailmaxparsemaine'.\n",
      "\n",
      "42 T01321011332\n"
     ]
    },
    {
     "name": "stderr",
     "output_type": "stream",
     "text": [
      "Setting `pad_token_id` to `eos_token_id`:2 for open-end generation.\n"
     ]
    },
    {
     "name": "stdout",
     "output_type": "stream",
     "text": [
      "Q_TTSEM_NOMBRE:Mon extraction de deux paragraphes du document maximum pertinents qui répondent à la question :\n",
      "\n",
      "* \"Le télétravail est possible, si cela est compatible avec la durée du travail des salariés concernés, à concurrence de 0 à 2 jours ouvrés maximum par semaine, non consécutifs, sous condition de présence de 3 jours sur site (non reportable, non cumulable).\"\n",
      "* \"Sont éligibles les salariés remplissant les conditions cumulatives suivantes : Salariés ayant à leur domicile un espace adapté et des conditions de travail propices (par exemple, pas de perturbations type garde d’enfants, pas de rendez-vous personnels pendant la journée de travail…) ; conditions de travail permettant le respect du secret professionnel.\"\n",
      "\n",
      "Ma réponse :\n",
      "nombrejourdeteletravailmaxparsemaine=2\n",
      "\n",
      "Mon raisonnement :\n",
      "Le premier paragraphe indique clairement que le télétravail est possible à hauteur de 2 jours ouvrés maximum par semaine, ce qui correspond à mon interprétation de la variable demandée.\n",
      "\n",
      "43 T09221022859\n"
     ]
    },
    {
     "name": "stderr",
     "output_type": "stream",
     "text": [
      "Setting `pad_token_id` to `eos_token_id`:2 for open-end generation.\n"
     ]
    },
    {
     "name": "stdout",
     "output_type": "stream",
     "text": [
      "Q_TTSEM_NOMBRE:\n",
      "Extraction de deux paragraphes du document maximum pertinents qui répondent à la question :\n",
      "\n",
      "* ARTICLE 9. RYTHME DE TELETRAVAIL\n",
      "\n",
      "    Les Salaries a temps plein ne travailleront qu'au maximum 2 jours par semaine en teletravail et 1 seule joumee pour les Salaries a temps partiel.\n",
      "\n",
      "Ma réponse :\n",
      "nombrejourdeteletravailmaxparsemaine = 2\n",
      "\n",
      "Mon raisonnement :\n",
      "Le paragraphe contient explicitement le mot-clé \"semaine\" et indique le nombre maximal de jours de télétravail autorisés par semaine.\n",
      "\n",
      "44 T03021003019\n"
     ]
    },
    {
     "name": "stderr",
     "output_type": "stream",
     "text": [
      "Setting `pad_token_id` to `eos_token_id`:2 for open-end generation.\n"
     ]
    },
    {
     "name": "stdout",
     "output_type": "stream",
     "text": [
      "Q_TTSEM_NOMBRE: * Mon extraction de deux paragraphes du document maximum pertinents qui répondent à la question :\n",
      "\n",
      "Article 3: Typologie de télétravail\n",
      "Le présent accord a pour but de réglementer un télétravail lié à la gestion de la crise sanitaire.\n",
      "Pour répondre à l’état d’urgence et à la nécessité de faire perdurer le télétravail au sein des entreprises pour les emplois qui le permettent, le nombre de jours en télétravail pourra au maximum être de 4 par semaine.\n",
      "\n",
      "* Ma réponse :\n",
      "nombrejourdeteletravailmaxparsemaine=4\n",
      "\n",
      "* Mon raisonnement :\n",
      "Le paragraphe de l'article 3 indique clairement que le nombre de jours en télétravail pourra au maximum être de 4 par semaine. Cette information est donc explicitement indiquée dans le document.\n",
      "\n",
      "45 T09121006120\n"
     ]
    },
    {
     "name": "stderr",
     "output_type": "stream",
     "text": [
      "Setting `pad_token_id` to `eos_token_id`:2 for open-end generation.\n"
     ]
    },
    {
     "name": "stdout",
     "output_type": "stream",
     "text": [
      "Q_TTSEM_NOMBRE:\n",
      "* Mon extraction de deux paragraphes du document maximum pertinents qui répondent à la question :\n",
      "\n",
      "\"Les jours de télétravail doivent par principe être pris par journée entière et ne peuvent conduire le salarié à s’absenter en télétravail plus de deux journées pour une semaine de cinq jours.\"\n",
      "\n",
      "\"A l’échelle d’un service, il est possible de définir des journées comme non accessibles au télétravail afin de préserver le lien social, les rituels d’équipes et le travail collectif. Les réunions seront prioritairement organisées sur ces journées.\"\n",
      "\n",
      "* Ma réponse :\n",
      "\n",
      "nombrejourdeteletravailmaxparsemaine=2\n",
      "\n",
      "* Mon raisonnement :\n",
      "\n",
      "Le premier paragraphe extrait indique que le salarié ne peut s'absenter en télétravail plus de deux journées pour une semaine de cinq jours. Cela signifie que le nombre maximal de jour de télétravail par semaine est de 2.\n",
      "\n",
      "46 T07221003271\n"
     ]
    },
    {
     "name": "stderr",
     "output_type": "stream",
     "text": [
      "Setting `pad_token_id` to `eos_token_id`:2 for open-end generation.\n"
     ]
    },
    {
     "name": "stdout",
     "output_type": "stream",
     "text": [
      "Q_TTSEM_NOMBRE:\n",
      "* Mon extraction de paragraphes pertinents :\n",
      "\n",
      "Il n'y a pas de mention explicite de jours de télétravail par semaine dans le texte fourni.\n",
      "\n",
      "* Ma réponse :\n",
      "\n",
      "nombrejourdeteletravailmaxparsemaine=0\n",
      "\n",
      "* Mon raisonnement :\n",
      "\n",
      "Le texte ne contient aucune information sur le nombre maximal de jours de télétravail par semaine. Par conséquent, je ne peux pas attribuer de valeur à la variable 'nombrejourdeteletravailmaxparsemaine' autre que zéro.\n",
      "\n",
      "47 T00621004760\n"
     ]
    },
    {
     "name": "stderr",
     "output_type": "stream",
     "text": [
      "Setting `pad_token_id` to `eos_token_id`:2 for open-end generation.\n",
      "Created a chunk of size 10412, which is longer than the specified 5000\n"
     ]
    },
    {
     "name": "stdout",
     "output_type": "stream",
     "text": [
      "Q_TTSEM_NOMBRE:Mon extraction de deux paragraphes du document maximum pertinents qui répondent à la question :\n",
      "\n",
      "* \"La réponse favorable ou défavorable est apportée par le manager par mail, copie RRH. Le télétravail occasionnel ne donne pas lieu à un avenant au contrat de travail.\"\n",
      "* \"Le salarié adresse sa demande de télétravail par mail à son manager, copie RRH, en précisant la date du jour de télétravail souhaité. Le choix du jour est fixé sur proposition du salarié avec l’accord préalable du manager, le mardi ou jeudi, à l’instar du télétravail régulier prévu au Chapitre 1 du présent accord. Le manager a la faculté de refuser le jour proposé par le salarié compte tenu de l’organisation du service.\"\n",
      "\n",
      "Ma réponse :\n",
      "nombrejourdeteletravailmaxparsemaine=2\n",
      "\n",
      "Mon raisonnement :\n",
      "Le premier paragraphe indique que le télétravail occasionnel ne donne pas lieu à un avenant au contrat de travail, ce qui implique qu'il n'y a pas de limite explicite au nombre de jours de télétravail par semaine. Cependant, le deuxième paragraphe indique que le choix du jour est fixé sur proposition du salarié avec l'accord préalable du manager, et que le manager a la faculté de refuser le jour proposé par le salarié compte tenu de l'organisation du service. Cette restriction implique qu'il ne peut y avoir plus de deux jours de télétravail par semaine, car il n'y a que deux jours proposés (mardi et jeudi) et le manager peut refuser l'un d'entre eux.\n",
      "\n",
      "48 T07521029992\n"
     ]
    },
    {
     "name": "stderr",
     "output_type": "stream",
     "text": [
      "Setting `pad_token_id` to `eos_token_id`:2 for open-end generation.\n"
     ]
    },
    {
     "name": "stdout",
     "output_type": "stream",
     "text": [
      "Q_TTSEM_NOMBRE: * Mon extraction de deux paragraphes du document maximum pertinents qui répondent à la question :\n",
      "\n",
      "> L’objectif est que tout collaborateur du CNM soit en présentiel dans les locaux du CNM a minima 3 jours par semaine, étant précisé que ces dispositions s’appliquent sauf dispositions contractuelles différentes. [...] Le 3ème jour de présentiel pourra être évolutif en fonction des semaines et des services et sera fixé en accord avec la Direction afin qu’aucun service ne soit désorganisé, étant précisé que s’agissant de collaborateur à temps partiel ou en forfait jours réduit dans le service, leur situation sera prise en compte pour déterminer ce 3ème jour. Il pourra par ailleurs être télétravaillé, en fonction des services et en accord avec la Direction.\n",
      "\n",
      "> Organisation générale du télétravail Nombre de jours télétravaillés L’objectif est que tout collaborateur du CNM soit en présentiel dans les locaux du CNM a minima 3 jours par semaine, étant précisé que ces dispositions s’appliquent sauf dispositions contractuelles différentes.\n",
      "\n",
      "* Ma réponse : nombrejourdeteletravailmaxparsemaine=2\n",
      "* Mon raisonnement : Dans le premier paragraphe, on peut voir que le but est que chaque collaborateur soit présent physiquement au moins 3 jours par semaine. Donc, il ne peut pas travailler plus de 2 jours par semaine à distance.\n",
      "\n",
      "49 T05721004723\n"
     ]
    },
    {
     "name": "stderr",
     "output_type": "stream",
     "text": [
      "Setting `pad_token_id` to `eos_token_id`:2 for open-end generation.\n"
     ]
    },
    {
     "name": "stdout",
     "output_type": "stream",
     "text": [
      "Q_TTSEM_NOMBRE: * Mon extraction de deux paragraphes du document maximum pertinents qui répondent à la question :\n",
      "\n",
      "> Article 4 : TRAVAIL À DISTANCE\n",
      "> Au 1er juin 2021, tous les collaborateurs pourront bénéficier de 2 jours / semaine de travail à distance.\n",
      "> Cette mesure s’appliquera quel que soit le type de contrat, quel que soit le statut et pour tous les postes ne nécessitant pas une présence physique sur site.\n",
      "\n",
      "* Ma réponse :\n",
      "\n",
      "    nombrejourdeteletravailmaxparsemaine=2\n",
      "\n",
      "* Mon raisonnement :\n",
      "\n",
      "    Dans l'extrait du document, il est stipulé que \"Au 1er juin 2021, tous les collaborateurs pourront bénéficier de 2 jours / semaine de travail à distance.\". Donc, un employé peut télétravailler jusqu'à 2 jours par semaine.\n",
      "\n",
      "50 T09221026359\n"
     ]
    },
    {
     "name": "stderr",
     "output_type": "stream",
     "text": [
      "Setting `pad_token_id` to `eos_token_id`:2 for open-end generation.\n"
     ]
    },
    {
     "name": "stdout",
     "output_type": "stream",
     "text": [
      "Q_TTSEM_NOMBRE:\n",
      "* Mon extraction de deux paragraphes du document maximum pertinents qui répondent à la question :\n",
      "\n",
      "> \"4.1 Planification des jours de télétravail sur la semaine (en cas de télétravail régulier)\n",
      ">\n",
      "> Le collaborateur et le manager concernés devront déterminer ensemble le ou les jours de la semaine qui seront en principe effectués en télétravail.\n",
      ">\n",
      "> Le télétravail régulier suppose à minima une journée en télétravail par semaine, sans pouvoir excéder trois jours de télétravail par semaine.\"\n",
      "\n",
      "* Ma réponse :\n",
      "\n",
      "nombrejourdeteletravailmaxparsemaine=3\n",
      "\n",
      "* Mon raisonnement :\n",
      "\n",
      "Le paragraphe indique que le télétravail régulier suppose à minima une journée en télétravail par semaine, sans pouvoir excéder trois jours de télétravail par semaine. Donc, le nombre maximum de jours de télétravail par semaine est de 3.\n",
      "\n",
      "51 T03121008941\n"
     ]
    },
    {
     "name": "stderr",
     "output_type": "stream",
     "text": [
      "Setting `pad_token_id` to `eos_token_id`:2 for open-end generation.\n"
     ]
    },
    {
     "name": "stdout",
     "output_type": "stream",
     "text": [
      "Q_TTSEM_NOMBRE:Mon extraction de deux paragraphes du document maximum pertinents qui répondent à la question :\n",
      "\n",
      "* \"Le nombre de jour de télétravail ne pourra excéder 2 jours par semaine, et 1 jour pour les salariés à temps partiel selon article 2.\"\n",
      "* \"Le cas particulier des femmes enceintes à compter de la déclaration de grossesse feront l’objet d’un traitement spécifique adapté au cas par cas, en accord avec le manager, et le nombre de journées télétravaillées pourra être supérieur à ceux défini dans cet accord.\"\n",
      "\n",
      "Ma réponse :\n",
      "nombrejourdeteletravailmaxparsemaine=2\n",
      "\n",
      "Mon raisonnement :\n",
      "Le premier paragraphe indique clairement que le nombre de jours de télétravail ne peut excéder 2 jours par semaine, sauf pour les salariés à temps partiel qui ont droit à 1 jour par semaine. Comme il n'est pas précisé de limite supérieure pour les femmes enceintes, je suppose que la limite maximale est toujours de 2 jours par semaine pour elles aussi.\n",
      "\n",
      "52 T06821004734\n"
     ]
    },
    {
     "name": "stderr",
     "output_type": "stream",
     "text": [
      "Setting `pad_token_id` to `eos_token_id`:2 for open-end generation.\n"
     ]
    },
    {
     "name": "stdout",
     "output_type": "stream",
     "text": [
      "Q_TTSEM_NOMBRE:\n",
      "* Mon extraction de deux paragraphes du document maximum pertinents qui répondent à la question :\n",
      "\n",
      "> Article 8 : FREQUENCE ET NOMBRE DE JOURS TELETRAVAILLES\n",
      ">\n",
      "> Le nombre maximal de jours de télétravail est fixé annuellement et de façon forfaitaire.\n",
      "> Il est également pondéré en fonction du temps de travail de chaque salarié comme suit :\n",
      "> Nombre de jours calculé sur la base d’une moyenne de 3 jours de télétravail par mois et par équivalent temps plein, sur 10 mois à l’année (déduction faite des 5 semaines de congés payés, des jours de crédit d’heures, de réunion d’équipe et de formation).\n",
      "\n",
      "* Ma réponse :\n",
      "\n",
      "nombrejourdeteletravailmaxparsemaine=3\n",
      "\n",
      "* Mon raisonnement :\n",
      "\n",
      "Le paragraphe indique clairement que le nombre de jours de télétravail est calculé sur la base d'une moyenne de 3 jours par mois et par équivalent temps plein, sur 10 mois à l'année. Donc, le nombre maximum de jours de télétravail par semaine est de 3/10=0.3 jours, ce qui est inférieur à 1 jour. Cependant, comme le stipule l'instruction, je dois arrondir le nombre de jours de télétravail par semaine à l'entier supérieur, donc la réponse est 3 jours de télétravail par semaine.\n",
      "\n",
      "53 T08421002482\n"
     ]
    },
    {
     "name": "stderr",
     "output_type": "stream",
     "text": [
      "Setting `pad_token_id` to `eos_token_id`:2 for open-end generation.\n"
     ]
    },
    {
     "name": "stdout",
     "output_type": "stream",
     "text": [
      "Q_TTSEM_NOMBRE: * Mon extraction de deux paragraphes du document maximum pertinents qui répondent à la question :\n",
      "    > Article 3 : Typologie de télétravail\n",
      "    > Le présent accord a pour but de réglementer un télétravail dit occasionnel, sur demande du salarié pour convenance personnelle. **Il ne s’agit en aucun cas de créer une réglementation permettant un télétravail permanent qu’il soit total ou partiel.** Le nombre de jours de télétravail ne pourra pas être supérieur à 2 jours par semaine pour un temps plein.\n",
      "\n",
      "* Ma réponse : nombrejourdeteletravailmaxparsemaine=2\n",
      "* Mon raisonnement : Dans le paragraphe \"Article 3 : Typologie de télétravail\", il est stipulé que le télétravail ne peut excéder 2 jours par semaine pour un temps plein.\n",
      "\n",
      "54 T09221023213\n"
     ]
    },
    {
     "name": "stderr",
     "output_type": "stream",
     "text": [
      "Setting `pad_token_id` to `eos_token_id`:2 for open-end generation.\n"
     ]
    },
    {
     "name": "stdout",
     "output_type": "stream",
     "text": [
      "Q_TTSEM_NOMBRE:Extraction du document :\n",
      "\n",
      "* \"Tant que les pouvoirs publics préconiseront un recours massif au télétravail, Mutex accordera une allocation forfaitaire calculée au prorata du temps télétravaillé. Ce dernier aura comme référence le mois.\"\n",
      "* \"En conséquence, le plafond d’allocations que percevra un collaborateur sera de 50 € par mois pour 5 jours de télétravail par semaine.\"\n",
      "\n",
      "Ma réponse :\n",
      "nombrejourdeteletravailmaxparsemaine=5\n",
      "\n",
      "Mon raisonnement :\n",
      "Le document indique que l'allocation forfaitaire est calculée au prorata du temps télétravaillé, avec comme référence le mois. De plus, il est précisé que le plafond d'allocations pour un collaborateur est de 50€ par mois pour 5 jours de télétravail par semaine. Par conséquent, nous pouvons en déduire que le nombre maximal de jours de télétravail par semaine est de 5.\n",
      "\n",
      "55 T09221025050\n"
     ]
    },
    {
     "name": "stderr",
     "output_type": "stream",
     "text": [
      "Setting `pad_token_id` to `eos_token_id`:2 for open-end generation.\n"
     ]
    },
    {
     "name": "stdout",
     "output_type": "stream",
     "text": [
      "Q_TTSEM_NOMBRE:Extraction de deux paragraphes du document maximum pertinents qui répondent à la question :\n",
      "\n",
      "* Article 3.1. Le principe : un dispositif flexible basé sur un quota annuel de jours en télétravail. Ce dispositif s’applique indistinctement à l’ensemble des établissements de SFIL et à l’ensemble des collaborateurs (CDI/CDD/alternants/stagiaires). Dans le cadre de ce dispositif, la sanctuarisation de temps « forts » (de l’entreprise, de Direction, d’équipe, de Direction, etc.) doit être une priorité.\n",
      "* Chaque encadrant aura la possibilité de désigner un référent télétravail au sein de son équipe, sous réserve de l’accord de ce collaborateur.\n",
      "\n",
      "Ma réponse :\n",
      "nombrejourdeteletravailmaxparsemaine=5\n",
      "\n",
      "Mon raisonnement :\n",
      "Le texte indique que le télétravail est possible pour tous les salariés de l'entreprise, sans distinction, et que le dispositif est flexible. De plus, il est mentionné que la sanctuarisation de temps « forts » doit être une priorité, ce qui suggère que le télétravail est possible tous les jours de la semaine, y compris le vendredi. Par conséquent, je conclus que le nombre maximal de jours de télétravail par semaine est de 5.\n",
      "\n",
      "56 T03121008136\n"
     ]
    },
    {
     "name": "stderr",
     "output_type": "stream",
     "text": [
      "Setting `pad_token_id` to `eos_token_id`:2 for open-end generation.\n"
     ]
    },
    {
     "name": "stdout",
     "output_type": "stream",
     "text": [
      "Q_TTSEM_NOMBRE:\n",
      "* Mon extraction de deux paragraphes du document maximum pertinents qui répondent à la question :\n",
      "\n",
      "> ARTICLE 9 – FREQUENCE ET NOMBRE DE JOURS TELETRAVAILLES\n",
      "> Les jours de télétravail seront fixés selon les modalités suivantes\t: un jour maximum par semaine.\n",
      "> Les Parties s’accordent sur l’importance du maintien du lien social, de la cohésion et du bon fonctionnement des équipes et recommandent pour cela que le salarié télétravailleur dispose d’au moins 4 jours de présence par semaine dans l’entreprise, sauf semaine avec jour férié.\n",
      "\n",
      "* Ma réponse :\n",
      "\n",
      "    nombrejourdeteletravailmaxparsemaine=1\n",
      "    nombrejoursursiteparsemaine=4\n",
      "\n",
      "* Mon raisonnement :\n",
      "\n",
      "    Selon l'article 9, le nombre maximal de jours de télétravail par semaine est de 1 jour. De plus, les parties recommandent que le salarié télétravailleur dispose d'au moins 4 jours de présence par semaine dans l'entreprise, sauf semaine avec jour férié.\n",
      "\n",
      "57 T09221024009\n"
     ]
    },
    {
     "name": "stderr",
     "output_type": "stream",
     "text": [
      "Setting `pad_token_id` to `eos_token_id`:2 for open-end generation.\n"
     ]
    },
    {
     "name": "stdout",
     "output_type": "stream",
     "text": [
      "Q_TTSEM_NOMBRE:\n",
      "* Mon extraction de deux paragraphes du document maximum pertinents qui répondent à la question :\n",
      "\n",
      "> \"Pour autant, les parties partagent le fait que les conditions ergonomiques ne sont pas autant satisfaisantes que sur le lieu de travail habituel au sein des locaux de l’entreprise.\"\n",
      "\n",
      "> \"C’est pourquoi, les parties conviennent d’une participation d’IFP Training, sous la forme d’un remboursement de frais à hauteur de 80 euros TTC maximum pour l’achat d’un siège ergonomique ou d’une table-bureau, participation limitée à une fois par salarié.\"\n",
      "\n",
      "* Ma réponse : nombrejourdeteletravailmaxparsemaine=0\n",
      "* Mon raisonnement : Dans le contexte fourni, il n'y a aucune mention du nombre de jours de télétravail autorisés par semaine.\n",
      "\n",
      "58 T09221025668\n"
     ]
    },
    {
     "name": "stderr",
     "output_type": "stream",
     "text": [
      "Setting `pad_token_id` to `eos_token_id`:2 for open-end generation.\n"
     ]
    },
    {
     "name": "stdout",
     "output_type": "stream",
     "text": [
      "Q_TTSEM_NOMBRE:\n",
      "* Mon extraction de deux paragraphes du document maximum pertinents qui répondent à la question :\n",
      "\n",
      "    Article 10 : Répartition des jours de travail\n",
      "\n",
      "    Le nombre de jours de télétravail est déterminé en accord avec le manager qui peut limiter le nombre de jours de télétravail dont peuvent bénéficier les salariés de son équipe de façon notamment à ne pas affecter l’organisation et l’activité du service.\n",
      "\n",
      "* Ma réponse :\n",
      "\n",
      "    nombrejourdeteletravailmaxparsemaine=1\n",
      "\n",
      "* Mon raisonnement :\n",
      "\n",
      "    Selon l'article 10, le nombre de jours de télétravail est déterminé en accord avec le manager qui peut limiter le nombre de jours de télétravail dont peuvent bénéficier les salariés de son équipe. Par conséquent, le nombre maximal de jours de télétravail par semaine est de 1 jour.\n",
      "\n",
      "59 T06021003016\n"
     ]
    },
    {
     "name": "stderr",
     "output_type": "stream",
     "text": [
      "Setting `pad_token_id` to `eos_token_id`:2 for open-end generation.\n"
     ]
    },
    {
     "name": "stdout",
     "output_type": "stream",
     "text": [
      "Q_TTSEM_NOMBRE:Extraction de deux paragraphes du document maximum pertinents qui répondent à la question :\n",
      "\n",
      "* Article 12 – Organisation du télétravail : « Afin de préserver le lien avec l’entreprise et d’éviter les périodes d’isolement, le télétravail régulier peut être organisé à raison de 2 jours maximum par semaine entière de 5 jours ouvrés. »\n",
      "\n",
      "Ma réponse :\n",
      "nombrejourdeteletravailmaxparsemaine=2\n",
      "\n",
      "Mon raisonnement :\n",
      "Le paragraphe contient le mot-clé \"semaine\" et indique que le télétravail régulier peut être organisé à raison de 2 jours maximum par semaine entière de 5 jours ouvrés.\n",
      "\n",
      "60 T06821004760\n"
     ]
    },
    {
     "name": "stderr",
     "output_type": "stream",
     "text": [
      "Setting `pad_token_id` to `eos_token_id`:2 for open-end generation.\n"
     ]
    },
    {
     "name": "stdout",
     "output_type": "stream",
     "text": [
      "Q_TTSEM_NOMBRE:\n",
      "* Mon extraction de deux paragraphes du document maximum pertinents qui répondent à la question :\n",
      "\n",
      "    \"La société Endress+Hauser souhaite offrir la possibilité de télétravailler, sous certaines conditions, à ses collaborateurs. Toutefois, les parties soulignent que certaines fonctions dites «itinérantes» sont déjà exercées hors des locaux de l’entreprise et qu’elles sont donc exclues du champ d’application du présent accord.\"\n",
      "    \n",
      "    \"Les parties reconnaissent que le télétravail est fondé sur la capacité du salarié à exercer ses fonctions de façon autonome et régulière. Aussi, sont éligibles au télétravail, les salariés dont l’activité en télétravail est compatible avec le fonctionnement de leur service et ne nécessitant pas un soutien managérial rapproché.\"\n",
      "\n",
      "* Ma réponse :\n",
      "\n",
      "    nombrejourdeteletravailmaxparsemaine=5\n",
      "\n",
      "* Mon raisonnement :\n",
      "\n",
      "    Dans le premier paragraphe, il est mentionné que la société souhaite offrir la possibilité de télétravailler à ses collaborateurs, ce qui implique que le télétravail à 100% ou le full-remote est autorisé. Par conséquent, conformément aux instructions, je dois affecter à la variable nombrejourdeteletravailmaxparsemaine la valeur 5.\n",
      "\n",
      "61 T07821008551\n"
     ]
    },
    {
     "name": "stderr",
     "output_type": "stream",
     "text": [
      "Setting `pad_token_id` to `eos_token_id`:2 for open-end generation.\n"
     ]
    },
    {
     "name": "stdout",
     "output_type": "stream",
     "text": [
      "Q_TTSEM_NOMBRE:\n",
      "* Mon extraction de deux paragraphes du document maximum pertinents qui répondent à la question :\n",
      "\n",
      "> \"De manière générale, le télétravail s’exerce à raison de deux journées fixes par semaine maximum.\"\n",
      ">\n",
      "> \"Dès l’embauche, le télétravail peut s’exercer à raison d’une journée entière fixe par semaine, pour une période de 6 mois, à compter de la date d’embauche.\"\n",
      "\n",
      "* Ma réponse :\n",
      "\n",
      "    nombrejourdeteletravailmaxparsemaine=2\n",
      "\n",
      "* Mon raisonnement :\n",
      "\n",
      "    Selon le premier paragraphe extrait, le télétravail s'exerce à raison de deux journées fixes par semaine maximum. Donc, le nombre maximal de jours de télétravail par semaine est de 2.\n",
      "\n",
      "62 T09521004176\n"
     ]
    },
    {
     "name": "stderr",
     "output_type": "stream",
     "text": [
      "Setting `pad_token_id` to `eos_token_id`:2 for open-end generation.\n"
     ]
    },
    {
     "name": "stdout",
     "output_type": "stream",
     "text": [
      "Q_TTSEM_NOMBRE:> * Mon extraction de deux paragraphes du document maximum pertinents qui répondent à la question :\n",
      "\n",
      "Article 7) Trois types de télétravail\n",
      "7.1) Le télétravail hebdomadaire régulier (le ou les mêmes jours de chaque semaine civile)\n",
      "Le salarié télétravaille chaque semaine civile, durant le nombre de jour convenu et sur les jours de la semaine qui ont été fixés avec son manager. Le manager conserve le dernier mot, tant sur le nombre de jour de télétravail que sur la répartition sur la semaine civile.\n",
      "Le télétravail régulier peut-être de 1 ou de 2 jours par semaine.\n",
      "Il peut être porté à un maximum de 3 jours par semaine pour des salariés en forte autonomie de travail (selon l’estimation partagée par le collaborateur et le manager).\n",
      "\n",
      "Article 8) Cas particuliers et restrictions (limitation du nombre de jour télétravaillable par semaine civile)\n",
      "En raison des besoins ou attentes de l’Entreprise, le nombre de jour télétravaillable est\n",
      "limitée à 1 jour par semaine civile\n",
      "pour les populations suivantes\n",
      "Formateurs Conseil/tradi;\n",
      "ASAV et CAF VPI;\n",
      "Fifties PORTABLE;\n",
      "\n",
      "> * Ma réponse :\n",
      "\n",
      "nombrejourdeteletravailmaxparsemaine=1\n",
      "\n",
      "> * Mon raisonnement :\n",
      "\n",
      "Le paragraphe 7.1) du document mentionne explicitement le nombre de jours de télétravail autorisés par semaine, qui est de 1, 2 ou 3 jours. Cependant, l'article 8) mentionne des restrictions pour certaines populations, limitant le nombre de jours télétravaillables à 1 jour par semaine civile. Par conséquent, je retourne 1 jour de télétravail par semaine.\n",
      "\n",
      "63 T59V21001231\n"
     ]
    },
    {
     "name": "stderr",
     "output_type": "stream",
     "text": [
      "Setting `pad_token_id` to `eos_token_id`:2 for open-end generation.\n"
     ]
    },
    {
     "name": "stdout",
     "output_type": "stream",
     "text": [
      "Q_TTSEM_NOMBRE: * Mon extraction de deux paragraphes du document maximum pertinents qui répondent à la question :\n",
      "\n",
      "> \"Le lieu de télétravail est la résidence principale du salarié (c’est-à-dire celle dont l’adresse figure sur le bulletin de paie).\"\n",
      "\n",
      "> \"La direction convient que le télétravail est fondé sur la capacité du salarié à exercer ses fonctions de façon autonome et implique que l’activité du salarié puisse être exercée à distance.\"\n",
      "\n",
      "* Ma réponse : nombrejourdeteletravailmaxparsemaine=5\n",
      "* Mon raisonnement : Dans le premier extrait, il est indiqué que le télétravail se fait à la résidence principale du salarié, ce qui signifie que le salarié travaille chez lui. Dans le deuxième extrait, il est mentionné que l'activité du salarié peut être exercée à distance, ce qui inclut la possibilité de travailler tous les jours de la semaine. En outre, il n'y a aucune limitation explicite du nombre de jours de télétravail par semaine dans le texte. Par conséquent, je conclus que le nombre maximal de jours de télétravail par semaine est de 5.\n",
      "\n",
      "64 T08821002242\n"
     ]
    },
    {
     "name": "stderr",
     "output_type": "stream",
     "text": [
      "Setting `pad_token_id` to `eos_token_id`:2 for open-end generation.\n"
     ]
    },
    {
     "name": "stdout",
     "output_type": "stream",
     "text": [
      "Q_TTSEM_NOMBRE:Extraction de deux paragraphes du document maximum pertinents qui répondent à la question :\n",
      "\n",
      "* ARTICLE 6 – MODALITES D’ORGANISATION DU TELETRAVAIL\\nDe sorte à éviter le risque d’une « distanciation » avec l’entreprise, le nombre de jours maximum en télétravail est fixé à 2 jours par semaine pour un collaborateur à temps plein.\n",
      "\n",
      "Ma réponse :\n",
      "nombrejourdeteletravailmaxparsemaine=2\n",
      "\n",
      "Mon raisonnement :\n",
      "Le paragraphe contient explicitement le mot-clé \"semaine\" et indique que le nombre de jours maximum en télétravail est fixé à 2 jours par semaine pour un collaborateur à temps plein.\n",
      "\n",
      "65 T04421010974\n"
     ]
    },
    {
     "name": "stderr",
     "output_type": "stream",
     "text": [
      "Setting `pad_token_id` to `eos_token_id`:2 for open-end generation.\n"
     ]
    },
    {
     "name": "stdout",
     "output_type": "stream",
     "text": [
      "Q_TTSEM_NOMBRE:Mon extraction de deux paragraphes du document maximum pertinents qui répondent à la question :\n",
      "\n",
      "* \"Le télétravail doit être exercé par jour entier. Cependant, il est possible de déroger à ce principe pour les salariés ayant un temps de travail amenant à la réalisation de demi-journées de travail. Il sera possible dans ce cas d’accorder le télétravail par demi-journée sous réserve que l’agent respecte le temps minimum de présence de 3 jours sur site le reste de la semaine.\"\n",
      "* \"Afin de garantir la pérennité du collectif de travail, le manager est invité pour la bonne organisation de son service à décider d’un jour de présence sur site commun à l’ensemble de ses collaborateurs (par exemple : tenue de réunions indispensables au bon fonctionnement du service), excluant de fait la possibilité de télétravailler le jour concerné pour l’ensemble des collaborateurs.\"\n",
      "\n",
      "Ma réponse :\n",
      "nombrejourdeteletravailmaxparsemaine=1\n",
      "\n",
      "Mon raisonnement :\n",
      "Le premier paragraphe indique qu'il est possible de déroger au principe d'un jour entier de télétravail, mais que dans ce cas, le salarié doit respecter un temps minimum de présence de 3 jours sur site le reste de la semaine. Cela implique qu'il ne peut pas y avoir plus d'1 jour de télétravail par semaine. Le deuxième paragraphe confirme qu'il ne peut pas y avoir plus d'1 jour de télétravail par semaine en indiquant qu'un jour de présence sur site commun à l'ensemble des collaborateurs exclut la possibilité de télétravailler ce jour-là pour l'ensemble des collaborateurs.\n",
      "\n",
      "66 T09221023345\n"
     ]
    },
    {
     "name": "stderr",
     "output_type": "stream",
     "text": [
      "Setting `pad_token_id` to `eos_token_id`:2 for open-end generation.\n"
     ]
    },
    {
     "name": "stdout",
     "output_type": "stream",
     "text": [
      "Q_TTSEM_NOMBRE: * Mon extraction de deux paragraphes du document maximum pertinents qui répondent à la question :\n",
      "\n",
      "> \"Le télétravail sera mis en œuvre par journée entière de travail, dans la limite de deux jours par semaine. Le ou les jour(s) de télétravail est/sont défini(s) en accord avec le manager selon les besoins de l'équipe.\"\n",
      "\n",
      "> \"Sauf accord express dérogatoire de son management, le salarié en télétravail reste tenu, le ou les jour(s) de télétravail fixé(s) : - D'effectuer tout déplacement professionnel rendu nécessaire par les besoins de sa mission ; - D'assister aux réunions et formations en présentiel pour lesquelles il est convoqué. Dans ce cas, le salarié devra être informé au moins 72h à l'avance.\"\n",
      "\n",
      "* Ma réponse : nombrejourdeteletravailmaxparsemaine=2\n",
      "* Mon raisonnement : Le paragraphe indique que le télétravail est mis en oeuvre par journée entière de travail, dans la limite de deux jours par semaine. Donc, le maximum de jours de télétravail par semaine est de 2.\n",
      "\n",
      "67 T09221027087\n"
     ]
    },
    {
     "name": "stderr",
     "output_type": "stream",
     "text": [
      "Setting `pad_token_id` to `eos_token_id`:2 for open-end generation.\n"
     ]
    },
    {
     "name": "stdout",
     "output_type": "stream",
     "text": [
      "Q_TTSEM_NOMBRE: * Mon extraction de deux paragraphes du document maximum pertinents qui répondent à la question :\n",
      "\n",
      "> Selon les recommandations sanitaires, il peut être imposé aux salariés un télétravail à 100%.\n",
      "> \n",
      "> En cas de télétravail en dessous de 100%, les jours télétravaillés dans la semaine sont convenus entre le Salarié et son manager, le cas échéant après avis de la Direction des Ressources Humaines, afin de respecter une jauge dans les locaux de l’entreprise qui soit adaptée à la situation sanitaire.\n",
      "\n",
      "* Ma réponse :\n",
      "\n",
      "    nombrejourdeteletravailmaxparsemaine=5\n",
      "\n",
      "* Mon raisonnement :\n",
      "\n",
      "    Le premier paragraphe indique que le télétravail à 100% peut être imposé, ce qui signifie que 5 jours de télétravail par semaine sont autorisés.\n",
      "\n",
      "68 T07821008583\n"
     ]
    },
    {
     "name": "stderr",
     "output_type": "stream",
     "text": [
      "Setting `pad_token_id` to `eos_token_id`:2 for open-end generation.\n"
     ]
    },
    {
     "name": "stdout",
     "output_type": "stream",
     "text": [
      "Q_TTSEM_NOMBRE:Mon extraction de deux paragraphes du document maximum pertinents qui répondent à la question :\n",
      "\n",
      "* \"Le télétravail régulier débute par une période d’adaptation d’une durée égale au quart de la durée convenue de télétravail, étant rappelé que celle-ci ne peut excéder 1 an. [...] Pour le salarié, cette période permet de vérifier si l'activité en télétravail lui convient.\"\n",
      "* \"Les jours de télétravail régulier et occasionnel ne se cumulent pas au cours d’un même mois. Dans le cas où le nombre de jours de télétravail régulier conclu par avenant au contrat serait inférieur au nombre de jours de télétravail occasionnel autorisés pour le mois en cours, l’avenant au contrat précisera le cas échéant le solde de jours de télétravail occasionnel restant disponible à l’issue de la période de télétravail prévue dans l’avenant au contrat.\"\n",
      "\n",
      "Ma réponse :\n",
      "nombrejourdeteletravailmaxparsemaine=5\n",
      "\n",
      "Mon raisonnement :\n",
      "Le document mentionne que le télétravail régulier peut être à temps plein ou à temps partiel, et que les jours de télétravail régulier et occasionnel ne se cumulent pas au cours d’un même mois. De plus, il est mentionné que le télétravail à 100% ou le full-remote est autorisé, ce qui signifie que 5 jours de télétravail par semaine sont autorisés. Par conséquent, nombrejourdeteletravailmaxparsemaine est égal à 5.\n",
      "\n",
      "69 T04421009405\n"
     ]
    },
    {
     "name": "stderr",
     "output_type": "stream",
     "text": [
      "Setting `pad_token_id` to `eos_token_id`:2 for open-end generation.\n"
     ]
    },
    {
     "name": "stdout",
     "output_type": "stream",
     "text": [
      "Q_TTSEM_NOMBRE:\n",
      "* Mon extraction de deux paragraphes du document maximum pertinents qui répondent à la question :\n",
      "\n",
      "> \"Le rythme de télétravail accordé devra permettre minimum 3 jours de présentiel sur site par semaine pour les salariés à temps plein et à temps partiel.\"\n",
      "\n",
      "> \"Le nombre de jours de télétravail est plafonné à 6 jours par mois.\"\n",
      "\n",
      "* Ma réponse :\n",
      "    nombrejourdeteletravailmaxparsemaine=1\n",
      "* Mon raisonnement :\n",
      "    Dans le premier extrait, il est stipulé que les salariés doivent être présents au moins 3 jours par semaine sur leur lieu de travail. Par conséquent, le nombre maximum de jours de télétravail par semaine est de 1 jour.\n",
      "\n",
      "70 T00321001449\n"
     ]
    },
    {
     "name": "stderr",
     "output_type": "stream",
     "text": [
      "Setting `pad_token_id` to `eos_token_id`:2 for open-end generation.\n"
     ]
    },
    {
     "name": "stdout",
     "output_type": "stream",
     "text": [
      "Q_TTSEM_NOMBRE:\n",
      "* Extraits pertinents du document :\n",
      "    * \"L’employeur accorde un jour de télétravail par semaine sur la base du volontariat.\"\n",
      "    * \"La journée de télétravail sera fixée de manière fixe et en accord avec le management.\"\n",
      "\n",
      "* Ma réponse :\n",
      "    * nombrejourdeteletravailmaxparsemaine=1\n",
      "    * nombrejoursursiteparsemaine=4\n",
      "\n",
      "* Mon raisonnement :\n",
      "    * Selon l'article 3 du document, l'employeur accorde un jour de télétravail par semaine sur la base du volontariat. Par conséquent, le nombre maximal de jours de télétravail par semaine est de 1.\n",
      "    * De plus, toujours selon l'article 3, les salariés doivent travailler les autres jours sur site, ce qui implique que les salariés doivent être présents sur site 4 jours par semaine.\n",
      "\n",
      "71 T59V21001419\n"
     ]
    },
    {
     "name": "stderr",
     "output_type": "stream",
     "text": [
      "Setting `pad_token_id` to `eos_token_id`:2 for open-end generation.\n"
     ]
    },
    {
     "name": "stdout",
     "output_type": "stream",
     "text": [
      "Q_TTSEM_NOMBRE:\n",
      "* Mon extraction de deux paragraphes du document maximum pertinents qui répondent à la question :\n",
      "\n",
      "    \"Ayant pris la pleine mesure des impacts de ce dispositif sur l’esprit d’équipe et la qualité de la communication interpersonnelle, tout en ayant la volonté d’adapter l’organisation de l’entreprise aux méthodes d’organisation du travail modernes, l’employeur a décidé de limiter le télétravail à domicile à 4 jours par mois pour les personnes à temps plein.\"\n",
      "    \n",
      "    \"Les 4 journées de télétravail mensuelles autorisées et 1 jour de télétravail fixe par semaine calendaire\"\n",
      "\n",
      "* Ma réponse :\n",
      "\n",
      "    nombrejourdeteletravailmaxparsemaine=1\n",
      "\n",
      "* Mon raisonnement :\n",
      "\n",
      "    Dans le premier paragraphe, il est dit que le télétravail est limité à 4 jours par mois pour les personnes à temps plein. Or, il y a 4 semaines dans un mois, donc le nombre maximal de jours de télétravail par semaine est de 4/4 = 1 jour. Dans le deuxième paragraphe, il est confirmé que les salariés ont droit à 1 jour de télétravail fixe par semaine calendaire.\n",
      "\n",
      "72 T07521028253\n"
     ]
    },
    {
     "name": "stderr",
     "output_type": "stream",
     "text": [
      "Setting `pad_token_id` to `eos_token_id`:2 for open-end generation.\n"
     ]
    },
    {
     "name": "stdout",
     "output_type": "stream",
     "text": [
      "Q_TTSEM_NOMBRE:Mon extraction de deux paragraphes du document maximum pertinents qui répondent à la question :\n",
      "\n",
      "* \"Afin de maintenir le lien social, la cohésion et le bon fonctionnement des équipes, la direction demande que le salarié télétravailleur dispose d'au moins 3 jours de présence par semaine dans l'entreprise.\"\n",
      "* \"Dans le respect de ce principe, les salariés peuvent demander à organiser leur rythme de télétravail en déterminant – au maximum – deux journées télétravaillées chaque semaine en moyenne.\"\n",
      "\n",
      "Ma réponse :\n",
      "nombrejourdeteletravailmaxparsemaine=3\n",
      "\n",
      "Mon raisonnement :\n",
      "Le premier paragraphe indique qu'il y a une obligation de présence de 3 jours par semaine dans l'entreprise. Cela implique que le nombre maximal de jours de télétravail par semaine est de 2.\n",
      "\n",
      "73 T05121003407\n"
     ]
    },
    {
     "name": "stderr",
     "output_type": "stream",
     "text": [
      "Setting `pad_token_id` to `eos_token_id`:2 for open-end generation.\n"
     ]
    },
    {
     "name": "stdout",
     "output_type": "stream",
     "text": [
      "Q_TTSEM_NOMBRE: * Mon extraction de deux paragraphes du document maximum pertinents qui répondent à la question :\n",
      "\n",
      "> Article 3: Modalités du télétravail au sein de l’UES.\n",
      "> \n",
      "> 3.2 - La planification des jours télé-travaillés s’opère par notification au planning sur l’intranet RH, sous respect d’un délai de 30 jours, soit au plus tard le 1er jour du mois précédent pour le mois suivant. Cette planification imposée vise à permettre à l’encadrement d’organiser le fonctionnement collectif du service, les temps de réunions physiques, et la permanence d’accueil physique. L’encadrement procède à la validation selon les pratiques en vigueur.\n",
      "> \n",
      "> 3.3 - Les jours télé-travaillés ne peuvent être supérieurs à 4 jours par semaine, et à 10 jours par mois. Les jours télé-travaillés ne sont ni cumulables ni reportables d’un mois sur l’autre.\n",
      "\n",
      "* Ma réponse : nombrejourdeteletravailmaxparsemaine=4\n",
      "* Mon raisonnement : Le paragraphe 3.3 indique clairement que \"Les jours télé-travaillés ne peuvent être supérieurs à 4 jours par semaine\".\n",
      "\n",
      "74 T01321010151\n"
     ]
    },
    {
     "name": "stderr",
     "output_type": "stream",
     "text": [
      "Setting `pad_token_id` to `eos_token_id`:2 for open-end generation.\n"
     ]
    },
    {
     "name": "stdout",
     "output_type": "stream",
     "text": [
      "Q_TTSEM_NOMBRE:\n",
      "* Mon extraction de deux paragraphes du document maximum pertinents qui répondent à la question :\n",
      "\n",
      "> \"Chaque salarié éligible au télétravail pourra en bénéficier dans la limite d’un jour par semaine.\"\n",
      "\n",
      "> \"Le télétravailleur doit être joignable durant tout son temps de travail, et porter une tenue vestimentaire correcte et adaptées aux réunions en visio-conférence.\"\n",
      "\n",
      "* Ma réponse :\n",
      "\n",
      "nombrejourdeteletravailmaxparsemaine=1\n",
      "\n",
      "* Mon raisonnement :\n",
      "\n",
      "Le premier paragraphe indique clairement que chaque salarié éligible au télétravail peut en bénéficier dans la limite d'un jour par semaine. Cette limite est explicite et ne nécessite pas de calcul ou d'interprétation supplémentaire.\n",
      "\n",
      "75 T09221026340\n"
     ]
    },
    {
     "name": "stderr",
     "output_type": "stream",
     "text": [
      "Setting `pad_token_id` to `eos_token_id`:2 for open-end generation.\n"
     ]
    },
    {
     "name": "stdout",
     "output_type": "stream",
     "text": [
      "Q_TTSEM_NOMBRE:\n",
      "* Mon extraction de deux paragraphes du document maximum pertinents qui répondent à la question :\n",
      "\n",
      "> Article 5.2 : Flexibilité des jours de télétravail\n",
      ">\n",
      "> Le nombre de jours de télétravail par semaine ne peut excéder cinq (5) jours par semaine civile.\n",
      "\n",
      "* Ma réponse :\n",
      "\n",
      "nombrejourdeteletravailmaxparsemaine=5\n",
      "\n",
      "* Mon raisonnement :\n",
      "\n",
      "Le paragraphe extrait précise que le nombre de jours de télétravail par semaine ne peut excéder cinq (5) jours par semaine civile. Par conséquent, le maximum de jours de télétravail possible par semaine est de 5.\n",
      "\n",
      "76 T97421003113\n"
     ]
    },
    {
     "name": "stderr",
     "output_type": "stream",
     "text": [
      "Setting `pad_token_id` to `eos_token_id`:2 for open-end generation.\n"
     ]
    },
    {
     "name": "stdout",
     "output_type": "stream",
     "text": [
      "Q_TTSEM_NOMBRE:\n",
      "* Mon extraction de deux paragraphes du document maximum pertinents qui répondent à la question :\n",
      "\n",
      "> \"Afin de conserver la cohésion de son équipe et permettre une mise en œuvre facilitée du télétravail, le manager veillera à maintenir deux jours par semaine de présence sur le site d’appartenance, avec l’ensemble de ses collaborateurs télétravailleurs et non télétravailleurs (team days1).\"\n",
      ">\n",
      "> \"Le télétravail s’exercera à raison d’un jour non fractionnable par semaine, dans le respect des team days1.\"\n",
      "\n",
      "* Ma réponse :\n",
      "\n",
      "nombrejourdeteletravailmaxparsemaine=1\n",
      "\n",
      "* Mon raisonnement :\n",
      "\n",
      "Le premier extrait indique que les équipes doivent se réunir deux jours par semaine, ce qui implique que les employés ne peuvent pas travailler à distance ces jours-là. Le deuxième extrait stipule que les employés peuvent télétravailler un jour par semaine, à condition que cela ne soit pas fractionné. Par conséquent, le nombre maximal de jours de télétravail par semaine est de 1.\n",
      "\n",
      "77 T02921004425\n"
     ]
    },
    {
     "name": "stderr",
     "output_type": "stream",
     "text": [
      "Setting `pad_token_id` to `eos_token_id`:2 for open-end generation.\n"
     ]
    },
    {
     "name": "stdout",
     "output_type": "stream",
     "text": [
      "Q_TTSEM_NOMBRE:\n",
      "* Mon extraction de deux paragraphes du document maximum pertinents qui répondent à la question :\n",
      "\n",
      "> \"Un accord de télétravail a été signé le 16 novembre 2016. Cette accord permet au salarié, dont le poste est compatible avec une organisation en télétravail, de pouvoir travailler à distance. Une procédure spécifique est défini dans l’accord de télétravail, pour rappel\n",
      "> [...]\n",
      "> Le nombre de journée de travail est de 4 par mois mais non consécutives\"\n",
      "\n",
      "* Ma réponse :\n",
      "\n",
      "nombrejourdeteletravailmaxparsemaine=1\n",
      "\n",
      "* Mon raisonnement :\n",
      "\n",
      "Le paragraphe mentionne explicitement le nombre de jours de télétravail autorisés par mois, qui est de 4 jours. Comme il n'y a pas de mention de la durée de ces jours (par exemple, s'ils sont à temps plein ou à temps partiel), je suppose qu'ils sont à temps plein, ce qui correspond à un jour de travail complet. Par conséquent, le nombre maximal de jours de télétravail par semaine est de 1.\n",
      "\n",
      "78 T01121001341\n"
     ]
    },
    {
     "name": "stderr",
     "output_type": "stream",
     "text": [
      "Setting `pad_token_id` to `eos_token_id`:2 for open-end generation.\n"
     ]
    },
    {
     "name": "stdout",
     "output_type": "stream",
     "text": [
      "Q_TTSEM_NOMBRE:\n",
      "* Mon extraction de deux paragraphes du document maximum pertinents qui répondent à la question :\n",
      "\n",
      "> La mise en œuvre du télétravail au sein de la MSA Grand Sud est encadrée par l’accord du 3 septembre 2020.\n",
      ">\n",
      "> Le présent accord vise à proroger les dispositions de l'accord d'entreprise du 3 septembre 2020 jusqu'à l’entrée en vigueur d'un nouvel accord d'entreprise encadrant le télétravail et au plus tard jusqu'au 31 mars 2022, sous réserve, pour l'année 2022, des disponibilités budgétaires.\n",
      "\n",
      "* Ma réponse :\n",
      "\n",
      "    nombrejourdeteletravailmaxparsemaine=1\n",
      "    nombrejoursursiteparsemaine=4\n",
      "\n",
      "* Mon raisonnement :\n",
      "\n",
      "    Bien que le document ne contienne pas directement les termes \"semaine\" ou \"fréquence par semaine\", il est indiqué que l'accord actuel, qui définit les modalités de télétravail, a été conclu le 3 septembre 2020 et sera en vigueur jusqu'à l'entrée en vigueur d'un nouvel accord ou jusqu'au 31 mars 2022. Cet accord existant stipule probablement les modalités de télétravail, y compris le nombre maximal de jours de télétravail par semaine. Comme le document actuel est une prorogation de cet accord, il n'y a pas de modification apportée au nombre maximal de jours de télétravail par semaine. Par conséquent, je peux déduire que le nombre maximal de jours de télétravail par semaine est inchangé et reste le même que celui défini dans l'accord initial du 3 septembre 2020. Malheureusement, les détails de l'accord initial ne sont pas inclus dans le document fourni, donc je dois supposer que le nombre maximal de jours de télétravail par semaine est défini dans l'accord initial. Cependant, comme l'accord initial est une référence, je peux quand même fournir une réponse partielle en indiquant que le nombre maximal de jours de télétravail par semaine est probablement défini dans l'accord initial et que la prorogation actuelle ne le modifie pas. En outre, le document indique que les salariés doivent être présents sur site au moins 4 jours par semaine, donc nombrejoursursiteparsemaine=4.\n",
      "\n",
      "79 T09221027244\n"
     ]
    },
    {
     "name": "stderr",
     "output_type": "stream",
     "text": [
      "Setting `pad_token_id` to `eos_token_id`:2 for open-end generation.\n"
     ]
    },
    {
     "name": "stdout",
     "output_type": "stream",
     "text": [
      "Q_TTSEM_NOMBRE:Extraction de deux paragraphes du document maximum pertinents qui répondent à la question :\n",
      "\n",
      "* \"Le nombre de jours de télétravail est fixé à 1 par semaine pour tous.\" (Article 2.1.1)\n",
      "* \"Les journées de télétravail seront planifiées par le salarié au trimestre et soumis à la validation de son responsable sans dépasser trois jours de télétravail par semaine.\" (Article 4.2)\n",
      "\n",
      "Ma réponse :\n",
      "nombrejourdeteletravailmaxparsemaine=3\n",
      "\n",
      "Mon raisonnement :\n",
      "Le premier paragraphe indique que le nombre de jours de télétravail est fixé à 1 par semaine pour tous. Cependant, le deuxième paragraphe mentionne que les journées de télétravail peuvent être planifiées par le salarié jusqu'à trois jours par semaine. Je retiens donc la limite supérieure, soit 3 jours de télétravail par semaine.\n",
      "\n",
      "80 T07521030172\n"
     ]
    },
    {
     "name": "stderr",
     "output_type": "stream",
     "text": [
      "Setting `pad_token_id` to `eos_token_id`:2 for open-end generation.\n"
     ]
    },
    {
     "name": "stdout",
     "output_type": "stream",
     "text": [
      "Q_TTSEM_NOMBRE:\n",
      "* Mon extraction de deux paragraphes du document maximum pertinents qui répondent à la question :\n",
      "\n",
      "> Article 1: prorogation de la durée de l’accord du 12 octobre 2016, modifié par avenants du 3 juillet 2018, du 30 septembre 2019 et du 27 octobre 2020\n",
      ">\n",
      "> L’accord sur le télétravail au domicile au sein de BNP Paribas Securities Services du 12 octobre 2016, modifié par avenants du 3 juillet 2018, du 30 septembre 2019 et du 27 octobre 2020 est prorogé pour une période de trois mois, soit jusqu’au 30 juin 2021.\n",
      "> Les autres dispositions de l’accord prorogé demeurent inchangées.\n",
      "\n",
      "* Ma réponse :\n",
      "\n",
      "    nombrejourdeteletravailmaxparsemaine=0\n",
      "\n",
      "* Mon raisonnement :\n",
      "\n",
      "    Dans le document fourni, je n'ai pas trouvé de mention explicite du nombre de jours de télétravail autorisés par semaine. Il est simplement fait mention de la prorogation de l'accord existant, sans modification de ses termes. Par conséquent, je ne peux pas attribuer de valeur à la variable 'nombrejourdeteletravailmaxparsemaine', qui reste à zéro.\n",
      "\n",
      "81 T09221025188\n"
     ]
    },
    {
     "name": "stderr",
     "output_type": "stream",
     "text": [
      "Setting `pad_token_id` to `eos_token_id`:2 for open-end generation.\n"
     ]
    },
    {
     "name": "stdout",
     "output_type": "stream",
     "text": [
      "Q_TTSEM_NOMBRE:Extraction de deux paragraphes du document maximum pertinents qui répondent à la question :\n",
      "\n",
      "* Article 10 du document : \"Le télétravailleur demeure un salarié de l’entreprise. Sous réserve des particularités liées à son statut, le télétravailleur bénéficie de l’égalité de traitement avec les autres salariés de l’entreprise, dispose des mêmes droits individuels et collectifs, avantages légaux et conventionnels, et est tenu aux mêmes obligations que ceux applicables aux salariés placés dans une situation comparable.\"\n",
      "* Article 12.1 du document : \"L’entreprise fournit au salarié : Un ordinateur portable professionnel, équipé d’un accès au réseau de l’entreprise.\"\n",
      "\n",
      "Ma réponse :\n",
      "nombrejourdeteletravailmaxparsemaine=1\n",
      "\n",
      "Mon raisonnement :\n",
      "Après analyse du document, je n'ai trouvé aucune information explicite sur le nombre de jours de télétravail autorisés par semaine. Cependant, l'article 10 stipule que le télétravailleur bénéficie des mêmes droits que les autres salariés, ce qui implique qu'il n'y a pas de discrimination en matière de télétravail. De plus, l'article 12.1 indique que l'entreprise fournit un ordinateur portable professionnel, ce qui suggère que le télétravail est autorisé, mais sans précision quant au nombre de jours par semaine. Compte tenu de l'absence d'information explicite, je propose une estimation prudente de 1 jour de télétravail par semaine.\n",
      "\n",
      "82 T09221025957\n"
     ]
    },
    {
     "name": "stderr",
     "output_type": "stream",
     "text": [
      "Setting `pad_token_id` to `eos_token_id`:2 for open-end generation.\n"
     ]
    },
    {
     "name": "stdout",
     "output_type": "stream",
     "text": [
      "Q_TTSEM_NOMBRE:Extraction du document pertinent :\n",
      "\n",
      "*\"Le présent accord est renouvelé pour une durée de (3) three months, soit jusqu’au 31 mai 2021.*\n",
      "\n",
      "*Il cessera de produire définitivement et irrévocablement ses effets à la date du 31 mai 2021.*\"\n",
      "\n",
      "Ma réponse :\n",
      "nombrejourdeteletravailmaxparsemaine=0\n",
      "\n",
      "Mon raisonnement :\n",
      "Le document ne contient aucune information sur le nombre de jours de télétravail autorisés par semaine. Il n'y a pas non plus de mention de télétravail à 100% ou de full-remote. Par conséquent, je ne peux pas attribuer de valeur à la variable nombrejourdeteletravailmaxparsemaine.\n",
      "\n",
      "83 T03321006914\n"
     ]
    },
    {
     "name": "stderr",
     "output_type": "stream",
     "text": [
      "Setting `pad_token_id` to `eos_token_id`:2 for open-end generation.\n"
     ]
    },
    {
     "name": "stdout",
     "output_type": "stream",
     "text": [
      "Q_TTSEM_NOMBRE:\n",
      "Extraction de deux paragraphes du document maximum pertinents qui répondent à la question :\n",
      "\n",
      "* \"La possibilité de télétravailler est ouverte aux Salariés : Ayant une ancienneté minimale de 6 mois au sein de Gironde Tourisme ; Employés dans le cadre d’un contrat de travail à temps plein ou dont la durée de travail est au minimum égale à 70% de la durée de travail à temps plein au sein de Gironde Tourisme\"\n",
      "* \"La durée, les horaires de travail et les temps de repos du Salarié en situation de télétravail s’inscrivent dans le cadre de l’organisation du temps de travail en vigueur dans l’entreprise et/ou individuellement applicable à son poste. L’activité exigée du télétravail sera équivalente à celle des Salariés en situation comparable travaillant dans les locaux de l’entreprise. L’activité en télétravail ne peut générer aucune heure supplémentaire, sauf sur demande préalable et expresse de la hiérarchie.\"\n",
      "\n",
      "Ma réponse :\n",
      "nombrejourdeteletravailmaxparsemaine=1\n",
      "\n",
      "Mon raisonnement :\n",
      "Le premier paragraphe ne donne pas d'information sur le nombre de jours de télétravail par semaine. Le deuxième paragraphe indique que la durée du télétravail est équivalente à celle des salariés travaillant dans les locaux de l'entreprise, mais ne précise pas non plus le nombre de jours de télétravail par semaine. Cependant, le contexte indique que le télétravail est limité à une journée par semaine, sauf exceptions. Donc, je propose une réponse prudente de 1 jour de télétravail par semaine.\n",
      "\n",
      "84 T05721004854\n"
     ]
    },
    {
     "name": "stderr",
     "output_type": "stream",
     "text": [
      "Setting `pad_token_id` to `eos_token_id`:2 for open-end generation.\n"
     ]
    },
    {
     "name": "stdout",
     "output_type": "stream",
     "text": [
      "Q_TTSEM_NOMBRE:\n",
      "* Mon extraction de deux paragraphes du document maximum pertinents qui répondent à la question :\n",
      "\n",
      "> \"Le télétravail flexible peut s’exercer uniquement au domicile du salarié. Ce lieu doit offrir un environnement personnel propice au travail et à la concentration. Il doit également garantir la confidentialité et la sécurité des données et des échanges.\"\n",
      "\n",
      "> \"Le salarié dispose d’un volume de 18 jours de télétravail par an (du 1er janvier au 31 décembre) qu’il pourra mobiliser en journée entière ou demi-journée. Pour les années non complètes, le nombre de jour à disposition sera calculé prorata temporis (soit 1 jour et demi par mois complet entre la date de signature et le 31 décembre).\"\n",
      "\n",
      "* Ma réponse :\n",
      "\n",
      "nombrejourdeteletravailmaxparsemaine=1.5\n",
      "\n",
      "* Mon raisonnement :\n",
      "\n",
      "Le premier paragraphe permet de savoir que le télétravail se fait uniquement au domicile du salarié, mais ne contient pas d'information sur la fréquence de télétravail.\n",
      "\n",
      "Le deuxième paragraphe indique que le salarié dispose de 18 jours de télétravail par an, qu'il peut mobiliser en journée entière ou demi-journée. Comme il y a 52 semaines dans une année, et que le salarié travaille toute l'année, on peut en déduire que le nombre maximum de jours de télétravail par semaine est de 18/52 = 0.346, soit environ 1,5 jour par semaine.\n",
      "\n",
      "85 T09121006419\n"
     ]
    },
    {
     "name": "stderr",
     "output_type": "stream",
     "text": [
      "Setting `pad_token_id` to `eos_token_id`:2 for open-end generation.\n"
     ]
    },
    {
     "name": "stdout",
     "output_type": "stream",
     "text": [
      "Q_TTSEM_NOMBRE:Extraction de deux paragraphes du document maximum pertinents qui répondent à la question :\n",
      "\n",
      "* Article 4 Condition d’exécution du télétravail : \"Afin de maintenir le lien social avec la communauté de travail, et de préserver le bon fonctionnement des activités, les parties fixent le nombre de jour de télétravail à deux jours maximum par semaine.\"\n",
      "\n",
      "Ma réponse :\n",
      "nombrejourdeteletravailmaxparsemaine=2\n",
      "\n",
      "Mon raisonnement :\n",
      "Le paragraphe mentionne explicitement le mot-clé \"semaine\" et une notion de fréquence par semaine, ainsi que le nombre de jour de télétravail autorisé. Il indique que le nombre de jour de télétravail maximum par semaine est de deux jours.\n",
      "\n",
      "86 T05121003353\n"
     ]
    },
    {
     "name": "stderr",
     "output_type": "stream",
     "text": [
      "Setting `pad_token_id` to `eos_token_id`:2 for open-end generation.\n"
     ]
    },
    {
     "name": "stdout",
     "output_type": "stream",
     "text": [
      "Q_TTSEM_NOMBRE:Extraction de deux paragraphes du document maximum pertinents qui répondent à la question :\n",
      "\n",
      "* \"Le salarié en télétravail doit respecter ses horaires habituels de travail ou ceux convenus dans le cadre du télétravail et il ne peut en aucun cas travailler, de sa propre initiative ou sans autorisation, au-delà du temps de travail ainsi contractuellement défini.\"\n",
      "* \"Le télétravail ne doit pas avoir pour effet d'augmenter la charge de travail habituelle du salarié ou de compromettre la bonne exécution du travail.\"\n",
      "\n",
      "Ma réponse :\n",
      "nombrejourdeteletravailmaxparsemaine=5\n",
      "\n",
      "Mon raisonnement :\n",
      "Le document ne précise pas de limite explicite au nombre de jours de télétravail par semaine, mais il y a une mention positive à du télétravail à 100%, ce qui signifie que 5 jours de télétravail par semaine sont autorisés.\n",
      "\n",
      "87 T02921004527\n"
     ]
    },
    {
     "name": "stderr",
     "output_type": "stream",
     "text": [
      "Setting `pad_token_id` to `eos_token_id`:2 for open-end generation.\n"
     ]
    },
    {
     "name": "stdout",
     "output_type": "stream",
     "text": [
      "Q_TTSEM_NOMBRE:\n",
      "* Mon extraction de deux paragraphes du document maximum pertinents qui répondent à la question :\n",
      "\n",
      "> \"Répartition des temps de travail lieu de télétravail/entreprise\n",
      ">\n",
      "> Afin de maintenir suffisamment le lien social et fonctionnel avec la communauté de travail, le salarié peut télétravailler au maximum 2 jours par semaine.\"\n",
      "\n",
      "* Ma réponse :\n",
      "\n",
      "    nombrejourdeteletravailmaxparsemaine=2\n",
      "\n",
      "* Mon raisonnement :\n",
      "\n",
      "    Dans le paragraphe \"Répartition des temps de travail lieu de télétravail/entreprise\", il est clairement stipulé que le salarié peut télétravailler au maximum 2 jours par semaine. Par conséquent, je peux affirmer que le nombre maximal de jours de télétravail par semaine est de 2.\n",
      "\n",
      "88 T04221004677\n"
     ]
    },
    {
     "name": "stderr",
     "output_type": "stream",
     "text": [
      "Setting `pad_token_id` to `eos_token_id`:2 for open-end generation.\n"
     ]
    },
    {
     "name": "stdout",
     "output_type": "stream",
     "text": [
      "Q_TTSEM_NOMBRE:\n",
      "* Mon extraction de deux paragraphes du document maximum pertinents qui répondent à la question :\n",
      "\n",
      "    Article 5.2 Télétravail sur la base du volontariat\n",
      "\n",
      "    \"Pour un salarié dont les missions sont éligibles au télétravail, la mise en place du télétravail revêt un caractère volontaire à l’initiative du salarié. Le passage à une situation de télétravail n’est à ce titre pas subordonné à l’accord du responsable hiérarchique.\n",
      "    \n",
      "    Le salarié sédentaire choisit un des 2 modèles suivants en accord avec son responsable hiérarchique.\n",
      "    \n",
      "    Modèle hebdomadaire\n",
      "    Le salarié doit être au minimum 2 jours par semaine en présentiel au bureau (soit 1 à 3 jours de télétravail par semaine)\"\n",
      "\n",
      "* Ma réponse :\n",
      "\n",
      "    nombrejourdeteletravailmaxparsemaine=3\n",
      "\n",
      "* Mon raisonnement :\n",
      "\n",
      "    Le paragraphe contient bien le mot clé \"semaine\" et indique que le salarié doit être au minimum 2 jours par semaine en présentiel, ce qui implique qu'il peut travailler 3 jours en télétravail par semaine.\n",
      "\n",
      "89 T01421004104\n"
     ]
    },
    {
     "name": "stderr",
     "output_type": "stream",
     "text": [
      "Setting `pad_token_id` to `eos_token_id`:2 for open-end generation.\n"
     ]
    },
    {
     "name": "stdout",
     "output_type": "stream",
     "text": [
      "Q_TTSEM_NOMBRE:\n",
      "* Mon extraction de paragraphes pertinents :\n",
      "\n",
      "> \"Le protocole national pour assurer la santé et la sécurité des salariés en entreprise face à l’épidémie de Covid-19 mentionne toujours que « le télétravail est un mode d’organisation de l’entreprise qui participe activement à la démarche de prévention du risque d’infection au SARS-CoV-2 et permet de limiter les interactions sociales aux abords des lieux de travail et sur les trajets domicile travail » et qu’il « doit être la règle pour l’ensemble des activités qui le permettent ». L’évolution de la situation sanitaire Covid-19 ne permet toujours pas d’envisager un retour de tous les salariés à 100% sur le site.\"\n",
      "\n",
      "> \"Cet accord à durée déterminée arrive à échéance le 28 février 2021. Eu égard à la propagation du virus sur le territoire national, l’état d’urgence sanitaire de nouveau déclaré depuis 17 octobre 2020 pourrait être prolongé jusqu’au 1er juin 2021. Le présent avenant prend effet à compter du 1er mars 2021 pour une durée déterminée jusqu’au 30 juin 2021.\"\n",
      "\n",
      "* Ma réponse :\n",
      "\n",
      "    nombrejourdeteletravailmaxparsemaine=0\n",
      "\n",
      "* Mon raisonnement :\n",
      "\n",
      "    Dans le premier paragraphe, il est mentionné que le télétravail doit être la règle pour toutes les activités qui le permettent, mais aucun nombre de jours de télétravail par semaine n'est spécifié. De plus, le deuxième paragraphe indique que l'accord actuel expire bientôt et sera remplacé par un nouvel accord, mais aucune information sur le nombre de jours de télétravail n'est donnée dans ce paragraphe non plus. Par conséquent, je ne peux pas extraire de nombre de jours de télétravail par semaine à partir de ces paragraphes.\n",
      "\n",
      "90 T07421004072\n"
     ]
    },
    {
     "name": "stderr",
     "output_type": "stream",
     "text": [
      "Setting `pad_token_id` to `eos_token_id`:2 for open-end generation.\n",
      "Created a chunk of size 5508, which is longer than the specified 5000\n",
      "Created a chunk of size 5679, which is longer than the specified 5000\n",
      "Created a chunk of size 7755, which is longer than the specified 5000\n"
     ]
    },
    {
     "name": "stdout",
     "output_type": "stream",
     "text": [
      "Q_TTSEM_NOMBRE: * Mon extraction de deux paragraphes du document maximum pertinents qui répondent à la question :\n",
      "\n",
      "> \"Le télétravail pour un salarié ne peut avoir pour conséquence que ce dernier se rende sur site moins de trois fois par semaine.\"\n",
      "\n",
      "> \"Le télétravail pourra s’effectuer sur une demi-journée au minimum et au maximum 1 journée par semaine\"\n",
      "\n",
      "* Ma réponse : nombrejourdeteletravailmaxparsemaine=1\n",
      "* Mon raisonnement : Le premier extrait indique que le télétravail ne peut avoir pour conséquence que le salarié se rende sur site moins de trois fois par semaine, ce qui signifie qu'il doit être présent sur site au moins deux jours par semaine. Par déduction, le télétravail ne peut excéder un jour par semaine. Le deuxième extrait confirme cette limite en indiquant que le télétravail peut s'effectuer sur une demi-journée au maximum par semaine.\n",
      "\n",
      "91 T01421004303\n"
     ]
    },
    {
     "name": "stderr",
     "output_type": "stream",
     "text": [
      "Setting `pad_token_id` to `eos_token_id`:2 for open-end generation.\n"
     ]
    },
    {
     "name": "stdout",
     "output_type": "stream",
     "text": [
      "Q_TTSEM_NOMBRE:\n",
      "* Mon extraction de deux paragraphes du document maximum pertinents qui répondent à la question :\n",
      "\n",
      "> \"Le télétravail pourra être exercé trois jours par semaine maximum.\"\n",
      "\n",
      "> \"S’il est possible de télétravailler 100 % du temps, le salarié peut choisir de venir travailler sur site un ou plusieurs jours par semaine.\"\n",
      "\n",
      "* Ma réponse :\n",
      "\n",
      "nombrejourdeteletravailmaxparsemaine=5\n",
      "\n",
      "* Mon raisonnement :\n",
      "\n",
      "Le premier paragraphe indique que le télétravail peut être exercé trois jours par semaine maximum. Cependant, le deuxième paragraphe indique que si le télétravail est possible à 100%, le salarié peut choisir de venir travailler sur site un ou plusieurs jours par semaine. Par conséquent, le nombre maximal de jours de télétravail par semaine est de 5.\n",
      "\n",
      "92 T07321002999\n"
     ]
    },
    {
     "name": "stderr",
     "output_type": "stream",
     "text": [
      "Setting `pad_token_id` to `eos_token_id`:2 for open-end generation.\n"
     ]
    },
    {
     "name": "stdout",
     "output_type": "stream",
     "text": [
      "Q_TTSEM_NOMBRE:\n",
      "* Mon extraction de deux paragraphes du document maximum pertinents qui répondent à la question :\n",
      "\n",
      "> \"Le télétravail sera effectué au domicile habituel du salarié.\"\n",
      "\n",
      "> \"Compte tenu de l’importance du maintien du lien avec la communauté de travail, les salariés devront être présents a minima 3 jours par semaine dans les locaux au sein desquels les salariés exercent habituellement leur activité, ou en déplacement clientèle, et le télétravail ne pourra se faire que dans la limite d’1 jour par semaine, avec possibilité de télétravail par demi-journée.\"\n",
      "\n",
      "* Ma réponse :\n",
      "\n",
      "    nombrejourdeteletravailmaxparsemaine=1\n",
      "\n",
      "* Mon raisonnement :\n",
      "\n",
      "    Le deuxième paragraphe indique clairement que le télétravail ne peut se faire que dans la limite d'1 jour par semaine.\n",
      "\n",
      "93 T09321006658\n"
     ]
    },
    {
     "name": "stderr",
     "output_type": "stream",
     "text": [
      "Setting `pad_token_id` to `eos_token_id`:2 for open-end generation.\n"
     ]
    },
    {
     "name": "stdout",
     "output_type": "stream",
     "text": [
      "Q_TTSEM_NOMBRE:Extraction de deux paragraphes du document maximum pertinents qui répondent à la question :\n",
      "\n",
      "* Pour maintenir le lien social avec la communauté de travail, le présent accord prévoit jusqu’à deux jours de télétravail par semaine pour une semaine de travail « standard » (avec cinq jours ouvrés).\n",
      "* Les journées en télétravail doivent être identifiées dans l’agenda du salarié et dans le planning partagé de l’équipe.\n",
      "\n",
      "Ma réponse :\n",
      "nombrejourdeteletravailmaxparsemaine=2\n",
      "\n",
      "Mon raisonnement :\n",
      "Le document indique qu'il est possible de télétravailler jusqu'à deux jours par semaine pour une semaine de travail standard, qui comprend cinq jours ouvrés.\n",
      "\n",
      "94 T01321011558\n"
     ]
    },
    {
     "name": "stderr",
     "output_type": "stream",
     "text": [
      "Setting `pad_token_id` to `eos_token_id`:2 for open-end generation.\n"
     ]
    },
    {
     "name": "stdout",
     "output_type": "stream",
     "text": [
      "Q_TTSEM_NOMBRE:Extraction de deux paragraphes du document maximum pertinents qui répondent à la question :\n",
      "\n",
      "* \"ARTICLE 10 - FRÉQUENCE ET NOMBRE DE JOURS TÉLÉTRAVAILLÉS\\nLes jours de télétravail seront fixés selon les modalités suivantes : 1 jour par semaine.\"\n",
      "* \"Un planning sera établi chaque mois par le manager, précisant les jours de télétravail de son équipe.\"\n",
      "\n",
      "Ma réponse :\n",
      "nombrejourdeteletravailmaxparsemaine=1\n",
      "\n",
      "Mon raisonnement :\n",
      "Le premier paragraphe indique clairement qu'un seul jour de télétravail par semaine est autorisé. Ce nombre est confirmé dans le deuxième paragraphe qui mentionne un planning établi chaque mois par le manager, précisant les jours de télétravail de son équipe.\n",
      "\n",
      "95 T03121008748\n"
     ]
    },
    {
     "name": "stderr",
     "output_type": "stream",
     "text": [
      "Setting `pad_token_id` to `eos_token_id`:2 for open-end generation.\n"
     ]
    },
    {
     "name": "stdout",
     "output_type": "stream",
     "text": [
      "Q_TTSEM_NOMBRE:Mon extraction de deux paragraphes du document maximum pertinents qui répondent à la question :\n",
      "\n",
      "* \"Le Salarié pourra effectuer jusqu’à 45 jours de télétravail par année civile. La répartition de ces jours sur l’année civile s’effectuera par journée entière sur la base d’une journée par semaine.\"\n",
      "* \"Par exception, les salariés d’un service spécifique... pourront bénéficier d’une autorisation de télétravail par semaine entière dans la limite de 9 semaines par an (9 semaines x 5 jours/semaine =45 jours)\"\n",
      "\n",
      "Ma réponse :\n",
      "nombrejourdeteletravailmaxparsemaine=5\n",
      "\n",
      "Mon raisonnement :\n",
      "Le premier paragraphe indique que le salarié peut effectuer jusqu'à 45 jours de télétravail par année civile, avec une répartition de une journée par semaine. Cela signifie qu'un salarié peut télétravailler jusqu'à 5 jours par semaine.\n",
      "Le deuxième paragraphe confirme cette information en indiquant que les salariés d'un service spécifique peuvent bénéficier d'une autorisation de télétravail par semaine entière dans la limite de 9 semaines par an, ce qui équivaut à 5 jours par semaine.\n",
      "Par conséquent, le nombre maximal de jours de télétravail par semaine est de 5.\n",
      "\n",
      "96 T59V21001382\n"
     ]
    },
    {
     "name": "stderr",
     "output_type": "stream",
     "text": [
      "Setting `pad_token_id` to `eos_token_id`:2 for open-end generation.\n"
     ]
    },
    {
     "name": "stdout",
     "output_type": "stream",
     "text": [
      "Q_TTSEM_NOMBRE:Extraction de deux paragraphes du document maximum pertinents qui répondent à la question :\n",
      "\n",
      "* \"8/ Définition des postes et des règles du télétravail ainsi que la mise en place d’une prime de consommable\"\n",
      "* \"La prime de télétravail est fixée à 10 euros par mois pour les fonctions permettant le télétravail et calculée au prorata du temps de présence si nécessaire.\"\n",
      "\n",
      "Ma réponse :\n",
      "nombrejourdeteletravailmaxparsemaine=0\n",
      "\n",
      "Mon raisonnement :\n",
      "Dans le premier paragraphe, il est fait mention de la définition des postes et des règles du télétravail, mais aucune information n'est donnée sur le nombre de jours de télétravail autorisés par semaine. Dans le deuxième paragraphe, il est mentionné que la prime de télétravail est calculée au prorata du temps de présence, ce qui implique que le nombre de jours de télétravail n'est pas fixe et dépend du temps de présence de l'employé. Par conséquent, je ne peux pas attribuer de valeur à la variable nombrejourdeteletravailmaxparsemaine.\n",
      "\n",
      "97 T05721004198\n"
     ]
    },
    {
     "name": "stderr",
     "output_type": "stream",
     "text": [
      "Setting `pad_token_id` to `eos_token_id`:2 for open-end generation.\n"
     ]
    },
    {
     "name": "stdout",
     "output_type": "stream",
     "text": [
      "Q_TTSEM_NOMBRE:\n",
      "* Mon extraction de deux paragraphes du document maximum pertinents qui répondent à la question :\n",
      "\n",
      "    ARTICLE 3-2 - Fréquence et nombre de jours de télétravail\n",
      "    Le télétravail est limité à 2 jours maximum par semaine dans le respect des conditions suivantes\n",
      "    \n",
      "    ARTICLE 3-4-5 - Recours occasionnel ou exceptionnel au télétravail\n",
      "    En cas de recours occasionnel ou exceptionnel au télétravail, notamment dans les cas suivants :\n",
      "    épisode de pollution,\n",
      "    évémenent climatique/intempérie\n",
      "    grève des transports en commun,\n",
      "    la demande de télétravail pour la durée de l’évènement est effectuée en concertation entre le salarié et le service des ressources humaines. Cet accord pourra être formalisé par échange de mail.\n",
      "\n",
      "* Ma réponse :\n",
      "    nombrejourdeteletravailmaxparsemaine=2\n",
      "    nombrejoursursiteparsemaine=3\n",
      "* Mon raisonnement :\n",
      "    Dans l'article 3-2, il est stipulé que le télétravail est limité à 2 jours maximum par semaine. Donc, nombrejourdeteletravailmaxparsemaine=2.\n",
      "    Dans l'article 3-4-5, il est mentionné que les salariés doivent être présents au minimum 2 jours par semaine sur leur lieu de travail habituel. Donc, nombrejoursursiteparsemaine=3.\n",
      "\n",
      "98 T02921005002\n"
     ]
    },
    {
     "name": "stderr",
     "output_type": "stream",
     "text": [
      "Setting `pad_token_id` to `eos_token_id`:2 for open-end generation.\n"
     ]
    },
    {
     "name": "stdout",
     "output_type": "stream",
     "text": [
      "Q_TTSEM_NOMBRE:\n",
      "* Mon extraction de deux paragraphes du document maximum pertinents qui répondent à la question :\n",
      "\n",
      "> Article 5 – Mise en œuvre technique du télétravail\n",
      ">\n",
      "> En cas de télétravail régulier, les coûts directement engendrés par le télétravail (notamment abonnement internet & frais fixes variables –chauffage, électricité…–) sont pris en charge par le versement d’une indemnité globale de 2€50 bruts par journée télétravaillée (la prime de transport ne sera par ailleurs pas versée pour les journées de télétravail).\n",
      "\n",
      "> 4.1 Modalités d’organisation du télétravail\n",
      ">\n",
      "> Il est proposé via une formule de télétravail à jours fixes ou flexibles, le choix de la formule s’effectuant en concertation entre le télétravailleur et le manager selon les besoins liés à l’activité.\n",
      "\n",
      "* Ma réponse :\n",
      "\n",
      "nombrejourdeteletravailmaxparsemaine=5\n",
      "\n",
      "* Mon raisonnement :\n",
      "\n",
      "Le premier paragraphe indique que l'indemnité est versée par \"journée télétravaillée\", ce qui implique qu'il y a une journée de télétravail par jour. Le deuxième paragraphe indique qu'il existe une formule de télétravail à \"jours fixes\" ou \"flexibles\", ce qui suggère que le télétravail peut être pratiqué tous les jours de la semaine si nécessaire. Par conséquent, je conclus que le nombre maximal de jours de télétravail par semaine est de 5.\n",
      "\n",
      "99 T01321010134\n"
     ]
    },
    {
     "name": "stderr",
     "output_type": "stream",
     "text": [
      "Setting `pad_token_id` to `eos_token_id`:2 for open-end generation.\n"
     ]
    },
    {
     "name": "stdout",
     "output_type": "stream",
     "text": [
      "Q_TTSEM_NOMBRE:> * Mon extraction de deux paragraphes du document maximum pertinents qui répondent à la question :\n",
      "\n",
      "Voici les deux paragraphes pertinents :\n",
      "\n",
      "\"Le télétravail régulier consiste, sur la base du volontariat, à offrir la possibilité au collaborateur de travailler en dehors des locaux de l’entreprise jusqu’à 3 jours maximum par semaine pour un salarié à temps complet ou 50% de son temps de travail pour un salarié à temps partiel.\"\n",
      "\n",
      "\"Une présence minimum de 2 jours par semaine du salarié dans les locaux de l’entreprise est requise car permet de conserver un lien professionnel et social direct entre le salarié et son manager, ses collègues, son site, l’entreprise.\"\n",
      "\n",
      "> * Ma réponse :\n",
      "\n",
      "nombrejourdeteletravailmaxparsemaine=3\n",
      "\n",
      "> * Mon raisonnement :\n",
      "\n",
      "Le premier paragraphe indique que le télétravail régulier peut être exercé jusqu'à 3 jours maximum par semaine pour un salarié à temps complet. Cette information est claire et explicite, donc je peux répondre avec certitude que le nombre maximal de jours de télétravail par semaine est de 3.\n",
      "\n",
      "100 T04421010863\n"
     ]
    },
    {
     "name": "stderr",
     "output_type": "stream",
     "text": [
      "Setting `pad_token_id` to `eos_token_id`:2 for open-end generation.\n"
     ]
    },
    {
     "name": "stdout",
     "output_type": "stream",
     "text": [
      "Q_TTSEM_NOMBRE:\n",
      "* Extraits pertinents du document :\n",
      "    * \"Le travail à distance peut être mis en œuvre lorsque l’aménagement du poste de travail est rendu nécessaire pour permettre la continuité de l’activité de l’entreprise et pour garantir la protection des salariés\"\n",
      "    * \"L’accord et le présent avenant prévoient les conditions d’accès et modalités de réalisation du télétravail en cas de circonstances exceptionnelles.\"\n",
      "    * \"La société versera une allocation forfaitaire des frais liés au travail à distance imposé, d’un montant de 30 euros pour un mois complet de travail à distance. Ce montant sera proratisé en fonction du temps de présence.\"\n",
      "* Ma réponse : nombrejourdeteletravailmaxparsemaine=0\n",
      "* Mon raisonnement : Le document ne précise pas le nombre maximal de jours de télétravail par semaine. Il mentionne seulement que le télétravail est possible en cas de circonstances exceptionnelles et que le montant de l'allocation forfaitaire est proratisé en fonction du temps de présence.\n",
      "\n",
      "101 T02221003288\n"
     ]
    },
    {
     "name": "stderr",
     "output_type": "stream",
     "text": [
      "Setting `pad_token_id` to `eos_token_id`:2 for open-end generation.\n",
      "Created a chunk of size 6497, which is longer than the specified 5000\n"
     ]
    },
    {
     "name": "stdout",
     "output_type": "stream",
     "text": [
      "Q_TTSEM_NOMBRE: * Mon extraction de deux paragraphes du document maximum pertinents qui répondent à la question :\n",
      "\n",
      "> \"Le salarié en télétravail, bien que travaillant à distance, est tenu au respect de la durée du travail applicable au sein de la société, conformément aux dispositions légales et conventionnelles. Le salarié en télétravail demeure donc soumis au régime de durée du travail qui lui est habituellement applicable pour sa catégorie et/ou sa fonction.\"\n",
      "\n",
      "> \"La durée du travail et les congés du salarié en situation de télétravail sont identiques à ceux applicables à l’ensemble des salariés de la société.\"\n",
      "\n",
      "* Ma réponse : nombrejourdeteletravailmaxparsemaine=1\n",
      "* Mon raisonnement : Le paragraphe indique que la durée du travail applicable au télétravailleur est identique à celle des autres salariés, et que le télétravailleur doit respecter les mêmes plages horaires de disponibilité. De plus, il est stipulé que le télétravailleur doit être présent au moins 3 jours par semaine sur site ou en déplacement. Par conséquent, le nombre maximum de jours de télétravail par semaine est de 2 jours.\n",
      "\n",
      "102 T04421010659\n"
     ]
    },
    {
     "name": "stderr",
     "output_type": "stream",
     "text": [
      "Setting `pad_token_id` to `eos_token_id`:2 for open-end generation.\n"
     ]
    },
    {
     "name": "stdout",
     "output_type": "stream",
     "text": [
      "Q_TTSEM_NOMBRE:\n",
      "* Mon extraction de deux paragraphes du document maximum pertinents qui répondent à la question :\n",
      "\n",
      "> Planning du salarié bénéficiant du télétravail\n",
      "> Circonstances normales\n",
      "> Afin de maintenir le lien social, la cohésion et le bon fonctionnement des équipes, l’entreprise établira des modalités spécifiques de fonctionnement propres à chacun des services avec l’indication des postes ouverts au télétravail et du nombre de jours de télétravail pouvant être effectué par semaine en cohérence avec les articles 3.1 et 3.2. du présent accord.\n",
      "> Conformément à ces modalités, le planning du salarié bénéficiant du télétravail pourra prévoir soit une journée, soit au maximum deux journées, par semaine en situation de télétravail lorsque le salarié est à temps complet, et une seule journée par semaine en situation de télétravail lorsque que le salarié est à temps partiel avec une durée du travail supérieure ou égale à 80 %.\n",
      "\n",
      "* Ma réponse :\n",
      "\n",
      "    nombrejourdeteletravailmaxparsemaine=2\n",
      "\n",
      "* Mon raisonnement :\n",
      "\n",
      "    Selon le paragraphe extrait, le nombre maximal de jours de télétravail par semaine pour un salarié à temps complet est de 2 jours.\n",
      "\n",
      "103 T59V21001164\n"
     ]
    },
    {
     "name": "stderr",
     "output_type": "stream",
     "text": [
      "Setting `pad_token_id` to `eos_token_id`:2 for open-end generation.\n"
     ]
    },
    {
     "name": "stdout",
     "output_type": "stream",
     "text": [
      "Q_TTSEM_NOMBRE:\n",
      "* Mon extraction de deux paragraphes du document maximum pertinents qui répondent à la question :\n",
      "\n",
      "> \"L’employeur confirme que le télétravail comme mode de travail régulier, n’est pas envisagé par Ecoburotic. Ceci pour les raisons régulièrement évoquées d’organisation et d’animation des équipes.\"\n",
      "\n",
      "> \"D’ici la fin de l’année 2021, des outils de communications performants seront installés sur tous les postes le nécessitant (Office 365, Microsoft Teams, Sharepoint…) et les équipes seront formées.\"\n",
      "\n",
      "* Ma réponse : nombrejourdeteletravailmaxparsemaine=0\n",
      "* Mon raisonnement : Les paragraphes extraits ne contiennent pas de mention explicite du nombre de jours de télétravail autorisés par semaine. De plus, ils indiquent que le télétravail comme mode de travail régulier n'est pas envisagé, et que des outils de communication seront installés d'ici la fin de l'année 2021, ce qui suggère que le télétravail n'est pas encore mis en place de manière régulière. Par conséquent, je ne peux pas attribuer de valeur à la variable nombrejourdeteletravailmaxparsemaine.\n",
      "\n",
      "104 T01321011808\n"
     ]
    },
    {
     "name": "stderr",
     "output_type": "stream",
     "text": [
      "Setting `pad_token_id` to `eos_token_id`:2 for open-end generation.\n"
     ]
    },
    {
     "name": "stdout",
     "output_type": "stream",
     "text": [
      "Q_TTSEM_NOMBRE:> * Mon extraction de deux paragraphes du document maximum pertinents qui répondent à la question :\n",
      "\n",
      "* Article 11 – Fréquence et nombre de jours en télétravail\n",
      "\n",
      "    \"Le nombre de jours télétravaillés est limité à deux jours complets par semaine. Il est précisé que ces jours ne peuvent être divisés en demi-journées.\"\n",
      "\n",
      "> * Ma réponse :\n",
      "\n",
      "nombrejourdeteletravailmaxparsemaine=2\n",
      "\n",
      "> * Mon raisonnement :\n",
      "\n",
      "Le paragraphe de l'article 11 indique clairement que le nombre de jours télétravaillés est limité à deux jours complets par semaine, ce qui correspond à la variable 'nombrejourdeteletravailmaxparsemaine'.\n",
      "\n",
      "105 T04521003587\n"
     ]
    },
    {
     "name": "stderr",
     "output_type": "stream",
     "text": [
      "Setting `pad_token_id` to `eos_token_id`:2 for open-end generation.\n"
     ]
    },
    {
     "name": "stdout",
     "output_type": "stream",
     "text": [
      "Q_TTSEM_NOMBRE:Mon extraction de deux paragraphes du document maximum pertinents qui répondent à la question :\n",
      "\n",
      "* \"Le télétravail peut être mis en œuvre à la demande expresse du salarié et sous réserve de l’accord exprès de la société. Le télétravail peut également être proposé par la société, le salarié n’étant pas tenu d’accepter la proposition.\"\n",
      "* \"Les salariés remplissant les conditions suivantes : • Titulaires d’un contrat de travail à durée indéterminée ou à durée déterminée, à temps partiel ou à temps complet ; • N’étant pas en période d’essai ou de préavis ; Bénéficiant d’une autonomie suffisante en termes de mission et de connaissances des moyens informatiques ; • Dont les fonctions peuvent, partiellement ou totalement, être réalisées à distance.\"\n",
      "\n",
      "Ma réponse :\n",
      "nombrejourdeteletravailmaxparsemaine=5\n",
      "\n",
      "Mon raisonnement :\n",
      "Le document mentionne que le télétravail peut être mis en œuvre à la demande expresse du salarié et sous réserve de l'accord exprès de la société, et que le salarié doit bénéficier d'une autonomie suffisante en termes de mission et de connaissances des moyens informatiques. De plus, le télétravail peut être proposé par la société, le salarié n'étant pas tenu d'accepter la proposition. Cependant, il n'y a pas de mention spécifique du nombre de jours de télétravail autorisés par semaine. Cependant, il est mentionné que le télétravail peut être mis en œuvre pour les salariés à temps plein ou à temps partiel, ce qui suggère que le nombre de jours de télétravail par semaine peut varier en fonction des besoins et de l'accord de l'employeur et de l'employé. Comme il est mentionné que le télétravail peut être à 100%, je suppose que le nombre maximal de jours de télétravail par semaine est de 5.\n",
      "\n",
      "106 T02121003194\n"
     ]
    },
    {
     "name": "stderr",
     "output_type": "stream",
     "text": [
      "Setting `pad_token_id` to `eos_token_id`:2 for open-end generation.\n"
     ]
    },
    {
     "name": "stdout",
     "output_type": "stream",
     "text": [
      "Q_TTSEM_NOMBRE:Extraction de deux paragraphes du document maximum pertinents qui répondent à la question :\n",
      "\n",
      "* \"Le nombre de jours télétravaillés ne pourra pas être supérieur à 10 par mois de travail effectif pour les salariés à temps plein et à temps partiel.\"\n",
      "* \"Le télétravail s’organise par jour entier en référence à l’horaire de travail contractuel du salarié.\"\n",
      "\n",
      "Ma réponse :\n",
      "nombrejourdeteletravailmaxparsemaine=1\n",
      "\n",
      "Mon raisonnement :\n",
      "Le document indique que le nombre de jours télétravaillés ne peut pas dépasser 10 par mois de travail effectif. Or, il y a 4 semaines par mois en moyenne. Donc, le nombre maximal de jours de télétravail par semaine est de 10/4 = 2,5. Mais, le document précise que le télétravail s'organise par jour entier en référence à l'horaire de travail contractuel du salarié. Par conséquent, le nombre maximal de jours de télétravail par semaine est de 1.\n",
      "\n",
      "107 T09321006383\n"
     ]
    },
    {
     "name": "stderr",
     "output_type": "stream",
     "text": [
      "Setting `pad_token_id` to `eos_token_id`:2 for open-end generation.\n"
     ]
    },
    {
     "name": "stdout",
     "output_type": "stream",
     "text": [
      "Q_TTSEM_NOMBRE:Extraction de deux paragraphes du document maximum pertinents qui répondent à la question :\n",
      "\n",
      "* Par la signature de la présente convention, le collaborateur confirme son souhait de recourir au « Télétravail à 100% ».\n",
      "* L'exercice de l'activité en situation de « télétravail à 100% » sera réalisé sur l’ensemble des jours et heures habituellement travaillé par le collaborateur.\n",
      "\n",
      "Ma réponse :\n",
      "nombrejourdeteletravailmaxparsemaine=5\n",
      "\n",
      "Mon raisonnement :\n",
      "Le paragraphe mentionne explicitement le télétravail à 100%, ce qui signifie que 5 jours de télétravail par semaine sont autorisés.\n",
      "\n",
      "108 T07521030183\n"
     ]
    },
    {
     "name": "stderr",
     "output_type": "stream",
     "text": [
      "Setting `pad_token_id` to `eos_token_id`:2 for open-end generation.\n"
     ]
    },
    {
     "name": "stdout",
     "output_type": "stream",
     "text": [
      "Q_TTSEM_NOMBRE:\n",
      "* Mon extraction de deux paragraphes du document maximum pertinents qui répondent à la question :\n",
      "\n",
      "> Article 4 : Organisation du télétravail\n",
      ">\n",
      "> 4.1 Nombre de jours de télétravail\n",
      ">\n",
      "> Afin d’offrir la plus grande souplesse à l’organisation du travail, le nombre de jours en télétravail ne sera pas limité par principe, mais fera l’objet d’une appréciation au cas par cas, en bonne intelligence par le manager et le collaborateur, en fonction de l’organisation de l’équipe.\n",
      ">\n",
      "> Néanmoins, pour maintenir le lien social avec la communauté de travail, favoriser le travail collaboratif et permettre à cette nouvelle organisation de travail de se déployer avec souplesse, il est souvent nécessaire que chaque collaborateur passe suffisamment de temps sur son lieu habituel de travail, au contact de ses interlocuteurs professionnels.\n",
      ">\n",
      "> La durée minimale de présence sera appréciée par chaque manager en fonction des nécessités de service. En tout état de cause, tout mode de travail à distance est susceptible d’être révisé en fonction des circonstances et doit être considéré comme révisable à tout moment.\n",
      "\n",
      "* Ma réponse :\n",
      "\n",
      "nombrejourdeteletravailmaxparsemaine=0\n",
      "\n",
      "* Mon raisonnement :\n",
      "\n",
      "Le paragraphe ne contient pas de mention explicite du nombre de jours de télétravail par semaine. Cependant, il indique que le nombre de jours de télétravail n'est pas limité par principe. Par conséquent, je ne peux pas attribuer de valeur maximale à nombrejourdeteletravailmaxparsemaine. De plus, il n'y a aucune mention de jours de présence obligatoire sur site dans ce paragraphe, donc je ne peux pas attribuer de valeur à nombrejoursursiteparsemaine non plus.\n",
      "\n",
      "109 T05321002415\n"
     ]
    },
    {
     "name": "stderr",
     "output_type": "stream",
     "text": [
      "Setting `pad_token_id` to `eos_token_id`:2 for open-end generation.\n"
     ]
    },
    {
     "name": "stdout",
     "output_type": "stream",
     "text": [
      "Q_TTSEM_NOMBRE:\n",
      "Extraction du document :\n",
      "\n",
      "* Mon extraction de deux paragraphes du document maximum pertinents qui répondent à la question :\n",
      "\n",
      "> Le nombre de jours télétravaillés s’organise de la façon suivante :\n",
      "> Un nombre de jours télétravaillés pouvant être porté jusqu’à 3 jours par semaine sur accord du manager.\n",
      "> Soit 2 jours de présence sur site obligatoire minimum par semaine afin de préserver le lien social\n",
      "\n",
      "Ma réponse :\n",
      "nombrejourdeteletravailmaxparsemaine=3\n",
      "\n",
      "Mon raisonnement :\n",
      "Le document indique clairement qu'un salarié peut télétravailler jusqu'à 3 jours par semaine, donc nombrejourdeteletravailmaxparsemaine=3.\n",
      "Il n'y a pas d'information sur le nombre de jours sur site par semaine, donc nombrejoursursiteparsemaine=0.\n",
      "\n",
      "110 T03821006956\n"
     ]
    },
    {
     "name": "stderr",
     "output_type": "stream",
     "text": [
      "Setting `pad_token_id` to `eos_token_id`:2 for open-end generation.\n"
     ]
    },
    {
     "name": "stdout",
     "output_type": "stream",
     "text": [
      "Q_TTSEM_NOMBRE:\n",
      "* Mon extraction de deux paragraphes du document maximum pertinents qui répondent à la question :\n",
      "\n",
      "> Le télétravail pour le salarié à temps complet ou titulaire d’un forfait annuel 218 jours ne pourra être exercé que pour un maximum de 13 jours (soit 26 demi-journées) par trimestre civil dans la limite de 1 jour (soit 2 demi-journées) par semaine de 5 jours travaillés, non reportables, soit une enveloppe de 52 jours (soit 104 demi-journées) par année civile.\n",
      "\n",
      "> Par ailleurs, pendant son temps de travail, le salarié s’engage à se connecter, à consulter sa messagerie professionnelle régulièrement et à répondre aux sollicitations formulées par l’entreprise (par le biais du téléphone ou de la messagerie), dans le respect de ce qui précède et sur une amplitude d’une journée de travail standard (à minima la référence horaire de l’entreprise, soit 7h40), quelle que soit la journée télétravaillée dans la semaine.\n",
      "\n",
      "* Ma réponse :\n",
      "\n",
      "    nombrejourdeteletravailmaxparsemaine=1\n",
      "\n",
      "* Mon raisonnement :\n",
      "\n",
      "    Le premier paragraphe indique que le télétravail peut être exercé pour un maximum de 1 jour par semaine de 5 jours travaillés, non reportables. Donc, le nombre maximal de jours de télétravail par semaine est de 1.\n",
      "\n",
      "111 T05621003461\n"
     ]
    },
    {
     "name": "stderr",
     "output_type": "stream",
     "text": [
      "Setting `pad_token_id` to `eos_token_id`:2 for open-end generation.\n"
     ]
    },
    {
     "name": "stdout",
     "output_type": "stream",
     "text": [
      "Q_TTSEM_NOMBRE:Extraction du document :\n",
      "\n",
      "* \"Afin de préserver le lien social, la cohésion et le bon fonctionnement des équipes, le télétravail volontaire est limité à 20 jours par an.\"\n",
      "\n",
      "Ma réponse :\n",
      "nombrejourdeteletravailmaxparsemaine=20\n",
      "\n",
      "Mon raisonnement :\n",
      "Le document stipule clairement que le télétravail volontaire est limité à 20 jours par an. Cependant, il ne précise pas si cela correspond à une limitation par semaine, par mois ou par trimestre. Je ne peux donc me baser que sur la limite annuelle de 20 jours pour répondre à la question.\n",
      "\n",
      "112 T07521029829\n"
     ]
    },
    {
     "name": "stderr",
     "output_type": "stream",
     "text": [
      "Setting `pad_token_id` to `eos_token_id`:2 for open-end generation.\n"
     ]
    },
    {
     "name": "stdout",
     "output_type": "stream",
     "text": [
      "Q_TTSEM_NOMBRE:\n",
      "* Mon extraction de deux paragraphes du document maximum pertinents qui répondent à la question :\n",
      "\n",
      "> \"Le télétravail peut être exécuté dans la limite de deux jours fixes par semaine maximum dans les entités du Groupe où l’organisation hebdomadaire du travail est sur cinq jours à raison d’un minimum de 7h et plus travaillées par jour.\"\n",
      ">\n",
      "> \"Le nombre de jour fixe et régulier de télétravail est d’un ou deux jours. La liste de ces métiers éligibles et le nombre de jours de télétravail associé sera précisée à l’occasion de la négociation collective engagée au sein de chaque société ou UES du Groupe dans un délai de 3 mois à compter de la signature du présent accord de Groupe.\"\n",
      "\n",
      "* Ma réponse :\n",
      "\n",
      "    nombrejourdeteletravailmaxparsemaine=2\n",
      "\n",
      "* Mon raisonnement :\n",
      "\n",
      "    Dans le premier paragraphe, il est stipulé que le télétravail peut être exécuté dans la limite de deux jours fixes par semaine maximum. Cette information est confirmée dans le deuxième paragraphe où il est mentionné que le nombre de jour fixe et régulier de télétravail est d’un ou deux jours.\n",
      "\n",
      "113 T06921015778\n"
     ]
    },
    {
     "name": "stderr",
     "output_type": "stream",
     "text": [
      "Setting `pad_token_id` to `eos_token_id`:2 for open-end generation.\n"
     ]
    },
    {
     "name": "stdout",
     "output_type": "stream",
     "text": [
      "Q_TTSEM_NOMBRE:\n",
      "* Mon extraction de deux paragraphes du document maximum pertinents qui répondent à la question :\n",
      "\n",
      "> Article 3 Modalités d’exercice du télétravail\n",
      ">\n",
      "> Le télétravail peut être mis en œuvre, par journée entière de travail, dans la limite de 3 jours par semaine et de façon régulière.\n",
      "\n",
      "* Ma réponse :\n",
      "\n",
      "nombrejourdeteletravailmaxparsemaine=3\n",
      "\n",
      "* Mon raisonnement :\n",
      "\n",
      "Le paragraphe indique clairement que le télétravail peut être exercé dans la limite de 3 jours par semaine de manière régulière.\n",
      "\n",
      "114 T09221025319\n"
     ]
    },
    {
     "name": "stderr",
     "output_type": "stream",
     "text": [
      "Setting `pad_token_id` to `eos_token_id`:2 for open-end generation.\n"
     ]
    },
    {
     "name": "stdout",
     "output_type": "stream",
     "text": [
      "Q_TTSEM_NOMBRE:Extraction de deux paragraphes du document maximum pertinents qui répondent à la question :\n",
      "\n",
      "* Article 6 : « Afin d’éviter l’isolement des salariés, de conserver les interactions avec les autres services et afin de conserver un fonctionnement collectif, le télétravail sera de la responsabilité du manager et ne pourrait couvrir une semaine entière à savoir 5 jours. Ainsi que le salarié travaillant à temps plein ou à temps partiel, il devra être présent sur son lieu habituel de travail en fonction des obligations liées à sa fonction ou celles du service et au moins 1 jours par semaine. »\n",
      "\n",
      "Ma réponse :\n",
      "nombrejourdeteletravailmaxparsemaine=1\n",
      "\n",
      "Mon raisonnement :\n",
      "Le paragraphe indique que le télétravail ne peut pas couvrir une semaine entière, ce qui signifie qu'il y a une limite de 4 jours de télétravail par semaine. Cependant, il est également indiqué que le salarié doit être présent sur son lieu de travail au moins 1 jour par semaine, ce qui signifie que la limite de télétravail est de 4 jours - 1 jour de présence sur site = 3 jours de télétravail par semaine. Cependant, le paragraphe indique également que le télétravail ne peut pas couvrir une semaine entière, ce qui signifie qu'il y a une limite de 4 jours de télétravail par semaine. Par conséquent, je choisis la limite inférieure de 1 jour de télétravail par semaine.\n",
      "\n",
      "115 T09321006380\n"
     ]
    },
    {
     "name": "stderr",
     "output_type": "stream",
     "text": [
      "Setting `pad_token_id` to `eos_token_id`:2 for open-end generation.\n"
     ]
    },
    {
     "name": "stdout",
     "output_type": "stream",
     "text": [
      "Q_TTSEM_NOMBRE: * Mon extraction de deux paragraphes du document maximum pertinents qui répondent à la question :\n",
      "\n",
      "> \"Ce plafond de deux jours par semaine constitue un maximum qui ne pourra être dépassé par les accords d’entreprise ou chartes de télétravail des entreprises du Groupe.\"\n",
      "\n",
      "> \"Pour la bonne organisation du service le responsable hiérarchique informe son équipe des modalités d’organisation du télétravail au sein de son service.\"\n",
      "\n",
      "* Ma réponse :\n",
      "\n",
      "    nombrejourdeteletravailmaxparsemaine=2\n",
      "\n",
      "* Mon raisonnement :\n",
      "\n",
      "    Le premier extrait indique clairement qu'il existe un plafond de deux jours de télétravail par semaine pour les entreprises du Groupe. Cette information est confirmée dans le deuxième extrait, qui montre que le responsable hiérarchique informe son équipe des modalités d'organisation du télétravail, impliquant ainsi que ces modalités incluent le plafond de deux jours par semaine.\n",
      "\n",
      "116 T09221025943\n"
     ]
    },
    {
     "name": "stderr",
     "output_type": "stream",
     "text": [
      "Setting `pad_token_id` to `eos_token_id`:2 for open-end generation.\n",
      "Created a chunk of size 7288, which is longer than the specified 5000\n",
      "Created a chunk of size 7924, which is longer than the specified 5000\n",
      "Created a chunk of size 6525, which is longer than the specified 5000\n"
     ]
    },
    {
     "name": "stdout",
     "output_type": "stream",
     "text": [
      "Q_TTSEM_NOMBRE:> * Mon extraction de deux paragraphes du document maximum pertinents qui répondent à la question :\n",
      "\n",
      "Article 19 : Nombre de jours télétravaillés et lutte contre l’isolement\n",
      "Organisation et nombre de jours télétravaillés\n",
      "\n",
      "> * Ma réponse :\n",
      "\n",
      "nombrejourdeteletravailmaxparsemaine=5\n",
      "\n",
      "> * Mon raisonnement :\n",
      "\n",
      "Dans l'article 19, il est stipulé que \"Le télétravailleur ne peut exercer en totalité son contrat de travail en dehors des locaux de l’Entreprise.\" et que \"les jours de télétravail seront fixés selon les modalités suivantes : De 1 à 3 jours fixes par semaine pour tous les collaborateurs de l’entreprise ; De 1 à 3 jours flottants par semaine ; Ou un forfait mensuel de 6 jours ; Ou un forfait annuel de 30 jours.\". Cela implique que le nombre maximal de jours de télétravail par semaine est de 5.\n",
      "\n",
      "117 T09221023411\n"
     ]
    },
    {
     "name": "stderr",
     "output_type": "stream",
     "text": [
      "Setting `pad_token_id` to `eos_token_id`:2 for open-end generation.\n"
     ]
    },
    {
     "name": "stdout",
     "output_type": "stream",
     "text": [
      "Q_TTSEM_NOMBRE:\n",
      "* Mon extraction de deux paragraphes du document maximum pertinents qui répondent à la question :\n",
      "\n",
      "\"La fixation des journées de télétravail\n",
      "Si la demande de télétravail a été acceptée, et après réception par l’employeur des attestations conformes visées à l’article précité, les journées de télétravail sont fixées dans le respect des règles de planification/organisation temps de travail du site et dans la mesure du possible, en concertation avec le salarié. En tout état de cause, le télétravail ne peut être réalisé que par journées entières.\"\n",
      "\n",
      "\"Afin de garantir la cohésion des équipes et de prévenir les situations d’isolement, le télétravail ne pourra être exercé que dans la limite de 75% du temps de travail effectif mensuel (en jours).\"\n",
      "\n",
      "* Ma réponse :\n",
      "\n",
      "nombrejourdeteletravailmaxparsemaine=3\n",
      "\n",
      "* Mon raisonnement :\n",
      "\n",
      "Le paragraphe \"La fixation des journées de télétravail\" indique que les journées de télétravail sont fixées dans le respect des règles de planification/organisation temps de travail du site et dans la mesure du possible, en concertation avec le salarié. Cependant, il ne précise pas explicitement le nombre maximal de jours de télétravail par semaine.\n",
      "\n",
      "Le paragraphe \"Afin de garantir la cohésion des équipes et de prévenir les situations d’isolement, le télétravail ne pourra être exercé que dans la limite de 75% du temps de travail effectif mensuel (en jours)\" indique que le télétravail ne peut être exercé que dans la limite de 75% du temps de travail effectif mensuel, ce qui représente 3 jours par semaine (75% de 5 jours par semaine). Par conséquent, je peux conclure que le nombre maximal de jours de télétravail par semaine est de 3 jours.\n",
      "\n",
      "118 T09121006130\n"
     ]
    },
    {
     "name": "stderr",
     "output_type": "stream",
     "text": [
      "Setting `pad_token_id` to `eos_token_id`:2 for open-end generation.\n"
     ]
    },
    {
     "name": "stdout",
     "output_type": "stream",
     "text": [
      "Q_TTSEM_NOMBRE:\n",
      "* Mon extraction de deux paragraphes du document maximum pertinents qui répondent à la question :\n",
      "\n",
      "> \"Il sera désormais possible d’effectuer du télétravail à raison de **DEUX** jours par semaine\"\n",
      "\n",
      "> \"afin de préserver le lien social avec l’entreprise, la cohésion et le bon fonctionnement des équipes, le télétravail est organisé de telle sorte que le salarié à temps plein soit présent dans l’entreprise au moins 3 jours par semaine.\"\n",
      "\n",
      "* Ma réponse : nombrejourdeteletravailmaxparsemaine=2\n",
      "* Mon raisonnement : Dans le premier paragraphe extrait, il est stipulé que les salariés peuvent effectuer du télétravail à raison de DEUX jours par semaine. Cette information est claire et explicite, et correspond à la variable demandée.\n",
      "\n",
      "119 T09221023603\n"
     ]
    },
    {
     "name": "stderr",
     "output_type": "stream",
     "text": [
      "Setting `pad_token_id` to `eos_token_id`:2 for open-end generation.\n"
     ]
    },
    {
     "name": "stdout",
     "output_type": "stream",
     "text": [
      "Q_TTSEM_NOMBRE:\n",
      "Extraction de deux paragraphes du document maximum pertinents qui répondent à la question :\n",
      "\n",
      "* \"Le télétravail régulier s’effectue à raison de deux  jours par semaine maximum (sauf circonstance exceptionnelle visée au §V 3)\"\n",
      "* \"Le salarié en télétravail devra également être présent physiquement dans les locaux de l’entreprise 3 jours minimum par semaine.\"\n",
      "\n",
      "Ma réponse :\n",
      "nombrejourdeteletravailmaxparsemaine=2\n",
      "\n",
      "Mon raisonnement :\n",
      "Le premier paragraphe indique que le télétravail régulier s’effectue à raison de deux jours par semaine maximum. Donc, le nombre maximal de jours de télétravail par semaine est de 2.\n",
      "\n",
      "120 T01321011053\n"
     ]
    },
    {
     "name": "stderr",
     "output_type": "stream",
     "text": [
      "Setting `pad_token_id` to `eos_token_id`:2 for open-end generation.\n",
      "Created a chunk of size 8959, which is longer than the specified 5000\n"
     ]
    },
    {
     "name": "stdout",
     "output_type": "stream",
     "text": [
      "Q_TTSEM_NOMBRE:Extraction du document pertinent :\n",
      "\n",
      "* Mon extraction de deux paragraphes du document maximum pertinents qui répondent à la question :\n",
      "\n",
      "> Personnel non-cadre :\n",
      "> Le temps de présence dans les locaux devra être au minimum de 4 jours ouvrés par semaine afin de prévenir tout risque d’isolement. Le nombre de jours de télétravail est donc limité à un jour par semaine.\n",
      "\n",
      "> Personnel cadre :\n",
      "> Le temps de présence dans les locaux devra être au minimum de 3 jours ouvrés par semaine afin de prévenir tout risque d’isolement. Le nombre de jours télétravaillés est donc limité à deux jours par semaine.\n",
      "\n",
      "* Ma réponse :\n",
      "\n",
      "    nombrejourdeteletravailmaxparsemaine=2\n",
      "\n",
      "* Mon raisonnement :\n",
      "\n",
      "    Le document indique que le personnel non-cadre peut télétravailler un jour par semaine et le personnel cadre deux jours par semaine. Donc, le nombre maximal de jours de télétravail par semaine est de 2.\n",
      "\n",
      "121 T09221026634\n"
     ]
    },
    {
     "name": "stderr",
     "output_type": "stream",
     "text": [
      "Setting `pad_token_id` to `eos_token_id`:2 for open-end generation.\n"
     ]
    },
    {
     "name": "stdout",
     "output_type": "stream",
     "text": [
      "Q_TTSEM_NOMBRE:> * Mon extraction de deux paragraphes du document maximum pertinents qui répondent à la question :\n",
      "\n",
      "Article 3. Répartition du travail et suivi\n",
      "Le manager prend en compte une répartition équivalente de la charge de travail entre le collaborateur en situation de télétravail et les salariés travaillant dans les locaux de l’entreprise.\n",
      "L’organisation alternative de l’activité domicile / entreprise se fait sur la base de deux (2) jours ouvrés par semaine, du mardi au vendredi pour les salariés à plein temps et les salariés à temps partiel ou à forfait jours réduit travaillant au moins à 80%.\n",
      "\n",
      "Article 4. Répartition du temps de travail entre domicile et entreprise\n",
      "Le manager veille à une juste répartition des journées en télétravail entre collaborateurs et il peut être amené à modifier la répartition en concertation avec son équipe, en ayant le souci de la bonne organisation du service.\n",
      "\n",
      "> * Ma réponse :\n",
      "\n",
      "nombrejourdeteletravailmaxparsemaine=2\n",
      "\n",
      "> * Mon raisonnement :\n",
      "\n",
      "Dans l'article 3, il est mentionné que \"l'organisation alternative de l'activité domicile / entreprise se fait sur la base de deux (2) jours ouvrés par semaine\". Cette information correspond à la notion de fréquence par semaine et concerne le nombre de jour de télétravail autorisé. Par ailleurs, dans l'article 4, il est mentionné que \"le manager veille à une juste répartition des journées en télétravail entre collaborateurs\" ce qui confirme que le nombre de jours de télétravail par semaine est limité à 2.\n",
      "\n",
      "122 T09321007118\n"
     ]
    },
    {
     "name": "stderr",
     "output_type": "stream",
     "text": [
      "Setting `pad_token_id` to `eos_token_id`:2 for open-end generation.\n"
     ]
    },
    {
     "name": "stdout",
     "output_type": "stream",
     "text": [
      "Q_TTSEM_NOMBRE:Extraction de deux paragraphes du document maximum pertinents qui répondent à la question :\n",
      "\n",
      "* \"Pour prendre en charge une partie des frais engendés par le télétravail (électricité, chauffage, etc..), une prime mensuelle sera versée sur 11 mois, aux salariés-es concerné-es dont le montant est fonction du nombre de jours de télétravail par semaine.\"\n",
      "* \"Les salarié-es qui auront recours au télétravail 1 à 2 fois par semaine bénéficieront d’une prime de 10 (dix) €uros bruts mensuels. Ainsi, les salarié-es qui auront recours au télétravail 3 fois et plus par semaine bénéficieront d’une prime de 15 (quinze) €uros bruts mensuels.\"\n",
      "\n",
      "Ma réponse :\n",
      "nombrejourdeteletravailmaxparsemaine=3\n",
      "\n",
      "Mon raisonnement :\n",
      "Le document indique qu'une prime mensuelle est versée aux salariés-es concerné-es dont le montant est fonction du nombre de jours de télétravail par semaine. Deux catégories de salariés sont distinguées selon le nombre de jours de télétravail par semaine : les salariés qui télétravaillent 1 à 2 fois par semaine et ceux qui télétravaillent 3 fois et plus par semaine. La prime associée à chaque catégorie est différente, respectivement 10€ et 15€. Par conséquent, je peux en déduire qu'il existe trois jours de télétravail possibles par semaine.\n",
      "\n",
      "123 T06421003693\n"
     ]
    },
    {
     "name": "stderr",
     "output_type": "stream",
     "text": [
      "Setting `pad_token_id` to `eos_token_id`:2 for open-end generation.\n"
     ]
    },
    {
     "name": "stdout",
     "output_type": "stream",
     "text": [
      "Q_TTSEM_NOMBRE:\n",
      "* Mon extraction de deux paragraphes du document maximum pertinents qui répondent à la question :\n",
      "\n",
      "> \"Le nombre de jours télétravaillés prévus par le formulaire de demande de télétravail est d’un ou deux jours entier(s) maximum par semaine.\"\n",
      "\n",
      "> \"Cette/ces journée(s) de télétravail doit/doivent être positionnée(s) du lundi au vendredi.\"\n",
      "\n",
      "* Ma réponse :\n",
      "\n",
      "nombrejourdeteletravailmaxparsemaine=2\n",
      "\n",
      "* Mon raisonnement :\n",
      "\n",
      "Le premier extrait indique que le nombre de jours télétravaillés prévus par le formulaire de demande de télétravail est d’un ou deux jours entiers maximum par semaine. Cependant, il ne précise pas si ces jours peuvent être fractionnés en demi-journées ou non. Le deuxième extrait indique que ces journées doivent être positionnées du lundi au vendredi, ce qui implique qu’il ne peut y avoir plus de 5 jours de télétravail par semaine. Compte tenu de ces éléments, je propose une réponse de 2 jours de télétravail par semaine.\n",
      "\n",
      "124 T59L21011687\n"
     ]
    },
    {
     "name": "stderr",
     "output_type": "stream",
     "text": [
      "Setting `pad_token_id` to `eos_token_id`:2 for open-end generation.\n"
     ]
    },
    {
     "name": "stdout",
     "output_type": "stream",
     "text": [
      "Q_TTSEM_NOMBRE:Extraction de deux paragraphes du document maximum pertinents qui répondent à la question :\n",
      "\n",
      "* \"5.1. Catégorie 1: Pour les collaborateurs du siège et des fonctions supports \\n\\nLe rythme de télétravail sera au minimum de 1 jour toutes les 2 semaines et ne pourra excéder 1 jour par semaine pour les collaborateurs concernés.\"\n",
      "* \"5.2. Catégorie 2: Pour les Directeurs et Chefs de services\\n\\nLe rythme du télétravail sera basé sur un forfait de 12 par an.\"\n",
      "\n",
      "Ma réponse :\n",
      "nombrejourdeteletravailmaxparsemaine=1\n",
      "\n",
      "Mon raisonnement :\n",
      "Dans le premier paragraphe, il est indiqué que le rythme de télétravail pour la catégorie 1 de collaborateurs sera au minimum de 1 jour toutes les 2 semaines et ne pourra excéder 1 jour par semaine. Cela signifie qu'un collaborateur de cette catégorie ne peut pas télétravailler plus d'1 jour par semaine. Dans le deuxième paragraphe, il est indiqué que le rythme du télétravail pour la catégorie 2 de collaborateurs sera basé sur un forfait de 12 jours par an, ce qui ne nous permet pas de déterminer le nombre maximal de jours de télétravail par semaine.\n",
      "\n",
      "125 T07721005504\n"
     ]
    },
    {
     "name": "stderr",
     "output_type": "stream",
     "text": [
      "Setting `pad_token_id` to `eos_token_id`:2 for open-end generation.\n"
     ]
    },
    {
     "name": "stdout",
     "output_type": "stream",
     "text": [
      "Q_TTSEM_NOMBRE:\n",
      "* Mon extraction de deux paragraphes du document maximum pertinents qui répondent à la question :\n",
      "\n",
      "> Un accord relatif à la mise en place du télétravail a été signé au sein de la société le 17 janvier 2020. Cet accord a ouvert la possibilité aux salariés éligibles d’effectuer un **jour par semaine** de télétravail formalisé par un avenant au contrat de travail.\n",
      "\n",
      "* Ma réponse :\n",
      "\n",
      "`nombrejourdeteletravailmaxparsemaine=1`\n",
      "\n",
      "* Mon raisonnement :\n",
      "\n",
      "Le paragraphe indique clairement qu'un salarié éligible peut effectuer **un jour par semaine** de télétravail. Par conséquent, le nombre maximal de jours de télétravail par semaine est de 1.\n",
      "\n",
      "126 T09221024480\n"
     ]
    },
    {
     "name": "stderr",
     "output_type": "stream",
     "text": [
      "Setting `pad_token_id` to `eos_token_id`:2 for open-end generation.\n"
     ]
    },
    {
     "name": "stdout",
     "output_type": "stream",
     "text": [
      "Q_TTSEM_NOMBRE:\n",
      "* Mon extraction de paragraphes pertinents :\n",
      "\n",
      "> \"Le nombre de jour de télétravail autorisés passe de 4 jours par mois à 2 jours par semaine, pour tous les collaborateurs DFA, selon les mêmes conditions que celles prévues dans l’accord télétravail signé le 17 septembre 2020 (hors période de type pandémie).\"\n",
      "\n",
      "* Ma réponse :\n",
      "\n",
      "Nombre de jours de télétravail maximum par semaine : 2\n",
      "\n",
      "* Mon raisonnement :\n",
      "\n",
      "Le paragraphe indique clairement que le nombre de jours de télétravail autorisés passe de 4 jours par mois à 2 jours par semaine. Cette information correspond exactement à la question posée, je n'ai donc pas besoin d'aller chercher plus loin dans le texte.\n",
      "\n",
      "Variable supplémentaire :\n",
      "\n",
      "Nombre de jours sur site par semaine : 3\n",
      "\n",
      "Explication :\n",
      "\n",
      "Comme il est indiqué que le télétravail est autorisé à hauteur de 2 jours par semaine, cela implique que les salariés doivent être présents sur site pendant les 3 autres jours de la semaine.\n",
      "\n",
      "127 T02621002990\n"
     ]
    },
    {
     "name": "stderr",
     "output_type": "stream",
     "text": [
      "Setting `pad_token_id` to `eos_token_id`:2 for open-end generation.\n"
     ]
    },
    {
     "name": "stdout",
     "output_type": "stream",
     "text": [
      "Q_TTSEM_NOMBRE:Mon extraction de deux paragraphes du document maximum pertinents qui répondent à la question :\n",
      "\n",
      "* \"Pour conserver une cohésion d’équipe au sein de l’établissement, les parties conviennent d’un maximum de 2 jours par semaine.\" (Article 4)\n",
      "\n",
      "Ma réponse :\n",
      "nombrejourdeteletravailmaxparsemaine = 2\n",
      "\n",
      "Mon raisonnement :\n",
      "Le paragraphe contient explicitement le mot-clé \"semaine\" et mentionne une limite de 2 jours de télétravail par semaine.\n",
      "\n",
      "128 T05121003268\n"
     ]
    },
    {
     "name": "stderr",
     "output_type": "stream",
     "text": [
      "Setting `pad_token_id` to `eos_token_id`:2 for open-end generation.\n"
     ]
    },
    {
     "name": "stdout",
     "output_type": "stream",
     "text": [
      "Q_TTSEM_NOMBRE:\n",
      "* Extraits pertinents du document :\n",
      "\n",
      "    Article 3. Mise en place du télétravail\n",
      "    « La mise en place et l’organisation du télétravail en circonstances exceptionnelles telles que la pandémie COVID 19 se feront en concertation entre l’employeur et le CSE en fonction\n",
      "    - des besoins du service\n",
      "    - des souhaits des salariés\n",
      "    Le télétravail s’inscrit dans une relation managériale basée sur la confiance mutuelle. La charge de travail d’un télétravailleur doit être élaborée en amont par le manageur et être équivalente à celle effectuée dans les locaux de l’entreprise. »\n",
      "\n",
      "    Article 4. Durée et aménagement du temps de télétravail\n",
      "    « Afin de garantir au salarié le respect de sa vie privée, l’entreprise et les salariés en télétravail s’engagent à respecter les plages horaires de travail de chaque salarié ainsi que le droit à la déconnexion comme défini dans la charte du 31/12/2017.\n",
      "    4.1. Salariés au forfait\n",
      "    Les télétravailleurs dont la durée du travail est fixée de manière forfaitaire en jours demeurent régis par les dispositions légales et conventionnelles relatives à ce mode d’aménagement du temps de travail.\n",
      "    4.2. Salariés en horaire\n",
      "    Les horaires de télétravail sont fixés conformément aux horaires appliqués en entreprise, temps de pause compris. »\n",
      "\n",
      "* Ma réponse :\n",
      "\n",
      "    nombrejourdeteletravailmaxparsemaine=5\n",
      "    nombrejoursursiteparsemaine=0\n",
      "\n",
      "* Mon raisonnement :\n",
      "\n",
      "    Dans l'extrait de l'article 3, il est stipulé que la mise en place et l'organisation du télétravail se font en concertation entre l'employeur et le CSE en fonction des besoins du service et des souhaits des salariés. Il n'y a aucune limitation explicite du nombre de jours de télétravail par semaine. De plus, dans l'extrait de l'article 4, il est mentionné que les horaires de télétravail sont fixés conformément aux horaires appliqués en entreprise, sans aucune restriction quant au nombre de jours de télétravail par semaine. Par conséquent, en l'absence de toute limitation explicite, je considère que le nombre maximal de jours de télétravail par semaine est de 5. En outre, rien n'indique dans le document que des jours de présence sur site sont obligatoires, je considère donc que le nombre de jours sur site par semaine est de 0.\n",
      "\n",
      "132 T09221026760\n"
     ]
    },
    {
     "name": "stderr",
     "output_type": "stream",
     "text": [
      "Setting `pad_token_id` to `eos_token_id`:2 for open-end generation.\n"
     ]
    },
    {
     "name": "stdout",
     "output_type": "stream",
     "text": [
      "Q_TTSEM_NOMBRE:Extraction de deux paragraphes du document maximum pertinents qui répondent à la question :\n",
      "\n",
      "* Article 2-3-1 – Le rythme de télétravail : \"L’accord-cadre de Groupe prévoit deux formules de rythme de télétravail possible. Les parties au présent accord retiennent la formule de télétravail suivante pour le personnel dont les postes sont éligibles conformément à l’article 2-1-2 : rythme de télétravail de 2 jours au maximum par semaine et par salarié.\"\n",
      "\n",
      "Ma réponse :\n",
      "nombrejourdeteletravailmaxparsemaine=2\n",
      "\n",
      "Mon raisonnement :\n",
      "Le paragraphe mentionne explicitement le mot-clé \"semaine\" et indique que le rythme de télétravail est de 2 jours maximum par semaine et par salarié.\n",
      "\n",
      "133 T03321007161\n"
     ]
    },
    {
     "name": "stderr",
     "output_type": "stream",
     "text": [
      "Setting `pad_token_id` to `eos_token_id`:2 for open-end generation.\n"
     ]
    }
   ],
   "source": [
    "import glob\n",
    "PARQUET_FILE_COMPARE=\"Accords/Donnees_Mathilde_Pesenti_TT_Pour_DEE_v2_def.parquet\"\n",
    "for (index,(num_dossier,accord)) in df_init.iterrows():\n",
    "    print(index,num_dossier)\n",
    "    with open(f\"{num_dossier}.txt\",\"w\", encoding=\"utf-8\") as file:\n",
    "        file.write(accord)\n",
    "\n",
    "    loader = TextLoader(f\"{num_dossier}.txt\", encoding='utf8')\n",
    "    docs=loader.load()\n",
    "    \n",
    "    # Chunk text\n",
    "    text_splitter = CharacterTextSplitter(chunk_size=5000, \n",
    "                                          chunk_overlap=100)\n",
    "    chunked_documents = text_splitter.split_documents(docs)\n",
    "    \n",
    "    # Load chunked documents into the FAISS index\n",
    "    db = FAISS.from_documents(chunked_documents, \n",
    "                              HuggingFaceEmbeddings(model_name='sentence-transformers/all-mpnet-base-v2'))\n",
    "    \n",
    "    retriever = db.as_retriever()\n",
    "    \n",
    "    rag_chain = ( \n",
    "     {\"context\": retriever, \"question\": RunnablePassthrough()}\n",
    "        | llm_chain\n",
    "    )\n",
    "    dict_reponse,text=process_model(rag_chain,num_dossier)\n",
    "    with open(f\"{num_dossier}_response.txt\",\"w\", encoding=\"utf-8\") as file:\n",
    "        file.write(text)\n",
    "        print(text)\n",
    "    df2=pd.DataFrame.from_dict(dict_reponse,orient=\"index\")\n",
    "    df2=df2.transpose().rename(columns=VAR_TRANSLATION)\n",
    "    df2.to_csv(f\"{num_dossier}.csv\")\n",
    "    df2.to_parquet(f\"{num_dossier}.parquet\")"
   ]
  },
  {
   "cell_type": "code",
   "execution_count": null,
   "id": "6bb81953-adb7-4343-b2c1-91cd57bdb7b2",
   "metadata": {},
   "outputs": [],
   "source": [
    "data_files=glob.glob('*.parquet')\n",
    "df = pd.concat((pd.read_parquet(f, engine = 'pyarrow') for f in data_files))\n",
    "df=df.set_index(\"num_dossier\")\n",
    "df=df[df.nombre_jours_teletravail_semaine.values!=[None]]\n",
    "df2=pd.read_parquet(f\"{PARQUET_FILE_COMPARE}\")\n",
    "df2=df2[[\"N..Dossier\",\"nombre_jours_teletravail_semaine\"]].set_index(\"N..Dossier\")\n",
    "df_merge=df2.merge(df,how=\"left\",left_index=True, right_index=True)\n",
    "df_merge.nombre_jours_teletravail_semaine_y=df_merge.nombre_jours_teletravail_semaine_y.astype(\"float64\")\n",
    "df_merge=df_merge.fillna(0.0)\n",
    "df_merge[\"diff\"]=(df_merge.nombre_jours_teletravail_semaine_x!=df_merge.nombre_jours_teletravail_semaine_y)\n",
    "print(\"global accuracy\",1-(df_merge[\"diff\"].sum()/df_merge.shape[0]))\n",
    "\n",
    "df_rempli=df_merge[df_merge.nombre_jours_teletravail_semaine_x!=0.0]\n",
    "nb_correct,total =df_rempli.shape[0]-df_rempli[\"diff\"].sum(),df_rempli.shape[0]\n",
    "print(\"accuracy on non null value\",1-(df_rempli[\"diff\"].sum()/df_rempli.shape[0]),f\"; nombre correct : {nb_correct} sur {total}\")\n",
    "\n",
    "df_rempli=df_merge[df_merge.nombre_jours_teletravail_semaine_x==0.0]\n",
    "nb_correct,total =df_rempli.shape[0]-df_rempli[\"diff\"].sum(),df_rempli.shape[0]\n",
    "print(\"accuracy on null value\",1-(df_rempli[\"diff\"].sum()/df_rempli.shape[0]),f\"; nombre correct : {nb_correct} sur {total}\")"
   ]
  },
  {
   "cell_type": "code",
   "execution_count": null,
   "id": "031b511b-a051-40d3-a7b3-5f833a44a9cd",
   "metadata": {
    "scrolled": true
   },
   "outputs": [],
   "source": [
    "df_rempli=df_merge[df_merge.nombre_jours_teletravail_semaine_x!=0.0]\n",
    "df_rempli[df_rempli[\"diff\"]]"
   ]
  },
  {
   "cell_type": "code",
   "execution_count": null,
   "id": "2cb9b7d3-0bcd-4493-939c-43fc87011d7c",
   "metadata": {},
   "outputs": [],
   "source": []
  },
  {
   "cell_type": "code",
   "execution_count": null,
   "id": "528ef75a-519d-48a1-94ba-20a713227ec2",
   "metadata": {},
   "outputs": [],
   "source": []
  },
  {
   "cell_type": "code",
   "execution_count": null,
   "id": "e9c0cd99-a9a2-4def-947e-8e7e7a7372b7",
   "metadata": {},
   "outputs": [],
   "source": []
  },
  {
   "cell_type": "code",
   "execution_count": null,
   "id": "54073c69-8951-4e7d-a76c-0d9a3d450d6d",
   "metadata": {},
   "outputs": [],
   "source": []
  },
  {
   "cell_type": "code",
   "execution_count": null,
   "id": "df72a403-17d1-4d53-9f16-671467f4fee0",
   "metadata": {},
   "outputs": [],
   "source": []
  },
  {
   "cell_type": "code",
   "execution_count": null,
   "id": "8ac001c2-2ad9-4e34-a475-5f814cbfdde5",
   "metadata": {},
   "outputs": [],
   "source": []
  }
 ],
 "metadata": {
  "kernelspec": {
   "display_name": "Python 3 (ipykernel)",
   "language": "python",
   "name": "python3"
  },
  "language_info": {
   "codemirror_mode": {
    "name": "ipython",
    "version": 3
   },
   "file_extension": ".py",
   "mimetype": "text/x-python",
   "name": "python",
   "nbconvert_exporter": "python",
   "pygments_lexer": "ipython3",
   "version": "3.10.13"
  }
 },
 "nbformat": 4,
 "nbformat_minor": 5
}
