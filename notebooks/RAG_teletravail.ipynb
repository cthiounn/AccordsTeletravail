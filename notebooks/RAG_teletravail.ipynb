{
 "cells": [
  {
   "cell_type": "code",
   "execution_count": null,
   "id": "64b55acc-0e5c-4d30-8b60-50070eb0307f",
   "metadata": {},
   "outputs": [],
   "source": [
    "# Notebook from https://medium.com/@thakermadhav/build-your-own-rag-with-mistral-7b-and-langchain-97d0c92fa146\n",
    "!pip install -q torch datasets\n",
    "!pip install -q accelerate==0.21.0 \\\n",
    "                peft==0.4.0 \\\n",
    "                bitsandbytes==0.40.2 \\\n",
    "                transformers==4.31.0 \\\n",
    "                trl==0.4.7\n",
    "!pip install -q scipy langchain transformers playwright html2text sentence_transformers faiss-gpu\n",
    "!pip install -q --upgrade git+https://github.com/huggingface/transformers"
   ]
  },
  {
   "cell_type": "code",
   "execution_count": null,
   "id": "f860479f-f9d0-4162-9701-aeb4da44f3eb",
   "metadata": {},
   "outputs": [],
   "source": [
    "!playwright install > /dev/null\n",
    "!playwright install-deps > /dev/null"
   ]
  },
  {
   "cell_type": "code",
   "execution_count": null,
   "id": "3e8eba08-2a0d-43a0-ae6c-79035327b035",
   "metadata": {},
   "outputs": [],
   "source": [
    "!pip install -U tokenizers"
   ]
  },
  {
   "cell_type": "code",
   "execution_count": 1,
   "id": "923862f9-6c52-4509-b85f-b464c7ba0cf6",
   "metadata": {},
   "outputs": [
    {
     "data": {
      "application/vnd.jupyter.widget-view+json": {
       "model_id": "d0061f23418943a5af07d7be2120b886",
       "version_major": 2,
       "version_minor": 0
      },
      "text/plain": [
       "tokenizer_config.json:   0%|          | 0.00/1.46k [00:00<?, ?B/s]"
      ]
     },
     "metadata": {},
     "output_type": "display_data"
    },
    {
     "data": {
      "application/vnd.jupyter.widget-view+json": {
       "model_id": "4a021236704a46e69a1f91ca69729427",
       "version_major": 2,
       "version_minor": 0
      },
      "text/plain": [
       "tokenizer.model:   0%|          | 0.00/493k [00:00<?, ?B/s]"
      ]
     },
     "metadata": {},
     "output_type": "display_data"
    },
    {
     "data": {
      "application/vnd.jupyter.widget-view+json": {
       "model_id": "a4b21c0586414c87a7479302d0567db8",
       "version_major": 2,
       "version_minor": 0
      },
      "text/plain": [
       "tokenizer.json:   0%|          | 0.00/1.80M [00:00<?, ?B/s]"
      ]
     },
     "metadata": {},
     "output_type": "display_data"
    },
    {
     "data": {
      "application/vnd.jupyter.widget-view+json": {
       "model_id": "08a51d4b3c784dadbc596743be92f1e8",
       "version_major": 2,
       "version_minor": 0
      },
      "text/plain": [
       "special_tokens_map.json:   0%|          | 0.00/72.0 [00:00<?, ?B/s]"
      ]
     },
     "metadata": {},
     "output_type": "display_data"
    },
    {
     "name": "stdout",
     "output_type": "stream",
     "text": [
      "================================================================================\n",
      "Your GPU supports bfloat16: accelerate training with bf16=True\n",
      "================================================================================\n"
     ]
    },
    {
     "name": "stderr",
     "output_type": "stream",
     "text": [
      "`low_cpu_mem_usage` was None, now set to True since model is quantized.\n"
     ]
    },
    {
     "data": {
      "application/vnd.jupyter.widget-view+json": {
       "model_id": "6e576456b0e34b41809d3f955871aebf",
       "version_major": 2,
       "version_minor": 0
      },
      "text/plain": [
       "Loading checkpoint shards:   0%|          | 0/19 [00:00<?, ?it/s]"
      ]
     },
     "metadata": {},
     "output_type": "display_data"
    },
    {
     "name": "stderr",
     "output_type": "stream",
     "text": [
      "You are calling `save_pretrained` to a 4-bit converted model, but your `bitsandbytes` version doesn't support it. If you want to save 4-bit models, make sure to have `bitsandbytes>=0.41.3` installed.\n"
     ]
    }
   ],
   "source": [
    "import os\n",
    "import torch\n",
    "from transformers import (\n",
    "  AutoTokenizer, \n",
    "  AutoModelForCausalLM, \n",
    "  BitsAndBytesConfig,\n",
    "  pipeline\n",
    ")\n",
    "\n",
    "from transformers import BitsAndBytesConfig\n",
    "\n",
    "\n",
    "\n",
    "\n",
    "from langchain.prompts import PromptTemplate\n",
    "from langchain.schema.runnable import RunnablePassthrough\n",
    "from langchain.llms import HuggingFacePipeline\n",
    "from langchain.chains import LLMChain\n",
    "\n",
    "\n",
    "#################################################################\n",
    "# Tokenizer\n",
    "#################################################################\n",
    "\n",
    "model_name=\"mistralai/Mistral-7B-Instruct-v0.1\"\n",
    "model_name=\"mistralai/Mixtral-8x7B-Instruct-v0.1\"\n",
    "tokenizer = AutoTokenizer.from_pretrained(model_name, trust_remote_code=True)\n",
    "tokenizer.pad_token = tokenizer.eos_token\n",
    "tokenizer.padding_side = \"right\"\n",
    "\n",
    "#################################################################\n",
    "# bitsandbytes parameters\n",
    "#################################################################\n",
    "\n",
    "# Activate 4-bit precision base model loading\n",
    "use_4bit = True\n",
    "\n",
    "# Compute dtype for 4-bit base models\n",
    "bnb_4bit_compute_dtype = \"float16\"\n",
    "\n",
    "# Quantization type (fp4 or nf4)\n",
    "bnb_4bit_quant_type = \"nf4\"\n",
    "\n",
    "# Activate nested quantization for 4-bit base models (double quantization)\n",
    "use_nested_quant = True\n",
    "\n",
    "#################################################################\n",
    "# Set up quantization config\n",
    "#################################################################\n",
    "compute_dtype = getattr(torch, bnb_4bit_compute_dtype)\n",
    "\n",
    "bnb_config = BitsAndBytesConfig(\n",
    "    load_in_4bit=use_4bit,\n",
    "    bnb_4bit_quant_type=bnb_4bit_quant_type,\n",
    "    bnb_4bit_compute_dtype=compute_dtype,\n",
    "    bnb_4bit_use_double_quant=use_nested_quant,\n",
    ")\n",
    "\n",
    "# Check GPU compatibility with bfloat16\n",
    "if compute_dtype == torch.float16 and use_4bit:\n",
    "    major, _ = torch.cuda.get_device_capability()\n",
    "    if major >= 8:\n",
    "        print(\"=\" * 80)\n",
    "        print(\"Your GPU supports bfloat16: accelerate training with bf16=True\")\n",
    "        print(\"=\" * 80)\n",
    "\n",
    "#################################################################\n",
    "# Load pre-trained config\n",
    "#################################################################\n",
    "model = AutoModelForCausalLM.from_pretrained(\n",
    "    model_name,\n",
    "    quantization_config=bnb_config,\n",
    "    cache_dir=\".\",\n",
    ")\n",
    "#load_in_4bits=True)\n"
   ]
  },
  {
   "cell_type": "code",
   "execution_count": null,
   "id": "a9778127-0508-4d93-b718-ae8108e884ca",
   "metadata": {},
   "outputs": [],
   "source": [
    "model.config.pad_token_id = tokenizer.pad_token_id\n",
    "\n",
    "text_generation_pipeline = pipeline(\n",
    "    model=model,\n",
    "    tokenizer=tokenizer,\n",
    "    task=\"text-generation\",\n",
    "    temperature=0.2,\n",
    "    repetition_penalty=1.1,\n",
    "    return_full_text=True,\n",
    "    max_new_tokens=1000,\n",
    ")\n",
    "\n",
    "mistral_llm = HuggingFacePipeline(pipeline=text_generation_pipeline)"
   ]
  },
  {
   "cell_type": "code",
   "execution_count": null,
   "id": "f3fb3129-2b6a-4819-9b68-ad0552cb23b1",
   "metadata": {},
   "outputs": [],
   "source": [
    "import arrow\n",
    "import pandas as pd\n",
    "PARQUET_FILE=\"Accords/echantillon_public_Mathilde.parquet\""
   ]
  },
  {
   "cell_type": "code",
   "execution_count": null,
   "id": "6f3e9f65-5314-4091-b2eb-cb3592a8b27a",
   "metadata": {},
   "outputs": [],
   "source": [
    "df_init=pd.read_parquet(PARQUET_FILE)"
   ]
  },
  {
   "cell_type": "code",
   "execution_count": null,
   "id": "065f4c3e-99d2-46ff-b97c-39ba7ffa5433",
   "metadata": {},
   "outputs": [],
   "source": [
    "prompt_template = \"\"\"\n",
    "\n",
    "### [ROLE] Role: Vous êtes un expert juridique des accords d'entreprise sans compétence de programmation informatique, seulement la lecture et la compréhension des textes. Tu ne connais aucun langage de programmation, ni les expressions régulières.\n",
    "\n",
    "\n",
    "### [INST] Instructions: \n",
    "\n",
    "1. Votre travail consiste à peupler et mettre à jour une base des données nécessaires pour réaliser des études économétriques poussées sur le télétravail.\n",
    "        Pour cela, vous devez prendre le texte d'un accord d'entreprise dans le contexte suivant, dans lesquelles figurent les informations à jour que l'on vous fourni, et d'extraire précisément l'information spécifique dont vous avez besoin.\n",
    "        Vous ne devez extraire que le nombre, et uniquement le nombre. Le nombre peut être écrit en lettres ou en chiffres. (exemple : deux ou 2 )\n",
    "        Si vous ne trouvez pas la réponse dans le texte vous devez le dire et ne pas chercher à en fournir un autre nombre.\n",
    "        Avant de répondre, vérifier que la réponse se trouve bien dans le texte indiqué.\n",
    "        \n",
    "2. Vous devez respecter les règles suivantes : Déconnecter les liens entre les périodicités (semaine, mois, trimestre, année)! Faire comme si les semaines, les mois, les trimestres et les années sont des concepts indépendants : dans un mois, il y a donc 0 semaine ; dans un trimestre, 0 mois et 0 semaine; dans une année, 0 trimestre, 0 mois et 0 semaine !\n",
    "        Ne fais aucune supposition ni d'hypothèses !\n",
    "        Pas de proratisation !\n",
    "        Il n'y a pas de lien entre l'effectif d'un service et le nombre de jour de télétravail, donc ne pas déduire un nombre de jour de télétravail !\n",
    "        Télétravail à 100% = full-remote = 5 jours de télétravail par semaine !\n",
    "        Trois jours de présence sur site et sans autre mention du nombre de jours de télétravail autorisé =  0 jour de télétravail par semaine, a priori !\n",
    "        Il y a cinq jours ouvrés dans une semaine, donc un nombre de jour de télétravail par semaine ne peut pas être strictement supérieur à cinq.\n",
    "        Si tu donnes un nombre réel, ne donne pas la fraction mais un arrondi !\n",
    "        Si le nombre de jour de télétravail annuel est inférieur à 52, ce nombre de jour de télétravail concerne du télétravail occasionnel. S'il est supérieur ou égal à 52, ce nombre concerne du télétravail régulier.\n",
    "        Si le nombre de jour de télétravail trimestriel est inférieur à 13, ce nombre de jour de télétravail concerne du télétravail occasionnel. S'il est supérieur ou égal à 13, ce nombre concerne du télétravail régulier.\n",
    "        Si le nombre de jour de télétravail mensuelle est inférieur à 4, ce nombre de jour de télétravail concerne du télétravail occasionnel. S'il est supérieur ou égal à 4, ce nombre concerne du télétravail régulier.\n",
    "\n",
    "3. Vous devez structurez votre réponse comme suit :\n",
    "        * Ma réponse :\n",
    "        * Mon extraction de trois phrases maximum qui répondent à la question :\n",
    "        * Mon raisonnenement :\n",
    "        \n",
    "### Contexte: \n",
    "{context}\n",
    "\n",
    "### QUESTION:\n",
    "{question} [/INST]\n",
    "\"\"\""
   ]
  },
  {
   "cell_type": "code",
   "execution_count": null,
   "id": "cd4e7965-223c-49ed-bea1-5c0dd89a6b46",
   "metadata": {},
   "outputs": [],
   "source": [
    "# Create prompt from prompt template \n",
    "prompt = PromptTemplate(\n",
    "    input_variables=[\"context\", \"question\"],\n",
    "    template=prompt_template,\n",
    ")\n",
    "\n",
    "# Create llm chain \n",
    "llm_chain = LLMChain(llm=mistral_llm, prompt=prompt)"
   ]
  },
  {
   "cell_type": "code",
   "execution_count": null,
   "id": "50bc8e16-8943-4e71-8a43-7342eeae75d5",
   "metadata": {},
   "outputs": [],
   "source": [
    "from langchain.text_splitter import CharacterTextSplitter\n",
    "from langchain.document_transformers import Html2TextTransformer\n",
    "from langchain.document_loaders import AsyncChromiumLoader\n",
    "from langchain.embeddings.huggingface import HuggingFaceEmbeddings\n",
    "from langchain.vectorstores import FAISS\n",
    "from langchain_community.document_loaders import TextLoader\n",
    "import warnings\n",
    "warnings.filterwarnings('ignore')\n",
    "import re\n",
    "def guess_reponse_booleenne(reponse):\n",
    "    reponse_booleenne=None\n",
    "    if reponse[\"text\"].startswith(\"\\nOui\") or reponse[\"text\"].startswith(\"Oui\") :\n",
    "        reponse_booleenne=1\n",
    "    elif reponse[\"text\"].startswith(\"\\nNon\") or reponse[\"text\"].startswith(\"Non\") :\n",
    "        reponse_booleenne=0\n",
    "    return reponse_booleenne\n",
    "\n",
    "def guess_reponse_durée(reponse):\n",
    "    reponse_booleenne=None\n",
    "    if \"indéterminée\" in reponse[\"text\"].lower() :\n",
    "        reponse_booleenne=0\n",
    "    elif \"déterminée\" in reponse[\"text\"].lower():\n",
    "        reponse_booleenne=1\n",
    "    return reponse_booleenne\n",
    "\n",
    "def guess_reponse_nombre(reponse,pattern=\"nombre\"):\n",
    "    reponse_nombre=None\n",
    "    REGEX=rf\".*{pattern}=(\\d+)\"\n",
    "    numbers=re.findall(REGEX,reponse[\"text\"])\n",
    "    if numbers:\n",
    "        reponse_nombre=numbers[0]\n",
    "    return reponse_nombre"
   ]
  },
  {
   "cell_type": "code",
   "execution_count": null,
   "id": "738e6397-10db-4fad-9abc-b1780fcbdd89",
   "metadata": {},
   "outputs": [],
   "source": [
    "Q_DUREE=\"S'il est fait mention d'une durée de l'accord, est-ce que l'accord est à durée déterminée ou à durée indéterminée ? déterminée=1 ou indéterminée=0 ou NA?\"\n",
    "Q_REVERS=\"S'il est fait mention d'une clause et d'un article de réversibilité, est-ce que l'accord a une clause ou un article de réversibilité ? Oui=1 ou non=0 ou NA?\"\n",
    "Q_ADAPT=\"S'il est fait mention d'une période d'adaptation, est-ce que l'accord comprend une période d'adaptation ? Oui=1 ou non=0 ou NA?\"\n",
    "Q_TTREG=\"Est-ce qu'au moins un paragraphe mentionne du télétravail régulier ?\"\n",
    "Q_TTOCA=\"Est-ce qu'au moins un paragraphe mentionne du télétravail occasionnel ?\"\n",
    "Q_TTEXC=\"Est-ce qu'au moins un paragraphe mentionne du télétravail exceptionnel ?\"\n",
    "Q_DISPOSPERQTHENCEINTE=\"Est-ce qu'au moins un paragraphe mentionne des dispositifs spéciaux pour les travailleurs en situation de handicap, les femmes enceintes, les séniors ou les personnes présentant des fragilités ou des problèmes de santé ?\"\n",
    "Q_MONTANT_CAVIARDE=\"Est-ce qu'au moins un paragraphe mentionne un nombre sans le donner exactement, mais sous forme illisible ?\"\n",
    "Q_TELETRAVAIL_FLEX_SANS_LIMITE=\"Est-ce qu'au moins un paragraphe suggère une liberté totale dans le choix des jours de télétravail, hormis quelques contraintes de présence ?\"\n",
    "Q_TT_REG_NOMBRE_FORMULE=Q_TTREG+\"Si oui, combien de formules (exemples de formule : si temps plein et temps partiel = 2, si choix entre 1 à 3 jours de télétravail régulier = 3) sont proposées pour du télétravail régulier ? Retourne à la fin 'nombre=max(tes réponses)'\"\n",
    "PERIODICITE={\"MOIS\":\"mois\",\"TRIM\":\"trimestre\",\"ANNEE\":\"année\", \"SEM\":\"semaine\"}\n",
    "PERIODICITE2={\"JOUR\":\"jour\",\"MOIS\":\"mois\",\"TRIM\":\"trimestre\",\"ANNEE\":\"année\", \"SEM\":\"semaine\"}\n",
    "Q_COMPE=\"Est-ce qu'au moins un paragraphe mentionne une indemnité spécialement pour l'achat d'équipements ?\"\n",
    "Q_COMPE_NOMBRE=Q_COMPE+\"Si oui, sélectionne seulement les paragraphes mentionnant une indemnité spécialement pour l'achat d'équipements et s'il existe donne le montant lié de l'indemnité d'équipement. Si oui, retourne à la fin 'nombre=max(ta réponse)'\"\n",
    "Q_EQUIPEMENT=\"Est-ce qu'au moins un paragraphe mentionne un équipement de télétravail fourni ?\"\n",
    "Q_COMPS=\"Est-ce qu'au moins un paragraphe mentionne explicitement une indemnité de sujétion (dans le cas où l'employeur impose le télétravail, ce dernier indemnise l'employé) ?\"\n",
    "Q_COMPS_NOMBRE=Q_COMPS+\"Si oui, sélectionne seulement les paragraphes mentionnant une indemnité de sujétion dans le cas où l'employeur impose le télétravail et s'il existe donne le montant lié de l'indemnité de sujétion dans le cas où l'employeur impose le télétravail. Si oui, retourne à la fin 'nombre=max(ta réponse)'\""
   ]
  },
  {
   "cell_type": "code",
   "execution_count": null,
   "id": "bf6654b6-813d-40f6-bae7-f3f68ff1c076",
   "metadata": {},
   "outputs": [],
   "source": [
    "def process_model(rag_chain,num_dossier):\n",
    "    dict_reponse=dict()\n",
    "    dict_reponse[\"num_dossier\"]=num_dossier\n",
    "    text=\"\"\n",
    "    reponse= rag_chain.invoke(Q_DISPOSPERQTHENCEINTE)\n",
    "    text+=\"Q_DISPOSPERQTHENCEINTE:\"+reponse[\"text\"] + \"\\n\"\n",
    "    dict_reponse[\"DISPOSPERQTHENCEINTE\"]=guess_reponse_booleenne(reponse)\n",
    "    reponse= rag_chain.invoke(Q_MONTANT_CAVIARDE)\n",
    "    text+=\"Q_MONTANT_CAVIARDE:\"+reponse[\"text\"] + \"\\n\"\n",
    "    dict_reponse[\"MONTANT_CAVIARDE\"]=guess_reponse_booleenne(reponse)\n",
    "    reponse= rag_chain.invoke(Q_TELETRAVAIL_FLEX_SANS_LIMITE)\n",
    "    text+=\"Q_TELETRAVAIL_FLEX_SANS_LIMITE:\"+reponse[\"text\"] + \"\\n\"\n",
    "    dict_reponse[\"TELETRAVAIL_FLEX_SANS_LIMITE\"]=guess_reponse_booleenne(reponse)\n",
    "    reponse= rag_chain.invoke(Q_TT_REG_NOMBRE_FORMULE)\n",
    "    text+=\"Q_TT_REG_NOMBRE_FORMULE:\"+reponse[\"text\"] + \"\\n\"\n",
    "    dict_reponse[\"TT_REG_NOMBRE_FORMULE\"]=guess_reponse_nombre(reponse)\n",
    "    reponse= rag_chain.invoke(Q_DUREE)\n",
    "    text+=\"Q_DUREE:\"+reponse[\"text\"] + \"\\n\"\n",
    "    dict_reponse[\"DUREE\"]=guess_reponse_durée(reponse)\n",
    "    reponse= rag_chain.invoke(Q_REVERS)\n",
    "    text+=\"Q_REVERS:\"+reponse[\"text\"] + \"\\n\"\n",
    "    dict_reponse[\"REVERS\"]=guess_reponse_booleenne(reponse)\n",
    "    reponse= rag_chain.invoke(Q_ADAPT)\n",
    "    text+=\"Q_ADAPT:\"+reponse[\"text\"] + \"\\n\"\n",
    "    dict_reponse[\"ADAPT\"]=guess_reponse_booleenne(reponse)\n",
    "    reponse= rag_chain.invoke(Q_TTREG)\n",
    "    text+=\"Q_TTREG:\"+reponse[\"text\"] + \"\\n\"\n",
    "    dict_reponse[\"TTREG\"]=guess_reponse_booleenne(reponse)\n",
    "    reponse= rag_chain.invoke(Q_TTOCA)\n",
    "    text+=\"Q_TTOCA:\"+reponse[\"text\"] + \"\\n\"\n",
    "    dict_reponse[\"TTOCA\"]=guess_reponse_booleenne(reponse)\n",
    "    reponse= rag_chain.invoke(Q_TTEXC)\n",
    "    text+=\"Q_TTEXC:\"+reponse[\"text\"] + \"\\n\"\n",
    "    dict_reponse[\"TTEXC\"]=guess_reponse_booleenne(reponse)\n",
    "    for (k,v) in PERIODICITE.items():\n",
    "        Q_TT=f\"Hors jours supplémentaires ou exceptionnels, est-ce qu'au moins un paragraphe mentionne un nombre de jour de télétravail maximum autorisé explicitement exprimé par {v} ?\"\n",
    "        reponse= rag_chain.invoke(Q_TT)\n",
    "        text+=f\"Q_TT{k}:\"+reponse[\"text\"] + \"\\n\"\n",
    "        dict_reponse[f\"TT{k}\"]=guess_reponse_booleenne(reponse)\n",
    "        #Q_TT_NOMBRE=f\"Extrait le nombre de jour de télétravail maximum autorisé explicitement exprimé par {v} seulement à partir du texte suivant : {text_reponse}\"\n",
    "        Q_TT_NOMBRE=Q_TT+f\"Si oui, quel est le nombre de jour de télétravail supplémentaires explicitement exprimé et nécessairement et seulement exprimé par {v} pour des dispositions spéciales. Si oui, retourne à la fin 'nombre=max(tes réponses)'\"\n",
    "        reponse= rag_chain.invoke(Q_TT_NOMBRE)\n",
    "        text+=f\"Q_TT{k}_NOMBRE:\"+reponse[\"text\"] + \"\\n\"\n",
    "        dict_reponse[f\"TT{k}_NOMBRE\"]=guess_reponse_nombre(reponse)\n",
    "    for (k,v) in PERIODICITE.items():\n",
    "        Q_TTOCA_PERIOD=f\"Dans le cadre du télétravail occasionnel, est-ce qu'au moins un paragraphe mentionne un nombre de jour de télétravail maximum autorisé explicitement exprimé par {v} ?\"\n",
    "        reponse= rag_chain.invoke(Q_TTOCA_PERIOD)\n",
    "        text+=f\"TTOCA{k}:\"+reponse[\"text\"] + \"\\n\"\n",
    "        dict_reponse[f\"TTOCA{k}\"]=guess_reponse_booleenne(reponse)\n",
    "        Q_TTOCA_NOMBRE=Q_TTOCA_PERIOD+f\"Si oui, quel est le nombre de jour de télétravail occasionnel explicitement exprimé et nécessairement et seulement exprimé par {v}. Si oui, retourne à la fin 'nombre=max(tes réponses)'\"\n",
    "        reponse= rag_chain.invoke(Q_TTOCA_NOMBRE)\n",
    "        text+=f\"Q_TTOCA_{k}_NOMBRE:\"+reponse[\"text\"] + \"\\n\"\n",
    "        dict_reponse[f\"TTOCA_{k}_NOMBRE\"]=guess_reponse_nombre(reponse)\n",
    "    for (k,v) in PERIODICITE.items():\n",
    "        Q_PRESJOUR=f\"Est-ce qu'au moins un paragraphe mentionne un nombre de jour de présence obligatoire sur site minimum explicitement exprimé par {v} ?\"\n",
    "        reponse= rag_chain.invoke(Q_PRESJOUR)\n",
    "        text+=f\"Q_PRESJOUR{k}:\"+reponse[\"text\"] + \"\\n\"\n",
    "        dict_reponse[f\"TTPRESJOUR{k}\"]=guess_reponse_booleenne(reponse)\n",
    "        Q_PRESJOUR_NOMBRE=Q_PRESJOUR+f\"Si oui, sélectionne seulement les paragraphes mentionnant un nombre de jour de présence obligatoire sur site minimum explicitement exprimé par {v} et s'il existe donne le nombre de jour de présence obligatoire sur site minimum explicitement exprimé par {v}. Si oui, retourne à la fin 'nombre=max(tes réponses)'\"\n",
    "        reponse= rag_chain.invoke(Q_PRESJOUR_NOMBRE)\n",
    "        text+=f\"Q_PRESJOUR{k}_NOMBRE:\"+reponse[\"text\"] + \"\\n\"\n",
    "        dict_reponse[f\"PRESJOUR{k}_NOMBRE\"]=guess_reponse_nombre(reponse)\n",
    "    for (k,v) in PERIODICITE2.items():\n",
    "        Q_COMP=f\"Hors indemnité d'équipement, est-ce qu'au moins un paragraphe mentionne une indemnité forfaitaire explicitement exprimée par {v} ?\"\n",
    "        reponse= rag_chain.invoke(Q_COMP)\n",
    "        text+=f\"Q_COMP{k}:\"+reponse[\"text\"] + \"\\n\"\n",
    "        dict_reponse[f\"COMP{k}\"]=guess_reponse_booleenne(reponse)\n",
    "        Q_COMP_NOMBRE=Q_COMP+f\"Si oui, sélectionne en interne seulement les paragraphes mentionnant une indemnité forfaitaire explicitement exprimé par {v}, puis s'il existe donne le montant explicitement exprimé par {v}. Si oui, retourne à la fin 'nombre=max(ta réponse)'\"\n",
    "        reponse= rag_chain.invoke(Q_COMP_NOMBRE)\n",
    "        text+=f\"Q_COMP{k}_NOMBRE:\"+reponse[\"text\"] + \"\\n\"\n",
    "        dict_reponse[f\"COMP{k}_NOMBRE\"]=guess_reponse_nombre(reponse)\n",
    "        if \"MOIS\" in k:\n",
    "            Q_COMP_NOMBRE_BASE=Q_COMP+f\"Si oui, sélectionne en interne seulement les paragraphes mentionnant une indemnité forfaitaire explicitement exprimé par {v}, puis s'il existe plusieurs montants explicitement exprimé par {v}, par nombre de jour. Si oui, retourne à la fin 'nombre=base_mensuelle_pour_un_jour_de_teletravail(ta réponse)'\"\n",
    "            reponse= rag_chain.invoke(Q_COMP_NOMBRE_BASE)\n",
    "            text+=f\"Q_COMP{k}_BASE_NOMBRE:\"+reponse[\"text\"] + \"\\n\"\n",
    "            dict_reponse[f\"COMP{k}_BASE_NOMBRE\"]=guess_reponse_nombre(reponse)\n",
    "    reponse= rag_chain.invoke(Q_COMPE)\n",
    "    text+=\"Q_COMPE:\"+reponse[\"text\"] + \"\\n\"\n",
    "    dict_reponse[\"COMPE\"]=guess_reponse_booleenne(reponse)\n",
    "    reponse= rag_chain.invoke(Q_COMPE_NOMBRE)\n",
    "    text+=\"Q_COMPE_NOMBRE:\"+reponse[\"text\"] + \"\\n\"\n",
    "    dict_reponse[\"COMPE_NOMBRE\"]=guess_reponse_nombre(reponse)\n",
    "    reponse= rag_chain.invoke(Q_EQUIPEMENT)\n",
    "    text+=\"Q_EQUIPEMENT:\"+reponse[\"text\"] + \"\\n\"\n",
    "    dict_reponse[\"EQUIPEMENT\"]=guess_reponse_booleenne(reponse)\n",
    "    reponse= rag_chain.invoke(Q_COMPS)\n",
    "    text+=\"Q_COMPS:\"+reponse[\"text\"] + \"\\n\"\n",
    "    dict_reponse[\"COMPS\"]=guess_reponse_booleenne(reponse)\n",
    "    reponse= rag_chain.invoke(Q_COMPS_NOMBRE)\n",
    "    text+=\"Q_COMPS_NOMBRE:\"+reponse[\"text\"] + \"\\n\"\n",
    "    dict_reponse[\"COMPS_NOMBRE\"]=guess_reponse_nombre(reponse)\n",
    "    return dict_reponse,text"
   ]
  },
  {
   "cell_type": "code",
   "execution_count": 19,
   "id": "e8a37df9-03f2-4dba-9a11-490329b526e3",
   "metadata": {},
   "outputs": [],
   "source": [
    "PERIODICITE={ \"SEM\":\"semaine\"}\n",
    "EXEMPLES= \"Le télétravail pour le salarié à temps complet ou titulaire d’un forfait annuel 218 jours ne pourra être exercé que pour un maximum de 13 jours (soit 26 demi-journées) par trimestre civil dans la limite de 1 jour (soit 2 demi-journées) par semaine de 5 jours travaillés, non reportables, soit une enveloppe de 52 jours (soit 104 demi-journées) par année civile. => 1 jour de télétravail par semaine.\"\n",
    "EXEMPLES+= \" Un maximum de 2 jours par semaine, et de 2 demi-journées pouvant être cumulées sur une même journée au cours de la même semaine. => 3 jours de télétravail par semaine car 3 = (2+2*0.5).\"\n",
    "EXEMPLES+= \" Une limite haute de 10 jours de télétravail, par mois civil, est instituée. => ne pas déduire de jours de téltravail par semaine => 0 jour de télétravail par semaine.\"\n",
    "EXEMPLES+= \" Les salariés devront être présents au minimum 2 jours par semaine sur leur lieu de travail habituel. => sans hypothèse et informations complémentaires, ne pas déduire de jours de téltravail par semaine => 0 jour de télétravail par semaine.\"\n",
    "EXEMPLES+= \" Le télétravail pour le salarié à temps complet ou titulaire d’un forfait annuel 218 jours ne pourra être exercé que pour un maximum de 13 jours (soit 26 demi-journées) par trimestre civil dans la limite de 1 jour (soit 2 demi-journées) par semaine de 5 jours travaillés, non reportables, soit une enveloppe de 52 jours (soit 104 demi-journées) par année civile. => 1 jour de télétravail par semaine.\"\n",
    "EXEMPLES+= \" Le nombre de jour de télétravail est à discuter avec le manager. => a priori, sans informations complémentaires, pas d'information sur le max, ne pas déduire un nombre de jours de télétravail => 0 jour de télétravail par semaine.\"\n",
    "EXEMPLES+= \" Les 4 journées de télétravail mensuelles autorisées et 1 jour de télétravail fixe par semaine calendaire => 1 jour de télétravail par semaine.\"\n",
    "\n",
    "def process_model(rag_chain,num_dossier):\n",
    "    dict_reponse=dict()\n",
    "    dict_reponse[\"num_dossier\"]=num_dossier\n",
    "    text=\"\"\n",
    "    for (k,v) in PERIODICITE.items():\n",
    "        Q_TT_NOMBRE=f\"Est-ce qu'un paragraphe comporte le mot-clé {v} ou une notion de fréquence par {v} et concerne le nombre de jour de télétravail autorisé (ne compte pas les paragraphes qui relatent d'indemnisation par jour de télétravail, ni le télétravail ponctuel ou occasionnel)?\"\n",
    "        Q_TT_NOMBRE+=f\" Si oui, jusqu'à combien de jour possible de télétravail un employé peut-il télétravailler régulièrement, jour exprimé seulement par {v} et explicitement dans un des paragraphes (attention, ne pas confondre avec les jours de présence obligatoire sur site)? \"\n",
    "        Q_TT_NOMBRE+=f\" Si tu as plusieurs réponses, affecte le maximum des jours de télétravail par {v} de ces éventuelles réponses dans une variable 'nombrejourdeteletravailmaxpar{v}'. Si tu ne trouves pas de valeur, retourne nombrejourdeteletravailmaxpar{v} à 0\"\n",
    "        Q_TT_NOMBRE+=f\" S'il y a des jours de présence obligatoire sur site, retourne également une variable supplémentaire 'nombrejoursursitepar{v}' avec la valeur indiquée\"\n",
    "        Q_TT_NOMBRE+=f\" Ta réponse devra impérativement comporter la chaîne de caractère 'nombrejourdeteletravailmaxpar{v}=' suivi du nombre demandé.\"\n",
    "        Q_TT_NOMBRE+=f\" Voici quelques exemples pour vous aider : {EXEMPLES}\"\n",
    "        reponse= rag_chain.invoke(Q_TT_NOMBRE)\n",
    "        text+=f\"Q_TT{k}_NOMBRE:\"+reponse[\"text\"] + \"\\n\"\n",
    "        dict_reponse[f\"TT{k}_NOMBRE\"]=guess_reponse_nombre(reponse,pattern=f\"nombrejourdeteletravailmaxpar{v}\")\n",
    "    return dict_reponse,text"
   ]
  },
  {
   "cell_type": "code",
   "execution_count": 20,
   "id": "b4de9f12-d3b6-4aa5-8603-df16fe199823",
   "metadata": {},
   "outputs": [],
   "source": [
    "VAR_TRANSLATION={'DISPOSPERQTHENCEINTE': \"dispositif_special_rqth_maternite_senior\",\n",
    " 'MONTANT_CAVIARDE': \"montant_caviarde\",\n",
    " 'TELETRAVAIL_FLEX_SANS_LIMITE': \"teletravail_regulier_flexible_sans_limite\",\n",
    " 'TT_REG_NOMBRE_FORMULE': \"nombre_formules_teletravail_regulier\",\n",
    " 'DUREE': \"duree_application\",\n",
    " 'REVERS': \"presence_clause_reversibilite\",\n",
    " 'ADAPT': \"periode_adaptation\",\n",
    " 'TTREG': \"teletravail_regulier\",\n",
    " 'TTOCA': \"teletravail_occasionnel\",\n",
    " 'TTEXC': \"teletravail_exceptionnel\",\n",
    " 'TTMOIS': \"mention_teletravail_par_mois\",\n",
    " 'TTMOIS_NOMBRE': \"nombre_jours_teletravail_mois\",\n",
    " 'TTTRIM': \"mention_teletravail_par_trimestre\",\n",
    " 'TTTRIM_NOMBRE': \"nombre_jours_teletravail_trimestre\",\n",
    " 'TTANNEE': \"mention_teletravail_par_annuel\",\n",
    " 'TTANNEE_NOMBRE': \"nombre_jours_teletravail_annuel\",\n",
    " 'TTSEM': \"mention_teletravail_par_semaine\",\n",
    " 'TTSEM_NOMBRE': \"nombre_jours_teletravail_semaine\",\n",
    " 'TTOCAMOIS': \"occas_mention_teletravail_par_mois\",\n",
    " 'TTOCA_MOIS_NOMBRE': \"occas_nombre_jours_teletravail_mois\",\n",
    " 'TTOCATRIM': \"occas_mention_teletravail_par_trimestre\",\n",
    " 'TTOCA_TRIM_NOMBRE': \"occas_nombre_jours_teletravail_trimestre\",\n",
    " 'TTOCAANNEE': \"occas_mention_teletravail_par_annuel\",\n",
    " 'TTOCA_ANNEE_NOMBRE': \"occas_nombre_jours_teletravail_annuel\",\n",
    " 'TTOCASEM': \"occas_mention_teletravail_par_semaine\",\n",
    " 'TTOCA_SEM_NOMBRE': \"occas_nombre_jours_teletravail_semaine\",\n",
    " 'TTPRESJOURMOIS': \"mention_jour_presence_par_mois\",\n",
    " 'PRESJOURMOIS_NOMBRE': \"nombre_jour_presence_par_mois\",\n",
    " 'TTPRESJOURTRIM': \"mention_jour_presence_par_trimestre\",\n",
    " 'PRESJOURTRIM_NOMBRE': \"nombre_jour_presence_par_trimestre\",\n",
    " 'TTPRESJOURANNEE': \"mention_jour_presence_par_annuel\",\n",
    " 'PRESJOURANNEE_NOMBRE': \"nombre_jour_presence_par_annuel\",\n",
    " 'TTPRESJOURSEM': \"mention_jour_presence_par_semaine\",\n",
    " 'PRESJOURSEM_NOMBRE': \"nombre_jour_presence_par_semaine\",\n",
    " 'COMPJOUR': \"mention_indemnisation_journaliere\",\n",
    " 'COMPJOUR_NOMBRE': \"indemnisation_journaliere\",\n",
    " 'COMPMOIS': \"mention_indemnisation_mensuelle\",\n",
    " 'COMPMOIS_NOMBRE': \"indemnisation_mensuelle\",\n",
    " 'COMPMOIS_BASE_NOMBRE': \"indemnisation_base_mensuelle_pour_un_jour_par_semaine\",\n",
    " 'COMPTRIM': \"mention_indemnisation_trimestrielle\",\n",
    " 'COMPTRIM_NOMBRE': \"indemnisation_trimestrielle\",\n",
    " 'COMPANNEE': \"mention_indemnisation_annuelle\",\n",
    " 'COMPANNEE_NOMBRE': \"indemnisation_annuelle\",\n",
    " 'COMPSEM': \"mention_indemnisation_semaine\",\n",
    " 'COMPSEM_NOMBRE': \"indemnisation_semaine\",\n",
    " 'COMPE': \"mention_indemnisation_equipement\",\n",
    " 'COMPE_NOMBRE': \"indemnisation_equipement\",\n",
    " 'COMPS': \"mention_indemnite_sujetion\",\n",
    " 'COMPS_NOMBRE': \"montant_indemnite_sujetion\",\n",
    " 'EQUIPEMENT': \"equipement_fourni\"}"
   ]
  },
  {
   "cell_type": "markdown",
   "id": "0f1f7678-1d49-4b9b-b43b-174df0008bbd",
   "metadata": {},
   "source": [
    "# Boucle"
   ]
  },
  {
   "cell_type": "code",
   "execution_count": 21,
   "id": "ff42e89b-c55e-43fa-9954-c4330e0945b6",
   "metadata": {},
   "outputs": [
    {
     "name": "stdout",
     "output_type": "stream",
     "text": [
      "0 T09221025781\n"
     ]
    },
    {
     "name": "stderr",
     "output_type": "stream",
     "text": [
      "Setting `pad_token_id` to `eos_token_id`:2 for open-end generation.\n"
     ]
    },
    {
     "name": "stdout",
     "output_type": "stream",
     "text": [
      "Q_TTSEM_NOMBRE:Ma réponse : nombrejourdeteletravailmaxparsemaine=0\n",
      "\n",
      "Mon extraction de trois phrases maximum qui répondent à la question :\n",
      "\n",
      "* \"Le télétravail doit être ponctuel\"\n",
      "* \"Il ne pourra être exercé que pour un maximum de 10 jours par an.\"\n",
      "* \"Le télétravailleur occasionnel doit être joignable et en mesure de répondre aux sollicitations aux horaires habituels correspondant à son service.\"\n",
      "\n",
      "Mon raisonnement :\n",
      "\n",
      "Après avoir lu attentivement le document, je n'ai pas trouvé de paragraphe qui comporte le mot-clé \"semaine\" ou une notion de fréquence par semaine et qui concerne le nombre de jours de télétravail autorisé. Par conséquent, je ne peux pas fournir de réponse précise à votre question.\n",
      "\n",
      "Cependant, je peux vous dire que le télétravail est limité à 10 jours par an, ce qui représente une limite basse et non une limite haute. De plus, il n'y a pas d'obligation de présence sur site mentionnée dans le document.\n",
      "\n",
      "Par conséquent, je retourne la variable \"nombrejourdeteletravailmaxparsemaine\" à 0, ce qui signifie qu'il n'y a pas de limite maximale de jours de télétravail par semaine explicitement mentionnée dans le document.\n",
      "\n",
      "1 T03821007340\n"
     ]
    },
    {
     "name": "stderr",
     "output_type": "stream",
     "text": [
      "Setting `pad_token_id` to `eos_token_id`:2 for open-end generation.\n"
     ]
    },
    {
     "name": "stdout",
     "output_type": "stream",
     "text": [
      "Q_TTSEM_NOMBRE:Ma réponse : nombrejourdeteletravailmaxparsemaine=0\n",
      "\n",
      "Mon extraction de trois phrases maximum qui répondent à la question :\n",
      "- \"Le télétravail est resté la règle et la présence sur site l’exception pour tous les salariés pouvant avoir recours à ce mode d’organisation du travail.\"\n",
      "- \"Un projet de révision de l’accord de 2016 est en cours d’élaboration, notamment pour assouplir les conditions d’accès au télétravail en dehors de l’application des dispositions légales en cas d’épidémie ou de pandémie, et fera l’objet de négociations entre les parties courant 2021.\"\n",
      "- \"Les parties ont conclu, le 20 octobre 2016 un accord d’entreprise à durée indéterminée portant sur le télétravail à domicile au sein de la société ARAYMOND France SAS.\"\n",
      "\n",
      "Mon raisonnement :\n",
      "Les phrases extraites montrent qu'il existe un accord de 2016 sur le télétravail à la société ARAYMOND France SAS, mais il n'y a aucune indication sur le nombre maximal de jours de télétravail autorisés par semaine dans ces phrases. De plus, il est indiqué que les parties sont en train de négocier un projet de révision de l'accord de 2016, ce qui suggère que les modalités de télétravail peuvent encore changer. Par conséquent, sans informations complémentaires, je ne peux pas déduire un nombre de jours de télétravail par semaine.\n",
      "\n",
      "2 T09221024750\n"
     ]
    },
    {
     "name": "stderr",
     "output_type": "stream",
     "text": [
      "Setting `pad_token_id` to `eos_token_id`:2 for open-end generation.\n"
     ]
    },
    {
     "name": "stdout",
     "output_type": "stream",
     "text": [
      "Q_TTSEM_NOMBRE:Ma réponse : nombrejourdeteletravailmaxparsemaine=2\n",
      "\n",
      "Mon extraction de trois phrases maximum qui répondent à la question :\n",
      "- \"Le nombre de jours de télétravail par semaine est de 2\"\n",
      "- \"Ultérieurement, il pourra être décidé d’augmenter le télétravail à hauteur de 60%, soit 3 jours de télétravail par semaine pour les salariés travaillant à temps plein.\"\n",
      "- \"Il n’y a pas de possibilité de report des jours de télétravail d’une semaine sur l’autre, ni d’épargne de jours de télétravail.\"\n",
      "\n",
      "Mon raisonnement :\n",
      "Les phrases extraites montrent qu'il est possible de faire 2 jours de télétravail par semaine, et qu'ultérieurement, il pourrait être possible d'augmenter cette durée à 3 jours par semaine. Cependant, la dernière phrase montre qu'il n'y a pas de report possible des jours de télétravail d'une semaine sur l'autre, ce qui signifie qu'il n'est pas possible de cumuler les jours de télétravail non utilisés pour avoir plus de 3 jours par semaine. Par conséquent, le nombre maximal de jours de télétravail par semaine est de 2.\n",
      "\n",
      "3 T09221026357\n"
     ]
    },
    {
     "name": "stderr",
     "output_type": "stream",
     "text": [
      "Setting `pad_token_id` to `eos_token_id`:2 for open-end generation.\n"
     ]
    },
    {
     "name": "stdout",
     "output_type": "stream",
     "text": [
      "Q_TTSEM_NOMBRE:Ma réponse : nombrejourdeteletravailmaxparsemaine=3\n",
      "\n",
      "Mon extraction de trois phrases maximum qui répondent à la question :\n",
      "- \"Le salarié devra être présent sur site au moins 3 jours par semaine civile.\"\n",
      "- \"Les jours de télétravail sont pris par journée complète, à date fixe, consécutifs ou non et modifiables en accord ou à la demande du responsable hiérarchique pour des raisons d’organisation de service.\"\n",
      "- \"Le télétravail s’organise selon deux modalités distinctes... Personnel au forfait annuel en jours... Le télétravail s’effectue sur la base de 2 journées complètes de travail au maximum par semaine civile...\"\n",
      "\n",
      "Mon raisonnement :\n",
      "- Le premier extrait indique que le salarié doit être présent sur site au moins 3 jours par semaine civile.\n",
      "- Le deuxième extrait indique que les jours de télétravail sont pris par journée complète, ce qui signifie qu'un jour de télétravail équivaut à une journée entière.\n",
      "- Le troisième extrait indique que le télétravail s'effectue sur la base de 2 journées complètes de travail au maximum par semaine civile pour le personnel au forfait annuel en jours.\n",
      "- Donc, le nombre maximal de jours de télétravail par semaine est de 5 - 3 = 2 + 2 = 4 - 1 = 3.\n",
      "\n",
      "4 T07521030130\n"
     ]
    },
    {
     "name": "stderr",
     "output_type": "stream",
     "text": [
      "Setting `pad_token_id` to `eos_token_id`:2 for open-end generation.\n"
     ]
    },
    {
     "name": "stdout",
     "output_type": "stream",
     "text": [
      "Q_TTSEM_NOMBRE:Ma réponse : nombrejourdeteletravailmaxparsemaine=0\n",
      "\n",
      "Mon extraction de trois phrases maximum qui répondent à la question :\n",
      "- \"Le nombre de jour en télétravail est librement déterminé entre le responsable hiérarchique et le salarié, sans que ce nombre ne puisse être définitif et irréversible.\"\n",
      "- \"Un rythme de trois jours en télétravail et deux jours en présentiel peut être envisagé. Ce rythme n’est ni un droit, ni une obligation pour le salarié.\"\n",
      "- \"Ainsi, avec l’accord du responsable hiérarchique, un salarié pourra être amené ponctuellement à télétravailler une semaine complète si son activité et l’organisation le permettent, et inversement, il pourra être amené à travailler en présentiel une semaine complète pour les besoins du service, de l’activité ou de l’organisation.\"\n",
      "\n",
      "Mon raisonnement :\n",
      "Dans le contexte donné, il n'y a pas de mention explicite du nombre maximum de jours de télétravail par semaine. Les seules mentions de fréquence par semaine concernent le rythme de trois jours en télétravail et deux jours en présentiel, qui n'est pas un droit ni une obligation pour le salarié, et le fait qu'un salarié puisse être amené à télétravailler une semaine complète si son activité et l'organisation le permettent. Par ailleurs, le nombre de jours en télétravail est librement déterminé entre le responsable hiérarchique et le salarié, sans que ce nombre ne puisse être définitif et irréversible. Ainsi, on ne peut pas déduire de nombre maximum de jours de télétravail par semaine explicitement mentionné dans le texte. Je retourne donc la variable 'nombrejourdeteletravailmaxparsemaine' à 0.\n",
      "\n",
      "5 T03521007300\n"
     ]
    },
    {
     "name": "stderr",
     "output_type": "stream",
     "text": [
      "Setting `pad_token_id` to `eos_token_id`:2 for open-end generation.\n"
     ]
    },
    {
     "name": "stdout",
     "output_type": "stream",
     "text": [
      "Q_TTSEM_NOMBRE:Ma réponse : nombrejourdeteletravailmaxparsemaine=0\n",
      "\n",
      "Mon extraction de trois phrases maximum qui répondent à la question :\n",
      "- \"Le nombre de journées de télétravail autorisées par semaine\"\n",
      "- \"Les horaires de télétravail\"\n",
      "- \"la charge de travail à domicile doit correspondre au volume de travail effectué lorsque le salarié travaille dans les locaux de l’association\"\n",
      "\n",
      "Mon raisonnement :\n",
      "Après lecture attentive des documents fournis, je n'ai pas trouvé de paragraphe clair et explicite indiquant le nombre maximal de jours de télétravail autorisés par semaine, qui ne soit pas une simple mention du principe du télétravail ou une description de la procédure à suivre pour le mettre en place. Les seuls passages qui évoquent le nombre de jours de télétravail par semaine sont les suivants :\n",
      "- Article 2 : \"Le formulaire de ‘autorisation individuelle de télétravail’ indiquera [...] Le nombre de journées de télétravail autorisées par semaine\". Cependant, ce passage ne précise pas la valeur de ce nombre.\n",
      "- Article 7 : \"Tous les salariés faisant du télétravail devront relever les horaires de télétravail effectués distinctement des autres horaires, sur l’outil approprié en vigueur au sein de l’association.\" Cette phrase suggère que les salariés peuvent faire du télétravail tous les jours de la semaine, mais ne précise pas s'il s'agit d'un télétravail régulier ou occasionnel.\n",
      "- Article 7 : \"En conséquence, le télétravail ne justifiera pas de dépassements en termes de temps de travail effectif, celui-ci étant contrôlé par les outils de gestion du temps de travail utilisés dans l’association.\" Cette phrase suggère que le télétravail est soumis aux mêmes règles que le travail effectué dans les locaux de l'association en termes de durée maximale de travail quotidienne et hebdomadaire.\n",
      "\n",
      "Par conséquent, sans indication explicite du nombre maximal de jours de télétravail autorisés par semaine dans les documents fournis, je ne peux pas répondre à la question posée. Je retourne donc la variable 'nombrejourdeteletravailmaxparsemaine' à 0.\n",
      "\n",
      "6 T04521003482\n"
     ]
    },
    {
     "name": "stderr",
     "output_type": "stream",
     "text": [
      "Setting `pad_token_id` to `eos_token_id`:2 for open-end generation.\n"
     ]
    },
    {
     "name": "stdout",
     "output_type": "stream",
     "text": [
      "Q_TTSEM_NOMBRE:Ma réponse : nombrejourdeteletravailmaxparsemaine=0\n",
      "\n",
      "Mon extraction de trois phrases maximum qui répondent à la question :\n",
      "- \"Les agents travaillant sur site peuvent aussi, à leur initiative, utiliser ce mode de badgeage s’ils le souhaitent.\"\n",
      "- \"Cet avenant a une durée indéterminée entre en vigueur dès la mise en œuvre de la solution technique de badgeage au poste de travail informatique et au plus tard le 1er septembre 2021.\"\n",
      "- \"Le présent avenant peut faire l’objet d’une dénonciation ou d’une révision dans les conditions prévues par le Code du travail.\"\n",
      "\n",
      "Mon raisonnement :\n",
      "Il n'y a aucune mention du nombre de jours de télétravail autorisés par semaine dans le texte fourni. Par conséquent, je ne peux pas attribuer de valeur à la variable 'nombrejourdeteletravailmaxparsemaine'.\n",
      "\n",
      "7 T09221026467\n"
     ]
    },
    {
     "name": "stderr",
     "output_type": "stream",
     "text": [
      "Setting `pad_token_id` to `eos_token_id`:2 for open-end generation.\n"
     ]
    },
    {
     "name": "stdout",
     "output_type": "stream",
     "text": [
      "Q_TTSEM_NOMBRE:Ma réponse : nombrejourdeteletravailmaxparsemaine=1\n",
      "\n",
      "Mon extraction de trois phrases maximum qui répondent à la question :\n",
      "- \"Le télétravail occasionnel a vocation à répondre à des situations individuelles inhabituelles et temporaires ou à des situations rendant impossible le déplacement sur le lieu de travail.\"\n",
      "- \"Cette situation de télétravail occasionnel est ouverte à tous les collaborateurs disposant d'outils de travail à distance.\"\n",
      "- \"Il peut être recouru au télétravail dans des conditions dérogeant à celles définies dans le présent accord.\"\n",
      "\n",
      "Mon raisonnement :\n",
      "Dans le contexte fourni, je n'ai pas trouvé de paragraphe qui comporte le mot-clé semaine ou une notion de fréquence par semaine et qui concerne le nombre de jour de télétravail autorisé. Cependant, dans le chapitre \"Le télétravail occasionnel\", il est mentionné que \"le télétravail occasionnel a vocation à répondre à des situations individuelles inhabituelles et temporaires\". De plus, dans le paragraphe \"Recours dans des situations particulières\", il est mentionné que \"le télétravail pourra être mis en place en concertation avec le manager, le département des ressources humaines et suite à l'avis du médecin du travail\" pour des situations particulières telles que les collaborateurs en situation de handicap, les collaboratrices enceintes, etc.\n",
      "Compte tenu de ces éléments, je ne peux pas affirmer qu'un employé peut télétravailler régulièrement avec une fréquence exprimée en semaines. Cependant, dans le contexte fourni, il est mentionné que le télétravail occasionnel a vocation à répondre à des situations individuelles inhabituelles et temporaires. Je ne peux donc pas exclure qu'un employé puisse télétravailler régulièrement, mais je ne dispose pas d'informations suffisantes pour en déterminer le nombre maximal par semaine.\n",
      "Je retourne donc la variable 'nombrejourdeteletravailmaxparsemaine' à 0.\n",
      "\n",
      "8 T09221024441\n"
     ]
    },
    {
     "name": "stderr",
     "output_type": "stream",
     "text": [
      "Setting `pad_token_id` to `eos_token_id`:2 for open-end generation.\n"
     ]
    },
    {
     "name": "stdout",
     "output_type": "stream",
     "text": [
      "Q_TTSEM_NOMBRE:Ma réponse : nombrejourdeteletravailmaxparsemaine=2\n",
      "\n",
      "Mon extraction de trois phrases maximum qui répondent à la question :\n",
      "- \"Afin d’éviter l’isolement des salariés et permettre aux équipes de conserver une bonne cohésion de groupe, les Parties conviennent que le temps au cours duquel le salarié pourra être en situation de télétravail à domicile ne devra pas dépasser deux jours par semaine.\"\n",
      "\n",
      "Mon raisonnement :\n",
      "Dans le document fourni, il y a une section qui traite spécifiquement des modalités de télétravail et qui précise que le temps de télétravail à domicile ne doit pas dépasser deux jours par semaine. Cette section est suffisamment précise et explicite pour que je considère qu'elle répond à la question posée. Par conséquent, je peux répondre que le nombre maximal de jours de télétravail par semaine est de 2.\n",
      "\n",
      "9 T04421009882\n"
     ]
    },
    {
     "name": "stderr",
     "output_type": "stream",
     "text": [
      "Setting `pad_token_id` to `eos_token_id`:2 for open-end generation.\n"
     ]
    },
    {
     "name": "stdout",
     "output_type": "stream",
     "text": [
      "Q_TTSEM_NOMBRE:Ma réponse : nombrejourdeteletravailmaxparsemaine=0\n",
      "\n",
      "Mon extraction de trois phrases maximum qui répondent à la question :\n",
      "- \"rester chez soi le plus possible. Le télétravail a été généralisé pour tous les postes pour lesquels il est possible et pour lesquels l’activité se poursuit\"\n",
      "- \"s’assurer avant de se rendre sur le lieu de travail que l’on ne présente pas de manière manifeste de symptômes et tout particulièrement de fièvre\"\n",
      "- \"le signaler dès que l’on ressent les symptômes sur le lieu de travail\"\n",
      "\n",
      "Mon raisonnement :\n",
      "Dans le contexte fourni, je n'ai pas trouvé de paragraphe contenant le mot-clé \"semaine\" ou une notion de fréquence par semaine et concernant le nombre de jour de télétravail autorisé. De plus, les phrases extraites montrent que le télétravail est généralisé pour tous les postes pour lesquels il est possible et pour lesquels l'activité se poursuit, mais aucune limitation hebdomadaire n'est précisée. Par conséquent, je retourne la variable 'nombrejourdeteletravailmaxparsemaine' à 0.\n",
      "\n",
      "10 T07621005356\n"
     ]
    },
    {
     "name": "stderr",
     "output_type": "stream",
     "text": [
      "Setting `pad_token_id` to `eos_token_id`:2 for open-end generation.\n"
     ]
    },
    {
     "name": "stdout",
     "output_type": "stream",
     "text": [
      "Q_TTSEM_NOMBRE:Ma réponse : nombrejourdeteletravailmaxparsemaine=0, nombrejoursursiteparsemaine=3\n",
      "\n",
      "Mon extraction de trois phrases maximum qui répondent à la question :\n",
      "- \"Il sera par principe hebdomadaire.\"\n",
      "- \"Il ne vise donc pas le télétravail occasionnel,\"\n",
      "- \"Par défaut, le domicile s'entend comme le lieu de résidence habituelle en France sous la responsabilité pleine et entière du télétravailleur\"\n",
      "\n",
      "Mon raisonnement :\n",
      "Dans le document, il est indiqué que le télétravail sera hebdomadaire, mais aucun nombre de jours de télétravail n'est spécifié. Cependant, il est indiqué que le télétravail ne vise pas le télétravail occasionnel, ce qui suggère qu'il s'agit de télétravail régulier. Ensuite, il est indiqué que le télétravailleur doit être présent au moins 3 jours sur site, ce qui signifie que le nombre maximal de jours de télétravail par semaine est de 2. Par conséquent, je propose de répondre \"nombrejourdeteletravailmaxparsemaine=2\". Cependant, comme il n'y a pas de phrase spécifique qui indique ce nombre, je dois répondre \"nombrejourdeteletravailmaxparsemaine=0\". De plus, il est indiqué que le télétravailleur doit être présent au moins 3 jours sur site, donc je propose de répondre \"nombrejoursursiteparsemaine=3\".\n",
      "\n",
      "11 T09221023292\n"
     ]
    },
    {
     "name": "stderr",
     "output_type": "stream",
     "text": [
      "Setting `pad_token_id` to `eos_token_id`:2 for open-end generation.\n"
     ]
    },
    {
     "name": "stdout",
     "output_type": "stream",
     "text": [
      "Q_TTSEM_NOMBRE:Ma réponse : nombrejourdeteletravailmaxparsemaine=0\n",
      "\n",
      "Mon extraction de trois phrases maximum qui répondent à la question :\n",
      "- \"Le télétravail peut s’effectuer sur décision de l’employeur en cas de situation exceptionnelle (notamment pandémie).\"\n",
      "- \"Hors situation exceptionnelle, il s’organise de façon volontaire, avec le double consentement employeur-salarié.\"\n",
      "- \"En tout état de cause, hors situation exceptionnelle, le télétravail cesse sur information d’une des parties à l’autre avec un préavis d’un mois (sauf accord réciproque pour une durée inférieure).\"\n",
      "\n",
      "Mon raisonnement :\n",
      "Les phrases extraites montrent que le télétravail n'est pas encadré en termes de fréquence ou de nombre de jours par semaine, sauf en cas de situation exceptionnelle où il peut être décidé par l'employeur. De plus, aucune indication de nombre de jours de télétravail par semaine n'est donnée dans les documents fournis. Par conséquent, je réponds que le nombre maximal de jours de télétravail par semaine est de 0.\n",
      "\n",
      "12 T09221024752\n"
     ]
    },
    {
     "name": "stderr",
     "output_type": "stream",
     "text": [
      "Setting `pad_token_id` to `eos_token_id`:2 for open-end generation.\n"
     ]
    },
    {
     "name": "stdout",
     "output_type": "stream",
     "text": [
      "Q_TTSEM_NOMBRE:Ma réponse : nombrejourdeteletravailmaxparsemaine=1\n",
      "\n",
      "Mon extraction de trois phrases maximum qui répondent à la question :\n",
      "- \"La direction propose la mise en place d’une journée de télétravail sans conditions de temps de trajet, nombre de kilomètres ou encore conditions particulières liées au temps de travail pour l’ensemble des salariés hormis les stagiaires, apprentis et salariés en période d’essai.\"\n",
      "\n",
      "Mon raisonnement :\n",
      "Dans le texte fourni, il est stipulé que la direction propose la mise en place d'une journée de télétravail par semaine pour l'ensemble des salariés, sans aucune condition particulière. Par conséquent, un employé peut télétravailler jusqu'à 1 jour par semaine.\n",
      "\n",
      "13 T07521028203\n"
     ]
    },
    {
     "name": "stderr",
     "output_type": "stream",
     "text": [
      "Setting `pad_token_id` to `eos_token_id`:2 for open-end generation.\n"
     ]
    },
    {
     "name": "stdout",
     "output_type": "stream",
     "text": [
      "Q_TTSEM_NOMBRE:Ma réponse : nombrejourdeteletravailmaxparsemaine=1\n",
      "\n",
      "Mon extraction de trois phrases maximum qui répondent à la question :\n",
      "- \"Un à deux jours fixes par semaine de télétravail.\"\n",
      "- \"Et 3 jours de télétravail supplémentaires annuels dits « modulables » pour gérer notamment des situations exceptionnelles.\"\n",
      "- \"Un jour fixe de télétravail par semaine.\"\n",
      "\n",
      "Mon raisonnement :\n",
      "Dans le contexte fourni, il y a plusieurs mentions de nombres de jours de télétravail, mais seules certaines correspondent à des télétravail réguliers et à une fréquence par semaine.\n",
      "Dans le premier document, il est indiqué \"Un à deux jours fixes par semaine de télétravail.\", ce qui correspond à une fréquence par semaine et à du télétravail régulier.\n",
      "Dans le deuxième document, il est indiqué \"Et 3 jours de télétravail supplémentaires annuels dits « modulables » pour gérer notamment des situations exceptionnelles.\", ce qui ne correspond pas à une fréquence par semaine et ne peut donc pas être retenu.\n",
      "Dans le troisième document, il est indiqué \"Un jour fixe de télétravail par semaine.\", ce qui correspond à une fréquence par semaine et à du télétravail régulier.\n",
      "Donc, le maximum de jours de télétravail par semaine est de 1 jour.\n",
      "\n",
      "Je n'ai pas trouvé de mention de jours de présence obligatoire sur site dans le contexte fourni, je retourne donc la variable 'nombrejoursursiteparsemaine' à 0.\n",
      "\n",
      "14 T03321006775\n"
     ]
    },
    {
     "name": "stderr",
     "output_type": "stream",
     "text": [
      "Setting `pad_token_id` to `eos_token_id`:2 for open-end generation.\n"
     ]
    },
    {
     "name": "stdout",
     "output_type": "stream",
     "text": [
      "Q_TTSEM_NOMBRE:Ma réponse : nombrejourdeteletravailmaxparsemaine=0\n",
      "\n",
      "Mon extraction de trois phrases maximum qui répondent à la question :\n",
      "- \"La fréquence du télétravail est limitée à un (1) jour maximum par semaine\"\n",
      "- \"Le salarié qui estime que des circonstances exceptionnelles justifient une dérogation à la limite maximale d’un jour par semaine télétravaillé doit saisir la Direction d’une demande de télétravail.\"\n",
      "- \"Le jour télétravaillé peut être fixé, dans la limite d’un jour par semaine\"\n",
      "\n",
      "Mon raisonnement :\n",
      "Les phrases extraites montrent qu'un salarié ne peut pas télétravailler plus d'un jour par semaine, sauf circonstances exceptionnelles. Donc, nombrejourdeteletravailmaxparsemaine=1. Cependant, il n'y a pas d'indication de jours de présence obligatoire sur site dans les textes fournis.\n",
      "\n",
      "15 T06421003671\n"
     ]
    },
    {
     "name": "stderr",
     "output_type": "stream",
     "text": [
      "Setting `pad_token_id` to `eos_token_id`:2 for open-end generation.\n",
      "Created a chunk of size 9118, which is longer than the specified 5000\n",
      "Created a chunk of size 6263, which is longer than the specified 5000\n"
     ]
    },
    {
     "name": "stdout",
     "output_type": "stream",
     "text": [
      "Q_TTSEM_NOMBRE:Ma réponse : nombrejourdeteletravailmaxparsemaine=2\n",
      "\n",
      "Mon extraction de trois phrases maximum qui répondent à la question :\n",
      "- \"Le travail occasionnel à distance peut s’exercer à hauteur de 12 jours par année civile pour un salarié présent toute l’année.\"\n",
      "- \"Par exemple, un salarié présent 6 mois dans l’année pourra bénéficier de 6 jours sur cette période.\"\n",
      "- \"Les jours de travail occasionnel à distance sont positionnés dans l’outil de gestion des temps, à la convenance du salarié, dans la limite de deux jours par mois,\"\n",
      "\n",
      "Mon raisonnement :\n",
      "Dans le premier extrait, il est indiqué que le travail occasionnel à distance peut s'exercer à hauteur de 12 jours par année civile pour un salarié présent toute l'année. Dans le deuxième extrait, il est précisé que si un salarié est présent 6 mois dans l'année, il pourra bénéficier de 6 jours sur cette période. Comme il y a 24 semaines dans une année civile, et que le salarié peut bénéficier de 12 jours dans l'année, il peut donc télétravailler jusqu'à 2 jours par semaine.\n",
      "\n",
      "16 T04121001510\n"
     ]
    },
    {
     "name": "stderr",
     "output_type": "stream",
     "text": [
      "Setting `pad_token_id` to `eos_token_id`:2 for open-end generation.\n"
     ]
    },
    {
     "name": "stdout",
     "output_type": "stream",
     "text": [
      "Q_TTSEM_NOMBRE:Ma réponse : nombrejourdeteletravailmaxparsemaine=3\n",
      "\n",
      "Mon extraction de trois phrases maximum qui répondent à la question :\n",
      "\n",
      "* \"Ce crédit sera libre d’utilisation dans la limite de 3j par semaine\"\n",
      "* \"sur les personnels exclus ou n’ayant pas demandé le bénéfice du télétravail, et avec accord du salarié, une situation de télétravail ponctuelle pourra être mise en place pour faciliter la réalisation de tâches particulières. Ce mode d’organisation reste dans la règle des 3 jours de télétravail au maximum dans une semaine\"\n",
      "* \"la durée ne peut excéder 3 mois, chacune des parties est libre de mettre fin au télétravail moyennant un délai de prévenance de 30 jours qui peut être réduit par accord des parties.\"\n",
      "\n",
      "Mon raisonnement :\n",
      "Dans le document, il y a bien une mention du nombre de jours de télétravail autorisés par semaine, qui est de 3 jours. Cette mention apparait dans la section \"5-2- Télétravail forfaitaire\" et dans la section \"5-3- Télétravail occasionnel\". Il n'y a pas d'autres mentions de fréquence par semaine concernant le nombre de jours de télétravail autorisés. Il n'y a pas non plus de mention de jours de présence obligatoire sur site. Je retourne donc la variable 'nombrejourdeteletravailmaxparsemaine' avec la valeur 3.\n",
      "\n",
      "17 T09221023395\n"
     ]
    },
    {
     "name": "stderr",
     "output_type": "stream",
     "text": [
      "Setting `pad_token_id` to `eos_token_id`:2 for open-end generation.\n"
     ]
    },
    {
     "name": "stdout",
     "output_type": "stream",
     "text": [
      "Q_TTSEM_NOMBRE:Ma réponse :\n",
      "* nombrejourdeteletravailmaxparsemaine=2\n",
      "* Mon extraction de trois phrases maximum qui répondent à la question : \"Le principe de base de fonctionnement du télétravail régulier est de travailler jusqu’à deux journées par semaine à domicile, par journée entière.\"\n",
      "* Mon raisonnement : Dans le contexte fourni, je me suis concentré sur les paragraphes qui concernent le télétravail régulier et j'ai recherché une indication de la fréquence de télétravail par semaine. J'ai trouvé une phrase qui indique clairement que le télétravail régulier fonctionne sur la base de deux journées par semaine.\n",
      "\n",
      "18 T08821002452\n"
     ]
    },
    {
     "name": "stderr",
     "output_type": "stream",
     "text": [
      "Setting `pad_token_id` to `eos_token_id`:2 for open-end generation.\n",
      "Created a chunk of size 11294, which is longer than the specified 5000\n",
      "Created a chunk of size 10618, which is longer than the specified 5000\n"
     ]
    },
    {
     "name": "stdout",
     "output_type": "stream",
     "text": [
      "Q_TTSEM_NOMBRE:Ma réponse : nombrejourdeteletravailmaxparsemaine=0\n",
      "\n",
      "Mon extraction de trois phrases maximum qui répondent à la question :\n",
      "- \"ANNEXE 1 LISTE DES POSTES ELIGIBLES\"\n",
      "- \"Fait en 4 exemplaires A EPINAL, le 17 juin 2021\"\n",
      "- \"Le délégué syndical, C.F.D.T\"\n",
      "\n",
      "Mon raisonnement :\n",
      "Il n'y a pas de mention de fréquence hebdomadaire de télétravail dans le texte fourni. Par conséquent, je ne peux pas attribuer de valeur à la variable nombrejourdeteletravailmaxparsemaine.\n",
      "\n",
      "19 T03521008349\n"
     ]
    },
    {
     "name": "stderr",
     "output_type": "stream",
     "text": [
      "Setting `pad_token_id` to `eos_token_id`:2 for open-end generation.\n"
     ]
    },
    {
     "name": "stdout",
     "output_type": "stream",
     "text": [
      "Q_TTSEM_NOMBRE:Ma réponse :\n",
      "nombrejourdeteletravailmaxparsemaine=2\n",
      "mon extraction de trois phrases maximum qui répondent à la question :\n",
      "\"De manière à maintenir le lien social, la cohésion et le bon fonctionnement des services mais aussi afin de prévenir l'isolement du télétravailleur, le nombre de jours en télétravail est limité.\"\n",
      "\"Qu’il soit régulier ou occasionnel, par principe, le télétravail est limité à deux daynées par semaine.\"\n",
      "Mon raisonnement :\n",
      "Le document indique que le télétravail est limité à deux jours par semaine, quel que soit le type de télétravail (régulier ou occasionnel). Cette limitation est justifiée par la volonté de maintenir le lien social, la cohésion et le bon fonctionnement des services, ainsi que de prévenir l'isolement du télétravailleur.\n",
      "\n",
      "20 T06721007237\n"
     ]
    },
    {
     "name": "stderr",
     "output_type": "stream",
     "text": [
      "Setting `pad_token_id` to `eos_token_id`:2 for open-end generation.\n"
     ]
    },
    {
     "name": "stdout",
     "output_type": "stream",
     "text": [
      "Q_TTSEM_NOMBRE:Ma réponse : nombrejourdeteletravailmaxparsemaine=0\n",
      "\n",
      "Mon extraction de trois phrases maximum qui répondent à la question :\n",
      "- \"Le temps de travail d’un télétravailleur est évalué au regard du temps de présence au sein de l’Association et de celui réalisé en situation de télétravail.\"\n",
      "- \"Le temps de travail du télétravailleur est de 35 heures par semaine. Cette durée du travail de 35 heures sera à effectuer en présentiel sur site à hauteur minimum de 24 heures, les heures restantes en télétravail.\"\n",
      "- \"les heures restantes en télétravail\"\n",
      "\n",
      "Mon raisonnement :\n",
      "Le document ne précise pas le nombre maximal de jours de télétravail par semaine. Seule indication, le temps de travail total est de 35 heures par semaine, dont un minimum de 24 heures sur site. Les heures restantes peuvent être effectuées en télétravail, sans précision de nombre de jours ou d'heures. Par ailleurs, aucune phrase ne comporte le mot-clé \"semaine\" ou une notion de fréquence par semaine concernant le nombre de jours de télétravail autorisés.\n",
      "\n",
      "21 T08521004770\n"
     ]
    },
    {
     "name": "stderr",
     "output_type": "stream",
     "text": [
      "Setting `pad_token_id` to `eos_token_id`:2 for open-end generation.\n"
     ]
    },
    {
     "name": "stdout",
     "output_type": "stream",
     "text": [
      "Q_TTSEM_NOMBRE:Ma réponse : nombrejourdeteletravailmaxparsemaine=1\n",
      "\n",
      "Mon extraction de trois phrases maximum qui répondent à la question :\n",
      "- \"Les parties conviennent que le nombre de journée maximale de télétravail par semaine est fixé à une (1).\"\n",
      "- \"Le télétravail peut être organisé également, à raison de 3 ou 4 jours par mois, non fixes.\"\n",
      "- \"Si la journée de télétravail hebdomadaire n’est pas effectuée pour quelque motif que ce soit (refus du manager, congés payés…), aucun report de cette journée ne pourra être sollicitée par le salarié.\"\n",
      "\n",
      "Mon raisonnement :\n",
      "Dans le premier extrait, il est clairement stipulé que le nombre maximal de journées de télétravail par semaine est fixé à une. Cependant, dans le deuxième extrait, il est mentionné que le télétravail peut être organisé à raison de 3 ou 4 jours par mois, non fixes. Comme il n'y a pas de déconnexion entre les périodicités, nous devons considérer que cela signifie que le salarié peut télétravailler 3 ou 4 jours par mois, ce qui équivaut à 1 jour par semaine en moyenne. Dans le troisième extrait, il est mentionné que si la journée de télétravail hebdomadaire n'est pas effectuée, aucun report ne sera possible. Ce qui implique que le salarié ne peut pas télétravailler plus d'une journée par semaine. Par conséquent, je conclus que le nombre maximal de jours de télétravail par semaine est de 1.\n",
      "\n",
      "22 T05221001044\n"
     ]
    },
    {
     "name": "stderr",
     "output_type": "stream",
     "text": [
      "Setting `pad_token_id` to `eos_token_id`:2 for open-end generation.\n"
     ]
    },
    {
     "name": "stdout",
     "output_type": "stream",
     "text": [
      "Q_TTSEM_NOMBRE:Ma réponse : nombrejourdeteletravailmaxparsemaine=0\n",
      "\n",
      "Mon extraction de trois phrases maximum qui répondent à la question :\n",
      "- \"Le télétravail pourra s’exercer dans la limite de deux journées par semaine complète de travail, sans cumul ni report.\"\n",
      "- \"Afin de ne pas désorganiser l’activité de l’entreprise, le nombre de personnes simultanément en télétravail ne devra pas excéder 50% de l’effectif de chaque service.\"\n",
      "\n",
      "Mon raisonnement :\n",
      "Les phrases extraites montrent qu'un salarié peut télétravailler jusqu'à deux jours par semaine. Cependant, il est également précisé que le nombre de personnes simultanément en télétravail ne doit pas excéder 50% de l'effectif de chaque service. Il n'est pas possible de savoir si ces deux jours de télétravail sont cumulables ou non, donc je ne peux pas affecter la valeur maximale de jours de télétravail par semaine dans la variable 'nombrejourdeteletravailmaxparsemaine'. Par ailleurs, il n'y a aucune indication sur le nombre de jours de présence obligatoire sur site, donc je ne peux pas non plus affecter de valeur à la variable 'nombrejoursursiteparsemaine'.\n",
      "\n",
      "23 T03321007015\n"
     ]
    },
    {
     "name": "stderr",
     "output_type": "stream",
     "text": [
      "Setting `pad_token_id` to `eos_token_id`:2 for open-end generation.\n"
     ]
    },
    {
     "name": "stdout",
     "output_type": "stream",
     "text": [
      "Q_TTSEM_NOMBRE:Ma réponse : nombrejourdeteletravailmaxparsemaine=0\n",
      "\n",
      "Mon extraction de trois phrases maximum qui répondent à la question :\n",
      "- \"L’accord d’entreprise Qualité de vie au travail, volet 2, sur le télétravail, conclu le 19 décembre 2019\"\n",
      "- \"Les parties signataires de l’accord Qualité de vie au travail, volet 2, sur le télétravail, conclu le 19 décembre 2019, ont convenu de proroger l’accord d’entreprise, dans toutes ses dispositions, jusqu’au 28 février 2022.\"\n",
      "- \"Le présent avenant est conclu pour une durée déterminée. Il entrera en vigueur à compter du 1er mars 2021 et prendra fin, sous réserve de la renégociation envisagée à l’article 1 du présent avenant, le 28 février 2022.\"\n",
      "\n",
      "Mon raisonnement :\n",
      "Le document fourni est un avenant à un accord d'entreprise sur le télétravail, conclu le 19 décembre 2019. Cet avenant prolonge la durée de l'accord initial jusqu'au 28 février 2022. Il n'y a aucune mention explicite du nombre de jours de télétravail autorisés par semaine dans le document. Par conséquent, je ne peux pas affecter de valeur à la variable 'nombrejourdeteletravailmaxparsemaine'.\n",
      "\n",
      "24 T05721004466\n"
     ]
    },
    {
     "name": "stderr",
     "output_type": "stream",
     "text": [
      "Setting `pad_token_id` to `eos_token_id`:2 for open-end generation.\n"
     ]
    },
    {
     "name": "stdout",
     "output_type": "stream",
     "text": [
      "Q_TTSEM_NOMBRE:Ma réponse : nombrejourdeteletravailmaxparsemaine=0\n",
      "\n",
      "Mon extraction de trois phrases maximum qui répondent à la question :\n",
      "- \"Le télétravail occasionnel ne constitue pas en soi un élément essentiel du contrat.\"\n",
      "- \"Les modalités de mise en œuvre ont été expressément prévues par les dispositions de la Charte « Télétravail » UNEOS et ses annexes\"\n",
      "- \"Compte tenu des missions poursuivies par l’Association, le télétravail ne peut être utilisé comme un mode d’organisation du travail classique.\"\n",
      "\n",
      "Mon raisonnement :\n",
      "Après avoir lu attentivement les documents fournis, je n'ai pas trouvé de paragraphe contenant le mot-clé \"semaine\" ou une notion de fréquence par semaine et concernant le nombre de jours de télétravail autorisé de manière régulière. Les seuls passages qui font référence au télétravail sont relatifs à son organisation exceptionnelle et occasionnelle, sans mention explicite d'une fréquence hebdomadaire maximale. Par conséquent, je ne peux pas affecter de valeur à la variable 'nombrejourdeteletravailmaxparsemaine'.\n",
      "\n",
      "25 T09221026193\n"
     ]
    },
    {
     "name": "stderr",
     "output_type": "stream",
     "text": [
      "Setting `pad_token_id` to `eos_token_id`:2 for open-end generation.\n"
     ]
    },
    {
     "name": "stdout",
     "output_type": "stream",
     "text": [
      "Q_TTSEM_NOMBRE:Ma réponse : nombrejourdeteletravailmaxparsemaine=1\n",
      "\n",
      "Mon extraction de trois phrases maximum qui répondent à la question :\n",
      "- \"Le nombre de jours de présence minimum dans les locaux de l’Entreprise en fonction du pourcentage de la durée du travail\"\n",
      "- \"Ces jours hebdomadaires de télétravail constituent la référence du télétravail régulier au titre du présent accord.\"\n",
      "- \"Au sein des Directions ou Département concernés, le télétravail régulier pourra être limité à un jour par semaine,\"\n",
      "\n",
      "Mon raisonnement :\n",
      "Dans le premier paragraphe, on peut voir un tableau qui présente le nombre de jours de présence minimum dans les locaux de l'entreprise en fonction du pourcentage de la durée du travail. Or, dans le deuxième paragraphe, on peut lire que ces jours hebdomadaires de télétravail constituent la référence du télétravail régulier au titre du présent accord. Par conséquent, on peut en déduire que le nombre maximal de jours de télétravail régulier par semaine est de 1 jour. Ce résultat est confirmé dans le troisième paragraphe où il est précisé que dans certaines directions ou départements, le télétravail régulier pourra être limité à un jour par semaine.\n",
      "\n",
      "Je ne trouve pas d'information sur le nombre de jours de présence obligatoire sur site par semaine, je propose donc de retourner la variable supplémentaire 'nombrejoursursiteparsemaine' à 0.\n",
      "\n",
      "26 T03521007469\n"
     ]
    },
    {
     "name": "stderr",
     "output_type": "stream",
     "text": [
      "Setting `pad_token_id` to `eos_token_id`:2 for open-end generation.\n"
     ]
    },
    {
     "name": "stdout",
     "output_type": "stream",
     "text": [
      "Q_TTSEM_NOMBRE:Ma réponse : nombrejourdeteletravailmaxparsemaine=0\n",
      "\n",
      "Mon extraction de trois phrases maximum qui répondent à la question :\n",
      "- \"Les dispositions de l’accord relatif au télétravail alterné à domicile du 13 décembre 2017 restent en vigueur jusqu’au 31 mars 2021.\"\n",
      "- \"Cet avenant est conclu pour une durée déterminée prenant effet le 1er janvier 2021 et ayant pour terme le 31 mars 2021.\"\n",
      "- \"L’avenant sera notifié à l’ensemble des organisations syndicales représentatives en application de l’article L2231-5 du code du travail.\"\n",
      "\n",
      "Mon raisonnement :\n",
      "Le document fourni est un avenant à un accord d'entreprise relatif au télétravail alterné à domicile. Cet avenant prolonge les dispositions de l'accord initial jusqu'au 31 mars 2021, mais ne contient aucune information sur le nombre de jours de télétravail autorisés par semaine. En outre, il ne contient aucune mention de la fréquence hebdomadaire ou de toute autre période de télétravail. Par conséquent, je ne peux pas extraire de nombre de jours de télétravail maximum par semaine à partir de ce document.\n",
      "\n",
      "27 T09221026409\n"
     ]
    },
    {
     "name": "stderr",
     "output_type": "stream",
     "text": [
      "Setting `pad_token_id` to `eos_token_id`:2 for open-end generation.\n"
     ]
    },
    {
     "name": "stdout",
     "output_type": "stream",
     "text": [
      "Q_TTSEM_NOMBRE:Ma réponse : nombrejourdeteletravailmaxparsemaine=2\n",
      "\n",
      "Mon extraction de trois phrases maximum qui répondent à la question :\n",
      "- \"Tout salarié éligible peut bénéficier, selon ses souhaits, de 2 ou 3 jours de télétravail par semaine\"\n",
      "- \"Ces jours peuvent être pris en journée entière ou demi-journée, en fonction des roulements de télétravail individuel à organiser collectivement au sein de l’équipe.\"\n",
      "- \"Aussi, les parties sont convenues de créer une enveloppe de 15 jours maximum par année civile (sans cumul d’une année sur l’autre)\"\n",
      "\n",
      "Mon raisonnement :\n",
      "Dans le premier paragraphe, il est indiqué que les salariés éligibles peuvent bénéficier de 2 ou 3 jours de télétravail par semaine. Dans le deuxième paragraphe, il est confirmé que ces jours peuvent être pris en journée entière ou demi-journée, ce qui ne change rien au fait qu'un salarié peut télétravailler jusqu'à 3 jours par semaine. Enfin, dans le troisième paragraphe, il est indiqué qu'une enveloppe de 15 jours par an est créée pour les salariés qui ne veulent pas prendre la formule de télétravail standard, ce qui ne change rien au fait qu'un salarié peut télétravailler jusqu'à 3 jours par semaine. Ainsi, le nombre maximal de jours de télétravail par semaine est de 2.\n",
      "\n",
      "28 T07521029021\n"
     ]
    },
    {
     "name": "stderr",
     "output_type": "stream",
     "text": [
      "Setting `pad_token_id` to `eos_token_id`:2 for open-end generation.\n"
     ]
    },
    {
     "name": "stdout",
     "output_type": "stream",
     "text": [
      "Q_TTSEM_NOMBRE:Ma réponse : nombrejourdeteletravailmaxparsemaine=0\n",
      "\n",
      "Mon extraction de trois phrases maximum qui répondent à la question :\n",
      "- \"Le télétravail sera effectué au domicile habituel du salarié.\"\n",
      "- \"Il pourra de même s’exercer, après information de l’employeur, dans un tiers-lieu différent des locaux de l’association, de façon régulière, occasionnelle, ou en cas de circonstances exceptionnelles ou de force majeure.\"\n",
      "- \"Le télétravailleur devra affecter un espace de son domicile à l'exercice du télétravail où il aura l'équipement nécessaire à l'activité professionnelle à distance\"\n",
      "\n",
      "Mon raisonnement :\n",
      "Après analyse du contexte fourni, je n'ai pas trouvé de paragraphe qui comporte le mot-clé semaine ou une notion de fréquence par semaine et qui concerne le nombre de jour de télétravail autorisé. Par conséquent, je ne peux pas affecter de valeur à la variable 'nombrejourdeteletravailmaxparsemaine'. De plus, aucune indication n'est donnée sur une éventuelle présence obligatoire sur site, donc je ne peux pas non plus affecter de valeur à la variable 'nombrejoursursiteparsemaine'.\n",
      "\n",
      "29 T04221004283\n"
     ]
    },
    {
     "name": "stderr",
     "output_type": "stream",
     "text": [
      "Setting `pad_token_id` to `eos_token_id`:2 for open-end generation.\n"
     ]
    },
    {
     "name": "stdout",
     "output_type": "stream",
     "text": [
      "Q_TTSEM_NOMBRE:Ma réponse : nombrejourdeteletravailmaxparsemaine=0\n",
      "\n",
      "Mon extraction de trois phrases maximum qui répondent à la question :\n",
      "- \"Le télétravail pour le salarié à temps complet ou titulaire d’un forfait annuel 218 jours ne pourra être exercé que pour un maximum de 13 jours (soit 26 demi-journées) par trimestre civil dans la limite de 1 jour (soit 2 demi-journées) par semaine de 5 jours travaillés, non reportables, soit une enveloppe de 52 jours (soit 104 demi-journées) par année civile.\"\n",
      "- \"Un maximum de 2 jours par semaine, et de 2 demi-journées pouvant être cumulées sur une même journée au cours de la même semaine.\"\n",
      "- \"Une limite haute de 10 jours de télétravail, par mois civil, est instituée.\"\n",
      "\n",
      "Mon raisonnement :\n",
      "Après avoir lu attentivement les documents fournis, je n'ai pas trouvé de paragraphe contenant le mot-clé \"semaine\" ou une notion de fréquence par semaine et concernant le nombre de jours de télétravail autorisé. De plus, les paragraphes relatifs à l'indemnisation par jour de télétravail et au télétravail ponctuel ou occasionnel ont été exclus de mon analyse. Par conséquent, je suis dans l'incapacité de fournir un nombre de jours de télétravail maximum par semaine. La variable \"nombrejourdeteletravailmaxparsemaine\" reste donc à zéro.\n",
      "\n",
      "30 T07821008667\n"
     ]
    },
    {
     "name": "stderr",
     "output_type": "stream",
     "text": [
      "Setting `pad_token_id` to `eos_token_id`:2 for open-end generation.\n"
     ]
    },
    {
     "name": "stdout",
     "output_type": "stream",
     "text": [
      "Q_TTSEM_NOMBRE:Ma réponse : nombrejourdeteletravailmaxparsemaine=2\n",
      "\n",
      "Mon extraction de trois phrases maximum qui répondent à la question :\n",
      "- \"Le télétravail fonctionne sur un schéma d’alternance de périodes travaillées en présentiel et de période où l’activité est réalisée au domicile du salarié.\"\n",
      "- \"Les parties conviennent de limiter la situation de télétravail à 2 (deux) jours par semaine pour les salariés à temps plein\"\n",
      "- \"dans la mesure où ce temps partiel est supérieur ou égal à 80% d’un temps plein, de telle sorte que le lien social soit maintenu avec l’équipe de travail et l’encadrement.\"\n",
      "\n",
      "Mon raisonnement :\n",
      "Après lecture du document, je peux voir que le télétravail fonctionne sur un schéma d'alternance de périodes travaillées en présentiel et de période où l'activité est réalisée au domicile du salarié. De plus, les parties conviennent de limiter la situation de télétravail à 2 jours par semaine pour les salariés à temps plein. Cependant, cette limitation ne s'applique que dans la mesure où le temps partiel est supérieur ou égal à 80% d'un temps plein, de telle sorte que le lien social soit maintenu avec l'équipe de travail et l'encadrement. Par conséquent, le nombre maximal de jours de télétravail par semaine est de 2.\n",
      "\n",
      "31 T02421001369\n"
     ]
    },
    {
     "name": "stderr",
     "output_type": "stream",
     "text": [
      "Setting `pad_token_id` to `eos_token_id`:2 for open-end generation.\n"
     ]
    },
    {
     "name": "stdout",
     "output_type": "stream",
     "text": [
      "Q_TTSEM_NOMBRE:Ma réponse : nombrejourdeteletravailmaxparsemaine=0, nombrejoursursiteparsemaine=0\n",
      "\n",
      "Mon extraction de trois phrases maximum qui répondent à la question :\n",
      "- \"Les parties signataires décident de proroger jusqu’au 31 mars 2022 les dispositions de l’accord relatif à la mise en place du télétravail conclu en date du 20 novembre 2018 et de son avenant n°1 signé le 22 octobre 2020.\"\n",
      "- \"Cet accord est conclu pour une durée déterminée, il prend effet au 1er septembre 2021 jusqu’au 31 mars 2022.\"\n",
      "- \"Il ne constitue pas un engagement unilatéral de l’employeur, mais un accord comportant comme conditions suspensives l’agrément ministériel et le respect des règles de validité relatives à la conclusion des accords collectifs prévues par la loi.\"\n",
      "\n",
      "Mon raisonnement :\n",
      "Aucun paragraphe ne comporte le mot-clé semaine ou une notion de fréquence par semaine et concerne le nombre de jour de télétravail autorisé. Par conséquent, je ne peux pas déduire de jours de télétravail par semaine. Je renvoie donc la variable nombrejourdeteletravailmaxparsemaine à 0. De plus, rien n'indique dans le texte que les salariés doivent être présents sur site un certain nombre de jours par semaine. Je renvoie donc la variable nombrejoursursiteparsemaine à 0.\n",
      "\n",
      "32 T08621001524\n"
     ]
    },
    {
     "name": "stderr",
     "output_type": "stream",
     "text": [
      "Setting `pad_token_id` to `eos_token_id`:2 for open-end generation.\n"
     ]
    },
    {
     "name": "stdout",
     "output_type": "stream",
     "text": [
      "Q_TTSEM_NOMBRE:Ma réponse : nombrejourdeteletravailmaxparsemaine=1\n",
      "\n",
      "Mon extraction de trois phrases maximum qui répondent à la question :\n",
      "- \"Les parties conviennent que le nombre de journée maximale de télétravail est fixé à une (1) par semaine\"\n",
      "- \"Le jour de télétravail n’est pas obligatoirement fixe dans la semaine.\"\n",
      "- \"Si la journée de télétravail n’est pas effectuée pour quelque motif que ce soit... aucun report de cette journée ne pourra être sollicitée par le salarié.\"\n",
      "\n",
      "Mon raisonnement :\n",
      "Dans le premier paragraphe, il est clairement stipulé qu'un salarié ne peut faire plus d'une journée de télétravail par semaine. Ce nombre n'est pas affecté par la fréquence hebdomadaire, puisque le salarié n'est pas tenu d'effectuer le télétravail tous les jours de la semaine. De plus, il est dit que le salarié ne peut pas reporter une journée de télétravail non effectuée, ce qui implique que le nombre de jours de télétravail par semaine est fixe. Par conséquent, le nombre maximal de jours de télétravail par semaine est de 1.\n",
      "\n",
      "33 T04421009471\n"
     ]
    },
    {
     "name": "stderr",
     "output_type": "stream",
     "text": [
      "Setting `pad_token_id` to `eos_token_id`:2 for open-end generation.\n"
     ]
    },
    {
     "name": "stdout",
     "output_type": "stream",
     "text": [
      "Q_TTSEM_NOMBRE:Ma réponse : nombrejourdeteletravailmaxparsemaine=2\n",
      "\n",
      "Mon extraction de trois phrases maximum qui répondent à la question :\n",
      "- \"De manière à concilier flexibilité de l’organisation du travail et prévention des risques psychosociaux pouvant être générés par le travail à distance (notamment la perte de lien avec la communauté de travail), le télétravail régulier aura une fréquence comprise entre 1 et 2 journées par semaine.\"\n",
      "- \"Cette règle s’applique de la même façon lorsque certaines semaines comportent des jours fériés ou lorsque le salarié bénéficie de jours de repos légaux (RTT, congés payés, autres formes d’absences…).\"\n",
      "- \"Un salarié souhaitant télétravailler plus de 2 jours par semaine ou à temps complet doit se rapprocher du service RH pour étudier les motivations et définir son éligibilité,\"\n",
      "\n",
      "Mon raisonnement :\n",
      "Le paragraphe 1.3.1 FREQUENCE indique que le télétravail régulier aura une fréquence comprise entre 1 et 2 journées par semaine. De plus, cette règle s'applique de la même façon lorsque certaines semaines comportent des jours fériés ou lorsque le salarié bénéficie de jours de repos légaux. Par conséquent, le nombre maximal de jours de télétravail par semaine est de 2.\n",
      "\n",
      "34 T06721006777\n"
     ]
    },
    {
     "name": "stderr",
     "output_type": "stream",
     "text": [
      "Setting `pad_token_id` to `eos_token_id`:2 for open-end generation.\n"
     ]
    },
    {
     "name": "stdout",
     "output_type": "stream",
     "text": [
      "Q_TTSEM_NOMBRE:Ma réponse : nombrejourdeteletravailmaxparsemaine=2\n",
      "\n",
      "Mon extraction de trois phrases maximum qui répondent à la question :\n",
      "- \"Le nombre de jours télétravaillables est fixé par journée entière à 2 jours par semaine au maximum\"\n",
      "- \"Les parties signataires conviennent par ailleurs que tout salarié s’inscrivant dans le dispositif de télétravail régulier devra exercer son activité à minima 3 jours par semaine sur son lieu de travail de référence\"\n",
      "- \"Lorsque la présence minimale de 3 jours par semaine sur site de rattachement n’est pas possible en raison des caractéristiques du métier...\"\n",
      "\n",
      "Mon raisonnement :\n",
      "Dans le document, on peut trouver la phrase \"Le nombre de jours télétravaillables est fixé par journée entière à 2 jours par semaine au maximum\". Cette phrase indique clairement qu'un salarié ne peut pas télétravailler plus de 2 jours par semaine. De plus, il est précisé que \"Les parties signataires convienent par ailleurs que tout salarié s’inscrivant dans le dispositif de télétravail régulier devra exercer son activité à minima 3 jours par semaine sur son lieu de travail de référence\". Cela signifie que les salariés doivent être présents sur leur lieu de travail au moins 3 jours par semaine, ce qui limite le nombre de jours de télétravail possible à 2 par semaine. Enfin, il est mentionné que \"Lorsque la présence minimale de 3 jours par semaine sur site de rattachement n’est pas possible en raison des caractéristiques du métier...\". Cela confirme que le maximum de jours de télétravail par semaine est de 2. Par conséquent, je peux répondre que le nombre maximal de jours de télétravail par semaine est de 2.\n",
      "\n",
      "35 T05721004568\n"
     ]
    },
    {
     "name": "stderr",
     "output_type": "stream",
     "text": [
      "Setting `pad_token_id` to `eos_token_id`:2 for open-end generation.\n"
     ]
    },
    {
     "name": "stdout",
     "output_type": "stream",
     "text": [
      "Q_TTSEM_NOMBRE:Ma réponse : nombrejourdeteletravailmaxparsemaine=2\n",
      "\n",
      "Mon extraction de trois phrases maximum qui répondent à la question :\n",
      "- \"Les salariés seront en télétravail au minimum, soit deux ½ journées par semaine\"\n",
      "- \"Soit une journée complète par semaine\"\n",
      "\n",
      "Mon raisonnement :\n",
      "Dans le document fourni, il y a un article qui traite spécifiquement du télétravail. Dans cet article, il est indiqué que les salariés seront en télétravail au minimum soit deux demi-journées par semaine, soit une journée complète par semaine. Par conséquent, le nombre maximal de jours de télétravail par semaine est de 2.\n",
      "\n",
      "36 T08721002004\n"
     ]
    },
    {
     "name": "stderr",
     "output_type": "stream",
     "text": [
      "Setting `pad_token_id` to `eos_token_id`:2 for open-end generation.\n"
     ]
    },
    {
     "name": "stdout",
     "output_type": "stream",
     "text": [
      "Q_TTSEM_NOMBRE:Ma réponse : nombrejourdeteletravailmaxparsemaine=0\n",
      "\n",
      "Mon extraction de trois phrases maximum qui répondent à la question :\n",
      "- \"Dans le cadre de l’organisation du télétravail sous forme d’enveloppe jours, l’utilisation de ces jours font l’objet d’un accord préalable entre le télétravailleur et son responsable hiérarchique.\"\n",
      "- \"Le télétravailleur bénéficie comme tous les salariés de la caisse d’un Entretien Annuel d’Evaluation et d’Accompagnement.\"\n",
      "- \"Pour les télétravailleurs, un temps est consacré au suivi de l’organisation du télétravail.\"\n",
      "\n",
      "Mon raisonnement :\n",
      "Après lecture attentive des documents fournis, je n'ai pas trouvé de paragraphe contenant le mot-clé \"semaine\" ou une notion de fréquence par semaine et concernant le nombre de jour de télétravail autorisé. Par conséquent, je ne peux pas affecter de valeur à la variable 'nombrejourdeteletravailmaxparsemaine'. De plus, aucune information n'est donnée sur le nombre de jours de présence obligatoire sur site. Je retourne donc la variable 'nombrejourdeteletravailmaxparsemaine' à 0 et la variable 'nombrejoursursiteparsemaine' également à 0.\n",
      "\n",
      "37 T07821007410\n"
     ]
    },
    {
     "name": "stderr",
     "output_type": "stream",
     "text": [
      "Setting `pad_token_id` to `eos_token_id`:2 for open-end generation.\n"
     ]
    },
    {
     "name": "stdout",
     "output_type": "stream",
     "text": [
      "Q_TTSEM_NOMBRE:Ma réponse : nombrejourdeteletravailmaxparsemaine=2\n",
      "\n",
      "Mon extraction de trois phrases maximum qui répondent à la question :\n",
      "- \"Le télétravail pourra être exercé à hauteur de 2 jours par semaine pour un salarié à temps complet\"\n",
      "- \"Les jours de télétravail doivent être identifiés d’un commun accord entre le salarié et son responsable hiérarchique.\"\n",
      "- \"Si l’organisation du travail l’exige, les jours de télétravail seront modifiés sur demande écrite (courriel) avec un délai de prévenance de 48 heures,\"\n",
      "\n",
      "Mon raisonnement :\n",
      "Dans le contexte fourni, on recherche le nombre maximal de jours de télétravail autorisés par semaine. On trouve une phrase qui indique que \"Le télétravail pourra être exercé à hauteur de 2 jours par semaine pour un salarié à temps complet\". Cette information est confirmée par la phrase \"Les jours de télétravail doivent être identifiés d’un commun accord entre le salarié et son responsable hiérarchique\", qui implique que le nombre de jours de télétravail est négocié et fixé entre le salarié et son responsable, et ne peut donc excéder 2 jours par semaine. Enfin, la troisième phrase mentionnée ne fournit pas d'information supplémentaire sur le nombre de jours de télétravail autorisés par semaine. Par conséquent, je conclus que le nombre maximal de jours de télétravail autorisés par semaine est de 2.\n",
      "\n",
      "38 T09121006385\n"
     ]
    },
    {
     "name": "stderr",
     "output_type": "stream",
     "text": [
      "Setting `pad_token_id` to `eos_token_id`:2 for open-end generation.\n"
     ]
    },
    {
     "name": "stdout",
     "output_type": "stream",
     "text": [
      "Q_TTSEM_NOMBRE:Ma réponse : nombrejourdeteletravailmaxparsemaine=1\n",
      "\n",
      "Mon extraction de trois phrases maximum qui répondent à la question :\n",
      "- \"Le télétravail ne devra pas dépasser 0,20 ETP par mois soit au plus une journée par semaine.\"\n",
      "\n",
      "Mon raisonnement :\n",
      "Dans le document, on trouve une phrase qui indique que le télétravail ne devra pas dépasser 0,20 ETP par mois, ce qui correspond à une journée par semaine. Cette information est explicite et ne nécessite pas de supposer ou d'hypothétiser. Par conséquent, je peux affirmer que le nombre maximal de jours de télétravail par semaine est de 1.\n",
      "\n",
      "39 T06721007676\n"
     ]
    },
    {
     "name": "stderr",
     "output_type": "stream",
     "text": [
      "Setting `pad_token_id` to `eos_token_id`:2 for open-end generation.\n"
     ]
    },
    {
     "name": "stdout",
     "output_type": "stream",
     "text": [
      "Q_TTSEM_NOMBRE:Ma réponse : nombrejourdeteletravailmaxparsemaine=2, nombrejoursursiteparsemaine=1\n",
      "\n",
      "Mon extraction de trois phrases maximum qui répondent à la question :\n",
      "- \"Le salarié doit être obligatoirement présent dans les locaux de l’entreprise le lundi\"\n",
      "- \"un rythme de télétravail sur une base hebdomadaire tel que défini dans son avenant au contrat de travail\"\n",
      "- \"Par exemple un salarié sera en télétravail les mercredi et vendredi pendant la semaine paire, puis les mardi et jeudi en semaine impaire.\"\n",
      "\n",
      "Mon raisonnement :\n",
      "Dans le document, il est stipulé que le salarié doit être présent dans les locaux de l'entreprise le lundi, ce qui implique qu'il ne peut pas télétravailler ce jour-là. De plus, il est indiqué que le salarié a un rythme de télétravail sur une base hebdomadaire, et qu'un exemple de rythme est donné avec deux jours de télétravail par semaine. Par conséquent, le salarié peut télétravailler jusqu'à 2 jours par semaine. En ce qui concerne les jours de présence sur site, il est indiqué que le salarié doit être présent un jour par semaine, soit 1 jour par semaine.\n",
      "\n",
      "40 T06721006938\n"
     ]
    },
    {
     "name": "stderr",
     "output_type": "stream",
     "text": [
      "Setting `pad_token_id` to `eos_token_id`:2 for open-end generation.\n"
     ]
    },
    {
     "name": "stdout",
     "output_type": "stream",
     "text": [
      "Q_TTSEM_NOMBRE:Ma réponse : nombrejourdeteletravailmaxparsemaine=2\n",
      "\n",
      "Mon extraction de trois phrases maximum qui répondent à la question :\n",
      "- \"Pour les salariés qui ne bénéficient pas de titres-restaurant, ceux-ci bénéficient d’une indemnité repas d’un montant de 7 (sept) euros bruts par jour complet de travail à distance réalisé, correspondant au montant de la part patronale d’un titre-restaurant, majoré de 25%.\"\n",
      "- \"Pour rappel et conformément à l’Accord-cadre de Groupe, l’exercice du télétravail n’a aucune incidence sur la durée du travail applicable aux salariés, qui restent soumis aux dispositions de l’accord de Groupe sur le temps de travail actuellement en vigueur.\"\n",
      "- \"Pour les salariés qui ne bénéficient pas de titres-restaurant, ceux-ci bénéficient d’une indemnité repas d’un montant de 7 (sept) euros bruts par jour complet de travail à distance réalisé, correspondant au montant de la part patronale d’un titre-restaurant, majoré de 25%.\"\n",
      "\n",
      "Mon raisonnement :\n",
      "Dans le premier paragraphe, il est indiqué que l'indemnité repas est versée par jour complet de travail à distance réalisé. Or, un jour complet de travail à distance réalisé correspond à un jour de télétravail. Donc, on peut en déduire que le nombre maximal de jours de télétravail par semaine est de 2, car l'indemnité repas est versée pour 7 euros bruts par jour complet de travail à distance réalisé, majoré de 25%, ce qui correspond à 2 jours de télétravail par semaine.\n",
      "Dans le deuxième paragraphe, il est indiqué que l'exercice du télétravail n'a aucune incidence sur la durée du travail applicable aux salariés, qui restent soumis aux dispositions de l'accord de Groupe sur le temps de travail actuellement en vigueur. Donc, on peut en déduire que le nombre maximal de jours de télétravail par semaine est de 2, car c'est le nombre indiqué dans le premier paragraphe.\n",
      "Dans le troisième paragraphe, il est indiqué que l'indemnité repas est versée par jour complet de travail à distance réalisé. Or, un jour complet de travail à distance réalisé correspond à un jour de télétravail. Donc, on peut en déduire que le nombre maximal de jours de télétravail par semaine est de 2, car l'indemnité repas est versée pour 7 euros bruts par jour complet de travail à distance réalisé, majoré de 25%, ce qui correspond à 2 jours de télétravail par semaine.\n",
      "\n",
      "41 T09221026978\n"
     ]
    },
    {
     "name": "stderr",
     "output_type": "stream",
     "text": [
      "Setting `pad_token_id` to `eos_token_id`:2 for open-end generation.\n",
      "Created a chunk of size 11621, which is longer than the specified 5000\n"
     ]
    },
    {
     "name": "stdout",
     "output_type": "stream",
     "text": [
      "Q_TTSEM_NOMBRE:Ma réponse : nombrejourdeteletravailmaxparsemaine=0\n",
      "\n",
      "Mon extraction de trois phrases maximum qui répondent à la question :\n",
      "- \"Le télétravail ne saurait avoir pour conséquence de modifier ni l’horaire habituel, ni l’amplitude de travail effectif applicable en temps normal, lorsque le Salarié effectue son activité au sein des locaux de l’entreprise.\"\n",
      "- \"Chaque jour de télétravail comporte une plage en dehors de laquelle, sauf urgences ou circonstances exceptionnelles, le/la salarié(e) en télétravail ne peut pas être joint(e)\"\n",
      "- \"Le télétravail imposé conduit le Salarié à travailler à partir de son domicile. Le domicile est entendu au sens de sa résidence principale.\"\n",
      "\n",
      "Mon raisonnement :\n",
      "Après avoir lu attentivement les documents fournis, je n'ai pas trouvé de phrase contenant le mot-clé \"semaine\" ou une notion de fréquence par semaine et concernant le nombre de jour de télétravail autorisé. Par conséquent, je ne peux pas déduire de nombre de jours de télétravail maximum par semaine. La variable \"nombrejourdeteletravailmaxparsemaine\" est donc égale à 0.\n",
      "\n",
      "42 T01321011332\n"
     ]
    },
    {
     "name": "stderr",
     "output_type": "stream",
     "text": [
      "Setting `pad_token_id` to `eos_token_id`:2 for open-end generation.\n"
     ]
    },
    {
     "name": "stdout",
     "output_type": "stream",
     "text": [
      "Q_TTSEM_NOMBRE:Ma réponse : nombrejourdeteletravailmaxparsemaine=0\n",
      "\n",
      "Mon extraction de trois phrases maximum qui répondent à la question :\n",
      "- \"Le télétravail est possible, si cela est compatible avec la durée du travail des salariés concernés, à concurrence de 0 à 2 jours ouvrés maximum par semaine, non consécutifs, sous condition de présence de 3 jours sur site (non reportable, non cumulable).\"\n",
      "\n",
      "Mon raisonnement :\n",
      "Le document fourni comporte des informations sur les modalités de télétravail, mais aucune indication explicite sur le nombre maximal de jours de télétravail par semaine n'est donnée, sauf dans la phrase extraite. Par conséquent, je propose de renvoyer la variable 'nombrejourdeteletravailmaxparsemaine' à 0.\n",
      "\n",
      "43 T09221022859\n"
     ]
    },
    {
     "name": "stderr",
     "output_type": "stream",
     "text": [
      "Setting `pad_token_id` to `eos_token_id`:2 for open-end generation.\n"
     ]
    },
    {
     "name": "stdout",
     "output_type": "stream",
     "text": [
      "Q_TTSEM_NOMBRE:Ma réponse :\n",
      "nombrejourdeteletravailmaxparsemaine=2\n",
      "Mon extraction de trois phrases maximum qui répondent à la question :\n",
      "* \"Afin notamment de préserver une certaine cohésion au sein des effectifs de la Société, les Salariés à temps plein ne travailleront qu'au maximum 2 jours par semaine en télétravail et 1 seule journée pour les Salariés à temps partiel.\"\n",
      "Mon raisonnement :\n",
      "Dans le contexte fourni, on recherche le nombre maximal de jours de télétravail autorisés par semaine. Dans le document, il est indiqué que \"les Salariés à temps plein ne travailleront qu'au maximum 2 jours par semaine en télétravail\". Par conséquent, le nombre maximal de jours de télétravail autorisés par semaine est de 2.\n",
      "\n",
      "44 T03021003019\n"
     ]
    },
    {
     "name": "stderr",
     "output_type": "stream",
     "text": [
      "Setting `pad_token_id` to `eos_token_id`:2 for open-end generation.\n"
     ]
    },
    {
     "name": "stdout",
     "output_type": "stream",
     "text": [
      "Q_TTSEM_NOMBRE:Ma réponse : nombrejourdeteletravailmaxparsemaine=4\n",
      "\n",
      "Mon extraction de trois phrases maximum qui répondent à la question :\n",
      "- \"Pour répondre à l’état d’urgence et à la nécessité de faire perdurer le télétravail au sein des entreprises pour les emplois qui le permettent, le nombre de jours en télétravail pourra au maximum être de 4 par semaine.\"\n",
      "\n",
      "Mon raisonnement :\n",
      "Dans l'article 3, il est stipulé que \"le nombre de jours en télétravail pourra au maximum être de 4 par semaine\". Cette phrase indique clairement que le nombre maximal de jours de télétravail autorisé par semaine est de 4 jours.\n",
      "\n",
      "45 T09121006120\n"
     ]
    },
    {
     "name": "stderr",
     "output_type": "stream",
     "text": [
      "Setting `pad_token_id` to `eos_token_id`:2 for open-end generation.\n"
     ]
    },
    {
     "name": "stdout",
     "output_type": "stream",
     "text": [
      "Q_TTSEM_NOMBRE:Ma réponse : nombrejourdeteletravailmaxparsemaine=0\n",
      "\n",
      "Mon extraction de trois phrases maximum qui répondent à la question :\n",
      "- \"Les jours de télétravail doivent par principe être pris par journée entière et ne peuvent conduire le salarié à s’absenter en télétravail plus de deux journées pour une semaine de cinq jours.\"\n",
      "- \"A l’échelle d’un service, il est possible de définir des journées comme non accessibles au télétravail afin de préserver le lien social, les rituels d’équipes et le travail collectif.\"\n",
      "- \"Les réunions seront prioritairement organisées sur ces journées.\"\n",
      "\n",
      "Mon raisonnement :\n",
      "Les phrases extraites montrent qu'un salarié ne peut pas travailler plus de deux jours en télétravail par semaine, et que les réunions ont priorité sur les jours où le télétravail est possible. Donc, le nombre maximal de jours de télétravail par semaine est de 2. Il n'y a pas d'indication de jours de présence obligatoire sur site dans les documents fournis.\n",
      "\n",
      "46 T07221003271\n"
     ]
    },
    {
     "name": "stderr",
     "output_type": "stream",
     "text": [
      "Setting `pad_token_id` to `eos_token_id`:2 for open-end generation.\n"
     ]
    },
    {
     "name": "stdout",
     "output_type": "stream",
     "text": [
      "Q_TTSEM_NOMBRE:Ma réponse : nombrejourdeteletravailmaxparsemaine=0\n",
      "\n",
      "Mon extraction de trois phrases maximum qui répondent à la question :\n",
      "* \"Le présent accord fera l’objet des formalités de dépôt et de publicité prévues par les dispositions légales auprès de la Direccte, via la plate-forme de téléprocédure du Ministère du travail et du greffe du Conseil des prud’hommes.\"\n",
      "* \"Le présent accord fera l’objet d’une publicité sur la base de données nationales (www.legifrance.gouv.fr / rubrique \"Accords collectifs\"). La publicité sur cette base de données sera intégrale.\"\n",
      "* \"Un exemplaire signé du présent accord sera remis à chaque signataire.\"\n",
      "\n",
      "Mon raisonnement :\n",
      "Il n'y a aucune mention de la fréquence hebdomadaire de télétravail dans le document fourni. Par conséquent, je ne peux pas attribuer de valeur à la variable nombrejourdeteletravailmaxparsemaine.\n",
      "\n",
      "47 T00621004760\n"
     ]
    },
    {
     "name": "stderr",
     "output_type": "stream",
     "text": [
      "Setting `pad_token_id` to `eos_token_id`:2 for open-end generation.\n",
      "Created a chunk of size 10412, which is longer than the specified 5000\n"
     ]
    },
    {
     "name": "stdout",
     "output_type": "stream",
     "text": [
      "Q_TTSEM_NOMBRE:Ma réponse : nombrejourdeteletravailmaxparsemaine=0\n",
      "\n",
      "Mon extraction de trois phrases maximum qui répondent à la question :\n",
      "- \"Le télétravail débute par une période dite d’adaptation de trois mois.\" (Article 3.1)\n",
      "- \"La période d’adaptation s’applique à la première demande de télétravail ou à la nouvelle demande suite à un changement de poste.\" (Article 3.1)\n",
      "- \"Le télétravail occasionnel ne se cumule pas avec le télétravail régulier.\" (Article 1)\n",
      "\n",
      "Mon raisonnement :\n",
      "Après avoir lu attentivement les documents fournis, je n'ai pas trouvé de paragraphe contenant le mot-clé \"semaine\" ou une notion de fréquence par semaine et concernant le nombre de jours de télétravail autorisé de manière régulière. Les seuls passages qui font référence au télétravail régulier sont les suivants :\n",
      "- \"Le télétravail débute par une période dite d’adaptation de trois mois.\" (Article 3.1)\n",
      "- \"La période d’adaptation s’applique à la première demande de télétravail ou à la nouvelle demande suite à un changement de poste.\" (Article 3.1)\n",
      "- \"Le télétravail occasionnel ne se cumule pas avec le télétravail régulier.\" (Article 1)\n",
      "\n",
      "Ces passages ne précisent pas le nombre maximal de jours de télétravail par semaine. Par conséquent, je retourne la variable \"nombrejourdeteletravailmaxparsemaine\" à 0.\n",
      "\n",
      "48 T07521029992\n"
     ]
    },
    {
     "name": "stderr",
     "output_type": "stream",
     "text": [
      "Setting `pad_token_id` to `eos_token_id`:2 for open-end generation.\n"
     ]
    },
    {
     "name": "stdout",
     "output_type": "stream",
     "text": [
      "Q_TTSEM_NOMBRE:Ma réponse : nombrejourdeteletravailmaxparsemaine = 0\n",
      "\n",
      "Mon extraction de trois phrases maximum qui répondent à la question :\n",
      "- \"Lorsque le recours au télétravail sera accepté, un écrit sera régularisé pour... préciser les modalités utiles à l'exercice de l'activité en télétravail et adaptées à la situation du télétravailleur telles que... le lieu du télétravail, étant précisé que celui-ci correspond en principe au domicile principal du salarié soit le lieu de résidence habituelle du salarié lequel s’entend, par défaut, du lieu enregistré dans les outils de gestion RH, et qu’en cas d’autre lieu, le collaborateur doit obligatoirement informer la Direction notamment pour des raisons d’assurance et confirmer la conformité du lieu pour la bonne réalisation du travail à distance,\"\n",
      "- \"Retour à une exécution du travail sans télétravail à la demande du salarié ou de l’employeur... Dans l’hypothèse où le salarié estimerait nécessaire de mettre fin au télétravail, il devra notifier sa décision à son responsable et au service des Ressources Humaines par écrit par lettre recommandée avec accusé de réception ou par lettre remise en main propre contre décharge ou par email avec accusé de réception et de lecture. Le terme du télétravail sera effectif moyennant le respect d’un préavis de 2 semaines.\"\n",
      "- \"Des circonstances exceptionnelles peuvent amener le service des Ressources Humaines, notamment avec demande du responsable hiérarchique, à suspendre de manière temporaire, la situation du télétravail, sans pour autant que cela ne remette en cause l’organisation du travail en mode télétravail.\"\n",
      "\n",
      "Mon raisonnement :\n",
      "Après lecture attentive des documents fournis, je n'ai pas trouvé de paragraphe contenant le mot-clé \"semaine\" ou une notion de fréquence par semaine et concernant le nombre de jour de télétravail autorisé. De plus, les documents ne précisent pas de limite haute au nombre de jours de télétravail par semaine. Par conséquent, je réponds \"0\" à la question posée.\n",
      "\n",
      "49 T05721004723\n"
     ]
    },
    {
     "name": "stderr",
     "output_type": "stream",
     "text": [
      "Setting `pad_token_id` to `eos_token_id`:2 for open-end generation.\n"
     ]
    },
    {
     "name": "stdout",
     "output_type": "stream",
     "text": [
      "Q_TTSEM_NOMBRE:Ma réponse : nombrejourdeteletravailmaxparsemaine=2\n",
      "\n",
      "Mon extraction de trois phrases maximum qui répondent à la question :\n",
      "- \"Au 1er juin 2021, tous les collaborateurs pourront bénéficier de 2 jours / semaine de travail à distance.\"\n",
      "- \"La charte d’entreprise sur le travail à distance sera actualisée afin de préciser les modalités à respecter par tous les collaborateurs.\"\n",
      "- \"Afin de maintenir la cohésion d’équipe, chaque collaborateur devra donc s’organiser pour être présent au bureau ou en mission au minimum 3 jours / semaine.\"\n",
      "\n",
      "Mon raisonnement :\n",
      "Dans le document, il est indiqué que \"Au 1er juin 2021, tous les collaborateurs pourront bénéficier de 2 jours / semaine de travail à distance\". Cette information est confirmée dans la charte d'entreprise sur le travail à distance qui précise les modalités à respecter par tous les collaborateurs. De plus, il est indiqué que \"Afin de maintenir la cohésion d’équipe, chaque collaborateur devra donc s’organiser pour être présent au bureau ou en mission au minimum 3 jours / semaine\", ce qui signifie qu'un employé peut télétravailler au maximum 2 jours par semaine.\n",
      "\n",
      "50 T09221026359\n"
     ]
    },
    {
     "name": "stderr",
     "output_type": "stream",
     "text": [
      "Setting `pad_token_id` to `eos_token_id`:2 for open-end generation.\n"
     ]
    },
    {
     "name": "stdout",
     "output_type": "stream",
     "text": [
      "Q_TTSEM_NOMBRE:Ma réponse : nombrejourdeteletravailmaxparsemaine=2\n",
      "\n",
      "Mon extraction de trois phrases maximum qui répondent à la question :\n",
      "- \"Le télétravail régulier suppose à minima une journée en télétravail par semaine, sans pouvoir excéder trois jours de télétravail par semaine.\"\n",
      "- \"Il est tout de même fortement recommandé de ne pas dépasser 2 jours de télétravail par semaine.\"\n",
      "- \"A titre exceptionnel et sous réserve de l’existence d’une situation individuelle particulière (à titre d’exemple : un déménagement pour convenance personnelle dans une autre région que celle où se situe le site de rattachement du collaborateur), le nombre de jours maximal en télétravail pourra être revu à la hausse.\"\n",
      "\n",
      "Mon raisonnement :\n",
      "Le contexte indique que le télétravail régulier suppose à minima une journée en télétravail par semaine, sans pouvoir excéder trois jours de télétravail par semaine. Cependant, il est fortement recommandé de ne pas dépasser 2 jours de télétravail par semaine. Il est donc possible de télétravailler jusqu'à 2 jours par semaine, mais pas plus de 3. Je retourne donc la valeur maximale trouvée, qui est de 2 jours de télétravail par semaine.\n",
      "\n",
      "51 T03121008941\n"
     ]
    },
    {
     "name": "stderr",
     "output_type": "stream",
     "text": [
      "Setting `pad_token_id` to `eos_token_id`:2 for open-end generation.\n"
     ]
    },
    {
     "name": "stdout",
     "output_type": "stream",
     "text": [
      "Q_TTSEM_NOMBRE:Ma réponse : nombrejourdeteletravailmaxparsemaine=2\n",
      "\n",
      "Mon extraction de trois phrases maximum qui répondent à la question :\n",
      "- \"Le nombre de jour de télétravail ne pourra excéder 2 jours par semaine\"\n",
      "- \"Ces jours de télétravail seront fixés et définis entre le salarié et son manager.\"\n",
      "- \"Si l’organisation du travail l’exige, les jours de télétravail définis pourront être modifiés avec un délai de prévenance de 24h00 sauf circonstances exceptionnelles.\"\n",
      "\n",
      "Mon raisonnement :\n",
      "Dans le document, il y a un paragraphe qui comporte le mot-clé semaine et qui concerne le nombre de jour de télétravail autorisé. Ce paragraphe indique que le nombre de jour de télétravail ne pourra excéder 2 jours par semaine. Il n'y a pas d'autres mentions de fréquence par semaine dans le document qui concernent le nombre de jour de télétravail autorisé. Donc, le nombre maximum de jour de télétravail possible par semaine est de 2.\n",
      "\n",
      "52 T06821004734\n"
     ]
    },
    {
     "name": "stderr",
     "output_type": "stream",
     "text": [
      "Setting `pad_token_id` to `eos_token_id`:2 for open-end generation.\n"
     ]
    },
    {
     "name": "stdout",
     "output_type": "stream",
     "text": [
      "Q_TTSEM_NOMBRE:Ma réponse : nombrejourdeteletravailmaxparsemaine=0\n",
      "\n",
      "Mon extraction de trois phrases maximum qui répondent à la question :\n",
      "- \"Le nombre maximal de jours de télétravail est fixé annuellement et de façon forfaitaire.\"\n",
      "- \"Les journées de télétravail pourront être subdivisées en demi-journées.\"\n",
      "- \"Une demi-journée de télétravail est égale à 3 heures 50 de travail effectif.\"\n",
      "\n",
      "Mon raisonnement :\n",
      "Dans le contexte fourni, je n'ai pas trouvé de paragraphe contenant le mot-clé \"semaine\" ou une notion de fréquence par semaine et concernant le nombre de jour de télétravail autorisé. Par conséquent, je ne peux pas répondre à la question sur le nombre maximum de jours de télétravail par semaine. Je retourne donc la variable 'nombrejourdeteletravailmaxparsemaine' à 0.\n",
      "\n",
      "53 T08421002482\n"
     ]
    },
    {
     "name": "stderr",
     "output_type": "stream",
     "text": [
      "Setting `pad_token_id` to `eos_token_id`:2 for open-end generation.\n"
     ]
    },
    {
     "name": "stdout",
     "output_type": "stream",
     "text": [
      "Q_TTSEM_NOMBRE:Ma réponse : nombrejourdeteletravailmaxparsemaine=0\n",
      "\n",
      "Mon extraction de trois phrases maximum qui répondent à la question :\n",
      "- \"Il n'y a pas de lien entre l'effectif d'un service et le nombre de jour de télétravail, donc ne pas déduire un nombre de jour de télétravail!\"\n",
      "- \"Trois jours de présence sur site et sans autre mention du nombre de jours de télétravail autorisé =  0 jour de télétravail par semaine, a priori!\"\n",
      "- \"Il n'y a pas de lien entre l'effectif d'un service et le nombre de jour de télétravail, donc ne pas déduire un nombre de jour de télétravail!\"\n",
      "\n",
      "Mon raisonnement :\n",
      "Les documents fournis ne contiennent aucune indication sur le nombre maximal de jours de télétravail autorisés par semaine, sauf l'indication générale que l'absence de mention implique zéro jour de télétravail par semaine.\n",
      "\n",
      "54 T09221023213\n"
     ]
    },
    {
     "name": "stderr",
     "output_type": "stream",
     "text": [
      "Setting `pad_token_id` to `eos_token_id`:2 for open-end generation.\n"
     ]
    },
    {
     "name": "stdout",
     "output_type": "stream",
     "text": [
      "Q_TTSEM_NOMBRE:Ma réponse : 1 jour de télétravail par semaine.\n",
      "\n",
      "Mon extraction de trois phrases maximum qui répondent à la question :\n",
      "- \"Tant que les pouvoirs publics préconiseront un recours massif au télétravail, Mutex accordera une allocation forfaitaire calculée au prorata du temps télétravaillé.\"\n",
      "- \"Ce dernier aura comme référence le mois.\"\n",
      "- \"En conséquence, le plafond d’allocations que percevra un collaborateur sera de 50 € par mois pour 5 jours de télétravail par semaine.\"\n",
      "\n",
      "Mon raisonnement :\n",
      "Dans le document, il est indiqué que l'allocation forfaitaire pour le télétravail est calculée au prorata du temps télétravaillé, avec une référence mensuelle. Ensuite, il est précisé que le plafond d'allocations pour un collaborateur est de 50€ par mois pour 5 jours de télétravail par semaine. Par conséquent, on peut déduire qu'un employé peut télétravailler jusqu'à 1 jour par semaine.\n",
      "\n",
      "55 T09221025050\n"
     ]
    },
    {
     "name": "stderr",
     "output_type": "stream",
     "text": [
      "Setting `pad_token_id` to `eos_token_id`:2 for open-end generation.\n"
     ]
    },
    {
     "name": "stdout",
     "output_type": "stream",
     "text": [
      "Q_TTSEM_NOMBRE:Ma réponse : nombrejourdeteletravailmaxparsemaine=0\n",
      "\n",
      "Mon extraction de trois phrases maximum qui répondent à la question :\n",
      "- \"Dans le cadre de la bonne organisation du service les jours en télétravail sont, dans la mesure du possible, déterminés après concertation préalable et accord du manager et sont formalisés dans le cadre d’un planning spécifique.\"\n",
      "- \"Pour privilégier le lien collectif et préserver le bon fonctionnement de l’équipe, devront être respectés les principes suivants : [...] une répartition hebdomadaire au sein de l’équipe des jours d’exercice de l’activité en télétravail\"\n",
      "- \"Chaque encadrant aura la possibilité de désigner un référent télétravail au sein de son équipe, sous réserve de l’accord de ce collaborateur.\"\n",
      "\n",
      "Mon raisonnement :\n",
      "Les phrases extraites montrent qu'il y a une répartition hebdomadaire des jours de télétravail, mais aucun chiffre n'est associé à cette répartition. De plus, il est précisé que le nombre de jours de télétravail est à discuter avec le manager, ce qui signifie qu'il n'y a pas de maximum prédéfini. Par conséquent, je réponds que le nombre maximal de jours de télétravail par semaine est de 0.\n",
      "\n",
      "56 T03121008136\n"
     ]
    },
    {
     "name": "stderr",
     "output_type": "stream",
     "text": [
      "Setting `pad_token_id` to `eos_token_id`:2 for open-end generation.\n"
     ]
    },
    {
     "name": "stdout",
     "output_type": "stream",
     "text": [
      "Q_TTSEM_NOMBRE:Ma réponse : nombrejourdeteletravailmaxparsemaine=1\n",
      "\n",
      "Mon extraction de trois phrases maximum qui répondent à la question :\n",
      "- \"Les jours de télétravail seront fixés selon les modalités suivantes... un jour maximum par semaine.\"\n",
      "\n",
      "Mon raisonnement :\n",
      "Dans l'article 9, il est stipulé que \"Les jours de télétravail seront fixés selon les modalités suivantes... un jour maximum par semaine.\" Par conséquent, le nombre maximal de jours de télétravail par semaine est de 1.\n",
      "\n",
      "57 T09221024009\n"
     ]
    },
    {
     "name": "stderr",
     "output_type": "stream",
     "text": [
      "Setting `pad_token_id` to `eos_token_id`:2 for open-end generation.\n"
     ]
    },
    {
     "name": "stdout",
     "output_type": "stream",
     "text": [
      "Q_TTSEM_NOMBRE:Ma réponse : nombrejourdeteletravailmaxparsemaine=0\n",
      "\n",
      "Mon extraction de trois phrases maximum qui répondent à la question :\n",
      "- \"Il a donc été largement mis en place au sein d’IFP Training pour les postes pour lesquels ce type d’organisation du travail est possible.\"\n",
      "- \"Pour autant, les parties partagent le fait que les conditions ergonomiques ne sont pas autant satisfaisantes que sur le lieu de travail habituel au sein des locaux de l’entreprise.\"\n",
      "- \"Les parties s’accordent sur le fait que l’organisation du télétravail, en dehors même du contexte très particulier provoqué par la pandémie Covid-19, mérite d’être examinée.\"\n",
      "\n",
      "Mon raisonnement :\n",
      "Les phrases extraites montrent que le document traite du télétravail dans le contexte de la pandémie de Covid-19, mais ne contiennent pas d'information spécifique sur le nombre de jours de télétravail autorisés par semaine. De plus, il est mentionné que les conditions ergonomiques ne sont pas satisfaisantes pour le télétravail, ce qui suggère qu'il n'y a pas de politique formelle de télétravail régulier en place. Par conséquent, je déduis qu'il n'y a pas de jours de télétravail réguliers par semaine explicitement spécifiés dans le document, et je renvoie la variable 'nombrejourdeteletravailmaxparsemaine' à 0.\n",
      "\n",
      "58 T09221025668\n"
     ]
    },
    {
     "name": "stderr",
     "output_type": "stream",
     "text": [
      "Setting `pad_token_id` to `eos_token_id`:2 for open-end generation.\n"
     ]
    },
    {
     "name": "stdout",
     "output_type": "stream",
     "text": [
      "Q_TTSEM_NOMBRE:Ma réponse : nombrejourdeteletravailmaxparsemaine=0\n",
      "\n",
      "Mon extraction de trois phrases maximum qui répondent à la question :\n",
      "- \"Une journée complète par semaine pour les salariés éligibles au télétravail, à temps partiel\"\n",
      "- \"Une à deux journées complètes maximum par semaine pour les autres salariés éligibles au télétravail.\"\n",
      "- \"Le nombre de jours de télétravail est déterminé en accord avec le manager qui peut limiter le nombre de jours de télétravail dont peuvent bénéficier les salariés de son équipe de façon notamment à ne pas affecter l’organisation et l’activité du service.\"\n",
      "\n",
      "Mon raisonnement :\n",
      "Les seuls passages qui font référence à une notion de fréquence par semaine concernant le nombre de jours de télétravail autorisé sont les suivants :\n",
      "- \"Une journée complète par semaine pour les salariés éligibles au télétravail, à temps partiel\"\n",
      "- \"Une à deux journées complètes maximum par semaine pour les autres salariés éligibles au télétravail.\"\n",
      "Cependant, ces passages ne permettent pas de savoir si le télétravail est régulier ou occasionnel.\n",
      "De plus, il est dit que \"Le nombre de jours de télétravail est déterminé en accord avec le manager qui peut limiter le nombre de jours de télétravail dont peuvent bénéficier les salariés de son équipe de façon notamment à ne pas affecter l’organisation et l’activité du service.\", ce qui signifie que le nombre de jours de télétravail n'est pas fixe et peut varier en fonction de l'accord avec le manager.\n",
      "Par conséquent, je ne peux pas déduire de nombre de jours de télétravail par semaine.\n",
      "Je retourne donc nombrejourdeteletravailmaxparsemaine à 0.\n",
      "\n",
      "59 T06021003016\n"
     ]
    },
    {
     "name": "stderr",
     "output_type": "stream",
     "text": [
      "Setting `pad_token_id` to `eos_token_id`:2 for open-end generation.\n"
     ]
    },
    {
     "name": "stdout",
     "output_type": "stream",
     "text": [
      "Q_TTSEM_NOMBRE:Ma réponse : nombrejourdeteletravailmaxparsemaine=1, nombrejoursursiteparsemaine=3\n",
      "\n",
      "Mon extraction de trois phrases maximum qui répondent à la question :\n",
      "- \"Le télétravail régulier peut être organisé à raison de 2 jours maximum par semaine entière de 5 jours ouvrés.\"\n",
      "- \"Une présence dans l’entreprise de 3 jours minimum par semaine est requise.\"\n",
      "\n",
      "Mon raisonnement :\n",
      "Dans le document, il est indiqué que le télétravail régulier peut être organisé à raison de 2 jours maximum par semaine entière de 5 jours ouvrés, ce qui signifie qu'un employé peut télétravailler jusqu'à 2 jours par semaine. De plus, il est indiqué qu'une présence dans l'entreprise de 3 jours minimum par semaine est requise, ce qui implique que les jours de télétravail ne peuvent excéder 2 jours par semaine. Ainsi, le nombre maximal de jours de télétravail par semaine est de 2. En ce qui concerne les jours de présence sur site, il est indiqué qu'une présence dans l'entreprise de 3 jours minimum par semaine est requise, ce qui signifie que les jours de présence sur site sont de 3 par semaine.\n",
      "\n",
      "60 T06821004760\n"
     ]
    },
    {
     "name": "stderr",
     "output_type": "stream",
     "text": [
      "Setting `pad_token_id` to `eos_token_id`:2 for open-end generation.\n"
     ]
    },
    {
     "name": "stdout",
     "output_type": "stream",
     "text": [
      "Q_TTSEM_NOMBRE:Ma réponse : nombrejourdeteletravailmaxparsemaine=0\n",
      "\n",
      "Mon extraction de trois phrases maximum qui répondent à la question :\n",
      "- \"Il n'y a pas de lien entre l'effectif d'un service et le nombre de jour de télétravail, donc ne pas déduire un nombre de jour de télétravail!\"\n",
      "- \"Trois jours de présence sur site et sans autre mention du nombre de jours de télétravail autorisé =  0 jour de télétravail par semaine, a priori!\"\n",
      "- \"Il n'y a pas de paragraphe qui comporte le mot-clé semaine ou une notion de fréquence par semaine et concerne le nombre de jour de télétravail autorisé.\"\n",
      "\n",
      "Mon raisonnement :\n",
      "Dans le contexte fourni, je n'ai pas trouvé de paragraphe qui comporte le mot-clé semaine ou une notion de fréquence par semaine et concerne le nombre de jour de télétravail autorisé. Par conséquent, je ne peux pas déduire de nombre de jours de télétravail par semaine. Je retourne donc nombrejourdeteletravailmaxparsemaine à 0.\n",
      "En outre, il est précisé que \"Trois jours de présence sur site et sans autre mention du nombre de jours de télétravail autorisé =  0 jour de télétravail par semaine, a priori!\". Il n'y a donc pas de jour de télétravail par semaine autorisé.\n",
      "Enfin, il est également précisé que \"Il n'y a pas de lien entre l'effectif d'un service et le nombre de jour de télétravail, donc ne pas déduire un nombre de jour de télétravail!\". Je ne peux donc pas déduire un nombre de jours de télétravail par semaine en me basant sur l'effectif d'un service.\n",
      "\n",
      "61 T07821008551\n"
     ]
    },
    {
     "name": "stderr",
     "output_type": "stream",
     "text": [
      "Setting `pad_token_id` to `eos_token_id`:2 for open-end generation.\n"
     ]
    },
    {
     "name": "stdout",
     "output_type": "stream",
     "text": [
      "Q_TTSEM_NOMBRE:Ma réponse : nombrejourdeteletravailmaxparsemaine=2\n",
      "\n",
      "Mon extraction de trois phrases maximum qui répondent à la question :\n",
      "- \"De manière générale, le télétravail s’exerce à raison de deux journées fixes par semaine maximum.\"\n",
      "- \"Dès l’embauche, le télétravail peut s’exercer à raison d’une journée entière fixe par semaine, pour une période de 6 mois,\"\n",
      "- \"En cas de circonstances exceptionnelles personnelles, le collaborateur peut, avec l’accord de son manager, aménager la répartition des jours télé-travaillés de façon mensuelle. Dans ce cas, l’organisation du télétravail est la suivante : Si le collaborateur exerce initialement une journée de télétravail par semaine : possibilité de réaliser 4 jours en télétravail sur le mois\"\n",
      "\n",
      "Mon raisonnement :\n",
      "Dans le premier extrait, il est indiqué que le télétravail s'exerce à raison de deux journées fixes par semaine maximum. Ceci correspond au maximum de jours de télétravail par semaine.\n",
      "Dans le deuxième extrait, il est indiqué que le télétravail peut s'exercer à raison d'une journée entière fixe par semaine. Ceci correspond à un jour de télétravail par semaine.\n",
      "Dans le troisième extrait, il est indiqué que si le collaborateur exerce initialement une journée de télétravail par semaine, il a la possibilité de réaliser 4 jours en télétravail sur le mois. Or, il y a 4 semaines dans un mois, donc le collaborateur peut télétravailler 4 jours par semaine. Mais comme il s'agit d'une exception, je ne peux pas prendre en compte cette information pour répondre à la question.\n",
      "Donc, le maximum de jours de télétravail par semaine est de 2.\n",
      "\n",
      "62 T09521004176\n"
     ]
    },
    {
     "name": "stderr",
     "output_type": "stream",
     "text": [
      "Setting `pad_token_id` to `eos_token_id`:2 for open-end generation.\n"
     ]
    },
    {
     "name": "stdout",
     "output_type": "stream",
     "text": [
      "Q_TTSEM_NOMBRE:Ma réponse : nombrejourdeteletravailmaxparsemaine=3\n",
      "\n",
      "Mon extraction de trois phrases maximum qui répondent à la question :\n",
      "- \"Le télétravail régulier peut-être de 1 ou de 2 jours par semaine.\"\n",
      "- \"Il peut être porté à un maximum de 3 jours par semaine pour des salariés en forte autonomie de travail\"\n",
      "- \"limité à 1 jour par semaine civile pour les populations suivantes\"\n",
      "\n",
      "Mon raisonnement :\n",
      "Les phrases extraites montrent que le télétravail régulier peut être de 1, 2 ou 3 jours par semaine. Cependant, la dernière phrase limite à 1 jour par semaine civile pour certaines populations. Comme il n'y a pas de contradiction entre ces phrases, je retiens le maximum des jours de télétravail par semaine qui est 3.\n",
      "Je ne trouve pas de mention de jours de présence obligatoire sur site dans les phrases extraites.\n",
      "\n",
      "63 T59V21001231\n"
     ]
    },
    {
     "name": "stderr",
     "output_type": "stream",
     "text": [
      "Setting `pad_token_id` to `eos_token_id`:2 for open-end generation.\n"
     ]
    },
    {
     "name": "stdout",
     "output_type": "stream",
     "text": [
      "Q_TTSEM_NOMBRE:Ma réponse : nombrejourdeteletravailmaxparsemaine=0\n",
      "\n",
      "Mon extraction de trois phrases maximum qui répondent à la question :\n",
      "- \"Il s’engage également à cesser toute connexion professionnelle en dehors de ses horaires de travail ou des plages horaires définies avec son responsable, sauf circonstances exceptionnelles.\"\n",
      "- \"Le télétravailleur s’engage à prévoir un espace de travail dédié dans son domicile, qui soit conforme aux règles de sécurité et qui permette un aménagement en poste de télétravail.\"\n",
      "- \"L’entreprise s’engage à fournir, installer et entretenir les équipements nécessaires à l’activité en télétravail pour le télétravailleur.\"\n",
      "\n",
      "Mon raisonnement :\n",
      "Après avoir lu attentivement les documents fournis, je n'ai pas trouvé de paragraphe contenant le mot-clé \"semaine\" ou une notion de fréquence par semaine et concernant le nombre de jours de télétravail autorisé. Par conséquent, je ne peux pas fournir de nombre de jours de télétravail par semaine. Je retourne donc la variable 'nombrejourdeteletravailmaxparsemaine' à 0.\n",
      "\n",
      "64 T08821002242\n"
     ]
    },
    {
     "name": "stderr",
     "output_type": "stream",
     "text": [
      "Setting `pad_token_id` to `eos_token_id`:2 for open-end generation.\n"
     ]
    },
    {
     "name": "stdout",
     "output_type": "stream",
     "text": [
      "Q_TTSEM_NOMBRE:Ma réponse : nombrejourdeteletravailmaxparsemaine=2\n",
      "\n",
      "Mon extraction de trois phrases maximum qui répondent à la question :\n",
      "- \"Le nombre de jours maximum en télétravail est fixé à 2 jours par semaine pour un collaborateur à temps plein.\"\n",
      "- \"Les jours de télétravail sont pris par journée complète, sauf demande justifiée par des motifs exceptionnels\"\n",
      "- \"Le télétravail est organisé sur la base de jours fixes (régularité des jours de télétravail pour chaque collaborateur et non jours «volants» dans la semaine)\"\n",
      "\n",
      "Mon raisonnement :\n",
      "Dans le document, il est indiqué que le nombre de jours maximum en télétravail est fixé à 2 jours par semaine pour un collaborateur à temps plein. Cette information est précisée dans l'article 6-1, dans les phrases \"Le nombre de jours maximum en télétravail est fixé à 2 jours par semaine pour un collaborateur à temps plein.\" et \"Les jours de télétravail sont pris par journée complète, sauf demande justifiée par des motifs exceptionnels\". De plus, il est mentionné que le télétravail est organisé sur la base de jours fixes, ce qui implique que les jours de télétravail sont planifiés à l'avance et ne peuvent pas varier de semaine en semaine. Par conséquent, je peux conclure que le nombre maximal de jours de télétravail par semaine est de 2.\n",
      "\n",
      "65 T04421010974\n"
     ]
    },
    {
     "name": "stderr",
     "output_type": "stream",
     "text": [
      "Setting `pad_token_id` to `eos_token_id`:2 for open-end generation.\n"
     ]
    },
    {
     "name": "stdout",
     "output_type": "stream",
     "text": [
      "Q_TTSEM_NOMBRE:Ma réponse : nombrejourdeteletravailmaxparsemaine=0\n",
      "\n",
      "Mon extraction de trois phrases maximum qui répondent à la question :\n",
      "\n",
      "* \"Le télétravail doit être exercé par jour entier. Cependant, il est possible de déroger à ce principe pour les salariés ayant un temps de travail amenant à la réalisation de demi-journées de travail.\"\n",
      "* \"Afin de garantir la pérennité du collectif de travail, le manager est invité pour la bonne organisation de son service à décider d’un jour de présence sur site commun à l’ensemble de ses collaborateurs\"\n",
      "* \"Le manager est invité pour la bonne organisation de son service à décider d’un jour de présence sur site commun à l’ensemble de ses collaborateurs\"\n",
      "\n",
      "Mon raisonnement :\n",
      "\n",
      "Dans le contexte fourni, je n'ai pas trouvé de paragraphe contenant le mot-clé \"semaine\" ou une notion de fréquence par semaine et concernant le nombre de jour de télétravail autorisé. De plus, aucun paragraphe ne précise explicitement le nombre maximum de jours de télétravail par semaine. Par conséquent, je réponds \"nombrejourdeteletravailmaxparsemaine=0\".\n",
      "\n",
      "66 T09221023345\n"
     ]
    },
    {
     "name": "stderr",
     "output_type": "stream",
     "text": [
      "Setting `pad_token_id` to `eos_token_id`:2 for open-end generation.\n"
     ]
    },
    {
     "name": "stdout",
     "output_type": "stream",
     "text": [
      "Q_TTSEM_NOMBRE:Ma réponse : nombrejourdeteletravailmaxparsemaine=2\n",
      "\n",
      "Mon extraction de trois phrases maximum qui répondent à la question :\n",
      "- \"Le télétravail sera mis en œuvre par journée entière de travail, dans la limite de deux jours par semaine.\"\n",
      "- \"Aucun jour de la semaine n’est exclu par principe du télétravail.\"\n",
      "- \"Sauf accord express dérogatoire de son management, le salarié en télétravail reste tenu, le ou les jour(s) de télétravail fixé : - D’effectuer tout déplacement professionnel rendu nécessaire par les besoins de sa mission ;\"\n",
      "\n",
      "Mon raisonnement :\n",
      "Dans le contexte fourni, je n'ai trouvé qu'un seul paragraphe qui comporte le mot-clé \"semaine\" et qui concerne le nombre de jour de télétravail autorisé. Ce paragraphe indique que le télétravail est mis en œuvre par journée entière de travail, dans la limite de deux jours par semaine. Par conséquent, le nombre maximal de jours de télétravail par semaine est de 2.\n",
      "\n",
      "67 T09221027087\n"
     ]
    },
    {
     "name": "stderr",
     "output_type": "stream",
     "text": [
      "Setting `pad_token_id` to `eos_token_id`:2 for open-end generation.\n"
     ]
    },
    {
     "name": "stdout",
     "output_type": "stream",
     "text": [
      "Q_TTSEM_NOMBRE:Ma réponse : nombrejourdeteletravailmaxparsemaine=0\n",
      "\n",
      "Mon extraction de trois phrases maximum qui répondent à la question :\n",
      "\n",
      "* \"Selon les recommandations sanitaires, il peut être imposé aux salariés un télétravail à 100%.\"\n",
      "* \"Le nombre de jours de télétravail imposés par semaine peut être réévalué par l’entreprise en fonction des mesures soit recommandées soit imposées par les Pouvoirs Publics.\"\n",
      "* \"En cas de télétravail en dessous de 100%, les jours télétravaillés dans la semaine sont convenus entre le Salarié et son manager, le cas échéant après avis de la Direction des Ressources Humaines, afin de respecter une jauge dans les locaux de l’entreprise qui soit adaptée à la situation sanitaire.\"\n",
      "\n",
      "Mon raisonnement :\n",
      "Dans le contexte fourni, il n'y a pas de mention explicite du nombre maximal de jours de télétravail par semaine, sauf pour le télétravail à 100%, qui correspond à 5 jours de télétravail par semaine. Il n'y a pas non plus d'autres mentions de fréquence par semaine concernant le nombre de jours de télétravail autorisés. Par conséquent, je ne peux pas affecter la variable 'nombrejourdeteletravailmaxparsemaine' à une valeur supérieure à 0.\n",
      "\n",
      "68 T07821008583\n"
     ]
    },
    {
     "name": "stderr",
     "output_type": "stream",
     "text": [
      "Setting `pad_token_id` to `eos_token_id`:2 for open-end generation.\n"
     ]
    },
    {
     "name": "stdout",
     "output_type": "stream",
     "text": [
      "Q_TTSEM_NOMBRE:Ma réponse : nombrejourdeteletravailmaxparsemaine=0\n",
      "\n",
      "Mon extraction de trois phrases maximum qui répondent à la question :\n",
      "- \"Il n'y a pas de lien entre l'effectif d'un service et le nombre de jour de télétravail, donc ne pas déduire un nombre de jour de télétravail!\"\n",
      "- \"Trois jours de présence sur site et sans autre mention du nombre de jours de télétravail autorisé =  0 jour de télétravail par semaine, a priori!\"\n",
      "- \"Il y a cinq jours ouvrés dans une semaine, donc un nombre de jour de télétravail par semaine ne peut pas être strictement supérieur à cinq.\"\n",
      "\n",
      "Mon raisonnement :\n",
      "Après avoir lu attentivement les documents fournis, je n'ai pas trouvé de paragraphe comportant le mot-clé semaine ou une notion de fréquence par semaine et concernant le nombre de jour de télétravail autorisé. Par conséquent, je ne peux pas répondre à la question posée. Cependant, je peux confirmer que les règles fournies indiquent qu'il n'y a pas de lien entre l'effectif d'un service et le nombre de jours de télétravail, et que sans indication contraire, on peut supposer qu'il n'y a pas de jour de télétravail autorisé. De plus, le nombre de jours de télétravail par semaine ne peut pas être strictement supérieur à cinq.\n",
      "\n",
      "69 T04421009405\n"
     ]
    },
    {
     "name": "stderr",
     "output_type": "stream",
     "text": [
      "Setting `pad_token_id` to `eos_token_id`:2 for open-end generation.\n"
     ]
    },
    {
     "name": "stdout",
     "output_type": "stream",
     "text": [
      "Q_TTSEM_NOMBRE:Ma réponse : nombrejourdeteletravailmaxparsemaine=0\n",
      "\n",
      "Mon extraction de trois phrases maximum qui répondent à la question :\n",
      "- \"Le rythme de télétravail accordé devra permettre minimum 3 jours de présentiel sur site par semaine pour les salariés à temps plein et à temps partiel.\"\n",
      "- \"Le nombre de jours de télétravail est plafonné à 6 jours par mois.\"\n",
      "- \"Il sera possible de télétravailler par demi-journée: Exemple: réunion le matin inter site retour possible au domicile ou en télétravail nomade.\"\n",
      "\n",
      "Mon raisonnement :\n",
      "Les phrases extraites montrent qu'il y a un minimum de 3 jours de présentiel sur site par semaine pour les salariés à temps plein et à temps partiel, et un plafond de 6 jours par mois pour le télétravail. Il n'y a pas de mention explicite d'un nombre maximum de jours de télétravail par semaine, donc je retourne 0 pour nombrejourdeteletravailmaxparsemaine.\n",
      "Il n'y a pas non plus de mention explicite du nombre de jours de présence obligatoire sur site, donc je retourne également 0 pour nombrejoursursiteparsemaine.\n",
      "\n",
      "70 T00321001449\n"
     ]
    },
    {
     "name": "stderr",
     "output_type": "stream",
     "text": [
      "Setting `pad_token_id` to `eos_token_id`:2 for open-end generation.\n"
     ]
    },
    {
     "name": "stdout",
     "output_type": "stream",
     "text": [
      "Q_TTSEM_NOMBRE:Ma réponse : nombrejourdeteletravailmaxparsemaine=1\n",
      "\n",
      "Mon extraction de trois phrases maximum qui répondent à la question :\n",
      "- Article 3 – Règles de maintien du télétravail : « L’employeur accorde un jour de télétravail par semaine »\n",
      "\n",
      "Mon raisonnement :\n",
      "Dans l'article 3, il est stipulé que l'employeur accorde un jour de télétravail par semaine. Par conséquent, un employé peut télétravailler régulièrement jusqu'à 1 jour par semaine.\n",
      "\n",
      "71 T59V21001419\n"
     ]
    },
    {
     "name": "stderr",
     "output_type": "stream",
     "text": [
      "Setting `pad_token_id` to `eos_token_id`:2 for open-end generation.\n"
     ]
    },
    {
     "name": "stdout",
     "output_type": "stream",
     "text": [
      "Q_TTSEM_NOMBRE:Ma réponse : nombrejourdeteletravailmaxparsemaine=1\n",
      "\n",
      "Mon extraction de trois phrases maximum qui répondent à la question :\n",
      "- \"Les 4 journées de télétravail mensuelles autorisées seront à répartir de la façon suivante : 1 jour de télétravail fixe par semaine calendaire, déterminé en accord avec le manager.\"\n",
      "\n",
      "Mon raisonnement :\n",
      "Dans le contexte fourni, il y a bien un paragraphe qui comporte le mot-clé \"semaine\" et qui concerne le nombre de jour de télétravail autorisé. Ce paragraphe indique que les 4 journées de télétravail mensuelles autorisées doivent être réparties de manière à inclure 1 jour de télétravail fixe par semaine calendaire, déterminé en accord avec le manager. Par conséquent, le nombre maximal de jours de télétravail possible par semaine est de 1 jour.\n",
      "\n",
      "72 T07521028253\n"
     ]
    },
    {
     "name": "stderr",
     "output_type": "stream",
     "text": [
      "Setting `pad_token_id` to `eos_token_id`:2 for open-end generation.\n"
     ]
    },
    {
     "name": "stdout",
     "output_type": "stream",
     "text": [
      "Q_TTSEM_NOMBRE:Ma réponse : nombrejourdeteletravailmaxparsemaine=1\n",
      "\n",
      "Mon extraction de trois phrases maximum qui répondent à la question :\n",
      "- \"Dans le respect de ce principe, les salariés peuvent demander à organiser leur rythme de télétravail en déterminant – au maximum – deux journées télétravaillées chaque semaine en moyenne.\"\n",
      "- \"Pour la mise en œuvre au quotidien, un planning sera élaboré avec les managers selon les besoins du service.\"\n",
      "- \"Si elles ne sont pas utilisées, ces journées de télétravail ne sont pas reportables sur la semaine suivante.\"\n",
      "\n",
      "Mon raisonnement :\n",
      "Dans le document, on peut trouver des informations sur le nombre de jours de télétravail autorisés par semaine dans la section \"Organisation du télétravail\". Selon cette section, les salariés peuvent demander à organiser leur rythme de télétravail en déterminant – au maximum – deux journées télétravaillées chaque semaine en moyenne. Cependant, il n'y a pas d'autres informations sur une limite supérieure de jours de télétravail par semaine dans le document. Par conséquent, je peux seulement confirmer qu'un salarié peut télétravailler jusqu'à 1 jour par semaine.\n",
      "\n",
      "73 T05121003407\n"
     ]
    },
    {
     "name": "stderr",
     "output_type": "stream",
     "text": [
      "Setting `pad_token_id` to `eos_token_id`:2 for open-end generation.\n"
     ]
    },
    {
     "name": "stdout",
     "output_type": "stream",
     "text": [
      "Q_TTSEM_NOMBRE:Ma réponse : nombrejourdeteletravailmaxparsemaine=3\n",
      "\n",
      "Mon extraction de trois phrases maximum qui répondent à la question :\n",
      "- \"3.2 - La planification des jours télé-travaillés s’opère par notification au planning sur l’intranet RH, sous respect d’un délai de 30 jours, soit au plus tard le 1er jour du mois précédent pour le mois suivant.\"\n",
      "- \"3.3 - Les jours télé-travaillés ne peuvent être supérieurs à 4 jours par semaine,\"\n",
      "- \"Les 4 journées de télétravail mensuelles autorisées et 1 jour de télétravail fixe par semaine calendaire\"\n",
      "\n",
      "Mon raisonnement :\n",
      "Dans le premier extrait, il est mentionné que la planification des jours télé-travaillés doit se faire par notification au planning sur l'intranet RH, avec un délai de 30 jours, soit au plus tard le 1er jour du mois précédent pour le mois suivant. Cela implique que les jours télé-travaillés ne peuvent excéder 4 jours par semaine.\n",
      "Dans le deuxième extrait, il est confirmé que les jours télé-travaillés ne peuvent être supérieurs à 4 jours par semaine.\n",
      "Dans le troisième extrait, il est mentionné que les salariés ont droit à 4 journées de télétravail mensuelles et 1 jour de télétravail fixe par semaine calendaire. Comme il y a 4 semaines dans un mois, cela correspond à 4 jours de télétravail par semaine.\n",
      "Par conséquent, le nombre maximal de jours de télétravail par semaine est de 3.\n",
      "\n",
      "74 T01321010151\n"
     ]
    },
    {
     "name": "stderr",
     "output_type": "stream",
     "text": [
      "Setting `pad_token_id` to `eos_token_id`:2 for open-end generation.\n"
     ]
    },
    {
     "name": "stdout",
     "output_type": "stream",
     "text": [
      "Q_TTSEM_NOMBRE:Ma réponse : nombrejourdeteletravailmaxparsemaine=0\n",
      "\n",
      "Mon extraction de trois phrases maximum qui répondent à la question :\n",
      "- \"Chaque salarié éligible au télétravail pourra en bénéficier dans la limite d’un jour par semaine.\"\n",
      "- \"Le jour de télétravail sera déterminé par la direction après recueil des desiderata du salarié.\"\n",
      "- \"En tout état de cause, le choix du jour de télétravail sera effectué dans le respect de la limite de télétravailleurs simultanément absents définie au présent accord.\"\n",
      "\n",
      "Mon raisonnement :\n",
      "Dans le contexte fourni, il est indiqué que chaque salarié éligible au télétravail pourra en bénéficier dans la limite d'un jour par semaine. Cette limite est confirmée par la phrase \"Le jour de télétravail sera déterminé par la direction après recueil des desiderata du salarié\" et \"En tout état de cause, le choix du jour de télétravail sera effectué dans le respect de la limite de télétravailleurs simultanément absents définie au présent accord\". Ainsi, le nombre maximal de jours de télétravail par semaine est de 1 jour.\n",
      "\n",
      "Donc, nombrejourdeteletravailmaxparsemaine=1\n",
      "\n",
      "Il n'y a pas d'indication de jours de présence obligatoire sur site dans le contexte fourni, donc :\n",
      "\n",
      "nombrejoursursiteparsemaine=0\n",
      "\n",
      "75 T09221026340\n"
     ]
    },
    {
     "name": "stderr",
     "output_type": "stream",
     "text": [
      "Setting `pad_token_id` to `eos_token_id`:2 for open-end generation.\n"
     ]
    },
    {
     "name": "stdout",
     "output_type": "stream",
     "text": [
      "Q_TTSEM_NOMBRE:Ma réponse : nombrejourdeteletravailmaxparsemaine=0\n",
      "\n",
      "Mon extraction de trois phrases maximum qui répondent à la question :\n",
      "- \"Tout salarié s’inscrivant dans le dispositif de télétravail habituel devra exercer son métier a minima deux (2) jours par semaine sur son Lieu de référence.\"\n",
      "- \"Le nombre de jours télétravaillables peut donc varier de zéro (0) à trois (3) jours par semaine au maximum,\"\n",
      "- \"Par ailleurs, le manager fixe la journée où toute l’équipe est au bureau de manière récurrente.\"\n",
      "\n",
      "Mon raisonnement :\n",
      "Les phrases extraites montrent qu'un salarié doit être présent deux jours par semaine sur son lieu de référence, et que le nombre de jours télétravaillables peut varier de zéro à trois jours par semaine. Cependant, le manager peut fixer une journée où toute l'équipe est au bureau de manière récurrente, ce qui implique que les salariés ne peuvent pas télétravailler ce jour-là. Par conséquent, le nombre maximal de jours de télétravail par semaine est de deux. De plus, il n'y a pas d'indication de jours de présence obligatoire sur site dans les phrases extraites, je ne peux donc pas répondre à la variable supplémentaire 'nombrejoursursiteparsemaine'.\n",
      "\n",
      "76 T97421003113\n"
     ]
    },
    {
     "name": "stderr",
     "output_type": "stream",
     "text": [
      "Setting `pad_token_id` to `eos_token_id`:2 for open-end generation.\n"
     ]
    },
    {
     "name": "stdout",
     "output_type": "stream",
     "text": [
      "Q_TTSEM_NOMBRE:Ma réponse : nombrejourdeteletravailmaxparsemaine=1\n",
      "\n",
      "Mon extraction de trois phrases maximum qui répondent à la question :\n",
      "- \"Le télétravail s’exercera à raison d’un jour non fractionnable par semaine\"\n",
      "- \"Il définira ces deux jours fixes hebdomadaires de la façon la plus durable possible.\"\n",
      "- \"Il revient au manager de partager un planning d’équipe permettant de visualiser les jours de travail en présentiel et à distance de chacun des collaborateurs.\"\n",
      "\n",
      "Mon raisonnement :\n",
      "Dans le document fourni, il est stipulé que \"Le télétravail s’exercera à raison d’un jour non fractionnable par semaine\". De plus, il est indiqué que \"Afin de conserver la cohésion de son équipe et permettre une mise en œuvre facilitée du télétravail, le manager veillera à maintenir deux jours par semaine de présence sur le site d’appartenance\". Cela signifie qu'un employé peut télétravailler un jour par semaine, et qu'il doit être présent sur site deux jours par semaine.\n",
      "\n",
      "77 T02921004425\n"
     ]
    },
    {
     "name": "stderr",
     "output_type": "stream",
     "text": [
      "Setting `pad_token_id` to `eos_token_id`:2 for open-end generation.\n"
     ]
    },
    {
     "name": "stdout",
     "output_type": "stream",
     "text": [
      "Q_TTSEM_NOMBRE:Ma réponse : nombrejourdeteletravailmaxparsemaine=4, nombrejoursursiteparsemaine=1\n",
      "\n",
      "Mon extraction de trois phrases maximum qui répondent à la question :\n",
      "- \"Le nombre de journée de travail est de 4 par mois mais non consécutives\"\n",
      "- \"Un groupe de travail au sein de Thai Union Europe a été mis en place en début d’année 2021. L’objectif de ce groupe de travail est de mettre en place ou faire évoluer les accords de télétravail des différentes entités en tenant compte du retour d’expérience de l’année 2020. Objectif mise en place d’un nouvel accord de télétravail sur le 1er semestre 2021.\"\n",
      "\n",
      "Mon raisonnement :\n",
      "Dans le document, il est indiqué que le nombre de journée de travail à distance est de 4 par mois mais non consécutives. Comme il n'y a pas de période de référence pour ces 4 jours (par exemple, par semaine ou par trimestre), je ne peux pas utiliser cette information pour répondre à la question.\n",
      "Cependant, il est également indiqué qu'un groupe de travail a été mis en place en début d'année 2021 avec pour objectif de mettre en place un nouvel accord de télétravail sur le 1er semestre 2021. Cela implique qu'un nouvel accord sera en vigueur prochainement, ce qui signifie que les informations actuelles sur le télétravail peuvent ne plus être valides.\n",
      "Cependant, en utilisant les informations actuelles, nous pouvons déduire que, comme il y a 4 semaines dans un mois, un employé peut théoriquement télétravailler 4 jours par semaine. Cependant, comme il est indiqué que les jours de télétravail ne sont pas consécutifs, nous devons supposer que l'employé doit être présent sur site au moins un jour par semaine. Par conséquent, le nombre maximal de jours de télétravail par semaine est de 4, et le nombre minimal de jours de présence sur site est de 1.\n",
      "\n",
      "78 T01121001341\n"
     ]
    },
    {
     "name": "stderr",
     "output_type": "stream",
     "text": [
      "Setting `pad_token_id` to `eos_token_id`:2 for open-end generation.\n"
     ]
    },
    {
     "name": "stdout",
     "output_type": "stream",
     "text": [
      "Q_TTSEM_NOMBRE:Ma réponse : nombrejourdeteletravailmaxparsemaine=0\n",
      "\n",
      "Mon extraction de trois phrases maximum qui répondent à la question :\n",
      "- \"La mise en œuvre du télétravail au sein de la MSA Grand Sud est encadrée par l’accord du 3 septembre 2020.\"\n",
      "- \"Cet accord arrivant à échéance le 31 août 2021\"\n",
      "- \"Le présent accord vise à proroger les dispositions de l'accord d'entreprise du 3 septembre 2020\"\n",
      "\n",
      "Mon raisonnement :\n",
      "Dans le texte fourni, il n'y a pas de paragraphe qui comporte le mot-clé \"semaine\" ou une notion de fréquence par semaine et qui concerne le nombre de jours de télétravail autorisé. Par conséquent, je ne peux pas déterminer jusqu'à combien de jours possibles de télétravail un employé peut télétravailler régulièrement par semaine. Je renvoie donc la variable 'nombrejourdeteletravailmaxparsemaine' à 0.\n",
      "\n",
      "79 T09221027244\n"
     ]
    },
    {
     "name": "stderr",
     "output_type": "stream",
     "text": [
      "Setting `pad_token_id` to `eos_token_id`:2 for open-end generation.\n"
     ]
    },
    {
     "name": "stdout",
     "output_type": "stream",
     "text": [
      "Q_TTSEM_NOMBRE:Ma réponse : nombrejourdeteletravailmaxparsemaine=1\n",
      "\n",
      "Mon extraction de trois phrases maximum qui répondent à la question :\n",
      "- \"Le nombre de jours de télétravail est fixé à 1 par semaine pour tous.\"\n",
      "- \"Le salarié doit remplir les conditions cumulatives suivantes : [...] Travailler sur un temps de travail supérieur à 77,78% (minimum 7 vacations hebdomadaires de travail)\"\n",
      "- \"Les plages horaires pendant lesquelles le salarié peut être contacté par l’ACMS (hiérarchie, collègues …) sont déterminées par l’horaire habituel de fonctionnement du service ou du secteur. Le salarié s’engage donc à être disponible sur l’ensemble des horaires habituels.\"\n",
      "\n",
      "Mon raisonnement :\n",
      "Dans le contexte fourni, je n'ai trouvé qu'un seul paragraphe qui comporte le mot-clé \"semaine\" et qui concerne le nombre de jour de télétravail autorisé. Il s'agit du paragraphe \"2.1.1 - Emplois éligibles au télétravail, nombre de jours de télétravail\". Dans ce paragraphe, il est indiqué que \"Le nombre de jours de télétravail est fixé à 1 par semaine pour tous.\". Par conséquent, le nombre maximal de jours de télétravail par semaine est de 1.\n",
      "\n",
      "80 T07521030172\n"
     ]
    },
    {
     "name": "stderr",
     "output_type": "stream",
     "text": [
      "Setting `pad_token_id` to `eos_token_id`:2 for open-end generation.\n"
     ]
    },
    {
     "name": "stdout",
     "output_type": "stream",
     "text": [
      "Q_TTSEM_NOMBRE:Ma réponse : nombrejourdeteletravailmaxparsemaine=0\n",
      "\n",
      "Mon extraction de trois phrases maximum qui répondent à la question :\n",
      "- \"Les autres dispositions de l’accord prorogé demeurent inchangées.\"\n",
      "- \"Le présent avenant entre en vigueur à compter du 1er avril 2021.\"\n",
      "- \"Le présent avenant est signé pour une durée déterminée de trois mois. Il cessera de plein droit de produire effet au 30 juin 2021.\"\n",
      "\n",
      "Mon raisonnement :\n",
      "Il n'y a aucune mention explicite du nombre de jours de télétravail autorisés par semaine dans le texte fourni. Les seules mentions relatives au télétravail concernent la durée de validité de l'avenant et les modalités de sa signature. Il n'y a donc pas suffisamment d'informations pour déterminer le nombre maximal de jours de télétravail par semaine.\n",
      "\n",
      "81 T09221025188\n"
     ]
    },
    {
     "name": "stderr",
     "output_type": "stream",
     "text": [
      "Setting `pad_token_id` to `eos_token_id`:2 for open-end generation.\n"
     ]
    },
    {
     "name": "stdout",
     "output_type": "stream",
     "text": [
      "Q_TTSEM_NOMBRE:Ma réponse : nombrejourdeteletravailmaxparsemaine=0\n",
      "\n",
      "Mon extraction de trois phrases maximum qui répondent à la question :\n",
      "- \"Les salariés éligibles ont la possibilité de bénéficier du télétravail sous réserve de respecter un temps de présence minimum sur site de 170 jours par an et par salariés.\"\n",
      "- \"La planification des journées de télétravail sera effectuée par le salarié et le manager d’un commun accord de la manière suivante\"\n",
      "- \"Le salarié ne pourra pas prendre plus de 3 jours consécutifs de télétravail et les journées de télétravail devront être prises par journée entière\"\n",
      "\n",
      "Mon raisonnement :\n",
      "Les phrases extraites montrent qu'il n'y a pas de mention explicite du nombre de jours de télétravail autorisés par semaine dans le texte fourni. De plus, il est précisé que les salariés doivent respecter un temps de présence minimum sur site de 170 jours par an et par salariés, ce qui implique que le nombre de jours de télétravail par semaine est limité. Cependant, il n'est pas possible de déterminer exactement combien de jours de télétravail sont autorisés par semaine sans informations complémentaires. Par conséquent, je retourne la variable 'nombrejourdeteletravailmaxparsemaine' à 0.\n",
      "\n",
      "82 T09221025957\n"
     ]
    },
    {
     "name": "stderr",
     "output_type": "stream",
     "text": [
      "Setting `pad_token_id` to `eos_token_id`:2 for open-end generation.\n"
     ]
    },
    {
     "name": "stdout",
     "output_type": "stream",
     "text": [
      "Q_TTSEM_NOMBRE:Ma réponse : nombrejourdeteletravailmaxparsemaine=0\n",
      "\n",
      "Mon extraction de trois phrases maximum qui répondent à la question :\n",
      "- \"Le présent accord est renouvelé pour une durée de (3) trois mois, soit jusqu’au 31 mai 2021.\"\n",
      "- \"Il cessera de produire définitivement et irrévocablement ses effets à la date du 31 mai 2021.\"\n",
      "- \"Les autres dispositions de l’Accord demeurent inchangées.\"\n",
      "\n",
      "Mon raisonnement :\n",
      "Aucune information concernant le nombre de jours de télétravail autorisé par semaine n'est mentionnée dans le document fourni. Par conséquent, je ne peux pas attribuer de valeur à la variable 'nombrejourdeteletravailmaxparsemaine'. De plus, aucune mention de jours de présence obligatoire sur site n'est faite, donc je ne peux pas non plus attribuer de valeur à la variable 'nombrejoursursiteparsemaine'.\n",
      "\n",
      "83 T03321006914\n"
     ]
    },
    {
     "name": "stderr",
     "output_type": "stream",
     "text": [
      "Setting `pad_token_id` to `eos_token_id`:2 for open-end generation.\n"
     ]
    },
    {
     "name": "stdout",
     "output_type": "stream",
     "text": [
      "Q_TTSEM_NOMBRE:Ma réponse : nombrejourdeteletravailmaxparsemaine=1\n",
      "\n",
      "Mon extraction de trois phrases maximum qui répondent à la question :\n",
      "- \"La possibilité de télétravailler est ouverte aux seuls postes pour lesquels les activités sont compatibles avec ce mode d’organisation du travail.\"\n",
      "- \"Lorsqu’un poste est éligible au télétravail, les modalités d’organisation du télétravail devront être compatibles avec les obligations de service, le bon fonctionnement de l’équipe et de l’entité concernée.\"\n",
      "- \"Le télétravail doit s’effectuer dans un espace de travail adapté, disposant d’une connexion internet haut débit et d’un réseau de téléphonie accessible, équipé d’une installation électrique conforme à la réglementation en vigueur et assuré pour l’usage considéré.\"\n",
      "\n",
      "Mon raisonnement :\n",
      "Après avoir lu attentivement les documents fournis, je n'ai trouvé qu'une seule phrase qui mentionne explicitement le nombre de jours de télétravail autorisés par semaine, qui est la phrase \"Lorsque l’activité le nécessite et à titre exceptionnel, le Salarié pourra être amené à renoncer à sa journée de télétravail de sa propre initiative ou de celle de la Direction. Si tel était le cas, un délai de prévenance de SEPT (7) jours devra être respecté pour informer l’autre partie.\". Cette phrase indique clairement qu'un salarié peut télétravailler jusqu'à 1 jour par semaine. Cependant, il est important de noter que cette phrase mentionne également que ce nombre de jours peut être exceptionnellement modifié en fonction des besoins de l'activité et après un délai de prévenance de 7 jours. Par conséquent, je recommande de vérifier auprès de la direction ou du responsable des ressources humaines pour confirmer le nombre actuel de jours de télétravail autorisés par semaine.\n",
      "\n",
      "84 T05721004854\n"
     ]
    },
    {
     "name": "stderr",
     "output_type": "stream",
     "text": [
      "Setting `pad_token_id` to `eos_token_id`:2 for open-end generation.\n"
     ]
    },
    {
     "name": "stdout",
     "output_type": "stream",
     "text": [
      "Q_TTSEM_NOMBRE:Ma réponse : nombrejourdeteletravailmaxparsemaine=0\n",
      "\n",
      "Mon extraction de trois phrases maximum qui répondent à la question :\n",
      "- \"Le télétravail flexible ne donne pas lieu à un avenant au contrat de travail du salarié.\"\n",
      "- \"Le salarié qui remplit les critères d'éligibilité et qui souhaite bénéficier du télétravail en fait la demande par mail à son supérieur hiérarchique en respectant un délai de prévenance d'une semaine minimum.\"\n",
      "- \"Le télétravail repose sur une relation de confiance entre le salarié et son responsable hiérarchique, mais également la faculté pour ce dernier de pouvoir apprécier les résultats du salarié par rapport aux objectifs fixés.\"\n",
      "\n",
      "Mon raisonnement :\n",
      "Après avoir lu attentivement les documents fournis, je n'ai pas trouvé de paragraphe contenant le mot-clé \"semaine\" ou une notion de fréquence par semaine et concernant le nombre de jours de télétravail autorisé. De plus, les informations fournies ne permettent pas de déduire un nombre maximum de jours de télétravail par semaine. Par conséquent, je retourne la variable \"nombrejourdeteletravailmaxparsemaine\" à 0.\n",
      "\n",
      "85 T09121006419\n"
     ]
    },
    {
     "name": "stderr",
     "output_type": "stream",
     "text": [
      "Setting `pad_token_id` to `eos_token_id`:2 for open-end generation.\n"
     ]
    },
    {
     "name": "stdout",
     "output_type": "stream",
     "text": [
      "Q_TTSEM_NOMBRE:Ma réponse : nombrejourdeteletravailmaxparsemaine=2\n",
      "\n",
      "Mon extraction de trois phrases maximum qui répondent à la question :\n",
      "- \"Les parties fixent le nombre de jour de télétravail à deux jours maximum par semaine.\"\n",
      "- \"Chaque responsable de service transmettra à la Directrice des Ressources Humaines un planning mensuel.\"\n",
      "- \"A titre exceptionnel, en raison de nécessité de service, certaines journées initialement prévues en télétravail pourront être effectuées sur site à la demande du salarié ou à la demande du Responsable de Service.\"\n",
      "\n",
      "Mon raisonnement :\n",
      "Dans le premier paragraphe, il est clairement stipulé que le nombre de jour de télétravail est fixé à deux jours maximum par semaine. Cette information est confirmée dans le troisième paragraphe où il est mentionné que des journées initialement prévues en télétravail peuvent être effectuées sur site, ce qui implique que le nombre maximal de jours de télétravail est de deux par semaine.\n",
      "\n",
      "86 T05121003353\n"
     ]
    },
    {
     "name": "stderr",
     "output_type": "stream",
     "text": [
      "Setting `pad_token_id` to `eos_token_id`:2 for open-end generation.\n"
     ]
    },
    {
     "name": "stdout",
     "output_type": "stream",
     "text": [
      "Q_TTSEM_NOMBRE:Ma réponse : nombrejourdeteletravailmaxparsemaine=0\n",
      "\n",
      "Mon extraction de trois phrases maximum qui répondent à la question :\n",
      "- \"Il est convenu que le nombre de salarié en télétravail un jour donné ne dépasse pas 50% de l’effectif du service concerné.\"\n",
      "- \"Le refus de... sera motivé si le salarié occupe un poste éligible au télétravail\"\n",
      "- \"Le passage au télétravail ne peut pas être imposé au salarié par l’employeur et inversement, sauf en cas de circonstances exceptionnelles\"\n",
      "\n",
      "Mon raisonnement :\n",
      "Les phrases extraites ne comportent pas de mention de la fréquence hebdomadaire de télétravail, ni de notion de semaine associée au nombre de jours de télétravail. Par conséquent, je ne peux pas attribuer de valeur à la variable 'nombrejourdeteletravailmaxparsemaine'. De plus, rien n'indique dans le texte que les salariés doivent être présents sur site un certain nombre de jours par semaine. Je retourne donc la variable 'nombrejourdeteletravailmaxparsemaine' à 0 et la variable 'nombrejoursursiteparsemaine' également à 0.\n",
      "\n",
      "87 T02921004527\n"
     ]
    },
    {
     "name": "stderr",
     "output_type": "stream",
     "text": [
      "Setting `pad_token_id` to `eos_token_id`:2 for open-end generation.\n"
     ]
    },
    {
     "name": "stdout",
     "output_type": "stream",
     "text": [
      "Q_TTSEM_NOMBRE:Ma réponse : nombrejourdeteletravailmaxparsemaine=2\n",
      "\n",
      "Mon extraction de trois phrases maximum qui répondent à la question :\n",
      "- \"Le salarié peut télétravailler au maximum 2 jours par semaine.\"\n",
      "- \"A titre dérogatoire et de façon temporaire, ce plafond pourra être augmenté sur demande du salarié en raison d'une situation individuelle particulière (état de grossesse, contrainte médicale rendant impossible la conduite, par exemple).\"\n",
      "- \"Le nombre de jours et les jours de télétravail sont fixés, d’un commun accord entre le salarié et le manager, en fonction de l’organisation de la structure et de l’activité des salariés en situation de télétravail.\"\n",
      "\n",
      "Mon raisonnement :\n",
      "Dans le document, il est indiqué que \"Le salarié peut télétravailler au maximum 2 jours par semaine.\" Cette phrase indique clairement que le nombre maximal de jours de télétravail par semaine est de 2. Cependant, il est également mentionné que ce plafond peut être augmenté de manière temporaire et dérogatoire en cas de situation individuelle particulière. Enfin, il est précisé que le nombre de jours et les jours de télétravail sont fixés d'un commun accord entre le salarié et le manager en fonction de l'organisation de la structure et de l'activité des salariés en situation de télétravail. Néanmoins, rien dans le texte ne suggère que ce nombre puisse dépasser 2 jours par semaine, même en cas de situation dérogatoire. Par conséquent, je considère que le nombre maximal de jours de télétravail par semaine est de 2.\n",
      "\n",
      "88 T04221004677\n"
     ]
    },
    {
     "name": "stderr",
     "output_type": "stream",
     "text": [
      "Setting `pad_token_id` to `eos_token_id`:2 for open-end generation.\n"
     ]
    },
    {
     "name": "stdout",
     "output_type": "stream",
     "text": [
      "Q_TTSEM_NOMBRE:Ma réponse : nombrejourdeteletravailmaxparsemaine=0\n",
      "\n",
      "Mon extraction de trois phrases maximum qui répondent à la question :\n",
      "- \"Sous ces réserves, tous les salariés en CDI et CDD, qu’ils soient sédentaires ou itinérants, sont éligibles au télétravail sauf si l’exercice de leur emploi nécessite une présence sur site.\"\n",
      "- \"Le salarié sédentaire choisit un des 2 modèles suivants en accord avec son responsable hiérarchique.\"\n",
      "- \"Modèle hebdomadaire Le salarié doit être au minimum 2 jours par semaine en présentiel au bureau (soit 1 à 3 jours de télétravail par semaine)\"\n",
      "\n",
      "Mon raisonnement :\n",
      "Les phrases extraites montrent que le document ne contient pas de mention explicite d'un nombre maximal de jours de télétravail par semaine, sauf pour le modèle hebdomadaire du télétravail qui permet un maximum de 3 jours de télétravail par semaine. Cependant, cette information ne permet pas de conclure qu'il s'agit d'un maximum pour tous les salariés, car elle dépend du choix du salarié et de son responsable hiérarchique. De plus, il n'y a pas d'indication que ce choix est limité à ce modèle, ou que d'autres modalités de télétravail ne permettraient pas plus de jours de télétravail par semaine. Par conséquent, je ne peux pas conclure à l'existence d'un nombre maximal de jours de télétravail par semaine pour tous les salariés.\n",
      "\n",
      "89 T01421004104\n"
     ]
    },
    {
     "name": "stderr",
     "output_type": "stream",
     "text": [
      "Setting `pad_token_id` to `eos_token_id`:2 for open-end generation.\n"
     ]
    },
    {
     "name": "stdout",
     "output_type": "stream",
     "text": [
      "Q_TTSEM_NOMBRE:Ma réponse : nombrejourdeteletravailmaxparsemaine=0\n",
      "\n",
      "Mon extraction de trois phrases maximum qui répondent à la question :\n",
      "\n",
      "* \"Le télétravail est un mode d’organisation de l’entreprise qui participe activement à la démarche de prévention du risque d’infection au SARS-CoV-2 et permet de limiter les interactions sociales aux abords des lieux de travail et sur les trajets domicile travail\"\n",
      "* \"Il doit être la règle pour l’ensemble des activités qui le permettent\"\n",
      "* \"L’évolution de la situation sanitaire Covid-19 ne permet toujours pas d’envisager un retour de tous les salariés à 100% sur le site.\"\n",
      "\n",
      "Mon raisonnement :\n",
      "\n",
      "Dans le texte fourni, il n'y a pas de mention explicite du nombre de jours de télétravail autorisés par semaine. Les phrases extraites montrent que le télétravail est recommandé lorsque cela est possible, mais aucun cadre réglementaire n'est donné quant au nombre de jours maximum par semaine. Par conséquent, je ne peux pas affecter de valeur à la variable 'nombrejourdeteletravailmaxparsemaine' et je la laisse à 0.\n",
      "\n",
      "90 T07421004072\n"
     ]
    },
    {
     "name": "stderr",
     "output_type": "stream",
     "text": [
      "Setting `pad_token_id` to `eos_token_id`:2 for open-end generation.\n",
      "Created a chunk of size 5508, which is longer than the specified 5000\n",
      "Created a chunk of size 5679, which is longer than the specified 5000\n",
      "Created a chunk of size 7755, which is longer than the specified 5000\n"
     ]
    },
    {
     "name": "stdout",
     "output_type": "stream",
     "text": [
      "Q_TTSEM_NOMBRE:Ma réponse : nombrejourdeteletravailmaxparsemaine=1\n",
      "\n",
      "Mon extraction de trois phrases maximum qui répondent à la question :\n",
      "- \"Le télétravail pourra s’effectuer sur une demi-journée au minimum et au maximum 1 journée par semaine\"\n",
      "- \"Le télétravail ne peut donc être que partiel.\"\n",
      "- \"Cette journée ou demi-journée de télétravail est non sécable, non reportable et non cumulable.\"\n",
      "\n",
      "Mon raisonnement :\n",
      "Dans le contexte fourni, je suis capable d'extraire l'information relative au nombre de jours de télétravail autorisés par semaine. Ce nombre est explicitement indiqué dans le premier paragraphe extrait comme étant de 1 jour par semaine. Cette information est confirmée dans les deux paragraphes suivants qui précisent que le télétravail ne peut être que partiel et que la journée ou demi-journée de télétravail est non sécable, non reportable et non cumulable, ce qui suggère qu'il s'agit d'un maximum hebdomadaire. Par conséquent, je peux conclure que le nombre maximal de jours de télétravail autorisés par semaine est de 1.\n",
      "\n",
      "Je ne trouve pas d'information sur le nombre de jours de présence obligatoire sur site dans le contexte fourni, par conséquent je ne peux pas répondre à la question supplémentaire.\n",
      "\n",
      "91 T01421004303\n"
     ]
    },
    {
     "name": "stderr",
     "output_type": "stream",
     "text": [
      "Setting `pad_token_id` to `eos_token_id`:2 for open-end generation.\n"
     ]
    },
    {
     "name": "stdout",
     "output_type": "stream",
     "text": [
      "Q_TTSEM_NOMBRE:Ma réponse : nombrejourdeteletravailmaxparsemaine=3\n",
      "\n",
      "Mon extraction de trois phrases maximum qui répondent à la question :\n",
      "\n",
      "* \"Le télétravail pourra être exercé trois jours par semaine maximum.\"\n",
      "* \"Dans le cadre de l’accord individuel au télétravail, le manager et le télétravailleur déterminent ensemble la plage horaire pendant laquelle le salarié doit être joignable à tout moment par l’association.\"\n",
      "* \"Le télétravailleur reste tenu, même pendant les jours de télétravail, de se rendre dans les locaux de l'entreprise pour participer aux formations, évènements et réunions de travail organisées pour le bon fonctionnement du service.\"\n",
      "\n",
      "Mon raisonnement :\n",
      "\n",
      "* La première phrase indique clairement que le télétravail peut être exercé jusqu'à 3 jours par semaine.\n",
      "* Les deuxième et troisième phrases ne contiennent pas d'information pertinente pour la question posée.\n",
      "\n",
      "92 T07321002999\n"
     ]
    },
    {
     "name": "stderr",
     "output_type": "stream",
     "text": [
      "Setting `pad_token_id` to `eos_token_id`:2 for open-end generation.\n"
     ]
    },
    {
     "name": "stdout",
     "output_type": "stream",
     "text": [
      "Q_TTSEM_NOMBRE:Ma réponse : nombrejourdeteletravailmaxparsemaine=1, nombrejoursursiteparsemaine=3\n",
      "\n",
      "Mon extraction de trois phrases maximum qui répondent à la question :\n",
      "- \"Compte tenu de l’importance du maintien du lien avec la communauté de travail, les salariés devront être présents a minima 3 jours par semaine dans les locaux au sein desquels les salariés exercent habituellement leur activité, et le télétravail ne pourra se faire que dans la limite d’1 jour par semaine\"\n",
      "\n",
      "Mon raisonnement :\n",
      "Dans le contexte fourni, on recherche le nombre maximal de jours de télétravail autorisés par semaine. On trouve une phrase qui indique que \"le télétravail ne pourra se faire que dans la limite d’1 jour par semaine\". Cette information est confirmée par la métadonnée \"source\" qui est identique pour tous les documents fournis, ce qui indique qu'il s'agit du même accord d'entreprise. On en déduit que nombrejourdeteletravailmaxparsemaine=1.\n",
      "De plus, la même phrase indique que \"les salariés devront être présents a minima 3 jours par semaine dans les locaux\". On en déduit que nombrejoursursiteparsemaine=3.\n",
      "\n",
      "93 T09321006658\n"
     ]
    },
    {
     "name": "stderr",
     "output_type": "stream",
     "text": [
      "Setting `pad_token_id` to `eos_token_id`:2 for open-end generation.\n"
     ]
    },
    {
     "name": "stdout",
     "output_type": "stream",
     "text": [
      "Q_TTSEM_NOMBRE:Ma réponse : nombrejourdeteletravailmaxparsemaine=2\n",
      "\n",
      "Mon extraction de trois phrases maximum qui répondent à la question :\n",
      "- \"Pour maintenir le lien social avec la communauté de travail, le présent accord prévoit jusqu’à deux jours de télétravail par semaine pour une semaine de travail ‘standard’ (avec cinq jours ouvrés).\"\n",
      "- \"Des dérogations temporaires sont possibles afin de permettre un télétravail jusqu’à 100%. Ces dérogations ne sont possibles que pour les salariés éligibles au télétravail et : sur préconisations du médecin du travail ou dans le cadre d’ activités spécifiques pour la direction des services informatiques.\"\n",
      "- \"Selon l’organisation de l’équipe et les besoins de l’activité, les jours de télétravail peuvent être fixes ou flexibles. Dans tous les cas il s’agit de journées entières en télétravail.\"\n",
      "\n",
      "Mon raisonnement :\n",
      "Le document indique que le télétravail peut être effectué jusqu'à deux jours par semaine standard, c'est-à-dire cinq jours ouvrés. Ce nombre est explicite et ne nécessite pas de calcul supplémentaire. Il n'y a pas d'autres mentions de fréquence hebdomadaire dans le document qui concernent le nombre de jours de télétravail autorisés.\n",
      "\n",
      "94 T01321011558\n"
     ]
    },
    {
     "name": "stderr",
     "output_type": "stream",
     "text": [
      "Setting `pad_token_id` to `eos_token_id`:2 for open-end generation.\n"
     ]
    },
    {
     "name": "stdout",
     "output_type": "stream",
     "text": [
      "Q_TTSEM_NOMBRE:Ma réponse : nombrejourdeteletravailmaxparsemaine=1\n",
      "\n",
      "Mon extraction de trois phrases maximum qui répondent à la question :\n",
      "- \"Les jours de télétravail seront fixés selon les modalités suivantes : 1 jour par semaine.\"\n",
      "\n",
      "Mon raisonnement :\n",
      "Dans le document, il y a une phrase qui indique clairement le nombre de jours de télétravail autorisé par semaine, qui est de 1 jour. Il n'y a pas d'autres phrases qui mentionnent le nombre de jours de télétravail par semaine, donc je suis certain que c'est la bonne réponse.\n",
      "\n",
      "95 T03121008748\n"
     ]
    },
    {
     "name": "stderr",
     "output_type": "stream",
     "text": [
      "Setting `pad_token_id` to `eos_token_id`:2 for open-end generation.\n"
     ]
    },
    {
     "name": "stdout",
     "output_type": "stream",
     "text": [
      "Q_TTSEM_NOMBRE:Ma réponse : nombrejourdeteletravailmaxparsemaine=1\n",
      "\n",
      "Mon extraction de trois phrases maximum qui répondent à la question :\n",
      "- \"Le Salarié pourra effectuer jusqu’à 45 jours de télétravail par année civile.\"\n",
      "- \"La répartition de ces jours sur l’année civile s’effectuera par journée entière sur la base d’une journée par semaine.\"\n",
      "- \"Par exception, les salariés d’un service spécifique [...] pourront bénéficier d’une autorisation de télétravail par semaine entière dans la limite de 9 semaines par an\"\n",
      "\n",
      "Mon raisonnement :\n",
      "Le premier extrait indique que le salarié peut effectuer jusqu'à 45 jours de télétravail par année civile. Le deuxième extrait précise que la répartition de ces jours se fait par journée entière sur la base d'une journée par semaine. Donc, le nombre maximal de jours de télétravail par semaine est de 1 jour. Cependant, il existe une exception pour les salariés d'un service spécifique qui peuvent bénéficier d'une autorisation de télétravail par semaine entière dans la limite de 9 semaines par an, ce qui correspond à 1 jour par semaine également. Il n'y a pas d'indication de jours de présence obligatoire sur site dans le texte fourni, donc nombrejoursursiteparsemaine=0.\n",
      "\n",
      "96 T59V21001382\n"
     ]
    },
    {
     "name": "stderr",
     "output_type": "stream",
     "text": [
      "Setting `pad_token_id` to `eos_token_id`:2 for open-end generation.\n"
     ]
    },
    {
     "name": "stdout",
     "output_type": "stream",
     "text": [
      "Q_TTSEM_NOMBRE:Ma réponse : nombrejourdeteletravailmaxparsemaine=0\n",
      "\n",
      "Mon extraction de trois phrases maximum qui répondent à la question :\n",
      "- \"La Direction propose de mettre en place des règles et une prime au travers d’une politique Groupe. La prime de télétravail est fixée à 10 euros par mois pour les fonctions permettant le télétravail et calculée au prorata du temps de présence si nécessaire.\"\n",
      "- \"La Direction propose qu’à compter du 7ème samedi effectué sur l’année, les heures à récupérer dans ce cadre seront majorées à 25%\"\n",
      "- \"La Direction propose de commencer à prorater la prime d’objectifs lorsque le salarié est absent au moins 3 mois sur l’année civile (absences continues ou discontinues)\"\n",
      "\n",
      "Mon raisonnement :\n",
      "Dans les documents fournis, je n'ai pas trouvé de paragraphe contenant le mot-clé \"semaine\" ou une notion de fréquence par semaine et concernant le nombre de jour de télétravail autorisé de manière régulière. Par conséquent, je réponds \"nombrejourdeteletravailmaxparsemaine=0\". En effet, dans les demandes formulées par les différents syndicats, aucune n'aborde spécifiquement la question du nombre maximal de jours de télétravail par semaine. De plus, la direction propose uniquement des mesures relatives à la prime de télétravail, à la récupération des heures supplémentaires et à la proratisation de la prime d'objectifs, mais aucune ne précise le nombre maximal de jours de télétravail par semaine.\n",
      "\n",
      "97 T05721004198\n"
     ]
    },
    {
     "name": "stderr",
     "output_type": "stream",
     "text": [
      "Setting `pad_token_id` to `eos_token_id`:2 for open-end generation.\n"
     ]
    },
    {
     "name": "stdout",
     "output_type": "stream",
     "text": [
      "Q_TTSEM_NOMBRE:Ma réponse : nombrejourdeteletravailmaxparsemaine=0, nombrejoursursiteparsemaine=3\n",
      "\n",
      "Mon extraction de trois phrases maximum qui répondent à la question :\n",
      "- \"Le télétravail est limité à 2 jours maximum par semaine\"\n",
      "- \"le salarié devra être présent 3 jours par semaine sur le site de l’entreprise\"\n",
      "- \"dans les services constitués de plusieurs collaborateurs, chaque jour, un membre du service devra être présent\"\n",
      "\n",
      "Mon raisonnement :\n",
      "Les phrases extraites indiquent que le télétravail est limité à 2 jours maximum par semaine, que le salarié doit être présent 3 jours par semaine sur le site de l'entreprise et qu'un membre du service doit être présent chaque jour. Cela implique que le nombre maximal de jours de télétravail par semaine est de 2 et que le nombre minimal de jours sur site est de 3.\n",
      "\n",
      "98 T02921005002\n"
     ]
    },
    {
     "name": "stderr",
     "output_type": "stream",
     "text": [
      "Setting `pad_token_id` to `eos_token_id`:2 for open-end generation.\n"
     ]
    },
    {
     "name": "stdout",
     "output_type": "stream",
     "text": [
      "Q_TTSEM_NOMBRE:Ma réponse : nombrejourdeteletravailmaxparsemaine=1\n",
      "\n",
      "Mon extraction de trois phrases maximum qui répondent à la question :\n",
      "- \"Il est proposé via une formule de télétravail à jours fixes ou flexibles, le choix de la formule s’effectuant en concertation entre le télétravailleur et le manager selon les besoins liés à l’activité.\"\n",
      "- \"Le télétravail s’organise chez SWM par journée ou par demi-journée, sous réserve de respecter une obligation de 2 jours de présence par semaine minimum sur le site de rattachement habituel.\"\n",
      "- \"Un maximum de 2 jours par semaine, et de 2 demi-journées pouvant être cumulées sur une même journée au cours de la même semaine.\"\n",
      "\n",
      "Mon raisonnement :\n",
      "Dans le premier extrait, il est mentionné que le télétravail s'organise par journée ou demi-journée avec une obligation de 2 jours de présence sur site par semaine. Ceci implique que le nombre maximal de jour de télétravail par semaine est de 3.\n",
      "Cette information est confirmée dans le deuxième extrait où il est précisé que le télétravail s'organise par journée ou demi-journée avec une obligation de 2 jours de présence sur site par semaine.\n",
      "Enfin, dans le troisième extrait, il est mentionné qu'un maximum de 2 jours par semaine, et de 2 demi-journées pouvant être cumulées sur une même journée au cours de la même semaine. Donc le nombre maximal de jour de télétravail par semaine est de 1.\n",
      "Donc je conclu que le nombre maximal de jour de télétravail par semaine est de 1.\n",
      "\n",
      "99 T01321010134\n"
     ]
    },
    {
     "name": "stderr",
     "output_type": "stream",
     "text": [
      "Setting `pad_token_id` to `eos_token_id`:2 for open-end generation.\n"
     ]
    },
    {
     "name": "stdout",
     "output_type": "stream",
     "text": [
      "Q_TTSEM_NOMBRE:Ma réponse : nombrejourdeteletravailmaxparsemaine=1\n",
      "\n",
      "Mon extraction de trois phrases maximum qui répondent à la question :\n",
      "- \"Le télétravail régulier consiste, sur la base du volontariat, à offrir la possibilité au collaborateur de travailler en dehors des locaux de l’entreprise jusqu’à 3 jours maximum par semaine pour un salarié à temps complet\"\n",
      "\n",
      "Mon raisonnement :\n",
      "Dans le document, il est indiqué que le télétravail régulier consiste en une possibilité offerte au salarié de travailler en dehors des locaux de l'entreprise jusqu'à 3 jours maximum par semaine pour un salarié à temps complet. Cette information est claire et explicite, elle correspond donc à ma réponse.\n",
      "\n",
      "100 T04421010863\n"
     ]
    },
    {
     "name": "stderr",
     "output_type": "stream",
     "text": [
      "Setting `pad_token_id` to `eos_token_id`:2 for open-end generation.\n"
     ]
    },
    {
     "name": "stdout",
     "output_type": "stream",
     "text": [
      "Q_TTSEM_NOMBRE:Ma réponse : nombrejourdeteletravailmaxparsemaine=0\n",
      "\n",
      "Mon extraction de trois phrases maximum qui répondent à la question :\n",
      "- \"La mise en œuvre du travail à distance peut être mise en œuvre lorsque l’aménagement du poste de travail est rendu nécessaire pour permettre la continuité de l’activité de l’entreprise et pour garantir la protection des salariés\"\n",
      "- \"Le présent avenant complète ou révise, à compter de son entrée en vigueur, certaines des dispositions prévues par l’accord initial relatif au travail à distance.\"\n",
      "- \"L’accord et le présent avenant prévoient les conditions d’accès et modalités de réalisation du télétravail en cas de circonstances exceptionnelles.\"\n",
      "\n",
      "Mon raisonnement :\n",
      "Après avoir lu attentivement le document, je n'ai trouvé aucune information concernant le nombre de jours de télétravail possibles par semaine. Les phrases que j'ai extraites montrent que l'accord encadre le travail à distance en cas de circonstances exceptionnelles, mais ne précise pas le nombre de jours de télétravail possibles. Par conséquent, je ne peux pas répondre à la question posée.\n",
      "\n",
      "101 T02221003288\n"
     ]
    },
    {
     "name": "stderr",
     "output_type": "stream",
     "text": [
      "Setting `pad_token_id` to `eos_token_id`:2 for open-end generation.\n",
      "Created a chunk of size 6497, which is longer than the specified 5000\n"
     ]
    },
    {
     "name": "stdout",
     "output_type": "stream",
     "text": [
      "Q_TTSEM_NOMBRE:Ma réponse : nombrejourdeteletravailmaxparsemaine=0\n",
      "\n",
      "Mon extraction de trois phrases maximum qui répondent à la question :\n",
      "- \"Le télétravailleur gère l’organisation de son temps de travail dans le cadre de la législation, de la convention collective applicable et des règles applicables au sein de la société.\"\n",
      "- \"En cas d’impossibilité technique, ce suivi est réalisé par auto-déclaration du télétravailleur.\"\n",
      "- \"Le salarié en télétravail bénéficie d’un entretien annuel avec son responsable hiérarchique portant notamment sur les conditions d’activité et sa charge de travail.\"\n",
      "\n",
      "Mon raisonnement :\n",
      "Après avoir lu attentivement les documents fournis, je n'ai pas trouvé de paragraphe contenant le mot-clé « semaine » ou une notion de fréquence par semaine et concernant le nombre de jours de télétravail autorisé pour un employé. De plus, aucune information explicite sur le nombre maximum de jours de télétravail par semaine n'est donnée. Par conséquent, je retourne la variable 'nombrejourdeteletravailmaxparsemaine' à 0.\n",
      "\n",
      "102 T04421010659\n"
     ]
    },
    {
     "name": "stderr",
     "output_type": "stream",
     "text": [
      "Setting `pad_token_id` to `eos_token_id`:2 for open-end generation.\n"
     ]
    },
    {
     "name": "stdout",
     "output_type": "stream",
     "text": [
      "Q_TTSEM_NOMBRE:Ma réponse : nombrejourdeteletravailmaxparsemaine=2, nombrejoursursiteparsemaine=1\n",
      "\n",
      "Mon extraction de trois phrases maximum qui répondent à la question :\n",
      "- \"Conformément à ces modalités, le planning du salarié bénéficiant du télétravail pourra prévoir soit une journée, soit au maximum deux journées, par semaine en situation de télétravail\"\n",
      "- \"Afin de ne pas complexifier la gestion du planning de l’équipe, la planification du ou des deux jours de télétravail par semaine, pour les salariés demandant à bénéficier du télétravail, devra être établie au minimum sur une période de 6 mois.\"\n",
      "- \"Cependant, afin de garantir l’équité entre l’ensemble des salariés de l’équipe, le supérieur hiérarchique pourra organiser ce ou ces deux jours fixes en télétravail par semaine en cycles\"\n",
      "\n",
      "Mon raisonnement :\n",
      "Dans le premier extrait, il est indiqué que le planning du salarié bénéficiant du télétravail peut prévoir au maximum deux journées par semaine en situation de télétravail. Dans le deuxième extrait, il est indiqué que la planification du ou des deux jours de télétravail par semaine doit être établie au minimum sur une période de 6 mois. Et dans le troisième extrait, il est indiqué que le supérieur hiérarchique peut organiser ces deux jours fixes en télétravail par semaine en cycles, ce qui signifie que les deux jours de télétravail ne sont pas forcément fixes chaque semaine. Donc, le maximum de jours de télétravail par semaine est de 2.\n",
      "Ensuite, dans le premier extrait, il est indiqué que le planning du salarié peut prévoir une journée par semaine en situation de télétravail. Donc, le minimum de jours de présence sur site par semaine est de 1 jour.\n",
      "\n",
      "103 T59V21001164\n"
     ]
    },
    {
     "name": "stderr",
     "output_type": "stream",
     "text": [
      "Setting `pad_token_id` to `eos_token_id`:2 for open-end generation.\n"
     ]
    },
    {
     "name": "stdout",
     "output_type": "stream",
     "text": [
      "Q_TTSEM_NOMBRE:Ma réponse : nombrejourdeteletravailmaxparsemaine=0\n",
      "\n",
      "Mon extraction de trois phrases maximum qui répondent à la question :\n",
      "- \"L’employeur confirme que le télétravail comme mode de travail régulier, n’est pas envisagé par Ecoburotic.\"\n",
      "- \"Cependant, l’employeur reconnaît que le télétravail est particulièrement utile et adapté à certaines situations, telles que pandémie, intempéries, situations particulières liées au collaborateur ou à l’entreprise.\"\n",
      "- \"D’ici la fin de l’année 2021, des outils de communications performants seront installés sur tous les postes le nécessitant (Office 365, Microsoft Teams, Sharepoint…) et les équipes seront formées.\"\n",
      "\n",
      "Mon raisonnement :\n",
      "Dans le contexte fourni, il n'y a aucune information sur le nombre de jours de télétravail autorisés par semaine. Les phrases extraites montrent que le télétravail n'est pas envisagé comme mode de travail régulier, mais seulement dans certaines situations spécifiques. De plus, aucune limitation hebdomadaire n'est mentionnée. Par conséquent, je ne peux pas attribuer de valeur à la variable 'nombrejourdeteletravailmaxparsemaine' et je la laisse à 0.\n",
      "\n",
      "104 T01321011808\n"
     ]
    },
    {
     "name": "stderr",
     "output_type": "stream",
     "text": [
      "Setting `pad_token_id` to `eos_token_id`:2 for open-end generation.\n"
     ]
    },
    {
     "name": "stdout",
     "output_type": "stream",
     "text": [
      "Q_TTSEM_NOMBRE:Ma réponse : nombrejourdeteletravailmaxparsemaine=2\n",
      "\n",
      "Mon extraction de trois phrases maximum qui répondent à la question :\n",
      "- \"Le nombre de jours télétravaillés est limité à deux jours complets par semaine.\" (Article 11)\n",
      "- \"Les jours de télétravail ne sont ni récupérables, ni cumulables.\" (Article 11)\n",
      "- \"Ces jours fixes pourront être modifiés exceptionnellement...\" (Article 11)\n",
      "\n",
      "Mon raisonnement :\n",
      "Dans l'article 11, il est indiqué que le nombre de jours télétravaillés est limité à deux jours complets par semaine. De plus, il est précisé que ces jours ne sont ni récupérables, ni cumulables, ce qui implique qu'il s'agit d'un maximum hebdomadaire. Enfin, il est mentionné que ces jours fixes pourront être modifiés exceptionnellement, ce qui confirme qu'il s'agit d'un maximum hebdomadaire.\n",
      "\n",
      "105 T04521003587\n"
     ]
    },
    {
     "name": "stderr",
     "output_type": "stream",
     "text": [
      "Setting `pad_token_id` to `eos_token_id`:2 for open-end generation.\n"
     ]
    },
    {
     "name": "stdout",
     "output_type": "stream",
     "text": [
      "Q_TTSEM_NOMBRE:Ma réponse : nombrejourdeteletravailmaxparsemaine=0\n",
      "\n",
      "Mon extraction de trois phrases maximum qui répondent à la question :\n",
      "- \"Le télétravail peut être mis en œuvre à la demande expresse du salarié et sous réserve de l’accord exprès de la société.\"\n",
      "- \"Le télétravail s’inscrit dans une démarche concertée, fondée sur le double volontariat tant du salarié que de l’entreprise.\"\n",
      "- \"Les dispositions du présent accord s’appliquent à l’ensemble du personnel salarié de l’entreprise\"\n",
      "\n",
      "Mon raisonnement :\n",
      "Les phrases extraites montrent que le télétravail est mis en place sur la base du volontariat du salarié et de l'accord de l'entreprise. De plus, les modalités de télétravail ne sont pas précisées dans le document fourni, il n'est donc pas possible d'extraire un nombre de jours de télétravail maximum par semaine.\n",
      "\n",
      "106 T02121003194\n"
     ]
    },
    {
     "name": "stderr",
     "output_type": "stream",
     "text": [
      "Setting `pad_token_id` to `eos_token_id`:2 for open-end generation.\n"
     ]
    },
    {
     "name": "stdout",
     "output_type": "stream",
     "text": [
      "Q_TTSEM_NOMBRE:Ma réponse : nombrejourdeteletravailmaxparsemaine=0\n",
      "\n",
      "Mon extraction de trois phrases maximum qui répondent à la question :\n",
      "- \"Le nombre de jours télétravaillés ne pourra pas être supérieur à 10 par mois de travail effectif pour les salariés à temps plein et à temps partiel.\"\n",
      "- \"Le nombre de jours télétravaillés pourra être revu en fonction des situations spécifiques suivantes : Femmes enceintes ; Collaborateur de retour après une longue absence maladie ; Collaborateur en situation de handicap.\"\n",
      "- \"Le télétravail s’organise par jour entier en référence à l’horaire de travail contractuel du salarié.\"\n",
      "\n",
      "Mon raisonnement :\n",
      "Les phrases extraites ne contiennent pas de mention de la fréquence de télétravail par semaine. De plus, la première phrase indique que le nombre de jours télétravaillés ne peut excéder 10 par mois, ce qui ne permet pas de déduire un nombre de jours de télétravail par semaine. Par conséquent, je réponds que le nombre de jours de télétravail maximum par semaine est de 0.\n",
      "\n",
      "107 T09321006383\n"
     ]
    },
    {
     "name": "stderr",
     "output_type": "stream",
     "text": [
      "Setting `pad_token_id` to `eos_token_id`:2 for open-end generation.\n"
     ]
    },
    {
     "name": "stdout",
     "output_type": "stream",
     "text": [
      "Q_TTSEM_NOMBRE:Ma réponse : nombrejourdeteletravailmaxparsemaine=0\n",
      "\n",
      "Mon extraction de trois phrases maximum qui répondent à la question :\n",
      "- \"En cas de besoin pour le bon fonctionnement de l'activité et l'équipe de travail, il pourra être demandé au salarié de venir ponctuellement et/ou exceptionnellement sur un site E&C.\"\n",
      "- \"L'exercice de l'activité en situation de « télétravail à 100% » sera réalisé sur l’ensemble des jours et heures habituellement travaillé par le collaborateur.\"\n",
      "- \"Le salarié déclare disposer d'un espace de travail dédié au sein de son domicile conforme aux règles de sécurité en vigueur et permettant un exercice satisfaisant de ses missions professionnelles.\"\n",
      "\n",
      "Mon raisonnement :\n",
      "Dans le premier document, il n'y a pas de mention explicite du nombre de jours de télétravail autorisés par semaine. Dans le second document, il est mentionné que le télétravail est réalisé sur l'ensemble des jours et heures habituellement travaillés par le collaborateur, mais cela ne permet pas de déterminer un nombre maximal de jours de télétravail par semaine. Dans le troisième document, il n'y a pas non plus de mention explicite du nombre de jours de télétravail autorisés par semaine. Dans le quatrième document, il est mentionné que le salarié doit disposer d'un espace de travail dédié au sein de son domicile, mais cela ne permet pas de déterminer un nombre maximal de jours de télétravail par semaine. Par conséquent, je ne peux pas affecter de valeur à la variable 'nombrejourdeteletravailmaxparsemaine'.\n",
      "\n",
      "108 T07521030183\n"
     ]
    },
    {
     "name": "stderr",
     "output_type": "stream",
     "text": [
      "Setting `pad_token_id` to `eos_token_id`:2 for open-end generation.\n"
     ]
    },
    {
     "name": "stdout",
     "output_type": "stream",
     "text": [
      "Q_TTSEM_NOMBRE:Ma réponse : nombrejourdeteletravailmaxparsemaine=0\n",
      "\n",
      "Mon extraction de trois phrases maximum qui répondent à la question :\n",
      "- \"Afin d’offrir la plus grande souplesse à l’organisation du travail, le nombre de jours en télétravail ne sera pas limité par principe\"\n",
      "- \"La durée minimale de présence sera appréciée par chaque manager en fonction des nécessités de service.\"\n",
      "- \"Il est souvent nécessaire que chaque collaborateur passe suffisamment de temps sur son lieu habituel de travail, au contact de ses interlocuteurs professionnels.\"\n",
      "\n",
      "Mon raisonnement :\n",
      "Les phrases extraites montrent qu'il n'y a pas de limite prédéfinie au nombre de jours de télétravail par semaine, mais que la durée minimale de présence sur le lieu de travail est appréciée par le manager en fonction des nécessités de service. Il est également mentionné que chaque collaborateur doit passer suffisamment de temps sur son lieu de travail, ce qui implique que le télétravail ne peut pas être exercé à temps plein. Par conséquent, je conclus que le nombre maximal de jours de télétravail par semaine est inconnu et dépend des décisions du manager en fonction des besoins de l'entreprise. Ainsi, je retourne la variable 'nombrejourdeteletravailmaxparsemaine' à 0.\n",
      "\n",
      "109 T05321002415\n"
     ]
    },
    {
     "name": "stderr",
     "output_type": "stream",
     "text": [
      "Setting `pad_token_id` to `eos_token_id`:2 for open-end generation.\n"
     ]
    },
    {
     "name": "stdout",
     "output_type": "stream",
     "text": [
      "Q_TTSEM_NOMBRE:Ma réponse : nombrejourdeteletravailmaxparsemaine=0, nombrejoursursiteparsemaine=2\n",
      "\n",
      "Mon extraction de trois phrases maximum qui répondent à la question :\n",
      "- \"Un nombre de jours télétravaillés pouvant être porté jusqu’à 3 jours par semaine sur accord du manager.\"\n",
      "- \"Soit 2 jours de présence sur site obligatoire minimum par semaine\"\n",
      "\n",
      "Mon raisonnement :\n",
      "Dans le document, il est indiqué qu'un salarié peut télétravailler jusqu'à 3 jours par semaine sur accord du manager. Cependant, il est également stipulé qu'il doit y avoir 2 jours de présence sur site obligatoire minimum par semaine. Par conséquent, le nombre maximal de jours de télétravail par semaine est de 3, mais il faut tenir compte des 2 jours de présence sur site, ce qui donne un total de 5 jours par semaine. Donc, le nombre de jours de télétravail par semaine est de 3. Je retourne donc nombrejourdeteletravailmaxparsemaine=3.\n",
      "En outre, il est indiqué qu'il doit y avoir 2 jours de présence sur site obligatoire minimum par semaine, donc je retourne également nombrejoursursiteparsemaine=2.\n",
      "\n",
      "110 T03821006956\n"
     ]
    },
    {
     "name": "stderr",
     "output_type": "stream",
     "text": [
      "Setting `pad_token_id` to `eos_token_id`:2 for open-end generation.\n"
     ]
    },
    {
     "name": "stdout",
     "output_type": "stream",
     "text": [
      "Q_TTSEM_NOMBRE:Ma réponse :\n",
      "\n",
      "* nombrejourdeteletravailmaxparsemaine=1\n",
      "* nombresjoursursiteparsemaine=4\n",
      "\n",
      "Mon extraction de trois phrases maximum qui répondent à la question :\n",
      "\n",
      "* \"Le télétravail pour le salarié à temps complet ou titulaire d’un forfait annuel 218 jours ne pourra être exercé que pour un maximum de 13 jours (soit 26 demi-journées) par trimestre civil dans la limite de 1 jour (soit 2 demi-journées) par semaine de 5 jours travaillés, non reportables, soit une enveloppe de 52 jours (soit 104 demi-journées) par année civile.\"\n",
      "* \"Les salariés devront être présents au minimum 2 jours par semaine sur leur lieu de travail habituel.\"\n",
      "\n",
      "Mon raisonnement :\n",
      "\n",
      "* La première phrase indique que le télétravail est limité à 1 jour par semaine, donc nombrejourdeteletravailmaxparsemaine=1.\n",
      "* La deuxième phrase indique que les salariés doivent être présents au minimum 2 jours par semaine sur leur lieu de travail habituel, donc nombresjoursursiteparsemaine=4.\n",
      "\n",
      "111 T05621003461\n"
     ]
    },
    {
     "name": "stderr",
     "output_type": "stream",
     "text": [
      "Setting `pad_token_id` to `eos_token_id`:2 for open-end generation.\n"
     ]
    },
    {
     "name": "stdout",
     "output_type": "stream",
     "text": [
      "Q_TTSEM_NOMBRE:Ma réponse : nombrejourdeteletravailmaxparsemaine=0\n",
      "\n",
      "Mon extraction de trois phrases maximum qui répondent à la question :\n",
      "- \"Afin de préserver le lien social, la cohésion et le bon fonctionnement des équipes, le télétravail volontaire est limité à 20 jours par an.\"\n",
      "- \"Le télétravail sera organisé à la journée où à minima à la demi-journée.\"\n",
      "- \"Le télétravail s’exerce dans les mêmes conditions et horaires que le travail au sein des locaux de l’EPCC.\"\n",
      "\n",
      "Mon raisonnement :\n",
      "Dans le contexte fourni, je n'ai pas trouvé de paragraphe qui comporte le mot-clé \"semaine\" ou une notion de fréquence par semaine et qui concerne le nombre de jour de télétravail autorisé de manière régulière.\n",
      "Par conséquent, je ne peux pas attribuer de valeur à la variable 'nombrejourdeteletravailmaxparsemaine'.\n",
      "De plus, je n'ai pas non plus trouvé d'indication concernant le nombre de jours de présence obligatoire sur site par semaine.\n",
      "Par conséquent, je ne peux pas attribuer de valeur à la variable 'nombrejoursursiteparsemaine'.\n",
      "\n",
      "112 T07521029829\n"
     ]
    },
    {
     "name": "stderr",
     "output_type": "stream",
     "text": [
      "Setting `pad_token_id` to `eos_token_id`:2 for open-end generation.\n"
     ]
    },
    {
     "name": "stdout",
     "output_type": "stream",
     "text": [
      "Q_TTSEM_NOMBRE:Ma réponse : nombrejourdeteletravailmaxparsemaine=2\n",
      "\n",
      "Mon extraction de trois phrases maximum qui répondent à la question :\n",
      "- \"Le télétravail peut être exécuté dans la limite de deux jours fixes par semaine maximum\"\n",
      "- \"dans les entités du Groupe où l’organisation hebdomadaire du travail est sur cinq jours à raison d’un minimum de 7h et plus travaillées par jour.\"\n",
      "- \"Pour les métiers éligibles, le nombre de jour fixe et régulier de télétravail est d’un ou deux jours.\"\n",
      "\n",
      "Mon raisonnement :\n",
      "Les phrases extraites montrent qu'un salarié peut télétravailler jusqu'à deux jours par semaine, dans la limite de deux jours fixes par semaine maximum. Cette limite s'applique aussi bien aux salariés travaillant sur une organisation hebdomadaire de cinq jours qu'à ceux travaillant sur une organisation hebdomadaire de moins de cinq jours. Enfin, pour les métiers éligibles, le nombre de jour fixe et régulier de télétravail est d’un ou deux jours, ce qui confirme que la limite est de deux jours par semaine.\n",
      "\n",
      "113 T06921015778\n"
     ]
    },
    {
     "name": "stderr",
     "output_type": "stream",
     "text": [
      "Setting `pad_token_id` to `eos_token_id`:2 for open-end generation.\n"
     ]
    },
    {
     "name": "stdout",
     "output_type": "stream",
     "text": [
      "Q_TTSEM_NOMBRE:Ma réponse : nombrejourdeteletravailmaxparsemaine=0\n",
      "\n",
      "Mon extraction de trois phrases maximum qui répondent à la question :\n",
      "- \"Le télétravail peut être mis en œuvre, par journée entière de travail, dans la limite de 3 jours par semaine et de façon régulière.\"\n",
      "- \"Les salariés à temps partiel doivent être présents au bureau au minimum 2 jours par semaine.\"\n",
      "- \"Un jour commun au bureau chaque semaine par service ou équipe est fixé par le manager.\"\n",
      "\n",
      "Mon raisonnement :\n",
      "Les phrases extraites indiquent que le télétravail peut être mis en œuvre dans la limite de 3 jours par semaine et que les salariés à temps partiel doivent être présents au bureau au minimum 2 jours par semaine. Il n'y a pas d'autres mentions de la fréquence de télétravail par semaine dans le texte. Par conséquent, le nombre maximal de jours de télétravail par semaine est de 3. Il n'y a pas d'indication de jours de présence obligatoire sur site, donc nombrejoursursiteparsemaine=0.\n",
      "\n",
      "114 T09221025319\n"
     ]
    },
    {
     "name": "stderr",
     "output_type": "stream",
     "text": [
      "Setting `pad_token_id` to `eos_token_id`:2 for open-end generation.\n"
     ]
    },
    {
     "name": "stdout",
     "output_type": "stream",
     "text": [
      "Q_TTSEM_NOMBRE:Ma réponse : nombrejourdeteletravailmaxparsemaine=1\n",
      "\n",
      "Mon extraction de trois phrases maximum qui répondent à la question :\n",
      "- \"Le télétravail ne pourrait couvrir une semaine entière à savoir 5 jours.\"\n",
      "\n",
      "Mon raisonnement :\n",
      "Dans l'article 6, il est indiqué que le télétravail ne peut pas couvrir une semaine entière, ce qui signifie qu'un salarié ne peut pas télétravailler plus de 4 jours par semaine. Cependant, il est également indiqué que le salarié doit être présent sur son lieu de travail au moins 1 jour par semaine. Par conséquent, le nombre maximal de jours de télétravail par semaine est de 1.\n",
      "\n",
      "115 T09321006380\n"
     ]
    },
    {
     "name": "stderr",
     "output_type": "stream",
     "text": [
      "Setting `pad_token_id` to `eos_token_id`:2 for open-end generation.\n"
     ]
    },
    {
     "name": "stdout",
     "output_type": "stream",
     "text": [
      "Q_TTSEM_NOMBRE:Ma réponse : nombrejourdeteletravailmaxparsemaine=2\n",
      "\n",
      "Mon extraction de trois phrases maximum qui répondent à la question :\n",
      "- \"Le nombre maximum de jours de travail accomplis en télétravail par année pleine et par salarié est limité à 2 jours par semaine effectivement travaillée\"\n",
      "- \"compte tenu de la lecture combinée des dispositions des articles 6.2.1 et 6.2.2 du présent accord\"\n",
      "- \"cette disposition ne s’applique pas en cas de recours au télétravail qui est prévu aux articles 5.2 et 5.3 du présent accord\"\n",
      "\n",
      "Mon raisonnement :\n",
      "J'ai recherché dans le texte les occurrences du mot-clé \"semaine\" et j'ai trouvé une phrase qui indique que le nombre maximum de jours de télétravail par semaine est de 2. Cette information est confirmée par une autre phrase qui précise que le nombre maximum de jours de télétravail par année est de 2 par semaine effectivement travaillée. Il n'y a pas d'autres informations sur des jours de présence obligatoire sur site dans les paragraphes fournis.\n",
      "\n",
      "116 T09221025943\n"
     ]
    },
    {
     "name": "stderr",
     "output_type": "stream",
     "text": [
      "Setting `pad_token_id` to `eos_token_id`:2 for open-end generation.\n",
      "Created a chunk of size 7288, which is longer than the specified 5000\n",
      "Created a chunk of size 7924, which is longer than the specified 5000\n",
      "Created a chunk of size 6525, which is longer than the specified 5000\n"
     ]
    },
    {
     "name": "stdout",
     "output_type": "stream",
     "text": [
      "Q_TTSEM_NOMBRE:Ma réponse : nombrejourdeteletravailmaxparsemaine=1\n",
      "\n",
      "Mon extraction de trois phrases maximum qui répondent à la question :\n",
      "- \"De 1 à 3 jours fixes par semaine pour tous les collaborateurs de l’entreprise\"\n",
      "- \"Ou un forfait mensuel de 6 jours\"\n",
      "- \"Ou un forfait annuel de 30 jours.\"\n",
      "\n",
      "Mon raisonnement :\n",
      "Dans l'article 19, il est stipulé que les jours de télétravail seront fixés selon les modalités suivantes : \"De 1 à 3 jours fixes par semaine pour tous les collaborateurs de l’entreprise\", \"Ou un forfait mensuel de 6 jours\" ou \"Ou un forfait annuel de 30 jours\". Comme je ne dois extraire que le nombre, et uniquement le nombre, je peux répondre que le nombre maximal de jours de télétravail par semaine est de 1.\n",
      "\n",
      "117 T09221023411\n"
     ]
    },
    {
     "name": "stderr",
     "output_type": "stream",
     "text": [
      "Setting `pad_token_id` to `eos_token_id`:2 for open-end generation.\n"
     ]
    },
    {
     "name": "stdout",
     "output_type": "stream",
     "text": [
      "Q_TTSEM_NOMBRE:Ma réponse :\n",
      "\n",
      "* nombrejourdeteletravailmaxparsemaine=0\n",
      "* nombrejoursursiteparsemaine=0\n",
      "\n",
      "Mon extraction de trois phrases maximum qui répondent à la question :\n",
      "\n",
      "* \"Le télétravail ne pourra être exercé que par journées entières.\"\n",
      "* \"Afin de garantir la cohésion des équipes et de prévenir les situations d’isolement, le télétravail ne pourra être exercé que dans la limite de 75% du temps de travail effectif mensuel (en jours).\"\n",
      "* \"Un minima de 4 jours mensuels de présence sur site devra être mis en œuvre.\"\n",
      "\n",
      "Mon raisonnement :\n",
      "\n",
      "* La première phrase indique que le télétravail doit être exercé par journées entières, ce qui signifie qu'il n'y a pas de possibilité de fractionner les jours de télétravail en heures.\n",
      "* La deuxième phrase indique que le télétravail ne peut être exercé que dans la limite de 75% du temps de travail effectif mensuel, ce qui représente 3 jours par semaine (75% de 5 jours) dans le cadre d'un mois de 4 semaines. Cependant, cette limite ne peut pas être dépassée sans l'accord exprès, écrit et préalable de la direction et du collaborateur.\n",
      "* La troisième phrase indique qu'un minima de 4 jours mensuels de présence sur site doit être mis en œuvre, ce qui signifie qu'un employé ne peut pas télétravailler tous les jours du mois.\n",
      "\n",
      "Compte tenu de ces éléments, je déduis qu'un employé peut télétravailler au maximum 3 jours par semaine, mais qu'il doit être présent sur site au moins 2 jours par semaine. Je renvoie donc les variables nombrejourdeteletravailmaxparsemaine et nombrejoursursiteparsemaine respectivement à 3 et 2.\n",
      "\n",
      "118 T09121006130\n"
     ]
    },
    {
     "name": "stderr",
     "output_type": "stream",
     "text": [
      "Setting `pad_token_id` to `eos_token_id`:2 for open-end generation.\n"
     ]
    },
    {
     "name": "stdout",
     "output_type": "stream",
     "text": [
      "Q_TTSEM_NOMBRE:\n",
      "Ma réponse : nombrejourdeteletravailmaxparsemaine=2\n",
      "\n",
      "Mon extraction de trois phrases maximum qui répondent à la question :\n",
      "\n",
      "* \"Il sera désormais possible d’effectuer du télétravail à raison de DEUX jours par semaine\"\n",
      "* \"le salarié à temps plein soit présent dans l’entreprise au moins 3 jours par semaine.\"\n",
      "\n",
      "Mon raisonnement :\n",
      "\n",
      "Le document contient bien le mot-clé \"semaine\" et une notion de fréquence par semaine concernant le nombre de jour de télétravail autorisé. En effet, il est stipulé que \"Il sera désormais possible d’effectuer du télétravail à raison de DEUX jours par semaine\". De plus, il est précisé que \"le salarié à temps plein soit présent dans l’entreprise au moins 3 jours par semaine.\", ce qui signifie qu'un employé à temps plein ne peut pas télétravailler plus de 2 jours par semaine. Par conséquent, je peux conclure que nombrejourdeteletravailmaxparsemaine=2.\n",
      "\n",
      "119 T09221023603\n"
     ]
    },
    {
     "name": "stderr",
     "output_type": "stream",
     "text": [
      "Setting `pad_token_id` to `eos_token_id`:2 for open-end generation.\n"
     ]
    },
    {
     "name": "stdout",
     "output_type": "stream",
     "text": [
      "Q_TTSEM_NOMBRE:Ma réponse : nombrejourdeteletravailmaxparsemaine=2, nombrejoursursiteparsemaine=3\n",
      "\n",
      "Mon extraction de trois phrases maximum qui répondent à la question :\n",
      "- \"Le télétravail régulier s’effectue à raison de deux  jours par semaine maximum\"\n",
      "- \"Le salarié en télétravail devra également être présent physiquement dans les locaux de l’entreprise 3 jours minimum par semaine.\"\n",
      "\n",
      "Mon raisonnement :\n",
      "Dans le contexte donné, il est indiqué que le télétravail régulier s’effectue à raison de deux jours par semaine maximum. De plus, il est stipulé que le salarié en télétravail devra également être présent physiquement dans les locaux de l’entreprise 3 jours minimum par semaine. Par conséquent, le nombre maximal de jours de télétravail par semaine est de 2 et le nombre minimal de jours sur site est de 3.\n",
      "\n",
      "120 T01321011053\n"
     ]
    },
    {
     "name": "stderr",
     "output_type": "stream",
     "text": [
      "Setting `pad_token_id` to `eos_token_id`:2 for open-end generation.\n",
      "Created a chunk of size 8959, which is longer than the specified 5000\n"
     ]
    },
    {
     "name": "stdout",
     "output_type": "stream",
     "text": [
      "Q_TTSEM_NOMBRE:Ma réponse : nombrejourdeteletravailmaxparsemaine=1\n",
      "\n",
      "Mon extraction de trois phrases maximum qui répondent à la question :\n",
      "- \"Le temps de présence dans les locaux devra être au minimum de 4 jours ouvrés par semaine\"\n",
      "- \"Le nombre de jours de télétravail est donc limité à un jour par semaine.\"\n",
      "\n",
      "Mon raisonnement :\n",
      "Dans le document, on trouve une section intitulée \"Fréquence et nombre de jours travaillés\" qui contient des informations sur le nombre de jours de télétravail autorisés par semaine pour le personnel non-cadre. Selon le texte, le temps de présence dans les locaux doit être d'au moins 4 jours ouvrés par semaine, ce qui implique que le nombre de jours de télétravail est limité à un jour par semaine. Cette information est confirmée dans la phrase suivante, qui précise que \"la journée de télétravail ne pourra être prise le lundi\". Par conséquent, je peux conclure que le nombre maximal de jours de télétravail par semaine pour le personnel non-cadre est de 1 jour.\n",
      "\n",
      "121 T09221026634\n"
     ]
    },
    {
     "name": "stderr",
     "output_type": "stream",
     "text": [
      "Setting `pad_token_id` to `eos_token_id`:2 for open-end generation.\n"
     ]
    },
    {
     "name": "stdout",
     "output_type": "stream",
     "text": [
      "Q_TTSEM_NOMBRE:Ma réponse : nombrejourdeteletravailmaxparsemaine=2\n",
      "\n",
      "Mon extraction de trois phrases maximum qui répondent à la question :\n",
      "\n",
      "* \"L’organisation alternative de l’activité domicile / entreprise se fait sur la base de deux (2) jours ouvrés par semaine\"\n",
      "* \"Le manager veille à une juste répartition des journées en télétravail entre collaborateurs\"\n",
      "* \"Les jours de télétravail non utilisés ne sont pas reportables.\"\n",
      "\n",
      "Mon raisonnement :\n",
      "Dans le document, il est stipulé que \"L’organisation alternative de l’activité domicile / entreprise se fait sur la base de deux (2) jours ouvrés par semaine\". Cette phrase indique clairement qu'un employé peut télétravailler jusqu'à 2 jours par semaine. De plus, il est mentionné que \"Le manager veille à une juste répartition des journées en télétravail entre collaborateurs\" et \"Les jours de télétravail non utilisés ne sont pas reportables.\", ce qui implique qu'il n'y a pas de possibilité de cumuler les jours de télétravail d'une semaine à l'autre. Par conséquent, le nombre maximal de jours de télétravail par semaine est de 2.\n",
      "\n",
      "En ce qui concerne le nombre de jours de présence obligatoire sur site, je ne trouve pas d'information explicite dans le texte.\n",
      "\n",
      "Donc, la variable 'nombrejourdeteletravailmaxparsemaine' est affectée à 2 et la variable 'nombrejoursursiteparsemaine' n'est pas affectée car il n'y a pas d'information explicite sur le nombre de jours de présence obligatoire sur site.\n",
      "\n",
      "122 T09321007118\n"
     ]
    },
    {
     "name": "stderr",
     "output_type": "stream",
     "text": [
      "Setting `pad_token_id` to `eos_token_id`:2 for open-end generation.\n"
     ]
    },
    {
     "name": "stdout",
     "output_type": "stream",
     "text": [
      "Q_TTSEM_NOMBRE:Ma réponse : nombrejourdeteletravailmaxparsemaine=1\n",
      "\n",
      "Mon extraction de trois phrases maximum qui répondent à la question :\n",
      "- \"Pour prendre en charge une partie des frais engendrés par le télétravail (électricité, chauffage, etc..), une prime mensuelle sera versée sur 11 mois, aux salariés-es concerné-es dont le montant est fonction du nombre de jours de télétravail par semaine.\"\n",
      "- \"Ainsi, les salarié-es qui auront recours au télétravail 1 à 2 fois par semaine bénéficieront d’une prime de 10 (dix) €uros bruts mensuels.\"\n",
      "- \"Ainsi, les salarié-es qui auront recours au télétravail 3 fois et plus par semaine bénéficieront d’une prime de 15 (quinze) €uros bruts mensuels.\"\n",
      "\n",
      "Mon raisonnement :\n",
      "Dans le contexte fourni, il y a bien un paragraphe qui comporte le mot-clé semaine et concerne le nombre de jour de télétravail autorisé. Ce paragraphe indique que les salariés qui ont recours au télétravail 1 à 2 fois par semaine bénéficient d'une prime de 10 euros bruts mensuels, et que les salariés qui ont recours au télétravail 3 fois et plus par semaine bénéficient d'une prime de 15 euros bruts mensuels. Par conséquent, le nombre maximal de jours de télétravail autorisé par semaine est de 3. Je mets donc la variable 'nombrejourdeteletravailmaxparsemaine' à 1 car il y a une possibilité de télétravail 1 à 2 fois par semaine et une autre de télétravail 3 fois et plus par semaine.\n",
      "\n",
      "Je ne trouve pas d'information sur le nombre de jours de présence obligatoire sur site dans le contexte fourni, je renvoie donc la variable 'nombrejoursursiteparsemaine' à 0.\n",
      "\n",
      "123 T06421003693\n"
     ]
    },
    {
     "name": "stderr",
     "output_type": "stream",
     "text": [
      "Setting `pad_token_id` to `eos_token_id`:2 for open-end generation.\n"
     ]
    },
    {
     "name": "stdout",
     "output_type": "stream",
     "text": [
      "Q_TTSEM_NOMBRE:Ma réponse : nombrejourdeteletravailmaxparsemaine=1\n",
      "\n",
      "Mon extraction de trois phrases maximum qui répondent à la question :\n",
      "- \"Le nombre de jours télétravaillés prévus par le formulaire de demande de télétravail est d’un ou deux jours entier(s) maximum par semaine.\"\n",
      "\n",
      "Mon raisonnement :\n",
      "Dans le document, on trouve une indication du nombre maximal de jours de télétravail autorisés par semaine, qui est de 2 jours. Cette information est donnée dans le paragraphe \"6.1 Nombre, répartition et fréquence des journées télétravailées\" du document. Cependant, il est important de noter que cette information est soumise à l'acceptation du formulaire de demande de télétravail, elle n'est donc pas garantie. Par conséquent, je propose de renvoyer la variable 'nombrejourdeteletravailmaxparsemaine' à 1, qui représente le minimum des deux jours mentionnés dans le paragraphe.\n",
      "\n",
      "124 T59L21011687\n"
     ]
    },
    {
     "name": "stderr",
     "output_type": "stream",
     "text": [
      "Setting `pad_token_id` to `eos_token_id`:2 for open-end generation.\n"
     ]
    },
    {
     "name": "stdout",
     "output_type": "stream",
     "text": [
      "Q_TTSEM_NOMBRE:Ma réponse : nombrejourdeteletravailmaxparsemaine=1\n",
      "\n",
      "Mon extraction de trois phrases maximum qui répondent à la question :\n",
      "- \"Le rythme de télétravail sera au minimum de 1 jour toutes les 2 semaines et ne pourra excéder 1 jour par semaine pour les collaborateurs concernés.\"\n",
      "\n",
      "Mon raisonnement :\n",
      "Dans le document, on trouve une section intitulée \"RYTHME DU TELETRAVAIL\" qui précise les modalités de télétravail pour deux catégories de collaborateurs. Pour la catégorie 1, qui regroupe les collaborateurs du siège et des fonctions supports, le rythme de télétravail est défini comme étant au minimum de 1 jour toutes les 2 semaines et ne pouvant excéder 1 jour par semaine. Par conséquent, le nombre maximal de jours de télétravail par semaine pour un collaborateur de cette catégorie est de 1.\n",
      "\n",
      "125 T07721005504\n"
     ]
    },
    {
     "name": "stderr",
     "output_type": "stream",
     "text": [
      "Setting `pad_token_id` to `eos_token_id`:2 for open-end generation.\n"
     ]
    },
    {
     "name": "stdout",
     "output_type": "stream",
     "text": [
      "Q_TTSEM_NOMBRE:Ma réponse : nombrejourdeteletravailmaxparsemaine=1, nombrejoursursiteparsemaine=4\n",
      "\n",
      "Mon extraction de trois phrases maximum qui répondent à la question :\n",
      "- \"Un accord relatif à la mise en place du télétravail a été signé au sein de la société le 17 janvier 2020. Cet accord a ouvert la possibilité aux salariés éligibles d’effectuer un jour par semaine de télétravail formalisé par un avenant au contrat de travail.\"\n",
      "- \"Les parties entendent modifier l’accord initial en supprimant le pré requis d’avoir un téléphone professionnel, nécessaire pour être éligible au télétravail. Cette suppression permet d’élargir la liste des salariés éligibles au télétravail.\"\n",
      "- \"Par conséquent, les parties s’engagent à signer un avenant à l’accord sur le télétravail courant juin pour une mise en place à partir du 1er juillet 2021.\"\n",
      "\n",
      "Mon raisonnement :\n",
      "Dans le premier paragraphe, il est indiqué qu'un accord relatif au télétravail a été signé et qu'il permet aux salariés éligibles d'effectuer un jour par semaine de télétravail. Dans le deuxième paragraphe, il est indiqué que les parties souhaitent modifier l'accord initial en supprimant une condition d'éligibilité, ce qui permettra d'élargir la liste des salariés éligibles au télétravail. Dans le troisième paragraphe, il est indiqué que les parties s'engagent à signer un avenant à l'accord sur le télétravail pour une mise en place à partir du 1er juillet 2021. Ainsi, on peut conclure qu'un salarié éligible peut télétravailler jusqu'à 1 jour par semaine. De plus, dans le contexte, il est indiqué que \"Trois jours de présence sur site et sans autre mention du nombre de jours de télétravail autorisé = 0 jour de télétravail par semaine, a priori!\" Donc, le nombre de jours de présence sur site par semaine est de 4 jours.\n",
      "\n",
      "126 T09221024480\n"
     ]
    },
    {
     "name": "stderr",
     "output_type": "stream",
     "text": [
      "Setting `pad_token_id` to `eos_token_id`:2 for open-end generation.\n"
     ]
    },
    {
     "name": "stdout",
     "output_type": "stream",
     "text": [
      "Q_TTSEM_NOMBRE:Ma réponse : nombrejourdeteletravailmaxparsemaine=2\n",
      "\n",
      "Mon extraction de trois phrases maximum qui répondent à la question :\n",
      "- \"Le nombre de jour de télétravail autorisés passe de 4 jours par mois à 2 jours par semaine\"\n",
      "\n",
      "Mon raisonnement :\n",
      "Dans le document fourni, il y a un paragraphe qui comporte le mot-clé \"semaine\" et qui concerne le nombre de jour de télétravail autorisé. Ce paragraphe indique que \"le nombre de jour de télétravail autorisés passe de 4 jours par mois à 2 jours par semaine\". Par conséquent, le nombre maximal de jours de télétravail possible par semaine est de 2.\n",
      "\n",
      "127 T02621002990\n"
     ]
    },
    {
     "name": "stderr",
     "output_type": "stream",
     "text": [
      "Setting `pad_token_id` to `eos_token_id`:2 for open-end generation.\n"
     ]
    },
    {
     "name": "stdout",
     "output_type": "stream",
     "text": [
      "Q_TTSEM_NOMBRE:Ma réponse : nombrejourdeteletravailmaxparsemaine=0\n",
      "\n",
      "Mon extraction de trois phrases maximum qui répondent à la question :\n",
      "- \"Pour conserver une cohésion d’équipe au sein de l’établissement, les parties conviennent d’un maximum de 2 jours par semaine.\"\n",
      "\n",
      "Mon raisonnement :\n",
      "Dans le contexte fourni, il y a une seule occurrence du mot-clé \"semaine\" dans le paragraphe \"Article 4: Télétravail\". Ce paragraphe concerne le nombre de jour de télétravail autorisé. Les parties conviennent d'un maximum de 2 jours par semaine. Cependant, il n'y a pas d'indication explicite sur le nombre de jours de télétravail maximum par semaine dans les autres paragraphes. Par conséquent, je retourne la variable 'nombrejourdeteletravailmaxparsemaine' à 0.\n",
      "\n",
      "128 T05121003268\n"
     ]
    },
    {
     "name": "stderr",
     "output_type": "stream",
     "text": [
      "Setting `pad_token_id` to `eos_token_id`:2 for open-end generation.\n"
     ]
    },
    {
     "name": "stdout",
     "output_type": "stream",
     "text": [
      "Q_TTSEM_NOMBRE:Ma réponse : nombrejourdeteletravailmaxparsemaine=0\n",
      "\n",
      "Mon extraction de trois phrases maximum qui répondent à la question :\n",
      "\n",
      "* \"Le salarié télétravailleur à temps plein devra disposer d'au moins 12 jours de présence par an dans les locaux de l’entreprise à Reims\"\n",
      "* \"le salarié télétravailleur à temps partiel de 7 jours de présence minimum.\"\n",
      "\n",
      "Mon raisonnement :\n",
      "\n",
      "* Les seules mentions de fréquence par semaine concernent la présence sur site et non le télétravail.\n",
      "* Par conséquent, je ne peux pas déduire de nombre maximal de jours de télétravail par semaine explicitement indiqué dans le texte.\n",
      "* Je retourne donc nombrejourdeteletravailmaxparsemaine à 0.\n",
      "\n",
      "129 T00821001063\n"
     ]
    },
    {
     "name": "stderr",
     "output_type": "stream",
     "text": [
      "Setting `pad_token_id` to `eos_token_id`:2 for open-end generation.\n"
     ]
    },
    {
     "name": "stdout",
     "output_type": "stream",
     "text": [
      "Q_TTSEM_NOMBRE:Ma réponse : nombrejourdeteletravailmaxparsemaine=1\n",
      "\n",
      "Mon extraction de trois phrases maximum qui répondent à la question :\n",
      "- \"La Société définit deux types de télétravail habituel Configuration A Le télétravail est limité à 1 jour par semaine.\"\n",
      "\n",
      "Mon raisonnement :\n",
      "Dans le document, il est indiqué que la Société définit deux types de télétravail habituel, la configuration A correspondant à un télétravail limité à 1 jour par semaine.\n",
      "\n",
      "130 T04421010989\n"
     ]
    },
    {
     "name": "stderr",
     "output_type": "stream",
     "text": [
      "Setting `pad_token_id` to `eos_token_id`:2 for open-end generation.\n"
     ]
    },
    {
     "name": "stdout",
     "output_type": "stream",
     "text": [
      "Q_TTSEM_NOMBRE:Ma réponse : nombrejourdeteletravailmaxparsemaine=2\n",
      "\n",
      "Mon extraction de trois phrases maximum qui répondent à la question :\n",
      "- \"Un minimum de 3 jours par semaine calendaire au bureau sera observé. Ainsi, entre un et deux jours par semaine de télétravail pourront être mis en place pour un salarié à temps plein.\"\n",
      "- \"Dans certaines situations, une certaine souplesse pourra être accordée pendant la période allant jusqu’à fin août, de l’ordre de jusqu’à 3 jours de télétravail par semaine\"\n",
      "- \"Il est rappelé qu’aucune automaticité ne pourrait être revendiquée pour des situations de vie problématique pour lesquelles le télétravail serait facilitant (maladies graves d’ascendants et de descendants, une grossesse difficile, par exemples). Dans ces cas très exceptionnels, après appréciation concertée de la Direction, du responsable hiérarchique et du salarié concerné, il pourra être décidé de n’observer que 2 jours par semaine calendaire de présence au bureau (journées ou demi-journées)\"\n",
      "\n",
      "Mon raisonnement :\n",
      "Dans le premier paragraphe, il est indiqué qu'un salarié à temps plein peut effectuer entre un et deux jours de télétravail par semaine. Ceci correspond à un maximum de 2 jours de télétravail par semaine.\n",
      "Dans le deuxième paragraphe, il est indiqué qu'une certaine souplesse pourra être accordée pendant la période allant jusqu'à fin août, de l'ordre de jusqu'à 3 jours de télétravail par semaine. Ceci correspond à un maximum de 3 jours de télétravail par semaine.\n",
      "Dans le troisième paragraphe, il est indiqué qu'il pourra être décidé de n'observer que 2 jours par semaine calendaire de présence au bureau, ce qui correspond à un maximum de 2 jours de télétravail par semaine.\n",
      "Le maximum de jours de télétravail par semaine mentionné dans ces paragraphes est de 2 jours, donc nombrejourdeteletravailmaxparsemaine=2.\n",
      "\n",
      "131 T04221004639\n"
     ]
    },
    {
     "name": "stderr",
     "output_type": "stream",
     "text": [
      "Setting `pad_token_id` to `eos_token_id`:2 for open-end generation.\n"
     ]
    },
    {
     "name": "stdout",
     "output_type": "stream",
     "text": [
      "Q_TTSEM_NOMBRE:Ma réponse : nombrejourdeteletravailmaxparsemaine=0\n",
      "\n",
      "Mon extraction de trois phrases maximum qui répondent à la question :\n",
      "- \"La charge de travail d’un télétravailleur doit être élaborée en amont par le manageur et être équivalente à celle effectuée dans les locaux de l’entreprise.\"\n",
      "- \"Les horaires de télétravail sont fixés conformément aux horaires appliqués en entreprise, temps de pause compris.\"\n",
      "- \"Le télétravail pour le salarié à temps complet ou titulaire d’un forfait annuel 218 jours ne pourra être exercé que pour un maximum de 13 jours (soit 26 demi-journées) par trimestre civil dans la limite de 1 jour (soit 2 demi-journées) par semaine de 5 jours travaillés, non reportables, soit une enveloppe de 52 jours (soit 104 demi-journées) par année civile.\"\n",
      "\n",
      "Mon raisonnement :\n",
      "Il n'y a pas de mention explicite du nombre de jours de télétravail autorisés par semaine dans le texte fourni. Seule une mention du nombre de jours de télétravail autorisés par an est faite, à savoir 52 jours par an, ce qui correspond à 1 jour par semaine. Cependant, cette information est déjà connue grâce à la question posée précédemment, je ne peux donc pas l'utiliser comme réponse à cette question. En l'absence d'autres informations, je dois répondre que le nombre de jours de télétravail autorisés par semaine est inconnu, donc je réponds \"nombrejourdeteletravailmaxparsemaine=0\".\n",
      "\n",
      "132 T09221026760\n"
     ]
    },
    {
     "name": "stderr",
     "output_type": "stream",
     "text": [
      "Setting `pad_token_id` to `eos_token_id`:2 for open-end generation.\n"
     ]
    },
    {
     "name": "stdout",
     "output_type": "stream",
     "text": [
      "Q_TTSEM_NOMBRE:Ma réponse : nombrejourdeteletravailmaxparsemaine=2\n",
      "\n",
      "Mon extraction de trois phrases maximum qui répondent à la question :\n",
      "- \"L’accord-cadre de Groupe prévoit deux formules de rythme de télétravail possible.\"\n",
      "- \"Les parties au présent accord retiennent la formule de télétravail suivante pour le personnel dont les postes sont éligibles conformément à l’article 2-1-2 : rythme de télétravail de 2 jours au maximum par semaine et par salarié.\"\n",
      "- \"Pour le personnel dont les postes ne sont pas éligibles au télétravail conformément à l’article 2-1-2: au regard des tâches exercées et de la spécificité des métiers visés, si l’analyse mentionnée à l’Article 2-1-2 du présent accord concluait à l’éligibilité de ces postes à la pratique du télétravail, celui-ci s’exercerait sur un rythme forfaitaire de 22 jours maximum par an.\"\n",
      "\n",
      "Mon raisonnement :\n",
      "Le document fourni indique que l'accord-cadre de Groupe prévoit deux formules de rythme de télétravail possible. Parmi ces formules, une formule est retenue pour le personnel dont les postes sont éligibles, à savoir un rythme de télétravail de 2 jours au maximum par semaine et par salarié. Pour le personnel dont les postes ne sont pas éligibles au télétravail, il est indiqué que si l'analyse concluait à l'éligibilité de ces postes à la pratique du télétravail, celui-ci s'exercerait sur un rythme forfaitaire de 22 jours maximum par an, ce qui correspond à 2 jours de télétravail par semaine sur une année. Par conséquent, le nombre maximal de jours de télétravail par semaine est de 2.\n",
      "\n",
      "133 T03321007161\n"
     ]
    },
    {
     "name": "stderr",
     "output_type": "stream",
     "text": [
      "Setting `pad_token_id` to `eos_token_id`:2 for open-end generation.\n"
     ]
    },
    {
     "name": "stdout",
     "output_type": "stream",
     "text": [
      "Q_TTSEM_NOMBRE:Ma réponse : nombrejourdeteletravailmaxparsemaine=0\n",
      "\n",
      "Mon extraction de trois phrases maximum qui répondent à la question :\n",
      "- \"Le télétravail régulier à domicile ne pourra être exercé que pour un minimum d’un (1) jour par semaine et un maximum de quatre (4) jours par semaine.\"\n",
      "- \"Le télétravail régulier dit alterné ou pendulaire\"\n",
      "- \"Le principe d’un télétravail régulier dit alterné ou pendulaire\"\n",
      "\n",
      "Mon raisonnement :\n",
      "Après avoir recherché dans le texte les occurrences des mots-clés \"semaine\" et \"télétravail\", j'ai trouvé les phrases qui indiquent que le télétravail régulier à domicile ne peut être exercé que pour un minimum d'un jour par semaine et un maximum de quatre jours par semaine. De plus, il est précisé que le télétravail régulier peut être alterné ou pendulaire, ce qui signifie qu'il alterne avec des jours de travail sur site. Par conséquent, le nombre maximal de jours de télétravail par semaine est de 4. Cependant, comme il est précisé que le télétravail régulier peut être alterné ou pendulaire, je ne peux pas exclure qu'il y ait des jours de présence sur site obligatoire. Je propose donc de créer une variable supplémentaire \"nombrejoursursiteparsemaine\" avec la valeur indiquée dans le texte si elle existe. Dans ce cas, il faudra déduire cette valeur du nombre maximal de jours de télétravail par semaine pour obtenir le nombre maximal de jours de télétravail réellement possibles.\n",
      "\n",
      "134 T07521031493\n"
     ]
    },
    {
     "name": "stderr",
     "output_type": "stream",
     "text": [
      "Setting `pad_token_id` to `eos_token_id`:2 for open-end generation.\n"
     ]
    },
    {
     "name": "stdout",
     "output_type": "stream",
     "text": [
      "Q_TTSEM_NOMBRE:Ma réponse : nombrejourdeteletravailmaxparsemaine=2\n",
      "\n",
      "Mon extraction de trois phrases maximum qui répondent à la question :\n",
      "- \"Option 1 - Vous serez en situation de télétravail à raison de deux jours par semaine maximum.\"\n",
      "- \"Vos jours de télétravail dans la semaine ont été, d’un commun accord, définis comme étant le [●] et le [●].\"\n",
      "- \"En conséquence, si pour une raison quelconque (hors absences ou congés) vous n’êtes pas en mesure d’être présent dans les locaux de la société 2 jours sur une même semaine, vous devrez renoncer à vos jours de télétravail sur ladite semaine.\"\n",
      "\n",
      "Mon raisonnement :\n",
      "Le document indique que l'option 1 permet au salarié de télétravailler deux jours par semaine maximum. Cette information est confirmée par la phrase \"Vos jours de télétravail dans la semaine ont été, d’un commun accord, définis comme étant le [●] et le [●].\". De plus, la dernière phrase indique que le salarié doit être présent au moins deux jours par semaine dans les locaux de la société, ce qui implique qu'il ne peut pas télétravailler plus de deux jours par semaine.\n",
      "\n",
      "135 T07521028915\n"
     ]
    },
    {
     "name": "stderr",
     "output_type": "stream",
     "text": [
      "Setting `pad_token_id` to `eos_token_id`:2 for open-end generation.\n"
     ]
    },
    {
     "name": "stdout",
     "output_type": "stream",
     "text": [
      "Q_TTSEM_NOMBRE:Ma réponse : nombrejourdeteletravailmaxparsemaine=0\n",
      "\n",
      "Mon extraction de trois phrases maximum qui répondent à la question :\n",
      "- \"Le télétravail s’exerce dans le cadre des horaires de travail habituels de service auquel le salarié est affecté et dans le respect des règles légales en vigueur.\"\n",
      "- \"À ce titre, le télétravail bénéficie de plages mobiles définies dans l’accord collectif sur l’aménagement et l’organisation du temps de travail\"\n",
      "- \"Le télétravail ne doit pas générer d’heures supplémentaires ni complémentaires, à défaut d’une autorisation expresse de la direction.\"\n",
      "\n",
      "Mon raisonnement :\n",
      "Après avoir lu attentivement les documents fournis, je n'ai pas trouvé de paragraphe contenant le mot-clé \"semaine\" ou une notion de fréquence par semaine et concernant le nombre de jour de télétravail autorisé. Par conséquent, je ne peux pas fournir un nombre de jours de télétravail maximum par semaine. C'est pourquoi j'ai répondu \"nombrejourdeteletravailmaxparsemaine=0\".\n",
      "\n",
      "136 T09221025128\n"
     ]
    },
    {
     "name": "stderr",
     "output_type": "stream",
     "text": [
      "Setting `pad_token_id` to `eos_token_id`:2 for open-end generation.\n"
     ]
    },
    {
     "name": "stdout",
     "output_type": "stream",
     "text": [
      "Q_TTSEM_NOMBRE:\n",
      "Ma réponse :\n",
      "\n",
      "nombrejourdeteletravailmaxparsemaine=5\n",
      "\n",
      "Mon extraction de trois phrases maximum qui répondent à la question :\n",
      "\n",
      "\"Afin de préserver le lien social avec l’entreprise, les salariés éligibles peuvent, avec accord du manager, bénéficier du télétravail dans la limite de xx jours par semaine.\"\n",
      "\n",
      "\"Les journées de télétravail sont fixées par journées entières. [...] Les salariés peuvent alors organiser avec leur hiérarchie des demi-journées de télétravail.\"\n",
      "\n",
      "\"Par exception bénéficient de xx jour de télétravail par semaine : Les salariés en CDI ayant validé leur période d’essai, mais ayant moins de 6 mois d’ancienneté ; Les alternants à compter de la 2e de présence dans l’entreprise.\"\n",
      "\n",
      "Mon raisonnement :\n",
      "\n",
      "Le premier extrait indique que les salariés éligibles peuvent bénéficier du télétravail dans la limite de \"xx jours par semaine\". Le deuxième extrait indique que les salariés peuvent organiser des demi-journées de télétravail, ce qui implique qu'un jour de télétravail correspond à une journée entière. Enfin, le troisième extrait indique que certains salariés bénéficient de \"xx jour de télétravail par semaine\", ce qui confirme que le nombre maximal de jours de télétravail par semaine est de 5.\n",
      "\n",
      "137 T03821007078\n"
     ]
    },
    {
     "name": "stderr",
     "output_type": "stream",
     "text": [
      "Setting `pad_token_id` to `eos_token_id`:2 for open-end generation.\n"
     ]
    },
    {
     "name": "stdout",
     "output_type": "stream",
     "text": [
      "Q_TTSEM_NOMBRE:Ma réponse : nombrejourdeteletravailmaxparsemaine=0\n",
      "\n",
      "Mon extraction de trois phrases maximum qui répondent à la question :\n",
      "- \"Le télétravail reste à la discrétion du management qui se laisse la possibilité de refuser une demande, et vice-versa.\" (document 1, page 2)\n",
      "- \"Afin d’encadrer cette pratique et en dehors de la situation exceptionnelle actuelle, certains critères d’éligibilités ont été définis pour permettre d’apprécier ce nouveau mode d’organisation du travail. Ainsi, pour effectuer du télétravail occasionnel il faudra remplir les conditions suivantes :\" (document 1, page 2)\n",
      "- \"RAYDIALL expérimente le télétravail occasionnel à domicile.\" (document 1, page 8)\n",
      "\n",
      "Mon raisonnement :\n",
      "Les documents fournis ne contiennent aucune information sur le nombre maximal de jours de télétravail autorisés par semaine, exprimé en jours et non en demi-journées. Les phrases extraites montrent que le télétravail est encadré par des critères d'éligibilité et est laissé à la discrétion de la direction, mais rien n'indique un nombre maximal de jours de télétravail par semaine. De plus, le document 1 indique que le télétravail est expérimental et occasionnel, ce qui suggère qu'il n'y a pas de nombre maximal de jours de télétravail par semaine. Par conséquent, je réponds \"nombrejourdeteletravailmaxparsemaine=0\".\n",
      "\n",
      "138 T09221024001\n"
     ]
    },
    {
     "name": "stderr",
     "output_type": "stream",
     "text": [
      "Setting `pad_token_id` to `eos_token_id`:2 for open-end generation.\n"
     ]
    },
    {
     "name": "stdout",
     "output_type": "stream",
     "text": [
      "Q_TTSEM_NOMBRE:Ma réponse : nombrejourdeteletravailmaxparsemaine=0\n",
      "\n",
      "Mon extraction de trois phrases maximum qui répondent à la question :\n",
      "- \"Les collaborateurs du service veilleront donc à anticiper leurs demandes de jours de télétravail dans le respect le cas échéant des règles qui seront définies par le manager en charge de veiller à la bonne organisation du service.\"\n",
      "- \"Télétravail à 100% = full-remote = 5 jours de télétravail par semaine!\"\n",
      "- \"Il n'y a pas de lien entre l'effectif d'un service et le nombre de jour de télétravail, donc ne pas déduire un nombre de jour de télétravail!\"\n",
      "\n",
      "Mon raisonnement :\n",
      "Dans le premier extrait, il est mentionné que les collaborateurs doivent anticiper leurs demandes de jours de télétravail, ce qui implique qu'il n'y a pas de limite prédéfinie de jours de télétravail par semaine. Dans le deuxième extrait, il est mentionné que le télétravail à 100% correspond à 5 jours de télétravail par semaine, mais cela ne signifie pas qu'il s'agit d'une limite supérieure. Dans le troisième extrait, il est expressément mentionné qu'il n'y a pas de lien entre l'effectif d'un service et le nombre de jours de télétravail, ce qui confirme l'absence de limite supérieure de jours de télétravail par semaine. Par conséquent, je réponds que nombrejourdeteletravailmaxparsemaine=0.\n",
      "\n",
      "139 T04121001532\n"
     ]
    },
    {
     "name": "stderr",
     "output_type": "stream",
     "text": [
      "Setting `pad_token_id` to `eos_token_id`:2 for open-end generation.\n"
     ]
    },
    {
     "name": "stdout",
     "output_type": "stream",
     "text": [
      "Q_TTSEM_NOMBRE:Ma réponse : nombrejourdeteletravailmaxparsemaine=2\n",
      "\n",
      "Mon extraction de trois phrases maximum qui répondent à la question :\n",
      "- \"L’objectif étant d’abaisser le taux de présence et de maintenir la qualité des prestations, quel que soit le secteur d’activités.\"\n",
      "- \"Pour les personnes qui sont en télétravail à 100 % et qui seraient en risque par rapport à leur situation d’isolement, un retour en présentiel est envisageable un jour par semaine lorsqu’ils en expriment le besoin et en accord avec la Direction de CA Titres.\"\n",
      "- \"Le taux moyen de présence sur site est maintenu à 21% des effectifs (CDI, CDD, Alternants, ESN, hors équipes CRD et Facilit, hors salariés dits « vulnérables » et ceux vivant avec des personnes vulnérables).\"\n",
      "\n",
      "Mon raisonnement :\n",
      "Dans le premier extrait, il est fait mention de l'abaissement du taux de présence, ce qui implique que le taux de télétravail est supérieur à zéro. Dans le deuxième extrait, il est mentionné que les personnes en télétravail à 100% peuvent revenir un jour par semaine en présentiel, ce qui implique que le télétravail à 100% correspond à 4 jours de télétravail et 1 jour de présence. Dans le troisième extrait, on peut voir que le taux de présence est de 21%, ce qui implique que le taux de télétravail est de 79%. Comme il n'y a pas d'autres mentions de fréquences hebdomadaires dans le texte, je peux conclure que le nombre maximal de jours de télétravail par semaine est de 2.\n",
      "\n",
      "140 T03121008885\n"
     ]
    },
    {
     "name": "stderr",
     "output_type": "stream",
     "text": [
      "Setting `pad_token_id` to `eos_token_id`:2 for open-end generation.\n",
      "Created a chunk of size 11350, which is longer than the specified 5000\n",
      "Created a chunk of size 6156, which is longer than the specified 5000\n",
      "Created a chunk of size 14794, which is longer than the specified 5000\n"
     ]
    },
    {
     "name": "stdout",
     "output_type": "stream",
     "text": [
      "Q_TTSEM_NOMBRE:Ma réponse : nombrejourdeteletravailmaxparsemaine=0\n",
      "\n",
      "Mon extraction de trois phrases maximum qui répondent à la question :\n",
      "- \"Il n'y a pas de lien entre l'effectif d'un service et le nombre de jour de télétravail, donc ne pas déduire un nombre de jour de télétravail!\"\n",
      "- \"Trois jours de présence sur site et sans autre mention du nombre de jours de télétravail autorisé =  0 jour de télétravail par semaine, a priori!\"\n",
      "- \"Il y a cinq jours ouvrés dans une semaine, donc un nombre de jour de télétravail par semaine ne peut pas être strictement supérieur à cinq.\"\n",
      "\n",
      "Mon raisonnement :\n",
      "Après avoir lu attentivement le contexte fourni, je n'ai pas trouvé de paragraphe contenant le mot-clé \"semaine\" ou une notion de fréquence par semaine et concernant le nombre de jours de télétravail autorisé. Par conséquent, je ne peux pas répondre à la question de manière certaine. Cependant, en prenant en compte les instructions données, je peux affirmer que le nombre de jours de télétravail par semaine ne peut pas être strictement supérieur à cinq. De plus, sans autre information, il est raisonnable de supposer que l'absence de mention d'un nombre de jours de télétravail implique que le nombre est nul. Enfin, il n'y a pas de lien entre l'effectif d'un service et le nombre de jours de télétravail, donc on ne peut pas déduire un nombre de jours de télétravail.\n",
      "\n",
      "141 T09221026110\n"
     ]
    },
    {
     "name": "stderr",
     "output_type": "stream",
     "text": [
      "Setting `pad_token_id` to `eos_token_id`:2 for open-end generation.\n"
     ]
    },
    {
     "name": "stdout",
     "output_type": "stream",
     "text": [
      "Q_TTSEM_NOMBRE:Mon extraction de trois phrases maximum qui répondent à la question :\n",
      "\n",
      "* \"Un maximum de 2 jours par semaine, et de 2 demi-journées pouvant être cumulées sur une même journée au cours de la même semaine.\"\n",
      "\n",
      "Mon raisonnement :\n",
      "\n",
      "* Je recherche dans le document les occurrences du mot-clé \"semaine\" et je trouve une phrase qui indique \"Un maximum de 2 jours par semaine, et de 2 demi-journées pouvant être cumulées sur une même journée au cours de la même semaine\".\n",
      "* Cette phrase indique clairement le nombre maximal de jours de télétravail autorisés par semaine, sans mention de jours de présence obligatoire sur site.\n",
      "\n",
      "Ma réponse :\n",
      "\n",
      "* nombrejourdeteletravailmaxparsemaine=3\n",
      "* nombrejoursursiteparsemaine=0\n",
      "\n",
      "142 T59L21012627\n"
     ]
    },
    {
     "name": "stderr",
     "output_type": "stream",
     "text": [
      "Setting `pad_token_id` to `eos_token_id`:2 for open-end generation.\n"
     ]
    },
    {
     "name": "stdout",
     "output_type": "stream",
     "text": [
      "Q_TTSEM_NOMBRE:Ma réponse : nombrejourdeteletravailmaxparsemaine=0\n",
      "\n",
      "Mon extraction de trois phrases maximum qui répondent à la question :\n",
      "- \"Il fixe les modalités de mise en œuvre du télétravail au sein de l’association pendant l’état d’urgence sanitaire mis en place le 17 octobre 2020, à raison de la 2nde vague de l’épidémie de la COVID 19.\"\n",
      "- \"Il a été conclu jusqu’au 28 février 2021.\"\n",
      "- \"Compte tenu de la poursuite des contraintes sanitaires liées au risque épidémique à la date du 31 janvier 2021, la durée de l’accord est prolongée jusqu’au 31 mai 2021\"\n",
      "\n",
      "Mon raisonnement :\n",
      "Dans le document fourni, je n'ai pas trouvé de paragraphe qui comporte le mot-clé semaine ou une notion de fréquence par semaine et qui concerne le nombre de jour de télétravail autorisé. Par conséquent, je ne peux pas déterminer jusqu'à combien de jour possible de télétravail un employé peut-il télétravailler régulièrement, jour exprimé seulement par semaine et explicitement dans un des paragraphes. Je renvoie donc la variable 'nombrejourdeteletravailmaxparsemaine' à 0.\n",
      "\n",
      "143 T02121003243\n"
     ]
    },
    {
     "name": "stderr",
     "output_type": "stream",
     "text": [
      "Setting `pad_token_id` to `eos_token_id`:2 for open-end generation.\n"
     ]
    },
    {
     "name": "stdout",
     "output_type": "stream",
     "text": [
      "Q_TTSEM_NOMBRE:Ma réponse : nombrejourdeteletravailmaxparsemaine=0\n",
      "\n",
      "Mon extraction de trois phrases maximum qui répondent à la question :\n",
      "- \"Le télétravail régulier prend la forme d’un forfait mensuel de jours télétravaillés selon les deux modalités suivantes : 6 jours de télétravail par mois maximum, accessible à tous les salariés éligibles ; 8 jours de télétravail par mois maximum, étant précisé que ce forfait n’est accessible qu’aux salariés à temps complet, soit au salarié ETAM dont le temps de travail est de 35 heures hebdomadaires ou au salarié cadre dont le forfait jours est de 206 jours\"\n",
      "- \"Pour chaque mois civil, le positionnement des jours télétravaillés est anticipé en accord avec le responsable hiérarchique et fait l’objet d’une planification prévisionnelle mensuelle.\"\n",
      "- \"Il est expressément convenu que le télétravailleur est tenu de se rendre dans les locaux de l'entreprise pour y réaliser ses missions en présentiel, participer aux réunions ou à toutes activités et tous évènements liés au fonctionnement de l’entreprise, sur simple demande du responsable hiérarchique ou dès lors que ces réunions, activités ou évènements sont explicitement qualifiés de présentiels.\"\n",
      "\n",
      "Mon raisonnement :\n",
      "Après lecture des documents fournis, je n'ai pas trouvé de paragraphe contenant le mot-clé \"semaine\" ou une notion de fréquence par semaine et concernant le nombre de jour de télétravail autorisé. Par conséquent, je réponds que le nombre maximal de jours de télétravail par semaine est de 0. Les phrases extraites montrent que le télétravail est organisé par mois et non par semaine, et qu'il n'y a pas de lien direct entre les deux. De plus, il est précisé que le télétravailleur doit se rendre dans les locaux de l'entreprise sur simple demande du responsable hiérarchique, ce qui implique que le télétravail n'est pas systématique et ne peut être planifié à l'avance de manière hebdomadaire.\n",
      "\n",
      "144 T06221005678\n"
     ]
    },
    {
     "name": "stderr",
     "output_type": "stream",
     "text": [
      "Setting `pad_token_id` to `eos_token_id`:2 for open-end generation.\n"
     ]
    },
    {
     "name": "stdout",
     "output_type": "stream",
     "text": [
      "Q_TTSEM_NOMBRE:Ma réponse : nombrejourdeteletravailmaxparsemaine=2\n",
      "\n",
      "Mon extraction de trois phrases maximum qui répondent à la question :\n",
      "- \"Le rythme régulier du télétravail ne peut pas dépasser 2 jours maximum flottants par semaine.\"\n",
      "\n",
      "Mon raisonnement :\n",
      "Dans le contexte fourni, je recherche les paragraphes qui comportent le mot-clé \"semaine\" ou une notion de fréquence par semaine et qui concernent le nombre de jour de télétravail autorisé. Je trouve un paragraphe qui correspond à ces critères : \"Le rythme régulier du télétravail ne peut pas dépasser 2 jours maximum flottants par semaine.\". Par conséquent, le nombre maximal de jours de télétravail par semaine est de 2.\n",
      "\n",
      "145 T09121006533\n"
     ]
    },
    {
     "name": "stderr",
     "output_type": "stream",
     "text": [
      "Setting `pad_token_id` to `eos_token_id`:2 for open-end generation.\n"
     ]
    },
    {
     "name": "stdout",
     "output_type": "stream",
     "text": [
      "Q_TTSEM_NOMBRE:Ma réponse : nombrejourdeteletravailmaxparsemaine=0\n",
      "\n",
      "Mon extraction de trois phrases maximum qui répondent à la question :\n",
      "- \"Il est convenu entre les parties qu’un salarié ne puisse pas être en télétravail plus de deux journées par semaine\"\n",
      "- \"Des temps collectifs de travail réguliers sont indispensables.\"\n",
      "\n",
      "Mon raisonnement :\n",
      "Dans le document fourni, il y a une section qui définit les termes du télétravail et qui stipule qu'un salarié ne peut pas travailler plus de deux jours par semaine en télétravail. Cette section est située dans le paragraphe 2, sous le point b) qui définit le télétravailleur.\n",
      "Par conséquent, le nombre maximal de jours de télétravail par semaine est de 2.\n",
      "\n",
      "Cependant, il n'y a pas d'autres mentions explicites de jours de télétravail par semaine dans le document, donc je ne peux pas fournir d'autres variables ou informations.\n",
      "\n",
      "146 T03721002530\n"
     ]
    },
    {
     "name": "stderr",
     "output_type": "stream",
     "text": [
      "Setting `pad_token_id` to `eos_token_id`:2 for open-end generation.\n"
     ]
    },
    {
     "name": "stdout",
     "output_type": "stream",
     "text": [
      "Q_TTSEM_NOMBRE:Ma réponse : nombrejourdeteletravailmaxparsemaine=1\n",
      "\n",
      "Mon extraction de trois phrases maximum qui répondent à la question :\n",
      "- \"Le télétravail peut se pratiquer dans le lieu de vie habituel ou dans un second lieu privé.\" (document 1, article 8)\n",
      "- \"Le collaborateur en situation de télétravail doit prévoir un espace de travail spécifique dans lequel sera installé le matériel professionnel mis à sa disposition par l'entreprise.\" (document 1, article 8)\n",
      "- \"Le télétravail n'étant pas obligatoire, l'entreprise ne prendra aucun coût en charge qu'elle n'aurait validé au préalable.\" (document 1, article 10)\n",
      "\n",
      "Mon raisonnement :\n",
      "Dans le document fourni, je n'ai pas trouvé de paragraphe comportant le mot-clé \"semaine\" ou une notion de fréquence par semaine et concernant le nombre de jour de télétravail autorisé. Par conséquent, je ne peux pas répondre à la question sur le nombre maximal de jours de télétravail par semaine. Cependant, comme il s'agit d'une information importante pour votre étude, je vous conseille de vérifier auprès de la source des documents si cette information est disponible ailleurs.\n",
      "\n",
      "147 T09321006745\n"
     ]
    },
    {
     "name": "stderr",
     "output_type": "stream",
     "text": [
      "Setting `pad_token_id` to `eos_token_id`:2 for open-end generation.\n"
     ]
    },
    {
     "name": "stdout",
     "output_type": "stream",
     "text": [
      "Q_TTSEM_NOMBRE:\n",
      "Ma réponse : nombrejourdeteletravailmaxparsemaine=2\n",
      "\n",
      "Mon extraction de trois phrases maximum qui répondent à la question :\n",
      "\n",
      "* \"Il a été convenu, par le présent accord, d’augmenter le nombre de jours de travail à deux jours par semaine\"\n",
      "* \"permettant aux salariés concernés de recourir au télétravail en application des dispositions et du régime prévu dans l’accord du 7 décembre 2016 relatif à la mise en place du télétravail applicable au sein de l’entreprise.\"\n",
      "* \"Cette mesure sera applicable à compter de la publication du présent accord.\"\n",
      "\n",
      "Mon raisonnement :\n",
      "\n",
      "Dans le document, il y a un paragraphe qui comporte le mot-clé semaine et concerne le nombre de jour de télétravail autorisé. Il s'agit de l'article 1 du document qui stipule que \"Il a été convenu, par le présent accord, d’augmenter le nombre de jours de travail à deux jours par semaine\". Cette phrase implique que les salariés concernés peuvent télétravailler jusqu'à deux jours par semaine. Par conséquent, nombrejourdeteletravailmaxparsemaine=2.\n",
      "\n",
      "148 T09221026132\n"
     ]
    },
    {
     "name": "stderr",
     "output_type": "stream",
     "text": [
      "Setting `pad_token_id` to `eos_token_id`:2 for open-end generation.\n"
     ]
    },
    {
     "name": "stdout",
     "output_type": "stream",
     "text": [
      "Q_TTSEM_NOMBRE:Ma réponse : nombrejourdeteletravailmaxparsemaine=0\n",
      "\n",
      "Mon extraction de trois phrases maximum qui répondent à la question :\n",
      "- \"Ces deux jours complémentaires peuvent venir s’ajouter aux jours acquis dans le cadre du dispositif de dépassement des 218 jours.\"\n",
      "- \"Trois jours de présence sur site et sans autre mention du nombre de jours de télétravail autorisé\"\n",
      "- \"La prise de ces jours sera privilégiée dans les périodes suivantes : périodes dites de ponts (jour précédant ou suivant un jour férié), périodes de sous-activité de l’équipe, baisse de la charge de travail individuelle.\"\n",
      "\n",
      "Mon raisonnement :\n",
      "Les phrases extraites ne contiennent pas de mention explicite du nombre de jours de télétravail autorisés par semaine. De plus, les phrases relatives aux jours de télétravail ponctuel ou occasionnel ne sont pas prises en compte dans ma réponse. Par ailleurs, les phrases relatives aux jours de présence sur site ne permettent pas de déduire un nombre de jours de télétravail par semaine. Enfin, les phrases relatives aux périodes de prise de jours de télétravail ne permettent pas non plus de déduire un nombre de jours de télétravail par semaine.\n",
      "\n"
     ]
    }
   ],
   "source": [
    "import glob\n",
    "PARQUET_FILE_COMPARE=\"Accords/Donnees_Mathilde_Pesenti_TT_Pour_DEE_v2_def.parquet\"\n",
    "for (index,(num_dossier,accord)) in df_init.iterrows():\n",
    "    print(index,num_dossier)\n",
    "    with open(f\"{num_dossier}.txt\",\"w\", encoding=\"utf-8\") as file:\n",
    "        file.write(accord)\n",
    "\n",
    "    loader = TextLoader(f\"{num_dossier}.txt\", encoding='utf8')\n",
    "    docs=loader.load()\n",
    "    \n",
    "    # Chunk text\n",
    "    text_splitter = CharacterTextSplitter(chunk_size=5000, \n",
    "                                          chunk_overlap=100)\n",
    "    chunked_documents = text_splitter.split_documents(docs)\n",
    "    \n",
    "    # Load chunked documents into the FAISS index\n",
    "    db = FAISS.from_documents(chunked_documents, \n",
    "                              HuggingFaceEmbeddings(model_name='sentence-transformers/all-mpnet-base-v2'))\n",
    "    \n",
    "    retriever = db.as_retriever()\n",
    "    \n",
    "    rag_chain = ( \n",
    "     {\"context\": retriever, \"question\": RunnablePassthrough()}\n",
    "        | llm_chain\n",
    "    )\n",
    "    dict_reponse,text=process_model(rag_chain,num_dossier)\n",
    "    with open(f\"{num_dossier}_response.txt\",\"w\", encoding=\"utf-8\") as file:\n",
    "        file.write(text)\n",
    "        print(text)\n",
    "    df2=pd.DataFrame.from_dict(dict_reponse,orient=\"index\")\n",
    "    df2=df2.transpose().rename(columns=VAR_TRANSLATION)\n",
    "    df2.to_csv(f\"{num_dossier}.csv\")\n",
    "    df2.to_parquet(f\"{num_dossier}.parquet\")"
   ]
  },
  {
   "cell_type": "code",
   "execution_count": 22,
   "id": "6bb81953-adb7-4343-b2c1-91cd57bdb7b2",
   "metadata": {},
   "outputs": [
    {
     "name": "stdout",
     "output_type": "stream",
     "text": [
      "global accuracy 0.6622516556291391\n",
      "accuracy on non null value 0.5520833333333333 ; nombre correct : 53 sur 96\n",
      "accuracy on null value 0.8545454545454545 ; nombre correct : 47 sur 55\n"
     ]
    }
   ],
   "source": [
    "data_files=glob.glob('*.parquet')\n",
    "df = pd.concat((pd.read_parquet(f, engine = 'pyarrow') for f in data_files))\n",
    "df=df.set_index(\"num_dossier\")\n",
    "df=df[df.nombre_jours_teletravail_semaine.values!=[None]]\n",
    "df2=pd.read_parquet(f\"{PARQUET_FILE_COMPARE}\")\n",
    "df2=df2[[\"N..Dossier\",\"nombre_jours_teletravail_semaine\"]].set_index(\"N..Dossier\")\n",
    "df_merge=df2.merge(df,how=\"left\",left_index=True, right_index=True)\n",
    "df_merge.nombre_jours_teletravail_semaine_y=df_merge.nombre_jours_teletravail_semaine_y.astype(\"float64\")\n",
    "df_merge=df_merge.fillna(0.0)\n",
    "df_merge[\"diff\"]=(df_merge.nombre_jours_teletravail_semaine_x!=df_merge.nombre_jours_teletravail_semaine_y)\n",
    "print(\"global accuracy\",1-(df_merge[\"diff\"].sum()/df_merge.shape[0]))\n",
    "\n",
    "df_rempli=df_merge[df_merge.nombre_jours_teletravail_semaine_x!=0.0]\n",
    "nb_correct,total =df_rempli.shape[0]-df_rempli[\"diff\"].sum(),df_rempli.shape[0]\n",
    "print(\"accuracy on non null value\",1-(df_rempli[\"diff\"].sum()/df_rempli.shape[0]),f\"; nombre correct : {nb_correct} sur {total}\")\n",
    "\n",
    "df_rempli=df_merge[df_merge.nombre_jours_teletravail_semaine_x==0.0]\n",
    "nb_correct,total =df_rempli.shape[0]-df_rempli[\"diff\"].sum(),df_rempli.shape[0]\n",
    "print(\"accuracy on null value\",1-(df_rempli[\"diff\"].sum()/df_rempli.shape[0]),f\"; nombre correct : {nb_correct} sur {total}\")"
   ]
  },
  {
   "cell_type": "code",
   "execution_count": 23,
   "id": "031b511b-a051-40d3-a7b3-5f833a44a9cd",
   "metadata": {
    "scrolled": true
   },
   "outputs": [
    {
     "data": {
      "text/html": [
       "<div>\n",
       "<style scoped>\n",
       "    .dataframe tbody tr th:only-of-type {\n",
       "        vertical-align: middle;\n",
       "    }\n",
       "\n",
       "    .dataframe tbody tr th {\n",
       "        vertical-align: top;\n",
       "    }\n",
       "\n",
       "    .dataframe thead th {\n",
       "        text-align: right;\n",
       "    }\n",
       "</style>\n",
       "<table border=\"1\" class=\"dataframe\">\n",
       "  <thead>\n",
       "    <tr style=\"text-align: right;\">\n",
       "      <th></th>\n",
       "      <th>nombre_jours_teletravail_semaine_x</th>\n",
       "      <th>nombre_jours_teletravail_semaine_y</th>\n",
       "      <th>diff</th>\n",
       "    </tr>\n",
       "    <tr>\n",
       "      <th>N..Dossier</th>\n",
       "      <th></th>\n",
       "      <th></th>\n",
       "      <th></th>\n",
       "    </tr>\n",
       "  </thead>\n",
       "  <tbody>\n",
       "    <tr>\n",
       "      <th>T00621004760</th>\n",
       "      <td>1.0</td>\n",
       "      <td>0.0</td>\n",
       "      <td>True</td>\n",
       "    </tr>\n",
       "    <tr>\n",
       "      <th>T01321010134</th>\n",
       "      <td>3.0</td>\n",
       "      <td>1.0</td>\n",
       "      <td>True</td>\n",
       "    </tr>\n",
       "    <tr>\n",
       "      <th>T01321010151</th>\n",
       "      <td>1.0</td>\n",
       "      <td>0.0</td>\n",
       "      <td>True</td>\n",
       "    </tr>\n",
       "    <tr>\n",
       "      <th>T01321011053</th>\n",
       "      <td>2.0</td>\n",
       "      <td>1.0</td>\n",
       "      <td>True</td>\n",
       "    </tr>\n",
       "    <tr>\n",
       "      <th>T01321011332</th>\n",
       "      <td>2.0</td>\n",
       "      <td>0.0</td>\n",
       "      <td>True</td>\n",
       "    </tr>\n",
       "    <tr>\n",
       "      <th>T02221003288</th>\n",
       "      <td>2.0</td>\n",
       "      <td>0.0</td>\n",
       "      <td>True</td>\n",
       "    </tr>\n",
       "    <tr>\n",
       "      <th>T02621002990</th>\n",
       "      <td>2.0</td>\n",
       "      <td>0.0</td>\n",
       "      <td>True</td>\n",
       "    </tr>\n",
       "    <tr>\n",
       "      <th>T03121008885</th>\n",
       "      <td>2.0</td>\n",
       "      <td>0.0</td>\n",
       "      <td>True</td>\n",
       "    </tr>\n",
       "    <tr>\n",
       "      <th>T03321006775</th>\n",
       "      <td>1.0</td>\n",
       "      <td>0.0</td>\n",
       "      <td>True</td>\n",
       "    </tr>\n",
       "    <tr>\n",
       "      <th>T03321007161</th>\n",
       "      <td>4.0</td>\n",
       "      <td>0.0</td>\n",
       "      <td>True</td>\n",
       "    </tr>\n",
       "    <tr>\n",
       "      <th>T04121001532</th>\n",
       "      <td>5.0</td>\n",
       "      <td>2.0</td>\n",
       "      <td>True</td>\n",
       "    </tr>\n",
       "    <tr>\n",
       "      <th>T04221004283</th>\n",
       "      <td>2.0</td>\n",
       "      <td>0.0</td>\n",
       "      <td>True</td>\n",
       "    </tr>\n",
       "    <tr>\n",
       "      <th>T04221004677</th>\n",
       "      <td>3.0</td>\n",
       "      <td>0.0</td>\n",
       "      <td>True</td>\n",
       "    </tr>\n",
       "    <tr>\n",
       "      <th>T04521003587</th>\n",
       "      <td>3.0</td>\n",
       "      <td>0.0</td>\n",
       "      <td>True</td>\n",
       "    </tr>\n",
       "    <tr>\n",
       "      <th>T05121003353</th>\n",
       "      <td>0.5</td>\n",
       "      <td>0.0</td>\n",
       "      <td>True</td>\n",
       "    </tr>\n",
       "    <tr>\n",
       "      <th>T05121003407</th>\n",
       "      <td>4.0</td>\n",
       "      <td>3.0</td>\n",
       "      <td>True</td>\n",
       "    </tr>\n",
       "    <tr>\n",
       "      <th>T05221001044</th>\n",
       "      <td>2.0</td>\n",
       "      <td>0.0</td>\n",
       "      <td>True</td>\n",
       "    </tr>\n",
       "    <tr>\n",
       "      <th>T05321002415</th>\n",
       "      <td>3.0</td>\n",
       "      <td>0.0</td>\n",
       "      <td>True</td>\n",
       "    </tr>\n",
       "    <tr>\n",
       "      <th>T05721004198</th>\n",
       "      <td>2.0</td>\n",
       "      <td>0.0</td>\n",
       "      <td>True</td>\n",
       "    </tr>\n",
       "    <tr>\n",
       "      <th>T05721004568</th>\n",
       "      <td>1.0</td>\n",
       "      <td>2.0</td>\n",
       "      <td>True</td>\n",
       "    </tr>\n",
       "    <tr>\n",
       "      <th>T06021003016</th>\n",
       "      <td>2.0</td>\n",
       "      <td>1.0</td>\n",
       "      <td>True</td>\n",
       "    </tr>\n",
       "    <tr>\n",
       "      <th>T06421003693</th>\n",
       "      <td>2.0</td>\n",
       "      <td>1.0</td>\n",
       "      <td>True</td>\n",
       "    </tr>\n",
       "    <tr>\n",
       "      <th>T06721007237</th>\n",
       "      <td>1.5</td>\n",
       "      <td>0.0</td>\n",
       "      <td>True</td>\n",
       "    </tr>\n",
       "    <tr>\n",
       "      <th>T06821004760</th>\n",
       "      <td>2.0</td>\n",
       "      <td>0.0</td>\n",
       "      <td>True</td>\n",
       "    </tr>\n",
       "    <tr>\n",
       "      <th>T06921015778</th>\n",
       "      <td>3.0</td>\n",
       "      <td>0.0</td>\n",
       "      <td>True</td>\n",
       "    </tr>\n",
       "    <tr>\n",
       "      <th>T07521028203</th>\n",
       "      <td>2.0</td>\n",
       "      <td>1.0</td>\n",
       "      <td>True</td>\n",
       "    </tr>\n",
       "    <tr>\n",
       "      <th>T07521028253</th>\n",
       "      <td>2.0</td>\n",
       "      <td>1.0</td>\n",
       "      <td>True</td>\n",
       "    </tr>\n",
       "    <tr>\n",
       "      <th>T07521029992</th>\n",
       "      <td>2.0</td>\n",
       "      <td>0.0</td>\n",
       "      <td>True</td>\n",
       "    </tr>\n",
       "    <tr>\n",
       "      <th>T08721002004</th>\n",
       "      <td>2.0</td>\n",
       "      <td>0.0</td>\n",
       "      <td>True</td>\n",
       "    </tr>\n",
       "    <tr>\n",
       "      <th>T09121006120</th>\n",
       "      <td>2.0</td>\n",
       "      <td>0.0</td>\n",
       "      <td>True</td>\n",
       "    </tr>\n",
       "    <tr>\n",
       "      <th>T09121006533</th>\n",
       "      <td>2.0</td>\n",
       "      <td>0.0</td>\n",
       "      <td>True</td>\n",
       "    </tr>\n",
       "    <tr>\n",
       "      <th>T09221024001</th>\n",
       "      <td>4.0</td>\n",
       "      <td>0.0</td>\n",
       "      <td>True</td>\n",
       "    </tr>\n",
       "    <tr>\n",
       "      <th>T09221025128</th>\n",
       "      <td>2.0</td>\n",
       "      <td>5.0</td>\n",
       "      <td>True</td>\n",
       "    </tr>\n",
       "    <tr>\n",
       "      <th>T09221025668</th>\n",
       "      <td>2.0</td>\n",
       "      <td>0.0</td>\n",
       "      <td>True</td>\n",
       "    </tr>\n",
       "    <tr>\n",
       "      <th>T09221025943</th>\n",
       "      <td>3.0</td>\n",
       "      <td>1.0</td>\n",
       "      <td>True</td>\n",
       "    </tr>\n",
       "    <tr>\n",
       "      <th>T09221026193</th>\n",
       "      <td>3.0</td>\n",
       "      <td>1.0</td>\n",
       "      <td>True</td>\n",
       "    </tr>\n",
       "    <tr>\n",
       "      <th>T09221026340</th>\n",
       "      <td>3.0</td>\n",
       "      <td>0.0</td>\n",
       "      <td>True</td>\n",
       "    </tr>\n",
       "    <tr>\n",
       "      <th>T09221026357</th>\n",
       "      <td>2.0</td>\n",
       "      <td>3.0</td>\n",
       "      <td>True</td>\n",
       "    </tr>\n",
       "    <tr>\n",
       "      <th>T09221026359</th>\n",
       "      <td>3.0</td>\n",
       "      <td>2.0</td>\n",
       "      <td>True</td>\n",
       "    </tr>\n",
       "    <tr>\n",
       "      <th>T09221026409</th>\n",
       "      <td>3.0</td>\n",
       "      <td>2.0</td>\n",
       "      <td>True</td>\n",
       "    </tr>\n",
       "    <tr>\n",
       "      <th>T09221026467</th>\n",
       "      <td>2.0</td>\n",
       "      <td>1.0</td>\n",
       "      <td>True</td>\n",
       "    </tr>\n",
       "    <tr>\n",
       "      <th>T09321006383</th>\n",
       "      <td>5.0</td>\n",
       "      <td>0.0</td>\n",
       "      <td>True</td>\n",
       "    </tr>\n",
       "    <tr>\n",
       "      <th>T59V21001231</th>\n",
       "      <td>1.0</td>\n",
       "      <td>0.0</td>\n",
       "      <td>True</td>\n",
       "    </tr>\n",
       "  </tbody>\n",
       "</table>\n",
       "</div>"
      ],
      "text/plain": [
       "              nombre_jours_teletravail_semaine_x  \\\n",
       "N..Dossier                                         \n",
       "T00621004760                                 1.0   \n",
       "T01321010134                                 3.0   \n",
       "T01321010151                                 1.0   \n",
       "T01321011053                                 2.0   \n",
       "T01321011332                                 2.0   \n",
       "T02221003288                                 2.0   \n",
       "T02621002990                                 2.0   \n",
       "T03121008885                                 2.0   \n",
       "T03321006775                                 1.0   \n",
       "T03321007161                                 4.0   \n",
       "T04121001532                                 5.0   \n",
       "T04221004283                                 2.0   \n",
       "T04221004677                                 3.0   \n",
       "T04521003587                                 3.0   \n",
       "T05121003353                                 0.5   \n",
       "T05121003407                                 4.0   \n",
       "T05221001044                                 2.0   \n",
       "T05321002415                                 3.0   \n",
       "T05721004198                                 2.0   \n",
       "T05721004568                                 1.0   \n",
       "T06021003016                                 2.0   \n",
       "T06421003693                                 2.0   \n",
       "T06721007237                                 1.5   \n",
       "T06821004760                                 2.0   \n",
       "T06921015778                                 3.0   \n",
       "T07521028203                                 2.0   \n",
       "T07521028253                                 2.0   \n",
       "T07521029992                                 2.0   \n",
       "T08721002004                                 2.0   \n",
       "T09121006120                                 2.0   \n",
       "T09121006533                                 2.0   \n",
       "T09221024001                                 4.0   \n",
       "T09221025128                                 2.0   \n",
       "T09221025668                                 2.0   \n",
       "T09221025943                                 3.0   \n",
       "T09221026193                                 3.0   \n",
       "T09221026340                                 3.0   \n",
       "T09221026357                                 2.0   \n",
       "T09221026359                                 3.0   \n",
       "T09221026409                                 3.0   \n",
       "T09221026467                                 2.0   \n",
       "T09321006383                                 5.0   \n",
       "T59V21001231                                 1.0   \n",
       "\n",
       "              nombre_jours_teletravail_semaine_y  diff  \n",
       "N..Dossier                                              \n",
       "T00621004760                                 0.0  True  \n",
       "T01321010134                                 1.0  True  \n",
       "T01321010151                                 0.0  True  \n",
       "T01321011053                                 1.0  True  \n",
       "T01321011332                                 0.0  True  \n",
       "T02221003288                                 0.0  True  \n",
       "T02621002990                                 0.0  True  \n",
       "T03121008885                                 0.0  True  \n",
       "T03321006775                                 0.0  True  \n",
       "T03321007161                                 0.0  True  \n",
       "T04121001532                                 2.0  True  \n",
       "T04221004283                                 0.0  True  \n",
       "T04221004677                                 0.0  True  \n",
       "T04521003587                                 0.0  True  \n",
       "T05121003353                                 0.0  True  \n",
       "T05121003407                                 3.0  True  \n",
       "T05221001044                                 0.0  True  \n",
       "T05321002415                                 0.0  True  \n",
       "T05721004198                                 0.0  True  \n",
       "T05721004568                                 2.0  True  \n",
       "T06021003016                                 1.0  True  \n",
       "T06421003693                                 1.0  True  \n",
       "T06721007237                                 0.0  True  \n",
       "T06821004760                                 0.0  True  \n",
       "T06921015778                                 0.0  True  \n",
       "T07521028203                                 1.0  True  \n",
       "T07521028253                                 1.0  True  \n",
       "T07521029992                                 0.0  True  \n",
       "T08721002004                                 0.0  True  \n",
       "T09121006120                                 0.0  True  \n",
       "T09121006533                                 0.0  True  \n",
       "T09221024001                                 0.0  True  \n",
       "T09221025128                                 5.0  True  \n",
       "T09221025668                                 0.0  True  \n",
       "T09221025943                                 1.0  True  \n",
       "T09221026193                                 1.0  True  \n",
       "T09221026340                                 0.0  True  \n",
       "T09221026357                                 3.0  True  \n",
       "T09221026359                                 2.0  True  \n",
       "T09221026409                                 2.0  True  \n",
       "T09221026467                                 1.0  True  \n",
       "T09321006383                                 0.0  True  \n",
       "T59V21001231                                 0.0  True  "
      ]
     },
     "execution_count": 23,
     "metadata": {},
     "output_type": "execute_result"
    }
   ],
   "source": [
    "df_rempli=df_merge[df_merge.nombre_jours_teletravail_semaine_x!=0.0]\n",
    "df_rempli[df_rempli[\"diff\"]]"
   ]
  },
  {
   "cell_type": "code",
   "execution_count": null,
   "id": "2cb9b7d3-0bcd-4493-939c-43fc87011d7c",
   "metadata": {},
   "outputs": [],
   "source": []
  },
  {
   "cell_type": "code",
   "execution_count": null,
   "id": "528ef75a-519d-48a1-94ba-20a713227ec2",
   "metadata": {},
   "outputs": [],
   "source": []
  }
 ],
 "metadata": {
  "kernelspec": {
   "display_name": "Python 3 (ipykernel)",
   "language": "python",
   "name": "python3"
  },
  "language_info": {
   "codemirror_mode": {
    "name": "ipython",
    "version": 3
   },
   "file_extension": ".py",
   "mimetype": "text/x-python",
   "name": "python",
   "nbconvert_exporter": "python",
   "pygments_lexer": "ipython3",
   "version": "3.10.13"
  }
 },
 "nbformat": 4,
 "nbformat_minor": 5
}
