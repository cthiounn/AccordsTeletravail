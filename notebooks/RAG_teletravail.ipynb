{
 "cells": [
  {
   "cell_type": "code",
   "execution_count": null,
   "id": "64b55acc-0e5c-4d30-8b60-50070eb0307f",
   "metadata": {},
   "outputs": [],
   "source": [
    "# Notebook from https://medium.com/@thakermadhav/build-your-own-rag-with-mistral-7b-and-langchain-97d0c92fa146\n",
    "!pip install -q torch datasets\n",
    "!pip install -q accelerate==0.21.0 \\\n",
    "                peft==0.4.0 \\\n",
    "                bitsandbytes==0.40.2 \\\n",
    "                transformers==4.31.0 \\\n",
    "                trl==0.4.7\n",
    "!pip install -q scipy langchain transformers playwright html2text sentence_transformers faiss-gpu\n",
    "!pip install -q --upgrade git+https://github.com/huggingface/transformers"
   ]
  },
  {
   "cell_type": "code",
   "execution_count": null,
   "id": "f860479f-f9d0-4162-9701-aeb4da44f3eb",
   "metadata": {},
   "outputs": [],
   "source": [
    "!playwright install > /dev/null\n",
    "!playwright install-deps > /dev/null"
   ]
  },
  {
   "cell_type": "code",
   "execution_count": null,
   "id": "3e8eba08-2a0d-43a0-ae6c-79035327b035",
   "metadata": {},
   "outputs": [],
   "source": [
    "!pip install -U tokenizers"
   ]
  },
  {
   "cell_type": "code",
   "execution_count": null,
   "id": "923862f9-6c52-4509-b85f-b464c7ba0cf6",
   "metadata": {},
   "outputs": [],
   "source": [
    "import os\n",
    "import torch\n",
    "from transformers import (\n",
    "  AutoTokenizer, \n",
    "  AutoModelForCausalLM, \n",
    "  BitsAndBytesConfig,\n",
    "  pipeline\n",
    ")\n",
    "\n",
    "from transformers import BitsAndBytesConfig\n",
    "\n",
    "\n",
    "\n",
    "\n",
    "from langchain.prompts import PromptTemplate\n",
    "from langchain.schema.runnable import RunnablePassthrough\n",
    "from langchain.llms import HuggingFacePipeline\n",
    "from langchain.chains import LLMChain\n",
    "\n",
    "\n",
    "#################################################################\n",
    "# Tokenizer\n",
    "#################################################################\n",
    "\n",
    "model_name=\"mistralai/Mistral-7B-Instruct-v0.1\"\n",
    "model_name=\"mistralai/Mixtral-8x7B-Instruct-v0.1\"\n",
    "tokenizer = AutoTokenizer.from_pretrained(model_name, trust_remote_code=True)\n",
    "tokenizer.pad_token = tokenizer.eos_token\n",
    "tokenizer.padding_side = \"right\"\n",
    "\n",
    "#################################################################\n",
    "# bitsandbytes parameters\n",
    "#################################################################\n",
    "\n",
    "# Activate 4-bit precision base model loading\n",
    "use_4bit = True\n",
    "\n",
    "# Compute dtype for 4-bit base models\n",
    "bnb_4bit_compute_dtype = \"float16\"\n",
    "\n",
    "# Quantization type (fp4 or nf4)\n",
    "bnb_4bit_quant_type = \"nf4\"\n",
    "\n",
    "# Activate nested quantization for 4-bit base models (double quantization)\n",
    "use_nested_quant = True\n",
    "\n",
    "#################################################################\n",
    "# Set up quantization config\n",
    "#################################################################\n",
    "compute_dtype = getattr(torch, bnb_4bit_compute_dtype)\n",
    "\n",
    "bnb_config = BitsAndBytesConfig(\n",
    "    load_in_4bit=use_4bit,\n",
    "    bnb_4bit_quant_type=bnb_4bit_quant_type,\n",
    "    bnb_4bit_compute_dtype=compute_dtype,\n",
    "    bnb_4bit_use_double_quant=use_nested_quant,\n",
    ")\n",
    "\n",
    "# Check GPU compatibility with bfloat16\n",
    "if compute_dtype == torch.float16 and use_4bit:\n",
    "    major, _ = torch.cuda.get_device_capability()\n",
    "    if major >= 8:\n",
    "        print(\"=\" * 80)\n",
    "        print(\"Your GPU supports bfloat16: accelerate training with bf16=True\")\n",
    "        print(\"=\" * 80)\n",
    "\n",
    "#################################################################\n",
    "# Load pre-trained config\n",
    "#################################################################\n",
    "model = AutoModelForCausalLM.from_pretrained(\n",
    "    model_name,\n",
    "    quantization_config=bnb_config,\n",
    "    cache_dir=\".\",\n",
    ")\n",
    "#load_in_4bits=True)\n"
   ]
  },
  {
   "cell_type": "code",
   "execution_count": 283,
   "id": "a9778127-0508-4d93-b718-ae8108e884ca",
   "metadata": {},
   "outputs": [],
   "source": [
    "model.config.pad_token_id = tokenizer.pad_token_id\n",
    "\n",
    "text_generation_pipeline = pipeline(\n",
    "    model=model,\n",
    "    tokenizer=tokenizer,\n",
    "    task=\"text-generation\",\n",
    "    temperature=0.2,\n",
    "    repetition_penalty=1.1,\n",
    "    return_full_text=True,\n",
    "    max_new_tokens=1000,\n",
    ")\n",
    "\n",
    "mistral_llm = HuggingFacePipeline(pipeline=text_generation_pipeline)"
   ]
  },
  {
   "cell_type": "code",
   "execution_count": 284,
   "id": "f3fb3129-2b6a-4819-9b68-ad0552cb23b1",
   "metadata": {},
   "outputs": [],
   "source": [
    "import arrow\n",
    "import pandas as pd\n",
    "PARQUET_FILE=\"Accords/echantillon_public_Mathilde.parquet\""
   ]
  },
  {
   "cell_type": "code",
   "execution_count": 285,
   "id": "6f3e9f65-5314-4091-b2eb-cb3592a8b27a",
   "metadata": {},
   "outputs": [],
   "source": [
    "df_init=pd.read_parquet(PARQUET_FILE)"
   ]
  },
  {
   "cell_type": "code",
   "execution_count": 286,
   "id": "065f4c3e-99d2-46ff-b97c-39ba7ffa5433",
   "metadata": {},
   "outputs": [],
   "source": [
    "prompt_template = \"\"\"\n",
    "\n",
    "### [ROLE] Role: Vous êtes un expert juridique des accords d'entreprise sans compétence de programmation informatique, seulement la lecture et la compréhension des textes. Tu ne connais aucun langage de programmation, ni les expressions régulières.\n",
    "\n",
    "\n",
    "### [INST] Instruction: Votre travail consiste à peupler et mettre à jour une base des données nécessaires pour réaliser des études économétriques poussées sur le télétravail.\n",
    "        Pour cela, vous devez prendre le texte d'un accord d'entreprise dans le contexte suivant, dans lesquelles figurent les informations à jour que l'on vous fourni, et d'extraire précisément l'information spécifique dont vous avez besoin.\n",
    "        Vous ne devez extraire que le nombre, et uniquement le nombre. Le nombre peut être écrit en lettres ou en chiffres. (exemple : deux ou 2 )\n",
    "        Si vous ne trouvez pas la réponse dans le texte vous devez le dire et ne pas chercher à en fournir un autre nombre.\n",
    "        Avant de répondre, vérifier que la réponse se trouve bien dans le texte indiqué.\n",
    "        Impératif pour votre raisonnement : Déconnecter les liens entre les périodicités (semaine, mois, trimestre, année)! Faire comme si les semaines, les mois, les trimestres et les années sont des concepts indépendants : dans un mois, il y a donc 0 semaine ; dans un trimestre, 0 mois et 0 semaine; dans une année, 0 trimestre, 0 mois et 0 semaine !\n",
    "        Pas de proratisation !\n",
    "        Il y a cinq jours ouvrés dans une semaine, donc un nombre de jour de télétravail par semaine ne peut pas être strictement supérieur à cinq.\n",
    "        Si tu donnes un nombre réel, ne donne pas la fraction mais un arrondi !\n",
    "        Si le nombre de jour de télétravail annuel est inférieur à 52, ce nombre de jour de télétravail concerne du télétravail occasionnel. S'il est supérieur ou égal à 52, ce nombre concerne du télétravail régulier.\n",
    "        Si le nombre de jour de télétravail trimestriel est inférieur à 13, ce nombre de jour de télétravail concerne du télétravail occasionnel. S'il est supérieur ou égal à 13, ce nombre concerne du télétravail régulier.\n",
    "        Si le nombre de jour de télétravail mensuelle est inférieur à 4, ce nombre de jour de télétravail concerne du télétravail occasionnel. S'il est supérieur ou égal à 4, ce nombre concerne du télétravail régulier.\n",
    "        Structure ta réponse comme suit :\n",
    "        * Mon raisonnenement :\n",
    "        * Phrase ou paragraphe du contexte qui répond à la question :\n",
    "        * Ma réponse :\n",
    "        \n",
    "### Contexte: \n",
    "{context}\n",
    "\n",
    "### QUESTION:\n",
    "{question} [/INST]\n",
    "\"\"\""
   ]
  },
  {
   "cell_type": "code",
   "execution_count": 287,
   "id": "cd4e7965-223c-49ed-bea1-5c0dd89a6b46",
   "metadata": {},
   "outputs": [],
   "source": [
    "# Create prompt from prompt template \n",
    "prompt = PromptTemplate(\n",
    "    input_variables=[\"context\", \"question\"],\n",
    "    template=prompt_template,\n",
    ")\n",
    "\n",
    "# Create llm chain \n",
    "llm_chain = LLMChain(llm=mistral_llm, prompt=prompt)"
   ]
  },
  {
   "cell_type": "code",
   "execution_count": 288,
   "id": "50bc8e16-8943-4e71-8a43-7342eeae75d5",
   "metadata": {},
   "outputs": [],
   "source": [
    "from langchain.text_splitter import CharacterTextSplitter\n",
    "from langchain.document_transformers import Html2TextTransformer\n",
    "from langchain.document_loaders import AsyncChromiumLoader\n",
    "from langchain.embeddings.huggingface import HuggingFaceEmbeddings\n",
    "from langchain.vectorstores import FAISS\n",
    "from langchain_community.document_loaders import TextLoader\n",
    "import warnings\n",
    "warnings.filterwarnings('ignore')\n",
    "import re\n",
    "def guess_reponse_booleenne(reponse):\n",
    "    reponse_booleenne=None\n",
    "    if reponse[\"text\"].startswith(\"\\nOui\") or reponse[\"text\"].startswith(\"Oui\") :\n",
    "        reponse_booleenne=1\n",
    "    elif reponse[\"text\"].startswith(\"\\nNon\") or reponse[\"text\"].startswith(\"Non\") :\n",
    "        reponse_booleenne=0\n",
    "    return reponse_booleenne\n",
    "\n",
    "def guess_reponse_durée(reponse):\n",
    "    reponse_booleenne=None\n",
    "    if \"indéterminée\" in reponse[\"text\"].lower() :\n",
    "        reponse_booleenne=0\n",
    "    elif \"déterminée\" in reponse[\"text\"].lower():\n",
    "        reponse_booleenne=1\n",
    "    return reponse_booleenne\n",
    "\n",
    "def guess_reponse_nombre(reponse,pattern=\"nombre\"):\n",
    "    reponse_nombre=None\n",
    "    REGEX=rf\".*{pattern}=(\\d+)\"\n",
    "    numbers=re.findall(REGEX,reponse[\"text\"])\n",
    "    if numbers:\n",
    "        reponse_nombre=numbers[0]\n",
    "    return reponse_nombre"
   ]
  },
  {
   "cell_type": "code",
   "execution_count": 289,
   "id": "738e6397-10db-4fad-9abc-b1780fcbdd89",
   "metadata": {},
   "outputs": [],
   "source": [
    "Q_DUREE=\"S'il est fait mention d'une durée de l'accord, est-ce que l'accord est à durée déterminée ou à durée indéterminée ? déterminée=1 ou indéterminée=0 ou NA?\"\n",
    "Q_REVERS=\"S'il est fait mention d'une clause et d'un article de réversibilité, est-ce que l'accord a une clause ou un article de réversibilité ? Oui=1 ou non=0 ou NA?\"\n",
    "Q_ADAPT=\"S'il est fait mention d'une période d'adaptation, est-ce que l'accord comprend une période d'adaptation ? Oui=1 ou non=0 ou NA?\"\n",
    "Q_TTREG=\"Est-ce qu'au moins un paragraphe mentionne du télétravail régulier ?\"\n",
    "Q_TTOCA=\"Est-ce qu'au moins un paragraphe mentionne du télétravail occasionnel ?\"\n",
    "Q_TTEXC=\"Est-ce qu'au moins un paragraphe mentionne du télétravail exceptionnel ?\"\n",
    "Q_DISPOSPERQTHENCEINTE=\"Est-ce qu'au moins un paragraphe mentionne des dispositifs spéciaux pour les travailleurs en situation de handicap, les femmes enceintes, les séniors ou les personnes présentant des fragilités ou des problèmes de santé ?\"\n",
    "Q_MONTANT_CAVIARDE=\"Est-ce qu'au moins un paragraphe mentionne un nombre sans le donner exactement, mais sous forme illisible ?\"\n",
    "Q_TELETRAVAIL_FLEX_SANS_LIMITE=\"Est-ce qu'au moins un paragraphe suggère une liberté totale dans le choix des jours de télétravail, hormis quelques contraintes de présence ?\"\n",
    "Q_TT_REG_NOMBRE_FORMULE=Q_TTREG+\"Si oui, combien de formules (exemples de formule : si temps plein et temps partiel = 2, si choix entre 1 à 3 jours de télétravail régulier = 3) sont proposées pour du télétravail régulier ? Retourne à la fin 'nombre=max(tes réponses)'\"\n",
    "PERIODICITE={\"MOIS\":\"mois\",\"TRIM\":\"trimestre\",\"ANNEE\":\"année\", \"SEM\":\"semaine\"}\n",
    "PERIODICITE2={\"JOUR\":\"jour\",\"MOIS\":\"mois\",\"TRIM\":\"trimestre\",\"ANNEE\":\"année\", \"SEM\":\"semaine\"}\n",
    "Q_COMPE=\"Est-ce qu'au moins un paragraphe mentionne une indemnité spécialement pour l'achat d'équipements ?\"\n",
    "Q_COMPE_NOMBRE=Q_COMPE+\"Si oui, sélectionne seulement les paragraphes mentionnant une indemnité spécialement pour l'achat d'équipements et s'il existe donne le montant lié de l'indemnité d'équipement. Si oui, retourne à la fin 'nombre=max(ta réponse)'\"\n",
    "Q_EQUIPEMENT=\"Est-ce qu'au moins un paragraphe mentionne un équipement de télétravail fourni ?\"\n",
    "Q_COMPS=\"Est-ce qu'au moins un paragraphe mentionne explicitement une indemnité de sujétion (dans le cas où l'employeur impose le télétravail, ce dernier indemnise l'employé) ?\"\n",
    "Q_COMPS_NOMBRE=Q_COMPS+\"Si oui, sélectionne seulement les paragraphes mentionnant une indemnité de sujétion dans le cas où l'employeur impose le télétravail et s'il existe donne le montant lié de l'indemnité de sujétion dans le cas où l'employeur impose le télétravail. Si oui, retourne à la fin 'nombre=max(ta réponse)'\""
   ]
  },
  {
   "cell_type": "code",
   "execution_count": 290,
   "id": "bf6654b6-813d-40f6-bae7-f3f68ff1c076",
   "metadata": {},
   "outputs": [],
   "source": [
    "def process_model(rag_chain,num_dossier):\n",
    "    dict_reponse=dict()\n",
    "    dict_reponse[\"num_dossier\"]=num_dossier\n",
    "    text=\"\"\n",
    "    reponse= rag_chain.invoke(Q_DISPOSPERQTHENCEINTE)\n",
    "    text+=\"Q_DISPOSPERQTHENCEINTE:\"+reponse[\"text\"] + \"\\n\"\n",
    "    dict_reponse[\"DISPOSPERQTHENCEINTE\"]=guess_reponse_booleenne(reponse)\n",
    "    reponse= rag_chain.invoke(Q_MONTANT_CAVIARDE)\n",
    "    text+=\"Q_MONTANT_CAVIARDE:\"+reponse[\"text\"] + \"\\n\"\n",
    "    dict_reponse[\"MONTANT_CAVIARDE\"]=guess_reponse_booleenne(reponse)\n",
    "    reponse= rag_chain.invoke(Q_TELETRAVAIL_FLEX_SANS_LIMITE)\n",
    "    text+=\"Q_TELETRAVAIL_FLEX_SANS_LIMITE:\"+reponse[\"text\"] + \"\\n\"\n",
    "    dict_reponse[\"TELETRAVAIL_FLEX_SANS_LIMITE\"]=guess_reponse_booleenne(reponse)\n",
    "    reponse= rag_chain.invoke(Q_TT_REG_NOMBRE_FORMULE)\n",
    "    text+=\"Q_TT_REG_NOMBRE_FORMULE:\"+reponse[\"text\"] + \"\\n\"\n",
    "    dict_reponse[\"TT_REG_NOMBRE_FORMULE\"]=guess_reponse_nombre(reponse)\n",
    "    reponse= rag_chain.invoke(Q_DUREE)\n",
    "    text+=\"Q_DUREE:\"+reponse[\"text\"] + \"\\n\"\n",
    "    dict_reponse[\"DUREE\"]=guess_reponse_durée(reponse)\n",
    "    reponse= rag_chain.invoke(Q_REVERS)\n",
    "    text+=\"Q_REVERS:\"+reponse[\"text\"] + \"\\n\"\n",
    "    dict_reponse[\"REVERS\"]=guess_reponse_booleenne(reponse)\n",
    "    reponse= rag_chain.invoke(Q_ADAPT)\n",
    "    text+=\"Q_ADAPT:\"+reponse[\"text\"] + \"\\n\"\n",
    "    dict_reponse[\"ADAPT\"]=guess_reponse_booleenne(reponse)\n",
    "    reponse= rag_chain.invoke(Q_TTREG)\n",
    "    text+=\"Q_TTREG:\"+reponse[\"text\"] + \"\\n\"\n",
    "    dict_reponse[\"TTREG\"]=guess_reponse_booleenne(reponse)\n",
    "    reponse= rag_chain.invoke(Q_TTOCA)\n",
    "    text+=\"Q_TTOCA:\"+reponse[\"text\"] + \"\\n\"\n",
    "    dict_reponse[\"TTOCA\"]=guess_reponse_booleenne(reponse)\n",
    "    reponse= rag_chain.invoke(Q_TTEXC)\n",
    "    text+=\"Q_TTEXC:\"+reponse[\"text\"] + \"\\n\"\n",
    "    dict_reponse[\"TTEXC\"]=guess_reponse_booleenne(reponse)\n",
    "    for (k,v) in PERIODICITE.items():\n",
    "        Q_TT=f\"Hors jours supplémentaires ou exceptionnels, est-ce qu'au moins un paragraphe mentionne un nombre de jour de télétravail maximum autorisé explicitement exprimé par {v} ?\"\n",
    "        reponse= rag_chain.invoke(Q_TT)\n",
    "        text+=f\"Q_TT{k}:\"+reponse[\"text\"] + \"\\n\"\n",
    "        dict_reponse[f\"TT{k}\"]=guess_reponse_booleenne(reponse)\n",
    "        #Q_TT_NOMBRE=f\"Extrait le nombre de jour de télétravail maximum autorisé explicitement exprimé par {v} seulement à partir du texte suivant : {text_reponse}\"\n",
    "        Q_TT_NOMBRE=Q_TT+f\"Si oui, quel est le nombre de jour de télétravail supplémentaires explicitement exprimé et nécessairement et seulement exprimé par {v} pour des dispositions spéciales. Si oui, retourne à la fin 'nombre=max(tes réponses)'\"\n",
    "        reponse= rag_chain.invoke(Q_TT_NOMBRE)\n",
    "        text+=f\"Q_TT{k}_NOMBRE:\"+reponse[\"text\"] + \"\\n\"\n",
    "        dict_reponse[f\"TT{k}_NOMBRE\"]=guess_reponse_nombre(reponse)\n",
    "    for (k,v) in PERIODICITE.items():\n",
    "        Q_TTOCA_PERIOD=f\"Dans le cadre du télétravail occasionnel, est-ce qu'au moins un paragraphe mentionne un nombre de jour de télétravail maximum autorisé explicitement exprimé par {v} ?\"\n",
    "        reponse= rag_chain.invoke(Q_TTOCA_PERIOD)\n",
    "        text+=f\"TTOCA{k}:\"+reponse[\"text\"] + \"\\n\"\n",
    "        dict_reponse[f\"TTOCA{k}\"]=guess_reponse_booleenne(reponse)\n",
    "        Q_TTOCA_NOMBRE=Q_TTOCA_PERIOD+f\"Si oui, quel est le nombre de jour de télétravail occasionnel explicitement exprimé et nécessairement et seulement exprimé par {v}. Si oui, retourne à la fin 'nombre=max(tes réponses)'\"\n",
    "        reponse= rag_chain.invoke(Q_TTOCA_NOMBRE)\n",
    "        text+=f\"Q_TTOCA_{k}_NOMBRE:\"+reponse[\"text\"] + \"\\n\"\n",
    "        dict_reponse[f\"TTOCA_{k}_NOMBRE\"]=guess_reponse_nombre(reponse)\n",
    "    for (k,v) in PERIODICITE.items():\n",
    "        Q_PRESJOUR=f\"Est-ce qu'au moins un paragraphe mentionne un nombre de jour de présence obligatoire sur site minimum explicitement exprimé par {v} ?\"\n",
    "        reponse= rag_chain.invoke(Q_PRESJOUR)\n",
    "        text+=f\"Q_PRESJOUR{k}:\"+reponse[\"text\"] + \"\\n\"\n",
    "        dict_reponse[f\"TTPRESJOUR{k}\"]=guess_reponse_booleenne(reponse)\n",
    "        Q_PRESJOUR_NOMBRE=Q_PRESJOUR+f\"Si oui, sélectionne seulement les paragraphes mentionnant un nombre de jour de présence obligatoire sur site minimum explicitement exprimé par {v} et s'il existe donne le nombre de jour de présence obligatoire sur site minimum explicitement exprimé par {v}. Si oui, retourne à la fin 'nombre=max(tes réponses)'\"\n",
    "        reponse= rag_chain.invoke(Q_PRESJOUR_NOMBRE)\n",
    "        text+=f\"Q_PRESJOUR{k}_NOMBRE:\"+reponse[\"text\"] + \"\\n\"\n",
    "        dict_reponse[f\"PRESJOUR{k}_NOMBRE\"]=guess_reponse_nombre(reponse)\n",
    "    for (k,v) in PERIODICITE2.items():\n",
    "        Q_COMP=f\"Hors indemnité d'équipement, est-ce qu'au moins un paragraphe mentionne une indemnité forfaitaire explicitement exprimée par {v} ?\"\n",
    "        reponse= rag_chain.invoke(Q_COMP)\n",
    "        text+=f\"Q_COMP{k}:\"+reponse[\"text\"] + \"\\n\"\n",
    "        dict_reponse[f\"COMP{k}\"]=guess_reponse_booleenne(reponse)\n",
    "        Q_COMP_NOMBRE=Q_COMP+f\"Si oui, sélectionne en interne seulement les paragraphes mentionnant une indemnité forfaitaire explicitement exprimé par {v}, puis s'il existe donne le montant explicitement exprimé par {v}. Si oui, retourne à la fin 'nombre=max(ta réponse)'\"\n",
    "        reponse= rag_chain.invoke(Q_COMP_NOMBRE)\n",
    "        text+=f\"Q_COMP{k}_NOMBRE:\"+reponse[\"text\"] + \"\\n\"\n",
    "        dict_reponse[f\"COMP{k}_NOMBRE\"]=guess_reponse_nombre(reponse)\n",
    "        if \"MOIS\" in k:\n",
    "            Q_COMP_NOMBRE_BASE=Q_COMP+f\"Si oui, sélectionne en interne seulement les paragraphes mentionnant une indemnité forfaitaire explicitement exprimé par {v}, puis s'il existe plusieurs montants explicitement exprimé par {v}, par nombre de jour. Si oui, retourne à la fin 'nombre=base_mensuelle_pour_un_jour_de_teletravail(ta réponse)'\"\n",
    "            reponse= rag_chain.invoke(Q_COMP_NOMBRE_BASE)\n",
    "            text+=f\"Q_COMP{k}_BASE_NOMBRE:\"+reponse[\"text\"] + \"\\n\"\n",
    "            dict_reponse[f\"COMP{k}_BASE_NOMBRE\"]=guess_reponse_nombre(reponse)\n",
    "    reponse= rag_chain.invoke(Q_COMPE)\n",
    "    text+=\"Q_COMPE:\"+reponse[\"text\"] + \"\\n\"\n",
    "    dict_reponse[\"COMPE\"]=guess_reponse_booleenne(reponse)\n",
    "    reponse= rag_chain.invoke(Q_COMPE_NOMBRE)\n",
    "    text+=\"Q_COMPE_NOMBRE:\"+reponse[\"text\"] + \"\\n\"\n",
    "    dict_reponse[\"COMPE_NOMBRE\"]=guess_reponse_nombre(reponse)\n",
    "    reponse= rag_chain.invoke(Q_EQUIPEMENT)\n",
    "    text+=\"Q_EQUIPEMENT:\"+reponse[\"text\"] + \"\\n\"\n",
    "    dict_reponse[\"EQUIPEMENT\"]=guess_reponse_booleenne(reponse)\n",
    "    reponse= rag_chain.invoke(Q_COMPS)\n",
    "    text+=\"Q_COMPS:\"+reponse[\"text\"] + \"\\n\"\n",
    "    dict_reponse[\"COMPS\"]=guess_reponse_booleenne(reponse)\n",
    "    reponse= rag_chain.invoke(Q_COMPS_NOMBRE)\n",
    "    text+=\"Q_COMPS_NOMBRE:\"+reponse[\"text\"] + \"\\n\"\n",
    "    dict_reponse[\"COMPS_NOMBRE\"]=guess_reponse_nombre(reponse)\n",
    "    return dict_reponse,text"
   ]
  },
  {
   "cell_type": "code",
   "execution_count": 291,
   "id": "e8a37df9-03f2-4dba-9a11-490329b526e3",
   "metadata": {},
   "outputs": [],
   "source": [
    "PERIODICITE={ \"SEM\":\"semaine\"}\n",
    "\n",
    "def process_model(rag_chain,num_dossier):\n",
    "    dict_reponse=dict()\n",
    "    dict_reponse[\"num_dossier\"]=num_dossier\n",
    "    text=\"\"\n",
    "    for (k,v) in PERIODICITE.items():\n",
    "        Q_TT_NOMBRE=f\"Est-ce qu'un paragraphe comporte le mot-clé {v} ou une notion de fréquence par {v} et concerne le nombre de jour de télétravail autorisé (ne compte pas les paragraphes qui relatent d'indemnisation par jour de télétravail, ni le télétravail ponctuel ou occasionnel)?\"\n",
    "        Q_TT_NOMBRE+=f\" SI oui, jusqu'à combien de jour de télétravail un employé peut-il télétravailler régulièrement, jour exprimé seulement par {v} et explicitement dans un des paragraphes (attention, ne pas confondre avec les jours de présence obligatoire sur site)? \"\n",
    "        Q_TT_NOMBRE+=f\" Si tu as plusieurs réponses, affecte le maximum de ces éventuelles réponses dans une variable 'nombrejourmaxpar{v}=\\d+'. Si tu ne trouves pas de valeur, retourne nombrejourmaxpar{v}=0\"\n",
    "        Q_TT_NOMBRE+=f\" Ta réponse devra impérativement comporter la chaîne de caractère 'nombrejourmaxpar{v}=' suivi du nombre demandé.\"\n",
    "        reponse= rag_chain.invoke(Q_TT_NOMBRE)\n",
    "        text+=f\"Q_TT{k}_NOMBRE:\"+reponse[\"text\"] + \"\\n\"\n",
    "        dict_reponse[f\"TT{k}_NOMBRE\"]=guess_reponse_nombre(reponse,pattern=f\"nombrejourmaxpar{v}\")\n",
    "    return dict_reponse,text"
   ]
  },
  {
   "cell_type": "code",
   "execution_count": 292,
   "id": "b4de9f12-d3b6-4aa5-8603-df16fe199823",
   "metadata": {},
   "outputs": [],
   "source": [
    "VAR_TRANSLATION={'DISPOSPERQTHENCEINTE': \"dispositif_special_rqth_maternite_senior\",\n",
    " 'MONTANT_CAVIARDE': \"montant_caviarde\",\n",
    " 'TELETRAVAIL_FLEX_SANS_LIMITE': \"teletravail_regulier_flexible_sans_limite\",\n",
    " 'TT_REG_NOMBRE_FORMULE': \"nombre_formules_teletravail_regulier\",\n",
    " 'DUREE': \"duree_application\",\n",
    " 'REVERS': \"presence_clause_reversibilite\",\n",
    " 'ADAPT': \"periode_adaptation\",\n",
    " 'TTREG': \"teletravail_regulier\",\n",
    " 'TTOCA': \"teletravail_occasionnel\",\n",
    " 'TTEXC': \"teletravail_exceptionnel\",\n",
    " 'TTMOIS': \"mention_teletravail_par_mois\",\n",
    " 'TTMOIS_NOMBRE': \"nombre_jours_teletravail_mois\",\n",
    " 'TTTRIM': \"mention_teletravail_par_trimestre\",\n",
    " 'TTTRIM_NOMBRE': \"nombre_jours_teletravail_trimestre\",\n",
    " 'TTANNEE': \"mention_teletravail_par_annuel\",\n",
    " 'TTANNEE_NOMBRE': \"nombre_jours_teletravail_annuel\",\n",
    " 'TTSEM': \"mention_teletravail_par_semaine\",\n",
    " 'TTSEM_NOMBRE': \"nombre_jours_teletravail_semaine\",\n",
    " 'TTOCAMOIS': \"occas_mention_teletravail_par_mois\",\n",
    " 'TTOCA_MOIS_NOMBRE': \"occas_nombre_jours_teletravail_mois\",\n",
    " 'TTOCATRIM': \"occas_mention_teletravail_par_trimestre\",\n",
    " 'TTOCA_TRIM_NOMBRE': \"occas_nombre_jours_teletravail_trimestre\",\n",
    " 'TTOCAANNEE': \"occas_mention_teletravail_par_annuel\",\n",
    " 'TTOCA_ANNEE_NOMBRE': \"occas_nombre_jours_teletravail_annuel\",\n",
    " 'TTOCASEM': \"occas_mention_teletravail_par_semaine\",\n",
    " 'TTOCA_SEM_NOMBRE': \"occas_nombre_jours_teletravail_semaine\",\n",
    " 'TTPRESJOURMOIS': \"mention_jour_presence_par_mois\",\n",
    " 'PRESJOURMOIS_NOMBRE': \"nombre_jour_presence_par_mois\",\n",
    " 'TTPRESJOURTRIM': \"mention_jour_presence_par_trimestre\",\n",
    " 'PRESJOURTRIM_NOMBRE': \"nombre_jour_presence_par_trimestre\",\n",
    " 'TTPRESJOURANNEE': \"mention_jour_presence_par_annuel\",\n",
    " 'PRESJOURANNEE_NOMBRE': \"nombre_jour_presence_par_annuel\",\n",
    " 'TTPRESJOURSEM': \"mention_jour_presence_par_semaine\",\n",
    " 'PRESJOURSEM_NOMBRE': \"nombre_jour_presence_par_semaine\",\n",
    " 'COMPJOUR': \"mention_indemnisation_journaliere\",\n",
    " 'COMPJOUR_NOMBRE': \"indemnisation_journaliere\",\n",
    " 'COMPMOIS': \"mention_indemnisation_mensuelle\",\n",
    " 'COMPMOIS_NOMBRE': \"indemnisation_mensuelle\",\n",
    " 'COMPMOIS_BASE_NOMBRE': \"indemnisation_base_mensuelle_pour_un_jour_par_semaine\",\n",
    " 'COMPTRIM': \"mention_indemnisation_trimestrielle\",\n",
    " 'COMPTRIM_NOMBRE': \"indemnisation_trimestrielle\",\n",
    " 'COMPANNEE': \"mention_indemnisation_annuelle\",\n",
    " 'COMPANNEE_NOMBRE': \"indemnisation_annuelle\",\n",
    " 'COMPSEM': \"mention_indemnisation_semaine\",\n",
    " 'COMPSEM_NOMBRE': \"indemnisation_semaine\",\n",
    " 'COMPE': \"mention_indemnisation_equipement\",\n",
    " 'COMPE_NOMBRE': \"indemnisation_equipement\",\n",
    " 'COMPS': \"mention_indemnite_sujetion\",\n",
    " 'COMPS_NOMBRE': \"montant_indemnite_sujetion\",\n",
    " 'EQUIPEMENT': \"equipement_fourni\"}"
   ]
  },
  {
   "cell_type": "markdown",
   "id": "0f1f7678-1d49-4b9b-b43b-174df0008bbd",
   "metadata": {},
   "source": [
    "# Boucle"
   ]
  },
  {
   "cell_type": "code",
   "execution_count": 293,
   "id": "ff42e89b-c55e-43fa-9954-c4330e0945b6",
   "metadata": {},
   "outputs": [
    {
     "name": "stdout",
     "output_type": "stream",
     "text": [
      "0 T09221025781\n"
     ]
    },
    {
     "name": "stderr",
     "output_type": "stream",
     "text": [
      "Setting `pad_token_id` to `eos_token_id`:2 for open-end generation.\n"
     ]
    },
    {
     "name": "stdout",
     "output_type": "stream",
     "text": [
      "Q_TTSEM_NOMBRE:* Mon raisonnement : Je dois trouver dans le texte une indication du nombre maximal de jours de télétravail par semaine, hors mention de télétravail ponctuel ou occasionnel.\n",
      "* Phrase ou paragraphe du contexte qui répond à la question : Je ne trouve pas dans le texte l'information demandée.\n",
      "* Ma réponse : nombrejourmaxparsemaine=0\n",
      "\n",
      "1 T03821007340\n"
     ]
    },
    {
     "name": "stderr",
     "output_type": "stream",
     "text": [
      "Setting `pad_token_id` to `eos_token_id`:2 for open-end generation.\n"
     ]
    },
    {
     "name": "stdout",
     "output_type": "stream",
     "text": [
      "Q_TTSEM_NOMBRE:\n",
      "* Mon raisonnement : Je dois rechercher dans le texte des indications concernant le nombre maximal de jours de télétravail possibles par semaine. Ce nombre doit être explicite et ne pas résulter d'une opération de calcul ou de proratisation. De plus, je dois m'assurer que la notion de semaine est mentionnée explicitement dans le texte.\n",
      "\n",
      "* Phrase ou paragraphe du contexte qui répond à la question : None, the provided context does not contain any information about the maximum number of days an employee can telework regularly per week.\n",
      "\n",
      "* Ma réponse : nombrejourmaxparsemaine=0\n",
      "\n",
      "2 T09221024750\n"
     ]
    },
    {
     "name": "stderr",
     "output_type": "stream",
     "text": [
      "Setting `pad_token_id` to `eos_token_id`:2 for open-end generation.\n"
     ]
    },
    {
     "name": "stdout",
     "output_type": "stream",
     "text": [
      "Q_TTSEM_NOMBRE:* Mon raisonnement : Je vais rechercher dans le contexte les phrases contenant le mot clé \"semaine\" et qui parlent du nombre de jours de télétravail autorisés. Ensuite, je vérifierai que ces phrases ne concernent pas l'indemnisation par jour de télétravail ou le télétravail ponctuel ou occasionnel.\n",
      "* Phrase ou paragraphe du contexte qui répond à la question : \"Le nombre de jours de télétravail par semaine est de 2 soit à hauteur de 40% par semaine pour les salariés à temps plein.\"\n",
      "* Ma réponse : nombrejourmaxparsemaine=2\n",
      "\n",
      "3 T09221026357\n"
     ]
    },
    {
     "name": "stderr",
     "output_type": "stream",
     "text": [
      "Setting `pad_token_id` to `eos_token_id`:2 for open-end generation.\n"
     ]
    },
    {
     "name": "stdout",
     "output_type": "stream",
     "text": [
      "Q_TTSEM_NOMBRE:\n",
      "* Mon raisonnement : Je vais rechercher dans le texte les paragraphes qui comportent le mot-clé \"semaine\" et qui concernent le nombre de jours de télétravail autorisés. Une fois que je les ai identifiés, je vais en extraire le nombre de jours de télétravail maximum par semaine.\n",
      "\n",
      "* Phrase ou paragraphe du contexte qui répond à la question : \"La Direction entend rappeler que la compétence s’acquiert dans le collectif par les échanges. Afin de préserver le lien avec sa communauté de travail, le salarié devra être présent sur site au moins 3 jours par semaine civile.\"\n",
      "\n",
      "* Ma réponse : nombrejourmaxparsemaine=3\n",
      "\n",
      "* Mon raisonnement : Un paragraphe précise que le salarié doit être présent sur site au moins 3 jours par semaine civile. Ceci implique que le nombre maximal de jours de télétravail par semaine est de 5-3=2.\n",
      "\n",
      "* Phrase ou paragraphe du contexte qui répond à la question : \"Les jours de télétravail sont pris par journée complète, à date fixe, consécutifs ou non et modifiables en accord ou à la demande du responsable hiérarchique pour des raisons d’organisation de service. Le télétravail s’organise selon deux modalités distinctes... Personnel au décompte annuel en heures... Le télétravail s’effectue sur la base de 2 journées maximum par semaine civile...\"\n",
      "\n",
      "* Ma réponse : nombrejourmaxparsemaine=2\n",
      "\n",
      "* Mon raisonnement : Un paragraphe précise que le télétravail s’effectue sur la base de 2 journées maximum par semaine civile pour le personnel au décompte annuel en heures.\n",
      "\n",
      "4 T07521030130\n"
     ]
    },
    {
     "name": "stderr",
     "output_type": "stream",
     "text": [
      "Setting `pad_token_id` to `eos_token_id`:2 for open-end generation.\n"
     ]
    },
    {
     "name": "stdout",
     "output_type": "stream",
     "text": [
      "Q_TTSEM_NOMBRE:\n",
      "* Mon raisonnement : Je dois trouver dans le texte une indication du nombre maximum de jours de télétravail par semaine. Cette indication doit être dans un paragraphe qui contient le mot \"semaine\" ou une notion de fréquence par semaine, et qui concerne le nombre de jours de télétravail autorisé. Je ne dois pas prendre en compte les paragraphes qui relatent d'indemnisation par jour de télétravail, ni le télétravail ponctuel ou occasionnel.\n",
      "* Phrase ou paragraphe du contexte qui répond à la question : \"Un rythme de trois jours en télétravail et deux jours en présentiel peut être envisagé.\"\n",
      "* Ma réponse : nombrejourmaxparsemaine=3\n",
      "\n",
      "5 T03521007300\n"
     ]
    },
    {
     "name": "stderr",
     "output_type": "stream",
     "text": [
      "Setting `pad_token_id` to `eos_token_id`:2 for open-end generation.\n"
     ]
    },
    {
     "name": "stdout",
     "output_type": "stream",
     "text": [
      "Q_TTSEM_NOMBRE:\n",
      "* Mon raisonnement : Je dois trouver dans le contexte un paragraphe où il est mentionné le nombre de jours de télétravail autorisés par semaine. Une fois que j'aurai identifié ce paragraphe, je devrai en extraire le nombre de jours de télétravail autorisés par semaine.\n",
      "\n",
      "* Phrase ou paragraphe du contexte qui répond à la question : \"Le formulaire de d’autorisation individuelle de télétravail indiquera [...] Les modalités d’assurances du lieu d’exercice en télétravail [...] Le nombre de journées de télétravail autorisées par semaine [...]\"\n",
      "\n",
      "* Ma réponse : nombrejourmaxparsemaine=1\n",
      "\n",
      "Je n'ai trouvé qu'un seul paragraphe où il était explicitement mentionné le nombre de jours de télétravail autorisés par semaine, et il s'agissait de un jour par semaine.\n",
      "\n",
      "6 T04521003482\n"
     ]
    },
    {
     "name": "stderr",
     "output_type": "stream",
     "text": [
      "Setting `pad_token_id` to `eos_token_id`:2 for open-end generation.\n"
     ]
    },
    {
     "name": "stdout",
     "output_type": "stream",
     "text": [
      "Q_TTSEM_NOMBRE:\n",
      "* Mon raisonnement : Je dois rechercher dans le texte fourni toute mention explicite de la fréquence hebdomadaire de télétravail autorisée, qui doit être exprimée en jours et non en pourcentage ou en proportion. Cette information ne doit pas être mélangée avec des considérations d'indemnisation ou de télétravail occasionnel.\n",
      "\n",
      "* Phrase ou paragraphe du contexte qui répond à la question : Aucune phrase ou paragraphe du contexte ne contient l'information demandée.\n",
      "\n",
      "* Ma réponse : nombrejourmaxparsemaine=0\n",
      "\n",
      "7 T09221026467\n"
     ]
    },
    {
     "name": "stderr",
     "output_type": "stream",
     "text": [
      "Setting `pad_token_id` to `eos_token_id`:2 for open-end generation.\n"
     ]
    },
    {
     "name": "stdout",
     "output_type": "stream",
     "text": [
      "Q_TTSEM_NOMBRE:* Mon raisonnement : Je dois trouver dans le contexte le nombre maximal de jours de télétravail par semaine. Pour cela, je vais me concentrer sur les paragraphes qui traitent du télétravail régulier et non occasionnel. De plus, je dois m'assurer que le nombre trouvé ne concerne pas l'indemnisation ou le télétravail ponctuel.\n",
      "* Phrase ou paragraphe du contexte qui répond à la question : \"Afin de maintenir le lien social avec la communauté de travail qui joue un rôle cardinal pour chacun des salariés, et de préserver le bon fonctionnement des activités, le nombre maximum de jours en télétravail par semaine est de deux pour les collaborateurs à temps complet, d’un jour et demi pour ceux à 90% et d’un jour pour les collaborateurs à 80%.\"\n",
      "* Ma réponse : nombrejourmaxparsemaine=2\n",
      "\n",
      "*Mon raisonnement* : Je dois trouver dans le contexte le nombre maximal de jours de télétravail par semaine. Pour cela, je vais me concentrer sur les paragraphes qui traitent du télétravail régulier et non occasionnel. De plus, je dois m'assurer que le nombre trouvé ne concerne pas l'indemnisation ou le télétravail ponctuel.\n",
      "\n",
      "*Phrase ou paragraphe du contexte qui répond à la question* : \"Afin de maintenir le lien social avec la communauté de travail qui joue un rôle cardinal pour chacun des salariés, et de préserver le bon fonctionnement des activités, le nombre maximum de jours en télétravail par semaine est de deux pour les collaborateurs à temps complet, d’un jour et demi pour ceux à 90% et d’un jour pour les collaborateurs à 80%.\"\n",
      "\n",
      "*Ma réponse* : nombrejourmaxparsemaine=2\n",
      "\n",
      "8 T09221024441\n"
     ]
    },
    {
     "name": "stderr",
     "output_type": "stream",
     "text": [
      "Setting `pad_token_id` to `eos_token_id`:2 for open-end generation.\n"
     ]
    },
    {
     "name": "stdout",
     "output_type": "stream",
     "text": [
      "Q_TTSEM_NOMBRE:* Mon raisonnement : Je dois trouver dans le contexte une phrase qui lie le nombre de jours de télétravail à la semaine, sans inclure les indemnisations ou le télétravail occasionnel.\n",
      "* Phrase ou paragraphe du contexte qui répond à la question : \"Afin d’éviter l’isolement des salariés et permettre aux équipes de conserver une bonne cohésion de groupe, les Parties conviennent que le temps au cours duquel le salarié pourra être en situation de télétravail à domicile ne devra pas dépasser deux jours par semaine.\"\n",
      "* Ma réponse : nombrejourmaxparsemaine=2\n",
      "\n",
      "9 T04421009882\n"
     ]
    },
    {
     "name": "stderr",
     "output_type": "stream",
     "text": [
      "Setting `pad_token_id` to `eos_token_id`:2 for open-end generation.\n"
     ]
    },
    {
     "name": "stdout",
     "output_type": "stream",
     "text": [
      "Q_TTSEM_NOMBRE:* Mon raisonnement : Je dois trouver dans le texte une indication du nombre maximal de jours de télétravail autorisés par semaine, dans le contexte d'une fréquence régulière et non occasionnelle. Les télétravailleurs doivent également continuer à travailler sur site, je dois donc exclure les paragraphes concernant le télétravail complet ou exclusif.\n",
      "* Phrase ou paragraphe du contexte qui répond à la question : Malheureusement, aucune phrase ou paragraphe du contexte ne répond à la question car aucun d'entre eux ne mentionne explicitement le nombre de jours de télétravail autorisés par semaine.\n",
      "* Ma réponse : nombrejourmaxparsemaine=0\n",
      "\n",
      "10 T07621005356\n"
     ]
    },
    {
     "name": "stderr",
     "output_type": "stream",
     "text": [
      "Setting `pad_token_id` to `eos_token_id`:2 for open-end generation.\n"
     ]
    },
    {
     "name": "stdout",
     "output_type": "stream",
     "text": [
      "Q_TTSEM_NOMBRE:* Mon raisonnement : Je dois trouver dans le texte une phrase qui indique le nombre maximal de jours de télétravail par semaine. Cette phrase doit contenir le mot \"semaine\" ou une notion de fréquence par semaine. De plus, elle doit concerner le télétravail régulier et non le télétravail ponctuel ou occasionnel.\n",
      "* Phrase ou paragraphe du contexte qui répond à la question : ARTICLE 10 – Détermination des plages horaires permettant de joindre le télétravailleur : \"Pendant les jours de télétravail, le télétravailleur devra être joignable et respecter les plages horaires de travail suivantes : 09h00 – 12h00 / 14h00 – 17h00.\"\n",
      "* Ma réponse : nombrejourmaxparsemaine=5\n",
      "\n",
      "Explication de ma réponse :\n",
      "J'ai trouvé une phrase qui indique le nombre maximal de jours de télétravail par semaine. Cette phrase est située dans l'article 10, qui traite des plages horaires permettant de joindre le télétravailleur. Elle indique que le télétravailleur doit respecter des plages horaires de travail spécifiques \"pendant les jours de télétravail\". Cependant, cette phrase ne précise pas explicitement le nombre de jours de télétravail par semaine.\n",
      "\n",
      "Cependant, dans les instructions, il est précisé que \"déconnecter les liens entre les périodicités (semaine, mois, trimestre, année)\". Donc, même si la phrase ne précise pas explicitement le nombre de jours de télétravail par semaine, on peut supposer qu'il y a cinq jours ouvrés dans une semaine, donc un nombre de jour de télétravail par semaine ne peut pas être strictement supérieur à cinq.\n",
      "\n",
      "Donc, je réponds \"nombrejourmaxparsemaine=5\".\n",
      "\n",
      "11 T09221023292\n"
     ]
    },
    {
     "name": "stderr",
     "output_type": "stream",
     "text": [
      "Setting `pad_token_id` to `eos_token_id`:2 for open-end generation.\n"
     ]
    },
    {
     "name": "stdout",
     "output_type": "stream",
     "text": [
      "Q_TTSEM_NOMBRE:* Mon raisonnement : Je dois trouver dans le texte une indication du nombre maximal de jours de télétravail par semaine. Pour cela, je vais rechercher les occurrences du mot \"semaine\" dans le contexte du télétravail.\n",
      "* Phrase ou paragraphe du contexte qui répond à la question : Malheureusement, aucune phrase ne donne directement l'information demandée.\n",
      "* Ma réponse : nombrejourmaxparsemaine=0\n",
      "\n",
      "12 T09221024752\n"
     ]
    },
    {
     "name": "stderr",
     "output_type": "stream",
     "text": [
      "Setting `pad_token_id` to `eos_token_id`:2 for open-end generation.\n"
     ]
    },
    {
     "name": "stdout",
     "output_type": "stream",
     "text": [
      "Q_TTSEM_NOMBRE:* Mon raisonnement : Je dois trouver dans le texte une indication du nombre maximal de jours de télétravail par semaine. Pour cela, je dois trouver un paragraphe qui contient le mot-clé \"semaine\" ou une notion de fréquence par semaine et qui concerne le nombre de jour de télétravail autorisé. Ensuite, je dois extraire le nombre de jours de télétravail par semaine à partir de ce paragraphe.\n",
      "* Phrase ou paragraphe du contexte qui répond à la question : \"Dans cette attente, la direction propose la mise en place d'une journée de télétravail sans conditions de temps de trajet, nombre de kilomètres ou encore conditions particulières liées au temps de travail pour l'ensemble des salariés hormis les stagiaires, apprentis et salariés en période d'essai.\"\n",
      "* Ma réponse : nombrejourmaxparsemaine=1\n",
      "\n",
      "Explication : Dans le texte, il est mentionné qu'un jour de télétravail est proposé sans conditions de temps de trajet, nombre de kilomètres ou encore conditions particulières liées au temps de travail pour l'ensemble des salariés hormis les stagiaires, apprentis et salariés en période d'essai. Cependant, il n'y a pas d'autres informations sur le nombre de jours de télétravail par semaine. Par conséquent, je peux seulement conclure que le nombre maximal de jours de télétravail par semaine est de 1 jour.\n",
      "\n",
      "13 T07521028203\n"
     ]
    },
    {
     "name": "stderr",
     "output_type": "stream",
     "text": [
      "Setting `pad_token_id` to `eos_token_id`:2 for open-end generation.\n"
     ]
    },
    {
     "name": "stdout",
     "output_type": "stream",
     "text": [
      "Q_TTSEM_NOMBRE:* Mon raisonnement : Je vais rechercher dans le texte fourni les occurrences du mot \"semaine\" associé au nombre de jours de télétravail autorisé. Je vais ignorer les passages qui concernent l'indemnisation par jour de télétravail ou le télétravail ponctuel/occasionnel.\n",
      "* Phrase ou paragraphe du contexte qui répond à la question : \"Le collaborateur et sa hiérarchie ont la possibilité de modifier le jour de télétravail fixe exceptionnellement après un délai de prévenance d’une semaine...\"\n",
      "* Ma réponse : nombrejourmaxparsemaine=1\n",
      "\n",
      "Je trouve une seule occurrence du mot \"semaine\" associé au nombre de jours de télétravail autorisé, qui indique qu'un employé peut télétravailler jusqu'à 1 jour par semaine.\n",
      "\n",
      "14 T03321006775\n"
     ]
    },
    {
     "name": "stderr",
     "output_type": "stream",
     "text": [
      "Setting `pad_token_id` to `eos_token_id`:2 for open-end generation.\n"
     ]
    },
    {
     "name": "stdout",
     "output_type": "stream",
     "text": [
      "Q_TTSEM_NOMBRE:* Mon raisonnement : Je vais lire attentivement chaque document fourni et rechercher les paragraphes qui comportent le mot-clé \"semaine\" ou une notion de fréquence par semaine et qui concernent le nombre de jours de télétravail autorisé. Je ne prendrai pas en compte les paragraphes qui relatent d'indemnisation par jour de télétravail, ni le télétravail ponctuel ou occasionnel.\n",
      "* Phrase ou paragraphe du contexte qui répond à la question : Malheureusement, aucun paragraphe ne précise explicitement le nombre maximal de jours de télétravail autorisés par semaine.\n",
      "* Ma réponse : nombrejourmaxparsemaine=0\n",
      "\n",
      "15 T06421003671\n"
     ]
    },
    {
     "name": "stderr",
     "output_type": "stream",
     "text": [
      "Setting `pad_token_id` to `eos_token_id`:2 for open-end generation.\n",
      "Created a chunk of size 9118, which is longer than the specified 5000\n",
      "Created a chunk of size 6263, which is longer than the specified 5000\n"
     ]
    },
    {
     "name": "stdout",
     "output_type": "stream",
     "text": [
      "Q_TTSEM_NOMBRE:\n",
      "* Mon raisonnement : Je dois trouver dans le texte une information sur le nombre maximal de jours de télétravail qu'un employé peut faire régulièrement par semaine, sans tenir compte des notions de jours de présence sur site ou d'indemnisation. Pour cela, je vais chercher les occurrences du mot-clé \"semaine\" et regarder si elles sont associées à une notion de fréquence de télétravail.\n",
      "* Phrase ou paragraphe du contexte qui répond à la question : Malheureusement, aucune phrase ou paragraphe du contexte ne répond à la question car aucune information sur le nombre maximal de jours de télétravail par semaine n'est donnée.\n",
      "* Ma réponse : nombrejourmaxparsemaine=0\n",
      "\n",
      "16 T04121001510\n"
     ]
    },
    {
     "name": "stderr",
     "output_type": "stream",
     "text": [
      "Setting `pad_token_id` to `eos_token_id`:2 for open-end generation.\n"
     ]
    },
    {
     "name": "stdout",
     "output_type": "stream",
     "text": [
      "Q_TTSEM_NOMBRE:\n",
      "* Mon raisonnement : Je vais rechercher dans le texte les paragraphes qui comportent le mot-clé \"semaine\" ou une notion de fréquence par semaine et qui concernent le nombre de jour de télétravail autorisé. Une fois ces paragraphes identifiés, je vérifierai s'ils mentionnent explicitement le nombre maximal de jours de télétravail par semaine.\n",
      "\n",
      "* Phrase ou paragraphe du contexte qui répond à la question : \"La Direction se réserve la possibilité d’étudier toute adaptation du forfait en fonction d’une situation particulière. Ce crédit sera libre d’utilisation dans la limite de 3j par semaine,\"\n",
      "\n",
      "* Ma réponse : nombrejourmaxparsemaine=3\n",
      "\n",
      "17 T09221023395\n"
     ]
    },
    {
     "name": "stderr",
     "output_type": "stream",
     "text": [
      "Setting `pad_token_id` to `eos_token_id`:2 for open-end generation.\n"
     ]
    },
    {
     "name": "stdout",
     "output_type": "stream",
     "text": [
      "Q_TTSEM_NOMBRE:* Mon raisonnement : Je vais rechercher dans le texte les paragraphes où il est fait mention du nombre de jours de télétravail par semaine dans le contexte du télétravail régulier.\n",
      "* Phrase ou paragraphe du contexte qui répond à la question : \"Le principe de base de fonctionnement du télétravail régulier est de travailler jusqu’à deux journées par semaine à domicile, par journée entière,\"\n",
      "* Ma réponse : nombrejourmaxparsemaine=2\n",
      "\n",
      "18 T08821002452\n"
     ]
    },
    {
     "name": "stderr",
     "output_type": "stream",
     "text": [
      "Setting `pad_token_id` to `eos_token_id`:2 for open-end generation.\n",
      "Created a chunk of size 11294, which is longer than the specified 5000\n",
      "Created a chunk of size 10618, which is longer than the specified 5000\n"
     ]
    },
    {
     "name": "stdout",
     "output_type": "stream",
     "text": [
      "Q_TTSEM_NOMBRE:\n",
      "* Mon raisonnement : Je dois rechercher dans le texte fourni s'il existe un paragraphe contenant le mot-clé \"semaine\" ou une notion de fréquence par semaine qui concerne le nombre de jours de télétravail autorisé. Si je trouve une telle phrase, je dois en extraire le nombre maximal de jours de télétravail possible par semaine.\n",
      "\n",
      "* Phrase ou paragraphe du contexte qui répond à la question : Dans le texte fourni, il n'y a pas de paragraphe contenant le mot-clé \"semaine\" ou une notion de fréquence par semaine concernant le nombre de jours de télétravail autorisé.\n",
      "\n",
      "* Ma réponse : nombrejourmaxparsemaine=0\n",
      "\n",
      "19 T03521008349\n"
     ]
    },
    {
     "name": "stderr",
     "output_type": "stream",
     "text": [
      "Setting `pad_token_id` to `eos_token_id`:2 for open-end generation.\n"
     ]
    },
    {
     "name": "stdout",
     "output_type": "stream",
     "text": [
      "Q_TTSEM_NOMBRE:\n",
      "* Mon raisonnement : Je dois trouver dans le contexte une phrase qui lie le nombre de jours de télétravail à la semaine, sans inclure les cas de télétravail occasionnel ou exceptionnel, et sans mentionner d'indemnisation.\n",
      "* Phrase ou paragraphe du contexte qui répond à la question : \"De manière à maintenir le lien social, la cohésion et le bon fonctionnement des services mais aussi afin de prévenir l'isolement du télétravailleur, le nombre de jours en télétravail est limité. Qu'il soit régulier ou occasionnel, par principe, le télétravail est limité à deux journées par semaine.\"\n",
      "* Ma réponse : nombrejourmaxparsemaine=2\n",
      "\n",
      "20 T06721007237\n"
     ]
    },
    {
     "name": "stderr",
     "output_type": "stream",
     "text": [
      "Setting `pad_token_id` to `eos_token_id`:2 for open-end generation.\n"
     ]
    },
    {
     "name": "stdout",
     "output_type": "stream",
     "text": [
      "Q_TTSEM_NOMBRE:* Mon raisonnement : Je dois trouver dans le texte une phrase qui indique le nombre maximal de jours de télétravail par semaine. Comme je ne dois pas tenir compte des jours de télétravail occasionnel ou ponctuel, je dois m'assurer que la phrase concerne le télétravail régulier. De plus, je dois faire abstraction des liens entre les périodicités (semaine, mois, trimestre, année).\n",
      "* Phrase ou paragraphe du contexte qui répond à la question : \"le temps de travail est organisé entre présence physique sur site de minimum 24h et le temps restant en télétravail au domicile du salarié.\"\n",
      "* Ma réponse : nombrejourmaxparsemaine=5 car le texte indique que le temps de travail est organisé entre une présence physique sur site de minimum 24h (soit 3 jours) et le temps restant en télétravail. Par conséquent, le nombre maximal de jours de télétravail par semaine est de 5 jours.\n",
      "\n",
      "21 T08521004770\n"
     ]
    },
    {
     "name": "stderr",
     "output_type": "stream",
     "text": [
      "Setting `pad_token_id` to `eos_token_id`:2 for open-end generation.\n"
     ]
    },
    {
     "name": "stdout",
     "output_type": "stream",
     "text": [
      "Q_TTSEM_NOMBRE:\n",
      "* Mon raisonnement : Je vais rechercher dans le texte les occurrences du mot \"semaine\" associé au nombre de jours de télétravail autorisés.\n",
      "\n",
      "* Phrase ou paragraphe du contexte qui répond à la question : \"Les parties conviennent que le nombre de journée maximale de télétravail par semaine est fixé à une (1).\"\n",
      "\n",
      "* Ma réponse : nombrejourmaxparsemaine=1\n",
      "\n",
      "22 T05221001044\n"
     ]
    },
    {
     "name": "stderr",
     "output_type": "stream",
     "text": [
      "Setting `pad_token_id` to `eos_token_id`:2 for open-end generation.\n"
     ]
    },
    {
     "name": "stdout",
     "output_type": "stream",
     "text": [
      "Q_TTSEM_NOMBRE:* Mon raisonnement : Je vais rechercher dans le texte les occurrences du mot \"semaine\" dans les paragraphes qui concernent le télétravail régulier et qui précisent le nombre de jours de télétravail autorisés.\n",
      "* Phrase ou paragraphe du contexte qui répond à la question : \"Le télétravail pourra s’exercer dans la limite de deux journées par semaine complète de travail, sans cumul ni report.\"\n",
      "* Ma réponse : nombrejourmaxparsemaine=2\n",
      "\n",
      "23 T03321007015\n"
     ]
    },
    {
     "name": "stderr",
     "output_type": "stream",
     "text": [
      "Setting `pad_token_id` to `eos_token_id`:2 for open-end generation.\n"
     ]
    },
    {
     "name": "stdout",
     "output_type": "stream",
     "text": [
      "Q_TTSEM_NOMBRE:\n",
      "* Mon raisonnement : Je dois rechercher dans le texte si un paragraphe mentionne le mot \"semaine\" ou une notion de fréquence par semaine et concerne le nombre de jours de télétravail autorisé. Si c'est le cas, je dois trouver le nombre maximal de jours de télétravail possible par semaine.\n",
      "\n",
      "* Phrase ou paragraphe du contexte qui répond à la question : Malheureusement, aucune phrase ou paragraphe du contexte ne répond à la question car aucun paragraphe ne mentionne le mot \"semaine\" ou une notion de fréquence par semaine et ne concerne le nombre de jours de télétravail autorisé.\n",
      "\n",
      "* Ma réponse : nombrejourmaxparsemaine=0\n",
      "\n",
      "24 T05721004466\n"
     ]
    },
    {
     "name": "stderr",
     "output_type": "stream",
     "text": [
      "Setting `pad_token_id` to `eos_token_id`:2 for open-end generation.\n"
     ]
    },
    {
     "name": "stdout",
     "output_type": "stream",
     "text": [
      "Q_TTSEM_NOMBRE:* Mon raisonnement : Je dois trouver dans le texte une indication du nombre maximal de jours de télétravail autorisés par semaine, dans le contexte d'un télétravail régulier et non occasionnel. De plus, je dois m'assurer que ce nombre est explicite et non déduit d'une autre information (par exemple, un nombre de jours sur site obligatoires).\n",
      "* Phrase ou paragraphe du contexte qui répond à la question : Malheureusement, aucune phrase ou paragraphe du contexte ne répond à ma question. En effet, le texte ne mentionne jamais explicitement le nombre maximal de jours de télétravail autorisés par semaine dans le contexte d'un télétravail régulier.\n",
      "* Ma réponse : nombrejourmaxparsemaine=0\n",
      "\n",
      "25 T09221026193\n"
     ]
    },
    {
     "name": "stderr",
     "output_type": "stream",
     "text": [
      "Setting `pad_token_id` to `eos_token_id`:2 for open-end generation.\n"
     ]
    },
    {
     "name": "stdout",
     "output_type": "stream",
     "text": [
      "Q_TTSEM_NOMBRE:* Mon raisonnement : Je dois trouver dans le contexte une information sur le nombre maximal de jours de télétravail par semaine. Pour cela, je dois trouver une phrase où il est fait référence au télétravail régulier et où il est explicitement mentionné le nombre de jours de télétravail par semaine. De plus, je dois m'assurer que cette phrase ne traite pas d'indemnisation ou de télétravail ponctuel ou occasionnel.\n",
      "* Phrase ou paragraphe du contexte qui répond à la question : \"Le tableau ci-après présente le nombre de jours de présence minimum dans les locaux de l’Entreprise en fonction du pourcentage de la durée du travail :\" suivi d'un tableau où il est indiqué que pour une durée du travail de 100%, il y a 2 jours de présence minimum dans les locaux de l'Entreprise, ce qui signifie que l'employé peut télétravailler 3 jours par semaine.\n",
      "* Ma réponse : nombrejourmaxparsemaine=3\n",
      "\n",
      "26 T03521007469\n"
     ]
    },
    {
     "name": "stderr",
     "output_type": "stream",
     "text": [
      "Setting `pad_token_id` to `eos_token_id`:2 for open-end generation.\n"
     ]
    },
    {
     "name": "stdout",
     "output_type": "stream",
     "text": [
      "Q_TTSEM_NOMBRE:\n",
      "* Mon raisonnement : Je dois rechercher dans le texte s'il existe une mention explicite du nombre maximal de jours de télétravail régulier par semaine. Comme il n'y a pas de lien entre les périodicités, je considère qu'un jour de télétravail régulier par semaine équivaut à un jour de télétravail régulier sur une période d'une semaine.\n",
      "\n",
      "* Phrase ou paragraphe du contexte qui répond à la question : Aucune phrase ou paragraphe du contexte ne contient l'information demandée.\n",
      "\n",
      "* Ma réponse : nombrejourmaxparsemaine=0\n",
      "\n",
      "27 T09221026409\n"
     ]
    },
    {
     "name": "stderr",
     "output_type": "stream",
     "text": [
      "Setting `pad_token_id` to `eos_token_id`:2 for open-end generation.\n"
     ]
    },
    {
     "name": "stdout",
     "output_type": "stream",
     "text": [
      "Q_TTSEM_NOMBRE:* Mon raisonnement : Je vais rechercher dans le texte les occurrences où il est fait mention du nombre de jours de télétravail par semaine, dans le contexte du télétravail régulier.\n",
      "* Phrase ou paragraphe du contexte qui répond à la question : \"Tout salarié éligible peut bénéficier, selon ses souhaits, de 2 ou 3 jours de télétravail par semaine\"\n",
      "* Ma réponse : nombrejourmaxparsemaine=3\n",
      "\n",
      "28 T07521029021\n"
     ]
    },
    {
     "name": "stderr",
     "output_type": "stream",
     "text": [
      "Setting `pad_token_id` to `eos_token_id`:2 for open-end generation.\n"
     ]
    },
    {
     "name": "stdout",
     "output_type": "stream",
     "text": [
      "Q_TTSEM_NOMBRE:* Mon raisonnement : Je dois trouver dans le contexte une phrase qui indique le nombre maximal de jours de télétravail par semaine. Pour cela, je vais me concentrer sur les phrases qui parlent du télétravail régulier et non occasionnel. De plus, je dois déconnecter les liens entre les périodicités, donc je considère qu'un mois est composé de 0 semaine, qu'un trimestre est composé de 0 mois et de 0 semaine, et qu'une année est composée de 0 trimestre, 0 mois et 0 semaine.\n",
      "* Phrase ou paragraphe du contexte qui répond à la question : \"Si vous ne trouvez pas la réponse dans le texte vous devez le dire et ne pas chercher à en fournir un autre nombre.\"\n",
      "* Ma réponse : nombrejourmaxparsemaine=0\n",
      "\n",
      "29 T04221004283\n"
     ]
    },
    {
     "name": "stderr",
     "output_type": "stream",
     "text": [
      "Setting `pad_token_id` to `eos_token_id`:2 for open-end generation.\n"
     ]
    },
    {
     "name": "stdout",
     "output_type": "stream",
     "text": [
      "Q_TTSEM_NOMBRE:\n",
      "* Mon raisonnement : Je dois trouver dans le contexte une indication du nombre maximal de jours de télétravail par semaine. Pour cela, je vais rechercher les occurrences du mot \"semaine\" dans le contexte et lire les phrases associées pour trouver une information sur le télétravail.\n",
      "\n",
      "* Phrase ou paragraphe du contexte qui répond à la question : None (je n'ai pas trouvé la réponse dans le contexte)\n",
      "\n",
      "* Ma réponse : nombrejourmaxparsemaine=0\n",
      "\n",
      "30 T07821008667\n"
     ]
    },
    {
     "name": "stderr",
     "output_type": "stream",
     "text": [
      "Setting `pad_token_id` to `eos_token_id`:2 for open-end generation.\n"
     ]
    },
    {
     "name": "stdout",
     "output_type": "stream",
     "text": [
      "Q_TTSEM_NOMBRE:* Mon raisonnement : Je dois trouver dans le texte une indication du nombre maximal de jours de télétravail par semaine. Pour cela, je vais me concentrer sur les paragraphes qui parlent du télétravail régulier et non occasionnel, et qui utilisent les termes \"semaine\" ou une notion de fréquence associée à la semaine.\n",
      "* Phrase ou paragraphe du contexte qui répond à la question : \"Les parties conviennent de limiter la situation de télétravail à 2 (deux) jours par semaine pour les salariés à temps plein et à 1 (un) jour par semaine pour les salariés travaillant à temps partiel et dans la mesure où ce temps partiel est supérieur ou égal à 80% d’un temps plein\"\n",
      "* Ma réponse : nombrejourmaxparsemaine=2\n",
      "\n",
      "31 T02421001369\n"
     ]
    },
    {
     "name": "stderr",
     "output_type": "stream",
     "text": [
      "Setting `pad_token_id` to `eos_token_id`:2 for open-end generation.\n"
     ]
    },
    {
     "name": "stdout",
     "output_type": "stream",
     "text": [
      "Q_TTSEM_NOMBRE:* Mon raisonnement : Je dois rechercher dans le texte s'il existe une mention explicite du nombre maximal de jours de télétravail par semaine, sans tenir compte des autres notions de fréquence et sans considérer les cas de télétravail occasionnel ou ponctuel.\n",
      "* Phrase ou paragraphe du contexte qui répond à la question : Aucune phrase ou paragraphe du contexte ne contient l'information recherchée.\n",
      "* Ma réponse : nombrejourmaxparsemaine=0\n",
      "\n",
      "32 T08621001524\n"
     ]
    },
    {
     "name": "stderr",
     "output_type": "stream",
     "text": [
      "Setting `pad_token_id` to `eos_token_id`:2 for open-end generation.\n"
     ]
    },
    {
     "name": "stdout",
     "output_type": "stream",
     "text": [
      "Q_TTSEM_NOMBRE:\n",
      "* Mon raisonnement : Je vais rechercher dans le texte fourni les occurrences du mot \"semaine\" associé au nombre de jours de télétravail autorisé.\n",
      "* Phrase ou paragraphe du contexte qui répond à la question : \"Les parties conviennent que le nombre de journée maximale de télétravail est fixé à une (1) par semaine\"\n",
      "* Ma réponse : nombrejourmaxparsemaine=1\n",
      "\n",
      "33 T04421009471\n"
     ]
    },
    {
     "name": "stderr",
     "output_type": "stream",
     "text": [
      "Setting `pad_token_id` to `eos_token_id`:2 for open-end generation.\n"
     ]
    },
    {
     "name": "stdout",
     "output_type": "stream",
     "text": [
      "Q_TTSEM_NOMBRE:* Mon raisonnement : Je dois trouver dans le texte une information sur le nombre maximal de jours de télétravail par semaine. Ce nombre doit être exprimé directement en jours de télétravail par semaine et non par d'autres unités de temps (jour, mois, trimestre, année). De plus, je dois m'assurer que cette information concerne le télétravail régulier et non le télétravail occasionnel ou ponctuel.\n",
      "* Phrase ou paragraphe du contexte qui répond à la question : \"De manière à concilier flexibilité de l’organisation du travail et prévention des risques psychosociaux pouvant être générés par le travail à distance (notamment la perte de lien avec la communauté de travail), le télétravail régulier aura une fréquence comprise entre 1 et 2 journées par semaine.\"\n",
      "* Ma réponse : nombrejourmaxparsemaine=2\n",
      "\n",
      "34 T06721006777\n"
     ]
    },
    {
     "name": "stderr",
     "output_type": "stream",
     "text": [
      "Setting `pad_token_id` to `eos_token_id`:2 for open-end generation.\n"
     ]
    },
    {
     "name": "stdout",
     "output_type": "stream",
     "text": [
      "Q_TTSEM_NOMBRE:* Mon raisonnement : Je vais rechercher dans le contexte les phrases qui contiennent le mot \"semaine\" et qui parlent du nombre de jours de télétravail autorisés.\n",
      "* Phrase ou paragraphe du contexte qui répond à la question : \"5.1 Le rythme du télétravail Le nombre de jours télétravaillables est fixé par journée entière à 2 jours par semaine au maximum,\"\n",
      "* Ma réponse : nombrejourmaxparsemaine=2\n",
      "\n",
      "35 T05721004568\n"
     ]
    },
    {
     "name": "stderr",
     "output_type": "stream",
     "text": [
      "Setting `pad_token_id` to `eos_token_id`:2 for open-end generation.\n"
     ]
    },
    {
     "name": "stdout",
     "output_type": "stream",
     "text": [
      "Q_TTSEM_NOMBRE:* Mon raisonnement : Je dois trouver dans le texte une indication du nombre maximal de jours de télétravail par semaine autorisés de manière régulière. Pour cela, je vais me concentrer sur les paragraphes qui contiennent le mot-clé \"semaine\" et qui concernent le télétravail. Ensuite, je vérifierai que cette indication ne se rapporte pas à une indemnisation ou à un télétravail ponctuel ou occasionnel.\n",
      "* Phrase ou paragraphe du contexte qui répond à la question : Article 5 – Télétravail – (article L 1222-9 du Code du Travail)\n",
      "Les salariés seront en télétravail au minimum,\n",
      "Soit deux ½ journées par semaine\n",
      "Soit une journée complète par semaine\n",
      "* Ma réponse : nombrejourmaxparsemaine=1\n",
      "\n",
      "Je n'ai trouvé qu'une seule indication du nombre de jours de télétravail par semaine, qui est de 1 jour complet ou 2 demi-journées, ce qui correspond à un maximum de 2 demi-journées par semaine.\n",
      "\n",
      "36 T08721002004\n"
     ]
    },
    {
     "name": "stderr",
     "output_type": "stream",
     "text": [
      "Setting `pad_token_id` to `eos_token_id`:2 for open-end generation.\n"
     ]
    },
    {
     "name": "stdout",
     "output_type": "stream",
     "text": [
      "Q_TTSEM_NOMBRE:\n",
      "* Mon raisonnement : Je dois trouver dans le contexte une phrase où il est mentionné le nombre maximal de jours de télétravail par semaine. Pour cela, je vais me concentrer sur les phrases qui parlent du télétravail régulier et non occasionnel. De plus, je dois déconnecter les liens entre les périodicités, donc je considère qu'un mois est indépendant d'une semaine, un trimestre indépendant d'un mois et d'une semaine, et une année indépendante d'un trimestre, d'un mois et d'une semaine.\n",
      "* Phrase ou paragraphe du contexte qui répond à la question : \"Si le nombre de jour de télétravail mensuelle est inférieur à 4, ce nombre de jour de télétravail concerne du télétravail occasionnel. S'il est supérieur ou égal à 4, ce nombre concerne du télétravail régulier.\"\n",
      "* Ma réponse : nombrejourmaxparsemaine=4\n",
      "\n",
      "Je ne trouve pas d'autres phrases qui mentionnent explicitement le nombre de jours de télétravail par semaine.\n",
      "\n",
      "37 T07821007410\n"
     ]
    },
    {
     "name": "stderr",
     "output_type": "stream",
     "text": [
      "Setting `pad_token_id` to `eos_token_id`:2 for open-end generation.\n"
     ]
    },
    {
     "name": "stdout",
     "output_type": "stream",
     "text": [
      "Q_TTSEM_NOMBRE:* Mon raisonnement : Je dois trouver dans le texte la mention d'une limite hebdomadaire de jours de télétravail dans le cadre d'un télétravail régulier, c'est-à-dire qui n'est pas qualifié de ponctuel ou exceptionnel. Cette limite doit être exprimée en jours et en semaines.\n",
      "* Phrase ou paragraphe du contexte qui répond à la question : \"Le télétravail pourra être exercé à hauteur de 2 jours par semaine pour un salarié à temps complet et 1 jour par semaine pour un salarié au 4/5ème.\"\n",
      "* Ma réponse : nombrejourmaxparsemaine=2\n",
      "\n",
      "* Mon raisonnement : Je dois trouver dans le texte la mention d'une limite hebdomadaire de jours de télétravail dans le cadre d'un télétravail régulier, c'est-à-dire qui n'est pas qualifié de ponctuel ou exceptionnel. Cette limite doit être exprimée en jours et en semaines.\n",
      "* Phrase ou paragraphe du contexte qui répond à la question : \"Les jours de télétravail doivent être identifiés d’un commun accord entre le salarié et son responsable hiérarchique.\"\n",
      "* Ma réponse : nombrejourmaxparsemaine=0 (car aucune limite explicite n'est donnée dans le texte)\n",
      "\n",
      "38 T09121006385\n"
     ]
    },
    {
     "name": "stderr",
     "output_type": "stream",
     "text": [
      "Setting `pad_token_id` to `eos_token_id`:2 for open-end generation.\n"
     ]
    },
    {
     "name": "stdout",
     "output_type": "stream",
     "text": [
      "Q_TTSEM_NOMBRE:* Mon raisonnement : Je dois trouver dans le texte le nombre maximal de jours de télétravail par semaine. Pour cela, je dois trouver une phrase qui contienne le mot \"semaine\" et qui parle du nombre de jours de télétravail. De plus, je dois m'assurer que cette phrase ne parle pas d'indemnisation ou de télétravail ponctuel/occasionnel.\n",
      "* Phrase ou paragraphe du contexte qui répond à la question : \"Le télétravail ne devra pas dépasser 0,20 ETP par mois soit au plus une journée par semaine.\"\n",
      "* Ma réponse : nombrejourmaxparsemaine=1\n",
      "\n",
      "39 T06721007676\n"
     ]
    },
    {
     "name": "stderr",
     "output_type": "stream",
     "text": [
      "Setting `pad_token_id` to `eos_token_id`:2 for open-end generation.\n"
     ]
    },
    {
     "name": "stdout",
     "output_type": "stream",
     "text": [
      "Q_TTSEM_NOMBRE:* Mon raisonnement : Je dois trouver dans le texte une phrase qui mentionne le nombre maximal de jours de télétravail par semaine. Cette phrase doit contenir le mot \"semaine\" ou une notion de fréquence par semaine. De plus, elle doit clairement indiquer le nombre de jours de télétravail et ne pas se rapporter au télétravail ponctuel ou occasionnel, ni aux indemnisations.\n",
      "* Phrase ou paragraphe du contexte qui répond à la question : \"La répartition des jours travaillés en entreprises et à domicile : l’alternance et le nombre de jours de télétravail hebdomadaire seront définis à la rédaction de l’avenant.\"\n",
      "* Ma réponse : nombrejourmaxparsemaine=0\n",
      "\n",
      "Je n'ai pas trouvé dans le texte une phrase qui mentionne explicitement le nombre maximal de jours de télétravail par semaine. Par conséquent, ma réponse est nombrejourmaxparsemaine=0.\n",
      "\n",
      "40 T06721006938\n"
     ]
    },
    {
     "name": "stderr",
     "output_type": "stream",
     "text": [
      "Setting `pad_token_id` to `eos_token_id`:2 for open-end generation.\n"
     ]
    },
    {
     "name": "stdout",
     "output_type": "stream",
     "text": [
      "Q_TTSEM_NOMBRE:* Mon raisonnement : Je dois trouver dans le contexte une phrase qui indique le nombre maximal de jours de télétravail par semaine. Pour cela, je vais me concentrer sur les phrases qui parlent du télétravail régulier et non occasionnel ou ponctuel. De plus, je dois m'assurer que la phrase ne parle pas d'indemnisation mais bien du nombre de jours de télétravail.\n",
      "* Phrase ou paragraphe du contexte qui répond à la question : \"Pour permettre aux salariés de maintenir un lien collectif et de prévenir le risque d’isolement, les parties au présent accord d’entreprise conviennent qu’en tout état de cause, pour les semaines où le salarié use de sa faculté de télétravailler, il devra être présent au minimum 2 jours par semaine sur son ou ses lieu(x) de travail habituel(s).\"\n",
      "* Ma réponse : nombrejourmaxparsemaine=2\n",
      "\n",
      "41 T09221026978\n"
     ]
    },
    {
     "name": "stderr",
     "output_type": "stream",
     "text": [
      "Setting `pad_token_id` to `eos_token_id`:2 for open-end generation.\n",
      "Created a chunk of size 11621, which is longer than the specified 5000\n"
     ]
    },
    {
     "name": "stdout",
     "output_type": "stream",
     "text": [
      "Q_TTSEM_NOMBRE:\n",
      "* Mon raisonnement : Je dois trouver dans le texte une indication du nombre maximal de jours de télétravail par semaine. Pour cela, je vais me concentrer sur les parties du texte qui parlent du télétravail régulier et de sa fréquence.\n",
      "\n",
      "* Phrase ou paragraphe du contexte qui répond à la question : \"Il y a cinq jours ouvrés dans une semaine, donc un nombre de jour de télétravail par semaine ne peut pas être strictement supérieur à cinq.\"\n",
      "\n",
      "* Ma réponse : nombrejourmaxparsemaine=5\n",
      "\n",
      "42 T01321011332\n"
     ]
    },
    {
     "name": "stderr",
     "output_type": "stream",
     "text": [
      "Setting `pad_token_id` to `eos_token_id`:2 for open-end generation.\n"
     ]
    },
    {
     "name": "stdout",
     "output_type": "stream",
     "text": [
      "Q_TTSEM_NOMBRE:* Mon raisonnement : Je vais rechercher dans le contexte les phrases qui comportent le mot \"semaine\" et qui parlent du nombre de jours de télétravail autorisés. Ensuite, je regarderai si dans ces phrases, il y a une indication du nombre maximal de jours de télétravail par semaine.\n",
      "* Phrase ou paragraphe du contexte qui répond à la question : \"Le télétravail est possible, si cela est compatible avec la durée du travail des salariés concernés, à concurrence de 0 à 2 jours ouvrés maximum par semaine, non consécutifs, sous condition de présence de 3 jours sur site (non reportable, non cumulable).\"\n",
      "* Ma réponse : nombrejourmaxparsemaine=2\n",
      "\n",
      "43 T09221022859\n"
     ]
    },
    {
     "name": "stderr",
     "output_type": "stream",
     "text": [
      "Setting `pad_token_id` to `eos_token_id`:2 for open-end generation.\n"
     ]
    },
    {
     "name": "stdout",
     "output_type": "stream",
     "text": [
      "Q_TTSEM_NOMBRE:* Mon raisonnement : Je vais rechercher dans le texte les occurrences du mot \"semaine\" associé au nombre de jours de télétravail autorisés.\n",
      "* Phrase ou paragraphe du contexte qui répond à la question : ARTICLE 9. RYTHME DE TELETRAVAIL\n",
      "\n",
      "    Afin notamment de préserver une certaine cohésion au sein des effectifs de la Société, les Salariés à temps plein ne travailleront qu'au maximum 2 jours par semaine en télétravail et 1 seule journée pour les Salariés à temps partiel.\n",
      "\n",
      "* Ma réponse : nombrejourmaxparsemaine=2\n",
      "\n",
      "44 T03021003019\n"
     ]
    },
    {
     "name": "stderr",
     "output_type": "stream",
     "text": [
      "Setting `pad_token_id` to `eos_token_id`:2 for open-end generation.\n"
     ]
    },
    {
     "name": "stdout",
     "output_type": "stream",
     "text": [
      "Q_TTSEM_NOMBRE:* Mon raisonnement : Je dois trouver dans le texte une indication du nombre maximal de jours de télétravail par semaine. Pour cela, je vais me concentrer sur les articles qui parlent du télétravail régulier et non occasionnel. Ensuite, je vérifierai que le nombre est bien exprimé en semaines et non en jours ou en mois.\n",
      "* Phrase ou paragraphe du contexte qui répond à la question : \"Pour répondre à l’état d’urgence et à la nécessité de faire perdurer le télétravail au sein des entreprises pour les emplois qui le permettent, le nombre de jours en télétravail pourra au maximum être de 4 par semaine.\"\n",
      "* Ma réponse : nombrejourmaxparsemaine=4\n",
      "\n",
      "45 T09121006120\n"
     ]
    },
    {
     "name": "stderr",
     "output_type": "stream",
     "text": [
      "Setting `pad_token_id` to `eos_token_id`:2 for open-end generation.\n"
     ]
    },
    {
     "name": "stdout",
     "output_type": "stream",
     "text": [
      "Q_TTSEM_NOMBRE:* Mon raisonnement : Je vais rechercher dans le texte les paragraphes qui comportent le mot-clé \"semaine\" et qui concernent le nombre de jours de télétravail autorisés. Ensuite, je vérifierai si le nombre de jours de télétravail par semaine est mentionné explicitement dans ces paragraphes.\n",
      "* Phrase ou paragraphe du contexte qui répond à la question : \"Les jours de télétravail doivent par principe être pris par journée entière et ne peuvent conduire le salarié à s’absenter en télétravail plus de deux journées pour une semaine de cinq jours.\"\n",
      "* Ma réponse : nombrejourmaxparsemaine=2\n",
      "\n",
      "Explication : Dans le paragraphe mentionné, il est explicitement indiqué que le salarié ne peut pas travailler plus de deux jours en télétravail par semaine.\n",
      "\n",
      "46 T07221003271\n"
     ]
    },
    {
     "name": "stderr",
     "output_type": "stream",
     "text": [
      "Setting `pad_token_id` to `eos_token_id`:2 for open-end generation.\n"
     ]
    },
    {
     "name": "stdout",
     "output_type": "stream",
     "text": [
      "Q_TTSEM_NOMBRE:\n",
      "* Mon raisonnement : Je dois rechercher dans le texte fourni toute mention explicite de la fréquence hebdomadaire de télétravail autorisée, sans tenir compte des autres types de fréquences ou des mentions relatives à l'indemnisation ou au télétravail occasionnel.\n",
      "* Phrase ou paragraphe du contexte qui répond à la question : Aucune phrase ou paragraphe ne contient l'information demandée.\n",
      "* Ma réponse : nombrejourmaxparsemaine=0\n",
      "\n",
      "47 T00621004760\n"
     ]
    },
    {
     "name": "stderr",
     "output_type": "stream",
     "text": [
      "Setting `pad_token_id` to `eos_token_id`:2 for open-end generation.\n",
      "Created a chunk of size 10412, which is longer than the specified 5000\n"
     ]
    },
    {
     "name": "stdout",
     "output_type": "stream",
     "text": [
      "Q_TTSEM_NOMBRE:* Mon raisonnement : Je dois trouver dans le texte une phrase qui indique le nombre maximal de jours de télétravail par semaine. Cette phrase doit contenir le mot \"semaine\" ou une notion de fréquence par semaine et concerner le nombre de jour de télétravail autorisé. Les paragraphes qui relatent d'indemnisation par jour de télétravail, ni le télétravail ponctuel ou occasionnel ne doivent pas être pris en compte.\n",
      "* Phrase ou paragraphe du contexte qui répond à la question : \"Afin de conserver la souplesse inhérente à ce type d’organisation du travail, le choix du jour de télétravail pourra être modifié dans les deux cas suivants : Ponctuellement, avec l’accord préalable par mail du manager, pour des raisons d’organisation professionnelle (déplacement professionnel, réunion sur site la journée télétravaillée…) ou personnelle (hors congés payés ou RTT sur la semaine). Dans ce cas la journée de télétravail pourra être déplacée : Au sein de la même semaine (en changeant la journée de télétravail de mardi pour la journée de jeudi ou inversement)\"\n",
      "* Ma réponse : nombrejourmaxparsemaine=1\n",
      "\n",
      "* Mon raisonnement : Je dois trouver dans le texte une phrase qui indique le nombre maximal de jours de télétravail par semaine. Cette phrase doit contenir le mot \"semaine\" ou une notion de fréquence par semaine et concerner le nombre de jour de télétravail autorisé. Les paragraphes qui relatent d'indemnisation par jour de télétravail, ni le télétravail ponctuel ou occasionnel ne doivent pas être pris en compte.\n",
      "* Phrase ou paragraphe du contexte qui répond à la question : \"La période d’adaptation s’applique à la première demande de télétravail ou à la nouvelle demande suite à un changement de poste.\"\n",
      "* Ma réponse : nombrejourmaxparsemaine=0\n",
      "\n",
      "* Mon raisonnement : Je dois trouver dans le texte une phrase qui indique le nombre maximal de jours de télétravail par semaine. Cette phrase doit contenir le mot \"semaine\" ou une notion de fréquence par semaine et concerner le nombre de jour de télétravail autorisé. Les paragraphes qui relatent d'indemnisation par jour de télétravail, ni le télétravail ponctuel ou occasionnel ne doivent pas être pris en compte.\n",
      "* Phrase ou paragraphe du contexte qui répond à la question : \"Le salarié adresse sa demande de télétravail par mail à son manager, copie RRH, en précisant la date du jour de télétravail souhaité. Le choix du jour est fixé sur proposition du salarié avec l’accord préalable du manager, le mardi ou jeudi, à l’instar du télétravail régulier prévu au Chapitre 1 du présent accord. Le manager a la faculté de refuser le jour proposé par le salarié compte tenu de l’organisation du service.\"\n",
      "* Ma réponse : nombrejourmaxparsemaine=1\n",
      "\n",
      "* Mon raisonnement : Je dois trouver dans le texte une phrase qui indique le nombre maximal de jours de télétravail par semaine. Cette phrase doit contenir le mot \"semaine\" ou une notion de fréquence par semaine et concerner le nombre de jour de télétravail autorisé. Les paragraphes qui relatent d'indemnisation par jour de télétravail, ni le télétravail ponctuel ou occasionnel ne doivent pas être pris en compte.\n",
      "* Phrase ou paragraphe du contexte qui répond à la question : None\n",
      "* Ma réponse : nombrejourmaxparsemaine=0\n",
      "\n",
      "48 T07521029992\n"
     ]
    },
    {
     "name": "stderr",
     "output_type": "stream",
     "text": [
      "Setting `pad_token_id` to `eos_token_id`:2 for open-end generation.\n"
     ]
    },
    {
     "name": "stdout",
     "output_type": "stream",
     "text": [
      "Q_TTSEM_NOMBRE:\n",
      "* Mon raisonnement : Je dois trouver dans le contexte une phrase qui mentionne explicitement le nombre maximal de jours de télétravail autorisés par semaine, sans tenir compte des notions de jours occasionnels ou indemnisés.\n",
      "* Phrase ou paragraphe du contexte qui répond à la question : Je n'ai pas trouvé de phrase qui répond à la question.\n",
      "* Ma réponse : nombrejourmaxparsemaine=0\n",
      "\n",
      "49 T05721004723\n"
     ]
    },
    {
     "name": "stderr",
     "output_type": "stream",
     "text": [
      "Setting `pad_token_id` to `eos_token_id`:2 for open-end generation.\n"
     ]
    },
    {
     "name": "stdout",
     "output_type": "stream",
     "text": [
      "Q_TTSEM_NOMBRE:\n",
      "* Mon raisonnement : Je dois trouver dans le texte une phrase où il est fait mention du nombre de jours de télétravail autorisés par semaine. Cette information doit être exprimée explicitement et non sous forme d'indemnisation ou de télétravail occasionnel. De plus, je dois m'assurer que la notion de semaine est utilisée dans le texte.\n",
      "\n",
      "* Phrase ou paragraphe du contexte qui répond à la question : \"Au 1er juin 2021, tous les collaborateurs pourront bénéficier de 2 jours / semaine de travail à distance.\"\n",
      "\n",
      "* Ma réponse : nombrejourmaxparsemaine=2\n",
      "\n",
      "50 T09221026359\n"
     ]
    },
    {
     "name": "stderr",
     "output_type": "stream",
     "text": [
      "Setting `pad_token_id` to `eos_token_id`:2 for open-end generation.\n"
     ]
    },
    {
     "name": "stdout",
     "output_type": "stream",
     "text": [
      "Q_TTSEM_NOMBRE:* Mon raisonnement : Je dois trouver dans le texte une information sur le nombre maximum de jours de télétravail par semaine. Ce nombre doit être exprimé en semaine et non en jour ou en mois. De plus, je dois m'assurer que cette information concerne le télétravail régulier et non occasionnel ou ponctuel.\n",
      "* Phrase ou paragraphe du contexte qui répond à la question : \"Le télétravail régulier suppose à minima une journée en télétravail par semaine, sans pouvoir excéder trois jours de télétravail par semaine.\"\n",
      "* Ma réponse : nombrejourmaxparsemaine=3\n",
      "\n",
      "Je répète le processus pour trouver s'il existe d'autres informations sur le nombre maximum de jours de télétravail par semaine :\n",
      "\n",
      "* Mon raisonnement : Je dois trouver dans le texte une information sur le nombre maximum de jours de télétravail par semaine. Ce nombre doit être exprimé en semaine et non en jour ou en mois. De plus, je dois m'assurer que cette information concerne le télétravail régulier et non occasionnel ou ponctuel.\n",
      "* Phrase ou paragraphe du contexte qui répond à la question : \"Il est tout de même fortement recommandé de ne pas dépasser 2 jours de télétravail par semaine.\"\n",
      "* Ma réponse : nombrejourmaxparsemaine=2\n",
      "\n",
      "Donc, il est possible de télétravailler jusqu'à 2 ou 3 jours par semaine selon les cas.\n",
      "\n",
      "51 T03121008941\n"
     ]
    },
    {
     "name": "stderr",
     "output_type": "stream",
     "text": [
      "Setting `pad_token_id` to `eos_token_id`:2 for open-end generation.\n"
     ]
    },
    {
     "name": "stdout",
     "output_type": "stream",
     "text": [
      "Q_TTSEM_NOMBRE:* Mon raisonnement : Je dois trouver dans le texte une phrase qui indique le nombre maximal de jours de télétravail par semaine. Cette phrase doit contenir le mot \"semaine\" ou une notion de fréquence par semaine. De plus, elle doit concerner le nombre de jour de télétravail autorisé et non les indemnisations ou le télétravail ponctuel/occasionnel.\n",
      "* Phrase ou paragraphe du contexte qui répond à la question : \"Le nombre de jour de télétravail ne pourra excéder 2 jours par semaine, et 1 jour pour les salariés à temps partiel selon article 2.\"\n",
      "* Ma réponse : nombrejourmaxparsemaine=2\n",
      "\n",
      "52 T06821004734\n"
     ]
    },
    {
     "name": "stderr",
     "output_type": "stream",
     "text": [
      "Setting `pad_token_id` to `eos_token_id`:2 for open-end generation.\n"
     ]
    },
    {
     "name": "stdout",
     "output_type": "stream",
     "text": [
      "Q_TTSEM_NOMBRE:* Mon raisonnement : Je dois trouver dans le texte une indication du nombre maximal de jours de télétravail par semaine. Cette indication doit être exprimée en jours et en semaines, et ne doit pas être une indemnisation ou un télétravail ponctuel ou occasionnel.\n",
      "* Phrase ou paragraphe du contexte qui répond à la question : \"Le nombre maximal de jours de télétravail est fixé annuellement et de façon forfaitaire. Il est également pondéré en fonction du temps de travail de chaque salarié comme suit : Nombre de jours calculé sur la base d’une moyenne de 3 jours de télétravail par mois et par équivalent temps plein, sur 10 mois à l’année (déduction faite des 5 semaines de congés payés, des jours de crédit d’heures, de réunion d’équipe et de formation).\"\n",
      "* Ma réponse : nombrejourmaxparsemaine=3\n",
      "\n",
      "53 T08421002482\n"
     ]
    },
    {
     "name": "stderr",
     "output_type": "stream",
     "text": [
      "Setting `pad_token_id` to `eos_token_id`:2 for open-end generation.\n"
     ]
    },
    {
     "name": "stdout",
     "output_type": "stream",
     "text": [
      "Q_TTSEM_NOMBRE:\n",
      "* Mon raisonnement : Je dois trouver dans le texte une indication du nombre maximal de jours de télétravail autorisés par semaine, dans le contexte d'un télétravail régulier et non occasionnel. Les notions de semaine doivent être explicites dans le texte.\n",
      "* Phrase ou paragraphe du contexte qui répond à la question : None, il n'y a pas de phrase dans le contexte qui répond à la question.\n",
      "* Ma réponse : nombrejourmaxparsemaine=0\n",
      "\n",
      "Explication : Après recherche dans le texte, je n'ai pas trouvé de mention explicite du nombre maximal de jours de télétravail autorisés par semaine dans le contexte d'un télétravail régulier.\n",
      "\n",
      "54 T09221023213\n"
     ]
    },
    {
     "name": "stderr",
     "output_type": "stream",
     "text": [
      "Setting `pad_token_id` to `eos_token_id`:2 for open-end generation.\n"
     ]
    },
    {
     "name": "stdout",
     "output_type": "stream",
     "text": [
      "Q_TTSEM_NOMBRE:* Mon raisonnement : Je dois trouver dans le texte une phrase qui indique le nombre maximal de jours de télétravail par semaine. Cette information doit être exprimée en jours et non en heures ou en indemnisation. De plus, je dois m'assurer que cette phrase se rapporte au télétravail régulier et non occasionnel.\n",
      "* Phrase ou paragraphe du contexte qui répond à la question : \"Il est explicitement précisé que cette clause ne se cumulera pas intégralement avec les dispositions de l’article 6 de l’accord du 16 juillet 2020. L’allocation perçue par les collaborateurs au titre de l’article précité viendra en déduction. En conséquence, le plafond d’allocations que percevra un collaborateur sera de 50 € par mois pour 5 jours de télétravail par semaine.\"\n",
      "* Ma réponse : nombrejourmaxparsemaine=5\n",
      "\n",
      "55 T09221025050\n"
     ]
    },
    {
     "name": "stderr",
     "output_type": "stream",
     "text": [
      "Setting `pad_token_id` to `eos_token_id`:2 for open-end generation.\n"
     ]
    },
    {
     "name": "stdout",
     "output_type": "stream",
     "text": [
      "Q_TTSEM_NOMBRE:\n",
      "* Mon raisonnement : Je vais rechercher dans le texte les paragraphes qui comportent le mot-clé \"semaine\" ou une notion de fréquence par semaine et qui concernent le nombre de jour de télétravail autorisé. Dans ces paragraphes, je vais chercher une expression numérique qui correspond au nombre maximal de jours de télétravail par semaine.\n",
      "\n",
      "* Phrase ou paragraphe du contexte qui répond à la question :\n",
      "\n",
      "> Dans le cadre de ce dispositif, la sanctuarisation de temps « forts » (de l’entreprise, de Direction, d’équipe, de Direction, etc.) doit être une priorité. Ces principes seront déclinés dans le cadre de règles d’équipe, qui pourront être formalisées au sein de chaque équipe. Chaque encadrant aura la possibilité de désigner un référent télétravail au sein de son équipe, sous réserve de l’accord de ce collaborateur. **Une présence physique simultanée de tous les membres de l’équipe, sur site, certains jours, en adéquation avec le bon fonctionnement des services.**\n",
      "\n",
      "Cette phrase mentionne une présence physique simultanée de tous les membres de l'équipe sur site certains jours, ce qui suggère qu'il y a une limite au nombre de jours de télétravail par semaine. Cependant, cette limite n'est pas explicitement mentionnée dans le texte.\n",
      "\n",
      "* Ma réponse : nombrejourmaxparsemaine=0\n",
      "\n",
      "Je n'ai pas trouvé de valeur explicite pour le nombre maximal de jours de télétravail par semaine dans les paragraphes qui mentionnent le mot-clé \"semaine\" ou une notion de fréquence par semaine et qui concernent le nombre de jour de télétravail autorisé.\n",
      "\n",
      "56 T03121008136\n"
     ]
    },
    {
     "name": "stderr",
     "output_type": "stream",
     "text": [
      "Setting `pad_token_id` to `eos_token_id`:2 for open-end generation.\n"
     ]
    },
    {
     "name": "stdout",
     "output_type": "stream",
     "text": [
      "Q_TTSEM_NOMBRE:* Mon raisonnement : Je vais rechercher dans le contexte fourni les paragraphes qui comportent le mot-clé \"semaine\" ou une notion de fréquence par semaine et qui concernent le nombre de jour de télétravail autorisé. Une fois ces paragraphes identifiés, je vérifierai s'ils mentionnent explicitement le nombre maximal de jours de télétravail par semaine.\n",
      "* Phrase ou paragraphe du contexte qui répond à la question : Article 9 – FREQUENCE ET NOMBRE DE JOURS TELETRAVAILLES\n",
      "* Ma réponse : nombrejourmaxparsemaine=1\n",
      "\n",
      "Explication : Selon l'article 9, les salariés peuvent télétravailler un jour maximum par semaine.\n",
      "\n",
      "57 T09221024009\n"
     ]
    },
    {
     "name": "stderr",
     "output_type": "stream",
     "text": [
      "Setting `pad_token_id` to `eos_token_id`:2 for open-end generation.\n"
     ]
    },
    {
     "name": "stdout",
     "output_type": "stream",
     "text": [
      "Q_TTSEM_NOMBRE:\n",
      "* Mon raisonnement : Je dois trouver dans le texte une indication du nombre maximal de jours de télétravail hebdomadaire autorisé de manière régulière. Pour cela, je recherche les occurrences du mot \"semaine\" dans le contexte du télétravail.\n",
      "\n",
      "* Phrase ou paragraphe du contexte qui répond à la question : Dans le texte donné, aucune phrase ne contient le mot \"semaine\" dans le contexte du télétravail régulier.\n",
      "\n",
      "* Ma réponse : nombrejourmaxparsemaine=0\n",
      "\n",
      "58 T09221025668\n"
     ]
    },
    {
     "name": "stderr",
     "output_type": "stream",
     "text": [
      "Setting `pad_token_id` to `eos_token_id`:2 for open-end generation.\n"
     ]
    },
    {
     "name": "stdout",
     "output_type": "stream",
     "text": [
      "Q_TTSEM_NOMBRE:* Mon raisonnement : Je vais rechercher dans le texte les paragraphes qui comportent le mot-clé \"semaine\" ou une notion de fréquence par semaine et qui concernent le nombre de jours de télétravail autorisés. Une fois que j'aurai trouvé ces paragraphes, je vérifierai s'ils mentionnent un nombre maximal de jours de télétravail par semaine.\n",
      "* Phrase ou paragraphe du contexte qui répond à la question : \"Afin, de maintenir le lien social du salarié avec sa communauté de travail, l’activité exercée en télétravail ne pourra excéder Une journée complète par semaine pour les salariés éligibles au télétravail, à temps partiel Une à deux journées complètes maximum par semaine pour les autres salariés éligibles au télétravail.\"\n",
      "* Ma réponse : nombrejourmaxparsemaine=2\n",
      "\n",
      "Je n'ai trouvé qu'un seul paragraphe qui mentionne explicitement le nombre de jours de télétravail par semaine, qui est de deux jours maximum pour les salariés éligibles au télétravail à temps plein.\n",
      "\n",
      "59 T06021003016\n"
     ]
    },
    {
     "name": "stderr",
     "output_type": "stream",
     "text": [
      "Setting `pad_token_id` to `eos_token_id`:2 for open-end generation.\n"
     ]
    },
    {
     "name": "stdout",
     "output_type": "stream",
     "text": [
      "Q_TTSEM_NOMBRE:* Mon raisonnement : Je dois trouver dans le contexte une indication du nombre maximal de jours de télétravail hebdomadaire autorisé dans le cadre d'un télétravail régulier. Ce nombre doit être exprimé en semaines et non en mois ou en trimestres. De plus, je dois m'assurer que cette indication concerne bien le télétravail régulier et non le télétravail occasionnel ou ponctuel.\n",
      "* Phrase ou paragraphe du contexte qui répond à la question : \"Afin de préserver le lien avec l’entreprise et d’éviter les périodes d’isolement, le télétravail régulier peut être organisé à raison de 2 jours maximum par semaine entière de 5 jours ouvrés.\"\n",
      "* Ma réponse : nombrejourmaxparsemaine=2\n",
      "\n",
      "60 T06821004760\n"
     ]
    },
    {
     "name": "stderr",
     "output_type": "stream",
     "text": [
      "Setting `pad_token_id` to `eos_token_id`:2 for open-end generation.\n"
     ]
    },
    {
     "name": "stdout",
     "output_type": "stream",
     "text": [
      "Q_TTSEM_NOMBRE:* Mon raisonnement : Je dois trouver dans le contexte une indication du nombre maximal de jours de télétravail par semaine. Pour cela, je vais me concentrer sur les paragraphes qui concernent le télétravail régulier et non occasionnel. De plus, je dois m'assurer que la notion de semaine est expressément mentionnée dans le paragraphe.\n",
      "* Phrase ou paragraphe du contexte qui répond à la question : Malheureusement, aucun paragraphe ne précise explicitement le nombre maximal de jours de télétravail par semaine dans le contexte fourni.\n",
      "* Ma réponse : nombrejourmaxparsemaine=0\n",
      "\n",
      "61 T07821008551\n"
     ]
    },
    {
     "name": "stderr",
     "output_type": "stream",
     "text": [
      "Setting `pad_token_id` to `eos_token_id`:2 for open-end generation.\n"
     ]
    },
    {
     "name": "stdout",
     "output_type": "stream",
     "text": [
      "Q_TTSEM_NOMBRE:* Mon raisonnement : Je vais rechercher dans le texte les paragraphes qui comportent le mot-clé \"semaine\" ou une notion de fréquence par semaine et qui concernent le nombre de jour de télétravail autorisé. Une fois que j'aurai trouvé ces paragraphes, je regarderai s'ils mentionnent un nombre maximal de jours de télétravail par semaine.\n",
      "* Phrase ou paragraphe du contexte qui répond à la question : \"De manière générale, le télétravail s’exerce à raison de deux journées fixes par semaine maximum.\"\n",
      "* Ma réponse : nombrejourmaxparsemaine=2\n",
      "\n",
      "62 T09521004176\n"
     ]
    },
    {
     "name": "stderr",
     "output_type": "stream",
     "text": [
      "Setting `pad_token_id` to `eos_token_id`:2 for open-end generation.\n"
     ]
    },
    {
     "name": "stdout",
     "output_type": "stream",
     "text": [
      "Q_TTSEM_NOMBRE:\n",
      "* Mon raisonnement : Je dois trouver dans le texte une phrase qui contienne le mot \"semaine\" et qui indique le nombre maximal de jours de télétravail hebdomadaire régulier.\n",
      "* Phrase ou paragraphe du contexte qui répond à la question : \"Le télétravail régulier peut-être de 1 ou de 2 jours par semaine. Il peut être porté à un maximum de 3 jours par semaine pour des salariés en forte autonomie de travail (selon l’estimation partagée par le collaborateur et le manager).\"\n",
      "* Ma réponse : nombrejourmaxparsemaine=3\n",
      "\n",
      "63 T59V21001231\n"
     ]
    },
    {
     "name": "stderr",
     "output_type": "stream",
     "text": [
      "Setting `pad_token_id` to `eos_token_id`:2 for open-end generation.\n"
     ]
    },
    {
     "name": "stdout",
     "output_type": "stream",
     "text": [
      "Q_TTSEM_NOMBRE:* Mon raisonnement : Je dois trouver dans le texte une indication du nombre maximal de jours de télétravail par semaine. Pour cela, je vais me concentrer sur les paragraphes qui parlent du télétravail régulier et non occasionnel, et qui expriment le nombre de jours en termes de semaine.\n",
      "* Phrase ou paragraphe du contexte qui répond à la question : \"Si le nombre de jour de télétravail semaine est inférieur à 5, ce nombre de jour de télétravail concerne du télétravail occasionnel. S'il est supérieur ou égal à 5, ce nombre concerne du télétravail régulier.\"\n",
      "* Ma réponse : nombrejourmaxparsemaine=5\n",
      "\n",
      "Je n'ai trouvé qu'une seule référence au nombre de jours de télétravail par semaine, qui est de 5.\n",
      "\n",
      "64 T08821002242\n"
     ]
    },
    {
     "name": "stderr",
     "output_type": "stream",
     "text": [
      "Setting `pad_token_id` to `eos_token_id`:2 for open-end generation.\n"
     ]
    },
    {
     "name": "stdout",
     "output_type": "stream",
     "text": [
      "Q_TTSEM_NOMBRE:* Mon raisonnement : Je vais rechercher dans le contexte les paragraphes qui comportent le mot-clé \"semaine\" ou une notion de fréquence par semaine et qui concernent le nombre de jour de télétravail autorisé. Dans ces paragraphes, je vais chercher une expression numérique qui exprime le nombre maximal de jours de télétravail par semaine.\n",
      "* Phrase ou paragraphe du contexte qui répond à la question : \"6-1 Rythme du télétravail De sorte à éviter le risque d’une « distanciation » avec l’entreprise, le nombre de jours maximum en télétravail est fixé à 2 jours par semaine pour un collaborateur à temps plein.\"\n",
      "* Ma réponse : nombrejourmaxparsemaine=2\n",
      "\n",
      "65 T04421010974\n"
     ]
    },
    {
     "name": "stderr",
     "output_type": "stream",
     "text": [
      "Setting `pad_token_id` to `eos_token_id`:2 for open-end generation.\n"
     ]
    },
    {
     "name": "stdout",
     "output_type": "stream",
     "text": [
      "Q_TTSEM_NOMBRE:* Mon raisonnement : Je vais rechercher dans le texte les paragraphes qui comportent le mot-clé \"semaine\" et qui concernent le nombre de jours de télétravail autorisés. Une fois que je les aurai trouvés, je regarderai si une limite de jours de télétravail par semaine y est explicitement mentionnée.\n",
      "* Phrase ou paragraphe du contexte qui répond à la question : \"Le capital temps attribué aux bénéficiaires de la souplesse organisationnelle est fixé à 48 jours par an. Il s'agit d'une limite maximale et non d'un droit acquis par l'agent.\"\n",
      "* Ma réponse : nombrejourmaxparsemaine=48\n",
      "\n",
      "66 T09221023345\n"
     ]
    },
    {
     "name": "stderr",
     "output_type": "stream",
     "text": [
      "Setting `pad_token_id` to `eos_token_id`:2 for open-end generation.\n"
     ]
    },
    {
     "name": "stdout",
     "output_type": "stream",
     "text": [
      "Q_TTSEM_NOMBRE:* Mon raisonnement : Je dois trouver dans le texte une phrase qui indique le nombre maximal de jours de télétravail par semaine. Cette phrase doit contenir le mot \"semaine\" ou une notion de fréquence par semaine. De plus, cette phrase doit concerner le nombre de jour de télétravail autorisé et ne pas se rapporter aux indemnisations ou au télétravail ponctuel ou occasionnel.\n",
      "* Phrase ou paragraphe du contexte qui répond à la question : \"Le télétravail sera mis en œuvre par journée entière de travail, dans la limite de deux jours par semaine.\"\n",
      "* Ma réponse : nombrejourmaxparsemaine=2\n",
      "\n",
      "67 T09221027087\n"
     ]
    },
    {
     "name": "stderr",
     "output_type": "stream",
     "text": [
      "Setting `pad_token_id` to `eos_token_id`:2 for open-end generation.\n"
     ]
    },
    {
     "name": "stdout",
     "output_type": "stream",
     "text": [
      "Q_TTSEM_NOMBRE:* Mon raisonnement : Je dois trouver dans le contexte une indication du nombre maximal de jours de télétravail par semaine. Pour cela, je vais lire attentivement chaque document pour trouver une phrase contenant le mot \"semaine\" et qui précise le nombre de jours de télétravail possible.\n",
      "* Phrase ou paragraphe du contexte qui répond à la question : \"En cas de télétravail en dessous de 100%, les jours télétravaillés dans la semaine sont convenus entre le Salarié et son manager, le cas échéant après avis de la Direction des Ressources Humaines, afin de respecter une jauge dans les locaux de l’entreprise qui soit adaptée à la situation sanitaire.\"\n",
      "* Ma réponse : nombrejourmaxparsemaine=5\n",
      "\n",
      "Je répète ce processus pour trouver une réponse alternative :\n",
      "\n",
      "* Mon raisonnement : Je dois trouver dans le contexte une indication du nombre maximal de jours de télétravail par semaine. Pour cela, je vais lire attentivement chaque document pour trouver une phrase contenant une notion de fréquence par semaine et qui précise le nombre de jours de télétravail possible.\n",
      "* Phrase ou paragraphe du contexte qui répond à la question : \"Selon les recommandations sanitaires, il peut être imposé aux salariés un télétravail à 100%.\"\n",
      "* Ma réponse : nombrejourmaxparsemaine=5\n",
      "\n",
      "En conclusion, dans aucun des documents fournis, il n'y a de mention explicite du nombre de jours de télétravail par semaine, sauf la mention d'un éventuel télétravail à 100%, qui implique que le nombre de jours de télétravail par semaine est de 5.\n",
      "\n",
      "68 T07821008583\n"
     ]
    },
    {
     "name": "stderr",
     "output_type": "stream",
     "text": [
      "Setting `pad_token_id` to `eos_token_id`:2 for open-end generation.\n"
     ]
    },
    {
     "name": "stdout",
     "output_type": "stream",
     "text": [
      "Q_TTSEM_NOMBRE:* Mon raisonnement : Je dois trouver dans le texte une phrase contenant le mot-clé \"semaine\" et qui précise le nombre maximal de jours de télétravail régulier par semaine.\n",
      "* Phrase ou paragraphe du contexte qui répond à la question : \"le salarié devra être physiquement présent dans l’entreprise au moins 2 jours par semaine\"\n",
      "* Ma réponse : nombrejourmaxparsemaine=2\n",
      "\n",
      "69 T04421009405\n"
     ]
    },
    {
     "name": "stderr",
     "output_type": "stream",
     "text": [
      "Setting `pad_token_id` to `eos_token_id`:2 for open-end generation.\n"
     ]
    },
    {
     "name": "stdout",
     "output_type": "stream",
     "text": [
      "Q_TTSEM_NOMBRE:* Mon raisonnement : Je vais rechercher dans le contexte les phrases qui contiennent le mot-clé \"semaine\" et qui concernent le nombre de jours de télétravail autorisés par semaine.\n",
      "* Phrase ou paragraphe du contexte qui répond à la question : \"Le rythme de télétravail accordé devra permettre minimum 3 jours de présentiel sur site par semaine pour les salariés à temps plein et à temps partiel.\"\n",
      "* Ma réponse : nombrejourmaxparsemaine=3\n",
      "\n",
      "70 T00321001449\n"
     ]
    },
    {
     "name": "stderr",
     "output_type": "stream",
     "text": [
      "Setting `pad_token_id` to `eos_token_id`:2 for open-end generation.\n"
     ]
    },
    {
     "name": "stdout",
     "output_type": "stream",
     "text": [
      "Q_TTSEM_NOMBRE:* Mon raisonnement : Je dois trouver dans le texte une indication du nombre maximal de jours de télétravail par semaine. Pour cela, je vais rechercher les occurrences du mot \"semaine\" et vérifier si elles sont associées à une indication de nombre de jours de télétravail.\n",
      "* Phrase ou paragraphe du contexte qui répond à la question : Article 3 - Règles de maintien du télétravail : \"L’employeur accorde un jour de télétravail par semaine...\"\n",
      "* Ma réponse : nombrejourmaxparsemaine=1\n",
      "\n",
      "71 T59V21001419\n"
     ]
    },
    {
     "name": "stderr",
     "output_type": "stream",
     "text": [
      "Setting `pad_token_id` to `eos_token_id`:2 for open-end generation.\n"
     ]
    },
    {
     "name": "stdout",
     "output_type": "stream",
     "text": [
      "Q_TTSEM_NOMBRE:* Mon raisonnement : Je dois trouver dans le texte une indication du nombre maximal de jours de télétravail autorisés par semaine, sans tenir compte des autres unités de temps (jours, mois, trimestres, années) et sans considération de la proratisation.\n",
      "* Phrase ou paragraphe du contexte qui répond à la question : \"Les journées de télétravail hebdomadaires autorisées devront être définies en accord avec le manager.\"\n",
      "* Ma réponse : nombrejourmaxparsemaine=5\n",
      "\n",
      "Explication : Dans le contexte fourni, il est mentionné que les journées de télétravail hebdomadaires autorisées doivent être définies en accord avec le manager, mais aucune limite explicite n'est donnée. Cependant, il est important de noter qu'il y a cinq jours ouvrés dans une semaine, donc un nombre de jour de télétravail par semaine ne peut pas être strictement supérieur à cinq.\n",
      "\n",
      "72 T07521028253\n"
     ]
    },
    {
     "name": "stderr",
     "output_type": "stream",
     "text": [
      "Setting `pad_token_id` to `eos_token_id`:2 for open-end generation.\n"
     ]
    },
    {
     "name": "stdout",
     "output_type": "stream",
     "text": [
      "Q_TTSEM_NOMBRE:* Mon raisonnement : Je dois trouver dans le texte une phrase où il est fait mention du nombre maximal de jours de télétravail par semaine. Ce nombre ne doit pas être une estimation ou une fourchette, mais un chiffre exact. De plus, je dois m'assurer que ce nombre ne se rapporte pas au télétravail occasionnel ou ponctuel, mais bien au télétravail régulier.\n",
      "* Phrase ou paragraphe du contexte qui répond à la question : \"Dans le respect de ce principe, les salariés peuvent demander à organiser leur rythme de télétravail en déterminant – au maximum – deux journées télétravaillées chaque semaine en moyenne.\"\n",
      "* Ma réponse : nombrejourmaxparsemaine=2\n",
      "\n",
      "Confidence: 90%\n",
      "\n",
      "73 T05121003407\n"
     ]
    },
    {
     "name": "stderr",
     "output_type": "stream",
     "text": [
      "Setting `pad_token_id` to `eos_token_id`:2 for open-end generation.\n"
     ]
    },
    {
     "name": "stdout",
     "output_type": "stream",
     "text": [
      "Q_TTSEM_NOMBRE:* Mon raisonnement : Je dois trouver dans le texte un paragraphe qui comporte le mot-clé \"semaine\" ou une notion de fréquence par semaine et qui concerne le nombre de jour de télétravail autorisé. Ce nombre doit être exprimé seulement par semaine et explicitement dans le paragraphe.\n",
      "* Phrase ou paragraphe du contexte qui répond à la question : \"3.3 - Les jours télé-travaillés ne peuvent être supérieurs à 4 jours par semaine, et à 10 jours par mois. Les jours télé-travaillés ne sont ni cumulables ni reportables d’un mois sur l’autre.\"\n",
      "* Ma réponse : nombrejourmaxparsemaine=4\n",
      "\n",
      "74 T01321010151\n"
     ]
    },
    {
     "name": "stderr",
     "output_type": "stream",
     "text": [
      "Setting `pad_token_id` to `eos_token_id`:2 for open-end generation.\n"
     ]
    },
    {
     "name": "stdout",
     "output_type": "stream",
     "text": [
      "Q_TTSEM_NOMBRE:\n",
      "* Mon raisonnement : Je dois trouver dans le texte une indication du nombre maximal de jours de télétravail par semaine. Pour cela, je vais me concentrer sur les passages qui parlent du télétravail régulier et de sa fréquence.\n",
      "\n",
      "* Phrase ou paragraphe du contexte qui répond à la question : \"Chaque salarié éligible au télétravail pourra en bénéficier dans la limite d’un jour par semaine.\"\n",
      "\n",
      "* Ma réponse : nombrejourmaxparsemaine=1\n",
      "\n",
      "75 T09221026340\n"
     ]
    },
    {
     "name": "stderr",
     "output_type": "stream",
     "text": [
      "Setting `pad_token_id` to `eos_token_id`:2 for open-end generation.\n"
     ]
    },
    {
     "name": "stdout",
     "output_type": "stream",
     "text": [
      "Q_TTSEM_NOMBRE:* Mon raisonnement : Je vais rechercher dans le contexte les phrases qui contiennent le mot-clé \"semaine\" et qui concernent le nombre de jours de télétravail autorisés. Une fois que j'aurai trouvé ces phrases, je vérifierai s'il y a une indication du nombre maximal de jours de télétravail par semaine.\n",
      "* Phrase ou paragraphe du contexte qui répond à la question : Dans l'Article 5.1, il est indiqué que \"Tout salarié s’inscrivant dans le dispositif de télétravail habituel devra exercer son métier a minima deux (2) jours par semaine sur son Lieu de référence. Les deux (2) jours de présence sur le Lieu de référence sont nécessaires pour préserver le collectif de travail.\". Plus loin dans le même Article 5.1, il est précisé que \"Le nombre de jours télétravaillables peut donc varier de zéro (0) à trois (3) jours par semaine au maximum\".\n",
      "* Ma réponse : nombrejourmaxparsemaine=3\n",
      "\n",
      "76 T97421003113\n"
     ]
    },
    {
     "name": "stderr",
     "output_type": "stream",
     "text": [
      "Setting `pad_token_id` to `eos_token_id`:2 for open-end generation.\n"
     ]
    },
    {
     "name": "stdout",
     "output_type": "stream",
     "text": [
      "Q_TTSEM_NOMBRE:\n",
      "* Mon raisonnement : Je dois trouver dans le contexte une phrase qui contienne le mot \"semaine\" et qui indique le nombre maximal de jours de télétravail par semaine.\n",
      "* Phrase ou paragraphe du contexte qui répond à la question : \"Le télétravail s’exercera à raison d’un jour non fractionnable par semaine,\"\n",
      "* Ma réponse : nombrejourmaxparsemaine=1\n",
      "\n",
      "* Mon raisonnement : Je dois trouver dans le contexte une phrase qui contient le mot \"semaine\" et qui indique le nombre maximal de jours de télétravail par semaine.\n",
      "* Phrase ou paragraphe du contexte qui répond à la question : \"Il revient au manager de partager un planning d’équipe permettant de visualiser les jours de travail en présentiel et à distance de chacun des collaborateurs.\"\n",
      "* Ma réponse : nombrejourmaxparsemaine=2\n",
      "\n",
      "* Mon raisonnement : Je dois trouver dans le contexte une phrase qui contient le mot \"semaine\" et qui indique le nombre maximal de jours de télétravail par semaine.\n",
      "* Phrase ou paragraphe du contexte qui répond à la question : \"Afin de conserver la cohésion de son équipe et permettre une mise en œuvre facilitée du télétravail, le manager veillera à maintenir deux jours par semaine de présence sur le site d’appartenance, avec l’ensemble de ses collaborateurs télétravailleurs et non télétravailleurs (team days)\"\n",
      "* Ma réponse : nombrejourmaxparsemaine=2\n",
      "\n",
      "Donc, selon les différents passages du contexte, le nombre maximal de jours de télétravail par semaine est de 1 ou 2 jours.\n",
      "\n",
      "77 T02921004425\n"
     ]
    },
    {
     "name": "stderr",
     "output_type": "stream",
     "text": [
      "Setting `pad_token_id` to `eos_token_id`:2 for open-end generation.\n"
     ]
    },
    {
     "name": "stdout",
     "output_type": "stream",
     "text": [
      "Q_TTSEM_NOMBRE:\n",
      "* Mon raisonnement : Je vais rechercher dans le texte les paragraphes qui comportent le mot-clé \"semaine\" et qui concernent le nombre de jours de télétravail autorisés. Dans ces paragraphes, je vais chercher une expression numérique qui correspond au nombre maximal de jours de télétravail par semaine.\n",
      "\n",
      "* Phrase ou paragraphe du contexte qui répond à la question : \"Le nombre de journée de travail est de 4 par mois mais non consécutives\".\n",
      "\n",
      "* Ma réponse : nombrejourmaxparsemaine=4.\n",
      "\n",
      "78 T01121001341\n"
     ]
    },
    {
     "name": "stderr",
     "output_type": "stream",
     "text": [
      "Setting `pad_token_id` to `eos_token_id`:2 for open-end generation.\n"
     ]
    },
    {
     "name": "stdout",
     "output_type": "stream",
     "text": [
      "Q_TTSEM_NOMBRE:* Mon raisonnement : Je dois rechercher dans le texte s'il existe une mention explicite du nombre maximal de jours de télétravail hebdomadaire autorisé. Comme il n'y a pas de notion de période dans le texte, je considère que chaque semaine est indépendante des autres. De plus, je dois m'assurer que la mention se trouve dans un paragraphe traitant du télétravail régulier et non du télétravail occasionnel ou des indemnisations.\n",
      "\n",
      "* Phrase ou paragraphe du contexte qui répond à la question : Aucune phrase ou paragraphe du contexte ne répond à la question car il n'y a aucune mention explicite du nombre maximal de jours de télétravail hebdomadaire autorisé.\n",
      "\n",
      "* Ma réponse : nombrejourmaxparsemaine=0\n",
      "\n",
      "79 T09221027244\n"
     ]
    },
    {
     "name": "stderr",
     "output_type": "stream",
     "text": [
      "Setting `pad_token_id` to `eos_token_id`:2 for open-end generation.\n"
     ]
    },
    {
     "name": "stdout",
     "output_type": "stream",
     "text": [
      "Q_TTSEM_NOMBRE:\n",
      "* Mon raisonnement : Je dois trouver dans le contexte une phrase où il est mentionné le nombre maximal de jours de télétravail par semaine. Pour cela, je vais me concentrer sur les phrases qui parlent du télétravail régulier et non occasionnel ou ponctuel. De plus, je dois m'assurer que la phrase ne parle pas d'indemnisation ou de compensation par jour de télétravail. Enfin, je dois déconnecter les liens entre les périodicités et faire comme si les semaines, les mois, les trimestres et les années sont des concepts indépendants.\n",
      "* Phrase ou paragraphe du contexte qui répond à la question : \"Le nombre de jours de télétravail est fixé à 1 par semaine pour tous.\"\n",
      "* Ma réponse : nombrejourmaxparsemaine=1\n",
      "\n",
      "80 T07521030172\n"
     ]
    },
    {
     "name": "stderr",
     "output_type": "stream",
     "text": [
      "Setting `pad_token_id` to `eos_token_id`:2 for open-end generation.\n"
     ]
    },
    {
     "name": "stdout",
     "output_type": "stream",
     "text": [
      "Q_TTSEM_NOMBRE:* Mon raisonnement : Je dois rechercher dans le texte s'il existe une mention explicite du nombre maximal de jours de télétravail par semaine. Pour cela, je dois trouver un paragraphe contenant le mot-clé \"semaine\" ou une notion de fréquence par semaine, et qui concerne le nombre de jours de télétravail autorisé. Je dois exclure les paragraphes qui traitent de l'indemnisation par jour de télétravail ou du télétravail ponctuel ou occasionnel.\n",
      "* Phrase ou paragraphe du contexte qui répond à la question : Aucun paragraphe ne répond à la question.\n",
      "* Ma réponse : nombrejourmaxparsemaine=0\n",
      "\n",
      "81 T09221025188\n"
     ]
    },
    {
     "name": "stderr",
     "output_type": "stream",
     "text": [
      "Setting `pad_token_id` to `eos_token_id`:2 for open-end generation.\n"
     ]
    },
    {
     "name": "stdout",
     "output_type": "stream",
     "text": [
      "Q_TTSEM_NOMBRE:* Mon raisonnement : Je vais rechercher dans le texte les paragraphes qui comportent le mot-clé \"semaine\" et qui concernent le nombre de jours de télétravail autorisés par semaine. Ensuite, je vérifierai si le nombre de jours de télétravail est explicite dans le paragraphe et si ce nombre est exprimé en jours par semaine.\n",
      "* Phrase ou paragraphe du contexte qui répond à la question : \"Le télétravail ne doit pas avoir pour effet d’entraîner un dépassement des durées maximales de temps de travail ou le non-respect des durées minimales de temps de repos. Il appartient conjointement à la Direction et au télétravailleur, en raison de la spécificité de sa situation de travail, de veiller au respect des dispositions légales ou conventionnelles relatives au temps de travail et de repos.\"\n",
      "* Ma réponse : nombrejourmaxparsemaine=0\n",
      "\n",
      "Explication : Après avoir recherché dans le texte les paragraphes qui comportent le mot-clé \"semaine\" et qui concernent le nombre de jours de télétravail autorisés par semaine, je n'ai pas trouvé de paragraphe qui mentionne explicitement le nombre de jours de télétravail par semaine. Par conséquent, ma réponse est nombrejourmaxparsemaine=0.\n",
      "\n",
      "82 T09221025957\n"
     ]
    },
    {
     "name": "stderr",
     "output_type": "stream",
     "text": [
      "Setting `pad_token_id` to `eos_token_id`:2 for open-end generation.\n"
     ]
    },
    {
     "name": "stdout",
     "output_type": "stream",
     "text": [
      "Q_TTSEM_NOMBRE:\n",
      "* Mon raisonnement : Je dois rechercher dans le texte fourni toute mention explicite de la fréquence hebdomadaire de télétravail autorisée, sans tenir compte des autres notions de fréquence (quotidienne, mensuelle, etc.) ni des mentions relatives aux indemnisations ou au télétravail occasionnel.\n",
      "\n",
      "* Phrase ou paragraphe du contexte qui répond à la question : Dans le texte fourni, il n'y a aucune mention explicite du nombre maximal de jours de télétravail autorisés par semaine.\n",
      "\n",
      "* Ma réponse : nombrejourmaxparsemaine=0\n",
      "\n",
      "83 T03321006914\n"
     ]
    },
    {
     "name": "stderr",
     "output_type": "stream",
     "text": [
      "Setting `pad_token_id` to `eos_token_id`:2 for open-end generation.\n"
     ]
    },
    {
     "name": "stdout",
     "output_type": "stream",
     "text": [
      "Q_TTSEM_NOMBRE:* Mon raisonnement : Je dois trouver dans le contexte une phrase qui lie le nombre de jours de télétravail par semaine et qui ne soit pas une indemnisation ou un télétravail ponctuel ou occasionnel.\n",
      "* Phrase ou paragraphe du contexte qui répond à la question : \"Afin de maintenir le lien social avec l’entreprise et au sein de l’équipe, mais également de faciliter l’organisation des temps de travail collectif, l’activité exercée en télétravail ne pourra en principe excéder une journée complète et fixe par semaine pour un salarié présent à temps plein.\"\n",
      "* Ma réponse : nombrejourmaxparsemaine=1\n",
      "\n",
      "84 T05721004854\n"
     ]
    },
    {
     "name": "stderr",
     "output_type": "stream",
     "text": [
      "Setting `pad_token_id` to `eos_token_id`:2 for open-end generation.\n"
     ]
    },
    {
     "name": "stdout",
     "output_type": "stream",
     "text": [
      "Q_TTSEM_NOMBRE:* Mon raisonnement : Je dois trouver dans le contexte une indication du nombre maximum de jours de télétravail par semaine. Pour cela, je vais me concentrer sur les paragraphes qui parlent du télétravail régulier et de sa fréquence.\n",
      "* Phrase ou paragraphe du contexte qui répond à la question : \"Afin de maintenir le lien social avec la société et ses collaborateurs, le télétravail flexible est limité de sorte que le salarié soit présent dans la société au moins 4 jours par semaine (du lundi au vendredi).\"\n",
      "* Ma réponse : nombrejourmaxparsemaine=4\n",
      "\n",
      "Mon raisonnement : Je dois trouver dans le contexte une indication du nombre maximum de jours de télétravail par semaine. Pour cela, je vais me concentrer sur les paragraphes qui parlent du télétravail régulier et de sa fréquence.\n",
      "\n",
      "Phrase ou paragraphe du contexte qui répond à la question : \"Afin de maintenir le lien social avec la société et ses collaborateurs, le télétravail flexible est limité de sorte que le salarié soit présent dans la société au moins 4 jours par semaine (du lundi au vendredi).\"\n",
      "\n",
      "Ma réponse : nombrejourmaxparsemaine=4\n",
      "\n",
      "85 T09121006419\n"
     ]
    },
    {
     "name": "stderr",
     "output_type": "stream",
     "text": [
      "Setting `pad_token_id` to `eos_token_id`:2 for open-end generation.\n"
     ]
    },
    {
     "name": "stdout",
     "output_type": "stream",
     "text": [
      "Q_TTSEM_NOMBRE:* Mon raisonnement : Je vais chercher dans le contexte les phrases qui comportent le mot \"semaine\" et qui parlent du nombre de jours de télétravail autorisés.\n",
      "* Phrase ou paragraphe du contexte qui répond à la question : \"Afin de maintenir le lien social avec la communauté de travail, et de préserver le bon fonctionnement des activités, les parties fixent le nombre de jour de télétravail à deux jours maximum par semaine.\"\n",
      "* Ma réponse : nombrejourmaxparsemaine=2\n",
      "\n",
      "86 T05121003353\n"
     ]
    },
    {
     "name": "stderr",
     "output_type": "stream",
     "text": [
      "Setting `pad_token_id` to `eos_token_id`:2 for open-end generation.\n"
     ]
    },
    {
     "name": "stdout",
     "output_type": "stream",
     "text": [
      "Q_TTSEM_NOMBRE:* Mon raisonnement : Je dois trouver dans le contexte une indication du nombre maximal de jours de télétravail par semaine. Pour cela, je vais me concentrer sur les phrases qui parlent du télétravail régulier, c'est-à-dire qui concernent plus d'une semaine, et qui utilisent le mot \"semaine\".\n",
      "* Phrase ou paragraphe du contexte qui répond à la question : \"Afin de maintenir la cohésion et le bon fonctionnement des équipes, il est convenu que le nombre de salarié en télétravail un jour donné ne dépasse pas 50% de l’effectif du service concerné.\"\n",
      "* Ma réponse : nombrejourmaxparsemaine=0.5\n",
      "\n",
      "Explication : La seule phrase qui mentionne le mot \"semaine\" et qui parle du télétravail régulier indique que le nombre de salariés en télétravail un jour donné ne doit pas dépasser 50% de l'effectif du service concerné. Cette limitation ne permet pas de calculer un nombre maximal de jours de télétravail par semaine pour un seul employé.\n",
      "\n",
      "87 T02921004527\n"
     ]
    },
    {
     "name": "stderr",
     "output_type": "stream",
     "text": [
      "Setting `pad_token_id` to `eos_token_id`:2 for open-end generation.\n"
     ]
    },
    {
     "name": "stdout",
     "output_type": "stream",
     "text": [
      "Q_TTSEM_NOMBRE:* Mon raisonnement : Je vais rechercher dans le texte les paragraphes qui comportent le mot-clé \"semaine\" et qui concernent le nombre de jour de télétravail autorisé. Ensuite, je vérifierai si une quantité maximale de jours de télétravail par semaine est explicitement mentionnée dans ces paragraphes.\n",
      "* Phrase ou paragraphe du contexte qui répond à la question : \"Afin de maintenir suffisamment le lien social et fonctionnel avec la communauté de travail, le salarié peut télétravailler au maximum 2 jours par semaine.\"\n",
      "* Ma réponse : nombrejourmaxparsemaine=2\n",
      "\n",
      "88 T04221004677\n"
     ]
    },
    {
     "name": "stderr",
     "output_type": "stream",
     "text": [
      "Setting `pad_token_id` to `eos_token_id`:2 for open-end generation.\n"
     ]
    },
    {
     "name": "stdout",
     "output_type": "stream",
     "text": [
      "Q_TTSEM_NOMBRE:\n",
      "* Mon raisonnement : Je dois trouver dans le contexte une indication du nombre maximal de jours de télétravail par semaine. Pour cela, je vais rechercher les occurrences du mot \"semaine\" dans le contexte et lire les phrases associées pour trouver une information sur le nombre de jours de télétravail.\n",
      "\n",
      "* Phrase ou paragraphe du contexte qui répond à la question : Article 5.2 Télétravail sur la base du volontariat : \"Le salarié sédentaire choisit un des 2 modèles suivants en accord avec son responsable hiérarchique. [...] Modèle hebdomadaire : Le salarié doit être au minimum 2 jours par semaine en présentiel au bureau (soit 1 à 3 jours de télétravail par semaine)\"\n",
      "\n",
      "* Ma réponse : nombrejourmaxparsemaine=3\n",
      "\n",
      "89 T01421004104\n"
     ]
    },
    {
     "name": "stderr",
     "output_type": "stream",
     "text": [
      "Setting `pad_token_id` to `eos_token_id`:2 for open-end generation.\n"
     ]
    },
    {
     "name": "stdout",
     "output_type": "stream",
     "text": [
      "Q_TTSEM_NOMBRE:\n",
      "* Mon raisonnement : Je dois rechercher dans le texte fourni toute occurrence du mot \"semaine\" associé au nombre de jours de télétravail autorisés de manière régulière. Cette information doit être clairement exprimée et non implicite ou conditionnée.\n",
      "\n",
      "* Phrase ou paragraphe du contexte qui répond à la question : Malheureusement, aucune phrase ou paragraphe du contexte ne contient l'information spécifique demandée concernant le nombre maximal de jours de télétravail autorisés par semaine.\n",
      "\n",
      "* Ma réponse : nombrejourmaxparsemaine=0\n",
      "\n",
      "90 T07421004072\n"
     ]
    },
    {
     "name": "stderr",
     "output_type": "stream",
     "text": [
      "Setting `pad_token_id` to `eos_token_id`:2 for open-end generation.\n",
      "Created a chunk of size 5508, which is longer than the specified 5000\n",
      "Created a chunk of size 5679, which is longer than the specified 5000\n",
      "Created a chunk of size 7755, which is longer than the specified 5000\n"
     ]
    },
    {
     "name": "stdout",
     "output_type": "stream",
     "text": [
      "Q_TTSEM_NOMBRE:* Mon raisonnement : Je dois trouver dans le texte une phrase qui contienne le mot \"semaine\" et qui précise le nombre maximal de jours de télétravail régulier par semaine.\n",
      "* Phrase ou paragraphe du contexte qui répond à la question : \"Le télétravail pourra s’effectuer sur une demi-journée au minimum et au maximum 1 journée par semaine, en fonction du temps de travail et l’organisation du temps de travail.\"\n",
      "* Ma réponse : nombrejourmaxparsemaine=1\n",
      "\n",
      "91 T01421004303\n"
     ]
    },
    {
     "name": "stderr",
     "output_type": "stream",
     "text": [
      "Setting `pad_token_id` to `eos_token_id`:2 for open-end generation.\n"
     ]
    },
    {
     "name": "stdout",
     "output_type": "stream",
     "text": [
      "Q_TTSEM_NOMBRE:* Mon raisonnement : Je dois trouver dans le contexte une indication du nombre maximal de jours de télétravail par semaine. Pour cela, je vais me concentrer sur les paragraphes qui parlent du télétravail régulier et non occasionnel, et qui expriment le nombre de jours en semaines et non dans une autre unité de temps.\n",
      "* Phrase ou paragraphe du contexte qui répond à la question : \"Le télétravail pourra être exercé trois jours par semaine maximum.\"\n",
      "* Ma réponse : nombrejourmaxparsemaine=3\n",
      "\n",
      "92 T07321002999\n"
     ]
    },
    {
     "name": "stderr",
     "output_type": "stream",
     "text": [
      "Setting `pad_token_id` to `eos_token_id`:2 for open-end generation.\n"
     ]
    },
    {
     "name": "stdout",
     "output_type": "stream",
     "text": [
      "Q_TTSEM_NOMBRE:* Mon raisonnement : Je vais rechercher dans le texte les paragraphes qui comportent le mot-clé \"semaine\" ou une notion de fréquence par semaine et qui concernent le nombre de jour de télétravail autorisé. Dans ces paragraphes, je vais chercher une expression numérique correspondant au nombre maximal de jours de télétravail par semaine.\n",
      "* Phrase ou paragraphe du contexte qui répond à la question : \"Compte tenu de l’importance du maintien du lien avec la communauté de travail, les salariés devront être présents, ou en clientèle, a minima 3 jours par semaine dans les locaux au sein desquels les salariés exercent habituellement leur activité, et le télétravail ne pourra se faire que dans la limite d’1 jour par semaine, avec possibilité de télétravailler par demi-journée.\"\n",
      "* Ma réponse : nombrejourmaxparsemaine=1\n",
      "\n",
      "Note: J'ai utilisé ma réponse pour répondre à la deuxième partie de la question, car il n'y avait pas de phrase ou de paragraphe qui répondait directement à la première partie de la question.\n",
      "\n",
      "93 T09321006658\n"
     ]
    },
    {
     "name": "stderr",
     "output_type": "stream",
     "text": [
      "Setting `pad_token_id` to `eos_token_id`:2 for open-end generation.\n"
     ]
    },
    {
     "name": "stdout",
     "output_type": "stream",
     "text": [
      "Q_TTSEM_NOMBRE:* Mon raisonnement : Je vais rechercher dans le texte les paragraphes qui comportent le mot-clé \"semaine\" et qui concernent le nombre de jours de télétravail autorisés. Ensuite, je vérifierai si ces paragraphes mentionnent explicitement un nombre maximal de jours de télétravail par semaine.\n",
      "* Phrase ou paragraphe du contexte qui répond à la question : \"Pour maintenir le lien social avec la communauté de travail, le présent accord prévoit jusqu’à deux jours de télétravail par semaine pour une semaine de travail « standard » (avec cinq jours ouvrés).\"\n",
      "* Ma réponse : nombrejourmaxparsemaine=2\n",
      "\n",
      "94 T01321011558\n"
     ]
    },
    {
     "name": "stderr",
     "output_type": "stream",
     "text": [
      "Setting `pad_token_id` to `eos_token_id`:2 for open-end generation.\n"
     ]
    },
    {
     "name": "stdout",
     "output_type": "stream",
     "text": [
      "Q_TTSEM_NOMBRE:* Mon raisonnement : Je dois trouver dans le texte une phrase qui indique le nombre maximal de jours de télétravail par semaine. Ce nombre ne doit pas être déduit d'une expression régulière ou d'une formule de calcul, mais doit être indiqué explicitement dans le texte. De plus, je dois m'assurer que cette phrase se rapporte bien au télétravail régulier et non au télétravail occasionnel ou aux indemnisations.\n",
      "* Phrase ou paragraphe du contexte qui répond à la question : \"Le jour de télétravail est fixé en concertation entre le salarié et le manager, en fonction de l’organisation de la structure et de l’activité des salariés. La décision finale revenant au manager. Un planning sera établi chaque mois par le manager, précisant les jours de télétravail de son équipe. **La fréquence du télétravail qui sera au maximum d’un jour par semaine**;\"\n",
      "* Ma réponse : nombrejourmaxparsemaine=1\n",
      "\n",
      "95 T03121008748\n"
     ]
    },
    {
     "name": "stderr",
     "output_type": "stream",
     "text": [
      "Setting `pad_token_id` to `eos_token_id`:2 for open-end generation.\n"
     ]
    },
    {
     "name": "stdout",
     "output_type": "stream",
     "text": [
      "Q_TTSEM_NOMBRE:* Mon raisonnement : Je dois trouver dans le contexte une phrase qui contienne le mot-clé \"semaine\" et qui précise le nombre maximal de jours de télétravail par semaine.\n",
      "* Phrase ou paragraphe du contexte qui répond à la question : \"Le Salarié pourra effectuer jusqu’à 45 jours de télétravail par année civile. La répartition de ces jours sur l’année civile s’effectuera par journée entière sur la base d’une journée par semaine.\"\n",
      "* Ma réponse : nombrejourmaxparsemaine=1\n",
      "\n",
      "* Mon raisonnement : Je dois trouver dans le contexte une phrase qui contienne le mot-clé \"semaine\" et qui précise le nombre maximal de jours de télétravail par semaine pour les salariés d'un service spécifique.\n",
      "* Phrase ou paragraphe du contexte qui répond à la question : \"Par exception, les salariés d’un service spécifique, notamment les personnels rattachés aux bureaux d’études des entreprises AXIANS Fibre Sud-ouest et AXIANS Pylône services France, pour lesquels organiser une journée de télétravail par semaine peut s’avérer plus complexe pour des raisons de matériel et logiciel informatiques, pourront bénéficier d’une autorisation de télétravail par semaine entière dans la limite de 9 semaines par an (9 semaines x 5 jours/semaine =45 jours).\"\n",
      "* Ma réponse : nombrejourmaxparsemaine=5\n",
      "\n",
      "* Mon raisonnement : Je dois vérifier qu'aucune autre phrase du contexte ne mentionne un nombre différent de jours de télétravail par semaine.\n",
      "* Phrase ou paragraphe du contexte qui répond à la question : Aucune autre phrase ne mentionne de nombre différent de jours de télétravail par semaine.\n",
      "* Ma réponse : nombrejourmaxparsemaine=0\n",
      "\n",
      "96 T59V21001382\n"
     ]
    },
    {
     "name": "stderr",
     "output_type": "stream",
     "text": [
      "Setting `pad_token_id` to `eos_token_id`:2 for open-end generation.\n"
     ]
    },
    {
     "name": "stdout",
     "output_type": "stream",
     "text": [
      "Q_TTSEM_NOMBRE:* Mon raisonnement : Je dois trouver dans le texte une phrase où il est fait mention du nombre maximal de jours de télétravail par semaine. Pour cela, je dois rechercher les phrases contenant le mot \"semaine\" et \"télétravail\". Ensuite, je dois m'assurer que cette phrase ne traite pas d'indemnisation ou de télétravail occasionnel.\n",
      "* Phrase ou paragraphe du contexte qui répond à la question : \"9/ Définition des postes et des règles du télétravail ainsi que la mise en place d’une prime de consommable \\nLa Direction propose de mettre en place des règles et une prime au travers d’une politique Groupe. \\nLa prime de télétravail est fixée à 10 euros par mois pour les fonctions permettant le télétravail et calculée au prorata du temps de présence si nécessaire.\"\n",
      "* Ma réponse : nombrededaysparsemaine=0. En effet, dans le texte proposé, il n'y a pas de phrase qui précise le nombre maximal de jours de télétravail par semaine dans le cadre d'un télétravail régulier.\n",
      "\n",
      "97 T05721004198\n"
     ]
    },
    {
     "name": "stderr",
     "output_type": "stream",
     "text": [
      "Setting `pad_token_id` to `eos_token_id`:2 for open-end generation.\n"
     ]
    },
    {
     "name": "stdout",
     "output_type": "stream",
     "text": [
      "Q_TTSEM_NOMBRE:* Mon raisonnement : Je dois trouver dans le texte une indication du nombre maximal de jours de télétravail par semaine. Pour cela, je vais me concentrer sur les phrases qui parlent du télétravail régulier, et qui utilisent le terme \"semaine\".\n",
      "* Phrase ou paragraphe du contexte qui répond à la question : ARTICLE 3-2 - Fréquence et nombre de jours de télétravail dans le texte dit \"Le télétravail est limité à 2 jours maximum par semaine...\"\n",
      "* Ma réponse : nombrejourmaxparsemaine=2\n",
      "\n",
      "98 T02921005002\n"
     ]
    },
    {
     "name": "stderr",
     "output_type": "stream",
     "text": [
      "Setting `pad_token_id` to `eos_token_id`:2 for open-end generation.\n"
     ]
    },
    {
     "name": "stdout",
     "output_type": "stream",
     "text": [
      "Q_TTSEM_NOMBRE:* Mon raisonnement : Je dois trouver dans le contexte une phrase qui contienne le mot \"semaine\" et qui précise le nombre maximal de jours de télétravail par semaine.\n",
      "* Phrase ou paragraphe du contexte qui répond à la question : \"En cas de télétravail régulier, les coûts directement engendrés par le télétravail (notamment abonnement internet & frais fixes variables –chauffage, électricité…–) sont pris en charge par le versement d’une indemnité globale de 2€50 bruts par journée télétravaillée (la prime de transport ne sera par ailleurs pas versée pour les journées de télétravail). Les salariés concernés continuent par ailleurs à bénéficier des tickets restaurant pendant les périodes télétravaillés, dans le respect des règles URSSAFF en vigueur. En cas de télétravail régulier dont la quotité est en principe d’au moins 2 jours de télétravail par semaine, l’entreprise met à disposition un écran et un ensemble clavier et souris complémentaires.\"\n",
      "* Ma réponse : nombrejourmaxparsemaine=2\n",
      "\n",
      "*Mon raisonnement :* Je dois trouver dans le contexte une phrase qui contient le mot \"semaine\" et qui précise le nombre maximal de jours de télétravail par semaine.\n",
      "\n",
      "*Phrase ou paragraphe du contexte qui répond à la question :* \"En cas de télétravail régulier, les coûts directement engendrés par le télétravail (notamment abonnement internet & frais fixes variables –chauffage, électricité…–) sont pris en charge par le versement d’une indemnité globale de 2€50 bruts par journée télétravaillée (la prime de transport ne sera par ailleurs pas versée pour les journées de télétravail). Les salariés concernés continuent par ailleurs à bénéficier des tickets restaurant pendant les périodes télétravaillés, dans le respect des règles URSSAFF en vigueur. En cas de télétravail régulier dont la quotité est en principe d’au moins 2 jours de télétravail par semaine, l’entreprise met à disposition un écran et un ensemble clavier et souris complémentaires.\"\n",
      "\n",
      "*Ma réponse :* nombrejourmaxparsemaine=2\n",
      "\n",
      "99 T01321010134\n"
     ]
    },
    {
     "name": "stderr",
     "output_type": "stream",
     "text": [
      "Setting `pad_token_id` to `eos_token_id`:2 for open-end generation.\n"
     ]
    },
    {
     "name": "stdout",
     "output_type": "stream",
     "text": [
      "Q_TTSEM_NOMBRE:* Mon raisonnement : Je vais rechercher dans le texte les paragraphes qui comportent le mot-clé \"semaine\" ou une notion de fréquence par semaine et qui concernent le nombre de jour de télétravail autorisé. Je ne tiendrai pas compte des paragraphes qui relatent d'indemnisation par jour de télétravail, ni le télétravail ponctuel ou occasionnel.\n",
      "* Phrase ou paragraphe du contexte qui répond à la question : \"Le télétravail régulier consiste, sur la base du volontariat, à offrir la possibilité au collaborateur de travailler en dehors des locaux de l’entreprise jusqu’à 3 jours maximum par semaine pour un salarié à temps complet ou 50% de son temps de travail pour un salarié à temps partiel.\"\n",
      "* Ma réponse : nombrejourmaxparsemaine=3\n",
      "\n",
      "100 T04421010863\n"
     ]
    },
    {
     "name": "stderr",
     "output_type": "stream",
     "text": [
      "Setting `pad_token_id` to `eos_token_id`:2 for open-end generation.\n"
     ]
    },
    {
     "name": "stdout",
     "output_type": "stream",
     "text": [
      "Q_TTSEM_NOMBRE:\n",
      "* Mon raisonnement : Je dois rechercher dans le texte si un paragraphe mentionne le mot \"semaine\" ou une notion de fréquence par semaine et concerne le nombre de jour de télétravail autorisé. Je dois ensuite extraire le nombre de jours de télétravail maximum par semaine.\n",
      "\n",
      "* Phrase ou paragraphe du contexte qui répond à la question : Aucune phrase ou paragraphe ne correspond à ma recherche.\n",
      "\n",
      "* Ma réponse : nombrejourmaxparsemaine=0\n",
      "\n",
      "101 T02221003288\n"
     ]
    },
    {
     "name": "stderr",
     "output_type": "stream",
     "text": [
      "Setting `pad_token_id` to `eos_token_id`:2 for open-end generation.\n",
      "Created a chunk of size 6497, which is longer than the specified 5000\n"
     ]
    },
    {
     "name": "stdout",
     "output_type": "stream",
     "text": [
      "Q_TTSEM_NOMBRE:* Mon raisonnement : Je dois trouver dans le contexte une indication du nombre maximum de jours de télétravail par semaine dans le cadre d'un télétravail régulier. Ce nombre doit être explicite et non déduit d'une période plus longue ou plus courte.\n",
      "* Phrase ou paragraphe du contexte qui répond à la question : \"le salarié devra être à minima 3 jours par semaine sur site ou en déplacement\"\n",
      "* Ma réponse : nombrejourmaxparsemaine=3\n",
      "\n",
      "102 T04421010659\n"
     ]
    },
    {
     "name": "stderr",
     "output_type": "stream",
     "text": [
      "Setting `pad_token_id` to `eos_token_id`:2 for open-end generation.\n"
     ]
    },
    {
     "name": "stdout",
     "output_type": "stream",
     "text": [
      "Q_TTSEM_NOMBRE:* Mon raisonnement : Je dois trouver dans le contexte la mention d'un nombre de jours de télétravail maximal par semaine. Pour cela, je vais me concentrer sur les phrases qui parlent du télétravail régulier, et ignorer les mentions de télétravail occasionnel ou ponctuel. De plus, je dois ignorer les phrases qui parlent de compensation financière ou matérielle par jour de télétravail.\n",
      "* Phrase ou paragraphe du contexte qui répond à la question : \"Conformément à ces modalités, le planning du salarié bénéficiant du télétravail pourra prévoir soit une journée, soit au maximum deux journées, par semaine en situation de télétravail\"\n",
      "* Ma réponse : nombrejourmaxparsemaine=2\n",
      "\n",
      "103 T59V21001164\n"
     ]
    },
    {
     "name": "stderr",
     "output_type": "stream",
     "text": [
      "Setting `pad_token_id` to `eos_token_id`:2 for open-end generation.\n"
     ]
    },
    {
     "name": "stdout",
     "output_type": "stream",
     "text": [
      "Q_TTSEM_NOMBRE:* Mon raisonnement : Je dois trouver dans le texte une indication du nombre maximal de jours de télétravail autorisés par semaine. Pour cela, je vais me concentrer sur les paragraphes qui parlent du télétravail régulier et non occasionnel ou ponctuel. De plus, je dois déconnecter les liens entre les périodicités, donc considérer que les semaines, les mois, les trimestres et les années sont des concepts indépendants.\n",
      "* Phrase ou paragraphe du contexte qui répond à la question : Malheureusement, aucune phrase ou paragraphe du contexte ne répond à ma question.\n",
      "* Ma réponse : nombrejourmaxparsemaine=0\n",
      "\n",
      "104 T01321011808\n"
     ]
    },
    {
     "name": "stderr",
     "output_type": "stream",
     "text": [
      "Setting `pad_token_id` to `eos_token_id`:2 for open-end generation.\n"
     ]
    },
    {
     "name": "stdout",
     "output_type": "stream",
     "text": [
      "Q_TTSEM_NOMBRE:* Mon raisonnement : Je vais rechercher dans le texte les paragraphes qui comportent le mot-clé \"semaine\" ou une notion de fréquence par semaine et qui concernent le nombre de jour de télétravail autorisé. Une fois que j'aurai trouvé ces paragraphes, je regarderai s'ils mentionnent un nombre maximal de jours de télétravail par semaine.\n",
      "* Phrase ou paragraphe du contexte qui répond à la question : \"Le nombre de jours télétravaillés est limité à deux jours complets par semaine.\"\n",
      "* Ma réponse : nombrejourmaxparsemaine=2\n",
      "\n",
      "105 T04521003587\n"
     ]
    },
    {
     "name": "stderr",
     "output_type": "stream",
     "text": [
      "Setting `pad_token_id` to `eos_token_id`:2 for open-end generation.\n"
     ]
    },
    {
     "name": "stdout",
     "output_type": "stream",
     "text": [
      "Q_TTSEM_NOMBRE:* Mon raisonnement : Je dois trouver dans le contexte une phrase qui contienne le mot-clé \"semaine\" ou une notion de fréquence par semaine et qui concerne le nombre de jour de télétravail autorisé. Cette phrase ne doit pas se rapporter à l'indemnisation par jour de télétravail, ni au télétravail ponctuel ou occasionnel.\n",
      "* Phrase ou paragraphe du contexte qui répond à la question : Je ne trouve pas dans le contexte de phrase qui corresponde à ma recherche.\n",
      "* Ma réponse : nombrejourmaxparsemaine=0\n",
      "\n",
      "106 T02121003194\n"
     ]
    },
    {
     "name": "stderr",
     "output_type": "stream",
     "text": [
      "Setting `pad_token_id` to `eos_token_id`:2 for open-end generation.\n"
     ]
    },
    {
     "name": "stdout",
     "output_type": "stream",
     "text": [
      "Q_TTSEM_NOMBRE:* Mon raisonnement : Je dois trouver dans le texte une indication du nombre maximal de jours de télétravail autorisés par semaine, dans le contexte d'un télétravail régulier et non occasionnel ou ponctuel. Ce nombre doit être explicite, c'est-à-dire non calculé à partir d'autres éléments tels que des durées maximales de temps de travail ou des durées minimales de temps de repos.\n",
      "* Phrase ou paragraphe du contexte qui répond à la question : Malheureusement, aucune phrase ou paragraphe du contexte ne répond à la question car aucun nombre maximal de jours de télétravail autorisés par semaine n'est explicitement mentionné dans le texte.\n",
      "* Ma réponse : nombrejourmaxparsemaine=0\n",
      "\n",
      "107 T09321006383\n"
     ]
    },
    {
     "name": "stderr",
     "output_type": "stream",
     "text": [
      "Setting `pad_token_id` to `eos_token_id`:2 for open-end generation.\n"
     ]
    },
    {
     "name": "stdout",
     "output_type": "stream",
     "text": [
      "Q_TTSEM_NOMBRE:* Mon raisonnement : Je vais chercher dans le texte les paragraphes qui comportent le mot-clé \"semaine\" et qui concernent le nombre de jour de télétravail autorisé. Ensuite, je vérifierai si le nombre de jour de télétravail est exprimé explicitement dans ces paragraphes.\n",
      "* Phrase ou paragraphe du contexte qui répond à la question : Je n'ai pas trouvé de phrase ou paragraphe du contexte qui répond à la question.\n",
      "* Ma réponse : nombrejourmaxparsemaine=0\n",
      "\n",
      "108 T07521030183\n"
     ]
    },
    {
     "name": "stderr",
     "output_type": "stream",
     "text": [
      "Setting `pad_token_id` to `eos_token_id`:2 for open-end generation.\n"
     ]
    },
    {
     "name": "stdout",
     "output_type": "stream",
     "text": [
      "Q_TTSEM_NOMBRE:* Mon raisonnement : Je dois trouver dans le texte une phrase qui indique le nombre maximal de jours de télétravail par semaine. Cette phrase doit contenir le mot \"semaine\" ou une notion de fréquence par semaine. De plus, elle doit concerner le nombre de jour de télétravail autorisé et non les indemnisations ou le télétravail ponctuel/occasionnel.\n",
      "* Phrase ou paragraphe du contexte qui répond à la question : \"Afin d’offrir la plus grande souplesse à l’organisation du travail, le nombre de jours en télétravail ne sera pas limité par principe, mais fera l’objet d’une appréciation au cas par cas, en bonne intelligence par le manager et le collaborateur, en fonction de l’organisation de l’équipe.\"\n",
      "* Ma réponse : nombrejourmaxparsemaine=0\n",
      "\n",
      "Je n'ai pas trouvé dans le texte une phrase qui indique le nombre maximal de jours de télétravail par semaine en prenant en compte les contraintes mentionnées.\n",
      "\n",
      "109 T05321002415\n"
     ]
    },
    {
     "name": "stderr",
     "output_type": "stream",
     "text": [
      "Setting `pad_token_id` to `eos_token_id`:2 for open-end generation.\n"
     ]
    },
    {
     "name": "stdout",
     "output_type": "stream",
     "text": [
      "Q_TTSEM_NOMBRE:* Mon raisonnement : Je dois trouver dans le contexte une indication du nombre maximal de jours de télétravail par semaine. Ce nombre doit être exprimé directement en semaines, et non pas déduit d'une période plus longue. De plus, il doit être exprimé dans un paragraphe concernant le télétravail régulier et non le télétravail occasionnel ou ponctuel.\n",
      "* Phrase ou paragraphe du contexte qui répond à la question : \"Le nombre de jours télétravaillés s’organise de la façon suivante : Un nombre de jours télétravaillés pouvant être porté jusqu’à 3 jours par semaine sur accord du manager.\"\n",
      "* Ma réponse : nombrejourmaxparsemaine=3\n",
      "\n",
      "110 T03821006956\n"
     ]
    },
    {
     "name": "stderr",
     "output_type": "stream",
     "text": [
      "Setting `pad_token_id` to `eos_token_id`:2 for open-end generation.\n"
     ]
    },
    {
     "name": "stdout",
     "output_type": "stream",
     "text": [
      "Q_TTSEM_NOMBRE:* Mon raisonnement : Je vais rechercher dans le texte les paragraphes qui comportent le mot-clé \"semaine\" ou une notion de fréquence par semaine et qui concernent le nombre de jour de télétravail autorisé. Dans ces paragraphes, je vais chercher le nombre maximal de jours de télétravail par semaine.\n",
      "* Phrase ou paragraphe du contexte qui répond à la question : \"Le télétravail pour le salarié à temps complet ou titulaire d’un forfait annuel 218 ne pourra être exercé que pour un maximum de 13 jours (soit 26 demi-journées) par trimestre civil dans la limite de 1 jour (soit 2 demi-journées) par semaine de 5 jours travaillés, non reportables, soit une enveloppe de 52 jours (soit 104 demi-journées) par année civile.\"\n",
      "* Ma réponse : nombrejourmaxparsemaine=2\n",
      "\n",
      "* Mon raisonnement : Je vais rechercher dans le texte les paragraphes qui comportent le mot-clé \"semaine\" ou une notion de fréquence par semaine et qui concernent le nombre de jour de télétravail autorisé. Dans ces paragraphes, je vais chercher le nombre maximal de jours de télétravail par semaine.\n",
      "* Phrase ou paragraphe du contexte qui répond à la question : \"Le télétravail pour un salarié travaillant à 90% ne pourra être exercé que pour un maximum de 12 jours (soit 24 demi-journées), par trimestre civil dans la limite de 1 jour par semaine (soit 2 demi-journées), non reportables, soit une enveloppe de 48 jours (soit 96 demi-journées), par année civile.\"\n",
      "* Ma réponse : nombrejourmaxparsemaine=2\n",
      "\n",
      "* Mon raisonnement : Je vais rechercher dans le texte les paragraphes qui comportent le mot-clé \"semaine\" ou une notion de fréquence par semaine et qui concernent le nombre de jour de télétravail autorisé. Dans ces paragraphes, je vais chercher le nombre maximal de jours de télétravail par semaine.\n",
      "* Phrase ou paragraphe du contexte qui répond à la question : \"Le télétravail pour un salarié travaillant à 80% ne pourra être exercé que pour un maximum de 10,5 jours (soit 21 demi-journées), par trimestre civil dans la limite de 1 jour par semaine (soit 2 demi-journées), non reportables, soit une enveloppe de 42 jours (soit 84 demi-journées), par année civile.\"\n",
      "* Ma réponse : nombrejourmaxparsemaine=2\n",
      "\n",
      "* Mon raisonnement : Je vais rechercher dans le texte les paragraphes qui comportent le mot-clé \"semaine\" ou une notion de fréquence par semaine et qui concernent le nombre de jour de télétravail autorisé. Dans ces paragraphes, je vais chercher le nombre maximal de jours de télétravail par semaine.\n",
      "* Phrase ou paragraphe du contexte qui répond à la question : \"Le télétravail pour un salarié travaillant à 70% ne pourra être exercé que pour un maximum de 9,5 jours (soit 19 demi-journées), par trimestre civil dans la limite de 1 jour (soit 2 demi-journées), par semaine, non reportables, soit une enveloppe de 38 jours (soit 76 demi-journées), par année civile.\"\n",
      "* Ma réponse : nombrejourmaxparsemaine=2\n",
      "\n",
      "* Mon raisonnement : Je vais rechercher dans le texte les paragraphes qui comportent le mot-clé \"semaine\" ou une notion de fréquence par semaine et qui concernent le nombre de jour de télétravail autorisé. Dans ces paragraphes, je vais chercher le nombre maximal de jours de télé\n",
      "\n",
      "111 T05621003461\n"
     ]
    },
    {
     "name": "stderr",
     "output_type": "stream",
     "text": [
      "Setting `pad_token_id` to `eos_token_id`:2 for open-end generation.\n"
     ]
    },
    {
     "name": "stdout",
     "output_type": "stream",
     "text": [
      "Q_TTSEM_NOMBRE:* Mon raisonnement : Je dois trouver dans le contexte une information qui lie le nombre de jours de télétravail à la semaine. Cette information doit être exprimée en jours et non pas en heures ou en indemnisation. De plus, je dois m'assurer que cette information ne concerne pas un télétravail ponctuel ou occasionnel.\n",
      "* Phrase ou paragraphe du contexte qui répond à la question : \"Afin de préserver le lien social, la cohésion et le bon fonctionnement des équipes, le télétravail volontaire est limité à 20 jours par an.\"\n",
      "* Ma réponse : nombrejourmaxparsemaine=0. En effet, dans le contexte fourni, il n'y a pas d'information explicite sur le nombre maximal de jours de télétravail autorisés par semaine.\n",
      "\n",
      "112 T07521029829\n"
     ]
    },
    {
     "name": "stderr",
     "output_type": "stream",
     "text": [
      "Setting `pad_token_id` to `eos_token_id`:2 for open-end generation.\n"
     ]
    },
    {
     "name": "stdout",
     "output_type": "stream",
     "text": [
      "Q_TTSEM_NOMBRE:* Mon raisonnement : Je dois trouver dans le texte la mention d'une limite hebdomadaire de jours de télétravail dans le cadre d'un télétravail régulier. Cette limite doit être exprimée en nombre de jours et non pas en termes de pourcentage ou de proportion du temps de travail total. De plus, cette limite doit être explicite et non pas déduite implicitement d'autres éléments du texte.\n",
      "* Phrase ou paragraphe du contexte qui répond à la question : \"Le télétravail peut être exécuté dans la limite de deux jours fixes par semaine maximum\"\n",
      "* Ma réponse : nombrejourmaxparsemaine=2\n",
      "\n",
      "113 T06921015778\n"
     ]
    },
    {
     "name": "stderr",
     "output_type": "stream",
     "text": [
      "Setting `pad_token_id` to `eos_token_id`:2 for open-end generation.\n"
     ]
    },
    {
     "name": "stdout",
     "output_type": "stream",
     "text": [
      "Q_TTSEM_NOMBRE:* Mon raisonnement : Je vais chercher dans le texte fourni des occurrences du mot-clé \"semaine\" associé à une notion de fréquence et concernant le nombre de jours de télétravail autorisé. Si je trouve plusieurs réponses, je les stockerai dans la variable \"nombrejourmaxparsemaine\".\n",
      "* Phrase ou paragraphe du contexte qui répond à la question : Article 3 \"Le télétravail peut être mis en œuvre, par journée entière de travail, dans la limite de 3 jours par semaine et de façon régulière.\"\n",
      "* Ma réponse : nombrejourmaxparsemaine=3\n",
      "\n",
      "114 T09221025319\n"
     ]
    },
    {
     "name": "stderr",
     "output_type": "stream",
     "text": [
      "Setting `pad_token_id` to `eos_token_id`:2 for open-end generation.\n"
     ]
    },
    {
     "name": "stdout",
     "output_type": "stream",
     "text": [
      "Q_TTSEM_NOMBRE:* Mon raisonnement : Je dois trouver dans le contexte une phrase où il est fait mention du nombre maximal de jours de télétravail hebdomadaire dans le cadre d'un télétravail régulier. Ce nombre doit être exprimé en semaine et non en jour.\n",
      "* Phrase ou paragraphe du contexte qui répond à la question : \"Afin d’éviter l’isolement des salariés, de conserver les interactions avec les autres services et afin de conserver un fonctionnement collectif, le télétravail sera de la responsabilité du manager et ne pourrait couvrir une semaine entière à savoir 5 jours.\"\n",
      "* Ma réponse : nombrejourmaxparsemaine=5\n",
      "\n",
      "115 T09321006380\n"
     ]
    },
    {
     "name": "stderr",
     "output_type": "stream",
     "text": [
      "Setting `pad_token_id` to `eos_token_id`:2 for open-end generation.\n"
     ]
    },
    {
     "name": "stdout",
     "output_type": "stream",
     "text": [
      "Q_TTSEM_NOMBRE:\n",
      "* Mon raisonnement : Je vais rechercher dans le texte les paragraphes qui comportent le mot-clé \"semaine\" ou une notion de fréquence par semaine et qui concernent le nombre de jour de télétravail autorisé. Parmi ces paragraphes, je ne tiendrai compte que des mentions explicites du nombre de jours de télétravail par semaine, en excluant les passages relatifs à l'indemnisation par jour de télétravail ou au télétravail ponctuel ou occasionnel.\n",
      "\n",
      "* Phrase ou paragraphe du contexte qui répond à la question : \"Le plafond de deux jours par semaine constitue un maximum qui ne pourra être dépassé par les accords d’entreprise ou chartes de télétravail des entreprises du Groupe.\"\n",
      "\n",
      "* Ma réponse : nombrejourmaxparsemaine=2\n",
      "\n",
      "116 T09221025943\n"
     ]
    },
    {
     "name": "stderr",
     "output_type": "stream",
     "text": [
      "Setting `pad_token_id` to `eos_token_id`:2 for open-end generation.\n",
      "Created a chunk of size 7288, which is longer than the specified 5000\n",
      "Created a chunk of size 7924, which is longer than the specified 5000\n",
      "Created a chunk of size 6525, which is longer than the specified 5000\n"
     ]
    },
    {
     "name": "stdout",
     "output_type": "stream",
     "text": [
      "Q_TTSEM_NOMBRE:\n",
      "* Mon raisonnement : Je vais rechercher dans le contexte les phrases qui contiennent le mot \"semaine\" et qui parlent du nombre de jours de télétravail régulier.\n",
      "\n",
      "* Phrase ou paragraphe du contexte qui répond à la question : \"Le télétravailleur ne peut exercer en totalité son contrat de travail en dehors des locaux de l’Entreprise. En conséquence, les jours de télétravail seront fixés selon les modalités suivantes : De 1 à 3 jours fixes par semaine pour tous les collaborateurs de l’entreprise\"\n",
      "\n",
      "* Ma réponse : nombrejourmaxparsemaine=3\n",
      "\n",
      "117 T09221023411\n"
     ]
    },
    {
     "name": "stderr",
     "output_type": "stream",
     "text": [
      "Setting `pad_token_id` to `eos_token_id`:2 for open-end generation.\n"
     ]
    },
    {
     "name": "stdout",
     "output_type": "stream",
     "text": [
      "Q_TTSEM_NOMBRE:\n",
      "* Mon raisonnement : Je vais rechercher dans le contexte les paragraphes qui comportent le mot-clé \"semaine\" ou une notion de fréquence par semaine et qui concernent le nombre de jour de télétravail autorisé. Ensuite, je vérifierai si ces paragraphes explicitent un nombre maximal de jours de télétravail par semaine.\n",
      "\n",
      "* Phrase ou paragraphe du contexte qui répond à la question : Je n'ai pas trouvé de phrase ou paragraphe qui corresponde à ma recherche.\n",
      "\n",
      "* Ma réponse : nombrejourmaxparsemaine=0\n",
      "\n",
      "118 T09121006130\n"
     ]
    },
    {
     "name": "stderr",
     "output_type": "stream",
     "text": [
      "Setting `pad_token_id` to `eos_token_id`:2 for open-end generation.\n"
     ]
    },
    {
     "name": "stdout",
     "output_type": "stream",
     "text": [
      "Q_TTSEM_NOMBRE:\n",
      "* Mon raisonnement : Je dois rechercher dans le texte si un paragraphe contient le mot-clé \"semaine\" ou une notion de fréquence par semaine et concerne le nombre de jour de télétravail autorisé. Si c'est le cas, je dois trouver le nombre maximal de jours de télétravail par semaine.\n",
      "\n",
      "* Phrase ou paragraphe du contexte qui répond à la question : \"Il sera désormais possible d’effectuer du télétravail à raison de DEUX jours par semaine\"\n",
      "\n",
      "* Ma réponse : nombrejourmaxparsemaine=2\n",
      "\n",
      "119 T09221023603\n"
     ]
    },
    {
     "name": "stderr",
     "output_type": "stream",
     "text": [
      "Setting `pad_token_id` to `eos_token_id`:2 for open-end generation.\n"
     ]
    },
    {
     "name": "stdout",
     "output_type": "stream",
     "text": [
      "Q_TTSEM_NOMBRE:* Mon raisonnement : Je dois trouver dans le texte une indication du nombre maximal de jours de télétravail par semaine, hors télétravail occasionnel et indemnisations. Ce nombre doit être explicite et non déduit d'une période de temps plus longue.\n",
      "* Phrase ou paragraphe du contexte qui répond à la question : \"Le télétravail régulier s’effectue à raison de deux  jours par semaine maximum\"\n",
      "* Ma réponse : nombrejourmaxparsemaine=2\n",
      "\n",
      "120 T01321011053\n"
     ]
    },
    {
     "name": "stderr",
     "output_type": "stream",
     "text": [
      "Setting `pad_token_id` to `eos_token_id`:2 for open-end generation.\n",
      "Created a chunk of size 8959, which is longer than the specified 5000\n"
     ]
    },
    {
     "name": "stdout",
     "output_type": "stream",
     "text": [
      "Q_TTSEM_NOMBRE:* Mon raisonnement : Je dois trouver dans le texte un paragraphe qui contienne le mot \"semaine\" ou une notion de fréquence par semaine et qui concerne le nombre de jour de télétravail autorisé pour un employé. Ce nombre doit être exprimé en jours et explicitement indiqué dans le paragraphe.\n",
      "* Phrase ou paragraphe du contexte qui répond à la question : \"Le temps de présence dans les locaux devra être au minimum de 4 jours ouvrés par semaine afin de prévenir tout risque d’isolement. Le nombre de jours de télétravail est donc limité à un jour par semaine.\"\n",
      "* Ma réponse : nombrejourmaxparsemaine=1\n",
      "\n",
      "* Mon raisonnement : Je dois trouver dans le texte un paragraphe qui contienne le mot \"semaine\" ou une notion de fréquence par semaine et qui concerne le nombre de jour de télétravail autorisé pour un employé. Ce nombre doit être exprimé en jours et explicitement indiqué dans le paragraphe.\n",
      "* Phrase ou paragraphe du contexte qui répond à la question : \"Le temps de présence dans les locaux devra être au minimum de 3 jours ouvrés par semaine afin de prévenir tout risque d’isolement. Le nombre de jours télétravaillés est donc limité à deux jours par semaine.\"\n",
      "* Ma réponse : nombrejourmaxparsemaine=2\n",
      "\n",
      "121 T09221026634\n"
     ]
    },
    {
     "name": "stderr",
     "output_type": "stream",
     "text": [
      "Setting `pad_token_id` to `eos_token_id`:2 for open-end generation.\n"
     ]
    },
    {
     "name": "stdout",
     "output_type": "stream",
     "text": [
      "Q_TTSEM_NOMBRE:* Mon raisonnement : Je dois trouver dans le texte une indication du nombre maximal de jours de télétravail par semaine. Pour cela, je vais me concentrer sur les parties de l'accord qui traitent spécifiquement du télétravail régulier et non du télétravail occasionnel ou des indemnisations. De plus, je dois ignorer les mentions de fréquence hebdomadaire qui ne concernent pas directement le nombre de jours de télétravail.\n",
      "* Phrase ou paragraphe du contexte qui répond à la question : \"L’organisation alternative de l’activité domicile / entreprise se fait sur la base de deux (2) jours ouvrés par semaine\"\n",
      "* Ma réponse : nombrejourmaxparsemaine=2\n",
      "\n",
      "122 T09321007118\n"
     ]
    },
    {
     "name": "stderr",
     "output_type": "stream",
     "text": [
      "Setting `pad_token_id` to `eos_token_id`:2 for open-end generation.\n"
     ]
    },
    {
     "name": "stdout",
     "output_type": "stream",
     "text": [
      "Q_TTSEM_NOMBRE:* Mon raisonnement : Je dois trouver dans le contexte une phrase qui contient le mot-clé \"semaine\" et qui précise le nombre maximal de jours de télétravail hebdomadaire.\n",
      "* Phrase ou paragraphe du contexte qui répond à la question : \"Pour les salarié-es qui auront recours au télétravail 1 à 2 fois par semaine bénéficieront d’une prime de 10 (dix) €uros bruts mensuels.\" et \"Pour les salarié-es qui auront recours au télétravail 3 fois et plus par semaine bénéficieront d’une prime de 15 (quinze) €uros bruts mensuels.\"\n",
      "* Ma réponse : Dans les phrases indiquées, on constate qu'un salarié peut télétravailler 2 fois par semaine au maximum pour bénéficier de la prime de 10€, et 3 fois par semaine au minimum pour bénéficier de la prime de 15€. Par déduction, le nombre maximal de jours de télétravail hebdomadaire est de 3 jours. Donc nombrejourmaxparsemaine=3.\n",
      "\n",
      "123 T06421003693\n"
     ]
    },
    {
     "name": "stderr",
     "output_type": "stream",
     "text": [
      "Setting `pad_token_id` to `eos_token_id`:2 for open-end generation.\n"
     ]
    },
    {
     "name": "stdout",
     "output_type": "stream",
     "text": [
      "Q_TTSEM_NOMBRE:\n",
      "* Mon raisonnement : Je vais rechercher dans le texte les paragraphes qui comportent le mot-clé \"semaine\" ou une notion de fréquence par semaine et qui concernent le nombre de jour de télétravail autorisé. Dans ces paragraphes, je vais chercher une expression numérique qui exprime le nombre maximal de jours de télétravail par semaine.\n",
      "\n",
      "* Phrase ou paragraphe du contexte qui répond à la question : \"Le nombre de jours télétravaillés prévus par le formulaire de demande de télétravail est d’un ou deux jours entier(s) maximum par semaine.\"\n",
      "\n",
      "* Ma réponse : nombrejourmaxparsemaine=2\n",
      "\n",
      "124 T59L21011687\n"
     ]
    },
    {
     "name": "stderr",
     "output_type": "stream",
     "text": [
      "Setting `pad_token_id` to `eos_token_id`:2 for open-end generation.\n"
     ]
    },
    {
     "name": "stdout",
     "output_type": "stream",
     "text": [
      "Q_TTSEM_NOMBRE:* Mon raisonnement : Je vais rechercher dans le texte les paragraphes qui comportent le mot-clé \"semaine\" ou une notion de fréquence par semaine et qui concernent le nombre de jour de télétravail autorisé. Dans ces paragraphes, je vais chercher une expression numérique qui représente le nombre maximal de jours de télétravail par semaine.\n",
      "* Phrase ou paragraphe du contexte qui répond à la question : \"Le rythme de télétravail sera au minimum de 1 jour toutes les 2 semaines et ne pourra excéder 1 jour par semaine pour les collaborateurs concernés.\"\n",
      "* Ma réponse : nombrejourmaxparsemaine=1\n",
      "\n",
      "125 T07721005504\n"
     ]
    },
    {
     "name": "stderr",
     "output_type": "stream",
     "text": [
      "Setting `pad_token_id` to `eos_token_id`:2 for open-end generation.\n"
     ]
    },
    {
     "name": "stdout",
     "output_type": "stream",
     "text": [
      "Q_TTSEM_NOMBRE:* Mon raisonnement : Je dois trouver dans le texte une indication du nombre maximal de jours de télétravail par semaine. Pour cela, je dois trouver une phrase qui contienne le mot \"semaine\" et qui parle du télétravail. Ensuite, je dois regarder si cette phrase mentionne un nombre de jours de télétravail.\n",
      "* Phrase ou paragraphe du contexte qui répond à la question : \"Un accord relatif à la mise en place du télétravail a été signé au sein de la société le 17 janvier 2020. Cet accord a ouvert la possibilité aux salariés éligibles d’effectuer un jour par semaine de télétravail formalisé par un avenant au contrat de travail.\"\n",
      "* Ma réponse : nombrejourmaxparsemaine=1\n",
      "\n",
      "Je recommencerai ce processus pour chaque document fourni, et je mettrai à jour ma base de données en conséquence.\n",
      "\n",
      "126 T09221024480\n"
     ]
    },
    {
     "name": "stderr",
     "output_type": "stream",
     "text": [
      "Setting `pad_token_id` to `eos_token_id`:2 for open-end generation.\n"
     ]
    },
    {
     "name": "stdout",
     "output_type": "stream",
     "text": [
      "Q_TTSEM_NOMBRE:\n",
      "* Mon raisonnement : Je dois rechercher dans le contexte fourni un paragraphe qui contienne le mot-clé \"semaine\" ou une notion de fréquence par semaine et qui concerne le nombre de jour de télétravail autorisé. Je dois ensuite extraire le nombre de jours de télétravail maximum autorisés par semaine à partir de ce paragraphe.\n",
      "\n",
      "* Phrase ou paragraphe du contexte qui répond à la question : \"Le nombre de jour de télétravail autorisés passe de 4 jours par mois à 2 jours par semaine, pour tous les collaborateurs DFA\"\n",
      "\n",
      "* Ma réponse :\n",
      "\n",
      "nombrejourmaxparsemaine=2\n",
      "\n",
      "127 T02621002990\n"
     ]
    },
    {
     "name": "stderr",
     "output_type": "stream",
     "text": [
      "Setting `pad_token_id` to `eos_token_id`:2 for open-end generation.\n"
     ]
    },
    {
     "name": "stdout",
     "output_type": "stream",
     "text": [
      "Q_TTSEM_NOMBRE:\n",
      "* Mon raisonnement : Je dois trouver dans le contexte une indication du nombre maximal de jours de télétravail par semaine. Pour cela, je vais me concentrer sur les paragraphes qui parlent du télétravail régulier et non occasionnel, et qui expriment le nombre de jours en semaines.\n",
      "\n",
      "* Phrase ou paragraphe du contexte qui répond à la question : \"Pour conserver une cohésion d’équipe au sein de l’établissement, les parties conviennent d’un maximum de 2 jours par semaine.\"\n",
      "\n",
      "* Ma réponse : nombrejourmaxparsemaine=2\n",
      "\n",
      "128 T05121003268\n"
     ]
    },
    {
     "name": "stderr",
     "output_type": "stream",
     "text": [
      "Setting `pad_token_id` to `eos_token_id`:2 for open-end generation.\n"
     ]
    },
    {
     "name": "stdout",
     "output_type": "stream",
     "text": [
      "Q_TTSEM_NOMBRE:* Mon raisonnement : Je dois trouver dans le texte une indication du nombre maximal de jours de télétravail par semaine. Pour cela, je vais lire attentivement tous les paragraphes qui parlent du télétravail régulier et de sa fréquence.\n",
      "* Phrase ou paragraphe du contexte qui répond à la question : \"Afin de maintenir le lien social, la cohésion et le bon fonctionnement des équipes, le salarié télétravailleur à temps plein devra disposer d'au moins 12 jours de présence par an dans les locaux de l’entreprise à Reims ou dans tout autre endroit où peut être organisée une réunion, une manifestation auxquelles participent d’autres salariés et le salarié télétravailleur à temps partiel de 7 jours de présence minimum.\"\n",
      "* Ma réponse : nombrejourmaxparsemaine=5\n",
      "\n",
      "* Mon raisonnement : Je dois trouver dans le texte une indication du nombre maximal de jours de télétravail par semaine. Pour cela, je vais lire attentivement tous les paragraphes qui parlent du télétravail régulier et de sa fréquence.\n",
      "* Phrase ou paragraphe du contexte qui répond à la question : \"5.3. Formalisation\\n\\nLe passage en télétravail est formalisé par la signature d’un avenant au contrat de travail. Cet avenant prévoit notamment :\\n\\nl’adresse du domicile où le télétravail sera exercé ;\\nle jour ou les jours fixes choisis ;\\nles plages horaires d'accessibilité (pendant lesquelles le télétravailleur est joignable) ;\\nla période d’adaptation;\\nla réversibilité du télétravail ;\\nle matériel mis à disposition par l’entreprise ;\\nle rattachement hiérarchique ;\\nles moyens de communication entre le salarié et ses supérieurs hiérarchiques, ainsi que les membres de son équipe, les modalités d’évaluation de la charge de travail ;\\nles modalités d’utilisation des équipements ;\\nles restrictions dans l’usage des équipements professionnels mis à disposition ;\\nla durée déterminée ou indéterminée du télétravail.\"\n",
      "* Ma réponse : nombrejourmaxparsemaine=5\n",
      "\n",
      "129 T00821001063\n"
     ]
    },
    {
     "name": "stderr",
     "output_type": "stream",
     "text": [
      "Setting `pad_token_id` to `eos_token_id`:2 for open-end generation.\n"
     ]
    },
    {
     "name": "stdout",
     "output_type": "stream",
     "text": [
      "Q_TTSEM_NOMBRE:* Mon raisonnement : Je vais rechercher dans le texte les paragraphes qui comportent le mot-clé \"semaine\" et qui concernent le nombre de jour de télétravail autorisé. Dans ces paragraphes, je vais chercher une expression numérique qui correspond au nombre maximal de jours de télétravail par semaine.\n",
      "* Phrase ou paragraphe du contexte qui répond à la question : \"Configuration A\\nLe télétravail est limité à 1 jour par semaine.\"\n",
      "* Ma réponse : nombrejourmaxparsemaine=1\n",
      "\n",
      "130 T04421010989\n"
     ]
    },
    {
     "name": "stderr",
     "output_type": "stream",
     "text": [
      "Setting `pad_token_id` to `eos_token_id`:2 for open-end generation.\n"
     ]
    },
    {
     "name": "stdout",
     "output_type": "stream",
     "text": [
      "Q_TTSEM_NOMBRE:* Mon raisonnement : Je vais rechercher dans le texte les paragraphes qui comportent le mot-clé \"semaine\" ou une notion de fréquence par semaine et qui concernent le nombre de jour de télétravail autorisé. Je ne tiendrai pas compte des paragraphes qui relatent d'indemnisation par jour de télétravail, ni le télétravail ponctuel ou occasionnel.\n",
      "* Phrase ou paragraphe du contexte qui répond à la question : \"Un minimum de 3 jours par semaine calendaire au bureau sera observé. Ainsi, entre un et deux jours par semaine de télétravail pourront être mis en place pour un salarié à temps plein.\"\n",
      "* Ma réponse : nombrejourmaxparsemaine=2\n",
      "\n",
      "131 T04221004639\n"
     ]
    },
    {
     "name": "stderr",
     "output_type": "stream",
     "text": [
      "Setting `pad_token_id` to `eos_token_id`:2 for open-end generation.\n"
     ]
    },
    {
     "name": "stdout",
     "output_type": "stream",
     "text": [
      "Q_TTSEM_NOMBRE:\n",
      "* Mon raisonnement : Je dois rechercher dans le texte fourni une indication du nombre maximal de jours de télétravail qu'un employé est autorisé à faire par semaine, selon une fréquence exprimée en semaines. Cette information doit être clairement mentionnée dans un paragraphe qui contient le mot-clé \"semaine\" ou une notion de fréquence par semaine.\n",
      "\n",
      "* Phrase ou paragraphe du contexte qui répond à la question : Aucune phrase ou paragraphe du contexte ne répond à la question. En effet, le texte ne précise pas le nombre maximal de jours de télétravail qu'un employé est autorisé à faire par semaine.\n",
      "\n",
      "* Ma réponse : nombrejourmaxparsemaine=0\n",
      "\n",
      "132 T09221026760\n"
     ]
    },
    {
     "name": "stderr",
     "output_type": "stream",
     "text": [
      "Setting `pad_token_id` to `eos_token_id`:2 for open-end generation.\n"
     ]
    },
    {
     "name": "stdout",
     "output_type": "stream",
     "text": [
      "Q_TTSEM_NOMBRE:* Mon raisonnement : Je vais rechercher dans le texte les paragraphes qui comportent le mot-clé \"semaine\" ou une notion de fréquence par semaine et qui concernent le nombre de jour de télétravail autorisé. Je ne tiendrai pas compte des paragraphes qui relatent d'indemnisation par jour de télétravail, ni le télétravail ponctuel ou occasionnel.\n",
      "* Phrase ou paragraphe du contexte qui répond à la question : \"La planification de la journée de télétravail est réalisée par le responsable hiérarchique, en lien avec ses collaborateurs. Cette planification est réalisée, a minima le mois M, pour le mois complet suivant M+1 par le biais de l’outil LSRH et ce afin de permettre à tous une organisation optimum. Cette planification tient compte de la nécessité de maintien du lien social et le bon fonctionnement du service. Dans ce cadre, le responsable d’équipe peut décider d’une journée, a minima, de présence par semaine de l’ensemble de son équipe sur le lieu de travail habituel.\"\n",
      "* Ma réponse : nombrejourmaxparsemaine=1\n",
      "\n",
      "* Mon raisonnement : Je vais rechercher dans le texte les paragraphes qui comportent le mot-clé \"semaine\" ou une notion de fréquence par semaine et qui concernent le nombre de jour de télétravail autorisé. Je ne tiendrai pas compte des paragraphes qui relatent d'indemnisation par jour de télétravail, ni le télétravail ponctuel ou occasionnel.\n",
      "* Phrase ou paragraphe du contexte qui répond à la question : \"Le rythme définitif du télétravail, 1 jour ou 2 jours, est arrêté par avenant au contrat de travail après discussion entre le salarié et son manager.\"\n",
      "* Ma réponse : nombrejourmaxparsemaine=2\n",
      "\n",
      "133 T03321007161\n"
     ]
    },
    {
     "name": "stderr",
     "output_type": "stream",
     "text": [
      "Setting `pad_token_id` to `eos_token_id`:2 for open-end generation.\n"
     ]
    },
    {
     "name": "stdout",
     "output_type": "stream",
     "text": [
      "Q_TTSEM_NOMBRE:* Mon raisonnement : Je dois trouver dans le texte un paragraphe qui contient le mot-clé \"semaine\" ou une notion de fréquence par semaine et qui concerne le nombre de jour de télétravail autorisé. Ce paragraphe ne doit pas traiter d'indemnisation par jour de télétravail, ni du télétravail ponctuel ou occasionnel.\n",
      "* Phrase ou paragraphe du contexte qui répond à la question : \"Le télétravail régulier à domicile ne pourra être exercé que pour un minimum d’un (1) jour par semaine et un maximum de quatre (4) jours par semaine.\"\n",
      "* Ma réponse : nombrejourmaxparsemaine=4\n",
      "\n",
      "* Mon raisonnement : Je dois trouver dans le texte un paragraphe qui contient le mot-clé \"semaine\" ou une notion de fréquence par semaine et qui concerne le nombre de jour de télétravail autorisé. Ce paragraphe ne doit pas traiter d'indemnisation par jour de télétravail, ni du télétravail ponctuel ou occasionnel.\n",
      "* Phrase ou paragraphe du contexte qui répond à la question : \"Le principe d’un télétravail régulier dit alterné ou pendulaire : Le télétravail régulier à domicile ne pourra être exercé que pour un minimum d’un (1) jour par semaine et un maximum de quatre (4) jours par semaine.\"\n",
      "* Ma réponse : nombrejourmaxparsemaine=4\n",
      "\n",
      "* Mon raisonnement : Je dois trouver dans le texte un paragraphe qui contient le mot-clé \"semaine\" ou une notion de fréquence par semaine et qui concerne le nombre de jour de télétravail autorisé. Ce paragraphe ne doit pas traiter d'indemnisation par jour de télétravail, ni du télétravail ponctuel ou occasionnel.\n",
      "* Phrase ou paragraphe du contexte qui répond à la question : \"Le télétravail régulier à domicile ne pourra être exercé que pour un minimum d’un (1) jour par semaine et un maximum de quatre (4) jours par semaine.\"\n",
      "* Ma réponse : nombrejourmaxparsemaine=4\n",
      "\n",
      "134 T07521031493\n"
     ]
    },
    {
     "name": "stderr",
     "output_type": "stream",
     "text": [
      "Setting `pad_token_id` to `eos_token_id`:2 for open-end generation.\n"
     ]
    },
    {
     "name": "stdout",
     "output_type": "stream",
     "text": [
      "Q_TTSEM_NOMBRE:\n",
      "* Mon raisonnement : Je vais rechercher dans le texte les paragraphes qui comportent le mot-clé \"semaine\" ou une notion de fréquence par semaine et qui concernent le nombre de jour de télétravail autorisé. Une fois que je les ai trouvés, je vérifie s'ils mentionnent explicitement le nombre maximal de jours de télétravail par semaine. Si c'est le cas, je note ce nombre dans la variable \"nombrejourmaxparsemaine\".\n",
      "* Phrase ou paragraphe du contexte qui répond à la question : \"Option 1 - Vous serez en situation de télétravail à raison de deux jours par semaine maximum.\"\n",
      "* Ma réponse : nombrejourmaxparsemaine=2\n",
      "\n",
      "135 T07521028915\n"
     ]
    },
    {
     "name": "stderr",
     "output_type": "stream",
     "text": [
      "Setting `pad_token_id` to `eos_token_id`:2 for open-end generation.\n"
     ]
    },
    {
     "name": "stdout",
     "output_type": "stream",
     "text": [
      "Q_TTSEM_NOMBRE:* Mon raisonnement : Je dois trouver dans le texte une phrase contenant le mot \"semaine\" ou une notion de fréquence par semaine qui concerne le nombre de jour de télétravail autorisé. Je dois ensuite en extraire le nombre maximal de jours de télétravail par semaine.\n",
      "* Phrase ou paragraphe du contexte qui répond à la question : \"Afin de maintenir le lien social du salarié et de le prévenir de l’isolement, le recours au télétravail flexible est limité, de sorte qu’il devra être présent dans les locaux de l’entreprise au moins trois jours par semaine.\"\n",
      "* Ma réponse : nombrejourmaxparsemaine=3\n",
      "\n",
      "Note: J'ai cherché dans l'ensemble du contexte fourni, mais je n'ai trouvé qu'une seule occurrence de la notion de fréquence par semaine concernant le télétravail, qui est de trois jours par semaine.\n",
      "\n",
      "136 T09221025128\n"
     ]
    },
    {
     "name": "stderr",
     "output_type": "stream",
     "text": [
      "Setting `pad_token_id` to `eos_token_id`:2 for open-end generation.\n"
     ]
    },
    {
     "name": "stdout",
     "output_type": "stream",
     "text": [
      "Q_TTSEM_NOMBRE:* Mon raisonnement : Je vais rechercher dans le texte les paragraphes qui comportent le mot-clé \"semaine\" et qui concernent le nombre de jours de télétravail autorisés. Ensuite, je vérifierai si ces paragraphes indiquent explicitement le nombre maximal de jours de télétravail par semaine.\n",
      "* Phrase ou paragraphe du contexte qui répond à la question : \"Afin de préserver le lien social avec l’entreprise, les salariés éligibles peuvent, avec accord du manager, bénéficier du télétravail dans la limite de **xx** jours par semaine.\"\n",
      "* Ma réponse : nombrejourmaxparsemaine=xx\n",
      "\n",
      "Cependant, il est important de noter que la valeur numérique \"xx\" n'est pas spécifiée dans le texte. Par conséquent, je ne peux pas fournir une réponse numérique précise.\n",
      "\n",
      "137 T03821007078\n"
     ]
    },
    {
     "name": "stderr",
     "output_type": "stream",
     "text": [
      "Setting `pad_token_id` to `eos_token_id`:2 for open-end generation.\n"
     ]
    },
    {
     "name": "stdout",
     "output_type": "stream",
     "text": [
      "Q_TTSEM_NOMBRE:* Mon raisonnement : Je dois trouver dans le texte un paragraphe qui contient le mot-clé \"semaine\" ou une notion de fréquence par semaine et qui concerne le nombre de jours de télétravail autorisé pour un employé. Ce nombre doit être exprimé seulement par semaine et explicitement mentionné dans le paragraphe.\n",
      "* Phrase ou paragraphe du contexte qui répond à la question : Je n'ai pas trouvé de phrase ou de paragraphe qui correspond à ma requête.\n",
      "* Ma réponse : nombrejourmaxparsemaine=0\n",
      "\n",
      "138 T09221024001\n"
     ]
    },
    {
     "name": "stderr",
     "output_type": "stream",
     "text": [
      "Setting `pad_token_id` to `eos_token_id`:2 for open-end generation.\n"
     ]
    },
    {
     "name": "stdout",
     "output_type": "stream",
     "text": [
      "Q_TTSEM_NOMBRE:* Mon raisonnement : Je vais rechercher dans le texte les occurrences du mot \"semaine\" associé à une notion de fréquence de télétravail et qui concernent le nombre maximal de jours de télétravail autorisés par semaine.\n",
      "* Phrase ou paragraphe du contexte qui répond à la question : Les collaborateurs souhaitant faire du télétravail régulier devront considérer comme prioritaire le bon fonctionnement du service auquel ils appartiennent pour l’organisation de leurs jours de télétravail. Ainsi certaines fonctions nécessitent une présence sur site à certaines périodes, entraînant un accès limité au télétravail à ces périodes. Une liste indicative des fonctions pouvant exiger des restrictions d’accès au télétravail est jointe en annexe au présent accord.\n",
      "* Ma réponse : nombrejourmaxparsemaine=0\n",
      "\n",
      "* Mon raisonnement : Je vais rechercher dans le texte les occurrences du mot \"semaine\" associé à une notion de fréquence de télétravail et qui concernent le nombre maximal de jours de télétravail autorisés par semaine.\n",
      "* Phrase ou paragraphe du contexte qui répond à la question : Le télétravail ne doit pas être un obstacle à l’organisation et à l’animation de l’équipe. Ainsi pour les besoins du service et sur demande du manager, certaines journées initialement prévues et validées en télétravail pourront être reportées, dans le respect de la présence minimale sur site prévue au présent article.\n",
      "* Ma réponse : nombrejourmaxparsemaine=0\n",
      "\n",
      "* Mon raisonnement : Je vais rechercher dans le texte les occurrences du mot \"semaine\" associé à une notion de fréquence de télétravail et qui concernent le nombre maximal de jours de télétravail autorisés par semaine.\n",
      "* Phrase ou paragraphe du contexte qui répond à la question : De manière générale, les demandes et validations des jours de télétravail devront se faire selon les process et outils en vigueur dans l’entreprise. Les jours de télétravail seront validés préalablement par le manager pour assurer le bon fonctionnement du service. Chaque manager veillera à lisser sur la semaine les jours de télétravail de leurs collaborateurs.\n",
      "* Ma réponse : nombrejourmaxparsemaine=5\n",
      "\n",
      "* Mon raisonnement : Je vais rechercher dans le texte les occurrences du mot \"semaine\" associé à une notion de fréquence de télétravail et qui concernent le nombre maximal de jours de télétravail autorisés par semaine.\n",
      "* Phrase ou paragraphe du contexte qui répond à la question : Les collaborateurs du service veilleront donc à anticiper leurs demandes de jours de télétravail dans le respect le cas échéant des règles qui seront définies par le manager en charge de veiller à la bonne organisation du service.\n",
      "* Ma réponse : nombrejourmaxparsemaine=5\n",
      "\n",
      "139 T04121001532\n"
     ]
    },
    {
     "name": "stderr",
     "output_type": "stream",
     "text": [
      "Setting `pad_token_id` to `eos_token_id`:2 for open-end generation.\n"
     ]
    },
    {
     "name": "stdout",
     "output_type": "stream",
     "text": [
      "Q_TTSEM_NOMBRE:* Mon raisonnement : Je vais rechercher dans le texte tous les paragraphes qui comportent le mot-clé \"semaine\" et qui concernent le nombre de jour de télétravail autorisé. Lorsque je trouve un tel paragraphe, je vais en extraire le nombre de jours de télétravail maximum par semaine.\n",
      "* Phrase ou paragraphe du contexte qui répond à la question : \"Au regard des résultats de ces travaux, le taux moyen de présence sur site est maintenu à 21% des effectifs (CDI, CDD, Alternants, ESN, hors équipes CRD et Facilit, hors salariés dits « vulnérables » et ceux vivant avec des personnes vulnérables).\"\n",
      "* Ma réponse : nombrejourmaxparsemaine=4\n",
      "\n",
      "Explication : Dans le paragraphe indiqué, il est mentionné que le taux moyen de présence sur site est maintenu à 21%. Cela implique que le taux de télétravail est de 79%, soit 5,53 jours par semaine (79% de 7 jours). Comme il est impossible de télétravailler plus de 5 jours par semaine, le nombre maximum de jours de télétravail par semaine est de 5 jours. Donc, nombrejourmaxparsemaine=5.\n",
      "\n",
      "140 T03121008885\n"
     ]
    },
    {
     "name": "stderr",
     "output_type": "stream",
     "text": [
      "Setting `pad_token_id` to `eos_token_id`:2 for open-end generation.\n"
     ]
    },
    {
     "name": "stdout",
     "output_type": "stream",
     "text": [
      "Q_TTSEM_NOMBRE:\n",
      "* Mon raisonnement : Je vais rechercher dans le texte les paragraphes qui comportent le mot-clé \"semaine\" et qui concernent le nombre de jour de télétravail autorisé. Une fois ces paragraphes identifiés, je vérifierai s'ils mentionnent un nombre de jours de télétravail maximum par semaine.\n",
      "\n",
      "* Phrase ou paragraphe du contexte qui répond à la question : Je n'ai pas trouvé de phrase ou paragraphe du contexte qui répond à la question.\n",
      "\n",
      "* Ma réponse : nombrejourmaxparsemaine=0\n",
      "\n"
     ]
    },
    {
     "name": "stderr",
     "output_type": "stream",
     "text": [
      "Created a chunk of size 11350, which is longer than the specified 5000\n",
      "Created a chunk of size 6156, which is longer than the specified 5000\n",
      "Created a chunk of size 14794, which is longer than the specified 5000\n"
     ]
    },
    {
     "name": "stdout",
     "output_type": "stream",
     "text": [
      "141 T09221026110\n"
     ]
    },
    {
     "name": "stderr",
     "output_type": "stream",
     "text": [
      "Setting `pad_token_id` to `eos_token_id`:2 for open-end generation.\n"
     ]
    },
    {
     "name": "stdout",
     "output_type": "stream",
     "text": [
      "Q_TTSEM_NOMBRE:* Mon raisonnement : Je vais rechercher dans le texte les paragraphes qui comportent le mot-clé \"semaine\" et qui concernent le nombre de jour de télétravail autorisé. Ensuite, je vérifierai si une limite de jours de télétravail par semaine est explicitement mentionnée dans ces paragraphes.\n",
      "* Phrase ou paragraphe du contexte qui répond à la question : \"Un maximum de 2 jours par semaine, et de 2 demi-journées pouvant être cumulées sur une même journée au cours de la même semaine ; Après accord entre le Manager et le salarié, le nombre de jours de télétravail peut toutefois être étendu à la semaine entière (soit à 5 jours) sur une période de 4 semaines maximum, à l’issue desquelles un retour à un maximum de 3 jours de télétravail par semaine est obligatoire                                                                                                                                                                                                                                                                                                                                                                                                                                                                                                                                                                                                                                                                                                                                                                                                           \n",
      "\n",
      "142 T59L21012627\n"
     ]
    },
    {
     "name": "stderr",
     "output_type": "stream",
     "text": [
      "Setting `pad_token_id` to `eos_token_id`:2 for open-end generation.\n"
     ]
    },
    {
     "name": "stdout",
     "output_type": "stream",
     "text": [
      "Q_TTSEM_NOMBRE:* Mon raisonnement : Je dois rechercher dans le texte toute mention explicite de la fréquence hebdomadaire de télétravail régulier, c'est-à-dire une expression numérique accompagnée du mot \"semaine\" ou d'une notion équivalente.\n",
      "* Phrase ou paragraphe du contexte qui répond à la question : Aucune phrase ou paragraphe du contexte ne contient l'information demandée.\n",
      "* Ma réponse : nombrejourmaxparsemaine=0\n",
      "\n",
      "143 T02121003243\n"
     ]
    },
    {
     "name": "stderr",
     "output_type": "stream",
     "text": [
      "Setting `pad_token_id` to `eos_token_id`:2 for open-end generation.\n"
     ]
    },
    {
     "name": "stdout",
     "output_type": "stream",
     "text": [
      "Q_TTSEM_NOMBRE:* Mon raisonnement : Je dois trouver dans le texte une phrase où il est fait mention du nombre maximal de jours de télétravail par semaine. Ce nombre ne doit pas être obtenu par calcul ou déduction, il doit être explicitement énoncé dans le texte. De plus, je dois m'assurer que cette phrase ne concerne pas le télétravail occasionnel ou ponctuel, mais bien le télétravail régulier.\n",
      "* Phrase ou paragraphe du contexte qui répond à la question : \"Le télétravail régulier prend la forme d’un forfait mensuel de jours télétravaillés selon les deux modalités suivantes : 6 jours de télétravail par mois maximum, accessible à tous les salariés éligibles\"\n",
      "* Ma réponse : nombrejourmaxparsemaine=6\n",
      "\n",
      "Je répète ce processus pour trouver une éventuelle deuxième réponse :\n",
      "\n",
      "* Mon raisonnement : Je dois trouver dans le texte une deuxième phrase où il est fait mention du nombre maximal de jours de télétravail par semaine pour une catégorie spécifique de salariés. Ce nombre ne doit pas être obtenu par calcul ou déduction, il doit être explicitement énoncé dans le texte. De plus, je dois m'assurer que cette phrase ne concerne pas le télétravail occasionnel ou ponctuel, mais bien le télétravail régulier.\n",
      "* Phrase ou paragraphe du contexte qui répond à la question : \"8 jours de télétravail par mois maximum, étant précisé que ce forfait n’est accessible qu’aux salariés à temps complet, soit au salarié ETAM dont le temps de travail est de 35 heures hebdomadaires ou au salarié cadre dont le forfait jours est de 206 jours\"\n",
      "* Ma réponse : nombrejourmaxparsemaine=8\n",
      "\n",
      "Finalement, je ne trouve pas d'autres phrases qui correspondent à ma recherche, donc je m'arrête là.\n",
      "\n",
      "144 T06221005678\n"
     ]
    },
    {
     "name": "stderr",
     "output_type": "stream",
     "text": [
      "Setting `pad_token_id` to `eos_token_id`:2 for open-end generation.\n"
     ]
    },
    {
     "name": "stdout",
     "output_type": "stream",
     "text": [
      "Q_TTSEM_NOMBRE:* Mon raisonnement : Je vais rechercher dans le texte les paragraphes qui comportent le mot-clé \"semaine\" et qui concernent le nombre de jour de télétravail autorisé. Dans ces paragraphes, je vais chercher une expression numérique qui correspond au nombre maximal de jours de télétravail par semaine.\n",
      "* Phrase ou paragraphe du contexte qui répond à la question : \"Le rythme régulier du télétravail ne peut pas dépasser 2 jours maximum flottants par semaine.\"\n",
      "* Ma réponse : nombrejourmaxparsemaine=2\n",
      "\n",
      "145 T09121006533\n"
     ]
    },
    {
     "name": "stderr",
     "output_type": "stream",
     "text": [
      "Setting `pad_token_id` to `eos_token_id`:2 for open-end generation.\n"
     ]
    },
    {
     "name": "stdout",
     "output_type": "stream",
     "text": [
      "Q_TTSEM_NOMBRE:* Mon raisonnement : Je vais rechercher dans le texte les paragraphes qui comportent le mot-clé \"semaine\" et qui concernent le nombre de jours de télétravail autorisés. Ensuite, je vérifierai si le nombre de jours de télétravail par semaine est mentionné explicitement dans ces paragraphes.\n",
      "* Phrase ou paragraphe du contexte qui répond à la question : \"Il est convenu entre les parties qu’un salarié ne puisse pas être en télétravail plus de deux journées par semaine (de par la nature de leur fonction, les commerciaux ne sont pas concernés par cette disposition). Aucun report de ces jours ne sera accordé.\"\n",
      "* Ma réponse : nombrejourmaxparsemaine=2\n",
      "\n",
      "146 T03721002530\n"
     ]
    },
    {
     "name": "stderr",
     "output_type": "stream",
     "text": [
      "Setting `pad_token_id` to `eos_token_id`:2 for open-end generation.\n"
     ]
    },
    {
     "name": "stdout",
     "output_type": "stream",
     "text": [
      "Q_TTSEM_NOMBRE:* Mon raisonnement : Je vais rechercher dans le texte tous les paragraphes qui comportent le mot-clé \"semaine\" et qui concernent le nombre de jour de télétravail autorisé. Ensuite, je vérifierai si le nombre de jour de télétravail est explicite dans le paragraphe et s'il est exprimé uniquement par semaine.\n",
      "* Phrase ou paragraphe du contexte qui répond à la question : Je n'ai pas trouvé de phrase ou paragraphe qui corresponde à ma recherche.\n",
      "* Ma réponse : nombrejourmaxparsemaine=0\n",
      "\n",
      "En effet, après avoir parcouru l'ensemble des documents fournis, je n'ai pas trouvé de paragraphe qui mentionne explicitement le nombre de jours de télétravail autorisé par semaine.\n",
      "\n",
      "147 T09321006745\n"
     ]
    },
    {
     "name": "stderr",
     "output_type": "stream",
     "text": [
      "Setting `pad_token_id` to `eos_token_id`:2 for open-end generation.\n"
     ]
    },
    {
     "name": "stdout",
     "output_type": "stream",
     "text": [
      "Q_TTSEM_NOMBRE:\n",
      "* Mon raisonnement : Je dois trouver dans le texte une phrase qui contienne le mot \"semaine\" et qui précise le nombre maximal de jours de télétravail par semaine.\n",
      "* Phrase ou paragraphe du contexte qui répond à la question : \"Il a été convenu, par le présent accord, d’augmenter le nombre de jours de travail à **deux jours par semaine** permettant aux salariés concernés de recourir au télétravail en application des dispositions et du régime prévu dans l’accord du 7 décembre 2016 relatif à la mise en place du télétravail applicable au sein de l’entreprise.\"\n",
      "* Ma réponse : nombrejourmaxparsemaine=2\n",
      "\n",
      "148 T09221026132\n"
     ]
    },
    {
     "name": "stderr",
     "output_type": "stream",
     "text": [
      "Setting `pad_token_id` to `eos_token_id`:2 for open-end generation.\n"
     ]
    },
    {
     "name": "stdout",
     "output_type": "stream",
     "text": [
      "Q_TTSEM_NOMBRE:\n",
      "* Mon raisonnement : Je vais rechercher dans le texte les paragraphes qui comportent le mot-clé \"semaine\" et qui concernent le nombre de jours de télétravail autorisés. Dans ces paragraphes, je vais chercher une expression numérique qui correspond au nombre maximal de jours de télétravail autorisés par semaine.\n",
      "\n",
      "* Phrase ou paragraphe du contexte qui répond à la question : Malheureusement, aucun paragraphe ne comporte le mot-clé \"semaine\" et ne précise le nombre de jours de télétravail autorisés par semaine.\n",
      "\n",
      "* Ma réponse : nombrejourmaxparsemaine=0\n",
      "\n"
     ]
    }
   ],
   "source": [
    "import glob\n",
    "PARQUET_FILE_COMPARE=\"Accords/Donnees_Mathilde_Pesenti_TT_Pour_DEE_v2_def.parquet\"\n",
    "for (index,(num_dossier,accord)) in df_init.iterrows():\n",
    "    print(index,num_dossier)\n",
    "    with open(f\"{num_dossier}.txt\",\"w\", encoding=\"utf-8\") as file:\n",
    "        file.write(accord)\n",
    "\n",
    "    loader = TextLoader(f\"{num_dossier}.txt\", encoding='utf8')\n",
    "    docs=loader.load()\n",
    "    \n",
    "    # Chunk text\n",
    "    text_splitter = CharacterTextSplitter(chunk_size=5000, \n",
    "                                          chunk_overlap=100)\n",
    "    chunked_documents = text_splitter.split_documents(docs)\n",
    "    \n",
    "    # Load chunked documents into the FAISS index\n",
    "    db = FAISS.from_documents(chunked_documents, \n",
    "                              HuggingFaceEmbeddings(model_name='sentence-transformers/all-mpnet-base-v2'))\n",
    "    \n",
    "    retriever = db.as_retriever()\n",
    "    \n",
    "    rag_chain = ( \n",
    "     {\"context\": retriever, \"question\": RunnablePassthrough()}\n",
    "        | llm_chain\n",
    "    )\n",
    "    dict_reponse,text=process_model(rag_chain,num_dossier)\n",
    "    with open(f\"{num_dossier}_response.txt\",\"w\", encoding=\"utf-8\") as file:\n",
    "        file.write(text)\n",
    "        print(text)\n",
    "    df2=pd.DataFrame.from_dict(dict_reponse,orient=\"index\")\n",
    "    df2=df2.transpose().rename(columns=VAR_TRANSLATION)\n",
    "    df2.to_csv(f\"{num_dossier}.csv\")\n",
    "    df2.to_parquet(f\"{num_dossier}.parquet\")"
   ]
  },
  {
   "cell_type": "code",
   "execution_count": 296,
   "id": "6bb81953-adb7-4343-b2c1-91cd57bdb7b2",
   "metadata": {},
   "outputs": [
    {
     "name": "stdout",
     "output_type": "stream",
     "text": [
      "global accuracy 0.7152317880794702\n",
      "accuracy on non null value 0.7604166666666666 ; nombre correct : 73 sur 96\n",
      "accuracy on null value 0.6363636363636364 ; nombre correct : 35 sur 55\n"
     ]
    }
   ],
   "source": [
    "data_files=glob.glob('*.parquet')\n",
    "df = pd.concat((pd.read_parquet(f, engine = 'pyarrow') for f in data_files))\n",
    "df=df.set_index(\"num_dossier\")\n",
    "df=df[df.nombre_jours_teletravail_semaine.values!=[None]]\n",
    "df2=pd.read_parquet(f\"{PARQUET_FILE_COMPARE}\")\n",
    "df2=df2[[\"N..Dossier\",\"nombre_jours_teletravail_semaine\"]].set_index(\"N..Dossier\")\n",
    "df_merge=df2.merge(df,how=\"left\",left_index=True, right_index=True)\n",
    "df_merge.nombre_jours_teletravail_semaine_y=df_merge.nombre_jours_teletravail_semaine_y.astype(\"float64\")\n",
    "df_merge=df_merge.fillna(0.0)\n",
    "df_merge[\"diff\"]=(df_merge.nombre_jours_teletravail_semaine_x!=df_merge.nombre_jours_teletravail_semaine_y)\n",
    "print(\"global accuracy\",1-(df_merge[\"diff\"].sum()/df_merge.shape[0]))\n",
    "\n",
    "df_rempli=df_merge[df_merge.nombre_jours_teletravail_semaine_x!=0.0]\n",
    "nb_correct,total =df_rempli.shape[0]-df_rempli[\"diff\"].sum(),df_rempli.shape[0]\n",
    "print(\"accuracy on non null value\",1-(df_rempli[\"diff\"].sum()/df_rempli.shape[0]),f\"; nombre correct : {nb_correct} sur {total}\")\n",
    "\n",
    "df_rempli=df_merge[df_merge.nombre_jours_teletravail_semaine_x==0.0]\n",
    "nb_correct,total =df_rempli.shape[0]-df_rempli[\"diff\"].sum(),df_rempli.shape[0]\n",
    "print(\"accuracy on null value\",1-(df_rempli[\"diff\"].sum()/df_rempli.shape[0]),f\"; nombre correct : {nb_correct} sur {total}\")"
   ]
  },
  {
   "cell_type": "code",
   "execution_count": 297,
   "id": "031b511b-a051-40d3-a7b3-5f833a44a9cd",
   "metadata": {},
   "outputs": [
    {
     "data": {
      "text/html": [
       "<div>\n",
       "<style scoped>\n",
       "    .dataframe tbody tr th:only-of-type {\n",
       "        vertical-align: middle;\n",
       "    }\n",
       "\n",
       "    .dataframe tbody tr th {\n",
       "        vertical-align: top;\n",
       "    }\n",
       "\n",
       "    .dataframe thead th {\n",
       "        text-align: right;\n",
       "    }\n",
       "</style>\n",
       "<table border=\"1\" class=\"dataframe\">\n",
       "  <thead>\n",
       "    <tr style=\"text-align: right;\">\n",
       "      <th></th>\n",
       "      <th>nombre_jours_teletravail_semaine_x</th>\n",
       "      <th>nombre_jours_teletravail_semaine_y</th>\n",
       "      <th>diff</th>\n",
       "    </tr>\n",
       "    <tr>\n",
       "      <th>N..Dossier</th>\n",
       "      <th></th>\n",
       "      <th></th>\n",
       "      <th></th>\n",
       "    </tr>\n",
       "  </thead>\n",
       "  <tbody>\n",
       "    <tr>\n",
       "      <th>T01321011053</th>\n",
       "      <td>2.0</td>\n",
       "      <td>1.0</td>\n",
       "      <td>True</td>\n",
       "    </tr>\n",
       "    <tr>\n",
       "      <th>T02221003288</th>\n",
       "      <td>2.0</td>\n",
       "      <td>3.0</td>\n",
       "      <td>True</td>\n",
       "    </tr>\n",
       "    <tr>\n",
       "      <th>T03121008885</th>\n",
       "      <td>2.0</td>\n",
       "      <td>0.0</td>\n",
       "      <td>True</td>\n",
       "    </tr>\n",
       "    <tr>\n",
       "      <th>T03321006775</th>\n",
       "      <td>1.0</td>\n",
       "      <td>0.0</td>\n",
       "      <td>True</td>\n",
       "    </tr>\n",
       "    <tr>\n",
       "      <th>T03821006956</th>\n",
       "      <td>1.0</td>\n",
       "      <td>2.0</td>\n",
       "      <td>True</td>\n",
       "    </tr>\n",
       "    <tr>\n",
       "      <th>T04121001532</th>\n",
       "      <td>5.0</td>\n",
       "      <td>4.0</td>\n",
       "      <td>True</td>\n",
       "    </tr>\n",
       "    <tr>\n",
       "      <th>T04221004283</th>\n",
       "      <td>2.0</td>\n",
       "      <td>0.0</td>\n",
       "      <td>True</td>\n",
       "    </tr>\n",
       "    <tr>\n",
       "      <th>T04521003587</th>\n",
       "      <td>3.0</td>\n",
       "      <td>0.0</td>\n",
       "      <td>True</td>\n",
       "    </tr>\n",
       "    <tr>\n",
       "      <th>T05121003353</th>\n",
       "      <td>0.5</td>\n",
       "      <td>0.0</td>\n",
       "      <td>True</td>\n",
       "    </tr>\n",
       "    <tr>\n",
       "      <th>T06721007237</th>\n",
       "      <td>1.5</td>\n",
       "      <td>5.0</td>\n",
       "      <td>True</td>\n",
       "    </tr>\n",
       "    <tr>\n",
       "      <th>T06721007676</th>\n",
       "      <td>2.0</td>\n",
       "      <td>0.0</td>\n",
       "      <td>True</td>\n",
       "    </tr>\n",
       "    <tr>\n",
       "      <th>T06821004760</th>\n",
       "      <td>2.0</td>\n",
       "      <td>0.0</td>\n",
       "      <td>True</td>\n",
       "    </tr>\n",
       "    <tr>\n",
       "      <th>T07521028203</th>\n",
       "      <td>2.0</td>\n",
       "      <td>1.0</td>\n",
       "      <td>True</td>\n",
       "    </tr>\n",
       "    <tr>\n",
       "      <th>T07521029992</th>\n",
       "      <td>2.0</td>\n",
       "      <td>0.0</td>\n",
       "      <td>True</td>\n",
       "    </tr>\n",
       "    <tr>\n",
       "      <th>T08721002004</th>\n",
       "      <td>2.0</td>\n",
       "      <td>4.0</td>\n",
       "      <td>True</td>\n",
       "    </tr>\n",
       "    <tr>\n",
       "      <th>T09221024001</th>\n",
       "      <td>4.0</td>\n",
       "      <td>0.0</td>\n",
       "      <td>True</td>\n",
       "    </tr>\n",
       "    <tr>\n",
       "      <th>T09221025128</th>\n",
       "      <td>2.0</td>\n",
       "      <td>0.0</td>\n",
       "      <td>True</td>\n",
       "    </tr>\n",
       "    <tr>\n",
       "      <th>T09221026110</th>\n",
       "      <td>3.0</td>\n",
       "      <td>0.0</td>\n",
       "      <td>True</td>\n",
       "    </tr>\n",
       "    <tr>\n",
       "      <th>T09221026357</th>\n",
       "      <td>2.0</td>\n",
       "      <td>3.0</td>\n",
       "      <td>True</td>\n",
       "    </tr>\n",
       "    <tr>\n",
       "      <th>T09221026760</th>\n",
       "      <td>2.0</td>\n",
       "      <td>1.0</td>\n",
       "      <td>True</td>\n",
       "    </tr>\n",
       "    <tr>\n",
       "      <th>T09321006383</th>\n",
       "      <td>5.0</td>\n",
       "      <td>0.0</td>\n",
       "      <td>True</td>\n",
       "    </tr>\n",
       "    <tr>\n",
       "      <th>T59V21001231</th>\n",
       "      <td>1.0</td>\n",
       "      <td>5.0</td>\n",
       "      <td>True</td>\n",
       "    </tr>\n",
       "    <tr>\n",
       "      <th>T59V21001419</th>\n",
       "      <td>1.0</td>\n",
       "      <td>5.0</td>\n",
       "      <td>True</td>\n",
       "    </tr>\n",
       "  </tbody>\n",
       "</table>\n",
       "</div>"
      ],
      "text/plain": [
       "              nombre_jours_teletravail_semaine_x  \\\n",
       "N..Dossier                                         \n",
       "T01321011053                                 2.0   \n",
       "T02221003288                                 2.0   \n",
       "T03121008885                                 2.0   \n",
       "T03321006775                                 1.0   \n",
       "T03821006956                                 1.0   \n",
       "T04121001532                                 5.0   \n",
       "T04221004283                                 2.0   \n",
       "T04521003587                                 3.0   \n",
       "T05121003353                                 0.5   \n",
       "T06721007237                                 1.5   \n",
       "T06721007676                                 2.0   \n",
       "T06821004760                                 2.0   \n",
       "T07521028203                                 2.0   \n",
       "T07521029992                                 2.0   \n",
       "T08721002004                                 2.0   \n",
       "T09221024001                                 4.0   \n",
       "T09221025128                                 2.0   \n",
       "T09221026110                                 3.0   \n",
       "T09221026357                                 2.0   \n",
       "T09221026760                                 2.0   \n",
       "T09321006383                                 5.0   \n",
       "T59V21001231                                 1.0   \n",
       "T59V21001419                                 1.0   \n",
       "\n",
       "              nombre_jours_teletravail_semaine_y  diff  \n",
       "N..Dossier                                              \n",
       "T01321011053                                 1.0  True  \n",
       "T02221003288                                 3.0  True  \n",
       "T03121008885                                 0.0  True  \n",
       "T03321006775                                 0.0  True  \n",
       "T03821006956                                 2.0  True  \n",
       "T04121001532                                 4.0  True  \n",
       "T04221004283                                 0.0  True  \n",
       "T04521003587                                 0.0  True  \n",
       "T05121003353                                 0.0  True  \n",
       "T06721007237                                 5.0  True  \n",
       "T06721007676                                 0.0  True  \n",
       "T06821004760                                 0.0  True  \n",
       "T07521028203                                 1.0  True  \n",
       "T07521029992                                 0.0  True  \n",
       "T08721002004                                 4.0  True  \n",
       "T09221024001                                 0.0  True  \n",
       "T09221025128                                 0.0  True  \n",
       "T09221026110                                 0.0  True  \n",
       "T09221026357                                 3.0  True  \n",
       "T09221026760                                 1.0  True  \n",
       "T09321006383                                 0.0  True  \n",
       "T59V21001231                                 5.0  True  \n",
       "T59V21001419                                 5.0  True  "
      ]
     },
     "execution_count": 297,
     "metadata": {},
     "output_type": "execute_result"
    }
   ],
   "source": [
    "df_rempli=df_merge[df_merge.nombre_jours_teletravail_semaine_x!=0.0]\n",
    "df_rempli[df_rempli[\"diff\"]]"
   ]
  },
  {
   "cell_type": "code",
   "execution_count": null,
   "id": "5d023ee8-71af-4192-8908-664d72d83ea6",
   "metadata": {},
   "outputs": [],
   "source": []
  },
  {
   "cell_type": "code",
   "execution_count": null,
   "id": "2cb9b7d3-0bcd-4493-939c-43fc87011d7c",
   "metadata": {},
   "outputs": [],
   "source": []
  }
 ],
 "metadata": {
  "kernelspec": {
   "display_name": "Python 3 (ipykernel)",
   "language": "python",
   "name": "python3"
  },
  "language_info": {
   "codemirror_mode": {
    "name": "ipython",
    "version": 3
   },
   "file_extension": ".py",
   "mimetype": "text/x-python",
   "name": "python",
   "nbconvert_exporter": "python",
   "pygments_lexer": "ipython3",
   "version": "3.10.13"
  }
 },
 "nbformat": 4,
 "nbformat_minor": 5
}
