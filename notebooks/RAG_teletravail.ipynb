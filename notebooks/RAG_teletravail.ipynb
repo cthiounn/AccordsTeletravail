{
 "cells": [
  {
   "cell_type": "code",
   "execution_count": null,
   "id": "64b55acc-0e5c-4d30-8b60-50070eb0307f",
   "metadata": {},
   "outputs": [],
   "source": [
    "# Notebook from https://medium.com/@thakermadhav/build-your-own-rag-with-mistral-7b-and-langchain-97d0c92fa146\n",
    "!pip install -q torch datasets\n",
    "!pip install -q accelerate==0.21.0 \\\n",
    "                peft==0.4.0 \\\n",
    "                bitsandbytes==0.40.2 \\\n",
    "                transformers==4.31.0 \\\n",
    "                trl==0.4.7\n",
    "!pip install -q scipy langchain transformers playwright html2text sentence_transformers faiss-gpu\n",
    "!pip install -q --upgrade git+https://github.com/huggingface/transformers"
   ]
  },
  {
   "cell_type": "code",
   "execution_count": null,
   "id": "f860479f-f9d0-4162-9701-aeb4da44f3eb",
   "metadata": {},
   "outputs": [],
   "source": [
    "!playwright install > /dev/null\n",
    "!playwright install-deps > /dev/null"
   ]
  },
  {
   "cell_type": "code",
   "execution_count": null,
   "id": "3e8eba08-2a0d-43a0-ae6c-79035327b035",
   "metadata": {},
   "outputs": [],
   "source": [
    "!pip install -U tokenizers"
   ]
  },
  {
   "cell_type": "code",
   "execution_count": null,
   "id": "923862f9-6c52-4509-b85f-b464c7ba0cf6",
   "metadata": {},
   "outputs": [],
   "source": [
    "import os\n",
    "import torch\n",
    "from transformers import (\n",
    "  AutoTokenizer, \n",
    "  AutoModelForCausalLM, \n",
    "  BitsAndBytesConfig,\n",
    "  pipeline\n",
    ")\n",
    "\n",
    "from transformers import BitsAndBytesConfig\n",
    "\n",
    "\n",
    "\n",
    "\n",
    "from langchain.prompts import PromptTemplate\n",
    "from langchain.schema.runnable import RunnablePassthrough\n",
    "from langchain.llms import HuggingFacePipeline\n",
    "from langchain.chains import LLMChain\n",
    "\n",
    "\n",
    "#################################################################\n",
    "# Tokenizer\n",
    "#################################################################\n",
    "\n",
    "model_name=\"mistralai/Mistral-7B-Instruct-v0.1\"\n",
    "model_name=\"mistralai/Mixtral-8x7B-Instruct-v0.1\"\n",
    "tokenizer = AutoTokenizer.from_pretrained(model_name, trust_remote_code=True)\n",
    "tokenizer.pad_token = tokenizer.eos_token\n",
    "tokenizer.padding_side = \"right\"\n",
    "\n",
    "#################################################################\n",
    "# bitsandbytes parameters\n",
    "#################################################################\n",
    "\n",
    "# Activate 4-bit precision base model loading\n",
    "use_4bit = True\n",
    "\n",
    "# Compute dtype for 4-bit base models\n",
    "bnb_4bit_compute_dtype = \"float16\"\n",
    "\n",
    "# Quantization type (fp4 or nf4)\n",
    "bnb_4bit_quant_type = \"nf4\"\n",
    "\n",
    "# Activate nested quantization for 4-bit base models (double quantization)\n",
    "use_nested_quant = True\n",
    "\n",
    "#################################################################\n",
    "# Set up quantization config\n",
    "#################################################################\n",
    "compute_dtype = getattr(torch, bnb_4bit_compute_dtype)\n",
    "\n",
    "bnb_config = BitsAndBytesConfig(\n",
    "    load_in_4bit=use_4bit,\n",
    "    bnb_4bit_quant_type=bnb_4bit_quant_type,\n",
    "    bnb_4bit_compute_dtype=compute_dtype,\n",
    "    bnb_4bit_use_double_quant=use_nested_quant,\n",
    ")\n",
    "\n",
    "# Check GPU compatibility with bfloat16\n",
    "if compute_dtype == torch.float16 and use_4bit:\n",
    "    major, _ = torch.cuda.get_device_capability()\n",
    "    if major >= 8:\n",
    "        print(\"=\" * 80)\n",
    "        print(\"Your GPU supports bfloat16: accelerate training with bf16=True\")\n",
    "        print(\"=\" * 80)\n",
    "\n",
    "#################################################################\n",
    "# Load pre-trained config\n",
    "#################################################################\n",
    "model = AutoModelForCausalLM.from_pretrained(\n",
    "    model_name,\n",
    "    quantization_config=bnb_config,\n",
    "    cache_dir=\".\"\n",
    ")\n",
    "#load_in_4bits=True)\n",
    "\n",
    "def print_number_of_trainable_model_parameters(model):\n",
    "    trainable_model_params = 0\n",
    "    all_model_params = 0\n",
    "    for _, param in model.named_parameters():\n",
    "        all_model_params += param.numel()\n",
    "        if param.requires_grad:\n",
    "            trainable_model_params += param.numel()\n",
    "    return f\"trainable model parameters: {trainable_model_params}\\nall model parameters: {all_model_params}\\npercentage of trainable model parameters: {100 * trainable_model_params / all_model_params:.2f}%\"\n",
    "\n",
    "print(print_number_of_trainable_model_parameters(model))\n",
    "\n",
    "text_generation_pipeline = pipeline(\n",
    "    model=model,\n",
    "    tokenizer=tokenizer,\n",
    "    task=\"text-generation\",\n",
    "    temperature=0.2,\n",
    "    repetition_penalty=1.1,\n",
    "    return_full_text=True,\n",
    "    max_new_tokens=1000,\n",
    ")\n",
    "\n",
    "mistral_llm = HuggingFacePipeline(pipeline=text_generation_pipeline)"
   ]
  },
  {
   "cell_type": "code",
   "execution_count": null,
   "id": "9999bfe4-635e-4500-8d5b-7c150593d40f",
   "metadata": {},
   "outputs": [],
   "source": [
    "article_a_indexer=\"https://www.droits-salaries.com/420531139-gie-auxia-gestion/42053113900079/T07521028203-accord-relatif-au-teletravail-au-sein-du-gie-auxia-gestion-teletravail.shtml\""
   ]
  },
  {
   "cell_type": "code",
   "execution_count": null,
   "id": "50bc8e16-8943-4e71-8a43-7342eeae75d5",
   "metadata": {},
   "outputs": [],
   "source": [
    "import nest_asyncio\n",
    "\n",
    "from langchain.text_splitter import CharacterTextSplitter\n",
    "from langchain.document_transformers import Html2TextTransformer\n",
    "from langchain.document_loaders import AsyncChromiumLoader\n",
    "from langchain.embeddings.huggingface import HuggingFaceEmbeddings\n",
    "from langchain.vectorstores import FAISS\n",
    "\n",
    "nest_asyncio.apply()\n",
    "\n",
    "# Articles to index\n",
    "articles = [article_a_indexer]\n",
    "\n",
    "# Scrapes the blogs above\n",
    "loader = AsyncChromiumLoader(articles)\n",
    "docs = loader.load()\n",
    "\n",
    "# Converts HTML to plain text \n",
    "html2text = Html2TextTransformer()"
   ]
  },
  {
   "cell_type": "code",
   "execution_count": null,
   "id": "b07c92db-f772-403a-93ca-bb9a3b69ca80",
   "metadata": {},
   "outputs": [],
   "source": [
    "from bs4 import BeautifulSoup\n",
    "soup = BeautifulSoup(docs[0].page_content, 'html.parser')\n",
    "new_docs=soup.find(class_=\"texte_accord\").text"
   ]
  },
  {
   "cell_type": "code",
   "execution_count": null,
   "id": "6ea07c1f-5489-42f1-a2ca-f1c612d365c2",
   "metadata": {},
   "outputs": [],
   "source": [
    "with open(\"test.txt\",\"w\") as file:\n",
    "    file.write(new_docs)"
   ]
  },
  {
   "cell_type": "code",
   "execution_count": null,
   "id": "a9bb850d-08fb-45b6-ab59-64ee5b110056",
   "metadata": {},
   "outputs": [],
   "source": [
    "from langchain_community.document_loaders import TextLoader\n",
    "\n",
    "loader = TextLoader(\"./test.txt\")\n",
    "docs=loader.load()"
   ]
  },
  {
   "cell_type": "code",
   "execution_count": null,
   "id": "608598b0-756d-4bf2-aca9-8c67a90ff112",
   "metadata": {},
   "outputs": [],
   "source": [
    "html2text = Html2TextTransformer()\n",
    "docs_transformed = html2text.transform_documents(docs)\n",
    "\n",
    "# Chunk text\n",
    "text_splitter = CharacterTextSplitter(chunk_size=1000, \n",
    "                                      chunk_overlap=100)\n",
    "chunked_documents = text_splitter.split_documents(docs_transformed)\n",
    "\n",
    "# Load chunked documents into the FAISS index\n",
    "db = FAISS.from_documents(chunked_documents, \n",
    "                          HuggingFaceEmbeddings(model_name='sentence-transformers/all-mpnet-base-v2'))\n",
    "\n",
    "retriever = db.as_retriever()"
   ]
  },
  {
   "cell_type": "code",
   "execution_count": null,
   "id": "065f4c3e-99d2-46ff-b97c-39ba7ffa5433",
   "metadata": {},
   "outputs": [],
   "source": [
    "prompt_template = \"\"\"\n",
    "\n",
    "### [ROLE] Role: Vous êtes un expert juridique des accords d'entreprise sans compétence de programmation informatique, seulement la lecture et la compréhension des textes. Tu ne connais aucun langage de programmation, ni les expressions régulières.\n",
    "\n",
    "\n",
    "### [INST] Instruction: Votre travail consiste à peupler et mettre à jour une base des données nécessaires pour réaliser des études économétriques poussées sur le télétravail.\n",
    "        Pour cela, vous devez prendre les textes des accords d'entreprise dans lesquelles figurent les informations à jour que l'on vous fourni, et d'extraire précisément l'information spécifique dont vous avez besoin.\n",
    "        Vous ne devez extraire que le nombre, et uniquement le nombre. Le nombre peut être écrit en lettres ou en chiffres. (exemple : deux ou 2 )\n",
    "        Si vous ne trouver pas la réponse dans le texte vous devez le dire et ne pas chercher à en fournir un autre nombre.\n",
    "        Avant de répondre, vérifier que la réponse se trouve bien dans le texte indiqué.\n",
    "        Impératif pour votre raisonnement : Déconnecter les liens entre les périodicités (semaine, mois, trimestre, année)! Faire comme si les semaines, les mois, les trimestres et les années sont des concepts indépendants : dans un mois, il y a donc 0 semaine ; dans un trimestre, 0 mois et 0 semaine; dans une année, 0 trimestre, 0 mois et 0 semaine !\n",
    "{context}\n",
    "\n",
    "### QUESTION:\n",
    "{question} [/INST]\n",
    "\"\"\""
   ]
  },
  {
   "cell_type": "code",
   "execution_count": null,
   "id": "cd4e7965-223c-49ed-bea1-5c0dd89a6b46",
   "metadata": {},
   "outputs": [],
   "source": [
    "# Create prompt from prompt template \n",
    "prompt = PromptTemplate(\n",
    "    input_variables=[\"context\", \"question\"],\n",
    "    template=prompt_template,\n",
    ")\n",
    "\n",
    "# Create llm chain \n",
    "llm_chain = LLMChain(llm=mistral_llm, prompt=prompt)"
   ]
  },
  {
   "cell_type": "code",
   "execution_count": null,
   "id": "84ef9454-0ad5-4077-be11-88c104ffb8b7",
   "metadata": {},
   "outputs": [],
   "source": [
    "rag_chain = ( \n",
    " {\"context\": retriever, \"question\": RunnablePassthrough()}\n",
    "    | llm_chain\n",
    ")"
   ]
  },
  {
   "cell_type": "code",
   "execution_count": null,
   "id": "f515ce42-d0fc-4c57-8e4e-54b445f5bbf7",
   "metadata": {},
   "outputs": [],
   "source": [
    "import warnings\n",
    "warnings.filterwarnings('ignore')"
   ]
  },
  {
   "cell_type": "code",
   "execution_count": null,
   "id": "738e6397-10db-4fad-9abc-b1780fcbdd89",
   "metadata": {},
   "outputs": [],
   "source": [
    "Q_DUREE=\"S'il est fait mention d'une durée de l'accord, est-ce que l'accord est à durée déterminée ? Oui=1 ou non=0 ou NA? \"\n",
    "Q_REVERS=\"S'il est fait mention d'une clause et d'un article de réversibilité, est-ce que l'accord a une clause ou un article de réversibilité ? Oui=1 ou non=0 ou NA?\"\n",
    "Q_ADAPT=\"S'il est fait mention d'une période d'adaptation, est-ce que l'accord comprend une période d'adaptation ? Oui=1 ou non=0 ou NA?\"\n",
    "Q_TTREG=\"S'il est fait mention d'un télétravail régulier, est-ce que l'accord détaille le télétravail régulier ? Oui=1 ou non=0 ou NA?\"\n",
    "Q_TTOCA=\"S'il est fait mention d'un télétravail occasionnel, est-ce que l'accord mentionne le télétravail occasionnel ? Oui=1 ou non=0 ou NA?\"\n",
    "Q_TTEXC=\"S'il est fait mention d'un télétravail exceptionnel, est-ce que l'accord mentionne le télétravail exceptionnel ? Oui=1 ou non=0 ou NA?\"\n",
    "Q_TTSEM=\"S'il est fait mention d'une quotité par semaine, combien de jours un salarié peut-il télétravailler par semaine ?\"\n",
    "Q_TTMOIS=\"S'il est fait mention d'une quotité par mois, combien de jours un salarié peut-il télétravailler par mois ?\"\n",
    "Q_TTTRIM=\"S'il est fait mention d'une quotité par trimestre, combien de jours un salarié peut-il télétravailler par trimestre ?\"\n",
    "Q_TTANNEE=\"S'il est fait mention d'une quotité par an, combien de jours un salarié peut-il télétravailler par an ?\"\n",
    "Q_EQUIP=\"S'il est fait mention d'un équipement fourni, est-ce que l'accord mentionne un équipement fourni ?\"\n",
    "Q_COMPJ=\"S'il est fait mention d'une indemnité journaliere, de combien est l'indemnité forfaitaire par jour de télétravail ?\"\n",
    "Q_COMPM=\"S'il est fait mention d'une indemnité mensuelle, de combien est l'indemnité mensuelle par mois de télétravail ?\"\n",
    "Q_COMPA=\"S'il est fait mention d'une indemnité annuelle, de combien est l'indemnité annuelle par année de télétravail ?\"\n",
    "Q_COMPO=\"S'il est fait mention d'une indemnité autres que journalière, mensuelle ou annuelle, de combien est l'indemnité liée au télétravail ?\"\n",
    "Q_COMPC=\"If an exceptional allowance is mentioned, what is the maximum exceptional allowance for any remote work for covid?\"\n",
    "Q_COMPE=\"S'il est fait mention d'une indemnité d'équipement, de combien est l'indemnité d'équipement maximale liée au télétravail ?\""
   ]
  },
  {
   "cell_type": "code",
   "execution_count": null,
   "id": "56360ff0-f87d-4395-a486-7bf493b84ce3",
   "metadata": {},
   "outputs": [],
   "source": [
    "reponse= rag_chain.invoke(Q_DUREE)\n",
    "print(\"Q_DUREE:\",reponse[\"text\"])\n",
    "reponse= rag_chain.invoke(Q_REVERS)\n",
    "print(\"Q_REVERS:\",reponse[\"text\"])\n",
    "reponse= rag_chain.invoke(Q_ADAPT)\n",
    "print(\"Q_ADAPT:\",reponse[\"text\"])\n",
    "reponse= rag_chain.invoke(Q_TTREG)\n",
    "print(\"Q_TTREG:\",reponse[\"text\"])\n",
    "reponse= rag_chain.invoke(Q_TTOCA)\n",
    "print(\"Q_TTOCA:\",reponse[\"text\"])\n",
    "reponse= rag_chain.invoke(Q_TTEXC)\n",
    "print(\"Q_TTEXC:\",reponse[\"text\"])\n",
    "reponse= rag_chain.invoke(Q_TTSEM)\n",
    "print(\"Q_TTSEM:\",reponse[\"text\"])\n",
    "reponse= rag_chain.invoke(Q_TTMOIS)\n",
    "print(\"Q_TTMOIS:\",reponse[\"text\"])\n",
    "reponse= rag_chain.invoke(Q_TTTRIM)\n",
    "print(\"Q_TTTRIM:\",reponse[\"text\"])\n",
    "reponse= rag_chain.invoke(Q_TTANNEE)\n",
    "print(\"Q_TTANNEE:\",reponse[\"text\"])\n",
    "reponse= rag_chain.invoke(Q_EQUIP)\n",
    "print(\"Q_EQUIP:\",reponse[\"text\"])\n",
    "reponse= rag_chain.invoke(Q_COMPJ)\n",
    "print(\"Q_COMPJ:\",reponse[\"text\"])\n",
    "reponse= rag_chain.invoke(Q_COMPM)\n",
    "print(\"Q_COMPM:\",reponse[\"text\"])\n",
    "reponse= rag_chain.invoke(Q_COMPA)\n",
    "print(\"Q_COMPA:\",reponse[\"text\"])\n",
    "reponse= rag_chain.invoke(Q_COMPO)\n",
    "print(\"Q_COMPO:\",reponse[\"text\"])\n",
    "reponse= rag_chain.invoke(Q_COMPC)\n",
    "print(\"Q_COMPC:\",reponse[\"text\"])\n",
    "reponse= rag_chain.invoke(Q_COMPE)\n",
    "print(\"Q_COMPE:\",reponse[\"text\"])"
   ]
  },
  {
   "cell_type": "code",
   "execution_count": null,
   "id": "1c880fd3-92c8-4b6b-b983-c69a3c808202",
   "metadata": {},
   "outputs": [],
   "source": [
    "CONSIGNE_REFUS=\"Sinon répond 0.\""
   ]
  },
  {
   "cell_type": "code",
   "execution_count": null,
   "id": "db4718b6-3756-44cc-a952-79c7e174f98f",
   "metadata": {},
   "outputs": [],
   "source": [
    "PERIODICITE={\"MOIS\":\"mois\",\"TRIM\":\"trimestre\",\"ANNEE\":\"année\", \"SEM\":\"semaine\"}"
   ]
  },
  {
   "cell_type": "code",
   "execution_count": null,
   "id": "6bf6c79d-99d8-4660-b231-53dc628cf653",
   "metadata": {},
   "outputs": [],
   "source": [
    "for (k,v) in PERIODICITE.items():\n",
    "    Q_TT=f\"Hors jours supplémentaires ou exceptionnels, est-ce qu'au moins un paragraphe mentionne un nombre de jour de télétravail maximum autorisé explicitement exprimé par {v} ?\"\n",
    "    reponse= rag_chain.invoke(Q_TT)\n",
    "    text_reponse=reponse[\"text\"]\n",
    "    print(f\"Q_TT{k}:\",reponse[\"text\"])\n",
    "    Q_TT_NOMBRE=f\"Extrait le nombre de jour de télétravail maximum autorisé explicitement exprimé par {v} seulement à partir du texte suivant : {text_reponse}\"\n",
    "    reponse= rag_chain.invoke(Q_TT_NOMBRE)\n",
    "    print(f\"Q_TT{k}_NOMBRE:\",reponse[\"text\"])"
   ]
  },
  {
   "cell_type": "code",
   "execution_count": null,
   "id": "3d2b7e72-4081-4de1-9b6d-a5576c86f42a",
   "metadata": {},
   "outputs": [],
   "source": [
    "for (k,v) in PERIODICITE.items():\n",
    "    Q_TTDISPOSPE=f\"Hors jours supplémentaires classiques ou exceptionnels, est-ce qu'au moins un paragraphe mentionne un nombre de jour de télétravail supplémentaires explicitement exprimé et nécessairement et seulement exprimé par {v} pour des dispositions spéciales ?\"\n",
    "    reponse= rag_chain.invoke(Q_TTDISPOSPE)\n",
    "    print(f\"Q_TTDISPOSPE{k}:\",reponse[\"text\"])\n",
    "    Q_TTDISPOSPE_NOMBRE=Q_TTDISPOSPE+f\"Si oui, quel est le nombre de jour de télétravail supplémentaires explicitement exprimé et nécessairement et seulement exprimé par {v} pour des dispositions spéciales sous la forme d'une variable (nombre:float) ?\" \n",
    "    reponse= rag_chain.invoke(Q_TTDISPOSPE_NOMBRE)\n",
    "    print(f\"Q_TTDISPOSPE{k}_NOMBRE:\",reponse[\"text\"])"
   ]
  },
  {
   "cell_type": "code",
   "execution_count": null,
   "id": "7c324121-3fd2-463a-aab9-463741a1d6ee",
   "metadata": {},
   "outputs": [],
   "source": [
    "for (k,v) in PERIODICITE.items():\n",
    "    Q_TTSUP=f\"Hors dispositions particulières ou spéciales, est-ce qu'au moins un paragraphe mentionne un nombre de jour de télétravail supplémentaires explicitement exprimé et nécessairement et seulement exprimé par {v} ?\"\n",
    "    reponse= rag_chain.invoke(Q_TTSUP)\n",
    "    print(f\"Q_TTSUP{k}:\",reponse[\"text\"])\n",
    "    Q_TTSUP_NOMBRE=Q_TTSUP+f\"Si oui, quel est le nombre de jour de télétravail supplémentaires explicitement exprimé et nécessairement et seulement exprimé par {v}, hors dispositions spéciales sous la forme d'une variable (nombre:float) ?\" \n",
    "    reponse= rag_chain.invoke(Q_TTSUP_NOMBRE)\n",
    "    print(f\"Q_TTSUP{k}_NOMBRE:\",reponse[\"text\"])"
   ]
  },
  {
   "cell_type": "code",
   "execution_count": null,
   "id": "c72512fc-8456-4bb1-8d46-64cb09f9cc93",
   "metadata": {},
   "outputs": [],
   "source": [
    "for (k,v) in PERIODICITE.items():\n",
    "    Q_PRESJOUR=f\"Est-ce qu'au moins un paragraphe mentionne un nombre de jour de présence obligatoire sur site minimum explicitement exprimé par {v} ?\"\n",
    "    reponse= rag_chain.invoke(Q_PRESJOUR)\n",
    "    print(f\"Q_PRESJOUR{k}:\",reponse[\"text\"])\n",
    "    Q_PRESJOUR_NOMBRE=Q_PRESJOUR+f\"Si oui, sélectionne seulement les paragraphes mentionnant un nombre de jour de présence obligatoire sur site minimum explicitement exprimé par {v} et s'il existe donne le nombre de jour de présence obligatoire sur site minimum explicitement exprimé par {v}\"\n",
    "    reponse= rag_chain.invoke(Q_PRESJOUR_NOMBRE)\n",
    "    print(f\"Q_PRESJOUR{v}_NOMBRE:\",reponse[\"text\"])"
   ]
  },
  {
   "cell_type": "code",
   "execution_count": null,
   "id": "2df1a4e0-5863-402c-a44f-0d5c1b13cd75",
   "metadata": {},
   "outputs": [],
   "source": [
    "PERIODICITE2={\"JOUR\":\"jour\",\"MOIS\":\"mois\",\"TRIM\":\"trimestre\",\"ANNEE\":\"année\", \"SEM\":\"semaine\"}"
   ]
  },
  {
   "cell_type": "code",
   "execution_count": null,
   "id": "18b6ae54-ce6a-4649-a41f-00de4717135d",
   "metadata": {},
   "outputs": [],
   "source": [
    "for (k,v) in PERIODICITE2.items():\n",
    "    Q_COMP=f\"Hors indemnité d'équipement, est-ce qu'au moins un paragraphe mentionne une indemnité forfaitaire explicitement exprimée par {v} ?\"\n",
    "    reponse= rag_chain.invoke(Q_COMP)\n",
    "    print(f\"Q_COMP{k}:\",reponse[\"text\"])\n",
    "    Q_COMP_NOMBRE=Q_COMP+f\"Si oui, sélectionne en interne seulement les paragraphes mentionnant une indemnité forfaitaire explicitement exprimé par {v}, puis s'il existe donne le montant explicitement exprimé par {v} sous la forme d'une variable (montant:float).\"\n",
    "    reponse= rag_chain.invoke(Q_COMP_NOMBRE)\n",
    "    print(f\"Q_COMP{k}_NOMBRE:\",reponse[\"text\"])"
   ]
  },
  {
   "cell_type": "code",
   "execution_count": null,
   "id": "927014c3-66d0-4196-82a9-0f724e859eb3",
   "metadata": {},
   "outputs": [],
   "source": [
    "Q_COMPE=\"Est-ce qu'au moins un paragraphe mentionne une indemnité spécialement pour l'achat d'équipements ?\"\n",
    "reponse= rag_chain.invoke(Q_COMPE)\n",
    "print(\"Q_COMPE:\",reponse[\"text\"])\n",
    "Q_COMPE_NOMBRE=Q_COMPE+\"Si oui, sélectionne seulement les paragraphes mentionnant une indemnité spécialement pour l'achat d'équipements et s'il existe donne le montant lié de l'indemnité d'équipement sous la forme d'une variable (montant:float).\"\n",
    "reponse= rag_chain.invoke(Q_COMPE_NOMBRE)\n",
    "print(\"Q_COMPE_NOMBRE:\",reponse[\"text\"])"
   ]
  },
  {
   "cell_type": "code",
   "execution_count": null,
   "id": "bf57f4f5-3244-44b0-8ea5-d7e12caa0823",
   "metadata": {},
   "outputs": [],
   "source": [
    "Q_COMPE=\"Est-ce qu'au moins un paragraphe mentionne une indemnité spécialement pour l'achat d'équipements ?\"\n",
    "reponse= rag_chain.invoke(Q_COMPE)\n",
    "print(\"Q_COMPE:\",reponse[\"text\"])"
   ]
  },
  {
   "cell_type": "code",
   "execution_count": null,
   "id": "ffe10083-6cb4-4002-a811-69a33dc82ee3",
   "metadata": {},
   "outputs": [],
   "source": [
    "def guess_reponse_booleenne(reponse):\n",
    "    reponse_booleenne=None\n",
    "    if reponse[\"text\"].startswith(\"\\nOui\") or reponse[\"text\"].startswith(\"Oui\") :\n",
    "        reponse_booleenne=1\n",
    "    elif reponse[\"text\"].startswith(\"\\nNon\") or reponse[\"text\"].startswith(\"Non\") :\n",
    "        reponse_booleenne=0\n",
    "    return reponse_booleenne"
   ]
  }
 ],
 "metadata": {
  "kernelspec": {
   "display_name": "Python 3 (ipykernel)",
   "language": "python",
   "name": "python3"
  },
  "language_info": {
   "codemirror_mode": {
    "name": "ipython",
    "version": 3
   },
   "file_extension": ".py",
   "mimetype": "text/x-python",
   "name": "python",
   "nbconvert_exporter": "python",
   "pygments_lexer": "ipython3",
   "version": "3.10.13"
  }
 },
 "nbformat": 4,
 "nbformat_minor": 5
}
