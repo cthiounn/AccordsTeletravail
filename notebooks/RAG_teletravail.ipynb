{
 "cells": [
  {
   "cell_type": "code",
   "execution_count": null,
   "id": "64b55acc-0e5c-4d30-8b60-50070eb0307f",
   "metadata": {},
   "outputs": [],
   "source": [
    "# Notebook from https://medium.com/@thakermadhav/build-your-own-rag-with-mistral-7b-and-langchain-97d0c92fa146\n",
    "!pip install -q torch datasets\n",
    "!pip install -q accelerate==0.21.0 \\\n",
    "                peft==0.4.0 \\\n",
    "                bitsandbytes==0.40.2 \\\n",
    "                transformers==4.31.0 \\\n",
    "                trl==0.4.7\n",
    "!pip install -q scipy langchain transformers playwright html2text sentence_transformers faiss-gpu\n",
    "!pip install -q --upgrade git+https://github.com/huggingface/transformers"
   ]
  },
  {
   "cell_type": "code",
   "execution_count": null,
   "id": "f860479f-f9d0-4162-9701-aeb4da44f3eb",
   "metadata": {},
   "outputs": [],
   "source": [
    "!playwright install > /dev/null\n",
    "!playwright install-deps > /dev/null"
   ]
  },
  {
   "cell_type": "code",
   "execution_count": null,
   "id": "3e8eba08-2a0d-43a0-ae6c-79035327b035",
   "metadata": {},
   "outputs": [],
   "source": [
    "!pip install -U tokenizers"
   ]
  },
  {
   "cell_type": "code",
   "execution_count": null,
   "id": "923862f9-6c52-4509-b85f-b464c7ba0cf6",
   "metadata": {},
   "outputs": [],
   "source": [
    "import os\n",
    "import torch\n",
    "from transformers import (\n",
    "  AutoTokenizer, \n",
    "  AutoModelForCausalLM, \n",
    "  BitsAndBytesConfig,\n",
    "  pipeline\n",
    ")\n",
    "\n",
    "from transformers import BitsAndBytesConfig\n",
    "\n",
    "\n",
    "\n",
    "\n",
    "from langchain.prompts import PromptTemplate\n",
    "from langchain.schema.runnable import RunnablePassthrough\n",
    "from langchain.llms import HuggingFacePipeline\n",
    "from langchain.chains import LLMChain\n",
    "\n",
    "\n",
    "#################################################################\n",
    "# Tokenizer\n",
    "#################################################################\n",
    "\n",
    "model_name=\"mistralai/Mistral-7B-Instruct-v0.1\"\n",
    "model_name=\"mistralai/Mixtral-8x7B-Instruct-v0.1\"\n",
    "tokenizer = AutoTokenizer.from_pretrained(model_name, trust_remote_code=True)\n",
    "tokenizer.pad_token = tokenizer.eos_token\n",
    "tokenizer.padding_side = \"right\"\n",
    "\n",
    "#################################################################\n",
    "# bitsandbytes parameters\n",
    "#################################################################\n",
    "\n",
    "# Activate 4-bit precision base model loading\n",
    "use_4bit = True\n",
    "\n",
    "# Compute dtype for 4-bit base models\n",
    "bnb_4bit_compute_dtype = \"float16\"\n",
    "\n",
    "# Quantization type (fp4 or nf4)\n",
    "bnb_4bit_quant_type = \"nf4\"\n",
    "\n",
    "# Activate nested quantization for 4-bit base models (double quantization)\n",
    "use_nested_quant = True\n",
    "\n",
    "#################################################################\n",
    "# Set up quantization config\n",
    "#################################################################\n",
    "compute_dtype = getattr(torch, bnb_4bit_compute_dtype)\n",
    "\n",
    "bnb_config = BitsAndBytesConfig(\n",
    "    load_in_4bit=use_4bit,\n",
    "    bnb_4bit_quant_type=bnb_4bit_quant_type,\n",
    "    bnb_4bit_compute_dtype=compute_dtype,\n",
    "    bnb_4bit_use_double_quant=use_nested_quant,\n",
    ")\n",
    "\n",
    "# Check GPU compatibility with bfloat16\n",
    "if compute_dtype == torch.float16 and use_4bit:\n",
    "    major, _ = torch.cuda.get_device_capability()\n",
    "    if major >= 8:\n",
    "        print(\"=\" * 80)\n",
    "        print(\"Your GPU supports bfloat16: accelerate training with bf16=True\")\n",
    "        print(\"=\" * 80)\n",
    "\n",
    "#################################################################\n",
    "# Load pre-trained config\n",
    "#################################################################\n",
    "model = AutoModelForCausalLM.from_pretrained(\n",
    "    model_name,\n",
    "    quantization_config=bnb_config,\n",
    "    cache_dir=\".\",\n",
    ")\n",
    "#load_in_4bits=True)\n"
   ]
  },
  {
   "cell_type": "code",
   "execution_count": 107,
   "id": "a9778127-0508-4d93-b718-ae8108e884ca",
   "metadata": {},
   "outputs": [],
   "source": [
    "model.config.pad_token_id = tokenizer.pad_token_id\n",
    "\n",
    "text_generation_pipeline = pipeline(\n",
    "    model=model,\n",
    "    tokenizer=tokenizer,\n",
    "    task=\"text-generation\",\n",
    "    temperature=0.2,\n",
    "    repetition_penalty=1.1,\n",
    "    return_full_text=True,\n",
    "    max_new_tokens=1000,\n",
    ")\n",
    "\n",
    "mistral_llm = HuggingFacePipeline(pipeline=text_generation_pipeline)"
   ]
  },
  {
   "cell_type": "code",
   "execution_count": 108,
   "id": "f3fb3129-2b6a-4819-9b68-ad0552cb23b1",
   "metadata": {},
   "outputs": [],
   "source": [
    "import arrow\n",
    "import pandas as pd\n",
    "PARQUET_FILE=\"Accords/echantillon_public_Mathilde.parquet\""
   ]
  },
  {
   "cell_type": "code",
   "execution_count": 109,
   "id": "6f3e9f65-5314-4091-b2eb-cb3592a8b27a",
   "metadata": {},
   "outputs": [],
   "source": [
    "df_init=pd.read_parquet(PARQUET_FILE)"
   ]
  },
  {
   "cell_type": "code",
   "execution_count": 110,
   "id": "065f4c3e-99d2-46ff-b97c-39ba7ffa5433",
   "metadata": {},
   "outputs": [],
   "source": [
    "prompt_template = \"\"\"\n",
    "### [ROLE] Role: Vous êtes un expert juridique des accords d'entreprise sans compétence de programmation informatique, seulement la lecture et la compréhension des textes. Tu ne connais aucun langage de programmation, ni les expressions régulières.\n",
    "\n",
    "### [INST] Instruction: Votre travail consiste à peupler et mettre à jour une base des données nécessaires pour réaliser des études économétriques poussées sur le télétravail.\n",
    "        Pour cela, vous devez prendre le texte d'un accord d'entreprise dans le contexte suivant, dans lesquelles figurent les informations à jour que l'on vous fourni, et d'extraire précisément l'information spécifique dont vous avez besoin.\n",
    "        Vous ne devez extraire que le nombre, et uniquement le nombre. Le nombre peut être écrit en lettres ou en chiffres. (exemple : deux ou 2 )\n",
    "        Si vous ne trouvez pas la réponse dans le texte vous devez le dire et ne pas chercher à en fournir un autre nombre.\n",
    "        Avant de répondre, vérifier que la réponse se trouve bien dans le texte indiqué.\n",
    "        Impératif pour votre raisonnement : Déconnecter les liens entre les périodicités (semaine, mois, trimestre, année)! Faire comme si les semaines, les mois, les trimestres et les années sont des concepts indépendants : dans un mois, il y a donc 0 semaine ; dans un trimestre, 0 mois et 0 semaine; dans une année, 0 trimestre, 0 mois et 0 semaine !\n",
    "        Ne fais aucune supposition ni d'hypothèses !\n",
    "        Pas de proratisation !\n",
    "        Il n'y a pas de lien entre l'effectif d'un service et le nombre de jour de télétravail, donc ne pas déduire un nombre de jour de télétravail !\n",
    "        Télétravail à 100% = full-remote = 5 jours de télétravail par semaine !\n",
    "        Trois jours de présence sur site et sans autre mention du nombre de jours de télétravail autorisé =  0 jour de télétravail par semaine, a priori !\n",
    "        Il y a cinq jours ouvrés dans une semaine, donc un nombre de jour de télétravail par semaine ne peut pas être strictement supérieur à cinq.\n",
    "        Si tu donnes un nombre réel, ne donne pas la fraction mais un arrondi !\n",
    "        Si le nombre de jour de télétravail annuel est inférieur à 52, ce nombre de jour de télétravail concerne du télétravail occasionnel. S'il est supérieur ou égal à 52, ce nombre concerne du télétravail régulier.\n",
    "        Si le nombre de jour de télétravail trimestriel est inférieur à 13, ce nombre de jour de télétravail concerne du télétravail occasionnel. S'il est supérieur ou égal à 13, ce nombre concerne du télétravail régulier.\n",
    "        Si le nombre de jour de télétravail mensuelle est inférieur à 4, ce nombre de jour de télétravail concerne du télétravail occasionnel. S'il est supérieur ou égal à 4, ce nombre concerne du télétravail régulier.\n",
    "        Vous devez structurer votre réponse comme suit :\n",
    "        * Mon raisonnenement :\n",
    "        * Mes trouvailles - deux ou trois phrases maximum extraites du contexte qui répondent à la question (ou rien) :\n",
    "        * Ma réponse :\n",
    "        * Mon indice de confiance :\n",
    "\n",
    "### Contexte: \n",
    "{context}\n",
    "\n",
    "### QUESTION:\n",
    "{question} [/INST]\n",
    "\"\"\""
   ]
  },
  {
   "cell_type": "code",
   "execution_count": 111,
   "id": "cd4e7965-223c-49ed-bea1-5c0dd89a6b46",
   "metadata": {},
   "outputs": [],
   "source": [
    "# Create prompt from prompt template \n",
    "prompt = PromptTemplate(\n",
    "    input_variables=[\"context\", \"question\"],\n",
    "    template=prompt_template,\n",
    ")\n",
    "\n",
    "# Create llm chain \n",
    "llm_chain = LLMChain(llm=mistral_llm, prompt=prompt)"
   ]
  },
  {
   "cell_type": "code",
   "execution_count": 112,
   "id": "50bc8e16-8943-4e71-8a43-7342eeae75d5",
   "metadata": {},
   "outputs": [],
   "source": [
    "from langchain.text_splitter import CharacterTextSplitter\n",
    "from langchain.document_transformers import Html2TextTransformer\n",
    "from langchain.document_loaders import AsyncChromiumLoader\n",
    "from langchain.embeddings.huggingface import HuggingFaceEmbeddings\n",
    "from langchain.vectorstores import FAISS\n",
    "from langchain_community.document_loaders import TextLoader\n",
    "import warnings\n",
    "warnings.filterwarnings('ignore')\n",
    "import re\n",
    "def guess_reponse_booleenne(reponse):\n",
    "    reponse_booleenne=None\n",
    "    if reponse[\"text\"].startswith(\"\\nOui\") or reponse[\"text\"].startswith(\"Oui\") :\n",
    "        reponse_booleenne=1\n",
    "    elif reponse[\"text\"].startswith(\"\\nNon\") or reponse[\"text\"].startswith(\"Non\") :\n",
    "        reponse_booleenne=0\n",
    "    return reponse_booleenne\n",
    "\n",
    "def guess_reponse_durée(reponse):\n",
    "    reponse_booleenne=None\n",
    "    if \"indéterminée\" in reponse[\"text\"].lower() :\n",
    "        reponse_booleenne=0\n",
    "    elif \"déterminée\" in reponse[\"text\"].lower():\n",
    "        reponse_booleenne=1\n",
    "    return reponse_booleenne\n",
    "\n",
    "def guess_reponse_nombre(reponse,pattern=\"nombre\"):\n",
    "    reponse_nombre=None\n",
    "    REGEX=rf\".*{pattern}=(\\d+)\"\n",
    "    numbers=re.findall(REGEX,reponse[\"text\"])\n",
    "    if numbers:\n",
    "        reponse_nombre=numbers[0]\n",
    "    return reponse_nombre"
   ]
  },
  {
   "cell_type": "code",
   "execution_count": 113,
   "id": "738e6397-10db-4fad-9abc-b1780fcbdd89",
   "metadata": {},
   "outputs": [],
   "source": [
    "Q_DUREE=\"S'il est fait mention d'une durée de l'accord, est-ce que l'accord est à durée déterminée ou à durée indéterminée ? déterminée=1 ou indéterminée=0 ou NA?\"\n",
    "Q_REVERS=\"S'il est fait mention d'une clause et d'un article de réversibilité, est-ce que l'accord a une clause ou un article de réversibilité ? Oui=1 ou non=0 ou NA?\"\n",
    "Q_ADAPT=\"S'il est fait mention d'une période d'adaptation, est-ce que l'accord comprend une période d'adaptation ? Oui=1 ou non=0 ou NA?\"\n",
    "Q_TTREG=\"Est-ce qu'au moins un paragraphe mentionne du télétravail régulier ?\"\n",
    "Q_TTOCA=\"Est-ce qu'au moins un paragraphe mentionne du télétravail occasionnel ?\"\n",
    "Q_TTEXC=\"Est-ce qu'au moins un paragraphe mentionne du télétravail exceptionnel ?\"\n",
    "Q_DISPOSPERQTHENCEINTE=\"Est-ce qu'au moins un paragraphe mentionne des dispositifs spéciaux pour les travailleurs en situation de handicap, les femmes enceintes, les séniors ou les personnes présentant des fragilités ou des problèmes de santé ?\"\n",
    "Q_MONTANT_CAVIARDE=\"Est-ce qu'au moins un paragraphe mentionne un nombre sans le donner exactement, mais sous forme illisible ?\"\n",
    "Q_TELETRAVAIL_FLEX_SANS_LIMITE=\"Est-ce qu'au moins un paragraphe suggère une liberté totale dans le choix des jours de télétravail, hormis quelques contraintes de présence ?\"\n",
    "Q_TT_REG_NOMBRE_FORMULE=Q_TTREG+\"Si oui, combien de formules (exemples de formule : si temps plein et temps partiel = 2, si choix entre 1 à 3 jours de télétravail régulier = 3) sont proposées pour du télétravail régulier ? Retourne à la fin 'nombre=max(tes réponses)'\"\n",
    "PERIODICITE={\"MOIS\":\"mois\",\"TRIM\":\"trimestre\",\"ANNEE\":\"année\", \"SEM\":\"semaine\"}\n",
    "PERIODICITE2={\"JOUR\":\"jour\",\"MOIS\":\"mois\",\"TRIM\":\"trimestre\",\"ANNEE\":\"année\", \"SEM\":\"semaine\"}\n",
    "Q_COMPE=\"Est-ce qu'au moins un paragraphe mentionne une indemnité spécialement pour l'achat d'équipements ?\"\n",
    "Q_COMPE_NOMBRE=Q_COMPE+\"Si oui, sélectionne seulement les paragraphes mentionnant une indemnité spécialement pour l'achat d'équipements et s'il existe donne le montant lié de l'indemnité d'équipement. Si oui, retourne à la fin 'nombre=max(ta réponse)'\"\n",
    "Q_EQUIPEMENT=\"Est-ce qu'au moins un paragraphe mentionne un équipement de télétravail fourni ?\"\n",
    "Q_COMPS=\"Est-ce qu'au moins un paragraphe mentionne explicitement une indemnité de sujétion (dans le cas où l'employeur impose le télétravail, ce dernier indemnise l'employé) ?\"\n",
    "Q_COMPS_NOMBRE=Q_COMPS+\"Si oui, sélectionne seulement les paragraphes mentionnant une indemnité de sujétion dans le cas où l'employeur impose le télétravail et s'il existe donne le montant lié de l'indemnité de sujétion dans le cas où l'employeur impose le télétravail. Si oui, retourne à la fin 'nombre=max(ta réponse)'\""
   ]
  },
  {
   "cell_type": "code",
   "execution_count": 114,
   "id": "bf6654b6-813d-40f6-bae7-f3f68ff1c076",
   "metadata": {},
   "outputs": [],
   "source": [
    "def process_model(rag_chain,num_dossier):\n",
    "    dict_reponse=dict()\n",
    "    dict_reponse[\"num_dossier\"]=num_dossier\n",
    "    text=\"\"\n",
    "    reponse= rag_chain.invoke(Q_DISPOSPERQTHENCEINTE)\n",
    "    text+=\"Q_DISPOSPERQTHENCEINTE:\"+reponse[\"text\"] + \"\\n\"\n",
    "    dict_reponse[\"DISPOSPERQTHENCEINTE\"]=guess_reponse_booleenne(reponse)\n",
    "    reponse= rag_chain.invoke(Q_MONTANT_CAVIARDE)\n",
    "    text+=\"Q_MONTANT_CAVIARDE:\"+reponse[\"text\"] + \"\\n\"\n",
    "    dict_reponse[\"MONTANT_CAVIARDE\"]=guess_reponse_booleenne(reponse)\n",
    "    reponse= rag_chain.invoke(Q_TELETRAVAIL_FLEX_SANS_LIMITE)\n",
    "    text+=\"Q_TELETRAVAIL_FLEX_SANS_LIMITE:\"+reponse[\"text\"] + \"\\n\"\n",
    "    dict_reponse[\"TELETRAVAIL_FLEX_SANS_LIMITE\"]=guess_reponse_booleenne(reponse)\n",
    "    reponse= rag_chain.invoke(Q_TT_REG_NOMBRE_FORMULE)\n",
    "    text+=\"Q_TT_REG_NOMBRE_FORMULE:\"+reponse[\"text\"] + \"\\n\"\n",
    "    dict_reponse[\"TT_REG_NOMBRE_FORMULE\"]=guess_reponse_nombre(reponse)\n",
    "    reponse= rag_chain.invoke(Q_DUREE)\n",
    "    text+=\"Q_DUREE:\"+reponse[\"text\"] + \"\\n\"\n",
    "    dict_reponse[\"DUREE\"]=guess_reponse_durée(reponse)\n",
    "    reponse= rag_chain.invoke(Q_REVERS)\n",
    "    text+=\"Q_REVERS:\"+reponse[\"text\"] + \"\\n\"\n",
    "    dict_reponse[\"REVERS\"]=guess_reponse_booleenne(reponse)\n",
    "    reponse= rag_chain.invoke(Q_ADAPT)\n",
    "    text+=\"Q_ADAPT:\"+reponse[\"text\"] + \"\\n\"\n",
    "    dict_reponse[\"ADAPT\"]=guess_reponse_booleenne(reponse)\n",
    "    reponse= rag_chain.invoke(Q_TTREG)\n",
    "    text+=\"Q_TTREG:\"+reponse[\"text\"] + \"\\n\"\n",
    "    dict_reponse[\"TTREG\"]=guess_reponse_booleenne(reponse)\n",
    "    reponse= rag_chain.invoke(Q_TTOCA)\n",
    "    text+=\"Q_TTOCA:\"+reponse[\"text\"] + \"\\n\"\n",
    "    dict_reponse[\"TTOCA\"]=guess_reponse_booleenne(reponse)\n",
    "    reponse= rag_chain.invoke(Q_TTEXC)\n",
    "    text+=\"Q_TTEXC:\"+reponse[\"text\"] + \"\\n\"\n",
    "    dict_reponse[\"TTEXC\"]=guess_reponse_booleenne(reponse)\n",
    "    for (k,v) in PERIODICITE.items():\n",
    "        Q_TT=f\"Hors jours supplémentaires ou exceptionnels, est-ce qu'au moins un paragraphe mentionne un nombre de jour de télétravail maximum autorisé explicitement exprimé par {v} ?\"\n",
    "        reponse= rag_chain.invoke(Q_TT)\n",
    "        text+=f\"Q_TT{k}:\"+reponse[\"text\"] + \"\\n\"\n",
    "        dict_reponse[f\"TT{k}\"]=guess_reponse_booleenne(reponse)\n",
    "        #Q_TT_NOMBRE=f\"Extrait le nombre de jour de télétravail maximum autorisé explicitement exprimé par {v} seulement à partir du texte suivant : {text_reponse}\"\n",
    "        Q_TT_NOMBRE=Q_TT+f\"Si oui, quel est le nombre de jour de télétravail supplémentaires explicitement exprimé et nécessairement et seulement exprimé par {v} pour des dispositions spéciales. Si oui, retourne à la fin 'nombre=max(tes réponses)'\"\n",
    "        reponse= rag_chain.invoke(Q_TT_NOMBRE)\n",
    "        text+=f\"Q_TT{k}_NOMBRE:\"+reponse[\"text\"] + \"\\n\"\n",
    "        dict_reponse[f\"TT{k}_NOMBRE\"]=guess_reponse_nombre(reponse)\n",
    "    for (k,v) in PERIODICITE.items():\n",
    "        Q_TTOCA_PERIOD=f\"Dans le cadre du télétravail occasionnel, est-ce qu'au moins un paragraphe mentionne un nombre de jour de télétravail maximum autorisé explicitement exprimé par {v} ?\"\n",
    "        reponse= rag_chain.invoke(Q_TTOCA_PERIOD)\n",
    "        text+=f\"TTOCA{k}:\"+reponse[\"text\"] + \"\\n\"\n",
    "        dict_reponse[f\"TTOCA{k}\"]=guess_reponse_booleenne(reponse)\n",
    "        Q_TTOCA_NOMBRE=Q_TTOCA_PERIOD+f\"Si oui, quel est le nombre de jour de télétravail occasionnel explicitement exprimé et nécessairement et seulement exprimé par {v}. Si oui, retourne à la fin 'nombre=max(tes réponses)'\"\n",
    "        reponse= rag_chain.invoke(Q_TTOCA_NOMBRE)\n",
    "        text+=f\"Q_TTOCA_{k}_NOMBRE:\"+reponse[\"text\"] + \"\\n\"\n",
    "        dict_reponse[f\"TTOCA_{k}_NOMBRE\"]=guess_reponse_nombre(reponse)\n",
    "    for (k,v) in PERIODICITE.items():\n",
    "        Q_PRESJOUR=f\"Est-ce qu'au moins un paragraphe mentionne un nombre de jour de présence obligatoire sur site minimum explicitement exprimé par {v} ?\"\n",
    "        reponse= rag_chain.invoke(Q_PRESJOUR)\n",
    "        text+=f\"Q_PRESJOUR{k}:\"+reponse[\"text\"] + \"\\n\"\n",
    "        dict_reponse[f\"TTPRESJOUR{k}\"]=guess_reponse_booleenne(reponse)\n",
    "        Q_PRESJOUR_NOMBRE=Q_PRESJOUR+f\"Si oui, sélectionne seulement les paragraphes mentionnant un nombre de jour de présence obligatoire sur site minimum explicitement exprimé par {v} et s'il existe donne le nombre de jour de présence obligatoire sur site minimum explicitement exprimé par {v}. Si oui, retourne à la fin 'nombre=max(tes réponses)'\"\n",
    "        reponse= rag_chain.invoke(Q_PRESJOUR_NOMBRE)\n",
    "        text+=f\"Q_PRESJOUR{k}_NOMBRE:\"+reponse[\"text\"] + \"\\n\"\n",
    "        dict_reponse[f\"PRESJOUR{k}_NOMBRE\"]=guess_reponse_nombre(reponse)\n",
    "    for (k,v) in PERIODICITE2.items():\n",
    "        Q_COMP=f\"Hors indemnité d'équipement, est-ce qu'au moins un paragraphe mentionne une indemnité forfaitaire explicitement exprimée par {v} ?\"\n",
    "        reponse= rag_chain.invoke(Q_COMP)\n",
    "        text+=f\"Q_COMP{k}:\"+reponse[\"text\"] + \"\\n\"\n",
    "        dict_reponse[f\"COMP{k}\"]=guess_reponse_booleenne(reponse)\n",
    "        Q_COMP_NOMBRE=Q_COMP+f\"Si oui, sélectionne en interne seulement les paragraphes mentionnant une indemnité forfaitaire explicitement exprimé par {v}, puis s'il existe donne le montant explicitement exprimé par {v}. Si oui, retourne à la fin 'nombre=max(ta réponse)'\"\n",
    "        reponse= rag_chain.invoke(Q_COMP_NOMBRE)\n",
    "        text+=f\"Q_COMP{k}_NOMBRE:\"+reponse[\"text\"] + \"\\n\"\n",
    "        dict_reponse[f\"COMP{k}_NOMBRE\"]=guess_reponse_nombre(reponse)\n",
    "        if \"MOIS\" in k:\n",
    "            Q_COMP_NOMBRE_BASE=Q_COMP+f\"Si oui, sélectionne en interne seulement les paragraphes mentionnant une indemnité forfaitaire explicitement exprimé par {v}, puis s'il existe plusieurs montants explicitement exprimé par {v}, par nombre de jour. Si oui, retourne à la fin 'nombre=base_mensuelle_pour_un_jour_de_teletravail(ta réponse)'\"\n",
    "            reponse= rag_chain.invoke(Q_COMP_NOMBRE_BASE)\n",
    "            text+=f\"Q_COMP{k}_BASE_NOMBRE:\"+reponse[\"text\"] + \"\\n\"\n",
    "            dict_reponse[f\"COMP{k}_BASE_NOMBRE\"]=guess_reponse_nombre(reponse)\n",
    "    reponse= rag_chain.invoke(Q_COMPE)\n",
    "    text+=\"Q_COMPE:\"+reponse[\"text\"] + \"\\n\"\n",
    "    dict_reponse[\"COMPE\"]=guess_reponse_booleenne(reponse)\n",
    "    reponse= rag_chain.invoke(Q_COMPE_NOMBRE)\n",
    "    text+=\"Q_COMPE_NOMBRE:\"+reponse[\"text\"] + \"\\n\"\n",
    "    dict_reponse[\"COMPE_NOMBRE\"]=guess_reponse_nombre(reponse)\n",
    "    reponse= rag_chain.invoke(Q_EQUIPEMENT)\n",
    "    text+=\"Q_EQUIPEMENT:\"+reponse[\"text\"] + \"\\n\"\n",
    "    dict_reponse[\"EQUIPEMENT\"]=guess_reponse_booleenne(reponse)\n",
    "    reponse= rag_chain.invoke(Q_COMPS)\n",
    "    text+=\"Q_COMPS:\"+reponse[\"text\"] + \"\\n\"\n",
    "    dict_reponse[\"COMPS\"]=guess_reponse_booleenne(reponse)\n",
    "    reponse= rag_chain.invoke(Q_COMPS_NOMBRE)\n",
    "    text+=\"Q_COMPS_NOMBRE:\"+reponse[\"text\"] + \"\\n\"\n",
    "    dict_reponse[\"COMPS_NOMBRE\"]=guess_reponse_nombre(reponse)\n",
    "    return dict_reponse,text"
   ]
  },
  {
   "cell_type": "code",
   "execution_count": 115,
   "id": "e8a37df9-03f2-4dba-9a11-490329b526e3",
   "metadata": {},
   "outputs": [],
   "source": [
    "PERIODICITE={ \"SEM\":\"semaine\"}\n",
    "\n",
    "def process_model(rag_chain,num_dossier):\n",
    "    dict_reponse=dict()\n",
    "    dict_reponse[\"num_dossier\"]=num_dossier\n",
    "    text=\"\"\n",
    "    liste_autre_periodicite=[\"année\",\"mois\",\"trimestre\"]\n",
    "    for (k,v) in PERIODICITE.items():\n",
    "        Q_TT_NOMBRE=f\"Est-ce qu'un paragraphe comporte le mot-clé {v} ou une notion de fréquence, ou de volume par {v} et concerne le nombre de jour de télétravail proposé, autorisé ou limité (ne compte pas les paragraphes qui relatent d'indemnisation par jour de télétravail, ni le télétravail ponctuel ou occasionnel et ignore les informations sur le nombre de jour de télétravail par {liste_autre_periodicite} ou forfait par {liste_autre_periodicite})?\"\n",
    "        Q_TT_NOMBRE+=f\" SI oui, jusqu'à combien de jour de télétravail un employé peut-il télétravailler régulièrement, jour exprimé seulement par {v} et explicitement dans un des paragraphes (attention, ne pas confondre avec les jours de présence obligatoire sur site / jours en présentiel)? \"\n",
    "        Q_TT_NOMBRE+=f\" Si tu as plusieurs réponses, affecte le maximum de ces éventuelles réponses dans une variable 'nombrejourdeteletravailmaxpar{v}=\\d+'. Si tu ne trouves pas de valeur, retourne nombrejourdeteletravailmaxpar{v} valant 0\"\n",
    "        Q_TT_NOMBRE+=f\" Ta réponse devra impérativement comporter la chaîne de caractère 'nombrejourdeteletravailmaxpar{v}=' suivi du nombre demandé.\"\n",
    "        reponse= rag_chain.invoke(Q_TT_NOMBRE)\n",
    "        text+=f\"Q_TT{k}_NOMBRE:\"+reponse[\"text\"] + \"\\n\"\n",
    "        dict_reponse[f\"TT{k}_NOMBRE\"]=guess_reponse_nombre(reponse,pattern=f\"nombrejourdeteletravailmaxpar{v}\")\n",
    "    return dict_reponse,text"
   ]
  },
  {
   "cell_type": "code",
   "execution_count": 116,
   "id": "b4de9f12-d3b6-4aa5-8603-df16fe199823",
   "metadata": {},
   "outputs": [],
   "source": [
    "VAR_TRANSLATION={'DISPOSPERQTHENCEINTE': \"dispositif_special_rqth_maternite_senior\",\n",
    " 'MONTANT_CAVIARDE': \"montant_caviarde\",\n",
    " 'TELETRAVAIL_FLEX_SANS_LIMITE': \"teletravail_regulier_flexible_sans_limite\",\n",
    " 'TT_REG_NOMBRE_FORMULE': \"nombre_formules_teletravail_regulier\",\n",
    " 'DUREE': \"duree_application\",\n",
    " 'REVERS': \"presence_clause_reversibilite\",\n",
    " 'ADAPT': \"periode_adaptation\",\n",
    " 'TTREG': \"teletravail_regulier\",\n",
    " 'TTOCA': \"teletravail_occasionnel\",\n",
    " 'TTEXC': \"teletravail_exceptionnel\",\n",
    " 'TTMOIS': \"mention_teletravail_par_mois\",\n",
    " 'TTMOIS_NOMBRE': \"nombre_jours_teletravail_mois\",\n",
    " 'TTTRIM': \"mention_teletravail_par_trimestre\",\n",
    " 'TTTRIM_NOMBRE': \"nombre_jours_teletravail_trimestre\",\n",
    " 'TTANNEE': \"mention_teletravail_par_annuel\",\n",
    " 'TTANNEE_NOMBRE': \"nombre_jours_teletravail_annuel\",\n",
    " 'TTSEM': \"mention_teletravail_par_semaine\",\n",
    " 'TTSEM_NOMBRE': \"nombre_jours_teletravail_semaine\",\n",
    " 'TTOCAMOIS': \"occas_mention_teletravail_par_mois\",\n",
    " 'TTOCA_MOIS_NOMBRE': \"occas_nombre_jours_teletravail_mois\",\n",
    " 'TTOCATRIM': \"occas_mention_teletravail_par_trimestre\",\n",
    " 'TTOCA_TRIM_NOMBRE': \"occas_nombre_jours_teletravail_trimestre\",\n",
    " 'TTOCAANNEE': \"occas_mention_teletravail_par_annuel\",\n",
    " 'TTOCA_ANNEE_NOMBRE': \"occas_nombre_jours_teletravail_annuel\",\n",
    " 'TTOCASEM': \"occas_mention_teletravail_par_semaine\",\n",
    " 'TTOCA_SEM_NOMBRE': \"occas_nombre_jours_teletravail_semaine\",\n",
    " 'TTPRESJOURMOIS': \"mention_jour_presence_par_mois\",\n",
    " 'PRESJOURMOIS_NOMBRE': \"nombre_jour_presence_par_mois\",\n",
    " 'TTPRESJOURTRIM': \"mention_jour_presence_par_trimestre\",\n",
    " 'PRESJOURTRIM_NOMBRE': \"nombre_jour_presence_par_trimestre\",\n",
    " 'TTPRESJOURANNEE': \"mention_jour_presence_par_annuel\",\n",
    " 'PRESJOURANNEE_NOMBRE': \"nombre_jour_presence_par_annuel\",\n",
    " 'TTPRESJOURSEM': \"mention_jour_presence_par_semaine\",\n",
    " 'PRESJOURSEM_NOMBRE': \"nombre_jour_presence_par_semaine\",\n",
    " 'COMPJOUR': \"mention_indemnisation_journaliere\",\n",
    " 'COMPJOUR_NOMBRE': \"indemnisation_journaliere\",\n",
    " 'COMPMOIS': \"mention_indemnisation_mensuelle\",\n",
    " 'COMPMOIS_NOMBRE': \"indemnisation_mensuelle\",\n",
    " 'COMPMOIS_BASE_NOMBRE': \"indemnisation_base_mensuelle_pour_un_jour_par_semaine\",\n",
    " 'COMPTRIM': \"mention_indemnisation_trimestrielle\",\n",
    " 'COMPTRIM_NOMBRE': \"indemnisation_trimestrielle\",\n",
    " 'COMPANNEE': \"mention_indemnisation_annuelle\",\n",
    " 'COMPANNEE_NOMBRE': \"indemnisation_annuelle\",\n",
    " 'COMPSEM': \"mention_indemnisation_semaine\",\n",
    " 'COMPSEM_NOMBRE': \"indemnisation_semaine\",\n",
    " 'COMPE': \"mention_indemnisation_equipement\",\n",
    " 'COMPE_NOMBRE': \"indemnisation_equipement\",\n",
    " 'COMPS': \"mention_indemnite_sujetion\",\n",
    " 'COMPS_NOMBRE': \"montant_indemnite_sujetion\",\n",
    " 'EQUIPEMENT': \"equipement_fourni\"}"
   ]
  },
  {
   "cell_type": "markdown",
   "id": "0f1f7678-1d49-4b9b-b43b-174df0008bbd",
   "metadata": {},
   "source": [
    "# Boucle"
   ]
  },
  {
   "cell_type": "code",
   "execution_count": 117,
   "id": "ff42e89b-c55e-43fa-9954-c4330e0945b6",
   "metadata": {},
   "outputs": [
    {
     "name": "stdout",
     "output_type": "stream",
     "text": [
      "0 T09221025781\n"
     ]
    },
    {
     "name": "stderr",
     "output_type": "stream",
     "text": [
      "Setting `pad_token_id` to `eos_token_id`:2 for open-end generation.\n"
     ]
    },
    {
     "name": "stdout",
     "output_type": "stream",
     "text": [
      "Q_TTSEM_NOMBRE:* Mon raisonnement : Je dois trouver dans le texte une indication du nombre maximal de jours de télétravail par semaine. Pour cela, je vais rechercher les occurrences du mot \"semaine\" dans le texte, et voir si elles sont associées à une indication du nombre de jours de télétravail.\n",
      "* Mes trouvailles :\n",
      "\t+ \"Le télétravail doit être ponctuel : Il ne pourra être exercé que pour un maximum de 10 jours par an. La répartition du temps de travail s’opère par journée ou demi-journée.\" (Ce paragraphe ne mentionne pas le nombre de jours de télétravail par semaine.)\n",
      "\t+ \"En matière de gestion du temps de travail, le télétravailleur gère l’organisation de son temps de travail à domicile dans le cadre de la législation et des règles applicables chez Xelians Archivage. Il demeure soumis aux limites légales ou conventionnelles concernant la durée maximale du travail et à la durée minimale des repos (durée minimale du repos quotidien, durée minimale du repos hebdomadaire).\" (Ce paragraphe ne mentionne pas le nombre de jours de télétravail par semaine.)\n",
      "\t+ \"Afin de respecter la vie privée du télétravailleur et aussi de garantir l’activité du service, le télétravailleur occasionnel doit être joignable et en mesure de répondre aux sollicitations aux horaires habituels correspondant à son service. En dehors de ces plages horaires, le télétravailleur occasionnel peut utiliser son « droit à la déconnexion » en mettant en veille ses systèmes professionnels de communication.\" (Ce paragraphe ne mentionne pas le nombre de jours de télétravail par semaine.)\n",
      "* Ma réponse : nombrejourdeteletravailmaxparsemaine=0\n",
      "* Mon indice de confiance : 100%\n",
      "\n",
      "1 T03821007340\n"
     ]
    },
    {
     "name": "stderr",
     "output_type": "stream",
     "text": [
      "Setting `pad_token_id` to `eos_token_id`:2 for open-end generation.\n"
     ]
    },
    {
     "name": "stdout",
     "output_type": "stream",
     "text": [
      "Q_TTSEM_NOMBRE:* Mon raisonnement : Je dois trouver dans le texte une indication du nombre maximal de jours de télétravail par semaine. Pour cela, je vais rechercher les occurrences du mot \"semaine\" dans le contexte et vérifier si elles sont associées à une quantité de jours de télétravail.\n",
      "* Mes trouvailles :\n",
      "\t+ \"le télétravailleur aura effectué au moins quatre jours de télétravail sur le mois considéré\"\n",
      "* Ma réponse : nombrejourdeteletravailmaxparsemaine=4\n",
      "* Mon indice de confiance : 80%. La formulation utilisée (\"au moins\") suggère qu'il s'agit d'un minimum plutôt que d'un maximum. Cependant, aucune autre indication de plafond n'est donnée dans le texte.\n",
      "\n",
      "2 T09221024750\n"
     ]
    },
    {
     "name": "stderr",
     "output_type": "stream",
     "text": [
      "Setting `pad_token_id` to `eos_token_id`:2 for open-end generation.\n"
     ]
    },
    {
     "name": "stdout",
     "output_type": "stream",
     "text": [
      "Q_TTSEM_NOMBRE:\n",
      "* Mon raisonnement : Je vais rechercher dans le texte les paragraphes qui comportent le mot-clé \"semaine\" ou une notion de fréquence, ou de volume par semaine et qui concernent le nombre de jour de télétravail proposé, autorisé ou limité. Ensuite, je vais identifier le maximum de ces éventuelles réponses dans une variable 'nombrejourdeteletravailmaxparsemaine'.\n",
      "* Mes trouvailles : Article 6-1 du document 1 indique que \"Le nombre de jours de télétravail par semaine est de 2\".\n",
      "* Ma réponse : nombrejourdeteletravailmaxparsemaine=2\n",
      "* Mon indice de confiance : 100%\n",
      "\n",
      "3 T09221026357\n"
     ]
    },
    {
     "name": "stderr",
     "output_type": "stream",
     "text": [
      "Setting `pad_token_id` to `eos_token_id`:2 for open-end generation.\n"
     ]
    },
    {
     "name": "stdout",
     "output_type": "stream",
     "text": [
      "Q_TTSEM_NOMBRE:### Mon raisonnement :\n",
      "Je vais rechercher dans le texte les paragraphes qui comportent le mot-clé \"semaine\" ou une notion de fréquence, ou de volume par semaine et qui concernent le nombre de jour de télétravail proposé, autorisé ou limité. Je vais ignorer les paragraphes qui relatent d'indemnisation par jour de télétravail, ni le télétravail ponctuel ou occasionnel et ignore les informations sur le nombre de jour de télétravail par [\"année\", \"mois\", \"trimestre\"] ou forfait par [\"année\", \"mois\", \"trimestre\"].\n",
      "\n",
      "### Mes trouvailles :\n",
      "* Article 2.2.1 A la demande du salarié : \"Le salarié peut demander à tout moment l’interruption de son activité en télétravail qui sera effective, moyennant un préavis de 15 jours maximum, à réception d’un courrier adressé par lettre recommandée avec accusé de réception ou remis en mains propres contre décharge ou un courriel adressé à son responsable hiérarchique.\"\n",
      "* Article 3.2 Nombre et nature des jours de télétravail : \"Afin de préserver le lien avec sa communauté de travail, le salarié devra être présent sur site au moins 3 jours par semaine civile.\"\n",
      "\n",
      "### Ma réponse :\n",
      "nombrejourdeteletravailmaxparsemaine=3\n",
      "\n",
      "### Mon indice de confiance :\n",
      "0.8\n",
      "\n",
      "4 T07521030130\n"
     ]
    },
    {
     "name": "stderr",
     "output_type": "stream",
     "text": [
      "Setting `pad_token_id` to `eos_token_id`:2 for open-end generation.\n"
     ]
    },
    {
     "name": "stdout",
     "output_type": "stream",
     "text": [
      "Q_TTSEM_NOMBRE:### Mon raisonnement :\n",
      "Je vais lire attentivement chaque document pour trouver un paragraphe contenant le mot-clé \"semaine\" ou une notion de fréquence, ou de volume par semaine et concernant le nombre de jour de télétravail proposé, autorisé ou limité. Je ne prendrai pas en compte les paragraphes qui relatent d'indemnisation par jour de télétravail, ni le télétravail ponctuel ou occasionnel et ignore les informations sur le nombre de jour de télétravail par [\"année\", \"mois\", \"trimestre\"] ou forfait par [\"année\", \"mois\", \"trimestre\"].\n",
      "\n",
      "### Mes trouvailles :\n",
      "* \"Un rythme de trois jours en télétravail et deux jours en présentiel peut être envisagé.\"\n",
      "\n",
      "### Ma réponse :\n",
      "nombrejourdeteletravailmaxparsemaine=3\n",
      "\n",
      "### Mon indice de confiance :\n",
      "0.8\n",
      "\n",
      "5 T03521007300\n"
     ]
    },
    {
     "name": "stderr",
     "output_type": "stream",
     "text": [
      "Setting `pad_token_id` to `eos_token_id`:2 for open-end generation.\n"
     ]
    },
    {
     "name": "stdout",
     "output_type": "stream",
     "text": [
      "Q_TTSEM_NOMBRE:### Mon raisonnement :\n",
      "Je dois trouver dans le contexte le nombre maximal de jours de télétravail par semaine. Pour cela, je dois trouver un paragraphe qui comporte le mot-clé \"semaine\" ou une notion de fréquence, ou de volume par semaine et qui concerne le nombre de jour de télétravail proposé, autorisé ou limité. Je dois ignorer les paragraphes qui relatent d'indemnisation par jour de télétravail, ni le télétravail ponctuel ou occasionnel et ignore les informations sur le nombre de jour de télétravail par [\"année\", \"mois\", \"trimestre\"] ou forfait par [\"année\", \"mois\", \"trimestre\"].\n",
      "\n",
      "### Mes trouvailles :\n",
      "* \"Le nombre de journées de télétravail autorisées par semaine\"\n",
      "* \"Chaque salarié doit être présent dans les locaux de l’association, a minima 2 fois par semaine pour des plages d’au moins une demi-journée\"\n",
      "* \"Le total des jours télétravaillés dans un mois ne peut pas excéder 1/3 du temps de travail d’un salarié, hors prises de congés.\"\n",
      "\n",
      "### Ma réponse :\n",
      "nombrejourdeteletravailmaxparsemaine=1\n",
      "\n",
      "### Mon indice de confiance :\n",
      "0.8\n",
      "\n",
      "### EXPLICATIONS :\n",
      "J'ai trouvé trois passages qui parlent du nombre de jours de télétravail par semaine. Le premier passage indique clairement que le nombre de jours de télétravail autorisés par semaine est le nombre maximal de jours de télétravail par semaine. Le deuxième passage indique que chaque salarié doit être présent dans les locaux de l'association a minima 2 fois par semaine pour des plages d'au moins une demi-journée, ce qui implique que le nombre maximal de jours de télétravail par semaine est de 3. Le troisième passage indique que le total des jours télétravaillés dans un mois ne peut pas excéder 1/3 du temps de travail d'un salarié, hors prises de congés. Comme il y a 4 semaines dans un mois, cela implique que le nombre maximal de jours de télétravail par semaine est de 4/3, ce qui est impossible car on ne peut pas avoir plus de 7 jours dans une semaine. Donc, le nombre maximal de jours de télétravail par semaine est de 3. Cependant, mon indice de confiance est de 0.8 car il y a une ambiguïté dans le troisième passage qui peut prêter à confusion.\n",
      "\n",
      "6 T04521003482\n"
     ]
    },
    {
     "name": "stderr",
     "output_type": "stream",
     "text": [
      "Setting `pad_token_id` to `eos_token_id`:2 for open-end generation.\n"
     ]
    },
    {
     "name": "stdout",
     "output_type": "stream",
     "text": [
      "Q_TTSEM_NOMBRE:\n",
      "* Mon raisonnement : Je dois trouver dans le texte une indication du nombre maximal de jours de télétravail par semaine. Cependant, je ne dois considérer que les occurrences où le mot \"semaine\" ou une notion de fréquence hebdomadaire est explicitement mentionné. De plus, je dois ignorer les informations relatives au télétravail occasionnel ou forfaitaire par année, mois ou trimestre.\n",
      "* Mes trouvailles : \"Les agents travaillant sur site peuvent aussi, à leur initiative, utiliser ce mode de badgeage s’ils le souhaitent.\" -> Cette phrase ne contient pas d'informations pertinentes.\n",
      "* Ma réponse : nombrejourdeteletravailmaxparsemaine=0\n",
      "* Mon indice de confiance : 90% - Bien que je n'aie pas trouvé d'occurrence du mot-clé \"semaine\" ou d'une notion de fréquence hebdomadaire explicite, il est possible qu'une telle information existe dans une section non fournie du document.\n",
      "\n",
      "7 T09221026467\n"
     ]
    },
    {
     "name": "stderr",
     "output_type": "stream",
     "text": [
      "Setting `pad_token_id` to `eos_token_id`:2 for open-end generation.\n"
     ]
    },
    {
     "name": "stdout",
     "output_type": "stream",
     "text": [
      "Q_TTSEM_NOMBRE:\n",
      "* Mon raisonnement : Je dois trouver dans le texte une indication du nombre maximal de jours de télétravail par semaine. Ce nombre doit être explicite et non déduit d'une période plus longue ou d'une formule implicite. De plus, je dois ignorer les informations concernant le télétravail occasionnel ou les indemnisations.\n",
      "* Mes trouvailles : \"Le télétravail occasionnel a vocation à répondre à des situations individuelles inhabituelles et temporaires ou à des situations rendant impossible le déplacement sur le lieu de travail. Cette situation de télétravail occasionnel est ouverte à tous les collaborateurs disposant d'outils de travail à distance.\" (donc pas de limite explicite pour le télétravail occasionnel) ; \"Le télétravailleur doit organiser son temps de travail en respectant les règles de fonctionnement identiques à celles observées sur site, à savoir les modalités en vigueur dans l'accord sur l'organisation du temps de travail pour les collaborateurs cadres et les collaborateurs non cadres du 6 janvier 2010 et ses avenants du 18 juin 2013 et du 24 juin 2015. Le collaborateur en télétravail veillera à respecter les durées maximales quotidiennes et hebdomadaires de travail et les temps de repos quotidiens obligatoires (11h)\" (pas de limite explicite pour le télétravail régulier) ; \"Les frais liés au télétravail sont pris en charge par l’Institut dans le cadre d’une indemnité globale et forfaitaire à hauteur de 10 euros par mois pour un jour de télétravail par semaine et de 20 euros par mois pour un collaborateur effectuant deux jours de Télétravail par semaine\" (limite explicite pour le télétravail régulier à 2 jours par semaine).\n",
      "* Ma réponse : nombrejourdeteletravailmaxparsemaine=2\n",
      "* Mon indice de confiance : 100%\n",
      "\n",
      "8 T09221024441\n"
     ]
    },
    {
     "name": "stderr",
     "output_type": "stream",
     "text": [
      "Setting `pad_token_id` to `eos_token_id`:2 for open-end generation.\n"
     ]
    },
    {
     "name": "stdout",
     "output_type": "stream",
     "text": [
      "Q_TTSEM_NOMBRE:\n",
      "Mon raisonnement :\n",
      "\n",
      "Je dois trouver dans le texte la réponse à la question posée, c'est-à-dire le nombre maximal de jours de télétravail par semaine explicitement indiqué dans un paragraphe comportant le mot-clé \"semaine\" ou une notion de fréquence, ou de volume par semaine et concernant le nombre de jour de télétravail proposé, autorisé ou limité. Je ne dois pas tenir compte des paragraphes qui relatent d'indemnisation par jour de télétravail, ni le télétravail ponctuel ou occasionnel et je dois ignorer les informations sur le nombre de jour de télétravail par [\"année\", \"mois\", \"trimestre\"] ou forfait par [\"année\", \"mois\", \"trimestre\"].\n",
      "\n",
      "Mes trouvailles :\n",
      "\n",
      "* \"Afin d’éviter l’isolement des salariés et permettre aux équipes de conserver une bonne cohésion de groupe, les Parties conviennent que le temps au cours duquel le salarié pourra être en situation de télétravail à domicile ne devra pas dépasser deux jours par semaine.\"\n",
      "\n",
      "Ma réponse :\n",
      "\n",
      "nombrejourdeteletravailmaxparsemaine=2\n",
      "\n",
      "Mon indice de confiance :\n",
      "\n",
      "0.95\n",
      "\n",
      "9 T04421009882\n"
     ]
    },
    {
     "name": "stderr",
     "output_type": "stream",
     "text": [
      "Setting `pad_token_id` to `eos_token_id`:2 for open-end generation.\n"
     ]
    },
    {
     "name": "stdout",
     "output_type": "stream",
     "text": [
      "Q_TTSEM_NOMBRE:\n",
      "* Mon raisonnement : Je dois trouver dans le texte une indication du nombre maximal de jours de télétravail par semaine. Pour cela, je vais rechercher les occurrences du mot « semaine » dans le texte et vérifier si elles sont associées à une indication du nombre de jours de télétravail.\n",
      "* Mes trouvailles : Dans le texte, on peut lire « generalisation du recours au teletravail pour tous les postes pour lesquels il est possible et pour lesquels l’activite se poursuit ». Cependant, aucun nombre de jours de télétravail n'est associé à cette phrase.\n",
      "* Ma réponse : nombrejourdeteletravailmaxparsemaine=0\n",
      "* Mon indice de confiance : 100%\n",
      "\n",
      "10 T07621005356\n"
     ]
    },
    {
     "name": "stderr",
     "output_type": "stream",
     "text": [
      "Setting `pad_token_id` to `eos_token_id`:2 for open-end generation.\n"
     ]
    },
    {
     "name": "stdout",
     "output_type": "stream",
     "text": [
      "Q_TTSEM_NOMBRE:\n",
      "* Mon raisonnement : Je dois rechercher dans le texte les occurrences du mot \"semaine\" associé à une notion de fréquence ou de volume de télétravail, et en extraire le nombre associé.\n",
      "* Mes trouvailles : \"la fréquence du télétravail et les jours télétravaillés\" (Article 4); \"les jours de télétravail seront fixés dans un avenant au contrat du télétravailleur\" (Article 9); \"une journée de télétravail peut être décalée à un autre jour de la même semaine ou annulée\" (Article 9).\n",
      "* Ma réponse : nombrejourdeteletravailmaxparsemaine=5\n",
      "* Mon indice de confiance : 90%\n",
      "\n",
      "11 T09221023292\n"
     ]
    },
    {
     "name": "stderr",
     "output_type": "stream",
     "text": [
      "Setting `pad_token_id` to `eos_token_id`:2 for open-end generation.\n"
     ]
    },
    {
     "name": "stdout",
     "output_type": "stream",
     "text": [
      "Q_TTSEM_NOMBRE:\n",
      "* Mon raisonnement : Je dois rechercher dans le texte tous les paragraphes qui contiennent le mot-clé \"semaine\" ou une notion de fréquence, ou de volume par semaine et qui concernent le nombre de jour de télétravail proposé, autorisé ou limité. Je dois ensuite en extraire le nombre de jours de télétravail maximum par semaine.\n",
      "* Mes trouvailles : \"Il est rappelé que les temps de travail peuvent se répartir sur 5 jours, du lundi au samedi inclus (et de façon très exceptionnelle le dimanche)\"\n",
      "* Ma réponse : nombrejourdeteletravailmaxparsemaine=5\n",
      "* Mon indice de confiance : 90%\n",
      "\n",
      "12 T09221024752\n"
     ]
    },
    {
     "name": "stderr",
     "output_type": "stream",
     "text": [
      "Setting `pad_token_id` to `eos_token_id`:2 for open-end generation.\n"
     ]
    },
    {
     "name": "stdout",
     "output_type": "stream",
     "text": [
      "Q_TTSEM_NOMBRE:* Mon raisonnement : Je dois trouver dans le texte une indication du nombre maximal de jours de télétravail par semaine proposé, autorisé ou limité. Ce nombre doit être explicite et ne pas découler d'autres notions telles que le nombre de jours de présence sur site ou le nombre de jours de télétravail par mois, trimestre ou année. De plus, je dois ignorer les informations sur l'indemnisation par jour de télétravail et le télétravail ponctuel ou occasionnel.\n",
      "* Mes trouvailles : \"la direction propose la mise en place d’une journée de télétravail sans conditions de temps de trajet, nombre de kilomètres ou encore conditions particulières liées au temps de travail pour l’ensemble des salariés hormis les stagiaires, apprentis et salariés en période d’essai.\"\n",
      "* Ma réponse : nombrejourdeteletravailmaxparsemaine=1\n",
      "* Mon indice de confiance : 80%. La formulation utilisée dans le texte (\"une journée de télétravail\") suggère qu'un seul jour de télétravail est autorisé par semaine. Cependant, il est possible que d'autres dispositions concernant le télétravail soient prévues dans d'autres documents ou accords, ce qui justifierait un indice de confiance moins élevé.\n",
      "\n",
      "13 T07521028203\n"
     ]
    },
    {
     "name": "stderr",
     "output_type": "stream",
     "text": [
      "Setting `pad_token_id` to `eos_token_id`:2 for open-end generation.\n"
     ]
    },
    {
     "name": "stdout",
     "output_type": "stream",
     "text": [
      "Q_TTSEM_NOMBRE:\n",
      "Mon raisonnement :\n",
      "\n",
      "Je dois trouver dans le texte une indication du nombre maximal de jours de télétravail par semaine. Je dois ignorer les mentions de télétravail occasionnel ou ponctuel, et me concentrer sur les mentions de télétravail régulier. De plus, je dois ignorer les mentions de télétravail exprimées en jours annuels, mensuels ou trimestriels, et me concentrer sur les mentions de télétravail exprimées en jours hebdomadaires.\n",
      "\n",
      "Mes trouvailles :\n",
      "\n",
      "* \"Un à deux jours fixes par semaine de télétravail.\"\n",
      "* \"Et 3 jours de télétravail supplémentaires annuels dits « modulables » pour gérer notamment des situations exceptionnelles.\"\n",
      "\n",
      "Ma réponse :\n",
      "\n",
      "Le texte indique que le nombre maximal de jours de télétravail par semaine est de deux jours fixes, et jusqu'à trois jours supplémentaires occasionnels par an. Cependant, ces trois jours supplémentaires ne sont pas considérés comme des jours de télétravail réguliers, car ils sont modulables et destinés à gérer des situations exceptionnelles. Par conséquent, le nombre maximal de jours de télétravail régulier par semaine est de deux jours.\n",
      "\n",
      "Ma réponse finale est donc : nombrejourdeteletravailmaxparsemaine=2.\n",
      "\n",
      "Mon indice de confiance :\n",
      "\n",
      "Je suis très confiant dans ma réponse, car elle est basée sur une information claire et explicite dans le texte.\n",
      "\n",
      "14 T03321006775\n"
     ]
    },
    {
     "name": "stderr",
     "output_type": "stream",
     "text": [
      "Setting `pad_token_id` to `eos_token_id`:2 for open-end generation.\n"
     ]
    },
    {
     "name": "stdout",
     "output_type": "stream",
     "text": [
      "Q_TTSEM_NOMBRE:\n",
      "Mon raisonnement :\n",
      "\n",
      "Je vais lire attentivement chaque paragraphe pour rechercher les occurrences des mots \"semaine\" et \"télétravail\". Je m'assurerai que le paragraphe traite du nombre de jours de télétravail autorisés ou proposés de manière régulière, et non pas occasionnelle ou indemnisée. Je ne prendrai en compte que les jours de télétravail par semaine et ignorerai toute information relative aux jours de télétravail par année, mois ou trimestre.\n",
      "\n",
      "Mes trouvailles :\n",
      "\n",
      "* Article 20 : Suivi de la charge de travail et de l'amplitude des journées de travail\n",
      "\t+ Les salariés autonomes ne sont pas soumis aux dispositions du code du travail reposant sur un décompte en heures d’une durée du travail.\n",
      "\t+ Les salariés autonomes sont tenus de respecter les durées minimales de repos, soit un repos quotidien minimal obligatoire commençant à 21 heures et se terminant à 8 heures.\n",
      "\t+ L’organisation du travail en forfait jours ne doit pas conduire les salariés autonomes à travailler plus de six jours au cours d’une même semaine et que le jour de repos hebdomadaire est en principe le dimanche.\n",
      "\n",
      "Ma réponse :\n",
      "\n",
      "nombrejourdeteletravailmaxparsemaine=6\n",
      "\n",
      "Mon indice de confiance :\n",
      "\n",
      "0.95\n",
      "\n",
      "15 T06421003671\n"
     ]
    },
    {
     "name": "stderr",
     "output_type": "stream",
     "text": [
      "Setting `pad_token_id` to `eos_token_id`:2 for open-end generation.\n",
      "Created a chunk of size 9118, which is longer than the specified 5000\n",
      "Created a chunk of size 6263, which is longer than the specified 5000\n"
     ]
    },
    {
     "name": "stdout",
     "output_type": "stream",
     "text": [
      "Q_TTSEM_NOMBRE:\n",
      "* Mon raisonnement : Je dois trouver dans le texte une indication du nombre maximal de jours de télétravail par semaine. Pour cela, je dois trouver un paragraphe qui contienne le mot-clé \"semaine\" ou une notion de fréquence hebdomadaire et qui concerne le nombre de jours de télétravail proposé, autorisé ou limité. Une fois que j'ai identifié ce paragraphe, je dois en extraire le nombre de jours de télétravail maximaux par semaine.\n",
      "\n",
      "* Mes trouvailles : \"Par la suite, les jours de travail occasionnel à distance sont positionnés dans l'outil de gestion des temps, à la convenance du salarié, dans la limite de deux jours par mois, et sous réserve d’obtenir au préalable la validation du responsable hiérarchique.\"\n",
      "\n",
      "* Ma réponse : nombrejourdeteletravailmaxparsemaine=2\n",
      "\n",
      "* Mon indice de confiance : 100%\n",
      "\n",
      "16 T04121001510\n"
     ]
    },
    {
     "name": "stderr",
     "output_type": "stream",
     "text": [
      "Setting `pad_token_id` to `eos_token_id`:2 for open-end generation.\n"
     ]
    },
    {
     "name": "stdout",
     "output_type": "stream",
     "text": [
      "Q_TTSEM_NOMBRE:\n",
      "Mon raisonnement :\n",
      "\n",
      "Je vais rechercher dans le texte les paragraphes qui comportent le mot-clé \"semaine\" ou une notion de fréquence, ou de volume par semaine et qui concernent le nombre de jour de télétravail proposé, autorisé ou limité. Je vais ignorer les paragraphes qui relatent d'indemnisation par jour de télétravail, ni le télétravail ponctuel ou occasionnel et ignore les informations sur le nombre de jour de télétravail par [\"année\", \"mois\", \"trimestre\"] ou forfait par [\"année\", \"mois\", \"trimestre\"].\n",
      "\n",
      "Mes trouvailles :\n",
      "\n",
      "* \"Les collaborateurs qui demandent le télétravail régulier ont 3 choix dans la limite de 2 jours de présence au siège en fonction de leur temps contractuel : 1 jour, 2 jours, 3 jours.\"\n",
      "\n",
      "Ma réponse :\n",
      "\n",
      "nombrejourdeteletravailmaxparsemaine=3\n",
      "\n",
      "Mon indice de confiance :\n",
      "\n",
      "0.8\n",
      "\n",
      "17 T09221023395\n"
     ]
    },
    {
     "name": "stderr",
     "output_type": "stream",
     "text": [
      "Setting `pad_token_id` to `eos_token_id`:2 for open-end generation.\n"
     ]
    },
    {
     "name": "stdout",
     "output_type": "stream",
     "text": [
      "Q_TTSEM_NOMBRE:\n",
      "* Mon raisonnement : Je vais rechercher dans le texte les occurrences du mot \"semaine\" associé au télétravail et au nombre de jours de télétravail proposé, autorisé ou limité.\n",
      "* Mes trouvailles : \"Le principe de base de fonctionnement du télétravail régulier est de travailler jusqu’à deux journées par semaine à domicile, par journée entière,\"\n",
      "* Ma réponse : nombrejourdeteletravailmaxparsemaine=2\n",
      "* Mon indice de confiance : 100%\n",
      "\n",
      "18 T08821002452\n"
     ]
    },
    {
     "name": "stderr",
     "output_type": "stream",
     "text": [
      "Setting `pad_token_id` to `eos_token_id`:2 for open-end generation.\n",
      "Created a chunk of size 11294, which is longer than the specified 5000\n",
      "Created a chunk of size 10618, which is longer than the specified 5000\n"
     ]
    },
    {
     "name": "stdout",
     "output_type": "stream",
     "text": [
      "Q_TTSEM_NOMBRE:\n",
      "* Mon raisonnement : Je dois rechercher dans le texte s'il existe un paragraphe contenant le mot-clé \"semaine\" ou une notion de fréquence ou de volume par semaine concernant le nombre de jours de télétravail régulier proposé, autorisé ou limité. Si je trouve une telle information, je dois en extraire le nombre de jours de télétravail maximum par semaine.\n",
      "\n",
      "* Mes trouvailles : Aucune phrase ne correspond aux critères demandés.\n",
      "\n",
      "* Ma réponse : nombrejourdeteletravailmaxparsemaine=0\n",
      "\n",
      "* Mon indice de confiance : 90%. Bien que j'aie effectué une recherche approfondie dans le texte, je n'ai pas trouvé les informations demandées. Cependant, il est possible qu'une telle information soit présente sous une forme différente de celle que jj'ai anticipée.\n",
      "\n",
      "19 T03521008349\n"
     ]
    },
    {
     "name": "stderr",
     "output_type": "stream",
     "text": [
      "Setting `pad_token_id` to `eos_token_id`:2 for open-end generation.\n"
     ]
    },
    {
     "name": "stdout",
     "output_type": "stream",
     "text": [
      "Q_TTSEM_NOMBRE:\n",
      "Mon raisonnement :\n",
      "Je dois trouver dans le texte une indication du nombre maximal de jours de télétravail par semaine. Je dois ignorer toutes les mentions de jours de télétravail par année, mois ou trimestre, ainsi que toutes les mentions d'indemnisation par jour de télétravail. Je dois également ignorer les informations sur le télétravail ponctuel ou occasionnel.\n",
      "\n",
      "Mes trouvailles :\n",
      "- \"Par principe, le télétravail est limité à deux journées par semaine.\"\n",
      "\n",
      "Ma réponse :\n",
      "nombrejourdeteletravailmaxparsemaine=2\n",
      "\n",
      "Mon indice de confiance :\n",
      "100%\n",
      "\n",
      "20 T06721007237\n"
     ]
    },
    {
     "name": "stderr",
     "output_type": "stream",
     "text": [
      "Setting `pad_token_id` to `eos_token_id`:2 for open-end generation.\n"
     ]
    },
    {
     "name": "stdout",
     "output_type": "stream",
     "text": [
      "Q_TTSEM_NOMBRE:\n",
      "* Mon raisonnement : Je vais rechercher dans le texte tous les passages qui parlent du nombre de jours de télétravail par semaine. Ensuite, je vérifierai si ce nombre est explicite et s'il correspond à un télétravail régulier.\n",
      "* Mes trouvailles : \"le temps de travail est organisé entre présence physique sur site de minimum 24h et le temps restant en télétravail au domicile du salarié.\"\n",
      "* Ma réponse : nombrejourdeteletravailmaxparsemaine=11\n",
      "* Mon indice de confiance : 80%. Bien que le passage indique que le temps de travail est réparti entre présentiel et télétravail, il ne précise pas explicitement le nombre maximal de jours de télétravail par semaine. Cependant, comme le temps de présence sur site est de minimum 24h, on peut en déduire que le nombre maximal de jours de télétravail par semaine est de 11 (7-24=(-17)%7=5, puis 24h/5=4.8, donc 5 jours de présence sur site de 24h et 11-5=6 jours de télétravail).\n",
      "\n",
      "21 T08521004770\n"
     ]
    },
    {
     "name": "stderr",
     "output_type": "stream",
     "text": [
      "Setting `pad_token_id` to `eos_token_id`:2 for open-end generation.\n"
     ]
    },
    {
     "name": "stdout",
     "output_type": "stream",
     "text": [
      "Q_TTSEM_NOMBRE:\n",
      "* Mon raisonnement : Je vais rechercher dans le texte toutes les occurrences où il est question du nombre de jours de télétravail par semaine. Je vais ignorer les passages qui concernent le télétravail occasionnel ou les indemnisations.\n",
      "* Mes trouvailles : \"Les parties conviennent que le nombre de journée maximale de télétravail par semaine est fixé à une (1)\" ; \"Je suis autorisé(e) à effectuer une journée par semaine de télétravail\" ; \"Mes journées de télétravail, doivent être communiquées pour l’ensemble du mois à mon responsable par le biais du workflow ou d’une planification régulière sur le  logiciel de gestion des temps « Pléiades »  qui doit procéder à la validation de ces journées.\"\n",
      "* Ma réponse : nombrejourdeteletravailmaxparsemaine=1\n",
      "* Mon indice de confiance : 90%\n",
      "\n",
      "22 T05221001044\n"
     ]
    },
    {
     "name": "stderr",
     "output_type": "stream",
     "text": [
      "Setting `pad_token_id` to `eos_token_id`:2 for open-end generation.\n"
     ]
    },
    {
     "name": "stdout",
     "output_type": "stream",
     "text": [
      "Q_TTSEM_NOMBRE:### Mon raisonnement :\n",
      "Je vais rechercher dans le texte les occurrences du mot \"semaine\" et voir si elles sont associées au nombre de jours de télétravail. Je vais ignorer les passages traitant de l'indemnisation par jour de télétravail, ainsi que ceux concernant le télétravail ponctuel ou occasionnel. Je ne tiendrai compte que des informations sur le nombre de jours de télétravail par semaine et non par année, mois ou trimestre.\n",
      "\n",
      "### Mes trouvailles :\n",
      "* \"Dans ces conditions, Magna Engineered Glass Europe prévoit plusieurs mesures destinées à assurer au mieux cette articulation : Les plages horaires pendant lesquelles le salarié peut habituellement être contacté lorsqu’il est en situation de télétravail découlent de l’horaire de travail applicables au salarié.\"\n",
      "* \"Le télétravail doit s’articuler avec le principe du respect de la vie privée du salarié. Dans ces conditions, Magna Engineered Glass Europe prévoit plusieurs mesures destinées à assurer au mieux cette articulation : Les plages horaires pendant lesquelles le salarié peut habituellement être contacté lorsqu’il est en situation de télétravail découlent de l’horaire de travail applicables au salarié.\"\n",
      "\n",
      "### Ma réponse :\n",
      "nombrejourdeteletravailmaxparsemaine=5\n",
      "\n",
      "### Mon indice de confiance :\n",
      "0.8\n",
      "\n",
      "### EXPLICATION :\n",
      "J'ai trouvé deux occurrences du mot \"semaine\" associé au télétravail, mais aucune n'indique explicitement le nombre maximal de jours de télétravail par semaine. Cependant, dans le contexte de l'entreprise, il est mentionné que les salariés ont un horaire de travail applicable même en télétravail. Comme il y a cinq jours ouvrés dans une semaine, je suppose que le nombre maximal de jours de télétravail par semaine est de cinq. C'est pourquoi j'ai attribué un indice de confiance de 0.8 à ma réponse.\n",
      "\n",
      "23 T03321007015\n"
     ]
    },
    {
     "name": "stderr",
     "output_type": "stream",
     "text": [
      "Setting `pad_token_id` to `eos_token_id`:2 for open-end generation.\n"
     ]
    },
    {
     "name": "stdout",
     "output_type": "stream",
     "text": [
      "Q_TTSEM_NOMBRE:* Mon raisonnement : Je dois trouver dans le texte une indication du nombre maximal de jours de télétravail par semaine. Cependant, je ne dois pas tenir compte des mentions relatives aux jours de télétravail par année, mois ou trimestre, ni celles concernant l'indemnisation ou le télétravail occasionnel. De plus, je dois ignorer les liens entre les périodicités hebdomadaire, mensuelle, trimestrielle et annuelle.\n",
      "* Mes trouvailles : \"Les parties signataires ont convenu de proroger l’accord d’entreprise, dans toutes ses dispositions, jusqu’au 28 février 2022.\"\n",
      "* Ma réponse : nombrejourdeteletravailmaxparsemaine=0\n",
      "* Mon indice de confiance : 100%\n",
      "\n",
      "24 T05721004466\n"
     ]
    },
    {
     "name": "stderr",
     "output_type": "stream",
     "text": [
      "Setting `pad_token_id` to `eos_token_id`:2 for open-end generation.\n"
     ]
    },
    {
     "name": "stdout",
     "output_type": "stream",
     "text": [
      "Q_TTSEM_NOMBRE:\n",
      "* Mon raisonnement : Je dois trouver dans le texte une indication du nombre maximal de jours de télétravail par semaine. Pour cela, je dois trouver une phrase contenant le mot \"semaine\" associé au télétravail. Ensuite, je dois extraire le nombre de jours de télétravail maximum par semaine.\n",
      "* Mes trouvailles : \"Il est précisé que le télétravail occasionnel ne constitue pas en soi un élément essentiel du contrat.\" et \"Compte tenu des missions poursuivies par l’Association, le télétravail ne peut être utilisé comme un mode d’organisation du travail classique.\"\n",
      "* Ma réponse : nombrejourdeteletravailmaxparsemaine=0\n",
      "* Mon indice de confiance : 0, car je n'ai pas trouvé dans le texte l'information demandée.\n",
      "\n",
      "25 T09221026193\n"
     ]
    },
    {
     "name": "stderr",
     "output_type": "stream",
     "text": [
      "Setting `pad_token_id` to `eos_token_id`:2 for open-end generation.\n"
     ]
    },
    {
     "name": "stdout",
     "output_type": "stream",
     "text": [
      "Q_TTSEM_NOMBRE:\n",
      "* Mon raisonnement : Je vais rechercher dans le texte toutes les occurrences où il est question du nombre de jours de télétravail par semaine. Ensuite, je vérifierai si cette information est explicite et non limitée à une situation exceptionnelle ou à un calcul d'indemnisation.\n",
      "* Mes trouvailles : \"Une limite haute de 10 jours de télétravail, par mois civil, est instituée.\" Cette phrase indique qu'un employé peut télétravailler jusqu'à 10 jours par mois, ce qui équivaut à environ 2,3 jours par semaine (10 jours / 4,33 semaines).\n",
      "* Ma réponse : nombrejourdeteletravailmaxparsemaine=2\n",
      "* Mon indice de confiance : 80%. La limite de 10 jours par mois est clairement indiquée, mais elle est donnée par mois et non par semaine. J'ai donc dû faire une conversion, ce qui introduit une source d'erreur.\n",
      "\n",
      "26 T03521007469\n"
     ]
    },
    {
     "name": "stderr",
     "output_type": "stream",
     "text": [
      "Setting `pad_token_id` to `eos_token_id`:2 for open-end generation.\n"
     ]
    },
    {
     "name": "stdout",
     "output_type": "stream",
     "text": [
      "Q_TTSEM_NOMBRE:\n",
      "* Mon raisonnement : Je dois rechercher dans le texte fourni s'il existe une indication du nombre maximal de jours de télétravail par semaine. Selon les instructions, je dois ignorer les mentions de jours de télétravail par année, mois ou trimestre, et ne pas faire de suppositions ou d'hypothèses.\n",
      "* Mes trouvailles : \"Les dispositions de l'accord relatif au télétravail alterné à domicile du 13 décembre 2017 restent en vigueur jusqu'au 31 mars 2021.\" Cette phrase indique que les anciennes dispositions relatives au télétravail restent en vigueur, mais elle ne précise pas le nombre de jours de télétravail par semaine.\n",
      "* Ma réponse : nombrejourdeteletravailmaxparsemaine=0\n",
      "* Mon indice de confiance : 90% car le texte ne contient pas d'informations explicites sur le nombre de jours de télétravail par semaine.\n",
      "\n",
      "27 T09221026409\n"
     ]
    },
    {
     "name": "stderr",
     "output_type": "stream",
     "text": [
      "Setting `pad_token_id` to `eos_token_id`:2 for open-end generation.\n"
     ]
    },
    {
     "name": "stdout",
     "output_type": "stream",
     "text": [
      "Q_TTSEM_NOMBRE:### Mon raisonnement :\n",
      "Je vais rechercher dans le texte les occurrences où il est question du nombre de jours de télétravail par semaine. Je vais ignorer toutes les autres mentions du nombre de jours de télétravail (ponctuel, occasionnel, forfait annuel, etc.).\n",
      "\n",
      "### Mes trouvailles :\n",
      "* \"Tout salarié éligible peut bénéficier, selon ses souhaits, de 2 ou 3 jours de télétravail par semaine\"\n",
      "* \"Pour les salariés qui ne veulent pas prendre la formule de télétravail standard, il peut arriver qu’ils aient très ponctuellement besoin d’y recourir. Aussi, les parties sont convenues de créer une enveloppe de 15 jours maximum par année civile (sans cumul d’une année sur l’autre) à leur bénéfice. Ils peuvent les poser en suivant le process dédié à cet effet et en veillant à respecter les principes de prévenance évoqués ci-dessus pour l’enveloppe de 35 jours.\"\n",
      "\n",
      "### Ma réponse :\n",
      "nombrejourdeteletravailmaxparsemaine=3\n",
      "\n",
      "### Mon indice de confiance :\n",
      "0.9\n",
      "\n",
      "28 T07521029021\n"
     ]
    },
    {
     "name": "stderr",
     "output_type": "stream",
     "text": [
      "Setting `pad_token_id` to `eos_token_id`:2 for open-end generation.\n"
     ]
    },
    {
     "name": "stdout",
     "output_type": "stream",
     "text": [
      "Q_TTSEM_NOMBRE:### Mon raisonnement :\n",
      "Je dois trouver dans le contexte fourni une indication du nombre maximal de jours de télétravail par semaine proposé, autorisé ou limité par l'employeur. Je dois ignorer les informations sur le nombre de jour de télétravail par année, mois ou trimestre, et ignorer les informations sur l'indemnisation par jour de télétravail. Je dois également ignorer les informations sur le télétravail ponctuel ou occasionnel.\n",
      "\n",
      "### Mes trouvailles :\n",
      "* \"Le télétravailleur reste tenu, même pendant les jours de télétravail et en cas de demande de la direction, de se rendre dans les locaux de l'Association, pour participer aux réunions organisées ou pour toute autre raison destinée à assurer le bon fonctionnement du service.\" Cette phrase indique qu'il y a des jours de télétravail, mais ne précise pas leur nombre.\n",
      "* \"Le(s) jour(s) de télétravail seront fixés à l’avance, lors de l’accord initial. Ils pourront évoluer en accord entre les parties.\" Cette phrase indique qu'il y a des jours de télétravail, mais ne précise pas leur nombre.\n",
      "* \"Pendant les jours de télétravail, le télétravailleur pourra librement organiser son temps de travail sous réserve de respecter les plages horaires de travail suivantes : 9h-12h30, 14h-17h30 pendant lesquelles il doit être possible de le joindre.\" Cette phrase indique qu'il y a des jours de télétravail, mais ne précise pas leur nombre.\n",
      "* \"Le télétravailleur est tenu de répondre au téléphone, de participer aux réunions téléphoniques ou les vidéoconférences, avec possibilité de couper à tout moment la caméra, organisées par sa hiérarchie et de consulter sa messagerie régulièrement.\" Cette phrase indique qu'il y a des jours de télétravail, mais ne précise pas leur nombre.\n",
      "\n",
      "### Ma réponse :\n",
      "nombrejourdeteletravailmaxparsemaine=0\n",
      "\n",
      "### Mon indice de confiance :\n",
      "0/10 - Je n'ai pas trouvé de réponse claire et explicite sur le nombre maximal de jours de télétravail par semaine proposé, autorisé ou limité par l'employeur dans le contexte fourni.\n",
      "\n",
      "29 T04221004283\n"
     ]
    },
    {
     "name": "stderr",
     "output_type": "stream",
     "text": [
      "Setting `pad_token_id` to `eos_token_id`:2 for open-end generation.\n"
     ]
    },
    {
     "name": "stdout",
     "output_type": "stream",
     "text": [
      "Q_TTSEM_NOMBRE:* Mon raisonnement : Je dois rechercher dans le texte les occurrences du mot \"semaine\" associé au télétravail, et en extraire le nombre de jours de télétravail maximum par semaine.\n",
      "* Mes trouvailles : Dans le texte, je n'ai trouvé aucune indication explicite du nombre de jours de télétravail maximum par semaine.\n",
      "* Ma réponse : nombrejourdeteletravailmaxparsemaine=0\n",
      "* Mon indice de confiance : 90%\n",
      "\n",
      "30 T07821008667\n"
     ]
    },
    {
     "name": "stderr",
     "output_type": "stream",
     "text": [
      "Setting `pad_token_id` to `eos_token_id`:2 for open-end generation.\n"
     ]
    },
    {
     "name": "stdout",
     "output_type": "stream",
     "text": [
      "Q_TTSEM_NOMBRE:### Mon raisonnement :\n",
      "Je dois trouver dans le texte une section qui parle du nombre de jours de télétravail régulier par semaine. Je dois ensuite extraire le nombre de jours de télétravail régulier par semaine qui est proposé, autorisé ou limité. Je dois ignorer les informations sur le nombre de jour de télétravail par année, mois, trimestre ou forfait par année, mois, trimestre.\n",
      "\n",
      "### Mes trouvailles :\n",
      "\"Le télétravail fonctionne sur un schéma d’alternance de périodes travaillées en présentiel et de période où l’activité est réalisée au domicile du salarié. Les parties conviennent de limiter la situation de télétravail à 2 (deux) jours par semaine pour les salariés à temps plein et à 1 (un) jour par semaine pour les salariés travaillant à temps partiel et dans la mesure où ce temps partiel est supérieur ou égal à 80% d’un temps plein,\"\n",
      "\n",
      "### Ma réponse :\n",
      "nombrejourdeteletravailmaxparsemaine=2\n",
      "\n",
      "### Mon indice de confiance :\n",
      "0.95\n",
      "\n",
      "31 T02421001369\n"
     ]
    },
    {
     "name": "stderr",
     "output_type": "stream",
     "text": [
      "Setting `pad_token_id` to `eos_token_id`:2 for open-end generation.\n"
     ]
    },
    {
     "name": "stdout",
     "output_type": "stream",
     "text": [
      "Q_TTSEM_NOMBRE:* Mon raisonnement : Je dois trouver dans le texte une indication du nombre maximal de jours de télétravail par semaine. Les mentions de télétravail doivent être associées à la période \"semaine\" ou à une notion de fréquence hebdomadaire. Je dois ignorer les mentions de télétravail associées aux périodes \"année\", \"trimestre\" ou \"mois\". De plus, je dois me concentrer sur les paragraphes qui concernent le nombre de jours de télétravail proposé, autorisé ou limité, en ignorant les informations sur l'indemnisation et le télétravail ponctuel ou occasionnel.\n",
      "* Mes trouvailles :\n",
      "    * \"Les parties signataires décident de proroger jusqu’au 31 mars 2022 les dispositions de l’accord relatif à la mise en place du télétravail conclu en date du 20 novembre 2018 et de son avenant n°1 signé le 22 octobre 2020.\"\n",
      "* Ma réponse : nombrejourdeteletravailmaxparsemaine=0\n",
      "* Mon indice de confiance : 80%. J'ai trouvé une mention du télétravail dans le contexte du document, mais elle ne contenait aucune information sur le nombre de jours de télétravail par semaine.\n",
      "\n",
      "32 T08621001524\n"
     ]
    },
    {
     "name": "stderr",
     "output_type": "stream",
     "text": [
      "Setting `pad_token_id` to `eos_token_id`:2 for open-end generation.\n"
     ]
    },
    {
     "name": "stdout",
     "output_type": "stream",
     "text": [
      "Q_TTSEM_NOMBRE:\n",
      "* Mon raisonnement : Je vais rechercher dans le texte les occurrences du mot \"semaine\" associé au télétravail et précisant un nombre de jours.\n",
      "* Mes trouvailles : \"Les parties conviennent que le nombre de journée maximale de télétravail est fixé à une (1) par semaine\"\n",
      "* Ma réponse : nombrejourdeteletravailmaxparsemaine=1\n",
      "* Mon indice de confiance : 90%\n",
      "\n",
      "33 T04421009471\n"
     ]
    },
    {
     "name": "stderr",
     "output_type": "stream",
     "text": [
      "Setting `pad_token_id` to `eos_token_id`:2 for open-end generation.\n"
     ]
    },
    {
     "name": "stdout",
     "output_type": "stream",
     "text": [
      "Q_TTSEM_NOMBRE:\n",
      "* Mon raisonnement : Je dois trouver dans le texte une indication du nombre maximal de jours de télétravail par semaine. Pour cela, je vais rechercher les occurrences du mot \"semaine\" et regarder si elles sont associées à une quantité de jours de télétravail.\n",
      "* Mes trouvailles : \"le télétravail régulier aura une fréquence comprise entre 1 et 2 journées par semaine\", \"la fréquence du télétravail régulier sera limitée à 1 journée par semaine\", \"Un salarié souhaitant télétravailler plus de 2 jours par semaine\".\n",
      "* Ma réponse : nombrejourdeteletravailmaxparsemaine=2\n",
      "* Mon indice de confiance : 90%\n",
      "\n",
      "34 T06721006777\n"
     ]
    },
    {
     "name": "stderr",
     "output_type": "stream",
     "text": [
      "Setting `pad_token_id` to `eos_token_id`:2 for open-end generation.\n"
     ]
    },
    {
     "name": "stdout",
     "output_type": "stream",
     "text": [
      "Q_TTSEM_NOMBRE:\n",
      "* Mon raisonnement : Je vais rechercher dans le texte les paragraphes qui comportent le mot-clé \"semaine\" ou une notion de fréquence, ou de volume par semaine et qui concernent le nombre de jour de télétravail proposé, autorisé ou limité. Une fois que j'aurai identifié ces paragraphes, je vérifierai s'ils mentionnent explicitement le nombre maximal de jours de télétravail par semaine.\n",
      "\n",
      "* Mes trouvailles :\n",
      "\n",
      "    > \"Le nombre de jours télétravaillables est fixé par journée entière à 2 jours par semaine au maximum\"\n",
      "    \n",
      "* Ma réponse : nombrejourdeteletravailmaxparsemaine=2\n",
      "\n",
      "* Mon indice de confiance : 100%\n",
      "\n",
      "35 T05721004568\n"
     ]
    },
    {
     "name": "stderr",
     "output_type": "stream",
     "text": [
      "Setting `pad_token_id` to `eos_token_id`:2 for open-end generation.\n"
     ]
    },
    {
     "name": "stdout",
     "output_type": "stream",
     "text": [
      "Q_TTSEM_NOMBRE:### Mon raisonnement :\n",
      "Je dois trouver dans le texte une indication du nombre maximal de jours de télétravail par semaine. Je dois donc trouver une phrase où il est explicitement indiqué un nombre de jours de télétravail par semaine. Je dois exclure les phrases qui parlent de télétravail ponctuel ou occasionnel, ainsi que celles qui mentionnent le nombre de jours de télétravail par année, mois ou trimestre, ou encore les phrases qui concernent des indemnisations. De plus, je dois me concentrer sur les phrases qui contiennent les mots-clés \"semaine\" ou une notion de fréquence ou de volume par semaine.\n",
      "\n",
      "### Mes trouvailles :\n",
      "* \"Les salariés seront en télétravail au minimum, soit deux ½ journées par semaine, soit une journée complète par semaine.\"\n",
      "\n",
      "### Ma réponse :\n",
      "nombrejourdeteletravailmaxparsemaine=1\n",
      "\n",
      "### Mon indice de confiance :\n",
      "0.8\n",
      "\n",
      "### EXPLICATIONS :\n",
      "J'ai trouvé une phrase qui indique explicitement le nombre de jours de télétravail par semaine. Cependant, cette phrase mentionne aussi les demi-journées de télétravail, ce qui peut créer une confusion. C'est pourquoi je ne suis pas certain à 100% de ma réponse.\n",
      "\n",
      "36 T08721002004\n"
     ]
    },
    {
     "name": "stderr",
     "output_type": "stream",
     "text": [
      "Setting `pad_token_id` to `eos_token_id`:2 for open-end generation.\n"
     ]
    },
    {
     "name": "stdout",
     "output_type": "stream",
     "text": [
      "Q_TTSEM_NOMBRE:\n",
      "* Mon raisonnement : Je dois rechercher dans le texte toutes les occurrences du mot \"semaine\" associé au télétravail et précisant un nombre de jours. Je dois ensuite vérifier que ce nombre ne dépasse pas 5, car il y a 5 jours ouvrés dans une semaine.\n",
      "* Mes trouvailles : \"Dans le cadre de l’organisation du télétravail sous forme d’enveloppe jours, l’utilisation de ces jours font l’objet d’un accord préalable entre le télétravailleur et son responsable hiérarchique.\"\n",
      "* Ma réponse : nombrejourdeteletravailmaxparsemaine=5\n",
      "* Mon indice de confiance : 90%\n",
      "\n",
      "37 T07821007410\n"
     ]
    },
    {
     "name": "stderr",
     "output_type": "stream",
     "text": [
      "Setting `pad_token_id` to `eos_token_id`:2 for open-end generation.\n"
     ]
    },
    {
     "name": "stdout",
     "output_type": "stream",
     "text": [
      "Q_TTSEM_NOMBRE:\n",
      "* Mon raisonnement : Je vais rechercher dans le texte les occurrences où il est fait mention du nombre de jours de télétravail par semaine. Je vais ignorer toutes les mentions relatives au télétravail occasionnel ou exceptionnel, ainsi que les passages concernant les indemnisations.\n",
      "* Mes trouvailles : \"Le télétravail pourra être exercé à hauteur de 2 jours par semaine pour un salarié à temps complet\" ; \"Les jours de télétravail doivent être identifiés d’un commun accord entre le salarié et son responsable hiérarchique.\"\n",
      "* Ma réponse : nombrejourdeteletravailmaxparsemaine=2\n",
      "* Mon indice de confiance : 90%\n",
      "\n",
      "38 T09121006385\n"
     ]
    },
    {
     "name": "stderr",
     "output_type": "stream",
     "text": [
      "Setting `pad_token_id` to `eos_token_id`:2 for open-end generation.\n"
     ]
    },
    {
     "name": "stdout",
     "output_type": "stream",
     "text": [
      "Q_TTSEM_NOMBRE:\n",
      "* Mon raisonnement : Je vais rechercher dans le texte les occurrences du mot \"semaine\" associé au télétravail et au nombre de jours de télétravail.\n",
      "* Mes trouvailles : \"Le télétravail ne devra pas dépasser 0,20 ETP par mois soit au plus une journée par semaine.\"\n",
      "* Ma réponse : nombrejourdeteletravailmaxparsemaine=1\n",
      "* Mon indice de confiance : 100%\n",
      "\n",
      "39 T06721007676\n"
     ]
    },
    {
     "name": "stderr",
     "output_type": "stream",
     "text": [
      "Setting `pad_token_id` to `eos_token_id`:2 for open-end generation.\n"
     ]
    },
    {
     "name": "stdout",
     "output_type": "stream",
     "text": [
      "Q_TTSEM_NOMBRE:* Mon raisonnement : Je vais rechercher dans le texte les occurrences du mot \"semaine\" associé à une indication de nombre de jours de télétravail. Je vais ignorer les passages concernant les indemnisations, le télétravail ponctuel ou occasionnel, et les informations sur le nombre de jours de télétravail par année, mois ou trimestre.\n",
      "* Mes trouvailles : Dans le texte, on peut lire que \"Le télétravailleur est le salarié de l’entreprise qui effectue, soit dès l’embauche, soit ultérieurement, du télétravail tel que défini ci-dessus (article L1222-9 du Code du Travail). Le télétravail régulier est une forme de télétravail accompli dans une périodicité définie en application de l’accord collectif portant sur le télétravail.\". Plus loin, il est précisé que \"Le télétravail occasionnel doit s’entendre comme du travail à domicile exécuté de façon exceptionnelle en accord avec la hiérarchie pour répondre à des situations exceptionnelles ou d’urgences (conditions climatiques, épidémie…) et qui restent indépendantes de l’activité de l’entreprise.\". Enfin, on peut lire que \"Le télétravail repose sur un esprit de confiance mutuelle. Il est en même temps important de conserver un lien entre le salarié et l’entreprise.\" et que \"Les parties ont donc décidé dans le présent accord, de définir les modalités de mise en place du télétravail dans la société SPURGIN LEONHART.\".\n",
      "* Ma réponse : nombrejourdeteletravailmaxparsemaine=5\n",
      "* Mon indice de confiance : 90%\n",
      "\n",
      "40 T06721006938\n"
     ]
    },
    {
     "name": "stderr",
     "output_type": "stream",
     "text": [
      "Setting `pad_token_id` to `eos_token_id`:2 for open-end generation.\n"
     ]
    },
    {
     "name": "stdout",
     "output_type": "stream",
     "text": [
      "Q_TTSEM_NOMBRE:\n",
      "* Mon raisonnement : Je vais rechercher dans le texte les occurrences du mot \"semaine\" associé au télétravail. Si je trouve une telle occurrence, j'en extrairai le nombre associé pour donner ma réponse. Sinon, je répondrai que je n'ai pas trouvé de réponse.\n",
      "* Mes trouvailles : \"Le salarié lorsqu’il travaille sur les plages 2, 3 et 4, pourra être amené, s’il le souhaite et en accord avec son manager, à effectuer jusqu’à 5 jours de télétravail par semaine.\"\n",
      "* Ma réponse : nombrejourdeteletravailmaxparsemaine=5\n",
      "* Mon indice de confiance : 100%\n",
      "\n",
      "41 T09221026978\n"
     ]
    },
    {
     "name": "stderr",
     "output_type": "stream",
     "text": [
      "Setting `pad_token_id` to `eos_token_id`:2 for open-end generation.\n",
      "Created a chunk of size 11621, which is longer than the specified 5000\n"
     ]
    },
    {
     "name": "stdout",
     "output_type": "stream",
     "text": [
      "Q_TTSEM_NOMBRE:### Mon raisonnement :\n",
      "Je vais lire attentivement chaque document et rechercher les paragraphes qui contiennent le mot-clé \"semaine\" ou une notion de fréquence, ou de volume par semaine et qui concernent le nombre de jour de télétravail proposé, autorisé ou limité. Je ne tiendrai pas compte des paragraphes qui relatent d'indemnisation par jour de télétravail, ni le télétravail ponctuel ou occasionnel et j'ignorerai les informations sur le nombre de jour de télétravail par année, mois, trimestre ou forfait par année, mois, trimestre. Si je trouve plusieurs réponses, je les affecterai dans une variable 'nombrejourdeteletravailmaxparsemaine'. Si je ne trouve pas de valeur, je retournerai 'nombrejourdeteletravailmaxparsemaine' valant 0.\n",
      "\n",
      "### Mes trouvailles :\n",
      "* Article 7. Lieu et installations utilisés pour le télétravail : \"Chaque jour de télétravail comporte une plage en dehors de laquelle, sauf urgences ou circonstances exceptionnelles, le/la salarié(e) en télétravail ne peut pas être joint(e), les modalités en étant les suivantes : Pour les salariés en décompte horaire de leur temps de travail, la plage horaire de non-disponibilité correspond aux heures en dehors de leurs horaires de travail collectifs de référence en vigueur dans l’entreprise/l’équipe d’affectation.\"\n",
      "* Article 7. Lieu et installations utilisés pour le télétravail : \"Pour les salariés en forfait jours, en fonction des habitudes de travail et en fonction de l’organisation propre à MEDIAGARE ou à l’équipe, la plage horaire de non-disponibilité ne pourra dépasser 8h30 le matin et après 20h30 le soir chaque jour travaillé, sous réserve de la gestion des urgences dont ils conservent l’appréciation au regard de l’autonomie dont ils disposent dans l’organisation de leur temps de travail, sans que la période entre 8h30 et 20h30 puisse être interprétée comme constituant une plage obligatoire de travail.\"\n",
      "\n",
      "### Ma réponse :\n",
      "nombrejourdeteletravailmaxparsemaine=5\n",
      "\n",
      "### Mon indice de confiance :\n",
      "0.8\n",
      "\n",
      "### Explication :\n",
      "Bien que les documents ne précisent pas explicitement le nombre maximal de jours de télétravail par semaine, on peut déduire qu'un salarié en télétravail ne peut pas être joint en dehors de ses horaires de travail, qui sont définis comme étant la plage horaire de non-disponibilité. Cette plage horaire ne peut dépasser 8h30 le matin et après 20h30 le soir chaque jour travaillé, ce qui implique qu'un salarié travaille au minimum 8 heures par jour. Comme il y a 5 jours ouvrés dans une semaine, on peut en déduire que le nombre maximal de jours de télétravail par semaine est de 5. Cependant, comme les documents ne précisent pas explicitement ce point, mon indice de confiance est faible.\n",
      "\n",
      "42 T01321011332\n"
     ]
    },
    {
     "name": "stderr",
     "output_type": "stream",
     "text": [
      "Setting `pad_token_id` to `eos_token_id`:2 for open-end generation.\n"
     ]
    },
    {
     "name": "stdout",
     "output_type": "stream",
     "text": [
      "Q_TTSEM_NOMBRE:\n",
      "* Mon raisonnement : Je vais rechercher dans le texte les paragraphes qui comportent le mot-clé \"semaine\" ou une notion de fréquence, ou de volume par semaine et qui concernent le nombre de jour de télétravail proposé, autorisé ou limité. Je vais ignorer les paragraphes qui relatent d'indemnisation par jour de télétravail, ni le télétravail ponctuel ou occasionnel et ignorer les informations sur le nombre de jour de télétravail par [\"année\", \"mois\", \"trimestre\"] ou forfait par [\"année\", \"mois\", \"trimestre\"].\n",
      "* Mes trouvailles : Dans le document 3, il y a un paragraphe pertinent : \"Le télétravail est possible, si cela est compatible avec la durée du travail des salariés concernés, à concurrence de 0 à 2 jours ouvrés maximum par semaine, non consécutifs, sous condition de présence de 3 jours sur site (non reportable, non cumulable).\"\n",
      "* Ma réponse : nombrejourdeteletravailmaxparsemaine=2\n",
      "* Mon indice de confiance : 100%\n",
      "\n",
      "43 T09221022859\n"
     ]
    },
    {
     "name": "stderr",
     "output_type": "stream",
     "text": [
      "Setting `pad_token_id` to `eos_token_id`:2 for open-end generation.\n"
     ]
    },
    {
     "name": "stdout",
     "output_type": "stream",
     "text": [
      "Q_TTSEM_NOMBRE:* Mon raisonnement : Je vais rechercher dans le texte les occurrences où il est fait mention du nombre de jours de télétravail par semaine. Comme il m'est demandé d'exprimer ma réponse sous forme d'une variable, je vais chercher à affecter la valeur trouvée à la variable `nombrejourdeteletravailmaxparsemaine`.\n",
      "* Mes trouvailles : \"les Salaries a temps plein ne travailleront qu'au maximum 2 jours par semaine en teletravail\"\n",
      "* Ma réponse : nombrejourdeteletravailmaxparsemaine=2\n",
      "* Mon indice de confiance : 100%\n",
      "\n",
      "44 T03021003019\n"
     ]
    },
    {
     "name": "stderr",
     "output_type": "stream",
     "text": [
      "Setting `pad_token_id` to `eos_token_id`:2 for open-end generation.\n"
     ]
    },
    {
     "name": "stdout",
     "output_type": "stream",
     "text": [
      "Q_TTSEM_NOMBRE:\n",
      "* Mon raisonnement : Je dois trouver dans le texte une indication du nombre maximal de jours de télétravail par semaine. Ce nombre doit être explicite et non déduit d'autres informations telles que le nombre de jours de présence sur site ou le nombre de jours de télétravail par an, mois ou trimestre. De plus, je dois ignorer les informations sur le télétravail occasionnel ou ponctuel.\n",
      "* Mes trouvailles : \"Le nombre de jours en télétravail pourra au maximum être de 4 par semaine.\"\n",
      "* Ma réponse : nombrejourdeteletravailmaxparsemaine=4\n",
      "* Mon indice de confiance : 100%\n",
      "\n",
      "45 T09121006120\n"
     ]
    },
    {
     "name": "stderr",
     "output_type": "stream",
     "text": [
      "Setting `pad_token_id` to `eos_token_id`:2 for open-end generation.\n"
     ]
    },
    {
     "name": "stdout",
     "output_type": "stream",
     "text": [
      "Q_TTSEM_NOMBRE:\n",
      "* Mon raisonnement : Je vais rechercher dans le texte les occurrences du mot \"semaine\" et extraire les informations relatives au nombre de jours de télétravail par semaine.\n",
      "* Mes trouvailles : \"Les jours de télétravail doivent par principe être pris par journée entière et ne peuvent conduire le salarié à s’absenter en télétravail plus de deux journées pour une semaine de cinq jours.\"\n",
      "* Ma réponse : nombrejourdeteletravailmaxparsemaine=2\n",
      "* Mon indice de confiance : 0.8\n",
      "\n",
      "46 T07221003271\n"
     ]
    },
    {
     "name": "stderr",
     "output_type": "stream",
     "text": [
      "Setting `pad_token_id` to `eos_token_id`:2 for open-end generation.\n"
     ]
    },
    {
     "name": "stdout",
     "output_type": "stream",
     "text": [
      "Q_TTSEM_NOMBRE:\n",
      "* Mon raisonnement : Je dois rechercher dans le texte fourni le nombre maximal de jours de télétravail par semaine. Ce nombre doit être exprimé explicitement dans un paragraphe contenant le mot-clé « semaine » ou une notion de fréquence, ou de volume par semaine et concernant le nombre de jour de télétravail proposé, autorisé ou limité. Je dois ignorer les paragraphes qui relatent d'indemnisation par jour de télétravail, ni le télétravail ponctuel ou occasionnel et toute information sur le nombre de jour de télétravail par année, mois ou trimestre ou forfait par année, mois ou trimestre.\n",
      "* Mes trouvailles :\n",
      "    * \"Un exemplaire signé du présent accord sera remis à chaque signataire.\"\n",
      "    * \"L’accord sera diffusé via intranet et mis à la disposition de l’ensemble du personnel lorsqu’il aura été agréé.\"\n",
      "    * \"Le présent accord sera transmis aux organisations syndicales présentes dans l’organisme ainsi qu’au Comité social et économique.\"\n",
      "* Ma réponse : nombrejourdeteletravailmaxparsemaine=0\n",
      "* Mon indice de confiance : 90%. Bien que je n'aie pas trouvé de paragraphe correspondant à mes critères de recherche, mon indice de confiance reste élevé car le texte ne contient aucune indication sur le nombre de jours de télétravail par semaine.\n",
      "\n",
      "47 T00621004760\n"
     ]
    },
    {
     "name": "stderr",
     "output_type": "stream",
     "text": [
      "Setting `pad_token_id` to `eos_token_id`:2 for open-end generation.\n",
      "Created a chunk of size 10412, which is longer than the specified 5000\n"
     ]
    },
    {
     "name": "stdout",
     "output_type": "stream",
     "text": [
      "Q_TTSEM_NOMBRE:### Mon raisonnement :\n",
      "Je vais rechercher dans le texte toutes les occurrences du mot \"semaine\" associé au nombre de jours de télétravail proposé, autorisé ou limité. Je vais ignorer les passages qui concernent l'indemnisation par jour de télétravail, le télétravail ponctuel ou occasionnel, et les informations sur le nombre de jours de télétravail par année, mois ou trimestre.\n",
      "\n",
      "### Mes trouvailles :\n",
      "* Article 2.3.2 : \"Dans ce cas la journée de télétravail pourra être déplacée Au sein de la même semaine (en changeant la journée de télétravail de mardi pour la journée de jeudi ou inversement)\"\n",
      "* Article 2.3.2 : \"Dans ce cas la journée de télétravail pourra être déplacée Au plus tard la semaine suivante.\"\n",
      "* Article 2.3.2 : \"ce report sur la semaine suivante ne pourra aboutir à plus de deux jours de télétravail sur la semaine considérée.\"\n",
      "* Article 2.4 : \"Le jour de la semaine télétravaillé\"\n",
      "* Article 3.1 : \"la période d’adaptation de trois mois\"\n",
      "\n",
      "### Ma réponse :\n",
      "nombrejourdeteletravailmaxparsemaine=2\n",
      "\n",
      "### Mon indice de confiance :\n",
      "0.9\n",
      "\n",
      "48 T07521029992\n"
     ]
    },
    {
     "name": "stderr",
     "output_type": "stream",
     "text": [
      "Setting `pad_token_id` to `eos_token_id`:2 for open-end generation.\n"
     ]
    },
    {
     "name": "stdout",
     "output_type": "stream",
     "text": [
      "Q_TTSEM_NOMBRE:\n",
      "* Mon raisonnement : Je vais rechercher dans le texte les paragraphes qui comportent le mot-clé \"semaine\" ou une notion de fréquence, ou de volume par semaine et qui concernent le nombre de jour de télétravail proposé, autorisé ou limité. Je ne tiendrai pas compte des paragraphes qui relatent d'indemnisation par jour de télétravail, ni le télétravail ponctuel ou occasionnel et j'ignorerai les informations sur le nombre de jour de télétravail par [\"année\", \"mois\", \"trimestre\"] ou forfait par [\"année\", \"mois\", \"trimestre\"].\n",
      "* Mes trouvailles : Dans le texte, je n'ai pas trouvé de paragraphe qui corresponde à ma recherche.\n",
      "* Ma réponse : nombrejourdeteletravailmaxparsemaine=0\n",
      "* Mon indice de confiance : 100%\n",
      "\n",
      "49 T05721004723\n"
     ]
    },
    {
     "name": "stderr",
     "output_type": "stream",
     "text": [
      "Setting `pad_token_id` to `eos_token_id`:2 for open-end generation.\n"
     ]
    },
    {
     "name": "stdout",
     "output_type": "stream",
     "text": [
      "Q_TTSEM_NOMBRE:\n",
      "Mon raisonnement :\n",
      "\n",
      "Je vais rechercher dans le texte les occurrences où il est fait mention du nombre de jours de télétravail par semaine. Je vais ignorer toutes les mentions de télétravail qui ne sont pas associées à une notion de semaine, tels que les forfaits annuels, trimestriels ou mensuels, ainsi que les mentions de télétravail ponctuel ou occasionnel.\n",
      "\n",
      "Mes trouvailles :\n",
      "\n",
      "* \"Au 1er juin 2021, tous les collaborateurs pourront bénéficier de 2 jours / semaine de travail à distance.\"\n",
      "\n",
      "Ma réponse :\n",
      "\n",
      "nombrejourdeteletravailmaxparsemaine=2\n",
      "\n",
      "Mon indice de confiance :\n",
      "\n",
      "0.9\n",
      "\n",
      "50 T09221026359\n"
     ]
    },
    {
     "name": "stderr",
     "output_type": "stream",
     "text": [
      "Setting `pad_token_id` to `eos_token_id`:2 for open-end generation.\n"
     ]
    },
    {
     "name": "stdout",
     "output_type": "stream",
     "text": [
      "Q_TTSEM_NOMBRE:\n",
      "Mon raisonnement :\n",
      "Je dois trouver dans le texte une indication du nombre maximal de jours de télétravail par semaine. Je dois donc trouver une expression qui lie le télétravail et la semaine. Ensuite, je dois identifier clairement une valeur numérique associée à cette expression.\n",
      "\n",
      "Mes trouvailles :\n",
      "- \"Le télétravail régulier suppose à minima une journée en télétravail par semaine, sans pouvoir excéder trois jours de télétravail par semaine.\"\n",
      "\n",
      "Ma réponse :\n",
      "nombrejourdeteletravailmaxparsemaine=3\n",
      "\n",
      "Mon indice de confiance :\n",
      "100%\n",
      "\n",
      "51 T03121008941\n"
     ]
    },
    {
     "name": "stderr",
     "output_type": "stream",
     "text": [
      "Setting `pad_token_id` to `eos_token_id`:2 for open-end generation.\n"
     ]
    },
    {
     "name": "stdout",
     "output_type": "stream",
     "text": [
      "Q_TTSEM_NOMBRE:### Mon raisonnement :\n",
      "Je dois trouver dans le contexte une indication du nombre maximal de jours de télétravail par semaine. Je dois ignorer les mentions de jours de télétravail exprimés en année, mois ou trimestre, et ignorer les mentions de jours de télétravail ponctuels ou occasionnels.\n",
      "\n",
      "### Mes trouvailles :\n",
      "* \"Le nombre de jour de télétravail ne pourra excéder 2 jours par semaine\"\n",
      "\n",
      "### Ma réponse :\n",
      "nombrejourdeteletravailmaxparsemaine=2\n",
      "\n",
      "### Mon indice de confiance :\n",
      "0.9\n",
      "\n",
      "---\n",
      "\n",
      "52 T06821004734\n"
     ]
    },
    {
     "name": "stderr",
     "output_type": "stream",
     "text": [
      "Setting `pad_token_id` to `eos_token_id`:2 for open-end generation.\n"
     ]
    },
    {
     "name": "stdout",
     "output_type": "stream",
     "text": [
      "Q_TTSEM_NOMBRE:### Mon raisonnement :\n",
      "Je vais lire attentivement chaque document fourni et rechercher les paragraphes qui comportent le mot-clé \"semaine\" ou une notion de fréquence, ou de volume par semaine et qui concernent le nombre de jour de télétravail proposé, autorisé ou limité. Je ne tiendrai pas compte des paragraphes qui relatent d'indemnisation par jour de télétravail, ni le télétravail ponctuel ou occasionnel et j'ignorerai les informations sur le nombre de jour de télétravail par année, mois, trimestre ou forfait par année, mois, trimestre. Si je trouve une valeur explicite pour le nombre maximal de jours de télétravail par semaine, je l'affecterai à la variable \"nombrejourdeteletravailmaxparsemaine\". Sinon, je retournerai cette variable valant 0.\n",
      "\n",
      "### Mes trouvailles :\n",
      "* Article 8 : \"Le nombre maximal de jours de télétravail est fixé annuellement et de façon forfaitaire. Il est également pondéré en fonction du temps de travail de chaque salarié comme suit : Nombre de jours calculé sur la base d’une moyenne de 3 jours de télétravail par mois et par équivalent temps plein, sur 10 mois à l’année (déduction faite des 5 semaines de congés payés, des jours de crédit d’heures, de réunion d’équipe et de formation). Les jours de télétravail seront proratisés pour les salariés à temps partiel de la manière suivante : 30 / 100 x 60 = 18.\"\n",
      "\n",
      "### Ma réponse :\n",
      "nombrejourdeteletravailmaxparsemaine=3\n",
      "\n",
      "### Mon indice de confiance :\n",
      "0.9\n",
      "\n",
      "### Réponse :\n",
      "nombrejourdeteletravailmaxparsemaine=3\n",
      "\n",
      "53 T08421002482\n"
     ]
    },
    {
     "name": "stderr",
     "output_type": "stream",
     "text": [
      "Setting `pad_token_id` to `eos_token_id`:2 for open-end generation.\n"
     ]
    },
    {
     "name": "stdout",
     "output_type": "stream",
     "text": [
      "Q_TTSEM_NOMBRE:\n",
      "* Mon raisonnement : Je dois trouver dans le texte une indication du nombre maximal de jours de télétravail par semaine. Pour cela, je vais me concentrer sur les parties du texte qui parlent spécifiquement du télétravail régulier, car le télétravail occasionnel n'a pas de limite hebdomadaire. Je vais aussi ignorer les parties du texte qui parlent de l'indemnisation ou des forfaits par année, mois ou trimestre, car ils ne sont pas pertinents pour ma recherche.\n",
      "* Mes trouvailles : \"Le nombre de jours de télétravail ne pourra pas être supérieur à 2 jours par semaine pour un temps plein.\"\n",
      "* Ma réponse : nombrejourdeteletravailmaxparsemaine=2\n",
      "* Mon indice de confiance : 100%\n",
      "\n",
      "54 T09221023213\n"
     ]
    },
    {
     "name": "stderr",
     "output_type": "stream",
     "text": [
      "Setting `pad_token_id` to `eos_token_id`:2 for open-end generation.\n"
     ]
    },
    {
     "name": "stdout",
     "output_type": "stream",
     "text": [
      "Q_TTSEM_NOMBRE:* Mon raisonnement : Je dois trouver dans le texte une indication du nombre maximal de jours de télétravail par semaine. Pour cela, je vais rechercher les mots \"semaine\" et \"télétravail\" dans le même paragraphe. Ensuite, je vérifierai que l'on parle bien du nombre de jours de télétravail et non d'indemnisation ou de télétravail occasionnel.\n",
      "* Mes trouvailles :\n",
      "    - \"En effet, le calendrier 2021 prévoit la poursuite de la négociation sur les thèmes tels que l’organisation du travail en mode hybridé présentiel / télétravail, déconnexion, **nombre de jours en télétravail**, etc...\"\n",
      "    - \"Tant que les pouvoirs publics préconiseront un recours massif au télétravail, Mutex accordera une allocation forfaitaire calculée au prorata du temps télétravaillé. Ce dernier aura comme référence le **mois**.\"\n",
      "* Ma réponse : nombrejourdeteletravailmaxparsemaine=5\n",
      "* Mon indice de confiance : 80%. Bien que le texte mentionne le \"nombre de jours en télétravail\", il ne précise pas explicitement le nombre maximal de jours par semaine. Cependant, comme il y a cinq jours ouvrés dans une semaine, je suppose que le nombre maximal de jours de télétravail par semaine est cinq.\n",
      "\n",
      "55 T09221025050\n"
     ]
    },
    {
     "name": "stderr",
     "output_type": "stream",
     "text": [
      "Setting `pad_token_id` to `eos_token_id`:2 for open-end generation.\n"
     ]
    },
    {
     "name": "stdout",
     "output_type": "stream",
     "text": [
      "Q_TTSEM_NOMBRE:### Mon raisonnement :\n",
      "Je vais rechercher dans le texte les occurrences du mot \"semaine\" associé au télétravail et au nombre de jours de télétravail. Je vais ignorer les passages qui concernent les indemnisations ou le télétravail occasionnel.\n",
      "\n",
      "### Mes trouvailles :\n",
      "* \"une répartition hebdomadaire au sein de l’équipe des jours d’exercice de l’activité en télétravail\"\n",
      "* \"des échanges réguliers relatifs au télétravail entre le collaborateur et l’encadrant qui devront être planifiés, tout au long de la période d’essai qui s’inscrit dans le cadre du processus d’intégration.\"\n",
      "* \"La présence physique simultanée de tous les membres de leur équipe, sur site, certains jours, en adéquation avec le bon fonctionnement des services.\"\n",
      "* \"Dans le cadre de ce dispositif, la sanctuarisation de temps “forts” (de l’entreprise, de Direction, d’équipe, de Direction, etc.) doit être une priorité.\"\n",
      "\n",
      "### Ma réponse :\n",
      "nombrejourdeteletravailmaxparsemaine=5\n",
      "\n",
      "### Mon indice de confiance :\n",
      "0.8\n",
      "\n",
      "56 T03121008136\n"
     ]
    },
    {
     "name": "stderr",
     "output_type": "stream",
     "text": [
      "Setting `pad_token_id` to `eos_token_id`:2 for open-end generation.\n"
     ]
    },
    {
     "name": "stdout",
     "output_type": "stream",
     "text": [
      "Q_TTSEM_NOMBRE:\n",
      "Mon raisonnement :\n",
      "\n",
      "* Je recherche dans le contexte toutes les occurrences du mot \"semaine\" associé au télétravail.\n",
      "* J'extrais ensuite le nombre maximal de jours de télétravail par semaine.\n",
      "\n",
      "Mes trouvailles :\n",
      "\n",
      "* \"Les jours de télétravail seront fixés selon les modalités suivantes : un jour maximum par semaine.\" (Article 9)\n",
      "\n",
      "Ma réponse :\n",
      "\n",
      "* nombrejourdeteletravailmaxparsemaine=1\n",
      "\n",
      "Mon indice de confiance :\n",
      "\n",
      "* 100 %\n",
      "\n",
      "57 T09221024009\n"
     ]
    },
    {
     "name": "stderr",
     "output_type": "stream",
     "text": [
      "Setting `pad_token_id` to `eos_token_id`:2 for open-end generation.\n"
     ]
    },
    {
     "name": "stdout",
     "output_type": "stream",
     "text": [
      "Q_TTSEM_NOMBRE:\n",
      "* Mon raisonnement : Je dois trouver dans le texte une indication du nombre maximal de jours de télétravail par semaine proposé, autorisé ou limité par l'entreprise. Ce nombre doit être explicite et non déduit par proratisation ou par déduction d'autres périodes que la semaine.\n",
      "* Mes trouvailles : \"Pour autant, les parties partagent le fait que les conditions ergonomiques ne sont pas autant satisfaisantes que sur le lieu de travail habituel au sein des locaux de l’entreprise. C’est pourquoi, les parties conviennent d’une participation d’IFP Training, sous la forme d’un remboursement de frais à hauteur de 80 euros TTC maximum pour l’achat d’un siège ergonomique ou d’une table- bureau, participation limitée à une fois par salarié.\"\n",
      "* Ma réponse : nombrejourdeteletravailmaxparsemaine=0\n",
      "* Mon indice de confiance : 100%\n",
      "\n",
      "58 T09221025668\n"
     ]
    },
    {
     "name": "stderr",
     "output_type": "stream",
     "text": [
      "Setting `pad_token_id` to `eos_token_id`:2 for open-end generation.\n"
     ]
    },
    {
     "name": "stdout",
     "output_type": "stream",
     "text": [
      "Q_TTSEM_NOMBRE:\n",
      "* Mon raisonnement : Je vais rechercher dans le texte les occurrences du mot \"semaine\" et voir si elles sont associées au nombre de jours de télétravail. Je vais ignorer les passages qui concernent l'indemnisation ou le télétravail ponctuel/occasionnel, et je ne tiendrai compte que des jours de télétravail par semaine explicites.\n",
      "* Mes trouvailles : \"l’activité en télétravail ne pourra excéder Une journée complète par semaine pour les salariés éligibles au télétravail, à temps partiel Une à deux journées complètes maximum par semaine pour les autres salariés éligibles au télétravail.\"\n",
      "* Ma réponse : nombrejourdeteletravailmaxparsemaine=2\n",
      "* Mon indice de confiance : 90%\n",
      "\n",
      "59 T06021003016\n"
     ]
    },
    {
     "name": "stderr",
     "output_type": "stream",
     "text": [
      "Setting `pad_token_id` to `eos_token_id`:2 for open-end generation.\n"
     ]
    },
    {
     "name": "stdout",
     "output_type": "stream",
     "text": [
      "Q_TTSEM_NOMBRE:### Mon raisonnement :\n",
      "Je dois trouver dans le texte une indication du nombre maximal de jours de télétravail par semaine. Je dois donc trouver une phrase contenant le mot \"semaine\" et qui indique le nombre de jours de télétravail possible. Je dois ensuite extraire le nombre de jours de télétravail par semaine et l'affecter à la variable \"nombrejourdeteletravailmaxparsemaine\".\n",
      "\n",
      "### Mes trouvailles :\n",
      "* \"Le télétravail régulier peut être organisé à raison de 2 jours maximum par semaine entière de 5 jours ouvrés.\"\n",
      "\n",
      "### Ma réponse :\n",
      "nombrejourdeteletravailmaxparsemaine=2\n",
      "\n",
      "### Mon indice de confiance :\n",
      "100%\n",
      "\n",
      "60 T06821004760\n"
     ]
    },
    {
     "name": "stderr",
     "output_type": "stream",
     "text": [
      "Setting `pad_token_id` to `eos_token_id`:2 for open-end generation.\n"
     ]
    },
    {
     "name": "stdout",
     "output_type": "stream",
     "text": [
      "Q_TTSEM_NOMBRE:### Mon raisonnement :\n",
      "Je dois trouver dans le contexte une indication du nombre maximal de jours de télétravail par semaine proposé, autorisé ou limité dans le cadre d'un télétravail régulier. Je dois ignorer les informations sur le nombre de jour de télétravail par année, mois ou trimestre, et les informations sur l'indemnisation par jour de télétravail, ainsi que les informations sur le télétravail ponctuel ou occasionnel.\n",
      "\n",
      "### Mes trouvailles :\n",
      "* \"Chaque responsable hiérarchique veillera à ce que les salariés en télétravail soient bien informés des conditions d’exercice du télétravail notamment s’agissant de la durée du travail, de l’utilisation du matériel et des temps de repos. Il sera organisé à cet égard des entretiens périodiques et au moins une fois par an afin de vérifier l’adéquation de la charge de travail du salarié avec une vie personnelle équilibrée. Il vérifiera également, lors de ces entretiens, l’atteinte des objectifs qui sont fixés au salarié et s’assurera que le fonctionnement et la qualité du service ne sont pas impactés par le télétravail.\"\n",
      "* \"Le suivi du temps de travail est assuré par l’Entreprise via le système de pointage mis en œuvre.\"\n",
      "* \"Le télétravail est subordonné à l’accord du manager, à la fois sur le principe et sur les modalités d’organisation du télétravail.\"\n",
      "* \"Le salarié qui exprime le désir d’opter pour le télétravail en informe son responsable hiérarchique et lui adresse une demande écrite avec copie au département des Ressources Humaines. Cette demande doit être établie par écrit.\"\n",
      "* \"Afin de mesurer l’ensemble des impacts, il sera proposé au salarié candidat au télétravail, un questionnaire destiné à l’aider à se projeter dans ce nouveau mode d’organisation du travail. Les réponses à ce questionnaire seront étudiées par le manager et lui permettront d’accéder ou non à la demande du salarié. Celle-ci sera appréciée en fonction de critères objectifs, des profils les plus adéquats, des conditions d’éligibilité et de la compatibilité avec le bon fonctionnement du service. Les services informatiques peuvent également et le cas échéant être sollicités notamment sur des questions de faisabilité technique.\"\n",
      "\n",
      "### Ma réponse :\n",
      "nombrejourdeteletravailmaxparsemaine=5\n",
      "\n",
      "### Mon indice de confiance :\n",
      "0.9\n",
      "\n",
      "61 T07821008551\n"
     ]
    },
    {
     "name": "stderr",
     "output_type": "stream",
     "text": [
      "Setting `pad_token_id` to `eos_token_id`:2 for open-end generation.\n"
     ]
    },
    {
     "name": "stdout",
     "output_type": "stream",
     "text": [
      "Q_TTSEM_NOMBRE:\n",
      "Mon raisonnement :\n",
      "\n",
      "Je vais rechercher dans le texte toutes les occurrences du mot \"semaine\" associé au télétravail et qui précisent le nombre de jours de télétravail possible par semaine. Je vais ignorer les passages qui parlent d'indemnisation ou de télétravail ponctuel ou occasionnel, ainsi que les informations sur le nombre de jours de télétravail par année, mois ou trimestre.\n",
      "\n",
      "Mes trouvailles :\n",
      "\n",
      "* \"De manière générale, le télétravail s’exerce à raison de deux journées fixes par semaine maximum.\"\n",
      "* \"Dès l’embauche, le télétravail peut s’exercer à raison d’une journée entière fixe par semaine, pour une période de 6 mois,\"\n",
      "* \"Pour les collaborateurs au statut Cadre au forfait, le jour en télétravail peut être éventuellement non fixé à l’avance. Il appartient alors au manager, en raison de l’organisation du service, de déterminer l’organisation du télétravail pour ce collaborateur. Si le collaborateur télé-travaille un jour ou deux jours flottants par semaine, il convient qu’il télé-travaille un ou deux jours chaque semaine. A défaut, les jours non télé-travaillés ne pourront être reportés sur les semaines suivantes.\"\n",
      "* \"En cas d’impossibilité pour un collaborateur de télé-travailler lors du jour prévu, le télétravailleur ne pourra pas reporter sa journée de télétravail sur les semaines suivantes.\"\n",
      "\n",
      "Ma réponse :\n",
      "\n",
      "nombrejourdeteletravailmaxparsemaine=2\n",
      "\n",
      "Mon indice de confiance :\n",
      "\n",
      "0.8\n",
      "\n",
      "62 T09521004176\n"
     ]
    },
    {
     "name": "stderr",
     "output_type": "stream",
     "text": [
      "Setting `pad_token_id` to `eos_token_id`:2 for open-end generation.\n"
     ]
    },
    {
     "name": "stdout",
     "output_type": "stream",
     "text": [
      "Q_TTSEM_NOMBRE:### Mon raisonnement :\n",
      "Je vais rechercher dans le texte tous les passages qui contiennent le mot \"semaine\" et qui parlent du nombre de jours de télétravail. Je vais ensuite en extraire le nombre de jours de télétravail maximum par semaine.\n",
      "\n",
      "### Mes trouvailles :\n",
      "* \"Le télétravail régulier peut-être de 1 ou de 2 jours par semaine.\"\n",
      "* \"Il peut être porté à un maximum de 3 jours par semaine pour des salariés en forte autonomie de travail\"\n",
      "\n",
      "### Ma réponse :\n",
      "nombrejourdeteletravailmaxparsemaine=3\n",
      "\n",
      "### Mon indice de confiance :\n",
      "90%. J'ai trouvé deux occurrences du nombre de jours de télétravail maximum par semaine, mais je n'ai pas pu exclure totalement les cas de télétravail occasionnel ou ponctuel.\n",
      "\n",
      "63 T59V21001231\n"
     ]
    },
    {
     "name": "stderr",
     "output_type": "stream",
     "text": [
      "Setting `pad_token_id` to `eos_token_id`:2 for open-end generation.\n"
     ]
    },
    {
     "name": "stdout",
     "output_type": "stream",
     "text": [
      "Q_TTSEM_NOMBRE:\n",
      "* Mon raisonnement : Je dois trouver dans le texte une indication du nombre maximal de jours de télétravail par semaine. Pour cela, je vais me concentrer sur les paragraphes qui parlent explicitement de la semaine et du télétravail.\n",
      "* Mes trouvailles : \"Le lieu de télétravail est la résidence principale du salarié (c’est-à-dire celle dont l’adresse figure sur le bulletin de paie). Néanmoins, dès lors que l’entreprise permettrait d’accéder à des espaces de co-working, le télétravail y serait également possible, notamment pour les salariés ne disposant pas d’un environnement propice au travail à leur domicile.\"\n",
      "\"La direction convient que le télétravail est fondé sur la capacité du salarié à exercer ses fonctions de façon autonome et implique que l’activité du salarié puisse être exercée à distance. Il nécessite certaines aptitudes individuelles et des qualités professionnelles telles que la gestion du temps de travail et une bonne maîtrise des applications informatiques indispensables à son activité.\"\n",
      "\"Le salarié est également libre d'accepter ou de refuser le télétravail.\"\n",
      "\"Le télétravail n’est ni un droit ni une obligation et sa mise en œuvre répond à certaines conditions.\"\n",
      "\"Le télétravail doit reposer sur des relations de travail fondées sur la responsabilité, l’autonomie et la confiance. Le télétravail ne saurait être un outil permettant de gérer d’éventuelles difficultés d’organisation du travail ou de conditions de travail.\"\n",
      "* Ma réponse : nombrejourdeteletravailmaxparsemaine=5\n",
      "* Mon indice de confiance : 100%\n",
      "\n",
      "64 T08821002242\n"
     ]
    },
    {
     "name": "stderr",
     "output_type": "stream",
     "text": [
      "Setting `pad_token_id` to `eos_token_id`:2 for open-end generation.\n"
     ]
    },
    {
     "name": "stdout",
     "output_type": "stream",
     "text": [
      "Q_TTSEM_NOMBRE:* Mon raisonnement : Je vais rechercher dans le texte les paragraphes qui comportent le mot-clé \"semaine\" ou une notion de fréquence, ou de volume par semaine et qui concernent le nombre de jour de télétravail proposé, autorisé ou limité. J'identifierai ensuite le maximum de ces éventuelles réponses dans une variable 'nombrejourdeteletravailmaxparsemaine'.\n",
      "* Mes trouvailles : \"Le nombre de jours maximum en télétravail est fixé à 2 jours par semaine pour un collaborateur à temps plein.\"\n",
      "* Ma réponse : nombrejourdeteletravailmaxparsemaine=2\n",
      "* Mon indice de confiance : 100%\n",
      "\n",
      "65 T04421010974\n"
     ]
    },
    {
     "name": "stderr",
     "output_type": "stream",
     "text": [
      "Setting `pad_token_id` to `eos_token_id`:2 for open-end generation.\n"
     ]
    },
    {
     "name": "stdout",
     "output_type": "stream",
     "text": [
      "Q_TTSEM_NOMBRE:### Mon raisonnement :\n",
      "Je vais lire attentivement chaque paragraphe pour rechercher une indication de fréquence ou de volume de télétravail par semaine. Je ne tiendrai compte que des paragraphes qui mentionnent explicitement le mot \"semaine\" ou une notion équivalente, et qui concernent le nombre de jours de télétravail proposé, autorisé ou limité. Je ne prendrai pas en compte les informations relatives à l'indemnisation par jour de télétravail, ni au télétravail ponctuel ou occasionnel. De plus, je ne considérerai que les jours de télétravail par semaine et ignorerai ceux exprimés en année, mois ou trimestre, ou en forfait par année, mois ou trimestre.\n",
      "\n",
      "### Mes trouvailles :\n",
      "* Article 11 – Choix des jours de télétravail : \"Le télétravail doit être exercé par jour entier. Cependant, il est possible de déroger à ce principe pour les salariés ayant un temps de travail amenant à la réalisation de demi-journées de travail. Il sera possible dans ce cas d’accorder le télétravail par demi-journée sous réserve que l’agent respecte le temps minimum de présence de 3 jours sur site le reste de la semaine.\"\n",
      "\n",
      "### Ma réponse :\n",
      "nombrejourdeteletravailmaxparsemaine=3\n",
      "\n",
      "### Mon indice de confiance :\n",
      "0.9\n",
      "\n",
      "### EXPLICATIONS :\n",
      "J'ai trouvé une indication dans l'article 11 – Choix des jours de télétravail, qui stipule que les salariés doivent respecter un temps minimum de présence de 3 jours sur site le reste de la semaine. Cela signifie qu'ils peuvent télétravailler jusqu'à 2 jours par semaine, ce qui correspond à mon indice de confiance de 0.9.\n",
      "\n",
      "66 T09221023345\n"
     ]
    },
    {
     "name": "stderr",
     "output_type": "stream",
     "text": [
      "Setting `pad_token_id` to `eos_token_id`:2 for open-end generation.\n"
     ]
    },
    {
     "name": "stdout",
     "output_type": "stream",
     "text": [
      "Q_TTSEM_NOMBRE:\n",
      "* Mon raisonnement : Je vais rechercher dans le texte les occurrences du mot \"semaine\" et examiner les phrases où il apparaît pour déterminer si elles concernent le nombre de jours de télétravail proposé, autorisé ou limité.\n",
      "* Mes trouvailles : \"Le télétravail sera mis en œuvre par journée entière de travail, dans la limite de deux jours par semaine.\"\n",
      "* Ma réponse : nombrejourdeteletravailmaxparsemaine=2\n",
      "* Mon indice de confiance : 90%\n",
      "\n",
      "67 T09221027087\n"
     ]
    },
    {
     "name": "stderr",
     "output_type": "stream",
     "text": [
      "Setting `pad_token_id` to `eos_token_id`:2 for open-end generation.\n"
     ]
    },
    {
     "name": "stdout",
     "output_type": "stream",
     "text": [
      "Q_TTSEM_NOMBRE:\n",
      "* Mon raisonnement : Je vais rechercher dans le texte tous les passages qui parlent du nombre de jours de télétravail par semaine. Je vais ignorer les passages qui ne parlent pas spécifiquement de la semaine, ou qui concernent des indemnisations ou des télétravail ponctuels ou occasionnels.\n",
      "* Mes trouvailles : \"La détermination des jours de télétravail sera décidée entre le manager et le Salarié dans l'intérêt de la bonne marche du service ou de l'équipe.\" (ce passage ne précise pas de limite hebdomadaire) ; \"les cadres dirigeants, l’autonomie dont ils disposent dans l’organisation de leur temps de travail s’accompagne de la faculté de déterminer eux-mêmes les jours de télétravail en veillant à respecter les besoins de leur équipe ainsi que ceux nécessaires au bon fonctionnement du service\" (ce passage ne précise pas de limite hebdomadaire) ; \"Le Télétravailleur pourra être amené à renoncer à sa/ses journée(s) de télétravail notamment pour des projets particuliers (compétitions, briefs, présentation aux clients, etc…)\" (ce passage ne précise pas de limite hebdomadaire) ; \"La durée du travail, les horaires de travail qui seraient applicables au Salarié et les temps de repos (notamment le repos quotidien et le repos hebdomadaire) s’inscrivent, pendant les jours de télétravail, dans le cadre de l’organisation du temps de travail individuellement applicable au Salarié.\" (ce passage ne précise pas de limite hebdomadaire) ; \"Le télétravail ne saurait avoir pour conséquence de modifier ni l’horaire habituel, ni l’amplitude de travail effectif applicable en temps normal, lorsque le Salarié effectue son activité au sein des locaux de l’entreprise.\" (ce passage ne précise pas de limite hebdomadaire) ; \"Le Salarié en télétravail doit organiser son activité durant les jours de télétravail de sorte à respecter la prise d’un repos quotidien (entre deux journées de travail) de 11 heures minimales et la prise d’un repos hebdomadaire de 35 heures minimales incluant le repos quotidien (24 heures + 11 heures).\" (ce passage précise que le repos hebdomadaire est de 35 heures minimum, ce qui implique que le nombre maximal de jours de télétravail par semaine est de 4)\n",
      "* Ma réponse : nombrejourdeteletravailmaxparsemaine=4\n",
      "* Mon indice de confiance : 90%\n",
      "\n",
      "68 T07821008583\n"
     ]
    },
    {
     "name": "stderr",
     "output_type": "stream",
     "text": [
      "Setting `pad_token_id` to `eos_token_id`:2 for open-end generation.\n"
     ]
    },
    {
     "name": "stdout",
     "output_type": "stream",
     "text": [
      "Q_TTSEM_NOMBRE:\n",
      "* Mon raisonnement : Je dois trouver dans le texte une indication du nombre maximal de jours de télétravail par semaine dans le cadre d'un télétravail régulier. Pour cela, je vais rechercher les occurrences du mot \"semaine\" dans le contexte du télétravail régulier.\n",
      "* Mes trouvailles : \"le salarié devra être physiquement présent dans l’entreprise au moins 2 jours par semaine afin de maintenir le lien social avec l’entreprise et sa communauté de travail\" ; \"le plafond hebdomadaire mentionné ci-dessus devra être respecté ainsi qu’un plafond hebdomadaire de 3 jours\".\n",
      "* Ma réponse : nombrejourdeteletravailmaxparsemaine=3\n",
      "* Mon indice de confiance : 90%\n",
      "\n",
      "69 T04421009405\n"
     ]
    },
    {
     "name": "stderr",
     "output_type": "stream",
     "text": [
      "Setting `pad_token_id` to `eos_token_id`:2 for open-end generation.\n"
     ]
    },
    {
     "name": "stdout",
     "output_type": "stream",
     "text": [
      "Q_TTSEM_NOMBRE:### Mon raisonnement :\n",
      "Je vais rechercher dans le contexte toutes les occurrences où il est fait mention du nombre de jours de télétravail par semaine. Je vais ignorer les passages où il est question de télétravail ponctuel ou occasionnel, ainsi que ceux qui concernent l'indemnisation par jour de télétravail.\n",
      "### Mes trouvailles :\n",
      "* \"Le nombre de jours de télétravail est plafonné à 6 jours par mois.\"\n",
      "* \"Le rythme de télétravail accordé devra permettre minimum 3 jours de présentiel sur site par semaine pour les salariés à temps plein et à temps partiel.\"\n",
      "* \"Le nombre de jours accordés couvre les possibilités de travail à domicile, de manière nomade ou en espace de co-working. Sont exclues de ce décompte les journées intersites imposées par l'activité.\"\n",
      "### Ma réponse :\n",
      "nombrejourdeteletravailmaxparsemaine=6\n",
      "### Mon indice de confiance :\n",
      "0.9\n",
      "\n",
      "---\n",
      "\n",
      "70 T00321001449\n"
     ]
    },
    {
     "name": "stderr",
     "output_type": "stream",
     "text": [
      "Setting `pad_token_id` to `eos_token_id`:2 for open-end generation.\n"
     ]
    },
    {
     "name": "stdout",
     "output_type": "stream",
     "text": [
      "Q_TTSEM_NOMBRE:* Mon raisonnement : Je vais rechercher dans le texte les occurrences du mot \"semaine\" et je vérifierai si elles sont associées au nombre de jours de télétravail. Je me concentrerai uniquement sur les jours de télétravail réguliers et non sur les indemnisations ou les télétravail occasionnels.\n",
      "* Mes trouvailles : \"L’employeur accorde un jour de télétravail par semaine sur la base du volontariat.\"\n",
      "* Ma réponse : nombrejourdeteletravailmaxparsemaine=1\n",
      "* Mon indice de confiance : 90% car l'information est clairement indiquée dans le texte, mais je ne peux pas exclure complètement une ambiguïté possible.\n",
      "\n",
      "71 T59V21001419\n"
     ]
    },
    {
     "name": "stderr",
     "output_type": "stream",
     "text": [
      "Setting `pad_token_id` to `eos_token_id`:2 for open-end generation.\n"
     ]
    },
    {
     "name": "stdout",
     "output_type": "stream",
     "text": [
      "Q_TTSEM_NOMBRE:### Mon raisonnement :\n",
      "Je vais lire attentivement chaque document fourni et rechercher les paragraphes contenant le mot-clé \"semaine\" ou une notion de fréquence associée au télétravail. Je ne tiendrai compte que des occurrences concernant le nombre de jours de télétravail régulier proposé, autorisé ou limité, et je les comparerai pour déterminer le maximum possible.\n",
      "\n",
      "### Mes trouvailles :\n",
      "* Dans le premier document, il n'y a pas de mention explicite du nombre de jours de télétravail par semaine.\n",
      "* Dans le deuxième document, il n'y a pas non plus de mention explicite du nombre de jours de télétravail par semaine.\n",
      "* Dans le troisième document, il n'y a pas non plus de mention explicite du nombre de jours de télétravail par semaine.\n",
      "\n",
      "### Ma réponse :\n",
      "nombrejourdeteletravailmaxparsemaine=0\n",
      "\n",
      "### Mon indice de confiance :\n",
      "0/10 - Aucune information explicite sur le nombre de jours de télétravail par semaine n'a été trouvée dans les documents fournis.\n",
      "\n",
      "72 T07521028253\n"
     ]
    },
    {
     "name": "stderr",
     "output_type": "stream",
     "text": [
      "Setting `pad_token_id` to `eos_token_id`:2 for open-end generation.\n"
     ]
    },
    {
     "name": "stdout",
     "output_type": "stream",
     "text": [
      "Q_TTSEM_NOMBRE:\n",
      "* Mon raisonnement : Je dois rechercher dans le contexte fourni les occurrences où il est fait mention du nombre de jours de télétravail par semaine. Cependant, je dois ignorer les passages qui concernent l'indemnisation par jour de télétravail, le télétravail ponctuel ou occasionnel, et les informations sur le nombre de jour de télétravail par année, mois, ou trimestre, ou sous forme de forfait par année, mois, ou trimestre.\n",
      "* Mes trouvailles : Dans le contexte fourni, il est stipulé que « la direction demande que le salarié télétravailleur dispose d'au moins 3 jours de présence par semaine dans l'entreprise ». Par conséquent, un salarié doit être présent sur site pendant au moins trois jours par semaine, ce qui implique qu'il peut télétravailler pendant au maximum deux jours par semaine.\n",
      "* Ma réponse : nombrejourdeteletravailmaxparsemaine=2\n",
      "* Mon indice de confiance : 90%\n",
      "\n",
      "73 T05121003407\n"
     ]
    },
    {
     "name": "stderr",
     "output_type": "stream",
     "text": [
      "Setting `pad_token_id` to `eos_token_id`:2 for open-end generation.\n"
     ]
    },
    {
     "name": "stdout",
     "output_type": "stream",
     "text": [
      "Q_TTSEM_NOMBRE:\n",
      "* Mon raisonnement : Je dois trouver dans le texte la mention d'un nombre maximal de jours de télétravail par semaine. Pour cela, je vais rechercher les occurrences des mots \"semaine\", \"jour\", \"télétravail\" et \"maximum\".\n",
      "* Mes trouvailles : \"Les jours télé-travaillés ne peuvent être supérieurs à 4 jours par semaine,\"\n",
      "* Ma réponse : nombrejourdeteletravailmaxparsemaine=4\n",
      "* Mon indice de confiance : 100%\n",
      "\n",
      "74 T01321010151\n"
     ]
    },
    {
     "name": "stderr",
     "output_type": "stream",
     "text": [
      "Setting `pad_token_id` to `eos_token_id`:2 for open-end generation.\n"
     ]
    },
    {
     "name": "stdout",
     "output_type": "stream",
     "text": [
      "Q_TTSEM_NOMBRE:\n",
      "Mon raisonnement :\n",
      "\n",
      "Je vais rechercher dans le texte toutes les occurrences du mot \"semaine\" associé à une notion de fréquence, de volume ou de limitation du nombre de jours de télétravail. Je vais ignorer les passages qui concernent l'indemnisation par jour de télétravail, le télétravail ponctuel ou occasionnel, et les informations sur le nombre de jours de télétravail par année, mois ou trimestre.\n",
      "\n",
      "Mes trouvailles :\n",
      "\n",
      "* \"Chaque salarié éligible au télétravail pourra en bénéficier dans la limite d’un jour par semaine.\"\n",
      "\n",
      "Ma réponse :\n",
      "\n",
      "nombrejourdeteletravailmaxparsemaine=1\n",
      "\n",
      "Mon indice de confiance :\n",
      "\n",
      "0.9\n",
      "\n",
      "75 T09221026340\n"
     ]
    },
    {
     "name": "stderr",
     "output_type": "stream",
     "text": [
      "Setting `pad_token_id` to `eos_token_id`:2 for open-end generation.\n"
     ]
    },
    {
     "name": "stdout",
     "output_type": "stream",
     "text": [
      "Q_TTSEM_NOMBRE:\n",
      "Mon raisonnement :\n",
      "\n",
      "* Je recherche dans le contexte les paragraphes qui contiennent le mot-clé \"semaine\" ou une notion de fréquence ou de volume par semaine et qui concernent le nombre de jour de télétravail proposé, autorisé ou limité.\n",
      "* Je ne tiens pas compte des paragraphes qui relatent d'indemnisation par jour de télétravail, ni le télétravail ponctuel ou occasionnel.\n",
      "* Je ne tiens pas compte des informations sur le nombre de jour de télétravail par année, mois, trimestre ou forfait par année, mois, trimestre.\n",
      "* Si je trouve plusieurs réponses, je retiens le maximum de ces éventuelles réponses.\n",
      "\n",
      "Mes trouvailles :\n",
      "\n",
      "* Article 5.1 : \"Tout salarié s’inscrivant dans le dispositif de télétravail habituel devra exercer son métier a minima deux (2) jours par semaine sur son Lieu de référence.\"\n",
      "* Article 5.2 : \"Avec l’accord du manager, le salarié peut faire le choix de bénéficier de zéro (0) à trois (3) jours de télétravail par semaine\"\n",
      "\n",
      "Ma réponse :\n",
      "\n",
      "* nombrejourdeteletravailmaxparsemaine=3\n",
      "\n",
      "Mon indice de confiance :\n",
      "\n",
      "* 100% certain\n",
      "\n",
      "76 T97421003113\n"
     ]
    },
    {
     "name": "stderr",
     "output_type": "stream",
     "text": [
      "Setting `pad_token_id` to `eos_token_id`:2 for open-end generation.\n"
     ]
    },
    {
     "name": "stdout",
     "output_type": "stream",
     "text": [
      "Q_TTSEM_NOMBRE:### Mon raisonnement :\n",
      "Je dois trouver dans le contexte fourni une indication du nombre maximal de jours de télétravail par semaine proposé, autorisé ou limité à un employé. Je dois ignorer toutes les mentions de télétravail occasionnel ou ponctuel, ainsi que les indemnisations associées. De plus, je dois ignorer toutes les mentions de jours de télétravail par année, mois ou trimestre, ainsi que les forfaits associés.\n",
      "\n",
      "### Mes trouvailles :\n",
      "* \"Le télétravail s’exercera à raison d’un jour non fractionnable par semaine\"\n",
      "* \"Il définira ces deux jours fixes hebdomadaires de la façon la plus durable possible.\"\n",
      "\n",
      "### Ma réponse :\n",
      "nombrejourdeteletravailmaxparsemaine=1\n",
      "\n",
      "### Mon indice de confiance :\n",
      "0.9\n",
      "\n",
      "### Explication :\n",
      "Je suis certain qu'un employé peut télétravailler jusqu'à 1 jour par semaine, car cela est explicitement mentionné dans le contexte fourni. Cependant, je ne peux pas exclure la possibilité qu'il existe des dispositions supplémentaires permettant un nombre plus élevé de jours de télétravail par semaine, car je ne peux pas exclure la possibilité qu'il existe d'autres documents pertinents qui n'ont pas été fournis dans le contexte.\n",
      "\n",
      "77 T02921004425\n"
     ]
    },
    {
     "name": "stderr",
     "output_type": "stream",
     "text": [
      "Setting `pad_token_id` to `eos_token_id`:2 for open-end generation.\n"
     ]
    },
    {
     "name": "stdout",
     "output_type": "stream",
     "text": [
      "Q_TTSEM_NOMBRE:\n",
      "Mon raisonnement :\n",
      "\n",
      "Je vais rechercher dans le texte les occurrences du mot \"semaine\" dans les paragraphes qui concernent le télétravail. Je vais ignorer les passages qui parlent d'indemnisation par jour de télétravail, de télétravail ponctuel ou occasionnel, et les informations sur le nombre de jour de télétravail par année, mois ou trimestre ou forfait par année, mois ou trimestre.\n",
      "\n",
      "Mes trouvailles :\n",
      "\n",
      "* \"Le nombre de journée de travail est de 4 par mois mais non consécutives\"\n",
      "* \"Un groupe de travail au sein de Thai Union Europe a été mis en place en début d’année 2021. L’objectif de ce groupe de travail est de mettre en place ou faire évoluer les accords de télétravail des différentes entités en tenant compte du retour d’expérience de l’année 2020. Objectif mise en place d’un nouvel accord de télétravail sur le 1er semestre 2021.\"\n",
      "\n",
      "Ma réponse :\n",
      "\n",
      "nombrejourdeteletravailmaxparsemaine=4\n",
      "\n",
      "Mon indice de confiance :\n",
      "\n",
      "0.8/1. Le texte indique que le nombre de journée de travail est de 4 par mois mais non consécutives. Cependant, il ne précise pas si cela correspond à un télétravail régulier ou occasionnel. De plus, le texte mentionne qu'un groupe de travail a été mis en place pour mettre en place un nouvel accord de télétravail, ce qui peut impliquer des modifications dans les modalités de télétravail.\n",
      "\n",
      "78 T01121001341\n"
     ]
    },
    {
     "name": "stderr",
     "output_type": "stream",
     "text": [
      "Setting `pad_token_id` to `eos_token_id`:2 for open-end generation.\n"
     ]
    },
    {
     "name": "stdout",
     "output_type": "stream",
     "text": [
      "Q_TTSEM_NOMBRE:* Mon raisonnement : Je dois rechercher dans le texte s'il existe une indication du nombre maximal de jours de télétravail par semaine. Selon les instructions, je dois ignorer toutes les mentions de jours de télétravail par année, mois ou trimestre, et me concentrer uniquement sur les occurrences où le nombre de jours de télétravail par semaine est explicitement mentionné.\n",
      "* Mes trouvailles : \"la mise en œuvre du télétravail au sein de la MSA Grand Sud est encadrée par l’accord du 3 septembre 2020\"\n",
      "* Ma réponse : nombrejourdeteletravailmaxparsemaine=5\n",
      "* Mon indice de confiance : 80%. Bien que je n'aie pas trouvé directement dans le texte l'expression \"nombre de jours de télétravail par semaine\", j'ai pu déduire qu'il s'agissait de 5 jours grâce à la phrase \"la mise en œuvre du télétravail au sein de la MSA Grand Sud est encadrée par l’accord du 3 septembre 2020\". En effet, selon les instructions, le télétravail à 100% équivaut à 5 jours de télétravail par semaine.\n",
      "\n",
      "79 T09221027244\n"
     ]
    },
    {
     "name": "stderr",
     "output_type": "stream",
     "text": [
      "Setting `pad_token_id` to `eos_token_id`:2 for open-end generation.\n"
     ]
    },
    {
     "name": "stdout",
     "output_type": "stream",
     "text": [
      "Q_TTSEM_NOMBRE:\n",
      "* Mon raisonnement : Je dois trouver dans le contexte une indication du nombre maximal de jours de télétravail par semaine. Pour cela, je vais me concentrer sur les paragraphes qui parlent explicitement du nombre de jours de télétravail par semaine, sans se référer aux autres périodicités (année, mois, trimestre), et sans aborder le sujet de l'indemnisation ou du télétravail ponctuel/occasionnel.\n",
      "* Mes trouvailles : \"Le nombre de jours de télétravail est fixé à 1 par semaine pour tous.\"\n",
      "* Ma réponse : nombrejourdeteletravailmaxparsemaine=1\n",
      "* Mon indice de confiance : 100%\n",
      "\n",
      "80 T07521030172\n"
     ]
    },
    {
     "name": "stderr",
     "output_type": "stream",
     "text": [
      "Setting `pad_token_id` to `eos_token_id`:2 for open-end generation.\n"
     ]
    },
    {
     "name": "stdout",
     "output_type": "stream",
     "text": [
      "Q_TTSEM_NOMBRE:\n",
      "* Mon raisonnement : Je dois rechercher dans le texte fourni s'il existe une indication du nombre maximal de jours de télétravail par semaine. Pour cela, je dois trouver une expression qui contienne le mot \"semaine\" ou une notion de fréquence associée à cette unité de temps. De plus, cette expression doit clairement indiquer le nombre de jours de télétravail possible.\n",
      "\n",
      "* Mes trouvailles : \"L’accord sur le télétravail au domicile au sein de BNP Paribas Securities Services du 12 octobre 2016, modifié par avenants du 3 juillet 2018, du 30 septembre 2019 et du 27 octobre 2020 est prorogé pour une période de trois mois, soit jusqu’au 30 juin 2021.\"\n",
      "\n",
      "* Ma réponse : nombrejourdeteletravailmaxparsemaine=5\n",
      "\n",
      "* Mon indice de confiance : 90%. La réponse est basée sur une phrase unique et non ambigüe. Cependant, il est possible qu'une information pertinente soit présente ailleurs dans le document, mais elle n'a pas été fournie dans le contexte.\n",
      "\n",
      "81 T09221025188\n"
     ]
    },
    {
     "name": "stderr",
     "output_type": "stream",
     "text": [
      "Setting `pad_token_id` to `eos_token_id`:2 for open-end generation.\n"
     ]
    },
    {
     "name": "stdout",
     "output_type": "stream",
     "text": [
      "Q_TTSEM_NOMBRE:### Mon raisonnement :\n",
      "Je dois trouver dans le texte une indication du nombre maximal de jours de télétravail par semaine. Je dois donc trouver une phrase contenant le mot \"semaine\" et qui indique un nombre de jours de télétravail. Je dois ensuite extraire le nombre de jours de télétravail indiqué dans cette phrase.\n",
      "### Mes trouvailles :\n",
      "* \"Le télétravail ne doit pas avoir pour effet d’entraîner un dépassement des durées maximales de temps de travail ou le non-respect des durées minimales de temps de repos. Il appartient conjointement à la Direction et au télétravailleur, en raison de la spécificité de sa situation de travail, de veiller au respect des dispositions légales ou conventionnelles relatives au temps de travail et de repos.\"\n",
      "* \"L’activité des télétravailleurs doit être équivalente à celle des autres travailleurs placés dans une situation identique. Le télétravail ne doit pas entraîner de surcharge de travail. Dès lors, le cas échéant, les objectifs fixés, les résultats attendus et les modalités d’évaluation sont similaires à ceux des salariés ne relevant pas du statut de télétravailleur.\"\n",
      "* \"La hiérarchie et le salarié veilleront à ce qu’un équilibre, proportionné au temps de télétravail, soit assuré entre la charge de travail en entreprise et celle en télétravail.\"\n",
      "* \"Les plages horaires pendant lesquelles le salarié peut habituellement être contacté lorsqu’il est en situation de télétravail correspondent aux horaires de travail applicables au salarié.\"\n",
      "### Ma réponse :\n",
      "nombrejourdeteletravailmaxparsemaine=5\n",
      "### Mon indice de confiance :\n",
      "0.95\n",
      "\n",
      "82 T09221025957\n"
     ]
    },
    {
     "name": "stderr",
     "output_type": "stream",
     "text": [
      "Setting `pad_token_id` to `eos_token_id`:2 for open-end generation.\n"
     ]
    },
    {
     "name": "stdout",
     "output_type": "stream",
     "text": [
      "Q_TTSEM_NOMBRE:* Mon raisonnement : Je dois trouver dans le texte une indication du nombre maximal de jours de télétravail par semaine. Les seules occurrences possibles concernent les mots \"semaine\" ou une notion de fréquence associée. Il faut exclure les mentions relatives aux indemnisations et au télétravail occasionnel.\n",
      "* Mes trouvailles : \"Il cessera de produire définitivement et irrévocablement ses effets à la date du 31 mai 2021.\"\n",
      "* Ma réponse : nombrejourdeteletravailmaxparsemaine=0\n",
      "* Mon indice de confiance : 100%\n",
      "\n",
      "83 T03321006914\n"
     ]
    },
    {
     "name": "stderr",
     "output_type": "stream",
     "text": [
      "Setting `pad_token_id` to `eos_token_id`:2 for open-end generation.\n"
     ]
    },
    {
     "name": "stdout",
     "output_type": "stream",
     "text": [
      "Q_TTSEM_NOMBRE:\n",
      "Mon raisonnement :\n",
      "Je dois trouver dans le texte une indication du nombre maximal de jours de télétravail par semaine. Je dois ignorer les passages qui traitent du télétravail occasionnel ou ponctuel, du nombre de jours de télétravail par mois, trimestre ou an, et des indemnisations. Je dois aussi ignorer les mentions de jours de présence sur site.\n",
      "\n",
      "Mes trouvailles :\n",
      "* \"La possibilité de télétravailler est ouverte aux seuls postes pour lesquels les activités sont compatibles avec ce mode d’organisation du travail.\"\n",
      "* \"Lorsqu’un poste est éligible au télétravail, les modalités d’organisation du télétravail devront être compatibles avec les obligations de service, le bon fonctionnement de l’équipe et de l’entité concernée. À cet effet, le télétravailleur atteste que son domicile (lieu de télétravail) permet l’exécution du travail dans de bonnes conditions de santé et de sécurité. L’Agence qui a des obligations légales en matière d’hygiène, de santé et de sécurité à l’égard de l’ensemble de ses Salariés doit pouvoir s’assurer que le Salarié en télétravail exerce sa mission dans des conditions de travail conformes. Le Salarié doit donc disposer, à son domicile, d’un espace de travail adapté à un exercice satisfaisant du télétravail.\"\n",
      "* \"Afin de maintenir le lien social avec l’entreprise et au sein de l’équipe, mais également de faciliter l’organisation des temps de travail collectif, l’activité exercée en télétravail ne pourra en principe excéder une journée complète et fixe par semaine pour un salarié présent à temps plein.\"\n",
      "\n",
      "Ma réponse :\n",
      "nombrejourdeteletravailmaxparsemaine=1\n",
      "\n",
      "Mon indice de confiance :\n",
      "0.8\n",
      "\n",
      "84 T05721004854\n"
     ]
    },
    {
     "name": "stderr",
     "output_type": "stream",
     "text": [
      "Setting `pad_token_id` to `eos_token_id`:2 for open-end generation.\n"
     ]
    },
    {
     "name": "stdout",
     "output_type": "stream",
     "text": [
      "Q_TTSEM_NOMBRE:### Mon raisonnement :\n",
      "Je vais lire attentivement chaque document fourni et rechercher les paragraphes qui comportent le mot-clé \"semaine\" ou une notion de fréquence, ou de volume par semaine et qui concernent le nombre de jour de télétravail proposé, autorisé ou limité. Je vais ignorer les paragraphes qui relatent d'indemnisation par jour de télétravail, ni le télétravail ponctuel ou occasionnel et ignore les informations sur le nombre de jour de télétravail par [\"année\", \"mois\", \"trimestre\"] ou forfait par [\"année\", \"mois\", \"trimestre\"]. Si je trouve une valeur explicite pour le nombre maximal de jours de télétravail par semaine, je l'affecterai à la variable \"nombrejourdeteletravailmaxparsemaine\". Sinon, je retournerai la variable avec une valeur de 0.\n",
      "\n",
      "### Mes trouvailles :\n",
      "* Article 3-3 du premier document : \"Le salarié dispose d’un volume de 18 jours de télétravail par an (du 1er janvier au 31 décembre) qu’il pourra mobiliser en journée entière ou demi-journée. Pour les années non complètes, le nombre de jour à disposition sera calculé prorata temporis (soit 1 jour et demi par mois complet entre la date de signature et le 31 décembre).\"\n",
      "* Article 4 du deuxième document : \"Chaque manager s’assurera du respect de ce droit. Chaque salarié est responsable de son utilisation des outils numériques et doit respecter ses collègues dans le cadre de l’usage de ceux-ci.\"\n",
      "* Article 10-1 du troisième document : \"Étant donné qu’il incombe à l’employeur des obligations légales en matière d’hygiène, de sécurité et de conditions de travail à l’égard de l’ensemble de ses salariés, il doit de ce fait s’assurer que le salarié en situation de télétravail exerce sa mission dans des conditions conformes aux dispositions légales.\"\n",
      "\n",
      "### Ma réponse :\n",
      "nombrejourdeteletravailmaxparsemaine=18\n",
      "\n",
      "### Mon indice de confiance :\n",
      "0.8\n",
      "\n",
      "85 T09121006419\n"
     ]
    },
    {
     "name": "stderr",
     "output_type": "stream",
     "text": [
      "Setting `pad_token_id` to `eos_token_id`:2 for open-end generation.\n"
     ]
    },
    {
     "name": "stdout",
     "output_type": "stream",
     "text": [
      "Q_TTSEM_NOMBRE:* Mon raisonnement : Je vais chercher dans le texte les occurrences du mot \"semaine\" associé au télétravail et je regarderai si un nombre est associé à cette occurrence.\n",
      "* Mes trouvailles : \"Les parties fixent le nombre de jour de télétravail à deux jours maximum par semaine.\"\n",
      "* Ma réponse : nombrejourdeteletravailmaxparsemaine=2\n",
      "* Mon indice de confiance : 100%\n",
      "\n",
      "86 T05121003353\n"
     ]
    },
    {
     "name": "stderr",
     "output_type": "stream",
     "text": [
      "Setting `pad_token_id` to `eos_token_id`:2 for open-end generation.\n"
     ]
    },
    {
     "name": "stdout",
     "output_type": "stream",
     "text": [
      "Q_TTSEM_NOMBRE:\n",
      "Mon raisonnement :\n",
      "\n",
      "Je dois trouver dans le contexte une indication du nombre maximal de jours de télétravail par semaine proposé, autorisé ou limité. Je dois ignorer les informations sur le télétravail ponctuel ou occasionnel, les indemnisations par jour de télétravail et les informations sur le nombre de jour de télétravail par année, mois ou trimestre ou forfait par année, mois ou trimestre.\n",
      "\n",
      "Mes trouvailles :\n",
      "\n",
      "* \"Le nombre de salarié en télétravail un jour donné ne dépasse pas 50% de l’effectif du service concerné.\"\n",
      "* \"le refus de... sera motivé si le salarié occupe un poste éligible au télétravail\"\n",
      "* \"Le salarié qui souhaite bénéficier du télétravail lorsqu’il est éligible conformément aux dispositions ci-dessus doit adresser une demande écrite et motivée au... par courrier remis en main propre contre décharge ou LRAR.... devra y répondre dans un délai d’un mois suivant réception de la demande.\"\n",
      "* \"Dans le cadre de projets spécifiques ou pour des raisons organisationnelles, l’employeur peut proposer le télétravail à un salarié.\"\n",
      "* \"Cette demande doit être adressée par écrit au salarié par courrier remis en main propre contre décharge ou LRAR au moins un mois avant la date envisagée pour sa prise d'effet.\"\n",
      "* \"Le salarié disposera d'un délai de huit jours pour répondre par écrit à la demande de l'employeur.\"\n",
      "* \"Le passage au télétravail est formalisé par un avenant au contrat de travail à durée déterminée conclue pour une durée maximum de 12 mois. Il pourra être renouvelé dans les mêmes conditions de forme et de durée.\"\n",
      "* \"En cas de recours occasionnel ou exceptionnel au télétravail, notamment dans les cas suivants : Epidémie,\"\n",
      "* \"La demande de télétravail est effectuée en concertation entre... et....\"\n",
      "* \"l’employeur pourra imposer la mise en place du télétravail en cas en cas d'épidémie, de force majeure, d'épisode de pollution.\"\n",
      "\n",
      "Ma réponse :\n",
      "\n",
      "nombrejourdeteletravailmaxparsemaine=5\n",
      "\n",
      "Mon indice de confiance :\n",
      "\n",
      "0.8\n",
      "\n",
      "87 T02921004527\n"
     ]
    },
    {
     "name": "stderr",
     "output_type": "stream",
     "text": [
      "Setting `pad_token_id` to `eos_token_id`:2 for open-end generation.\n"
     ]
    },
    {
     "name": "stdout",
     "output_type": "stream",
     "text": [
      "Q_TTSEM_NOMBRE:* Mon raisonnement : Je vais rechercher dans le texte les occurrences du mot-clé \"semaine\" et extraire les informations relatives au nombre de jours de télétravail par semaine. Ensuite, je vérifierai si ces informations concernent le nombre de jours de télétravail régulier proposé, autorisé ou limité.\n",
      "* Mes trouvailles : Dans l'Article V, section \"Répartition des temps de travail lieu de télétravail/entreprise\", il est stipulé que \"afin de maintenir suffisamment le lien social et fonctionnel avec la communauté de travail, le salarié peut télétravailler au maximum 2 jours par semaine.\".\n",
      "* Ma réponse : nombrejourdeteletravailmaxparsemaine=2\n",
      "* Mon indice de confiance : 100%\n",
      "\n",
      "88 T04221004677\n"
     ]
    },
    {
     "name": "stderr",
     "output_type": "stream",
     "text": [
      "Setting `pad_token_id` to `eos_token_id`:2 for open-end generation.\n"
     ]
    },
    {
     "name": "stdout",
     "output_type": "stream",
     "text": [
      "Q_TTSEM_NOMBRE:### Mon raisonnement :\n",
      "\n",
      "Je vais lire attentivement chaque document fourni et rechercher les paragraphes qui comportent le mot-clé \"semaine\" ou une notion de fréquence, ou de volume par semaine et qui concernent le nombre de jour de télétravail proposé, autorisé ou limité. Je veillerai à ne pas prendre en compte les paragraphes qui relatent d'indemnisation par jour de télétravail, ni le télétravail ponctuel ou occasionnel et ignorerai les informations sur le nombre de jour de télétravail par année, mois, trimestre ou forfait par année, mois, trimestre.\n",
      "\n",
      "### Mes trouvailles :\n",
      "\n",
      "* Article 5.2 Télétravail sur la base du volontariat : \"Le salarié sédentaire choisit un des 2 modèles suivants en accord avec son responsable hiérarchique. [...] Modèle hebdomadaire : Le salarié doit être au minimum 2 jours par semaine en présentiel au bureau (soit 1 à 3 jours de télétravail par semaine)\"\n",
      "\n",
      "### Ma réponse :\n",
      "\n",
      "nombrejourdeteletravailmaxparsemaine=3\n",
      "\n",
      "### Mon indice de confiance :\n",
      "\n",
      "0.9\n",
      "\n",
      "### EXPLICATIONS :\n",
      "\n",
      "J'ai trouvé un paragraphe qui correspond à la description donnée dans la question. Selon ce paragraphe, le nombre maximal de jours de télétravail par semaine est de 3. J'ai donc attribué la valeur 3 à la variable nombrejourdeteletravailmaxparsemaine. Mon indice de confiance est de 0.9 car je suis presque certain de ma réponse, mais je ne peux pas exclure totalement la possibilité qu'il y ait des informations contradictoires ou manquantes dans les documents fournis.\n",
      "\n",
      "89 T01421004104\n"
     ]
    },
    {
     "name": "stderr",
     "output_type": "stream",
     "text": [
      "Setting `pad_token_id` to `eos_token_id`:2 for open-end generation.\n"
     ]
    },
    {
     "name": "stdout",
     "output_type": "stream",
     "text": [
      "Q_TTSEM_NOMBRE:* Mon raisonnement : Je dois trouver dans le texte une indication du nombre maximal de jours de télétravail par semaine. Pour cela, je vais rechercher les mots \"semaine\" et \"télétravail\" dans le même paragraphe. Ensuite, je vérifierai que cette indication ne concerne pas un remboursement forfaitaire ou un montant d'indemnisation.\n",
      "* Mes trouvailles :\n",
      "    * \"le télétravail est un mode d'organisation de l'entreprise qui participe activement à la démarche de prévention du risque d'infection au SARS-CoV-2 et permet de limiter les interactions sociales aux abords des lieux de travail et sur les trajets domicile travail. Il doit être la règle pour l'ensemble des activités qui le permettent.\"\n",
      "    * \"L’évolution de la situation sanitaire Covid-19 ne permet toujours pas d’envisager un retour de tous les salariés à 100% sur le site. C’est dans ce contexte que la Direction de Knorr-Bremse SPVUF et les organisations syndicales s’accordent pour que l’intégralité des dispositions de l’accord relatif à la mise en place du télétravail en période d’épidémie Covid-19 soient prolongées d’une période de quatre mois.\"\n",
      "* Ma réponse : nombrejourdeteletravailmaxparsemaine=5\n",
      "* Mon indice de confiance : 90%\n",
      "\n",
      "90 T07421004072\n"
     ]
    },
    {
     "name": "stderr",
     "output_type": "stream",
     "text": [
      "Setting `pad_token_id` to `eos_token_id`:2 for open-end generation.\n",
      "Created a chunk of size 5508, which is longer than the specified 5000\n",
      "Created a chunk of size 5679, which is longer than the specified 5000\n",
      "Created a chunk of size 7755, which is longer than the specified 5000\n"
     ]
    },
    {
     "name": "stdout",
     "output_type": "stream",
     "text": [
      "Q_TTSEM_NOMBRE:\n",
      "Mon raisonnement :\n",
      "\n",
      "* Je dois trouver dans le texte une indication du nombre maximal de jours de télétravail par semaine.\n",
      "* Ce nombre doit être explicite et non déduit d'autres informations telles que le nombre de jours de présence sur site ou le nombre total de jours travaillés dans l'année, le mois ou le trimestre.\n",
      "* Je dois ignorer les informations sur le télétravail ponctuel ou occasionnel.\n",
      "\n",
      "Mes trouvailles :\n",
      "\n",
      "* \"Le télétravail pourra s’effectuer sur une demi-journée au minimum et au maximum 1 journée par semaine\"\n",
      "\n",
      "Ma réponse :\n",
      "\n",
      "* nombrejourdeteletravailmaxparsemaine=1\n",
      "\n",
      "Mon indice de confiance :\n",
      "\n",
      "* 100%\n",
      "\n",
      "91 T01421004303\n"
     ]
    },
    {
     "name": "stderr",
     "output_type": "stream",
     "text": [
      "Setting `pad_token_id` to `eos_token_id`:2 for open-end generation.\n"
     ]
    },
    {
     "name": "stdout",
     "output_type": "stream",
     "text": [
      "Q_TTSEM_NOMBRE:\n",
      "* Mon raisonnement : Je dois trouver dans le contexte une indication du nombre maximal de jours de télétravail par semaine. Pour cela, je vais me concentrer sur les paragraphes qui parlent spécifiquement de la fréquence ou du volume de télétravail par semaine. Je vais ignorer les paragraphes qui traitent du télétravail occasionnel ou ponctuel, ainsi que ceux qui concernent l'indemnisation ou les forfaits par année, mois ou trimestre.\n",
      "* Mes trouvailles : \"Le télétravail pourra être exercé trois days par semaine maximum.\"\n",
      "* Ma réponse : nombrejourdeteletravailmaxparsemaine=3\n",
      "* Mon indice de confiance : 100%\n",
      "\n",
      "92 T07321002999\n"
     ]
    },
    {
     "name": "stderr",
     "output_type": "stream",
     "text": [
      "Setting `pad_token_id` to `eos_token_id`:2 for open-end generation.\n"
     ]
    },
    {
     "name": "stdout",
     "output_type": "stream",
     "text": [
      "Q_TTSEM_NOMBRE:### Mon raisonnement :\n",
      "Je vais rechercher dans le texte tous les paragraphes qui comportent le mot-clé \"semaine\" ou une notion de fréquence, ou de volume par semaine et qui concernent le nombre de jour de télétravail proposé, autorisé ou limité. Je ne tiendrai pas compte des paragraphes qui relatent d'indemnisation par jour de télétravail, ni le télétravail ponctuel ou occasionnel et j'ignorerai les informations sur le nombre de jour de télétravail par année, mois, trimestre ou forfait par année, mois, trimestre.\n",
      "\n",
      "### Mes trouvailles :\n",
      "* \"Compte tenu de l’importance du maintien du lien avec la communauté de travail, les salariés devront être présents, ou en clientèle, a minima 3 jours par semaine dans les locaux au sein desquels les salariés exercent habituellement leur activité, et le télétravail ne pourra se faire que dans la limite d’1 jour par semaine, avec possibilité de télétravailler par demi-journée.\"\n",
      "\n",
      "### Ma réponse :\n",
      "nombrejourdeteletravailmaxparsemaine=1\n",
      "\n",
      "### Mon indice de confiance :\n",
      "0.8\n",
      "\n",
      "---\n",
      "\n",
      "93 T09321006658\n"
     ]
    },
    {
     "name": "stderr",
     "output_type": "stream",
     "text": [
      "Setting `pad_token_id` to `eos_token_id`:2 for open-end generation.\n"
     ]
    },
    {
     "name": "stdout",
     "output_type": "stream",
     "text": [
      "Q_TTSEM_NOMBRE:\n",
      "* Mon raisonnement : Je vais rechercher dans le texte les occurrences du mot \"semaine\" et extraire les informations relatives au nombre de jours de télétravail par semaine. Ensuite, je vérifierai si ces informations concernent le télétravail régulier et si elles ne sont pas des indemnisations ou des mentions de télétravail ponctuel ou occasionnel.\n",
      "* Mes trouvailles :\n",
      "\t+ \"Pour maintenir le lien social avec la communauté de travail, le présent accord prévoit jusqu’à deux jours de télétravail par semaine pour une semaine de travail ‘standard’ (avec cinq jours ouvrés)\"\n",
      "* Ma réponse : nombrejourdeteletravailmaxparsemaine=2\n",
      "* Mon indice de confiance : 90%\n",
      "\n",
      "94 T01321011558\n"
     ]
    },
    {
     "name": "stderr",
     "output_type": "stream",
     "text": [
      "Setting `pad_token_id` to `eos_token_id`:2 for open-end generation.\n"
     ]
    },
    {
     "name": "stdout",
     "output_type": "stream",
     "text": [
      "Q_TTSEM_NOMBRE:* Mon raisonnement : Je vais chercher dans le texte les occurrences du mot \"semaine\" associé à une notion de fréquence ou de volume de télétravail. Je vais ignorer les passages qui concernent l'indemnisation par jour de télétravail, le télétravail ponctuel ou occasionnel, et les informations sur le nombre de jour de télétravail par année, mois ou trimestre.\n",
      "* Mes trouvailles : \"Le jour de télétravail est fixé en concertation entre le salarié et le manager, en fonction de l’organisation de la structure et de l’activité des salariés. La décision finale revenant au manager. Un planning sera établi chaque mois par le manager, précisant les jours de télétravail de son équipe.\"\n",
      "* Ma réponse : nombrejourdeteletravailmaxparsemaine=1\n",
      "* Mon indice de confiance : 80%.\n",
      "\n",
      "95 T03121008748\n"
     ]
    },
    {
     "name": "stderr",
     "output_type": "stream",
     "text": [
      "Setting `pad_token_id` to `eos_token_id`:2 for open-end generation.\n"
     ]
    },
    {
     "name": "stdout",
     "output_type": "stream",
     "text": [
      "Q_TTSEM_NOMBRE:\n",
      "* Mon raisonnement : Je dois trouver dans le texte une indication du nombre maximal de jours de télétravail par semaine. Pour cela, je vais rechercher les occurrences du mot \"semaine\" et voir si elles sont associées à une indication de nombre de jours de télétravail.\n",
      "* Mes trouvailles : \"Le Salarié pourra solliciter une annulation ou un report de la journée de télétravail avec accord du supérieur hiérarchique donné au regard de l’organisation dans son équipe avec un délai de prévenance de 2 jours et sous réserve de respecter la limite de deux jours de télétravail par semaine maximum.\"\n",
      "* Ma réponse : nombrejourdeteletravailmaxparsemaine=2\n",
      "* Mon indice de confiance : 100%\n",
      "\n",
      "96 T59V21001382\n"
     ]
    },
    {
     "name": "stderr",
     "output_type": "stream",
     "text": [
      "Setting `pad_token_id` to `eos_token_id`:2 for open-end generation.\n"
     ]
    },
    {
     "name": "stdout",
     "output_type": "stream",
     "text": [
      "Q_TTSEM_NOMBRE:\n",
      "* Mon raisonnement : Je dois rechercher dans le texte fourni toute information relative au nombre de jours de télétravail possibles par semaine. Pour cela, je dois trouver une expression explicite indiquant le nombre de jours de télétravail possibles par semaine. Ensuite, je dois m'assurer que cette information est exprimée en jours de télétravail par semaine et non par mois, trimestre ou année.\n",
      "* Mes trouvailles : \"La Direction propose de passer à 6 chèques de 7 euros à compter du 1er janvier 2022.\\nLa prise en charge de l’employeur reste à 60%.\\n\\n20/ 4 Jours de congés exceptionnels par an pour enfant malade\\nLa Direction n’est pas favorable\\n\\n21/ 3 jours de congés exceptionnels pour conjoint/te ou enfants hospitalisés\\nLa Direction n’est pas favorable\\n\\n22/ Prime de consommable pour les personnes ayant recours au télétravail\\nLa Direction n’est pas favorable\\n\\n23/ 2 jours de congés supplémentaires pour les personnes à qui on demande de déplacer ses congés\\nLa Direction n’est pas favorable\\n\"\n",
      "* Ma réponse : nombrejourdeteletravailmaxparsemaine=0\n",
      "* Mon indice de confiance : 100%\n",
      "\n",
      "97 T05721004198\n"
     ]
    },
    {
     "name": "stderr",
     "output_type": "stream",
     "text": [
      "Setting `pad_token_id` to `eos_token_id`:2 for open-end generation.\n"
     ]
    },
    {
     "name": "stdout",
     "output_type": "stream",
     "text": [
      "Q_TTSEM_NOMBRE:\n",
      "* Mon raisonnement : Je dois trouver dans le contexte une indication du nombre maximal de jours de télétravail par semaine. Pour cela, je vais lire attentivement chaque document pour trouver une phrase contenant le mot \"semaine\" et qui précise le nombre de jours de télétravail.\n",
      "* Mes trouvailles : Dans le premier document, il n'y a pas de mention du nombre de jours de télétravail par semaine. Dans le deuxième document, il n'y a pas non plus de mention du nombre de jours de télétravail par semaine. Dans le troisième document, il est indiqué que \"Le télétravail est limité à 2 jours maximum par semaine\".\n",
      "* Ma réponse : nombrejourdeteletravailmaxparsemaine=2\n",
      "* Mon indice de confiance : 100%\n",
      "\n",
      "98 T02921005002\n"
     ]
    },
    {
     "name": "stderr",
     "output_type": "stream",
     "text": [
      "Setting `pad_token_id` to `eos_token_id`:2 for open-end generation.\n"
     ]
    },
    {
     "name": "stdout",
     "output_type": "stream",
     "text": [
      "Q_TTSEM_NOMBRE:\n",
      "* Mon raisonnement : Je vais rechercher dans le texte les occurrences du mot \"semaine\" associé à une information sur le nombre de jours de télétravail. Je vais ignorer les passages qui concernent l'indemnisation par jour de télétravail, le télétravail ponctuel ou occasionnel, et les informations sur le nombre de jour de télétravail par année, mois, trimestre ou forfait par année, mois, trimestre.\n",
      "* Mes trouvailles : \"Le télétravail régulier implique un engagement minimal de deux jours par semaine.\" (Article 3), \"En cas de télétravail régulier, les coûts directement engendrés par le télétravail (notamment abonnement internet & frais fixes variables –chauffage, électricité…–) sont pris en charge par le versement d’une indemnité globale de 2€50 bruts par journée télétravaillée.\" (Article 5)\n",
      "* Ma réponse : nombrejourdeteletravailmaxparsemaine=2\n",
      "* Mon indice de confiance : 90%\n",
      "\n",
      "99 T01321010134\n"
     ]
    },
    {
     "name": "stderr",
     "output_type": "stream",
     "text": [
      "Setting `pad_token_id` to `eos_token_id`:2 for open-end generation.\n"
     ]
    },
    {
     "name": "stdout",
     "output_type": "stream",
     "text": [
      "Q_TTSEM_NOMBRE:### Mon raisonnement :\n",
      "Je vais rechercher dans le contexte toutes les occurrences du mot \"semaine\" associé au télétravail et qui précisent le nombre maximal de jours de télétravail par semaine. Je vais ignorer les passages concernant l'indemnisation par jour de télétravail, le télétravail ponctuel ou occasionnel, et les informations sur le nombre de jour de télétravail par année, mois ou trimestre.\n",
      "\n",
      "### Mes trouvailles :\n",
      "* \"Le télétravail régulier consiste, sur la base du volontariat, à offrir la possibilité au collaborateur de travailler en dehors des locaux de l’entreprise jusqu’à **3 jours maximum par semaine** pour un salarié à temps complet ou 50% de son temps de travail pour un salarié à temps partiel.\"\n",
      "\n",
      "### Ma réponse :\n",
      "nombrejourdeteletravailmaxparsemaine=3\n",
      "\n",
      "### Mon indice de confiance :\n",
      "0.95\n",
      "\n",
      "100 T04421010863\n"
     ]
    },
    {
     "name": "stderr",
     "output_type": "stream",
     "text": [
      "Setting `pad_token_id` to `eos_token_id`:2 for open-end generation.\n"
     ]
    },
    {
     "name": "stdout",
     "output_type": "stream",
     "text": [
      "Q_TTSEM_NOMBRE:* Mon raisonnement : Je dois trouver dans le texte une indication du nombre maximal de jours de télétravail par semaine. Pour cela, je vais rechercher les occurrences du mot \"semaine\" dans le texte et vérifier si elles sont associées à une indication de nombre de jours de télétravail.\n",
      "* Mes trouvailles : Dans le texte, le mot \"semaine\" apparait à plusieurs reprises, mais aucune de ces occurrences n'est associée à une indication du nombre de jours de télétravail par semaine.\n",
      "* Ma réponse : nombrejourdeteletravailmaxparsemaine=0\n",
      "* Mon indice de confiance : 100%\n",
      "\n",
      "101 T02221003288\n"
     ]
    },
    {
     "name": "stderr",
     "output_type": "stream",
     "text": [
      "Setting `pad_token_id` to `eos_token_id`:2 for open-end generation.\n",
      "Created a chunk of size 6497, which is longer than the specified 5000\n"
     ]
    },
    {
     "name": "stdout",
     "output_type": "stream",
     "text": [
      "Q_TTSEM_NOMBRE:* Mon raisonnement : Je vais rechercher dans le texte les paragraphes qui comportent le mot-clé \"semaine\" ou une notion de fréquence, ou de volume par semaine et qui concernent le nombre de jour de télétravail proposé, autorisé ou limité. Je vais ignorer les paragraphes qui relatent d'indemnisation par jour de télétravail, ni le télétravail ponctuel ou occasionnel et ignorer les informations sur le nombre de jour de télétravail par année, mois, trimestre ou forfait par année, mois, trimestre.\n",
      "* Mes trouvailles : Dans le document 2, je trouve le paragraphe \"3.2 – Volume de jours de télétravail occasionnel par an\" qui précise que \"Le télétravail occasionnel est limité à 12 journées sur une année calendaire. Ces journées de télétravail occassionel peuvent être prises par journée entière ou demi-journée.\". Ce paragraphe ne précise pas explicitement le nombre de jour de télétravail régulier par semaine, mais il précise que le télétravail occasionnel est limité à 12 journées sur une année calendaire, ce qui ne nous permet pas de calculer le nombre de jour de télétravail régulier par semaine.\n",
      "* Ma réponse : nombrejourdeteletravailmaxparsemaine=0\n",
      "* Mon indice de confiance : 100%\n",
      "\n",
      "102 T04421010659\n"
     ]
    },
    {
     "name": "stderr",
     "output_type": "stream",
     "text": [
      "Setting `pad_token_id` to `eos_token_id`:2 for open-end generation.\n"
     ]
    },
    {
     "name": "stdout",
     "output_type": "stream",
     "text": [
      "Q_TTSEM_NOMBRE:\n",
      "* Mon raisonnement : Je vais rechercher dans le texte les paragraphes qui comportent le mot-clé \"semaine\" ou une notion de fréquence, ou de volume par semaine et qui concernent le nombre de jour de télétravail proposé, autorisé ou limité. Dans ces paragraphes, je vais chercher une expression numérique qui exprime le nombre maximal de jours de télétravail par semaine.\n",
      "* Mes trouvailles : \"l’entreprise établira des modalités spécifiques de fonctionnement propres à chacun des services avec l’indication des postes ouverts au télétravail et du nombre de jours de télétravail pouvant être effectué par semaine en cohérence avec les articles 3.1 et 3.2. du présent accord.\"\n",
      "* Ma réponse : nombrejourdeteletravailmaxparsemaine=2\n",
      "* Mon indice de confiance : 90%\n",
      "\n",
      "103 T59V21001164\n"
     ]
    },
    {
     "name": "stderr",
     "output_type": "stream",
     "text": [
      "Setting `pad_token_id` to `eos_token_id`:2 for open-end generation.\n"
     ]
    },
    {
     "name": "stdout",
     "output_type": "stream",
     "text": [
      "Q_TTSEM_NOMBRE:\n",
      "* Mon raisonnement : Je vais rechercher dans le contexte toutes les occurrences du mot \"semaine\" associé à une information sur le nombre de jours de télétravail. Je vais ignorer les passages qui parlent d'indemnisation ou de télétravail ponctuel ou occasionnel. Je vais aussi ignorer les informations sur le nombre de jour de télétravail par année, mois ou trimestre, ou sous forme de forfait par année, mois ou trimestre.\n",
      "* Mes trouvailles : \"Enfin, les outils informatiques et de communication actuels dont dispose l'entreprise ne permettent pas techniquement la mise en place du télétravail, ou seulement pour très peu de collaborateurs.\" (ce passage ne contient pas d'information sur le nombre de jours de télétravail par semaine) ; \"D’ici la fin de l’année 2021, des outils de communications performants seront installés sur tous les postes le nécessitant (Office 365, Microsoft Teams, Sharepoint…) et les équipes seront formées.\" (ce passage ne contient pas d'information sur le nombre de jours de télétravail par semaine) ; \"Les délégations syndicales ont par ailleurs transmis la demande des collaborateurs résidant en métropole lilloise de pouvoir travailler ponctuellement sur le site de Villeneuve d’Ascq.\" (ce passage ne contient pas d'information sur le nombre de jours de télétravail par semaine) ; \"Pour cette raison, l’employeur souhaite améliorer sa capacité technique à permettre le télétravail, la crise de la Covid jouant un effet catalyseur.\" (ce passage ne contient pas d'information sur le nombre de jours de télétravail par semaine) ; \"L’employeur confirme que le télétravail comme mode de travail régulier, n’est pas envisagé par Ecoburotic. Ceci pour les raisons régulièrement évoquées d’organisation et d’animation des équipes.\" (ce passage ne contient pas d'information sur le nombre de jours de télétravail par semaine) ; \"Cependant, l’employeur reconnaît que le télétravail est particulièrement utile et adapté à certaines situations, telles que pandémie, intempéries, situations particulières liées au collaborateur ou à l’entreprise.\" (ce passage ne contient pas d'information sur le nombre de jours de télétravail par semaine) ; \"Dans un contexte de crise sanitaire majeure qui perdure et dont l’évolution est incertaine, les parties ont décidé de conclure un nouvel accord relatif à la fixation et à la modification de la prise des jours de congés payés dans le contexte de l’épidémie de Covid-19. Ceci afin de limiter pour l’entreprise les conséquences de la crise sanitaire que nous traversons, tout en préservant le plus possible les droits à congés des salariés.\" (ce passage ne contient pas d'information sur le nombre de jours de télétravail par semaine) ; \"Tous les salariés dont le solde de jours de congés acquis au cours des périodes d’acquisition précédentes est supérieur à 20 jours ouvrés, devront prendre ces jours de congé (dans la limite de 5 jours ouvrés) avant le 30 Juin 2021 au plus tard.\" (ce passage ne contient pas d'information sur le nombre de jours de télétravail par semaine) ; \"Par ailleurs aucune annulation de congés déjà posés ne pourra être acceptée, seul un report jusqu’au 30 Juin 2021 sera admis.\" (ce passage ne contient pas d'information sur le nombre de jours de télétravail par semaine) ; \"Les autres dispositions de l’accord sont similaires à celui conclu le 27 Avril 2020.\" (ce passage ne contient pas d'information sur le nombre de jours de télétravail par sem\n",
      "\n",
      "104 T01321011808\n"
     ]
    },
    {
     "name": "stderr",
     "output_type": "stream",
     "text": [
      "Setting `pad_token_id` to `eos_token_id`:2 for open-end generation.\n"
     ]
    },
    {
     "name": "stdout",
     "output_type": "stream",
     "text": [
      "Q_TTSEM_NOMBRE:### Mon raisonnement :\n",
      "Je vais lire attentivement chaque document fourni et rechercher les paragraphes qui comportent le mot-clé \"semaine\" ou une notion de fréquence, ou de volume par semaine et qui concernent le nombre de jour de télétravail proposé, autorisé ou limité. Je ne tiendrai pas compte des paragraphes qui relatent d'indemnisation par jour de télétravail, ni du télétravail ponctuel ou occasionnel. De plus, je ne prendrai pas en compte les informations sur le nombre de jour de télétravail par année, mois ou trimestre, ou forfait par année, mois ou trimestre. Si je trouve une valeur, je l'affecterai à la variable \"nombrejourdeteletravailmaxparsemaine\". Sinon, je retournerai cette variable valant 0.\n",
      "\n",
      "### Mes trouvailles :\n",
      "* Article 11 - Fréquence et nombre de jours en télétravail : \"Le nombre de jours télétravaillés est limité à deux jours complets par semaine.\"\n",
      "\n",
      "### Ma réponse :\n",
      "nombrejourdeteletravailmaxparsemaine=2\n",
      "\n",
      "### Mon indice de confiance :\n",
      "0.95\n",
      "\n",
      "105 T04521003587\n"
     ]
    },
    {
     "name": "stderr",
     "output_type": "stream",
     "text": [
      "Setting `pad_token_id` to `eos_token_id`:2 for open-end generation.\n"
     ]
    },
    {
     "name": "stdout",
     "output_type": "stream",
     "text": [
      "Q_TTSEM_NOMBRE:\n",
      "* Mon raisonnement : Je dois trouver dans le texte une indication du nombre maximal de jours de télétravail par semaine. Pour cela, je vais rechercher les occurrences du mot \"semaine\" dans le contexte du télétravail.\n",
      "* Mes trouvailles : \"Limitation des déplacements (tant en termes de temps que d’impact écologique), réduction de la fatigue, amélioration de la concentration sont des bénéfices pouvant être apportés par le dispositif du télétravail.\"\n",
      "* Ma réponse : nombrejourdeteletravailmaxparsemaine=5\n",
      "* Mon indice de confiance : 100%\n",
      "\n",
      "106 T02121003194\n"
     ]
    },
    {
     "name": "stderr",
     "output_type": "stream",
     "text": [
      "Setting `pad_token_id` to `eos_token_id`:2 for open-end generation.\n"
     ]
    },
    {
     "name": "stdout",
     "output_type": "stream",
     "text": [
      "Q_TTSEM_NOMBRE:### Mon raisonnement :\n",
      "\n",
      "Je dois trouver dans le texte une indication du nombre maximal de jours de télétravail par semaine. Je dois donc trouver un paragraphe qui contient le mot-clé \"semaine\" ou une notion de fréquence, ou de volume par semaine et qui concerne le nombre de jour de télétravail proposé, autorisé ou limité. Je dois ignorer les paragraphes qui relatent d'indemnisation par jour de télétravail, ni le télétravail ponctuel ou occasionnel et ignore les informations sur le nombre de jour de télétravail par [\"année\", \"mois\", \"trimestre\"] ou forfait par [\"année\", \"mois\", \"trimestre\"].\n",
      "\n",
      "### Mes trouvailles :\n",
      "\n",
      "* \"Le nombre de jours télétravaillés ne pourra pas être supérieur à 10 par mois de travail effectif pour les salariés à temps plein et à temps partiel.\"\n",
      "* \"La fixation du(des) jour(s) télétravaillé, sera (seront) définie(s) par le manager sur une période de 1 à 12 mois. Les jours fixés seront modifiables avec accord du manager.\"\n",
      "\n",
      "### Ma réponse :\n",
      "\n",
      "nombrejourdeteletravailmaxparsemaine=10\n",
      "\n",
      "### Mon indice de confiance :\n",
      "\n",
      "0.7\n",
      "\n",
      "### EXPLICATIONS :\n",
      "\n",
      "J'ai trouvé une indication du nombre maximal de jours de télétravail par semaine qui est de 10 jours. Cependant, je ne suis pas sûr que ce soit le maximum par semaine car cela dépend de la durée du mois de travail effectif. De plus, je n'ai pas trouvé de paragraphe qui contient explicitement le mot \"semaine\".\n",
      "\n",
      "107 T09321006383\n"
     ]
    },
    {
     "name": "stderr",
     "output_type": "stream",
     "text": [
      "Setting `pad_token_id` to `eos_token_id`:2 for open-end generation.\n"
     ]
    },
    {
     "name": "stdout",
     "output_type": "stream",
     "text": [
      "Q_TTSEM_NOMBRE:\n",
      "Mon raisonnement :\n",
      "\n",
      "* Je cherche dans le texte les occurrences du mot-clé \"semaine\" ou une notion de fréquence, ou de volume par semaine et qui concerne le nombre de jour de télétravail proposé, autorisé ou limité.\n",
      "* Je ne tiens pas compte des paragraphes qui relatent d'indemnisation par jour de télétravail, ni le télétravail ponctuel ou occasionnel et ignore les informations sur le nombre de jour de télétravail par [\"année\", \"mois\", \"trimestre\"] ou forfait par [\"année\", \"mois\", \"trimestre\"].\n",
      "\n",
      "Mes trouvailles :\n",
      "\n",
      "* \"Le travail à distance n'a pas pour conséquence de modifier les horaires habituels de travail définis dans GTA ni la durée du travail telle que précisée dans le contrat de travail.\"\n",
      "* \"L'exercice de l'activité en situation de « télétravail à 100% » sera réalisé sur l’ensemble des jours et heures habituellement travaillé par le collaborateur.\"\n",
      "\n",
      "Ma réponse :\n",
      "\n",
      "nombrejourdeteletravailmaxparsemaine=5\n",
      "\n",
      "Mon indice de confiance :\n",
      "\n",
      "0.8\n",
      "\n",
      "108 T07521030183\n"
     ]
    },
    {
     "name": "stderr",
     "output_type": "stream",
     "text": [
      "Setting `pad_token_id` to `eos_token_id`:2 for open-end generation.\n"
     ]
    },
    {
     "name": "stdout",
     "output_type": "stream",
     "text": [
      "Q_TTSEM_NOMBRE:### Mon raisonnement :\n",
      "Je dois trouver dans le texte une indication du nombre maximal de jours de télétravail par semaine. Je dois ignorer les mentions de jours de télétravail par année, mois ou trimestre, ainsi que les mentions de télétravail ponctuel ou occasionnel. De plus, je dois ignorer les informations sur les indemnisations.\n",
      "\n",
      "### Mes trouvailles :\n",
      "* \"La durée minimale de présence sera appréciée par chaque manager en fonction des nécessités de service. En tout état de cause, tout mode de travail à distance est susceptible d’être révisé en fonction des circonstances et doit être considéré comme révisable à tout moment.\"\n",
      "* \"Le collaborateur formulera ses souhaits en matière de fréquence et de jour de télétravail. Chaque demande devra être validée par le manager, à l’issue d’un entretien avec le collaborateur concerné, au mieux des intérêts de l’équipe et de l’activité (rythme de travail, réunions ou déplacements récurrents, organisation de l’équipe, nécessité de permanence, etc.).\"\n",
      "\n",
      "### Ma réponse :\n",
      "nombrejourdeteletravailmaxparsemaine=5\n",
      "\n",
      "### Mon indice de confiance :\n",
      "0.8\n",
      "\n",
      "109 T05321002415\n"
     ]
    },
    {
     "name": "stderr",
     "output_type": "stream",
     "text": [
      "Setting `pad_token_id` to `eos_token_id`:2 for open-end generation.\n"
     ]
    },
    {
     "name": "stdout",
     "output_type": "stream",
     "text": [
      "Q_TTSEM_NOMBRE:\n",
      "* Mon raisonnement : Je vais rechercher dans le texte les paragraphes qui comportent le mot-clé \"semaine\" ou une notion de fréquence, ou de volume par semaine et qui concernent le nombre de jour de télétravail proposé, autorisé ou limité. Je vais ignorer les paragraphes qui relatent d'indemnisation par jour de télétravail, ni le télétravail ponctuel ou occasionnel et ignore les informations sur le nombre de jour de télétravail par [\"année\", \"mois\", \"trimestre\"] ou forfait par [\"année\", \"mois\", \"trimestre\"].\n",
      "* Mes trouvailles : \"Le nombre de jours télétravaillés s’organise de la façon suivante Un nombre de jours télétravaillés pouvant être porté jusqu’à 3 jours par semaine sur accord du manager.\"\n",
      "* Ma réponse : nombrejourdeteletravailmaxparsemaine=3\n",
      "* Mon indice de confiance : 90%\n",
      "\n",
      "110 T03821006956\n"
     ]
    },
    {
     "name": "stderr",
     "output_type": "stream",
     "text": [
      "Setting `pad_token_id` to `eos_token_id`:2 for open-end generation.\n"
     ]
    },
    {
     "name": "stdout",
     "output_type": "stream",
     "text": [
      "Q_TTSEM_NOMBRE:\n",
      "* Mon raisonnement :\n",
      "Je dois rechercher dans le contexte fourni les occurrences où il est fait mention du nombre de jours de télétravail par semaine. Pour cela, je dois trouver les passages où il est question du télétravail et où il est précisé un nombre de jours ou une limite hebdomadaire. Il faut que je prenne garde à ne pas confondre les jours de télétravail avec les jours de présence sur site ou les jours de travail en général.\n",
      "* Mes trouvailles :\n",
      "\"Le télétravail pour un salarié travaillant à 90% ne pourra être exercé que pour un maximum de 12 jours (soit 24 demi-journées), par trimestre civil dans la limite de 1 jour (soit 2 demi-journées), par semaine, non reportables, soit une enveloppe de 48 jours (soit 96 demi-journées), par année civile.\"\n",
      "\"Le télétravail pour un salarié travaillant à 80% ne pourra être exercé que pour un maximum de 10,5 jours (soit 21 demi-journées), par trimestre civil dans la limite de 1 jour par semaine (soit 2 demi-journées), non reportables, soit une enveloppe de 42 jours (soit 84 demi-journées), par année civile.\"\n",
      "\"Le télétravail pour un salarié travaillant à 70% ne pourra être exercé que pour un maximum de 9,5 jours (soit 19 demi-journées), par trimestre civil dans la limite de 1 jour (soit 2 demi-journées), par semaine, non reportables, soit une enveloppe de 38 jours (soit 76 demi-journées), par année civile.\"\n",
      "\"Le télétravail pour un salarié travaillant à 60% ne pourra être exercé que pour un maximum de 8 jours (soit 16 demi-journées), par trimestre civil dans la limite de 1 jour (soit 2 demi-journées), par semaine, non reportables, soit une enveloppe de 32 jours (soit 64 demi-journées), par année civile.\"\n",
      "\"Le télétravail pour un salarié travaillant à 50% ne pourra être exercé que pour un maximum de 6,5 jours (soit 13 demi-journées), par trimestre civil dans la limite de 1 jour (soit 2 demi-journées), par semaine, non reportables, soit une enveloppe de 26 jours (soit 52 demi-journées), par année civile.\"\n",
      "* Ma réponse :\n",
      "nombrejourdeteletravailmaxparsemaine=2\n",
      "* Mon indice de confiance :\n",
      "0.9\n",
      "\n",
      "111 T05621003461\n"
     ]
    },
    {
     "name": "stderr",
     "output_type": "stream",
     "text": [
      "Setting `pad_token_id` to `eos_token_id`:2 for open-end generation.\n"
     ]
    },
    {
     "name": "stdout",
     "output_type": "stream",
     "text": [
      "Q_TTSEM_NOMBRE:### Mon raisonnement :\n",
      "Je dois trouver dans le texte une indication du nombre maximal de jours de télétravail par semaine. Je dois ignorer les mentions de télétravail ponctuel ou occasionnel, et les informations sur le nombre de jour de télétravail par année, mois ou trimestre. Je dois également ignorer les informations sur l'indemnisation par jour de télétravail.\n",
      "\n",
      "### Mes trouvailles :\n",
      "* \"Afin de préserver le lien social, la cohésion et le bon fonctionnement des équipes, le télétravail volontaire est limité à 20 jours par an.\" (2.3)\n",
      "* \"Le télétravail s’exerce dans les mêmes conditions et horaires que le travail au sein des locaux de l’EPCC. Par conséquent, le télétravailleur soumis à l’horaire collectif, doit être joignable sur les plages horaires suivantes, selon les besoins du service : 9h à 12h30 ; 14h à 17h30\" (2.4)\n",
      "\n",
      "### Ma réponse :\n",
      "nombrejourdeteletravailmaxparsemaine=20\n",
      "\n",
      "### Mon indice de confiance :\n",
      "0.8\n",
      "\n",
      "112 T07521029829\n"
     ]
    },
    {
     "name": "stderr",
     "output_type": "stream",
     "text": [
      "Setting `pad_token_id` to `eos_token_id`:2 for open-end generation.\n"
     ]
    },
    {
     "name": "stdout",
     "output_type": "stream",
     "text": [
      "Q_TTSEM_NOMBRE:\n",
      "* Mon raisonnement : Je vais rechercher dans le texte les occurrences du mot \"semaine\" et je vérifierai si elles sont associées au nombre de jours de télétravail. Je ne tiendrai compte que des maximums explicites de jours de télétravail par semaine et j'ignorerai les autres mentions de la semaine.\n",
      "* Mes trouvailles : Dans le texte, il est indiqué que \"Le télétravail peut être exécuté dans la limite de deux jours fixes par semaine maximum\".\n",
      "* Ma réponse : nombrejourdeteletravailmaxparsemaine=2\n",
      "* Mon indice de confiance : 100%\n",
      "\n",
      "113 T06921015778\n"
     ]
    },
    {
     "name": "stderr",
     "output_type": "stream",
     "text": [
      "Setting `pad_token_id` to `eos_token_id`:2 for open-end generation.\n"
     ]
    },
    {
     "name": "stdout",
     "output_type": "stream",
     "text": [
      "Q_TTSEM_NOMBRE:\n",
      "Mon raisonnement :\n",
      "\n",
      "Je vais lire attentivement chaque paragraphe pour rechercher les occurrences des mots \"semaine\" et \"télétravail\". Je vérifierai ensuite si ces occurrences font référence au nombre de jours de télétravail proposé, autorisé ou limité par semaine.\n",
      "\n",
      "Mes trouvailles :\n",
      "\n",
      "* Article 3 : \"Le télétravail peut être mis en œuvre, par journée entière de travail, dans la limite de 3 jours par semaine et de façon régulière.\"\n",
      "\n",
      "Ma réponse :\n",
      "\n",
      "nombrejourdeteletravailmaxparsemaine=3\n",
      "\n",
      "Mon indice de confiance :\n",
      "\n",
      "90%\n",
      "\n",
      "114 T09221025319\n"
     ]
    },
    {
     "name": "stderr",
     "output_type": "stream",
     "text": [
      "Setting `pad_token_id` to `eos_token_id`:2 for open-end generation.\n"
     ]
    },
    {
     "name": "stdout",
     "output_type": "stream",
     "text": [
      "Q_TTSEM_NOMBRE:\n",
      "* Mon raisonnement : Je dois trouver dans le texte une indication du nombre maximal de jours de télétravail par semaine. Pour cela, je vais me concentrer sur les occurrences du mot \"semaine\" et ignorer les autres périodes de temps (année, mois, trimestre). Je vais également ignorer les passages traitant des indemnisations et du télétravail occasionnel.\n",
      "* Mes trouvailles : Dans l'article 6, il est indiqué que \"le télétravail ne pourrait couvrir une semaine entière à savoir 5 jours\".\n",
      "* Ma réponse : nombrejourdeteletravailmaxparsemaine=5\n",
      "* Mon indice de confiance : 100%\n",
      "\n",
      "115 T09321006380\n"
     ]
    },
    {
     "name": "stderr",
     "output_type": "stream",
     "text": [
      "Setting `pad_token_id` to `eos_token_id`:2 for open-end generation.\n"
     ]
    },
    {
     "name": "stdout",
     "output_type": "stream",
     "text": [
      "Q_TTSEM_NOMBRE:\n",
      "* Mon raisonnement : Je vais rechercher dans le texte les occurrences du mot \"semaine\" associé au nombre de jours de télétravail. Je vais ignorer les passages qui concernent les indemnisations ou le télétravail ponctuel/occasionnel.\n",
      "* Mes trouvailles : \"Le plafond de deux jours par semaine constitue un maximum qui ne pourra être dépassé par les accords d’entreprise ou chartes de télétravail des entreprises du Groupe.\"\n",
      "* Ma réponse : nombrejourdeteletravailmaxparsemaine=2\n",
      "* Mon indice de confiance : 100%\n",
      "\n",
      "116 T09221025943\n"
     ]
    },
    {
     "name": "stderr",
     "output_type": "stream",
     "text": [
      "Setting `pad_token_id` to `eos_token_id`:2 for open-end generation.\n",
      "Created a chunk of size 7288, which is longer than the specified 5000\n",
      "Created a chunk of size 7924, which is longer than the specified 5000\n",
      "Created a chunk of size 6525, which is longer than the specified 5000\n"
     ]
    },
    {
     "name": "stdout",
     "output_type": "stream",
     "text": [
      "Q_TTSEM_NOMBRE:\n",
      "* Mon raisonnement : Je vais rechercher dans le texte les occurrences où il est question du nombre de jours de télétravail par semaine. Je vais ignorer les passages où il est question de forfait annuel ou mensuel, car cela ne répond pas à ma question. De plus, je vais ignorer les passages où il est question de télétravail occasionnel ou ponctuel.\n",
      "* Mes trouvailles : \"Le télétravailleur ne peut exercer en totalité son contrat de travail en dehors des locaux de l’Entreprise. En conséquence, les jours de télétravail seront fixés selon les modalités suivantes : De 1 à 3 jours fixes par semaine pour tous les collaborateurs de l’entreprise\"\n",
      "* Ma réponse : nombrejourdeteletravailmaxparsemaine=3\n",
      "* Mon indice de confiance : 90%\n",
      "\n",
      "117 T09221023411\n"
     ]
    },
    {
     "name": "stderr",
     "output_type": "stream",
     "text": [
      "Setting `pad_token_id` to `eos_token_id`:2 for open-end generation.\n"
     ]
    },
    {
     "name": "stdout",
     "output_type": "stream",
     "text": [
      "Q_TTSEM_NOMBRE:\n",
      "Mon raisonnement :\n",
      "\n",
      "Je dois trouver dans le contexte une indication du nombre maximal de jours de télétravail par semaine. Je dois ignorer les passages où il est question de télétravail ponctuel ou occasionnel, de jours fériés ou de congés payés, de forfait annuel en jours ou de jours de travail par mois ou trimestre.\n",
      "\n",
      "Mes trouvailles :\n",
      "\n",
      "* \"Afin de garantir la cohésion des équipes et de prévenir les situations d’isolement, le télétravail ne pourra être exercé que dans la limite de 75% du temps de travail effectif mensuel (en jours)\"\n",
      "\n",
      "Ma réponse :\n",
      "\n",
      "nombrejourdeteletravailmaxparsemaine=3\n",
      "\n",
      "Mon indice de confiance :\n",
      "\n",
      "0.8\n",
      "\n",
      "118 T09121006130\n"
     ]
    },
    {
     "name": "stderr",
     "output_type": "stream",
     "text": [
      "Setting `pad_token_id` to `eos_token_id`:2 for open-end generation.\n"
     ]
    },
    {
     "name": "stdout",
     "output_type": "stream",
     "text": [
      "Q_TTSEM_NOMBRE:* Mon raisonnement : Je dois trouver dans le texte la mention d'un nombre de jours de télétravail maximum par semaine. Pour cela, je vais rechercher les occurrences du mot \"semaine\" et lire les phrases qui y sont associées pour trouver le nombre de jours de télétravail maximum par semaine.\n",
      "* Mes trouvailles : \"Il sera désormais possible d’effectuer du télétravail à raison de DEUX jours par semaine\" ; \"afin de préserver le lien social avec l’entreprise, la cohésion et le bon fonctionnement des équipes, le télétravail est organisé de telle sorte que le salarié à temps plein soit présent dans l’entreprise au moins 3 jours par semaine.\"\n",
      "* Ma réponse : nombrejourdeteletravailmaxparsemaine=2\n",
      "* Mon indice de confiance : 90%\n",
      "\n",
      "Je suis assez confiant dans ma réponse car j'ai trouvé deux mentions explicites du nombre de jours de télétravail maximum par semaine.\n",
      "\n",
      "119 T09221023603\n"
     ]
    },
    {
     "name": "stderr",
     "output_type": "stream",
     "text": [
      "Setting `pad_token_id` to `eos_token_id`:2 for open-end generation.\n"
     ]
    },
    {
     "name": "stdout",
     "output_type": "stream",
     "text": [
      "Q_TTSEM_NOMBRE:\n",
      "* Mon raisonnement : Je dois trouver dans le texte une indication du nombre maximal de jours de télétravail par semaine. Ce nombre doit être explicite et non déduit d'autres éléments. De plus, je dois ignorer les informations sur le nombre de jour de télétravail par année, mois ou trimestre, ainsi que les informations sur l'indemnisation par jour de télétravail.\n",
      "* Mes trouvailles : \"Le télétravail régulier s’effectue à raison de deux jours par semaine maximum\"\n",
      "* Ma réponse : nombrejourdeteletravailmaxparsemaine=2\n",
      "* Mon indice de confiance : 100%\n",
      "\n",
      "120 T01321011053\n"
     ]
    },
    {
     "name": "stderr",
     "output_type": "stream",
     "text": [
      "Setting `pad_token_id` to `eos_token_id`:2 for open-end generation.\n",
      "Created a chunk of size 8959, which is longer than the specified 5000\n"
     ]
    },
    {
     "name": "stdout",
     "output_type": "stream",
     "text": [
      "Q_TTSEM_NOMBRE:\n",
      "* Mon raisonnement : Je vais rechercher dans le texte les occurrences où il est question du nombre de jours de télétravail par semaine, en ignorant les informations sur le télétravail occasionnel et les indemnisations.\n",
      "* Mes trouvailles : \"Le nombre de jours de télétravail est donc limité à un jour par semaine.\" (pour le personnel non-cadre), \"Le nombre de jours télétravaillés est donc limité à deux jours par semaine.\" (pour le personnel cadre).\n",
      "* Ma réponse : nombrejourdeteletravailmaxparsemaine=2\n",
      "* Mon indice de confiance : 90%\n",
      "\n",
      "121 T09221026634\n"
     ]
    },
    {
     "name": "stderr",
     "output_type": "stream",
     "text": [
      "Setting `pad_token_id` to `eos_token_id`:2 for open-end generation.\n"
     ]
    },
    {
     "name": "stdout",
     "output_type": "stream",
     "text": [
      "Q_TTSEM_NOMBRE:Mon raisonnement :\n",
      "\n",
      "Je dois trouver dans le texte une indication du nombre maximal de jours de télétravail par semaine proposé, autorisé ou limité de manière régulière. Je dois ignorer les informations sur le télétravail ponctuel ou occasionnel, et les indemnisations par jour de télétravail. De plus, je dois me concentrer uniquement sur les occurrences du mot \"semaine\" ou d'autres notions de fréquence ou de volume par semaine.\n",
      "\n",
      "Mes trouvailles :\n",
      "\n",
      "* Article 4: \"L’organisation alternative de l’activité domicile / entreprise se fait sur la base de deux (2) jours ouvrés par semaine, du mardi au vendredi pour les salariés à plein temps et les salariés à temps partiel ou à forfait jours réduit travaillant au moins à 80%.\"\n",
      "\n",
      "Ma réponse :\n",
      "\n",
      "nombrejourdeteletravailmaxparsemaine=2\n",
      "\n",
      "Mon indice de confiance :\n",
      "\n",
      "100%\n",
      "\n",
      "122 T09321007118\n"
     ]
    },
    {
     "name": "stderr",
     "output_type": "stream",
     "text": [
      "Setting `pad_token_id` to `eos_token_id`:2 for open-end generation.\n"
     ]
    },
    {
     "name": "stdout",
     "output_type": "stream",
     "text": [
      "Q_TTSEM_NOMBRE:* Mon raisonnement : Je dois trouver dans le texte une indication du nombre maximal de jours de télétravail par semaine. Pour cela, je vais rechercher les occurrences du mot \"semaine\" dans le contexte du télétravail.\n",
      "* Mes trouvailles : Dans le texte, on peut lire : \"Pour les salarié-es qui auront recours au télétravail 1 à 2 fois par semaine bénéficieront d’une prime de 10 (dix) €uros bruts mensuels.\" et \"Pour les salarié-es qui auront recours au télétravail 3 fois et plus par semaine bénéficieront d’une prime de 15 (quinze) €uros bruts mensuels.\".\n",
      "* Ma réponse : nombrejourdeteletravailmaxparsemaine=3\n",
      "* Mon indice de confiance : 100%\n",
      "\n",
      "123 T06421003693\n"
     ]
    },
    {
     "name": "stderr",
     "output_type": "stream",
     "text": [
      "Setting `pad_token_id` to `eos_token_id`:2 for open-end generation.\n"
     ]
    },
    {
     "name": "stdout",
     "output_type": "stream",
     "text": [
      "Q_TTSEM_NOMBRE:\n",
      "* Mon raisonnement : Je vais rechercher dans le texte les occurrences du mot \"semaine\" associé au télétravail et au nombre de jours de télétravail. Je vais ignorer les passages qui concernent les indemnités ou le télétravail occasionnel.\n",
      "* Mes trouvailles : Dans le document 3.3 Formulaire de demande de télétravail, on peut lire \"Le nombre de jours télétravaillés prévus par le formulaire de demande de télétravail est d’un ou deux jours entier(s) maximum par semaine.\"\n",
      "* Ma réponse : nombrejourdeteletravailmaxparsemaine=2\n",
      "* Mon indice de confiance : 90%\n",
      "\n",
      "124 T59L21011687\n"
     ]
    },
    {
     "name": "stderr",
     "output_type": "stream",
     "text": [
      "Setting `pad_token_id` to `eos_token_id`:2 for open-end generation.\n"
     ]
    },
    {
     "name": "stdout",
     "output_type": "stream",
     "text": [
      "Q_TTSEM_NOMBRE:### Mon raisonnement :\n",
      "Je dois trouver dans le contexte une indication du nombre maximal de jours de télétravail par semaine. Je dois donc trouver une phrase contenant le mot \"semaine\" associé au télétravail.\n",
      "\n",
      "### Mes trouvailles :\n",
      "* \"Le rythme de télétravail sera au minimum de 1 jour toutes les 2 semaines et ne pourra excéder 1 jour par semaine pour les collaborateurs concernés.\"\n",
      "* \"Le temps de présence physique du collaborateur dans les locaux de l'entreprise devra donc être au minimum de 3 jours par semaine,\"\n",
      "\n",
      "### Ma réponse :\n",
      "nombrejourdeteletravailmaxparsemaine=1\n",
      "\n",
      "### Mon indice de confiance :\n",
      "0.9\n",
      "\n",
      "**Raison :** Les deux phrases indiquent clairement que le nombre maximal de jours de télétravail par semaine est de 1.\n",
      "\n",
      "125 T07721005504\n"
     ]
    },
    {
     "name": "stderr",
     "output_type": "stream",
     "text": [
      "Setting `pad_token_id` to `eos_token_id`:2 for open-end generation.\n"
     ]
    },
    {
     "name": "stdout",
     "output_type": "stream",
     "text": [
      "Q_TTSEM_NOMBRE:* Mon raisonnement : Je dois trouver dans le texte une indication du nombre maximal de jours de télétravail par semaine. Ce nombre doit être explicite et ne pas être déduit d'autres informations. De plus, je dois m'assurer que cette information concerne le télétravail régulier et non occasionnel.\n",
      "* Mes trouvailles : \"Un accord relatif à la mise en place du télétravail a été signé au sein de la société le 17 janvier 2020. Cet accord a ouvert la possibilité aux salariés éligibles d’effectuer un jour par semaine de télétravail formalisé par un avenant au contrat de travail.\"\n",
      "* Ma réponse : nombrejourdeteletravailmaxparsemaine=1\n",
      "* Mon indice de confiance : 100%\n",
      "\n",
      "126 T09221024480\n"
     ]
    },
    {
     "name": "stderr",
     "output_type": "stream",
     "text": [
      "Setting `pad_token_id` to `eos_token_id`:2 for open-end generation.\n"
     ]
    },
    {
     "name": "stdout",
     "output_type": "stream",
     "text": [
      "Q_TTSEM_NOMBRE:* Mon raisonnement : Je dois trouver dans le texte une indication du nombre maximal de jours de télétravail par semaine. Pour cela, je vais me concentrer sur les paragraphes qui contiennent les mots-clés \"semaine\" ou une notion de fréquence hebdomadaire, et qui concernent le nombre de jour de télétravail proposé, autorisé ou limité. J'ignore les informations sur le nombre de jour de télétravail par année, mois ou trimestre, et je ne tiens pas compte des paragraphes qui relatent d'indemnisation par jour de télétravail, ni du télétravail ponctuel ou occasionnel.\n",
      "* Mes trouvailles : \"Le nombre de jour de télétravail autorisés passe de 4 jours par mois à 2 jours par semaine\"\n",
      "* Ma réponse : nombrejourdeteletravailmaxparsemaine=2\n",
      "* Mon indice de confiance : 100%\n",
      "\n",
      "127 T02621002990\n"
     ]
    },
    {
     "name": "stderr",
     "output_type": "stream",
     "text": [
      "Setting `pad_token_id` to `eos_token_id`:2 for open-end generation.\n"
     ]
    },
    {
     "name": "stdout",
     "output_type": "stream",
     "text": [
      "Q_TTSEM_NOMBRE:\n",
      "Mon raisonnement :\n",
      "\n",
      "Je vais rechercher dans le texte les occurrences du mot-clé \"semaine\" associé à une notion de fréquence ou de volume de télétravail. Je m'intéresse uniquement aux jours de télétravail réguliers et non aux télétravail ponctuel ou occasionnel. Je ne tiens pas compte des informations sur le nombre de jour de télétravail par année, mois ou trimestre, ni des informations sur les indemnisations.\n",
      "\n",
      "Mes trouvailles :\n",
      "\n",
      "* \"Pour conserver une cohésion d’équipe au sein de l’établissement, les parties conviennent d’un maximum de 2 jours par semaine.\"\n",
      "\n",
      "Ma réponse :\n",
      "\n",
      "nombrejourdeteletravailmaxparsemaine=2\n",
      "\n",
      "Mon indice de confiance :\n",
      "\n",
      "0.9\n",
      "\n",
      "128 T05121003268\n"
     ]
    },
    {
     "name": "stderr",
     "output_type": "stream",
     "text": [
      "Setting `pad_token_id` to `eos_token_id`:2 for open-end generation.\n"
     ]
    },
    {
     "name": "stdout",
     "output_type": "stream",
     "text": [
      "Q_TTSEM_NOMBRE:\n",
      "* Mon raisonnement : Je vais rechercher dans le texte les occurrences du mot \"semaine\" associé au télétravail et précisant un nombre de jours. Je vais ignorer les passages traitant de l'indemnisation ou du télétravail ponctuel/occasionnel.\n",
      "* Mes trouvailles : \"Le salarié télétravailleur à temps plein devra disposer d'au moins 12 jours de présence par an dans les locaux de l’entreprise à Reims ou dans tout autre endroit où peut être organisée une réunion, une manifestation auxquelles participent d’autres salariés et le salarié télétravailleur à temps partiel de 7 jours de présence minimum.\"\n",
      "* Ma réponse : nombrejourdeteletravailmaxparsemaine=0\n",
      "* Mon indice de confiance : 0, car je n'ai pas trouvé dans le texte l'information demandée.\n",
      "\n",
      "129 T00821001063\n"
     ]
    },
    {
     "name": "stderr",
     "output_type": "stream",
     "text": [
      "Setting `pad_token_id` to `eos_token_id`:2 for open-end generation.\n"
     ]
    },
    {
     "name": "stdout",
     "output_type": "stream",
     "text": [
      "Q_TTSEM_NOMBRE:\n",
      "* Mon raisonnement : Je vais rechercher dans le texte les paragraphes qui comportent le mot-clé \"semaine\" ou une notion de fréquence, ou de volume par semaine et qui concernent le nombre de jour de télétravail proposé, autorisé ou limité. Ensuite, je vais identifier le maximum de ces éventuelles réponses dans une variable 'nombrejourdeteletravailmaxparsemaine'.\n",
      "* Mes trouvailles : \"La Société définit deux types de télétravail habituel Configuration A Le télétravail est limité à 1 jour par semaine.\" et \"Configuration B Le télétravail est limité à un maximum de 24 days par année civile sans report possible d’une année sur l’autre.\"\n",
      "* Ma réponse : nombrejourdeteletravailmaxparsemaine=1\n",
      "* Mon indice de confiance : 90%\n",
      "\n",
      "130 T04421010989\n"
     ]
    },
    {
     "name": "stderr",
     "output_type": "stream",
     "text": [
      "Setting `pad_token_id` to `eos_token_id`:2 for open-end generation.\n"
     ]
    },
    {
     "name": "stdout",
     "output_type": "stream",
     "text": [
      "Q_TTSEM_NOMBRE:### Mon raisonnement :\n",
      "Je vais lire attentivement chaque document fourni et rechercher les paragraphes qui comportent le mot-clé \"semaine\" ou une notion de fréquence, ou de volume par semaine et qui concernent le nombre de jour de télétravail proposé, autorisé ou limité. Je ne tiendrai pas compte des paragraphes qui relatent d'indemnisation par jour de télétravail, ni du télétravail ponctuel ou occasionnel. Je ne considérerai pas non plus les informations sur le nombre de jour de télétravail par année, mois ou trimestre, ou forfait par année, mois ou trimestre. Si je trouve une réponse, je l'affecterai dans une variable 'nombrejourdeteletravailmaxparsemaine'. Sinon, je retournerai cette variable valant 0.\n",
      "\n",
      "### Mes trouvailles :\n",
      "* \"Un minimum de 3 jours par semaine calendaire au bureau sera observé. Ainsi, entre un et deux jours par semaine de télétravail pourront être mis en place pour un salarié à temps plein.\"\n",
      "* \"Dans certaines situations, une certaine souplesse pourra être accordée pendant la période allant jusqu’à fin août, de l’ordre de jusqu’à 3 jours de télétravail par semaine (mini 2 Jours de présence par semaine au bureau).\"\n",
      "* \"Les parties signataires du présent accord s’entendent pour déterminer que la période d’adaptation a eu lieu pour tous les collaborateurs déjà présents sur l’année écoulée, du fait du télétravail rendu obligatoire par le contexte sanitaire. Il est ainsi défini qu’il n’est pas nécessaire de renouveler cette période d’adaptation. Pour les salariés arrivant pendant la durée de l’accord, une période d’adaptation sera mise en place. Comme mentionné à l’article 2, le collaborateur ou la direction peuvent à tout moment mettre fin au télétravail, après un préavis motivé de 3 semaines. Ce délai peut être réduit en cas d’accord entre les parties.\"\n",
      "\n",
      "### Ma réponse :\n",
      "nombrejourdeteletravailmaxparsemaine=2\n",
      "\n",
      "### Mon indice de confiance :\n",
      "0.9\n",
      "\n",
      "131 T04221004639\n"
     ]
    },
    {
     "name": "stderr",
     "output_type": "stream",
     "text": [
      "Setting `pad_token_id` to `eos_token_id`:2 for open-end generation.\n"
     ]
    },
    {
     "name": "stdout",
     "output_type": "stream",
     "text": [
      "Q_TTSEM_NOMBRE:* Mon raisonnement : Je dois trouver dans le texte une indication du nombre maximal de jours de télétravail par semaine. Ce nombre doit être explicite et ne pas résulter d'une déduction ou d'une hypothèse. De plus, je dois ignorer les informations sur le nombre de jours de télétravail par année, mois ou trimestre, ainsi que les informations sur le télétravail ponctuel ou occasionnel.\n",
      "* Mes trouvailles : \"Le télétravail s’inscrit dans une relation managériale basée sur la confiance mutuelle. La charge de travail d’un télétravailleur doit être élaborée en amont par le manageur et être équivalente à celle effectuée dans les locaux de l’entreprise.\"\n",
      "* Ma réponse : nombrejourdeteletravailmaxparsemaine=5\n",
      "* Mon indice de confiance : 80%. Bien que le texte ne contienne pas directement l'information recherchée, on peut déduire que le nombre de jours de télétravail par semaine ne peut excéder le nombre de jours ouvrables dans une semaine, soit 5.\n",
      "\n",
      "132 T09221026760\n"
     ]
    },
    {
     "name": "stderr",
     "output_type": "stream",
     "text": [
      "Setting `pad_token_id` to `eos_token_id`:2 for open-end generation.\n"
     ]
    },
    {
     "name": "stdout",
     "output_type": "stream",
     "text": [
      "Q_TTSEM_NOMBRE:\n",
      "* Mon raisonnement : Je vais rechercher dans les documents fournis les paragraphes qui comportent le mot-clé \"semaine\" ou une notion de fréquence, ou de volume par semaine et qui concernent le nombre de jour de télétravail proposé, autorisé ou limité. Je ne tiendrai pas compte des paragraphes qui relatent d'indemnisation par jour de télétravail, ni du télétravail ponctuel ou occasionnel. Je ne prendrai pas non plus en compte les informations sur le nombre de jour de télétravail par année, mois ou trimestre, ou forfait par année, mois ou trimestre.\n",
      "* Mes trouvailles : Article 2-3-1 du document 1 : \"L’accord-cadre de Groupe prévoit deux formules de rythme de télétravail possible. Les parties au présent accord retiennent la formule de télétravail suivante pour le personnel dont les postes sont éligibles conformément à l’article 2-1-2 : rythme de télétravail de 2 jours au maximum par semaine et par salarié.\"\n",
      "* Ma réponse : nombrejourdeteletravailmaxparsemaine=2\n",
      "* Mon indice de confiance : 100%\n",
      "\n",
      "133 T03321007161\n"
     ]
    },
    {
     "name": "stderr",
     "output_type": "stream",
     "text": [
      "Setting `pad_token_id` to `eos_token_id`:2 for open-end generation.\n"
     ]
    },
    {
     "name": "stdout",
     "output_type": "stream",
     "text": [
      "Q_TTSEM_NOMBRE:### Mon raisonnement :\n",
      "Je dois trouver dans le texte une indication du nombre maximal de jours de télétravail par semaine. Je dois ignorer les passages qui concernent le télétravail ponctuel ou occasionnel, les indemnisations par jour de télétravail, et les mentions de jours de télétravail par année, mois ou trimestre.\n",
      "\n",
      "### Mes trouvailles :\n",
      "* \"Le télétravail régulier à domicile ne pourra être exercé que pour un minimum d’un (1) jour par semaine et un maximum de quatre (4) jours par semaine.\"\n",
      "\n",
      "### Ma réponse :\n",
      "nombrejourdeteletravailmaxparsemaine=4\n",
      "\n",
      "### Mon indice de confiance :\n",
      "0.9\n",
      "\n",
      "Voici mon raisonnement :\n",
      "\n",
      "* Je recherche dans le texte une indication du nombre maximal de jours de télétravail par semaine.\n",
      "* Je trouve la phrase \"Le télétravail régulier à domicile ne pourra être exercé que pour un minimum d’un (1) jour par semaine et un maximum de quatre (4) jours par semaine.\" qui indique que le nombre maximal de jours de télétravail par semaine est de 4.\n",
      "* Je ne trouve pas d'autres indications de nombre maximal de jours de télétravail par semaine dans le texte.\n",
      "\n",
      "Donc, je peux conclure que le nombre maximal de jours de télétravail par semaine est de 4.\n",
      "\n",
      "134 T07521031493\n"
     ]
    },
    {
     "name": "stderr",
     "output_type": "stream",
     "text": [
      "Setting `pad_token_id` to `eos_token_id`:2 for open-end generation.\n"
     ]
    },
    {
     "name": "stdout",
     "output_type": "stream",
     "text": [
      "Q_TTSEM_NOMBRE:### Mon raisonnement :\n",
      "Je vais rechercher dans le texte tous les paragraphes qui comportent le mot-clé \"semaine\" ou une notion de fréquence associée au télétravail et qui précisent le nombre de jours de télétravail par semaine. Je vais ignorer les paragraphes qui concernent l'indemnisation par jour de télétravail, le télétravail ponctuel ou occasionnel, ainsi que les informations sur le nombre de jours de télétravail par année, mois ou trimestre.\n",
      "\n",
      "### Mes trouvailles :\n",
      "* Article 2 - Organisation du temps de travail - Fréquence et nombre de jours télétravaillés - Option 1 : \"Vous serez en situation de télétravail à raison de deux jours par semaine maximum.\"\n",
      "* Article 2 - Organisation du temps de travail - Fréquence et nombre de jours télétravaillés - Option 2 : \"Vous serez en situation de télétravail à raison d’un jour par semaine maximum.\"\n",
      "* Article 9 - Modalités du télétravail régulier : \"Soit d’un forfait mobile de 45 jours de télétravail maximum par an.\" (avec une limitation de 2 jours par semaine)\n",
      "\n",
      "### Ma réponse :\n",
      "nombrejourdeteletravailmaxparsemaine=2\n",
      "\n",
      "### Mon indice de confiance :\n",
      "0.95\n",
      "\n",
      "135 T07521028915\n"
     ]
    },
    {
     "name": "stderr",
     "output_type": "stream",
     "text": [
      "Setting `pad_token_id` to `eos_token_id`:2 for open-end generation.\n"
     ]
    },
    {
     "name": "stdout",
     "output_type": "stream",
     "text": [
      "Q_TTSEM_NOMBRE:### Mon raisonnement :\n",
      "Je vais rechercher dans le texte les occurrences du mot \"semaine\" associé au nombre de jours de télétravail. Je vais ignorer les passages qui concernent les indemnisations, le télétravail ponctuel ou occasionnel, et les informations sur le nombre de jours de télétravail par année, mois ou trimestre.\n",
      "\n",
      "### Mes trouvailles :\n",
      "* \"afin de maintenir le lien social du salarié et de le prévenir de l’isolement, le recours au télétravail flexible est limité, de sorte qu’il devra être présent dans les locaux de l’entreprise au moins trois jours par semaine.\"\n",
      "\n",
      "### Ma réponse :\n",
      "nombrejourdeteletravailmaxparsemaine=3\n",
      "\n",
      "### Mon indice de confiance :\n",
      "0.8\n",
      "\n",
      "### Explication :\n",
      "J'ai trouvé une indication claire sur le nombre maximal de jours de télétravail par semaine dans le paragraphe cité. Cependant, je n'ai pas pu vérifier s'il existe des exceptions ou des conditions particulières qui pourraient modifier ce nombre.\n",
      "\n",
      "136 T09221025128\n"
     ]
    },
    {
     "name": "stderr",
     "output_type": "stream",
     "text": [
      "Setting `pad_token_id` to `eos_token_id`:2 for open-end generation.\n"
     ]
    },
    {
     "name": "stdout",
     "output_type": "stream",
     "text": [
      "Q_TTSEM_NOMBRE:\n",
      "Mon raisonnement :\n",
      "Je vais rechercher dans le texte les paragraphes qui comportent le mot-clé \"semaine\" ou une notion de fréquence, ou de volume par semaine et qui concernent le nombre de jour de télétravail proposé, autorisé ou limité. Je vais ignorer les paragraphes qui relatent d'indemnisation par jour de télétravail, ni le télétravail ponctuel ou occasionnel et ignore les informations sur le nombre de jour de télétravail par [\"année\", \"mois\", \"trimestre\"] ou forfait par [\"année\", \"mois\", \"trimestre\"].\n",
      "\n",
      "Mes trouvailles :\n",
      "* Article 2.1 : \"Afin de préserver le lien social avec l’entreprise, les salariés éligibles peuvent, avec accord du manager, bénéficier du télétravail dans la limite de xx jours par semaine.\"\n",
      "* Article 2.2.1 : \"Par exception bénéficient de xx jour de télétravail par semaine : Les salariés en CDI ayant validé leur période d’essai, mais ayant moins de 6 mois d’ancienneté ; Les alternants à compter de la 2e de présence dans l’entreprise.\"\n",
      "\n",
      "Ma réponse :\n",
      "nombrejourdeteletravailmaxparsemaine=5\n",
      "\n",
      "Mon indice de confiance :\n",
      "0.9\n",
      "\n",
      "---\n",
      "\n",
      "137 T03821007078\n"
     ]
    },
    {
     "name": "stderr",
     "output_type": "stream",
     "text": [
      "Setting `pad_token_id` to `eos_token_id`:2 for open-end generation.\n"
     ]
    },
    {
     "name": "stdout",
     "output_type": "stream",
     "text": [
      "Q_TTSEM_NOMBRE:\n",
      "* Mon raisonnement : Je vais rechercher dans le texte les paragraphes qui comportent le mot-clé \"semaine\" ou une notion de fréquence, ou de volume par semaine et qui concernent le nombre de jour de télétravail proposé, autorisé ou limité. Je ne tiendrai pas compte des paragraphes qui relatent d'indemnisation par jour de télétravail, ni le télétravail ponctuel ou occasionnel et ignore les informations sur le nombre de jour de télétravail par année, mois, trimestre ou forfait par année, mois, trimestre.\n",
      "* Mes trouvailles : \"Afin d’encadrer cette pratique certains critères d’éligibilités ont été définis pour permettre d’apprécier ce nouveau mode d’organisation du travail. Ainsi, pour effectuer du télétravail occasionnel il faudra remplir les conditions suivantes : [...] Disposer à son domicile d’un espace pour télétravailler.\" Cette phrase ne précise pas le nombre de jours de télétravail par semaine.\n",
      "* Ma réponse : nombrejourdeteletravailmaxparsemaine=0\n",
      "* Mon indice de confiance : 100%\n",
      "\n",
      "138 T09221024001\n"
     ]
    },
    {
     "name": "stderr",
     "output_type": "stream",
     "text": [
      "Setting `pad_token_id` to `eos_token_id`:2 for open-end generation.\n"
     ]
    },
    {
     "name": "stdout",
     "output_type": "stream",
     "text": [
      "Q_TTSEM_NOMBRE:### Mon raisonnement :\n",
      "Je vais lire attentivement tous les documents fournis et rechercher les paragraphes qui comportent le mot-clé \"semaine\" ou une notion de fréquence, ou de volume par semaine et qui concernent le nombre de jours de télétravail proposé, autorisé ou limité. Je ne tiendrai pas compte des paragraphes qui relatent d'indemnisation par jour de télétravail, ni du télétravail ponctuel ou occasionnel. De plus, je ne prendrai pas en compte les informations sur le nombre de jours de télétravail par année, mois, trimestre ou forfait par année, mois ou trimestre. Si je trouve une valeur correspondant au nombre maximal de jours de télétravail par semaine, je l'affecterai à la variable \"nombrejourdeteletravailmaxparsemaine\". Sinon, je retournerai cette variable valant 0.\n",
      "\n",
      "### Mes trouvailles :\n",
      "* Dans le document 1, il n'y a pas de paragraphe qui précise explicitement le nombre de jours de télétravail par semaine.\n",
      "* Dans le document 2, il n'y a pas de paragraphe qui précise explicitement le nombre de jours de télétravail par semaine.\n",
      "* Dans le document 3, il n'y a pas de paragraphe qui précise explicitement le nombre de jours de télétravail par semaine.\n",
      "\n",
      "### Ma réponse :\n",
      "nombrejourdeteletravailmaxparsemaine=0\n",
      "\n",
      "### Mon indice de confiance :\n",
      "0/100\n",
      "\n",
      "139 T04121001532\n"
     ]
    },
    {
     "name": "stderr",
     "output_type": "stream",
     "text": [
      "Setting `pad_token_id` to `eos_token_id`:2 for open-end generation.\n"
     ]
    },
    {
     "name": "stdout",
     "output_type": "stream",
     "text": [
      "Q_TTSEM_NOMBRE:### Mon raisonnement :\n",
      "Je vais lire attentivement chaque document fourni et rechercher les paragraphes contenant le mot-clé \"semaine\" ou une notion de fréquence associée au télétravail. Je ne tiendrai compte que des occurrences où le nombre de jours de télétravail par semaine est explicitement mentionné, sans me référer aux jours de présence obligatoire sur site ou aux mentions de forfait par année, mois ou trimestre.\n",
      "\n",
      "### Mes trouvailles :\n",
      "* Document 1 : Aucune mention explicite du nombre de jours de télétravail par semaine n'est trouvée dans le contexte fourni.\n",
      "* Document 2 : Aucune mention explicite du nombre de jours de télétravail par semaine n'est trouvée dans le contexte fourni.\n",
      "* Document 3 : Aucune mention explicite du nombre de jours de télétravail par semaine n'est trouvée dans le contexte fourni.\n",
      "\n",
      "### Ma réponse :\n",
      "nombrejourdeteletravailmaxparsemaine=0\n",
      "\n",
      "### Mon indice de confiance :\n",
      "0 - Aucune information pertinente trouvée dans les documents fournis.\n",
      "\n",
      "140 T03121008885\n"
     ]
    },
    {
     "name": "stderr",
     "output_type": "stream",
     "text": [
      "Setting `pad_token_id` to `eos_token_id`:2 for open-end generation.\n",
      "Created a chunk of size 11350, which is longer than the specified 5000\n",
      "Created a chunk of size 6156, which is longer than the specified 5000\n",
      "Created a chunk of size 14794, which is longer than the specified 5000\n"
     ]
    },
    {
     "name": "stdout",
     "output_type": "stream",
     "text": [
      "Q_TTSEM_NOMBRE:\n",
      "* Mon raisonnement : Je vais rechercher dans le texte les occurrences du mot \"semaine\" associé à une information sur le nombre de jours de télétravail. Je vais ignorer les passages qui concernent l'indemnisation ou le télétravail occasionnel.\n",
      "* Mes trouvailles : \"Nombre de jour(s) souhaité(s) pour le télétravail : 1\", \"Jour(s) souhaité (s) pour le télétravail : mardi, jeudi, vendredi (cocher 2 cases maximum)\"\n",
      "* Ma réponse : nombrejourdeteletravailmaxparsemaine=3\n",
      "* Mon indice de confiance : 80%\n",
      "\n",
      "141 T09221026110\n"
     ]
    },
    {
     "name": "stderr",
     "output_type": "stream",
     "text": [
      "Setting `pad_token_id` to `eos_token_id`:2 for open-end generation.\n"
     ]
    },
    {
     "name": "stdout",
     "output_type": "stream",
     "text": [
      "Q_TTSEM_NOMBRE:\n",
      "* Mon raisonnement : Je vais rechercher dans le texte les paragraphes qui comportent le mot-clé \"semaine\" ou une notion de fréquence, ou de volume par semaine et qui concernent le nombre de jour de télétravail proposé, autorisé ou limité. Dans ces paragraphes, je vais chercher une expression numérique qui représente le nombre maximal de jours de télétravail par semaine.\n",
      "* Mes trouvailles : \"Un maximum de 2 jours par semaine, et de 2 demi-journées pouvant être cumulées sur une même journée au cours de la même semaine ; Après accord entre le Manager et le salarié, le nombre de jours de télétravail peut toutefois être étendu à la semaine entière (soit à 5 jours) sur une période de 4 semaines maximum, à l’issue desquelles un retour à un maximum de 3 jours de télétravail par semaine est obligatoire pendant au moins deux semaines.\"\n",
      "* Ma réponse : nombrejourdeteletravailmaxparsemaine=5\n",
      "* Mon indice de confiance : 100%\n",
      "\n",
      "142 T59L21012627\n"
     ]
    },
    {
     "name": "stderr",
     "output_type": "stream",
     "text": [
      "Setting `pad_token_id` to `eos_token_id`:2 for open-end generation.\n"
     ]
    },
    {
     "name": "stdout",
     "output_type": "stream",
     "text": [
      "Q_TTSEM_NOMBRE:\n",
      "* Mon raisonnement : Je dois trouver dans le texte une indication du nombre maximal de jours de télétravail par semaine. Pour cela, je vais rechercher les occurrences du mot \"semaine\" ainsi que les expressions liées au volume ou à la fréquence de télétravail. Ensuite, je vérifierai que cette information concerne bien le nombre de jours de télétravail proposé, autorisé ou limité, et non pas les indemnisations ou le télétravail ponctuel ou occasionnel.\n",
      "* Mes trouvailles : \"Le présent texte a pour objet d'étendre la durée de la validité de l'accord d'entreprise du 12 novembre 2020 au regard de la poursuite de la crise sanitaire et de maintenir les règles qu'il a fixées concernant le télétravail.\"\n",
      "* Ma réponse : nombrejourdeteletravailmaxparsemaine=5\n",
      "* Mon indice de confiance : 90% - Bien que je n'aie pas trouvé de phrase explicitement mentionnant le nombre de jours de télétravail par semaine, le texte mentionne le maintien des règles fixées par l'accord initial. Comme cet accord était valable jusqu'au 28 février 2021 et qu'aucune nouvelle limite hebdomadaire n'est spécifiée dans l'avenant, je suppose que la limite initiale de 5 jours par semaine reste en vigueur.\n",
      "\n",
      "143 T02121003243\n"
     ]
    },
    {
     "name": "stderr",
     "output_type": "stream",
     "text": [
      "Setting `pad_token_id` to `eos_token_id`:2 for open-end generation.\n"
     ]
    },
    {
     "name": "stdout",
     "output_type": "stream",
     "text": [
      "Q_TTSEM_NOMBRE:* Mon raisonnement : Je vais rechercher dans le texte les occurrences du mot \"semaine\" associé à une notion de fréquence, de volume ou de quantité de jours de télétravail proposé, autorisé ou limité. Je vais ignorer les passages qui relatent d'indemnisation par jour de télétravail, ni le télétravail ponctuel ou occasionnel et ignore les informations sur le nombre de jour de télétravail par \"année\", \"mois\", \"trimestre\" ou forfait par \"année\", \"mois\", \"trimestre\".\n",
      "* Mes trouvailles : \"Le télétravail régulier prend la forme d’un forfait mensuel de jours télétravaillés selon les deux modalités suivantes : 6 jours de télétravail par mois maximum, accessible à tous les salariés éligibles ; 8 jours de télétravail par mois maximum, étant précisé que ce forfait n’est accessible qu’aux salariés à temps complet, soit au salarié ETAM dont le temps de travail est de 35 heures hebdomadaires ou au salarié cadre dont le forfait jours est de 206 jours.\"\n",
      "* Ma réponse : nombrejourdeteletravailmaxparsemaine=6\n",
      "* Mon indice de confiance : 90%\n",
      "\n",
      "144 T06221005678\n"
     ]
    },
    {
     "name": "stderr",
     "output_type": "stream",
     "text": [
      "Setting `pad_token_id` to `eos_token_id`:2 for open-end generation.\n"
     ]
    },
    {
     "name": "stdout",
     "output_type": "stream",
     "text": [
      "Q_TTSEM_NOMBRE:### Mon raisonnement :\n",
      "Je vais lire attentivement tous les documents fournis et rechercher les paragraphes qui comportent le mot-clé \"semaine\" ou une notion de fréquence, ou de volume par semaine et qui concernent le nombre de jour de télétravail proposé, autorisé ou limité. Je ne tiendrai pas compte des paragraphes qui relatent d'indemnisation par jour de télétravail, ni le télétravail ponctuel ou occasionnel et j'ignorerai les informations sur le nombre de jour de télétravail par année, mois, trimestre ou forfait par année, mois, trimestre.\n",
      "\n",
      "### Mes trouvailles :\n",
      "* Dans le premier document, il n'y a pas de paragraphe qui précise explicitement le nombre maximal de jours de télétravail par semaine.\n",
      "* Dans le deuxième document, il n'y a pas de paragraphe qui précise explicitement le nombre maximal de jours de télétravail par semaine.\n",
      "* Dans le troisième document, il y a un paragraphe qui précise explicitement le nombre maximal de jours de télétravail par semaine, il s'agit de l'article 6 qui mentionne \"Le rythme régulier du télétravail ne peut pas dépasser 2 jours maximum flottants par semaine.\"\n",
      "\n",
      "### Ma réponse :\n",
      "nombrejourdeteletravailmaxparsemaine=2\n",
      "\n",
      "### Mon indice de confiance :\n",
      "0.85 (j'ai trouvé une réponse explicite dans un des documents fournis)\n",
      "\n",
      "145 T09121006533\n"
     ]
    },
    {
     "name": "stderr",
     "output_type": "stream",
     "text": [
      "Setting `pad_token_id` to `eos_token_id`:2 for open-end generation.\n"
     ]
    },
    {
     "name": "stdout",
     "output_type": "stream",
     "text": [
      "Q_TTSEM_NOMBRE:\n",
      "* Mon raisonnement : Je vais rechercher dans le texte les occurrences du mot \"semaine\" et extraire les informations relatives au nombre de jours de télétravail par semaine. Ensuite, je vérifierai si ces informations concernent le nombre de jours de télétravail régulier proposé, autorisé ou limité.\n",
      "* Mes trouvailles : \"Il est convenu entre les parties qu’un salarié ne puisse pas être en télétravail plus de deux journées par semaine.\"\n",
      "* Ma réponse : nombrejourdeteletravailmaxparsemaine=2\n",
      "* Mon indice de confiance : 90%\n",
      "\n",
      "146 T03721002530\n"
     ]
    },
    {
     "name": "stderr",
     "output_type": "stream",
     "text": [
      "Setting `pad_token_id` to `eos_token_id`:2 for open-end generation.\n"
     ]
    },
    {
     "name": "stdout",
     "output_type": "stream",
     "text": [
      "Q_TTSEM_NOMBRE:\n",
      "* Mon raisonnement : Je vais rechercher dans les documents fournis les paragraphes qui comportent le mot-clé \"semaine\" ou une notion de fréquence, ou de volume par semaine et qui concernent le nombre de jour de télétravail proposé, autorisé ou limité. Je ne tiendrai pas compte des paragraphes qui relatent d'indemnisation par jour de télétravail, ni le télétravail ponctuel ou occasionnel et ignorerai les informations sur le nombre de jour de télétravail par [\"année\", \"mois\", \"trimestre\"] ou forfait par [\"année\", \"mois\", \"trimestre\"].\n",
      "* Mes trouvailles : \"Le collaborateur cadre soit présent dans l’entreprise au moins trois jours par semaine.\"\n",
      "* Ma réponse : nombrejourdeteletravailmaxparsemaine=3\n",
      "* Mon indice de confiance : 100%\n",
      "\n",
      "147 T09321006745\n"
     ]
    },
    {
     "name": "stderr",
     "output_type": "stream",
     "text": [
      "Setting `pad_token_id` to `eos_token_id`:2 for open-end generation.\n"
     ]
    },
    {
     "name": "stdout",
     "output_type": "stream",
     "text": [
      "Q_TTSEM_NOMBRE:\n",
      "* Mon raisonnement : Je dois trouver dans le texte une indication du nombre maximal de jours de télétravail par semaine. Pour cela, je vais rechercher les occurrences du mot \"semaine\" et vérifier si elles sont associées à une information sur le télétravail.\n",
      "* Mes trouvailles : \"Il a été convenu, par le présent accord, d’augmenter le nombre de jours de travail à **deux jours par semaine** permettant aux salariés concernés de recourir au télétravail en application des dispositions et du régime prévu dans l’accord du 7 décembre 2016 relatif à la mise en place du télétravail applicable au sein de l’entreprise.\"\n",
      "* Ma réponse : nombrejourdeteletravailmaxparsemaine=2\n",
      "* Mon indice de confiance : 100%\n",
      "\n",
      "148 T09221026132\n"
     ]
    },
    {
     "name": "stderr",
     "output_type": "stream",
     "text": [
      "Setting `pad_token_id` to `eos_token_id`:2 for open-end generation.\n"
     ]
    },
    {
     "name": "stdout",
     "output_type": "stream",
     "text": [
      "Q_TTSEM_NOMBRE:\n",
      "* Mon raisonnement : Je vais rechercher dans le texte les occurrences du mot \"semaine\" et vérifier si elles sont associées au nombre de jours de télétravail. Si c'est le cas, je vérifierai si un nombre est explicitement mentionné et je l'extraierai.\n",
      "* Mes trouvailles : Dans le texte, il n'y a pas d'occurrence du mot \"semaine\" associé au nombre de jours de télétravail.\n",
      "* Ma réponse : nombrejourdeteletravailmaxparsemaine=0\n",
      "* Mon indice de confiance : 100%\n",
      "\n"
     ]
    }
   ],
   "source": [
    "import glob\n",
    "PARQUET_FILE_COMPARE=\"Accords/Donnees_Mathilde_Pesenti_TT_Pour_DEE_v2_def.parquet\"\n",
    "for (index,(num_dossier,accord)) in df_init.iterrows():\n",
    "    print(index,num_dossier)\n",
    "    with open(f\"{num_dossier}.txt\",\"w\", encoding=\"utf-8\") as file:\n",
    "        file.write(accord)\n",
    "\n",
    "    loader = TextLoader(f\"{num_dossier}.txt\", encoding='utf8')\n",
    "    docs=loader.load()\n",
    "    \n",
    "    # Chunk text\n",
    "    text_splitter = CharacterTextSplitter(chunk_size=5000, \n",
    "                                          chunk_overlap=100)\n",
    "    chunked_documents = text_splitter.split_documents(docs)\n",
    "    \n",
    "    # Load chunked documents into the FAISS index\n",
    "    db = FAISS.from_documents(chunked_documents, \n",
    "                              HuggingFaceEmbeddings(model_name='sentence-transformers/all-mpnet-base-v2'))\n",
    "    \n",
    "    retriever = db.as_retriever()\n",
    "    \n",
    "    rag_chain = ( \n",
    "     {\"context\": retriever, \"question\": RunnablePassthrough()}\n",
    "        | llm_chain\n",
    "    )\n",
    "    dict_reponse,text=process_model(rag_chain,num_dossier)\n",
    "    with open(f\"{num_dossier}_response.txt\",\"w\", encoding=\"utf-8\") as file:\n",
    "        file.write(text)\n",
    "        print(text)\n",
    "    df2=pd.DataFrame.from_dict(dict_reponse,orient=\"index\")\n",
    "    df2=df2.transpose().rename(columns=VAR_TRANSLATION)\n",
    "    df2.to_csv(f\"{num_dossier}.csv\")\n",
    "    df2.to_parquet(f\"{num_dossier}.parquet\")"
   ]
  },
  {
   "cell_type": "code",
   "execution_count": 118,
   "id": "6bb81953-adb7-4343-b2c1-91cd57bdb7b2",
   "metadata": {},
   "outputs": [
    {
     "name": "stdout",
     "output_type": "stream",
     "text": [
      "global accuracy 0.6158940397350994\n",
      "accuracy on non null value 0.7604166666666666 ; nombre correct : 73 sur 96\n",
      "accuracy on null value 0.36363636363636365 ; nombre correct : 20 sur 55\n"
     ]
    }
   ],
   "source": [
    "data_files=glob.glob('*.parquet')\n",
    "df = pd.concat((pd.read_parquet(f, engine = 'pyarrow') for f in data_files))\n",
    "df=df.set_index(\"num_dossier\")\n",
    "df=df[df.nombre_jours_teletravail_semaine.values!=[None]]\n",
    "df2=pd.read_parquet(f\"{PARQUET_FILE_COMPARE}\")\n",
    "df2=df2[[\"N..Dossier\",\"nombre_jours_teletravail_semaine\"]].set_index(\"N..Dossier\")\n",
    "df_merge=df2.merge(df,how=\"left\",left_index=True, right_index=True)\n",
    "df_merge.nombre_jours_teletravail_semaine_y=df_merge.nombre_jours_teletravail_semaine_y.astype(\"float64\")\n",
    "df_merge=df_merge.fillna(0.0)\n",
    "df_merge[\"diff\"]=(df_merge.nombre_jours_teletravail_semaine_x!=df_merge.nombre_jours_teletravail_semaine_y)\n",
    "print(\"global accuracy\",1-(df_merge[\"diff\"].sum()/df_merge.shape[0]))\n",
    "\n",
    "df_rempli=df_merge[df_merge.nombre_jours_teletravail_semaine_x!=0.0]\n",
    "nb_correct,total =df_rempli.shape[0]-df_rempli[\"diff\"].sum(),df_rempli.shape[0]\n",
    "print(\"accuracy on non null value\",1-(df_rempli[\"diff\"].sum()/df_rempli.shape[0]),f\"; nombre correct : {nb_correct} sur {total}\")\n",
    "\n",
    "df_rempli=df_merge[df_merge.nombre_jours_teletravail_semaine_x==0.0]\n",
    "nb_correct,total =df_rempli.shape[0]-df_rempli[\"diff\"].sum(),df_rempli.shape[0]\n",
    "print(\"accuracy on null value\",1-(df_rempli[\"diff\"].sum()/df_rempli.shape[0]),f\"; nombre correct : {nb_correct} sur {total}\")"
   ]
  },
  {
   "cell_type": "code",
   "execution_count": 119,
   "id": "031b511b-a051-40d3-a7b3-5f833a44a9cd",
   "metadata": {},
   "outputs": [
    {
     "data": {
      "text/html": [
       "<div>\n",
       "<style scoped>\n",
       "    .dataframe tbody tr th:only-of-type {\n",
       "        vertical-align: middle;\n",
       "    }\n",
       "\n",
       "    .dataframe tbody tr th {\n",
       "        vertical-align: top;\n",
       "    }\n",
       "\n",
       "    .dataframe thead th {\n",
       "        text-align: right;\n",
       "    }\n",
       "</style>\n",
       "<table border=\"1\" class=\"dataframe\">\n",
       "  <thead>\n",
       "    <tr style=\"text-align: right;\">\n",
       "      <th></th>\n",
       "      <th>nombre_jours_teletravail_semaine_x</th>\n",
       "      <th>nombre_jours_teletravail_semaine_y</th>\n",
       "      <th>diff</th>\n",
       "    </tr>\n",
       "    <tr>\n",
       "      <th>N..Dossier</th>\n",
       "      <th></th>\n",
       "      <th></th>\n",
       "      <th></th>\n",
       "    </tr>\n",
       "  </thead>\n",
       "  <tbody>\n",
       "    <tr>\n",
       "      <th>T00621004760</th>\n",
       "      <td>1.0</td>\n",
       "      <td>2.0</td>\n",
       "      <td>True</td>\n",
       "    </tr>\n",
       "    <tr>\n",
       "      <th>T02221003288</th>\n",
       "      <td>2.0</td>\n",
       "      <td>0.0</td>\n",
       "      <td>True</td>\n",
       "    </tr>\n",
       "    <tr>\n",
       "      <th>T03121008885</th>\n",
       "      <td>2.0</td>\n",
       "      <td>3.0</td>\n",
       "      <td>True</td>\n",
       "    </tr>\n",
       "    <tr>\n",
       "      <th>T03321006775</th>\n",
       "      <td>1.0</td>\n",
       "      <td>6.0</td>\n",
       "      <td>True</td>\n",
       "    </tr>\n",
       "    <tr>\n",
       "      <th>T03821006956</th>\n",
       "      <td>1.0</td>\n",
       "      <td>2.0</td>\n",
       "      <td>True</td>\n",
       "    </tr>\n",
       "    <tr>\n",
       "      <th>T04121001532</th>\n",
       "      <td>5.0</td>\n",
       "      <td>0.0</td>\n",
       "      <td>True</td>\n",
       "    </tr>\n",
       "    <tr>\n",
       "      <th>T04221004283</th>\n",
       "      <td>2.0</td>\n",
       "      <td>0.0</td>\n",
       "      <td>True</td>\n",
       "    </tr>\n",
       "    <tr>\n",
       "      <th>T04521003587</th>\n",
       "      <td>3.0</td>\n",
       "      <td>5.0</td>\n",
       "      <td>True</td>\n",
       "    </tr>\n",
       "    <tr>\n",
       "      <th>T05121003353</th>\n",
       "      <td>0.5</td>\n",
       "      <td>5.0</td>\n",
       "      <td>True</td>\n",
       "    </tr>\n",
       "    <tr>\n",
       "      <th>T05221001044</th>\n",
       "      <td>2.0</td>\n",
       "      <td>5.0</td>\n",
       "      <td>True</td>\n",
       "    </tr>\n",
       "    <tr>\n",
       "      <th>T06721006938</th>\n",
       "      <td>2.0</td>\n",
       "      <td>5.0</td>\n",
       "      <td>True</td>\n",
       "    </tr>\n",
       "    <tr>\n",
       "      <th>T06721007237</th>\n",
       "      <td>1.5</td>\n",
       "      <td>11.0</td>\n",
       "      <td>True</td>\n",
       "    </tr>\n",
       "    <tr>\n",
       "      <th>T06721007676</th>\n",
       "      <td>2.0</td>\n",
       "      <td>5.0</td>\n",
       "      <td>True</td>\n",
       "    </tr>\n",
       "    <tr>\n",
       "      <th>T06821004760</th>\n",
       "      <td>2.0</td>\n",
       "      <td>5.0</td>\n",
       "      <td>True</td>\n",
       "    </tr>\n",
       "    <tr>\n",
       "      <th>T07521029992</th>\n",
       "      <td>2.0</td>\n",
       "      <td>0.0</td>\n",
       "      <td>True</td>\n",
       "    </tr>\n",
       "    <tr>\n",
       "      <th>T08721002004</th>\n",
       "      <td>2.0</td>\n",
       "      <td>5.0</td>\n",
       "      <td>True</td>\n",
       "    </tr>\n",
       "    <tr>\n",
       "      <th>T09221024001</th>\n",
       "      <td>4.0</td>\n",
       "      <td>0.0</td>\n",
       "      <td>True</td>\n",
       "    </tr>\n",
       "    <tr>\n",
       "      <th>T09221025128</th>\n",
       "      <td>2.0</td>\n",
       "      <td>5.0</td>\n",
       "      <td>True</td>\n",
       "    </tr>\n",
       "    <tr>\n",
       "      <th>T09221026110</th>\n",
       "      <td>3.0</td>\n",
       "      <td>5.0</td>\n",
       "      <td>True</td>\n",
       "    </tr>\n",
       "    <tr>\n",
       "      <th>T09221026193</th>\n",
       "      <td>3.0</td>\n",
       "      <td>2.0</td>\n",
       "      <td>True</td>\n",
       "    </tr>\n",
       "    <tr>\n",
       "      <th>T09221026357</th>\n",
       "      <td>2.0</td>\n",
       "      <td>3.0</td>\n",
       "      <td>True</td>\n",
       "    </tr>\n",
       "    <tr>\n",
       "      <th>T59V21001231</th>\n",
       "      <td>1.0</td>\n",
       "      <td>5.0</td>\n",
       "      <td>True</td>\n",
       "    </tr>\n",
       "    <tr>\n",
       "      <th>T59V21001419</th>\n",
       "      <td>1.0</td>\n",
       "      <td>0.0</td>\n",
       "      <td>True</td>\n",
       "    </tr>\n",
       "  </tbody>\n",
       "</table>\n",
       "</div>"
      ],
      "text/plain": [
       "              nombre_jours_teletravail_semaine_x  \\\n",
       "N..Dossier                                         \n",
       "T00621004760                                 1.0   \n",
       "T02221003288                                 2.0   \n",
       "T03121008885                                 2.0   \n",
       "T03321006775                                 1.0   \n",
       "T03821006956                                 1.0   \n",
       "T04121001532                                 5.0   \n",
       "T04221004283                                 2.0   \n",
       "T04521003587                                 3.0   \n",
       "T05121003353                                 0.5   \n",
       "T05221001044                                 2.0   \n",
       "T06721006938                                 2.0   \n",
       "T06721007237                                 1.5   \n",
       "T06721007676                                 2.0   \n",
       "T06821004760                                 2.0   \n",
       "T07521029992                                 2.0   \n",
       "T08721002004                                 2.0   \n",
       "T09221024001                                 4.0   \n",
       "T09221025128                                 2.0   \n",
       "T09221026110                                 3.0   \n",
       "T09221026193                                 3.0   \n",
       "T09221026357                                 2.0   \n",
       "T59V21001231                                 1.0   \n",
       "T59V21001419                                 1.0   \n",
       "\n",
       "              nombre_jours_teletravail_semaine_y  diff  \n",
       "N..Dossier                                              \n",
       "T00621004760                                 2.0  True  \n",
       "T02221003288                                 0.0  True  \n",
       "T03121008885                                 3.0  True  \n",
       "T03321006775                                 6.0  True  \n",
       "T03821006956                                 2.0  True  \n",
       "T04121001532                                 0.0  True  \n",
       "T04221004283                                 0.0  True  \n",
       "T04521003587                                 5.0  True  \n",
       "T05121003353                                 5.0  True  \n",
       "T05221001044                                 5.0  True  \n",
       "T06721006938                                 5.0  True  \n",
       "T06721007237                                11.0  True  \n",
       "T06721007676                                 5.0  True  \n",
       "T06821004760                                 5.0  True  \n",
       "T07521029992                                 0.0  True  \n",
       "T08721002004                                 5.0  True  \n",
       "T09221024001                                 0.0  True  \n",
       "T09221025128                                 5.0  True  \n",
       "T09221026110                                 5.0  True  \n",
       "T09221026193                                 2.0  True  \n",
       "T09221026357                                 3.0  True  \n",
       "T59V21001231                                 5.0  True  \n",
       "T59V21001419                                 0.0  True  "
      ]
     },
     "execution_count": 119,
     "metadata": {},
     "output_type": "execute_result"
    }
   ],
   "source": [
    "df_rempli=df_merge[df_merge.nombre_jours_teletravail_semaine_x!=0.0]\n",
    "df_rempli[df_rempli[\"diff\"]]"
   ]
  },
  {
   "cell_type": "code",
   "execution_count": 120,
   "id": "9473ce38-dcab-4539-8565-b3de3c31b1fe",
   "metadata": {},
   "outputs": [
    {
     "data": {
      "text/html": [
       "<div>\n",
       "<style scoped>\n",
       "    .dataframe tbody tr th:only-of-type {\n",
       "        vertical-align: middle;\n",
       "    }\n",
       "\n",
       "    .dataframe tbody tr th {\n",
       "        vertical-align: top;\n",
       "    }\n",
       "\n",
       "    .dataframe thead th {\n",
       "        text-align: right;\n",
       "    }\n",
       "</style>\n",
       "<table border=\"1\" class=\"dataframe\">\n",
       "  <thead>\n",
       "    <tr style=\"text-align: right;\">\n",
       "      <th></th>\n",
       "      <th>num_dossier</th>\n",
       "      <th>nombre_jours_teletravail_semaine</th>\n",
       "    </tr>\n",
       "  </thead>\n",
       "  <tbody>\n",
       "    <tr>\n",
       "      <th>0</th>\n",
       "      <td>T01421004303</td>\n",
       "      <td>3</td>\n",
       "    </tr>\n",
       "  </tbody>\n",
       "</table>\n",
       "</div>"
      ],
      "text/plain": [
       "    num_dossier nombre_jours_teletravail_semaine\n",
       "0  T01421004303                                3"
      ]
     },
     "execution_count": 120,
     "metadata": {},
     "output_type": "execute_result"
    }
   ],
   "source": [
    "df3=pd.read_parquet(\"T01421004303.parquet\")\n",
    "df3"
   ]
  },
  {
   "cell_type": "code",
   "execution_count": 121,
   "id": "85299c38-0382-4950-823e-91fdfb89a74b",
   "metadata": {},
   "outputs": [],
   "source": [
    "text=\"\"\n",
    "pattern=\"\"\n",
    "REGEX=rf\".*{pattern}=(\\d+)\"\n",
    "numbers=re.findall(REGEX,text)\n",
    "if numbers:\n",
    "    reponse_nombre=numbers[0]"
   ]
  },
  {
   "cell_type": "code",
   "execution_count": null,
   "id": "a7abf600-bc4c-403d-a684-37784024fa98",
   "metadata": {},
   "outputs": [],
   "source": []
  }
 ],
 "metadata": {
  "kernelspec": {
   "display_name": "Python 3 (ipykernel)",
   "language": "python",
   "name": "python3"
  },
  "language_info": {
   "codemirror_mode": {
    "name": "ipython",
    "version": 3
   },
   "file_extension": ".py",
   "mimetype": "text/x-python",
   "name": "python",
   "nbconvert_exporter": "python",
   "pygments_lexer": "ipython3",
   "version": "3.10.13"
  }
 },
 "nbformat": 4,
 "nbformat_minor": 5
}
